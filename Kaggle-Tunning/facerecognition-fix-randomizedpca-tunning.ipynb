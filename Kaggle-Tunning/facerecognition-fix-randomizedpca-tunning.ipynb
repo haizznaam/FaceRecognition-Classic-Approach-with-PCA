{
 "cells": [
  {
   "cell_type": "code",
   "execution_count": 1,
   "id": "bddaceef",
   "metadata": {
    "_cell_guid": "b1076dfc-b9ad-4769-8c92-a6c4dae69d19",
    "_uuid": "8f2839f25d086af736a60e9eeb907d3b93b6e0e5",
    "execution": {
     "iopub.execute_input": "2024-02-24T02:01:53.680537Z",
     "iopub.status.busy": "2024-02-24T02:01:53.680242Z",
     "iopub.status.idle": "2024-02-24T02:01:55.353381Z",
     "shell.execute_reply": "2024-02-24T02:01:55.352668Z"
    },
    "papermill": {
     "duration": 1.686598,
     "end_time": "2024-02-24T02:01:55.355411",
     "exception": false,
     "start_time": "2024-02-24T02:01:53.668813",
     "status": "completed"
    },
    "tags": []
   },
   "outputs": [],
   "source": [
    "import os\n",
    "import numpy as np\n",
    "import pandas as pd\n",
    "from numpy.random import shuffle\n",
    "from sklearn.decomposition import PCA\n",
    "from sklearn.model_selection import train_test_split\n",
    "from sklearn.model_selection import StratifiedKFold, cross_val_score\n",
    "from sklearn.metrics import accuracy_score, precision_score, recall_score, f1_score, roc_auc_score\n",
    "from sklearn.linear_model import LogisticRegression"
   ]
  },
  {
   "cell_type": "code",
   "execution_count": 2,
   "id": "63ba23ac",
   "metadata": {
    "execution": {
     "iopub.execute_input": "2024-02-24T02:01:55.379905Z",
     "iopub.status.busy": "2024-02-24T02:01:55.379012Z",
     "iopub.status.idle": "2024-02-24T02:01:55.700228Z",
     "shell.execute_reply": "2024-02-24T02:01:55.699471Z"
    },
    "papermill": {
     "duration": 0.334201,
     "end_time": "2024-02-24T02:01:55.701936",
     "exception": false,
     "start_time": "2024-02-24T02:01:55.367735",
     "status": "completed"
    },
    "tags": []
   },
   "outputs": [
    {
     "data": {
      "image/png": "[encoded data removed]",
      "text/plain": [
       "<Figure size 640x480 with 1 Axes>"
      ]
     },
     "metadata": {},
     "output_type": "display_data"
    }
   ],
   "source": [
    "import cv2\n",
    "import matplotlib.pyplot as plt\n",
    "\n",
    "def read_pgm(file_path):\n",
    "    return cv2.imread(file_path, cv2.IMREAD_GRAYSCALE)\n",
    "\n",
    "def show_image(image_data):\n",
    "    plt.imshow(image_data, cmap='gray')\n",
    "    plt.axis('off')  # Hide axis labels\n",
    "    plt.show()\n",
    "\n",
    "file_path = f'/kaggle/input/att-images/ATT images/s1/1.pgm'\n",
    "image_data = read_pgm(file_path)\n",
    "show_image(image_data)"
   ]
  },
  {
   "cell_type": "code",
   "execution_count": 3,
   "id": "26c38cb3",
   "metadata": {
    "execution": {
     "iopub.execute_input": "2024-02-24T02:01:55.725826Z",
     "iopub.status.busy": "2024-02-24T02:01:55.725559Z",
     "iopub.status.idle": "2024-02-24T02:01:55.730824Z",
     "shell.execute_reply": "2024-02-24T02:01:55.730105Z"
    },
    "papermill": {
     "duration": 0.020067,
     "end_time": "2024-02-24T02:01:55.732403",
     "exception": false,
     "start_time": "2024-02-24T02:01:55.712336",
     "status": "completed"
    },
    "tags": []
   },
   "outputs": [
    {
     "data": {
      "text/plain": [
       "(112, 92)"
      ]
     },
     "execution_count": 3,
     "metadata": {},
     "output_type": "execute_result"
    }
   ],
   "source": [
    "image_data.shape"
   ]
  },
  {
   "cell_type": "code",
   "execution_count": 4,
   "id": "caff514f",
   "metadata": {
    "execution": {
     "iopub.execute_input": "2024-02-24T02:01:55.755110Z",
     "iopub.status.busy": "2024-02-24T02:01:55.754863Z",
     "iopub.status.idle": "2024-02-24T02:01:55.761394Z",
     "shell.execute_reply": "2024-02-24T02:01:55.760679Z"
    },
    "papermill": {
     "duration": 0.019038,
     "end_time": "2024-02-24T02:01:55.762997",
     "exception": false,
     "start_time": "2024-02-24T02:01:55.743959",
     "status": "completed"
    },
    "tags": []
   },
   "outputs": [],
   "source": [
    "def get_data(path_data='/kaggle/input/att-images/ATT images', test_size=0.2, is_shuffle=True):\n",
    "    folders = [f's{i+1}' for i in range(40)]\n",
    "    X, y = [], []\n",
    "\n",
    "    for i in range(1, 41):\n",
    "        path = path_data + f'/s{i}'\n",
    "        files = os.listdir(path)\n",
    "        num_files = len(files)\n",
    "\n",
    "        if is_shuffle:\n",
    "            files = shuffle(files)\n",
    "\n",
    "        for file in os.listdir(path):\n",
    "            path = path_data + f'/s{i}/' + file\n",
    "            image = cv2.imread(path, cv2.IMREAD_GRAYSCALE)\n",
    "            pixels = np.reshape(image, [1, image.shape[0] * image.shape[1]])\n",
    "            pixels = np.asarray(pixels)\n",
    "\n",
    "            if len(X) == 0:\n",
    "                X = pixels\n",
    "            else:\n",
    "                X = np.vstack([X, pixels])\n",
    "            y.append(f's{i}')\n",
    "\n",
    "    return X, np.asarray(y)"
   ]
  },
  {
   "cell_type": "code",
   "execution_count": 5,
   "id": "8675f759",
   "metadata": {
    "execution": {
     "iopub.execute_input": "2024-02-24T02:01:55.784954Z",
     "iopub.status.busy": "2024-02-24T02:01:55.784496Z",
     "iopub.status.idle": "2024-02-24T02:01:59.270429Z",
     "shell.execute_reply": "2024-02-24T02:01:59.269631Z"
    },
    "papermill": {
     "duration": 3.499044,
     "end_time": "2024-02-24T02:01:59.272237",
     "exception": false,
     "start_time": "2024-02-24T02:01:55.773193",
     "status": "completed"
    },
    "tags": []
   },
   "outputs": [],
   "source": [
    "X, y = get_data()\n",
    "X_train, X_test, y_train, y_test = train_test_split(X, y, test_size=0.2, random_state=42)"
   ]
  },
  {
   "cell_type": "code",
   "execution_count": 6,
   "id": "ad182b9e",
   "metadata": {
    "execution": {
     "iopub.execute_input": "2024-02-24T02:01:59.294136Z",
     "iopub.status.busy": "2024-02-24T02:01:59.293874Z",
     "iopub.status.idle": "2024-02-24T02:01:59.691584Z",
     "shell.execute_reply": "2024-02-24T02:01:59.690832Z"
    },
    "papermill": {
     "duration": 0.410893,
     "end_time": "2024-02-24T02:01:59.693760",
     "exception": false,
     "start_time": "2024-02-24T02:01:59.282867",
     "status": "completed"
    },
    "tags": []
   },
   "outputs": [],
   "source": [
    "n_components_pca = 50\n",
    "pca = PCA(n_components=n_components_pca,random_state=42 ,svd_solver='randomized')\n",
    "X_train_reduced = pca.fit_transform(X_train)\n",
    "X_test_reduced = pca.transform(X_test)"
   ]
  },
  {
   "cell_type": "code",
   "execution_count": 7,
   "id": "5e69dff3",
   "metadata": {
    "execution": {
     "iopub.execute_input": "2024-02-24T02:01:59.740758Z",
     "iopub.status.busy": "2024-02-24T02:01:59.740103Z",
     "iopub.status.idle": "2024-02-24T02:01:59.743777Z",
     "shell.execute_reply": "2024-02-24T02:01:59.743034Z"
    },
    "papermill": {
     "duration": 0.037655,
     "end_time": "2024-02-24T02:01:59.745542",
     "exception": false,
     "start_time": "2024-02-24T02:01:59.707887",
     "status": "completed"
    },
    "tags": []
   },
   "outputs": [],
   "source": [
    "predictions = {}"
   ]
  },
  {
   "cell_type": "markdown",
   "id": "feaccb7b",
   "metadata": {
    "papermill": {
     "duration": 0.013035,
     "end_time": "2024-02-24T02:01:59.803754",
     "exception": false,
     "start_time": "2024-02-24T02:01:59.790719",
     "status": "completed"
    },
    "tags": []
   },
   "source": [
    "# Euclidean"
   ]
  },
  {
   "cell_type": "code",
   "execution_count": 8,
   "id": "75b6ecca",
   "metadata": {
    "execution": {
     "iopub.execute_input": "2024-02-24T02:01:59.826011Z",
     "iopub.status.busy": "2024-02-24T02:01:59.825730Z",
     "iopub.status.idle": "2024-02-24T02:01:59.833098Z",
     "shell.execute_reply": "2024-02-24T02:01:59.832402Z"
    },
    "papermill": {
     "duration": 0.020008,
     "end_time": "2024-02-24T02:01:59.834591",
     "exception": false,
     "start_time": "2024-02-24T02:01:59.814583",
     "status": "completed"
    },
    "tags": []
   },
   "outputs": [],
   "source": [
    "y_pred = []\n",
    "for i in range(80):\n",
    "    min_ = np.argmin(np.sqrt(np.sum((X_train_reduced - X_test_reduced[i])**2,axis=1)))\n",
    "    y_pred.append(y_train[min_])"
   ]
  },
  {
   "cell_type": "code",
   "execution_count": 9,
   "id": "1e4a7ee6",
   "metadata": {
    "execution": {
     "iopub.execute_input": "2024-02-24T02:01:59.855971Z",
     "iopub.status.busy": "2024-02-24T02:01:59.855694Z",
     "iopub.status.idle": "2024-02-24T02:01:59.858944Z",
     "shell.execute_reply": "2024-02-24T02:01:59.858235Z"
    },
    "papermill": {
     "duration": 0.015617,
     "end_time": "2024-02-24T02:01:59.860347",
     "exception": false,
     "start_time": "2024-02-24T02:01:59.844730",
     "status": "completed"
    },
    "tags": []
   },
   "outputs": [],
   "source": [
    "predictions['euclidean'] = y_pred"
   ]
  },
  {
   "cell_type": "code",
   "execution_count": 10,
   "id": "16f7223a",
   "metadata": {
    "execution": {
     "iopub.execute_input": "2024-02-24T02:01:59.883725Z",
     "iopub.status.busy": "2024-02-24T02:01:59.883488Z",
     "iopub.status.idle": "2024-02-24T02:01:59.887043Z",
     "shell.execute_reply": "2024-02-24T02:01:59.886324Z"
    },
    "papermill": {
     "duration": 0.018082,
     "end_time": "2024-02-24T02:01:59.888475",
     "exception": false,
     "start_time": "2024-02-24T02:01:59.870393",
     "status": "completed"
    },
    "tags": []
   },
   "outputs": [],
   "source": [
    "from sklearn.model_selection import KFold\n",
    "n_splits = 5\n",
    "kf = KFold(n_splits=n_splits, shuffle=True, random_state=42)"
   ]
  },
  {
   "cell_type": "markdown",
   "id": "ef6b5182",
   "metadata": {
    "papermill": {
     "duration": 0.009934,
     "end_time": "2024-02-24T02:01:59.908791",
     "exception": false,
     "start_time": "2024-02-24T02:01:59.898857",
     "status": "completed"
    },
    "tags": []
   },
   "source": [
    "****"
   ]
  },
  {
   "cell_type": "markdown",
   "id": "0115608c",
   "metadata": {
    "papermill": {
     "duration": 0.009921,
     "end_time": "2024-02-24T02:01:59.928693",
     "exception": false,
     "start_time": "2024-02-24T02:01:59.918772",
     "status": "completed"
    },
    "tags": []
   },
   "source": [
    "**Chọn trường hợp accuracy của logistic model khác 1**"
   ]
  },
  {
   "cell_type": "code",
   "execution_count": 11,
   "id": "c70d8c2d",
   "metadata": {
    "execution": {
     "iopub.execute_input": "2024-02-24T02:01:59.950346Z",
     "iopub.status.busy": "2024-02-24T02:01:59.949885Z",
     "iopub.status.idle": "2024-02-24T02:02:00.050096Z",
     "shell.execute_reply": "2024-02-24T02:02:00.049392Z"
    },
    "papermill": {
     "duration": 0.113963,
     "end_time": "2024-02-24T02:02:00.052729",
     "exception": false,
     "start_time": "2024-02-24T02:01:59.938766",
     "status": "completed"
    },
    "tags": []
   },
   "outputs": [
    {
     "name": "stdout",
     "output_type": "stream",
     "text": [
      "accuracy: 1.0\n",
      "recall: 1.0\n",
      "precision: 1.0\n",
      "f1-score: 1.0\n"
     ]
    },
    {
     "name": "stderr",
     "output_type": "stream",
     "text": [
      "/opt/conda/lib/python3.10/site-packages/sklearn/linear_model/_logistic.py:458: ConvergenceWarning: lbfgs failed to converge (status=1):\n",
      "STOP: TOTAL NO. of ITERATIONS REACHED LIMIT.\n",
      "\n",
      "Increase the number of iterations (max_iter) or scale the data as shown in:\n",
      "    https://scikit-learn.org/stable/modules/preprocessing.html\n",
      "Please also refer to the documentation for alternative solver options:\n",
      "    https://scikit-learn.org/stable/modules/linear_model.html#logistic-regression\n",
      "  n_iter_i = _check_optimize_result(\n"
     ]
    }
   ],
   "source": [
    "lr = LogisticRegression()\n",
    "lr.fit(X_train_reduced, y_train)\n",
    "y_pred = lr.predict(X_test_reduced)\n",
    "\n",
    "accuracy = accuracy_score(y_test, y_pred)\n",
    "precision = precision_score(y_test, y_pred, average='macro')\n",
    "recall = recall_score(y_test, y_pred, average='macro')\n",
    "f1 = f1_score(y_test, y_pred, average='macro')\n",
    "\n",
    "# # One-hot encoding for probability calculation (adapt if necessary)\n",
    "# y_test_onehot = pd.get_dummies(y_test, prefix='label_')  # Assuming 'label_' prefix for clarity\n",
    "# y_pred_onehot = pd.get_dummies(y_pred, prefix='label_')\n",
    "\n",
    "# # ROC AUC score with multiclass handling\n",
    "# roc_auc_macro = roc_auc_score(y_test_onehot, y_pred_onehot, average='macro', multi_class='ovo')  \n",
    "\n",
    "print(\"accuracy:\", accuracy)\n",
    "print(\"recall:\", recall)\n",
    "print(\"precision:\", precision)\n",
    "print(\"f1-score:\", f1)\n",
    "# print('roc_auc: ', roc_auc_macro)"
   ]
  },
  {
   "cell_type": "markdown",
   "id": "bbca0f00",
   "metadata": {
    "papermill": {
     "duration": 0.013058,
     "end_time": "2024-02-24T02:02:00.079390",
     "exception": false,
     "start_time": "2024-02-24T02:02:00.066332",
     "status": "completed"
    },
    "tags": []
   },
   "source": [
    "# Random Forest"
   ]
  },
  {
   "cell_type": "code",
   "execution_count": 12,
   "id": "801d88ba",
   "metadata": {
    "execution": {
     "iopub.execute_input": "2024-02-24T02:02:00.107402Z",
     "iopub.status.busy": "2024-02-24T02:02:00.106668Z",
     "iopub.status.idle": "2024-02-24T02:02:00.110157Z",
     "shell.execute_reply": "2024-02-24T02:02:00.109574Z"
    },
    "papermill": {
     "duration": 0.019312,
     "end_time": "2024-02-24T02:02:00.111855",
     "exception": false,
     "start_time": "2024-02-24T02:02:00.092543",
     "status": "completed"
    },
    "tags": []
   },
   "outputs": [],
   "source": [
    "prediction_results = {}"
   ]
  },
  {
   "cell_type": "code",
   "execution_count": 13,
   "id": "27499768",
   "metadata": {
    "execution": {
     "iopub.execute_input": "2024-02-24T02:02:00.139694Z",
     "iopub.status.busy": "2024-02-24T02:02:00.139408Z",
     "iopub.status.idle": "2024-02-24T02:02:00.235501Z",
     "shell.execute_reply": "2024-02-24T02:02:00.234823Z"
    },
    "papermill": {
     "duration": 0.112303,
     "end_time": "2024-02-24T02:02:00.237407",
     "exception": false,
     "start_time": "2024-02-24T02:02:00.125104",
     "status": "completed"
    },
    "tags": []
   },
   "outputs": [],
   "source": [
    "from sklearn.ensemble import RandomForestClassifier\n",
    "from sklearn.metrics import accuracy_score"
   ]
  },
  {
   "cell_type": "markdown",
   "id": "6cfe0b31",
   "metadata": {
    "papermill": {
     "duration": 0.010146,
     "end_time": "2024-02-24T02:02:00.258353",
     "exception": false,
     "start_time": "2024-02-24T02:02:00.248207",
     "status": "completed"
    },
    "tags": []
   },
   "source": [
    "**Normal**"
   ]
  },
  {
   "cell_type": "code",
   "execution_count": 14,
   "id": "f704278e",
   "metadata": {
    "execution": {
     "iopub.execute_input": "2024-02-24T02:02:00.280178Z",
     "iopub.status.busy": "2024-02-24T02:02:00.279912Z",
     "iopub.status.idle": "2024-02-24T02:02:00.584737Z",
     "shell.execute_reply": "2024-02-24T02:02:00.583081Z"
    },
    "papermill": {
     "duration": 0.317654,
     "end_time": "2024-02-24T02:02:00.586300",
     "exception": false,
     "start_time": "2024-02-24T02:02:00.268646",
     "status": "completed"
    },
    "tags": []
   },
   "outputs": [
    {
     "name": "stdout",
     "output_type": "stream",
     "text": [
      "accuracy: 0.9625\n",
      "recall: 0.9513888888888888\n",
      "precision: 0.9398148148148147\n",
      "f1-score: 0.9386243386243385\n"
     ]
    },
    {
     "name": "stderr",
     "output_type": "stream",
     "text": [
      "/opt/conda/lib/python3.10/site-packages/sklearn/metrics/_classification.py:1344: UndefinedMetricWarning: Precision is ill-defined and being set to 0.0 in labels with no predicted samples. Use `zero_division` parameter to control this behavior.\n",
      "  _warn_prf(average, modifier, msg_start, len(result))\n"
     ]
    }
   ],
   "source": [
    "rfr = RandomForestClassifier()\n",
    "rfr.fit(X_train_reduced,y_train)\n",
    "y_pred = rfr.predict(X_test_reduced)\n",
    "\n",
    "accuracy = accuracy_score(y_test, y_pred)\n",
    "precision = precision_score(y_test, y_pred, average='macro')\n",
    "recall = recall_score(y_test, y_pred, average='macro')\n",
    "f1 = f1_score(y_test, y_pred, average='macro')\n",
    "\n",
    "# # One-hot encoding for probability calculation (adapt if necessary)\n",
    "# y_test_onehot = pd.get_dummies(y_test, prefix='label_')  # Assuming 'label_' prefix for clarity\n",
    "# y_pred_onehot = pd.get_dummies(y_pred, prefix='label_')\n",
    "\n",
    "# # ROC AUC score with multiclass handling\n",
    "# roc_auc_macro = roc_auc_score(y_test_onehot, y_pred_onehot, average='macro', multi_class='ovo')  # Specify 'ovo' or 'ovr'\n",
    "\n",
    "print(\"accuracy:\", accuracy)\n",
    "print(\"recall:\", recall)\n",
    "print(\"precision:\", precision)\n",
    "print(\"f1-score:\", f1)\n",
    "# print('roc_auc: ', roc_auc_macro)"
   ]
  },
  {
   "cell_type": "markdown",
   "id": "29afeb48",
   "metadata": {
    "papermill": {
     "duration": 0.010248,
     "end_time": "2024-02-24T02:02:00.607486",
     "exception": false,
     "start_time": "2024-02-24T02:02:00.597238",
     "status": "completed"
    },
    "tags": []
   },
   "source": [
    "**Tunning**"
   ]
  },
  {
   "cell_type": "code",
   "execution_count": 15,
   "id": "73bfe332",
   "metadata": {
    "execution": {
     "iopub.execute_input": "2024-02-24T02:02:00.629141Z",
     "iopub.status.busy": "2024-02-24T02:02:00.628880Z",
     "iopub.status.idle": "2024-02-24T02:02:01.593464Z",
     "shell.execute_reply": "2024-02-24T02:02:01.592645Z"
    },
    "papermill": {
     "duration": 0.977542,
     "end_time": "2024-02-24T02:02:01.595254",
     "exception": false,
     "start_time": "2024-02-24T02:02:00.617712",
     "status": "completed"
    },
    "tags": []
   },
   "outputs": [],
   "source": [
    "import optuna\n",
    "\n",
    "\n",
    "def objective(trial):\n",
    "    hyperparams = {\n",
    "        'n_estimators': trial.suggest_int('n_estimators', 100, 1000),\n",
    "        'max_depth': trial.suggest_int('max_depth', 10, 50),\n",
    "        'min_samples_split': trial.suggest_int('min_samples_split', 2, 32),\n",
    "        'random_state': trial.suggest_categorical('random_state', [42]),\n",
    "        'min_samples_leaf': trial.suggest_int('min_samples_leaf', 1, 32),\n",
    "        'n_jobs': -1\n",
    "    }\n",
    "\n",
    "    model = RandomForestClassifier(**hyperparams)\n",
    "    scores = cross_val_score(model, X_train_reduced,\n",
    "                             y_train, cv=kf, scoring='accuracy')\n",
    "    return np.mean(scores)"
   ]
  },
  {
   "cell_type": "code",
   "execution_count": 16,
   "id": "1ce074ec",
   "metadata": {
    "execution": {
     "iopub.execute_input": "2024-02-24T02:02:01.648952Z",
     "iopub.status.busy": "2024-02-24T02:02:01.648658Z",
     "iopub.status.idle": "2024-02-24T02:07:45.038794Z",
     "shell.execute_reply": "2024-02-24T02:07:45.037951Z"
    },
    "papermill": {
     "duration": 343.434501,
     "end_time": "2024-02-24T02:07:45.040499",
     "exception": false,
     "start_time": "2024-02-24T02:02:01.605998",
     "status": "completed"
    },
    "tags": []
   },
   "outputs": [
    {
     "name": "stderr",
     "output_type": "stream",
     "text": [
      "[I 2024-02-24 02:02:01,650] A new study created in memory with name: no-name-5ece4f79-977b-42b7-aac4-89555c6a2e4b\n",
      "[I 2024-02-24 02:02:07,341] Trial 0 finished with value: 0.721875 and parameters: {'n_estimators': 573, 'max_depth': 14, 'min_samples_split': 9, 'random_state': 42, 'min_samples_leaf': 11}. Best is trial 0 with value: 0.721875.\n",
      "[I 2024-02-24 02:02:11,759] Trial 1 finished with value: 0.696875 and parameters: {'n_estimators': 460, 'max_depth': 30, 'min_samples_split': 24, 'random_state': 42, 'min_samples_leaf': 14}. Best is trial 0 with value: 0.721875.\n",
      "[I 2024-02-24 02:02:14,716] Trial 2 finished with value: 0.71875 and parameters: {'n_estimators': 303, 'max_depth': 12, 'min_samples_split': 26, 'random_state': 42, 'min_samples_leaf': 13}. Best is trial 0 with value: 0.721875.\n",
      "[I 2024-02-24 02:02:20,864] Trial 3 finished with value: 0.796875 and parameters: {'n_estimators': 586, 'max_depth': 41, 'min_samples_split': 8, 'random_state': 42, 'min_samples_leaf': 6}. Best is trial 3 with value: 0.796875.\n",
      "[I 2024-02-24 02:02:24,040] Trial 4 finished with value: 0.6 and parameters: {'n_estimators': 355, 'max_depth': 42, 'min_samples_split': 3, 'random_state': 42, 'min_samples_leaf': 22}. Best is trial 3 with value: 0.796875.\n",
      "[I 2024-02-24 02:02:32,774] Trial 5 finished with value: 0.55625 and parameters: {'n_estimators': 981, 'max_depth': 44, 'min_samples_split': 10, 'random_state': 42, 'min_samples_leaf': 25}. Best is trial 3 with value: 0.796875.\n",
      "[I 2024-02-24 02:02:41,564] Trial 6 finished with value: 0.71875 and parameters: {'n_estimators': 914, 'max_depth': 20, 'min_samples_split': 26, 'random_state': 42, 'min_samples_leaf': 11}. Best is trial 3 with value: 0.796875.\n",
      "[I 2024-02-24 02:02:46,132] Trial 7 finished with value: 0.49375 and parameters: {'n_estimators': 509, 'max_depth': 30, 'min_samples_split': 18, 'random_state': 42, 'min_samples_leaf': 32}. Best is trial 3 with value: 0.796875.\n",
      "[I 2024-02-24 02:02:51,845] Trial 8 finished with value: 0.75 and parameters: {'n_estimators': 572, 'max_depth': 30, 'min_samples_split': 19, 'random_state': 42, 'min_samples_leaf': 9}. Best is trial 3 with value: 0.796875.\n",
      "[I 2024-02-24 02:03:00,072] Trial 9 finished with value: 0.5875 and parameters: {'n_estimators': 932, 'max_depth': 11, 'min_samples_split': 26, 'random_state': 42, 'min_samples_leaf': 24}. Best is trial 3 with value: 0.796875.\n",
      "[I 2024-02-24 02:03:01,290] Trial 10 finished with value: 0.81875 and parameters: {'n_estimators': 103, 'max_depth': 49, 'min_samples_split': 2, 'random_state': 42, 'min_samples_leaf': 3}. Best is trial 10 with value: 0.81875.\n",
      "[I 2024-02-24 02:03:03,074] Trial 11 finished with value: 0.8625 and parameters: {'n_estimators': 153, 'max_depth': 50, 'min_samples_split': 2, 'random_state': 42, 'min_samples_leaf': 2}. Best is trial 11 with value: 0.8625.\n",
      "[I 2024-02-24 02:03:04,489] Trial 12 finished with value: 0.86875 and parameters: {'n_estimators': 121, 'max_depth': 50, 'min_samples_split': 2, 'random_state': 42, 'min_samples_leaf': 2}. Best is trial 12 with value: 0.86875.\n",
      "[I 2024-02-24 02:03:05,794] Trial 13 finished with value: 0.83125 and parameters: {'n_estimators': 111, 'max_depth': 50, 'min_samples_split': 6, 'random_state': 42, 'min_samples_leaf': 1}. Best is trial 12 with value: 0.86875.\n",
      "[I 2024-02-24 02:03:08,388] Trial 14 finished with value: 0.778125 and parameters: {'n_estimators': 243, 'max_depth': 37, 'min_samples_split': 12, 'random_state': 42, 'min_samples_leaf': 5}. Best is trial 12 with value: 0.86875.\n",
      "[I 2024-02-24 02:03:15,044] Trial 15 finished with value: 0.6625 and parameters: {'n_estimators': 733, 'max_depth': 36, 'min_samples_split': 32, 'random_state': 42, 'min_samples_leaf': 18}. Best is trial 12 with value: 0.86875.\n",
      "[I 2024-02-24 02:03:17,249] Trial 16 finished with value: 0.771875 and parameters: {'n_estimators': 218, 'max_depth': 47, 'min_samples_split': 5, 'random_state': 42, 'min_samples_leaf': 7}. Best is trial 12 with value: 0.86875.\n",
      "[I 2024-02-24 02:03:21,634] Trial 17 finished with value: 0.803125 and parameters: {'n_estimators': 401, 'max_depth': 37, 'min_samples_split': 12, 'random_state': 42, 'min_samples_leaf': 2}. Best is trial 12 with value: 0.86875.\n",
      "[I 2024-02-24 02:03:23,454] Trial 18 finished with value: 0.671875 and parameters: {'n_estimators': 185, 'max_depth': 24, 'min_samples_split': 15, 'random_state': 42, 'min_samples_leaf': 17}. Best is trial 12 with value: 0.86875.\n",
      "[I 2024-02-24 02:03:26,979] Trial 19 finished with value: 0.88125 and parameters: {'n_estimators': 302, 'max_depth': 45, 'min_samples_split': 2, 'random_state': 42, 'min_samples_leaf': 1}. Best is trial 19 with value: 0.88125.\n",
      "[I 2024-02-24 02:03:29,980] Trial 20 finished with value: 0.775 and parameters: {'n_estimators': 290, 'max_depth': 44, 'min_samples_split': 6, 'random_state': 42, 'min_samples_leaf': 7}. Best is trial 19 with value: 0.88125.\n",
      "[I 2024-02-24 02:03:31,823] Trial 21 finished with value: 0.825 and parameters: {'n_estimators': 163, 'max_depth': 47, 'min_samples_split': 2, 'random_state': 42, 'min_samples_leaf': 4}. Best is trial 19 with value: 0.88125.\n",
      "[I 2024-02-24 02:03:35,134] Trial 22 finished with value: 0.865625 and parameters: {'n_estimators': 286, 'max_depth': 50, 'min_samples_split': 5, 'random_state': 42, 'min_samples_leaf': 1}. Best is trial 19 with value: 0.88125.\n",
      "[I 2024-02-24 02:03:39,575] Trial 23 finished with value: 0.875 and parameters: {'n_estimators': 390, 'max_depth': 41, 'min_samples_split': 5, 'random_state': 42, 'min_samples_leaf': 1}. Best is trial 19 with value: 0.88125.\n",
      "[I 2024-02-24 02:03:43,594] Trial 24 finished with value: 0.753125 and parameters: {'n_estimators': 410, 'max_depth': 40, 'min_samples_split': 8, 'random_state': 42, 'min_samples_leaf': 9}. Best is trial 19 with value: 0.88125.\n",
      "[I 2024-02-24 02:03:47,290] Trial 25 finished with value: 0.840625 and parameters: {'n_estimators': 350, 'max_depth': 45, 'min_samples_split': 4, 'random_state': 42, 'min_samples_leaf': 4}. Best is trial 19 with value: 0.88125.\n",
      "[I 2024-02-24 02:03:52,090] Trial 26 finished with value: 0.765625 and parameters: {'n_estimators': 472, 'max_depth': 35, 'min_samples_split': 13, 'random_state': 42, 'min_samples_leaf': 8}. Best is trial 19 with value: 0.88125.\n",
      "[I 2024-02-24 02:03:54,649] Trial 27 finished with value: 0.790625 and parameters: {'n_estimators': 242, 'max_depth': 41, 'min_samples_split': 7, 'random_state': 42, 'min_samples_leaf': 5}. Best is trial 19 with value: 0.88125.\n",
      "[I 2024-02-24 02:03:58,817] Trial 28 finished with value: 0.8125 and parameters: {'n_estimators': 378, 'max_depth': 33, 'min_samples_split': 10, 'random_state': 42, 'min_samples_leaf': 1}. Best is trial 19 with value: 0.88125.\n",
      "[I 2024-02-24 02:04:04,754] Trial 29 finished with value: 0.71875 and parameters: {'n_estimators': 618, 'max_depth': 47, 'min_samples_split': 21, 'random_state': 42, 'min_samples_leaf': 13}. Best is trial 19 with value: 0.88125.\n",
      "[I 2024-02-24 02:04:10,460] Trial 30 finished with value: 0.496875 and parameters: {'n_estimators': 640, 'max_depth': 39, 'min_samples_split': 4, 'random_state': 42, 'min_samples_leaf': 32}. Best is trial 19 with value: 0.88125.\n",
      "[I 2024-02-24 02:04:13,888] Trial 31 finished with value: 0.86875 and parameters: {'n_estimators': 293, 'max_depth': 46, 'min_samples_split': 5, 'random_state': 42, 'min_samples_leaf': 1}. Best is trial 19 with value: 0.88125.\n",
      "[I 2024-02-24 02:04:18,701] Trial 32 finished with value: 0.828125 and parameters: {'n_estimators': 447, 'max_depth': 45, 'min_samples_split': 9, 'random_state': 42, 'min_samples_leaf': 3}. Best is trial 19 with value: 0.88125.\n",
      "[I 2024-02-24 02:04:21,624] Trial 33 finished with value: 0.728125 and parameters: {'n_estimators': 296, 'max_depth': 43, 'min_samples_split': 4, 'random_state': 42, 'min_samples_leaf': 11}. Best is trial 19 with value: 0.88125.\n",
      "[I 2024-02-24 02:04:25,308] Trial 34 finished with value: 0.796875 and parameters: {'n_estimators': 341, 'max_depth': 47, 'min_samples_split': 7, 'random_state': 42, 'min_samples_leaf': 5}. Best is trial 19 with value: 0.88125.\n",
      "[I 2024-02-24 02:04:30,866] Trial 35 finished with value: 0.8625 and parameters: {'n_estimators': 509, 'max_depth': 39, 'min_samples_split': 2, 'random_state': 42, 'min_samples_leaf': 3}. Best is trial 19 with value: 0.88125.\n",
      "[I 2024-02-24 02:04:33,401] Trial 36 finished with value: 0.86875 and parameters: {'n_estimators': 214, 'max_depth': 33, 'min_samples_split': 4, 'random_state': 42, 'min_samples_leaf': 1}. Best is trial 19 with value: 0.88125.\n",
      "[I 2024-02-24 02:04:36,626] Trial 37 finished with value: 0.671875 and parameters: {'n_estimators': 325, 'max_depth': 26, 'min_samples_split': 31, 'random_state': 42, 'min_samples_leaf': 6}. Best is trial 19 with value: 0.88125.\n",
      "[I 2024-02-24 02:04:39,117] Trial 38 finished with value: 0.625 and parameters: {'n_estimators': 266, 'max_depth': 14, 'min_samples_split': 10, 'random_state': 42, 'min_samples_leaf': 20}. Best is trial 19 with value: 0.88125.\n",
      "[I 2024-02-24 02:04:45,820] Trial 39 finished with value: 0.69375 and parameters: {'n_estimators': 707, 'max_depth': 42, 'min_samples_split': 8, 'random_state': 42, 'min_samples_leaf': 15}. Best is trial 19 with value: 0.88125.\n",
      "[I 2024-02-24 02:04:50,083] Trial 40 finished with value: 0.721875 and parameters: {'n_estimators': 438, 'max_depth': 46, 'min_samples_split': 6, 'random_state': 42, 'min_samples_leaf': 11}. Best is trial 19 with value: 0.88125.\n",
      "[I 2024-02-24 02:04:52,490] Trial 41 finished with value: 0.86875 and parameters: {'n_estimators': 205, 'max_depth': 30, 'min_samples_split': 4, 'random_state': 42, 'min_samples_leaf': 1}. Best is trial 19 with value: 0.88125.\n",
      "[I 2024-02-24 02:04:54,074] Trial 42 finished with value: 0.8125 and parameters: {'n_estimators': 129, 'max_depth': 34, 'min_samples_split': 3, 'random_state': 42, 'min_samples_leaf': 3}. Best is trial 19 with value: 0.88125.\n",
      "[I 2024-02-24 02:04:55,788] Trial 43 finished with value: 0.5125 and parameters: {'n_estimators': 188, 'max_depth': 43, 'min_samples_split': 3, 'random_state': 42, 'min_samples_leaf': 29}. Best is trial 19 with value: 0.88125.\n",
      "[I 2024-02-24 02:04:58,514] Trial 44 finished with value: 0.8625 and parameters: {'n_estimators': 235, 'max_depth': 48, 'min_samples_split': 5, 'random_state': 42, 'min_samples_leaf': 1}. Best is trial 19 with value: 0.88125.\n",
      "[I 2024-02-24 02:05:00,036] Trial 45 finished with value: 0.80625 and parameters: {'n_estimators': 136, 'max_depth': 32, 'min_samples_split': 2, 'random_state': 42, 'min_samples_leaf': 4}. Best is trial 19 with value: 0.88125.\n",
      "[I 2024-02-24 02:05:03,386] Trial 46 finished with value: 0.8 and parameters: {'n_estimators': 326, 'max_depth': 26, 'min_samples_split': 7, 'random_state': 42, 'min_samples_leaf': 6}. Best is trial 19 with value: 0.88125.\n",
      "[I 2024-02-24 02:05:05,378] Trial 47 finished with value: 0.85625 and parameters: {'n_estimators': 174, 'max_depth': 39, 'min_samples_split': 5, 'random_state': 42, 'min_samples_leaf': 2}. Best is trial 19 with value: 0.88125.\n",
      "[I 2024-02-24 02:05:09,095] Trial 48 finished with value: 0.75 and parameters: {'n_estimators': 378, 'max_depth': 49, 'min_samples_split': 9, 'random_state': 42, 'min_samples_leaf': 9}. Best is trial 19 with value: 0.88125.\n",
      "[I 2024-02-24 02:05:11,872] Trial 49 finished with value: 0.775 and parameters: {'n_estimators': 254, 'max_depth': 45, 'min_samples_split': 14, 'random_state': 42, 'min_samples_leaf': 3}. Best is trial 19 with value: 0.88125.\n",
      "[I 2024-02-24 02:05:14,280] Trial 50 finished with value: 0.75 and parameters: {'n_estimators': 215, 'max_depth': 17, 'min_samples_split': 17, 'random_state': 42, 'min_samples_leaf': 2}. Best is trial 19 with value: 0.88125.\n",
      "[I 2024-02-24 02:05:16,755] Trial 51 finished with value: 0.86875 and parameters: {'n_estimators': 212, 'max_depth': 27, 'min_samples_split': 4, 'random_state': 42, 'min_samples_leaf': 1}. Best is trial 19 with value: 0.88125.\n",
      "[I 2024-02-24 02:05:18,110] Trial 52 finished with value: 0.865625 and parameters: {'n_estimators': 113, 'max_depth': 22, 'min_samples_split': 3, 'random_state': 42, 'min_samples_leaf': 1}. Best is trial 19 with value: 0.88125.\n",
      "[I 2024-02-24 02:05:20,205] Trial 53 finished with value: 0.7875 and parameters: {'n_estimators': 197, 'max_depth': 29, 'min_samples_split': 3, 'random_state': 42, 'min_samples_leaf': 5}. Best is trial 19 with value: 0.88125.\n",
      "[I 2024-02-24 02:05:23,179] Trial 54 finished with value: 0.840625 and parameters: {'n_estimators': 269, 'max_depth': 31, 'min_samples_split': 6, 'random_state': 42, 'min_samples_leaf': 4}. Best is trial 19 with value: 0.88125.\n",
      "[I 2024-02-24 02:05:26,606] Trial 55 finished with value: 0.71875 and parameters: {'n_estimators': 313, 'max_depth': 37, 'min_samples_split': 21, 'random_state': 42, 'min_samples_leaf': 2}. Best is trial 19 with value: 0.88125.\n",
      "[I 2024-02-24 02:05:28,217] Trial 56 finished with value: 0.753125 and parameters: {'n_estimators': 151, 'max_depth': 28, 'min_samples_split': 2, 'random_state': 42, 'min_samples_leaf': 7}. Best is trial 19 with value: 0.88125.\n",
      "[I 2024-02-24 02:05:37,414] Trial 57 finished with value: 0.796875 and parameters: {'n_estimators': 855, 'max_depth': 49, 'min_samples_split': 11, 'random_state': 42, 'min_samples_leaf': 3}. Best is trial 19 with value: 0.88125.\n",
      "[I 2024-02-24 02:05:42,622] Trial 58 finished with value: 0.80625 and parameters: {'n_estimators': 508, 'max_depth': 42, 'min_samples_split': 5, 'random_state': 42, 'min_samples_leaf': 6}. Best is trial 19 with value: 0.88125.\n",
      "[I 2024-02-24 02:05:47,029] Trial 59 finished with value: 0.8375 and parameters: {'n_estimators': 389, 'max_depth': 44, 'min_samples_split': 8, 'random_state': 42, 'min_samples_leaf': 1}. Best is trial 19 with value: 0.88125.\n",
      "[I 2024-02-24 02:05:48,605] Trial 60 finished with value: 0.578125 and parameters: {'n_estimators': 169, 'max_depth': 48, 'min_samples_split': 4, 'random_state': 42, 'min_samples_leaf': 23}. Best is trial 19 with value: 0.88125.\n",
      "[I 2024-02-24 02:05:51,100] Trial 61 finished with value: 0.86875 and parameters: {'n_estimators': 213, 'max_depth': 28, 'min_samples_split': 4, 'random_state': 42, 'min_samples_leaf': 1}. Best is trial 19 with value: 0.88125.\n",
      "[I 2024-02-24 02:05:53,680] Trial 62 finished with value: 0.853125 and parameters: {'n_estimators': 226, 'max_depth': 26, 'min_samples_split': 6, 'random_state': 42, 'min_samples_leaf': 2}. Best is trial 19 with value: 0.88125.\n",
      "[I 2024-02-24 02:05:56,896] Trial 63 finished with value: 0.8375 and parameters: {'n_estimators': 285, 'max_depth': 23, 'min_samples_split': 3, 'random_state': 42, 'min_samples_leaf': 4}. Best is trial 19 with value: 0.88125.\n",
      "[I 2024-02-24 02:05:58,166] Trial 64 finished with value: 0.8625 and parameters: {'n_estimators': 107, 'max_depth': 31, 'min_samples_split': 4, 'random_state': 42, 'min_samples_leaf': 2}. Best is trial 19 with value: 0.88125.\n",
      "[I 2024-02-24 02:05:59,922] Trial 65 finished with value: 0.521875 and parameters: {'n_estimators': 190, 'max_depth': 34, 'min_samples_split': 7, 'random_state': 42, 'min_samples_leaf': 26}. Best is trial 19 with value: 0.88125.\n",
      "[I 2024-02-24 02:06:02,899] Trial 66 finished with value: 0.88125 and parameters: {'n_estimators': 251, 'max_depth': 50, 'min_samples_split': 2, 'random_state': 42, 'min_samples_leaf': 1}. Best is trial 19 with value: 0.88125.\n",
      "[I 2024-02-24 02:06:06,623] Trial 67 finished with value: 0.8 and parameters: {'n_estimators': 349, 'max_depth': 50, 'min_samples_split': 2, 'random_state': 42, 'min_samples_leaf': 5}. Best is trial 19 with value: 0.88125.\n",
      "[I 2024-02-24 02:06:09,526] Trial 68 finished with value: 0.834375 and parameters: {'n_estimators': 267, 'max_depth': 46, 'min_samples_split': 5, 'random_state': 42, 'min_samples_leaf': 4}. Best is trial 19 with value: 0.88125.\n",
      "[I 2024-02-24 02:06:13,719] Trial 69 finished with value: 0.771875 and parameters: {'n_estimators': 415, 'max_depth': 48, 'min_samples_split': 2, 'random_state': 42, 'min_samples_leaf': 8}. Best is trial 19 with value: 0.88125.\n",
      "[I 2024-02-24 02:06:16,902] Trial 70 finished with value: 0.6875 and parameters: {'n_estimators': 301, 'max_depth': 46, 'min_samples_split': 28, 'random_state': 42, 'min_samples_leaf': 3}. Best is trial 19 with value: 0.88125.\n",
      "[I 2024-02-24 02:06:18,724] Trial 71 finished with value: 0.865625 and parameters: {'n_estimators': 151, 'max_depth': 25, 'min_samples_split': 3, 'random_state': 42, 'min_samples_leaf': 1}. Best is trial 19 with value: 0.88125.\n",
      "[I 2024-02-24 02:06:21,560] Trial 72 finished with value: 0.871875 and parameters: {'n_estimators': 239, 'max_depth': 28, 'min_samples_split': 4, 'random_state': 42, 'min_samples_leaf': 1}. Best is trial 19 with value: 0.88125.\n",
      "[I 2024-02-24 02:06:24,275] Trial 73 finished with value: 0.859375 and parameters: {'n_estimators': 236, 'max_depth': 50, 'min_samples_split': 6, 'random_state': 42, 'min_samples_leaf': 2}. Best is trial 19 with value: 0.88125.\n",
      "[I 2024-02-24 02:06:27,176] Trial 74 finished with value: 0.85 and parameters: {'n_estimators': 250, 'max_depth': 29, 'min_samples_split': 5, 'random_state': 42, 'min_samples_leaf': 3}. Best is trial 19 with value: 0.88125.\n",
      "[I 2024-02-24 02:06:30,350] Trial 75 finished with value: 0.865625 and parameters: {'n_estimators': 278, 'max_depth': 41, 'min_samples_split': 3, 'random_state': 42, 'min_samples_leaf': 2}. Best is trial 19 with value: 0.88125.\n",
      "[I 2024-02-24 02:06:34,227] Trial 76 finished with value: 0.84375 and parameters: {'n_estimators': 359, 'max_depth': 36, 'min_samples_split': 2, 'random_state': 42, 'min_samples_leaf': 4}. Best is trial 19 with value: 0.88125.\n",
      "[I 2024-02-24 02:06:37,956] Trial 77 finished with value: 0.85 and parameters: {'n_estimators': 331, 'max_depth': 48, 'min_samples_split': 7, 'random_state': 42, 'min_samples_leaf': 1}. Best is trial 19 with value: 0.88125.\n",
      "[I 2024-02-24 02:06:39,451] Trial 78 finished with value: 0.796875 and parameters: {'n_estimators': 128, 'max_depth': 43, 'min_samples_split': 8, 'random_state': 42, 'min_samples_leaf': 2}. Best is trial 19 with value: 0.88125.\n",
      "[I 2024-02-24 02:06:41,306] Trial 79 finished with value: 0.784375 and parameters: {'n_estimators': 165, 'max_depth': 32, 'min_samples_split': 4, 'random_state': 42, 'min_samples_leaf': 5}. Best is trial 19 with value: 0.88125.\n",
      "[I 2024-02-24 02:06:44,865] Trial 80 finished with value: 0.853125 and parameters: {'n_estimators': 307, 'max_depth': 20, 'min_samples_split': 6, 'random_state': 42, 'min_samples_leaf': 3}. Best is trial 19 with value: 0.88125.\n",
      "[I 2024-02-24 02:06:47,385] Trial 81 finished with value: 0.86875 and parameters: {'n_estimators': 202, 'max_depth': 29, 'min_samples_split': 4, 'random_state': 42, 'min_samples_leaf': 1}. Best is trial 19 with value: 0.88125.\n",
      "[I 2024-02-24 02:06:50,042] Trial 82 finished with value: 0.878125 and parameters: {'n_estimators': 226, 'max_depth': 28, 'min_samples_split': 3, 'random_state': 42, 'min_samples_leaf': 1}. Best is trial 19 with value: 0.88125.\n",
      "[I 2024-02-24 02:06:52,974] Trial 83 finished with value: 0.865625 and parameters: {'n_estimators': 249, 'max_depth': 30, 'min_samples_split': 3, 'random_state': 42, 'min_samples_leaf': 2}. Best is trial 19 with value: 0.88125.\n",
      "[I 2024-02-24 02:06:54,774] Trial 84 finished with value: 0.625 and parameters: {'n_estimators': 186, 'max_depth': 45, 'min_samples_split': 5, 'random_state': 42, 'min_samples_leaf': 20}. Best is trial 19 with value: 0.88125.\n",
      "[I 2024-02-24 02:06:58,943] Trial 85 finished with value: 0.859375 and parameters: {'n_estimators': 367, 'max_depth': 47, 'min_samples_split': 2, 'random_state': 42, 'min_samples_leaf': 3}. Best is trial 19 with value: 0.88125.\n",
      "[I 2024-02-24 02:07:01,685] Trial 86 finished with value: 0.878125 and parameters: {'n_estimators': 232, 'max_depth': 27, 'min_samples_split': 3, 'random_state': 42, 'min_samples_leaf': 1}. Best is trial 19 with value: 0.88125.\n",
      "[I 2024-02-24 02:07:04,945] Trial 87 finished with value: 0.884375 and parameters: {'n_estimators': 288, 'max_depth': 27, 'min_samples_split': 3, 'random_state': 42, 'min_samples_leaf': 1}. Best is trial 87 with value: 0.884375.\n",
      "[I 2024-02-24 02:07:07,761] Trial 88 finished with value: 0.715625 and parameters: {'n_estimators': 295, 'max_depth': 25, 'min_samples_split': 3, 'random_state': 42, 'min_samples_leaf': 13}. Best is trial 87 with value: 0.884375.\n",
      "[I 2024-02-24 02:07:11,173] Trial 89 finished with value: 0.8375 and parameters: {'n_estimators': 320, 'max_depth': 21, 'min_samples_split': 2, 'random_state': 42, 'min_samples_leaf': 4}. Best is trial 87 with value: 0.884375.\n",
      "[I 2024-02-24 02:07:14,205] Trial 90 finished with value: 0.88125 and parameters: {'n_estimators': 265, 'max_depth': 24, 'min_samples_split': 3, 'random_state': 42, 'min_samples_leaf': 1}. Best is trial 87 with value: 0.884375.\n",
      "[I 2024-02-24 02:07:17,210] Trial 91 finished with value: 0.88125 and parameters: {'n_estimators': 260, 'max_depth': 24, 'min_samples_split': 3, 'random_state': 42, 'min_samples_leaf': 1}. Best is trial 87 with value: 0.884375.\n",
      "[I 2024-02-24 02:07:20,132] Trial 92 finished with value: 0.86875 and parameters: {'n_estimators': 252, 'max_depth': 24, 'min_samples_split': 2, 'random_state': 42, 'min_samples_leaf': 2}. Best is trial 87 with value: 0.884375.\n",
      "[I 2024-02-24 02:07:22,877] Trial 93 finished with value: 0.88125 and parameters: {'n_estimators': 228, 'max_depth': 27, 'min_samples_split': 3, 'random_state': 42, 'min_samples_leaf': 1}. Best is trial 87 with value: 0.884375.\n",
      "[I 2024-02-24 02:07:25,896] Trial 94 finished with value: 0.85625 and parameters: {'n_estimators': 271, 'max_depth': 27, 'min_samples_split': 3, 'random_state': 42, 'min_samples_leaf': 3}. Best is trial 87 with value: 0.884375.\n",
      "[I 2024-02-24 02:07:28,814] Trial 95 finished with value: 0.878125 and parameters: {'n_estimators': 235, 'max_depth': 27, 'min_samples_split': 3, 'random_state': 42, 'min_samples_leaf': 1}. Best is trial 87 with value: 0.884375.\n",
      "[I 2024-02-24 02:07:31,495] Trial 96 finished with value: 0.865625 and parameters: {'n_estimators': 229, 'max_depth': 23, 'min_samples_split': 3, 'random_state': 42, 'min_samples_leaf': 2}. Best is trial 87 with value: 0.884375.\n",
      "[I 2024-02-24 02:07:34,673] Trial 97 finished with value: 0.865625 and parameters: {'n_estimators': 279, 'max_depth': 24, 'min_samples_split': 5, 'random_state': 42, 'min_samples_leaf': 1}. Best is trial 87 with value: 0.884375.\n",
      "[I 2024-02-24 02:07:38,239] Trial 98 finished with value: 0.796875 and parameters: {'n_estimators': 339, 'max_depth': 27, 'min_samples_split': 2, 'random_state': 42, 'min_samples_leaf': 5}. Best is trial 87 with value: 0.884375.\n",
      "[I 2024-02-24 02:07:44,209] Trial 99 finished with value: 0.86875 and parameters: {'n_estimators': 547, 'max_depth': 25, 'min_samples_split': 4, 'random_state': 42, 'min_samples_leaf': 3}. Best is trial 87 with value: 0.884375.\n"
     ]
    },
    {
     "name": "stdout",
     "output_type": "stream",
     "text": [
      "Best params found : {'n_estimators': 288, 'max_depth': 27, 'min_samples_split': 3, 'random_state': 42, 'min_samples_leaf': 1}\n"
     ]
    },
    {
     "data": {
      "text/plain": [
       "0.9875"
      ]
     },
     "execution_count": 16,
     "metadata": {},
     "output_type": "execute_result"
    }
   ],
   "source": [
    "study = optuna.create_study(direction = 'maximize')\n",
    "study.optimize(objective, n_trials = 100)\n",
    "best_params = study.best_params\n",
    "print(\"Best params found :\", best_params)\n",
    "\n",
    "final_model = RandomForestClassifier(**best_params)\n",
    "final_model.fit(X_train_reduced, y_train)\n",
    "y_pred = final_model.predict(X_test_reduced)\n",
    "accuracy_score(y_test, y_pred)"
   ]
  },
  {
   "cell_type": "code",
   "execution_count": 17,
   "id": "e5fef578",
   "metadata": {
    "execution": {
     "iopub.execute_input": "2024-02-24T02:07:45.074957Z",
     "iopub.status.busy": "2024-02-24T02:07:45.074454Z",
     "iopub.status.idle": "2024-02-24T02:07:45.909875Z",
     "shell.execute_reply": "2024-02-24T02:07:45.909035Z"
    },
    "papermill": {
     "duration": 0.854296,
     "end_time": "2024-02-24T02:07:45.911600",
     "exception": false,
     "start_time": "2024-02-24T02:07:45.057304",
     "status": "completed"
    },
    "tags": []
   },
   "outputs": [
    {
     "name": "stdout",
     "output_type": "stream",
     "text": [
      "accuracy: 0.9875\n",
      "recall: 0.9722222222222222\n",
      "precision: 0.9629629629629629\n",
      "f1-score: 0.9666666666666666\n"
     ]
    },
    {
     "name": "stderr",
     "output_type": "stream",
     "text": [
      "/opt/conda/lib/python3.10/site-packages/sklearn/metrics/_classification.py:1344: UndefinedMetricWarning: Precision is ill-defined and being set to 0.0 in labels with no predicted samples. Use `zero_division` parameter to control this behavior.\n",
      "  _warn_prf(average, modifier, msg_start, len(result))\n"
     ]
    }
   ],
   "source": [
    "final_model = RandomForestClassifier(**best_params)\n",
    "final_model.fit(X_train_reduced, y_train)\n",
    "y_pred = final_model.predict(X_test_reduced)\n",
    "prediction_results['random forest'] = y_pred \n",
    "\n",
    "accuracy = accuracy_score(y_test, y_pred)\n",
    "precision = precision_score(y_test, y_pred, average='macro')\n",
    "recall = recall_score(y_test, y_pred, average='macro')\n",
    "f1 = f1_score(y_test, y_pred, average='macro')\n",
    "\n",
    "# # One-hot encoding for probability calculation (adapt if necessary)\n",
    "# y_test_onehot = pd.get_dummies(y_test, prefix='label_')  # Assuming 'label_' prefix for clarity\n",
    "# y_pred_onehot = pd.get_dummies(y_pred, prefix='label_')\n",
    "\n",
    "# # ROC AUC score with multiclass handling\n",
    "# roc_auc_macro = roc_auc_score(y_test_onehot, y_pred_onehot, average='macro', multi_class='ovo')  # Specify 'ovo' or 'ovr'\n",
    "\n",
    "print(\"accuracy:\", accuracy)\n",
    "print(\"recall:\", recall)\n",
    "print(\"precision:\", precision)\n",
    "print(\"f1-score:\", f1)\n",
    "# print('roc_auc: ', roc_auc_macro)"
   ]
  },
  {
   "cell_type": "markdown",
   "id": "43e8ec4a",
   "metadata": {
    "papermill": {
     "duration": 0.016034,
     "end_time": "2024-02-24T02:07:45.944553",
     "exception": false,
     "start_time": "2024-02-24T02:07:45.928519",
     "status": "completed"
    },
    "tags": []
   },
   "source": [
    "****"
   ]
  },
  {
   "cell_type": "markdown",
   "id": "2ce0e34a",
   "metadata": {
    "papermill": {
     "duration": 0.016218,
     "end_time": "2024-02-24T02:07:45.976838",
     "exception": false,
     "start_time": "2024-02-24T02:07:45.960620",
     "status": "completed"
    },
    "tags": []
   },
   "source": [
    "# Gassian NB"
   ]
  },
  {
   "cell_type": "markdown",
   "id": "674ac816",
   "metadata": {
    "papermill": {
     "duration": 0.015958,
     "end_time": "2024-02-24T02:07:46.008831",
     "exception": false,
     "start_time": "2024-02-24T02:07:45.992873",
     "status": "completed"
    },
    "tags": []
   },
   "source": [
    "**Pre-tunning**"
   ]
  },
  {
   "cell_type": "code",
   "execution_count": 18,
   "id": "2a56bc42",
   "metadata": {
    "_kg_hide-output": true,
    "execution": {
     "iopub.execute_input": "2024-02-24T02:07:46.042639Z",
     "iopub.status.busy": "2024-02-24T02:07:46.042317Z",
     "iopub.status.idle": "2024-02-24T02:07:46.059009Z",
     "shell.execute_reply": "2024-02-24T02:07:46.058226Z"
    },
    "papermill": {
     "duration": 0.035816,
     "end_time": "2024-02-24T02:07:46.060986",
     "exception": false,
     "start_time": "2024-02-24T02:07:46.025170",
     "status": "completed"
    },
    "tags": []
   },
   "outputs": [
    {
     "name": "stdout",
     "output_type": "stream",
     "text": [
      "accuracy: 0.9625\n",
      "recall: 0.9444444444444444\n",
      "precision: 0.9375\n",
      "f1-score: 0.9358465608465608\n"
     ]
    },
    {
     "name": "stderr",
     "output_type": "stream",
     "text": [
      "/opt/conda/lib/python3.10/site-packages/sklearn/metrics/_classification.py:1344: UndefinedMetricWarning: Precision is ill-defined and being set to 0.0 in labels with no predicted samples. Use `zero_division` parameter to control this behavior.\n",
      "  _warn_prf(average, modifier, msg_start, len(result))\n"
     ]
    }
   ],
   "source": [
    "from sklearn.naive_bayes import GaussianNB\n",
    "gnb = GaussianNB()\n",
    "gnb.fit(X_train_reduced, y_train)\n",
    "\n",
    "y_pred = gnb.predict(X_test_reduced)\n",
    "\n",
    "accuracy = accuracy_score(y_test, y_pred)\n",
    "precision = precision_score(y_test, y_pred, average='macro')\n",
    "recall = recall_score(y_test, y_pred, average='macro')\n",
    "f1 = f1_score(y_test, y_pred, average='macro')\n",
    "\n",
    "# One-hot encoding for probability calculation (adapt if necessary)\n",
    "# y_test_onehot = pd.get_dummies(y_test, prefix='label_')  # Assuming 'label_' prefix for clarity\n",
    "# y_pred_onehot = pd.get_dummies(y_pred, prefix='label_')\n",
    "\n",
    "# # ROC AUC score with multiclass handling\n",
    "# roc_auc_macro = roc_auc_score(y_test_onehot, y_pred_onehot, average='macro', multi_class='ovr')  # Specify 'ovo' or 'ovr'\n",
    "\n",
    "print(\"accuracy:\", accuracy)\n",
    "print(\"recall:\", recall)\n",
    "print(\"precision:\", precision)\n",
    "print(\"f1-score:\", f1)\n",
    "# print('roc_auc: ', roc_auc_macro)\n"
   ]
  },
  {
   "cell_type": "markdown",
   "id": "706c1710",
   "metadata": {
    "papermill": {
     "duration": 0.015967,
     "end_time": "2024-02-24T02:07:46.093547",
     "exception": false,
     "start_time": "2024-02-24T02:07:46.077580",
     "status": "completed"
    },
    "tags": []
   },
   "source": [
    "**Tunning**"
   ]
  },
  {
   "cell_type": "code",
   "execution_count": 19,
   "id": "e046aaf0",
   "metadata": {
    "execution": {
     "iopub.execute_input": "2024-02-24T02:07:46.127418Z",
     "iopub.status.busy": "2024-02-24T02:07:46.127136Z",
     "iopub.status.idle": "2024-02-24T02:07:46.131239Z",
     "shell.execute_reply": "2024-02-24T02:07:46.130588Z"
    },
    "papermill": {
     "duration": 0.02276,
     "end_time": "2024-02-24T02:07:46.132729",
     "exception": false,
     "start_time": "2024-02-24T02:07:46.109969",
     "status": "completed"
    },
    "tags": []
   },
   "outputs": [],
   "source": [
    "def objective(trial):\n",
    "    hyperparams = {\n",
    "        'var_smoothing': trial.suggest_float('var_smoothing', 1e-9, 1e-4, log = True)\n",
    "    }\n",
    "    \n",
    "    model = GaussianNB(**hyperparams)\n",
    "    scores = cross_val_score(model, X_train_reduced, y_train, cv = kf,scoring = 'accuracy')\n",
    "    return np.mean(scores)"
   ]
  },
  {
   "cell_type": "code",
   "execution_count": 20,
   "id": "21c8e454",
   "metadata": {
    "execution": {
     "iopub.execute_input": "2024-02-24T02:07:46.166463Z",
     "iopub.status.busy": "2024-02-24T02:07:46.165940Z",
     "iopub.status.idle": "2024-02-24T02:07:48.909706Z",
     "shell.execute_reply": "2024-02-24T02:07:48.908928Z"
    },
    "papermill": {
     "duration": 2.762328,
     "end_time": "2024-02-24T02:07:48.911196",
     "exception": false,
     "start_time": "2024-02-24T02:07:46.148868",
     "status": "completed"
    },
    "tags": []
   },
   "outputs": [
    {
     "name": "stderr",
     "output_type": "stream",
     "text": [
      "[I 2024-02-24 02:07:46,169] A new study created in memory with name: no-name-dc50602a-5e4c-44f2-9820-b0d0a336eb5f\n",
      "[I 2024-02-24 02:07:46,194] Trial 0 finished with value: 0.75 and parameters: {'var_smoothing': 4.548589515576724e-06}. Best is trial 0 with value: 0.75.\n",
      "[I 2024-02-24 02:07:46,218] Trial 1 finished with value: 0.75 and parameters: {'var_smoothing': 1.2884488097346021e-09}. Best is trial 0 with value: 0.75.\n",
      "[I 2024-02-24 02:07:46,241] Trial 2 finished with value: 0.75 and parameters: {'var_smoothing': 2.066183850620797e-09}. Best is trial 0 with value: 0.75.\n",
      "[I 2024-02-24 02:07:46,265] Trial 3 finished with value: 0.75 and parameters: {'var_smoothing': 7.0748282048675225e-06}. Best is trial 0 with value: 0.75.\n",
      "[I 2024-02-24 02:07:46,289] Trial 4 finished with value: 0.75 and parameters: {'var_smoothing': 2.319109223642912e-07}. Best is trial 0 with value: 0.75.\n",
      "[I 2024-02-24 02:07:46,312] Trial 5 finished with value: 0.7625 and parameters: {'var_smoothing': 7.018237319671477e-05}. Best is trial 5 with value: 0.7625.\n",
      "[I 2024-02-24 02:07:46,335] Trial 6 finished with value: 0.75 and parameters: {'var_smoothing': 1.2000559247490665e-06}. Best is trial 5 with value: 0.7625.\n",
      "[I 2024-02-24 02:07:46,358] Trial 7 finished with value: 0.75 and parameters: {'var_smoothing': 1.1294931586129798e-08}. Best is trial 5 with value: 0.7625.\n",
      "[I 2024-02-24 02:07:46,382] Trial 8 finished with value: 0.75 and parameters: {'var_smoothing': 9.140833163860969e-06}. Best is trial 5 with value: 0.7625.\n",
      "[I 2024-02-24 02:07:46,405] Trial 9 finished with value: 0.75 and parameters: {'var_smoothing': 1.6879686276558305e-07}. Best is trial 5 with value: 0.7625.\n",
      "[I 2024-02-24 02:07:46,432] Trial 10 finished with value: 0.7625 and parameters: {'var_smoothing': 7.319141929327714e-05}. Best is trial 5 with value: 0.7625.\n",
      "[I 2024-02-24 02:07:46,460] Trial 11 finished with value: 0.7625 and parameters: {'var_smoothing': 7.144941210121379e-05}. Best is trial 5 with value: 0.7625.\n",
      "[I 2024-02-24 02:07:46,487] Trial 12 finished with value: 0.7625 and parameters: {'var_smoothing': 6.818122932817486e-05}. Best is trial 5 with value: 0.7625.\n",
      "[I 2024-02-24 02:07:46,514] Trial 13 finished with value: 0.75 and parameters: {'var_smoothing': 3.0515232894755627e-05}. Best is trial 5 with value: 0.7625.\n",
      "[I 2024-02-24 02:07:46,542] Trial 14 finished with value: 0.75 and parameters: {'var_smoothing': 1.7564958501865412e-06}. Best is trial 5 with value: 0.7625.\n",
      "[I 2024-02-24 02:07:46,569] Trial 15 finished with value: 0.75 and parameters: {'var_smoothing': 1.9648650709177197e-05}. Best is trial 5 with value: 0.7625.\n",
      "[I 2024-02-24 02:07:46,595] Trial 16 finished with value: 0.75 and parameters: {'var_smoothing': 2.5296384933260376e-08}. Best is trial 5 with value: 0.7625.\n",
      "[I 2024-02-24 02:07:46,622] Trial 17 finished with value: 0.75 and parameters: {'var_smoothing': 9.252716593524345e-07}. Best is trial 5 with value: 0.7625.\n",
      "[I 2024-02-24 02:07:46,649] Trial 18 finished with value: 0.7625 and parameters: {'var_smoothing': 8.25034480365478e-05}. Best is trial 5 with value: 0.7625.\n",
      "[I 2024-02-24 02:07:46,677] Trial 19 finished with value: 0.75 and parameters: {'var_smoothing': 1.8378885146539322e-05}. Best is trial 5 with value: 0.7625.\n",
      "[I 2024-02-24 02:07:46,706] Trial 20 finished with value: 0.75 and parameters: {'var_smoothing': 9.185341092576127e-08}. Best is trial 5 with value: 0.7625.\n",
      "[I 2024-02-24 02:07:46,733] Trial 21 finished with value: 0.7625 and parameters: {'var_smoothing': 7.040064734219485e-05}. Best is trial 5 with value: 0.7625.\n",
      "[I 2024-02-24 02:07:46,759] Trial 22 finished with value: 0.75 and parameters: {'var_smoothing': 3.1973003897699716e-05}. Best is trial 5 with value: 0.7625.\n",
      "[I 2024-02-24 02:07:46,787] Trial 23 finished with value: 0.75 and parameters: {'var_smoothing': 4.6773276373018015e-06}. Best is trial 5 with value: 0.7625.\n",
      "[I 2024-02-24 02:07:46,815] Trial 24 finished with value: 0.7625 and parameters: {'var_smoothing': 8.166030234554384e-05}. Best is trial 5 with value: 0.7625.\n",
      "[I 2024-02-24 02:07:46,843] Trial 25 finished with value: 0.75 and parameters: {'var_smoothing': 1.3079313950805042e-05}. Best is trial 5 with value: 0.7625.\n",
      "[I 2024-02-24 02:07:46,871] Trial 26 finished with value: 0.75 and parameters: {'var_smoothing': 3.087944828468013e-06}. Best is trial 5 with value: 0.7625.\n",
      "[I 2024-02-24 02:07:46,898] Trial 27 finished with value: 0.75 and parameters: {'var_smoothing': 2.1838138817800716e-05}. Best is trial 5 with value: 0.7625.\n",
      "[I 2024-02-24 02:07:46,926] Trial 28 finished with value: 0.75 and parameters: {'var_smoothing': 4.999742358549625e-07}. Best is trial 5 with value: 0.7625.\n",
      "[I 2024-02-24 02:07:46,954] Trial 29 finished with value: 0.75625 and parameters: {'var_smoothing': 4.543816136665337e-05}. Best is trial 5 with value: 0.7625.\n",
      "[I 2024-02-24 02:07:46,981] Trial 30 finished with value: 0.75 and parameters: {'var_smoothing': 2.82150415125571e-06}. Best is trial 5 with value: 0.7625.\n",
      "[I 2024-02-24 02:07:47,010] Trial 31 finished with value: 0.75 and parameters: {'var_smoothing': 4.362938162815837e-05}. Best is trial 5 with value: 0.7625.\n",
      "[I 2024-02-24 02:07:47,037] Trial 32 finished with value: 0.7625 and parameters: {'var_smoothing': 9.066534993434254e-05}. Best is trial 5 with value: 0.7625.\n",
      "[I 2024-02-24 02:07:47,065] Trial 33 finished with value: 0.75 and parameters: {'var_smoothing': 1.032659423679768e-05}. Best is trial 5 with value: 0.7625.\n",
      "[I 2024-02-24 02:07:47,093] Trial 34 finished with value: 0.75625 and parameters: {'var_smoothing': 4.4483966152975096e-05}. Best is trial 5 with value: 0.7625.\n",
      "[I 2024-02-24 02:07:47,122] Trial 35 finished with value: 0.75 and parameters: {'var_smoothing': 7.06223244611748e-06}. Best is trial 5 with value: 0.7625.\n",
      "[I 2024-02-24 02:07:47,150] Trial 36 finished with value: 0.7625 and parameters: {'var_smoothing': 9.067594856751967e-05}. Best is trial 5 with value: 0.7625.\n",
      "[I 2024-02-24 02:07:47,178] Trial 37 finished with value: 0.75 and parameters: {'var_smoothing': 1.656956993783396e-05}. Best is trial 5 with value: 0.7625.\n",
      "[I 2024-02-24 02:07:47,205] Trial 38 finished with value: 0.75 and parameters: {'var_smoothing': 5.226602509464241e-09}. Best is trial 5 with value: 0.7625.\n",
      "[I 2024-02-24 02:07:47,233] Trial 39 finished with value: 0.75 and parameters: {'var_smoothing': 5.815292978893415e-06}. Best is trial 5 with value: 0.7625.\n",
      "[I 2024-02-24 02:07:47,260] Trial 40 finished with value: 0.75625 and parameters: {'var_smoothing': 4.636749009748566e-05}. Best is trial 5 with value: 0.7625.\n",
      "[I 2024-02-24 02:07:47,288] Trial 41 finished with value: 0.759375 and parameters: {'var_smoothing': 5.987389893823999e-05}. Best is trial 5 with value: 0.7625.\n",
      "[I 2024-02-24 02:07:47,317] Trial 42 finished with value: 0.75 and parameters: {'var_smoothing': 2.5147070995607547e-05}. Best is trial 5 with value: 0.7625.\n",
      "[I 2024-02-24 02:07:47,346] Trial 43 finished with value: 0.7625 and parameters: {'var_smoothing': 8.732973845771397e-05}. Best is trial 5 with value: 0.7625.\n",
      "[I 2024-02-24 02:07:47,374] Trial 44 finished with value: 0.75 and parameters: {'var_smoothing': 3.1671047366114905e-05}. Best is trial 5 with value: 0.7625.\n",
      "[I 2024-02-24 02:07:47,402] Trial 45 finished with value: 0.75 and parameters: {'var_smoothing': 1.2680655052310472e-05}. Best is trial 5 with value: 0.7625.\n",
      "[I 2024-02-24 02:07:47,430] Trial 46 finished with value: 0.765625 and parameters: {'var_smoothing': 9.933226827304191e-05}. Best is trial 46 with value: 0.765625.\n",
      "[I 2024-02-24 02:07:47,458] Trial 47 finished with value: 0.75 and parameters: {'var_smoothing': 3.826043396107439e-05}. Best is trial 46 with value: 0.765625.\n",
      "[I 2024-02-24 02:07:47,485] Trial 48 finished with value: 0.75 and parameters: {'var_smoothing': 2.8590820069367402e-08}. Best is trial 46 with value: 0.765625.\n",
      "[I 2024-02-24 02:07:47,513] Trial 49 finished with value: 0.75 and parameters: {'var_smoothing': 2.3859763410630507e-05}. Best is trial 46 with value: 0.765625.\n",
      "[I 2024-02-24 02:07:47,540] Trial 50 finished with value: 0.75625 and parameters: {'var_smoothing': 5.2439239191725214e-05}. Best is trial 46 with value: 0.765625.\n",
      "[I 2024-02-24 02:07:47,568] Trial 51 finished with value: 0.7625 and parameters: {'var_smoothing': 9.206539430914655e-05}. Best is trial 46 with value: 0.765625.\n",
      "[I 2024-02-24 02:07:47,595] Trial 52 finished with value: 0.759375 and parameters: {'var_smoothing': 6.069286098070284e-05}. Best is trial 46 with value: 0.765625.\n",
      "[I 2024-02-24 02:07:47,623] Trial 53 finished with value: 0.75 and parameters: {'var_smoothing': 2.8439867876480314e-05}. Best is trial 46 with value: 0.765625.\n",
      "[I 2024-02-24 02:07:47,652] Trial 54 finished with value: 0.765625 and parameters: {'var_smoothing': 9.782142372821073e-05}. Best is trial 46 with value: 0.765625.\n",
      "[I 2024-02-24 02:07:47,680] Trial 55 finished with value: 0.75 and parameters: {'var_smoothing': 1.3598114874390448e-09}. Best is trial 46 with value: 0.765625.\n",
      "[I 2024-02-24 02:07:47,708] Trial 56 finished with value: 0.75 and parameters: {'var_smoothing': 1.5355440199846404e-05}. Best is trial 46 with value: 0.765625.\n",
      "[I 2024-02-24 02:07:47,735] Trial 57 finished with value: 0.75625 and parameters: {'var_smoothing': 5.810340212431736e-05}. Best is trial 46 with value: 0.765625.\n",
      "[I 2024-02-24 02:07:47,763] Trial 58 finished with value: 0.75 and parameters: {'var_smoothing': 1.0564445349536966e-05}. Best is trial 46 with value: 0.765625.\n",
      "[I 2024-02-24 02:07:47,790] Trial 59 finished with value: 0.765625 and parameters: {'var_smoothing': 9.743930399690351e-05}. Best is trial 46 with value: 0.765625.\n",
      "[I 2024-02-24 02:07:47,819] Trial 60 finished with value: 0.765625 and parameters: {'var_smoothing': 9.780730221450592e-05}. Best is trial 46 with value: 0.765625.\n",
      "[I 2024-02-24 02:07:47,846] Trial 61 finished with value: 0.7625 and parameters: {'var_smoothing': 9.586631127594681e-05}. Best is trial 46 with value: 0.765625.\n",
      "[I 2024-02-24 02:07:47,874] Trial 62 finished with value: 0.75 and parameters: {'var_smoothing': 3.301874117154971e-05}. Best is trial 46 with value: 0.765625.\n",
      "[I 2024-02-24 02:07:47,902] Trial 63 finished with value: 0.7625 and parameters: {'var_smoothing': 6.302512416843771e-05}. Best is trial 46 with value: 0.765625.\n",
      "[I 2024-02-24 02:07:47,930] Trial 64 finished with value: 0.75 and parameters: {'var_smoothing': 1.2442667158262315e-07}. Best is trial 46 with value: 0.765625.\n",
      "[I 2024-02-24 02:07:47,958] Trial 65 finished with value: 0.75 and parameters: {'var_smoothing': 2.146990417477233e-05}. Best is trial 46 with value: 0.765625.\n",
      "[I 2024-02-24 02:07:47,985] Trial 66 finished with value: 0.765625 and parameters: {'var_smoothing': 9.913325723142239e-05}. Best is trial 46 with value: 0.765625.\n",
      "[I 2024-02-24 02:07:48,012] Trial 67 finished with value: 0.75 and parameters: {'var_smoothing': 3.627308490601491e-05}. Best is trial 46 with value: 0.765625.\n",
      "[I 2024-02-24 02:07:48,040] Trial 68 finished with value: 0.759375 and parameters: {'var_smoothing': 6.128716155014019e-05}. Best is trial 46 with value: 0.765625.\n",
      "[I 2024-02-24 02:07:48,069] Trial 69 finished with value: 0.765625 and parameters: {'var_smoothing': 9.929624802223859e-05}. Best is trial 46 with value: 0.765625.\n",
      "[I 2024-02-24 02:07:48,096] Trial 70 finished with value: 0.75 and parameters: {'var_smoothing': 5.092846057491761e-07}. Best is trial 46 with value: 0.765625.\n",
      "[I 2024-02-24 02:07:48,123] Trial 71 finished with value: 0.7625 and parameters: {'var_smoothing': 7.001199153936577e-05}. Best is trial 46 with value: 0.765625.\n",
      "[I 2024-02-24 02:07:48,150] Trial 72 finished with value: 0.765625 and parameters: {'var_smoothing': 9.860111821983916e-05}. Best is trial 46 with value: 0.765625.\n",
      "[I 2024-02-24 02:07:48,177] Trial 73 finished with value: 0.7625 and parameters: {'var_smoothing': 9.5169485417796e-05}. Best is trial 46 with value: 0.765625.\n",
      "[I 2024-02-24 02:07:48,205] Trial 74 finished with value: 0.75 and parameters: {'var_smoothing': 4.336622910297143e-05}. Best is trial 46 with value: 0.765625.\n",
      "[I 2024-02-24 02:07:48,233] Trial 75 finished with value: 0.765625 and parameters: {'var_smoothing': 9.937742747590042e-05}. Best is trial 46 with value: 0.765625.\n",
      "[I 2024-02-24 02:07:48,261] Trial 76 finished with value: 0.75625 and parameters: {'var_smoothing': 4.786695848720799e-05}. Best is trial 46 with value: 0.765625.\n",
      "[I 2024-02-24 02:07:48,288] Trial 77 finished with value: 0.765625 and parameters: {'var_smoothing': 9.636294681158386e-05}. Best is trial 46 with value: 0.765625.\n",
      "[I 2024-02-24 02:07:48,315] Trial 78 finished with value: 0.7625 and parameters: {'var_smoothing': 6.506593818140069e-05}. Best is trial 46 with value: 0.765625.\n",
      "[I 2024-02-24 02:07:48,344] Trial 79 finished with value: 0.75 and parameters: {'var_smoothing': 2.9309463496230315e-05}. Best is trial 46 with value: 0.765625.\n",
      "[I 2024-02-24 02:07:48,372] Trial 80 finished with value: 0.75 and parameters: {'var_smoothing': 1.9067151423193532e-05}. Best is trial 46 with value: 0.765625.\n",
      "[I 2024-02-24 02:07:48,400] Trial 81 finished with value: 0.7625 and parameters: {'var_smoothing': 9.517305863164817e-05}. Best is trial 46 with value: 0.765625.\n",
      "[I 2024-02-24 02:07:48,427] Trial 82 finished with value: 0.765625 and parameters: {'var_smoothing': 9.821691807031279e-05}. Best is trial 46 with value: 0.765625.\n",
      "[I 2024-02-24 02:07:48,454] Trial 83 finished with value: 0.75 and parameters: {'var_smoothing': 3.9981181196036476e-05}. Best is trial 46 with value: 0.765625.\n",
      "[I 2024-02-24 02:07:48,481] Trial 84 finished with value: 0.7625 and parameters: {'var_smoothing': 6.566207051099806e-05}. Best is trial 46 with value: 0.765625.\n",
      "[I 2024-02-24 02:07:48,508] Trial 85 finished with value: 0.75625 and parameters: {'var_smoothing': 5.298820960744488e-05}. Best is trial 46 with value: 0.765625.\n",
      "[I 2024-02-24 02:07:48,536] Trial 86 finished with value: 0.7625 and parameters: {'var_smoothing': 7.233958470732456e-05}. Best is trial 46 with value: 0.765625.\n",
      "[I 2024-02-24 02:07:48,564] Trial 87 finished with value: 0.75 and parameters: {'var_smoothing': 3.689966713263676e-05}. Best is trial 46 with value: 0.765625.\n",
      "[I 2024-02-24 02:07:48,591] Trial 88 finished with value: 0.7625 and parameters: {'var_smoothing': 7.61433397045684e-05}. Best is trial 46 with value: 0.765625.\n",
      "[I 2024-02-24 02:07:48,619] Trial 89 finished with value: 0.75625 and parameters: {'var_smoothing': 4.9861455340022864e-05}. Best is trial 46 with value: 0.765625.\n",
      "[I 2024-02-24 02:07:48,647] Trial 90 finished with value: 0.75 and parameters: {'var_smoothing': 2.3750580718777703e-05}. Best is trial 46 with value: 0.765625.\n",
      "[I 2024-02-24 02:07:48,674] Trial 91 finished with value: 0.765625 and parameters: {'var_smoothing': 9.950930327539808e-05}. Best is trial 46 with value: 0.765625.\n",
      "[I 2024-02-24 02:07:48,703] Trial 92 finished with value: 0.765625 and parameters: {'var_smoothing': 9.910581798648475e-05}. Best is trial 46 with value: 0.765625.\n",
      "[I 2024-02-24 02:07:48,731] Trial 93 finished with value: 0.7625 and parameters: {'var_smoothing': 7.767395938159252e-05}. Best is trial 46 with value: 0.765625.\n",
      "[I 2024-02-24 02:07:48,759] Trial 94 finished with value: 0.75625 and parameters: {'var_smoothing': 5.17837790004569e-05}. Best is trial 46 with value: 0.765625.\n",
      "[I 2024-02-24 02:07:48,786] Trial 95 finished with value: 0.7625 and parameters: {'var_smoothing': 7.530499349944273e-05}. Best is trial 46 with value: 0.765625.\n",
      "[I 2024-02-24 02:07:48,813] Trial 96 finished with value: 0.75 and parameters: {'var_smoothing': 3.7408754273714646e-05}. Best is trial 46 with value: 0.765625.\n",
      "[I 2024-02-24 02:07:48,841] Trial 97 finished with value: 0.75625 and parameters: {'var_smoothing': 5.205319653568297e-05}. Best is trial 46 with value: 0.765625.\n",
      "[I 2024-02-24 02:07:48,869] Trial 98 finished with value: 0.75 and parameters: {'var_smoothing': 6.468023090640312e-08}. Best is trial 46 with value: 0.765625.\n",
      "[I 2024-02-24 02:07:48,896] Trial 99 finished with value: 0.75 and parameters: {'var_smoothing': 2.944140307901861e-05}. Best is trial 46 with value: 0.765625.\n",
      "/opt/conda/lib/python3.10/site-packages/sklearn/metrics/_classification.py:1344: UndefinedMetricWarning: Precision is ill-defined and being set to 0.0 in labels with no predicted samples. Use `zero_division` parameter to control this behavior.\n",
      "  _warn_prf(average, modifier, msg_start, len(result))\n"
     ]
    },
    {
     "name": "stdout",
     "output_type": "stream",
     "text": [
      "Best params found : {'var_smoothing': 9.933226827304191e-05}\n",
      "accuracy: 0.9625\n",
      "recall: 0.9444444444444444\n",
      "precision: 0.9375\n",
      "f1-score: 0.9358465608465608\n"
     ]
    }
   ],
   "source": [
    "study = optuna.create_study(direction = 'maximize')\n",
    "study.optimize(objective, n_trials = 100)\n",
    "best_params = study.best_params\n",
    "print(\"Best params found :\", best_params)\n",
    "\n",
    "final_model = GaussianNB(**best_params)\n",
    "final_model.fit(X_train_reduced, y_train)\n",
    "y_pred = final_model.predict(X_test_reduced)\n",
    "prediction_results['logistic regression'] = y_pred \n",
    "\n",
    "accuracy = accuracy_score(y_test, y_pred)\n",
    "precision = precision_score(y_test, y_pred, average='macro')\n",
    "recall = recall_score(y_test, y_pred, average='macro')\n",
    "f1 = f1_score(y_test, y_pred, average='macro')\n",
    "\n",
    "# # One-hot encoding for probability calculation (adapt if necessary)\n",
    "# y_test_onehot = pd.get_dummies(y_test, prefix='label_')  # Assuming 'label_' prefix for clarity\n",
    "# y_pred_onehot = pd.get_dummies(y_pred, prefix='label_')\n",
    "\n",
    "# # ROC AUC score with multiclass handling\n",
    "# roc_auc_macro = roc_auc_score(y_test_onehot, y_pred_onehot, average='macro', multi_class='ovo')  # Specify 'ovo' or 'ovr'\n",
    "\n",
    "print(\"accuracy:\", accuracy)\n",
    "print(\"recall:\", recall)\n",
    "print(\"precision:\", precision)\n",
    "print(\"f1-score:\", f1)\n",
    "# print('roc_auc: ', roc_auc_macro)"
   ]
  },
  {
   "cell_type": "markdown",
   "id": "16e1cd3f",
   "metadata": {
    "papermill": {
     "duration": 0.021609,
     "end_time": "2024-02-24T02:07:48.955480",
     "exception": false,
     "start_time": "2024-02-24T02:07:48.933871",
     "status": "completed"
    },
    "tags": []
   },
   "source": [
    "****"
   ]
  },
  {
   "cell_type": "markdown",
   "id": "49655c16",
   "metadata": {
    "papermill": {
     "duration": 0.021613,
     "end_time": "2024-02-24T02:07:48.999061",
     "exception": false,
     "start_time": "2024-02-24T02:07:48.977448",
     "status": "completed"
    },
    "tags": []
   },
   "source": [
    "# Logistic Regression"
   ]
  },
  {
   "cell_type": "markdown",
   "id": "389c6b3f",
   "metadata": {
    "papermill": {
     "duration": 0.021589,
     "end_time": "2024-02-24T02:07:49.042578",
     "exception": false,
     "start_time": "2024-02-24T02:07:49.020989",
     "status": "completed"
    },
    "tags": []
   },
   "source": [
    "**Normal**"
   ]
  },
  {
   "cell_type": "code",
   "execution_count": 21,
   "id": "875fb999",
   "metadata": {
    "execution": {
     "iopub.execute_input": "2024-02-24T02:07:49.087672Z",
     "iopub.status.busy": "2024-02-24T02:07:49.087193Z",
     "iopub.status.idle": "2024-02-24T02:07:49.176330Z",
     "shell.execute_reply": "2024-02-24T02:07:49.175617Z"
    },
    "papermill": {
     "duration": 0.114304,
     "end_time": "2024-02-24T02:07:49.178544",
     "exception": false,
     "start_time": "2024-02-24T02:07:49.064240",
     "status": "completed"
    },
    "tags": []
   },
   "outputs": [
    {
     "name": "stdout",
     "output_type": "stream",
     "text": [
      "accuracy: 1.0\n",
      "recall: 1.0\n",
      "precision: 1.0\n",
      "f1-score: 1.0\n"
     ]
    },
    {
     "name": "stderr",
     "output_type": "stream",
     "text": [
      "/opt/conda/lib/python3.10/site-packages/sklearn/linear_model/_logistic.py:458: ConvergenceWarning: lbfgs failed to converge (status=1):\n",
      "STOP: TOTAL NO. of ITERATIONS REACHED LIMIT.\n",
      "\n",
      "Increase the number of iterations (max_iter) or scale the data as shown in:\n",
      "    https://scikit-learn.org/stable/modules/preprocessing.html\n",
      "Please also refer to the documentation for alternative solver options:\n",
      "    https://scikit-learn.org/stable/modules/linear_model.html#logistic-regression\n",
      "  n_iter_i = _check_optimize_result(\n"
     ]
    }
   ],
   "source": [
    "lr = LogisticRegression()\n",
    "lr.fit(X_train_reduced, y_train)\n",
    "y_pred = lr.predict(X_test_reduced)\n",
    "\n",
    "accuracy = accuracy_score(y_test, y_pred)\n",
    "precision = precision_score(y_test, y_pred, average='macro')\n",
    "recall = recall_score(y_test, y_pred, average='macro')\n",
    "f1 = f1_score(y_test, y_pred, average='macro')\n",
    "\n",
    "# # One-hot encoding for probability calculation (adapt if necessary)\n",
    "# y_test_onehot = pd.get_dummies(y_test, prefix='label_')  # Assuming 'label_' prefix for clarity\n",
    "# y_pred_onehot = pd.get_dummies(y_pred, prefix='label_')\n",
    "\n",
    "# # ROC AUC score with multiclass handling\n",
    "# roc_auc_macro = roc_auc_score(y_test_onehot, y_pred_onehot, average='macro', multi_class='ovo')  # Specify 'ovo' or 'ovr'\n",
    "\n",
    "print(\"accuracy:\", accuracy)\n",
    "print(\"recall:\", recall)\n",
    "print(\"precision:\", precision)\n",
    "print(\"f1-score:\", f1)\n",
    "# print('roc_auc: ', roc_auc_macro)"
   ]
  },
  {
   "cell_type": "markdown",
   "id": "daae216d",
   "metadata": {
    "papermill": {
     "duration": 0.028582,
     "end_time": "2024-02-24T02:07:49.235966",
     "exception": false,
     "start_time": "2024-02-24T02:07:49.207384",
     "status": "completed"
    },
    "tags": []
   },
   "source": [
    "**Tunning**"
   ]
  },
  {
   "cell_type": "code",
   "execution_count": 22,
   "id": "35ca8456",
   "metadata": {
    "execution": {
     "iopub.execute_input": "2024-02-24T02:07:49.293267Z",
     "iopub.status.busy": "2024-02-24T02:07:49.292991Z",
     "iopub.status.idle": "2024-02-24T02:07:49.298286Z",
     "shell.execute_reply": "2024-02-24T02:07:49.297771Z"
    },
    "papermill": {
     "duration": 0.034655,
     "end_time": "2024-02-24T02:07:49.299740",
     "exception": false,
     "start_time": "2024-02-24T02:07:49.265085",
     "status": "completed"
    },
    "tags": []
   },
   "outputs": [],
   "source": [
    "import optuna\n",
    "from sklearn.model_selection import cross_val_score\n",
    "import warnings\n",
    "warnings.filterwarnings('ignore')\n",
    "\n",
    "\n",
    "def objective(trial):\n",
    "    hyperparams = {\n",
    "        'solver': trial.suggest_categorical('solver', ['lbfgs', 'liblinear', 'newton-cg', 'saga']),\n",
    "        'penalty': trial.suggest_categorical('penalty', ['l2']),\n",
    "        'multi_class': trial.suggest_categorical('multi_class', ['ovr']),\n",
    "        'C': trial.suggest_loguniform(\"C\", 1e-3, 1e3),\n",
    "        'n_jobs': -1\n",
    "    }\n",
    "\n",
    "    model = LogisticRegression(**hyperparams)\n",
    "    scores = cross_val_score(model, X_train_reduced,\n",
    "                             y_train, cv=kf, scoring='accuracy')\n",
    "    return np.mean(scores)"
   ]
  },
  {
   "cell_type": "code",
   "execution_count": 23,
   "id": "1f2e3b5f",
   "metadata": {
    "execution": {
     "iopub.execute_input": "2024-02-24T02:07:49.344459Z",
     "iopub.status.busy": "2024-02-24T02:07:49.344167Z",
     "iopub.status.idle": "2024-02-24T02:15:27.191154Z",
     "shell.execute_reply": "2024-02-24T02:15:27.190321Z"
    },
    "papermill": {
     "duration": 457.87137,
     "end_time": "2024-02-24T02:15:27.193006",
     "exception": false,
     "start_time": "2024-02-24T02:07:49.321636",
     "status": "completed"
    },
    "tags": []
   },
   "outputs": [
    {
     "name": "stderr",
     "output_type": "stream",
     "text": [
      "[I 2024-02-24 02:07:49,347] A new study created in memory with name: no-name-d4a91587-6b0e-4b12-8402-2c5f4509c1e9\n",
      "[I 2024-02-24 02:07:50,301] Trial 0 finished with value: 0.80625 and parameters: {'solver': 'saga', 'penalty': 'l2', 'multi_class': 'ovr', 'C': 0.004754591112777707}. Best is trial 0 with value: 0.80625.\n",
      "/opt/conda/lib/python3.10/site-packages/sklearn/linear_model/_logistic.py:458: ConvergenceWarning: lbfgs failed to converge (status=1):\n",
      "STOP: TOTAL NO. of ITERATIONS REACHED LIMIT.\n",
      "\n",
      "Increase the number of iterations (max_iter) or scale the data as shown in:\n",
      "    https://scikit-learn.org/stable/modules/preprocessing.html\n",
      "Please also refer to the documentation for alternative solver options:\n",
      "    https://scikit-learn.org/stable/modules/linear_model.html#logistic-regression\n",
      "  n_iter_i = _check_optimize_result(\n",
      "/opt/conda/lib/python3.10/site-packages/sklearn/linear_model/_logistic.py:458: ConvergenceWarning: lbfgs failed to converge (status=1):\n",
      "STOP: TOTAL NO. of ITERATIONS REACHED LIMIT.\n",
      "\n",
      "Increase the number of iterations (max_iter) or scale the data as shown in:\n",
      "    https://scikit-learn.org/stable/modules/preprocessing.html\n",
      "Please also refer to the documentation for alternative solver options:\n",
      "    https://scikit-learn.org/stable/modules/linear_model.html#logistic-regression\n",
      "  n_iter_i = _check_optimize_result(\n",
      "/opt/conda/lib/python3.10/site-packages/sklearn/linear_model/_logistic.py:458: ConvergenceWarning: lbfgs failed to converge (status=1):\n",
      "STOP: TOTAL NO. of ITERATIONS REACHED LIMIT.\n",
      "\n",
      "Increase the number of iterations (max_iter) or scale the data as shown in:\n",
      "    https://scikit-learn.org/stable/modules/preprocessing.html\n",
      "Please also refer to the documentation for alternative solver options:\n",
      "    https://scikit-learn.org/stable/modules/linear_model.html#logistic-regression\n",
      "  n_iter_i = _check_optimize_result(\n",
      "/opt/conda/lib/python3.10/site-packages/sklearn/linear_model/_logistic.py:458: ConvergenceWarning: lbfgs failed to converge (status=1):\n",
      "STOP: TOTAL NO. of ITERATIONS REACHED LIMIT.\n",
      "\n",
      "Increase the number of iterations (max_iter) or scale the data as shown in:\n",
      "    https://scikit-learn.org/stable/modules/preprocessing.html\n",
      "Please also refer to the documentation for alternative solver options:\n",
      "    https://scikit-learn.org/stable/modules/linear_model.html#logistic-regression\n",
      "  n_iter_i = _check_optimize_result(\n",
      "[I 2024-02-24 02:07:52,420] Trial 1 finished with value: 0.946875 and parameters: {'solver': 'lbfgs', 'penalty': 'l2', 'multi_class': 'ovr', 'C': 4.132260509384617}. Best is trial 1 with value: 0.946875.\n",
      "[I 2024-02-24 02:07:53,491] Trial 2 finished with value: 0.94375 and parameters: {'solver': 'lbfgs', 'penalty': 'l2', 'multi_class': 'ovr', 'C': 10.542097836704583}. Best is trial 1 with value: 0.946875.\n",
      "[I 2024-02-24 02:07:59,920] Trial 3 finished with value: 0.91875 and parameters: {'solver': 'newton-cg', 'penalty': 'l2', 'multi_class': 'ovr', 'C': 41.557664544172496}. Best is trial 1 with value: 0.946875.\n",
      "[I 2024-02-24 02:08:00,976] Trial 4 finished with value: 0.803125 and parameters: {'solver': 'saga', 'penalty': 'l2', 'multi_class': 'ovr', 'C': 0.011189029701460509}. Best is trial 1 with value: 0.946875.\n",
      "[I 2024-02-24 02:08:01,968] Trial 5 finished with value: 0.803125 and parameters: {'solver': 'saga', 'penalty': 'l2', 'multi_class': 'ovr', 'C': 0.01942852865725478}. Best is trial 1 with value: 0.946875.\n",
      "[I 2024-02-24 02:08:03,052] Trial 6 finished with value: 0.95 and parameters: {'solver': 'lbfgs', 'penalty': 'l2', 'multi_class': 'ovr', 'C': 1.8805481598258926}. Best is trial 6 with value: 0.95.\n",
      "[I 2024-02-24 02:08:04,027] Trial 7 finished with value: 0.803125 and parameters: {'solver': 'saga', 'penalty': 'l2', 'multi_class': 'ovr', 'C': 294.9494371743297}. Best is trial 6 with value: 0.95.\n",
      "[I 2024-02-24 02:08:16,516] Trial 8 finished with value: 0.909375 and parameters: {'solver': 'liblinear', 'penalty': 'l2', 'multi_class': 'ovr', 'C': 5.350887180837123}. Best is trial 6 with value: 0.95.\n",
      "[I 2024-02-24 02:08:17,486] Trial 9 finished with value: 0.803125 and parameters: {'solver': 'saga', 'penalty': 'l2', 'multi_class': 'ovr', 'C': 9.046146017935783}. Best is trial 6 with value: 0.95.\n",
      "[I 2024-02-24 02:08:18,572] Trial 10 finished with value: 0.95625 and parameters: {'solver': 'lbfgs', 'penalty': 'l2', 'multi_class': 'ovr', 'C': 0.15716625446721771}. Best is trial 10 with value: 0.95625.\n",
      "[I 2024-02-24 02:08:19,658] Trial 11 finished with value: 0.953125 and parameters: {'solver': 'lbfgs', 'penalty': 'l2', 'multi_class': 'ovr', 'C': 0.20221948637293477}. Best is trial 10 with value: 0.95625.\n",
      "[I 2024-02-24 02:08:20,779] Trial 12 finished with value: 0.953125 and parameters: {'solver': 'lbfgs', 'penalty': 'l2', 'multi_class': 'ovr', 'C': 0.14797771515946018}. Best is trial 10 with value: 0.95625.\n",
      "[I 2024-02-24 02:08:21,871] Trial 13 finished with value: 0.95625 and parameters: {'solver': 'lbfgs', 'penalty': 'l2', 'multi_class': 'ovr', 'C': 0.18471923932097623}. Best is trial 10 with value: 0.95625.\n",
      "[I 2024-02-24 02:08:32,454] Trial 14 finished with value: 0.903125 and parameters: {'solver': 'liblinear', 'penalty': 'l2', 'multi_class': 'ovr', 'C': 0.14190108512022584}. Best is trial 10 with value: 0.95625.\n",
      "[I 2024-02-24 02:08:39,551] Trial 15 finished with value: 0.953125 and parameters: {'solver': 'newton-cg', 'penalty': 'l2', 'multi_class': 'ovr', 'C': 0.5295841931939551}. Best is trial 10 with value: 0.95625.\n",
      "[I 2024-02-24 02:08:40,620] Trial 16 finished with value: 0.953125 and parameters: {'solver': 'lbfgs', 'penalty': 'l2', 'multi_class': 'ovr', 'C': 0.0011763156936992903}. Best is trial 10 with value: 0.95625.\n",
      "[I 2024-02-24 02:08:41,718] Trial 17 finished with value: 0.95625 and parameters: {'solver': 'lbfgs', 'penalty': 'l2', 'multi_class': 'ovr', 'C': 0.04252614164664235}. Best is trial 10 with value: 0.95625.\n",
      "[I 2024-02-24 02:08:42,805] Trial 18 finished with value: 0.946875 and parameters: {'solver': 'lbfgs', 'penalty': 'l2', 'multi_class': 'ovr', 'C': 0.5645630942857235}. Best is trial 10 with value: 0.95625.\n",
      "[I 2024-02-24 02:08:52,832] Trial 19 finished with value: 0.884375 and parameters: {'solver': 'liblinear', 'penalty': 'l2', 'multi_class': 'ovr', 'C': 0.07421450244837641}. Best is trial 10 with value: 0.95625.\n",
      "[I 2024-02-24 02:08:59,224] Trial 20 finished with value: 0.91875 and parameters: {'solver': 'newton-cg', 'penalty': 'l2', 'multi_class': 'ovr', 'C': 35.72295112023093}. Best is trial 10 with value: 0.95625.\n",
      "[I 2024-02-24 02:09:00,291] Trial 21 finished with value: 0.953125 and parameters: {'solver': 'lbfgs', 'penalty': 'l2', 'multi_class': 'ovr', 'C': 0.035644168087337655}. Best is trial 10 with value: 0.95625.\n",
      "[I 2024-02-24 02:09:01,454] Trial 22 finished with value: 0.95625 and parameters: {'solver': 'lbfgs', 'penalty': 'l2', 'multi_class': 'ovr', 'C': 0.004074640889900349}. Best is trial 10 with value: 0.95625.\n",
      "[I 2024-02-24 02:09:02,719] Trial 23 finished with value: 0.946875 and parameters: {'solver': 'lbfgs', 'penalty': 'l2', 'multi_class': 'ovr', 'C': 0.6523355313104202}. Best is trial 10 with value: 0.95625.\n",
      "[I 2024-02-24 02:09:03,809] Trial 24 finished with value: 0.95625 and parameters: {'solver': 'lbfgs', 'penalty': 'l2', 'multi_class': 'ovr', 'C': 0.04520716826010551}. Best is trial 10 with value: 0.95625.\n",
      "[I 2024-02-24 02:09:04,900] Trial 25 finished with value: 0.95 and parameters: {'solver': 'lbfgs', 'penalty': 'l2', 'multi_class': 'ovr', 'C': 0.27352923602353396}. Best is trial 10 with value: 0.95625.\n",
      "[I 2024-02-24 02:09:05,978] Trial 26 finished with value: 0.95625 and parameters: {'solver': 'lbfgs', 'penalty': 'l2', 'multi_class': 'ovr', 'C': 0.009055968616810045}. Best is trial 10 with value: 0.95625.\n",
      "[I 2024-02-24 02:09:07,060] Trial 27 finished with value: 0.95 and parameters: {'solver': 'lbfgs', 'penalty': 'l2', 'multi_class': 'ovr', 'C': 1.309083122381803}. Best is trial 10 with value: 0.95625.\n",
      "/opt/conda/lib/python3.10/site-packages/sklearn/utils/optimize.py:210: ConvergenceWarning: newton-cg failed to converge. Increase the number of iterations.\n",
      "  warnings.warn(\n",
      "/opt/conda/lib/python3.10/site-packages/sklearn/utils/optimize.py:210: ConvergenceWarning: newton-cg failed to converge. Increase the number of iterations.\n",
      "  warnings.warn(\n",
      "/opt/conda/lib/python3.10/site-packages/sklearn/utils/optimize.py:210: ConvergenceWarning: newton-cg failed to converge. Increase the number of iterations.\n",
      "  warnings.warn(\n",
      "/opt/conda/lib/python3.10/site-packages/sklearn/utils/optimize.py:210: ConvergenceWarning: newton-cg failed to converge. Increase the number of iterations.\n",
      "  warnings.warn(\n",
      "[I 2024-02-24 02:09:15,681] Trial 28 finished with value: 0.953125 and parameters: {'solver': 'newton-cg', 'penalty': 'l2', 'multi_class': 'ovr', 'C': 0.0010197794888585747}. Best is trial 10 with value: 0.95625.\n",
      "[I 2024-02-24 02:09:25,721] Trial 29 finished with value: 0.884375 and parameters: {'solver': 'liblinear', 'penalty': 'l2', 'multi_class': 'ovr', 'C': 0.06810059795890003}. Best is trial 10 with value: 0.95625.\n",
      "[I 2024-02-24 02:09:26,811] Trial 30 finished with value: 0.95625 and parameters: {'solver': 'lbfgs', 'penalty': 'l2', 'multi_class': 'ovr', 'C': 0.003077755881715513}. Best is trial 10 with value: 0.95625.\n",
      "[I 2024-02-24 02:09:27,897] Trial 31 finished with value: 0.95625 and parameters: {'solver': 'lbfgs', 'penalty': 'l2', 'multi_class': 'ovr', 'C': 0.003140491515491614}. Best is trial 10 with value: 0.95625.\n",
      "[I 2024-02-24 02:09:28,983] Trial 32 finished with value: 0.953125 and parameters: {'solver': 'lbfgs', 'penalty': 'l2', 'multi_class': 'ovr', 'C': 0.019057894637041786}. Best is trial 10 with value: 0.95625.\n",
      "[I 2024-02-24 02:09:30,069] Trial 33 finished with value: 0.95625 and parameters: {'solver': 'lbfgs', 'penalty': 'l2', 'multi_class': 'ovr', 'C': 0.005865533545895178}. Best is trial 10 with value: 0.95625.\n",
      "[I 2024-02-24 02:09:31,176] Trial 34 finished with value: 0.95625 and parameters: {'solver': 'lbfgs', 'penalty': 'l2', 'multi_class': 'ovr', 'C': 0.02336860793308054}. Best is trial 10 with value: 0.95625.\n",
      "[I 2024-02-24 02:09:32,261] Trial 35 finished with value: 0.946875 and parameters: {'solver': 'lbfgs', 'penalty': 'l2', 'multi_class': 'ovr', 'C': 0.09116991921010847}. Best is trial 10 with value: 0.95625.\n",
      "[I 2024-02-24 02:09:33,540] Trial 36 finished with value: 0.95 and parameters: {'solver': 'lbfgs', 'penalty': 'l2', 'multi_class': 'ovr', 'C': 2.494584779122391}. Best is trial 10 with value: 0.95625.\n",
      "[I 2024-02-24 02:09:34,547] Trial 37 finished with value: 0.80625 and parameters: {'solver': 'saga', 'penalty': 'l2', 'multi_class': 'ovr', 'C': 0.27267068431148017}. Best is trial 10 with value: 0.95625.\n",
      "[I 2024-02-24 02:09:43,231] Trial 38 finished with value: 0.95625 and parameters: {'solver': 'newton-cg', 'penalty': 'l2', 'multi_class': 'ovr', 'C': 0.010554815795244955}. Best is trial 10 with value: 0.95625.\n",
      "[I 2024-02-24 02:09:44,308] Trial 39 finished with value: 0.953125 and parameters: {'solver': 'lbfgs', 'penalty': 'l2', 'multi_class': 'ovr', 'C': 0.002321262505201094}. Best is trial 10 with value: 0.95625.\n",
      "[I 2024-02-24 02:09:45,276] Trial 40 finished with value: 0.803125 and parameters: {'solver': 'saga', 'penalty': 'l2', 'multi_class': 'ovr', 'C': 0.02701445403366409}. Best is trial 10 with value: 0.95625.\n",
      "[I 2024-02-24 02:09:46,364] Trial 41 finished with value: 0.953125 and parameters: {'solver': 'lbfgs', 'penalty': 'l2', 'multi_class': 'ovr', 'C': 0.049045695995390486}. Best is trial 10 with value: 0.95625.\n",
      "[I 2024-02-24 02:09:47,249] Trial 42 finished with value: 0.846875 and parameters: {'solver': 'lbfgs', 'penalty': 'l2', 'multi_class': 'ovr', 'C': 612.6876479526256}. Best is trial 10 with value: 0.95625.\n",
      "[I 2024-02-24 02:09:48,335] Trial 43 finished with value: 0.953125 and parameters: {'solver': 'lbfgs', 'penalty': 'l2', 'multi_class': 'ovr', 'C': 0.01276085762982998}. Best is trial 10 with value: 0.95625.\n",
      "[I 2024-02-24 02:09:49,410] Trial 44 finished with value: 0.95625 and parameters: {'solver': 'lbfgs', 'penalty': 'l2', 'multi_class': 'ovr', 'C': 0.04461652135796492}. Best is trial 10 with value: 0.95625.\n",
      "[I 2024-02-24 02:09:50,496] Trial 45 finished with value: 0.95625 and parameters: {'solver': 'lbfgs', 'penalty': 'l2', 'multi_class': 'ovr', 'C': 0.12765751441320056}. Best is trial 10 with value: 0.95625.\n",
      "[I 2024-02-24 02:09:57,811] Trial 46 finished with value: 0.83125 and parameters: {'solver': 'liblinear', 'penalty': 'l2', 'multi_class': 'ovr', 'C': 0.00633383698470898}. Best is trial 10 with value: 0.95625.\n",
      "[I 2024-02-24 02:09:58,907] Trial 47 finished with value: 0.946875 and parameters: {'solver': 'lbfgs', 'penalty': 'l2', 'multi_class': 'ovr', 'C': 0.3595470596584101}. Best is trial 10 with value: 0.95625.\n",
      "[I 2024-02-24 02:09:59,894] Trial 48 finished with value: 0.803125 and parameters: {'solver': 'saga', 'penalty': 'l2', 'multi_class': 'ovr', 'C': 1.1195715997132445}. Best is trial 10 with value: 0.95625.\n",
      "[I 2024-02-24 02:10:01,008] Trial 49 finished with value: 0.953125 and parameters: {'solver': 'lbfgs', 'penalty': 'l2', 'multi_class': 'ovr', 'C': 0.1161972866461072}. Best is trial 10 with value: 0.95625.\n",
      "[I 2024-02-24 02:10:09,789] Trial 50 finished with value: 0.953125 and parameters: {'solver': 'newton-cg', 'penalty': 'l2', 'multi_class': 'ovr', 'C': 0.01579875871320963}. Best is trial 10 with value: 0.95625.\n",
      "[I 2024-02-24 02:10:10,896] Trial 51 finished with value: 0.95625 and parameters: {'solver': 'lbfgs', 'penalty': 'l2', 'multi_class': 'ovr', 'C': 0.007824429549336535}. Best is trial 10 with value: 0.95625.\n",
      "[I 2024-02-24 02:10:11,984] Trial 52 finished with value: 0.95625 and parameters: {'solver': 'lbfgs', 'penalty': 'l2', 'multi_class': 'ovr', 'C': 0.05270838460984787}. Best is trial 10 with value: 0.95625.\n",
      "[I 2024-02-24 02:10:13,072] Trial 53 finished with value: 0.95625 and parameters: {'solver': 'lbfgs', 'penalty': 'l2', 'multi_class': 'ovr', 'C': 0.004598593936934043}. Best is trial 10 with value: 0.95625.\n",
      "[I 2024-02-24 02:10:14,138] Trial 54 finished with value: 0.95 and parameters: {'solver': 'lbfgs', 'penalty': 'l2', 'multi_class': 'ovr', 'C': 0.032502800442104206}. Best is trial 10 with value: 0.95625.\n",
      "[I 2024-02-24 02:10:15,213] Trial 55 finished with value: 0.953125 and parameters: {'solver': 'lbfgs', 'penalty': 'l2', 'multi_class': 'ovr', 'C': 0.0019225429683276353}. Best is trial 10 with value: 0.95625.\n",
      "[I 2024-02-24 02:10:26,137] Trial 56 finished with value: 0.915625 and parameters: {'solver': 'liblinear', 'penalty': 'l2', 'multi_class': 'ovr', 'C': 0.22874533528264515}. Best is trial 10 with value: 0.95625.\n",
      "[I 2024-02-24 02:10:27,216] Trial 57 finished with value: 0.95 and parameters: {'solver': 'lbfgs', 'penalty': 'l2', 'multi_class': 'ovr', 'C': 0.5076450006918243}. Best is trial 10 with value: 0.95625.\n",
      "[I 2024-02-24 02:10:28,295] Trial 58 finished with value: 0.95 and parameters: {'solver': 'lbfgs', 'penalty': 'l2', 'multi_class': 'ovr', 'C': 0.00978694389124255}. Best is trial 10 with value: 0.95625.\n",
      "[I 2024-02-24 02:10:29,395] Trial 59 finished with value: 0.95 and parameters: {'solver': 'lbfgs', 'penalty': 'l2', 'multi_class': 'ovr', 'C': 0.081366535223567}. Best is trial 10 with value: 0.95625.\n",
      "[I 2024-02-24 02:10:30,440] Trial 60 finished with value: 0.95 and parameters: {'solver': 'lbfgs', 'penalty': 'l2', 'multi_class': 'ovr', 'C': 33.981962112744675}. Best is trial 10 with value: 0.95625.\n",
      "[I 2024-02-24 02:10:31,551] Trial 61 finished with value: 0.953125 and parameters: {'solver': 'lbfgs', 'penalty': 'l2', 'multi_class': 'ovr', 'C': 0.0018611648965919266}. Best is trial 10 with value: 0.95625.\n",
      "[I 2024-02-24 02:10:32,619] Trial 62 finished with value: 0.953125 and parameters: {'solver': 'lbfgs', 'penalty': 'l2', 'multi_class': 'ovr', 'C': 0.003859147618832839}. Best is trial 10 with value: 0.95625.\n",
      "[I 2024-02-24 02:10:33,708] Trial 63 finished with value: 0.95625 and parameters: {'solver': 'lbfgs', 'penalty': 'l2', 'multi_class': 'ovr', 'C': 0.015175318805847982}. Best is trial 10 with value: 0.95625.\n",
      "[I 2024-02-24 02:10:34,778] Trial 64 finished with value: 0.953125 and parameters: {'solver': 'lbfgs', 'penalty': 'l2', 'multi_class': 'ovr', 'C': 0.0014961450826839837}. Best is trial 10 with value: 0.95625.\n",
      "[I 2024-02-24 02:10:42,536] Trial 65 finished with value: 0.95 and parameters: {'solver': 'newton-cg', 'penalty': 'l2', 'multi_class': 'ovr', 'C': 0.17027405673792498}. Best is trial 10 with value: 0.95625.\n",
      "[I 2024-02-24 02:10:43,608] Trial 66 finished with value: 0.95625 and parameters: {'solver': 'lbfgs', 'penalty': 'l2', 'multi_class': 'ovr', 'C': 0.0026434049008872847}. Best is trial 10 with value: 0.95625.\n",
      "[I 2024-02-24 02:10:52,492] Trial 67 finished with value: 0.86875 and parameters: {'solver': 'liblinear', 'penalty': 'l2', 'multi_class': 'ovr', 'C': 0.02263759171142677}. Best is trial 10 with value: 0.95625.\n",
      "[I 2024-02-24 02:10:53,479] Trial 68 finished with value: 0.80625 and parameters: {'solver': 'saga', 'penalty': 'l2', 'multi_class': 'ovr', 'C': 0.004498356186683611}. Best is trial 10 with value: 0.95625.\n",
      "[I 2024-02-24 02:10:54,554] Trial 69 finished with value: 0.95625 and parameters: {'solver': 'lbfgs', 'penalty': 'l2', 'multi_class': 'ovr', 'C': 0.008235891198881141}. Best is trial 10 with value: 0.95625.\n",
      "[I 2024-02-24 02:10:55,630] Trial 70 finished with value: 0.953125 and parameters: {'solver': 'lbfgs', 'penalty': 'l2', 'multi_class': 'ovr', 'C': 0.03604751257827519}. Best is trial 10 with value: 0.95625.\n",
      "[I 2024-02-24 02:10:56,717] Trial 71 finished with value: 0.95625 and parameters: {'solver': 'lbfgs', 'penalty': 'l2', 'multi_class': 'ovr', 'C': 0.0029746448863960584}. Best is trial 10 with value: 0.95625.\n",
      "[I 2024-02-24 02:10:57,792] Trial 72 finished with value: 0.953125 and parameters: {'solver': 'lbfgs', 'penalty': 'l2', 'multi_class': 'ovr', 'C': 0.003201530912370857}. Best is trial 10 with value: 0.95625.\n",
      "[I 2024-02-24 02:10:58,860] Trial 73 finished with value: 0.953125 and parameters: {'solver': 'lbfgs', 'penalty': 'l2', 'multi_class': 'ovr', 'C': 0.0011856619991140829}. Best is trial 10 with value: 0.95625.\n",
      "[I 2024-02-24 02:10:59,943] Trial 74 finished with value: 0.953125 and parameters: {'solver': 'lbfgs', 'penalty': 'l2', 'multi_class': 'ovr', 'C': 0.005340498718428347}. Best is trial 10 with value: 0.95625.\n",
      "[I 2024-02-24 02:11:01,039] Trial 75 finished with value: 0.953125 and parameters: {'solver': 'lbfgs', 'penalty': 'l2', 'multi_class': 'ovr', 'C': 0.01290608949040774}. Best is trial 10 with value: 0.95625.\n",
      "[I 2024-02-24 02:11:02,114] Trial 76 finished with value: 0.95 and parameters: {'solver': 'lbfgs', 'penalty': 'l2', 'multi_class': 'ovr', 'C': 0.06596547968359442}. Best is trial 10 with value: 0.95625.\n",
      "[I 2024-02-24 02:11:03,205] Trial 77 finished with value: 0.953125 and parameters: {'solver': 'lbfgs', 'penalty': 'l2', 'multi_class': 'ovr', 'C': 0.020801258803394992}. Best is trial 10 with value: 0.95625.\n",
      "[I 2024-02-24 02:11:10,562] Trial 78 finished with value: 0.95 and parameters: {'solver': 'newton-cg', 'penalty': 'l2', 'multi_class': 'ovr', 'C': 0.40648424896185076}. Best is trial 10 with value: 0.95625.\n",
      "[I 2024-02-24 02:11:11,581] Trial 79 finished with value: 0.803125 and parameters: {'solver': 'saga', 'penalty': 'l2', 'multi_class': 'ovr', 'C': 0.8352302192148979}. Best is trial 10 with value: 0.95625.\n",
      "[I 2024-02-24 02:11:12,668] Trial 80 finished with value: 0.95 and parameters: {'solver': 'lbfgs', 'penalty': 'l2', 'multi_class': 'ovr', 'C': 0.006778484014693252}. Best is trial 10 with value: 0.95625.\n",
      "[I 2024-02-24 02:11:13,741] Trial 81 finished with value: 0.95625 and parameters: {'solver': 'lbfgs', 'penalty': 'l2', 'multi_class': 'ovr', 'C': 0.005626478189775008}. Best is trial 10 with value: 0.95625.\n",
      "[I 2024-02-24 02:11:14,828] Trial 82 finished with value: 0.953125 and parameters: {'solver': 'lbfgs', 'penalty': 'l2', 'multi_class': 'ovr', 'C': 0.010252035514551254}. Best is trial 10 with value: 0.95625.\n",
      "[I 2024-02-24 02:11:15,914] Trial 83 finished with value: 0.946875 and parameters: {'solver': 'lbfgs', 'penalty': 'l2', 'multi_class': 'ovr', 'C': 0.09771517498691118}. Best is trial 10 with value: 0.95625.\n",
      "[I 2024-02-24 02:11:16,985] Trial 84 finished with value: 0.953125 and parameters: {'solver': 'lbfgs', 'penalty': 'l2', 'multi_class': 'ovr', 'C': 0.0021199315838528244}. Best is trial 10 with value: 0.95625.\n",
      "[I 2024-02-24 02:11:18,051] Trial 85 finished with value: 0.95625 and parameters: {'solver': 'lbfgs', 'penalty': 'l2', 'multi_class': 'ovr', 'C': 0.0034764364760955166}. Best is trial 10 with value: 0.95625.\n",
      "[I 2024-02-24 02:11:27,239] Trial 86 finished with value: 0.871875 and parameters: {'solver': 'liblinear', 'penalty': 'l2', 'multi_class': 'ovr', 'C': 0.028802103525794473}. Best is trial 10 with value: 0.95625.\n",
      "[I 2024-02-24 02:11:28,320] Trial 87 finished with value: 0.953125 and parameters: {'solver': 'lbfgs', 'penalty': 'l2', 'multi_class': 'ovr', 'C': 0.05182868045557934}. Best is trial 10 with value: 0.95625.\n",
      "[I 2024-02-24 02:11:29,397] Trial 88 finished with value: 0.94375 and parameters: {'solver': 'lbfgs', 'penalty': 'l2', 'multi_class': 'ovr', 'C': 2.131305112327621}. Best is trial 10 with value: 0.95625.\n",
      "[I 2024-02-24 02:11:30,486] Trial 89 finished with value: 0.953125 and parameters: {'solver': 'lbfgs', 'penalty': 'l2', 'multi_class': 'ovr', 'C': 0.001592216226203234}. Best is trial 10 with value: 0.95625.\n",
      "[I 2024-02-24 02:11:31,584] Trial 90 finished with value: 0.95625 and parameters: {'solver': 'lbfgs', 'penalty': 'l2', 'multi_class': 'ovr', 'C': 0.007788043674671223}. Best is trial 10 with value: 0.95625.\n",
      "[I 2024-02-24 02:11:32,661] Trial 91 finished with value: 0.95625 and parameters: {'solver': 'lbfgs', 'penalty': 'l2', 'multi_class': 'ovr', 'C': 0.016032567509112042}. Best is trial 10 with value: 0.95625.\n",
      "[I 2024-02-24 02:11:33,744] Trial 92 finished with value: 0.953125 and parameters: {'solver': 'lbfgs', 'penalty': 'l2', 'multi_class': 'ovr', 'C': 0.04233803221977927}. Best is trial 10 with value: 0.95625.\n",
      "[I 2024-02-24 02:11:34,813] Trial 93 finished with value: 0.953125 and parameters: {'solver': 'lbfgs', 'penalty': 'l2', 'multi_class': 'ovr', 'C': 0.02360266234934487}. Best is trial 10 with value: 0.95625.\n",
      "[I 2024-02-24 02:11:35,903] Trial 94 finished with value: 0.95 and parameters: {'solver': 'lbfgs', 'penalty': 'l2', 'multi_class': 'ovr', 'C': 0.1812833135135484}. Best is trial 10 with value: 0.95625.\n",
      "[I 2024-02-24 02:11:36,987] Trial 95 finished with value: 0.953125 and parameters: {'solver': 'lbfgs', 'penalty': 'l2', 'multi_class': 'ovr', 'C': 0.06583823596097016}. Best is trial 10 with value: 0.95625.\n",
      "[I 2024-02-24 02:11:45,953] Trial 96 finished with value: 0.95625 and parameters: {'solver': 'newton-cg', 'penalty': 'l2', 'multi_class': 'ovr', 'C': 0.011539455952939771}. Best is trial 10 with value: 0.95625.\n",
      "[I 2024-02-24 02:11:46,935] Trial 97 finished with value: 0.803125 and parameters: {'solver': 'saga', 'penalty': 'l2', 'multi_class': 'ovr', 'C': 0.11383050526747078}. Best is trial 10 with value: 0.95625.\n",
      "[I 2024-02-24 02:11:48,016] Trial 98 finished with value: 0.95 and parameters: {'solver': 'lbfgs', 'penalty': 'l2', 'multi_class': 'ovr', 'C': 0.2709608212373875}. Best is trial 10 with value: 0.95625.\n",
      "[I 2024-02-24 02:11:49,102] Trial 99 finished with value: 0.953125 and parameters: {'solver': 'lbfgs', 'penalty': 'l2', 'multi_class': 'ovr', 'C': 0.01739460972278603}. Best is trial 10 with value: 0.95625.\n",
      "[I 2024-02-24 02:11:50,171] Trial 100 finished with value: 0.95625 and parameters: {'solver': 'lbfgs', 'penalty': 'l2', 'multi_class': 'ovr', 'C': 0.004820212186666871}. Best is trial 10 with value: 0.95625.\n",
      "[I 2024-02-24 02:11:58,856] Trial 101 finished with value: 0.95625 and parameters: {'solver': 'newton-cg', 'penalty': 'l2', 'multi_class': 'ovr', 'C': 0.008033028319050946}. Best is trial 10 with value: 0.95625.\n",
      "[I 2024-02-24 02:12:07,644] Trial 102 finished with value: 0.95625 and parameters: {'solver': 'newton-cg', 'penalty': 'l2', 'multi_class': 'ovr', 'C': 0.002456863932441441}. Best is trial 10 with value: 0.95625.\n",
      "[I 2024-02-24 02:12:16,544] Trial 103 finished with value: 0.95625 and parameters: {'solver': 'newton-cg', 'penalty': 'l2', 'multi_class': 'ovr', 'C': 0.010934530341174536}. Best is trial 10 with value: 0.95625.\n",
      "[I 2024-02-24 02:12:25,314] Trial 104 finished with value: 0.95625 and parameters: {'solver': 'newton-cg', 'penalty': 'l2', 'multi_class': 'ovr', 'C': 0.0038074679845610305}. Best is trial 10 with value: 0.95625.\n",
      "[I 2024-02-24 02:12:37,790] Trial 105 finished with value: 0.909375 and parameters: {'solver': 'liblinear', 'penalty': 'l2', 'multi_class': 'ovr', 'C': 5.705940917228444}. Best is trial 10 with value: 0.95625.\n",
      "[I 2024-02-24 02:12:38,887] Trial 106 finished with value: 0.953125 and parameters: {'solver': 'lbfgs', 'penalty': 'l2', 'multi_class': 'ovr', 'C': 0.031778772601854}. Best is trial 10 with value: 0.95625.\n",
      "[I 2024-02-24 02:12:39,974] Trial 107 finished with value: 0.953125 and parameters: {'solver': 'lbfgs', 'penalty': 'l2', 'multi_class': 'ovr', 'C': 0.005949494179731314}. Best is trial 10 with value: 0.95625.\n",
      "[I 2024-02-24 02:12:41,146] Trial 108 finished with value: 0.953125 and parameters: {'solver': 'lbfgs', 'penalty': 'l2', 'multi_class': 'ovr', 'C': 0.013147774256471163}. Best is trial 10 with value: 0.95625.\n",
      "[I 2024-02-24 02:12:42,375] Trial 109 finished with value: 0.953125 and parameters: {'solver': 'lbfgs', 'penalty': 'l2', 'multi_class': 'ovr', 'C': 0.0010256567509503095}. Best is trial 10 with value: 0.95625.\n",
      "[I 2024-02-24 02:12:50,954] Trial 110 finished with value: 0.953125 and parameters: {'solver': 'newton-cg', 'penalty': 'l2', 'multi_class': 'ovr', 'C': 0.022938813964294563}. Best is trial 10 with value: 0.95625.\n",
      "[I 2024-02-24 02:12:52,032] Trial 111 finished with value: 0.953125 and parameters: {'solver': 'lbfgs', 'penalty': 'l2', 'multi_class': 'ovr', 'C': 0.04628265227281315}. Best is trial 10 with value: 0.95625.\n",
      "[I 2024-02-24 02:12:53,123] Trial 112 finished with value: 0.953125 and parameters: {'solver': 'lbfgs', 'penalty': 'l2', 'multi_class': 'ovr', 'C': 0.14456761991766476}. Best is trial 10 with value: 0.95625.\n",
      "[I 2024-02-24 02:12:54,202] Trial 113 finished with value: 0.953125 and parameters: {'solver': 'lbfgs', 'penalty': 'l2', 'multi_class': 'ovr', 'C': 0.068171065119421}. Best is trial 10 with value: 0.95625.\n",
      "[I 2024-02-24 02:12:55,281] Trial 114 finished with value: 0.95625 and parameters: {'solver': 'lbfgs', 'penalty': 'l2', 'multi_class': 'ovr', 'C': 0.03541169366473715}. Best is trial 10 with value: 0.95625.\n",
      "[I 2024-02-24 02:12:56,361] Trial 115 finished with value: 0.953125 and parameters: {'solver': 'lbfgs', 'penalty': 'l2', 'multi_class': 'ovr', 'C': 0.0184179528588459}. Best is trial 10 with value: 0.95625.\n",
      "[I 2024-02-24 02:12:57,442] Trial 116 finished with value: 0.953125 and parameters: {'solver': 'lbfgs', 'penalty': 'l2', 'multi_class': 'ovr', 'C': 0.00934057301865499}. Best is trial 10 with value: 0.95625.\n",
      "[I 2024-02-24 02:12:58,418] Trial 117 finished with value: 0.80625 and parameters: {'solver': 'saga', 'penalty': 'l2', 'multi_class': 'ovr', 'C': 0.0031901296798651333}. Best is trial 10 with value: 0.95625.\n",
      "[I 2024-02-24 02:12:59,515] Trial 118 finished with value: 0.953125 and parameters: {'solver': 'lbfgs', 'penalty': 'l2', 'multi_class': 'ovr', 'C': 0.0875092344995351}. Best is trial 10 with value: 0.95625.\n",
      "[I 2024-02-24 02:13:00,614] Trial 119 finished with value: 0.953125 and parameters: {'solver': 'lbfgs', 'penalty': 'l2', 'multi_class': 'ovr', 'C': 0.00597376195438851}. Best is trial 10 with value: 0.95625.\n",
      "[I 2024-02-24 02:13:01,714] Trial 120 finished with value: 0.953125 and parameters: {'solver': 'lbfgs', 'penalty': 'l2', 'multi_class': 'ovr', 'C': 0.004431302509676121}. Best is trial 10 with value: 0.95625.\n",
      "[I 2024-02-24 02:13:02,731] Trial 121 finished with value: 0.94375 and parameters: {'solver': 'lbfgs', 'penalty': 'l2', 'multi_class': 'ovr', 'C': 94.47803439816715}. Best is trial 10 with value: 0.95625.\n",
      "[I 2024-02-24 02:13:03,815] Trial 122 finished with value: 0.95 and parameters: {'solver': 'lbfgs', 'penalty': 'l2', 'multi_class': 'ovr', 'C': 0.12945746096765803}. Best is trial 10 with value: 0.95625.\n",
      "[I 2024-02-24 02:13:04,900] Trial 123 finished with value: 0.953125 and parameters: {'solver': 'lbfgs', 'penalty': 'l2', 'multi_class': 'ovr', 'C': 0.05424674775044092}. Best is trial 10 with value: 0.95625.\n",
      "[I 2024-02-24 02:13:05,977] Trial 124 finished with value: 0.953125 and parameters: {'solver': 'lbfgs', 'penalty': 'l2', 'multi_class': 'ovr', 'C': 0.21565022028068193}. Best is trial 10 with value: 0.95625.\n",
      "[I 2024-02-24 02:13:07,053] Trial 125 finished with value: 0.95 and parameters: {'solver': 'lbfgs', 'penalty': 'l2', 'multi_class': 'ovr', 'C': 0.3870659815086109}. Best is trial 10 with value: 0.95625.\n",
      "[I 2024-02-24 02:13:08,102] Trial 126 finished with value: 0.95625 and parameters: {'solver': 'lbfgs', 'penalty': 'l2', 'multi_class': 'ovr', 'C': 0.0014328457032481054}. Best is trial 10 with value: 0.95625.\n",
      "[I 2024-02-24 02:13:17,230] Trial 127 finished with value: 0.86875 and parameters: {'solver': 'liblinear', 'penalty': 'l2', 'multi_class': 'ovr', 'C': 0.0266249774190222}. Best is trial 10 with value: 0.95625.\n",
      "[I 2024-02-24 02:13:18,310] Trial 128 finished with value: 0.95625 and parameters: {'solver': 'lbfgs', 'penalty': 'l2', 'multi_class': 'ovr', 'C': 0.03945629664849151}. Best is trial 10 with value: 0.95625.\n",
      "[I 2024-02-24 02:13:26,050] Trial 129 finished with value: 0.95 and parameters: {'solver': 'newton-cg', 'penalty': 'l2', 'multi_class': 'ovr', 'C': 0.10142574534195241}. Best is trial 10 with value: 0.95625.\n",
      "[I 2024-02-24 02:13:27,139] Trial 130 finished with value: 0.953125 and parameters: {'solver': 'lbfgs', 'penalty': 'l2', 'multi_class': 'ovr', 'C': 0.0026384356250944542}. Best is trial 10 with value: 0.95625.\n",
      "[I 2024-02-24 02:13:28,216] Trial 131 finished with value: 0.95 and parameters: {'solver': 'lbfgs', 'penalty': 'l2', 'multi_class': 'ovr', 'C': 0.007292646792561803}. Best is trial 10 with value: 0.95625.\n",
      "[I 2024-02-24 02:13:29,297] Trial 132 finished with value: 0.95 and parameters: {'solver': 'lbfgs', 'penalty': 'l2', 'multi_class': 'ovr', 'C': 0.008830907110944156}. Best is trial 10 with value: 0.95625.\n",
      "[I 2024-02-24 02:13:30,365] Trial 133 finished with value: 0.95625 and parameters: {'solver': 'lbfgs', 'penalty': 'l2', 'multi_class': 'ovr', 'C': 0.004012350341128883}. Best is trial 10 with value: 0.95625.\n",
      "[I 2024-02-24 02:13:31,474] Trial 134 finished with value: 0.953125 and parameters: {'solver': 'lbfgs', 'penalty': 'l2', 'multi_class': 'ovr', 'C': 0.01645897243435756}. Best is trial 10 with value: 0.95625.\n",
      "[I 2024-02-24 02:13:32,559] Trial 135 finished with value: 0.95625 and parameters: {'solver': 'lbfgs', 'penalty': 'l2', 'multi_class': 'ovr', 'C': 0.013466534956093488}. Best is trial 10 with value: 0.95625.\n",
      "[I 2024-02-24 02:13:33,654] Trial 136 finished with value: 0.953125 and parameters: {'solver': 'lbfgs', 'penalty': 'l2', 'multi_class': 'ovr', 'C': 0.0020151479155627624}. Best is trial 10 with value: 0.95625.\n",
      "[I 2024-02-24 02:13:34,731] Trial 137 finished with value: 0.95625 and parameters: {'solver': 'lbfgs', 'penalty': 'l2', 'multi_class': 'ovr', 'C': 0.05661309381979347}. Best is trial 10 with value: 0.95625.\n",
      "[I 2024-02-24 02:13:35,818] Trial 138 finished with value: 0.946875 and parameters: {'solver': 'lbfgs', 'penalty': 'l2', 'multi_class': 'ovr', 'C': 0.7559862864040973}. Best is trial 10 with value: 0.95625.\n",
      "[I 2024-02-24 02:13:36,903] Trial 139 finished with value: 0.953125 and parameters: {'solver': 'lbfgs', 'penalty': 'l2', 'multi_class': 'ovr', 'C': 0.006937070569628781}. Best is trial 10 with value: 0.95625.\n",
      "[I 2024-02-24 02:13:37,890] Trial 140 finished with value: 0.803125 and parameters: {'solver': 'saga', 'penalty': 'l2', 'multi_class': 'ovr', 'C': 0.08321160328623628}. Best is trial 10 with value: 0.95625.\n",
      "[I 2024-02-24 02:13:38,977] Trial 141 finished with value: 0.953125 and parameters: {'solver': 'lbfgs', 'penalty': 'l2', 'multi_class': 'ovr', 'C': 0.16735609999108447}. Best is trial 10 with value: 0.95625.\n",
      "[I 2024-02-24 02:13:40,073] Trial 142 finished with value: 0.953125 and parameters: {'solver': 'lbfgs', 'penalty': 'l2', 'multi_class': 'ovr', 'C': 0.04646772520325745}. Best is trial 10 with value: 0.95625.\n",
      "[I 2024-02-24 02:13:41,179] Trial 143 finished with value: 0.953125 and parameters: {'solver': 'lbfgs', 'penalty': 'l2', 'multi_class': 'ovr', 'C': 0.026693504655328142}. Best is trial 10 with value: 0.95625.\n",
      "[I 2024-02-24 02:13:42,255] Trial 144 finished with value: 0.953125 and parameters: {'solver': 'lbfgs', 'penalty': 'l2', 'multi_class': 'ovr', 'C': 0.033789230098814536}. Best is trial 10 with value: 0.95625.\n",
      "[I 2024-02-24 02:13:49,253] Trial 145 finished with value: 0.94375 and parameters: {'solver': 'newton-cg', 'penalty': 'l2', 'multi_class': 'ovr', 'C': 1.3974403761587861}. Best is trial 10 with value: 0.95625.\n",
      "[I 2024-02-24 02:13:50,330] Trial 146 finished with value: 0.953125 and parameters: {'solver': 'lbfgs', 'penalty': 'l2', 'multi_class': 'ovr', 'C': 0.011031009892813363}. Best is trial 10 with value: 0.95625.\n",
      "[I 2024-02-24 02:13:51,435] Trial 147 finished with value: 0.953125 and parameters: {'solver': 'lbfgs', 'penalty': 'l2', 'multi_class': 'ovr', 'C': 0.005459747441188791}. Best is trial 10 with value: 0.95625.\n",
      "[I 2024-02-24 02:13:52,496] Trial 148 finished with value: 0.95 and parameters: {'solver': 'lbfgs', 'penalty': 'l2', 'multi_class': 'ovr', 'C': 0.020865792146312852}. Best is trial 10 with value: 0.95625.\n",
      "[I 2024-02-24 02:14:03,589] Trial 149 finished with value: 0.91875 and parameters: {'solver': 'liblinear', 'penalty': 'l2', 'multi_class': 'ovr', 'C': 0.31211569140085554}. Best is trial 10 with value: 0.95625.\n",
      "[I 2024-02-24 02:14:04,672] Trial 150 finished with value: 0.953125 and parameters: {'solver': 'lbfgs', 'penalty': 'l2', 'multi_class': 'ovr', 'C': 0.07159910775822924}. Best is trial 10 with value: 0.95625.\n",
      "[I 2024-02-24 02:14:05,754] Trial 151 finished with value: 0.95625 and parameters: {'solver': 'lbfgs', 'penalty': 'l2', 'multi_class': 'ovr', 'C': 0.0045561958814848555}. Best is trial 10 with value: 0.95625.\n",
      "[I 2024-02-24 02:14:06,823] Trial 152 finished with value: 0.953125 and parameters: {'solver': 'lbfgs', 'penalty': 'l2', 'multi_class': 'ovr', 'C': 0.0034551446412619514}. Best is trial 10 with value: 0.95625.\n",
      "[I 2024-02-24 02:14:07,892] Trial 153 finished with value: 0.95625 and parameters: {'solver': 'lbfgs', 'penalty': 'l2', 'multi_class': 'ovr', 'C': 0.0023509690541547966}. Best is trial 10 with value: 0.95625.\n",
      "[I 2024-02-24 02:14:08,971] Trial 154 finished with value: 0.953125 and parameters: {'solver': 'lbfgs', 'penalty': 'l2', 'multi_class': 'ovr', 'C': 0.008768112739709158}. Best is trial 10 with value: 0.95625.\n",
      "[I 2024-02-24 02:14:10,029] Trial 155 finished with value: 0.953125 and parameters: {'solver': 'lbfgs', 'penalty': 'l2', 'multi_class': 'ovr', 'C': 0.004959579356593027}. Best is trial 10 with value: 0.95625.\n",
      "[I 2024-02-24 02:14:11,159] Trial 156 finished with value: 0.95625 and parameters: {'solver': 'lbfgs', 'penalty': 'l2', 'multi_class': 'ovr', 'C': 0.0031602557935128898}. Best is trial 10 with value: 0.95625.\n",
      "[I 2024-02-24 02:14:20,000] Trial 157 finished with value: 0.95625 and parameters: {'solver': 'newton-cg', 'penalty': 'l2', 'multi_class': 'ovr', 'C': 0.014605215331044627}. Best is trial 10 with value: 0.95625.\n",
      "[I 2024-02-24 02:14:21,110] Trial 158 finished with value: 0.95 and parameters: {'solver': 'lbfgs', 'penalty': 'l2', 'multi_class': 'ovr', 'C': 0.11822735283654803}. Best is trial 10 with value: 0.95625.\n",
      "[I 2024-02-24 02:14:22,197] Trial 159 finished with value: 0.953125 and parameters: {'solver': 'lbfgs', 'penalty': 'l2', 'multi_class': 'ovr', 'C': 0.03893524072047661}. Best is trial 10 with value: 0.95625.\n",
      "[I 2024-02-24 02:14:23,287] Trial 160 finished with value: 0.95 and parameters: {'solver': 'lbfgs', 'penalty': 'l2', 'multi_class': 'ovr', 'C': 0.05666700745157123}. Best is trial 10 with value: 0.95625.\n",
      "[I 2024-02-24 02:14:24,367] Trial 161 finished with value: 0.95625 and parameters: {'solver': 'lbfgs', 'penalty': 'l2', 'multi_class': 'ovr', 'C': 0.007267546973715685}. Best is trial 10 with value: 0.95625.\n",
      "[I 2024-02-24 02:14:25,436] Trial 162 finished with value: 0.953125 and parameters: {'solver': 'lbfgs', 'penalty': 'l2', 'multi_class': 'ovr', 'C': 0.011268400583449233}. Best is trial 10 with value: 0.95625.\n",
      "[I 2024-02-24 02:14:26,501] Trial 163 finished with value: 0.953125 and parameters: {'solver': 'lbfgs', 'penalty': 'l2', 'multi_class': 'ovr', 'C': 0.02013284376442472}. Best is trial 10 with value: 0.95625.\n",
      "[I 2024-02-24 02:14:27,591] Trial 164 finished with value: 0.95625 and parameters: {'solver': 'lbfgs', 'penalty': 'l2', 'multi_class': 'ovr', 'C': 0.22845822928539627}. Best is trial 10 with value: 0.95625.\n",
      "[I 2024-02-24 02:14:28,668] Trial 165 finished with value: 0.95625 and parameters: {'solver': 'lbfgs', 'penalty': 'l2', 'multi_class': 'ovr', 'C': 0.006232673168419991}. Best is trial 10 with value: 0.95625.\n",
      "[I 2024-02-24 02:14:29,755] Trial 166 finished with value: 0.953125 and parameters: {'solver': 'lbfgs', 'penalty': 'l2', 'multi_class': 'ovr', 'C': 0.026496011798543415}. Best is trial 10 with value: 0.95625.\n",
      "[I 2024-02-24 02:14:30,865] Trial 167 finished with value: 0.953125 and parameters: {'solver': 'lbfgs', 'penalty': 'l2', 'multi_class': 'ovr', 'C': 0.01460265793444896}. Best is trial 10 with value: 0.95625.\n",
      "[I 2024-02-24 02:14:31,852] Trial 168 finished with value: 0.803125 and parameters: {'solver': 'saga', 'penalty': 'l2', 'multi_class': 'ovr', 'C': 0.04457449738513886}. Best is trial 10 with value: 0.95625.\n",
      "[I 2024-02-24 02:14:32,942] Trial 169 finished with value: 0.953125 and parameters: {'solver': 'lbfgs', 'penalty': 'l2', 'multi_class': 'ovr', 'C': 0.010052465883867708}. Best is trial 10 with value: 0.95625.\n",
      "[I 2024-02-24 02:14:34,020] Trial 170 finished with value: 0.953125 and parameters: {'solver': 'lbfgs', 'penalty': 'l2', 'multi_class': 'ovr', 'C': 0.004101542156936289}. Best is trial 10 with value: 0.95625.\n",
      "[I 2024-02-24 02:14:35,108] Trial 171 finished with value: 0.95625 and parameters: {'solver': 'lbfgs', 'penalty': 'l2', 'multi_class': 'ovr', 'C': 0.0028397117469509438}. Best is trial 10 with value: 0.95625.\n",
      "[I 2024-02-24 02:14:36,179] Trial 172 finished with value: 0.953125 and parameters: {'solver': 'lbfgs', 'penalty': 'l2', 'multi_class': 'ovr', 'C': 0.0016150813064201254}. Best is trial 10 with value: 0.95625.\n",
      "[I 2024-02-24 02:14:37,266] Trial 173 finished with value: 0.95 and parameters: {'solver': 'lbfgs', 'penalty': 'l2', 'multi_class': 'ovr', 'C': 0.09007190442069}. Best is trial 10 with value: 0.95625.\n",
      "[I 2024-02-24 02:14:38,342] Trial 174 finished with value: 0.953125 and parameters: {'solver': 'lbfgs', 'penalty': 'l2', 'multi_class': 'ovr', 'C': 0.0053425253441284}. Best is trial 10 with value: 0.95625.\n",
      "[I 2024-02-24 02:14:47,410] Trial 175 finished with value: 0.95625 and parameters: {'solver': 'newton-cg', 'penalty': 'l2', 'multi_class': 'ovr', 'C': 0.0029039382898486945}. Best is trial 10 with value: 0.95625.\n",
      "[I 2024-02-24 02:14:48,503] Trial 176 finished with value: 0.953125 and parameters: {'solver': 'lbfgs', 'penalty': 'l2', 'multi_class': 'ovr', 'C': 0.001906853285904007}. Best is trial 10 with value: 0.95625.\n",
      "[I 2024-02-24 02:14:49,580] Trial 177 finished with value: 0.95625 and parameters: {'solver': 'lbfgs', 'penalty': 'l2', 'multi_class': 'ovr', 'C': 0.03020597960134773}. Best is trial 10 with value: 0.95625.\n",
      "[I 2024-02-24 02:14:50,666] Trial 178 finished with value: 0.953125 and parameters: {'solver': 'lbfgs', 'penalty': 'l2', 'multi_class': 'ovr', 'C': 0.017734060123897156}. Best is trial 10 with value: 0.95625.\n",
      "[I 2024-02-24 02:14:57,331] Trial 179 finished with value: 0.8125 and parameters: {'solver': 'liblinear', 'penalty': 'l2', 'multi_class': 'ovr', 'C': 0.004074980813128631}. Best is trial 10 with value: 0.95625.\n",
      "[I 2024-02-24 02:14:58,405] Trial 180 finished with value: 0.95625 and parameters: {'solver': 'lbfgs', 'penalty': 'l2', 'multi_class': 'ovr', 'C': 0.008711332674530855}. Best is trial 10 with value: 0.95625.\n",
      "[I 2024-02-24 02:14:59,472] Trial 181 finished with value: 0.953125 and parameters: {'solver': 'lbfgs', 'penalty': 'l2', 'multi_class': 'ovr', 'C': 0.006832012106626486}. Best is trial 10 with value: 0.95625.\n",
      "[I 2024-02-24 02:15:00,550] Trial 182 finished with value: 0.95625 and parameters: {'solver': 'lbfgs', 'penalty': 'l2', 'multi_class': 'ovr', 'C': 0.012457237860278471}. Best is trial 10 with value: 0.95625.\n",
      "[I 2024-02-24 02:15:01,631] Trial 183 finished with value: 0.95625 and parameters: {'solver': 'lbfgs', 'penalty': 'l2', 'multi_class': 'ovr', 'C': 0.0023403836242283766}. Best is trial 10 with value: 0.95625.\n",
      "[I 2024-02-24 02:15:02,708] Trial 184 finished with value: 0.95 and parameters: {'solver': 'lbfgs', 'penalty': 'l2', 'multi_class': 'ovr', 'C': 0.008283269835896999}. Best is trial 10 with value: 0.95625.\n",
      "[I 2024-02-24 02:15:03,794] Trial 185 finished with value: 0.95 and parameters: {'solver': 'lbfgs', 'penalty': 'l2', 'multi_class': 'ovr', 'C': 0.1404523241678992}. Best is trial 10 with value: 0.95625.\n",
      "[I 2024-02-24 02:15:04,865] Trial 186 finished with value: 0.95625 and parameters: {'solver': 'lbfgs', 'penalty': 'l2', 'multi_class': 'ovr', 'C': 0.005074691680423975}. Best is trial 10 with value: 0.95625.\n",
      "[I 2024-02-24 02:15:05,951] Trial 187 finished with value: 0.95 and parameters: {'solver': 'lbfgs', 'penalty': 'l2', 'multi_class': 'ovr', 'C': 0.06275029766616527}. Best is trial 10 with value: 0.95625.\n",
      "[I 2024-02-24 02:15:06,825] Trial 188 finished with value: 0.8375 and parameters: {'solver': 'lbfgs', 'penalty': 'l2', 'multi_class': 'ovr', 'C': 872.9057166110603}. Best is trial 10 with value: 0.95625.\n",
      "[I 2024-02-24 02:15:07,904] Trial 189 finished with value: 0.95625 and parameters: {'solver': 'lbfgs', 'penalty': 'l2', 'multi_class': 'ovr', 'C': 0.023228409864133593}. Best is trial 10 with value: 0.95625.\n",
      "[I 2024-02-24 02:15:16,685] Trial 190 finished with value: 0.95625 and parameters: {'solver': 'newton-cg', 'penalty': 'l2', 'multi_class': 'ovr', 'C': 0.003650110239259103}. Best is trial 10 with value: 0.95625.\n",
      "[I 2024-02-24 02:15:17,896] Trial 191 finished with value: 0.95625 and parameters: {'solver': 'lbfgs', 'penalty': 'l2', 'multi_class': 'ovr', 'C': 0.00301001047562406}. Best is trial 10 with value: 0.95625.\n",
      "[I 2024-02-24 02:15:19,062] Trial 192 finished with value: 0.95625 and parameters: {'solver': 'lbfgs', 'penalty': 'l2', 'multi_class': 'ovr', 'C': 0.006366403190883345}. Best is trial 10 with value: 0.95625.\n",
      "[I 2024-02-24 02:15:20,123] Trial 193 finished with value: 0.953125 and parameters: {'solver': 'lbfgs', 'penalty': 'l2', 'multi_class': 'ovr', 'C': 0.0025150365019200867}. Best is trial 10 with value: 0.95625.\n",
      "[I 2024-02-24 02:15:21,233] Trial 194 finished with value: 0.953125 and parameters: {'solver': 'lbfgs', 'penalty': 'l2', 'multi_class': 'ovr', 'C': 0.0014051035378320352}. Best is trial 10 with value: 0.95625.\n",
      "[I 2024-02-24 02:15:22,305] Trial 195 finished with value: 0.95625 and parameters: {'solver': 'lbfgs', 'penalty': 'l2', 'multi_class': 'ovr', 'C': 0.004326063810193293}. Best is trial 10 with value: 0.95625.\n",
      "[I 2024-02-24 02:15:23,394] Trial 196 finished with value: 0.953125 and parameters: {'solver': 'lbfgs', 'penalty': 'l2', 'multi_class': 'ovr', 'C': 0.03511338698840831}. Best is trial 10 with value: 0.95625.\n",
      "[I 2024-02-24 02:15:24,464] Trial 197 finished with value: 0.95625 and parameters: {'solver': 'lbfgs', 'penalty': 'l2', 'multi_class': 'ovr', 'C': 0.010569983484090259}. Best is trial 10 with value: 0.95625.\n",
      "[I 2024-02-24 02:15:25,542] Trial 198 finished with value: 0.953125 and parameters: {'solver': 'lbfgs', 'penalty': 'l2', 'multi_class': 'ovr', 'C': 0.015548380738181376}. Best is trial 10 with value: 0.95625.\n",
      "[I 2024-02-24 02:15:26,560] Trial 199 finished with value: 0.80625 and parameters: {'solver': 'saga', 'penalty': 'l2', 'multi_class': 'ovr', 'C': 0.0019154720979694681}. Best is trial 10 with value: 0.95625.\n"
     ]
    },
    {
     "name": "stdout",
     "output_type": "stream",
     "text": [
      "Best params found : {'solver': 'lbfgs', 'penalty': 'l2', 'multi_class': 'ovr', 'C': 0.15716625446721771}\n",
      "accuracy: 1.0\n",
      "recall: 1.0\n",
      "precision: 1.0\n",
      "f1-score: 1.0\n",
      "roc_auc:  1.0\n"
     ]
    }
   ],
   "source": [
    "study = optuna.create_study(direction = 'maximize')\n",
    "study.optimize(objective, n_trials = 200)\n",
    "best_params = study.best_params\n",
    "print(\"Best params found :\", best_params)\n",
    "\n",
    "final_model = LogisticRegression(**best_params)\n",
    "final_model.fit(X_train_reduced, y_train)\n",
    "y_pred = final_model.predict(X_test_reduced)\n",
    "prediction_results['logistic regression'] = y_pred \n",
    "\n",
    "accuracy = accuracy_score(y_test, y_pred)\n",
    "precision = precision_score(y_test, y_pred, average='macro')\n",
    "recall = recall_score(y_test, y_pred, average='macro')\n",
    "f1 = f1_score(y_test, y_pred, average='macro')\n",
    "\n",
    "# One-hot encoding for probability calculation (adapt if necessary)\n",
    "y_test_onehot = pd.get_dummies(y_test, prefix='label_')  # Assuming 'label_' prefix for clarity\n",
    "y_pred_onehot = pd.get_dummies(y_pred, prefix='label_')\n",
    "\n",
    "# ROC AUC score with multiclass handling\n",
    "roc_auc_macro = roc_auc_score(y_test_onehot, y_pred_onehot, average='macro', multi_class='ovo')  # Specify 'ovo' or 'ovr'\n",
    "\n",
    "print(\"accuracy:\", accuracy)\n",
    "print(\"recall:\", recall)\n",
    "print(\"precision:\", precision)\n",
    "print(\"f1-score:\", f1)\n",
    "print('roc_auc: ', roc_auc_macro)"
   ]
  },
  {
   "cell_type": "code",
   "execution_count": 24,
   "id": "db155ee7",
   "metadata": {
    "execution": {
     "iopub.execute_input": "2024-02-24T02:15:27.280316Z",
     "iopub.status.busy": "2024-02-24T02:15:27.280048Z",
     "iopub.status.idle": "2024-02-24T02:15:27.283819Z",
     "shell.execute_reply": "2024-02-24T02:15:27.283098Z"
    },
    "papermill": {
     "duration": 0.047328,
     "end_time": "2024-02-24T02:15:27.285167",
     "exception": false,
     "start_time": "2024-02-24T02:15:27.237839",
     "status": "completed"
    },
    "tags": []
   },
   "outputs": [],
   "source": [
    "# lr = LogisticRegression(multi_class='ovr', solver='liblinear')\n",
    "# lr.fit(X_train_reduced, y_train)\n",
    "# y_pred = lr.predict(X_test_reduced)"
   ]
  },
  {
   "cell_type": "markdown",
   "id": "9053fe5d",
   "metadata": {
    "papermill": {
     "duration": 0.033483,
     "end_time": "2024-02-24T02:15:27.351951",
     "exception": false,
     "start_time": "2024-02-24T02:15:27.318468",
     "status": "completed"
    },
    "tags": []
   },
   "source": [
    "# KNN Classifier"
   ]
  },
  {
   "cell_type": "markdown",
   "id": "bc6f68f1",
   "metadata": {
    "papermill": {
     "duration": 0.032803,
     "end_time": "2024-02-24T02:15:27.417890",
     "exception": false,
     "start_time": "2024-02-24T02:15:27.385087",
     "status": "completed"
    },
    "tags": []
   },
   "source": [
    "**Normal**"
   ]
  },
  {
   "cell_type": "code",
   "execution_count": 25,
   "id": "2badf3d3",
   "metadata": {
    "execution": {
     "iopub.execute_input": "2024-02-24T02:15:27.485627Z",
     "iopub.status.busy": "2024-02-24T02:15:27.485329Z",
     "iopub.status.idle": "2024-02-24T02:15:27.563240Z",
     "shell.execute_reply": "2024-02-24T02:15:27.562610Z"
    },
    "papermill": {
     "duration": 0.113971,
     "end_time": "2024-02-24T02:15:27.565070",
     "exception": false,
     "start_time": "2024-02-24T02:15:27.451099",
     "status": "completed"
    },
    "tags": []
   },
   "outputs": [
    {
     "name": "stdout",
     "output_type": "stream",
     "text": [
      "accuracy: 0.9125\n",
      "recall: 0.9375\n",
      "precision: 0.9143518518518517\n",
      "f1-score: 0.9068783068783068\n"
     ]
    }
   ],
   "source": [
    "from sklearn.neighbors import KNeighborsClassifier\n",
    "\n",
    "knn = KNeighborsClassifier()\n",
    "knn.fit(X_train_reduced, y_train)\n",
    "y_pred = knn.predict(X_test_reduced)\n",
    "\n",
    "accuracy = accuracy_score(y_test, y_pred)\n",
    "precision = precision_score(y_test, y_pred, average='macro')\n",
    "recall = recall_score(y_test, y_pred, average='macro')\n",
    "f1 = f1_score(y_test, y_pred, average='macro')\n",
    "\n",
    "# # One-hot encoding for probability calculation (adapt if necessary)\n",
    "# y_test_onehot = pd.get_dummies(y_test, prefix='label_')  # Assuming 'label_' prefix for clarity\n",
    "# y_pred_onehot = pd.get_dummies(y_pred, prefix='label_')\n",
    "\n",
    "# # ROC AUC score with multiclass handling\n",
    "# roc_auc_macro = roc_auc_score(y_test_onehot, y_pred_onehot, average='macro', multi_class='ovo')  # Specify 'ovo' or 'ovr'\n",
    "\n",
    "print(\"accuracy:\", accuracy)\n",
    "print(\"recall:\", recall)\n",
    "print(\"precision:\", precision)\n",
    "print(\"f1-score:\", f1)\n",
    "# print('roc_auc: ', roc_auc_macro)\n"
   ]
  },
  {
   "cell_type": "markdown",
   "id": "0b8d0a2e",
   "metadata": {
    "papermill": {
     "duration": 0.040661,
     "end_time": "2024-02-24T02:15:27.649831",
     "exception": false,
     "start_time": "2024-02-24T02:15:27.609170",
     "status": "completed"
    },
    "tags": []
   },
   "source": [
    "**Tunning**"
   ]
  },
  {
   "cell_type": "code",
   "execution_count": 26,
   "id": "d290a64c",
   "metadata": {
    "execution": {
     "iopub.execute_input": "2024-02-24T02:15:27.717494Z",
     "iopub.status.busy": "2024-02-24T02:15:27.717201Z",
     "iopub.status.idle": "2024-02-24T02:15:27.722722Z",
     "shell.execute_reply": "2024-02-24T02:15:27.722134Z"
    },
    "papermill": {
     "duration": 0.041326,
     "end_time": "2024-02-24T02:15:27.724271",
     "exception": false,
     "start_time": "2024-02-24T02:15:27.682945",
     "status": "completed"
    },
    "tags": []
   },
   "outputs": [],
   "source": [
    "import optuna\n",
    "from sklearn.model_selection import cross_val_score\n",
    "import warnings\n",
    "warnings.filterwarnings('ignore')\n",
    "\n",
    "def objective(trial):\n",
    "    hyperparams = {\n",
    "        'n_neighbors': trial.suggest_int(\"n_neighbors\", 5, 100),\n",
    "        'weights' : trial.suggest_categorical(\"weights\", [\"uniform\", \"distance\"]),\n",
    "        'metric' : trial.suggest_categorical(\"metric\", [\"euclidean\", \"manhattan\", \"minkowski\"]),\n",
    "        'algorithm':trial.suggest_categorical('algorithm',['auto', 'ball_tree', 'kd_tree', 'brute']),\n",
    "        'n_jobs': -1\n",
    "    }\n",
    "    \n",
    "    # Create KNN model with tuned hyperparameters\n",
    "    model = KNeighborsClassifier(**hyperparams)\n",
    "    scores = cross_val_score(model, X_train_reduced, y_train, cv = kf,scoring = 'accuracy')\n",
    "    return np.mean(scores)"
   ]
  },
  {
   "cell_type": "code",
   "execution_count": 27,
   "id": "1ec93f19",
   "metadata": {
    "execution": {
     "iopub.execute_input": "2024-02-24T02:15:27.792761Z",
     "iopub.status.busy": "2024-02-24T02:15:27.791986Z",
     "iopub.status.idle": "2024-02-24T02:15:39.468809Z",
     "shell.execute_reply": "2024-02-24T02:15:39.467953Z"
    },
    "papermill": {
     "duration": 11.712768,
     "end_time": "2024-02-24T02:15:39.470724",
     "exception": false,
     "start_time": "2024-02-24T02:15:27.757956",
     "status": "completed"
    },
    "tags": []
   },
   "outputs": [
    {
     "name": "stderr",
     "output_type": "stream",
     "text": [
      "[I 2024-02-24 02:15:27,796] A new study created in memory with name: no-name-1188692c-4f00-464c-8d02-7cb069431ec9\n",
      "[I 2024-02-24 02:15:27,878] Trial 0 finished with value: 0.571875 and parameters: {'n_neighbors': 98, 'weights': 'distance', 'metric': 'minkowski', 'algorithm': 'kd_tree'}. Best is trial 0 with value: 0.571875.\n",
      "[I 2024-02-24 02:15:27,910] Trial 1 finished with value: 0.0875 and parameters: {'n_neighbors': 65, 'weights': 'uniform', 'metric': 'minkowski', 'algorithm': 'brute'}. Best is trial 0 with value: 0.571875.\n",
      "[I 2024-02-24 02:15:27,996] Trial 2 finished with value: 0.153125 and parameters: {'n_neighbors': 53, 'weights': 'uniform', 'metric': 'minkowski', 'algorithm': 'kd_tree'}. Best is trial 0 with value: 0.571875.\n",
      "[I 2024-02-24 02:15:28,087] Trial 3 finished with value: 0.071875 and parameters: {'n_neighbors': 80, 'weights': 'uniform', 'metric': 'euclidean', 'algorithm': 'kd_tree'}. Best is trial 0 with value: 0.571875.\n",
      "[I 2024-02-24 02:15:28,108] Trial 4 finished with value: 0.715625 and parameters: {'n_neighbors': 16, 'weights': 'distance', 'metric': 'euclidean', 'algorithm': 'auto'}. Best is trial 4 with value: 0.715625.\n",
      "[I 2024-02-24 02:15:28,136] Trial 5 finished with value: 0.521875 and parameters: {'n_neighbors': 18, 'weights': 'uniform', 'metric': 'minkowski', 'algorithm': 'auto'}. Best is trial 4 with value: 0.715625.\n",
      "[I 2024-02-24 02:15:28,227] Trial 6 finished with value: 0.059375 and parameters: {'n_neighbors': 94, 'weights': 'uniform', 'metric': 'euclidean', 'algorithm': 'kd_tree'}. Best is trial 4 with value: 0.715625.\n",
      "[I 2024-02-24 02:15:28,315] Trial 7 finished with value: 0.140625 and parameters: {'n_neighbors': 67, 'weights': 'uniform', 'metric': 'manhattan', 'algorithm': 'ball_tree'}. Best is trial 4 with value: 0.715625.\n",
      "[I 2024-02-24 02:15:28,341] Trial 8 finished with value: 0.571875 and parameters: {'n_neighbors': 92, 'weights': 'distance', 'metric': 'minkowski', 'algorithm': 'auto'}. Best is trial 4 with value: 0.715625.\n",
      "[I 2024-02-24 02:15:28,372] Trial 9 finished with value: 0.071875 and parameters: {'n_neighbors': 80, 'weights': 'uniform', 'metric': 'euclidean', 'algorithm': 'brute'}. Best is trial 4 with value: 0.715625.\n",
      "[I 2024-02-24 02:15:28,399] Trial 10 finished with value: 0.828125 and parameters: {'n_neighbors': 7, 'weights': 'distance', 'metric': 'manhattan', 'algorithm': 'auto'}. Best is trial 10 with value: 0.828125.\n",
      "[I 2024-02-24 02:15:28,425] Trial 11 finished with value: 0.85625 and parameters: {'n_neighbors': 5, 'weights': 'distance', 'metric': 'manhattan', 'algorithm': 'auto'}. Best is trial 11 with value: 0.85625.\n",
      "[I 2024-02-24 02:15:28,452] Trial 12 finished with value: 0.83125 and parameters: {'n_neighbors': 6, 'weights': 'distance', 'metric': 'manhattan', 'algorithm': 'auto'}. Best is trial 11 with value: 0.85625.\n",
      "[I 2024-02-24 02:15:28,481] Trial 13 finished with value: 0.66875 and parameters: {'n_neighbors': 32, 'weights': 'distance', 'metric': 'manhattan', 'algorithm': 'auto'}. Best is trial 11 with value: 0.85625.\n",
      "[I 2024-02-24 02:15:28,565] Trial 14 finished with value: 0.6625 and parameters: {'n_neighbors': 33, 'weights': 'distance', 'metric': 'manhattan', 'algorithm': 'ball_tree'}. Best is trial 11 with value: 0.85625.\n",
      "[I 2024-02-24 02:15:28,600] Trial 15 finished with value: 0.85625 and parameters: {'n_neighbors': 5, 'weights': 'distance', 'metric': 'manhattan', 'algorithm': 'auto'}. Best is trial 11 with value: 0.85625.\n",
      "[I 2024-02-24 02:15:28,631] Trial 16 finished with value: 0.6625 and parameters: {'n_neighbors': 33, 'weights': 'distance', 'metric': 'manhattan', 'algorithm': 'auto'}. Best is trial 11 with value: 0.85625.\n",
      "[I 2024-02-24 02:15:28,661] Trial 17 finished with value: 0.678125 and parameters: {'n_neighbors': 22, 'weights': 'distance', 'metric': 'manhattan', 'algorithm': 'auto'}. Best is trial 11 with value: 0.85625.\n",
      "[I 2024-02-24 02:15:28,749] Trial 18 finished with value: 0.6125 and parameters: {'n_neighbors': 43, 'weights': 'distance', 'metric': 'manhattan', 'algorithm': 'ball_tree'}. Best is trial 11 with value: 0.85625.\n",
      "[I 2024-02-24 02:15:28,779] Trial 19 finished with value: 0.753125 and parameters: {'n_neighbors': 13, 'weights': 'distance', 'metric': 'manhattan', 'algorithm': 'brute'}. Best is trial 11 with value: 0.85625.\n",
      "[I 2024-02-24 02:15:28,810] Trial 20 finished with value: 0.6625 and parameters: {'n_neighbors': 27, 'weights': 'distance', 'metric': 'manhattan', 'algorithm': 'auto'}. Best is trial 11 with value: 0.85625.\n",
      "[I 2024-02-24 02:15:28,838] Trial 21 finished with value: 0.85625 and parameters: {'n_neighbors': 5, 'weights': 'distance', 'metric': 'manhattan', 'algorithm': 'auto'}. Best is trial 11 with value: 0.85625.\n",
      "[I 2024-02-24 02:15:28,866] Trial 22 finished with value: 0.83125 and parameters: {'n_neighbors': 6, 'weights': 'distance', 'metric': 'manhattan', 'algorithm': 'auto'}. Best is trial 11 with value: 0.85625.\n",
      "[I 2024-02-24 02:15:28,895] Trial 23 finished with value: 0.753125 and parameters: {'n_neighbors': 13, 'weights': 'distance', 'metric': 'manhattan', 'algorithm': 'auto'}. Best is trial 11 with value: 0.85625.\n",
      "[I 2024-02-24 02:15:28,925] Trial 24 finished with value: 0.66875 and parameters: {'n_neighbors': 25, 'weights': 'distance', 'metric': 'manhattan', 'algorithm': 'auto'}. Best is trial 11 with value: 0.85625.\n",
      "[I 2024-02-24 02:15:28,957] Trial 25 finished with value: 0.59375 and parameters: {'n_neighbors': 46, 'weights': 'distance', 'metric': 'manhattan', 'algorithm': 'auto'}. Best is trial 11 with value: 0.85625.\n",
      "[I 2024-02-24 02:15:28,987] Trial 26 finished with value: 0.7625 and parameters: {'n_neighbors': 12, 'weights': 'distance', 'metric': 'manhattan', 'algorithm': 'auto'}. Best is trial 11 with value: 0.85625.\n",
      "[I 2024-02-24 02:15:29,018] Trial 27 finished with value: 0.684375 and parameters: {'n_neighbors': 21, 'weights': 'distance', 'metric': 'manhattan', 'algorithm': 'brute'}. Best is trial 11 with value: 0.85625.\n",
      "[I 2024-02-24 02:15:29,106] Trial 28 finished with value: 0.63125 and parameters: {'n_neighbors': 40, 'weights': 'distance', 'metric': 'euclidean', 'algorithm': 'ball_tree'}. Best is trial 11 with value: 0.85625.\n",
      "[I 2024-02-24 02:15:29,187] Trial 29 finished with value: 0.85625 and parameters: {'n_neighbors': 5, 'weights': 'distance', 'metric': 'manhattan', 'algorithm': 'kd_tree'}. Best is trial 11 with value: 0.85625.\n",
      "[I 2024-02-24 02:15:29,216] Trial 30 finished with value: 0.6125 and parameters: {'n_neighbors': 53, 'weights': 'distance', 'metric': 'minkowski', 'algorithm': 'auto'}. Best is trial 11 with value: 0.85625.\n",
      "[I 2024-02-24 02:15:29,300] Trial 31 finished with value: 0.83125 and parameters: {'n_neighbors': 6, 'weights': 'distance', 'metric': 'manhattan', 'algorithm': 'kd_tree'}. Best is trial 11 with value: 0.85625.\n",
      "[I 2024-02-24 02:15:29,381] Trial 32 finished with value: 0.7625 and parameters: {'n_neighbors': 12, 'weights': 'distance', 'metric': 'manhattan', 'algorithm': 'kd_tree'}. Best is trial 11 with value: 0.85625.\n",
      "[I 2024-02-24 02:15:29,465] Trial 33 finished with value: 0.85625 and parameters: {'n_neighbors': 5, 'weights': 'distance', 'metric': 'manhattan', 'algorithm': 'kd_tree'}. Best is trial 11 with value: 0.85625.\n",
      "[I 2024-02-24 02:15:29,548] Trial 34 finished with value: 0.709375 and parameters: {'n_neighbors': 18, 'weights': 'distance', 'metric': 'manhattan', 'algorithm': 'kd_tree'}. Best is trial 11 with value: 0.85625.\n",
      "[I 2024-02-24 02:15:29,630] Trial 35 finished with value: 0.771875 and parameters: {'n_neighbors': 11, 'weights': 'distance', 'metric': 'minkowski', 'algorithm': 'kd_tree'}. Best is trial 11 with value: 0.85625.\n",
      "[I 2024-02-24 02:15:29,675] Trial 36 finished with value: 0.15625 and parameters: {'n_neighbors': 62, 'weights': 'uniform', 'metric': 'manhattan', 'algorithm': 'brute'}. Best is trial 11 with value: 0.85625.\n",
      "[I 2024-02-24 02:15:29,757] Trial 37 finished with value: 0.709375 and parameters: {'n_neighbors': 18, 'weights': 'distance', 'metric': 'euclidean', 'algorithm': 'kd_tree'}. Best is trial 11 with value: 0.85625.\n",
      "[I 2024-02-24 02:15:29,797] Trial 38 finished with value: 0.40625 and parameters: {'n_neighbors': 26, 'weights': 'uniform', 'metric': 'minkowski', 'algorithm': 'auto'}. Best is trial 11 with value: 0.85625.\n",
      "[I 2024-02-24 02:15:29,880] Trial 39 finished with value: 0.73125 and parameters: {'n_neighbors': 15, 'weights': 'distance', 'metric': 'manhattan', 'algorithm': 'kd_tree'}. Best is trial 11 with value: 0.85625.\n",
      "[I 2024-02-24 02:15:29,917] Trial 40 finished with value: 0.653125 and parameters: {'n_neighbors': 9, 'weights': 'uniform', 'metric': 'euclidean', 'algorithm': 'auto'}. Best is trial 11 with value: 0.85625.\n",
      "[I 2024-02-24 02:15:30,002] Trial 41 finished with value: 0.85625 and parameters: {'n_neighbors': 5, 'weights': 'distance', 'metric': 'manhattan', 'algorithm': 'kd_tree'}. Best is trial 11 with value: 0.85625.\n",
      "[I 2024-02-24 02:15:30,085] Trial 42 finished with value: 0.709375 and parameters: {'n_neighbors': 18, 'weights': 'distance', 'metric': 'manhattan', 'algorithm': 'kd_tree'}. Best is trial 11 with value: 0.85625.\n",
      "[I 2024-02-24 02:15:30,168] Trial 43 finished with value: 0.85625 and parameters: {'n_neighbors': 5, 'weights': 'distance', 'metric': 'manhattan', 'algorithm': 'kd_tree'}. Best is trial 11 with value: 0.85625.\n",
      "[I 2024-02-24 02:15:30,252] Trial 44 finished with value: 0.784375 and parameters: {'n_neighbors': 10, 'weights': 'distance', 'metric': 'manhattan', 'algorithm': 'kd_tree'}. Best is trial 11 with value: 0.85625.\n",
      "[I 2024-02-24 02:15:30,334] Trial 45 finished with value: 0.678125 and parameters: {'n_neighbors': 22, 'weights': 'distance', 'metric': 'manhattan', 'algorithm': 'ball_tree'}. Best is trial 11 with value: 0.85625.\n",
      "[I 2024-02-24 02:15:30,374] Trial 46 finished with value: 0.065625 and parameters: {'n_neighbors': 82, 'weights': 'uniform', 'metric': 'minkowski', 'algorithm': 'auto'}. Best is trial 11 with value: 0.85625.\n",
      "[I 2024-02-24 02:15:30,457] Trial 47 finished with value: 0.725 and parameters: {'n_neighbors': 16, 'weights': 'distance', 'metric': 'manhattan', 'algorithm': 'kd_tree'}. Best is trial 11 with value: 0.85625.\n",
      "[I 2024-02-24 02:15:30,497] Trial 48 finished with value: 0.66875 and parameters: {'n_neighbors': 30, 'weights': 'distance', 'metric': 'manhattan', 'algorithm': 'auto'}. Best is trial 11 with value: 0.85625.\n",
      "[I 2024-02-24 02:15:30,527] Trial 49 finished with value: 0.6125 and parameters: {'n_neighbors': 60, 'weights': 'distance', 'metric': 'euclidean', 'algorithm': 'brute'}. Best is trial 11 with value: 0.85625.\n",
      "[I 2024-02-24 02:15:30,564] Trial 50 finished with value: 0.784375 and parameters: {'n_neighbors': 10, 'weights': 'distance', 'metric': 'manhattan', 'algorithm': 'auto'}. Best is trial 11 with value: 0.85625.\n",
      "[I 2024-02-24 02:15:30,647] Trial 51 finished with value: 0.85625 and parameters: {'n_neighbors': 5, 'weights': 'distance', 'metric': 'manhattan', 'algorithm': 'kd_tree'}. Best is trial 11 with value: 0.85625.\n",
      "[I 2024-02-24 02:15:30,732] Trial 52 finished with value: 0.778125 and parameters: {'n_neighbors': 9, 'weights': 'distance', 'metric': 'manhattan', 'algorithm': 'kd_tree'}. Best is trial 11 with value: 0.85625.\n",
      "[I 2024-02-24 02:15:30,824] Trial 53 finished with value: 0.85625 and parameters: {'n_neighbors': 5, 'weights': 'distance', 'metric': 'manhattan', 'algorithm': 'kd_tree'}. Best is trial 11 with value: 0.85625.\n",
      "[I 2024-02-24 02:15:30,911] Trial 54 finished with value: 0.53125 and parameters: {'n_neighbors': 100, 'weights': 'distance', 'metric': 'manhattan', 'algorithm': 'kd_tree'}. Best is trial 11 with value: 0.85625.\n",
      "[I 2024-02-24 02:15:30,995] Trial 55 finished with value: 0.73125 and parameters: {'n_neighbors': 15, 'weights': 'distance', 'metric': 'manhattan', 'algorithm': 'kd_tree'}. Best is trial 11 with value: 0.85625.\n",
      "[I 2024-02-24 02:15:31,078] Trial 56 finished with value: 0.778125 and parameters: {'n_neighbors': 9, 'weights': 'distance', 'metric': 'manhattan', 'algorithm': 'ball_tree'}. Best is trial 11 with value: 0.85625.\n",
      "[I 2024-02-24 02:15:31,124] Trial 57 finished with value: 0.125 and parameters: {'n_neighbors': 73, 'weights': 'uniform', 'metric': 'manhattan', 'algorithm': 'auto'}. Best is trial 11 with value: 0.85625.\n",
      "[I 2024-02-24 02:15:31,156] Trial 58 finished with value: 0.684375 and parameters: {'n_neighbors': 21, 'weights': 'distance', 'metric': 'manhattan', 'algorithm': 'auto'}. Best is trial 11 with value: 0.85625.\n",
      "[I 2024-02-24 02:15:31,243] Trial 59 finished with value: 0.6375 and parameters: {'n_neighbors': 37, 'weights': 'distance', 'metric': 'manhattan', 'algorithm': 'kd_tree'}. Best is trial 11 with value: 0.85625.\n",
      "[I 2024-02-24 02:15:31,285] Trial 60 finished with value: 0.8 and parameters: {'n_neighbors': 8, 'weights': 'distance', 'metric': 'minkowski', 'algorithm': 'auto'}. Best is trial 11 with value: 0.85625.\n",
      "[I 2024-02-24 02:15:31,370] Trial 61 finished with value: 0.85625 and parameters: {'n_neighbors': 5, 'weights': 'distance', 'metric': 'manhattan', 'algorithm': 'kd_tree'}. Best is trial 11 with value: 0.85625.\n",
      "[I 2024-02-24 02:15:31,457] Trial 62 finished with value: 0.7375 and parameters: {'n_neighbors': 14, 'weights': 'distance', 'metric': 'manhattan', 'algorithm': 'kd_tree'}. Best is trial 11 with value: 0.85625.\n",
      "[I 2024-02-24 02:15:31,542] Trial 63 finished with value: 0.85625 and parameters: {'n_neighbors': 5, 'weights': 'distance', 'metric': 'manhattan', 'algorithm': 'kd_tree'}. Best is trial 11 with value: 0.85625.\n",
      "[I 2024-02-24 02:15:31,626] Trial 64 finished with value: 0.7625 and parameters: {'n_neighbors': 12, 'weights': 'distance', 'metric': 'manhattan', 'algorithm': 'kd_tree'}. Best is trial 11 with value: 0.85625.\n",
      "[I 2024-02-24 02:15:31,662] Trial 65 finished with value: 0.803125 and parameters: {'n_neighbors': 8, 'weights': 'distance', 'metric': 'manhattan', 'algorithm': 'brute'}. Best is trial 11 with value: 0.85625.\n",
      "[I 2024-02-24 02:15:31,693] Trial 66 finished with value: 0.725 and parameters: {'n_neighbors': 16, 'weights': 'distance', 'metric': 'manhattan', 'algorithm': 'auto'}. Best is trial 11 with value: 0.85625.\n",
      "[I 2024-02-24 02:15:31,779] Trial 67 finished with value: 0.7 and parameters: {'n_neighbors': 19, 'weights': 'distance', 'metric': 'euclidean', 'algorithm': 'kd_tree'}. Best is trial 11 with value: 0.85625.\n",
      "[I 2024-02-24 02:15:31,814] Trial 68 finished with value: 0.7625 and parameters: {'n_neighbors': 12, 'weights': 'distance', 'metric': 'manhattan', 'algorithm': 'auto'}. Best is trial 11 with value: 0.85625.\n",
      "[I 2024-02-24 02:15:31,899] Trial 69 finished with value: 0.803125 and parameters: {'n_neighbors': 8, 'weights': 'distance', 'metric': 'manhattan', 'algorithm': 'kd_tree'}. Best is trial 11 with value: 0.85625.\n",
      "[I 2024-02-24 02:15:31,999] Trial 70 finished with value: 0.471875 and parameters: {'n_neighbors': 24, 'weights': 'uniform', 'metric': 'manhattan', 'algorithm': 'ball_tree'}. Best is trial 11 with value: 0.85625.\n",
      "[I 2024-02-24 02:15:32,083] Trial 71 finished with value: 0.85625 and parameters: {'n_neighbors': 5, 'weights': 'distance', 'metric': 'manhattan', 'algorithm': 'kd_tree'}. Best is trial 11 with value: 0.85625.\n",
      "[I 2024-02-24 02:15:32,167] Trial 72 finished with value: 0.828125 and parameters: {'n_neighbors': 7, 'weights': 'distance', 'metric': 'manhattan', 'algorithm': 'kd_tree'}. Best is trial 11 with value: 0.85625.\n",
      "[I 2024-02-24 02:15:32,255] Trial 73 finished with value: 0.753125 and parameters: {'n_neighbors': 13, 'weights': 'distance', 'metric': 'manhattan', 'algorithm': 'kd_tree'}. Best is trial 11 with value: 0.85625.\n",
      "[I 2024-02-24 02:15:32,341] Trial 74 finished with value: 0.85625 and parameters: {'n_neighbors': 5, 'weights': 'distance', 'metric': 'manhattan', 'algorithm': 'kd_tree'}. Best is trial 11 with value: 0.85625.\n",
      "[I 2024-02-24 02:15:32,428] Trial 75 finished with value: 0.59375 and parameters: {'n_neighbors': 50, 'weights': 'distance', 'metric': 'manhattan', 'algorithm': 'kd_tree'}. Best is trial 11 with value: 0.85625.\n",
      "[I 2024-02-24 02:15:32,462] Trial 76 finished with value: 0.775 and parameters: {'n_neighbors': 11, 'weights': 'distance', 'metric': 'manhattan', 'algorithm': 'auto'}. Best is trial 11 with value: 0.85625.\n",
      "[I 2024-02-24 02:15:32,547] Trial 77 finished with value: 0.8 and parameters: {'n_neighbors': 8, 'weights': 'distance', 'metric': 'minkowski', 'algorithm': 'kd_tree'}. Best is trial 11 with value: 0.85625.\n",
      "[I 2024-02-24 02:15:32,579] Trial 78 finished with value: 0.73125 and parameters: {'n_neighbors': 15, 'weights': 'distance', 'metric': 'manhattan', 'algorithm': 'brute'}. Best is trial 11 with value: 0.85625.\n",
      "[I 2024-02-24 02:15:32,610] Trial 79 finished with value: 0.784375 and parameters: {'n_neighbors': 10, 'weights': 'distance', 'metric': 'manhattan', 'algorithm': 'auto'}. Best is trial 11 with value: 0.85625.\n",
      "[I 2024-02-24 02:15:32,694] Trial 80 finished with value: 0.709375 and parameters: {'n_neighbors': 18, 'weights': 'distance', 'metric': 'euclidean', 'algorithm': 'kd_tree'}. Best is trial 11 with value: 0.85625.\n",
      "[I 2024-02-24 02:15:32,777] Trial 81 finished with value: 0.83125 and parameters: {'n_neighbors': 6, 'weights': 'distance', 'metric': 'manhattan', 'algorithm': 'kd_tree'}. Best is trial 11 with value: 0.85625.\n",
      "[I 2024-02-24 02:15:32,865] Trial 82 finished with value: 0.85625 and parameters: {'n_neighbors': 5, 'weights': 'distance', 'metric': 'manhattan', 'algorithm': 'kd_tree'}. Best is trial 11 with value: 0.85625.\n",
      "[I 2024-02-24 02:15:32,952] Trial 83 finished with value: 0.775 and parameters: {'n_neighbors': 11, 'weights': 'distance', 'metric': 'manhattan', 'algorithm': 'kd_tree'}. Best is trial 11 with value: 0.85625.\n",
      "[I 2024-02-24 02:15:33,040] Trial 84 finished with value: 0.828125 and parameters: {'n_neighbors': 7, 'weights': 'distance', 'metric': 'manhattan', 'algorithm': 'kd_tree'}. Best is trial 11 with value: 0.85625.\n",
      "[I 2024-02-24 02:15:33,129] Trial 85 finished with value: 0.753125 and parameters: {'n_neighbors': 13, 'weights': 'distance', 'metric': 'manhattan', 'algorithm': 'kd_tree'}. Best is trial 11 with value: 0.85625.\n",
      "[I 2024-02-24 02:15:33,171] Trial 86 finished with value: 0.721875 and parameters: {'n_neighbors': 8, 'weights': 'uniform', 'metric': 'manhattan', 'algorithm': 'auto'}. Best is trial 11 with value: 0.85625.\n",
      "[I 2024-02-24 02:15:33,259] Trial 87 finished with value: 0.85625 and parameters: {'n_neighbors': 5, 'weights': 'distance', 'metric': 'manhattan', 'algorithm': 'kd_tree'}. Best is trial 11 with value: 0.85625.\n",
      "[I 2024-02-24 02:15:33,345] Trial 88 finished with value: 0.784375 and parameters: {'n_neighbors': 10, 'weights': 'distance', 'metric': 'manhattan', 'algorithm': 'ball_tree'}. Best is trial 11 with value: 0.85625.\n",
      "[I 2024-02-24 02:15:33,380] Trial 89 finished with value: 0.571875 and parameters: {'n_neighbors': 90, 'weights': 'distance', 'metric': 'minkowski', 'algorithm': 'auto'}. Best is trial 11 with value: 0.85625.\n",
      "[I 2024-02-24 02:15:33,468] Trial 90 finished with value: 0.696875 and parameters: {'n_neighbors': 20, 'weights': 'distance', 'metric': 'manhattan', 'algorithm': 'kd_tree'}. Best is trial 11 with value: 0.85625.\n",
      "[I 2024-02-24 02:15:33,556] Trial 91 finished with value: 0.85625 and parameters: {'n_neighbors': 5, 'weights': 'distance', 'metric': 'manhattan', 'algorithm': 'kd_tree'}. Best is trial 11 with value: 0.85625.\n",
      "[I 2024-02-24 02:15:33,644] Trial 92 finished with value: 0.828125 and parameters: {'n_neighbors': 7, 'weights': 'distance', 'metric': 'manhattan', 'algorithm': 'kd_tree'}. Best is trial 11 with value: 0.85625.\n",
      "[I 2024-02-24 02:15:33,732] Trial 93 finished with value: 0.725 and parameters: {'n_neighbors': 16, 'weights': 'distance', 'metric': 'manhattan', 'algorithm': 'kd_tree'}. Best is trial 11 with value: 0.85625.\n",
      "[I 2024-02-24 02:15:33,817] Trial 94 finished with value: 0.778125 and parameters: {'n_neighbors': 9, 'weights': 'distance', 'metric': 'manhattan', 'algorithm': 'kd_tree'}. Best is trial 11 with value: 0.85625.\n",
      "[I 2024-02-24 02:15:33,902] Trial 95 finished with value: 0.7375 and parameters: {'n_neighbors': 14, 'weights': 'distance', 'metric': 'manhattan', 'algorithm': 'kd_tree'}. Best is trial 11 with value: 0.85625.\n",
      "[I 2024-02-24 02:15:33,946] Trial 96 finished with value: 0.775 and parameters: {'n_neighbors': 11, 'weights': 'distance', 'metric': 'manhattan', 'algorithm': 'auto'}. Best is trial 11 with value: 0.85625.\n",
      "[I 2024-02-24 02:15:33,973] Trial 97 finished with value: 0.809375 and parameters: {'n_neighbors': 7, 'weights': 'distance', 'metric': 'euclidean', 'algorithm': 'brute'}. Best is trial 11 with value: 0.85625.\n",
      "[I 2024-02-24 02:15:34,072] Trial 98 finished with value: 0.784375 and parameters: {'n_neighbors': 5, 'weights': 'uniform', 'metric': 'manhattan', 'algorithm': 'kd_tree'}. Best is trial 11 with value: 0.85625.\n",
      "[I 2024-02-24 02:15:34,109] Trial 99 finished with value: 0.784375 and parameters: {'n_neighbors': 10, 'weights': 'distance', 'metric': 'manhattan', 'algorithm': 'auto'}. Best is trial 11 with value: 0.85625.\n",
      "[I 2024-02-24 02:15:34,201] Trial 100 finished with value: 0.753125 and parameters: {'n_neighbors': 13, 'weights': 'distance', 'metric': 'manhattan', 'algorithm': 'kd_tree'}. Best is trial 11 with value: 0.85625.\n",
      "[I 2024-02-24 02:15:34,286] Trial 101 finished with value: 0.85625 and parameters: {'n_neighbors': 5, 'weights': 'distance', 'metric': 'manhattan', 'algorithm': 'kd_tree'}. Best is trial 11 with value: 0.85625.\n",
      "[I 2024-02-24 02:15:34,371] Trial 102 finished with value: 0.828125 and parameters: {'n_neighbors': 7, 'weights': 'distance', 'metric': 'manhattan', 'algorithm': 'kd_tree'}. Best is trial 11 with value: 0.85625.\n",
      "[I 2024-02-24 02:15:34,457] Trial 103 finished with value: 0.778125 and parameters: {'n_neighbors': 9, 'weights': 'distance', 'metric': 'manhattan', 'algorithm': 'kd_tree'}. Best is trial 11 with value: 0.85625.\n",
      "[I 2024-02-24 02:15:34,540] Trial 104 finished with value: 0.828125 and parameters: {'n_neighbors': 7, 'weights': 'distance', 'metric': 'manhattan', 'algorithm': 'kd_tree'}. Best is trial 11 with value: 0.85625.\n",
      "[I 2024-02-24 02:15:34,624] Trial 105 finished with value: 0.725 and parameters: {'n_neighbors': 16, 'weights': 'distance', 'metric': 'manhattan', 'algorithm': 'kd_tree'}. Best is trial 11 with value: 0.85625.\n",
      "[I 2024-02-24 02:15:34,709] Trial 106 finished with value: 0.775 and parameters: {'n_neighbors': 11, 'weights': 'distance', 'metric': 'manhattan', 'algorithm': 'ball_tree'}. Best is trial 11 with value: 0.85625.\n",
      "[I 2024-02-24 02:15:34,746] Trial 107 finished with value: 0.85625 and parameters: {'n_neighbors': 5, 'weights': 'distance', 'metric': 'manhattan', 'algorithm': 'auto'}. Best is trial 11 with value: 0.85625.\n",
      "[I 2024-02-24 02:15:34,835] Trial 108 finished with value: 0.575 and parameters: {'n_neighbors': 57, 'weights': 'distance', 'metric': 'manhattan', 'algorithm': 'kd_tree'}. Best is trial 11 with value: 0.85625.\n",
      "[I 2024-02-24 02:15:34,921] Trial 109 finished with value: 0.79375 and parameters: {'n_neighbors': 9, 'weights': 'distance', 'metric': 'minkowski', 'algorithm': 'kd_tree'}. Best is trial 11 with value: 0.85625.\n",
      "[I 2024-02-24 02:15:34,958] Trial 110 finished with value: 0.753125 and parameters: {'n_neighbors': 13, 'weights': 'distance', 'metric': 'manhattan', 'algorithm': 'auto'}. Best is trial 11 with value: 0.85625.\n",
      "[I 2024-02-24 02:15:35,042] Trial 111 finished with value: 0.85625 and parameters: {'n_neighbors': 5, 'weights': 'distance', 'metric': 'manhattan', 'algorithm': 'kd_tree'}. Best is trial 11 with value: 0.85625.\n",
      "[I 2024-02-24 02:15:35,128] Trial 112 finished with value: 0.828125 and parameters: {'n_neighbors': 7, 'weights': 'distance', 'metric': 'manhattan', 'algorithm': 'kd_tree'}. Best is trial 11 with value: 0.85625.\n",
      "[I 2024-02-24 02:15:35,216] Trial 113 finished with value: 0.85625 and parameters: {'n_neighbors': 5, 'weights': 'distance', 'metric': 'manhattan', 'algorithm': 'kd_tree'}. Best is trial 11 with value: 0.85625.\n",
      "[I 2024-02-24 02:15:35,302] Trial 114 finished with value: 0.778125 and parameters: {'n_neighbors': 9, 'weights': 'distance', 'metric': 'manhattan', 'algorithm': 'kd_tree'}. Best is trial 11 with value: 0.85625.\n",
      "[I 2024-02-24 02:15:35,386] Trial 115 finished with value: 0.828125 and parameters: {'n_neighbors': 7, 'weights': 'distance', 'metric': 'manhattan', 'algorithm': 'kd_tree'}. Best is trial 11 with value: 0.85625.\n",
      "[I 2024-02-24 02:15:35,473] Trial 116 finished with value: 0.7625 and parameters: {'n_neighbors': 12, 'weights': 'distance', 'metric': 'manhattan', 'algorithm': 'kd_tree'}. Best is trial 11 with value: 0.85625.\n",
      "[I 2024-02-24 02:15:35,514] Trial 117 finished with value: 0.634375 and parameters: {'n_neighbors': 10, 'weights': 'uniform', 'metric': 'euclidean', 'algorithm': 'brute'}. Best is trial 11 with value: 0.85625.\n",
      "[I 2024-02-24 02:15:35,600] Trial 118 finished with value: 0.828125 and parameters: {'n_neighbors': 7, 'weights': 'distance', 'metric': 'manhattan', 'algorithm': 'kd_tree'}. Best is trial 11 with value: 0.85625.\n",
      "[I 2024-02-24 02:15:35,637] Trial 119 finished with value: 0.7375 and parameters: {'n_neighbors': 14, 'weights': 'distance', 'metric': 'manhattan', 'algorithm': 'auto'}. Best is trial 11 with value: 0.85625.\n",
      "[I 2024-02-24 02:15:35,723] Trial 120 finished with value: 0.85625 and parameters: {'n_neighbors': 5, 'weights': 'distance', 'metric': 'manhattan', 'algorithm': 'kd_tree'}. Best is trial 11 with value: 0.85625.\n",
      "[I 2024-02-24 02:15:35,809] Trial 121 finished with value: 0.85625 and parameters: {'n_neighbors': 5, 'weights': 'distance', 'metric': 'manhattan', 'algorithm': 'kd_tree'}. Best is trial 11 with value: 0.85625.\n",
      "[I 2024-02-24 02:15:35,896] Trial 122 finished with value: 0.803125 and parameters: {'n_neighbors': 8, 'weights': 'distance', 'metric': 'manhattan', 'algorithm': 'kd_tree'}. Best is trial 11 with value: 0.85625.\n",
      "[I 2024-02-24 02:15:35,986] Trial 123 finished with value: 0.571875 and parameters: {'n_neighbors': 69, 'weights': 'distance', 'metric': 'manhattan', 'algorithm': 'kd_tree'}. Best is trial 11 with value: 0.85625.\n",
      "[I 2024-02-24 02:15:36,072] Trial 124 finished with value: 0.775 and parameters: {'n_neighbors': 11, 'weights': 'distance', 'metric': 'manhattan', 'algorithm': 'kd_tree'}. Best is trial 11 with value: 0.85625.\n",
      "[I 2024-02-24 02:15:36,158] Trial 125 finished with value: 0.778125 and parameters: {'n_neighbors': 9, 'weights': 'distance', 'metric': 'manhattan', 'algorithm': 'kd_tree'}. Best is trial 11 with value: 0.85625.\n",
      "[I 2024-02-24 02:15:36,191] Trial 126 finished with value: 0.828125 and parameters: {'n_neighbors': 7, 'weights': 'distance', 'metric': 'manhattan', 'algorithm': 'auto'}. Best is trial 11 with value: 0.85625.\n",
      "[I 2024-02-24 02:15:36,278] Trial 127 finished with value: 0.85625 and parameters: {'n_neighbors': 5, 'weights': 'distance', 'metric': 'manhattan', 'algorithm': 'kd_tree'}. Best is trial 11 with value: 0.85625.\n",
      "[I 2024-02-24 02:15:36,363] Trial 128 finished with value: 0.775 and parameters: {'n_neighbors': 11, 'weights': 'distance', 'metric': 'manhattan', 'algorithm': 'ball_tree'}. Best is trial 11 with value: 0.85625.\n",
      "[I 2024-02-24 02:15:36,448] Trial 129 finished with value: 0.8 and parameters: {'n_neighbors': 8, 'weights': 'distance', 'metric': 'minkowski', 'algorithm': 'kd_tree'}. Best is trial 11 with value: 0.85625.\n",
      "[I 2024-02-24 02:15:36,534] Trial 130 finished with value: 0.85625 and parameters: {'n_neighbors': 5, 'weights': 'distance', 'metric': 'manhattan', 'algorithm': 'kd_tree'}. Best is trial 11 with value: 0.85625.\n",
      "[I 2024-02-24 02:15:36,620] Trial 131 finished with value: 0.85625 and parameters: {'n_neighbors': 5, 'weights': 'distance', 'metric': 'manhattan', 'algorithm': 'kd_tree'}. Best is trial 11 with value: 0.85625.\n",
      "[I 2024-02-24 02:15:36,707] Trial 132 finished with value: 0.828125 and parameters: {'n_neighbors': 7, 'weights': 'distance', 'metric': 'manhattan', 'algorithm': 'kd_tree'}. Best is trial 11 with value: 0.85625.\n",
      "[I 2024-02-24 02:15:36,794] Trial 133 finished with value: 0.778125 and parameters: {'n_neighbors': 9, 'weights': 'distance', 'metric': 'manhattan', 'algorithm': 'kd_tree'}. Best is trial 11 with value: 0.85625.\n",
      "[I 2024-02-24 02:15:36,881] Trial 134 finished with value: 0.7625 and parameters: {'n_neighbors': 12, 'weights': 'distance', 'metric': 'manhattan', 'algorithm': 'kd_tree'}. Best is trial 11 with value: 0.85625.\n",
      "[I 2024-02-24 02:15:36,918] Trial 135 finished with value: 0.828125 and parameters: {'n_neighbors': 7, 'weights': 'distance', 'metric': 'manhattan', 'algorithm': 'auto'}. Best is trial 11 with value: 0.85625.\n",
      "[I 2024-02-24 02:15:37,018] Trial 136 finished with value: 0.69375 and parameters: {'n_neighbors': 10, 'weights': 'uniform', 'metric': 'manhattan', 'algorithm': 'kd_tree'}. Best is trial 11 with value: 0.85625.\n",
      "[I 2024-02-24 02:15:37,108] Trial 137 finished with value: 0.609375 and parameters: {'n_neighbors': 44, 'weights': 'distance', 'metric': 'manhattan', 'algorithm': 'kd_tree'}. Best is trial 11 with value: 0.85625.\n",
      "[I 2024-02-24 02:15:37,197] Trial 138 finished with value: 0.859375 and parameters: {'n_neighbors': 5, 'weights': 'distance', 'metric': 'euclidean', 'algorithm': 'kd_tree'}. Best is trial 138 with value: 0.859375.\n",
      "[I 2024-02-24 02:15:37,233] Trial 139 finished with value: 0.75625 and parameters: {'n_neighbors': 14, 'weights': 'distance', 'metric': 'euclidean', 'algorithm': 'auto'}. Best is trial 138 with value: 0.859375.\n",
      "[I 2024-02-24 02:15:37,326] Trial 140 finished with value: 0.646875 and parameters: {'n_neighbors': 30, 'weights': 'distance', 'metric': 'euclidean', 'algorithm': 'kd_tree'}. Best is trial 138 with value: 0.859375.\n",
      "[I 2024-02-24 02:15:37,412] Trial 141 finished with value: 0.859375 and parameters: {'n_neighbors': 5, 'weights': 'distance', 'metric': 'euclidean', 'algorithm': 'kd_tree'}. Best is trial 138 with value: 0.859375.\n",
      "[I 2024-02-24 02:15:37,501] Trial 142 finished with value: 0.809375 and parameters: {'n_neighbors': 7, 'weights': 'distance', 'metric': 'euclidean', 'algorithm': 'kd_tree'}. Best is trial 138 with value: 0.859375.\n",
      "[I 2024-02-24 02:15:37,590] Trial 143 finished with value: 0.63125 and parameters: {'n_neighbors': 37, 'weights': 'distance', 'metric': 'euclidean', 'algorithm': 'kd_tree'}. Best is trial 138 with value: 0.859375.\n",
      "[I 2024-02-24 02:15:37,677] Trial 144 finished with value: 0.859375 and parameters: {'n_neighbors': 5, 'weights': 'distance', 'metric': 'euclidean', 'algorithm': 'kd_tree'}. Best is trial 138 with value: 0.859375.\n",
      "[I 2024-02-24 02:15:37,762] Trial 145 finished with value: 0.79375 and parameters: {'n_neighbors': 9, 'weights': 'distance', 'metric': 'euclidean', 'algorithm': 'kd_tree'}. Best is trial 138 with value: 0.859375.\n",
      "[I 2024-02-24 02:15:37,848] Trial 146 finished with value: 0.859375 and parameters: {'n_neighbors': 5, 'weights': 'distance', 'metric': 'euclidean', 'algorithm': 'kd_tree'}. Best is trial 138 with value: 0.859375.\n",
      "[I 2024-02-24 02:15:37,876] Trial 147 finished with value: 0.809375 and parameters: {'n_neighbors': 7, 'weights': 'distance', 'metric': 'euclidean', 'algorithm': 'brute'}. Best is trial 138 with value: 0.859375.\n",
      "[I 2024-02-24 02:15:37,963] Trial 148 finished with value: 0.79375 and parameters: {'n_neighbors': 9, 'weights': 'distance', 'metric': 'euclidean', 'algorithm': 'kd_tree'}. Best is trial 138 with value: 0.859375.\n",
      "[I 2024-02-24 02:15:37,991] Trial 149 finished with value: 0.859375 and parameters: {'n_neighbors': 5, 'weights': 'distance', 'metric': 'euclidean', 'algorithm': 'auto'}. Best is trial 138 with value: 0.859375.\n",
      "[I 2024-02-24 02:15:38,019] Trial 150 finished with value: 0.76875 and parameters: {'n_neighbors': 12, 'weights': 'distance', 'metric': 'euclidean', 'algorithm': 'auto'}. Best is trial 138 with value: 0.859375.\n",
      "[I 2024-02-24 02:15:38,046] Trial 151 finished with value: 0.859375 and parameters: {'n_neighbors': 5, 'weights': 'distance', 'metric': 'euclidean', 'algorithm': 'auto'}. Best is trial 138 with value: 0.859375.\n",
      "[I 2024-02-24 02:15:38,073] Trial 152 finished with value: 0.859375 and parameters: {'n_neighbors': 5, 'weights': 'distance', 'metric': 'euclidean', 'algorithm': 'auto'}. Best is trial 138 with value: 0.859375.\n",
      "[I 2024-02-24 02:15:38,101] Trial 153 finished with value: 0.809375 and parameters: {'n_neighbors': 7, 'weights': 'distance', 'metric': 'euclidean', 'algorithm': 'auto'}. Best is trial 138 with value: 0.859375.\n",
      "[I 2024-02-24 02:15:38,129] Trial 154 finished with value: 0.859375 and parameters: {'n_neighbors': 5, 'weights': 'distance', 'metric': 'euclidean', 'algorithm': 'auto'}. Best is trial 138 with value: 0.859375.\n",
      "[I 2024-02-24 02:15:38,157] Trial 155 finished with value: 0.79375 and parameters: {'n_neighbors': 9, 'weights': 'distance', 'metric': 'euclidean', 'algorithm': 'auto'}. Best is trial 138 with value: 0.859375.\n",
      "[I 2024-02-24 02:15:38,184] Trial 156 finished with value: 0.859375 and parameters: {'n_neighbors': 5, 'weights': 'distance', 'metric': 'euclidean', 'algorithm': 'auto'}. Best is trial 138 with value: 0.859375.\n",
      "[I 2024-02-24 02:15:38,212] Trial 157 finished with value: 0.809375 and parameters: {'n_neighbors': 7, 'weights': 'distance', 'metric': 'euclidean', 'algorithm': 'auto'}. Best is trial 138 with value: 0.859375.\n",
      "[I 2024-02-24 02:15:38,239] Trial 158 finished with value: 0.859375 and parameters: {'n_neighbors': 5, 'weights': 'distance', 'metric': 'euclidean', 'algorithm': 'auto'}. Best is trial 138 with value: 0.859375.\n",
      "[I 2024-02-24 02:15:38,267] Trial 159 finished with value: 0.775 and parameters: {'n_neighbors': 10, 'weights': 'distance', 'metric': 'euclidean', 'algorithm': 'auto'}. Best is trial 138 with value: 0.859375.\n",
      "[I 2024-02-24 02:15:38,294] Trial 160 finished with value: 0.859375 and parameters: {'n_neighbors': 5, 'weights': 'distance', 'metric': 'euclidean', 'algorithm': 'auto'}. Best is trial 138 with value: 0.859375.\n",
      "[I 2024-02-24 02:15:38,321] Trial 161 finished with value: 0.859375 and parameters: {'n_neighbors': 5, 'weights': 'distance', 'metric': 'euclidean', 'algorithm': 'auto'}. Best is trial 138 with value: 0.859375.\n",
      "[I 2024-02-24 02:15:38,349] Trial 162 finished with value: 0.859375 and parameters: {'n_neighbors': 5, 'weights': 'distance', 'metric': 'euclidean', 'algorithm': 'auto'}. Best is trial 138 with value: 0.859375.\n",
      "[I 2024-02-24 02:15:38,376] Trial 163 finished with value: 0.809375 and parameters: {'n_neighbors': 7, 'weights': 'distance', 'metric': 'euclidean', 'algorithm': 'auto'}. Best is trial 138 with value: 0.859375.\n",
      "[I 2024-02-24 02:15:38,403] Trial 164 finished with value: 0.859375 and parameters: {'n_neighbors': 5, 'weights': 'distance', 'metric': 'euclidean', 'algorithm': 'auto'}. Best is trial 138 with value: 0.859375.\n",
      "[I 2024-02-24 02:15:38,431] Trial 165 finished with value: 0.859375 and parameters: {'n_neighbors': 5, 'weights': 'distance', 'metric': 'euclidean', 'algorithm': 'auto'}. Best is trial 138 with value: 0.859375.\n",
      "[I 2024-02-24 02:15:38,458] Trial 166 finished with value: 0.859375 and parameters: {'n_neighbors': 5, 'weights': 'distance', 'metric': 'euclidean', 'algorithm': 'auto'}. Best is trial 138 with value: 0.859375.\n",
      "[I 2024-02-24 02:15:38,486] Trial 167 finished with value: 0.8 and parameters: {'n_neighbors': 8, 'weights': 'distance', 'metric': 'euclidean', 'algorithm': 'auto'}. Best is trial 138 with value: 0.859375.\n",
      "[I 2024-02-24 02:15:38,513] Trial 168 finished with value: 0.859375 and parameters: {'n_neighbors': 5, 'weights': 'distance', 'metric': 'euclidean', 'algorithm': 'auto'}. Best is trial 138 with value: 0.859375.\n",
      "[I 2024-02-24 02:15:38,540] Trial 169 finished with value: 0.859375 and parameters: {'n_neighbors': 5, 'weights': 'distance', 'metric': 'euclidean', 'algorithm': 'auto'}. Best is trial 138 with value: 0.859375.\n",
      "[I 2024-02-24 02:15:38,568] Trial 170 finished with value: 0.809375 and parameters: {'n_neighbors': 7, 'weights': 'distance', 'metric': 'euclidean', 'algorithm': 'auto'}. Best is trial 138 with value: 0.859375.\n",
      "[I 2024-02-24 02:15:38,620] Trial 171 finished with value: 0.859375 and parameters: {'n_neighbors': 5, 'weights': 'distance', 'metric': 'euclidean', 'algorithm': 'auto'}. Best is trial 138 with value: 0.859375.\n",
      "[I 2024-02-24 02:15:38,647] Trial 172 finished with value: 0.859375 and parameters: {'n_neighbors': 5, 'weights': 'distance', 'metric': 'euclidean', 'algorithm': 'auto'}. Best is trial 138 with value: 0.859375.\n",
      "[I 2024-02-24 02:15:38,676] Trial 173 finished with value: 0.8 and parameters: {'n_neighbors': 8, 'weights': 'distance', 'metric': 'euclidean', 'algorithm': 'auto'}. Best is trial 138 with value: 0.859375.\n",
      "[I 2024-02-24 02:15:38,705] Trial 174 finished with value: 0.775 and parameters: {'n_neighbors': 10, 'weights': 'distance', 'metric': 'euclidean', 'algorithm': 'auto'}. Best is trial 138 with value: 0.859375.\n",
      "[I 2024-02-24 02:15:38,733] Trial 175 finished with value: 0.825 and parameters: {'n_neighbors': 6, 'weights': 'distance', 'metric': 'euclidean', 'algorithm': 'auto'}. Best is trial 138 with value: 0.859375.\n",
      "[I 2024-02-24 02:15:38,762] Trial 176 finished with value: 0.859375 and parameters: {'n_neighbors': 5, 'weights': 'distance', 'metric': 'euclidean', 'algorithm': 'auto'}. Best is trial 138 with value: 0.859375.\n",
      "[I 2024-02-24 02:15:38,791] Trial 177 finished with value: 0.8 and parameters: {'n_neighbors': 8, 'weights': 'distance', 'metric': 'euclidean', 'algorithm': 'auto'}. Best is trial 138 with value: 0.859375.\n",
      "[I 2024-02-24 02:15:38,831] Trial 178 finished with value: 0.615625 and parameters: {'n_neighbors': 11, 'weights': 'uniform', 'metric': 'euclidean', 'algorithm': 'auto'}. Best is trial 138 with value: 0.859375.\n",
      "[I 2024-02-24 02:15:38,861] Trial 179 finished with value: 0.809375 and parameters: {'n_neighbors': 7, 'weights': 'distance', 'metric': 'euclidean', 'algorithm': 'auto'}. Best is trial 138 with value: 0.859375.\n",
      "[I 2024-02-24 02:15:38,890] Trial 180 finished with value: 0.859375 and parameters: {'n_neighbors': 5, 'weights': 'distance', 'metric': 'euclidean', 'algorithm': 'auto'}. Best is trial 138 with value: 0.859375.\n",
      "[I 2024-02-24 02:15:38,918] Trial 181 finished with value: 0.859375 and parameters: {'n_neighbors': 5, 'weights': 'distance', 'metric': 'euclidean', 'algorithm': 'auto'}. Best is trial 138 with value: 0.859375.\n",
      "[I 2024-02-24 02:15:38,947] Trial 182 finished with value: 0.809375 and parameters: {'n_neighbors': 7, 'weights': 'distance', 'metric': 'euclidean', 'algorithm': 'auto'}. Best is trial 138 with value: 0.859375.\n",
      "[I 2024-02-24 02:15:38,976] Trial 183 finished with value: 0.79375 and parameters: {'n_neighbors': 9, 'weights': 'distance', 'metric': 'euclidean', 'algorithm': 'auto'}. Best is trial 138 with value: 0.859375.\n",
      "[I 2024-02-24 02:15:39,004] Trial 184 finished with value: 0.859375 and parameters: {'n_neighbors': 5, 'weights': 'distance', 'metric': 'euclidean', 'algorithm': 'auto'}. Best is trial 138 with value: 0.859375.\n",
      "[I 2024-02-24 02:15:39,033] Trial 185 finished with value: 0.809375 and parameters: {'n_neighbors': 7, 'weights': 'distance', 'metric': 'euclidean', 'algorithm': 'auto'}. Best is trial 138 with value: 0.859375.\n",
      "[I 2024-02-24 02:15:39,062] Trial 186 finished with value: 0.859375 and parameters: {'n_neighbors': 5, 'weights': 'distance', 'metric': 'euclidean', 'algorithm': 'auto'}. Best is trial 138 with value: 0.859375.\n",
      "[I 2024-02-24 02:15:39,091] Trial 187 finished with value: 0.79375 and parameters: {'n_neighbors': 9, 'weights': 'distance', 'metric': 'euclidean', 'algorithm': 'auto'}. Best is trial 138 with value: 0.859375.\n",
      "[I 2024-02-24 02:15:39,127] Trial 188 finished with value: 0.58125 and parameters: {'n_neighbors': 84, 'weights': 'distance', 'metric': 'euclidean', 'algorithm': 'auto'}. Best is trial 138 with value: 0.859375.\n",
      "[I 2024-02-24 02:15:39,156] Trial 189 finished with value: 0.809375 and parameters: {'n_neighbors': 7, 'weights': 'distance', 'metric': 'euclidean', 'algorithm': 'auto'}. Best is trial 138 with value: 0.859375.\n",
      "[I 2024-02-24 02:15:39,184] Trial 190 finished with value: 0.771875 and parameters: {'n_neighbors': 11, 'weights': 'distance', 'metric': 'euclidean', 'algorithm': 'auto'}. Best is trial 138 with value: 0.859375.\n",
      "[I 2024-02-24 02:15:39,213] Trial 191 finished with value: 0.859375 and parameters: {'n_neighbors': 5, 'weights': 'distance', 'metric': 'euclidean', 'algorithm': 'auto'}. Best is trial 138 with value: 0.859375.\n",
      "[I 2024-02-24 02:15:39,242] Trial 192 finished with value: 0.859375 and parameters: {'n_neighbors': 5, 'weights': 'distance', 'metric': 'euclidean', 'algorithm': 'auto'}. Best is trial 138 with value: 0.859375.\n",
      "[I 2024-02-24 02:15:39,271] Trial 193 finished with value: 0.809375 and parameters: {'n_neighbors': 7, 'weights': 'distance', 'metric': 'euclidean', 'algorithm': 'auto'}. Best is trial 138 with value: 0.859375.\n",
      "[I 2024-02-24 02:15:39,300] Trial 194 finished with value: 0.859375 and parameters: {'n_neighbors': 5, 'weights': 'distance', 'metric': 'euclidean', 'algorithm': 'auto'}. Best is trial 138 with value: 0.859375.\n",
      "[I 2024-02-24 02:15:39,331] Trial 195 finished with value: 0.79375 and parameters: {'n_neighbors': 9, 'weights': 'distance', 'metric': 'euclidean', 'algorithm': 'auto'}. Best is trial 138 with value: 0.859375.\n",
      "[I 2024-02-24 02:15:39,363] Trial 196 finished with value: 0.809375 and parameters: {'n_neighbors': 7, 'weights': 'distance', 'metric': 'euclidean', 'algorithm': 'auto'}. Best is trial 138 with value: 0.859375.\n",
      "[I 2024-02-24 02:15:39,394] Trial 197 finished with value: 0.859375 and parameters: {'n_neighbors': 5, 'weights': 'distance', 'metric': 'euclidean', 'algorithm': 'auto'}. Best is trial 138 with value: 0.859375.\n",
      "[I 2024-02-24 02:15:39,425] Trial 198 finished with value: 0.79375 and parameters: {'n_neighbors': 9, 'weights': 'distance', 'metric': 'euclidean', 'algorithm': 'auto'}. Best is trial 138 with value: 0.859375.\n",
      "[I 2024-02-24 02:15:39,456] Trial 199 finished with value: 0.809375 and parameters: {'n_neighbors': 7, 'weights': 'distance', 'metric': 'euclidean', 'algorithm': 'auto'}. Best is trial 138 with value: 0.859375.\n"
     ]
    },
    {
     "name": "stdout",
     "output_type": "stream",
     "text": [
      "Best params found : {'n_neighbors': 5, 'weights': 'distance', 'metric': 'euclidean', 'algorithm': 'kd_tree'}\n",
      "accuracy: 0.9875\n",
      "recall: 0.9930555555555556\n",
      "precision: 0.9930555555555556\n",
      "f1-score: 0.9920634920634921\n"
     ]
    }
   ],
   "source": [
    "study = optuna.create_study(direction = 'maximize')\n",
    "study.optimize(objective, n_trials = 200)\n",
    "best_params = study.best_params\n",
    "print(\"Best params found :\", best_params)\n",
    "\n",
    "final_model =KNeighborsClassifier(**best_params)\n",
    "final_model.fit(X_train_reduced, y_train)\n",
    "y_pred = final_model.predict(X_test_reduced)\n",
    "prediction_results['KNN'] = y_pred \n",
    "\n",
    "accuracy = accuracy_score(y_test, y_pred)\n",
    "precision = precision_score(y_test, y_pred, average='macro')\n",
    "recall = recall_score(y_test, y_pred, average='macro')\n",
    "f1 = f1_score(y_test, y_pred, average='macro')\n",
    "\n",
    "# # One-hot encoding for probability calculation (adapt if necessary)\n",
    "# y_test_onehot = pd.get_dummies(y_test, prefix='label_')  # Assuming 'label_' prefix for clarity\n",
    "# y_pred_onehot = pd.get_dummies(y_pred, prefix='label_')\n",
    "\n",
    "# # ROC AUC score with multiclass handling\n",
    "# roc_auc_macro = roc_auc_score(y_test_onehot, y_pred_onehot, average='macro', multi_class='ovo')  # Specify 'ovo' or 'ovr'\n",
    "\n",
    "print(\"accuracy:\", accuracy)\n",
    "print(\"recall:\", recall)\n",
    "print(\"precision:\", precision)\n",
    "print(\"f1-score:\", f1)\n",
    "# print('roc_auc: ', roc_auc_macro)"
   ]
  },
  {
   "cell_type": "markdown",
   "id": "ad6116d8",
   "metadata": {
    "papermill": {
     "duration": 0.045024,
     "end_time": "2024-02-24T02:15:39.561135",
     "exception": false,
     "start_time": "2024-02-24T02:15:39.516111",
     "status": "completed"
    },
    "tags": []
   },
   "source": [
    "# Support Vector Machine "
   ]
  },
  {
   "cell_type": "markdown",
   "id": "b2650837",
   "metadata": {
    "papermill": {
     "duration": 0.044645,
     "end_time": "2024-02-24T02:15:39.650702",
     "exception": false,
     "start_time": "2024-02-24T02:15:39.606057",
     "status": "completed"
    },
    "tags": []
   },
   "source": [
    "**Normal**"
   ]
  },
  {
   "cell_type": "code",
   "execution_count": 28,
   "id": "1c491fe6",
   "metadata": {
    "execution": {
     "iopub.execute_input": "2024-02-24T02:15:39.742648Z",
     "iopub.status.busy": "2024-02-24T02:15:39.742324Z",
     "iopub.status.idle": "2024-02-24T02:15:39.785219Z",
     "shell.execute_reply": "2024-02-24T02:15:39.784302Z"
    },
    "papermill": {
     "duration": 0.091227,
     "end_time": "2024-02-24T02:15:39.786763",
     "exception": false,
     "start_time": "2024-02-24T02:15:39.695536",
     "status": "completed"
    },
    "tags": []
   },
   "outputs": [
    {
     "name": "stdout",
     "output_type": "stream",
     "text": [
      "accuracy: 1.0\n",
      "recall: 1.0\n",
      "precision: 1.0\n",
      "f1-score: 1.0\n",
      "roc_auc:  1.0\n"
     ]
    }
   ],
   "source": [
    "from sklearn.svm import SVC\n",
    "\n",
    "svm = SVC(kernel='linear')\n",
    "svm.fit(X_train_reduced, y_train)\n",
    "y_pred = svm.predict(X_test_reduced)\n",
    "\n",
    "accuracy = accuracy_score(y_test, y_pred)\n",
    "precision = precision_score(y_test, y_pred, average='macro')\n",
    "recall = recall_score(y_test, y_pred, average='macro')\n",
    "f1 = f1_score(y_test, y_pred, average='macro')\n",
    "\n",
    "# One-hot encoding for probability calculation (adapt if necessary)\n",
    "# Assuming 'label_' prefix for clarity\n",
    "y_test_onehot = pd.get_dummies(y_test, prefix='label_')\n",
    "y_pred_onehot = pd.get_dummies(y_pred, prefix='label_')\n",
    "\n",
    "# ROC AUC score with multiclass handling\n",
    "roc_auc_macro = roc_auc_score(y_test_onehot, y_pred_onehot,\n",
    "                              average='macro', multi_class='ovo')  # Specify 'ovo' or 'ovr'\n",
    "\n",
    "print(\"accuracy:\", accuracy)\n",
    "print(\"recall:\", recall)\n",
    "print(\"precision:\", precision)\n",
    "print(\"f1-score:\", f1)\n",
    "print('roc_auc: ', roc_auc_macro)"
   ]
  },
  {
   "cell_type": "markdown",
   "id": "fe25cfa9",
   "metadata": {
    "papermill": {
     "duration": 0.046311,
     "end_time": "2024-02-24T02:15:39.878765",
     "exception": false,
     "start_time": "2024-02-24T02:15:39.832454",
     "status": "completed"
    },
    "tags": []
   },
   "source": [
    "**Tunning**"
   ]
  },
  {
   "cell_type": "code",
   "execution_count": 29,
   "id": "b7872cb2",
   "metadata": {
    "execution": {
     "iopub.execute_input": "2024-02-24T02:15:39.970624Z",
     "iopub.status.busy": "2024-02-24T02:15:39.970315Z",
     "iopub.status.idle": "2024-02-24T02:15:39.975777Z",
     "shell.execute_reply": "2024-02-24T02:15:39.975045Z"
    },
    "papermill": {
     "duration": 0.053231,
     "end_time": "2024-02-24T02:15:39.977198",
     "exception": false,
     "start_time": "2024-02-24T02:15:39.923967",
     "status": "completed"
    },
    "tags": []
   },
   "outputs": [],
   "source": [
    "import optuna\n",
    "from sklearn.model_selection import cross_val_score\n",
    "import warnings\n",
    "warnings.filterwarnings('ignore')\n",
    "\n",
    "def objective(trial):\n",
    "    hyperparams = {\n",
    "        'kernel': trial.suggest_categorical('kernel', ['linear', 'rbf', 'poly']),\n",
    "        'C': trial.suggest_loguniform('C', 1e-5, 1e5),\n",
    "        'gamma': trial.suggest_loguniform('gamma', 1e-5, 1e5),\n",
    "        # 'degree': trial.suggest_int('degree', 2, 5),  # for polynomial kernel\n",
    "        'tol': trial.suggest_loguniform('tol', 1e-4, 1e-2),\n",
    "        'shrinking': trial.suggest_categorical('shrinking', [True, False]),\n",
    "    }\n",
    "    \n",
    "    # Create KNN model with tuned hyperparameters\n",
    "    model = SVC(**hyperparams)\n",
    "    scores = cross_val_score(model, X_train_reduced, y_train, cv = kf,scoring = 'accuracy')\n",
    "    return np.mean(scores)"
   ]
  },
  {
   "cell_type": "code",
   "execution_count": 30,
   "id": "730a44d0",
   "metadata": {
    "execution": {
     "iopub.execute_input": "2024-02-24T02:15:40.070996Z",
     "iopub.status.busy": "2024-02-24T02:15:40.070658Z",
     "iopub.status.idle": "2024-02-24T02:15:47.453914Z",
     "shell.execute_reply": "2024-02-24T02:15:47.453044Z"
    },
    "papermill": {
     "duration": 7.431808,
     "end_time": "2024-02-24T02:15:47.455538",
     "exception": false,
     "start_time": "2024-02-24T02:15:40.023730",
     "status": "completed"
    },
    "tags": []
   },
   "outputs": [
    {
     "name": "stderr",
     "output_type": "stream",
     "text": [
      "[I 2024-02-24 02:15:40,074] A new study created in memory with name: no-name-bdc01c70-fb78-4f98-aeec-fda2d1501d30\n",
      "[I 2024-02-24 02:15:40,151] Trial 0 finished with value: 0.0 and parameters: {'kernel': 'rbf', 'C': 0.003749889933767837, 'gamma': 0.003821802387381811, 'tol': 0.0015162113198133366, 'shrinking': True}. Best is trial 0 with value: 0.0.\n",
      "[I 2024-02-24 02:15:40,220] Trial 1 finished with value: 0.859375 and parameters: {'kernel': 'poly', 'C': 0.00030772237806172566, 'gamma': 1.437811437603048, 'tol': 0.0002502038255743148, 'shrinking': True}. Best is trial 1 with value: 0.859375.\n",
      "[I 2024-02-24 02:15:40,284] Trial 2 finished with value: 0.859375 and parameters: {'kernel': 'poly', 'C': 7206.8542880638615, 'gamma': 0.3355691454118639, 'tol': 0.0017032032139219302, 'shrinking': True}. Best is trial 1 with value: 0.859375.\n",
      "[I 2024-02-24 02:15:40,343] Trial 3 finished with value: 0.946875 and parameters: {'kernel': 'linear', 'C': 0.00010023080976677891, 'gamma': 171.64644132028351, 'tol': 0.0007038171585062275, 'shrinking': True}. Best is trial 3 with value: 0.946875.\n",
      "[I 2024-02-24 02:15:40,403] Trial 4 finished with value: 0.946875 and parameters: {'kernel': 'linear', 'C': 32.52021378779435, 'gamma': 1866.2704752460393, 'tol': 0.00044596877385143056, 'shrinking': True}. Best is trial 3 with value: 0.946875.\n",
      "[I 2024-02-24 02:15:40,495] Trial 5 finished with value: 0.0 and parameters: {'kernel': 'rbf', 'C': 80.0334262216453, 'gamma': 0.028278044180680906, 'tol': 0.0001759889149881695, 'shrinking': True}. Best is trial 3 with value: 0.946875.\n",
      "[I 2024-02-24 02:15:40,550] Trial 6 finished with value: 0.859375 and parameters: {'kernel': 'poly', 'C': 1.2127475375560899e-05, 'gamma': 1.5955138164660874, 'tol': 0.004679304516479761, 'shrinking': False}. Best is trial 3 with value: 0.946875.\n",
      "[I 2024-02-24 02:15:40,618] Trial 7 finished with value: 0.0 and parameters: {'kernel': 'rbf', 'C': 0.00023153159672781225, 'gamma': 356.55434501532187, 'tol': 0.0005424298827034124, 'shrinking': True}. Best is trial 3 with value: 0.946875.\n",
      "[I 2024-02-24 02:15:40,671] Trial 8 finished with value: 0.946875 and parameters: {'kernel': 'linear', 'C': 0.0023463182492255204, 'gamma': 16711.32937914102, 'tol': 0.0038338046034184304, 'shrinking': True}. Best is trial 3 with value: 0.946875.\n",
      "[I 2024-02-24 02:15:40,725] Trial 9 finished with value: 0.8625 and parameters: {'kernel': 'poly', 'C': 60.8235445118516, 'gamma': 6630.431866263596, 'tol': 0.009002122353457083, 'shrinking': False}. Best is trial 3 with value: 0.946875.\n",
      "[I 2024-02-24 02:15:40,805] Trial 10 finished with value: 0.946875 and parameters: {'kernel': 'linear', 'C': 0.24794046457110272, 'gamma': 1.1634332312542454e-05, 'tol': 0.00010158945982868006, 'shrinking': False}. Best is trial 3 with value: 0.946875.\n",
      "[I 2024-02-24 02:15:40,879] Trial 11 finished with value: 0.946875 and parameters: {'kernel': 'linear', 'C': 0.775566789607727, 'gamma': 118.41723881608588, 'tol': 0.0005452093855739283, 'shrinking': True}. Best is trial 3 with value: 0.946875.\n",
      "[I 2024-02-24 02:15:40,950] Trial 12 finished with value: 0.946875 and parameters: {'kernel': 'linear', 'C': 46.56950646684567, 'gamma': 207.38983463311015, 'tol': 0.0006151184553872879, 'shrinking': True}. Best is trial 3 with value: 0.946875.\n",
      "[I 2024-02-24 02:15:41,024] Trial 13 finished with value: 0.946875 and parameters: {'kernel': 'linear', 'C': 7559.424966738634, 'gamma': 63668.181238498015, 'tol': 0.00029248488535401544, 'shrinking': True}. Best is trial 3 with value: 0.946875.\n",
      "[I 2024-02-24 02:15:41,088] Trial 14 finished with value: 0.946875 and parameters: {'kernel': 'linear', 'C': 0.047342063586001765, 'gamma': 41.53278887289631, 'tol': 0.0010677670088625843, 'shrinking': False}. Best is trial 3 with value: 0.946875.\n",
      "[I 2024-02-24 02:15:41,160] Trial 15 finished with value: 0.946875 and parameters: {'kernel': 'linear', 'C': 374.7171496324498, 'gamma': 1614.6927543040308, 'tol': 0.000365178715588536, 'shrinking': True}. Best is trial 3 with value: 0.946875.\n",
      "[I 2024-02-24 02:15:41,231] Trial 16 finished with value: 0.946875 and parameters: {'kernel': 'linear', 'C': 3.7920430277939214, 'gamma': 12.237405805838788, 'tol': 0.0010866813025872516, 'shrinking': True}. Best is trial 3 with value: 0.946875.\n",
      "[I 2024-02-24 02:15:41,299] Trial 17 finished with value: 0.946875 and parameters: {'kernel': 'linear', 'C': 92125.28899336232, 'gamma': 3292.6668089776185, 'tol': 0.002471705705611273, 'shrinking': True}. Best is trial 3 with value: 0.946875.\n",
      "[I 2024-02-24 02:15:41,363] Trial 18 finished with value: 0.946875 and parameters: {'kernel': 'linear', 'C': 1.4797731573106733e-05, 'gamma': 22.0063262507563, 'tol': 0.0006787846445250907, 'shrinking': False}. Best is trial 3 with value: 0.946875.\n",
      "[I 2024-02-24 02:15:41,465] Trial 19 finished with value: 0.0 and parameters: {'kernel': 'rbf', 'C': 3.7899456098008653, 'gamma': 905.0886181430822, 'tol': 0.00016672139558056336, 'shrinking': True}. Best is trial 3 with value: 0.946875.\n",
      "[I 2024-02-24 02:15:41,536] Trial 20 finished with value: 0.946875 and parameters: {'kernel': 'linear', 'C': 0.045185330315506825, 'gamma': 71962.12946556712, 'tol': 0.0004271474783183847, 'shrinking': True}. Best is trial 3 with value: 0.946875.\n",
      "[I 2024-02-24 02:15:41,602] Trial 21 finished with value: 0.946875 and parameters: {'kernel': 'linear', 'C': 0.0010001536135428512, 'gamma': 18079.47605945665, 'tol': 0.003042505505622754, 'shrinking': True}. Best is trial 3 with value: 0.946875.\n",
      "[I 2024-02-24 02:15:41,665] Trial 22 finished with value: 0.946875 and parameters: {'kernel': 'linear', 'C': 0.004027102797185404, 'gamma': 1484.2897477163679, 'tol': 0.006145178901163138, 'shrinking': True}. Best is trial 3 with value: 0.946875.\n",
      "[I 2024-02-24 02:15:41,732] Trial 23 finished with value: 0.946875 and parameters: {'kernel': 'linear', 'C': 4.459093648741894e-05, 'gamma': 16646.320250050852, 'tol': 0.0018257836615727318, 'shrinking': True}. Best is trial 3 with value: 0.946875.\n",
      "[I 2024-02-24 02:15:41,803] Trial 24 finished with value: 0.946875 and parameters: {'kernel': 'linear', 'C': 0.01449458201074562, 'gamma': 9.625388655257602, 'tol': 0.0007944047139126267, 'shrinking': True}. Best is trial 3 with value: 0.946875.\n",
      "[I 2024-02-24 02:15:41,868] Trial 25 finished with value: 0.946875 and parameters: {'kernel': 'linear', 'C': 0.00010506094155461936, 'gamma': 10366.022786496214, 'tol': 0.0037996241121495953, 'shrinking': True}. Best is trial 3 with value: 0.946875.\n",
      "[I 2024-02-24 02:15:41,934] Trial 26 finished with value: 0.946875 and parameters: {'kernel': 'linear', 'C': 0.0012916033378139859, 'gamma': 116.71311420314495, 'tol': 0.001299323575721015, 'shrinking': False}. Best is trial 3 with value: 0.946875.\n",
      "[I 2024-02-24 02:15:42,002] Trial 27 finished with value: 0.946875 and parameters: {'kernel': 'linear', 'C': 3.6504424226954537, 'gamma': 578.6242600994607, 'tol': 0.0023699102981418266, 'shrinking': True}. Best is trial 3 with value: 0.946875.\n",
      "[I 2024-02-24 02:15:42,095] Trial 28 finished with value: 0.0 and parameters: {'kernel': 'rbf', 'C': 0.0698756268764685, 'gamma': 73565.4430767479, 'tol': 0.0008025575409090056, 'shrinking': True}. Best is trial 3 with value: 0.946875.\n",
      "[I 2024-02-24 02:15:42,165] Trial 29 finished with value: 0.859375 and parameters: {'kernel': 'poly', 'C': 0.004208071956954754, 'gamma': 0.00012188718855723167, 'tol': 0.009211094662676852, 'shrinking': True}. Best is trial 3 with value: 0.946875.\n",
      "[I 2024-02-24 02:15:42,270] Trial 30 finished with value: 0.0 and parameters: {'kernel': 'rbf', 'C': 582.9929484044463, 'gamma': 0.21124553177946204, 'tol': 0.0004065999620208641, 'shrinking': True}. Best is trial 3 with value: 0.946875.\n",
      "[I 2024-02-24 02:15:42,343] Trial 31 finished with value: 0.946875 and parameters: {'kernel': 'linear', 'C': 0.43746426551502077, 'gamma': 0.0003867265449876287, 'tol': 0.00010498742213301164, 'shrinking': False}. Best is trial 3 with value: 0.946875.\n",
      "[I 2024-02-24 02:15:42,415] Trial 32 finished with value: 0.946875 and parameters: {'kernel': 'linear', 'C': 0.3484275457755726, 'gamma': 1.905927055669343e-05, 'tol': 0.00011420166845655206, 'shrinking': False}. Best is trial 3 with value: 0.946875.\n",
      "[I 2024-02-24 02:15:42,484] Trial 33 finished with value: 0.946875 and parameters: {'kernel': 'linear', 'C': 0.0003869400598038617, 'gamma': 0.0017388641969823624, 'tol': 0.0002182604846184206, 'shrinking': False}. Best is trial 3 with value: 0.946875.\n",
      "[I 2024-02-24 02:15:42,559] Trial 34 finished with value: 0.859375 and parameters: {'kernel': 'poly', 'C': 19.071640380567924, 'gamma': 0.020015129933904845, 'tol': 0.0003208669685414511, 'shrinking': False}. Best is trial 3 with value: 0.946875.\n",
      "[I 2024-02-24 02:15:42,629] Trial 35 finished with value: 0.946875 and parameters: {'kernel': 'linear', 'C': 0.013490330994030691, 'gamma': 1.930714682474664, 'tol': 0.00015681836877070885, 'shrinking': False}. Best is trial 3 with value: 0.946875.\n",
      "[I 2024-02-24 02:15:42,694] Trial 36 finished with value: 0.946875 and parameters: {'kernel': 'linear', 'C': 5.7818543254102254e-05, 'gamma': 0.03501273954342894, 'tol': 0.001473430392585538, 'shrinking': False}. Best is trial 3 with value: 0.946875.\n",
      "[I 2024-02-24 02:15:42,777] Trial 37 finished with value: 0.859375 and parameters: {'kernel': 'poly', 'C': 0.0009481946954658984, 'gamma': 1.2249419152145832e-05, 'tol': 0.00024623520916883213, 'shrinking': True}. Best is trial 3 with value: 0.946875.\n",
      "[I 2024-02-24 02:15:42,871] Trial 38 finished with value: 0.0 and parameters: {'kernel': 'rbf', 'C': 0.1900819752176041, 'gamma': 0.4737005430897304, 'tol': 0.0008343581343993132, 'shrinking': True}. Best is trial 3 with value: 0.946875.\n",
      "[I 2024-02-24 02:15:42,932] Trial 39 finished with value: 0.946875 and parameters: {'kernel': 'linear', 'C': 311.60379637681854, 'gamma': 3.297355460605675, 'tol': 0.006707069019744737, 'shrinking': False}. Best is trial 3 with value: 0.946875.\n",
      "[I 2024-02-24 02:15:43,013] Trial 40 finished with value: 0.859375 and parameters: {'kernel': 'poly', 'C': 12.07502678176971, 'gamma': 57.68997685691206, 'tol': 0.0005245514358350479, 'shrinking': True}. Best is trial 3 with value: 0.946875.\n",
      "[I 2024-02-24 02:15:43,087] Trial 41 finished with value: 0.946875 and parameters: {'kernel': 'linear', 'C': 0.012736950218559407, 'gamma': 222.24383057217446, 'tol': 0.0005113954826840337, 'shrinking': True}. Best is trial 3 with value: 0.946875.\n",
      "[I 2024-02-24 02:15:43,164] Trial 42 finished with value: 0.946875 and parameters: {'kernel': 'linear', 'C': 0.9869407130519829, 'gamma': 3386.6662714786926, 'tol': 0.00020244785563982768, 'shrinking': True}. Best is trial 3 with value: 0.946875.\n",
      "[I 2024-02-24 02:15:43,240] Trial 43 finished with value: 0.946875 and parameters: {'kernel': 'linear', 'C': 0.8631130231125967, 'gamma': 458.6502888844511, 'tol': 0.00014184957069757634, 'shrinking': True}. Best is trial 3 with value: 0.946875.\n",
      "[I 2024-02-24 02:15:43,313] Trial 44 finished with value: 0.946875 and parameters: {'kernel': 'linear', 'C': 0.14372225138766082, 'gamma': 96.90754611774018, 'tol': 0.0006474874363439526, 'shrinking': True}. Best is trial 3 with value: 0.946875.\n",
      "[I 2024-02-24 02:15:43,387] Trial 45 finished with value: 0.946875 and parameters: {'kernel': 'linear', 'C': 144.4917359155779, 'gamma': 3451.6102895727477, 'tol': 0.0002837320308243022, 'shrinking': True}. Best is trial 3 with value: 0.946875.\n",
      "[I 2024-02-24 02:15:43,458] Trial 46 finished with value: 0.946875 and parameters: {'kernel': 'linear', 'C': 3763.0224048648442, 'gamma': 23412.116090637624, 'tol': 0.0010060500121520952, 'shrinking': True}. Best is trial 3 with value: 0.946875.\n",
      "[I 2024-02-24 02:15:43,527] Trial 47 finished with value: 0.946875 and parameters: {'kernel': 'linear', 'C': 13.143590963775027, 'gamma': 4.810723252288085, 'tol': 0.0020303027783793617, 'shrinking': True}. Best is trial 3 with value: 0.946875.\n",
      "[I 2024-02-24 02:15:43,628] Trial 48 finished with value: 0.0 and parameters: {'kernel': 'rbf', 'C': 1.677906661876155, 'gamma': 43.18347470233152, 'tol': 0.0012841626571839058, 'shrinking': False}. Best is trial 3 with value: 0.946875.\n",
      "[I 2024-02-24 02:15:43,701] Trial 49 finished with value: 0.946875 and parameters: {'kernel': 'linear', 'C': 0.00023753668316152485, 'gamma': 1046.2333001146374, 'tol': 0.0004792239443054876, 'shrinking': True}. Best is trial 3 with value: 0.946875.\n",
      "[I 2024-02-24 02:15:43,774] Trial 50 finished with value: 0.946875 and parameters: {'kernel': 'linear', 'C': 2.227048477714949e-05, 'gamma': 8001.41480065605, 'tol': 0.0003713021475375911, 'shrinking': True}. Best is trial 3 with value: 0.946875.\n",
      "[I 2024-02-24 02:15:43,846] Trial 51 finished with value: 0.946875 and parameters: {'kernel': 'linear', 'C': 42.36693102033866, 'gamma': 240.3960180445931, 'tol': 0.0006388765623596124, 'shrinking': True}. Best is trial 3 with value: 0.946875.\n",
      "[I 2024-02-24 02:15:43,919] Trial 52 finished with value: 0.946875 and parameters: {'kernel': 'linear', 'C': 1488.0460751293824, 'gamma': 2980.4509727355603, 'tol': 0.0006171490574930124, 'shrinking': True}. Best is trial 3 with value: 0.946875.\n",
      "[I 2024-02-24 02:15:43,989] Trial 53 finished with value: 0.946875 and parameters: {'kernel': 'linear', 'C': 50.61996169909442, 'gamma': 156.34915955150777, 'tol': 0.0009249666191014211, 'shrinking': True}. Best is trial 3 with value: 0.946875.\n",
      "[I 2024-02-24 02:15:44,062] Trial 54 finished with value: 0.946875 and parameters: {'kernel': 'linear', 'C': 6.884215357779091, 'gamma': 22.58515307622586, 'tol': 0.0012053268228429783, 'shrinking': True}. Best is trial 3 with value: 0.946875.\n",
      "[I 2024-02-24 02:15:44,131] Trial 55 finished with value: 0.946875 and parameters: {'kernel': 'linear', 'C': 1.9895887164232404, 'gamma': 33230.35058106601, 'tol': 0.004068525584063707, 'shrinking': True}. Best is trial 3 with value: 0.946875.\n",
      "[I 2024-02-24 02:15:44,209] Trial 56 finished with value: 0.946875 and parameters: {'kernel': 'linear', 'C': 21681.333199282413, 'gamma': 475.5802026396698, 'tol': 0.0003322950454212979, 'shrinking': True}. Best is trial 3 with value: 0.946875.\n",
      "[I 2024-02-24 02:15:44,278] Trial 57 finished with value: 0.946875 and parameters: {'kernel': 'linear', 'C': 0.04092177832525332, 'gamma': 1762.8954285428874, 'tol': 0.0007344408749212344, 'shrinking': False}. Best is trial 3 with value: 0.946875.\n",
      "[I 2024-02-24 02:15:44,360] Trial 58 finished with value: 0.859375 and parameters: {'kernel': 'poly', 'C': 112.49972444647723, 'gamma': 10.859587172175312, 'tol': 0.00043950480676298954, 'shrinking': True}. Best is trial 3 with value: 0.946875.\n",
      "[I 2024-02-24 02:15:44,434] Trial 59 finished with value: 0.946875 and parameters: {'kernel': 'linear', 'C': 0.0026527932547657767, 'gamma': 7543.1628150117, 'tol': 0.0005735719088097585, 'shrinking': True}. Best is trial 3 with value: 0.946875.\n",
      "[I 2024-02-24 02:15:44,517] Trial 60 finished with value: 0.0 and parameters: {'kernel': 'rbf', 'C': 0.00011759840666250193, 'gamma': 41613.18872142717, 'tol': 0.002993872389966187, 'shrinking': True}. Best is trial 3 with value: 0.946875.\n",
      "[I 2024-02-24 02:15:44,594] Trial 61 finished with value: 0.946875 and parameters: {'kernel': 'linear', 'C': 70665.31349283701, 'gamma': 74568.7097375244, 'tol': 0.0002897487636158372, 'shrinking': True}. Best is trial 3 with value: 0.946875.\n",
      "[I 2024-02-24 02:15:44,669] Trial 62 finished with value: 0.946875 and parameters: {'kernel': 'linear', 'C': 9044.763434828063, 'gamma': 15000.908904975728, 'tol': 0.00036858819431952454, 'shrinking': True}. Best is trial 3 with value: 0.946875.\n",
      "[I 2024-02-24 02:15:44,747] Trial 63 finished with value: 0.946875 and parameters: {'kernel': 'linear', 'C': 892.8856084343182, 'gamma': 1074.0180074294958, 'tol': 0.0001278373930030133, 'shrinking': True}. Best is trial 3 with value: 0.946875.\n",
      "[I 2024-02-24 02:15:44,823] Trial 64 finished with value: 0.946875 and parameters: {'kernel': 'linear', 'C': 28.523937398375992, 'gamma': 96656.53064079194, 'tol': 0.00044903366680003104, 'shrinking': True}. Best is trial 3 with value: 0.946875.\n",
      "[I 2024-02-24 02:15:44,890] Trial 65 finished with value: 0.946875 and parameters: {'kernel': 'linear', 'C': 255.7737925135973, 'gamma': 5201.134327100445, 'tol': 0.0009065677674612479, 'shrinking': False}. Best is trial 3 with value: 0.946875.\n",
      "[I 2024-02-24 02:15:44,966] Trial 66 finished with value: 0.946875 and parameters: {'kernel': 'linear', 'C': 0.00048479550515883105, 'gamma': 0.14346451559716475, 'tol': 0.00022491928304042613, 'shrinking': True}. Best is trial 3 with value: 0.946875.\n",
      "[I 2024-02-24 02:15:45,033] Trial 67 finished with value: 0.946875 and parameters: {'kernel': 'linear', 'C': 2335.496848599096, 'gamma': 89.8172529163294, 'tol': 0.0007805310213311825, 'shrinking': False}. Best is trial 3 with value: 0.946875.\n",
      "[I 2024-02-24 02:15:45,112] Trial 68 finished with value: 0.946875 and parameters: {'kernel': 'linear', 'C': 0.02892428393015307, 'gamma': 28.299639938304164, 'tol': 0.0001778425719416645, 'shrinking': True}. Best is trial 3 with value: 0.946875.\n",
      "[I 2024-02-24 02:15:45,190] Trial 69 finished with value: 0.859375 and parameters: {'kernel': 'poly', 'C': 0.11369128892109791, 'gamma': 8.010939320611295e-05, 'tol': 0.0015355940046618518, 'shrinking': True}. Best is trial 3 with value: 0.946875.\n",
      "[I 2024-02-24 02:15:45,263] Trial 70 finished with value: 0.946875 and parameters: {'kernel': 'linear', 'C': 5.504857713791056, 'gamma': 0.00318230211317121, 'tol': 0.0007041639196299579, 'shrinking': True}. Best is trial 3 with value: 0.946875.\n",
      "[I 2024-02-24 02:15:45,332] Trial 71 finished with value: 0.946875 and parameters: {'kernel': 'linear', 'C': 0.40107076873976333, 'gamma': 269.48172129715346, 'tol': 0.0010783214660442656, 'shrinking': False}. Best is trial 3 with value: 0.946875.\n",
      "[I 2024-02-24 02:15:45,405] Trial 72 finished with value: 0.946875 and parameters: {'kernel': 'linear', 'C': 0.2821908696158108, 'gamma': 808.2257731842333, 'tol': 0.0005714530512040665, 'shrinking': False}. Best is trial 3 with value: 0.946875.\n",
      "[I 2024-02-24 02:15:45,469] Trial 73 finished with value: 0.946875 and parameters: {'kernel': 'linear', 'C': 0.0023297588644558085, 'gamma': 1795.2769433332123, 'tol': 0.005689733027059557, 'shrinking': False}. Best is trial 3 with value: 0.946875.\n",
      "[I 2024-02-24 02:15:45,539] Trial 74 finished with value: 0.946875 and parameters: {'kernel': 'linear', 'C': 0.08722248102602861, 'gamma': 64.18140509962203, 'tol': 0.00040727920831984876, 'shrinking': False}. Best is trial 3 with value: 0.946875.\n",
      "[I 2024-02-24 02:15:45,628] Trial 75 finished with value: 0.0 and parameters: {'kernel': 'rbf', 'C': 0.01976646698308466, 'gamma': 16982.42927119547, 'tol': 0.007778030229597422, 'shrinking': False}. Best is trial 3 with value: 0.946875.\n",
      "[I 2024-02-24 02:15:45,696] Trial 76 finished with value: 0.946875 and parameters: {'kernel': 'linear', 'C': 0.007184411441057363, 'gamma': 0.8929266217693428, 'tol': 0.0004987647377542914, 'shrinking': False}. Best is trial 3 with value: 0.946875.\n",
      "[I 2024-02-24 02:15:45,771] Trial 77 finished with value: 0.946875 and parameters: {'kernel': 'linear', 'C': 1.9953689348496306, 'gamma': 138.94515636740763, 'tol': 0.00026616744970528954, 'shrinking': True}. Best is trial 3 with value: 0.946875.\n",
      "[I 2024-02-24 02:15:45,841] Trial 78 finished with value: 0.946875 and parameters: {'kernel': 'linear', 'C': 0.056399556728269136, 'gamma': 6.349156745411755, 'tol': 0.0020445555924217674, 'shrinking': True}. Best is trial 3 with value: 0.946875.\n",
      "[I 2024-02-24 02:15:45,909] Trial 79 finished with value: 0.946875 and parameters: {'kernel': 'linear', 'C': 0.7372717235099712, 'gamma': 39150.54659253517, 'tol': 0.0008737825900410348, 'shrinking': False}. Best is trial 3 with value: 0.946875.\n",
      "[I 2024-02-24 02:15:45,993] Trial 80 finished with value: 0.859375 and parameters: {'kernel': 'poly', 'C': 0.007414616106108495, 'gamma': 17.25002554466644, 'tol': 0.0001902198570893468, 'shrinking': True}. Best is trial 3 with value: 0.946875.\n",
      "[I 2024-02-24 02:15:46,070] Trial 81 finished with value: 0.946875 and parameters: {'kernel': 'linear', 'C': 395.8925252200449, 'gamma': 444.29660883550946, 'tol': 0.0003417935678478586, 'shrinking': True}. Best is trial 3 with value: 0.946875.\n",
      "[I 2024-02-24 02:15:46,147] Trial 82 finished with value: 0.946875 and parameters: {'kernel': 'linear', 'C': 1.0097714550352727e-05, 'gamma': 4700.073028144704, 'tol': 0.0005683972406943032, 'shrinking': True}. Best is trial 3 with value: 0.946875.\n",
      "[I 2024-02-24 02:15:46,222] Trial 83 finished with value: 0.946875 and parameters: {'kernel': 'linear', 'C': 6697.836409664939, 'gamma': 2336.9325871288706, 'tol': 0.00039140334400115397, 'shrinking': True}. Best is trial 3 with value: 0.946875.\n",
      "[I 2024-02-24 02:15:46,297] Trial 84 finished with value: 0.946875 and parameters: {'kernel': 'linear', 'C': 196.39471256677882, 'gamma': 43.4109867111285, 'tol': 0.000667470746233696, 'shrinking': True}. Best is trial 3 with value: 0.946875.\n",
      "[I 2024-02-24 02:15:46,371] Trial 85 finished with value: 0.946875 and parameters: {'kernel': 'linear', 'C': 0.0006883551408045246, 'gamma': 734.4045131733195, 'tol': 0.0003077878239541687, 'shrinking': True}. Best is trial 3 with value: 0.946875.\n",
      "[I 2024-02-24 02:15:46,447] Trial 86 finished with value: 0.946875 and parameters: {'kernel': 'linear', 'C': 841.5335643086773, 'gamma': 212.35934089555658, 'tol': 0.00023872993414997536, 'shrinking': True}. Best is trial 3 with value: 0.946875.\n",
      "[I 2024-02-24 02:15:46,543] Trial 87 finished with value: 0.0 and parameters: {'kernel': 'rbf', 'C': 0.2017108671792218, 'gamma': 10557.249462780665, 'tol': 0.00010585419615481153, 'shrinking': True}. Best is trial 3 with value: 0.946875.\n",
      "[I 2024-02-24 02:15:46,611] Trial 88 finished with value: 0.946875 and parameters: {'kernel': 'linear', 'C': 31294.75411725533, 'gamma': 0.0007924386495659904, 'tol': 0.000505900550068887, 'shrinking': False}. Best is trial 3 with value: 0.946875.\n",
      "[I 2024-02-24 02:15:46,685] Trial 89 finished with value: 0.946875 and parameters: {'kernel': 'linear', 'C': 73.79241640522858, 'gamma': 1228.91669515231, 'tol': 0.00045140868877651237, 'shrinking': True}. Best is trial 3 with value: 0.946875.\n",
      "[I 2024-02-24 02:15:46,754] Trial 90 finished with value: 0.946875 and parameters: {'kernel': 'linear', 'C': 0.00012951031394917736, 'gamma': 0.07590996605545688, 'tol': 0.003536776716052634, 'shrinking': True}. Best is trial 3 with value: 0.946875.\n",
      "[I 2024-02-24 02:15:46,827] Trial 91 finished with value: 0.946875 and parameters: {'kernel': 'linear', 'C': 3.535823099863539, 'gamma': 13.89947539204749, 'tol': 0.0017194343082435096, 'shrinking': True}. Best is trial 3 with value: 0.946875.\n",
      "[I 2024-02-24 02:15:46,899] Trial 92 finished with value: 0.946875 and parameters: {'kernel': 'linear', 'C': 7.929539054104383, 'gamma': 27.342229933357142, 'tol': 0.0011501345397534968, 'shrinking': True}. Best is trial 3 with value: 0.946875.\n",
      "[I 2024-02-24 02:15:46,970] Trial 93 finished with value: 0.946875 and parameters: {'kernel': 'linear', 'C': 32.45175444687865, 'gamma': 0.010920224365934657, 'tol': 0.001042740054291782, 'shrinking': True}. Best is trial 3 with value: 0.946875.\n",
      "[I 2024-02-24 02:15:47,041] Trial 94 finished with value: 0.946875 and parameters: {'kernel': 'linear', 'C': 1.2216244247183432, 'gamma': 99.31508795817473, 'tol': 0.00144203248556821, 'shrinking': True}. Best is trial 3 with value: 0.946875.\n",
      "[I 2024-02-24 02:15:47,118] Trial 95 finished with value: 0.946875 and parameters: {'kernel': 'linear', 'C': 0.6437785307402691, 'gamma': 3.3640821245289665, 'tol': 0.0001486609331115448, 'shrinking': True}. Best is trial 3 with value: 0.946875.\n",
      "[I 2024-02-24 02:15:47,195] Trial 96 finished with value: 0.946875 and parameters: {'kernel': 'linear', 'C': 17.967722394809083, 'gamma': 7.291527966588715, 'tol': 0.0007559710949364203, 'shrinking': True}. Best is trial 3 with value: 0.946875.\n",
      "[I 2024-02-24 02:15:47,268] Trial 97 finished with value: 0.946875 and parameters: {'kernel': 'linear', 'C': 11.644514908770615, 'gamma': 385.17631905711477, 'tol': 0.0009488463082441699, 'shrinking': True}. Best is trial 3 with value: 0.946875.\n",
      "[I 2024-02-24 02:15:47,344] Trial 98 finished with value: 0.859375 and parameters: {'kernel': 'poly', 'C': 2.6548688384306818, 'gamma': 65.90105004974733, 'tol': 0.0005880618929326529, 'shrinking': False}. Best is trial 3 with value: 0.946875.\n",
      "[I 2024-02-24 02:15:47,414] Trial 99 finished with value: 0.946875 and parameters: {'kernel': 'linear', 'C': 4.926696847471834, 'gamma': 31225.24763049744, 'tol': 0.0026443172538948207, 'shrinking': True}. Best is trial 3 with value: 0.946875.\n"
     ]
    },
    {
     "name": "stdout",
     "output_type": "stream",
     "text": [
      "Best params found : {'kernel': 'linear', 'C': 0.00010023080976677891, 'gamma': 171.64644132028351, 'tol': 0.0007038171585062275, 'shrinking': True}\n",
      "accuracy: 1.0\n",
      "recall: 1.0\n",
      "precision: 1.0\n",
      "f1-score: 1.0\n",
      "roc_auc:  1.0\n"
     ]
    }
   ],
   "source": [
    "study = optuna.create_study(direction='maximize')\n",
    "study.optimize(objective, n_trials=100)\n",
    "best_params = study.best_params\n",
    "print(\"Best params found :\", best_params)\n",
    "\n",
    "final_model = SVC(**best_params)\n",
    "final_model.fit(X_train_reduced, y_train)\n",
    "y_pred = final_model.predict(X_test_reduced)\n",
    "prediction_results['svc'] = list(y_pred)\n",
    "\n",
    "accuracy = accuracy_score(y_test, y_pred)\n",
    "precision = precision_score(y_test, y_pred, average='macro')\n",
    "recall = recall_score(y_test, y_pred, average='macro')\n",
    "f1 = f1_score(y_test, y_pred, average='macro')\n",
    "\n",
    "# One-hot encoding for probability calculation (adapt if necessary)\n",
    "# Assuming 'label_' prefix for clarity\n",
    "y_test_onehot = pd.get_dummies(y_test, prefix='label_')\n",
    "y_pred_onehot = pd.get_dummies(y_pred, prefix='label_')\n",
    "\n",
    "# ROC AUC score with multiclass handling\n",
    "roc_auc_macro = roc_auc_score(y_test_onehot, y_pred_onehot,\n",
    "                              average='macro', multi_class='ovo')  # Specify 'ovo' or 'ovr'\n",
    "\n",
    "print(\"accuracy:\", accuracy)\n",
    "print(\"recall:\", recall)\n",
    "print(\"precision:\", precision)\n",
    "print(\"f1-score:\", f1)\n",
    "print('roc_auc: ', roc_auc_macro)"
   ]
  },
  {
   "cell_type": "markdown",
   "id": "eb9e0e8c",
   "metadata": {
    "papermill": {
     "duration": 0.049584,
     "end_time": "2024-02-24T02:15:47.555757",
     "exception": false,
     "start_time": "2024-02-24T02:15:47.506173",
     "status": "completed"
    },
    "tags": []
   },
   "source": [
    "# Decision Tree"
   ]
  },
  {
   "cell_type": "markdown",
   "id": "2620feea",
   "metadata": {
    "papermill": {
     "duration": 0.050232,
     "end_time": "2024-02-24T02:15:47.655630",
     "exception": false,
     "start_time": "2024-02-24T02:15:47.605398",
     "status": "completed"
    },
    "tags": []
   },
   "source": [
    "**Normal**"
   ]
  },
  {
   "cell_type": "code",
   "execution_count": 31,
   "id": "4fefa6a9",
   "metadata": {
    "execution": {
     "iopub.execute_input": "2024-02-24T02:15:47.756917Z",
     "iopub.status.busy": "2024-02-24T02:15:47.756484Z",
     "iopub.status.idle": "2024-02-24T02:15:47.818519Z",
     "shell.execute_reply": "2024-02-24T02:15:47.817912Z"
    },
    "papermill": {
     "duration": 0.114501,
     "end_time": "2024-02-24T02:15:47.820034",
     "exception": false,
     "start_time": "2024-02-24T02:15:47.705533",
     "status": "completed"
    },
    "tags": []
   },
   "outputs": [
    {
     "name": "stdout",
     "output_type": "stream",
     "text": [
      "accuracy: 0.6\n",
      "recall: 0.55\n",
      "precision: 0.5641666666666667\n",
      "f1-score: 0.5229761904761905\n",
      "roc_auc:  0.5452392744810545\n",
      "accuracy: 1.0\n",
      "recall: 1.0\n",
      "precision: 1.0\n",
      "f1-score: 1.0\n"
     ]
    }
   ],
   "source": [
    "from sklearn.tree import DecisionTreeClassifier\n",
    "\n",
    "dt = DecisionTreeClassifier(random_state=42)\n",
    "dt.fit(X_train_reduced, y_train)\n",
    "y_pred = dt.predict(X_test_reduced)\n",
    "\n",
    "accuracy = accuracy_score(y_test, y_pred)\n",
    "precision = precision_score(y_test, y_pred, average='macro')\n",
    "recall = recall_score(y_test, y_pred, average='macro')\n",
    "f1 = f1_score(y_test, y_pred, average='macro')\n",
    "\n",
    "# One-hot encoding for probability calculation (adapt if necessary)\n",
    "# Assuming 'label_' prefix for clarity\n",
    "y_test_onehot = pd.get_dummies(y_test, prefix='label_')\n",
    "y_pred_onehot = pd.get_dummies(y_pred, prefix='label_')\n",
    "\n",
    "# ROC AUC score with multiclass handling\n",
    "roc_auc_macro = roc_auc_score(y_test_onehot, y_pred_onehot,\n",
    "                              average='macro', multi_class='ovo')  # Specify 'ovo' or 'ovr'\n",
    "\n",
    "print(\"accuracy:\", accuracy)\n",
    "print(\"recall:\", recall)\n",
    "print(\"precision:\", precision)\n",
    "print(\"f1-score:\", f1)\n",
    "print('roc_auc: ', roc_auc_macro)\n",
    "\n",
    "svm = SVC(kernel='linear')\n",
    "svm.fit(X_train_reduced, y_train)\n",
    "y_pred = svm.predict(X_test_reduced)\n",
    "\n",
    "accuracy = accuracy_score(y_test, y_pred)\n",
    "precision = precision_score(y_test, y_pred, average='macro')\n",
    "recall = recall_score(y_test, y_pred, average='macro')\n",
    "f1 = f1_score(y_test, y_pred, average='macro')\n",
    "\n",
    "# # One-hot encoding for probability calculation (adapt if necessary)\n",
    "# # Assuming 'label_' prefix for clarity\n",
    "# y_test_onehot = pd.get_dummies(y_test, prefix='label_')\n",
    "# y_pred_onehot = pd.get_dummies(y_pred, prefix='label_')\n",
    "\n",
    "# # ROC AUC score with multiclass handling\n",
    "# roc_auc_macro = roc_auc_score(y_test_onehot, y_pred_onehot,\n",
    "#                               average='macro', multi_class='ovo')  # Specify 'ovo' or 'ovr'\n",
    "\n",
    "print(\"accuracy:\", accuracy)\n",
    "print(\"recall:\", recall)\n",
    "print(\"precision:\", precision)\n",
    "print(\"f1-score:\", f1)\n",
    "# print('roc_auc: ', roc_auc_macro)"
   ]
  },
  {
   "cell_type": "markdown",
   "id": "d97a15c0",
   "metadata": {
    "papermill": {
     "duration": 0.049253,
     "end_time": "2024-02-24T02:15:47.919118",
     "exception": false,
     "start_time": "2024-02-24T02:15:47.869865",
     "status": "completed"
    },
    "tags": []
   },
   "source": [
    "**Tunning**"
   ]
  },
  {
   "cell_type": "code",
   "execution_count": 32,
   "id": "dc14e22d",
   "metadata": {
    "execution": {
     "iopub.execute_input": "2024-02-24T02:15:48.020830Z",
     "iopub.status.busy": "2024-02-24T02:15:48.020557Z",
     "iopub.status.idle": "2024-02-24T02:15:48.025566Z",
     "shell.execute_reply": "2024-02-24T02:15:48.025022Z"
    },
    "papermill": {
     "duration": 0.057457,
     "end_time": "2024-02-24T02:15:48.026920",
     "exception": false,
     "start_time": "2024-02-24T02:15:47.969463",
     "status": "completed"
    },
    "tags": []
   },
   "outputs": [],
   "source": [
    "import optuna\n",
    "from sklearn.model_selection import cross_val_score\n",
    "import warnings\n",
    "warnings.filterwarnings('ignore')\n",
    "\n",
    "\n",
    "def objective(trial):\n",
    "    hyperparams = {\n",
    "        \"max_depth\" : trial.suggest_int(\"max_depth\", 2, 10),\n",
    "        \"min_samples_split\" : trial.suggest_int(\"min_samples_split\", 2, 20),\n",
    "        \"min_samples_leaf\" : trial.suggest_int(\"min_samples_leaf\", 1, 10),\n",
    "        \"criterion\" : trial.suggest_categorical(\"criterion\", [\"gini\", \"entropy\"]),\n",
    "        'random_state': trial.suggest_categorical('random_state', [42])\n",
    "        \n",
    "\n",
    "    }\n",
    "\n",
    "    # Create KNN model with tuned hyperparameters\n",
    "    model = DecisionTreeClassifier(**hyperparams)\n",
    "    scores = cross_val_score(model, X_train_reduced,\n",
    "                             y_train, cv=kf, scoring='accuracy')\n",
    "    return np.mean(scores)"
   ]
  },
  {
   "cell_type": "code",
   "execution_count": 33,
   "id": "d17e2e18",
   "metadata": {
    "execution": {
     "iopub.execute_input": "2024-02-24T02:15:48.127705Z",
     "iopub.status.busy": "2024-02-24T02:15:48.127012Z",
     "iopub.status.idle": "2024-02-24T02:16:02.244106Z",
     "shell.execute_reply": "2024-02-24T02:16:02.243052Z"
    },
    "papermill": {
     "duration": 14.169292,
     "end_time": "2024-02-24T02:16:02.245773",
     "exception": false,
     "start_time": "2024-02-24T02:15:48.076481",
     "status": "completed"
    },
    "tags": []
   },
   "outputs": [
    {
     "name": "stderr",
     "output_type": "stream",
     "text": [
      "[I 2024-02-24 02:15:48,131] A new study created in memory with name: no-name-651a97d8-efbe-4a55-84ac-9d1fee6509b2\n",
      "[I 2024-02-24 02:15:48,264] Trial 0 finished with value: 0.434375 and parameters: {'max_depth': 6, 'min_samples_split': 4, 'min_samples_leaf': 4, 'criterion': 'entropy', 'random_state': 42}. Best is trial 0 with value: 0.434375.\n",
      "[I 2024-02-24 02:15:48,315] Trial 1 finished with value: 0.3375 and parameters: {'max_depth': 9, 'min_samples_split': 7, 'min_samples_leaf': 7, 'criterion': 'gini', 'random_state': 42}. Best is trial 0 with value: 0.434375.\n",
      "[I 2024-02-24 02:15:48,439] Trial 2 finished with value: 0.20625 and parameters: {'max_depth': 4, 'min_samples_split': 13, 'min_samples_leaf': 1, 'criterion': 'entropy', 'random_state': 42}. Best is trial 0 with value: 0.434375.\n",
      "[I 2024-02-24 02:15:48,483] Trial 3 finished with value: 0.15 and parameters: {'max_depth': 5, 'min_samples_split': 20, 'min_samples_leaf': 6, 'criterion': 'gini', 'random_state': 42}. Best is trial 0 with value: 0.434375.\n",
      "[I 2024-02-24 02:15:48,625] Trial 4 finished with value: 0.409375 and parameters: {'max_depth': 10, 'min_samples_split': 13, 'min_samples_leaf': 4, 'criterion': 'entropy', 'random_state': 42}. Best is trial 0 with value: 0.434375.\n",
      "[I 2024-02-24 02:15:48,759] Trial 5 finished with value: 0.284375 and parameters: {'max_depth': 6, 'min_samples_split': 17, 'min_samples_leaf': 2, 'criterion': 'entropy', 'random_state': 42}. Best is trial 0 with value: 0.434375.\n",
      "[I 2024-02-24 02:15:48,886] Trial 6 finished with value: 0.259375 and parameters: {'max_depth': 5, 'min_samples_split': 19, 'min_samples_leaf': 9, 'criterion': 'entropy', 'random_state': 42}. Best is trial 0 with value: 0.434375.\n",
      "[I 2024-02-24 02:15:49,005] Trial 7 finished with value: 0.275 and parameters: {'max_depth': 6, 'min_samples_split': 18, 'min_samples_leaf': 6, 'criterion': 'entropy', 'random_state': 42}. Best is trial 0 with value: 0.434375.\n",
      "[I 2024-02-24 02:15:49,054] Trial 8 finished with value: 0.20625 and parameters: {'max_depth': 6, 'min_samples_split': 18, 'min_samples_leaf': 4, 'criterion': 'gini', 'random_state': 42}. Best is trial 0 with value: 0.434375.\n",
      "[I 2024-02-24 02:15:49,139] Trial 9 finished with value: 0.025 and parameters: {'max_depth': 2, 'min_samples_split': 8, 'min_samples_leaf': 3, 'criterion': 'entropy', 'random_state': 42}. Best is trial 0 with value: 0.434375.\n",
      "[I 2024-02-24 02:15:49,202] Trial 10 finished with value: 0.3125 and parameters: {'max_depth': 8, 'min_samples_split': 2, 'min_samples_leaf': 8, 'criterion': 'gini', 'random_state': 42}. Best is trial 0 with value: 0.434375.\n",
      "[I 2024-02-24 02:15:49,345] Trial 11 finished with value: 0.409375 and parameters: {'max_depth': 10, 'min_samples_split': 13, 'min_samples_leaf': 4, 'criterion': 'entropy', 'random_state': 42}. Best is trial 0 with value: 0.434375.\n",
      "[I 2024-02-24 02:15:49,490] Trial 12 finished with value: 0.45625 and parameters: {'max_depth': 8, 'min_samples_split': 2, 'min_samples_leaf': 4, 'criterion': 'entropy', 'random_state': 42}. Best is trial 12 with value: 0.45625.\n",
      "[I 2024-02-24 02:15:49,632] Trial 13 finished with value: 0.453125 and parameters: {'max_depth': 8, 'min_samples_split': 2, 'min_samples_leaf': 5, 'criterion': 'entropy', 'random_state': 42}. Best is trial 12 with value: 0.45625.\n",
      "[I 2024-02-24 02:15:49,774] Trial 14 finished with value: 0.453125 and parameters: {'max_depth': 8, 'min_samples_split': 2, 'min_samples_leaf': 5, 'criterion': 'entropy', 'random_state': 42}. Best is trial 12 with value: 0.45625.\n",
      "[I 2024-02-24 02:15:49,898] Trial 15 finished with value: 0.25625 and parameters: {'max_depth': 8, 'min_samples_split': 5, 'min_samples_leaf': 10, 'criterion': 'entropy', 'random_state': 42}. Best is trial 12 with value: 0.45625.\n",
      "[I 2024-02-24 02:15:50,051] Trial 16 finished with value: 0.478125 and parameters: {'max_depth': 8, 'min_samples_split': 9, 'min_samples_leaf': 2, 'criterion': 'entropy', 'random_state': 42}. Best is trial 16 with value: 0.478125.\n",
      "[I 2024-02-24 02:15:50,210] Trial 17 finished with value: 0.459375 and parameters: {'max_depth': 9, 'min_samples_split': 10, 'min_samples_leaf': 1, 'criterion': 'entropy', 'random_state': 42}. Best is trial 16 with value: 0.478125.\n",
      "[I 2024-02-24 02:15:50,286] Trial 18 finished with value: 0.4 and parameters: {'max_depth': 9, 'min_samples_split': 10, 'min_samples_leaf': 1, 'criterion': 'gini', 'random_state': 42}. Best is trial 16 with value: 0.478125.\n",
      "[I 2024-02-24 02:15:50,437] Trial 19 finished with value: 0.459375 and parameters: {'max_depth': 7, 'min_samples_split': 10, 'min_samples_leaf': 2, 'criterion': 'entropy', 'random_state': 42}. Best is trial 16 with value: 0.478125.\n",
      "[I 2024-02-24 02:15:50,581] Trial 20 finished with value: 0.365625 and parameters: {'max_depth': 9, 'min_samples_split': 15, 'min_samples_leaf': 2, 'criterion': 'entropy', 'random_state': 42}. Best is trial 16 with value: 0.478125.\n",
      "[I 2024-02-24 02:15:50,733] Trial 21 finished with value: 0.459375 and parameters: {'max_depth': 7, 'min_samples_split': 10, 'min_samples_leaf': 2, 'criterion': 'entropy', 'random_state': 42}. Best is trial 16 with value: 0.478125.\n",
      "[I 2024-02-24 02:15:50,903] Trial 22 finished with value: 0.484375 and parameters: {'max_depth': 7, 'min_samples_split': 8, 'min_samples_leaf': 1, 'criterion': 'entropy', 'random_state': 42}. Best is trial 22 with value: 0.484375.\n",
      "[I 2024-02-24 02:15:51,060] Trial 23 finished with value: 0.484375 and parameters: {'max_depth': 7, 'min_samples_split': 8, 'min_samples_leaf': 1, 'criterion': 'entropy', 'random_state': 42}. Best is trial 22 with value: 0.484375.\n",
      "[I 2024-02-24 02:15:51,210] Trial 24 finished with value: 0.490625 and parameters: {'max_depth': 7, 'min_samples_split': 7, 'min_samples_leaf': 3, 'criterion': 'entropy', 'random_state': 42}. Best is trial 24 with value: 0.490625.\n",
      "[I 2024-02-24 02:15:51,360] Trial 25 finished with value: 0.503125 and parameters: {'max_depth': 7, 'min_samples_split': 6, 'min_samples_leaf': 3, 'criterion': 'entropy', 'random_state': 42}. Best is trial 25 with value: 0.503125.\n",
      "[I 2024-02-24 02:15:51,415] Trial 26 finished with value: 0.125 and parameters: {'max_depth': 4, 'min_samples_split': 6, 'min_samples_leaf': 3, 'criterion': 'gini', 'random_state': 42}. Best is trial 25 with value: 0.503125.\n",
      "[I 2024-02-24 02:15:51,567] Trial 27 finished with value: 0.503125 and parameters: {'max_depth': 7, 'min_samples_split': 4, 'min_samples_leaf': 3, 'criterion': 'entropy', 'random_state': 42}. Best is trial 25 with value: 0.503125.\n",
      "[I 2024-02-24 02:15:51,712] Trial 28 finished with value: 0.359375 and parameters: {'max_depth': 5, 'min_samples_split': 4, 'min_samples_leaf': 3, 'criterion': 'entropy', 'random_state': 42}. Best is trial 25 with value: 0.503125.\n",
      "[I 2024-02-24 02:15:51,862] Trial 29 finished with value: 0.503125 and parameters: {'max_depth': 7, 'min_samples_split': 4, 'min_samples_leaf': 3, 'criterion': 'entropy', 'random_state': 42}. Best is trial 25 with value: 0.503125.\n",
      "[I 2024-02-24 02:15:51,961] Trial 30 finished with value: 0.025 and parameters: {'max_depth': 2, 'min_samples_split': 4, 'min_samples_leaf': 5, 'criterion': 'entropy', 'random_state': 42}. Best is trial 25 with value: 0.503125.\n",
      "[I 2024-02-24 02:15:52,111] Trial 31 finished with value: 0.503125 and parameters: {'max_depth': 7, 'min_samples_split': 5, 'min_samples_leaf': 3, 'criterion': 'entropy', 'random_state': 42}. Best is trial 25 with value: 0.503125.\n",
      "[I 2024-02-24 02:15:52,262] Trial 32 finished with value: 0.478125 and parameters: {'max_depth': 6, 'min_samples_split': 5, 'min_samples_leaf': 3, 'criterion': 'entropy', 'random_state': 42}. Best is trial 25 with value: 0.503125.\n",
      "[I 2024-02-24 02:15:52,414] Trial 33 finished with value: 0.503125 and parameters: {'max_depth': 7, 'min_samples_split': 4, 'min_samples_leaf': 3, 'criterion': 'entropy', 'random_state': 42}. Best is trial 25 with value: 0.503125.\n",
      "[I 2024-02-24 02:15:52,472] Trial 34 finished with value: 0.178125 and parameters: {'max_depth': 5, 'min_samples_split': 6, 'min_samples_leaf': 7, 'criterion': 'gini', 'random_state': 42}. Best is trial 25 with value: 0.503125.\n",
      "[I 2024-02-24 02:15:52,616] Trial 35 finished with value: 0.434375 and parameters: {'max_depth': 6, 'min_samples_split': 3, 'min_samples_leaf': 4, 'criterion': 'entropy', 'random_state': 42}. Best is trial 25 with value: 0.503125.\n",
      "[I 2024-02-24 02:15:52,757] Trial 36 finished with value: 0.453125 and parameters: {'max_depth': 7, 'min_samples_split': 6, 'min_samples_leaf': 5, 'criterion': 'entropy', 'random_state': 42}. Best is trial 25 with value: 0.503125.\n",
      "[I 2024-02-24 02:15:52,903] Trial 37 finished with value: 0.434375 and parameters: {'max_depth': 6, 'min_samples_split': 5, 'min_samples_leaf': 4, 'criterion': 'entropy', 'random_state': 42}. Best is trial 25 with value: 0.503125.\n",
      "[I 2024-02-24 02:15:52,958] Trial 38 finished with value: 0.109375 and parameters: {'max_depth': 4, 'min_samples_split': 3, 'min_samples_leaf': 6, 'criterion': 'gini', 'random_state': 42}. Best is trial 25 with value: 0.503125.\n",
      "[I 2024-02-24 02:15:53,111] Trial 39 finished with value: 0.49375 and parameters: {'max_depth': 9, 'min_samples_split': 7, 'min_samples_leaf': 2, 'criterion': 'entropy', 'random_state': 42}. Best is trial 25 with value: 0.503125.\n",
      "[I 2024-02-24 02:15:53,257] Trial 40 finished with value: 0.359375 and parameters: {'max_depth': 5, 'min_samples_split': 3, 'min_samples_leaf': 3, 'criterion': 'entropy', 'random_state': 42}. Best is trial 25 with value: 0.503125.\n",
      "[I 2024-02-24 02:15:53,420] Trial 41 finished with value: 0.503125 and parameters: {'max_depth': 7, 'min_samples_split': 4, 'min_samples_leaf': 3, 'criterion': 'entropy', 'random_state': 42}. Best is trial 25 with value: 0.503125.\n",
      "[I 2024-02-24 02:15:53,566] Trial 42 finished with value: 0.45625 and parameters: {'max_depth': 7, 'min_samples_split': 5, 'min_samples_leaf': 4, 'criterion': 'entropy', 'random_state': 42}. Best is trial 25 with value: 0.503125.\n",
      "[I 2024-02-24 02:15:53,731] Trial 43 finished with value: 0.475 and parameters: {'max_depth': 6, 'min_samples_split': 4, 'min_samples_leaf': 2, 'criterion': 'entropy', 'random_state': 42}. Best is trial 25 with value: 0.503125.\n",
      "[I 2024-02-24 02:15:53,879] Trial 44 finished with value: 0.428125 and parameters: {'max_depth': 8, 'min_samples_split': 12, 'min_samples_leaf': 3, 'criterion': 'entropy', 'random_state': 42}. Best is trial 25 with value: 0.503125.\n",
      "[I 2024-02-24 02:15:54,025] Trial 45 finished with value: 0.45625 and parameters: {'max_depth': 7, 'min_samples_split': 6, 'min_samples_leaf': 4, 'criterion': 'entropy', 'random_state': 42}. Best is trial 25 with value: 0.503125.\n",
      "[I 2024-02-24 02:15:54,182] Trial 46 finished with value: 0.475 and parameters: {'max_depth': 6, 'min_samples_split': 3, 'min_samples_leaf': 2, 'criterion': 'entropy', 'random_state': 42}. Best is trial 25 with value: 0.503125.\n",
      "[I 2024-02-24 02:15:54,256] Trial 47 finished with value: 0.365625 and parameters: {'max_depth': 8, 'min_samples_split': 7, 'min_samples_leaf': 3, 'criterion': 'gini', 'random_state': 42}. Best is trial 25 with value: 0.503125.\n",
      "[I 2024-02-24 02:15:54,399] Trial 48 finished with value: 0.453125 and parameters: {'max_depth': 7, 'min_samples_split': 4, 'min_samples_leaf': 5, 'criterion': 'entropy', 'random_state': 42}. Best is trial 25 with value: 0.503125.\n",
      "[I 2024-02-24 02:15:54,547] Trial 49 finished with value: 0.45625 and parameters: {'max_depth': 8, 'min_samples_split': 5, 'min_samples_leaf': 4, 'criterion': 'entropy', 'random_state': 42}. Best is trial 25 with value: 0.503125.\n",
      "[I 2024-02-24 02:15:54,693] Trial 50 finished with value: 0.434375 and parameters: {'max_depth': 6, 'min_samples_split': 2, 'min_samples_leaf': 4, 'criterion': 'entropy', 'random_state': 42}. Best is trial 25 with value: 0.503125.\n",
      "[I 2024-02-24 02:15:54,845] Trial 51 finished with value: 0.503125 and parameters: {'max_depth': 7, 'min_samples_split': 3, 'min_samples_leaf': 3, 'criterion': 'entropy', 'random_state': 42}. Best is trial 25 with value: 0.503125.\n",
      "[I 2024-02-24 02:15:54,967] Trial 52 finished with value: 0.075 and parameters: {'max_depth': 3, 'min_samples_split': 5, 'min_samples_leaf': 3, 'criterion': 'entropy', 'random_state': 42}. Best is trial 25 with value: 0.503125.\n",
      "[I 2024-02-24 02:15:55,124] Trial 53 finished with value: 0.509375 and parameters: {'max_depth': 7, 'min_samples_split': 4, 'min_samples_leaf': 2, 'criterion': 'entropy', 'random_state': 42}. Best is trial 53 with value: 0.509375.\n",
      "[I 2024-02-24 02:15:55,282] Trial 54 finished with value: 0.4875 and parameters: {'max_depth': 8, 'min_samples_split': 6, 'min_samples_leaf': 2, 'criterion': 'entropy', 'random_state': 42}. Best is trial 53 with value: 0.509375.\n",
      "[I 2024-02-24 02:15:55,444] Trial 55 finished with value: 0.509375 and parameters: {'max_depth': 6, 'min_samples_split': 4, 'min_samples_leaf': 1, 'criterion': 'entropy', 'random_state': 42}. Best is trial 53 with value: 0.509375.\n",
      "[I 2024-02-24 02:15:55,597] Trial 56 finished with value: 0.359375 and parameters: {'max_depth': 5, 'min_samples_split': 7, 'min_samples_leaf': 1, 'criterion': 'entropy', 'random_state': 42}. Best is trial 53 with value: 0.509375.\n",
      "[I 2024-02-24 02:15:55,747] Trial 57 finished with value: 0.328125 and parameters: {'max_depth': 6, 'min_samples_split': 16, 'min_samples_leaf': 1, 'criterion': 'entropy', 'random_state': 42}. Best is trial 53 with value: 0.509375.\n",
      "[I 2024-02-24 02:15:55,815] Trial 58 finished with value: 0.23125 and parameters: {'max_depth': 6, 'min_samples_split': 2, 'min_samples_leaf': 2, 'criterion': 'gini', 'random_state': 42}. Best is trial 53 with value: 0.509375.\n",
      "[I 2024-02-24 02:15:55,974] Trial 59 finished with value: 0.484375 and parameters: {'max_depth': 8, 'min_samples_split': 8, 'min_samples_leaf': 1, 'criterion': 'entropy', 'random_state': 42}. Best is trial 53 with value: 0.509375.\n",
      "[I 2024-02-24 02:15:56,133] Trial 60 finished with value: 0.5125 and parameters: {'max_depth': 10, 'min_samples_split': 3, 'min_samples_leaf': 2, 'criterion': 'entropy', 'random_state': 42}. Best is trial 60 with value: 0.5125.\n",
      "[I 2024-02-24 02:15:56,292] Trial 61 finished with value: 0.5125 and parameters: {'max_depth': 10, 'min_samples_split': 3, 'min_samples_leaf': 2, 'criterion': 'entropy', 'random_state': 42}. Best is trial 60 with value: 0.5125.\n",
      "[I 2024-02-24 02:15:56,457] Trial 62 finished with value: 0.54375 and parameters: {'max_depth': 10, 'min_samples_split': 3, 'min_samples_leaf': 1, 'criterion': 'entropy', 'random_state': 42}. Best is trial 62 with value: 0.54375.\n",
      "[I 2024-02-24 02:15:56,620] Trial 63 finished with value: 0.54375 and parameters: {'max_depth': 10, 'min_samples_split': 3, 'min_samples_leaf': 1, 'criterion': 'entropy', 'random_state': 42}. Best is trial 62 with value: 0.54375.\n",
      "[I 2024-02-24 02:15:56,783] Trial 64 finished with value: 0.54375 and parameters: {'max_depth': 10, 'min_samples_split': 3, 'min_samples_leaf': 1, 'criterion': 'entropy', 'random_state': 42}. Best is trial 62 with value: 0.54375.\n",
      "[I 2024-02-24 02:15:56,947] Trial 65 finished with value: 0.5125 and parameters: {'max_depth': 10, 'min_samples_split': 2, 'min_samples_leaf': 1, 'criterion': 'entropy', 'random_state': 42}. Best is trial 62 with value: 0.54375.\n",
      "[I 2024-02-24 02:15:57,110] Trial 66 finished with value: 0.5125 and parameters: {'max_depth': 10, 'min_samples_split': 2, 'min_samples_leaf': 1, 'criterion': 'entropy', 'random_state': 42}. Best is trial 62 with value: 0.54375.\n",
      "[I 2024-02-24 02:15:57,272] Trial 67 finished with value: 0.5125 and parameters: {'max_depth': 10, 'min_samples_split': 2, 'min_samples_leaf': 1, 'criterion': 'entropy', 'random_state': 42}. Best is trial 62 with value: 0.54375.\n",
      "[I 2024-02-24 02:15:57,435] Trial 68 finished with value: 0.54375 and parameters: {'max_depth': 10, 'min_samples_split': 3, 'min_samples_leaf': 1, 'criterion': 'entropy', 'random_state': 42}. Best is trial 62 with value: 0.54375.\n",
      "[I 2024-02-24 02:15:57,598] Trial 69 finished with value: 0.54375 and parameters: {'max_depth': 10, 'min_samples_split': 3, 'min_samples_leaf': 1, 'criterion': 'entropy', 'random_state': 42}. Best is trial 62 with value: 0.54375.\n",
      "[I 2024-02-24 02:15:57,679] Trial 70 finished with value: 0.425 and parameters: {'max_depth': 10, 'min_samples_split': 3, 'min_samples_leaf': 1, 'criterion': 'gini', 'random_state': 42}. Best is trial 62 with value: 0.54375.\n",
      "[I 2024-02-24 02:15:57,842] Trial 71 finished with value: 0.54375 and parameters: {'max_depth': 10, 'min_samples_split': 3, 'min_samples_leaf': 1, 'criterion': 'entropy', 'random_state': 42}. Best is trial 62 with value: 0.54375.\n",
      "[I 2024-02-24 02:15:58,006] Trial 72 finished with value: 0.54375 and parameters: {'max_depth': 10, 'min_samples_split': 3, 'min_samples_leaf': 1, 'criterion': 'entropy', 'random_state': 42}. Best is trial 62 with value: 0.54375.\n",
      "[I 2024-02-24 02:15:58,169] Trial 73 finished with value: 0.54375 and parameters: {'max_depth': 9, 'min_samples_split': 3, 'min_samples_leaf': 1, 'criterion': 'entropy', 'random_state': 42}. Best is trial 62 with value: 0.54375.\n",
      "[I 2024-02-24 02:15:58,317] Trial 74 finished with value: 0.24375 and parameters: {'max_depth': 9, 'min_samples_split': 20, 'min_samples_leaf': 1, 'criterion': 'entropy', 'random_state': 42}. Best is trial 62 with value: 0.54375.\n",
      "[I 2024-02-24 02:15:58,480] Trial 75 finished with value: 0.54375 and parameters: {'max_depth': 9, 'min_samples_split': 3, 'min_samples_leaf': 1, 'criterion': 'entropy', 'random_state': 42}. Best is trial 62 with value: 0.54375.\n",
      "[I 2024-02-24 02:15:58,644] Trial 76 finished with value: 0.5125 and parameters: {'max_depth': 10, 'min_samples_split': 2, 'min_samples_leaf': 1, 'criterion': 'entropy', 'random_state': 42}. Best is trial 62 with value: 0.54375.\n",
      "[I 2024-02-24 02:15:58,770] Trial 77 finished with value: 0.25625 and parameters: {'max_depth': 9, 'min_samples_split': 14, 'min_samples_leaf': 10, 'criterion': 'entropy', 'random_state': 42}. Best is trial 62 with value: 0.54375.\n",
      "[I 2024-02-24 02:15:58,933] Trial 78 finished with value: 0.54375 and parameters: {'max_depth': 10, 'min_samples_split': 3, 'min_samples_leaf': 1, 'criterion': 'entropy', 'random_state': 42}. Best is trial 62 with value: 0.54375.\n",
      "[I 2024-02-24 02:15:59,069] Trial 79 finished with value: 0.375 and parameters: {'max_depth': 10, 'min_samples_split': 2, 'min_samples_leaf': 7, 'criterion': 'entropy', 'random_state': 42}. Best is trial 62 with value: 0.54375.\n",
      "[I 2024-02-24 02:15:59,234] Trial 80 finished with value: 0.54375 and parameters: {'max_depth': 9, 'min_samples_split': 3, 'min_samples_leaf': 1, 'criterion': 'entropy', 'random_state': 42}. Best is trial 62 with value: 0.54375.\n",
      "[I 2024-02-24 02:15:59,399] Trial 81 finished with value: 0.54375 and parameters: {'max_depth': 9, 'min_samples_split': 3, 'min_samples_leaf': 1, 'criterion': 'entropy', 'random_state': 42}. Best is trial 62 with value: 0.54375.\n",
      "[I 2024-02-24 02:15:59,566] Trial 82 finished with value: 0.53125 and parameters: {'max_depth': 10, 'min_samples_split': 5, 'min_samples_leaf': 1, 'criterion': 'entropy', 'random_state': 42}. Best is trial 62 with value: 0.54375.\n",
      "[I 2024-02-24 02:15:59,730] Trial 83 finished with value: 0.54375 and parameters: {'max_depth': 9, 'min_samples_split': 4, 'min_samples_leaf': 1, 'criterion': 'entropy', 'random_state': 42}. Best is trial 62 with value: 0.54375.\n",
      "[I 2024-02-24 02:15:59,889] Trial 84 finished with value: 0.5125 and parameters: {'max_depth': 10, 'min_samples_split': 2, 'min_samples_leaf': 2, 'criterion': 'entropy', 'random_state': 42}. Best is trial 62 with value: 0.54375.\n",
      "[I 2024-02-24 02:16:00,048] Trial 85 finished with value: 0.5125 and parameters: {'max_depth': 9, 'min_samples_split': 3, 'min_samples_leaf': 2, 'criterion': 'entropy', 'random_state': 42}. Best is trial 62 with value: 0.54375.\n",
      "[I 2024-02-24 02:16:00,214] Trial 86 finished with value: 0.54375 and parameters: {'max_depth': 10, 'min_samples_split': 4, 'min_samples_leaf': 1, 'criterion': 'entropy', 'random_state': 42}. Best is trial 62 with value: 0.54375.\n",
      "[I 2024-02-24 02:16:00,378] Trial 87 finished with value: 0.5125 and parameters: {'max_depth': 10, 'min_samples_split': 2, 'min_samples_leaf': 1, 'criterion': 'entropy', 'random_state': 42}. Best is trial 62 with value: 0.54375.\n",
      "[I 2024-02-24 02:16:00,456] Trial 88 finished with value: 0.415625 and parameters: {'max_depth': 9, 'min_samples_split': 3, 'min_samples_leaf': 2, 'criterion': 'gini', 'random_state': 42}. Best is trial 62 with value: 0.54375.\n",
      "[I 2024-02-24 02:16:00,619] Trial 89 finished with value: 0.53125 and parameters: {'max_depth': 10, 'min_samples_split': 5, 'min_samples_leaf': 1, 'criterion': 'entropy', 'random_state': 42}. Best is trial 62 with value: 0.54375.\n",
      "[I 2024-02-24 02:16:00,786] Trial 90 finished with value: 0.5125 and parameters: {'max_depth': 10, 'min_samples_split': 4, 'min_samples_leaf': 2, 'criterion': 'entropy', 'random_state': 42}. Best is trial 62 with value: 0.54375.\n",
      "[I 2024-02-24 02:16:00,920] Trial 91 finished with value: 0.28125 and parameters: {'max_depth': 10, 'min_samples_split': 3, 'min_samples_leaf': 9, 'criterion': 'entropy', 'random_state': 42}. Best is trial 62 with value: 0.54375.\n",
      "[I 2024-02-24 02:16:01,069] Trial 92 finished with value: 0.259375 and parameters: {'max_depth': 10, 'min_samples_split': 19, 'min_samples_leaf': 1, 'criterion': 'entropy', 'random_state': 42}. Best is trial 62 with value: 0.54375.\n",
      "[I 2024-02-24 02:16:01,234] Trial 93 finished with value: 0.54375 and parameters: {'max_depth': 9, 'min_samples_split': 3, 'min_samples_leaf': 1, 'criterion': 'entropy', 'random_state': 42}. Best is trial 62 with value: 0.54375.\n",
      "[I 2024-02-24 02:16:01,398] Trial 94 finished with value: 0.54375 and parameters: {'max_depth': 10, 'min_samples_split': 4, 'min_samples_leaf': 1, 'criterion': 'entropy', 'random_state': 42}. Best is trial 62 with value: 0.54375.\n",
      "[I 2024-02-24 02:16:01,561] Trial 95 finished with value: 0.5125 and parameters: {'max_depth': 9, 'min_samples_split': 2, 'min_samples_leaf': 1, 'criterion': 'entropy', 'random_state': 42}. Best is trial 62 with value: 0.54375.\n",
      "[I 2024-02-24 02:16:01,724] Trial 96 finished with value: 0.54375 and parameters: {'max_depth': 10, 'min_samples_split': 3, 'min_samples_leaf': 1, 'criterion': 'entropy', 'random_state': 42}. Best is trial 62 with value: 0.54375.\n",
      "[I 2024-02-24 02:16:01,877] Trial 97 finished with value: 0.44375 and parameters: {'max_depth': 9, 'min_samples_split': 11, 'min_samples_leaf': 2, 'criterion': 'entropy', 'random_state': 42}. Best is trial 62 with value: 0.54375.\n",
      "[I 2024-02-24 02:16:02,039] Trial 98 finished with value: 0.53125 and parameters: {'max_depth': 10, 'min_samples_split': 5, 'min_samples_leaf': 1, 'criterion': 'entropy', 'random_state': 42}. Best is trial 62 with value: 0.54375.\n",
      "[I 2024-02-24 02:16:02,198] Trial 99 finished with value: 0.5125 and parameters: {'max_depth': 10, 'min_samples_split': 4, 'min_samples_leaf': 2, 'criterion': 'entropy', 'random_state': 42}. Best is trial 62 with value: 0.54375.\n"
     ]
    },
    {
     "name": "stdout",
     "output_type": "stream",
     "text": [
      "Best params found : {'max_depth': 10, 'min_samples_split': 3, 'min_samples_leaf': 1, 'criterion': 'entropy', 'random_state': 42}\n",
      "accuracy: 0.6625\n",
      "recall: 0.7476851851851852\n",
      "precision: 0.7347222222222222\n",
      "f1-score: 0.6736772486772487\n"
     ]
    }
   ],
   "source": [
    "study = optuna.create_study(direction='maximize')\n",
    "study.optimize(objective, n_trials=100)\n",
    "best_params = study.best_params\n",
    "print(\"Best params found :\", best_params)\n",
    "\n",
    "final_model = DecisionTreeClassifier(**best_params)\n",
    "final_model.fit(X_train_reduced, y_train)\n",
    "y_pred = final_model.predict(X_test_reduced)\n",
    "prediction_results['decison tree'] = list(y_pred)\n",
    "\n",
    "accuracy = accuracy_score(y_test, y_pred)\n",
    "precision = precision_score(y_test, y_pred, average='macro')\n",
    "recall = recall_score(y_test, y_pred, average='macro')\n",
    "f1 = f1_score(y_test, y_pred, average='macro')\n",
    "\n",
    "# # One-hot encoding for probability calculation (adapt if necessary)\n",
    "# # Assuming 'label_' prefix for clarity\n",
    "# y_test_onehot = pd.get_dummies(y_test, prefix='label_')\n",
    "# y_pred_onehot = pd.get_dummies(y_pred, prefix='label_')\n",
    "\n",
    "# # ROC AUC score with multiclass handling\n",
    "# roc_auc_macro = roc_auc_score(y_test_onehot, y_pred_onehot,\n",
    "#                               average='macro', multi_class='ovo')  # Specify 'ovo' or 'ovr'\n",
    "\n",
    "print(\"accuracy:\", accuracy)\n",
    "print(\"recall:\", recall)\n",
    "print(\"precision:\", precision)\n",
    "print(\"f1-score:\", f1)\n",
    "# print('roc_auc: ', roc_auc_macro)"
   ]
  },
  {
   "cell_type": "markdown",
   "id": "afd05f09",
   "metadata": {
    "papermill": {
     "duration": 0.05615,
     "end_time": "2024-02-24T02:16:02.358586",
     "exception": false,
     "start_time": "2024-02-24T02:16:02.302436",
     "status": "completed"
    },
    "tags": []
   },
   "source": [
    "Tuning rồi lưu kết quả tuning vào bên dưới"
   ]
  },
  {
   "cell_type": "markdown",
   "id": "ace59f1e",
   "metadata": {
    "papermill": {
     "duration": 0.055975,
     "end_time": "2024-02-24T02:16:02.470676",
     "exception": false,
     "start_time": "2024-02-24T02:16:02.414701",
     "status": "completed"
    },
    "tags": []
   },
   "source": [
    "Tuning rồi lưu kết quả tuning vào bên dưới"
   ]
  },
  {
   "cell_type": "code",
   "execution_count": 34,
   "id": "e2fe3c8d",
   "metadata": {
    "execution": {
     "iopub.execute_input": "2024-02-24T02:16:02.584421Z",
     "iopub.status.busy": "2024-02-24T02:16:02.583742Z",
     "iopub.status.idle": "2024-02-24T02:16:02.587526Z",
     "shell.execute_reply": "2024-02-24T02:16:02.586908Z"
    },
    "papermill": {
     "duration": 0.062638,
     "end_time": "2024-02-24T02:16:02.589230",
     "exception": false,
     "start_time": "2024-02-24T02:16:02.526592",
     "status": "completed"
    },
    "tags": []
   },
   "outputs": [],
   "source": [
    "predictions['lr'] = list(y_pred)"
   ]
  },
  {
   "cell_type": "code",
   "execution_count": 35,
   "id": "79dcde9b",
   "metadata": {
    "execution": {
     "iopub.execute_input": "2024-02-24T02:16:02.704675Z",
     "iopub.status.busy": "2024-02-24T02:16:02.704214Z",
     "iopub.status.idle": "2024-02-24T02:16:02.708201Z",
     "shell.execute_reply": "2024-02-24T02:16:02.707471Z"
    },
    "papermill": {
     "duration": 0.062555,
     "end_time": "2024-02-24T02:16:02.709762",
     "exception": false,
     "start_time": "2024-02-24T02:16:02.647207",
     "status": "completed"
    },
    "tags": []
   },
   "outputs": [],
   "source": [
    "import json\n",
    "with open(\"/kaggle/working/predict.json\", \"w\") as json_file:\n",
    "    json.dump(predictions, json_file)"
   ]
  },
  {
   "cell_type": "code",
   "execution_count": 36,
   "id": "8c8e88ac",
   "metadata": {
    "execution": {
     "iopub.execute_input": "2024-02-24T02:16:02.822713Z",
     "iopub.status.busy": "2024-02-24T02:16:02.822412Z",
     "iopub.status.idle": "2024-02-24T02:16:02.826083Z",
     "shell.execute_reply": "2024-02-24T02:16:02.825382Z"
    },
    "papermill": {
     "duration": 0.060996,
     "end_time": "2024-02-24T02:16:02.827528",
     "exception": false,
     "start_time": "2024-02-24T02:16:02.766532",
     "status": "completed"
    },
    "tags": []
   },
   "outputs": [],
   "source": [
    "prediction = {}"
   ]
  }
 ],
 "metadata": {
  "kaggle": {
   "accelerator": "none",
   "dataSources": [
    {
     "datasetId": 4306985,
     "sourceId": 7405983,
     "sourceType": "datasetVersion"
    },
    {
     "datasetId": 4349100,
     "sourceId": 7470763,
     "sourceType": "datasetVersion"
    }
   ],
   "dockerImageVersionId": 30646,
   "isGpuEnabled": false,
   "isInternetEnabled": true,
   "language": "python",
   "sourceType": "notebook"
  },
  "kernelspec": {
   "display_name": "Python 3",
   "language": "python",
   "name": "python3"
  },
  "language_info": {
   "codemirror_mode": {
    "name": "ipython",
    "version": 3
   },
   "file_extension": ".py",
   "mimetype": "text/x-python",
   "name": "python",
   "nbconvert_exporter": "python",
   "pygments_lexer": "ipython3",
   "version": "3.10.13"
  },
  "papermill": {
   "default_parameters": {},
   "duration": 853.831262,
   "end_time": "2024-02-24T02:16:05.502445",
   "environment_variables": {},
   "exception": null,
   "input_path": "__notebook__.ipynb",
   "output_path": "__notebook__.ipynb",
   "parameters": {},
   "start_time": "2024-02-24T02:01:51.671183",
   "version": "2.5.0"
  }
 },
 "nbformat": 4,
 "nbformat_minor": 5
}
