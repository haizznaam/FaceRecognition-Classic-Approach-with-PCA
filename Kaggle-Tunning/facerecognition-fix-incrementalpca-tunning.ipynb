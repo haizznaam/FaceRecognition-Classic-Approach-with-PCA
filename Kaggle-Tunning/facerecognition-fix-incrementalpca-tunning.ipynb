{
 "cells": [
  {
   "cell_type": "code",
   "execution_count": 1,
   "id": "15ef882d",
   "metadata": {
    "_cell_guid": "b1076dfc-b9ad-4769-8c92-a6c4dae69d19",
    "_uuid": "8f2839f25d086af736a60e9eeb907d3b93b6e0e5",
    "execution": {
     "iopub.execute_input": "2024-02-24T02:02:10.732123Z",
     "iopub.status.busy": "2024-02-24T02:02:10.731676Z",
     "iopub.status.idle": "2024-02-24T02:02:13.196079Z",
     "shell.execute_reply": "2024-02-24T02:02:13.194794Z"
    },
    "papermill": {
     "duration": 2.487157,
     "end_time": "2024-02-24T02:02:13.199140",
     "exception": false,
     "start_time": "2024-02-24T02:02:10.711983",
     "status": "completed"
    },
    "tags": []
   },
   "outputs": [],
   "source": [
    "import os\n",
    "import numpy as np\n",
    "import pandas as pd\n",
    "from numpy.random import shuffle\n",
    "from sklearn.decomposition import IncrementalPCA\n",
    "from sklearn.model_selection import train_test_split\n",
    "from sklearn.model_selection import StratifiedKFold, cross_val_score\n",
    "from sklearn.metrics import accuracy_score, precision_score, recall_score, f1_score, roc_auc_score\n",
    "from sklearn.linear_model import LogisticRegression"
   ]
  },
  {
   "cell_type": "code",
   "execution_count": 2,
   "id": "ba8463b9",
   "metadata": {
    "execution": {
     "iopub.execute_input": "2024-02-24T02:02:13.236248Z",
     "iopub.status.busy": "2024-02-24T02:02:13.235603Z",
     "iopub.status.idle": "2024-02-24T02:02:13.681128Z",
     "shell.execute_reply": "2024-02-24T02:02:13.678505Z"
    },
    "papermill": {
     "duration": 0.467282,
     "end_time": "2024-02-24T02:02:13.683967",
     "exception": false,
     "start_time": "2024-02-24T02:02:13.216685",
     "status": "completed"
    },
    "tags": []
   },
   "outputs": [
    {
     "data": {
      "image/png": "[encoded data removed]",
      "text/plain": [
       "<Figure size 640x480 with 1 Axes>"
      ]
     },
     "metadata": {},
     "output_type": "display_data"
    }
   ],
   "source": [
    "import cv2\n",
    "import matplotlib.pyplot as plt\n",
    "\n",
    "def read_pgm(file_path):\n",
    "    return cv2.imread(file_path, cv2.IMREAD_GRAYSCALE)\n",
    "\n",
    "def show_image(image_data):\n",
    "    plt.imshow(image_data, cmap='gray')\n",
    "    plt.axis('off')  # Hide axis labels\n",
    "    plt.show()\n",
    "\n",
    "file_path = f'/kaggle/input/att-images/ATT images/s1/1.pgm'\n",
    "image_data = read_pgm(file_path)\n",
    "show_image(image_data)"
   ]
  },
  {
   "cell_type": "code",
   "execution_count": 3,
   "id": "22cf4bcc",
   "metadata": {
    "execution": {
     "iopub.execute_input": "2024-02-24T02:02:13.723130Z",
     "iopub.status.busy": "2024-02-24T02:02:13.722313Z",
     "iopub.status.idle": "2024-02-24T02:02:13.729576Z",
     "shell.execute_reply": "2024-02-24T02:02:13.728353Z"
    },
    "papermill": {
     "duration": 0.029796,
     "end_time": "2024-02-24T02:02:13.732020",
     "exception": false,
     "start_time": "2024-02-24T02:02:13.702224",
     "status": "completed"
    },
    "tags": []
   },
   "outputs": [
    {
     "data": {
      "text/plain": [
       "(112, 92)"
      ]
     },
     "execution_count": 3,
     "metadata": {},
     "output_type": "execute_result"
    }
   ],
   "source": [
    "image_data.shape"
   ]
  },
  {
   "cell_type": "code",
   "execution_count": 4,
   "id": "404fb8f8",
   "metadata": {
    "execution": {
     "iopub.execute_input": "2024-02-24T02:02:13.772276Z",
     "iopub.status.busy": "2024-02-24T02:02:13.771813Z",
     "iopub.status.idle": "2024-02-24T02:02:13.782732Z",
     "shell.execute_reply": "2024-02-24T02:02:13.781152Z"
    },
    "papermill": {
     "duration": 0.032941,
     "end_time": "2024-02-24T02:02:13.785344",
     "exception": false,
     "start_time": "2024-02-24T02:02:13.752403",
     "status": "completed"
    },
    "tags": []
   },
   "outputs": [],
   "source": [
    "def get_data(path_data='/kaggle/input/att-images/ATT images', test_size=0.2, is_shuffle=True):\n",
    "    folders = [f's{i+1}' for i in range(40)]\n",
    "    X, y = [], []\n",
    "\n",
    "    for i in range(1, 41):\n",
    "        path = path_data + f'/s{i}'\n",
    "        files = os.listdir(path)\n",
    "        num_files = len(files)\n",
    "\n",
    "        if is_shuffle:\n",
    "            files = shuffle(files)\n",
    "\n",
    "        for file in os.listdir(path):\n",
    "            path = path_data + f'/s{i}/' + file\n",
    "            image = cv2.imread(path, cv2.IMREAD_GRAYSCALE)\n",
    "            pixels = np.reshape(image, [1, image.shape[0] * image.shape[1]])\n",
    "            pixels = np.asarray(pixels)\n",
    "\n",
    "            if len(X) == 0:\n",
    "                X = pixels\n",
    "            else:\n",
    "                X = np.vstack([X, pixels])\n",
    "            y.append(f's{i}')\n",
    "\n",
    "    return X, np.asarray(y)"
   ]
  },
  {
   "cell_type": "code",
   "execution_count": 5,
   "id": "759bfc18",
   "metadata": {
    "execution": {
     "iopub.execute_input": "2024-02-24T02:02:13.823659Z",
     "iopub.status.busy": "2024-02-24T02:02:13.823195Z",
     "iopub.status.idle": "2024-02-24T02:02:16.351446Z",
     "shell.execute_reply": "2024-02-24T02:02:16.349946Z"
    },
    "papermill": {
     "duration": 2.550868,
     "end_time": "2024-02-24T02:02:16.354453",
     "exception": false,
     "start_time": "2024-02-24T02:02:13.803585",
     "status": "completed"
    },
    "tags": []
   },
   "outputs": [],
   "source": [
    "X, y = get_data()\n",
    "X_train, X_test, y_train, y_test = train_test_split(X, y, test_size=0.2, random_state=42)"
   ]
  },
  {
   "cell_type": "code",
   "execution_count": 6,
   "id": "b048fba4",
   "metadata": {
    "execution": {
     "iopub.execute_input": "2024-02-24T02:02:16.393973Z",
     "iopub.status.busy": "2024-02-24T02:02:16.392918Z",
     "iopub.status.idle": "2024-02-24T02:02:17.957073Z",
     "shell.execute_reply": "2024-02-24T02:02:17.955313Z"
    },
    "papermill": {
     "duration": 1.58941,
     "end_time": "2024-02-24T02:02:17.961941",
     "exception": false,
     "start_time": "2024-02-24T02:02:16.372531",
     "status": "completed"
    },
    "tags": []
   },
   "outputs": [],
   "source": [
    "n_components_pca = 50\n",
    "pca = IncrementalPCA(n_components=n_components_pca)\n",
    "X_train_reduced = pca.fit_transform(X_train)\n",
    "X_test_reduced = pca.transform(X_test)"
   ]
  },
  {
   "cell_type": "code",
   "execution_count": 7,
   "id": "9368f691",
   "metadata": {
    "execution": {
     "iopub.execute_input": "2024-02-24T02:02:18.044832Z",
     "iopub.status.busy": "2024-02-24T02:02:18.042520Z",
     "iopub.status.idle": "2024-02-24T02:02:18.051148Z",
     "shell.execute_reply": "2024-02-24T02:02:18.049614Z"
    },
    "papermill": {
     "duration": 0.054145,
     "end_time": "2024-02-24T02:02:18.055161",
     "exception": false,
     "start_time": "2024-02-24T02:02:18.001016",
     "status": "completed"
    },
    "tags": []
   },
   "outputs": [],
   "source": [
    "predictions = {}"
   ]
  },
  {
   "cell_type": "markdown",
   "id": "fbd4bbdf",
   "metadata": {
    "papermill": {
     "duration": 0.017671,
     "end_time": "2024-02-24T02:02:18.101441",
     "exception": false,
     "start_time": "2024-02-24T02:02:18.083770",
     "status": "completed"
    },
    "tags": []
   },
   "source": [
    "# Euclidean"
   ]
  },
  {
   "cell_type": "code",
   "execution_count": 8,
   "id": "11f1f52d",
   "metadata": {
    "execution": {
     "iopub.execute_input": "2024-02-24T02:02:18.139145Z",
     "iopub.status.busy": "2024-02-24T02:02:18.138724Z",
     "iopub.status.idle": "2024-02-24T02:02:18.150270Z",
     "shell.execute_reply": "2024-02-24T02:02:18.148875Z"
    },
    "papermill": {
     "duration": 0.033419,
     "end_time": "2024-02-24T02:02:18.152840",
     "exception": false,
     "start_time": "2024-02-24T02:02:18.119421",
     "status": "completed"
    },
    "tags": []
   },
   "outputs": [],
   "source": [
    "y_pred = []\n",
    "for i in range(80):\n",
    "    min_ = np.argmin(np.sqrt(np.sum((X_train_reduced - X_test_reduced[i])**2,axis=1)))\n",
    "    y_pred.append(y_train[min_])"
   ]
  },
  {
   "cell_type": "code",
   "execution_count": 9,
   "id": "06d0e0ed",
   "metadata": {
    "execution": {
     "iopub.execute_input": "2024-02-24T02:02:18.190374Z",
     "iopub.status.busy": "2024-02-24T02:02:18.189846Z",
     "iopub.status.idle": "2024-02-24T02:02:18.195792Z",
     "shell.execute_reply": "2024-02-24T02:02:18.194586Z"
    },
    "papermill": {
     "duration": 0.027813,
     "end_time": "2024-02-24T02:02:18.198287",
     "exception": false,
     "start_time": "2024-02-24T02:02:18.170474",
     "status": "completed"
    },
    "tags": []
   },
   "outputs": [],
   "source": [
    "predictions['euclidean'] = y_pred"
   ]
  },
  {
   "cell_type": "code",
   "execution_count": 10,
   "id": "c7b4de44",
   "metadata": {
    "execution": {
     "iopub.execute_input": "2024-02-24T02:02:18.236533Z",
     "iopub.status.busy": "2024-02-24T02:02:18.234991Z",
     "iopub.status.idle": "2024-02-24T02:02:18.241077Z",
     "shell.execute_reply": "2024-02-24T02:02:18.240103Z"
    },
    "papermill": {
     "duration": 0.027504,
     "end_time": "2024-02-24T02:02:18.243416",
     "exception": false,
     "start_time": "2024-02-24T02:02:18.215912",
     "status": "completed"
    },
    "tags": []
   },
   "outputs": [],
   "source": [
    "from sklearn.model_selection import KFold\n",
    "n_splits = 5\n",
    "kf = KFold(n_splits=n_splits, shuffle=True, random_state=42)"
   ]
  },
  {
   "cell_type": "markdown",
   "id": "9636e319",
   "metadata": {
    "papermill": {
     "duration": 0.01728,
     "end_time": "2024-02-24T02:02:18.278437",
     "exception": false,
     "start_time": "2024-02-24T02:02:18.261157",
     "status": "completed"
    },
    "tags": []
   },
   "source": [
    "****"
   ]
  },
  {
   "cell_type": "markdown",
   "id": "4799618c",
   "metadata": {
    "papermill": {
     "duration": 0.017119,
     "end_time": "2024-02-24T02:02:18.312949",
     "exception": false,
     "start_time": "2024-02-24T02:02:18.295830",
     "status": "completed"
    },
    "tags": []
   },
   "source": [
    "**Chọn trường hợp accuracy của logistic model khác 1**"
   ]
  },
  {
   "cell_type": "code",
   "execution_count": 11,
   "id": "1352545b",
   "metadata": {
    "execution": {
     "iopub.execute_input": "2024-02-24T02:02:18.352318Z",
     "iopub.status.busy": "2024-02-24T02:02:18.350892Z",
     "iopub.status.idle": "2024-02-24T02:02:18.663871Z",
     "shell.execute_reply": "2024-02-24T02:02:18.662283Z"
    },
    "papermill": {
     "duration": 0.338118,
     "end_time": "2024-02-24T02:02:18.668512",
     "exception": false,
     "start_time": "2024-02-24T02:02:18.330394",
     "status": "completed"
    },
    "tags": []
   },
   "outputs": [
    {
     "name": "stdout",
     "output_type": "stream",
     "text": [
      "accuracy: 1.0\n",
      "recall: 1.0\n",
      "precision: 1.0\n",
      "f1-score: 1.0\n",
      "roc_auc:  1.0\n"
     ]
    },
    {
     "name": "stderr",
     "output_type": "stream",
     "text": [
      "/opt/conda/lib/python3.10/site-packages/sklearn/linear_model/_logistic.py:458: ConvergenceWarning: lbfgs failed to converge (status=1):\n",
      "STOP: TOTAL NO. of ITERATIONS REACHED LIMIT.\n",
      "\n",
      "Increase the number of iterations (max_iter) or scale the data as shown in:\n",
      "    https://scikit-learn.org/stable/modules/preprocessing.html\n",
      "Please also refer to the documentation for alternative solver options:\n",
      "    https://scikit-learn.org/stable/modules/linear_model.html#logistic-regression\n",
      "  n_iter_i = _check_optimize_result(\n"
     ]
    }
   ],
   "source": [
    "lr = LogisticRegression()\n",
    "lr.fit(X_train_reduced, y_train)\n",
    "y_pred = lr.predict(X_test_reduced)\n",
    "\n",
    "accuracy = accuracy_score(y_test, y_pred)\n",
    "precision = precision_score(y_test, y_pred, average='macro')\n",
    "recall = recall_score(y_test, y_pred, average='macro')\n",
    "f1 = f1_score(y_test, y_pred, average='macro')\n",
    "\n",
    "# One-hot encoding for probability calculation (adapt if necessary)\n",
    "y_test_onehot = pd.get_dummies(y_test, prefix='label_')  # Assuming 'label_' prefix for clarity\n",
    "y_pred_onehot = pd.get_dummies(y_pred, prefix='label_')\n",
    "\n",
    "# ROC AUC score with multiclass handling\n",
    "roc_auc_macro = roc_auc_score(y_test_onehot, y_pred_onehot, average='macro', multi_class='ovo')  \n",
    "\n",
    "print(\"accuracy:\", accuracy)\n",
    "print(\"recall:\", recall)\n",
    "print(\"precision:\", precision)\n",
    "print(\"f1-score:\", f1)\n",
    "print('roc_auc: ', roc_auc_macro)"
   ]
  },
  {
   "cell_type": "markdown",
   "id": "b1dc7c63",
   "metadata": {
    "papermill": {
     "duration": 0.017928,
     "end_time": "2024-02-24T02:02:18.718793",
     "exception": false,
     "start_time": "2024-02-24T02:02:18.700865",
     "status": "completed"
    },
    "tags": []
   },
   "source": [
    "# Random Forest"
   ]
  },
  {
   "cell_type": "code",
   "execution_count": 12,
   "id": "a3855a5c",
   "metadata": {
    "execution": {
     "iopub.execute_input": "2024-02-24T02:02:18.757685Z",
     "iopub.status.busy": "2024-02-24T02:02:18.757283Z",
     "iopub.status.idle": "2024-02-24T02:02:18.763122Z",
     "shell.execute_reply": "2024-02-24T02:02:18.761794Z"
    },
    "papermill": {
     "duration": 0.028626,
     "end_time": "2024-02-24T02:02:18.766011",
     "exception": false,
     "start_time": "2024-02-24T02:02:18.737385",
     "status": "completed"
    },
    "tags": []
   },
   "outputs": [],
   "source": [
    "prediction_results = {}"
   ]
  },
  {
   "cell_type": "code",
   "execution_count": 13,
   "id": "7393abb0",
   "metadata": {
    "execution": {
     "iopub.execute_input": "2024-02-24T02:02:18.804203Z",
     "iopub.status.busy": "2024-02-24T02:02:18.803725Z",
     "iopub.status.idle": "2024-02-24T02:02:18.946715Z",
     "shell.execute_reply": "2024-02-24T02:02:18.945758Z"
    },
    "papermill": {
     "duration": 0.165637,
     "end_time": "2024-02-24T02:02:18.949737",
     "exception": false,
     "start_time": "2024-02-24T02:02:18.784100",
     "status": "completed"
    },
    "tags": []
   },
   "outputs": [],
   "source": [
    "from sklearn.ensemble import RandomForestClassifier\n",
    "from sklearn.metrics import accuracy_score"
   ]
  },
  {
   "cell_type": "markdown",
   "id": "7c107f85",
   "metadata": {
    "papermill": {
     "duration": 0.018337,
     "end_time": "2024-02-24T02:02:18.986540",
     "exception": false,
     "start_time": "2024-02-24T02:02:18.968203",
     "status": "completed"
    },
    "tags": []
   },
   "source": [
    "**Normal**"
   ]
  },
  {
   "cell_type": "code",
   "execution_count": 14,
   "id": "4dafe4e3",
   "metadata": {
    "execution": {
     "iopub.execute_input": "2024-02-24T02:02:19.025229Z",
     "iopub.status.busy": "2024-02-24T02:02:19.024509Z",
     "iopub.status.idle": "2024-02-24T02:02:19.566209Z",
     "shell.execute_reply": "2024-02-24T02:02:19.564751Z"
    },
    "papermill": {
     "duration": 0.566354,
     "end_time": "2024-02-24T02:02:19.570981",
     "exception": false,
     "start_time": "2024-02-24T02:02:19.004627",
     "status": "completed"
    },
    "tags": []
   },
   "outputs": [
    {
     "name": "stdout",
     "output_type": "stream",
     "text": [
      "accuracy: 0.975\n",
      "recall: 0.9629629629629629\n",
      "precision: 0.9537037037037036\n",
      "f1-score: 0.9555555555555555\n",
      "roc_auc:  0.7290424570023885\n"
     ]
    },
    {
     "name": "stderr",
     "output_type": "stream",
     "text": [
      "/opt/conda/lib/python3.10/site-packages/sklearn/metrics/_classification.py:1344: UndefinedMetricWarning: Precision is ill-defined and being set to 0.0 in labels with no predicted samples. Use `zero_division` parameter to control this behavior.\n",
      "  _warn_prf(average, modifier, msg_start, len(result))\n"
     ]
    }
   ],
   "source": [
    "rfr = RandomForestClassifier(random_state=42)\n",
    "rfr.fit(X_train_reduced,y_train)\n",
    "y_pred = rfr.predict(X_test_reduced)\n",
    "\n",
    "accuracy = accuracy_score(y_test, y_pred)\n",
    "precision = precision_score(y_test, y_pred, average='macro')\n",
    "recall = recall_score(y_test, y_pred, average='macro')\n",
    "f1 = f1_score(y_test, y_pred, average='macro')\n",
    "\n",
    "# One-hot encoding for probability calculation (adapt if necessary)\n",
    "y_test_onehot = pd.get_dummies(y_test, prefix='label_')  # Assuming 'label_' prefix for clarity\n",
    "y_pred_onehot = pd.get_dummies(y_pred, prefix='label_')\n",
    "\n",
    "# ROC AUC score with multiclass handling\n",
    "roc_auc_macro = roc_auc_score(y_test_onehot, y_pred_onehot, average='macro', multi_class='ovo')  # Specify 'ovo' or 'ovr'\n",
    "\n",
    "print(\"accuracy:\", accuracy)\n",
    "print(\"recall:\", recall)\n",
    "print(\"precision:\", precision)\n",
    "print(\"f1-score:\", f1)\n",
    "print('roc_auc: ', roc_auc_macro)"
   ]
  },
  {
   "cell_type": "markdown",
   "id": "c09b8a58",
   "metadata": {
    "papermill": {
     "duration": 0.018089,
     "end_time": "2024-02-24T02:02:19.607405",
     "exception": false,
     "start_time": "2024-02-24T02:02:19.589316",
     "status": "completed"
    },
    "tags": []
   },
   "source": [
    "**Tunning**"
   ]
  },
  {
   "cell_type": "code",
   "execution_count": 15,
   "id": "477f6d22",
   "metadata": {
    "execution": {
     "iopub.execute_input": "2024-02-24T02:02:19.646931Z",
     "iopub.status.busy": "2024-02-24T02:02:19.646469Z",
     "iopub.status.idle": "2024-02-24T02:02:21.090234Z",
     "shell.execute_reply": "2024-02-24T02:02:21.088318Z"
    },
    "papermill": {
     "duration": 1.467767,
     "end_time": "2024-02-24T02:02:21.093665",
     "exception": false,
     "start_time": "2024-02-24T02:02:19.625898",
     "status": "completed"
    },
    "tags": []
   },
   "outputs": [],
   "source": [
    "import optuna\n",
    "\n",
    "\n",
    "def objective(trial):\n",
    "    hyperparams = {\n",
    "        'n_estimators': trial.suggest_int('n_estimators', 100, 1000),\n",
    "        'max_depth': trial.suggest_int('max_depth', 10, 50),\n",
    "        'min_samples_split': trial.suggest_int('min_samples_split', 2, 32),\n",
    "        'random_state': trial.suggest_categorical('random_state', [42]),\n",
    "        'min_samples_leaf': trial.suggest_int('min_samples_leaf', 1, 32),\n",
    "        'n_jobs': -1\n",
    "    }\n",
    "\n",
    "    model = RandomForestClassifier(**hyperparams)\n",
    "    scores = cross_val_score(model, X_train_reduced,\n",
    "                             y_train, cv=kf, scoring='accuracy')\n",
    "    return np.mean(scores)"
   ]
  },
  {
   "cell_type": "code",
   "execution_count": 16,
   "id": "cfc6ce41",
   "metadata": {
    "execution": {
     "iopub.execute_input": "2024-02-24T02:02:21.203117Z",
     "iopub.status.busy": "2024-02-24T02:02:21.201462Z",
     "iopub.status.idle": "2024-02-24T02:28:52.496649Z",
     "shell.execute_reply": "2024-02-24T02:28:52.495329Z"
    },
    "papermill": {
     "duration": 1591.385217,
     "end_time": "2024-02-24T02:28:52.499636",
     "exception": false,
     "start_time": "2024-02-24T02:02:21.114419",
     "status": "completed"
    },
    "tags": []
   },
   "outputs": [
    {
     "name": "stderr",
     "output_type": "stream",
     "text": [
      "[I 2024-02-24 02:02:21,207] A new study created in memory with name: no-name-c3ce2a7e-654a-48c6-a2b5-861167b063ad\n",
      "[I 2024-02-24 02:02:34,190] Trial 0 finished with value: 0.54375 and parameters: {'n_estimators': 687, 'max_depth': 44, 'min_samples_split': 22, 'random_state': 42, 'min_samples_leaf': 27}. Best is trial 0 with value: 0.54375.\n",
      "[I 2024-02-24 02:02:43,377] Trial 1 finished with value: 0.834375 and parameters: {'n_estimators': 429, 'max_depth': 11, 'min_samples_split': 8, 'random_state': 42, 'min_samples_leaf': 4}. Best is trial 1 with value: 0.834375.\n",
      "[I 2024-02-24 02:02:50,581] Trial 2 finished with value: 0.76875 and parameters: {'n_estimators': 347, 'max_depth': 12, 'min_samples_split': 4, 'random_state': 42, 'min_samples_leaf': 7}. Best is trial 1 with value: 0.834375.\n",
      "[I 2024-02-24 02:02:58,819] Trial 3 finished with value: 0.571875 and parameters: {'n_estimators': 437, 'max_depth': 42, 'min_samples_split': 18, 'random_state': 42, 'min_samples_leaf': 24}. Best is trial 1 with value: 0.834375.\n",
      "[I 2024-02-24 02:03:08,529] Trial 4 finished with value: 0.71875 and parameters: {'n_estimators': 498, 'max_depth': 43, 'min_samples_split': 7, 'random_state': 42, 'min_samples_leaf': 13}. Best is trial 1 with value: 0.834375.\n",
      "[I 2024-02-24 02:03:19,281] Trial 5 finished with value: 0.725 and parameters: {'n_estimators': 555, 'max_depth': 42, 'min_samples_split': 5, 'random_state': 42, 'min_samples_leaf': 12}. Best is trial 1 with value: 0.834375.\n",
      "[I 2024-02-24 02:03:28,528] Trial 6 finished with value: 0.6375 and parameters: {'n_estimators': 487, 'max_depth': 29, 'min_samples_split': 16, 'random_state': 42, 'min_samples_leaf': 20}. Best is trial 1 with value: 0.834375.\n",
      "[I 2024-02-24 02:03:47,071] Trial 7 finished with value: 0.765625 and parameters: {'n_estimators': 920, 'max_depth': 33, 'min_samples_split': 18, 'random_state': 42, 'min_samples_leaf': 6}. Best is trial 1 with value: 0.834375.\n",
      "[I 2024-02-24 02:03:58,425] Trial 8 finished with value: 0.534375 and parameters: {'n_estimators': 616, 'max_depth': 20, 'min_samples_split': 2, 'random_state': 42, 'min_samples_leaf': 27}. Best is trial 1 with value: 0.834375.\n",
      "[I 2024-02-24 02:04:07,106] Trial 9 finished with value: 0.50625 and parameters: {'n_estimators': 476, 'max_depth': 21, 'min_samples_split': 31, 'random_state': 42, 'min_samples_leaf': 30}. Best is trial 1 with value: 0.834375.\n",
      "[I 2024-02-24 02:04:09,846] Trial 10 finished with value: 0.775 and parameters: {'n_estimators': 124, 'max_depth': 13, 'min_samples_split': 11, 'random_state': 42, 'min_samples_leaf': 1}. Best is trial 1 with value: 0.834375.\n",
      "[I 2024-02-24 02:04:12,395] Trial 11 finished with value: 0.784375 and parameters: {'n_estimators': 114, 'max_depth': 12, 'min_samples_split': 10, 'random_state': 42, 'min_samples_leaf': 1}. Best is trial 1 with value: 0.834375.\n",
      "[I 2024-02-24 02:04:14,883] Trial 12 finished with value: 0.778125 and parameters: {'n_estimators': 112, 'max_depth': 18, 'min_samples_split': 11, 'random_state': 42, 'min_samples_leaf': 1}. Best is trial 1 with value: 0.834375.\n",
      "[I 2024-02-24 02:04:20,248] Trial 13 finished with value: 0.7875 and parameters: {'n_estimators': 261, 'max_depth': 10, 'min_samples_split': 11, 'random_state': 42, 'min_samples_leaf': 6}. Best is trial 1 with value: 0.834375.\n",
      "[I 2024-02-24 02:04:25,885] Trial 14 finished with value: 0.69375 and parameters: {'n_estimators': 282, 'max_depth': 27, 'min_samples_split': 26, 'random_state': 42, 'min_samples_leaf': 8}. Best is trial 1 with value: 0.834375.\n",
      "[I 2024-02-24 02:04:31,368] Trial 15 finished with value: 0.678125 and parameters: {'n_estimators': 277, 'max_depth': 10, 'min_samples_split': 13, 'random_state': 42, 'min_samples_leaf': 15}. Best is trial 1 with value: 0.834375.\n",
      "[I 2024-02-24 02:04:47,905] Trial 16 finished with value: 0.75 and parameters: {'n_estimators': 842, 'max_depth': 35, 'min_samples_split': 8, 'random_state': 42, 'min_samples_leaf': 10}. Best is trial 1 with value: 0.834375.\n",
      "[I 2024-02-24 02:04:54,747] Trial 17 finished with value: 0.671875 and parameters: {'n_estimators': 361, 'max_depth': 24, 'min_samples_split': 15, 'random_state': 42, 'min_samples_leaf': 19}. Best is trial 1 with value: 0.834375.\n",
      "[I 2024-02-24 02:05:00,232] Trial 18 finished with value: 0.69375 and parameters: {'n_estimators': 259, 'max_depth': 49, 'min_samples_split': 22, 'random_state': 42, 'min_samples_leaf': 5}. Best is trial 1 with value: 0.834375.\n",
      "[I 2024-02-24 02:05:15,869] Trial 19 finished with value: 0.834375 and parameters: {'n_estimators': 740, 'max_depth': 16, 'min_samples_split': 7, 'random_state': 42, 'min_samples_leaf': 4}. Best is trial 1 with value: 0.834375.\n",
      "[I 2024-02-24 02:05:31,218] Trial 20 finished with value: 0.8375 and parameters: {'n_estimators': 742, 'max_depth': 17, 'min_samples_split': 2, 'random_state': 42, 'min_samples_leaf': 4}. Best is trial 20 with value: 0.8375.\n",
      "[I 2024-02-24 02:05:46,551] Trial 21 finished with value: 0.8375 and parameters: {'n_estimators': 729, 'max_depth': 16, 'min_samples_split': 2, 'random_state': 42, 'min_samples_leaf': 4}. Best is trial 20 with value: 0.8375.\n",
      "[I 2024-02-24 02:06:00,641] Trial 22 finished with value: 0.74375 and parameters: {'n_estimators': 721, 'max_depth': 16, 'min_samples_split': 2, 'random_state': 42, 'min_samples_leaf': 10}. Best is trial 20 with value: 0.8375.\n",
      "[I 2024-02-24 02:06:18,675] Trial 23 finished with value: 0.871875 and parameters: {'n_estimators': 836, 'max_depth': 24, 'min_samples_split': 4, 'random_state': 42, 'min_samples_leaf': 3}. Best is trial 23 with value: 0.871875.\n",
      "[I 2024-02-24 02:06:36,326] Trial 24 finished with value: 0.878125 and parameters: {'n_estimators': 821, 'max_depth': 24, 'min_samples_split': 4, 'random_state': 42, 'min_samples_leaf': 3}. Best is trial 24 with value: 0.878125.\n",
      "[I 2024-02-24 02:06:55,031] Trial 25 finished with value: 0.753125 and parameters: {'n_estimators': 957, 'max_depth': 24, 'min_samples_split': 5, 'random_state': 42, 'min_samples_leaf': 9}. Best is trial 24 with value: 0.878125.\n",
      "[I 2024-02-24 02:07:10,877] Trial 26 finished with value: 0.734375 and parameters: {'n_estimators': 819, 'max_depth': 25, 'min_samples_split': 5, 'random_state': 42, 'min_samples_leaf': 12}. Best is trial 24 with value: 0.878125.\n",
      "[I 2024-02-24 02:07:29,346] Trial 27 finished with value: 0.86875 and parameters: {'n_estimators': 847, 'max_depth': 33, 'min_samples_split': 4, 'random_state': 42, 'min_samples_leaf': 2}. Best is trial 24 with value: 0.878125.\n",
      "[I 2024-02-24 02:07:47,566] Trial 28 finished with value: 0.775 and parameters: {'n_estimators': 855, 'max_depth': 35, 'min_samples_split': 14, 'random_state': 42, 'min_samples_leaf': 1}. Best is trial 24 with value: 0.878125.\n",
      "[I 2024-02-24 02:07:59,640] Trial 29 finished with value: 0.6625 and parameters: {'n_estimators': 641, 'max_depth': 31, 'min_samples_split': 9, 'random_state': 42, 'min_samples_leaf': 19}. Best is trial 24 with value: 0.878125.\n",
      "[I 2024-02-24 02:08:20,770] Trial 30 finished with value: 0.878125 and parameters: {'n_estimators': 990, 'max_depth': 38, 'min_samples_split': 6, 'random_state': 42, 'min_samples_leaf': 3}. Best is trial 24 with value: 0.878125.\n",
      "[I 2024-02-24 02:08:41,872] Trial 31 finished with value: 0.878125 and parameters: {'n_estimators': 989, 'max_depth': 37, 'min_samples_split': 4, 'random_state': 42, 'min_samples_leaf': 3}. Best is trial 24 with value: 0.878125.\n",
      "[I 2024-02-24 02:09:02,861] Trial 32 finished with value: 0.84375 and parameters: {'n_estimators': 993, 'max_depth': 39, 'min_samples_split': 6, 'random_state': 42, 'min_samples_leaf': 4}. Best is trial 24 with value: 0.878125.\n",
      "[I 2024-02-24 02:09:21,055] Trial 33 finished with value: 0.759375 and parameters: {'n_estimators': 910, 'max_depth': 38, 'min_samples_split': 4, 'random_state': 42, 'min_samples_leaf': 8}. Best is trial 24 with value: 0.878125.\n",
      "[I 2024-02-24 02:09:40,860] Trial 34 finished with value: 0.78125 and parameters: {'n_estimators': 999, 'max_depth': 38, 'min_samples_split': 8, 'random_state': 42, 'min_samples_leaf': 7}. Best is trial 24 with value: 0.878125.\n",
      "[I 2024-02-24 02:09:57,374] Trial 35 finished with value: 0.725 and parameters: {'n_estimators': 787, 'max_depth': 48, 'min_samples_split': 20, 'random_state': 42, 'min_samples_leaf': 3}. Best is trial 24 with value: 0.878125.\n",
      "[I 2024-02-24 02:10:15,852] Trial 36 finished with value: 0.796875 and parameters: {'n_estimators': 912, 'max_depth': 28, 'min_samples_split': 7, 'random_state': 42, 'min_samples_leaf': 6}. Best is trial 24 with value: 0.878125.\n",
      "[I 2024-02-24 02:10:32,900] Trial 37 finished with value: 0.703125 and parameters: {'n_estimators': 889, 'max_depth': 46, 'min_samples_split': 4, 'random_state': 42, 'min_samples_leaf': 15}. Best is trial 24 with value: 0.878125.\n",
      "[I 2024-02-24 02:10:50,574] Trial 38 finished with value: 0.59375 and parameters: {'n_estimators': 955, 'max_depth': 40, 'min_samples_split': 6, 'random_state': 42, 'min_samples_leaf': 23}. Best is trial 24 with value: 0.878125.\n",
      "[I 2024-02-24 02:11:07,174] Trial 39 finished with value: 0.775 and parameters: {'n_estimators': 792, 'max_depth': 22, 'min_samples_split': 13, 'random_state': 42, 'min_samples_leaf': 3}. Best is trial 24 with value: 0.878125.\n",
      "[I 2024-02-24 02:11:19,540] Trial 40 finished with value: 0.725 and parameters: {'n_estimators': 634, 'max_depth': 36, 'min_samples_split': 3, 'random_state': 42, 'min_samples_leaf': 11}. Best is trial 24 with value: 0.878125.\n",
      "[I 2024-02-24 02:11:38,143] Trial 41 finished with value: 0.88125 and parameters: {'n_estimators': 862, 'max_depth': 31, 'min_samples_split': 4, 'random_state': 42, 'min_samples_leaf': 3}. Best is trial 41 with value: 0.88125.\n",
      "[I 2024-02-24 02:11:58,973] Trial 42 finished with value: 0.875 and parameters: {'n_estimators': 962, 'max_depth': 31, 'min_samples_split': 6, 'random_state': 42, 'min_samples_leaf': 3}. Best is trial 41 with value: 0.88125.\n",
      "[I 2024-02-24 02:12:18,240] Trial 43 finished with value: 0.796875 and parameters: {'n_estimators': 947, 'max_depth': 31, 'min_samples_split': 9, 'random_state': 42, 'min_samples_leaf': 6}. Best is trial 41 with value: 0.88125.\n",
      "[I 2024-02-24 02:12:37,575] Trial 44 finished with value: 0.871875 and parameters: {'n_estimators': 879, 'max_depth': 41, 'min_samples_split': 6, 'random_state': 42, 'min_samples_leaf': 2}. Best is trial 41 with value: 0.88125.\n",
      "[I 2024-02-24 02:12:56,932] Trial 45 finished with value: 0.7625 and parameters: {'n_estimators': 966, 'max_depth': 33, 'min_samples_split': 9, 'random_state': 42, 'min_samples_leaf': 8}. Best is trial 41 with value: 0.88125.\n",
      "[I 2024-02-24 02:13:15,552] Trial 46 finished with value: 0.70625 and parameters: {'n_estimators': 928, 'max_depth': 44, 'min_samples_split': 27, 'random_state': 42, 'min_samples_leaf': 5}. Best is trial 41 with value: 0.88125.\n",
      "[I 2024-02-24 02:13:34,983] Trial 47 finished with value: 0.871875 and parameters: {'n_estimators': 880, 'max_depth': 30, 'min_samples_split': 3, 'random_state': 42, 'min_samples_leaf': 2}. Best is trial 41 with value: 0.88125.\n",
      "[I 2024-02-24 02:13:55,090] Trial 48 finished with value: 0.78125 and parameters: {'n_estimators': 999, 'max_depth': 27, 'min_samples_split': 6, 'random_state': 42, 'min_samples_leaf': 7}. Best is trial 41 with value: 0.88125.\n",
      "[I 2024-02-24 02:14:05,564] Trial 49 finished with value: 0.48125 and parameters: {'n_estimators': 567, 'max_depth': 36, 'min_samples_split': 12, 'random_state': 42, 'min_samples_leaf': 32}. Best is trial 41 with value: 0.88125.\n",
      "[I 2024-02-24 02:14:22,454] Trial 50 finished with value: 0.825 and parameters: {'n_estimators': 809, 'max_depth': 32, 'min_samples_split': 10, 'random_state': 42, 'min_samples_leaf': 5}. Best is trial 41 with value: 0.88125.\n",
      "[I 2024-02-24 02:14:39,201] Trial 51 finished with value: 0.875 and parameters: {'n_estimators': 773, 'max_depth': 22, 'min_samples_split': 3, 'random_state': 42, 'min_samples_leaf': 3}. Best is trial 41 with value: 0.88125.\n",
      "[I 2024-02-24 02:15:00,073] Trial 52 finished with value: 0.89375 and parameters: {'n_estimators': 924, 'max_depth': 26, 'min_samples_split': 3, 'random_state': 42, 'min_samples_leaf': 1}. Best is trial 52 with value: 0.89375.\n",
      "[I 2024-02-24 02:15:21,128] Trial 53 finished with value: 0.88125 and parameters: {'n_estimators': 928, 'max_depth': 26, 'min_samples_split': 5, 'random_state': 42, 'min_samples_leaf': 1}. Best is trial 52 with value: 0.89375.\n",
      "[I 2024-02-24 02:15:41,656] Trial 54 finished with value: 0.884375 and parameters: {'n_estimators': 910, 'max_depth': 26, 'min_samples_split': 5, 'random_state': 42, 'min_samples_leaf': 1}. Best is trial 52 with value: 0.89375.\n",
      "[I 2024-02-24 02:15:56,977] Trial 55 finished with value: 0.846875 and parameters: {'n_estimators': 693, 'max_depth': 26, 'min_samples_split': 8, 'random_state': 42, 'min_samples_leaf': 1}. Best is trial 52 with value: 0.89375.\n",
      "[I 2024-02-24 02:16:17,094] Trial 56 finished with value: 0.90625 and parameters: {'n_estimators': 883, 'max_depth': 19, 'min_samples_split': 2, 'random_state': 42, 'min_samples_leaf': 1}. Best is trial 56 with value: 0.90625.\n",
      "[I 2024-02-24 02:16:36,980] Trial 57 finished with value: 0.896875 and parameters: {'n_estimators': 879, 'max_depth': 20, 'min_samples_split': 2, 'random_state': 42, 'min_samples_leaf': 1}. Best is trial 56 with value: 0.90625.\n",
      "[I 2024-02-24 02:16:56,989] Trial 58 finished with value: 0.896875 and parameters: {'n_estimators': 878, 'max_depth': 20, 'min_samples_split': 2, 'random_state': 42, 'min_samples_leaf': 1}. Best is trial 56 with value: 0.90625.\n",
      "[I 2024-02-24 02:17:16,744] Trial 59 finished with value: 0.90625 and parameters: {'n_estimators': 870, 'max_depth': 19, 'min_samples_split': 2, 'random_state': 42, 'min_samples_leaf': 1}. Best is trial 56 with value: 0.90625.\n",
      "[I 2024-02-24 02:17:34,276] Trial 60 finished with value: 0.90625 and parameters: {'n_estimators': 772, 'max_depth': 19, 'min_samples_split': 2, 'random_state': 42, 'min_samples_leaf': 1}. Best is trial 56 with value: 0.90625.\n",
      "[I 2024-02-24 02:17:54,476] Trial 61 finished with value: 0.90625 and parameters: {'n_estimators': 896, 'max_depth': 19, 'min_samples_split': 2, 'random_state': 42, 'min_samples_leaf': 1}. Best is trial 56 with value: 0.90625.\n",
      "[I 2024-02-24 02:18:12,135] Trial 62 finished with value: 0.90625 and parameters: {'n_estimators': 778, 'max_depth': 19, 'min_samples_split': 2, 'random_state': 42, 'min_samples_leaf': 1}. Best is trial 56 with value: 0.90625.\n",
      "[I 2024-02-24 02:18:29,497] Trial 63 finished with value: 0.86875 and parameters: {'n_estimators': 778, 'max_depth': 19, 'min_samples_split': 2, 'random_state': 42, 'min_samples_leaf': 2}. Best is trial 56 with value: 0.90625.\n",
      "[I 2024-02-24 02:18:48,992] Trial 64 finished with value: 0.896875 and parameters: {'n_estimators': 877, 'max_depth': 14, 'min_samples_split': 2, 'random_state': 42, 'min_samples_leaf': 2}. Best is trial 56 with value: 0.90625.\n",
      "[I 2024-02-24 02:19:03,337] Trial 65 finished with value: 0.828125 and parameters: {'n_estimators': 692, 'max_depth': 19, 'min_samples_split': 2, 'random_state': 42, 'min_samples_leaf': 5}. Best is trial 56 with value: 0.90625.\n",
      "[I 2024-02-24 02:19:19,471] Trial 66 finished with value: 0.840625 and parameters: {'n_estimators': 757, 'max_depth': 14, 'min_samples_split': 3, 'random_state': 42, 'min_samples_leaf': 4}. Best is trial 56 with value: 0.90625.\n",
      "[I 2024-02-24 02:19:36,505] Trial 67 finished with value: 0.646875 and parameters: {'n_estimators': 829, 'max_depth': 22, 'min_samples_split': 32, 'random_state': 42, 'min_samples_leaf': 1}. Best is trial 56 with value: 0.90625.\n",
      "[I 2024-02-24 02:19:53,551] Trial 68 finished with value: 0.825 and parameters: {'n_estimators': 806, 'max_depth': 20, 'min_samples_split': 2, 'random_state': 42, 'min_samples_leaf': 5}. Best is trial 56 with value: 0.90625.\n",
      "[I 2024-02-24 02:20:09,349] Trial 69 finished with value: 0.540625 and parameters: {'n_estimators': 847, 'max_depth': 17, 'min_samples_split': 3, 'random_state': 42, 'min_samples_leaf': 26}. Best is trial 56 with value: 0.90625.\n",
      "[I 2024-02-24 02:20:18,949] Trial 70 finished with value: 0.871875 and parameters: {'n_estimators': 432, 'max_depth': 18, 'min_samples_split': 2, 'random_state': 42, 'min_samples_leaf': 2}. Best is trial 56 with value: 0.90625.\n",
      "[I 2024-02-24 02:20:38,122] Trial 71 finished with value: 0.875 and parameters: {'n_estimators': 872, 'max_depth': 13, 'min_samples_split': 2, 'random_state': 42, 'min_samples_leaf': 2}. Best is trial 56 with value: 0.90625.\n",
      "[I 2024-02-24 02:20:57,495] Trial 72 finished with value: 0.878125 and parameters: {'n_estimators': 874, 'max_depth': 14, 'min_samples_split': 5, 'random_state': 42, 'min_samples_leaf': 1}. Best is trial 56 with value: 0.90625.\n",
      "[I 2024-02-24 02:21:13,176] Trial 73 finished with value: 0.884375 and parameters: {'n_estimators': 715, 'max_depth': 15, 'min_samples_split': 3, 'random_state': 42, 'min_samples_leaf': 2}. Best is trial 56 with value: 0.90625.\n",
      "[I 2024-02-24 02:21:32,063] Trial 74 finished with value: 0.7375 and parameters: {'n_estimators': 905, 'max_depth': 11, 'min_samples_split': 17, 'random_state': 42, 'min_samples_leaf': 4}. Best is trial 56 with value: 0.90625.\n",
      "[I 2024-02-24 02:21:50,273] Trial 75 finished with value: 0.875 and parameters: {'n_estimators': 832, 'max_depth': 21, 'min_samples_split': 2, 'random_state': 42, 'min_samples_leaf': 2}. Best is trial 56 with value: 0.90625.\n",
      "[I 2024-02-24 02:22:06,484] Trial 76 finished with value: 0.834375 and parameters: {'n_estimators': 763, 'max_depth': 18, 'min_samples_split': 3, 'random_state': 42, 'min_samples_leaf': 4}. Best is trial 56 with value: 0.90625.\n",
      "[I 2024-02-24 02:22:21,223] Trial 77 finished with value: 0.890625 and parameters: {'n_estimators': 662, 'max_depth': 20, 'min_samples_split': 4, 'random_state': 42, 'min_samples_leaf': 1}. Best is trial 56 with value: 0.90625.\n",
      "[I 2024-02-24 02:22:40,924] Trial 78 finished with value: 0.88125 and parameters: {'n_estimators': 895, 'max_depth': 23, 'min_samples_split': 5, 'random_state': 42, 'min_samples_leaf': 2}. Best is trial 56 with value: 0.90625.\n",
      "[I 2024-02-24 02:22:51,772] Trial 79 finished with value: 0.796875 and parameters: {'n_estimators': 522, 'max_depth': 17, 'min_samples_split': 7, 'random_state': 42, 'min_samples_leaf': 6}. Best is trial 56 with value: 0.90625.\n",
      "[I 2024-02-24 02:23:07,243] Trial 80 finished with value: 0.703125 and parameters: {'n_estimators': 801, 'max_depth': 15, 'min_samples_split': 4, 'random_state': 42, 'min_samples_leaf': 14}. Best is trial 56 with value: 0.90625.\n",
      "[I 2024-02-24 02:23:28,176] Trial 81 finished with value: 0.890625 and parameters: {'n_estimators': 931, 'max_depth': 20, 'min_samples_split': 3, 'random_state': 42, 'min_samples_leaf': 1}. Best is trial 56 with value: 0.90625.\n",
      "[I 2024-02-24 02:23:31,241] Trial 82 finished with value: 0.66875 and parameters: {'n_estimators': 153, 'max_depth': 19, 'min_samples_split': 2, 'random_state': 42, 'min_samples_leaf': 17}. Best is trial 56 with value: 0.90625.\n",
      "[I 2024-02-24 02:23:51,383] Trial 83 finished with value: 0.878125 and parameters: {'n_estimators': 935, 'max_depth': 21, 'min_samples_split': 3, 'random_state': 42, 'min_samples_leaf': 3}. Best is trial 56 with value: 0.90625.\n",
      "[I 2024-02-24 02:24:10,595] Trial 84 finished with value: 0.9 and parameters: {'n_estimators': 853, 'max_depth': 23, 'min_samples_split': 2, 'random_state': 42, 'min_samples_leaf': 1}. Best is trial 56 with value: 0.90625.\n",
      "[I 2024-02-24 02:24:27,858] Trial 85 finished with value: 0.6875 and parameters: {'n_estimators': 854, 'max_depth': 23, 'min_samples_split': 27, 'random_state': 42, 'min_samples_leaf': 4}. Best is trial 56 with value: 0.90625.\n",
      "[I 2024-02-24 02:24:46,132] Trial 86 finished with value: 0.878125 and parameters: {'n_estimators': 824, 'max_depth': 16, 'min_samples_split': 4, 'random_state': 42, 'min_samples_leaf': 2}. Best is trial 56 with value: 0.90625.\n",
      "[I 2024-02-24 02:24:53,353] Trial 87 finished with value: 0.603125 and parameters: {'n_estimators': 378, 'max_depth': 18, 'min_samples_split': 2, 'random_state': 42, 'min_samples_leaf': 22}. Best is trial 56 with value: 0.90625.\n",
      "[I 2024-02-24 02:25:11,540] Trial 88 finished with value: 0.725 and parameters: {'n_estimators': 863, 'max_depth': 17, 'min_samples_split': 20, 'random_state': 42, 'min_samples_leaf': 3}. Best is trial 56 with value: 0.90625.\n",
      "[I 2024-02-24 02:25:33,288] Trial 89 finished with value: 0.878125 and parameters: {'n_estimators': 970, 'max_depth': 21, 'min_samples_split': 5, 'random_state': 42, 'min_samples_leaf': 1}. Best is trial 56 with value: 0.90625.\n",
      "[I 2024-02-24 02:25:51,824] Trial 90 finished with value: 0.821875 and parameters: {'n_estimators': 892, 'max_depth': 23, 'min_samples_split': 4, 'random_state': 42, 'min_samples_leaf': 5}. Best is trial 56 with value: 0.90625.\n",
      "[I 2024-02-24 02:26:12,404] Trial 91 finished with value: 0.896875 and parameters: {'n_estimators': 904, 'max_depth': 25, 'min_samples_split': 3, 'random_state': 42, 'min_samples_leaf': 1}. Best is trial 56 with value: 0.90625.\n",
      "[I 2024-02-24 02:26:31,123] Trial 92 finished with value: 0.871875 and parameters: {'n_estimators': 842, 'max_depth': 19, 'min_samples_split': 2, 'random_state': 42, 'min_samples_leaf': 2}. Best is trial 56 with value: 0.90625.\n",
      "[I 2024-02-24 02:26:50,653] Trial 93 finished with value: 0.871875 and parameters: {'n_estimators': 893, 'max_depth': 22, 'min_samples_split': 3, 'random_state': 42, 'min_samples_leaf': 3}. Best is trial 56 with value: 0.90625.\n",
      "[I 2024-02-24 02:27:12,039] Trial 94 finished with value: 0.9 and parameters: {'n_estimators': 944, 'max_depth': 25, 'min_samples_split': 2, 'random_state': 42, 'min_samples_leaf': 1}. Best is trial 56 with value: 0.90625.\n",
      "[I 2024-02-24 02:27:33,501] Trial 95 finished with value: 0.884375 and parameters: {'n_estimators': 944, 'max_depth': 21, 'min_samples_split': 5, 'random_state': 42, 'min_samples_leaf': 1}. Best is trial 56 with value: 0.90625.\n",
      "[I 2024-02-24 02:27:50,432] Trial 96 finished with value: 0.878125 and parameters: {'n_estimators': 749, 'max_depth': 20, 'min_samples_split': 2, 'random_state': 42, 'min_samples_leaf': 2}. Best is trial 56 with value: 0.90625.\n",
      "[I 2024-02-24 02:28:11,835] Trial 97 finished with value: 0.884375 and parameters: {'n_estimators': 976, 'max_depth': 18, 'min_samples_split': 4, 'random_state': 42, 'min_samples_leaf': 3}. Best is trial 56 with value: 0.90625.\n",
      "[I 2024-02-24 02:28:29,036] Trial 98 finished with value: 0.84375 and parameters: {'n_estimators': 796, 'max_depth': 24, 'min_samples_split': 2, 'random_state': 42, 'min_samples_leaf': 4}. Best is trial 56 with value: 0.90625.\n",
      "[I 2024-02-24 02:28:48,185] Trial 99 finished with value: 0.88125 and parameters: {'n_estimators': 863, 'max_depth': 15, 'min_samples_split': 4, 'random_state': 42, 'min_samples_leaf': 2}. Best is trial 56 with value: 0.90625.\n"
     ]
    },
    {
     "name": "stdout",
     "output_type": "stream",
     "text": [
      "Best params found : {'n_estimators': 883, 'max_depth': 19, 'min_samples_split': 2, 'random_state': 42, 'min_samples_leaf': 1}\n"
     ]
    },
    {
     "data": {
      "text/plain": [
       "0.9875"
      ]
     },
     "execution_count": 16,
     "metadata": {},
     "output_type": "execute_result"
    }
   ],
   "source": [
    "study = optuna.create_study(direction = 'maximize')\n",
    "study.optimize(objective, n_trials = 100)\n",
    "best_params = study.best_params\n",
    "print(\"Best params found :\", best_params)\n",
    "\n",
    "final_model = RandomForestClassifier(**best_params)\n",
    "final_model.fit(X_train_reduced, y_train)\n",
    "y_pred = final_model.predict(X_test_reduced)\n",
    "accuracy_score(y_test, y_pred)"
   ]
  },
  {
   "cell_type": "code",
   "execution_count": 17,
   "id": "eee866e1",
   "metadata": {
    "execution": {
     "iopub.execute_input": "2024-02-24T02:28:52.558097Z",
     "iopub.status.busy": "2024-02-24T02:28:52.557649Z",
     "iopub.status.idle": "2024-02-24T02:28:56.810944Z",
     "shell.execute_reply": "2024-02-24T02:28:56.809744Z"
    },
    "papermill": {
     "duration": 4.28747,
     "end_time": "2024-02-24T02:28:56.814870",
     "exception": false,
     "start_time": "2024-02-24T02:28:52.527400",
     "status": "completed"
    },
    "tags": []
   },
   "outputs": [
    {
     "name": "stdout",
     "output_type": "stream",
     "text": [
      "accuracy: 0.9875\n",
      "recall: 0.9722222222222222\n",
      "precision: 0.9629629629629629\n",
      "f1-score: 0.9666666666666666\n",
      "roc_auc:  0.7339875119474435\n"
     ]
    },
    {
     "name": "stderr",
     "output_type": "stream",
     "text": [
      "/opt/conda/lib/python3.10/site-packages/sklearn/metrics/_classification.py:1344: UndefinedMetricWarning: Precision is ill-defined and being set to 0.0 in labels with no predicted samples. Use `zero_division` parameter to control this behavior.\n",
      "  _warn_prf(average, modifier, msg_start, len(result))\n"
     ]
    }
   ],
   "source": [
    "final_model = RandomForestClassifier(**best_params)\n",
    "final_model.fit(X_train_reduced, y_train)\n",
    "y_pred = final_model.predict(X_test_reduced)\n",
    "prediction_results['random forest'] = y_pred \n",
    "\n",
    "accuracy = accuracy_score(y_test, y_pred)\n",
    "precision = precision_score(y_test, y_pred, average='macro')\n",
    "recall = recall_score(y_test, y_pred, average='macro')\n",
    "f1 = f1_score(y_test, y_pred, average='macro')\n",
    "\n",
    "# One-hot encoding for probability calculation (adapt if necessary)\n",
    "y_test_onehot = pd.get_dummies(y_test, prefix='label_')  # Assuming 'label_' prefix for clarity\n",
    "y_pred_onehot = pd.get_dummies(y_pred, prefix='label_')\n",
    "\n",
    "# ROC AUC score with multiclass handling\n",
    "roc_auc_macro = roc_auc_score(y_test_onehot, y_pred_onehot, average='macro', multi_class='ovo')  # Specify 'ovo' or 'ovr'\n",
    "\n",
    "print(\"accuracy:\", accuracy)\n",
    "print(\"recall:\", recall)\n",
    "print(\"precision:\", precision)\n",
    "print(\"f1-score:\", f1)\n",
    "print('roc_auc: ', roc_auc_macro)"
   ]
  },
  {
   "cell_type": "markdown",
   "id": "fd78005f",
   "metadata": {
    "papermill": {
     "duration": 0.027927,
     "end_time": "2024-02-24T02:28:56.871160",
     "exception": false,
     "start_time": "2024-02-24T02:28:56.843233",
     "status": "completed"
    },
    "tags": []
   },
   "source": [
    "****"
   ]
  },
  {
   "cell_type": "markdown",
   "id": "e37253e4",
   "metadata": {
    "papermill": {
     "duration": 0.028193,
     "end_time": "2024-02-24T02:28:56.927972",
     "exception": false,
     "start_time": "2024-02-24T02:28:56.899779",
     "status": "completed"
    },
    "tags": []
   },
   "source": [
    "# Gassian NB"
   ]
  },
  {
   "cell_type": "markdown",
   "id": "5a33d67c",
   "metadata": {
    "papermill": {
     "duration": 0.028254,
     "end_time": "2024-02-24T02:28:56.986137",
     "exception": false,
     "start_time": "2024-02-24T02:28:56.957883",
     "status": "completed"
    },
    "tags": []
   },
   "source": [
    "**Pre-tunning**"
   ]
  },
  {
   "cell_type": "code",
   "execution_count": 18,
   "id": "dfd36293",
   "metadata": {
    "_kg_hide-output": true,
    "execution": {
     "iopub.execute_input": "2024-02-24T02:28:57.047906Z",
     "iopub.status.busy": "2024-02-24T02:28:57.047449Z",
     "iopub.status.idle": "2024-02-24T02:28:57.078390Z",
     "shell.execute_reply": "2024-02-24T02:28:57.077229Z"
    },
    "papermill": {
     "duration": 0.065456,
     "end_time": "2024-02-24T02:28:57.081783",
     "exception": false,
     "start_time": "2024-02-24T02:28:57.016327",
     "status": "completed"
    },
    "tags": []
   },
   "outputs": [
    {
     "name": "stdout",
     "output_type": "stream",
     "text": [
      "accuracy: 0.95\n",
      "recall: 0.9398148148148149\n",
      "precision: 0.9421296296296295\n",
      "f1-score: 0.9323953823953823\n"
     ]
    },
    {
     "name": "stderr",
     "output_type": "stream",
     "text": [
      "/opt/conda/lib/python3.10/site-packages/sklearn/metrics/_classification.py:1344: UndefinedMetricWarning: Precision is ill-defined and being set to 0.0 in labels with no predicted samples. Use `zero_division` parameter to control this behavior.\n",
      "  _warn_prf(average, modifier, msg_start, len(result))\n"
     ]
    }
   ],
   "source": [
    "from sklearn.naive_bayes import GaussianNB\n",
    "gnb = GaussianNB()\n",
    "gnb.fit(X_train_reduced, y_train)\n",
    "\n",
    "y_pred = gnb.predict(X_test_reduced)\n",
    "\n",
    "accuracy = accuracy_score(y_test, y_pred)\n",
    "precision = precision_score(y_test, y_pred, average='macro')\n",
    "recall = recall_score(y_test, y_pred, average='macro')\n",
    "f1 = f1_score(y_test, y_pred, average='macro')\n",
    "\n",
    "# One-hot encoding for probability calculation (adapt if necessary)\n",
    "y_test_onehot = pd.get_dummies(y_test, prefix='label_')  # Assuming 'label_' prefix for clarity\n",
    "y_pred_onehot = pd.get_dummies(y_pred, prefix='label_')\n",
    "\n",
    "# # ROC AUC score with multiclass handling\n",
    "# roc_auc_macro = roc_auc_score(y_test_onehot, y_pred_onehot, average='macro', multi_class='ovr')  # Specify 'ovo' or 'ovr'\n",
    "\n",
    "print(\"accuracy:\", accuracy)\n",
    "print(\"recall:\", recall)\n",
    "print(\"precision:\", precision)\n",
    "print(\"f1-score:\", f1)\n",
    "# print('roc_auc: ', roc_auc_macro)\n"
   ]
  },
  {
   "cell_type": "markdown",
   "id": "2a8ceaa7",
   "metadata": {
    "papermill": {
     "duration": 0.028406,
     "end_time": "2024-02-24T02:28:57.139251",
     "exception": false,
     "start_time": "2024-02-24T02:28:57.110845",
     "status": "completed"
    },
    "tags": []
   },
   "source": [
    "**Tunning**"
   ]
  },
  {
   "cell_type": "code",
   "execution_count": 19,
   "id": "8b146f19",
   "metadata": {
    "execution": {
     "iopub.execute_input": "2024-02-24T02:28:57.200043Z",
     "iopub.status.busy": "2024-02-24T02:28:57.199296Z",
     "iopub.status.idle": "2024-02-24T02:28:57.206090Z",
     "shell.execute_reply": "2024-02-24T02:28:57.205224Z"
    },
    "papermill": {
     "duration": 0.039927,
     "end_time": "2024-02-24T02:28:57.208574",
     "exception": false,
     "start_time": "2024-02-24T02:28:57.168647",
     "status": "completed"
    },
    "tags": []
   },
   "outputs": [],
   "source": [
    "def objective(trial):\n",
    "    hyperparams = {\n",
    "        'var_smoothing': trial.suggest_float('var_smoothing', 1e-9, 1e-4, log = True)\n",
    "    }\n",
    "    \n",
    "    model = GaussianNB(**hyperparams)\n",
    "    scores = cross_val_score(model, X_train_reduced, y_train, cv = kf,scoring = 'accuracy')\n",
    "    return np.mean(scores)"
   ]
  },
  {
   "cell_type": "code",
   "execution_count": 20,
   "id": "c0470b0d",
   "metadata": {
    "execution": {
     "iopub.execute_input": "2024-02-24T02:28:57.268686Z",
     "iopub.status.busy": "2024-02-24T02:28:57.267869Z",
     "iopub.status.idle": "2024-02-24T02:29:02.393387Z",
     "shell.execute_reply": "2024-02-24T02:29:02.392127Z"
    },
    "papermill": {
     "duration": 5.160277,
     "end_time": "2024-02-24T02:29:02.397536",
     "exception": false,
     "start_time": "2024-02-24T02:28:57.237259",
     "status": "completed"
    },
    "tags": []
   },
   "outputs": [
    {
     "name": "stderr",
     "output_type": "stream",
     "text": [
      "[I 2024-02-24 02:28:57,274] A new study created in memory with name: no-name-504a98db-ccd5-4057-bb9a-90b7604afc34\n",
      "[I 2024-02-24 02:28:57,322] Trial 0 finished with value: 0.759375 and parameters: {'var_smoothing': 8.340002014131258e-05}. Best is trial 0 with value: 0.759375.\n",
      "[I 2024-02-24 02:28:57,365] Trial 1 finished with value: 0.75 and parameters: {'var_smoothing': 8.195068127407365e-07}. Best is trial 0 with value: 0.759375.\n",
      "[I 2024-02-24 02:28:57,407] Trial 2 finished with value: 0.75 and parameters: {'var_smoothing': 1.419942554725339e-06}. Best is trial 0 with value: 0.759375.\n",
      "[I 2024-02-24 02:28:57,449] Trial 3 finished with value: 0.75 and parameters: {'var_smoothing': 4.786542120251269e-07}. Best is trial 0 with value: 0.759375.\n",
      "[I 2024-02-24 02:28:57,491] Trial 4 finished with value: 0.75 and parameters: {'var_smoothing': 2.27899681142574e-07}. Best is trial 0 with value: 0.759375.\n",
      "[I 2024-02-24 02:28:57,535] Trial 5 finished with value: 0.75 and parameters: {'var_smoothing': 2.209297908942509e-05}. Best is trial 0 with value: 0.759375.\n",
      "[I 2024-02-24 02:28:57,582] Trial 6 finished with value: 0.75 and parameters: {'var_smoothing': 2.397108848461567e-09}. Best is trial 0 with value: 0.759375.\n",
      "[I 2024-02-24 02:28:57,626] Trial 7 finished with value: 0.75 and parameters: {'var_smoothing': 1.8512219033678163e-08}. Best is trial 0 with value: 0.759375.\n",
      "[I 2024-02-24 02:28:57,674] Trial 8 finished with value: 0.75 and parameters: {'var_smoothing': 3.6708382524689023e-07}. Best is trial 0 with value: 0.759375.\n",
      "[I 2024-02-24 02:28:57,718] Trial 9 finished with value: 0.75 and parameters: {'var_smoothing': 7.918584765269702e-06}. Best is trial 0 with value: 0.759375.\n",
      "[I 2024-02-24 02:28:57,769] Trial 10 finished with value: 0.753125 and parameters: {'var_smoothing': 4.781274008694413e-05}. Best is trial 0 with value: 0.759375.\n",
      "[I 2024-02-24 02:28:57,822] Trial 11 finished with value: 0.759375 and parameters: {'var_smoothing': 9.333644926993385e-05}. Best is trial 0 with value: 0.759375.\n",
      "[I 2024-02-24 02:28:57,873] Trial 12 finished with value: 0.759375 and parameters: {'var_smoothing': 8.875941532532582e-05}. Best is trial 0 with value: 0.759375.\n",
      "[I 2024-02-24 02:28:57,926] Trial 13 finished with value: 0.75 and parameters: {'var_smoothing': 5.97478704481814e-06}. Best is trial 0 with value: 0.759375.\n",
      "[I 2024-02-24 02:28:57,978] Trial 14 finished with value: 0.75 and parameters: {'var_smoothing': 9.698041211127256e-06}. Best is trial 0 with value: 0.759375.\n",
      "[I 2024-02-24 02:28:58,029] Trial 15 finished with value: 0.75625 and parameters: {'var_smoothing': 6.338843898644515e-05}. Best is trial 0 with value: 0.759375.\n",
      "[I 2024-02-24 02:28:58,079] Trial 16 finished with value: 0.75 and parameters: {'var_smoothing': 5.198960115003509e-08}. Best is trial 0 with value: 0.759375.\n",
      "[I 2024-02-24 02:28:58,130] Trial 17 finished with value: 0.75 and parameters: {'var_smoothing': 2.72710113673523e-06}. Best is trial 0 with value: 0.759375.\n",
      "[I 2024-02-24 02:28:58,181] Trial 18 finished with value: 0.75 and parameters: {'var_smoothing': 1.8044245599822498e-05}. Best is trial 0 with value: 0.759375.\n",
      "[I 2024-02-24 02:28:58,230] Trial 19 finished with value: 0.759375 and parameters: {'var_smoothing': 8.961269648208836e-05}. Best is trial 0 with value: 0.759375.\n",
      "[I 2024-02-24 02:28:58,282] Trial 20 finished with value: 0.75 and parameters: {'var_smoothing': 1.1879219567048965e-09}. Best is trial 0 with value: 0.759375.\n",
      "[I 2024-02-24 02:28:58,334] Trial 21 finished with value: 0.75 and parameters: {'var_smoothing': 3.263606042174835e-05}. Best is trial 0 with value: 0.759375.\n",
      "[I 2024-02-24 02:28:58,386] Trial 22 finished with value: 0.759375 and parameters: {'var_smoothing': 9.618874573267019e-05}. Best is trial 0 with value: 0.759375.\n",
      "[I 2024-02-24 02:28:58,437] Trial 23 finished with value: 0.75 and parameters: {'var_smoothing': 3.479381041350341e-06}. Best is trial 0 with value: 0.759375.\n",
      "[I 2024-02-24 02:28:58,488] Trial 24 finished with value: 0.75 and parameters: {'var_smoothing': 1.6379009160802332e-05}. Best is trial 0 with value: 0.759375.\n",
      "[I 2024-02-24 02:28:58,538] Trial 25 finished with value: 0.75 and parameters: {'var_smoothing': 4.1096153903892466e-05}. Best is trial 0 with value: 0.759375.\n",
      "[I 2024-02-24 02:28:58,591] Trial 26 finished with value: 0.75 and parameters: {'var_smoothing': 1.3659727369880453e-05}. Best is trial 0 with value: 0.759375.\n",
      "[I 2024-02-24 02:28:58,643] Trial 27 finished with value: 0.75 and parameters: {'var_smoothing': 6.971174823573967e-08}. Best is trial 0 with value: 0.759375.\n",
      "[I 2024-02-24 02:28:58,696] Trial 28 finished with value: 0.75 and parameters: {'var_smoothing': 3.9075125874357835e-06}. Best is trial 0 with value: 0.759375.\n",
      "[I 2024-02-24 02:28:58,748] Trial 29 finished with value: 0.75 and parameters: {'var_smoothing': 3.399572742273809e-05}. Best is trial 0 with value: 0.759375.\n",
      "[I 2024-02-24 02:28:58,799] Trial 30 finished with value: 0.75 and parameters: {'var_smoothing': 1.9298449276009323e-06}. Best is trial 0 with value: 0.759375.\n",
      "[I 2024-02-24 02:28:58,850] Trial 31 finished with value: 0.759375 and parameters: {'var_smoothing': 9.251399727482513e-05}. Best is trial 0 with value: 0.759375.\n",
      "[I 2024-02-24 02:28:58,901] Trial 32 finished with value: 0.759375 and parameters: {'var_smoothing': 8.14478661174716e-05}. Best is trial 0 with value: 0.759375.\n",
      "[I 2024-02-24 02:28:58,952] Trial 33 finished with value: 0.75 and parameters: {'var_smoothing': 3.37403204737963e-05}. Best is trial 0 with value: 0.759375.\n",
      "[I 2024-02-24 02:28:59,002] Trial 34 finished with value: 0.75 and parameters: {'var_smoothing': 1.0932377021202015e-06}. Best is trial 0 with value: 0.759375.\n",
      "[I 2024-02-24 02:28:59,054] Trial 35 finished with value: 0.759375 and parameters: {'var_smoothing': 9.68391499126954e-05}. Best is trial 0 with value: 0.759375.\n",
      "[I 2024-02-24 02:28:59,105] Trial 36 finished with value: 0.75 and parameters: {'var_smoothing': 2.0504309510452992e-05}. Best is trial 0 with value: 0.759375.\n",
      "[I 2024-02-24 02:28:59,157] Trial 37 finished with value: 0.75625 and parameters: {'var_smoothing': 5.313883141500998e-05}. Best is trial 0 with value: 0.759375.\n",
      "[I 2024-02-24 02:28:59,208] Trial 38 finished with value: 0.75 and parameters: {'var_smoothing': 6.860105913220253e-06}. Best is trial 0 with value: 0.759375.\n",
      "[I 2024-02-24 02:28:59,260] Trial 39 finished with value: 0.75 and parameters: {'var_smoothing': 6.438426498045384e-07}. Best is trial 0 with value: 0.759375.\n",
      "[I 2024-02-24 02:28:59,314] Trial 40 finished with value: 0.75 and parameters: {'var_smoothing': 2.7331398970060744e-05}. Best is trial 0 with value: 0.759375.\n",
      "[I 2024-02-24 02:28:59,363] Trial 41 finished with value: 0.759375 and parameters: {'var_smoothing': 9.981314121680999e-05}. Best is trial 0 with value: 0.759375.\n",
      "[I 2024-02-24 02:28:59,415] Trial 42 finished with value: 0.75625 and parameters: {'var_smoothing': 5.530081997266872e-05}. Best is trial 0 with value: 0.759375.\n",
      "[I 2024-02-24 02:28:59,470] Trial 43 finished with value: 0.75 and parameters: {'var_smoothing': 1.2163865968537653e-05}. Best is trial 0 with value: 0.759375.\n",
      "[I 2024-02-24 02:28:59,523] Trial 44 finished with value: 0.753125 and parameters: {'var_smoothing': 4.8031081793448264e-05}. Best is trial 0 with value: 0.759375.\n",
      "[I 2024-02-24 02:28:59,575] Trial 45 finished with value: 0.75 and parameters: {'var_smoothing': 2.526486338604221e-07}. Best is trial 0 with value: 0.759375.\n",
      "[I 2024-02-24 02:28:59,627] Trial 46 finished with value: 0.75 and parameters: {'var_smoothing': 2.1621777784819852e-05}. Best is trial 0 with value: 0.759375.\n",
      "[I 2024-02-24 02:28:59,677] Trial 47 finished with value: 0.75 and parameters: {'var_smoothing': 7.10665896692052e-09}. Best is trial 0 with value: 0.759375.\n",
      "[I 2024-02-24 02:28:59,728] Trial 48 finished with value: 0.75625 and parameters: {'var_smoothing': 6.11792127048234e-05}. Best is trial 0 with value: 0.759375.\n",
      "[I 2024-02-24 02:28:59,779] Trial 49 finished with value: 0.75 and parameters: {'var_smoothing': 8.629948876588164e-06}. Best is trial 0 with value: 0.759375.\n",
      "[I 2024-02-24 02:28:59,829] Trial 50 finished with value: 0.75 and parameters: {'var_smoothing': 2.622643306194244e-05}. Best is trial 0 with value: 0.759375.\n",
      "[I 2024-02-24 02:28:59,879] Trial 51 finished with value: 0.759375 and parameters: {'var_smoothing': 8.729343016472245e-05}. Best is trial 0 with value: 0.759375.\n",
      "[I 2024-02-24 02:28:59,930] Trial 52 finished with value: 0.759375 and parameters: {'var_smoothing': 9.794184089679945e-05}. Best is trial 0 with value: 0.759375.\n",
      "[I 2024-02-24 02:28:59,980] Trial 53 finished with value: 0.75625 and parameters: {'var_smoothing': 5.7163213592178884e-05}. Best is trial 0 with value: 0.759375.\n",
      "[I 2024-02-24 02:29:00,031] Trial 54 finished with value: 0.75 and parameters: {'var_smoothing': 4.213214331602833e-05}. Best is trial 0 with value: 0.759375.\n",
      "[I 2024-02-24 02:29:00,084] Trial 55 finished with value: 0.75625 and parameters: {'var_smoothing': 6.647151078222231e-05}. Best is trial 0 with value: 0.759375.\n",
      "[I 2024-02-24 02:29:00,135] Trial 56 finished with value: 0.75 and parameters: {'var_smoothing': 1.452250071658982e-05}. Best is trial 0 with value: 0.759375.\n",
      "[I 2024-02-24 02:29:00,186] Trial 57 finished with value: 0.75 and parameters: {'var_smoothing': 5.216533053321688e-06}. Best is trial 0 with value: 0.759375.\n",
      "[I 2024-02-24 02:29:00,236] Trial 58 finished with value: 0.75 and parameters: {'var_smoothing': 7.658044974717739e-08}. Best is trial 0 with value: 0.759375.\n",
      "[I 2024-02-24 02:29:00,286] Trial 59 finished with value: 0.75 and parameters: {'var_smoothing': 4.040855716244288e-05}. Best is trial 0 with value: 0.759375.\n",
      "[I 2024-02-24 02:29:00,340] Trial 60 finished with value: 0.75 and parameters: {'var_smoothing': 2.5406522954583717e-05}. Best is trial 0 with value: 0.759375.\n",
      "[I 2024-02-24 02:29:00,393] Trial 61 finished with value: 0.75625 and parameters: {'var_smoothing': 7.140057687269368e-05}. Best is trial 0 with value: 0.759375.\n",
      "[I 2024-02-24 02:29:00,448] Trial 62 finished with value: 0.75625 and parameters: {'var_smoothing': 7.062754671091775e-05}. Best is trial 0 with value: 0.759375.\n",
      "[I 2024-02-24 02:29:00,500] Trial 63 finished with value: 0.759375 and parameters: {'var_smoothing': 9.796311290379253e-05}. Best is trial 0 with value: 0.759375.\n",
      "[I 2024-02-24 02:29:00,555] Trial 64 finished with value: 0.75 and parameters: {'var_smoothing': 3.996318096629482e-05}. Best is trial 0 with value: 0.759375.\n",
      "[I 2024-02-24 02:29:00,607] Trial 65 finished with value: 0.75 and parameters: {'var_smoothing': 2.8864881555907845e-05}. Best is trial 0 with value: 0.759375.\n",
      "[I 2024-02-24 02:29:00,660] Trial 66 finished with value: 0.75625 and parameters: {'var_smoothing': 6.790934066112015e-05}. Best is trial 0 with value: 0.759375.\n",
      "[I 2024-02-24 02:29:00,711] Trial 67 finished with value: 0.75 and parameters: {'var_smoothing': 1.7390691907931568e-05}. Best is trial 0 with value: 0.759375.\n",
      "[I 2024-02-24 02:29:00,764] Trial 68 finished with value: 0.75 and parameters: {'var_smoothing': 1.1025651147295985e-05}. Best is trial 0 with value: 0.759375.\n",
      "[I 2024-02-24 02:29:00,817] Trial 69 finished with value: 0.75 and parameters: {'var_smoothing': 3.727496181834748e-05}. Best is trial 0 with value: 0.759375.\n",
      "[I 2024-02-24 02:29:00,869] Trial 70 finished with value: 0.75625 and parameters: {'var_smoothing': 5.095545926969029e-05}. Best is trial 0 with value: 0.759375.\n",
      "[I 2024-02-24 02:29:00,921] Trial 71 finished with value: 0.759375 and parameters: {'var_smoothing': 9.62335817537846e-05}. Best is trial 0 with value: 0.759375.\n",
      "[I 2024-02-24 02:29:00,975] Trial 72 finished with value: 0.75 and parameters: {'var_smoothing': 1.3703975211730992e-07}. Best is trial 0 with value: 0.759375.\n",
      "[I 2024-02-24 02:29:01,026] Trial 73 finished with value: 0.75625 and parameters: {'var_smoothing': 7.760747086029118e-05}. Best is trial 0 with value: 0.759375.\n",
      "[I 2024-02-24 02:29:01,079] Trial 74 finished with value: 0.753125 and parameters: {'var_smoothing': 4.979516623932514e-05}. Best is trial 0 with value: 0.759375.\n",
      "[I 2024-02-24 02:29:01,131] Trial 75 finished with value: 0.75 and parameters: {'var_smoothing': 2.204486703198052e-08}. Best is trial 0 with value: 0.759375.\n",
      "[I 2024-02-24 02:29:01,185] Trial 76 finished with value: 0.759375 and parameters: {'var_smoothing': 9.982585241187977e-05}. Best is trial 0 with value: 0.759375.\n",
      "[I 2024-02-24 02:29:01,239] Trial 77 finished with value: 0.75 and parameters: {'var_smoothing': 3.125401066770018e-05}. Best is trial 0 with value: 0.759375.\n",
      "[I 2024-02-24 02:29:01,290] Trial 78 finished with value: 0.75 and parameters: {'var_smoothing': 2.2914656858959983e-05}. Best is trial 0 with value: 0.759375.\n",
      "[I 2024-02-24 02:29:01,342] Trial 79 finished with value: 0.75625 and parameters: {'var_smoothing': 6.975250955496461e-05}. Best is trial 0 with value: 0.759375.\n",
      "[I 2024-02-24 02:29:01,392] Trial 80 finished with value: 0.75625 and parameters: {'var_smoothing': 5.43707452254781e-05}. Best is trial 0 with value: 0.759375.\n",
      "[I 2024-02-24 02:29:01,443] Trial 81 finished with value: 0.75625 and parameters: {'var_smoothing': 7.622126190481506e-05}. Best is trial 0 with value: 0.759375.\n",
      "[I 2024-02-24 02:29:01,494] Trial 82 finished with value: 0.759375 and parameters: {'var_smoothing': 9.857487296296446e-05}. Best is trial 0 with value: 0.759375.\n",
      "[I 2024-02-24 02:29:01,542] Trial 83 finished with value: 0.75 and parameters: {'var_smoothing': 4.206558724501953e-05}. Best is trial 0 with value: 0.759375.\n",
      "[I 2024-02-24 02:29:01,594] Trial 84 finished with value: 0.75625 and parameters: {'var_smoothing': 5.7776044110240204e-05}. Best is trial 0 with value: 0.759375.\n",
      "[I 2024-02-24 02:29:01,647] Trial 85 finished with value: 0.75 and parameters: {'var_smoothing': 3.385787532816466e-05}. Best is trial 0 with value: 0.759375.\n",
      "[I 2024-02-24 02:29:01,698] Trial 86 finished with value: 0.75625 and parameters: {'var_smoothing': 7.478498558964926e-05}. Best is trial 0 with value: 0.759375.\n",
      "[I 2024-02-24 02:29:01,749] Trial 87 finished with value: 0.75 and parameters: {'var_smoothing': 2.0205176881739518e-05}. Best is trial 0 with value: 0.759375.\n",
      "[I 2024-02-24 02:29:01,800] Trial 88 finished with value: 0.753125 and parameters: {'var_smoothing': 4.620463195392956e-05}. Best is trial 0 with value: 0.759375.\n",
      "[I 2024-02-24 02:29:01,852] Trial 89 finished with value: 0.75625 and parameters: {'var_smoothing': 8.036249576946805e-05}. Best is trial 0 with value: 0.759375.\n",
      "[I 2024-02-24 02:29:01,904] Trial 90 finished with value: 0.75 and parameters: {'var_smoothing': 3.1109302239507352e-09}. Best is trial 0 with value: 0.759375.\n",
      "[I 2024-02-24 02:29:01,955] Trial 91 finished with value: 0.759375 and parameters: {'var_smoothing': 9.692835144296631e-05}. Best is trial 0 with value: 0.759375.\n",
      "[I 2024-02-24 02:29:02,006] Trial 92 finished with value: 0.75625 and parameters: {'var_smoothing': 6.0177135623335916e-05}. Best is trial 0 with value: 0.759375.\n",
      "[I 2024-02-24 02:29:02,058] Trial 93 finished with value: 0.759375 and parameters: {'var_smoothing': 8.11375709955895e-05}. Best is trial 0 with value: 0.759375.\n",
      "[I 2024-02-24 02:29:02,109] Trial 94 finished with value: 0.75 and parameters: {'var_smoothing': 3.535602076536307e-05}. Best is trial 0 with value: 0.759375.\n",
      "[I 2024-02-24 02:29:02,162] Trial 95 finished with value: 0.753125 and parameters: {'var_smoothing': 4.769107402475809e-05}. Best is trial 0 with value: 0.759375.\n",
      "[I 2024-02-24 02:29:02,214] Trial 96 finished with value: 0.75 and parameters: {'var_smoothing': 2.7354473892446985e-05}. Best is trial 0 with value: 0.759375.\n",
      "[I 2024-02-24 02:29:02,267] Trial 97 finished with value: 0.759375 and parameters: {'var_smoothing': 8.167666904190943e-05}. Best is trial 0 with value: 0.759375.\n",
      "[I 2024-02-24 02:29:02,319] Trial 98 finished with value: 0.75625 and parameters: {'var_smoothing': 5.9864486951779296e-05}. Best is trial 0 with value: 0.759375.\n",
      "[I 2024-02-24 02:29:02,370] Trial 99 finished with value: 0.75 and parameters: {'var_smoothing': 1.570545215606051e-05}. Best is trial 0 with value: 0.759375.\n"
     ]
    },
    {
     "name": "stdout",
     "output_type": "stream",
     "text": [
      "Best params found : {'var_smoothing': 8.340002014131258e-05}\n",
      "accuracy: 0.9625\n",
      "recall: 0.9537037037037037\n",
      "precision: 0.9560185185185185\n",
      "f1-score: 0.9509139009139008\n"
     ]
    },
    {
     "name": "stderr",
     "output_type": "stream",
     "text": [
      "/opt/conda/lib/python3.10/site-packages/sklearn/metrics/_classification.py:1344: UndefinedMetricWarning: Precision is ill-defined and being set to 0.0 in labels with no predicted samples. Use `zero_division` parameter to control this behavior.\n",
      "  _warn_prf(average, modifier, msg_start, len(result))\n"
     ]
    }
   ],
   "source": [
    "study = optuna.create_study(direction = 'maximize')\n",
    "study.optimize(objective, n_trials = 100)\n",
    "best_params = study.best_params\n",
    "print(\"Best params found :\", best_params)\n",
    "\n",
    "final_model = GaussianNB(**best_params)\n",
    "final_model.fit(X_train_reduced, y_train)\n",
    "y_pred = final_model.predict(X_test_reduced)\n",
    "prediction_results['logistic regression'] = y_pred \n",
    "\n",
    "accuracy = accuracy_score(y_test, y_pred)\n",
    "precision = precision_score(y_test, y_pred, average='macro')\n",
    "recall = recall_score(y_test, y_pred, average='macro')\n",
    "f1 = f1_score(y_test, y_pred, average='macro')\n",
    "\n",
    "# # One-hot encoding for probability calculation (adapt if necessary)\n",
    "# y_test_onehot = pd.get_dummies(y_test, prefix='label_')  # Assuming 'label_' prefix for clarity\n",
    "# y_pred_onehot = pd.get_dummies(y_pred, prefix='label_')\n",
    "\n",
    "# # ROC AUC score with multiclass handling\n",
    "# roc_auc_macro = roc_auc_score(y_test_onehot, y_pred_onehot, average='macro', multi_class='ovo')  # Specify 'ovo' or 'ovr'\n",
    "\n",
    "print(\"accuracy:\", accuracy)\n",
    "print(\"recall:\", recall)\n",
    "print(\"precision:\", precision)\n",
    "print(\"f1-score:\", f1)\n",
    "# print('roc_auc: ', roc_auc_macro)"
   ]
  },
  {
   "cell_type": "markdown",
   "id": "cdff7e4a",
   "metadata": {
    "papermill": {
     "duration": 0.037942,
     "end_time": "2024-02-24T02:29:02.473921",
     "exception": false,
     "start_time": "2024-02-24T02:29:02.435979",
     "status": "completed"
    },
    "tags": []
   },
   "source": [
    "****"
   ]
  },
  {
   "cell_type": "markdown",
   "id": "f9ed05b1",
   "metadata": {
    "papermill": {
     "duration": 0.037808,
     "end_time": "2024-02-24T02:29:02.549958",
     "exception": false,
     "start_time": "2024-02-24T02:29:02.512150",
     "status": "completed"
    },
    "tags": []
   },
   "source": [
    "# Logistic Regression"
   ]
  },
  {
   "cell_type": "markdown",
   "id": "5136d3be",
   "metadata": {
    "papermill": {
     "duration": 0.041946,
     "end_time": "2024-02-24T02:29:02.631468",
     "exception": false,
     "start_time": "2024-02-24T02:29:02.589522",
     "status": "completed"
    },
    "tags": []
   },
   "source": [
    "**Normal**"
   ]
  },
  {
   "cell_type": "code",
   "execution_count": 21,
   "id": "ea9fdcd9",
   "metadata": {
    "execution": {
     "iopub.execute_input": "2024-02-24T02:29:02.710564Z",
     "iopub.status.busy": "2024-02-24T02:29:02.710091Z",
     "iopub.status.idle": "2024-02-24T02:29:02.951684Z",
     "shell.execute_reply": "2024-02-24T02:29:02.950217Z"
    },
    "papermill": {
     "duration": 0.288836,
     "end_time": "2024-02-24T02:29:02.959030",
     "exception": false,
     "start_time": "2024-02-24T02:29:02.670194",
     "status": "completed"
    },
    "tags": []
   },
   "outputs": [
    {
     "name": "stdout",
     "output_type": "stream",
     "text": [
      "accuracy: 1.0\n",
      "recall: 1.0\n",
      "precision: 1.0\n",
      "f1-score: 1.0\n"
     ]
    },
    {
     "name": "stderr",
     "output_type": "stream",
     "text": [
      "/opt/conda/lib/python3.10/site-packages/sklearn/linear_model/_logistic.py:458: ConvergenceWarning: lbfgs failed to converge (status=1):\n",
      "STOP: TOTAL NO. of ITERATIONS REACHED LIMIT.\n",
      "\n",
      "Increase the number of iterations (max_iter) or scale the data as shown in:\n",
      "    https://scikit-learn.org/stable/modules/preprocessing.html\n",
      "Please also refer to the documentation for alternative solver options:\n",
      "    https://scikit-learn.org/stable/modules/linear_model.html#logistic-regression\n",
      "  n_iter_i = _check_optimize_result(\n"
     ]
    }
   ],
   "source": [
    "lr = LogisticRegression()\n",
    "lr.fit(X_train_reduced, y_train)\n",
    "y_pred = lr.predict(X_test_reduced)\n",
    "\n",
    "accuracy = accuracy_score(y_test, y_pred)\n",
    "precision = precision_score(y_test, y_pred, average='macro')\n",
    "recall = recall_score(y_test, y_pred, average='macro')\n",
    "f1 = f1_score(y_test, y_pred, average='macro')\n",
    "\n",
    "# # One-hot encoding for probability calculation (adapt if necessary)\n",
    "# y_test_onehot = pd.get_dummies(y_test, prefix='label_')  # Assuming 'label_' prefix for clarity\n",
    "# y_pred_onehot = pd.get_dummies(y_pred, prefix='label_')\n",
    "\n",
    "# # ROC AUC score with multiclass handling\n",
    "# roc_auc_macro = roc_auc_score(y_test_onehot, y_pred_onehot, average='macro', multi_class='ovo')  # Specify 'ovo' or 'ovr'\n",
    "\n",
    "print(\"accuracy:\", accuracy)\n",
    "print(\"recall:\", recall)\n",
    "print(\"precision:\", precision)\n",
    "print(\"f1-score:\", f1)\n",
    "# print('roc_auc: ', roc_auc_macro)"
   ]
  },
  {
   "cell_type": "markdown",
   "id": "e75924fe",
   "metadata": {
    "papermill": {
     "duration": 0.043342,
     "end_time": "2024-02-24T02:29:03.084472",
     "exception": false,
     "start_time": "2024-02-24T02:29:03.041130",
     "status": "completed"
    },
    "tags": []
   },
   "source": [
    "**Tunning**"
   ]
  },
  {
   "cell_type": "code",
   "execution_count": 22,
   "id": "f61ce1c5",
   "metadata": {
    "execution": {
     "iopub.execute_input": "2024-02-24T02:29:03.162969Z",
     "iopub.status.busy": "2024-02-24T02:29:03.162451Z",
     "iopub.status.idle": "2024-02-24T02:29:03.171285Z",
     "shell.execute_reply": "2024-02-24T02:29:03.170059Z"
    },
    "papermill": {
     "duration": 0.051611,
     "end_time": "2024-02-24T02:29:03.173998",
     "exception": false,
     "start_time": "2024-02-24T02:29:03.122387",
     "status": "completed"
    },
    "tags": []
   },
   "outputs": [],
   "source": [
    "import optuna\n",
    "from sklearn.model_selection import cross_val_score\n",
    "import warnings\n",
    "warnings.filterwarnings('ignore')\n",
    "\n",
    "\n",
    "def objective(trial):\n",
    "    hyperparams = {\n",
    "        'solver': trial.suggest_categorical('solver', ['lbfgs', 'liblinear', 'newton-cg', 'saga']),\n",
    "        'penalty': trial.suggest_categorical('penalty', ['l2']),\n",
    "        'multi_class': trial.suggest_categorical('multi_class', ['ovr']),\n",
    "        'C': trial.suggest_loguniform(\"C\", 1e-3, 1e3),\n",
    "        'n_jobs': -1\n",
    "    }\n",
    "\n",
    "    model = LogisticRegression(**hyperparams)\n",
    "    scores = cross_val_score(model, X_train_reduced,\n",
    "                             y_train, cv=kf, scoring='accuracy')\n",
    "    return np.mean(scores)"
   ]
  },
  {
   "cell_type": "code",
   "execution_count": 23,
   "id": "e9346996",
   "metadata": {
    "execution": {
     "iopub.execute_input": "2024-02-24T02:29:03.254274Z",
     "iopub.status.busy": "2024-02-24T02:29:03.253121Z",
     "iopub.status.idle": "2024-02-24T02:37:08.879609Z",
     "shell.execute_reply": "2024-02-24T02:37:08.877361Z"
    },
    "papermill": {
     "duration": 485.724361,
     "end_time": "2024-02-24T02:37:08.937072",
     "exception": false,
     "start_time": "2024-02-24T02:29:03.212711",
     "status": "completed"
    },
    "tags": []
   },
   "outputs": [
    {
     "name": "stderr",
     "output_type": "stream",
     "text": [
      "[I 2024-02-24 02:29:03,261] A new study created in memory with name: no-name-e492ee58-daa2-46e5-b50a-33a9639828f7\n",
      "[I 2024-02-24 02:29:04,511] Trial 0 finished with value: 0.803125 and parameters: {'solver': 'saga', 'penalty': 'l2', 'multi_class': 'ovr', 'C': 0.3250841390095455}. Best is trial 0 with value: 0.803125.\n",
      "/opt/conda/lib/python3.10/site-packages/sklearn/linear_model/_logistic.py:458: ConvergenceWarning: lbfgs failed to converge (status=1):\n",
      "STOP: TOTAL NO. of ITERATIONS REACHED LIMIT.\n",
      "\n",
      "Increase the number of iterations (max_iter) or scale the data as shown in:\n",
      "    https://scikit-learn.org/stable/modules/preprocessing.html\n",
      "Please also refer to the documentation for alternative solver options:\n",
      "    https://scikit-learn.org/stable/modules/linear_model.html#logistic-regression\n",
      "  n_iter_i = _check_optimize_result(\n",
      "[I 2024-02-24 02:29:07,634] Trial 1 finished with value: 0.828125 and parameters: {'solver': 'lbfgs', 'penalty': 'l2', 'multi_class': 'ovr', 'C': 771.9846592047384}. Best is trial 1 with value: 0.828125.\n",
      "/opt/conda/lib/python3.10/site-packages/sklearn/utils/optimize.py:210: ConvergenceWarning: newton-cg failed to converge. Increase the number of iterations.\n",
      "  warnings.warn(\n",
      "/opt/conda/lib/python3.10/site-packages/sklearn/utils/optimize.py:210: ConvergenceWarning: newton-cg failed to converge. Increase the number of iterations.\n",
      "  warnings.warn(\n",
      "/opt/conda/lib/python3.10/site-packages/sklearn/utils/optimize.py:210: ConvergenceWarning: newton-cg failed to converge. Increase the number of iterations.\n",
      "  warnings.warn(\n",
      "[I 2024-02-24 02:29:21,207] Trial 2 finished with value: 0.953125 and parameters: {'solver': 'newton-cg', 'penalty': 'l2', 'multi_class': 'ovr', 'C': 0.0137955239811257}. Best is trial 2 with value: 0.953125.\n",
      "/opt/conda/lib/python3.10/site-packages/sklearn/linear_model/_logistic.py:458: ConvergenceWarning: lbfgs failed to converge (status=1):\n",
      "STOP: TOTAL NO. of ITERATIONS REACHED LIMIT.\n",
      "\n",
      "Increase the number of iterations (max_iter) or scale the data as shown in:\n",
      "    https://scikit-learn.org/stable/modules/preprocessing.html\n",
      "Please also refer to the documentation for alternative solver options:\n",
      "    https://scikit-learn.org/stable/modules/linear_model.html#logistic-regression\n",
      "  n_iter_i = _check_optimize_result(\n",
      "/opt/conda/lib/python3.10/site-packages/sklearn/linear_model/_logistic.py:458: ConvergenceWarning: lbfgs failed to converge (status=1):\n",
      "STOP: TOTAL NO. of ITERATIONS REACHED LIMIT.\n",
      "\n",
      "Increase the number of iterations (max_iter) or scale the data as shown in:\n",
      "    https://scikit-learn.org/stable/modules/preprocessing.html\n",
      "Please also refer to the documentation for alternative solver options:\n",
      "    https://scikit-learn.org/stable/modules/linear_model.html#logistic-regression\n",
      "  n_iter_i = _check_optimize_result(\n",
      "/opt/conda/lib/python3.10/site-packages/sklearn/linear_model/_logistic.py:458: ConvergenceWarning: lbfgs failed to converge (status=1):\n",
      "STOP: TOTAL NO. of ITERATIONS REACHED LIMIT.\n",
      "\n",
      "Increase the number of iterations (max_iter) or scale the data as shown in:\n",
      "    https://scikit-learn.org/stable/modules/preprocessing.html\n",
      "Please also refer to the documentation for alternative solver options:\n",
      "    https://scikit-learn.org/stable/modules/linear_model.html#logistic-regression\n",
      "  n_iter_i = _check_optimize_result(\n",
      "[I 2024-02-24 02:29:23,106] Trial 3 finished with value: 0.953125 and parameters: {'solver': 'lbfgs', 'penalty': 'l2', 'multi_class': 'ovr', 'C': 0.672793110196992}. Best is trial 2 with value: 0.953125.\n",
      "[I 2024-02-24 02:29:24,398] Trial 4 finished with value: 0.803125 and parameters: {'solver': 'saga', 'penalty': 'l2', 'multi_class': 'ovr', 'C': 4.438792245405027}. Best is trial 2 with value: 0.953125.\n",
      "[I 2024-02-24 02:29:42,098] Trial 5 finished with value: 0.909375 and parameters: {'solver': 'liblinear', 'penalty': 'l2', 'multi_class': 'ovr', 'C': 10.348579656281096}. Best is trial 2 with value: 0.953125.\n",
      "[I 2024-02-24 02:29:55,620] Trial 6 finished with value: 0.95625 and parameters: {'solver': 'newton-cg', 'penalty': 'l2', 'multi_class': 'ovr', 'C': 0.028641812717653464}. Best is trial 6 with value: 0.95625.\n",
      "[I 2024-02-24 02:29:56,929] Trial 7 finished with value: 0.803125 and parameters: {'solver': 'saga', 'penalty': 'l2', 'multi_class': 'ovr', 'C': 570.0275428801424}. Best is trial 6 with value: 0.95625.\n",
      "[I 2024-02-24 02:29:58,609] Trial 8 finished with value: 0.953125 and parameters: {'solver': 'lbfgs', 'penalty': 'l2', 'multi_class': 'ovr', 'C': 0.0015632897982355042}. Best is trial 6 with value: 0.95625.\n",
      "[I 2024-02-24 02:30:07,789] Trial 9 finished with value: 0.89375 and parameters: {'solver': 'newton-cg', 'penalty': 'l2', 'multi_class': 'ovr', 'C': 460.65284867454517}. Best is trial 6 with value: 0.95625.\n",
      "/opt/conda/lib/python3.10/site-packages/sklearn/utils/optimize.py:210: ConvergenceWarning: newton-cg failed to converge. Increase the number of iterations.\n",
      "  warnings.warn(\n",
      "[I 2024-02-24 02:30:20,715] Trial 10 finished with value: 0.953125 and parameters: {'solver': 'newton-cg', 'penalty': 'l2', 'multi_class': 'ovr', 'C': 0.024986723450286043}. Best is trial 6 with value: 0.95625.\n",
      "[I 2024-02-24 02:30:34,384] Trial 11 finished with value: 0.953125 and parameters: {'solver': 'newton-cg', 'penalty': 'l2', 'multi_class': 'ovr', 'C': 0.013218467160931766}. Best is trial 6 with value: 0.95625.\n",
      "[I 2024-02-24 02:30:47,109] Trial 12 finished with value: 0.953125 and parameters: {'solver': 'newton-cg', 'penalty': 'l2', 'multi_class': 'ovr', 'C': 0.038364654967953}. Best is trial 6 with value: 0.95625.\n",
      "[I 2024-02-24 02:31:00,803] Trial 13 finished with value: 0.953125 and parameters: {'solver': 'newton-cg', 'penalty': 'l2', 'multi_class': 'ovr', 'C': 0.0011788660698289874}. Best is trial 6 with value: 0.95625.\n",
      "[I 2024-02-24 02:31:15,206] Trial 14 finished with value: 0.896875 and parameters: {'solver': 'liblinear', 'penalty': 'l2', 'multi_class': 'ovr', 'C': 0.109903371570141}. Best is trial 6 with value: 0.95625.\n",
      "[I 2024-02-24 02:31:28,668] Trial 15 finished with value: 0.953125 and parameters: {'solver': 'newton-cg', 'penalty': 'l2', 'multi_class': 'ovr', 'C': 0.0057491211154253735}. Best is trial 6 with value: 0.95625.\n",
      "[I 2024-02-24 02:31:41,007] Trial 16 finished with value: 0.953125 and parameters: {'solver': 'newton-cg', 'penalty': 'l2', 'multi_class': 'ovr', 'C': 0.10021426624629705}. Best is trial 6 with value: 0.95625.\n",
      "[I 2024-02-24 02:31:51,227] Trial 17 finished with value: 0.94375 and parameters: {'solver': 'newton-cg', 'penalty': 'l2', 'multi_class': 'ovr', 'C': 4.221759914302954}. Best is trial 6 with value: 0.95625.\n",
      "[I 2024-02-24 02:32:01,706] Trial 18 finished with value: 0.825 and parameters: {'solver': 'liblinear', 'penalty': 'l2', 'multi_class': 'ovr', 'C': 0.0071639000072291565}. Best is trial 6 with value: 0.95625.\n",
      "[I 2024-02-24 02:32:11,918] Trial 19 finished with value: 0.93125 and parameters: {'solver': 'newton-cg', 'penalty': 'l2', 'multi_class': 'ovr', 'C': 36.45245959003492}. Best is trial 6 with value: 0.95625.\n",
      "[I 2024-02-24 02:32:23,423] Trial 20 finished with value: 0.95 and parameters: {'solver': 'newton-cg', 'penalty': 'l2', 'multi_class': 'ovr', 'C': 0.16857542376374843}. Best is trial 6 with value: 0.95625.\n",
      "[I 2024-02-24 02:32:25,096] Trial 21 finished with value: 0.953125 and parameters: {'solver': 'lbfgs', 'penalty': 'l2', 'multi_class': 'ovr', 'C': 0.9838234117225534}. Best is trial 6 with value: 0.95625.\n",
      "[I 2024-02-24 02:32:26,826] Trial 22 finished with value: 0.953125 and parameters: {'solver': 'lbfgs', 'penalty': 'l2', 'multi_class': 'ovr', 'C': 0.6321682681050924}. Best is trial 6 with value: 0.95625.\n",
      "[I 2024-02-24 02:32:28,515] Trial 23 finished with value: 0.95625 and parameters: {'solver': 'lbfgs', 'penalty': 'l2', 'multi_class': 'ovr', 'C': 0.04850885489951056}. Best is trial 6 with value: 0.95625.\n",
      "[I 2024-02-24 02:32:30,224] Trial 24 finished with value: 0.953125 and parameters: {'solver': 'lbfgs', 'penalty': 'l2', 'multi_class': 'ovr', 'C': 0.002891790142735469}. Best is trial 6 with value: 0.95625.\n",
      "[I 2024-02-24 02:32:31,922] Trial 25 finished with value: 0.95625 and parameters: {'solver': 'lbfgs', 'penalty': 'l2', 'multi_class': 'ovr', 'C': 0.04333015362752561}. Best is trial 6 with value: 0.95625.\n",
      "[I 2024-02-24 02:32:33,610] Trial 26 finished with value: 0.95625 and parameters: {'solver': 'lbfgs', 'penalty': 'l2', 'multi_class': 'ovr', 'C': 0.05364762214636961}. Best is trial 6 with value: 0.95625.\n",
      "[I 2024-02-24 02:32:35,360] Trial 27 finished with value: 0.95625 and parameters: {'solver': 'lbfgs', 'penalty': 'l2', 'multi_class': 'ovr', 'C': 0.19231822561441575}. Best is trial 6 with value: 0.95625.\n",
      "[I 2024-02-24 02:32:37,557] Trial 28 finished with value: 0.95625 and parameters: {'solver': 'lbfgs', 'penalty': 'l2', 'multi_class': 'ovr', 'C': 0.036786432930241274}. Best is trial 6 with value: 0.95625.\n",
      "[I 2024-02-24 02:32:38,908] Trial 29 finished with value: 0.803125 and parameters: {'solver': 'saga', 'penalty': 'l2', 'multi_class': 'ovr', 'C': 0.34035947632320457}. Best is trial 6 with value: 0.95625.\n",
      "[I 2024-02-24 02:32:40,611] Trial 30 finished with value: 0.953125 and parameters: {'solver': 'lbfgs', 'penalty': 'l2', 'multi_class': 'ovr', 'C': 0.0038238625836953095}. Best is trial 6 with value: 0.95625.\n",
      "[I 2024-02-24 02:32:42,328] Trial 31 finished with value: 0.95625 and parameters: {'solver': 'lbfgs', 'penalty': 'l2', 'multi_class': 'ovr', 'C': 0.06743711236545036}. Best is trial 6 with value: 0.95625.\n",
      "[I 2024-02-24 02:32:44,036] Trial 32 finished with value: 0.95625 and parameters: {'solver': 'lbfgs', 'penalty': 'l2', 'multi_class': 'ovr', 'C': 0.014143391367023212}. Best is trial 6 with value: 0.95625.\n",
      "[I 2024-02-24 02:32:45,810] Trial 33 finished with value: 0.953125 and parameters: {'solver': 'lbfgs', 'penalty': 'l2', 'multi_class': 'ovr', 'C': 0.07561784256708122}. Best is trial 6 with value: 0.95625.\n",
      "[I 2024-02-24 02:32:47,505] Trial 34 finished with value: 0.953125 and parameters: {'solver': 'lbfgs', 'penalty': 'l2', 'multi_class': 'ovr', 'C': 0.3467353826026849}. Best is trial 6 with value: 0.95625.\n",
      "[I 2024-02-24 02:32:49,213] Trial 35 finished with value: 0.953125 and parameters: {'solver': 'lbfgs', 'penalty': 'l2', 'multi_class': 'ovr', 'C': 0.017623519044863683}. Best is trial 6 with value: 0.95625.\n",
      "[I 2024-02-24 02:32:50,504] Trial 36 finished with value: 0.803125 and parameters: {'solver': 'saga', 'penalty': 'l2', 'multi_class': 'ovr', 'C': 0.04129578935696228}. Best is trial 6 with value: 0.95625.\n",
      "[I 2024-02-24 02:33:07,386] Trial 37 finished with value: 0.915625 and parameters: {'solver': 'liblinear', 'penalty': 'l2', 'multi_class': 'ovr', 'C': 2.747745894243932}. Best is trial 6 with value: 0.95625.\n",
      "[I 2024-02-24 02:33:09,516] Trial 38 finished with value: 0.953125 and parameters: {'solver': 'lbfgs', 'penalty': 'l2', 'multi_class': 'ovr', 'C': 0.01059094200304073}. Best is trial 6 with value: 0.95625.\n",
      "[I 2024-02-24 02:33:11,248] Trial 39 finished with value: 0.95 and parameters: {'solver': 'lbfgs', 'penalty': 'l2', 'multi_class': 'ovr', 'C': 2.182076761049988}. Best is trial 6 with value: 0.95625.\n",
      "[I 2024-02-24 02:33:12,601] Trial 40 finished with value: 0.803125 and parameters: {'solver': 'saga', 'penalty': 'l2', 'multi_class': 'ovr', 'C': 0.002396683120600628}. Best is trial 6 with value: 0.95625.\n",
      "[I 2024-02-24 02:33:14,324] Trial 41 finished with value: 0.95625 and parameters: {'solver': 'lbfgs', 'penalty': 'l2', 'multi_class': 'ovr', 'C': 0.18704276301098968}. Best is trial 6 with value: 0.95625.\n",
      "[I 2024-02-24 02:33:16,102] Trial 42 finished with value: 0.95625 and parameters: {'solver': 'lbfgs', 'penalty': 'l2', 'multi_class': 'ovr', 'C': 0.17925309111625068}. Best is trial 6 with value: 0.95625.\n",
      "[I 2024-02-24 02:33:17,800] Trial 43 finished with value: 0.95625 and parameters: {'solver': 'lbfgs', 'penalty': 'l2', 'multi_class': 'ovr', 'C': 0.02282106233492184}. Best is trial 6 with value: 0.95625.\n",
      "[I 2024-02-24 02:33:19,513] Trial 44 finished with value: 0.953125 and parameters: {'solver': 'lbfgs', 'penalty': 'l2', 'multi_class': 'ovr', 'C': 0.04908411854935802}. Best is trial 6 with value: 0.95625.\n",
      "[I 2024-02-24 02:33:21,210] Trial 45 finished with value: 0.953125 and parameters: {'solver': 'lbfgs', 'penalty': 'l2', 'multi_class': 'ovr', 'C': 0.5619925647101427}. Best is trial 6 with value: 0.95625.\n",
      "[I 2024-02-24 02:33:35,957] Trial 46 finished with value: 0.9125 and parameters: {'solver': 'liblinear', 'penalty': 'l2', 'multi_class': 'ovr', 'C': 0.14577594385123321}. Best is trial 6 with value: 0.95625.\n",
      "[I 2024-02-24 02:33:37,662] Trial 47 finished with value: 0.953125 and parameters: {'solver': 'lbfgs', 'penalty': 'l2', 'multi_class': 'ovr', 'C': 0.28294509789472727}. Best is trial 6 with value: 0.95625.\n",
      "[I 2024-02-24 02:33:38,965] Trial 48 finished with value: 0.803125 and parameters: {'solver': 'saga', 'penalty': 'l2', 'multi_class': 'ovr', 'C': 0.035141673562731165}. Best is trial 6 with value: 0.95625.\n",
      "[I 2024-02-24 02:33:40,867] Trial 49 finished with value: 0.95 and parameters: {'solver': 'lbfgs', 'penalty': 'l2', 'multi_class': 'ovr', 'C': 11.718781906459006}. Best is trial 6 with value: 0.95625.\n",
      "[I 2024-02-24 02:33:54,493] Trial 50 finished with value: 0.953125 and parameters: {'solver': 'newton-cg', 'penalty': 'l2', 'multi_class': 'ovr', 'C': 0.007614100806018581}. Best is trial 6 with value: 0.95625.\n",
      "[I 2024-02-24 02:33:56,263] Trial 51 finished with value: 0.95625 and parameters: {'solver': 'lbfgs', 'penalty': 'l2', 'multi_class': 'ovr', 'C': 0.06994633765440193}. Best is trial 6 with value: 0.95625.\n",
      "[I 2024-02-24 02:33:57,969] Trial 52 finished with value: 0.953125 and parameters: {'solver': 'lbfgs', 'penalty': 'l2', 'multi_class': 'ovr', 'C': 0.029439470609406663}. Best is trial 6 with value: 0.95625.\n",
      "[I 2024-02-24 02:33:59,666] Trial 53 finished with value: 0.953125 and parameters: {'solver': 'lbfgs', 'penalty': 'l2', 'multi_class': 'ovr', 'C': 0.09477074229055986}. Best is trial 6 with value: 0.95625.\n",
      "[I 2024-02-24 02:34:01,351] Trial 54 finished with value: 0.95625 and parameters: {'solver': 'lbfgs', 'penalty': 'l2', 'multi_class': 'ovr', 'C': 0.020254573698374627}. Best is trial 6 with value: 0.95625.\n",
      "[I 2024-02-24 02:34:14,411] Trial 55 finished with value: 0.953125 and parameters: {'solver': 'newton-cg', 'penalty': 'l2', 'multi_class': 'ovr', 'C': 0.04869037708968547}. Best is trial 6 with value: 0.95625.\n",
      "[I 2024-02-24 02:34:25,262] Trial 56 finished with value: 0.83125 and parameters: {'solver': 'liblinear', 'penalty': 'l2', 'multi_class': 'ovr', 'C': 0.008990225643839262}. Best is trial 6 with value: 0.95625.\n",
      "[I 2024-02-24 02:34:27,014] Trial 57 finished with value: 0.95625 and parameters: {'solver': 'lbfgs', 'penalty': 'l2', 'multi_class': 'ovr', 'C': 0.10079994537885677}. Best is trial 6 with value: 0.95625.\n",
      "[I 2024-02-24 02:34:40,419] Trial 58 finished with value: 0.953125 and parameters: {'solver': 'newton-cg', 'penalty': 'l2', 'multi_class': 'ovr', 'C': 0.004734256224437466}. Best is trial 6 with value: 0.95625.\n",
      "[I 2024-02-24 02:34:42,130] Trial 59 finished with value: 0.953125 and parameters: {'solver': 'lbfgs', 'penalty': 'l2', 'multi_class': 'ovr', 'C': 0.23667564791982332}. Best is trial 6 with value: 0.95625.\n",
      "[I 2024-02-24 02:34:43,896] Trial 60 finished with value: 0.95625 and parameters: {'solver': 'lbfgs', 'penalty': 'l2', 'multi_class': 'ovr', 'C': 0.46024498761209015}. Best is trial 6 with value: 0.95625.\n",
      "[I 2024-02-24 02:34:45,915] Trial 61 finished with value: 0.95625 and parameters: {'solver': 'lbfgs', 'penalty': 'l2', 'multi_class': 'ovr', 'C': 0.05361157919496901}. Best is trial 6 with value: 0.95625.\n",
      "[I 2024-02-24 02:34:47,832] Trial 62 finished with value: 0.953125 and parameters: {'solver': 'lbfgs', 'penalty': 'l2', 'multi_class': 'ovr', 'C': 1.1019619711196151}. Best is trial 6 with value: 0.95625.\n",
      "[I 2024-02-24 02:34:49,535] Trial 63 finished with value: 0.95625 and parameters: {'solver': 'lbfgs', 'penalty': 'l2', 'multi_class': 'ovr', 'C': 0.028782204182678132}. Best is trial 6 with value: 0.95625.\n",
      "[I 2024-02-24 02:34:51,236] Trial 64 finished with value: 0.95625 and parameters: {'solver': 'lbfgs', 'penalty': 'l2', 'multi_class': 'ovr', 'C': 0.06521510748785692}. Best is trial 6 with value: 0.95625.\n",
      "[I 2024-02-24 02:35:04,279] Trial 65 finished with value: 0.95625 and parameters: {'solver': 'newton-cg', 'penalty': 'l2', 'multi_class': 'ovr', 'C': 0.016159400807190454}. Best is trial 6 with value: 0.95625.\n",
      "[I 2024-02-24 02:35:05,950] Trial 66 finished with value: 0.9375 and parameters: {'solver': 'lbfgs', 'penalty': 'l2', 'multi_class': 'ovr', 'C': 137.03744436223172}. Best is trial 6 with value: 0.95625.\n",
      "[I 2024-02-24 02:35:07,632] Trial 67 finished with value: 0.95625 and parameters: {'solver': 'lbfgs', 'penalty': 'l2', 'multi_class': 'ovr', 'C': 0.11504258889667117}. Best is trial 6 with value: 0.95625.\n",
      "[I 2024-02-24 02:35:08,958] Trial 68 finished with value: 0.803125 and parameters: {'solver': 'saga', 'penalty': 'l2', 'multi_class': 'ovr', 'C': 0.012369359313426496}. Best is trial 6 with value: 0.95625.\n",
      "[I 2024-02-24 02:35:22,027] Trial 69 finished with value: 0.88125 and parameters: {'solver': 'liblinear', 'penalty': 'l2', 'multi_class': 'ovr', 'C': 0.032250422108429114}. Best is trial 6 with value: 0.95625.\n",
      "[I 2024-02-24 02:35:33,544] Trial 70 finished with value: 0.95 and parameters: {'solver': 'newton-cg', 'penalty': 'l2', 'multi_class': 'ovr', 'C': 0.13768480884882933}. Best is trial 6 with value: 0.95625.\n",
      "[I 2024-02-24 02:35:35,241] Trial 71 finished with value: 0.953125 and parameters: {'solver': 'lbfgs', 'penalty': 'l2', 'multi_class': 'ovr', 'C': 0.017088167704946585}. Best is trial 6 with value: 0.95625.\n",
      "[I 2024-02-24 02:35:37,008] Trial 72 finished with value: 0.95625 and parameters: {'solver': 'lbfgs', 'penalty': 'l2', 'multi_class': 'ovr', 'C': 0.07309538282700545}. Best is trial 6 with value: 0.95625.\n",
      "[I 2024-02-24 02:35:38,698] Trial 73 finished with value: 0.953125 and parameters: {'solver': 'lbfgs', 'penalty': 'l2', 'multi_class': 'ovr', 'C': 0.012630801268747171}. Best is trial 6 with value: 0.95625.\n",
      "[I 2024-02-24 02:35:40,390] Trial 74 finished with value: 0.953125 and parameters: {'solver': 'lbfgs', 'penalty': 'l2', 'multi_class': 'ovr', 'C': 0.02319042792407945}. Best is trial 6 with value: 0.95625.\n",
      "[I 2024-02-24 02:35:42,105] Trial 75 finished with value: 0.95625 and parameters: {'solver': 'lbfgs', 'penalty': 'l2', 'multi_class': 'ovr', 'C': 0.038838338714415645}. Best is trial 6 with value: 0.95625.\n",
      "[I 2024-02-24 02:35:43,781] Trial 76 finished with value: 0.953125 and parameters: {'solver': 'lbfgs', 'penalty': 'l2', 'multi_class': 'ovr', 'C': 0.005849584580164277}. Best is trial 6 with value: 0.95625.\n",
      "[I 2024-02-24 02:35:45,547] Trial 77 finished with value: 0.95625 and parameters: {'solver': 'lbfgs', 'penalty': 'l2', 'multi_class': 'ovr', 'C': 0.20109076609769863}. Best is trial 6 with value: 0.95625.\n",
      "[I 2024-02-24 02:35:47,248] Trial 78 finished with value: 0.953125 and parameters: {'solver': 'lbfgs', 'penalty': 'l2', 'multi_class': 'ovr', 'C': 0.003658161685897009}. Best is trial 6 with value: 0.95625.\n",
      "[I 2024-02-24 02:35:48,541] Trial 79 finished with value: 0.803125 and parameters: {'solver': 'saga', 'penalty': 'l2', 'multi_class': 'ovr', 'C': 0.053576930839288404}. Best is trial 6 with value: 0.95625.\n",
      "[I 2024-02-24 02:35:59,707] Trial 80 finished with value: 0.953125 and parameters: {'solver': 'newton-cg', 'penalty': 'l2', 'multi_class': 'ovr', 'C': 1.0389015700287152}. Best is trial 6 with value: 0.95625.\n",
      "[I 2024-02-24 02:36:01,423] Trial 81 finished with value: 0.95625 and parameters: {'solver': 'lbfgs', 'penalty': 'l2', 'multi_class': 'ovr', 'C': 0.08846763694324615}. Best is trial 6 with value: 0.95625.\n",
      "[I 2024-02-24 02:36:03,130] Trial 82 finished with value: 0.953125 and parameters: {'solver': 'lbfgs', 'penalty': 'l2', 'multi_class': 'ovr', 'C': 0.3518035415468253}. Best is trial 6 with value: 0.95625.\n",
      "[I 2024-02-24 02:36:04,830] Trial 83 finished with value: 0.95625 and parameters: {'solver': 'lbfgs', 'penalty': 'l2', 'multi_class': 'ovr', 'C': 0.1560429473907527}. Best is trial 6 with value: 0.95625.\n",
      "[I 2024-02-24 02:36:06,593] Trial 84 finished with value: 0.95625 and parameters: {'solver': 'lbfgs', 'penalty': 'l2', 'multi_class': 'ovr', 'C': 0.022334860352225334}. Best is trial 6 with value: 0.95625.\n",
      "[I 2024-02-24 02:36:08,354] Trial 85 finished with value: 0.95625 and parameters: {'solver': 'lbfgs', 'penalty': 'l2', 'multi_class': 'ovr', 'C': 0.03927144503559341}. Best is trial 6 with value: 0.95625.\n",
      "[I 2024-02-24 02:36:10,058] Trial 86 finished with value: 0.95625 and parameters: {'solver': 'lbfgs', 'penalty': 'l2', 'multi_class': 'ovr', 'C': 0.21799043673637974}. Best is trial 6 with value: 0.95625.\n",
      "[I 2024-02-24 02:36:21,137] Trial 87 finished with value: 0.834375 and parameters: {'solver': 'liblinear', 'penalty': 'l2', 'multi_class': 'ovr', 'C': 0.00967370025488095}. Best is trial 6 with value: 0.95625.\n",
      "[I 2024-02-24 02:36:23,261] Trial 88 finished with value: 0.95625 and parameters: {'solver': 'lbfgs', 'penalty': 'l2', 'multi_class': 'ovr', 'C': 0.06507045105979382}. Best is trial 6 with value: 0.95625.\n",
      "[I 2024-02-24 02:36:25,040] Trial 89 finished with value: 0.95625 and parameters: {'solver': 'lbfgs', 'penalty': 'l2', 'multi_class': 'ovr', 'C': 0.13189349698011402}. Best is trial 6 with value: 0.95625.\n",
      "[I 2024-02-24 02:36:38,486] Trial 90 finished with value: 0.953125 and parameters: {'solver': 'newton-cg', 'penalty': 'l2', 'multi_class': 'ovr', 'C': 0.0019368673111678978}. Best is trial 6 with value: 0.95625.\n",
      "[I 2024-02-24 02:36:40,220] Trial 91 finished with value: 0.953125 and parameters: {'solver': 'lbfgs', 'penalty': 'l2', 'multi_class': 'ovr', 'C': 0.285892812443553}. Best is trial 6 with value: 0.95625.\n",
      "[I 2024-02-24 02:36:41,914] Trial 92 finished with value: 0.953125 and parameters: {'solver': 'lbfgs', 'penalty': 'l2', 'multi_class': 'ovr', 'C': 0.4955133839342832}. Best is trial 6 with value: 0.95625.\n",
      "[I 2024-02-24 02:36:43,606] Trial 93 finished with value: 0.95625 and parameters: {'solver': 'lbfgs', 'penalty': 'l2', 'multi_class': 'ovr', 'C': 0.028016213274363218}. Best is trial 6 with value: 0.95625.\n",
      "[I 2024-02-24 02:36:45,303] Trial 94 finished with value: 0.953125 and parameters: {'solver': 'lbfgs', 'penalty': 'l2', 'multi_class': 'ovr', 'C': 0.7750958388660957}. Best is trial 6 with value: 0.95625.\n",
      "[I 2024-02-24 02:36:47,065] Trial 95 finished with value: 0.953125 and parameters: {'solver': 'lbfgs', 'penalty': 'l2', 'multi_class': 'ovr', 'C': 0.09178653980361243}. Best is trial 6 with value: 0.95625.\n",
      "[I 2024-02-24 02:36:48,754] Trial 96 finished with value: 0.95625 and parameters: {'solver': 'lbfgs', 'penalty': 'l2', 'multi_class': 'ovr', 'C': 0.16107279804412733}. Best is trial 6 with value: 0.95625.\n",
      "[I 2024-02-24 02:36:50,463] Trial 97 finished with value: 0.95625 and parameters: {'solver': 'lbfgs', 'penalty': 'l2', 'multi_class': 'ovr', 'C': 0.053726256947749164}. Best is trial 6 with value: 0.95625.\n",
      "[I 2024-02-24 02:36:52,157] Trial 98 finished with value: 0.953125 and parameters: {'solver': 'lbfgs', 'penalty': 'l2', 'multi_class': 'ovr', 'C': 0.018442326223419205}. Best is trial 6 with value: 0.95625.\n",
      "[I 2024-02-24 02:36:53,418] Trial 99 finished with value: 0.803125 and parameters: {'solver': 'saga', 'penalty': 'l2', 'multi_class': 'ovr', 'C': 1.9032200070890093}. Best is trial 6 with value: 0.95625.\n"
     ]
    },
    {
     "name": "stdout",
     "output_type": "stream",
     "text": [
      "Best params found : {'solver': 'newton-cg', 'penalty': 'l2', 'multi_class': 'ovr', 'C': 0.028641812717653464}\n",
      "accuracy: 1.0\n",
      "recall: 1.0\n",
      "precision: 1.0\n",
      "f1-score: 1.0\n",
      "roc_auc:  1.0\n"
     ]
    }
   ],
   "source": [
    "study = optuna.create_study(direction = 'maximize')\n",
    "study.optimize(objective, n_trials = 100)\n",
    "best_params = study.best_params\n",
    "print(\"Best params found :\", best_params)\n",
    "\n",
    "final_model = LogisticRegression(**best_params)\n",
    "final_model.fit(X_train_reduced, y_train)\n",
    "y_pred = final_model.predict(X_test_reduced)\n",
    "prediction_results['logistic regression'] = y_pred \n",
    "\n",
    "accuracy = accuracy_score(y_test, y_pred)\n",
    "precision = precision_score(y_test, y_pred, average='macro')\n",
    "recall = recall_score(y_test, y_pred, average='macro')\n",
    "f1 = f1_score(y_test, y_pred, average='macro')\n",
    "\n",
    "# One-hot encoding for probability calculation (adapt if necessary)\n",
    "y_test_onehot = pd.get_dummies(y_test, prefix='label_')  # Assuming 'label_' prefix for clarity\n",
    "y_pred_onehot = pd.get_dummies(y_pred, prefix='label_')\n",
    "\n",
    "# ROC AUC score with multiclass handling\n",
    "roc_auc_macro = roc_auc_score(y_test_onehot, y_pred_onehot, average='macro', multi_class='ovo')  # Specify 'ovo' or 'ovr'\n",
    "\n",
    "print(\"accuracy:\", accuracy)\n",
    "print(\"recall:\", recall)\n",
    "print(\"precision:\", precision)\n",
    "print(\"f1-score:\", f1)\n",
    "print('roc_auc: ', roc_auc_macro)"
   ]
  },
  {
   "cell_type": "code",
   "execution_count": 24,
   "id": "10f48a5b",
   "metadata": {
    "execution": {
     "iopub.execute_input": "2024-02-24T02:37:09.038084Z",
     "iopub.status.busy": "2024-02-24T02:37:09.037649Z",
     "iopub.status.idle": "2024-02-24T02:37:09.043581Z",
     "shell.execute_reply": "2024-02-24T02:37:09.042259Z"
    },
    "papermill": {
     "duration": 0.05917,
     "end_time": "2024-02-24T02:37:09.046395",
     "exception": false,
     "start_time": "2024-02-24T02:37:08.987225",
     "status": "completed"
    },
    "tags": []
   },
   "outputs": [],
   "source": [
    "# lr = LogisticRegression(multi_class='ovr', solver='liblinear')\n",
    "# lr.fit(X_train_reduced, y_train)\n",
    "# y_pred = lr.predict(X_test_reduced)"
   ]
  },
  {
   "cell_type": "markdown",
   "id": "4faeb60e",
   "metadata": {
    "papermill": {
     "duration": 0.049,
     "end_time": "2024-02-24T02:37:09.147950",
     "exception": false,
     "start_time": "2024-02-24T02:37:09.098950",
     "status": "completed"
    },
    "tags": []
   },
   "source": [
    "# KNN Classifier"
   ]
  },
  {
   "cell_type": "markdown",
   "id": "7d1525c1",
   "metadata": {
    "papermill": {
     "duration": 0.048482,
     "end_time": "2024-02-24T02:37:09.246370",
     "exception": false,
     "start_time": "2024-02-24T02:37:09.197888",
     "status": "completed"
    },
    "tags": []
   },
   "source": [
    "**Normal**"
   ]
  },
  {
   "cell_type": "code",
   "execution_count": 25,
   "id": "45891887",
   "metadata": {
    "execution": {
     "iopub.execute_input": "2024-02-24T02:37:09.348408Z",
     "iopub.status.busy": "2024-02-24T02:37:09.347644Z",
     "iopub.status.idle": "2024-02-24T02:37:09.551420Z",
     "shell.execute_reply": "2024-02-24T02:37:09.549482Z"
    },
    "papermill": {
     "duration": 0.257296,
     "end_time": "2024-02-24T02:37:09.554232",
     "exception": false,
     "start_time": "2024-02-24T02:37:09.296936",
     "status": "completed"
    },
    "tags": []
   },
   "outputs": [
    {
     "name": "stdout",
     "output_type": "stream",
     "text": [
      "accuracy: 0.9125\n",
      "recall: 0.9375\n",
      "precision: 0.9143518518518517\n",
      "f1-score: 0.9068783068783068\n",
      "roc_auc:  0.5771545864579081\n"
     ]
    }
   ],
   "source": [
    "from sklearn.neighbors import KNeighborsClassifier\n",
    "\n",
    "knn = KNeighborsClassifier()\n",
    "knn.fit(X_train_reduced, y_train)\n",
    "y_pred = knn.predict(X_test_reduced)\n",
    "\n",
    "accuracy = accuracy_score(y_test, y_pred)\n",
    "precision = precision_score(y_test, y_pred, average='macro')\n",
    "recall = recall_score(y_test, y_pred, average='macro')\n",
    "f1 = f1_score(y_test, y_pred, average='macro')\n",
    "\n",
    "# One-hot encoding for probability calculation (adapt if necessary)\n",
    "y_test_onehot = pd.get_dummies(y_test, prefix='label_')  # Assuming 'label_' prefix for clarity\n",
    "y_pred_onehot = pd.get_dummies(y_pred, prefix='label_')\n",
    "\n",
    "# ROC AUC score with multiclass handling\n",
    "roc_auc_macro = roc_auc_score(y_test_onehot, y_pred_onehot, average='macro', multi_class='ovo')  # Specify 'ovo' or 'ovr'\n",
    "\n",
    "print(\"accuracy:\", accuracy)\n",
    "print(\"recall:\", recall)\n",
    "print(\"precision:\", precision)\n",
    "print(\"f1-score:\", f1)\n",
    "print('roc_auc: ', roc_auc_macro)\n"
   ]
  },
  {
   "cell_type": "markdown",
   "id": "bfe331e5",
   "metadata": {
    "papermill": {
     "duration": 0.04842,
     "end_time": "2024-02-24T02:37:09.652267",
     "exception": false,
     "start_time": "2024-02-24T02:37:09.603847",
     "status": "completed"
    },
    "tags": []
   },
   "source": [
    "**Tunning**"
   ]
  },
  {
   "cell_type": "code",
   "execution_count": 26,
   "id": "2c0f5652",
   "metadata": {
    "execution": {
     "iopub.execute_input": "2024-02-24T02:37:09.753404Z",
     "iopub.status.busy": "2024-02-24T02:37:09.752960Z",
     "iopub.status.idle": "2024-02-24T02:37:09.762273Z",
     "shell.execute_reply": "2024-02-24T02:37:09.760868Z"
    },
    "papermill": {
     "duration": 0.063052,
     "end_time": "2024-02-24T02:37:09.765138",
     "exception": false,
     "start_time": "2024-02-24T02:37:09.702086",
     "status": "completed"
    },
    "tags": []
   },
   "outputs": [],
   "source": [
    "import optuna\n",
    "from sklearn.model_selection import cross_val_score\n",
    "import warnings\n",
    "warnings.filterwarnings('ignore')\n",
    "\n",
    "def objective(trial):\n",
    "    hyperparams = {\n",
    "        'n_neighbors': trial.suggest_int(\"n_neighbors\", 5, 100),\n",
    "        'weights' : trial.suggest_categorical(\"weights\", [\"uniform\", \"distance\"]),\n",
    "        'metric' : trial.suggest_categorical(\"metric\", [\"euclidean\", \"manhattan\", \"minkowski\"]),\n",
    "        'algorithm':trial.suggest_categorical('algorithm',['auto', 'ball_tree', 'kd_tree', 'brute']),\n",
    "        'n_jobs': -1\n",
    "    }\n",
    "    \n",
    "    # Create KNN model with tuned hyperparameters\n",
    "    model = KNeighborsClassifier(**hyperparams)\n",
    "    scores = cross_val_score(model, X_train_reduced, y_train, cv = kf,scoring = 'accuracy')\n",
    "    return np.mean(scores)"
   ]
  },
  {
   "cell_type": "code",
   "execution_count": 27,
   "id": "2f1a138b",
   "metadata": {
    "execution": {
     "iopub.execute_input": "2024-02-24T02:37:09.864741Z",
     "iopub.status.busy": "2024-02-24T02:37:09.863484Z",
     "iopub.status.idle": "2024-02-24T02:37:16.410835Z",
     "shell.execute_reply": "2024-02-24T02:37:16.409156Z"
    },
    "papermill": {
     "duration": 6.600097,
     "end_time": "2024-02-24T02:37:16.413747",
     "exception": false,
     "start_time": "2024-02-24T02:37:09.813650",
     "status": "completed"
    },
    "tags": []
   },
   "outputs": [
    {
     "name": "stderr",
     "output_type": "stream",
     "text": [
      "[I 2024-02-24 02:37:09,871] A new study created in memory with name: no-name-854f7fbb-5298-4797-9d4c-1b36b3fa19ac\n",
      "[I 2024-02-24 02:37:09,909] Trial 0 finished with value: 0.809375 and parameters: {'n_neighbors': 7, 'weights': 'distance', 'metric': 'manhattan', 'algorithm': 'brute'}. Best is trial 0 with value: 0.809375.\n",
      "[I 2024-02-24 02:37:09,964] Trial 1 finished with value: 0.19375 and parameters: {'n_neighbors': 54, 'weights': 'uniform', 'metric': 'manhattan', 'algorithm': 'brute'}. Best is trial 0 with value: 0.809375.\n",
      "[I 2024-02-24 02:37:10,085] Trial 2 finished with value: 0.065625 and parameters: {'n_neighbors': 92, 'weights': 'uniform', 'metric': 'minkowski', 'algorithm': 'ball_tree'}. Best is trial 0 with value: 0.809375.\n",
      "[I 2024-02-24 02:37:10,150] Trial 3 finished with value: 0.609375 and parameters: {'n_neighbors': 64, 'weights': 'distance', 'metric': 'euclidean', 'algorithm': 'auto'}. Best is trial 0 with value: 0.809375.\n",
      "[I 2024-02-24 02:37:10,207] Trial 4 finished with value: 0.271875 and parameters: {'n_neighbors': 41, 'weights': 'uniform', 'metric': 'manhattan', 'algorithm': 'auto'}. Best is trial 0 with value: 0.809375.\n",
      "[I 2024-02-24 02:37:10,460] Trial 5 finished with value: 0.58125 and parameters: {'n_neighbors': 83, 'weights': 'distance', 'metric': 'minkowski', 'algorithm': 'kd_tree'}. Best is trial 0 with value: 0.809375.\n",
      "[I 2024-02-24 02:37:10,513] Trial 6 finished with value: 0.23125 and parameters: {'n_neighbors': 40, 'weights': 'uniform', 'metric': 'minkowski', 'algorithm': 'auto'}. Best is trial 0 with value: 0.809375.\n",
      "[I 2024-02-24 02:37:10,621] Trial 7 finished with value: 0.528125 and parameters: {'n_neighbors': 98, 'weights': 'distance', 'metric': 'manhattan', 'algorithm': 'kd_tree'}. Best is trial 0 with value: 0.809375.\n",
      "[I 2024-02-24 02:37:10,719] Trial 8 finished with value: 0.721875 and parameters: {'n_neighbors': 16, 'weights': 'distance', 'metric': 'euclidean', 'algorithm': 'ball_tree'}. Best is trial 0 with value: 0.809375.\n",
      "[I 2024-02-24 02:37:10,775] Trial 9 finished with value: 0.053125 and parameters: {'n_neighbors': 96, 'weights': 'uniform', 'metric': 'minkowski', 'algorithm': 'brute'}. Best is trial 0 with value: 0.809375.\n",
      "[I 2024-02-24 02:37:10,822] Trial 10 finished with value: 0.83125 and parameters: {'n_neighbors': 6, 'weights': 'distance', 'metric': 'manhattan', 'algorithm': 'brute'}. Best is trial 10 with value: 0.83125.\n",
      "[I 2024-02-24 02:37:10,869] Trial 11 finished with value: 0.853125 and parameters: {'n_neighbors': 5, 'weights': 'distance', 'metric': 'manhattan', 'algorithm': 'brute'}. Best is trial 11 with value: 0.853125.\n",
      "[I 2024-02-24 02:37:10,919] Trial 12 finished with value: 0.684375 and parameters: {'n_neighbors': 22, 'weights': 'distance', 'metric': 'manhattan', 'algorithm': 'brute'}. Best is trial 11 with value: 0.853125.\n",
      "[I 2024-02-24 02:37:10,966] Trial 13 finished with value: 0.853125 and parameters: {'n_neighbors': 5, 'weights': 'distance', 'metric': 'manhattan', 'algorithm': 'brute'}. Best is trial 11 with value: 0.853125.\n",
      "[I 2024-02-24 02:37:11,019] Trial 14 finished with value: 0.659375 and parameters: {'n_neighbors': 27, 'weights': 'distance', 'metric': 'manhattan', 'algorithm': 'brute'}. Best is trial 11 with value: 0.853125.\n",
      "[I 2024-02-24 02:37:11,073] Trial 15 finished with value: 0.65 and parameters: {'n_neighbors': 31, 'weights': 'distance', 'metric': 'manhattan', 'algorithm': 'brute'}. Best is trial 11 with value: 0.853125.\n",
      "[I 2024-02-24 02:37:11,126] Trial 16 finished with value: 0.753125 and parameters: {'n_neighbors': 14, 'weights': 'distance', 'metric': 'euclidean', 'algorithm': 'brute'}. Best is trial 11 with value: 0.853125.\n",
      "[I 2024-02-24 02:37:11,244] Trial 17 finished with value: 0.584375 and parameters: {'n_neighbors': 64, 'weights': 'distance', 'metric': 'manhattan', 'algorithm': 'ball_tree'}. Best is trial 11 with value: 0.853125.\n",
      "[I 2024-02-24 02:37:11,360] Trial 18 finished with value: 0.65 and parameters: {'n_neighbors': 34, 'weights': 'distance', 'metric': 'manhattan', 'algorithm': 'kd_tree'}. Best is trial 11 with value: 0.853125.\n",
      "[I 2024-02-24 02:37:11,405] Trial 19 finished with value: 0.715625 and parameters: {'n_neighbors': 17, 'weights': 'distance', 'metric': 'euclidean', 'algorithm': 'brute'}. Best is trial 11 with value: 0.853125.\n",
      "[I 2024-02-24 02:37:11,453] Trial 20 finished with value: 0.83125 and parameters: {'n_neighbors': 6, 'weights': 'distance', 'metric': 'manhattan', 'algorithm': 'brute'}. Best is trial 11 with value: 0.853125.\n",
      "[I 2024-02-24 02:37:11,505] Trial 21 finished with value: 0.79375 and parameters: {'n_neighbors': 9, 'weights': 'distance', 'metric': 'manhattan', 'algorithm': 'brute'}. Best is trial 11 with value: 0.853125.\n",
      "[I 2024-02-24 02:37:11,555] Trial 22 finished with value: 0.853125 and parameters: {'n_neighbors': 5, 'weights': 'distance', 'metric': 'manhattan', 'algorithm': 'brute'}. Best is trial 11 with value: 0.853125.\n",
      "[I 2024-02-24 02:37:11,607] Trial 23 finished with value: 0.671875 and parameters: {'n_neighbors': 23, 'weights': 'distance', 'metric': 'manhattan', 'algorithm': 'brute'}. Best is trial 11 with value: 0.853125.\n",
      "[I 2024-02-24 02:37:11,658] Trial 24 finished with value: 0.7125 and parameters: {'n_neighbors': 16, 'weights': 'distance', 'metric': 'manhattan', 'algorithm': 'brute'}. Best is trial 11 with value: 0.853125.\n",
      "[I 2024-02-24 02:37:11,714] Trial 25 finished with value: 0.609375 and parameters: {'n_neighbors': 46, 'weights': 'distance', 'metric': 'manhattan', 'algorithm': 'brute'}. Best is trial 11 with value: 0.853125.\n",
      "[I 2024-02-24 02:37:11,844] Trial 26 finished with value: 0.465625 and parameters: {'n_neighbors': 24, 'weights': 'uniform', 'metric': 'manhattan', 'algorithm': 'ball_tree'}. Best is trial 11 with value: 0.853125.\n",
      "[I 2024-02-24 02:37:11,964] Trial 27 finished with value: 0.75 and parameters: {'n_neighbors': 12, 'weights': 'distance', 'metric': 'manhattan', 'algorithm': 'kd_tree'}. Best is trial 11 with value: 0.853125.\n",
      "[I 2024-02-24 02:37:12,018] Trial 28 finished with value: 0.590625 and parameters: {'n_neighbors': 74, 'weights': 'distance', 'metric': 'minkowski', 'algorithm': 'auto'}. Best is trial 11 with value: 0.853125.\n",
      "[I 2024-02-24 02:37:12,063] Trial 29 finished with value: 0.8125 and parameters: {'n_neighbors': 7, 'weights': 'distance', 'metric': 'euclidean', 'algorithm': 'brute'}. Best is trial 11 with value: 0.853125.\n",
      "[I 2024-02-24 02:37:12,121] Trial 30 finished with value: 0.65 and parameters: {'n_neighbors': 34, 'weights': 'distance', 'metric': 'manhattan', 'algorithm': 'brute'}. Best is trial 11 with value: 0.853125.\n",
      "[I 2024-02-24 02:37:12,172] Trial 31 finished with value: 0.853125 and parameters: {'n_neighbors': 5, 'weights': 'distance', 'metric': 'manhattan', 'algorithm': 'brute'}. Best is trial 11 with value: 0.853125.\n",
      "[I 2024-02-24 02:37:12,221] Trial 32 finished with value: 0.853125 and parameters: {'n_neighbors': 5, 'weights': 'distance', 'metric': 'manhattan', 'algorithm': 'brute'}. Best is trial 11 with value: 0.853125.\n",
      "[I 2024-02-24 02:37:12,275] Trial 33 finished with value: 0.7 and parameters: {'n_neighbors': 19, 'weights': 'distance', 'metric': 'manhattan', 'algorithm': 'brute'}. Best is trial 11 with value: 0.853125.\n",
      "[I 2024-02-24 02:37:12,347] Trial 34 finished with value: 0.646875 and parameters: {'n_neighbors': 12, 'weights': 'uniform', 'metric': 'manhattan', 'algorithm': 'brute'}. Best is trial 11 with value: 0.853125.\n",
      "[I 2024-02-24 02:37:12,407] Trial 35 finished with value: 0.5875 and parameters: {'n_neighbors': 56, 'weights': 'distance', 'metric': 'manhattan', 'algorithm': 'brute'}. Best is trial 11 with value: 0.853125.\n",
      "[I 2024-02-24 02:37:12,477] Trial 36 finished with value: 0.646875 and parameters: {'n_neighbors': 12, 'weights': 'uniform', 'metric': 'manhattan', 'algorithm': 'auto'}. Best is trial 11 with value: 0.853125.\n",
      "[I 2024-02-24 02:37:12,595] Trial 37 finished with value: 0.65 and parameters: {'n_neighbors': 28, 'weights': 'distance', 'metric': 'minkowski', 'algorithm': 'ball_tree'}. Best is trial 11 with value: 0.853125.\n",
      "[I 2024-02-24 02:37:12,647] Trial 38 finished with value: 0.69375 and parameters: {'n_neighbors': 20, 'weights': 'distance', 'metric': 'manhattan', 'algorithm': 'brute'}. Best is trial 11 with value: 0.853125.\n",
      "[I 2024-02-24 02:37:12,794] Trial 39 finished with value: 0.6375 and parameters: {'n_neighbors': 10, 'weights': 'uniform', 'metric': 'euclidean', 'algorithm': 'kd_tree'}. Best is trial 11 with value: 0.853125.\n",
      "[I 2024-02-24 02:37:12,838] Trial 40 finished with value: 0.859375 and parameters: {'n_neighbors': 5, 'weights': 'distance', 'metric': 'minkowski', 'algorithm': 'auto'}. Best is trial 40 with value: 0.859375.\n",
      "[I 2024-02-24 02:37:12,886] Trial 41 finished with value: 0.859375 and parameters: {'n_neighbors': 5, 'weights': 'distance', 'metric': 'minkowski', 'algorithm': 'auto'}. Best is trial 40 with value: 0.859375.\n",
      "[I 2024-02-24 02:37:12,936] Trial 42 finished with value: 0.775 and parameters: {'n_neighbors': 11, 'weights': 'distance', 'metric': 'minkowski', 'algorithm': 'auto'}. Best is trial 40 with value: 0.859375.\n",
      "[I 2024-02-24 02:37:12,984] Trial 43 finished with value: 0.715625 and parameters: {'n_neighbors': 17, 'weights': 'distance', 'metric': 'minkowski', 'algorithm': 'auto'}. Best is trial 40 with value: 0.859375.\n",
      "[I 2024-02-24 02:37:13,038] Trial 44 finished with value: 0.571875 and parameters: {'n_neighbors': 88, 'weights': 'distance', 'metric': 'minkowski', 'algorithm': 'auto'}. Best is trial 40 with value: 0.859375.\n",
      "[I 2024-02-24 02:37:13,081] Trial 45 finished with value: 0.859375 and parameters: {'n_neighbors': 5, 'weights': 'distance', 'metric': 'minkowski', 'algorithm': 'auto'}. Best is trial 40 with value: 0.859375.\n",
      "[I 2024-02-24 02:37:13,129] Trial 46 finished with value: 0.725 and parameters: {'n_neighbors': 15, 'weights': 'distance', 'metric': 'minkowski', 'algorithm': 'auto'}. Best is trial 40 with value: 0.859375.\n",
      "[I 2024-02-24 02:37:13,191] Trial 47 finished with value: 0.653125 and parameters: {'n_neighbors': 9, 'weights': 'uniform', 'metric': 'minkowski', 'algorithm': 'auto'}. Best is trial 40 with value: 0.859375.\n",
      "[I 2024-02-24 02:37:13,239] Trial 48 finished with value: 0.6375 and parameters: {'n_neighbors': 41, 'weights': 'distance', 'metric': 'minkowski', 'algorithm': 'auto'}. Best is trial 40 with value: 0.859375.\n",
      "[I 2024-02-24 02:37:13,288] Trial 49 finished with value: 0.65625 and parameters: {'n_neighbors': 25, 'weights': 'distance', 'metric': 'minkowski', 'algorithm': 'auto'}. Best is trial 40 with value: 0.859375.\n",
      "[I 2024-02-24 02:37:13,333] Trial 50 finished with value: 0.684375 and parameters: {'n_neighbors': 20, 'weights': 'distance', 'metric': 'minkowski', 'algorithm': 'auto'}. Best is trial 40 with value: 0.859375.\n",
      "[I 2024-02-24 02:37:13,378] Trial 51 finished with value: 0.809375 and parameters: {'n_neighbors': 8, 'weights': 'distance', 'metric': 'minkowski', 'algorithm': 'auto'}. Best is trial 40 with value: 0.859375.\n",
      "[I 2024-02-24 02:37:13,425] Trial 52 finished with value: 0.7625 and parameters: {'n_neighbors': 13, 'weights': 'distance', 'metric': 'minkowski', 'algorithm': 'auto'}. Best is trial 40 with value: 0.859375.\n",
      "[I 2024-02-24 02:37:13,469] Trial 53 finished with value: 0.83125 and parameters: {'n_neighbors': 6, 'weights': 'distance', 'metric': 'minkowski', 'algorithm': 'auto'}. Best is trial 40 with value: 0.859375.\n",
      "[I 2024-02-24 02:37:13,513] Trial 54 finished with value: 0.859375 and parameters: {'n_neighbors': 5, 'weights': 'distance', 'metric': 'minkowski', 'algorithm': 'auto'}. Best is trial 40 with value: 0.859375.\n",
      "[I 2024-02-24 02:37:13,558] Trial 55 finished with value: 0.796875 and parameters: {'n_neighbors': 9, 'weights': 'distance', 'metric': 'minkowski', 'algorithm': 'auto'}. Best is trial 40 with value: 0.859375.\n",
      "[I 2024-02-24 02:37:13,605] Trial 56 finished with value: 0.725 and parameters: {'n_neighbors': 15, 'weights': 'distance', 'metric': 'minkowski', 'algorithm': 'auto'}. Best is trial 40 with value: 0.859375.\n",
      "[I 2024-02-24 02:37:13,660] Trial 57 finished with value: 0.584375 and parameters: {'n_neighbors': 78, 'weights': 'distance', 'metric': 'minkowski', 'algorithm': 'auto'}. Best is trial 40 with value: 0.859375.\n",
      "[I 2024-02-24 02:37:13,777] Trial 58 finished with value: 0.709375 and parameters: {'n_neighbors': 18, 'weights': 'distance', 'metric': 'minkowski', 'algorithm': 'ball_tree'}. Best is trial 40 with value: 0.859375.\n",
      "[I 2024-02-24 02:37:13,897] Trial 59 finished with value: 0.65 and parameters: {'n_neighbors': 29, 'weights': 'distance', 'metric': 'euclidean', 'algorithm': 'kd_tree'}. Best is trial 40 with value: 0.859375.\n",
      "[I 2024-02-24 02:37:13,960] Trial 60 finished with value: 0.653125 and parameters: {'n_neighbors': 9, 'weights': 'uniform', 'metric': 'minkowski', 'algorithm': 'auto'}. Best is trial 40 with value: 0.859375.\n",
      "[I 2024-02-24 02:37:14,006] Trial 61 finished with value: 0.859375 and parameters: {'n_neighbors': 5, 'weights': 'distance', 'metric': 'minkowski', 'algorithm': 'auto'}. Best is trial 40 with value: 0.859375.\n",
      "[I 2024-02-24 02:37:14,051] Trial 62 finished with value: 0.859375 and parameters: {'n_neighbors': 5, 'weights': 'distance', 'metric': 'minkowski', 'algorithm': 'auto'}. Best is trial 40 with value: 0.859375.\n",
      "[I 2024-02-24 02:37:14,108] Trial 63 finished with value: 0.7625 and parameters: {'n_neighbors': 13, 'weights': 'distance', 'metric': 'minkowski', 'algorithm': 'auto'}. Best is trial 40 with value: 0.859375.\n",
      "[I 2024-02-24 02:37:14,158] Trial 64 finished with value: 0.859375 and parameters: {'n_neighbors': 5, 'weights': 'distance', 'metric': 'minkowski', 'algorithm': 'auto'}. Best is trial 40 with value: 0.859375.\n",
      "[I 2024-02-24 02:37:14,209] Trial 65 finished with value: 0.809375 and parameters: {'n_neighbors': 8, 'weights': 'distance', 'metric': 'minkowski', 'algorithm': 'auto'}. Best is trial 40 with value: 0.859375.\n",
      "[I 2024-02-24 02:37:14,257] Trial 66 finished with value: 0.859375 and parameters: {'n_neighbors': 5, 'weights': 'distance', 'metric': 'minkowski', 'algorithm': 'auto'}. Best is trial 40 with value: 0.859375.\n",
      "[I 2024-02-24 02:37:14,313] Trial 67 finished with value: 0.66875 and parameters: {'n_neighbors': 22, 'weights': 'distance', 'metric': 'minkowski', 'algorithm': 'auto'}. Best is trial 40 with value: 0.859375.\n",
      "[I 2024-02-24 02:37:14,366] Trial 68 finished with value: 0.725 and parameters: {'n_neighbors': 15, 'weights': 'distance', 'metric': 'minkowski', 'algorithm': 'auto'}. Best is trial 40 with value: 0.859375.\n",
      "[I 2024-02-24 02:37:14,419] Trial 69 finished with value: 0.775 and parameters: {'n_neighbors': 11, 'weights': 'distance', 'metric': 'minkowski', 'algorithm': 'auto'}. Best is trial 40 with value: 0.859375.\n",
      "[I 2024-02-24 02:37:14,478] Trial 70 finished with value: 0.609375 and parameters: {'n_neighbors': 64, 'weights': 'distance', 'metric': 'minkowski', 'algorithm': 'auto'}. Best is trial 40 with value: 0.859375.\n",
      "[I 2024-02-24 02:37:14,528] Trial 71 finished with value: 0.8125 and parameters: {'n_neighbors': 7, 'weights': 'distance', 'metric': 'minkowski', 'algorithm': 'auto'}. Best is trial 40 with value: 0.859375.\n",
      "[I 2024-02-24 02:37:14,579] Trial 72 finished with value: 0.859375 and parameters: {'n_neighbors': 5, 'weights': 'distance', 'metric': 'minkowski', 'algorithm': 'auto'}. Best is trial 40 with value: 0.859375.\n",
      "[I 2024-02-24 02:37:14,628] Trial 73 finished with value: 0.859375 and parameters: {'n_neighbors': 5, 'weights': 'distance', 'metric': 'minkowski', 'algorithm': 'auto'}. Best is trial 40 with value: 0.859375.\n",
      "[I 2024-02-24 02:37:14,679] Trial 74 finished with value: 0.778125 and parameters: {'n_neighbors': 10, 'weights': 'distance', 'metric': 'minkowski', 'algorithm': 'auto'}. Best is trial 40 with value: 0.859375.\n",
      "[I 2024-02-24 02:37:14,732] Trial 75 finished with value: 0.7625 and parameters: {'n_neighbors': 13, 'weights': 'distance', 'metric': 'minkowski', 'algorithm': 'auto'}. Best is trial 40 with value: 0.859375.\n",
      "[I 2024-02-24 02:37:14,782] Trial 76 finished with value: 0.8125 and parameters: {'n_neighbors': 7, 'weights': 'distance', 'metric': 'minkowski', 'algorithm': 'auto'}. Best is trial 40 with value: 0.859375.\n",
      "[I 2024-02-24 02:37:14,840] Trial 77 finished with value: 0.625 and parameters: {'n_neighbors': 49, 'weights': 'distance', 'metric': 'minkowski', 'algorithm': 'auto'}. Best is trial 40 with value: 0.859375.\n",
      "[I 2024-02-24 02:37:14,910] Trial 78 finished with value: 0.54375 and parameters: {'n_neighbors': 17, 'weights': 'uniform', 'metric': 'minkowski', 'algorithm': 'auto'}. Best is trial 40 with value: 0.859375.\n",
      "[I 2024-02-24 02:37:15,029] Trial 79 finished with value: 0.775 and parameters: {'n_neighbors': 11, 'weights': 'distance', 'metric': 'euclidean', 'algorithm': 'ball_tree'}. Best is trial 40 with value: 0.859375.\n",
      "[I 2024-02-24 02:37:15,153] Trial 80 finished with value: 0.859375 and parameters: {'n_neighbors': 5, 'weights': 'distance', 'metric': 'minkowski', 'algorithm': 'kd_tree'}. Best is trial 40 with value: 0.859375.\n",
      "[I 2024-02-24 02:37:15,211] Trial 81 finished with value: 0.809375 and parameters: {'n_neighbors': 8, 'weights': 'distance', 'metric': 'minkowski', 'algorithm': 'auto'}. Best is trial 40 with value: 0.859375.\n",
      "[I 2024-02-24 02:37:15,258] Trial 82 finished with value: 0.859375 and parameters: {'n_neighbors': 5, 'weights': 'distance', 'metric': 'minkowski', 'algorithm': 'auto'}. Best is trial 40 with value: 0.859375.\n",
      "[I 2024-02-24 02:37:15,317] Trial 83 finished with value: 0.778125 and parameters: {'n_neighbors': 10, 'weights': 'distance', 'metric': 'minkowski', 'algorithm': 'auto'}. Best is trial 40 with value: 0.859375.\n",
      "[I 2024-02-24 02:37:15,365] Trial 84 finished with value: 0.7625 and parameters: {'n_neighbors': 13, 'weights': 'distance', 'metric': 'minkowski', 'algorithm': 'auto'}. Best is trial 40 with value: 0.859375.\n",
      "[I 2024-02-24 02:37:15,487] Trial 85 finished with value: 0.8125 and parameters: {'n_neighbors': 7, 'weights': 'distance', 'metric': 'minkowski', 'algorithm': 'auto'}. Best is trial 40 with value: 0.859375.\n",
      "[I 2024-02-24 02:37:15,541] Trial 86 finished with value: 0.684375 and parameters: {'n_neighbors': 20, 'weights': 'distance', 'metric': 'minkowski', 'algorithm': 'auto'}. Best is trial 40 with value: 0.859375.\n",
      "[I 2024-02-24 02:37:15,591] Trial 87 finished with value: 0.725 and parameters: {'n_neighbors': 15, 'weights': 'distance', 'metric': 'minkowski', 'algorithm': 'auto'}. Best is trial 40 with value: 0.859375.\n",
      "[I 2024-02-24 02:37:15,639] Trial 88 finished with value: 0.859375 and parameters: {'n_neighbors': 5, 'weights': 'distance', 'metric': 'minkowski', 'algorithm': 'auto'}. Best is trial 40 with value: 0.859375.\n",
      "[I 2024-02-24 02:37:15,695] Trial 89 finished with value: 0.59375 and parameters: {'n_neighbors': 69, 'weights': 'distance', 'metric': 'minkowski', 'algorithm': 'auto'}. Best is trial 40 with value: 0.859375.\n",
      "[I 2024-02-24 02:37:15,759] Trial 90 finished with value: 0.7 and parameters: {'n_neighbors': 8, 'weights': 'uniform', 'metric': 'minkowski', 'algorithm': 'auto'}. Best is trial 40 with value: 0.859375.\n",
      "[I 2024-02-24 02:37:15,807] Trial 91 finished with value: 0.775 and parameters: {'n_neighbors': 11, 'weights': 'distance', 'metric': 'minkowski', 'algorithm': 'auto'}. Best is trial 40 with value: 0.859375.\n",
      "[I 2024-02-24 02:37:15,858] Trial 92 finished with value: 0.8125 and parameters: {'n_neighbors': 7, 'weights': 'distance', 'metric': 'minkowski', 'algorithm': 'auto'}. Best is trial 40 with value: 0.859375.\n",
      "[I 2024-02-24 02:37:15,915] Trial 93 finished with value: 0.609375 and parameters: {'n_neighbors': 57, 'weights': 'distance', 'metric': 'minkowski', 'algorithm': 'auto'}. Best is trial 40 with value: 0.859375.\n",
      "[I 2024-02-24 02:37:15,963] Trial 94 finished with value: 0.778125 and parameters: {'n_neighbors': 10, 'weights': 'distance', 'metric': 'minkowski', 'algorithm': 'auto'}. Best is trial 40 with value: 0.859375.\n",
      "[I 2024-02-24 02:37:16,081] Trial 95 finished with value: 0.859375 and parameters: {'n_neighbors': 5, 'weights': 'distance', 'metric': 'euclidean', 'algorithm': 'ball_tree'}. Best is trial 40 with value: 0.859375.\n",
      "[I 2024-02-24 02:37:16,137] Trial 96 finished with value: 0.859375 and parameters: {'n_neighbors': 5, 'weights': 'distance', 'metric': 'minkowski', 'algorithm': 'auto'}. Best is trial 40 with value: 0.859375.\n",
      "[I 2024-02-24 02:37:16,257] Trial 97 finished with value: 0.753125 and parameters: {'n_neighbors': 14, 'weights': 'distance', 'metric': 'minkowski', 'algorithm': 'kd_tree'}. Best is trial 40 with value: 0.859375.\n",
      "[I 2024-02-24 02:37:16,309] Trial 98 finished with value: 0.809375 and parameters: {'n_neighbors': 8, 'weights': 'distance', 'metric': 'minkowski', 'algorithm': 'auto'}. Best is trial 40 with value: 0.859375.\n",
      "[I 2024-02-24 02:37:16,361] Trial 99 finished with value: 0.778125 and parameters: {'n_neighbors': 10, 'weights': 'distance', 'metric': 'minkowski', 'algorithm': 'auto'}. Best is trial 40 with value: 0.859375.\n"
     ]
    },
    {
     "name": "stdout",
     "output_type": "stream",
     "text": [
      "Best params found : {'n_neighbors': 5, 'weights': 'distance', 'metric': 'minkowski', 'algorithm': 'auto'}\n",
      "accuracy: 0.9875\n",
      "recall: 0.9930555555555556\n",
      "precision: 0.9930555555555556\n",
      "f1-score: 0.9920634920634921\n",
      "roc_auc:  0.9963474025974026\n"
     ]
    }
   ],
   "source": [
    "study = optuna.create_study(direction = 'maximize')\n",
    "study.optimize(objective, n_trials = 100)\n",
    "best_params = study.best_params\n",
    "print(\"Best params found :\", best_params)\n",
    "\n",
    "final_model =KNeighborsClassifier(**best_params)\n",
    "final_model.fit(X_train_reduced, y_train)\n",
    "y_pred = final_model.predict(X_test_reduced)\n",
    "prediction_results['KNN'] = y_pred \n",
    "\n",
    "accuracy = accuracy_score(y_test, y_pred)\n",
    "precision = precision_score(y_test, y_pred, average='macro')\n",
    "recall = recall_score(y_test, y_pred, average='macro')\n",
    "f1 = f1_score(y_test, y_pred, average='macro')\n",
    "\n",
    "# One-hot encoding for probability calculation (adapt if necessary)\n",
    "y_test_onehot = pd.get_dummies(y_test, prefix='label_')  # Assuming 'label_' prefix for clarity\n",
    "y_pred_onehot = pd.get_dummies(y_pred, prefix='label_')\n",
    "\n",
    "# ROC AUC score with multiclass handling\n",
    "roc_auc_macro = roc_auc_score(y_test_onehot, y_pred_onehot, average='macro', multi_class='ovo')  # Specify 'ovo' or 'ovr'\n",
    "\n",
    "print(\"accuracy:\", accuracy)\n",
    "print(\"recall:\", recall)\n",
    "print(\"precision:\", precision)\n",
    "print(\"f1-score:\", f1)\n",
    "print('roc_auc: ', roc_auc_macro)"
   ]
  },
  {
   "cell_type": "markdown",
   "id": "bbb10411",
   "metadata": {
    "papermill": {
     "duration": 0.058092,
     "end_time": "2024-02-24T02:37:16.530671",
     "exception": false,
     "start_time": "2024-02-24T02:37:16.472579",
     "status": "completed"
    },
    "tags": []
   },
   "source": [
    "# Support Vector Machine "
   ]
  },
  {
   "cell_type": "markdown",
   "id": "4cfaa745",
   "metadata": {
    "papermill": {
     "duration": 0.057798,
     "end_time": "2024-02-24T02:37:16.651321",
     "exception": false,
     "start_time": "2024-02-24T02:37:16.593523",
     "status": "completed"
    },
    "tags": []
   },
   "source": [
    "**Normal**"
   ]
  },
  {
   "cell_type": "code",
   "execution_count": 28,
   "id": "c04a09ce",
   "metadata": {
    "execution": {
     "iopub.execute_input": "2024-02-24T02:37:16.770738Z",
     "iopub.status.busy": "2024-02-24T02:37:16.769876Z",
     "iopub.status.idle": "2024-02-24T02:37:16.834917Z",
     "shell.execute_reply": "2024-02-24T02:37:16.833346Z"
    },
    "papermill": {
     "duration": 0.127534,
     "end_time": "2024-02-24T02:37:16.837762",
     "exception": false,
     "start_time": "2024-02-24T02:37:16.710228",
     "status": "completed"
    },
    "tags": []
   },
   "outputs": [
    {
     "name": "stdout",
     "output_type": "stream",
     "text": [
      "accuracy: 1.0\n",
      "recall: 1.0\n",
      "precision: 1.0\n",
      "f1-score: 1.0\n",
      "roc_auc:  1.0\n"
     ]
    }
   ],
   "source": [
    "from sklearn.svm import SVC\n",
    "\n",
    "svm = SVC(kernel='linear')\n",
    "svm.fit(X_train_reduced, y_train)\n",
    "y_pred = svm.predict(X_test_reduced)\n",
    "\n",
    "accuracy = accuracy_score(y_test, y_pred)\n",
    "precision = precision_score(y_test, y_pred, average='macro')\n",
    "recall = recall_score(y_test, y_pred, average='macro')\n",
    "f1 = f1_score(y_test, y_pred, average='macro')\n",
    "\n",
    "# One-hot encoding for probability calculation (adapt if necessary)\n",
    "# Assuming 'label_' prefix for clarity\n",
    "y_test_onehot = pd.get_dummies(y_test, prefix='label_')\n",
    "y_pred_onehot = pd.get_dummies(y_pred, prefix='label_')\n",
    "\n",
    "# ROC AUC score with multiclass handling\n",
    "roc_auc_macro = roc_auc_score(y_test_onehot, y_pred_onehot,\n",
    "                              average='macro', multi_class='ovo')  # Specify 'ovo' or 'ovr'\n",
    "\n",
    "print(\"accuracy:\", accuracy)\n",
    "print(\"recall:\", recall)\n",
    "print(\"precision:\", precision)\n",
    "print(\"f1-score:\", f1)\n",
    "print('roc_auc: ', roc_auc_macro)"
   ]
  },
  {
   "cell_type": "markdown",
   "id": "ec93ac18",
   "metadata": {
    "papermill": {
     "duration": 0.057662,
     "end_time": "2024-02-24T02:37:16.953624",
     "exception": false,
     "start_time": "2024-02-24T02:37:16.895962",
     "status": "completed"
    },
    "tags": []
   },
   "source": [
    "**Tunning**"
   ]
  },
  {
   "cell_type": "code",
   "execution_count": 29,
   "id": "bcb5e353",
   "metadata": {
    "execution": {
     "iopub.execute_input": "2024-02-24T02:37:17.073248Z",
     "iopub.status.busy": "2024-02-24T02:37:17.072735Z",
     "iopub.status.idle": "2024-02-24T02:37:17.082843Z",
     "shell.execute_reply": "2024-02-24T02:37:17.081523Z"
    },
    "papermill": {
     "duration": 0.072777,
     "end_time": "2024-02-24T02:37:17.085232",
     "exception": false,
     "start_time": "2024-02-24T02:37:17.012455",
     "status": "completed"
    },
    "tags": []
   },
   "outputs": [],
   "source": [
    "import optuna\n",
    "from sklearn.model_selection import cross_val_score\n",
    "import warnings\n",
    "warnings.filterwarnings('ignore')\n",
    "\n",
    "def objective(trial):\n",
    "    hyperparams = {\n",
    "        'kernel': trial.suggest_categorical('kernel', ['linear', 'rbf', 'poly']),\n",
    "        'C': trial.suggest_loguniform('C', 1e-5, 1e5),\n",
    "        'gamma': trial.suggest_loguniform('gamma', 1e-5, 1e5),\n",
    "        # 'degree': trial.suggest_int('degree', 2, 5),  # for polynomial kernel\n",
    "        'tol': trial.suggest_loguniform('tol', 1e-4, 1e-2),\n",
    "        'shrinking': trial.suggest_categorical('shrinking', [True, False]),\n",
    "    }\n",
    "    \n",
    "    # Create KNN model with tuned hyperparameters\n",
    "    model = SVC(**hyperparams)\n",
    "    scores = cross_val_score(model, X_train_reduced, y_train, cv = kf,scoring = 'accuracy')\n",
    "    return np.mean(scores)"
   ]
  },
  {
   "cell_type": "code",
   "execution_count": 30,
   "id": "343e97f6",
   "metadata": {
    "execution": {
     "iopub.execute_input": "2024-02-24T02:37:17.205559Z",
     "iopub.status.busy": "2024-02-24T02:37:17.205127Z",
     "iopub.status.idle": "2024-02-24T02:37:27.620331Z",
     "shell.execute_reply": "2024-02-24T02:37:27.618011Z"
    },
    "papermill": {
     "duration": 10.477467,
     "end_time": "2024-02-24T02:37:27.623122",
     "exception": false,
     "start_time": "2024-02-24T02:37:17.145655",
     "status": "completed"
    },
    "tags": []
   },
   "outputs": [
    {
     "name": "stderr",
     "output_type": "stream",
     "text": [
      "[I 2024-02-24 02:37:17,211] A new study created in memory with name: no-name-c3ba84ac-ae19-4293-89be-fd59e8f29070\n",
      "[I 2024-02-24 02:37:17,326] Trial 0 finished with value: 0.0 and parameters: {'kernel': 'rbf', 'C': 21471.746511255697, 'gamma': 0.09910341333886173, 'tol': 0.00041918049158333996, 'shrinking': True}. Best is trial 0 with value: 0.0.\n",
      "[I 2024-02-24 02:37:17,406] Trial 1 finished with value: 0.0 and parameters: {'kernel': 'rbf', 'C': 0.001443047702794342, 'gamma': 22.957661857919987, 'tol': 0.002825855574175208, 'shrinking': False}. Best is trial 0 with value: 0.0.\n",
      "[I 2024-02-24 02:37:17,501] Trial 2 finished with value: 0.859375 and parameters: {'kernel': 'poly', 'C': 0.0004720826994863511, 'gamma': 2.9204332150902426, 'tol': 0.0005155591365329638, 'shrinking': False}. Best is trial 2 with value: 0.859375.\n",
      "[I 2024-02-24 02:37:17,594] Trial 3 finished with value: 0.859375 and parameters: {'kernel': 'poly', 'C': 0.38275066512404576, 'gamma': 0.0005587008729567962, 'tol': 0.0008502855045444847, 'shrinking': False}. Best is trial 2 with value: 0.859375.\n",
      "[I 2024-02-24 02:37:17,690] Trial 4 finished with value: 0.859375 and parameters: {'kernel': 'poly', 'C': 1.271251823867197, 'gamma': 7.009158210096772e-05, 'tol': 0.002463720116505897, 'shrinking': True}. Best is trial 2 with value: 0.859375.\n",
      "[I 2024-02-24 02:37:17,799] Trial 5 finished with value: 0.0 and parameters: {'kernel': 'rbf', 'C': 1688.016270282737, 'gamma': 0.0004565114873934127, 'tol': 0.0010716634900814316, 'shrinking': True}. Best is trial 2 with value: 0.859375.\n",
      "[I 2024-02-24 02:37:17,896] Trial 6 finished with value: 0.859375 and parameters: {'kernel': 'poly', 'C': 0.006601639164573828, 'gamma': 1.1344768609665894, 'tol': 0.0003241146433685887, 'shrinking': False}. Best is trial 2 with value: 0.859375.\n",
      "[I 2024-02-24 02:37:18,010] Trial 7 finished with value: 0.0 and parameters: {'kernel': 'rbf', 'C': 2352.8808570679125, 'gamma': 0.001414082353596364, 'tol': 0.00018031097865070918, 'shrinking': False}. Best is trial 2 with value: 0.859375.\n",
      "[I 2024-02-24 02:37:18,086] Trial 8 finished with value: 0.95 and parameters: {'kernel': 'linear', 'C': 4.062400510314455, 'gamma': 1.5994195138766683e-05, 'tol': 0.0032455115372778762, 'shrinking': False}. Best is trial 8 with value: 0.95.\n",
      "[I 2024-02-24 02:37:18,194] Trial 9 finished with value: 0.859375 and parameters: {'kernel': 'poly', 'C': 7.6523436130260585, 'gamma': 0.0009224353560115938, 'tol': 0.00022926110107634535, 'shrinking': True}. Best is trial 8 with value: 0.95.\n",
      "[I 2024-02-24 02:37:18,287] Trial 10 finished with value: 0.95 and parameters: {'kernel': 'linear', 'C': 38.42851303543447, 'gamma': 16058.426281517293, 'tol': 0.009212835178064878, 'shrinking': False}. Best is trial 8 with value: 0.95.\n",
      "[I 2024-02-24 02:37:18,379] Trial 11 finished with value: 0.95 and parameters: {'kernel': 'linear', 'C': 53.02494762430667, 'gamma': 63005.271539863454, 'tol': 0.007371339761261612, 'shrinking': False}. Best is trial 8 with value: 0.95.\n",
      "[I 2024-02-24 02:37:18,470] Trial 12 finished with value: 0.95 and parameters: {'kernel': 'linear', 'C': 0.0604144166657271, 'gamma': 32628.85211043949, 'tol': 0.009494261465572511, 'shrinking': False}. Best is trial 8 with value: 0.95.\n",
      "[I 2024-02-24 02:37:18,564] Trial 13 finished with value: 0.95 and parameters: {'kernel': 'linear', 'C': 1.8775654463356273e-05, 'gamma': 1464.141704908879, 'tol': 0.0041836198039931095, 'shrinking': False}. Best is trial 8 with value: 0.95.\n",
      "[I 2024-02-24 02:37:18,658] Trial 14 finished with value: 0.95 and parameters: {'kernel': 'linear', 'C': 75.7004733412997, 'gamma': 112.55537966801619, 'tol': 0.004728113605859452, 'shrinking': False}. Best is trial 8 with value: 0.95.\n",
      "[I 2024-02-24 02:37:18,753] Trial 15 finished with value: 0.95 and parameters: {'kernel': 'linear', 'C': 107.22098208821477, 'gamma': 0.04357641239690748, 'tol': 0.0028130933376609834, 'shrinking': False}. Best is trial 8 with value: 0.95.\n",
      "[I 2024-02-24 02:37:18,850] Trial 16 finished with value: 0.95 and parameters: {'kernel': 'linear', 'C': 3.276699726138463, 'gamma': 1.0356951941314928e-05, 'tol': 0.0013654639181224636, 'shrinking': False}. Best is trial 8 with value: 0.95.\n",
      "[I 2024-02-24 02:37:18,944] Trial 17 finished with value: 0.95 and parameters: {'kernel': 'linear', 'C': 0.08786638308257079, 'gamma': 844.5428865766419, 'tol': 0.00591658233988104, 'shrinking': False}. Best is trial 8 with value: 0.95.\n",
      "[I 2024-02-24 02:37:19,047] Trial 18 finished with value: 0.95 and parameters: {'kernel': 'linear', 'C': 1076.0239300241346, 'gamma': 0.03493205424490932, 'tol': 0.0017817351822737803, 'shrinking': True}. Best is trial 8 with value: 0.95.\n",
      "[I 2024-02-24 02:37:19,141] Trial 19 finished with value: 0.95 and parameters: {'kernel': 'linear', 'C': 15.809099314746907, 'gamma': 4090.420895025542, 'tol': 0.009484481373831422, 'shrinking': False}. Best is trial 8 with value: 0.95.\n",
      "[I 2024-02-24 02:37:19,235] Trial 20 finished with value: 0.95 and parameters: {'kernel': 'linear', 'C': 53430.75652756706, 'gamma': 51.40116041879453, 'tol': 0.004267185095065776, 'shrinking': False}. Best is trial 8 with value: 0.95.\n",
      "[I 2024-02-24 02:37:19,328] Trial 21 finished with value: 0.95 and parameters: {'kernel': 'linear', 'C': 96.25675473121713, 'gamma': 85818.10309635961, 'tol': 0.006881979969951574, 'shrinking': False}. Best is trial 8 with value: 0.95.\n",
      "[I 2024-02-24 02:37:19,436] Trial 22 finished with value: 0.95 and parameters: {'kernel': 'linear', 'C': 14.824439138162306, 'gamma': 11547.066643184613, 'tol': 0.00010245418998591167, 'shrinking': False}. Best is trial 8 with value: 0.95.\n",
      "[I 2024-02-24 02:37:19,527] Trial 23 finished with value: 0.95 and parameters: {'kernel': 'linear', 'C': 0.41642476289983127, 'gamma': 734.5064105301807, 'tol': 0.0069208283116742935, 'shrinking': False}. Best is trial 8 with value: 0.95.\n",
      "[I 2024-02-24 02:37:19,621] Trial 24 finished with value: 0.95 and parameters: {'kernel': 'linear', 'C': 230.68056758231097, 'gamma': 82202.99480809877, 'tol': 0.003518631778144622, 'shrinking': False}. Best is trial 8 with value: 0.95.\n",
      "[I 2024-02-24 02:37:19,713] Trial 25 finished with value: 0.95 and parameters: {'kernel': 'linear', 'C': 8179.760522624948, 'gamma': 5.304652245664778, 'tol': 0.006057212808506689, 'shrinking': False}. Best is trial 8 with value: 0.95.\n",
      "[I 2024-02-24 02:37:19,809] Trial 26 finished with value: 0.95 and parameters: {'kernel': 'linear', 'C': 477.3276905943707, 'gamma': 199.11654201556593, 'tol': 0.009268973441712295, 'shrinking': True}. Best is trial 8 with value: 0.95.\n",
      "[I 2024-02-24 02:37:19,906] Trial 27 finished with value: 0.95 and parameters: {'kernel': 'linear', 'C': 25.333272383706554, 'gamma': 7002.411236170771, 'tol': 0.0018652580831935018, 'shrinking': False}. Best is trial 8 with value: 0.95.\n",
      "[I 2024-02-24 02:37:20,028] Trial 28 finished with value: 0.0 and parameters: {'kernel': 'rbf', 'C': 2.4323996748218852, 'gamma': 0.005005440131733846, 'tol': 0.005268951047038048, 'shrinking': False}. Best is trial 8 with value: 0.95.\n",
      "[I 2024-02-24 02:37:20,137] Trial 29 finished with value: 0.95 and parameters: {'kernel': 'linear', 'C': 11379.801576780545, 'gamma': 0.10451724961021479, 'tol': 0.0006374635045732941, 'shrinking': True}. Best is trial 8 with value: 0.95.\n",
      "[I 2024-02-24 02:37:20,248] Trial 30 finished with value: 0.0 and parameters: {'kernel': 'rbf', 'C': 0.05664341398824329, 'gamma': 0.3376254657831238, 'tol': 0.003573858838777449, 'shrinking': False}. Best is trial 8 with value: 0.95.\n",
      "[I 2024-02-24 02:37:20,343] Trial 31 finished with value: 0.95 and parameters: {'kernel': 'linear', 'C': 0.042386138105419205, 'gamma': 29158.57993451369, 'tol': 0.00898222973207624, 'shrinking': False}. Best is trial 8 with value: 0.95.\n",
      "[I 2024-02-24 02:37:20,440] Trial 32 finished with value: 0.95 and parameters: {'kernel': 'linear', 'C': 0.013864462546634577, 'gamma': 22970.50595713044, 'tol': 0.007340937110337134, 'shrinking': False}. Best is trial 8 with value: 0.95.\n",
      "[I 2024-02-24 02:37:20,537] Trial 33 finished with value: 0.95 and parameters: {'kernel': 'linear', 'C': 0.37171125475749095, 'gamma': 12.421540518034387, 'tol': 0.009166189600714678, 'shrinking': False}. Best is trial 8 with value: 0.95.\n",
      "[I 2024-02-24 02:37:20,637] Trial 34 finished with value: 0.95 and parameters: {'kernel': 'linear', 'C': 0.0020768987280997556, 'gamma': 2806.2521717842737, 'tol': 0.0022266570589118146, 'shrinking': False}. Best is trial 8 with value: 0.95.\n",
      "[I 2024-02-24 02:37:20,744] Trial 35 finished with value: 0.859375 and parameters: {'kernel': 'poly', 'C': 0.0002641903345740406, 'gamma': 267.201491512391, 'tol': 0.007393642903408746, 'shrinking': False}. Best is trial 8 with value: 0.95.\n",
      "[I 2024-02-24 02:37:20,861] Trial 36 finished with value: 0.0 and parameters: {'kernel': 'rbf', 'C': 0.813802249084136, 'gamma': 93823.19995284738, 'tol': 0.003691671254196843, 'shrinking': False}. Best is trial 8 with value: 0.95.\n",
      "[I 2024-02-24 02:37:20,964] Trial 37 finished with value: 0.95 and parameters: {'kernel': 'linear', 'C': 4.872506303664898, 'gamma': 21544.143052023985, 'tol': 0.005605948338554366, 'shrinking': True}. Best is trial 8 with value: 0.95.\n",
      "[I 2024-02-24 02:37:21,075] Trial 38 finished with value: 0.859375 and parameters: {'kernel': 'poly', 'C': 41.33850433852094, 'gamma': 3.422095141546264e-05, 'tol': 0.0031434233072118087, 'shrinking': False}. Best is trial 8 with value: 0.95.\n",
      "[I 2024-02-24 02:37:21,175] Trial 39 finished with value: 0.95 and parameters: {'kernel': 'linear', 'C': 0.2134167828718065, 'gamma': 5278.352976433606, 'tol': 0.004923675181367249, 'shrinking': False}. Best is trial 8 with value: 0.95.\n",
      "[I 2024-02-24 02:37:21,297] Trial 40 finished with value: 0.859375 and parameters: {'kernel': 'poly', 'C': 1.657529584886072, 'gamma': 0.007263031330507719, 'tol': 0.0008671141694982471, 'shrinking': True}. Best is trial 8 with value: 0.95.\n",
      "[I 2024-02-24 02:37:21,393] Trial 41 finished with value: 0.95 and parameters: {'kernel': 'linear', 'C': 1.4754544770173311e-05, 'gamma': 1503.9352547787234, 'tol': 0.009975698504178532, 'shrinking': False}. Best is trial 8 with value: 0.95.\n",
      "[I 2024-02-24 02:37:21,495] Trial 42 finished with value: 0.95 and parameters: {'kernel': 'linear', 'C': 4.296089493351523e-05, 'gamma': 18576.843624661586, 'tol': 0.004587189656669323, 'shrinking': False}. Best is trial 8 with value: 0.95.\n",
      "[I 2024-02-24 02:37:21,593] Trial 43 finished with value: 0.95 and parameters: {'kernel': 'linear', 'C': 0.0003357696131803378, 'gamma': 488.0197494463958, 'tol': 0.007560860681191388, 'shrinking': False}. Best is trial 8 with value: 0.95.\n",
      "[I 2024-02-24 02:37:21,693] Trial 44 finished with value: 0.95 and parameters: {'kernel': 'linear', 'C': 253.98314764679827, 'gamma': 2310.0104920022623, 'tol': 0.004245952007697809, 'shrinking': False}. Best is trial 8 with value: 0.95.\n",
      "[I 2024-02-24 02:37:21,796] Trial 45 finished with value: 0.0 and parameters: {'kernel': 'rbf', 'C': 0.0016648974665656156, 'gamma': 54.999931421999314, 'tol': 0.0024523729590183725, 'shrinking': False}. Best is trial 8 with value: 0.95.\n",
      "[I 2024-02-24 02:37:21,894] Trial 46 finished with value: 0.95 and parameters: {'kernel': 'linear', 'C': 8.523443978526661e-05, 'gamma': 0.00019391516810249643, 'tol': 0.0013994002555728932, 'shrinking': False}. Best is trial 8 with value: 0.95.\n",
      "[I 2024-02-24 02:37:21,989] Trial 47 finished with value: 0.95 and parameters: {'kernel': 'linear', 'C': 8.199560551499232, 'gamma': 52147.024619937154, 'tol': 0.005906538019627523, 'shrinking': False}. Best is trial 8 with value: 0.95.\n",
      "[I 2024-02-24 02:37:22,087] Trial 48 finished with value: 0.95 and parameters: {'kernel': 'linear', 'C': 0.00737539591008155, 'gamma': 6521.864413223653, 'tol': 0.0029872109699576933, 'shrinking': False}. Best is trial 8 with value: 0.95.\n",
      "[I 2024-02-24 02:37:22,204] Trial 49 finished with value: 0.859375 and parameters: {'kernel': 'poly', 'C': 1058.5165990891608, 'gamma': 1685.5140102844562, 'tol': 0.0004035609380015956, 'shrinking': False}. Best is trial 8 with value: 0.95.\n",
      "[I 2024-02-24 02:37:22,302] Trial 50 finished with value: 0.95 and parameters: {'kernel': 'linear', 'C': 57.681571418221225, 'gamma': 0.5520803140774052, 'tol': 0.008273953468099143, 'shrinking': True}. Best is trial 8 with value: 0.95.\n",
      "[I 2024-02-24 02:37:22,401] Trial 51 finished with value: 0.95 and parameters: {'kernel': 'linear', 'C': 137.98725791393338, 'gamma': 237.43819070868034, 'tol': 0.0041498035390364245, 'shrinking': False}. Best is trial 8 with value: 0.95.\n",
      "[I 2024-02-24 02:37:22,501] Trial 52 finished with value: 0.95 and parameters: {'kernel': 'linear', 'C': 7.79573526226015, 'gamma': 121.85362806496607, 'tol': 0.006136855173787546, 'shrinking': False}. Best is trial 8 with value: 0.95.\n",
      "[I 2024-02-24 02:37:22,597] Trial 53 finished with value: 0.95 and parameters: {'kernel': 'linear', 'C': 27.171872507412104, 'gamma': 13735.67131791261, 'tol': 0.005162495997899616, 'shrinking': False}. Best is trial 8 with value: 0.95.\n",
      "[I 2024-02-24 02:37:22,691] Trial 54 finished with value: 0.95 and parameters: {'kernel': 'linear', 'C': 513.44483569005, 'gamma': 758.2938561974148, 'tol': 0.006563254271704049, 'shrinking': False}. Best is trial 8 with value: 0.95.\n",
      "[I 2024-02-24 02:37:22,784] Trial 55 finished with value: 0.95 and parameters: {'kernel': 'linear', 'C': 5197.428410780105, 'gamma': 40862.04623408731, 'tol': 0.007940791936433565, 'shrinking': False}. Best is trial 8 with value: 0.95.\n",
      "[I 2024-02-24 02:37:22,885] Trial 56 finished with value: 0.95 and parameters: {'kernel': 'linear', 'C': 0.881530860532964, 'gamma': 29.174545783466467, 'tol': 0.0018807920044216682, 'shrinking': False}. Best is trial 8 with value: 0.95.\n",
      "[I 2024-02-24 02:37:22,985] Trial 57 finished with value: 0.95 and parameters: {'kernel': 'linear', 'C': 61.17210427182469, 'gamma': 4930.648120873083, 'tol': 0.002775747590617563, 'shrinking': False}. Best is trial 8 with value: 0.95.\n",
      "[I 2024-02-24 02:37:23,109] Trial 58 finished with value: 0.0 and parameters: {'kernel': 'rbf', 'C': 14.916811317063301, 'gamma': 1.5787820706741793, 'tol': 0.003923105952138345, 'shrinking': False}. Best is trial 8 with value: 0.95.\n",
      "[I 2024-02-24 02:37:23,209] Trial 59 finished with value: 0.95 and parameters: {'kernel': 'linear', 'C': 2510.0775902480505, 'gamma': 10126.477388085468, 'tol': 0.0013412175484081926, 'shrinking': False}. Best is trial 8 with value: 0.95.\n",
      "[I 2024-02-24 02:37:23,312] Trial 60 finished with value: 0.95 and parameters: {'kernel': 'linear', 'C': 0.13399945250654247, 'gamma': 5.697936573650072, 'tol': 0.005032860364506709, 'shrinking': True}. Best is trial 8 with value: 0.95.\n",
      "[I 2024-02-24 02:37:23,416] Trial 61 finished with value: 0.95 and parameters: {'kernel': 'linear', 'C': 150.83593659403073, 'gamma': 0.0437836852092501, 'tol': 0.003363802960247873, 'shrinking': False}. Best is trial 8 with value: 0.95.\n",
      "[I 2024-02-24 02:37:23,520] Trial 62 finished with value: 0.95 and parameters: {'kernel': 'linear', 'C': 345.0618012797986, 'gamma': 0.0030779537141483486, 'tol': 0.002322007446972718, 'shrinking': False}. Best is trial 8 with value: 0.95.\n",
      "[I 2024-02-24 02:37:23,620] Trial 63 finished with value: 0.95 and parameters: {'kernel': 'linear', 'C': 87.28108260764755, 'gamma': 0.00017861823198503157, 'tol': 0.006584568772924803, 'shrinking': False}. Best is trial 8 with value: 0.95.\n",
      "[I 2024-02-24 02:37:23,718] Trial 64 finished with value: 0.95 and parameters: {'kernel': 'linear', 'C': 3.7549837686052165, 'gamma': 0.014515984672474566, 'tol': 0.008115481806460711, 'shrinking': False}. Best is trial 8 with value: 0.95.\n",
      "[I 2024-02-24 02:37:23,818] Trial 65 finished with value: 0.95 and parameters: {'kernel': 'linear', 'C': 726.4366601318527, 'gamma': 40746.06667021606, 'tol': 0.0045359615974436985, 'shrinking': False}. Best is trial 8 with value: 0.95.\n",
      "[I 2024-02-24 02:37:23,919] Trial 66 finished with value: 0.95 and parameters: {'kernel': 'linear', 'C': 26.41648154111855, 'gamma': 1.71556039922683e-05, 'tol': 0.0027293756869546434, 'shrinking': False}. Best is trial 8 with value: 0.95.\n",
      "[I 2024-02-24 02:37:24,029] Trial 67 finished with value: 0.859375 and parameters: {'kernel': 'poly', 'C': 0.023994670877326766, 'gamma': 0.18587117212976156, 'tol': 0.005540024413279543, 'shrinking': False}. Best is trial 8 with value: 0.95.\n",
      "[I 2024-02-24 02:37:24,143] Trial 68 finished with value: 0.95 and parameters: {'kernel': 'linear', 'C': 0.0008282572343659813, 'gamma': 0.0007015882643638499, 'tol': 0.00023582170883010197, 'shrinking': False}. Best is trial 8 with value: 0.95.\n",
      "[I 2024-02-24 02:37:24,246] Trial 69 finished with value: 0.95 and parameters: {'kernel': 'linear', 'C': 6.719747278248392, 'gamma': 1197.1498064364623, 'tol': 0.008898728656067124, 'shrinking': False}. Best is trial 8 with value: 0.95.\n",
      "[I 2024-02-24 02:37:24,376] Trial 70 finished with value: 0.0 and parameters: {'kernel': 'rbf', 'C': 2.773074217898255, 'gamma': 3148.360898563425, 'tol': 0.007059685505300894, 'shrinking': True}. Best is trial 8 with value: 0.95.\n",
      "[I 2024-02-24 02:37:24,484] Trial 71 finished with value: 0.95 and parameters: {'kernel': 'linear', 'C': 15.649294818682696, 'gamma': 1.3011725229880222e-05, 'tol': 0.0010886923850590639, 'shrinking': False}. Best is trial 8 with value: 0.95.\n",
      "[I 2024-02-24 02:37:24,589] Trial 72 finished with value: 0.95 and parameters: {'kernel': 'linear', 'C': 65408.00410409695, 'gamma': 6.474786302887822e-05, 'tol': 0.00138236671398726, 'shrinking': False}. Best is trial 8 with value: 0.95.\n",
      "[I 2024-02-24 02:37:24,691] Trial 73 finished with value: 0.95 and parameters: {'kernel': 'linear', 'C': 1.5433383363837259, 'gamma': 10537.093248822712, 'tol': 0.0019493877051030464, 'shrinking': False}. Best is trial 8 with value: 0.95.\n",
      "[I 2024-02-24 02:37:24,790] Trial 74 finished with value: 0.95 and parameters: {'kernel': 'linear', 'C': 31.27893180607837, 'gamma': 6.520373716979133e-05, 'tol': 0.0034919277953247177, 'shrinking': False}. Best is trial 8 with value: 0.95.\n",
      "[I 2024-02-24 02:37:24,891] Trial 75 finished with value: 0.95 and parameters: {'kernel': 'linear', 'C': 0.45233806082315237, 'gamma': 3.3392509702532136e-05, 'tol': 0.003877553068296565, 'shrinking': False}. Best is trial 8 with value: 0.95.\n",
      "[I 2024-02-24 02:37:24,994] Trial 76 finished with value: 0.95 and parameters: {'kernel': 'linear', 'C': 9.088499924620663, 'gamma': 0.0002535141966515549, 'tol': 0.0015680783587816048, 'shrinking': False}. Best is trial 8 with value: 0.95.\n",
      "[I 2024-02-24 02:37:25,105] Trial 77 finished with value: 0.95 and parameters: {'kernel': 'linear', 'C': 188.73015647441127, 'gamma': 93757.55713212652, 'tol': 0.00010148948573593207, 'shrinking': False}. Best is trial 8 with value: 0.95.\n",
      "[I 2024-02-24 02:37:25,221] Trial 78 finished with value: 0.859375 and parameters: {'kernel': 'poly', 'C': 92.77437976346002, 'gamma': 1.0743570367924003e-05, 'tol': 0.0007010587755164766, 'shrinking': False}. Best is trial 8 with value: 0.95.\n",
      "[I 2024-02-24 02:37:25,318] Trial 79 finished with value: 0.95 and parameters: {'kernel': 'linear', 'C': 0.004114122286148866, 'gamma': 411.304223597571, 'tol': 0.009660758107009117, 'shrinking': False}. Best is trial 8 with value: 0.95.\n",
      "[I 2024-02-24 02:37:25,445] Trial 80 finished with value: 0.95 and parameters: {'kernel': 'linear', 'C': 45.88481150856863, 'gamma': 24035.97139215454, 'tol': 0.004604608664145828, 'shrinking': True}. Best is trial 8 with value: 0.95.\n",
      "[I 2024-02-24 02:37:25,554] Trial 81 finished with value: 0.95 and parameters: {'kernel': 'linear', 'C': 0.5413022933281937, 'gamma': 54016.78601940237, 'tol': 0.005971618286103693, 'shrinking': False}. Best is trial 8 with value: 0.95.\n",
      "[I 2024-02-24 02:37:25,653] Trial 82 finished with value: 0.95 and parameters: {'kernel': 'linear', 'C': 0.18993525758825816, 'gamma': 773.1496756319694, 'tol': 0.008636200515383793, 'shrinking': False}. Best is trial 8 with value: 0.95.\n",
      "[I 2024-02-24 02:37:25,755] Trial 83 finished with value: 0.95 and parameters: {'kernel': 'linear', 'C': 0.09956946778376734, 'gamma': 0.0016468755569802888, 'tol': 0.0031561595829272667, 'shrinking': False}. Best is trial 8 with value: 0.95.\n",
      "[I 2024-02-24 02:37:25,855] Trial 84 finished with value: 0.95 and parameters: {'kernel': 'linear', 'C': 1.0689439982703522e-05, 'gamma': 154.13442286240644, 'tol': 0.00673118094062952, 'shrinking': False}. Best is trial 8 with value: 0.95.\n",
      "[I 2024-02-24 02:37:25,970] Trial 85 finished with value: 0.0 and parameters: {'kernel': 'rbf', 'C': 0.051645324378209075, 'gamma': 91.6793748136852, 'tol': 0.005482385065224373, 'shrinking': False}. Best is trial 8 with value: 0.95.\n",
      "[I 2024-02-24 02:37:26,072] Trial 86 finished with value: 0.95 and parameters: {'kernel': 'linear', 'C': 0.00014421020622896078, 'gamma': 12.812630949760258, 'tol': 0.009997225438006201, 'shrinking': False}. Best is trial 8 with value: 0.95.\n",
      "[I 2024-02-24 02:37:26,184] Trial 87 finished with value: 0.95 and parameters: {'kernel': 'linear', 'C': 2.043924748848091, 'gamma': 3.084908212889684e-05, 'tol': 0.002127511447969122, 'shrinking': False}. Best is trial 8 with value: 0.95.\n",
      "[I 2024-02-24 02:37:26,289] Trial 88 finished with value: 0.95 and parameters: {'kernel': 'linear', 'C': 0.01429374471550882, 'gamma': 6726.858239844711, 'tol': 0.0026571083205729554, 'shrinking': False}. Best is trial 8 with value: 0.95.\n",
      "[I 2024-02-24 02:37:26,395] Trial 89 finished with value: 0.95 and parameters: {'kernel': 'linear', 'C': 4.8535309399756486, 'gamma': 15383.793109369206, 'tol': 0.004722649853732309, 'shrinking': False}. Best is trial 8 with value: 0.95.\n",
      "[I 2024-02-24 02:37:26,495] Trial 90 finished with value: 0.95 and parameters: {'kernel': 'linear', 'C': 12.004332556231947, 'gamma': 2279.44611201553, 'tol': 0.007732059864909836, 'shrinking': False}. Best is trial 8 with value: 0.95.\n",
      "[I 2024-02-24 02:37:26,606] Trial 91 finished with value: 0.95 and parameters: {'kernel': 'linear', 'C': 1553.0534125070637, 'gamma': 0.02987867233566032, 'tol': 0.001675379618437966, 'shrinking': True}. Best is trial 8 with value: 0.95.\n",
      "[I 2024-02-24 02:37:26,719] Trial 92 finished with value: 0.95 and parameters: {'kernel': 'linear', 'C': 2834.7294277814667, 'gamma': 0.8766430374267913, 'tol': 0.0010434443772053595, 'shrinking': True}. Best is trial 8 with value: 0.95.\n",
      "[I 2024-02-24 02:37:26,852] Trial 93 finished with value: 0.95 and parameters: {'kernel': 'linear', 'C': 18244.21159751427, 'gamma': 0.12605215573877535, 'tol': 0.00012916937833488168, 'shrinking': True}. Best is trial 8 with value: 0.95.\n",
      "[I 2024-02-24 02:37:26,963] Trial 94 finished with value: 0.95 and parameters: {'kernel': 'linear', 'C': 656.0052007033498, 'gamma': 0.03769492230828934, 'tol': 0.0020818205916036375, 'shrinking': True}. Best is trial 8 with value: 0.95.\n",
      "[I 2024-02-24 02:37:27,098] Trial 95 finished with value: 0.859375 and parameters: {'kernel': 'poly', 'C': 374.4318188574769, 'gamma': 4.686678620890213, 'tol': 0.0012187635285236871, 'shrinking': True}. Best is trial 8 with value: 0.95.\n",
      "[I 2024-02-24 02:37:27,211] Trial 96 finished with value: 0.95 and parameters: {'kernel': 'linear', 'C': 1.1448432658629117, 'gamma': 0.0001038694631633837, 'tol': 0.006160702174596838, 'shrinking': False}. Best is trial 8 with value: 0.95.\n",
      "[I 2024-02-24 02:37:27,318] Trial 97 finished with value: 0.95 and parameters: {'kernel': 'linear', 'C': 154.2175507093892, 'gamma': 34967.45700581009, 'tol': 0.0008906774365380268, 'shrinking': False}. Best is trial 8 with value: 0.95.\n",
      "[I 2024-02-24 02:37:27,452] Trial 98 finished with value: 0.0 and parameters: {'kernel': 'rbf', 'C': 94.0321652307291, 'gamma': 381.4499615573873, 'tol': 0.0023953121450329654, 'shrinking': False}. Best is trial 8 with value: 0.95.\n",
      "[I 2024-02-24 02:37:27,562] Trial 99 finished with value: 0.95 and parameters: {'kernel': 'linear', 'C': 18.409424296831673, 'gamma': 0.30012321933336344, 'tol': 0.004175277233382563, 'shrinking': True}. Best is trial 8 with value: 0.95.\n"
     ]
    },
    {
     "name": "stdout",
     "output_type": "stream",
     "text": [
      "Best params found : {'kernel': 'linear', 'C': 4.062400510314455, 'gamma': 1.5994195138766683e-05, 'tol': 0.0032455115372778762, 'shrinking': False}\n",
      "accuracy: 1.0\n",
      "recall: 1.0\n",
      "precision: 1.0\n",
      "f1-score: 1.0\n",
      "roc_auc:  1.0\n"
     ]
    }
   ],
   "source": [
    "study = optuna.create_study(direction='maximize')\n",
    "study.optimize(objective, n_trials=100)\n",
    "best_params = study.best_params\n",
    "print(\"Best params found :\", best_params)\n",
    "\n",
    "final_model = SVC(**best_params)\n",
    "final_model.fit(X_train_reduced, y_train)\n",
    "y_pred = final_model.predict(X_test_reduced)\n",
    "prediction_results['svc'] = list(y_pred)\n",
    "\n",
    "accuracy = accuracy_score(y_test, y_pred)\n",
    "precision = precision_score(y_test, y_pred, average='macro')\n",
    "recall = recall_score(y_test, y_pred, average='macro')\n",
    "f1 = f1_score(y_test, y_pred, average='macro')\n",
    "\n",
    "# One-hot encoding for probability calculation (adapt if necessary)\n",
    "# Assuming 'label_' prefix for clarity\n",
    "y_test_onehot = pd.get_dummies(y_test, prefix='label_')\n",
    "y_pred_onehot = pd.get_dummies(y_pred, prefix='label_')\n",
    "\n",
    "# ROC AUC score with multiclass handling\n",
    "roc_auc_macro = roc_auc_score(y_test_onehot, y_pred_onehot,\n",
    "                              average='macro', multi_class='ovo')  # Specify 'ovo' or 'ovr'\n",
    "\n",
    "print(\"accuracy:\", accuracy)\n",
    "print(\"recall:\", recall)\n",
    "print(\"precision:\", precision)\n",
    "print(\"f1-score:\", f1)\n",
    "print('roc_auc: ', roc_auc_macro)"
   ]
  },
  {
   "cell_type": "markdown",
   "id": "07641741",
   "metadata": {
    "papermill": {
     "duration": 0.06948,
     "end_time": "2024-02-24T02:37:27.762419",
     "exception": false,
     "start_time": "2024-02-24T02:37:27.692939",
     "status": "completed"
    },
    "tags": []
   },
   "source": [
    "# Decision Tree"
   ]
  },
  {
   "cell_type": "markdown",
   "id": "26e6af76",
   "metadata": {
    "papermill": {
     "duration": 0.068635,
     "end_time": "2024-02-24T02:37:27.900583",
     "exception": false,
     "start_time": "2024-02-24T02:37:27.831948",
     "status": "completed"
    },
    "tags": []
   },
   "source": [
    "**Normal**"
   ]
  },
  {
   "cell_type": "code",
   "execution_count": 31,
   "id": "281d5707",
   "metadata": {
    "execution": {
     "iopub.execute_input": "2024-02-24T02:37:28.046882Z",
     "iopub.status.busy": "2024-02-24T02:37:28.046460Z",
     "iopub.status.idle": "2024-02-24T02:37:28.168043Z",
     "shell.execute_reply": "2024-02-24T02:37:28.166911Z"
    },
    "papermill": {
     "duration": 0.197389,
     "end_time": "2024-02-24T02:37:28.170768",
     "exception": false,
     "start_time": "2024-02-24T02:37:27.973379",
     "status": "completed"
    },
    "tags": []
   },
   "outputs": [
    {
     "name": "stdout",
     "output_type": "stream",
     "text": [
      "accuracy: 0.7\n",
      "recall: 0.6395833333333333\n",
      "precision: 0.6325\n",
      "f1-score: 0.6013293650793651\n",
      "roc_auc:  0.6044836543462458\n",
      "accuracy: 1.0\n",
      "recall: 1.0\n",
      "precision: 1.0\n",
      "f1-score: 1.0\n",
      "roc_auc:  1.0\n"
     ]
    }
   ],
   "source": [
    "from sklearn.tree import DecisionTreeClassifier\n",
    "\n",
    "dt = DecisionTreeClassifier(random_state=42)\n",
    "dt.fit(X_train_reduced, y_train)\n",
    "y_pred = dt.predict(X_test_reduced)\n",
    "\n",
    "accuracy = accuracy_score(y_test, y_pred)\n",
    "precision = precision_score(y_test, y_pred, average='macro')\n",
    "recall = recall_score(y_test, y_pred, average='macro')\n",
    "f1 = f1_score(y_test, y_pred, average='macro')\n",
    "\n",
    "# One-hot encoding for probability calculation (adapt if necessary)\n",
    "# Assuming 'label_' prefix for clarity\n",
    "y_test_onehot = pd.get_dummies(y_test, prefix='label_')\n",
    "y_pred_onehot = pd.get_dummies(y_pred, prefix='label_')\n",
    "\n",
    "# ROC AUC score with multiclass handling\n",
    "roc_auc_macro = roc_auc_score(y_test_onehot, y_pred_onehot,\n",
    "                              average='macro', multi_class='ovo')  # Specify 'ovo' or 'ovr'\n",
    "\n",
    "print(\"accuracy:\", accuracy)\n",
    "print(\"recall:\", recall)\n",
    "print(\"precision:\", precision)\n",
    "print(\"f1-score:\", f1)\n",
    "print('roc_auc: ', roc_auc_macro)\n",
    "\n",
    "svm = SVC(kernel='linear')\n",
    "svm.fit(X_train_reduced, y_train)\n",
    "y_pred = svm.predict(X_test_reduced)\n",
    "\n",
    "accuracy = accuracy_score(y_test, y_pred)\n",
    "precision = precision_score(y_test, y_pred, average='macro')\n",
    "recall = recall_score(y_test, y_pred, average='macro')\n",
    "f1 = f1_score(y_test, y_pred, average='macro')\n",
    "\n",
    "# One-hot encoding for probability calculation (adapt if necessary)\n",
    "# Assuming 'label_' prefix for clarity\n",
    "y_test_onehot = pd.get_dummies(y_test, prefix='label_')\n",
    "y_pred_onehot = pd.get_dummies(y_pred, prefix='label_')\n",
    "\n",
    "# ROC AUC score with multiclass handling\n",
    "roc_auc_macro = roc_auc_score(y_test_onehot, y_pred_onehot,\n",
    "                              average='macro', multi_class='ovo')  # Specify 'ovo' or 'ovr'\n",
    "\n",
    "print(\"accuracy:\", accuracy)\n",
    "print(\"recall:\", recall)\n",
    "print(\"precision:\", precision)\n",
    "print(\"f1-score:\", f1)\n",
    "print('roc_auc: ', roc_auc_macro)"
   ]
  },
  {
   "cell_type": "markdown",
   "id": "b022eea2",
   "metadata": {
    "papermill": {
     "duration": 0.069827,
     "end_time": "2024-02-24T02:37:28.312098",
     "exception": false,
     "start_time": "2024-02-24T02:37:28.242271",
     "status": "completed"
    },
    "tags": []
   },
   "source": [
    "**Tunning**"
   ]
  },
  {
   "cell_type": "code",
   "execution_count": 32,
   "id": "34d99c16",
   "metadata": {
    "execution": {
     "iopub.execute_input": "2024-02-24T02:37:28.452380Z",
     "iopub.status.busy": "2024-02-24T02:37:28.451940Z",
     "iopub.status.idle": "2024-02-24T02:37:28.460181Z",
     "shell.execute_reply": "2024-02-24T02:37:28.459122Z"
    },
    "papermill": {
     "duration": 0.081054,
     "end_time": "2024-02-24T02:37:28.462627",
     "exception": false,
     "start_time": "2024-02-24T02:37:28.381573",
     "status": "completed"
    },
    "tags": []
   },
   "outputs": [],
   "source": [
    "import optuna\n",
    "from sklearn.model_selection import cross_val_score\n",
    "import warnings\n",
    "warnings.filterwarnings('ignore')\n",
    "\n",
    "\n",
    "def objective(trial):\n",
    "    hyperparams = {\n",
    "        \"max_depth\" : trial.suggest_int(\"max_depth\", 2, 10),\n",
    "        \"min_samples_split\" : trial.suggest_int(\"min_samples_split\", 2, 20),\n",
    "        \"min_samples_leaf\" : trial.suggest_int(\"min_samples_leaf\", 1, 10),\n",
    "        \"criterion\" : trial.suggest_categorical(\"criterion\", [\"gini\", \"entropy\"]),\n",
    "        'random_state': trial.suggest_categorical('random_state', [42])\n",
    "        \n",
    "\n",
    "    }\n",
    "\n",
    "    # Create KNN model with tuned hyperparameters\n",
    "    model = DecisionTreeClassifier(**hyperparams)\n",
    "    scores = cross_val_score(model, X_train_reduced,\n",
    "                             y_train, cv=kf, scoring='accuracy')\n",
    "    return np.mean(scores)"
   ]
  },
  {
   "cell_type": "code",
   "execution_count": 33,
   "id": "5f17247b",
   "metadata": {
    "execution": {
     "iopub.execute_input": "2024-02-24T02:37:28.603979Z",
     "iopub.status.busy": "2024-02-24T02:37:28.603560Z",
     "iopub.status.idle": "2024-02-24T02:37:48.211732Z",
     "shell.execute_reply": "2024-02-24T02:37:48.210022Z"
    },
    "papermill": {
     "duration": 19.681271,
     "end_time": "2024-02-24T02:37:48.214709",
     "exception": false,
     "start_time": "2024-02-24T02:37:28.533438",
     "status": "completed"
    },
    "tags": []
   },
   "outputs": [
    {
     "name": "stderr",
     "output_type": "stream",
     "text": [
      "[I 2024-02-24 02:37:28,608] A new study created in memory with name: no-name-ad281178-c7d4-4864-b8f0-038bd79bb0b3\n",
      "[I 2024-02-24 02:37:28,789] Trial 0 finished with value: 0.2 and parameters: {'max_depth': 4, 'min_samples_split': 4, 'min_samples_leaf': 1, 'criterion': 'entropy', 'random_state': 42}. Best is trial 0 with value: 0.2.\n",
      "[I 2024-02-24 02:37:28,958] Trial 1 finished with value: 0.34375 and parameters: {'max_depth': 5, 'min_samples_split': 6, 'min_samples_leaf': 7, 'criterion': 'entropy', 'random_state': 42}. Best is trial 1 with value: 0.34375.\n",
      "[I 2024-02-24 02:37:29,034] Trial 2 finished with value: 0.353125 and parameters: {'max_depth': 9, 'min_samples_split': 11, 'min_samples_leaf': 7, 'criterion': 'gini', 'random_state': 42}. Best is trial 2 with value: 0.353125.\n",
      "[I 2024-02-24 02:37:29,075] Trial 3 finished with value: 0.028125 and parameters: {'max_depth': 2, 'min_samples_split': 15, 'min_samples_leaf': 3, 'criterion': 'gini', 'random_state': 42}. Best is trial 2 with value: 0.353125.\n",
      "[I 2024-02-24 02:37:29,250] Trial 4 finished with value: 0.2 and parameters: {'max_depth': 4, 'min_samples_split': 3, 'min_samples_leaf': 4, 'criterion': 'entropy', 'random_state': 42}. Best is trial 2 with value: 0.353125.\n",
      "[I 2024-02-24 02:37:29,326] Trial 5 finished with value: 0.290625 and parameters: {'max_depth': 7, 'min_samples_split': 12, 'min_samples_leaf': 5, 'criterion': 'gini', 'random_state': 42}. Best is trial 2 with value: 0.353125.\n",
      "[I 2024-02-24 02:37:29,404] Trial 6 finished with value: 0.278125 and parameters: {'max_depth': 8, 'min_samples_split': 18, 'min_samples_leaf': 5, 'criterion': 'gini', 'random_state': 42}. Best is trial 2 with value: 0.353125.\n",
      "[I 2024-02-24 02:37:29,486] Trial 7 finished with value: 0.346875 and parameters: {'max_depth': 8, 'min_samples_split': 9, 'min_samples_leaf': 4, 'criterion': 'gini', 'random_state': 42}. Best is trial 2 with value: 0.353125.\n",
      "[I 2024-02-24 02:37:29,560] Trial 8 finished with value: 0.378125 and parameters: {'max_depth': 10, 'min_samples_split': 10, 'min_samples_leaf': 7, 'criterion': 'gini', 'random_state': 42}. Best is trial 8 with value: 0.378125.\n",
      "[I 2024-02-24 02:37:29,632] Trial 9 finished with value: 0.18125 and parameters: {'max_depth': 6, 'min_samples_split': 20, 'min_samples_leaf': 2, 'criterion': 'gini', 'random_state': 42}. Best is trial 8 with value: 0.378125.\n",
      "[I 2024-02-24 02:37:29,810] Trial 10 finished with value: 0.2625 and parameters: {'max_depth': 10, 'min_samples_split': 8, 'min_samples_leaf': 10, 'criterion': 'entropy', 'random_state': 42}. Best is trial 8 with value: 0.378125.\n",
      "[I 2024-02-24 02:37:29,904] Trial 11 finished with value: 0.34375 and parameters: {'max_depth': 10, 'min_samples_split': 12, 'min_samples_leaf': 8, 'criterion': 'gini', 'random_state': 42}. Best is trial 8 with value: 0.378125.\n",
      "[I 2024-02-24 02:37:30,000] Trial 12 finished with value: 0.353125 and parameters: {'max_depth': 9, 'min_samples_split': 14, 'min_samples_leaf': 7, 'criterion': 'gini', 'random_state': 42}. Best is trial 8 with value: 0.378125.\n",
      "[I 2024-02-24 02:37:30,091] Trial 13 finished with value: 0.3 and parameters: {'max_depth': 10, 'min_samples_split': 9, 'min_samples_leaf': 9, 'criterion': 'gini', 'random_state': 42}. Best is trial 8 with value: 0.378125.\n",
      "[I 2024-02-24 02:37:30,189] Trial 14 finished with value: 0.325 and parameters: {'max_depth': 8, 'min_samples_split': 15, 'min_samples_leaf': 7, 'criterion': 'gini', 'random_state': 42}. Best is trial 8 with value: 0.378125.\n",
      "[I 2024-02-24 02:37:30,292] Trial 15 finished with value: 0.34375 and parameters: {'max_depth': 9, 'min_samples_split': 8, 'min_samples_leaf': 6, 'criterion': 'gini', 'random_state': 42}. Best is trial 8 with value: 0.378125.\n",
      "[I 2024-02-24 02:37:30,382] Trial 16 finished with value: 0.278125 and parameters: {'max_depth': 7, 'min_samples_split': 11, 'min_samples_leaf': 9, 'criterion': 'gini', 'random_state': 42}. Best is trial 8 with value: 0.378125.\n",
      "[I 2024-02-24 02:37:30,485] Trial 17 finished with value: 0.34375 and parameters: {'max_depth': 9, 'min_samples_split': 5, 'min_samples_leaf': 6, 'criterion': 'gini', 'random_state': 42}. Best is trial 8 with value: 0.378125.\n",
      "[I 2024-02-24 02:37:30,672] Trial 18 finished with value: 0.340625 and parameters: {'max_depth': 7, 'min_samples_split': 11, 'min_samples_leaf': 8, 'criterion': 'entropy', 'random_state': 42}. Best is trial 8 with value: 0.378125.\n",
      "[I 2024-02-24 02:37:30,763] Trial 19 finished with value: 0.2625 and parameters: {'max_depth': 10, 'min_samples_split': 17, 'min_samples_leaf': 10, 'criterion': 'gini', 'random_state': 42}. Best is trial 8 with value: 0.378125.\n",
      "[I 2024-02-24 02:37:30,856] Trial 20 finished with value: 0.334375 and parameters: {'max_depth': 9, 'min_samples_split': 2, 'min_samples_leaf': 8, 'criterion': 'gini', 'random_state': 42}. Best is trial 8 with value: 0.378125.\n",
      "[I 2024-02-24 02:37:30,951] Trial 21 finished with value: 0.353125 and parameters: {'max_depth': 9, 'min_samples_split': 14, 'min_samples_leaf': 7, 'criterion': 'gini', 'random_state': 42}. Best is trial 8 with value: 0.378125.\n",
      "[I 2024-02-24 02:37:31,052] Trial 22 finished with value: 0.325 and parameters: {'max_depth': 8, 'min_samples_split': 13, 'min_samples_leaf': 6, 'criterion': 'gini', 'random_state': 42}. Best is trial 8 with value: 0.378125.\n",
      "[I 2024-02-24 02:37:31,150] Trial 23 finished with value: 0.353125 and parameters: {'max_depth': 9, 'min_samples_split': 10, 'min_samples_leaf': 7, 'criterion': 'gini', 'random_state': 42}. Best is trial 8 with value: 0.378125.\n",
      "[I 2024-02-24 02:37:31,247] Trial 24 finished with value: 0.3 and parameters: {'max_depth': 10, 'min_samples_split': 7, 'min_samples_leaf': 9, 'criterion': 'gini', 'random_state': 42}. Best is trial 8 with value: 0.378125.\n",
      "[I 2024-02-24 02:37:31,340] Trial 25 finished with value: 0.24375 and parameters: {'max_depth': 6, 'min_samples_split': 17, 'min_samples_leaf': 8, 'criterion': 'gini', 'random_state': 42}. Best is trial 8 with value: 0.378125.\n",
      "[I 2024-02-24 02:37:31,545] Trial 26 finished with value: 0.36875 and parameters: {'max_depth': 9, 'min_samples_split': 14, 'min_samples_leaf': 5, 'criterion': 'entropy', 'random_state': 42}. Best is trial 8 with value: 0.378125.\n",
      "[I 2024-02-24 02:37:31,696] Trial 27 finished with value: 0.025 and parameters: {'max_depth': 2, 'min_samples_split': 10, 'min_samples_leaf': 4, 'criterion': 'entropy', 'random_state': 42}. Best is trial 8 with value: 0.378125.\n",
      "[I 2024-02-24 02:37:31,908] Trial 28 finished with value: 0.40625 and parameters: {'max_depth': 8, 'min_samples_split': 13, 'min_samples_leaf': 3, 'criterion': 'entropy', 'random_state': 42}. Best is trial 28 with value: 0.40625.\n",
      "[I 2024-02-24 02:37:32,123] Trial 29 finished with value: 0.328125 and parameters: {'max_depth': 7, 'min_samples_split': 16, 'min_samples_leaf': 1, 'criterion': 'entropy', 'random_state': 42}. Best is trial 28 with value: 0.40625.\n",
      "[I 2024-02-24 02:37:32,334] Trial 30 finished with value: 0.278125 and parameters: {'max_depth': 8, 'min_samples_split': 19, 'min_samples_leaf': 3, 'criterion': 'entropy', 'random_state': 42}. Best is trial 28 with value: 0.40625.\n",
      "[I 2024-02-24 02:37:32,541] Trial 31 finished with value: 0.40625 and parameters: {'max_depth': 10, 'min_samples_split': 13, 'min_samples_leaf': 5, 'criterion': 'entropy', 'random_state': 42}. Best is trial 28 with value: 0.40625.\n",
      "[I 2024-02-24 02:37:32,744] Trial 32 finished with value: 0.40625 and parameters: {'max_depth': 10, 'min_samples_split': 13, 'min_samples_leaf': 5, 'criterion': 'entropy', 'random_state': 42}. Best is trial 28 with value: 0.40625.\n",
      "[I 2024-02-24 02:37:32,954] Trial 33 finished with value: 0.40625 and parameters: {'max_depth': 10, 'min_samples_split': 13, 'min_samples_leaf': 3, 'criterion': 'entropy', 'random_state': 42}. Best is trial 28 with value: 0.40625.\n",
      "[I 2024-02-24 02:37:33,169] Trial 34 finished with value: 0.40625 and parameters: {'max_depth': 10, 'min_samples_split': 13, 'min_samples_leaf': 3, 'criterion': 'entropy', 'random_state': 42}. Best is trial 28 with value: 0.40625.\n",
      "[I 2024-02-24 02:37:33,384] Trial 35 finished with value: 0.34375 and parameters: {'max_depth': 5, 'min_samples_split': 13, 'min_samples_leaf': 2, 'criterion': 'entropy', 'random_state': 42}. Best is trial 28 with value: 0.40625.\n",
      "[I 2024-02-24 02:37:33,596] Trial 36 finished with value: 0.353125 and parameters: {'max_depth': 10, 'min_samples_split': 15, 'min_samples_leaf': 2, 'criterion': 'entropy', 'random_state': 42}. Best is trial 28 with value: 0.40625.\n",
      "[I 2024-02-24 02:37:33,774] Trial 37 finished with value: 0.075 and parameters: {'max_depth': 3, 'min_samples_split': 12, 'min_samples_leaf': 3, 'criterion': 'entropy', 'random_state': 42}. Best is trial 28 with value: 0.40625.\n",
      "[I 2024-02-24 02:37:33,984] Trial 38 finished with value: 0.41875 and parameters: {'max_depth': 8, 'min_samples_split': 12, 'min_samples_leaf': 4, 'criterion': 'entropy', 'random_state': 42}. Best is trial 38 with value: 0.41875.\n",
      "[I 2024-02-24 02:37:34,188] Trial 39 finished with value: 0.309375 and parameters: {'max_depth': 5, 'min_samples_split': 16, 'min_samples_leaf': 4, 'criterion': 'entropy', 'random_state': 42}. Best is trial 38 with value: 0.41875.\n",
      "[I 2024-02-24 02:37:34,396] Trial 40 finished with value: 0.421875 and parameters: {'max_depth': 6, 'min_samples_split': 12, 'min_samples_leaf': 5, 'criterion': 'entropy', 'random_state': 42}. Best is trial 40 with value: 0.421875.\n",
      "[I 2024-02-24 02:37:34,602] Trial 41 finished with value: 0.421875 and parameters: {'max_depth': 6, 'min_samples_split': 12, 'min_samples_leaf': 5, 'criterion': 'entropy', 'random_state': 42}. Best is trial 40 with value: 0.421875.\n",
      "[I 2024-02-24 02:37:34,816] Trial 42 finished with value: 0.4375 and parameters: {'max_depth': 6, 'min_samples_split': 11, 'min_samples_leaf': 4, 'criterion': 'entropy', 'random_state': 42}. Best is trial 42 with value: 0.4375.\n",
      "[I 2024-02-24 02:37:35,029] Trial 43 finished with value: 0.4375 and parameters: {'max_depth': 6, 'min_samples_split': 11, 'min_samples_leaf': 4, 'criterion': 'entropy', 'random_state': 42}. Best is trial 42 with value: 0.4375.\n",
      "[I 2024-02-24 02:37:35,243] Trial 44 finished with value: 0.4375 and parameters: {'max_depth': 6, 'min_samples_split': 11, 'min_samples_leaf': 4, 'criterion': 'entropy', 'random_state': 42}. Best is trial 42 with value: 0.4375.\n",
      "[I 2024-02-24 02:37:35,482] Trial 45 finished with value: 0.45625 and parameters: {'max_depth': 6, 'min_samples_split': 9, 'min_samples_leaf': 4, 'criterion': 'entropy', 'random_state': 42}. Best is trial 45 with value: 0.45625.\n",
      "[I 2024-02-24 02:37:35,698] Trial 46 finished with value: 0.45625 and parameters: {'max_depth': 6, 'min_samples_split': 9, 'min_samples_leaf': 4, 'criterion': 'entropy', 'random_state': 42}. Best is trial 45 with value: 0.45625.\n",
      "[I 2024-02-24 02:37:35,897] Trial 47 finished with value: 0.2 and parameters: {'max_depth': 4, 'min_samples_split': 9, 'min_samples_leaf': 4, 'criterion': 'entropy', 'random_state': 42}. Best is trial 45 with value: 0.45625.\n",
      "[I 2024-02-24 02:37:36,109] Trial 48 finished with value: 0.371875 and parameters: {'max_depth': 5, 'min_samples_split': 7, 'min_samples_leaf': 4, 'criterion': 'entropy', 'random_state': 42}. Best is trial 45 with value: 0.45625.\n",
      "[I 2024-02-24 02:37:36,327] Trial 49 finished with value: 0.471875 and parameters: {'max_depth': 6, 'min_samples_split': 8, 'min_samples_leaf': 4, 'criterion': 'entropy', 'random_state': 42}. Best is trial 49 with value: 0.471875.\n",
      "[I 2024-02-24 02:37:36,556] Trial 50 finished with value: 0.48125 and parameters: {'max_depth': 7, 'min_samples_split': 8, 'min_samples_leaf': 2, 'criterion': 'entropy', 'random_state': 42}. Best is trial 50 with value: 0.48125.\n",
      "[I 2024-02-24 02:37:36,794] Trial 51 finished with value: 0.5375 and parameters: {'max_depth': 7, 'min_samples_split': 6, 'min_samples_leaf': 1, 'criterion': 'entropy', 'random_state': 42}. Best is trial 51 with value: 0.5375.\n",
      "[I 2024-02-24 02:37:37,032] Trial 52 finished with value: 0.5375 and parameters: {'max_depth': 7, 'min_samples_split': 6, 'min_samples_leaf': 1, 'criterion': 'entropy', 'random_state': 42}. Best is trial 51 with value: 0.5375.\n",
      "[I 2024-02-24 02:37:37,270] Trial 53 finished with value: 0.559375 and parameters: {'max_depth': 7, 'min_samples_split': 5, 'min_samples_leaf': 1, 'criterion': 'entropy', 'random_state': 42}. Best is trial 53 with value: 0.559375.\n",
      "[I 2024-02-24 02:37:37,513] Trial 54 finished with value: 0.559375 and parameters: {'max_depth': 7, 'min_samples_split': 5, 'min_samples_leaf': 1, 'criterion': 'entropy', 'random_state': 42}. Best is trial 53 with value: 0.559375.\n",
      "[I 2024-02-24 02:37:37,751] Trial 55 finished with value: 0.540625 and parameters: {'max_depth': 7, 'min_samples_split': 4, 'min_samples_leaf': 1, 'criterion': 'entropy', 'random_state': 42}. Best is trial 53 with value: 0.559375.\n",
      "[I 2024-02-24 02:37:37,989] Trial 56 finished with value: 0.540625 and parameters: {'max_depth': 7, 'min_samples_split': 4, 'min_samples_leaf': 1, 'criterion': 'entropy', 'random_state': 42}. Best is trial 53 with value: 0.559375.\n",
      "[I 2024-02-24 02:37:38,232] Trial 57 finished with value: 0.540625 and parameters: {'max_depth': 7, 'min_samples_split': 4, 'min_samples_leaf': 1, 'criterion': 'entropy', 'random_state': 42}. Best is trial 53 with value: 0.559375.\n",
      "[I 2024-02-24 02:37:38,474] Trial 58 finished with value: 0.540625 and parameters: {'max_depth': 7, 'min_samples_split': 4, 'min_samples_leaf': 1, 'criterion': 'entropy', 'random_state': 42}. Best is trial 53 with value: 0.559375.\n",
      "[I 2024-02-24 02:37:38,713] Trial 59 finished with value: 0.540625 and parameters: {'max_depth': 7, 'min_samples_split': 4, 'min_samples_leaf': 1, 'criterion': 'entropy', 'random_state': 42}. Best is trial 53 with value: 0.559375.\n",
      "[I 2024-02-24 02:37:38,944] Trial 60 finished with value: 0.509375 and parameters: {'max_depth': 7, 'min_samples_split': 3, 'min_samples_leaf': 2, 'criterion': 'entropy', 'random_state': 42}. Best is trial 53 with value: 0.559375.\n",
      "[I 2024-02-24 02:37:39,181] Trial 61 finished with value: 0.540625 and parameters: {'max_depth': 7, 'min_samples_split': 4, 'min_samples_leaf': 1, 'criterion': 'entropy', 'random_state': 42}. Best is trial 53 with value: 0.559375.\n",
      "[I 2024-02-24 02:37:39,426] Trial 62 finished with value: 0.5375 and parameters: {'max_depth': 8, 'min_samples_split': 4, 'min_samples_leaf': 1, 'criterion': 'entropy', 'random_state': 42}. Best is trial 53 with value: 0.559375.\n",
      "[I 2024-02-24 02:37:39,670] Trial 63 finished with value: 0.509375 and parameters: {'max_depth': 7, 'min_samples_split': 2, 'min_samples_leaf': 1, 'criterion': 'entropy', 'random_state': 42}. Best is trial 53 with value: 0.559375.\n",
      "[I 2024-02-24 02:37:39,904] Trial 64 finished with value: 0.521875 and parameters: {'max_depth': 8, 'min_samples_split': 5, 'min_samples_leaf': 2, 'criterion': 'entropy', 'random_state': 42}. Best is trial 53 with value: 0.559375.\n",
      "[I 2024-02-24 02:37:40,142] Trial 65 finished with value: 0.521875 and parameters: {'max_depth': 7, 'min_samples_split': 3, 'min_samples_leaf': 1, 'criterion': 'entropy', 'random_state': 42}. Best is trial 53 with value: 0.559375.\n",
      "[I 2024-02-24 02:37:40,380] Trial 66 finished with value: 0.540625 and parameters: {'max_depth': 7, 'min_samples_split': 4, 'min_samples_leaf': 1, 'criterion': 'entropy', 'random_state': 42}. Best is trial 53 with value: 0.559375.\n",
      "[I 2024-02-24 02:37:40,611] Trial 67 finished with value: 0.521875 and parameters: {'max_depth': 8, 'min_samples_split': 5, 'min_samples_leaf': 2, 'criterion': 'entropy', 'random_state': 42}. Best is trial 53 with value: 0.559375.\n",
      "[I 2024-02-24 02:37:40,848] Trial 68 finished with value: 0.51875 and parameters: {'max_depth': 8, 'min_samples_split': 3, 'min_samples_leaf': 1, 'criterion': 'entropy', 'random_state': 42}. Best is trial 53 with value: 0.559375.\n",
      "[I 2024-02-24 02:37:41,081] Trial 69 finished with value: 0.509375 and parameters: {'max_depth': 7, 'min_samples_split': 2, 'min_samples_leaf': 2, 'criterion': 'entropy', 'random_state': 42}. Best is trial 53 with value: 0.559375.\n",
      "[I 2024-02-24 02:37:41,321] Trial 70 finished with value: 0.559375 and parameters: {'max_depth': 7, 'min_samples_split': 5, 'min_samples_leaf': 1, 'criterion': 'entropy', 'random_state': 42}. Best is trial 53 with value: 0.559375.\n",
      "[I 2024-02-24 02:37:41,565] Trial 71 finished with value: 0.559375 and parameters: {'max_depth': 7, 'min_samples_split': 5, 'min_samples_leaf': 1, 'criterion': 'entropy', 'random_state': 42}. Best is trial 53 with value: 0.559375.\n",
      "[I 2024-02-24 02:37:41,804] Trial 72 finished with value: 0.559375 and parameters: {'max_depth': 7, 'min_samples_split': 5, 'min_samples_leaf': 1, 'criterion': 'entropy', 'random_state': 42}. Best is trial 53 with value: 0.559375.\n",
      "[I 2024-02-24 02:37:42,034] Trial 73 finished with value: 0.525 and parameters: {'max_depth': 7, 'min_samples_split': 5, 'min_samples_leaf': 2, 'criterion': 'entropy', 'random_state': 42}. Best is trial 53 with value: 0.559375.\n",
      "[I 2024-02-24 02:37:42,272] Trial 74 finished with value: 0.5375 and parameters: {'max_depth': 7, 'min_samples_split': 6, 'min_samples_leaf': 1, 'criterion': 'entropy', 'random_state': 42}. Best is trial 53 with value: 0.559375.\n",
      "[I 2024-02-24 02:37:42,506] Trial 75 finished with value: 0.496875 and parameters: {'max_depth': 8, 'min_samples_split': 7, 'min_samples_leaf': 1, 'criterion': 'entropy', 'random_state': 42}. Best is trial 53 with value: 0.559375.\n",
      "[I 2024-02-24 02:37:42,737] Trial 76 finished with value: 0.521875 and parameters: {'max_depth': 8, 'min_samples_split': 5, 'min_samples_leaf': 2, 'criterion': 'entropy', 'random_state': 42}. Best is trial 53 with value: 0.559375.\n",
      "[I 2024-02-24 02:37:42,974] Trial 77 finished with value: 0.53125 and parameters: {'max_depth': 6, 'min_samples_split': 3, 'min_samples_leaf': 1, 'criterion': 'entropy', 'random_state': 42}. Best is trial 53 with value: 0.559375.\n",
      "[I 2024-02-24 02:37:43,208] Trial 78 finished with value: 0.525 and parameters: {'max_depth': 7, 'min_samples_split': 5, 'min_samples_leaf': 2, 'criterion': 'entropy', 'random_state': 42}. Best is trial 53 with value: 0.559375.\n",
      "[I 2024-02-24 02:37:43,446] Trial 79 finished with value: 0.5375 and parameters: {'max_depth': 7, 'min_samples_split': 6, 'min_samples_leaf': 1, 'criterion': 'entropy', 'random_state': 42}. Best is trial 53 with value: 0.559375.\n",
      "[I 2024-02-24 02:37:43,682] Trial 80 finished with value: 0.54375 and parameters: {'max_depth': 8, 'min_samples_split': 6, 'min_samples_leaf': 1, 'criterion': 'entropy', 'random_state': 42}. Best is trial 53 with value: 0.559375.\n",
      "[I 2024-02-24 02:37:43,922] Trial 81 finished with value: 0.54375 and parameters: {'max_depth': 8, 'min_samples_split': 6, 'min_samples_leaf': 1, 'criterion': 'entropy', 'random_state': 42}. Best is trial 53 with value: 0.559375.\n",
      "[I 2024-02-24 02:37:44,164] Trial 82 finished with value: 0.54375 and parameters: {'max_depth': 8, 'min_samples_split': 6, 'min_samples_leaf': 1, 'criterion': 'entropy', 'random_state': 42}. Best is trial 53 with value: 0.559375.\n",
      "[I 2024-02-24 02:37:44,397] Trial 83 finished with value: 0.484375 and parameters: {'max_depth': 9, 'min_samples_split': 7, 'min_samples_leaf': 2, 'criterion': 'entropy', 'random_state': 42}. Best is trial 53 with value: 0.559375.\n",
      "[I 2024-02-24 02:37:44,639] Trial 84 finished with value: 0.54375 and parameters: {'max_depth': 8, 'min_samples_split': 6, 'min_samples_leaf': 1, 'criterion': 'entropy', 'random_state': 42}. Best is trial 53 with value: 0.559375.\n",
      "[I 2024-02-24 02:37:44,877] Trial 85 finished with value: 0.496875 and parameters: {'max_depth': 8, 'min_samples_split': 7, 'min_samples_leaf': 1, 'criterion': 'entropy', 'random_state': 42}. Best is trial 53 with value: 0.559375.\n",
      "[I 2024-02-24 02:37:45,113] Trial 86 finished with value: 0.515625 and parameters: {'max_depth': 8, 'min_samples_split': 6, 'min_samples_leaf': 2, 'criterion': 'entropy', 'random_state': 42}. Best is trial 53 with value: 0.559375.\n",
      "[I 2024-02-24 02:37:45,353] Trial 87 finished with value: 0.521875 and parameters: {'max_depth': 9, 'min_samples_split': 5, 'min_samples_leaf': 2, 'criterion': 'entropy', 'random_state': 42}. Best is trial 53 with value: 0.559375.\n",
      "[I 2024-02-24 02:37:45,618] Trial 88 finished with value: 0.54375 and parameters: {'max_depth': 8, 'min_samples_split': 6, 'min_samples_leaf': 1, 'criterion': 'entropy', 'random_state': 42}. Best is trial 53 with value: 0.559375.\n",
      "[I 2024-02-24 02:37:45,741] Trial 89 finished with value: 0.421875 and parameters: {'max_depth': 9, 'min_samples_split': 7, 'min_samples_leaf': 1, 'criterion': 'gini', 'random_state': 42}. Best is trial 53 with value: 0.559375.\n",
      "[I 2024-02-24 02:37:45,976] Trial 90 finished with value: 0.521875 and parameters: {'max_depth': 8, 'min_samples_split': 5, 'min_samples_leaf': 2, 'criterion': 'entropy', 'random_state': 42}. Best is trial 53 with value: 0.559375.\n",
      "[I 2024-02-24 02:37:46,221] Trial 91 finished with value: 0.54375 and parameters: {'max_depth': 8, 'min_samples_split': 6, 'min_samples_leaf': 1, 'criterion': 'entropy', 'random_state': 42}. Best is trial 53 with value: 0.559375.\n",
      "[I 2024-02-24 02:37:46,465] Trial 92 finished with value: 0.54375 and parameters: {'max_depth': 8, 'min_samples_split': 6, 'min_samples_leaf': 1, 'criterion': 'entropy', 'random_state': 42}. Best is trial 53 with value: 0.559375.\n",
      "[I 2024-02-24 02:37:46,706] Trial 93 finished with value: 0.49375 and parameters: {'max_depth': 8, 'min_samples_split': 8, 'min_samples_leaf': 1, 'criterion': 'entropy', 'random_state': 42}. Best is trial 53 with value: 0.559375.\n",
      "[I 2024-02-24 02:37:46,947] Trial 94 finished with value: 0.54375 and parameters: {'max_depth': 9, 'min_samples_split': 6, 'min_samples_leaf': 1, 'criterion': 'entropy', 'random_state': 42}. Best is trial 53 with value: 0.559375.\n",
      "[I 2024-02-24 02:37:47,191] Trial 95 finished with value: 0.553125 and parameters: {'max_depth': 8, 'min_samples_split': 5, 'min_samples_leaf': 1, 'criterion': 'entropy', 'random_state': 42}. Best is trial 53 with value: 0.559375.\n",
      "[I 2024-02-24 02:37:47,434] Trial 96 finished with value: 0.553125 and parameters: {'max_depth': 8, 'min_samples_split': 5, 'min_samples_leaf': 1, 'criterion': 'entropy', 'random_state': 42}. Best is trial 53 with value: 0.559375.\n",
      "[I 2024-02-24 02:37:47,665] Trial 97 finished with value: 0.521875 and parameters: {'max_depth': 9, 'min_samples_split': 5, 'min_samples_leaf': 2, 'criterion': 'entropy', 'random_state': 42}. Best is trial 53 with value: 0.559375.\n",
      "[I 2024-02-24 02:37:47,910] Trial 98 finished with value: 0.553125 and parameters: {'max_depth': 8, 'min_samples_split': 5, 'min_samples_leaf': 1, 'criterion': 'entropy', 'random_state': 42}. Best is trial 53 with value: 0.559375.\n",
      "[I 2024-02-24 02:37:48,146] Trial 99 finished with value: 0.521875 and parameters: {'max_depth': 8, 'min_samples_split': 5, 'min_samples_leaf': 2, 'criterion': 'entropy', 'random_state': 42}. Best is trial 53 with value: 0.559375.\n"
     ]
    },
    {
     "name": "stdout",
     "output_type": "stream",
     "text": [
      "Best params found : {'max_depth': 7, 'min_samples_split': 5, 'min_samples_leaf': 1, 'criterion': 'entropy', 'random_state': 42}\n",
      "accuracy: 0.7\n",
      "recall: 0.6801801801801801\n",
      "precision: 0.6662162162162162\n",
      "f1-score: 0.6376233376233377\n"
     ]
    }
   ],
   "source": [
    "study = optuna.create_study(direction='maximize')\n",
    "study.optimize(objective, n_trials=100)\n",
    "best_params = study.best_params\n",
    "print(\"Best params found :\", best_params)\n",
    "\n",
    "final_model = DecisionTreeClassifier(**best_params)\n",
    "final_model.fit(X_train_reduced, y_train)\n",
    "y_pred = final_model.predict(X_test_reduced)\n",
    "prediction_results['decison tree'] = list(y_pred)\n",
    "\n",
    "accuracy = accuracy_score(y_test, y_pred)\n",
    "precision = precision_score(y_test, y_pred, average='macro')\n",
    "recall = recall_score(y_test, y_pred, average='macro')\n",
    "f1 = f1_score(y_test, y_pred, average='macro')\n",
    "\n",
    "# One-hot encoding for probability calculation (adapt if necessary)\n",
    "# Assuming 'label_' prefix for clarity\n",
    "# y_test_onehot = pd.get_dummies(y_test, prefix='label_')\n",
    "# y_pred_onehot = pd.get_dummies(y_pred, prefix='label_')\n",
    "\n",
    "# # ROC AUC score with multiclass handling\n",
    "# roc_auc_macro = roc_auc_score(y_test_onehot, y_pred_onehot,\n",
    "#                               average='macro', multi_class='ovo')  # Specify 'ovo' or 'ovr'\n",
    "\n",
    "print(\"accuracy:\", accuracy)\n",
    "print(\"recall:\", recall)\n",
    "print(\"precision:\", precision)\n",
    "print(\"f1-score:\", f1)\n"
   ]
  },
  {
   "cell_type": "markdown",
   "id": "008d8f59",
   "metadata": {
    "papermill": {
     "duration": 0.076913,
     "end_time": "2024-02-24T02:37:48.372783",
     "exception": false,
     "start_time": "2024-02-24T02:37:48.295870",
     "status": "completed"
    },
    "tags": []
   },
   "source": [
    "Tuning rồi lưu kết quả tuning vào bên dưới"
   ]
  },
  {
   "cell_type": "markdown",
   "id": "96cf1822",
   "metadata": {
    "papermill": {
     "duration": 0.076326,
     "end_time": "2024-02-24T02:37:48.526240",
     "exception": false,
     "start_time": "2024-02-24T02:37:48.449914",
     "status": "completed"
    },
    "tags": []
   },
   "source": [
    "Tuning rồi lưu kết quả tuning vào bên dưới"
   ]
  },
  {
   "cell_type": "code",
   "execution_count": 34,
   "id": "e32aae10",
   "metadata": {
    "execution": {
     "iopub.execute_input": "2024-02-24T02:37:48.681786Z",
     "iopub.status.busy": "2024-02-24T02:37:48.681302Z",
     "iopub.status.idle": "2024-02-24T02:37:48.687359Z",
     "shell.execute_reply": "2024-02-24T02:37:48.686081Z"
    },
    "papermill": {
     "duration": 0.087103,
     "end_time": "2024-02-24T02:37:48.690142",
     "exception": false,
     "start_time": "2024-02-24T02:37:48.603039",
     "status": "completed"
    },
    "tags": []
   },
   "outputs": [],
   "source": [
    "predictions['lr'] = list(y_pred)"
   ]
  },
  {
   "cell_type": "code",
   "execution_count": 35,
   "id": "52e2dac3",
   "metadata": {
    "execution": {
     "iopub.execute_input": "2024-02-24T02:37:48.854217Z",
     "iopub.status.busy": "2024-02-24T02:37:48.853344Z",
     "iopub.status.idle": "2024-02-24T02:37:48.859606Z",
     "shell.execute_reply": "2024-02-24T02:37:48.858599Z"
    },
    "papermill": {
     "duration": 0.091086,
     "end_time": "2024-02-24T02:37:48.861998",
     "exception": false,
     "start_time": "2024-02-24T02:37:48.770912",
     "status": "completed"
    },
    "tags": []
   },
   "outputs": [],
   "source": [
    "import json\n",
    "with open(\"/kaggle/working/predict.json\", \"w\") as json_file:\n",
    "    json.dump(predictions, json_file)"
   ]
  },
  {
   "cell_type": "code",
   "execution_count": 36,
   "id": "44cfe150",
   "metadata": {
    "execution": {
     "iopub.execute_input": "2024-02-24T02:37:49.022436Z",
     "iopub.status.busy": "2024-02-24T02:37:49.021998Z",
     "iopub.status.idle": "2024-02-24T02:37:49.027103Z",
     "shell.execute_reply": "2024-02-24T02:37:49.025996Z"
    },
    "papermill": {
     "duration": 0.087901,
     "end_time": "2024-02-24T02:37:49.029508",
     "exception": false,
     "start_time": "2024-02-24T02:37:48.941607",
     "status": "completed"
    },
    "tags": []
   },
   "outputs": [],
   "source": [
    "prediction = {}"
   ]
  }
 ],
 "metadata": {
  "kaggle": {
   "accelerator": "none",
   "dataSources": [
    {
     "datasetId": 4306985,
     "sourceId": 7405983,
     "sourceType": "datasetVersion"
    },
    {
     "datasetId": 4349100,
     "sourceId": 7470763,
     "sourceType": "datasetVersion"
    }
   ],
   "dockerImageVersionId": 30646,
   "isGpuEnabled": false,
   "isInternetEnabled": true,
   "language": "python",
   "sourceType": "notebook"
  },
  "kernelspec": {
   "display_name": "Python 3",
   "language": "python",
   "name": "python3"
  },
  "language_info": {
   "codemirror_mode": {
    "name": "ipython",
    "version": 3
   },
   "file_extension": ".py",
   "mimetype": "text/x-python",
   "name": "python",
   "nbconvert_exporter": "python",
   "pygments_lexer": "ipython3",
   "version": "3.10.13"
  },
  "papermill": {
   "default_parameters": {},
   "duration": 2144.478507,
   "end_time": "2024-02-24T02:37:51.737555",
   "environment_variables": {},
   "exception": null,
   "input_path": "__notebook__.ipynb",
   "output_path": "__notebook__.ipynb",
   "parameters": {},
   "start_time": "2024-02-24T02:02:07.259048",
   "version": "2.5.0"
  }
 },
 "nbformat": 4,
 "nbformat_minor": 5
}
