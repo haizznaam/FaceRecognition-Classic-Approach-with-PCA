{
 "cells": [
  {
   "cell_type": "code",
   "execution_count": 1,
   "id": "ef4f6c13",
   "metadata": {
    "_cell_guid": "b1076dfc-b9ad-4769-8c92-a6c4dae69d19",
    "_uuid": "8f2839f25d086af736a60e9eeb907d3b93b6e0e5",
    "execution": {
     "iopub.execute_input": "2024-02-26T10:15:26.918979Z",
     "iopub.status.busy": "2024-02-26T10:15:26.918203Z",
     "iopub.status.idle": "2024-02-26T10:15:29.164124Z",
     "shell.execute_reply": "2024-02-26T10:15:29.162837Z"
    },
    "papermill": {
     "duration": 2.268421,
     "end_time": "2024-02-26T10:15:29.167254",
     "exception": false,
     "start_time": "2024-02-26T10:15:26.898833",
     "status": "completed"
    },
    "tags": []
   },
   "outputs": [],
   "source": [
    "import os\n",
    "import numpy as np\n",
    "import pandas as pd\n",
    "from numpy.random import shuffle\n",
    "from sklearn.decomposition import SparsePCA\n",
    "from sklearn.model_selection import train_test_split\n",
    "from sklearn.model_selection import StratifiedKFold, cross_val_score\n",
    "from sklearn.metrics import accuracy_score, precision_score, recall_score, f1_score, roc_auc_score\n",
    "from sklearn.linear_model import LogisticRegression\n",
    "from sklearn.preprocessing import LabelBinarizer"
   ]
  },
  {
   "cell_type": "code",
   "execution_count": 2,
   "id": "877ab5c6",
   "metadata": {
    "execution": {
     "iopub.execute_input": "2024-02-26T10:15:29.204948Z",
     "iopub.status.busy": "2024-02-26T10:15:29.203979Z",
     "iopub.status.idle": "2024-02-26T10:15:29.669329Z",
     "shell.execute_reply": "2024-02-26T10:15:29.668113Z"
    },
    "papermill": {
     "duration": 0.486633,
     "end_time": "2024-02-26T10:15:29.671761",
     "exception": false,
     "start_time": "2024-02-26T10:15:29.185128",
     "status": "completed"
    },
    "tags": []
   },
   "outputs": [
    {
     "data": {
      "image/png": "[encoded data removed]",
      "text/plain": [
       "<Figure size 640x480 with 1 Axes>"
      ]
     },
     "metadata": {},
     "output_type": "display_data"
    }
   ],
   "source": [
    "import cv2\n",
    "import matplotlib.pyplot as plt\n",
    "\n",
    "def read_pgm(file_path):\n",
    "    return cv2.imread(file_path, cv2.IMREAD_GRAYSCALE)\n",
    "\n",
    "def show_image(image_data):\n",
    "    plt.imshow(image_data, cmap='gray')\n",
    "    plt.axis('off')  # Hide axis labels\n",
    "    plt.show()\n",
    "\n",
    "file_path = f'/kaggle/input/face-recognition-dataset/face_dataset/s1/1.pgm'\n",
    "image_data = read_pgm(file_path)\n",
    "show_image(image_data)"
   ]
  },
  {
   "cell_type": "code",
   "execution_count": 3,
   "id": "cb583823",
   "metadata": {
    "execution": {
     "iopub.execute_input": "2024-02-26T10:15:29.710017Z",
     "iopub.status.busy": "2024-02-26T10:15:29.709569Z",
     "iopub.status.idle": "2024-02-26T10:15:29.716758Z",
     "shell.execute_reply": "2024-02-26T10:15:29.715420Z"
    },
    "papermill": {
     "duration": 0.029205,
     "end_time": "2024-02-26T10:15:29.719173",
     "exception": false,
     "start_time": "2024-02-26T10:15:29.689968",
     "status": "completed"
    },
    "tags": []
   },
   "outputs": [
    {
     "data": {
      "text/plain": [
       "(112, 92)"
      ]
     },
     "execution_count": 3,
     "metadata": {},
     "output_type": "execute_result"
    }
   ],
   "source": [
    "image_data.shape"
   ]
  },
  {
   "cell_type": "code",
   "execution_count": 4,
   "id": "a795ec84",
   "metadata": {
    "execution": {
     "iopub.execute_input": "2024-02-26T10:15:29.759592Z",
     "iopub.status.busy": "2024-02-26T10:15:29.758787Z",
     "iopub.status.idle": "2024-02-26T10:15:29.769810Z",
     "shell.execute_reply": "2024-02-26T10:15:29.768503Z"
    },
    "papermill": {
     "duration": 0.034165,
     "end_time": "2024-02-26T10:15:29.772487",
     "exception": false,
     "start_time": "2024-02-26T10:15:29.738322",
     "status": "completed"
    },
    "tags": []
   },
   "outputs": [],
   "source": [
    "def get_data(path_data='/kaggle/input/face-recognition-dataset/face_dataset', test_size=0.2, is_shuffle=True):\n",
    "    folders = [f's{i+1}' for i in range(40)]\n",
    "    X, y = [], []\n",
    "\n",
    "    for i in range(1, 41):\n",
    "        path = path_data + f'/s{i}'\n",
    "        files = os.listdir(path)\n",
    "        num_files = len(files)\n",
    "\n",
    "        if is_shuffle:\n",
    "            files = shuffle(files)\n",
    "\n",
    "        for file in os.listdir(path):\n",
    "            path = path_data + f'/s{i}/' + file\n",
    "            image = cv2.imread(path, cv2.IMREAD_GRAYSCALE)\n",
    "            pixels = np.reshape(image, [1, image.shape[0] * image.shape[1]])\n",
    "            pixels = np.asarray(pixels)\n",
    "\n",
    "            if len(X) == 0:\n",
    "                X = pixels\n",
    "            else:\n",
    "                X = np.vstack([X, pixels])\n",
    "            y.append(f's{i}')\n",
    "\n",
    "    return X, np.asarray(y)"
   ]
  },
  {
   "cell_type": "code",
   "execution_count": 5,
   "id": "25c8cd48",
   "metadata": {
    "execution": {
     "iopub.execute_input": "2024-02-26T10:15:29.811005Z",
     "iopub.status.busy": "2024-02-26T10:15:29.810561Z",
     "iopub.status.idle": "2024-02-26T10:15:32.158897Z",
     "shell.execute_reply": "2024-02-26T10:15:32.157439Z"
    },
    "papermill": {
     "duration": 2.37096,
     "end_time": "2024-02-26T10:15:32.161740",
     "exception": false,
     "start_time": "2024-02-26T10:15:29.790780",
     "status": "completed"
    },
    "tags": []
   },
   "outputs": [],
   "source": [
    "X, y = get_data()\n",
    "X_train, X_test, y_train, y_test = train_test_split(X, y, test_size=0.2, random_state=42)"
   ]
  },
  {
   "cell_type": "code",
   "execution_count": 6,
   "id": "d02b008e",
   "metadata": {
    "execution": {
     "iopub.execute_input": "2024-02-26T10:15:32.202316Z",
     "iopub.status.busy": "2024-02-26T10:15:32.201877Z",
     "iopub.status.idle": "2024-02-26T10:19:55.168176Z",
     "shell.execute_reply": "2024-02-26T10:19:55.166211Z"
    },
    "papermill": {
     "duration": 262.99146,
     "end_time": "2024-02-26T10:19:55.172814",
     "exception": false,
     "start_time": "2024-02-26T10:15:32.181354",
     "status": "completed"
    },
    "tags": []
   },
   "outputs": [],
   "source": [
    "n_components_pca = 50\n",
    "pca = SparsePCA(n_components=n_components_pca,\n",
    "                random_state=42, alpha=0.01)\n",
    "X_train_reduced = pca.fit_transform(X_train)\n",
    "X_test_reduced = pca.transform(X_test)"
   ]
  },
  {
   "cell_type": "code",
   "execution_count": 7,
   "id": "57ab98c4",
   "metadata": {
    "execution": {
     "iopub.execute_input": "2024-02-26T10:19:55.299578Z",
     "iopub.status.busy": "2024-02-26T10:19:55.299188Z",
     "iopub.status.idle": "2024-02-26T10:19:55.304512Z",
     "shell.execute_reply": "2024-02-26T10:19:55.303359Z"
    },
    "papermill": {
     "duration": 0.039284,
     "end_time": "2024-02-26T10:19:55.307050",
     "exception": false,
     "start_time": "2024-02-26T10:19:55.267766",
     "status": "completed"
    },
    "tags": []
   },
   "outputs": [],
   "source": [
    "predictions = {}"
   ]
  },
  {
   "cell_type": "markdown",
   "id": "b64813ce",
   "metadata": {
    "papermill": {
     "duration": 0.017645,
     "end_time": "2024-02-26T10:19:55.342543",
     "exception": false,
     "start_time": "2024-02-26T10:19:55.324898",
     "status": "completed"
    },
    "tags": []
   },
   "source": [
    "# Euclidean"
   ]
  },
  {
   "cell_type": "code",
   "execution_count": 8,
   "id": "33053389",
   "metadata": {
    "execution": {
     "iopub.execute_input": "2024-02-26T10:19:55.380340Z",
     "iopub.status.busy": "2024-02-26T10:19:55.379929Z",
     "iopub.status.idle": "2024-02-26T10:19:55.392402Z",
     "shell.execute_reply": "2024-02-26T10:19:55.391098Z"
    },
    "papermill": {
     "duration": 0.034186,
     "end_time": "2024-02-26T10:19:55.395007",
     "exception": false,
     "start_time": "2024-02-26T10:19:55.360821",
     "status": "completed"
    },
    "tags": []
   },
   "outputs": [],
   "source": [
    "y_pred = []\n",
    "for i in range(80):\n",
    "    min_ = np.argmin(np.sqrt(np.sum((X_train_reduced - X_test_reduced[i])**2,axis=1)))\n",
    "    y_pred.append(y_train[min_])"
   ]
  },
  {
   "cell_type": "code",
   "execution_count": 9,
   "id": "26970cb1",
   "metadata": {
    "execution": {
     "iopub.execute_input": "2024-02-26T10:19:55.432891Z",
     "iopub.status.busy": "2024-02-26T10:19:55.432472Z",
     "iopub.status.idle": "2024-02-26T10:19:55.437627Z",
     "shell.execute_reply": "2024-02-26T10:19:55.436505Z"
    },
    "papermill": {
     "duration": 0.026731,
     "end_time": "2024-02-26T10:19:55.439943",
     "exception": false,
     "start_time": "2024-02-26T10:19:55.413212",
     "status": "completed"
    },
    "tags": []
   },
   "outputs": [],
   "source": [
    "predictions['euclidean'] = y_pred"
   ]
  },
  {
   "cell_type": "code",
   "execution_count": 10,
   "id": "05f4ae53",
   "metadata": {
    "execution": {
     "iopub.execute_input": "2024-02-26T10:19:55.477856Z",
     "iopub.status.busy": "2024-02-26T10:19:55.477430Z",
     "iopub.status.idle": "2024-02-26T10:19:55.483134Z",
     "shell.execute_reply": "2024-02-26T10:19:55.481965Z"
    },
    "papermill": {
     "duration": 0.02734,
     "end_time": "2024-02-26T10:19:55.485604",
     "exception": false,
     "start_time": "2024-02-26T10:19:55.458264",
     "status": "completed"
    },
    "tags": []
   },
   "outputs": [],
   "source": [
    "from sklearn.model_selection import KFold\n",
    "n_splits = 5\n",
    "kf = KFold(n_splits=n_splits, shuffle=True, random_state=42)"
   ]
  },
  {
   "cell_type": "markdown",
   "id": "aa41dc4d",
   "metadata": {
    "papermill": {
     "duration": 0.018217,
     "end_time": "2024-02-26T10:19:55.522682",
     "exception": false,
     "start_time": "2024-02-26T10:19:55.504465",
     "status": "completed"
    },
    "tags": []
   },
   "source": [
    "****"
   ]
  },
  {
   "cell_type": "markdown",
   "id": "5ccf5101",
   "metadata": {
    "papermill": {
     "duration": 0.017422,
     "end_time": "2024-02-26T10:19:55.558741",
     "exception": false,
     "start_time": "2024-02-26T10:19:55.541319",
     "status": "completed"
    },
    "tags": []
   },
   "source": [
    "**Chọn trường hợp accuracy của logistic model khác 1**"
   ]
  },
  {
   "cell_type": "code",
   "execution_count": 11,
   "id": "b7190431",
   "metadata": {
    "execution": {
     "iopub.execute_input": "2024-02-26T10:19:55.596589Z",
     "iopub.status.busy": "2024-02-26T10:19:55.596154Z",
     "iopub.status.idle": "2024-02-26T10:19:55.918374Z",
     "shell.execute_reply": "2024-02-26T10:19:55.916678Z"
    },
    "papermill": {
     "duration": 0.351609,
     "end_time": "2024-02-26T10:19:55.928056",
     "exception": false,
     "start_time": "2024-02-26T10:19:55.576447",
     "status": "completed"
    },
    "tags": []
   },
   "outputs": [
    {
     "name": "stdout",
     "output_type": "stream",
     "text": [
      "accuracy: 1.0\n",
      "recall: 1.0\n",
      "precision: 1.0\n",
      "f1-score: 1.0\n",
      "roc_auc:  1.0\n"
     ]
    },
    {
     "name": "stderr",
     "output_type": "stream",
     "text": [
      "/opt/conda/lib/python3.10/site-packages/sklearn/linear_model/_logistic.py:458: ConvergenceWarning: lbfgs failed to converge (status=1):\n",
      "STOP: TOTAL NO. of ITERATIONS REACHED LIMIT.\n",
      "\n",
      "Increase the number of iterations (max_iter) or scale the data as shown in:\n",
      "    https://scikit-learn.org/stable/modules/preprocessing.html\n",
      "Please also refer to the documentation for alternative solver options:\n",
      "    https://scikit-learn.org/stable/modules/linear_model.html#logistic-regression\n",
      "  n_iter_i = _check_optimize_result(\n"
     ]
    }
   ],
   "source": [
    "lr = LogisticRegression()\n",
    "lr.fit(X_train_reduced, y_train)\n",
    "y_pred = lr.predict(X_test_reduced)\n",
    "\n",
    "accuracy = accuracy_score(y_test, y_pred)\n",
    "precision = precision_score(y_test, y_pred, average='macro')\n",
    "recall = recall_score(y_test, y_pred, average='macro')\n",
    "f1 = f1_score(y_test, y_pred, average='macro')\n",
    "\n",
    "# Fit a label binarizer to get all possible classes\n",
    "label_binarizer = LabelBinarizer()\n",
    "label_binarizer.fit(y_test)\n",
    "\n",
    "# Transform y_test and y_pred to one-hot encoding with the same set of columns\n",
    "y_test_onehot = pd.DataFrame(label_binarizer.transform(\n",
    "    y_test), columns=label_binarizer.classes_)\n",
    "y_pred_onehot = pd.DataFrame(label_binarizer.transform(\n",
    "    y_pred), columns=label_binarizer.classes_)\n",
    "\n",
    "# Ensure both sets have the same columns\n",
    "all_columns = set(y_test_onehot.columns).union(set(y_pred_onehot.columns))\n",
    "y_test_onehot = y_test_onehot.reindex(columns=all_columns, fill_value=0)\n",
    "y_pred_onehot = y_pred_onehot.reindex(columns=all_columns, fill_value=0)\n",
    "\n",
    "# ROC AUC score with multiclass handling\n",
    "roc_auc_macro = roc_auc_score(\n",
    "    y_test_onehot, y_pred_onehot, average='macro', multi_class='ovo')\n",
    "\n",
    "print(\"accuracy:\", accuracy)\n",
    "print(\"recall:\", recall)\n",
    "print(\"precision:\", precision)\n",
    "print(\"f1-score:\", f1)\n",
    "print('roc_auc: ', roc_auc_macro)"
   ]
  },
  {
   "cell_type": "markdown",
   "id": "135f2760",
   "metadata": {
    "papermill": {
     "duration": 0.018028,
     "end_time": "2024-02-26T10:19:55.973336",
     "exception": false,
     "start_time": "2024-02-26T10:19:55.955308",
     "status": "completed"
    },
    "tags": []
   },
   "source": [
    "# Random Forest"
   ]
  },
  {
   "cell_type": "code",
   "execution_count": 12,
   "id": "06229deb",
   "metadata": {
    "execution": {
     "iopub.execute_input": "2024-02-26T10:19:56.011482Z",
     "iopub.status.busy": "2024-02-26T10:19:56.011057Z",
     "iopub.status.idle": "2024-02-26T10:19:56.015952Z",
     "shell.execute_reply": "2024-02-26T10:19:56.015064Z"
    },
    "papermill": {
     "duration": 0.026596,
     "end_time": "2024-02-26T10:19:56.018041",
     "exception": false,
     "start_time": "2024-02-26T10:19:55.991445",
     "status": "completed"
    },
    "tags": []
   },
   "outputs": [],
   "source": [
    "prediction_results = {}"
   ]
  },
  {
   "cell_type": "code",
   "execution_count": 13,
   "id": "2382a536",
   "metadata": {
    "execution": {
     "iopub.execute_input": "2024-02-26T10:19:56.056916Z",
     "iopub.status.busy": "2024-02-26T10:19:56.056085Z",
     "iopub.status.idle": "2024-02-26T10:19:56.188591Z",
     "shell.execute_reply": "2024-02-26T10:19:56.187447Z"
    },
    "papermill": {
     "duration": 0.154937,
     "end_time": "2024-02-26T10:19:56.191386",
     "exception": false,
     "start_time": "2024-02-26T10:19:56.036449",
     "status": "completed"
    },
    "tags": []
   },
   "outputs": [],
   "source": [
    "from sklearn.ensemble import RandomForestClassifier\n",
    "from sklearn.metrics import accuracy_score"
   ]
  },
  {
   "cell_type": "markdown",
   "id": "2a14c4b4",
   "metadata": {
    "papermill": {
     "duration": 0.017523,
     "end_time": "2024-02-26T10:19:56.227286",
     "exception": false,
     "start_time": "2024-02-26T10:19:56.209763",
     "status": "completed"
    },
    "tags": []
   },
   "source": [
    "**Normal**"
   ]
  },
  {
   "cell_type": "code",
   "execution_count": 14,
   "id": "372e74ef",
   "metadata": {
    "execution": {
     "iopub.execute_input": "2024-02-26T10:19:56.265512Z",
     "iopub.status.busy": "2024-02-26T10:19:56.264728Z",
     "iopub.status.idle": "2024-02-26T10:19:56.792895Z",
     "shell.execute_reply": "2024-02-26T10:19:56.791613Z"
    },
    "papermill": {
     "duration": 0.550879,
     "end_time": "2024-02-26T10:19:56.796151",
     "exception": false,
     "start_time": "2024-02-26T10:19:56.245272",
     "status": "completed"
    },
    "tags": []
   },
   "outputs": [
    {
     "name": "stdout",
     "output_type": "stream",
     "text": [
      "accuracy: 0.9875\n",
      "recall: 0.9722222222222222\n",
      "precision: 0.9629629629629629\n",
      "f1-score: 0.9666666666666666\n",
      "roc_auc:  0.9859330484330484\n"
     ]
    },
    {
     "name": "stderr",
     "output_type": "stream",
     "text": [
      "/opt/conda/lib/python3.10/site-packages/sklearn/metrics/_classification.py:1344: UndefinedMetricWarning: Precision is ill-defined and being set to 0.0 in labels with no predicted samples. Use `zero_division` parameter to control this behavior.\n",
      "  _warn_prf(average, modifier, msg_start, len(result))\n"
     ]
    }
   ],
   "source": [
    "rfr = RandomForestClassifier(random_state=42)\n",
    "rfr.fit(X_train_reduced,y_train)\n",
    "y_pred = rfr.predict(X_test_reduced)\n",
    "\n",
    "accuracy = accuracy_score(y_test, y_pred)\n",
    "precision = precision_score(y_test, y_pred, average='macro')\n",
    "recall = recall_score(y_test, y_pred, average='macro')\n",
    "f1 = f1_score(y_test, y_pred, average='macro')\n",
    "\n",
    "# Fit a label binarizer to get all possible classes\n",
    "label_binarizer = LabelBinarizer()\n",
    "label_binarizer.fit(y_test)\n",
    "\n",
    "# Transform y_test and y_pred to one-hot encoding with the same set of columns\n",
    "y_test_onehot = pd.DataFrame(label_binarizer.transform(\n",
    "    y_test), columns=label_binarizer.classes_)\n",
    "y_pred_onehot = pd.DataFrame(label_binarizer.transform(\n",
    "    y_pred), columns=label_binarizer.classes_)\n",
    "\n",
    "# Ensure both sets have the same columns\n",
    "all_columns = set(y_test_onehot.columns).union(set(y_pred_onehot.columns))\n",
    "y_test_onehot = y_test_onehot.reindex(columns=all_columns, fill_value=0)\n",
    "y_pred_onehot = y_pred_onehot.reindex(columns=all_columns, fill_value=0)\n",
    "\n",
    "# ROC AUC score with multiclass handling\n",
    "roc_auc_macro = roc_auc_score(\n",
    "    y_test_onehot, y_pred_onehot, average='macro', multi_class='ovo')\n",
    "\n",
    "print(\"accuracy:\", accuracy)\n",
    "print(\"recall:\", recall)\n",
    "print(\"precision:\", precision)\n",
    "print(\"f1-score:\", f1)\n",
    "print('roc_auc: ', roc_auc_macro)"
   ]
  },
  {
   "cell_type": "markdown",
   "id": "a3f70726",
   "metadata": {
    "papermill": {
     "duration": 0.017799,
     "end_time": "2024-02-26T10:19:56.832063",
     "exception": false,
     "start_time": "2024-02-26T10:19:56.814264",
     "status": "completed"
    },
    "tags": []
   },
   "source": [
    "**Tunning**"
   ]
  },
  {
   "cell_type": "code",
   "execution_count": 15,
   "id": "c5ab1e49",
   "metadata": {
    "execution": {
     "iopub.execute_input": "2024-02-26T10:19:56.933200Z",
     "iopub.status.busy": "2024-02-26T10:19:56.932416Z",
     "iopub.status.idle": "2024-02-26T10:19:58.430970Z",
     "shell.execute_reply": "2024-02-26T10:19:58.429545Z"
    },
    "papermill": {
     "duration": 1.583901,
     "end_time": "2024-02-26T10:19:58.433957",
     "exception": false,
     "start_time": "2024-02-26T10:19:56.850056",
     "status": "completed"
    },
    "tags": []
   },
   "outputs": [],
   "source": [
    "import optuna\n",
    "\n",
    "\n",
    "def objective(trial):\n",
    "    hyperparams = {\n",
    "        'n_estimators': trial.suggest_int('n_estimators', 100, 1000),\n",
    "        'max_depth': trial.suggest_int('max_depth', 10, 50),\n",
    "        'min_samples_split': trial.suggest_int('min_samples_split', 2, 32),\n",
    "        'random_state': trial.suggest_categorical('random_state', [42]),\n",
    "        'min_samples_leaf': trial.suggest_int('min_samples_leaf', 1, 32),\n",
    "        'n_jobs': -1\n",
    "    }\n",
    "\n",
    "    model = RandomForestClassifier(**hyperparams)\n",
    "    scores = cross_val_score(model, X_train_reduced,\n",
    "                             y_train, cv=kf, scoring='accuracy')\n",
    "    return np.mean(scores)"
   ]
  },
  {
   "cell_type": "code",
   "execution_count": 16,
   "id": "fcd52dbe",
   "metadata": {
    "execution": {
     "iopub.execute_input": "2024-02-26T10:19:58.473066Z",
     "iopub.status.busy": "2024-02-26T10:19:58.472265Z",
     "iopub.status.idle": "2024-02-26T10:46:55.047302Z",
     "shell.execute_reply": "2024-02-26T10:46:55.046122Z"
    },
    "papermill": {
     "duration": 1616.597257,
     "end_time": "2024-02-26T10:46:55.049663",
     "exception": false,
     "start_time": "2024-02-26T10:19:58.452406",
     "status": "completed"
    },
    "tags": []
   },
   "outputs": [
    {
     "name": "stderr",
     "output_type": "stream",
     "text": [
      "[I 2024-02-26 10:19:58,476] A new study created in memory with name: no-name-6be7e584-8783-4c2b-9ef8-107ca7b06a62\n",
      "[I 2024-02-26 10:20:06,917] Trial 0 finished with value: 0.63125 and parameters: {'n_estimators': 480, 'max_depth': 33, 'min_samples_split': 23, 'random_state': 42, 'min_samples_leaf': 21}. Best is trial 0 with value: 0.63125.\n",
      "[I 2024-02-26 10:20:13,515] Trial 1 finished with value: 0.4875 and parameters: {'n_estimators': 384, 'max_depth': 44, 'min_samples_split': 21, 'random_state': 42, 'min_samples_leaf': 31}. Best is trial 0 with value: 0.63125.\n",
      "[I 2024-02-26 10:20:25,321] Trial 2 finished with value: 0.5375 and parameters: {'n_estimators': 689, 'max_depth': 27, 'min_samples_split': 19, 'random_state': 42, 'min_samples_leaf': 30}. Best is trial 0 with value: 0.63125.\n",
      "[I 2024-02-26 10:20:40,479] Trial 3 finished with value: 0.53125 and parameters: {'n_estimators': 883, 'max_depth': 47, 'min_samples_split': 11, 'random_state': 42, 'min_samples_leaf': 29}. Best is trial 0 with value: 0.63125.\n",
      "[I 2024-02-26 10:20:52,307] Trial 4 finished with value: 0.58125 and parameters: {'n_estimators': 661, 'max_depth': 10, 'min_samples_split': 9, 'random_state': 42, 'min_samples_leaf': 24}. Best is trial 0 with value: 0.63125.\n",
      "[I 2024-02-26 10:21:05,524] Trial 5 finished with value: 0.803125 and parameters: {'n_estimators': 659, 'max_depth': 49, 'min_samples_split': 8, 'random_state': 42, 'min_samples_leaf': 5}. Best is trial 5 with value: 0.803125.\n",
      "[I 2024-02-26 10:21:08,580] Trial 6 finished with value: 0.66875 and parameters: {'n_estimators': 152, 'max_depth': 40, 'min_samples_split': 29, 'random_state': 42, 'min_samples_leaf': 9}. Best is trial 5 with value: 0.803125.\n",
      "[I 2024-02-26 10:21:14,094] Trial 7 finished with value: 0.625 and parameters: {'n_estimators': 310, 'max_depth': 44, 'min_samples_split': 22, 'random_state': 42, 'min_samples_leaf': 21}. Best is trial 5 with value: 0.803125.\n",
      "[I 2024-02-26 10:21:20,548] Trial 8 finished with value: 0.534375 and parameters: {'n_estimators': 368, 'max_depth': 38, 'min_samples_split': 22, 'random_state': 42, 'min_samples_leaf': 26}. Best is trial 5 with value: 0.803125.\n",
      "[I 2024-02-26 10:21:30,375] Trial 9 finished with value: 0.54375 and parameters: {'n_estimators': 566, 'max_depth': 23, 'min_samples_split': 11, 'random_state': 42, 'min_samples_leaf': 29}. Best is trial 5 with value: 0.803125.\n",
      "[I 2024-02-26 10:21:50,994] Trial 10 finished with value: 0.884375 and parameters: {'n_estimators': 998, 'max_depth': 11, 'min_samples_split': 2, 'random_state': 42, 'min_samples_leaf': 1}. Best is trial 10 with value: 0.884375.\n",
      "[I 2024-02-26 10:22:11,481] Trial 11 finished with value: 0.88125 and parameters: {'n_estimators': 978, 'max_depth': 15, 'min_samples_split': 3, 'random_state': 42, 'min_samples_leaf': 2}. Best is trial 10 with value: 0.884375.\n",
      "[I 2024-02-26 10:22:31,723] Trial 12 finished with value: 0.884375 and parameters: {'n_estimators': 971, 'max_depth': 10, 'min_samples_split': 2, 'random_state': 42, 'min_samples_leaf': 1}. Best is trial 10 with value: 0.884375.\n",
      "[I 2024-02-26 10:22:46,997] Trial 13 finished with value: 0.721875 and parameters: {'n_estimators': 831, 'max_depth': 17, 'min_samples_split': 4, 'random_state': 42, 'min_samples_leaf': 12}. Best is trial 10 with value: 0.884375.\n",
      "[I 2024-02-26 10:23:07,602] Trial 14 finished with value: 0.88125 and parameters: {'n_estimators': 985, 'max_depth': 11, 'min_samples_split': 2, 'random_state': 42, 'min_samples_leaf': 1}. Best is trial 10 with value: 0.884375.\n",
      "[I 2024-02-26 10:23:22,826] Trial 15 finished with value: 0.771875 and parameters: {'n_estimators': 814, 'max_depth': 20, 'min_samples_split': 13, 'random_state': 42, 'min_samples_leaf': 8}. Best is trial 10 with value: 0.884375.\n",
      "[I 2024-02-26 10:23:38,754] Trial 16 finished with value: 0.696875 and parameters: {'n_estimators': 890, 'max_depth': 15, 'min_samples_split': 6, 'random_state': 42, 'min_samples_leaf': 15}. Best is trial 10 with value: 0.884375.\n",
      "[I 2024-02-26 10:23:53,162] Trial 17 finished with value: 0.7625 and parameters: {'n_estimators': 752, 'max_depth': 25, 'min_samples_split': 16, 'random_state': 42, 'min_samples_leaf': 5}. Best is trial 10 with value: 0.884375.\n",
      "[I 2024-02-26 10:24:11,391] Trial 18 finished with value: 0.678125 and parameters: {'n_estimators': 966, 'max_depth': 31, 'min_samples_split': 32, 'random_state': 42, 'min_samples_leaf': 4}. Best is trial 10 with value: 0.884375.\n",
      "[I 2024-02-26 10:24:25,461] Trial 19 finished with value: 0.75625 and parameters: {'n_estimators': 751, 'max_depth': 19, 'min_samples_split': 6, 'random_state': 42, 'min_samples_leaf': 9}. Best is trial 10 with value: 0.884375.\n",
      "[I 2024-02-26 10:24:41,804] Trial 20 finished with value: 0.721875 and parameters: {'n_estimators': 901, 'max_depth': 13, 'min_samples_split': 14, 'random_state': 42, 'min_samples_leaf': 13}. Best is trial 10 with value: 0.884375.\n",
      "[I 2024-02-26 10:25:02,670] Trial 21 finished with value: 0.896875 and parameters: {'n_estimators': 994, 'max_depth': 14, 'min_samples_split': 2, 'random_state': 42, 'min_samples_leaf': 1}. Best is trial 21 with value: 0.896875.\n",
      "[I 2024-02-26 10:25:21,439] Trial 22 finished with value: 0.865625 and parameters: {'n_estimators': 916, 'max_depth': 10, 'min_samples_split': 5, 'random_state': 42, 'min_samples_leaf': 1}. Best is trial 21 with value: 0.896875.\n",
      "[I 2024-02-26 10:25:37,178] Trial 23 finished with value: 0.7875 and parameters: {'n_estimators': 825, 'max_depth': 21, 'min_samples_split': 2, 'random_state': 42, 'min_samples_leaf': 7}. Best is trial 21 with value: 0.896875.\n",
      "[I 2024-02-26 10:25:56,718] Trial 24 finished with value: 0.84375 and parameters: {'n_estimators': 1000, 'max_depth': 16, 'min_samples_split': 8, 'random_state': 42, 'min_samples_leaf': 4}. Best is trial 21 with value: 0.896875.\n",
      "[I 2024-02-26 10:26:10,880] Trial 25 finished with value: 0.7375 and parameters: {'n_estimators': 777, 'max_depth': 13, 'min_samples_split': 5, 'random_state': 42, 'min_samples_leaf': 11}. Best is trial 21 with value: 0.896875.\n",
      "[I 2024-02-26 10:26:29,456] Trial 26 finished with value: 0.865625 and parameters: {'n_estimators': 922, 'max_depth': 18, 'min_samples_split': 2, 'random_state': 42, 'min_samples_leaf': 3}. Best is trial 21 with value: 0.896875.\n",
      "[I 2024-02-26 10:26:31,966] Trial 27 finished with value: 0.66875 and parameters: {'n_estimators': 132, 'max_depth': 13, 'min_samples_split': 26, 'random_state': 42, 'min_samples_leaf': 6}. Best is trial 21 with value: 0.896875.\n",
      "[I 2024-02-26 10:26:42,127] Trial 28 finished with value: 0.665625 and parameters: {'n_estimators': 570, 'max_depth': 22, 'min_samples_split': 7, 'random_state': 42, 'min_samples_leaf': 17}. Best is trial 21 with value: 0.896875.\n",
      "[I 2024-02-26 10:26:59,416] Trial 29 finished with value: 0.834375 and parameters: {'n_estimators': 852, 'max_depth': 35, 'min_samples_split': 10, 'random_state': 42, 'min_samples_leaf': 1}. Best is trial 21 with value: 0.896875.\n",
      "[I 2024-02-26 10:27:08,341] Trial 30 finished with value: 0.665625 and parameters: {'n_estimators': 504, 'max_depth': 26, 'min_samples_split': 14, 'random_state': 42, 'min_samples_leaf': 18}. Best is trial 21 with value: 0.896875.\n",
      "[I 2024-02-26 10:27:27,639] Trial 31 finished with value: 0.865625 and parameters: {'n_estimators': 959, 'max_depth': 15, 'min_samples_split': 3, 'random_state': 42, 'min_samples_leaf': 3}. Best is trial 21 with value: 0.896875.\n",
      "[I 2024-02-26 10:27:48,428] Trial 32 finished with value: 0.878125 and parameters: {'n_estimators': 992, 'max_depth': 12, 'min_samples_split': 3, 'random_state': 42, 'min_samples_leaf': 1}. Best is trial 21 with value: 0.896875.\n",
      "[I 2024-02-26 10:28:07,181] Trial 33 finished with value: 0.85625 and parameters: {'n_estimators': 934, 'max_depth': 14, 'min_samples_split': 4, 'random_state': 42, 'min_samples_leaf': 3}. Best is trial 21 with value: 0.896875.\n",
      "[I 2024-02-26 10:28:23,654] Trial 34 finished with value: 0.778125 and parameters: {'n_estimators': 861, 'max_depth': 10, 'min_samples_split': 5, 'random_state': 42, 'min_samples_leaf': 7}. Best is trial 21 with value: 0.896875.\n",
      "[I 2024-02-26 10:28:38,440] Trial 35 finished with value: 0.884375 and parameters: {'n_estimators': 722, 'max_depth': 18, 'min_samples_split': 2, 'random_state': 42, 'min_samples_leaf': 2}. Best is trial 21 with value: 0.896875.\n",
      "[I 2024-02-26 10:28:51,295] Trial 36 finished with value: 0.746875 and parameters: {'n_estimators': 670, 'max_depth': 29, 'min_samples_split': 18, 'random_state': 42, 'min_samples_leaf': 5}. Best is trial 21 with value: 0.896875.\n",
      "[I 2024-02-26 10:29:05,443] Trial 37 finished with value: 0.759375 and parameters: {'n_estimators': 773, 'max_depth': 18, 'min_samples_split': 7, 'random_state': 42, 'min_samples_leaf': 10}. Best is trial 21 with value: 0.896875.\n",
      "[I 2024-02-26 10:29:16,798] Trial 38 finished with value: 0.803125 and parameters: {'n_estimators': 595, 'max_depth': 24, 'min_samples_split': 9, 'random_state': 42, 'min_samples_leaf': 6}. Best is trial 21 with value: 0.896875.\n",
      "[I 2024-02-26 10:29:30,595] Trial 39 finished with value: 0.675 and parameters: {'n_estimators': 707, 'max_depth': 10, 'min_samples_split': 25, 'random_state': 42, 'min_samples_leaf': 3}. Best is trial 21 with value: 0.896875.\n",
      "[I 2024-02-26 10:29:34,397] Trial 40 finished with value: 0.64375 and parameters: {'n_estimators': 209, 'max_depth': 17, 'min_samples_split': 2, 'random_state': 42, 'min_samples_leaf': 20}. Best is trial 21 with value: 0.896875.\n",
      "[I 2024-02-26 10:29:54,093] Trial 41 finished with value: 0.88125 and parameters: {'n_estimators': 945, 'max_depth': 14, 'min_samples_split': 4, 'random_state': 42, 'min_samples_leaf': 2}. Best is trial 21 with value: 0.896875.\n",
      "[I 2024-02-26 10:30:02,743] Trial 42 finished with value: 0.871875 and parameters: {'n_estimators': 427, 'max_depth': 12, 'min_samples_split': 3, 'random_state': 42, 'min_samples_leaf': 2}. Best is trial 21 with value: 0.896875.\n",
      "[I 2024-02-26 10:30:20,001] Trial 43 finished with value: 0.840625 and parameters: {'n_estimators': 873, 'max_depth': 16, 'min_samples_split': 6, 'random_state': 42, 'min_samples_leaf': 4}. Best is trial 21 with value: 0.896875.\n",
      "[I 2024-02-26 10:30:30,558] Trial 44 finished with value: 0.5 and parameters: {'n_estimators': 617, 'max_depth': 19, 'min_samples_split': 4, 'random_state': 42, 'min_samples_leaf': 32}. Best is trial 21 with value: 0.896875.\n",
      "[I 2024-02-26 10:30:47,204] Trial 45 finished with value: 0.584375 and parameters: {'n_estimators': 959, 'max_depth': 15, 'min_samples_split': 2, 'random_state': 42, 'min_samples_leaf': 24}. Best is trial 21 with value: 0.896875.\n",
      "[I 2024-02-26 10:31:07,448] Trial 46 finished with value: 0.8375 and parameters: {'n_estimators': 998, 'max_depth': 12, 'min_samples_split': 8, 'random_state': 42, 'min_samples_leaf': 1}. Best is trial 21 with value: 0.896875.\n",
      "[I 2024-02-26 10:31:20,994] Trial 47 finished with value: 0.8 and parameters: {'n_estimators': 718, 'max_depth': 21, 'min_samples_split': 12, 'random_state': 42, 'min_samples_leaf': 6}. Best is trial 21 with value: 0.896875.\n",
      "[I 2024-02-26 10:31:37,804] Trial 48 finished with value: 0.775 and parameters: {'n_estimators': 892, 'max_depth': 42, 'min_samples_split': 4, 'random_state': 42, 'min_samples_leaf': 8}. Best is trial 21 with value: 0.896875.\n",
      "[I 2024-02-26 10:31:48,062] Trial 49 finished with value: 0.871875 and parameters: {'n_estimators': 501, 'max_depth': 28, 'min_samples_split': 6, 'random_state': 42, 'min_samples_leaf': 2}. Best is trial 21 with value: 0.896875.\n",
      "[I 2024-02-26 10:32:03,530] Trial 50 finished with value: 0.80625 and parameters: {'n_estimators': 789, 'max_depth': 11, 'min_samples_split': 10, 'random_state': 42, 'min_samples_leaf': 5}. Best is trial 21 with value: 0.896875.\n",
      "[I 2024-02-26 10:32:23,536] Trial 51 finished with value: 0.8875 and parameters: {'n_estimators': 969, 'max_depth': 11, 'min_samples_split': 2, 'random_state': 42, 'min_samples_leaf': 1}. Best is trial 21 with value: 0.896875.\n",
      "[I 2024-02-26 10:32:42,452] Trial 52 finished with value: 0.88125 and parameters: {'n_estimators': 929, 'max_depth': 14, 'min_samples_split': 3, 'random_state': 42, 'min_samples_leaf': 2}. Best is trial 21 with value: 0.896875.\n",
      "[I 2024-02-26 10:33:00,957] Trial 53 finished with value: 0.7 and parameters: {'n_estimators': 960, 'max_depth': 10, 'min_samples_split': 20, 'random_state': 42, 'min_samples_leaf': 4}. Best is trial 21 with value: 0.896875.\n",
      "[I 2024-02-26 10:33:18,943] Trial 54 finished with value: 0.90625 and parameters: {'n_estimators': 840, 'max_depth': 17, 'min_samples_split': 2, 'random_state': 42, 'min_samples_leaf': 1}. Best is trial 54 with value: 0.90625.\n",
      "[I 2024-02-26 10:33:36,611] Trial 55 finished with value: 0.8875 and parameters: {'n_estimators': 848, 'max_depth': 17, 'min_samples_split': 5, 'random_state': 42, 'min_samples_leaf': 1}. Best is trial 54 with value: 0.90625.\n",
      "[I 2024-02-26 10:33:53,539] Trial 56 finished with value: 0.88125 and parameters: {'n_estimators': 828, 'max_depth': 12, 'min_samples_split': 5, 'random_state': 42, 'min_samples_leaf': 1}. Best is trial 54 with value: 0.90625.\n",
      "[I 2024-02-26 10:34:11,343] Trial 57 finished with value: 0.840625 and parameters: {'n_estimators': 903, 'max_depth': 49, 'min_samples_split': 7, 'random_state': 42, 'min_samples_leaf': 4}. Best is trial 54 with value: 0.90625.\n",
      "[I 2024-02-26 10:34:29,122] Trial 58 finished with value: 0.871875 and parameters: {'n_estimators': 873, 'max_depth': 16, 'min_samples_split': 4, 'random_state': 42, 'min_samples_leaf': 3}. Best is trial 54 with value: 0.90625.\n",
      "[I 2024-02-26 10:34:45,189] Trial 59 finished with value: 0.815625 and parameters: {'n_estimators': 810, 'max_depth': 20, 'min_samples_split': 2, 'random_state': 42, 'min_samples_leaf': 5}. Best is trial 54 with value: 0.90625.\n",
      "[I 2024-02-26 10:35:01,364] Trial 60 finished with value: 0.79375 and parameters: {'n_estimators': 848, 'max_depth': 32, 'min_samples_split': 5, 'random_state': 42, 'min_samples_leaf': 7}. Best is trial 54 with value: 0.90625.\n",
      "[I 2024-02-26 10:35:21,184] Trial 61 finished with value: 0.90625 and parameters: {'n_estimators': 926, 'max_depth': 17, 'min_samples_split': 2, 'random_state': 42, 'min_samples_leaf': 1}. Best is trial 54 with value: 0.90625.\n",
      "[I 2024-02-26 10:35:40,675] Trial 62 finished with value: 0.89375 and parameters: {'n_estimators': 931, 'max_depth': 17, 'min_samples_split': 3, 'random_state': 42, 'min_samples_leaf': 1}. Best is trial 54 with value: 0.90625.\n",
      "[I 2024-02-26 10:36:00,003] Trial 63 finished with value: 0.89375 and parameters: {'n_estimators': 909, 'max_depth': 17, 'min_samples_split': 3, 'random_state': 42, 'min_samples_leaf': 1}. Best is trial 54 with value: 0.90625.\n",
      "[I 2024-02-26 10:36:16,373] Trial 64 finished with value: 0.54375 and parameters: {'n_estimators': 915, 'max_depth': 23, 'min_samples_split': 3, 'random_state': 42, 'min_samples_leaf': 27}. Best is trial 54 with value: 0.90625.\n",
      "[I 2024-02-26 10:36:34,981] Trial 65 finished with value: 0.865625 and parameters: {'n_estimators': 886, 'max_depth': 17, 'min_samples_split': 6, 'random_state': 42, 'min_samples_leaf': 3}. Best is trial 54 with value: 0.90625.\n",
      "[I 2024-02-26 10:36:56,205] Trial 66 finished with value: 0.89375 and parameters: {'n_estimators': 947, 'max_depth': 20, 'min_samples_split': 3, 'random_state': 42, 'min_samples_leaf': 1}. Best is trial 54 with value: 0.90625.\n",
      "[I 2024-02-26 10:37:16,353] Trial 67 finished with value: 0.8875 and parameters: {'n_estimators': 946, 'max_depth': 20, 'min_samples_split': 3, 'random_state': 42, 'min_samples_leaf': 2}. Best is trial 54 with value: 0.90625.\n",
      "[I 2024-02-26 10:37:35,647] Trial 68 finished with value: 0.84375 and parameters: {'n_estimators': 976, 'max_depth': 22, 'min_samples_split': 4, 'random_state': 42, 'min_samples_leaf': 4}. Best is trial 54 with value: 0.90625.\n",
      "[I 2024-02-26 10:37:54,301] Trial 69 finished with value: 0.759375 and parameters: {'n_estimators': 924, 'max_depth': 19, 'min_samples_split': 16, 'random_state': 42, 'min_samples_leaf': 1}. Best is trial 54 with value: 0.90625.\n",
      "[I 2024-02-26 10:37:59,595] Trial 70 finished with value: 0.69375 and parameters: {'n_estimators': 290, 'max_depth': 14, 'min_samples_split': 3, 'random_state': 42, 'min_samples_leaf': 14}. Best is trial 54 with value: 0.90625.\n",
      "[I 2024-02-26 10:38:17,356] Trial 71 finished with value: 0.884375 and parameters: {'n_estimators': 845, 'max_depth': 17, 'min_samples_split': 5, 'random_state': 42, 'min_samples_leaf': 1}. Best is trial 54 with value: 0.90625.\n",
      "[I 2024-02-26 10:38:34,314] Trial 72 finished with value: 0.865625 and parameters: {'n_estimators': 801, 'max_depth': 16, 'min_samples_split': 2, 'random_state': 42, 'min_samples_leaf': 3}. Best is trial 54 with value: 0.90625.\n",
      "[I 2024-02-26 10:38:53,384] Trial 73 finished with value: 0.88125 and parameters: {'n_estimators': 895, 'max_depth': 18, 'min_samples_split': 3, 'random_state': 42, 'min_samples_leaf': 2}. Best is trial 54 with value: 0.90625.\n",
      "[I 2024-02-26 10:39:13,733] Trial 74 finished with value: 0.875 and parameters: {'n_estimators': 972, 'max_depth': 47, 'min_samples_split': 5, 'random_state': 42, 'min_samples_leaf': 1}. Best is trial 54 with value: 0.90625.\n",
      "[I 2024-02-26 10:39:31,876] Trial 75 finished with value: 0.81875 and parameters: {'n_estimators': 935, 'max_depth': 37, 'min_samples_split': 7, 'random_state': 42, 'min_samples_leaf': 5}. Best is trial 54 with value: 0.90625.\n",
      "[I 2024-02-26 10:39:47,286] Trial 76 finished with value: 0.86875 and parameters: {'n_estimators': 758, 'max_depth': 21, 'min_samples_split': 2, 'random_state': 42, 'min_samples_leaf': 3}. Best is trial 54 with value: 0.90625.\n",
      "[I 2024-02-26 10:40:08,078] Trial 77 finished with value: 0.875 and parameters: {'n_estimators': 998, 'max_depth': 13, 'min_samples_split': 4, 'random_state': 42, 'min_samples_leaf': 1}. Best is trial 54 with value: 0.90625.\n",
      "[I 2024-02-26 10:40:26,386] Trial 78 finished with value: 0.86875 and parameters: {'n_estimators': 864, 'max_depth': 15, 'min_samples_split': 6, 'random_state': 42, 'min_samples_leaf': 2}. Best is trial 54 with value: 0.90625.\n",
      "[I 2024-02-26 10:40:44,200] Trial 79 finished with value: 0.678125 and parameters: {'n_estimators': 911, 'max_depth': 25, 'min_samples_split': 29, 'random_state': 42, 'min_samples_leaf': 4}. Best is trial 54 with value: 0.90625.\n",
      "[I 2024-02-26 10:41:03,246] Trial 80 finished with value: 0.809375 and parameters: {'n_estimators': 954, 'max_depth': 17, 'min_samples_split': 4, 'random_state': 42, 'min_samples_leaf': 6}. Best is trial 54 with value: 0.90625.\n",
      "[I 2024-02-26 10:41:23,471] Trial 81 finished with value: 0.884375 and parameters: {'n_estimators': 942, 'max_depth': 19, 'min_samples_split': 3, 'random_state': 42, 'min_samples_leaf': 2}. Best is trial 54 with value: 0.90625.\n",
      "[I 2024-02-26 10:41:44,722] Trial 82 finished with value: 0.88125 and parameters: {'n_estimators': 975, 'max_depth': 20, 'min_samples_split': 3, 'random_state': 42, 'min_samples_leaf': 2}. Best is trial 54 with value: 0.90625.\n",
      "[I 2024-02-26 10:42:03,506] Trial 83 finished with value: 0.865625 and parameters: {'n_estimators': 884, 'max_depth': 18, 'min_samples_split': 2, 'random_state': 42, 'min_samples_leaf': 3}. Best is trial 54 with value: 0.90625.\n",
      "[I 2024-02-26 10:42:23,804] Trial 84 finished with value: 0.9 and parameters: {'n_estimators': 934, 'max_depth': 15, 'min_samples_split': 2, 'random_state': 42, 'min_samples_leaf': 1}. Best is trial 54 with value: 0.90625.\n",
      "[I 2024-02-26 10:42:41,465] Trial 85 finished with value: 0.896875 and parameters: {'n_estimators': 833, 'max_depth': 13, 'min_samples_split': 2, 'random_state': 42, 'min_samples_leaf': 1}. Best is trial 54 with value: 0.90625.\n",
      "[I 2024-02-26 10:42:59,687] Trial 86 finished with value: 0.8375 and parameters: {'n_estimators': 905, 'max_depth': 13, 'min_samples_split': 2, 'random_state': 42, 'min_samples_leaf': 4}. Best is trial 54 with value: 0.90625.\n",
      "[I 2024-02-26 10:43:19,740] Trial 87 finished with value: 0.8625 and parameters: {'n_estimators': 978, 'max_depth': 11, 'min_samples_split': 4, 'random_state': 42, 'min_samples_leaf': 3}. Best is trial 54 with value: 0.90625.\n",
      "[I 2024-02-26 10:43:37,535] Trial 88 finished with value: 0.896875 and parameters: {'n_estimators': 826, 'max_depth': 15, 'min_samples_split': 2, 'random_state': 42, 'min_samples_leaf': 1}. Best is trial 54 with value: 0.90625.\n",
      "[I 2024-02-26 10:43:54,491] Trial 89 finished with value: 0.878125 and parameters: {'n_estimators': 796, 'max_depth': 15, 'min_samples_split': 3, 'random_state': 42, 'min_samples_leaf': 2}. Best is trial 54 with value: 0.90625.\n",
      "[I 2024-02-26 10:44:12,041] Trial 90 finished with value: 0.88125 and parameters: {'n_estimators': 827, 'max_depth': 14, 'min_samples_split': 4, 'random_state': 42, 'min_samples_leaf': 1}. Best is trial 54 with value: 0.90625.\n",
      "[I 2024-02-26 10:44:32,062] Trial 91 finished with value: 0.90625 and parameters: {'n_estimators': 933, 'max_depth': 16, 'min_samples_split': 2, 'random_state': 42, 'min_samples_leaf': 1}. Best is trial 54 with value: 0.90625.\n",
      "[I 2024-02-26 10:44:50,775] Trial 92 finished with value: 0.884375 and parameters: {'n_estimators': 869, 'max_depth': 16, 'min_samples_split': 2, 'random_state': 42, 'min_samples_leaf': 2}. Best is trial 54 with value: 0.90625.\n",
      "[I 2024-02-26 10:45:09,793] Trial 93 finished with value: 0.865625 and parameters: {'n_estimators': 932, 'max_depth': 16, 'min_samples_split': 3, 'random_state': 42, 'min_samples_leaf': 3}. Best is trial 54 with value: 0.90625.\n",
      "[I 2024-02-26 10:45:24,897] Trial 94 finished with value: 0.8125 and parameters: {'n_estimators': 742, 'max_depth': 14, 'min_samples_split': 2, 'random_state': 42, 'min_samples_leaf': 5}. Best is trial 54 with value: 0.90625.\n",
      "[I 2024-02-26 10:45:42,498] Trial 95 finished with value: 0.871875 and parameters: {'n_estimators': 839, 'max_depth': 15, 'min_samples_split': 5, 'random_state': 42, 'min_samples_leaf': 1}. Best is trial 54 with value: 0.90625.\n",
      "[I 2024-02-26 10:46:01,633] Trial 96 finished with value: 0.88125 and parameters: {'n_estimators': 918, 'max_depth': 13, 'min_samples_split': 4, 'random_state': 42, 'min_samples_leaf': 2}. Best is trial 54 with value: 0.90625.\n",
      "[I 2024-02-26 10:46:20,550] Trial 97 finished with value: 0.90625 and parameters: {'n_estimators': 885, 'max_depth': 19, 'min_samples_split': 2, 'random_state': 42, 'min_samples_leaf': 1}. Best is trial 54 with value: 0.90625.\n",
      "[I 2024-02-26 10:46:36,951] Trial 98 finished with value: 0.69375 and parameters: {'n_estimators': 816, 'max_depth': 17, 'min_samples_split': 23, 'random_state': 42, 'min_samples_leaf': 3}. Best is trial 54 with value: 0.90625.\n",
      "[I 2024-02-26 10:46:50,907] Trial 99 finished with value: 0.653125 and parameters: {'n_estimators': 773, 'max_depth': 18, 'min_samples_split': 2, 'random_state': 42, 'min_samples_leaf': 20}. Best is trial 54 with value: 0.90625.\n"
     ]
    },
    {
     "name": "stdout",
     "output_type": "stream",
     "text": [
      "Best params found : {'n_estimators': 840, 'max_depth': 17, 'min_samples_split': 2, 'random_state': 42, 'min_samples_leaf': 1}\n"
     ]
    },
    {
     "data": {
      "text/plain": [
       "0.9875"
      ]
     },
     "execution_count": 16,
     "metadata": {},
     "output_type": "execute_result"
    }
   ],
   "source": [
    "study = optuna.create_study(direction = 'maximize')\n",
    "study.optimize(objective, n_trials = 100)\n",
    "best_params = study.best_params\n",
    "print(\"Best params found :\", best_params)\n",
    "\n",
    "final_model = RandomForestClassifier(**best_params)\n",
    "final_model.fit(X_train_reduced, y_train)\n",
    "y_pred = final_model.predict(X_test_reduced)\n",
    "accuracy_score(y_test, y_pred)"
   ]
  },
  {
   "cell_type": "code",
   "execution_count": 17,
   "id": "055b130c",
   "metadata": {
    "execution": {
     "iopub.execute_input": "2024-02-26T10:46:55.108562Z",
     "iopub.status.busy": "2024-02-26T10:46:55.107747Z",
     "iopub.status.idle": "2024-02-26T10:46:59.211292Z",
     "shell.execute_reply": "2024-02-26T10:46:59.210100Z"
    },
    "papermill": {
     "duration": 4.13917,
     "end_time": "2024-02-26T10:46:59.216666",
     "exception": false,
     "start_time": "2024-02-26T10:46:55.077496",
     "status": "completed"
    },
    "tags": []
   },
   "outputs": [
    {
     "name": "stdout",
     "output_type": "stream",
     "text": [
      "accuracy: 0.9875\n",
      "recall: 0.9722222222222222\n",
      "precision: 0.9629629629629629\n",
      "f1-score: 0.9666666666666666\n",
      "roc_auc:  0.9859330484330484\n"
     ]
    },
    {
     "name": "stderr",
     "output_type": "stream",
     "text": [
      "/opt/conda/lib/python3.10/site-packages/sklearn/metrics/_classification.py:1344: UndefinedMetricWarning: Precision is ill-defined and being set to 0.0 in labels with no predicted samples. Use `zero_division` parameter to control this behavior.\n",
      "  _warn_prf(average, modifier, msg_start, len(result))\n"
     ]
    }
   ],
   "source": [
    "final_model = RandomForestClassifier(**best_params)\n",
    "final_model.fit(X_train_reduced, y_train)\n",
    "y_pred = final_model.predict(X_test_reduced)\n",
    "prediction_results['random forest'] = y_pred \n",
    "\n",
    "accuracy = accuracy_score(y_test, y_pred)\n",
    "precision = precision_score(y_test, y_pred, average='macro')\n",
    "recall = recall_score(y_test, y_pred, average='macro')\n",
    "f1 = f1_score(y_test, y_pred, average='macro')\n",
    "\n",
    "# Fit a label binarizer to get all possible classes\n",
    "label_binarizer = LabelBinarizer()\n",
    "label_binarizer.fit(y_test)\n",
    "\n",
    "# Transform y_test and y_pred to one-hot encoding with the same set of columns\n",
    "y_test_onehot = pd.DataFrame(label_binarizer.transform(\n",
    "    y_test), columns=label_binarizer.classes_)\n",
    "y_pred_onehot = pd.DataFrame(label_binarizer.transform(\n",
    "    y_pred), columns=label_binarizer.classes_)\n",
    "\n",
    "# Ensure both sets have the same columns\n",
    "all_columns = set(y_test_onehot.columns).union(set(y_pred_onehot.columns))\n",
    "y_test_onehot = y_test_onehot.reindex(columns=all_columns, fill_value=0)\n",
    "y_pred_onehot = y_pred_onehot.reindex(columns=all_columns, fill_value=0)\n",
    "\n",
    "# ROC AUC score with multiclass handling\n",
    "roc_auc_macro = roc_auc_score(\n",
    "    y_test_onehot, y_pred_onehot, average='macro', multi_class='ovo')\n",
    "\n",
    "print(\"accuracy:\", accuracy)\n",
    "print(\"recall:\", recall)\n",
    "print(\"precision:\", precision)\n",
    "print(\"f1-score:\", f1)\n",
    "print('roc_auc: ', roc_auc_macro)"
   ]
  },
  {
   "cell_type": "markdown",
   "id": "7657fce3",
   "metadata": {
    "papermill": {
     "duration": 0.030474,
     "end_time": "2024-02-26T10:46:59.276888",
     "exception": false,
     "start_time": "2024-02-26T10:46:59.246414",
     "status": "completed"
    },
    "tags": []
   },
   "source": [
    "****"
   ]
  },
  {
   "cell_type": "markdown",
   "id": "edf7bc9d",
   "metadata": {
    "papermill": {
     "duration": 0.031404,
     "end_time": "2024-02-26T10:46:59.338864",
     "exception": false,
     "start_time": "2024-02-26T10:46:59.307460",
     "status": "completed"
    },
    "tags": []
   },
   "source": [
    "# Gassian NB"
   ]
  },
  {
   "cell_type": "markdown",
   "id": "27bf56a1",
   "metadata": {
    "papermill": {
     "duration": 0.030828,
     "end_time": "2024-02-26T10:46:59.399683",
     "exception": false,
     "start_time": "2024-02-26T10:46:59.368855",
     "status": "completed"
    },
    "tags": []
   },
   "source": [
    "**Pre-tunning**"
   ]
  },
  {
   "cell_type": "code",
   "execution_count": 18,
   "id": "15b6c91d",
   "metadata": {
    "_kg_hide-output": true,
    "execution": {
     "iopub.execute_input": "2024-02-26T10:46:59.460649Z",
     "iopub.status.busy": "2024-02-26T10:46:59.460209Z",
     "iopub.status.idle": "2024-02-26T10:46:59.519228Z",
     "shell.execute_reply": "2024-02-26T10:46:59.517929Z"
    },
    "papermill": {
     "duration": 0.093901,
     "end_time": "2024-02-26T10:46:59.523447",
     "exception": false,
     "start_time": "2024-02-26T10:46:59.429546",
     "status": "completed"
    },
    "tags": []
   },
   "outputs": [
    {
     "name": "stdout",
     "output_type": "stream",
     "text": [
      "accuracy: 0.9625\n",
      "recall: 0.9537037037037037\n",
      "precision: 0.9560185185185185\n",
      "f1-score: 0.9509139009139008\n"
     ]
    },
    {
     "name": "stderr",
     "output_type": "stream",
     "text": [
      "/opt/conda/lib/python3.10/site-packages/sklearn/metrics/_classification.py:1344: UndefinedMetricWarning: Precision is ill-defined and being set to 0.0 in labels with no predicted samples. Use `zero_division` parameter to control this behavior.\n",
      "  _warn_prf(average, modifier, msg_start, len(result))\n"
     ]
    }
   ],
   "source": [
    "from sklearn.naive_bayes import GaussianNB\n",
    "gnb = GaussianNB()\n",
    "gnb.fit(X_train_reduced, y_train)\n",
    "\n",
    "y_pred = gnb.predict(X_test_reduced)\n",
    "\n",
    "accuracy = accuracy_score(y_test, y_pred)\n",
    "precision = precision_score(y_test, y_pred, average='macro')\n",
    "recall = recall_score(y_test, y_pred, average='macro')\n",
    "f1 = f1_score(y_test, y_pred, average='macro')\n",
    "\n",
    "# Fit a label binarizer to get all possible classes\n",
    "label_binarizer = LabelBinarizer()\n",
    "label_binarizer.fit(y_test)\n",
    "\n",
    "# Transform y_test and y_pred to one-hot encoding with the same set of columns\n",
    "y_test_onehot = pd.DataFrame(label_binarizer.transform(\n",
    "    y_test), columns=label_binarizer.classes_)\n",
    "y_pred_onehot = pd.DataFrame(label_binarizer.transform(\n",
    "    y_pred), columns=label_binarizer.classes_)\n",
    "\n",
    "# Ensure both sets have the same columns\n",
    "all_columns = set(y_test_onehot.columns).union(set(y_pred_onehot.columns))\n",
    "y_test_onehot = y_test_onehot.reindex(columns=all_columns, fill_value=0)\n",
    "y_pred_onehot = y_pred_onehot.reindex(columns=all_columns, fill_value=0)\n",
    "\n",
    "# ROC AUC score with multiclass handling\n",
    "roc_auc_macro = roc_auc_score(\n",
    "    y_test_onehot, y_pred_onehot, average='macro', multi_class='ovo')\n",
    "\n",
    "print(\"accuracy:\", accuracy)\n",
    "print(\"recall:\", recall)\n",
    "print(\"precision:\", precision)\n",
    "print(\"f1-score:\", f1)\n",
    "# print('roc_auc: ', roc_auc_macro)"
   ]
  },
  {
   "cell_type": "markdown",
   "id": "34640ae6",
   "metadata": {
    "papermill": {
     "duration": 0.034127,
     "end_time": "2024-02-26T10:46:59.588486",
     "exception": false,
     "start_time": "2024-02-26T10:46:59.554359",
     "status": "completed"
    },
    "tags": []
   },
   "source": [
    "**Tunning**"
   ]
  },
  {
   "cell_type": "code",
   "execution_count": 19,
   "id": "2813d943",
   "metadata": {
    "execution": {
     "iopub.execute_input": "2024-02-26T10:46:59.652238Z",
     "iopub.status.busy": "2024-02-26T10:46:59.651622Z",
     "iopub.status.idle": "2024-02-26T10:46:59.658899Z",
     "shell.execute_reply": "2024-02-26T10:46:59.657349Z"
    },
    "papermill": {
     "duration": 0.042567,
     "end_time": "2024-02-26T10:46:59.661386",
     "exception": false,
     "start_time": "2024-02-26T10:46:59.618819",
     "status": "completed"
    },
    "tags": []
   },
   "outputs": [],
   "source": [
    "def objective(trial):\n",
    "    hyperparams = {\n",
    "        'var_smoothing': trial.suggest_float('var_smoothing', 1e-9, 1e-4, log = True)\n",
    "    }\n",
    "    \n",
    "    model = GaussianNB(**hyperparams)\n",
    "    scores = cross_val_score(model, X_train_reduced, y_train, cv = kf,scoring = 'accuracy')\n",
    "    return np.mean(scores)"
   ]
  },
  {
   "cell_type": "code",
   "execution_count": 20,
   "id": "de4ad957",
   "metadata": {
    "execution": {
     "iopub.execute_input": "2024-02-26T10:46:59.726854Z",
     "iopub.status.busy": "2024-02-26T10:46:59.725798Z",
     "iopub.status.idle": "2024-02-26T10:47:04.963992Z",
     "shell.execute_reply": "2024-02-26T10:47:04.962600Z"
    },
    "papermill": {
     "duration": 5.274631,
     "end_time": "2024-02-26T10:47:04.966904",
     "exception": false,
     "start_time": "2024-02-26T10:46:59.692273",
     "status": "completed"
    },
    "tags": []
   },
   "outputs": [
    {
     "name": "stderr",
     "output_type": "stream",
     "text": [
      "[I 2024-02-26 10:46:59,736] A new study created in memory with name: no-name-2682996e-8700-4758-a251-6c7a1d61e081\n",
      "[I 2024-02-26 10:46:59,784] Trial 0 finished with value: 0.75 and parameters: {'var_smoothing': 8.365016436479651e-08}. Best is trial 0 with value: 0.75.\n",
      "[I 2024-02-26 10:46:59,831] Trial 1 finished with value: 0.75 and parameters: {'var_smoothing': 3.3343895947733785e-05}. Best is trial 0 with value: 0.75.\n",
      "[I 2024-02-26 10:46:59,877] Trial 2 finished with value: 0.75 and parameters: {'var_smoothing': 9.306459547591642e-07}. Best is trial 0 with value: 0.75.\n",
      "[I 2024-02-26 10:46:59,923] Trial 3 finished with value: 0.75 and parameters: {'var_smoothing': 2.1261355676846955e-05}. Best is trial 0 with value: 0.75.\n",
      "[I 2024-02-26 10:46:59,971] Trial 4 finished with value: 0.75 and parameters: {'var_smoothing': 6.971591679060774e-08}. Best is trial 0 with value: 0.75.\n",
      "[I 2024-02-26 10:47:00,021] Trial 5 finished with value: 0.75 and parameters: {'var_smoothing': 1.2937640392371284e-09}. Best is trial 0 with value: 0.75.\n",
      "[I 2024-02-26 10:47:00,071] Trial 6 finished with value: 0.75 and parameters: {'var_smoothing': 3.9925724989845315e-09}. Best is trial 0 with value: 0.75.\n",
      "[I 2024-02-26 10:47:00,119] Trial 7 finished with value: 0.75 and parameters: {'var_smoothing': 1.7366797994741464e-09}. Best is trial 0 with value: 0.75.\n",
      "[I 2024-02-26 10:47:00,166] Trial 8 finished with value: 0.75 and parameters: {'var_smoothing': 7.217916991731089e-08}. Best is trial 0 with value: 0.75.\n",
      "[I 2024-02-26 10:47:00,212] Trial 9 finished with value: 0.75 and parameters: {'var_smoothing': 1.5170697477533386e-08}. Best is trial 0 with value: 0.75.\n",
      "[I 2024-02-26 10:47:00,263] Trial 10 finished with value: 0.75 and parameters: {'var_smoothing': 1.2751499010154905e-06}. Best is trial 0 with value: 0.75.\n",
      "[I 2024-02-26 10:47:00,316] Trial 11 finished with value: 0.75625 and parameters: {'var_smoothing': 8.029877493033034e-05}. Best is trial 11 with value: 0.75625.\n",
      "[I 2024-02-26 10:47:00,368] Trial 12 finished with value: 0.75 and parameters: {'var_smoothing': 5.8594055115749e-06}. Best is trial 11 with value: 0.75625.\n",
      "[I 2024-02-26 10:47:00,420] Trial 13 finished with value: 0.75 and parameters: {'var_smoothing': 1.431599243107237e-07}. Best is trial 11 with value: 0.75625.\n",
      "[I 2024-02-26 10:47:00,470] Trial 14 finished with value: 0.75 and parameters: {'var_smoothing': 5.979309776987743e-06}. Best is trial 11 with value: 0.75625.\n",
      "[I 2024-02-26 10:47:00,520] Trial 15 finished with value: 0.75 and parameters: {'var_smoothing': 1.3262310518300517e-08}. Best is trial 11 with value: 0.75625.\n",
      "[I 2024-02-26 10:47:00,570] Trial 16 finished with value: 0.759375 and parameters: {'var_smoothing': 9.564473447376431e-05}. Best is trial 16 with value: 0.759375.\n",
      "[I 2024-02-26 10:47:00,621] Trial 17 finished with value: 0.759375 and parameters: {'var_smoothing': 9.524934046615974e-05}. Best is trial 16 with value: 0.759375.\n",
      "[I 2024-02-26 10:47:00,671] Trial 18 finished with value: 0.759375 and parameters: {'var_smoothing': 9.872494830624906e-05}. Best is trial 16 with value: 0.759375.\n",
      "[I 2024-02-26 10:47:00,721] Trial 19 finished with value: 0.75 and parameters: {'var_smoothing': 8.009018807596833e-06}. Best is trial 16 with value: 0.759375.\n",
      "[I 2024-02-26 10:47:00,770] Trial 20 finished with value: 0.75 and parameters: {'var_smoothing': 1.4987015232684464e-06}. Best is trial 16 with value: 0.759375.\n",
      "[I 2024-02-26 10:47:00,820] Trial 21 finished with value: 0.759375 and parameters: {'var_smoothing': 9.541162546996441e-05}. Best is trial 16 with value: 0.759375.\n",
      "[I 2024-02-26 10:47:00,871] Trial 22 finished with value: 0.75 and parameters: {'var_smoothing': 2.409585059428494e-05}. Best is trial 16 with value: 0.759375.\n",
      "[I 2024-02-26 10:47:00,921] Trial 23 finished with value: 0.759375 and parameters: {'var_smoothing': 9.903756030166495e-05}. Best is trial 16 with value: 0.759375.\n",
      "[I 2024-02-26 10:47:00,971] Trial 24 finished with value: 0.75 and parameters: {'var_smoothing': 1.34568259255315e-05}. Best is trial 16 with value: 0.759375.\n",
      "[I 2024-02-26 10:47:01,021] Trial 25 finished with value: 0.75 and parameters: {'var_smoothing': 3.7504255619821614e-05}. Best is trial 16 with value: 0.759375.\n",
      "[I 2024-02-26 10:47:01,072] Trial 26 finished with value: 0.75 and parameters: {'var_smoothing': 2.925351215523667e-06}. Best is trial 16 with value: 0.759375.\n",
      "[I 2024-02-26 10:47:01,124] Trial 27 finished with value: 0.753125 and parameters: {'var_smoothing': 4.828991568510131e-05}. Best is trial 16 with value: 0.759375.\n",
      "[I 2024-02-26 10:47:01,176] Trial 28 finished with value: 0.75 and parameters: {'var_smoothing': 4.3031623373060435e-07}. Best is trial 16 with value: 0.759375.\n",
      "[I 2024-02-26 10:47:01,226] Trial 29 finished with value: 0.75 and parameters: {'var_smoothing': 1.2506626619547868e-05}. Best is trial 16 with value: 0.759375.\n",
      "[I 2024-02-26 10:47:01,276] Trial 30 finished with value: 0.75 and parameters: {'var_smoothing': 3.1011604004478377e-06}. Best is trial 16 with value: 0.759375.\n",
      "[I 2024-02-26 10:47:01,328] Trial 31 finished with value: 0.75625 and parameters: {'var_smoothing': 7.944940148652852e-05}. Best is trial 16 with value: 0.759375.\n",
      "[I 2024-02-26 10:47:01,380] Trial 32 finished with value: 0.75625 and parameters: {'var_smoothing': 5.382256888782873e-05}. Best is trial 16 with value: 0.759375.\n",
      "[I 2024-02-26 10:47:01,431] Trial 33 finished with value: 0.75 and parameters: {'var_smoothing': 2.03507838057522e-05}. Best is trial 16 with value: 0.759375.\n",
      "[I 2024-02-26 10:47:01,483] Trial 34 finished with value: 0.75 and parameters: {'var_smoothing': 3.629227345197936e-05}. Best is trial 16 with value: 0.759375.\n",
      "[I 2024-02-26 10:47:01,534] Trial 35 finished with value: 0.75625 and parameters: {'var_smoothing': 5.33592711689957e-05}. Best is trial 16 with value: 0.759375.\n",
      "[I 2024-02-26 10:47:01,588] Trial 36 finished with value: 0.759375 and parameters: {'var_smoothing': 9.691169091509646e-05}. Best is trial 16 with value: 0.759375.\n",
      "[I 2024-02-26 10:47:01,637] Trial 37 finished with value: 0.75 and parameters: {'var_smoothing': 1.6259057115669492e-05}. Best is trial 16 with value: 0.759375.\n",
      "[I 2024-02-26 10:47:01,689] Trial 38 finished with value: 0.75 and parameters: {'var_smoothing': 2.9939404816523093e-05}. Best is trial 16 with value: 0.759375.\n",
      "[I 2024-02-26 10:47:01,741] Trial 39 finished with value: 0.75 and parameters: {'var_smoothing': 9.259392248951236e-06}. Best is trial 16 with value: 0.759375.\n",
      "[I 2024-02-26 10:47:01,791] Trial 40 finished with value: 0.75 and parameters: {'var_smoothing': 2.6847888407548688e-05}. Best is trial 16 with value: 0.759375.\n",
      "[I 2024-02-26 10:47:01,841] Trial 41 finished with value: 0.759375 and parameters: {'var_smoothing': 8.487455048708205e-05}. Best is trial 16 with value: 0.759375.\n",
      "[I 2024-02-26 10:47:01,893] Trial 42 finished with value: 0.759375 and parameters: {'var_smoothing': 9.639394921075226e-05}. Best is trial 16 with value: 0.759375.\n",
      "[I 2024-02-26 10:47:01,943] Trial 43 finished with value: 0.753125 and parameters: {'var_smoothing': 4.567182231406049e-05}. Best is trial 16 with value: 0.759375.\n",
      "[I 2024-02-26 10:47:01,995] Trial 44 finished with value: 0.753125 and parameters: {'var_smoothing': 4.826254419795588e-05}. Best is trial 16 with value: 0.759375.\n",
      "[I 2024-02-26 10:47:02,047] Trial 45 finished with value: 0.759375 and parameters: {'var_smoothing': 9.991381940196633e-05}. Best is trial 16 with value: 0.759375.\n",
      "[I 2024-02-26 10:47:02,100] Trial 46 finished with value: 0.75 and parameters: {'var_smoothing': 2.0725026600370973e-05}. Best is trial 16 with value: 0.759375.\n",
      "[I 2024-02-26 10:47:02,155] Trial 47 finished with value: 0.75625 and parameters: {'var_smoothing': 5.819820927285073e-05}. Best is trial 16 with value: 0.759375.\n",
      "[I 2024-02-26 10:47:02,205] Trial 48 finished with value: 0.75 and parameters: {'var_smoothing': 3.916353958338363e-08}. Best is trial 16 with value: 0.759375.\n",
      "[I 2024-02-26 10:47:02,255] Trial 49 finished with value: 0.75 and parameters: {'var_smoothing': 4.590767929064306e-06}. Best is trial 16 with value: 0.759375.\n",
      "[I 2024-02-26 10:47:02,307] Trial 50 finished with value: 0.75 and parameters: {'var_smoothing': 3.000584304618417e-07}. Best is trial 16 with value: 0.759375.\n",
      "[I 2024-02-26 10:47:02,358] Trial 51 finished with value: 0.759375 and parameters: {'var_smoothing': 9.743877010268273e-05}. Best is trial 16 with value: 0.759375.\n",
      "[I 2024-02-26 10:47:02,410] Trial 52 finished with value: 0.75625 and parameters: {'var_smoothing': 6.909984623154574e-05}. Best is trial 16 with value: 0.759375.\n",
      "[I 2024-02-26 10:47:02,461] Trial 53 finished with value: 0.75 and parameters: {'var_smoothing': 3.290747188159422e-05}. Best is trial 16 with value: 0.759375.\n",
      "[I 2024-02-26 10:47:02,512] Trial 54 finished with value: 0.75 and parameters: {'var_smoothing': 1.6246831963675774e-05}. Best is trial 16 with value: 0.759375.\n",
      "[I 2024-02-26 10:47:02,563] Trial 55 finished with value: 0.75 and parameters: {'var_smoothing': 3.166330948273633e-05}. Best is trial 16 with value: 0.759375.\n",
      "[I 2024-02-26 10:47:02,619] Trial 56 finished with value: 0.75625 and parameters: {'var_smoothing': 6.179402698592788e-05}. Best is trial 16 with value: 0.759375.\n",
      "[I 2024-02-26 10:47:02,671] Trial 57 finished with value: 0.75 and parameters: {'var_smoothing': 3.145699461041482e-09}. Best is trial 16 with value: 0.759375.\n",
      "[I 2024-02-26 10:47:02,721] Trial 58 finished with value: 0.75625 and parameters: {'var_smoothing': 6.603946163747522e-05}. Best is trial 16 with value: 0.759375.\n",
      "[I 2024-02-26 10:47:02,772] Trial 59 finished with value: 0.75 and parameters: {'var_smoothing': 1.0629337356627516e-05}. Best is trial 16 with value: 0.759375.\n",
      "[I 2024-02-26 10:47:02,823] Trial 60 finished with value: 0.75 and parameters: {'var_smoothing': 2.2957565759806707e-05}. Best is trial 16 with value: 0.759375.\n",
      "[I 2024-02-26 10:47:02,879] Trial 61 finished with value: 0.759375 and parameters: {'var_smoothing': 8.863630683698355e-05}. Best is trial 16 with value: 0.759375.\n",
      "[I 2024-02-26 10:47:02,933] Trial 62 finished with value: 0.75 and parameters: {'var_smoothing': 4.166831689339296e-05}. Best is trial 16 with value: 0.759375.\n",
      "[I 2024-02-26 10:47:02,986] Trial 63 finished with value: 0.75625 and parameters: {'var_smoothing': 6.9554127456163e-05}. Best is trial 16 with value: 0.759375.\n",
      "[I 2024-02-26 10:47:03,041] Trial 64 finished with value: 0.759375 and parameters: {'var_smoothing': 9.749446335311324e-05}. Best is trial 16 with value: 0.759375.\n",
      "[I 2024-02-26 10:47:03,092] Trial 65 finished with value: 0.75 and parameters: {'var_smoothing': 3.70979912974899e-05}. Best is trial 16 with value: 0.759375.\n",
      "[I 2024-02-26 10:47:03,149] Trial 66 finished with value: 0.75625 and parameters: {'var_smoothing': 6.782652924198239e-05}. Best is trial 16 with value: 0.759375.\n",
      "[I 2024-02-26 10:47:03,216] Trial 67 finished with value: 0.75 and parameters: {'var_smoothing': 1.7136375806711044e-05}. Best is trial 16 with value: 0.759375.\n",
      "[I 2024-02-26 10:47:03,277] Trial 68 finished with value: 0.753125 and parameters: {'var_smoothing': 4.8745205717819375e-05}. Best is trial 16 with value: 0.759375.\n",
      "[I 2024-02-26 10:47:03,330] Trial 69 finished with value: 0.75 and parameters: {'var_smoothing': 2.56445304583946e-05}. Best is trial 16 with value: 0.759375.\n",
      "[I 2024-02-26 10:47:03,384] Trial 70 finished with value: 0.75 and parameters: {'var_smoothing': 6.702232745134023e-07}. Best is trial 16 with value: 0.759375.\n",
      "[I 2024-02-26 10:47:03,437] Trial 71 finished with value: 0.759375 and parameters: {'var_smoothing': 8.916252239112001e-05}. Best is trial 16 with value: 0.759375.\n",
      "[I 2024-02-26 10:47:03,491] Trial 72 finished with value: 0.759375 and parameters: {'var_smoothing': 9.582195973786342e-05}. Best is trial 16 with value: 0.759375.\n",
      "[I 2024-02-26 10:47:03,542] Trial 73 finished with value: 0.75 and parameters: {'var_smoothing': 4.2304130965966947e-05}. Best is trial 16 with value: 0.759375.\n",
      "[I 2024-02-26 10:47:03,600] Trial 74 finished with value: 0.75625 and parameters: {'var_smoothing': 6.342467638472039e-05}. Best is trial 16 with value: 0.759375.\n",
      "[I 2024-02-26 10:47:03,655] Trial 75 finished with value: 0.75 and parameters: {'var_smoothing': 3.222581339772297e-05}. Best is trial 16 with value: 0.759375.\n",
      "[I 2024-02-26 10:47:03,708] Trial 76 finished with value: 0.75625 and parameters: {'var_smoothing': 6.904208821000066e-05}. Best is trial 16 with value: 0.759375.\n",
      "[I 2024-02-26 10:47:03,759] Trial 77 finished with value: 0.753125 and parameters: {'var_smoothing': 4.283728023058812e-05}. Best is trial 16 with value: 0.759375.\n",
      "[I 2024-02-26 10:47:03,810] Trial 78 finished with value: 0.75 and parameters: {'var_smoothing': 6.955760005083697e-06}. Best is trial 16 with value: 0.759375.\n",
      "[I 2024-02-26 10:47:03,862] Trial 79 finished with value: 0.75 and parameters: {'var_smoothing': 1.3690637452337754e-05}. Best is trial 16 with value: 0.759375.\n",
      "[I 2024-02-26 10:47:03,915] Trial 80 finished with value: 0.75 and parameters: {'var_smoothing': 4.4599203459726765e-08}. Best is trial 16 with value: 0.759375.\n",
      "[I 2024-02-26 10:47:03,967] Trial 81 finished with value: 0.759375 and parameters: {'var_smoothing': 9.95272173326567e-05}. Best is trial 16 with value: 0.759375.\n",
      "[I 2024-02-26 10:47:04,019] Trial 82 finished with value: 0.75625 and parameters: {'var_smoothing': 5.4433108868593935e-05}. Best is trial 16 with value: 0.759375.\n",
      "[I 2024-02-26 10:47:04,071] Trial 83 finished with value: 0.759375 and parameters: {'var_smoothing': 9.990928146241367e-05}. Best is trial 16 with value: 0.759375.\n",
      "[I 2024-02-26 10:47:04,123] Trial 84 finished with value: 0.75 and parameters: {'var_smoothing': 1.1176052076975815e-08}. Best is trial 16 with value: 0.759375.\n",
      "[I 2024-02-26 10:47:04,177] Trial 85 finished with value: 0.75625 and parameters: {'var_smoothing': 7.64660972835213e-05}. Best is trial 16 with value: 0.759375.\n",
      "[I 2024-02-26 10:47:04,231] Trial 86 finished with value: 0.753125 and parameters: {'var_smoothing': 5.0372142680901875e-05}. Best is trial 16 with value: 0.759375.\n",
      "[I 2024-02-26 10:47:04,284] Trial 87 finished with value: 0.75 and parameters: {'var_smoothing': 2.870599456092925e-05}. Best is trial 16 with value: 0.759375.\n",
      "[I 2024-02-26 10:47:04,336] Trial 88 finished with value: 0.75625 and parameters: {'var_smoothing': 7.665730841984902e-05}. Best is trial 16 with value: 0.759375.\n",
      "[I 2024-02-26 10:47:04,389] Trial 89 finished with value: 0.75 and parameters: {'var_smoothing': 1.8166303609067144e-06}. Best is trial 16 with value: 0.759375.\n",
      "[I 2024-02-26 10:47:04,444] Trial 90 finished with value: 0.75 and parameters: {'var_smoothing': 2.0074093655132834e-05}. Best is trial 16 with value: 0.759375.\n",
      "[I 2024-02-26 10:47:04,496] Trial 91 finished with value: 0.75625 and parameters: {'var_smoothing': 5.5257597256012086e-05}. Best is trial 16 with value: 0.759375.\n",
      "[I 2024-02-26 10:47:04,549] Trial 92 finished with value: 0.75625 and parameters: {'var_smoothing': 7.93648619229145e-05}. Best is trial 16 with value: 0.759375.\n",
      "[I 2024-02-26 10:47:04,602] Trial 93 finished with value: 0.753125 and parameters: {'var_smoothing': 4.281399083390583e-05}. Best is trial 16 with value: 0.759375.\n",
      "[I 2024-02-26 10:47:04,654] Trial 94 finished with value: 0.759375 and parameters: {'var_smoothing': 9.974532805736899e-05}. Best is trial 16 with value: 0.759375.\n",
      "[I 2024-02-26 10:47:04,706] Trial 95 finished with value: 0.75625 and parameters: {'var_smoothing': 5.935744184689015e-05}. Best is trial 16 with value: 0.759375.\n",
      "[I 2024-02-26 10:47:04,758] Trial 96 finished with value: 0.75625 and parameters: {'var_smoothing': 7.521862148872147e-05}. Best is trial 16 with value: 0.759375.\n",
      "[I 2024-02-26 10:47:04,811] Trial 97 finished with value: 0.75 and parameters: {'var_smoothing': 1.5946415134280958e-07}. Best is trial 16 with value: 0.759375.\n",
      "[I 2024-02-26 10:47:04,862] Trial 98 finished with value: 0.75 and parameters: {'var_smoothing': 3.314209555652866e-05}. Best is trial 16 with value: 0.759375.\n",
      "[I 2024-02-26 10:47:04,912] Trial 99 finished with value: 0.75625 and parameters: {'var_smoothing': 5.6320722561128426e-05}. Best is trial 16 with value: 0.759375.\n",
      "/opt/conda/lib/python3.10/site-packages/sklearn/metrics/_classification.py:1344: UndefinedMetricWarning: Precision is ill-defined and being set to 0.0 in labels with no predicted samples. Use `zero_division` parameter to control this behavior.\n",
      "  _warn_prf(average, modifier, msg_start, len(result))\n"
     ]
    },
    {
     "name": "stdout",
     "output_type": "stream",
     "text": [
      "Best params found : {'var_smoothing': 9.564473447376431e-05}\n",
      "accuracy: 0.9625\n",
      "recall: 0.9537037037037037\n",
      "precision: 0.9560185185185185\n",
      "f1-score: 0.9509139009139008\n",
      "roc_auc:  0.9763059795954534\n"
     ]
    }
   ],
   "source": [
    "study = optuna.create_study(direction = 'maximize')\n",
    "study.optimize(objective, n_trials = 100)\n",
    "best_params = study.best_params\n",
    "print(\"Best params found :\", best_params)\n",
    "\n",
    "final_model = GaussianNB(**best_params)\n",
    "final_model.fit(X_train_reduced, y_train)\n",
    "y_pred = final_model.predict(X_test_reduced)\n",
    "prediction_results['logistic regression'] = y_pred \n",
    "\n",
    "accuracy = accuracy_score(y_test, y_pred)\n",
    "precision = precision_score(y_test, y_pred, average='macro')\n",
    "recall = recall_score(y_test, y_pred, average='macro')\n",
    "f1 = f1_score(y_test, y_pred, average='macro')\n",
    "\n",
    "# Fit a label binarizer to get all possible classes\n",
    "label_binarizer = LabelBinarizer()\n",
    "label_binarizer.fit(y_test)\n",
    "\n",
    "# Transform y_test and y_pred to one-hot encoding with the same set of columns\n",
    "y_test_onehot = pd.DataFrame(label_binarizer.transform(\n",
    "    y_test), columns=label_binarizer.classes_)\n",
    "y_pred_onehot = pd.DataFrame(label_binarizer.transform(\n",
    "    y_pred), columns=label_binarizer.classes_)\n",
    "\n",
    "# Ensure both sets have the same columns\n",
    "all_columns = set(y_test_onehot.columns).union(set(y_pred_onehot.columns))\n",
    "y_test_onehot = y_test_onehot.reindex(columns=all_columns, fill_value=0)\n",
    "y_pred_onehot = y_pred_onehot.reindex(columns=all_columns, fill_value=0)\n",
    "\n",
    "# ROC AUC score with multiclass handling\n",
    "roc_auc_macro = roc_auc_score(\n",
    "    y_test_onehot, y_pred_onehot, average='macro', multi_class='ovo')\n",
    "\n",
    "print(\"accuracy:\", accuracy)\n",
    "print(\"recall:\", recall)\n",
    "print(\"precision:\", precision)\n",
    "print(\"f1-score:\", f1)\n",
    "print('roc_auc: ', roc_auc_macro)"
   ]
  },
  {
   "cell_type": "markdown",
   "id": "67c9ff22",
   "metadata": {
    "papermill": {
     "duration": 0.037511,
     "end_time": "2024-02-26T10:47:05.042471",
     "exception": false,
     "start_time": "2024-02-26T10:47:05.004960",
     "status": "completed"
    },
    "tags": []
   },
   "source": [
    "****"
   ]
  },
  {
   "cell_type": "markdown",
   "id": "da2cc50e",
   "metadata": {
    "papermill": {
     "duration": 0.037397,
     "end_time": "2024-02-26T10:47:05.117663",
     "exception": false,
     "start_time": "2024-02-26T10:47:05.080266",
     "status": "completed"
    },
    "tags": []
   },
   "source": [
    "# Logistic Regression"
   ]
  },
  {
   "cell_type": "markdown",
   "id": "fc1a01cb",
   "metadata": {
    "papermill": {
     "duration": 0.03737,
     "end_time": "2024-02-26T10:47:05.192863",
     "exception": false,
     "start_time": "2024-02-26T10:47:05.155493",
     "status": "completed"
    },
    "tags": []
   },
   "source": [
    "**Normal**"
   ]
  },
  {
   "cell_type": "code",
   "execution_count": 21,
   "id": "5da98be7",
   "metadata": {
    "execution": {
     "iopub.execute_input": "2024-02-26T10:47:05.270594Z",
     "iopub.status.busy": "2024-02-26T10:47:05.270214Z",
     "iopub.status.idle": "2024-02-26T10:47:05.594201Z",
     "shell.execute_reply": "2024-02-26T10:47:05.592359Z"
    },
    "papermill": {
     "duration": 0.369814,
     "end_time": "2024-02-26T10:47:05.600275",
     "exception": false,
     "start_time": "2024-02-26T10:47:05.230461",
     "status": "completed"
    },
    "tags": []
   },
   "outputs": [
    {
     "name": "stdout",
     "output_type": "stream",
     "text": [
      "accuracy: 1.0\n",
      "recall: 1.0\n",
      "precision: 1.0\n",
      "f1-score: 1.0\n",
      "roc_auc:  1.0\n"
     ]
    },
    {
     "name": "stderr",
     "output_type": "stream",
     "text": [
      "/opt/conda/lib/python3.10/site-packages/sklearn/linear_model/_logistic.py:458: ConvergenceWarning: lbfgs failed to converge (status=1):\n",
      "STOP: TOTAL NO. of ITERATIONS REACHED LIMIT.\n",
      "\n",
      "Increase the number of iterations (max_iter) or scale the data as shown in:\n",
      "    https://scikit-learn.org/stable/modules/preprocessing.html\n",
      "Please also refer to the documentation for alternative solver options:\n",
      "    https://scikit-learn.org/stable/modules/linear_model.html#logistic-regression\n",
      "  n_iter_i = _check_optimize_result(\n"
     ]
    }
   ],
   "source": [
    "lr = LogisticRegression()\n",
    "lr.fit(X_train_reduced, y_train)\n",
    "y_pred = lr.predict(X_test_reduced)\n",
    "\n",
    "accuracy = accuracy_score(y_test, y_pred)\n",
    "precision = precision_score(y_test, y_pred, average='macro')\n",
    "recall = recall_score(y_test, y_pred, average='macro')\n",
    "f1 = f1_score(y_test, y_pred, average='macro')\n",
    "\n",
    "# Fit a label binarizer to get all possible classes\n",
    "label_binarizer = LabelBinarizer()\n",
    "label_binarizer.fit(y_test)\n",
    "\n",
    "# Transform y_test and y_pred to one-hot encoding with the same set of columns\n",
    "y_test_onehot = pd.DataFrame(label_binarizer.transform(\n",
    "    y_test), columns=label_binarizer.classes_)\n",
    "y_pred_onehot = pd.DataFrame(label_binarizer.transform(\n",
    "    y_pred), columns=label_binarizer.classes_)\n",
    "\n",
    "# Ensure both sets have the same columns\n",
    "all_columns = set(y_test_onehot.columns).union(set(y_pred_onehot.columns))\n",
    "y_test_onehot = y_test_onehot.reindex(columns=all_columns, fill_value=0)\n",
    "y_pred_onehot = y_pred_onehot.reindex(columns=all_columns, fill_value=0)\n",
    "\n",
    "# ROC AUC score with multiclass handling\n",
    "roc_auc_macro = roc_auc_score(\n",
    "    y_test_onehot, y_pred_onehot, average='macro', multi_class='ovo')\n",
    "\n",
    "print(\"accuracy:\", accuracy)\n",
    "print(\"recall:\", recall)\n",
    "print(\"precision:\", precision)\n",
    "print(\"f1-score:\", f1)\n",
    "print('roc_auc: ', roc_auc_macro)"
   ]
  },
  {
   "cell_type": "markdown",
   "id": "96e5fc8d",
   "metadata": {
    "papermill": {
     "duration": 0.03814,
     "end_time": "2024-02-26T10:47:05.690443",
     "exception": false,
     "start_time": "2024-02-26T10:47:05.652303",
     "status": "completed"
    },
    "tags": []
   },
   "source": [
    "**Tunning**"
   ]
  },
  {
   "cell_type": "code",
   "execution_count": 22,
   "id": "c1d540f1",
   "metadata": {
    "execution": {
     "iopub.execute_input": "2024-02-26T10:47:05.770085Z",
     "iopub.status.busy": "2024-02-26T10:47:05.768982Z",
     "iopub.status.idle": "2024-02-26T10:47:05.777540Z",
     "shell.execute_reply": "2024-02-26T10:47:05.776429Z"
    },
    "papermill": {
     "duration": 0.050888,
     "end_time": "2024-02-26T10:47:05.779936",
     "exception": false,
     "start_time": "2024-02-26T10:47:05.729048",
     "status": "completed"
    },
    "tags": []
   },
   "outputs": [],
   "source": [
    "import optuna\n",
    "from sklearn.model_selection import cross_val_score\n",
    "import warnings\n",
    "warnings.filterwarnings('ignore')\n",
    "\n",
    "\n",
    "def objective(trial):\n",
    "    hyperparams = {\n",
    "        'solver': trial.suggest_categorical('solver', ['lbfgs', 'liblinear', 'newton-cg', 'saga']),\n",
    "        'penalty': trial.suggest_categorical('penalty', ['l2']),\n",
    "        'multi_class': trial.suggest_categorical('multi_class', ['ovr']),\n",
    "        'C': trial.suggest_loguniform(\"C\", 1e-3, 1e3),\n",
    "        'n_jobs': -1\n",
    "    }\n",
    "\n",
    "    model = LogisticRegression(**hyperparams)\n",
    "    scores = cross_val_score(model, X_train_reduced,\n",
    "                             y_train, cv=kf, scoring='accuracy')\n",
    "    return np.mean(scores)"
   ]
  },
  {
   "cell_type": "code",
   "execution_count": 23,
   "id": "0687b7cd",
   "metadata": {
    "execution": {
     "iopub.execute_input": "2024-02-26T10:47:05.860794Z",
     "iopub.status.busy": "2024-02-26T10:47:05.859759Z",
     "iopub.status.idle": "2024-02-26T11:05:00.864017Z",
     "shell.execute_reply": "2024-02-26T11:05:00.862303Z"
    },
    "papermill": {
     "duration": 1075.04911,
     "end_time": "2024-02-26T11:05:00.868653",
     "exception": false,
     "start_time": "2024-02-26T10:47:05.819543",
     "status": "completed"
    },
    "tags": []
   },
   "outputs": [
    {
     "name": "stderr",
     "output_type": "stream",
     "text": [
      "[I 2024-02-26 10:47:05,868] A new study created in memory with name: no-name-dd1f8832-8fde-4a9e-acea-15d292a11bc2\n",
      "[I 2024-02-26 10:47:23,700] Trial 0 finished with value: 0.909375 and parameters: {'solver': 'liblinear', 'penalty': 'l2', 'multi_class': 'ovr', 'C': 9.041029724158161}. Best is trial 0 with value: 0.909375.\n",
      "[I 2024-02-26 10:47:37,989] Trial 1 finished with value: 0.896875 and parameters: {'solver': 'liblinear', 'penalty': 'l2', 'multi_class': 'ovr', 'C': 0.0973623639166902}. Best is trial 0 with value: 0.909375.\n",
      "[I 2024-02-26 10:47:39,216] Trial 2 finished with value: 0.803125 and parameters: {'solver': 'saga', 'penalty': 'l2', 'multi_class': 'ovr', 'C': 1.0631266560755963}. Best is trial 0 with value: 0.909375.\n",
      "[I 2024-02-26 10:47:53,681] Trial 3 finished with value: 0.953125 and parameters: {'solver': 'newton-cg', 'penalty': 'l2', 'multi_class': 'ovr', 'C': 0.07803419612619025}. Best is trial 3 with value: 0.953125.\n",
      "[I 2024-02-26 10:48:03,733] Trial 4 finished with value: 0.934375 and parameters: {'solver': 'newton-cg', 'penalty': 'l2', 'multi_class': 'ovr', 'C': 11.733656699448753}. Best is trial 3 with value: 0.953125.\n",
      "/opt/conda/lib/python3.10/site-packages/sklearn/linear_model/_logistic.py:458: ConvergenceWarning: lbfgs failed to converge (status=1):\n",
      "STOP: TOTAL NO. of ITERATIONS REACHED LIMIT.\n",
      "\n",
      "Increase the number of iterations (max_iter) or scale the data as shown in:\n",
      "    https://scikit-learn.org/stable/modules/preprocessing.html\n",
      "Please also refer to the documentation for alternative solver options:\n",
      "    https://scikit-learn.org/stable/modules/linear_model.html#logistic-regression\n",
      "  n_iter_i = _check_optimize_result(\n",
      "/opt/conda/lib/python3.10/site-packages/sklearn/linear_model/_logistic.py:458: ConvergenceWarning: lbfgs failed to converge (status=1):\n",
      "STOP: TOTAL NO. of ITERATIONS REACHED LIMIT.\n",
      "\n",
      "Increase the number of iterations (max_iter) or scale the data as shown in:\n",
      "    https://scikit-learn.org/stable/modules/preprocessing.html\n",
      "Please also refer to the documentation for alternative solver options:\n",
      "    https://scikit-learn.org/stable/modules/linear_model.html#logistic-regression\n",
      "  n_iter_i = _check_optimize_result(\n",
      "/opt/conda/lib/python3.10/site-packages/sklearn/linear_model/_logistic.py:458: ConvergenceWarning: lbfgs failed to converge (status=1):\n",
      "STOP: TOTAL NO. of ITERATIONS REACHED LIMIT.\n",
      "\n",
      "Increase the number of iterations (max_iter) or scale the data as shown in:\n",
      "    https://scikit-learn.org/stable/modules/preprocessing.html\n",
      "Please also refer to the documentation for alternative solver options:\n",
      "    https://scikit-learn.org/stable/modules/linear_model.html#logistic-regression\n",
      "  n_iter_i = _check_optimize_result(\n",
      "/opt/conda/lib/python3.10/site-packages/sklearn/linear_model/_logistic.py:458: ConvergenceWarning: lbfgs failed to converge (status=1):\n",
      "STOP: TOTAL NO. of ITERATIONS REACHED LIMIT.\n",
      "\n",
      "Increase the number of iterations (max_iter) or scale the data as shown in:\n",
      "    https://scikit-learn.org/stable/modules/preprocessing.html\n",
      "Please also refer to the documentation for alternative solver options:\n",
      "    https://scikit-learn.org/stable/modules/linear_model.html#logistic-regression\n",
      "  n_iter_i = _check_optimize_result(\n",
      "[I 2024-02-26 10:48:05,398] Trial 5 finished with value: 0.953125 and parameters: {'solver': 'lbfgs', 'penalty': 'l2', 'multi_class': 'ovr', 'C': 5.899027887855653}. Best is trial 3 with value: 0.953125.\n",
      "[I 2024-02-26 10:48:18,750] Trial 6 finished with value: 0.88125 and parameters: {'solver': 'liblinear', 'penalty': 'l2', 'multi_class': 'ovr', 'C': 0.04414054372452123}. Best is trial 3 with value: 0.953125.\n",
      "/opt/conda/lib/python3.10/site-packages/sklearn/utils/optimize.py:210: ConvergenceWarning: newton-cg failed to converge. Increase the number of iterations.\n",
      "  warnings.warn(\n",
      "/opt/conda/lib/python3.10/site-packages/sklearn/utils/optimize.py:210: ConvergenceWarning: newton-cg failed to converge. Increase the number of iterations.\n",
      "  warnings.warn(\n",
      "/opt/conda/lib/python3.10/site-packages/sklearn/utils/optimize.py:210: ConvergenceWarning: newton-cg failed to converge. Increase the number of iterations.\n",
      "  warnings.warn(\n",
      "/opt/conda/lib/python3.10/site-packages/sklearn/utils/optimize.py:210: ConvergenceWarning: newton-cg failed to converge. Increase the number of iterations.\n",
      "  warnings.warn(\n",
      "[I 2024-02-26 10:48:32,813] Trial 7 finished with value: 0.953125 and parameters: {'solver': 'newton-cg', 'penalty': 'l2', 'multi_class': 'ovr', 'C': 0.005706141555920358}. Best is trial 3 with value: 0.953125.\n",
      "[I 2024-02-26 10:48:34,532] Trial 8 finished with value: 0.953125 and parameters: {'solver': 'lbfgs', 'penalty': 'l2', 'multi_class': 'ovr', 'C': 0.10237262402771088}. Best is trial 3 with value: 0.953125.\n",
      "[I 2024-02-26 10:48:44,099] Trial 9 finished with value: 0.9125 and parameters: {'solver': 'newton-cg', 'penalty': 'l2', 'multi_class': 'ovr', 'C': 95.65206006188488}. Best is trial 3 with value: 0.953125.\n",
      "[I 2024-02-26 10:48:45,354] Trial 10 finished with value: 0.803125 and parameters: {'solver': 'saga', 'penalty': 'l2', 'multi_class': 'ovr', 'C': 0.0010169012117942865}. Best is trial 3 with value: 0.953125.\n",
      "[I 2024-02-26 10:48:46,721] Trial 11 finished with value: 0.846875 and parameters: {'solver': 'lbfgs', 'penalty': 'l2', 'multi_class': 'ovr', 'C': 891.8195776002259}. Best is trial 3 with value: 0.953125.\n",
      "[I 2024-02-26 10:48:48,418] Trial 12 finished with value: 0.953125 and parameters: {'solver': 'lbfgs', 'penalty': 'l2', 'multi_class': 'ovr', 'C': 1.9060774901390631}. Best is trial 3 with value: 0.953125.\n",
      "[I 2024-02-26 10:49:00,177] Trial 13 finished with value: 0.953125 and parameters: {'solver': 'newton-cg', 'penalty': 'l2', 'multi_class': 'ovr', 'C': 0.28937851930865305}. Best is trial 3 with value: 0.953125.\n",
      "[I 2024-02-26 10:49:01,875] Trial 14 finished with value: 0.953125 and parameters: {'solver': 'lbfgs', 'penalty': 'l2', 'multi_class': 'ovr', 'C': 0.015911253569396346}. Best is trial 3 with value: 0.953125.\n",
      "[I 2024-02-26 10:49:03,597] Trial 15 finished with value: 0.95 and parameters: {'solver': 'lbfgs', 'penalty': 'l2', 'multi_class': 'ovr', 'C': 7.864578892170024}. Best is trial 3 with value: 0.953125.\n",
      "[I 2024-02-26 10:49:13,028] Trial 16 finished with value: 0.921875 and parameters: {'solver': 'newton-cg', 'penalty': 'l2', 'multi_class': 'ovr', 'C': 67.19498749429148}. Best is trial 3 with value: 0.953125.\n",
      "[I 2024-02-26 10:49:14,290] Trial 17 finished with value: 0.803125 and parameters: {'solver': 'saga', 'penalty': 'l2', 'multi_class': 'ovr', 'C': 0.4056717257676688}. Best is trial 3 with value: 0.953125.\n",
      "[I 2024-02-26 10:49:24,661] Trial 18 finished with value: 0.94375 and parameters: {'solver': 'newton-cg', 'penalty': 'l2', 'multi_class': 'ovr', 'C': 2.1176799779355657}. Best is trial 3 with value: 0.953125.\n",
      "[I 2024-02-26 10:49:26,321] Trial 19 finished with value: 0.953125 and parameters: {'solver': 'lbfgs', 'penalty': 'l2', 'multi_class': 'ovr', 'C': 0.004422481141179218}. Best is trial 3 with value: 0.953125.\n",
      "[I 2024-02-26 10:49:36,390] Trial 20 finished with value: 0.925 and parameters: {'solver': 'newton-cg', 'penalty': 'l2', 'multi_class': 'ovr', 'C': 62.327312680188115}. Best is trial 3 with value: 0.953125.\n",
      "[I 2024-02-26 10:49:49,880] Trial 21 finished with value: 0.953125 and parameters: {'solver': 'newton-cg', 'penalty': 'l2', 'multi_class': 'ovr', 'C': 0.00752560444491262}. Best is trial 3 with value: 0.953125.\n",
      "[I 2024-02-26 10:50:03,716] Trial 22 finished with value: 0.953125 and parameters: {'solver': 'newton-cg', 'penalty': 'l2', 'multi_class': 'ovr', 'C': 0.001346048547006404}. Best is trial 3 with value: 0.953125.\n",
      "[I 2024-02-26 10:50:16,722] Trial 23 finished with value: 0.95625 and parameters: {'solver': 'newton-cg', 'penalty': 'l2', 'multi_class': 'ovr', 'C': 0.027290871093596444}. Best is trial 23 with value: 0.95625.\n",
      "[I 2024-02-26 10:50:29,605] Trial 24 finished with value: 0.95625 and parameters: {'solver': 'newton-cg', 'penalty': 'l2', 'multi_class': 'ovr', 'C': 0.029700532423777567}. Best is trial 23 with value: 0.95625.\n",
      "[I 2024-02-26 10:50:43,156] Trial 25 finished with value: 0.95625 and parameters: {'solver': 'newton-cg', 'penalty': 'l2', 'multi_class': 'ovr', 'C': 0.022238553975005577}. Best is trial 23 with value: 0.95625.\n",
      "[I 2024-02-26 10:50:56,036] Trial 26 finished with value: 0.953125 and parameters: {'solver': 'newton-cg', 'penalty': 'l2', 'multi_class': 'ovr', 'C': 0.027137023764778154}. Best is trial 23 with value: 0.95625.\n",
      "[I 2024-02-26 10:51:09,865] Trial 27 finished with value: 0.95625 and parameters: {'solver': 'newton-cg', 'penalty': 'l2', 'multi_class': 'ovr', 'C': 0.01552061784467553}. Best is trial 23 with value: 0.95625.\n",
      "[I 2024-02-26 10:51:21,066] Trial 28 finished with value: 0.95 and parameters: {'solver': 'newton-cg', 'penalty': 'l2', 'multi_class': 'ovr', 'C': 0.4550376290674381}. Best is trial 23 with value: 0.95625.\n",
      "[I 2024-02-26 10:51:29,675] Trial 29 finished with value: 0.815625 and parameters: {'solver': 'liblinear', 'penalty': 'l2', 'multi_class': 'ovr', 'C': 0.0030232132199470916}. Best is trial 23 with value: 0.95625.\n",
      "[I 2024-02-26 10:51:41,605] Trial 30 finished with value: 0.953125 and parameters: {'solver': 'newton-cg', 'penalty': 'l2', 'multi_class': 'ovr', 'C': 0.21254879333052018}. Best is trial 23 with value: 0.95625.\n",
      "[I 2024-02-26 10:51:54,889] Trial 31 finished with value: 0.953125 and parameters: {'solver': 'newton-cg', 'penalty': 'l2', 'multi_class': 'ovr', 'C': 0.013842279801137754}. Best is trial 23 with value: 0.95625.\n",
      "[I 2024-02-26 10:52:07,814] Trial 32 finished with value: 0.95625 and parameters: {'solver': 'newton-cg', 'penalty': 'l2', 'multi_class': 'ovr', 'C': 0.028261259991416036}. Best is trial 23 with value: 0.95625.\n",
      "[I 2024-02-26 10:52:21,956] Trial 33 finished with value: 0.89375 and parameters: {'solver': 'liblinear', 'penalty': 'l2', 'multi_class': 'ovr', 'C': 0.08104574772645114}. Best is trial 23 with value: 0.95625.\n",
      "[I 2024-02-26 10:52:23,227] Trial 34 finished with value: 0.803125 and parameters: {'solver': 'saga', 'penalty': 'l2', 'multi_class': 'ovr', 'C': 0.01222255738419423}. Best is trial 23 with value: 0.95625.\n",
      "[I 2024-02-26 10:52:34,851] Trial 35 finished with value: 0.95 and parameters: {'solver': 'newton-cg', 'penalty': 'l2', 'multi_class': 'ovr', 'C': 0.14456700775241427}. Best is trial 23 with value: 0.95625.\n",
      "[I 2024-02-26 10:52:48,735] Trial 36 finished with value: 0.953125 and parameters: {'solver': 'newton-cg', 'penalty': 'l2', 'multi_class': 'ovr', 'C': 0.0025000715607282065}. Best is trial 23 with value: 0.95625.\n",
      "[I 2024-02-26 10:53:01,362] Trial 37 finished with value: 0.953125 and parameters: {'solver': 'newton-cg', 'penalty': 'l2', 'multi_class': 'ovr', 'C': 0.041940573068562276}. Best is trial 23 with value: 0.95625.\n",
      "[I 2024-02-26 10:53:15,181] Trial 38 finished with value: 0.890625 and parameters: {'solver': 'liblinear', 'penalty': 'l2', 'multi_class': 'ovr', 'C': 0.06075034837599841}. Best is trial 23 with value: 0.95625.\n",
      "[I 2024-02-26 10:53:25,895] Trial 39 finished with value: 0.95 and parameters: {'solver': 'newton-cg', 'penalty': 'l2', 'multi_class': 'ovr', 'C': 0.911231491336085}. Best is trial 23 with value: 0.95625.\n",
      "[I 2024-02-26 10:53:39,045] Trial 40 finished with value: 0.953125 and parameters: {'solver': 'newton-cg', 'penalty': 'l2', 'multi_class': 'ovr', 'C': 0.01051745678722566}. Best is trial 23 with value: 0.95625.\n",
      "[I 2024-02-26 10:53:52,455] Trial 41 finished with value: 0.95625 and parameters: {'solver': 'newton-cg', 'penalty': 'l2', 'multi_class': 'ovr', 'C': 0.023985908593752277}. Best is trial 23 with value: 0.95625.\n",
      "[I 2024-02-26 10:54:05,161] Trial 42 finished with value: 0.95625 and parameters: {'solver': 'newton-cg', 'penalty': 'l2', 'multi_class': 'ovr', 'C': 0.034100043870742926}. Best is trial 23 with value: 0.95625.\n",
      "[I 2024-02-26 10:54:18,625] Trial 43 finished with value: 0.953125 and parameters: {'solver': 'newton-cg', 'penalty': 'l2', 'multi_class': 'ovr', 'C': 0.005883305112813426}. Best is trial 23 with value: 0.95625.\n",
      "[I 2024-02-26 10:54:30,608] Trial 44 finished with value: 0.95 and parameters: {'solver': 'newton-cg', 'penalty': 'l2', 'multi_class': 'ovr', 'C': 0.1535552464379516}. Best is trial 23 with value: 0.95625.\n",
      "[I 2024-02-26 10:54:31,824] Trial 45 finished with value: 0.803125 and parameters: {'solver': 'saga', 'penalty': 'l2', 'multi_class': 'ovr', 'C': 0.018514455019287127}. Best is trial 23 with value: 0.95625.\n",
      "[I 2024-02-26 10:54:44,302] Trial 46 finished with value: 0.953125 and parameters: {'solver': 'newton-cg', 'penalty': 'l2', 'multi_class': 'ovr', 'C': 0.060108323402291136}. Best is trial 23 with value: 0.95625.\n",
      "[I 2024-02-26 10:54:58,286] Trial 47 finished with value: 0.953125 and parameters: {'solver': 'newton-cg', 'penalty': 'l2', 'multi_class': 'ovr', 'C': 0.0031410991978218596}. Best is trial 23 with value: 0.95625.\n",
      "[I 2024-02-26 10:55:12,605] Trial 48 finished with value: 0.896875 and parameters: {'solver': 'liblinear', 'penalty': 'l2', 'multi_class': 'ovr', 'C': 0.09895180731019619}. Best is trial 23 with value: 0.95625.\n",
      "[I 2024-02-26 10:55:26,545] Trial 49 finished with value: 0.953125 and parameters: {'solver': 'newton-cg', 'penalty': 'l2', 'multi_class': 'ovr', 'C': 0.00890336891839612}. Best is trial 23 with value: 0.95625.\n",
      "[I 2024-02-26 10:55:27,783] Trial 50 finished with value: 0.803125 and parameters: {'solver': 'saga', 'penalty': 'l2', 'multi_class': 'ovr', 'C': 0.03005588338916903}. Best is trial 23 with value: 0.95625.\n",
      "[I 2024-02-26 10:55:40,757] Trial 51 finished with value: 0.95 and parameters: {'solver': 'newton-cg', 'penalty': 'l2', 'multi_class': 'ovr', 'C': 0.021890513207078872}. Best is trial 23 with value: 0.95625.\n",
      "[I 2024-02-26 10:55:53,201] Trial 52 finished with value: 0.953125 and parameters: {'solver': 'newton-cg', 'penalty': 'l2', 'multi_class': 'ovr', 'C': 0.04716174477227245}. Best is trial 23 with value: 0.95625.\n",
      "[I 2024-02-26 10:56:06,829] Trial 53 finished with value: 0.95625 and parameters: {'solver': 'newton-cg', 'penalty': 'l2', 'multi_class': 'ovr', 'C': 0.018184529740092954}. Best is trial 23 with value: 0.95625.\n",
      "[I 2024-02-26 10:56:20,063] Trial 54 finished with value: 0.953125 and parameters: {'solver': 'newton-cg', 'penalty': 'l2', 'multi_class': 'ovr', 'C': 0.0015434466345078087}. Best is trial 23 with value: 0.95625.\n",
      "[I 2024-02-26 10:56:34,242] Trial 55 finished with value: 0.953125 and parameters: {'solver': 'newton-cg', 'penalty': 'l2', 'multi_class': 'ovr', 'C': 0.006018977842164319}. Best is trial 23 with value: 0.95625.\n",
      "[I 2024-02-26 10:56:35,889] Trial 56 finished with value: 0.953125 and parameters: {'solver': 'lbfgs', 'penalty': 'l2', 'multi_class': 'ovr', 'C': 18.935703021828576}. Best is trial 23 with value: 0.95625.\n",
      "[I 2024-02-26 10:56:47,539] Trial 57 finished with value: 0.953125 and parameters: {'solver': 'newton-cg', 'penalty': 'l2', 'multi_class': 'ovr', 'C': 0.12778768004110014}. Best is trial 23 with value: 0.95625.\n",
      "[I 2024-02-26 10:56:58,431] Trial 58 finished with value: 0.95 and parameters: {'solver': 'newton-cg', 'penalty': 'l2', 'multi_class': 'ovr', 'C': 0.5743169737311511}. Best is trial 23 with value: 0.95625.\n",
      "[I 2024-02-26 10:57:11,880] Trial 59 finished with value: 0.953125 and parameters: {'solver': 'newton-cg', 'penalty': 'l2', 'multi_class': 'ovr', 'C': 0.02814793588801776}. Best is trial 23 with value: 0.95625.\n",
      "[I 2024-02-26 10:57:25,460] Trial 60 finished with value: 0.953125 and parameters: {'solver': 'newton-cg', 'penalty': 'l2', 'multi_class': 'ovr', 'C': 0.004543600651955395}. Best is trial 23 with value: 0.95625.\n",
      "[I 2024-02-26 10:57:38,764] Trial 61 finished with value: 0.95625 and parameters: {'solver': 'newton-cg', 'penalty': 'l2', 'multi_class': 'ovr', 'C': 0.032953259068139305}. Best is trial 23 with value: 0.95625.\n",
      "[I 2024-02-26 10:57:50,131] Trial 62 finished with value: 0.95 and parameters: {'solver': 'newton-cg', 'penalty': 'l2', 'multi_class': 'ovr', 'C': 0.2182695144246863}. Best is trial 23 with value: 0.95625.\n",
      "[I 2024-02-26 10:58:02,359] Trial 63 finished with value: 0.953125 and parameters: {'solver': 'newton-cg', 'penalty': 'l2', 'multi_class': 'ovr', 'C': 0.06818275294017642}. Best is trial 23 with value: 0.95625.\n",
      "[I 2024-02-26 10:58:15,577] Trial 64 finished with value: 0.953125 and parameters: {'solver': 'newton-cg', 'penalty': 'l2', 'multi_class': 'ovr', 'C': 0.04154764424277988}. Best is trial 23 with value: 0.95625.\n",
      "[I 2024-02-26 10:58:16,936] Trial 65 finished with value: 0.846875 and parameters: {'solver': 'lbfgs', 'penalty': 'l2', 'multi_class': 'ovr', 'C': 899.7452309066011}. Best is trial 23 with value: 0.95625.\n",
      "[I 2024-02-26 10:58:30,350] Trial 66 finished with value: 0.953125 and parameters: {'solver': 'newton-cg', 'penalty': 'l2', 'multi_class': 'ovr', 'C': 0.010815220603674803}. Best is trial 23 with value: 0.95625.\n",
      "[I 2024-02-26 10:58:31,577] Trial 67 finished with value: 0.803125 and parameters: {'solver': 'saga', 'penalty': 'l2', 'multi_class': 'ovr', 'C': 0.019136415554317138}. Best is trial 23 with value: 0.95625.\n",
      "[I 2024-02-26 10:58:42,412] Trial 68 finished with value: 0.83125 and parameters: {'solver': 'liblinear', 'penalty': 'l2', 'multi_class': 'ovr', 'C': 0.00855834788185188}. Best is trial 23 with value: 0.95625.\n",
      "[I 2024-02-26 10:58:55,883] Trial 69 finished with value: 0.953125 and parameters: {'solver': 'newton-cg', 'penalty': 'l2', 'multi_class': 'ovr', 'C': 0.0020644683548891587}. Best is trial 23 with value: 0.95625.\n",
      "[I 2024-02-26 10:59:09,134] Trial 70 finished with value: 0.95625 and parameters: {'solver': 'newton-cg', 'penalty': 'l2', 'multi_class': 'ovr', 'C': 0.014372800577813665}. Best is trial 23 with value: 0.95625.\n",
      "[I 2024-02-26 10:59:22,772] Trial 71 finished with value: 0.953125 and parameters: {'solver': 'newton-cg', 'penalty': 'l2', 'multi_class': 'ovr', 'C': 0.022273249327593263}. Best is trial 23 with value: 0.95625.\n",
      "[I 2024-02-26 10:59:32,210] Trial 72 finished with value: 0.890625 and parameters: {'solver': 'newton-cg', 'penalty': 'l2', 'multi_class': 'ovr', 'C': 437.6223008917872}. Best is trial 23 with value: 0.95625.\n",
      "[I 2024-02-26 10:59:45,391] Trial 73 finished with value: 0.953125 and parameters: {'solver': 'newton-cg', 'penalty': 'l2', 'multi_class': 'ovr', 'C': 0.042465971913524914}. Best is trial 23 with value: 0.95625.\n",
      "[I 2024-02-26 10:59:58,610] Trial 74 finished with value: 0.95625 and parameters: {'solver': 'newton-cg', 'penalty': 'l2', 'multi_class': 'ovr', 'C': 0.016860370433888563}. Best is trial 23 with value: 0.95625.\n",
      "[I 2024-02-26 11:00:10,700] Trial 75 finished with value: 0.953125 and parameters: {'solver': 'newton-cg', 'penalty': 'l2', 'multi_class': 'ovr', 'C': 0.08759156228266118}. Best is trial 23 with value: 0.95625.\n",
      "[I 2024-02-26 11:00:24,911] Trial 76 finished with value: 0.953125 and parameters: {'solver': 'newton-cg', 'penalty': 'l2', 'multi_class': 'ovr', 'C': 0.0038152842098313888}. Best is trial 23 with value: 0.95625.\n",
      "[I 2024-02-26 11:00:38,421] Trial 77 finished with value: 0.953125 and parameters: {'solver': 'newton-cg', 'penalty': 'l2', 'multi_class': 'ovr', 'C': 0.006898423482302998}. Best is trial 23 with value: 0.95625.\n",
      "[I 2024-02-26 11:00:40,130] Trial 78 finished with value: 0.953125 and parameters: {'solver': 'lbfgs', 'penalty': 'l2', 'multi_class': 'ovr', 'C': 0.057421117728501246}. Best is trial 23 with value: 0.95625.\n",
      "[I 2024-02-26 11:00:53,760] Trial 79 finished with value: 0.953125 and parameters: {'solver': 'newton-cg', 'penalty': 'l2', 'multi_class': 'ovr', 'C': 0.029655788911895905}. Best is trial 23 with value: 0.95625.\n",
      "[I 2024-02-26 11:01:05,146] Trial 80 finished with value: 0.840625 and parameters: {'solver': 'liblinear', 'penalty': 'l2', 'multi_class': 'ovr', 'C': 0.012039629244029106}. Best is trial 23 with value: 0.95625.\n",
      "[I 2024-02-26 11:01:17,959] Trial 81 finished with value: 0.953125 and parameters: {'solver': 'newton-cg', 'penalty': 'l2', 'multi_class': 'ovr', 'C': 0.034384877973042384}. Best is trial 23 with value: 0.95625.\n",
      "[I 2024-02-26 11:01:31,705] Trial 82 finished with value: 0.953125 and parameters: {'solver': 'newton-cg', 'penalty': 'l2', 'multi_class': 'ovr', 'C': 0.018094536717732607}. Best is trial 23 with value: 0.95625.\n",
      "[I 2024-02-26 11:01:44,678] Trial 83 finished with value: 0.953125 and parameters: {'solver': 'newton-cg', 'penalty': 'l2', 'multi_class': 'ovr', 'C': 0.02553607648309717}. Best is trial 23 with value: 0.95625.\n",
      "[I 2024-02-26 11:01:57,229] Trial 84 finished with value: 0.953125 and parameters: {'solver': 'newton-cg', 'penalty': 'l2', 'multi_class': 'ovr', 'C': 0.09745863744826415}. Best is trial 23 with value: 0.95625.\n",
      "[I 2024-02-26 11:02:07,671] Trial 85 finished with value: 0.95 and parameters: {'solver': 'newton-cg', 'penalty': 'l2', 'multi_class': 'ovr', 'C': 2.275123977412896}. Best is trial 23 with value: 0.95625.\n",
      "[I 2024-02-26 11:02:18,928] Trial 86 finished with value: 0.95 and parameters: {'solver': 'newton-cg', 'penalty': 'l2', 'multi_class': 'ovr', 'C': 0.2018608648191097}. Best is trial 23 with value: 0.95625.\n",
      "[I 2024-02-26 11:02:20,176] Trial 87 finished with value: 0.803125 and parameters: {'solver': 'saga', 'penalty': 'l2', 'multi_class': 'ovr', 'C': 0.05297774965142726}. Best is trial 23 with value: 0.95625.\n",
      "[I 2024-02-26 11:02:33,536] Trial 88 finished with value: 0.95625 and parameters: {'solver': 'newton-cg', 'penalty': 'l2', 'multi_class': 'ovr', 'C': 0.03733087847495865}. Best is trial 23 with value: 0.95625.\n",
      "[I 2024-02-26 11:02:46,807] Trial 89 finished with value: 0.953125 and parameters: {'solver': 'newton-cg', 'penalty': 'l2', 'multi_class': 'ovr', 'C': 0.008626215756863388}. Best is trial 23 with value: 0.95625.\n",
      "[I 2024-02-26 11:03:00,557] Trial 90 finished with value: 0.95625 and parameters: {'solver': 'newton-cg', 'penalty': 'l2', 'multi_class': 'ovr', 'C': 0.0128615462094004}. Best is trial 23 with value: 0.95625.\n",
      "[I 2024-02-26 11:03:13,782] Trial 91 finished with value: 0.95625 and parameters: {'solver': 'newton-cg', 'penalty': 'l2', 'multi_class': 'ovr', 'C': 0.013165095212675096}. Best is trial 23 with value: 0.95625.\n",
      "[I 2024-02-26 11:03:26,737] Trial 92 finished with value: 0.95625 and parameters: {'solver': 'newton-cg', 'penalty': 'l2', 'multi_class': 'ovr', 'C': 0.023709231534782407}. Best is trial 23 with value: 0.95625.\n",
      "[I 2024-02-26 11:03:40,710] Trial 93 finished with value: 0.953125 and parameters: {'solver': 'newton-cg', 'penalty': 'l2', 'multi_class': 'ovr', 'C': 0.005230374837613183}. Best is trial 23 with value: 0.95625.\n",
      "[I 2024-02-26 11:03:54,010] Trial 94 finished with value: 0.95625 and parameters: {'solver': 'newton-cg', 'penalty': 'l2', 'multi_class': 'ovr', 'C': 0.014818997179508572}. Best is trial 23 with value: 0.95625.\n",
      "[I 2024-02-26 11:04:06,700] Trial 95 finished with value: 0.953125 and parameters: {'solver': 'newton-cg', 'penalty': 'l2', 'multi_class': 'ovr', 'C': 0.07301985399938671}. Best is trial 23 with value: 0.95625.\n",
      "[I 2024-02-26 11:04:19,546] Trial 96 finished with value: 0.95625 and parameters: {'solver': 'newton-cg', 'penalty': 'l2', 'multi_class': 'ovr', 'C': 0.03134502673531007}. Best is trial 23 with value: 0.95625.\n",
      "[I 2024-02-26 11:04:31,033] Trial 97 finished with value: 0.95 and parameters: {'solver': 'newton-cg', 'penalty': 'l2', 'multi_class': 'ovr', 'C': 0.14189850934416387}. Best is trial 23 with value: 0.95625.\n",
      "[I 2024-02-26 11:04:32,700] Trial 98 finished with value: 0.95 and parameters: {'solver': 'lbfgs', 'penalty': 'l2', 'multi_class': 'ovr', 'C': 0.007064008480859323}. Best is trial 23 with value: 0.95625.\n",
      "[I 2024-02-26 11:04:46,478] Trial 99 finished with value: 0.953125 and parameters: {'solver': 'newton-cg', 'penalty': 'l2', 'multi_class': 'ovr', 'C': 0.01596598483922588}. Best is trial 23 with value: 0.95625.\n"
     ]
    },
    {
     "name": "stdout",
     "output_type": "stream",
     "text": [
      "Best params found : {'solver': 'newton-cg', 'penalty': 'l2', 'multi_class': 'ovr', 'C': 0.027290871093596444}\n",
      "accuracy: 1.0\n",
      "recall: 1.0\n",
      "precision: 1.0\n",
      "f1-score: 1.0\n",
      "roc_auc:  1.0\n"
     ]
    }
   ],
   "source": [
    "study = optuna.create_study(direction = 'maximize')\n",
    "study.optimize(objective, n_trials = 100)\n",
    "best_params = study.best_params\n",
    "print(\"Best params found :\", best_params)\n",
    "\n",
    "final_model = LogisticRegression(**best_params)\n",
    "final_model.fit(X_train_reduced, y_train)\n",
    "y_pred = final_model.predict(X_test_reduced)\n",
    "prediction_results['logistic regression'] = y_pred \n",
    "\n",
    "accuracy = accuracy_score(y_test, y_pred)\n",
    "precision = precision_score(y_test, y_pred, average='macro')\n",
    "recall = recall_score(y_test, y_pred, average='macro')\n",
    "f1 = f1_score(y_test, y_pred, average='macro')\n",
    "\n",
    "# Fit a label binarizer to get all possible classes\n",
    "label_binarizer = LabelBinarizer()\n",
    "label_binarizer.fit(y_test)\n",
    "\n",
    "# Transform y_test and y_pred to one-hot encoding with the same set of columns\n",
    "y_test_onehot = pd.DataFrame(label_binarizer.transform(\n",
    "    y_test), columns=label_binarizer.classes_)\n",
    "y_pred_onehot = pd.DataFrame(label_binarizer.transform(\n",
    "    y_pred), columns=label_binarizer.classes_)\n",
    "\n",
    "# Ensure both sets have the same columns\n",
    "all_columns = set(y_test_onehot.columns).union(set(y_pred_onehot.columns))\n",
    "y_test_onehot = y_test_onehot.reindex(columns=all_columns, fill_value=0)\n",
    "y_pred_onehot = y_pred_onehot.reindex(columns=all_columns, fill_value=0)\n",
    "\n",
    "# ROC AUC score with multiclass handling\n",
    "roc_auc_macro = roc_auc_score(\n",
    "    y_test_onehot, y_pred_onehot, average='macro', multi_class='ovo')\n",
    "\n",
    "print(\"accuracy:\", accuracy)\n",
    "print(\"recall:\", recall)\n",
    "print(\"precision:\", precision)\n",
    "print(\"f1-score:\", f1)\n",
    "print('roc_auc: ', roc_auc_macro)"
   ]
  },
  {
   "cell_type": "code",
   "execution_count": 24,
   "id": "76a3fc05",
   "metadata": {
    "execution": {
     "iopub.execute_input": "2024-02-26T11:05:00.986243Z",
     "iopub.status.busy": "2024-02-26T11:05:00.985796Z",
     "iopub.status.idle": "2024-02-26T11:05:00.990690Z",
     "shell.execute_reply": "2024-02-26T11:05:00.989544Z"
    },
    "papermill": {
     "duration": 0.057282,
     "end_time": "2024-02-26T11:05:00.992885",
     "exception": false,
     "start_time": "2024-02-26T11:05:00.935603",
     "status": "completed"
    },
    "tags": []
   },
   "outputs": [],
   "source": [
    "# lr = LogisticRegression(multi_class='ovr', solver='liblinear')\n",
    "# lr.fit(X_train_reduced, y_train)\n",
    "# y_pred = lr.predict(X_test_reduced)"
   ]
  },
  {
   "cell_type": "markdown",
   "id": "fec292ab",
   "metadata": {
    "papermill": {
     "duration": 0.048456,
     "end_time": "2024-02-26T11:05:01.089681",
     "exception": false,
     "start_time": "2024-02-26T11:05:01.041225",
     "status": "completed"
    },
    "tags": []
   },
   "source": [
    "# KNN Classifier"
   ]
  },
  {
   "cell_type": "markdown",
   "id": "6c73cba4",
   "metadata": {
    "papermill": {
     "duration": 0.047431,
     "end_time": "2024-02-26T11:05:01.185918",
     "exception": false,
     "start_time": "2024-02-26T11:05:01.138487",
     "status": "completed"
    },
    "tags": []
   },
   "source": [
    "**Normal**"
   ]
  },
  {
   "cell_type": "code",
   "execution_count": 25,
   "id": "44e419c8",
   "metadata": {
    "execution": {
     "iopub.execute_input": "2024-02-26T11:05:01.284154Z",
     "iopub.status.busy": "2024-02-26T11:05:01.283503Z",
     "iopub.status.idle": "2024-02-26T11:05:01.471388Z",
     "shell.execute_reply": "2024-02-26T11:05:01.470160Z"
    },
    "papermill": {
     "duration": 0.239978,
     "end_time": "2024-02-26T11:05:01.474011",
     "exception": false,
     "start_time": "2024-02-26T11:05:01.234033",
     "status": "completed"
    },
    "tags": []
   },
   "outputs": [
    {
     "name": "stdout",
     "output_type": "stream",
     "text": [
      "accuracy: 0.9125\n",
      "recall: 0.9375\n",
      "precision: 0.9143518518518517\n",
      "f1-score: 0.9068783068783068\n",
      "roc_auc:  0.9675079520807368\n"
     ]
    }
   ],
   "source": [
    "from sklearn.neighbors import KNeighborsClassifier\n",
    "\n",
    "knn = KNeighborsClassifier()\n",
    "knn.fit(X_train_reduced, y_train)\n",
    "y_pred = knn.predict(X_test_reduced)\n",
    "\n",
    "accuracy = accuracy_score(y_test, y_pred)\n",
    "precision = precision_score(y_test, y_pred, average='macro')\n",
    "recall = recall_score(y_test, y_pred, average='macro')\n",
    "f1 = f1_score(y_test, y_pred, average='macro')\n",
    "\n",
    "# Fit a label binarizer to get all possible classes\n",
    "label_binarizer = LabelBinarizer()\n",
    "label_binarizer.fit(y_test)\n",
    "\n",
    "# Transform y_test and y_pred to one-hot encoding with the same set of columns\n",
    "y_test_onehot = pd.DataFrame(label_binarizer.transform(\n",
    "    y_test), columns=label_binarizer.classes_)\n",
    "y_pred_onehot = pd.DataFrame(label_binarizer.transform(\n",
    "    y_pred), columns=label_binarizer.classes_)\n",
    "\n",
    "# Ensure both sets have the same columns\n",
    "all_columns = set(y_test_onehot.columns).union(set(y_pred_onehot.columns))\n",
    "y_test_onehot = y_test_onehot.reindex(columns=all_columns, fill_value=0)\n",
    "y_pred_onehot = y_pred_onehot.reindex(columns=all_columns, fill_value=0)\n",
    "\n",
    "# ROC AUC score with multiclass handling\n",
    "roc_auc_macro = roc_auc_score(\n",
    "    y_test_onehot, y_pred_onehot, average='macro', multi_class='ovo')\n",
    "\n",
    "print(\"accuracy:\", accuracy)\n",
    "print(\"recall:\", recall)\n",
    "print(\"precision:\", precision)\n",
    "print(\"f1-score:\", f1)\n",
    "print('roc_auc: ', roc_auc_macro)"
   ]
  },
  {
   "cell_type": "markdown",
   "id": "dd275af0",
   "metadata": {
    "papermill": {
     "duration": 0.051057,
     "end_time": "2024-02-26T11:05:01.574298",
     "exception": false,
     "start_time": "2024-02-26T11:05:01.523241",
     "status": "completed"
    },
    "tags": []
   },
   "source": [
    "**Tunning**"
   ]
  },
  {
   "cell_type": "code",
   "execution_count": 26,
   "id": "fb0c3042",
   "metadata": {
    "execution": {
     "iopub.execute_input": "2024-02-26T11:05:01.675600Z",
     "iopub.status.busy": "2024-02-26T11:05:01.674696Z",
     "iopub.status.idle": "2024-02-26T11:05:01.683246Z",
     "shell.execute_reply": "2024-02-26T11:05:01.682344Z"
    },
    "papermill": {
     "duration": 0.060963,
     "end_time": "2024-02-26T11:05:01.685580",
     "exception": false,
     "start_time": "2024-02-26T11:05:01.624617",
     "status": "completed"
    },
    "tags": []
   },
   "outputs": [],
   "source": [
    "import optuna\n",
    "from sklearn.model_selection import cross_val_score\n",
    "import warnings\n",
    "warnings.filterwarnings('ignore')\n",
    "\n",
    "def objective(trial):\n",
    "    hyperparams = {\n",
    "        'n_neighbors': trial.suggest_int(\"n_neighbors\", 5, 100),\n",
    "        'weights' : trial.suggest_categorical(\"weights\", [\"uniform\", \"distance\"]),\n",
    "        'metric' : trial.suggest_categorical(\"metric\", [\"euclidean\", \"manhattan\", \"minkowski\"]),\n",
    "        'algorithm':trial.suggest_categorical('algorithm',['auto', 'ball_tree', 'kd_tree', 'brute']),\n",
    "        'n_jobs': -1\n",
    "    }\n",
    "    \n",
    "    # Create KNN model with tuned hyperparameters\n",
    "    model = KNeighborsClassifier(**hyperparams)\n",
    "    scores = cross_val_score(model, X_train_reduced, y_train, cv = kf,scoring = 'accuracy')\n",
    "    return np.mean(scores)"
   ]
  },
  {
   "cell_type": "code",
   "execution_count": 27,
   "id": "75a00834",
   "metadata": {
    "execution": {
     "iopub.execute_input": "2024-02-26T11:05:01.784219Z",
     "iopub.status.busy": "2024-02-26T11:05:01.783550Z",
     "iopub.status.idle": "2024-02-26T11:05:10.872716Z",
     "shell.execute_reply": "2024-02-26T11:05:10.871093Z"
    },
    "papermill": {
     "duration": 9.141658,
     "end_time": "2024-02-26T11:05:10.875521",
     "exception": false,
     "start_time": "2024-02-26T11:05:01.733863",
     "status": "completed"
    },
    "tags": []
   },
   "outputs": [
    {
     "name": "stderr",
     "output_type": "stream",
     "text": [
      "[I 2024-02-26 11:05:01,792] A new study created in memory with name: no-name-b3871be1-06e4-4311-afbc-0aacce461207\n",
      "[I 2024-02-26 11:05:01,837] Trial 0 finished with value: 0.55625 and parameters: {'n_neighbors': 78, 'weights': 'distance', 'metric': 'manhattan', 'algorithm': 'brute'}. Best is trial 0 with value: 0.55625.\n",
      "[I 2024-02-26 11:05:01,878] Trial 1 finished with value: 0.609375 and parameters: {'n_neighbors': 46, 'weights': 'distance', 'metric': 'manhattan', 'algorithm': 'brute'}. Best is trial 1 with value: 0.609375.\n",
      "[I 2024-02-26 11:05:01,976] Trial 2 finished with value: 0.609375 and parameters: {'n_neighbors': 57, 'weights': 'distance', 'metric': 'minkowski', 'algorithm': 'kd_tree'}. Best is trial 1 with value: 0.609375.\n",
      "[I 2024-02-26 11:05:02,005] Trial 3 finished with value: 0.859375 and parameters: {'n_neighbors': 5, 'weights': 'distance', 'metric': 'euclidean', 'algorithm': 'auto'}. Best is trial 3 with value: 0.859375.\n",
      "[I 2024-02-26 11:05:02,038] Trial 4 finished with value: 0.684375 and parameters: {'n_neighbors': 20, 'weights': 'distance', 'metric': 'minkowski', 'algorithm': 'brute'}. Best is trial 3 with value: 0.859375.\n",
      "[I 2024-02-26 11:05:02,157] Trial 5 finished with value: 0.115625 and parameters: {'n_neighbors': 77, 'weights': 'uniform', 'metric': 'manhattan', 'algorithm': 'kd_tree'}. Best is trial 3 with value: 0.859375.\n",
      "[I 2024-02-26 11:05:02,214] Trial 6 finished with value: 0.06875 and parameters: {'n_neighbors': 82, 'weights': 'uniform', 'metric': 'euclidean', 'algorithm': 'brute'}. Best is trial 3 with value: 0.859375.\n",
      "[I 2024-02-26 11:05:02,254] Trial 7 finished with value: 0.628125 and parameters: {'n_neighbors': 41, 'weights': 'distance', 'metric': 'manhattan', 'algorithm': 'brute'}. Best is trial 3 with value: 0.859375.\n",
      "[I 2024-02-26 11:05:02,289] Trial 8 finished with value: 0.60625 and parameters: {'n_neighbors': 55, 'weights': 'distance', 'metric': 'minkowski', 'algorithm': 'brute'}. Best is trial 3 with value: 0.859375.\n",
      "[I 2024-02-26 11:05:02,332] Trial 9 finished with value: 0.578125 and parameters: {'n_neighbors': 72, 'weights': 'distance', 'metric': 'manhattan', 'algorithm': 'auto'}. Best is trial 3 with value: 0.859375.\n",
      "[I 2024-02-26 11:05:02,391] Trial 10 finished with value: 0.71875 and parameters: {'n_neighbors': 7, 'weights': 'uniform', 'metric': 'euclidean', 'algorithm': 'auto'}. Best is trial 3 with value: 0.859375.\n",
      "[I 2024-02-26 11:05:02,450] Trial 11 finished with value: 0.8 and parameters: {'n_neighbors': 5, 'weights': 'uniform', 'metric': 'euclidean', 'algorithm': 'auto'}. Best is trial 3 with value: 0.859375.\n",
      "[I 2024-02-26 11:05:02,509] Trial 12 finished with value: 0.71875 and parameters: {'n_neighbors': 7, 'weights': 'uniform', 'metric': 'euclidean', 'algorithm': 'auto'}. Best is trial 3 with value: 0.859375.\n",
      "[I 2024-02-26 11:05:02,635] Trial 13 finished with value: 0.3875 and parameters: {'n_neighbors': 27, 'weights': 'uniform', 'metric': 'euclidean', 'algorithm': 'ball_tree'}. Best is trial 3 with value: 0.859375.\n",
      "[I 2024-02-26 11:05:02,696] Trial 14 finished with value: 0.396875 and parameters: {'n_neighbors': 26, 'weights': 'uniform', 'metric': 'euclidean', 'algorithm': 'auto'}. Best is trial 3 with value: 0.859375.\n",
      "[I 2024-02-26 11:05:02,759] Trial 15 finished with value: 0.55 and parameters: {'n_neighbors': 16, 'weights': 'uniform', 'metric': 'euclidean', 'algorithm': 'auto'}. Best is trial 3 with value: 0.859375.\n",
      "[I 2024-02-26 11:05:02,869] Trial 16 finished with value: 0.575 and parameters: {'n_neighbors': 94, 'weights': 'distance', 'metric': 'euclidean', 'algorithm': 'ball_tree'}. Best is trial 3 with value: 0.859375.\n",
      "[I 2024-02-26 11:05:02,934] Trial 17 finished with value: 0.253125 and parameters: {'n_neighbors': 37, 'weights': 'uniform', 'metric': 'euclidean', 'algorithm': 'auto'}. Best is trial 3 with value: 0.859375.\n",
      "[I 2024-02-26 11:05:02,993] Trial 18 finished with value: 0.71875 and parameters: {'n_neighbors': 7, 'weights': 'uniform', 'metric': 'euclidean', 'algorithm': 'auto'}. Best is trial 3 with value: 0.859375.\n",
      "[I 2024-02-26 11:05:03,054] Trial 19 finished with value: 0.646875 and parameters: {'n_neighbors': 34, 'weights': 'distance', 'metric': 'euclidean', 'algorithm': 'auto'}. Best is trial 3 with value: 0.859375.\n",
      "[I 2024-02-26 11:05:03,165] Trial 20 finished with value: 0.715625 and parameters: {'n_neighbors': 17, 'weights': 'distance', 'metric': 'euclidean', 'algorithm': 'kd_tree'}. Best is trial 3 with value: 0.859375.\n",
      "[I 2024-02-26 11:05:03,242] Trial 21 finished with value: 0.8 and parameters: {'n_neighbors': 5, 'weights': 'uniform', 'metric': 'euclidean', 'algorithm': 'auto'}. Best is trial 3 with value: 0.859375.\n",
      "[I 2024-02-26 11:05:03,319] Trial 22 finished with value: 0.5875 and parameters: {'n_neighbors': 14, 'weights': 'uniform', 'metric': 'euclidean', 'algorithm': 'auto'}. Best is trial 3 with value: 0.859375.\n",
      "[I 2024-02-26 11:05:03,380] Trial 23 finished with value: 0.8 and parameters: {'n_neighbors': 5, 'weights': 'uniform', 'metric': 'euclidean', 'algorithm': 'auto'}. Best is trial 3 with value: 0.859375.\n",
      "[I 2024-02-26 11:05:03,504] Trial 24 finished with value: 0.365625 and parameters: {'n_neighbors': 28, 'weights': 'uniform', 'metric': 'minkowski', 'algorithm': 'ball_tree'}. Best is trial 3 with value: 0.859375.\n",
      "[I 2024-02-26 11:05:03,565] Trial 25 finished with value: 0.471875 and parameters: {'n_neighbors': 21, 'weights': 'uniform', 'metric': 'euclidean', 'algorithm': 'auto'}. Best is trial 3 with value: 0.859375.\n",
      "[I 2024-02-26 11:05:03,625] Trial 26 finished with value: 0.61875 and parameters: {'n_neighbors': 13, 'weights': 'uniform', 'metric': 'euclidean', 'algorithm': 'auto'}. Best is trial 3 with value: 0.859375.\n",
      "[I 2024-02-26 11:05:03,688] Trial 27 finished with value: 0.103125 and parameters: {'n_neighbors': 62, 'weights': 'uniform', 'metric': 'euclidean', 'algorithm': 'auto'}. Best is trial 3 with value: 0.859375.\n",
      "[I 2024-02-26 11:05:03,733] Trial 28 finished with value: 0.76875 and parameters: {'n_neighbors': 12, 'weights': 'distance', 'metric': 'minkowski', 'algorithm': 'auto'}. Best is trial 3 with value: 0.859375.\n",
      "[I 2024-02-26 11:05:03,840] Trial 29 finished with value: 0.65 and parameters: {'n_neighbors': 29, 'weights': 'distance', 'metric': 'euclidean', 'algorithm': 'ball_tree'}. Best is trial 3 with value: 0.859375.\n",
      "[I 2024-02-26 11:05:03,964] Trial 30 finished with value: 0.528125 and parameters: {'n_neighbors': 20, 'weights': 'uniform', 'metric': 'manhattan', 'algorithm': 'kd_tree'}. Best is trial 3 with value: 0.859375.\n",
      "[I 2024-02-26 11:05:04,023] Trial 31 finished with value: 0.75 and parameters: {'n_neighbors': 6, 'weights': 'uniform', 'metric': 'euclidean', 'algorithm': 'auto'}. Best is trial 3 with value: 0.859375.\n",
      "[I 2024-02-26 11:05:04,082] Trial 32 finished with value: 0.8 and parameters: {'n_neighbors': 5, 'weights': 'uniform', 'metric': 'euclidean', 'algorithm': 'auto'}. Best is trial 3 with value: 0.859375.\n",
      "[I 2024-02-26 11:05:04,145] Trial 33 finished with value: 0.165625 and parameters: {'n_neighbors': 48, 'weights': 'uniform', 'metric': 'euclidean', 'algorithm': 'auto'}. Best is trial 3 with value: 0.859375.\n",
      "[I 2024-02-26 11:05:04,205] Trial 34 finished with value: 0.615625 and parameters: {'n_neighbors': 11, 'weights': 'uniform', 'metric': 'euclidean', 'algorithm': 'auto'}. Best is trial 3 with value: 0.859375.\n",
      "[I 2024-02-26 11:05:04,250] Trial 35 finished with value: 0.684375 and parameters: {'n_neighbors': 21, 'weights': 'distance', 'metric': 'minkowski', 'algorithm': 'auto'}. Best is trial 3 with value: 0.859375.\n",
      "[I 2024-02-26 11:05:04,374] Trial 36 finished with value: 0.6625 and parameters: {'n_neighbors': 11, 'weights': 'uniform', 'metric': 'manhattan', 'algorithm': 'kd_tree'}. Best is trial 3 with value: 0.859375.\n",
      "[I 2024-02-26 11:05:04,419] Trial 37 finished with value: 0.6625 and parameters: {'n_neighbors': 23, 'weights': 'distance', 'metric': 'euclidean', 'algorithm': 'brute'}. Best is trial 3 with value: 0.859375.\n",
      "[I 2024-02-26 11:05:04,483] Trial 38 finished with value: 0.325 and parameters: {'n_neighbors': 33, 'weights': 'uniform', 'metric': 'euclidean', 'algorithm': 'auto'}. Best is trial 3 with value: 0.859375.\n",
      "[I 2024-02-26 11:05:04,542] Trial 39 finished with value: 0.528125 and parameters: {'n_neighbors': 100, 'weights': 'distance', 'metric': 'manhattan', 'algorithm': 'brute'}. Best is trial 3 with value: 0.859375.\n",
      "[I 2024-02-26 11:05:04,608] Trial 40 finished with value: 0.103125 and parameters: {'n_neighbors': 62, 'weights': 'uniform', 'metric': 'minkowski', 'algorithm': 'auto'}. Best is trial 3 with value: 0.859375.\n",
      "[I 2024-02-26 11:05:04,670] Trial 41 finished with value: 0.75 and parameters: {'n_neighbors': 6, 'weights': 'uniform', 'metric': 'euclidean', 'algorithm': 'auto'}. Best is trial 3 with value: 0.859375.\n",
      "[I 2024-02-26 11:05:04,731] Trial 42 finished with value: 0.8 and parameters: {'n_neighbors': 5, 'weights': 'uniform', 'metric': 'euclidean', 'algorithm': 'auto'}. Best is trial 3 with value: 0.859375.\n",
      "[I 2024-02-26 11:05:04,791] Trial 43 finished with value: 0.6375 and parameters: {'n_neighbors': 10, 'weights': 'uniform', 'metric': 'euclidean', 'algorithm': 'auto'}. Best is trial 3 with value: 0.859375.\n",
      "[I 2024-02-26 11:05:04,854] Trial 44 finished with value: 0.54375 and parameters: {'n_neighbors': 17, 'weights': 'uniform', 'metric': 'euclidean', 'algorithm': 'auto'}. Best is trial 3 with value: 0.859375.\n",
      "[I 2024-02-26 11:05:04,982] Trial 45 finished with value: 0.55 and parameters: {'n_neighbors': 16, 'weights': 'uniform', 'metric': 'euclidean', 'algorithm': 'kd_tree'}. Best is trial 3 with value: 0.859375.\n",
      "[I 2024-02-26 11:05:05,032] Trial 46 finished with value: 0.859375 and parameters: {'n_neighbors': 5, 'weights': 'distance', 'metric': 'euclidean', 'algorithm': 'auto'}. Best is trial 3 with value: 0.859375.\n",
      "[I 2024-02-26 11:05:05,084] Trial 47 finished with value: 0.7625 and parameters: {'n_neighbors': 11, 'weights': 'distance', 'metric': 'manhattan', 'algorithm': 'brute'}. Best is trial 3 with value: 0.859375.\n",
      "[I 2024-02-26 11:05:05,192] Trial 48 finished with value: 0.796875 and parameters: {'n_neighbors': 9, 'weights': 'distance', 'metric': 'euclidean', 'algorithm': 'ball_tree'}. Best is trial 3 with value: 0.859375.\n",
      "[I 2024-02-26 11:05:05,256] Trial 49 finished with value: 0.640625 and parameters: {'n_neighbors': 42, 'weights': 'distance', 'metric': 'euclidean', 'algorithm': 'auto'}. Best is trial 3 with value: 0.859375.\n",
      "[I 2024-02-26 11:05:05,311] Trial 50 finished with value: 0.584375 and parameters: {'n_neighbors': 80, 'weights': 'distance', 'metric': 'euclidean', 'algorithm': 'auto'}. Best is trial 3 with value: 0.859375.\n",
      "[I 2024-02-26 11:05:05,355] Trial 51 finished with value: 0.859375 and parameters: {'n_neighbors': 5, 'weights': 'distance', 'metric': 'euclidean', 'algorithm': 'auto'}. Best is trial 3 with value: 0.859375.\n",
      "[I 2024-02-26 11:05:05,401] Trial 52 finished with value: 0.725 and parameters: {'n_neighbors': 15, 'weights': 'distance', 'metric': 'euclidean', 'algorithm': 'auto'}. Best is trial 3 with value: 0.859375.\n",
      "[I 2024-02-26 11:05:05,444] Trial 53 finished with value: 0.859375 and parameters: {'n_neighbors': 5, 'weights': 'distance', 'metric': 'euclidean', 'algorithm': 'auto'}. Best is trial 3 with value: 0.859375.\n",
      "[I 2024-02-26 11:05:05,491] Trial 54 finished with value: 0.778125 and parameters: {'n_neighbors': 10, 'weights': 'distance', 'metric': 'euclidean', 'algorithm': 'auto'}. Best is trial 3 with value: 0.859375.\n",
      "[I 2024-02-26 11:05:05,540] Trial 55 finished with value: 0.65625 and parameters: {'n_neighbors': 25, 'weights': 'distance', 'metric': 'euclidean', 'algorithm': 'auto'}. Best is trial 3 with value: 0.859375.\n",
      "[I 2024-02-26 11:05:05,602] Trial 56 finished with value: 0.575 and parameters: {'n_neighbors': 87, 'weights': 'distance', 'metric': 'euclidean', 'algorithm': 'auto'}. Best is trial 3 with value: 0.859375.\n",
      "[I 2024-02-26 11:05:05,651] Trial 57 finished with value: 0.715625 and parameters: {'n_neighbors': 17, 'weights': 'distance', 'metric': 'minkowski', 'algorithm': 'auto'}. Best is trial 3 with value: 0.859375.\n",
      "[I 2024-02-26 11:05:05,765] Trial 58 finished with value: 0.809375 and parameters: {'n_neighbors': 8, 'weights': 'distance', 'metric': 'euclidean', 'algorithm': 'ball_tree'}. Best is trial 3 with value: 0.859375.\n",
      "[I 2024-02-26 11:05:05,871] Trial 59 finished with value: 0.796875 and parameters: {'n_neighbors': 9, 'weights': 'distance', 'metric': 'euclidean', 'algorithm': 'ball_tree'}. Best is trial 3 with value: 0.859375.\n",
      "[I 2024-02-26 11:05:05,980] Trial 60 finished with value: 0.753125 and parameters: {'n_neighbors': 14, 'weights': 'distance', 'metric': 'euclidean', 'algorithm': 'ball_tree'}. Best is trial 3 with value: 0.859375.\n",
      "[I 2024-02-26 11:05:06,088] Trial 61 finished with value: 0.809375 and parameters: {'n_neighbors': 8, 'weights': 'distance', 'metric': 'euclidean', 'algorithm': 'ball_tree'}. Best is trial 3 with value: 0.859375.\n",
      "[I 2024-02-26 11:05:06,196] Trial 62 finished with value: 0.796875 and parameters: {'n_neighbors': 9, 'weights': 'distance', 'metric': 'euclidean', 'algorithm': 'ball_tree'}. Best is trial 3 with value: 0.859375.\n",
      "[I 2024-02-26 11:05:06,307] Trial 63 finished with value: 0.7 and parameters: {'n_neighbors': 19, 'weights': 'distance', 'metric': 'euclidean', 'algorithm': 'ball_tree'}. Best is trial 3 with value: 0.859375.\n",
      "[I 2024-02-26 11:05:06,415] Trial 64 finished with value: 0.809375 and parameters: {'n_neighbors': 8, 'weights': 'distance', 'metric': 'euclidean', 'algorithm': 'ball_tree'}. Best is trial 3 with value: 0.859375.\n",
      "[I 2024-02-26 11:05:06,525] Trial 65 finished with value: 0.7625 and parameters: {'n_neighbors': 13, 'weights': 'distance', 'metric': 'euclidean', 'algorithm': 'ball_tree'}. Best is trial 3 with value: 0.859375.\n",
      "[I 2024-02-26 11:05:06,637] Trial 66 finished with value: 0.809375 and parameters: {'n_neighbors': 8, 'weights': 'distance', 'metric': 'euclidean', 'algorithm': 'ball_tree'}. Best is trial 3 with value: 0.859375.\n",
      "[I 2024-02-26 11:05:06,747] Trial 67 finished with value: 0.7 and parameters: {'n_neighbors': 19, 'weights': 'distance', 'metric': 'euclidean', 'algorithm': 'ball_tree'}. Best is trial 3 with value: 0.859375.\n",
      "[I 2024-02-26 11:05:06,855] Trial 68 finished with value: 0.8 and parameters: {'n_neighbors': 8, 'weights': 'distance', 'metric': 'manhattan', 'algorithm': 'ball_tree'}. Best is trial 3 with value: 0.859375.\n",
      "[I 2024-02-26 11:05:06,964] Trial 69 finished with value: 0.7625 and parameters: {'n_neighbors': 13, 'weights': 'distance', 'metric': 'euclidean', 'algorithm': 'ball_tree'}. Best is trial 3 with value: 0.859375.\n",
      "[I 2024-02-26 11:05:07,078] Trial 70 finished with value: 0.6625 and parameters: {'n_neighbors': 23, 'weights': 'distance', 'metric': 'euclidean', 'algorithm': 'ball_tree'}. Best is trial 3 with value: 0.859375.\n",
      "[I 2024-02-26 11:05:07,194] Trial 71 finished with value: 0.590625 and parameters: {'n_neighbors': 74, 'weights': 'distance', 'metric': 'euclidean', 'algorithm': 'ball_tree'}. Best is trial 3 with value: 0.859375.\n",
      "[I 2024-02-26 11:05:07,305] Trial 72 finished with value: 0.809375 and parameters: {'n_neighbors': 8, 'weights': 'distance', 'metric': 'euclidean', 'algorithm': 'ball_tree'}. Best is trial 3 with value: 0.859375.\n",
      "[I 2024-02-26 11:05:07,414] Trial 73 finished with value: 0.859375 and parameters: {'n_neighbors': 5, 'weights': 'distance', 'metric': 'euclidean', 'algorithm': 'ball_tree'}. Best is trial 3 with value: 0.859375.\n",
      "[I 2024-02-26 11:05:07,524] Trial 74 finished with value: 0.859375 and parameters: {'n_neighbors': 5, 'weights': 'distance', 'metric': 'euclidean', 'algorithm': 'ball_tree'}. Best is trial 3 with value: 0.859375.\n",
      "[I 2024-02-26 11:05:07,634] Trial 75 finished with value: 0.859375 and parameters: {'n_neighbors': 5, 'weights': 'distance', 'metric': 'minkowski', 'algorithm': 'ball_tree'}. Best is trial 3 with value: 0.859375.\n",
      "[I 2024-02-26 11:05:07,743] Trial 76 finished with value: 0.859375 and parameters: {'n_neighbors': 5, 'weights': 'distance', 'metric': 'minkowski', 'algorithm': 'kd_tree'}. Best is trial 3 with value: 0.859375.\n",
      "[I 2024-02-26 11:05:07,854] Trial 77 finished with value: 0.76875 and parameters: {'n_neighbors': 12, 'weights': 'distance', 'metric': 'minkowski', 'algorithm': 'kd_tree'}. Best is trial 3 with value: 0.859375.\n",
      "[I 2024-02-26 11:05:07,965] Trial 78 finished with value: 0.83125 and parameters: {'n_neighbors': 6, 'weights': 'distance', 'metric': 'minkowski', 'algorithm': 'kd_tree'}. Best is trial 3 with value: 0.859375.\n",
      "[I 2024-02-26 11:05:08,081] Trial 79 finished with value: 0.859375 and parameters: {'n_neighbors': 5, 'weights': 'distance', 'metric': 'minkowski', 'algorithm': 'kd_tree'}. Best is trial 3 with value: 0.859375.\n",
      "[I 2024-02-26 11:05:08,197] Trial 80 finished with value: 0.725 and parameters: {'n_neighbors': 15, 'weights': 'distance', 'metric': 'minkowski', 'algorithm': 'kd_tree'}. Best is trial 3 with value: 0.859375.\n",
      "[I 2024-02-26 11:05:08,307] Trial 81 finished with value: 0.859375 and parameters: {'n_neighbors': 5, 'weights': 'distance', 'metric': 'minkowski', 'algorithm': 'kd_tree'}. Best is trial 3 with value: 0.859375.\n",
      "[I 2024-02-26 11:05:08,421] Trial 82 finished with value: 0.775 and parameters: {'n_neighbors': 11, 'weights': 'distance', 'metric': 'minkowski', 'algorithm': 'kd_tree'}. Best is trial 3 with value: 0.859375.\n",
      "[I 2024-02-26 11:05:08,538] Trial 83 finished with value: 0.859375 and parameters: {'n_neighbors': 5, 'weights': 'distance', 'metric': 'minkowski', 'algorithm': 'kd_tree'}. Best is trial 3 with value: 0.859375.\n",
      "[I 2024-02-26 11:05:08,654] Trial 84 finished with value: 0.859375 and parameters: {'n_neighbors': 5, 'weights': 'distance', 'metric': 'minkowski', 'algorithm': 'kd_tree'}. Best is trial 3 with value: 0.859375.\n",
      "[I 2024-02-26 11:05:08,730] Trial 85 finished with value: 0.7625 and parameters: {'n_neighbors': 13, 'weights': 'distance', 'metric': 'minkowski', 'algorithm': 'brute'}. Best is trial 3 with value: 0.859375.\n",
      "[I 2024-02-26 11:05:08,868] Trial 86 finished with value: 0.775 and parameters: {'n_neighbors': 11, 'weights': 'distance', 'metric': 'minkowski', 'algorithm': 'kd_tree'}. Best is trial 3 with value: 0.859375.\n",
      "[I 2024-02-26 11:05:08,996] Trial 87 finished with value: 0.709375 and parameters: {'n_neighbors': 18, 'weights': 'distance', 'metric': 'minkowski', 'algorithm': 'kd_tree'}. Best is trial 3 with value: 0.859375.\n",
      "[I 2024-02-26 11:05:09,224] Trial 88 finished with value: 0.725 and parameters: {'n_neighbors': 15, 'weights': 'distance', 'metric': 'minkowski', 'algorithm': 'brute'}. Best is trial 3 with value: 0.859375.\n",
      "[I 2024-02-26 11:05:09,348] Trial 89 finished with value: 0.8125 and parameters: {'n_neighbors': 7, 'weights': 'distance', 'metric': 'minkowski', 'algorithm': 'kd_tree'}. Best is trial 3 with value: 0.859375.\n",
      "[I 2024-02-26 11:05:09,965] Trial 90 finished with value: 0.621875 and parameters: {'n_neighbors': 50, 'weights': 'distance', 'metric': 'minkowski', 'algorithm': 'auto'}. Best is trial 3 with value: 0.859375.\n",
      "[I 2024-02-26 11:05:10,086] Trial 91 finished with value: 0.859375 and parameters: {'n_neighbors': 5, 'weights': 'distance', 'metric': 'minkowski', 'algorithm': 'kd_tree'}. Best is trial 3 with value: 0.859375.\n",
      "[I 2024-02-26 11:05:10,201] Trial 92 finished with value: 0.778125 and parameters: {'n_neighbors': 10, 'weights': 'distance', 'metric': 'minkowski', 'algorithm': 'kd_tree'}. Best is trial 3 with value: 0.859375.\n",
      "[I 2024-02-26 11:05:10,316] Trial 93 finished with value: 0.859375 and parameters: {'n_neighbors': 5, 'weights': 'distance', 'metric': 'minkowski', 'algorithm': 'kd_tree'}. Best is trial 3 with value: 0.859375.\n",
      "[I 2024-02-26 11:05:10,430] Trial 94 finished with value: 0.8125 and parameters: {'n_neighbors': 7, 'weights': 'distance', 'metric': 'minkowski', 'algorithm': 'kd_tree'}. Best is trial 3 with value: 0.859375.\n",
      "[I 2024-02-26 11:05:10,489] Trial 95 finished with value: 0.590625 and parameters: {'n_neighbors': 57, 'weights': 'distance', 'metric': 'manhattan', 'algorithm': 'auto'}. Best is trial 3 with value: 0.859375.\n",
      "[I 2024-02-26 11:05:10,605] Trial 96 finished with value: 0.778125 and parameters: {'n_neighbors': 10, 'weights': 'distance', 'metric': 'minkowski', 'algorithm': 'kd_tree'}. Best is trial 3 with value: 0.859375.\n",
      "[I 2024-02-26 11:05:10,655] Trial 97 finished with value: 0.76875 and parameters: {'n_neighbors': 12, 'weights': 'distance', 'metric': 'minkowski', 'algorithm': 'auto'}. Best is trial 3 with value: 0.859375.\n",
      "[I 2024-02-26 11:05:10,705] Trial 98 finished with value: 0.8125 and parameters: {'n_neighbors': 7, 'weights': 'distance', 'metric': 'minkowski', 'algorithm': 'auto'}. Best is trial 3 with value: 0.859375.\n",
      "[I 2024-02-26 11:05:10,823] Trial 99 finished with value: 0.728125 and parameters: {'n_neighbors': 14, 'weights': 'distance', 'metric': 'manhattan', 'algorithm': 'kd_tree'}. Best is trial 3 with value: 0.859375.\n"
     ]
    },
    {
     "name": "stdout",
     "output_type": "stream",
     "text": [
      "Best params found : {'n_neighbors': 5, 'weights': 'distance', 'metric': 'euclidean', 'algorithm': 'auto'}\n",
      "accuracy: 0.9875\n",
      "recall: 0.9930555555555556\n",
      "precision: 0.9930555555555556\n",
      "f1-score: 0.9920634920634921\n",
      "roc_auc:  0.9963474025974026\n"
     ]
    }
   ],
   "source": [
    "study = optuna.create_study(direction = 'maximize')\n",
    "study.optimize(objective, n_trials = 100)\n",
    "best_params = study.best_params\n",
    "print(\"Best params found :\", best_params)\n",
    "\n",
    "final_model =KNeighborsClassifier(**best_params)\n",
    "final_model.fit(X_train_reduced, y_train)\n",
    "y_pred = final_model.predict(X_test_reduced)\n",
    "prediction_results['KNN'] = y_pred \n",
    "\n",
    "accuracy = accuracy_score(y_test, y_pred)\n",
    "precision = precision_score(y_test, y_pred, average='macro')\n",
    "recall = recall_score(y_test, y_pred, average='macro')\n",
    "f1 = f1_score(y_test, y_pred, average='macro')\n",
    "\n",
    "# Fit a label binarizer to get all possible classes\n",
    "label_binarizer = LabelBinarizer()\n",
    "label_binarizer.fit(y_test)\n",
    "\n",
    "# Transform y_test and y_pred to one-hot encoding with the same set of columns\n",
    "y_test_onehot = pd.DataFrame(label_binarizer.transform(\n",
    "    y_test), columns=label_binarizer.classes_)\n",
    "y_pred_onehot = pd.DataFrame(label_binarizer.transform(\n",
    "    y_pred), columns=label_binarizer.classes_)\n",
    "\n",
    "# Ensure both sets have the same columns\n",
    "all_columns = set(y_test_onehot.columns).union(set(y_pred_onehot.columns))\n",
    "y_test_onehot = y_test_onehot.reindex(columns=all_columns, fill_value=0)\n",
    "y_pred_onehot = y_pred_onehot.reindex(columns=all_columns, fill_value=0)\n",
    "\n",
    "# ROC AUC score with multiclass handling\n",
    "roc_auc_macro = roc_auc_score(\n",
    "    y_test_onehot, y_pred_onehot, average='macro', multi_class='ovo')\n",
    "\n",
    "print(\"accuracy:\", accuracy)\n",
    "print(\"recall:\", recall)\n",
    "print(\"precision:\", precision)\n",
    "print(\"f1-score:\", f1)\n",
    "print('roc_auc: ', roc_auc_macro)"
   ]
  },
  {
   "cell_type": "markdown",
   "id": "5d1dd70b",
   "metadata": {
    "papermill": {
     "duration": 0.05739,
     "end_time": "2024-02-26T11:05:10.990687",
     "exception": false,
     "start_time": "2024-02-26T11:05:10.933297",
     "status": "completed"
    },
    "tags": []
   },
   "source": [
    "# Support Vector Machine "
   ]
  },
  {
   "cell_type": "markdown",
   "id": "164208e7",
   "metadata": {
    "papermill": {
     "duration": 0.058095,
     "end_time": "2024-02-26T11:05:11.108024",
     "exception": false,
     "start_time": "2024-02-26T11:05:11.049929",
     "status": "completed"
    },
    "tags": []
   },
   "source": [
    "**Normal**"
   ]
  },
  {
   "cell_type": "code",
   "execution_count": 28,
   "id": "8abee23a",
   "metadata": {
    "execution": {
     "iopub.execute_input": "2024-02-26T11:05:11.225167Z",
     "iopub.status.busy": "2024-02-26T11:05:11.224740Z",
     "iopub.status.idle": "2024-02-26T11:05:11.292767Z",
     "shell.execute_reply": "2024-02-26T11:05:11.291540Z"
    },
    "papermill": {
     "duration": 0.129278,
     "end_time": "2024-02-26T11:05:11.295536",
     "exception": false,
     "start_time": "2024-02-26T11:05:11.166258",
     "status": "completed"
    },
    "tags": []
   },
   "outputs": [
    {
     "name": "stdout",
     "output_type": "stream",
     "text": [
      "accuracy: 1.0\n",
      "recall: 1.0\n",
      "precision: 1.0\n",
      "f1-score: 1.0\n",
      "roc_auc:  1.0\n"
     ]
    }
   ],
   "source": [
    "from sklearn.svm import SVC\n",
    "\n",
    "svm = SVC(kernel='linear')\n",
    "svm.fit(X_train_reduced, y_train)\n",
    "y_pred = svm.predict(X_test_reduced)\n",
    "\n",
    "accuracy = accuracy_score(y_test, y_pred)\n",
    "precision = precision_score(y_test, y_pred, average='macro')\n",
    "recall = recall_score(y_test, y_pred, average='macro')\n",
    "f1 = f1_score(y_test, y_pred, average='macro')\n",
    "\n",
    "# Fit a label binarizer to get all possible classes\n",
    "label_binarizer = LabelBinarizer()\n",
    "label_binarizer.fit(y_test)\n",
    "\n",
    "# Transform y_test and y_pred to one-hot encoding with the same set of columns\n",
    "y_test_onehot = pd.DataFrame(label_binarizer.transform(\n",
    "    y_test), columns=label_binarizer.classes_)\n",
    "y_pred_onehot = pd.DataFrame(label_binarizer.transform(\n",
    "    y_pred), columns=label_binarizer.classes_)\n",
    "\n",
    "# Ensure both sets have the same columns\n",
    "all_columns = set(y_test_onehot.columns).union(set(y_pred_onehot.columns))\n",
    "y_test_onehot = y_test_onehot.reindex(columns=all_columns, fill_value=0)\n",
    "y_pred_onehot = y_pred_onehot.reindex(columns=all_columns, fill_value=0)\n",
    "\n",
    "# ROC AUC score with multiclass handling\n",
    "roc_auc_macro = roc_auc_score(\n",
    "    y_test_onehot, y_pred_onehot, average='macro', multi_class='ovo')\n",
    "\n",
    "print(\"accuracy:\", accuracy)\n",
    "print(\"recall:\", recall)\n",
    "print(\"precision:\", precision)\n",
    "print(\"f1-score:\", f1)\n",
    "print('roc_auc: ', roc_auc_macro)"
   ]
  },
  {
   "cell_type": "markdown",
   "id": "82012e80",
   "metadata": {
    "papermill": {
     "duration": 0.057871,
     "end_time": "2024-02-26T11:05:11.412780",
     "exception": false,
     "start_time": "2024-02-26T11:05:11.354909",
     "status": "completed"
    },
    "tags": []
   },
   "source": [
    "**Tunning**"
   ]
  },
  {
   "cell_type": "code",
   "execution_count": 29,
   "id": "173d3aef",
   "metadata": {
    "execution": {
     "iopub.execute_input": "2024-02-26T11:05:11.531053Z",
     "iopub.status.busy": "2024-02-26T11:05:11.530639Z",
     "iopub.status.idle": "2024-02-26T11:05:11.539429Z",
     "shell.execute_reply": "2024-02-26T11:05:11.538048Z"
    },
    "papermill": {
     "duration": 0.070988,
     "end_time": "2024-02-26T11:05:11.541852",
     "exception": false,
     "start_time": "2024-02-26T11:05:11.470864",
     "status": "completed"
    },
    "tags": []
   },
   "outputs": [],
   "source": [
    "import optuna\n",
    "from sklearn.model_selection import cross_val_score\n",
    "import warnings\n",
    "warnings.filterwarnings('ignore')\n",
    "\n",
    "def objective(trial):\n",
    "    hyperparams = {\n",
    "        'kernel': trial.suggest_categorical('kernel', ['linear', 'rbf', 'poly']),\n",
    "        'C': trial.suggest_loguniform('C', 1e-5, 1e5),\n",
    "        'gamma': trial.suggest_loguniform('gamma', 1e-5, 1e5),\n",
    "        # 'degree': trial.suggest_int('degree', 2, 5),  # for polynomial kernel\n",
    "        'tol': trial.suggest_loguniform('tol', 1e-4, 1e-2),\n",
    "        'shrinking': trial.suggest_categorical('shrinking', [True, False]),\n",
    "    }\n",
    "    \n",
    "    # Create KNN model with tuned hyperparameters\n",
    "    model = SVC(**hyperparams)\n",
    "    scores = cross_val_score(model, X_train_reduced, y_train, cv = kf,scoring = 'accuracy')\n",
    "    return np.mean(scores)"
   ]
  },
  {
   "cell_type": "code",
   "execution_count": 30,
   "id": "b8989b75",
   "metadata": {
    "execution": {
     "iopub.execute_input": "2024-02-26T11:05:11.664629Z",
     "iopub.status.busy": "2024-02-26T11:05:11.663643Z",
     "iopub.status.idle": "2024-02-26T11:05:22.441790Z",
     "shell.execute_reply": "2024-02-26T11:05:22.440291Z"
    },
    "papermill": {
     "duration": 10.841646,
     "end_time": "2024-02-26T11:05:22.444171",
     "exception": false,
     "start_time": "2024-02-26T11:05:11.602525",
     "status": "completed"
    },
    "tags": []
   },
   "outputs": [
    {
     "name": "stderr",
     "output_type": "stream",
     "text": [
      "[I 2024-02-26 11:05:11,672] A new study created in memory with name: no-name-13668078-c321-4289-bec8-70b842b77b24\n",
      "[I 2024-02-26 11:05:11,758] Trial 0 finished with value: 0.95 and parameters: {'kernel': 'linear', 'C': 0.19139316950577379, 'gamma': 0.002274491456747546, 'tol': 0.00016155467941107824, 'shrinking': False}. Best is trial 0 with value: 0.95.\n",
      "[I 2024-02-26 11:05:11,837] Trial 1 finished with value: 0.95 and parameters: {'kernel': 'linear', 'C': 425.4831300651049, 'gamma': 1275.34221584891, 'tol': 0.000592397314421804, 'shrinking': False}. Best is trial 0 with value: 0.95.\n",
      "[I 2024-02-26 11:05:11,918] Trial 2 finished with value: 0.95 and parameters: {'kernel': 'linear', 'C': 5.415086252726522, 'gamma': 52.62452890905552, 'tol': 0.0004865894314905007, 'shrinking': False}. Best is trial 0 with value: 0.95.\n",
      "[I 2024-02-26 11:05:11,997] Trial 3 finished with value: 0.0 and parameters: {'kernel': 'rbf', 'C': 2.4166273389349278e-05, 'gamma': 0.41756165508107185, 'tol': 0.003392783066214005, 'shrinking': False}. Best is trial 0 with value: 0.95.\n",
      "[I 2024-02-26 11:05:12,073] Trial 4 finished with value: 0.95 and parameters: {'kernel': 'linear', 'C': 0.0023096234819520874, 'gamma': 0.0001313091423651306, 'tol': 0.0019709399015652197, 'shrinking': False}. Best is trial 0 with value: 0.95.\n",
      "[I 2024-02-26 11:05:12,185] Trial 5 finished with value: 0.0 and parameters: {'kernel': 'rbf', 'C': 19491.00249048447, 'gamma': 1.241130729251566e-05, 'tol': 0.00420754106454103, 'shrinking': False}. Best is trial 0 with value: 0.95.\n",
      "[I 2024-02-26 11:05:12,282] Trial 6 finished with value: 0.0 and parameters: {'kernel': 'rbf', 'C': 0.39375171352776733, 'gamma': 4.091111088970304, 'tol': 0.00027197961635959655, 'shrinking': True}. Best is trial 0 with value: 0.95.\n",
      "[I 2024-02-26 11:05:12,361] Trial 7 finished with value: 0.95 and parameters: {'kernel': 'linear', 'C': 28687.69948368738, 'gamma': 0.00026246685905214424, 'tol': 0.0063357915695375164, 'shrinking': False}. Best is trial 0 with value: 0.95.\n",
      "[I 2024-02-26 11:05:12,445] Trial 8 finished with value: 0.859375 and parameters: {'kernel': 'poly', 'C': 1.0186689103240087, 'gamma': 4.261403165101833e-05, 'tol': 0.0039988449935163635, 'shrinking': False}. Best is trial 0 with value: 0.95.\n",
      "[I 2024-02-26 11:05:12,530] Trial 9 finished with value: 0.0 and parameters: {'kernel': 'rbf', 'C': 0.0002676606434593129, 'gamma': 0.6866816051655736, 'tol': 0.00011112716474429489, 'shrinking': True}. Best is trial 0 with value: 0.95.\n",
      "[I 2024-02-26 11:05:12,660] Trial 10 finished with value: 0.859375 and parameters: {'kernel': 'poly', 'C': 0.01404735878361368, 'gamma': 0.011378829913027334, 'tol': 0.00010860864117704463, 'shrinking': True}. Best is trial 0 with value: 0.95.\n",
      "[I 2024-02-26 11:05:12,763] Trial 11 finished with value: 0.95 and parameters: {'kernel': 'linear', 'C': 246.9088114889874, 'gamma': 96958.48464876458, 'tol': 0.0007334211470702071, 'shrinking': False}. Best is trial 0 with value: 0.95.\n",
      "[I 2024-02-26 11:05:12,869] Trial 12 finished with value: 0.95 and parameters: {'kernel': 'linear', 'C': 246.991470252499, 'gamma': 5839.863667392731, 'tol': 0.0002979846006398784, 'shrinking': False}. Best is trial 0 with value: 0.95.\n",
      "[I 2024-02-26 11:05:12,969] Trial 13 finished with value: 0.95 and parameters: {'kernel': 'linear', 'C': 117.74540373729279, 'gamma': 289.14800743182826, 'tol': 0.0015810997672040625, 'shrinking': False}. Best is trial 0 with value: 0.95.\n",
      "[I 2024-02-26 11:05:13,085] Trial 14 finished with value: 0.95 and parameters: {'kernel': 'linear', 'C': 0.07049580614280915, 'gamma': 0.009315572947558623, 'tol': 0.00023453816876806954, 'shrinking': True}. Best is trial 0 with value: 0.95.\n",
      "[I 2024-02-26 11:05:13,205] Trial 15 finished with value: 0.95 and parameters: {'kernel': 'linear', 'C': 16.587953073904046, 'gamma': 0.009248298210449795, 'tol': 0.0007961084571539139, 'shrinking': False}. Best is trial 0 with value: 0.95.\n",
      "[I 2024-02-26 11:05:13,331] Trial 16 finished with value: 0.859375 and parameters: {'kernel': 'poly', 'C': 1871.2852933250622, 'gamma': 754.1198844809855, 'tol': 0.00016692432506878454, 'shrinking': False}. Best is trial 0 with value: 0.95.\n",
      "[I 2024-02-26 11:05:13,434] Trial 17 finished with value: 0.95 and parameters: {'kernel': 'linear', 'C': 10.742404347258557, 'gamma': 6.751167950399103, 'tol': 0.0005007207907787243, 'shrinking': False}. Best is trial 0 with value: 0.95.\n",
      "[I 2024-02-26 11:05:13,538] Trial 18 finished with value: 0.95 and parameters: {'kernel': 'linear', 'C': 3112.110769176409, 'gamma': 0.04551782822562794, 'tol': 0.00151962067331683, 'shrinking': True}. Best is trial 0 with value: 0.95.\n",
      "[I 2024-02-26 11:05:13,656] Trial 19 finished with value: 0.859375 and parameters: {'kernel': 'poly', 'C': 0.11032727419596494, 'gamma': 16738.453475818173, 'tol': 0.00018711810741289778, 'shrinking': False}. Best is trial 0 with value: 0.95.\n",
      "[I 2024-02-26 11:05:13,757] Trial 20 finished with value: 0.95 and parameters: {'kernel': 'linear', 'C': 0.004293216369217566, 'gamma': 0.0010961932108204317, 'tol': 0.0004665709153627703, 'shrinking': False}. Best is trial 0 with value: 0.95.\n",
      "[I 2024-02-26 11:05:13,860] Trial 21 finished with value: 0.95 and parameters: {'kernel': 'linear', 'C': 12.478412272643792, 'gamma': 84.2110576872834, 'tol': 0.0004545824216646864, 'shrinking': False}. Best is trial 0 with value: 0.95.\n",
      "[I 2024-02-26 11:05:13,961] Trial 22 finished with value: 0.95 and parameters: {'kernel': 'linear', 'C': 1.901795271206557, 'gamma': 46.70594681531587, 'tol': 0.0011509900030998563, 'shrinking': False}. Best is trial 0 with value: 0.95.\n",
      "[I 2024-02-26 11:05:14,064] Trial 23 finished with value: 0.95 and parameters: {'kernel': 'linear', 'C': 50.430102389423176, 'gamma': 1422.4641394889409, 'tol': 0.00036841210877098574, 'shrinking': False}. Best is trial 0 with value: 0.95.\n",
      "[I 2024-02-26 11:05:14,165] Trial 24 finished with value: 0.95 and parameters: {'kernel': 'linear', 'C': 1826.1509997720013, 'gamma': 48.66847776057829, 'tol': 0.0005914131381260346, 'shrinking': False}. Best is trial 0 with value: 0.95.\n",
      "[I 2024-02-26 11:05:14,271] Trial 25 finished with value: 0.95 and parameters: {'kernel': 'linear', 'C': 1.4802197497116112, 'gamma': 4.7984154506545345, 'tol': 0.00017388422143145812, 'shrinking': False}. Best is trial 0 with value: 0.95.\n",
      "[I 2024-02-26 11:05:14,377] Trial 26 finished with value: 0.95 and parameters: {'kernel': 'linear', 'C': 0.0903496657670715, 'gamma': 4391.629321373676, 'tol': 0.0011023250657495546, 'shrinking': True}. Best is trial 0 with value: 0.95.\n",
      "[I 2024-02-26 11:05:14,481] Trial 27 finished with value: 0.95 and parameters: {'kernel': 'linear', 'C': 4.017322132705076, 'gamma': 0.08240503808442085, 'tol': 0.00035883540507315975, 'shrinking': False}. Best is trial 0 with value: 0.95.\n",
      "[I 2024-02-26 11:05:14,597] Trial 28 finished with value: 0.859375 and parameters: {'kernel': 'poly', 'C': 89782.38493985923, 'gamma': 182.56970210682795, 'tol': 0.0007496740690642066, 'shrinking': False}. Best is trial 0 with value: 0.95.\n",
      "[I 2024-02-26 11:05:14,699] Trial 29 finished with value: 0.0 and parameters: {'kernel': 'rbf', 'C': 3.247636641503705e-05, 'gamma': 19.31081656936726, 'tol': 0.00243549433356545, 'shrinking': False}. Best is trial 0 with value: 0.95.\n",
      "[I 2024-02-26 11:05:14,820] Trial 30 finished with value: 0.0 and parameters: {'kernel': 'rbf', 'C': 671.3495056492868, 'gamma': 0.19985333657040738, 'tol': 0.009620767707689404, 'shrinking': False}. Best is trial 0 with value: 0.95.\n",
      "[I 2024-02-26 11:05:14,920] Trial 31 finished with value: 0.95 and parameters: {'kernel': 'linear', 'C': 0.0021171411296242236, 'gamma': 0.0005052961393291959, 'tol': 0.002404589376253035, 'shrinking': False}. Best is trial 0 with value: 0.95.\n",
      "[I 2024-02-26 11:05:15,020] Trial 32 finished with value: 0.95 and parameters: {'kernel': 'linear', 'C': 0.001001958474016598, 'gamma': 1.587268329904212e-05, 'tol': 0.001713208389231975, 'shrinking': False}. Best is trial 0 with value: 0.95.\n",
      "[I 2024-02-26 11:05:15,118] Trial 33 finished with value: 0.95 and parameters: {'kernel': 'linear', 'C': 0.014093201594973289, 'gamma': 0.0002303610575708049, 'tol': 0.0029105712608298575, 'shrinking': False}. Best is trial 0 with value: 0.95.\n",
      "[I 2024-02-26 11:05:15,224] Trial 34 finished with value: 0.95 and parameters: {'kernel': 'linear', 'C': 0.2702320521866152, 'gamma': 0.001408961959561341, 'tol': 0.00022911243408781464, 'shrinking': False}. Best is trial 0 with value: 0.95.\n",
      "[I 2024-02-26 11:05:15,333] Trial 35 finished with value: 0.0 and parameters: {'kernel': 'rbf', 'C': 5.7437816600147676e-05, 'gamma': 8.33470846424604e-05, 'tol': 0.0010771926513857605, 'shrinking': False}. Best is trial 0 with value: 0.95.\n",
      "[I 2024-02-26 11:05:15,443] Trial 36 finished with value: 0.95 and parameters: {'kernel': 'linear', 'C': 0.0001587876432988362, 'gamma': 1.6931295227486414, 'tol': 0.0006057824855981128, 'shrinking': True}. Best is trial 0 with value: 0.95.\n",
      "[I 2024-02-26 11:05:15,539] Trial 37 finished with value: 0.95 and parameters: {'kernel': 'linear', 'C': 0.015371750053498938, 'gamma': 1.0342224673929807e-05, 'tol': 0.005010450489372645, 'shrinking': False}. Best is trial 0 with value: 0.95.\n",
      "[I 2024-02-26 11:05:15,651] Trial 38 finished with value: 0.0 and parameters: {'kernel': 'rbf', 'C': 0.0004180577670171674, 'gamma': 0.0022738835660644583, 'tol': 0.000144566419318889, 'shrinking': False}. Best is trial 0 with value: 0.95.\n",
      "[I 2024-02-26 11:05:15,772] Trial 39 finished with value: 0.859375 and parameters: {'kernel': 'poly', 'C': 15498.123528401724, 'gamma': 7.16230703717366e-05, 'tol': 0.0008928525971025085, 'shrinking': True}. Best is trial 0 with value: 0.95.\n",
      "[I 2024-02-26 11:05:15,871] Trial 40 finished with value: 0.95 and parameters: {'kernel': 'linear', 'C': 1.151156917316996e-05, 'gamma': 84794.74757281749, 'tol': 0.001985950395474028, 'shrinking': False}. Best is trial 0 with value: 0.95.\n",
      "[I 2024-02-26 11:05:15,968] Trial 41 finished with value: 0.95 and parameters: {'kernel': 'linear', 'C': 23770.525326972656, 'gamma': 0.0002275820483448452, 'tol': 0.005928828603708053, 'shrinking': False}. Best is trial 0 with value: 0.95.\n",
      "[I 2024-02-26 11:05:16,065] Trial 42 finished with value: 0.95 and parameters: {'kernel': 'linear', 'C': 40.79873213146358, 'gamma': 0.000152805564857322, 'tol': 0.009561239931153983, 'shrinking': False}. Best is trial 0 with value: 0.95.\n",
      "[I 2024-02-26 11:05:16,165] Trial 43 finished with value: 0.95 and parameters: {'kernel': 'linear', 'C': 10586.03075178197, 'gamma': 0.0047935447488952464, 'tol': 0.003814774607405223, 'shrinking': False}. Best is trial 0 with value: 0.95.\n",
      "[I 2024-02-26 11:05:16,262] Trial 44 finished with value: 0.95 and parameters: {'kernel': 'linear', 'C': 449.94493973297693, 'gamma': 2.965677658416704e-05, 'tol': 0.0071860311275969745, 'shrinking': False}. Best is trial 0 with value: 0.95.\n",
      "[I 2024-02-26 11:05:16,368] Trial 45 finished with value: 0.95 and parameters: {'kernel': 'linear', 'C': 83475.97075902458, 'gamma': 0.023331879939656967, 'tol': 0.0003530502769456741, 'shrinking': False}. Best is trial 0 with value: 0.95.\n",
      "[I 2024-02-26 11:05:16,476] Trial 46 finished with value: 0.95 and parameters: {'kernel': 'linear', 'C': 0.5431996862079115, 'gamma': 527.1181940292095, 'tol': 0.0012803807193700085, 'shrinking': True}. Best is trial 0 with value: 0.95.\n",
      "[I 2024-02-26 11:05:16,599] Trial 47 finished with value: 0.859375 and parameters: {'kernel': 'poly', 'C': 0.03601101270527092, 'gamma': 0.0006254982280380303, 'tol': 0.00011718738840468561, 'shrinking': False}. Best is trial 0 with value: 0.95.\n",
      "[I 2024-02-26 11:05:16,708] Trial 48 finished with value: 0.95 and parameters: {'kernel': 'linear', 'C': 126.69758627169978, 'gamma': 2813.9503855621583, 'tol': 0.0002682451976191393, 'shrinking': False}. Best is trial 0 with value: 0.95.\n",
      "[I 2024-02-26 11:05:16,807] Trial 49 finished with value: 0.95 and parameters: {'kernel': 'linear', 'C': 4661.903017949843, 'gamma': 13109.599560960325, 'tol': 0.003268651859170118, 'shrinking': False}. Best is trial 0 with value: 0.95.\n",
      "[I 2024-02-26 11:05:16,938] Trial 50 finished with value: 0.0 and parameters: {'kernel': 'rbf', 'C': 5.800668530776839, 'gamma': 0.0036614458246557254, 'tol': 0.0005881167072416834, 'shrinking': False}. Best is trial 0 with value: 0.95.\n",
      "[I 2024-02-26 11:05:17,042] Trial 51 finished with value: 0.95 and parameters: {'kernel': 'linear', 'C': 37.64389173747349, 'gamma': 57286.522009419605, 'tol': 0.0008041448536239289, 'shrinking': False}. Best is trial 0 with value: 0.95.\n",
      "[I 2024-02-26 11:05:17,149] Trial 52 finished with value: 0.95 and parameters: {'kernel': 'linear', 'C': 1247.8520496466115, 'gamma': 24869.953909883265, 'tol': 0.0006740457187521954, 'shrinking': False}. Best is trial 0 with value: 0.95.\n",
      "[I 2024-02-26 11:05:17,255] Trial 53 finished with value: 0.95 and parameters: {'kernel': 'linear', 'C': 169.85467707071143, 'gamma': 18.611964581888977, 'tol': 0.00043721054822032384, 'shrinking': False}. Best is trial 0 with value: 0.95.\n",
      "[I 2024-02-26 11:05:17,358] Trial 54 finished with value: 0.95 and parameters: {'kernel': 'linear', 'C': 0.36874923917799995, 'gamma': 1.4094573501152936, 'tol': 0.0013450954009512509, 'shrinking': False}. Best is trial 0 with value: 0.95.\n",
      "[I 2024-02-26 11:05:17,467] Trial 55 finished with value: 0.95 and parameters: {'kernel': 'linear', 'C': 5.522737060326797, 'gamma': 2171.6175642022476, 'tol': 0.0009684166486534215, 'shrinking': True}. Best is trial 0 with value: 0.95.\n",
      "[I 2024-02-26 11:05:17,574] Trial 56 finished with value: 0.95 and parameters: {'kernel': 'linear', 'C': 23.499919194751403, 'gamma': 225.51832020503284, 'tol': 0.00040361328754225, 'shrinking': False}. Best is trial 0 with value: 0.95.\n",
      "[I 2024-02-26 11:05:17,695] Trial 57 finished with value: 0.859375 and parameters: {'kernel': 'poly', 'C': 371.4902135938293, 'gamma': 1066.9680998758245, 'tol': 0.000532120956095813, 'shrinking': False}. Best is trial 0 with value: 0.95.\n",
      "[I 2024-02-26 11:05:17,802] Trial 58 finished with value: 0.95 and parameters: {'kernel': 'linear', 'C': 85.23845428502472, 'gamma': 0.5372983485777093, 'tol': 0.0003237730742841293, 'shrinking': False}. Best is trial 0 with value: 0.95.\n",
      "[I 2024-02-26 11:05:17,904] Trial 59 finished with value: 0.95 and parameters: {'kernel': 'linear', 'C': 0.005101892620023493, 'gamma': 7501.660643141205, 'tol': 0.0018761823101311214, 'shrinking': False}. Best is trial 0 with value: 0.95.\n",
      "[I 2024-02-26 11:05:18,013] Trial 60 finished with value: 0.95 and parameters: {'kernel': 'linear', 'C': 4432.1703189313985, 'gamma': 0.15499168397672483, 'tol': 0.00025087372258141764, 'shrinking': False}. Best is trial 0 with value: 0.95.\n",
      "[I 2024-02-26 11:05:18,122] Trial 61 finished with value: 0.95 and parameters: {'kernel': 'linear', 'C': 284.92372660992044, 'gamma': 32253.64249081314, 'tol': 0.00029313970584122427, 'shrinking': False}. Best is trial 0 with value: 0.95.\n",
      "[I 2024-02-26 11:05:18,233] Trial 62 finished with value: 0.95 and parameters: {'kernel': 'linear', 'C': 2.2972864546133285, 'gamma': 9383.105123306848, 'tol': 0.000205517479645895, 'shrinking': False}. Best is trial 0 with value: 0.95.\n",
      "[I 2024-02-26 11:05:18,345] Trial 63 finished with value: 0.95 and parameters: {'kernel': 'linear', 'C': 1150.219389181022, 'gamma': 112.46079319829732, 'tol': 0.00014354804547999595, 'shrinking': False}. Best is trial 0 with value: 0.95.\n",
      "[I 2024-02-26 11:05:18,451] Trial 64 finished with value: 0.95 and parameters: {'kernel': 'linear', 'C': 10.57711420642862, 'gamma': 623.1018019797648, 'tol': 0.0004940732098783475, 'shrinking': False}. Best is trial 0 with value: 0.95.\n",
      "[I 2024-02-26 11:05:18,556] Trial 65 finished with value: 0.95 and parameters: {'kernel': 'linear', 'C': 0.7922682816724147, 'gamma': 5984.191857848967, 'tol': 0.0006534707080277364, 'shrinking': False}. Best is trial 0 with value: 0.95.\n",
      "[I 2024-02-26 11:05:18,673] Trial 66 finished with value: 0.95 and parameters: {'kernel': 'linear', 'C': 33215.478119734515, 'gamma': 11.24285621929051, 'tol': 0.00030606750014624634, 'shrinking': True}. Best is trial 0 with value: 0.95.\n",
      "[I 2024-02-26 11:05:18,795] Trial 67 finished with value: 0.0 and parameters: {'kernel': 'rbf', 'C': 0.21588378778296433, 'gamma': 0.0005497535937180744, 'tol': 0.0007921838747658224, 'shrinking': False}. Best is trial 0 with value: 0.95.\n",
      "[I 2024-02-26 11:05:18,916] Trial 68 finished with value: 0.859375 and parameters: {'kernel': 'poly', 'C': 8491.887385699985, 'gamma': 3.2561596921958133e-05, 'tol': 0.0002057020932797061, 'shrinking': False}. Best is trial 0 with value: 0.95.\n",
      "[I 2024-02-26 11:05:19,024] Trial 69 finished with value: 0.95 and parameters: {'kernel': 'linear', 'C': 0.04913489734955517, 'gamma': 99485.5169690873, 'tol': 0.00042358196599821677, 'shrinking': False}. Best is trial 0 with value: 0.95.\n",
      "[I 2024-02-26 11:05:19,130] Trial 70 finished with value: 0.95 and parameters: {'kernel': 'linear', 'C': 598.8565862496511, 'gamma': 32909.4532078212, 'tol': 0.000913686882158453, 'shrinking': False}. Best is trial 0 with value: 0.95.\n",
      "[I 2024-02-26 11:05:19,232] Trial 71 finished with value: 0.95 and parameters: {'kernel': 'linear', 'C': 81.58905224342834, 'gamma': 209.5486803084674, 'tol': 0.002189265224787827, 'shrinking': False}. Best is trial 0 with value: 0.95.\n",
      "[I 2024-02-26 11:05:19,339] Trial 72 finished with value: 0.95 and parameters: {'kernel': 'linear', 'C': 3151.5752993563647, 'gamma': 2497.940635341608, 'tol': 0.0005533374526890464, 'shrinking': False}. Best is trial 0 with value: 0.95.\n",
      "[I 2024-02-26 11:05:19,444] Trial 73 finished with value: 0.95 and parameters: {'kernel': 'linear', 'C': 182.74013515400588, 'gamma': 373.7207858068983, 'tol': 0.0014889065533584208, 'shrinking': False}. Best is trial 0 with value: 0.95.\n",
      "[I 2024-02-26 11:05:19,543] Trial 74 finished with value: 0.95 and parameters: {'kernel': 'linear', 'C': 14.92018311552643, 'gamma': 36.40041550985595, 'tol': 0.004652762509983325, 'shrinking': False}. Best is trial 0 with value: 0.95.\n",
      "[I 2024-02-26 11:05:19,648] Trial 75 finished with value: 0.95 and parameters: {'kernel': 'linear', 'C': 884.8143478857328, 'gamma': 1277.905701094706, 'tol': 0.001201325781628773, 'shrinking': False}. Best is trial 0 with value: 0.95.\n",
      "[I 2024-02-26 11:05:19,754] Trial 76 finished with value: 0.95 and parameters: {'kernel': 'linear', 'C': 269.45615032089756, 'gamma': 0.0003032052524882748, 'tol': 0.0029304246124925142, 'shrinking': True}. Best is trial 0 with value: 0.95.\n",
      "[I 2024-02-26 11:05:19,887] Trial 77 finished with value: 0.0 and parameters: {'kernel': 'rbf', 'C': 2155.910683951223, 'gamma': 114.62457627883495, 'tol': 0.000710618256656544, 'shrinking': False}. Best is trial 0 with value: 0.95.\n",
      "[I 2024-02-26 11:05:19,986] Trial 78 finished with value: 0.95 and parameters: {'kernel': 'linear', 'C': 2.4612873576313103, 'gamma': 0.00012546396959962856, 'tol': 0.007985222476946241, 'shrinking': False}. Best is trial 0 with value: 0.95.\n",
      "[I 2024-02-26 11:05:20,097] Trial 79 finished with value: 0.95 and parameters: {'kernel': 'linear', 'C': 64.6209735748973, 'gamma': 5.701922794947991e-05, 'tol': 0.00015783815766748642, 'shrinking': False}. Best is trial 0 with value: 0.95.\n",
      "[I 2024-02-26 11:05:20,216] Trial 80 finished with value: 0.859375 and parameters: {'kernel': 'poly', 'C': 24.345067809170736, 'gamma': 2.3406864897509183, 'tol': 0.00038265380161715465, 'shrinking': False}. Best is trial 0 with value: 0.95.\n",
      "[I 2024-02-26 11:05:20,334] Trial 81 finished with value: 0.95 and parameters: {'kernel': 'linear', 'C': 0.10447997949827786, 'gamma': 0.012721228697893659, 'tol': 0.00010390013015839925, 'shrinking': True}. Best is trial 0 with value: 0.95.\n",
      "[I 2024-02-26 11:05:20,453] Trial 82 finished with value: 0.95 and parameters: {'kernel': 'linear', 'C': 0.1662122384541143, 'gamma': 0.0008818095299099239, 'tol': 0.0001768890682566793, 'shrinking': True}. Best is trial 0 with value: 0.95.\n",
      "[I 2024-02-26 11:05:20,573] Trial 83 finished with value: 0.95 and parameters: {'kernel': 'linear', 'C': 0.007356643461621053, 'gamma': 0.002315693355203967, 'tol': 0.00013747375947715043, 'shrinking': True}. Best is trial 0 with value: 0.95.\n",
      "[I 2024-02-26 11:05:20,693] Trial 84 finished with value: 0.95 and parameters: {'kernel': 'linear', 'C': 0.03235119918774171, 'gamma': 3461.4050044634646, 'tol': 0.00011904485012684935, 'shrinking': True}. Best is trial 0 with value: 0.95.\n",
      "[I 2024-02-26 11:05:20,816] Trial 85 finished with value: 0.95 and parameters: {'kernel': 'linear', 'C': 53501.12364586634, 'gamma': 0.03431531824647664, 'tol': 0.00023156128277532312, 'shrinking': True}. Best is trial 0 with value: 0.95.\n",
      "[I 2024-02-26 11:05:20,924] Trial 86 finished with value: 0.95 and parameters: {'kernel': 'linear', 'C': 0.0009054798661772487, 'gamma': 0.008305579739958865, 'tol': 0.0015787772408875965, 'shrinking': False}. Best is trial 0 with value: 0.95.\n",
      "[I 2024-02-26 11:05:21,035] Trial 87 finished with value: 0.95 and parameters: {'kernel': 'linear', 'C': 1.4673030486277907, 'gamma': 0.00031627096389992874, 'tol': 0.0008643924602494605, 'shrinking': False}. Best is trial 0 with value: 0.95.\n",
      "[I 2024-02-26 11:05:21,149] Trial 88 finished with value: 0.95 and parameters: {'kernel': 'linear', 'C': 0.00010496068037639801, 'gamma': 15540.264536783556, 'tol': 0.00033469465694751084, 'shrinking': False}. Best is trial 0 with value: 0.95.\n",
      "[I 2024-02-26 11:05:21,260] Trial 89 finished with value: 0.95 and parameters: {'kernel': 'linear', 'C': 0.0647126754332819, 'gamma': 452.57373148492275, 'tol': 0.001032653435093895, 'shrinking': False}. Best is trial 0 with value: 0.95.\n",
      "[I 2024-02-26 11:05:21,389] Trial 90 finished with value: 0.0 and parameters: {'kernel': 'rbf', 'C': 0.024361425482617518, 'gamma': 0.00014068560909783566, 'tol': 0.0004959962452691962, 'shrinking': True}. Best is trial 0 with value: 0.95.\n",
      "[I 2024-02-26 11:05:21,498] Trial 91 finished with value: 0.95 and parameters: {'kernel': 'linear', 'C': 3.840883710747274, 'gamma': 0.07159579728284306, 'tol': 0.0006102895917941628, 'shrinking': False}. Best is trial 0 with value: 0.95.\n",
      "[I 2024-02-26 11:05:21,608] Trial 92 finished with value: 0.95 and parameters: {'kernel': 'linear', 'C': 11.167541685787354, 'gamma': 0.01520393085245311, 'tol': 0.000759792666430744, 'shrinking': False}. Best is trial 0 with value: 0.95.\n",
      "[I 2024-02-26 11:05:21,723] Trial 93 finished with value: 0.95 and parameters: {'kernel': 'linear', 'C': 33.83474417836253, 'gamma': 0.0061352262512798595, 'tol': 0.00019815297663323167, 'shrinking': False}. Best is trial 0 with value: 0.95.\n",
      "[I 2024-02-26 11:05:21,835] Trial 94 finished with value: 0.95 and parameters: {'kernel': 'linear', 'C': 127.84075324415979, 'gamma': 0.0016276851793094297, 'tol': 0.00026384509435320805, 'shrinking': False}. Best is trial 0 with value: 0.95.\n",
      "[I 2024-02-26 11:05:21,937] Trial 95 finished with value: 0.95 and parameters: {'kernel': 'linear', 'C': 0.6228809277074469, 'gamma': 49.539743205982305, 'tol': 0.006294541063360356, 'shrinking': False}. Best is trial 0 with value: 0.95.\n",
      "[I 2024-02-26 11:05:22,044] Trial 96 finished with value: 0.95 and parameters: {'kernel': 'linear', 'C': 0.0022202582178259002, 'gamma': 2.0914498090368728e-05, 'tol': 0.0013570464769822991, 'shrinking': False}. Best is trial 0 with value: 0.95.\n",
      "[I 2024-02-26 11:05:22,161] Trial 97 finished with value: 0.859375 and parameters: {'kernel': 'poly', 'C': 1.2496816664427057, 'gamma': 0.004216515756454922, 'tol': 0.0011374207468726194, 'shrinking': False}. Best is trial 0 with value: 0.95.\n",
      "[I 2024-02-26 11:05:22,270] Trial 98 finished with value: 0.95 and parameters: {'kernel': 'linear', 'C': 18.005788288020266, 'gamma': 4532.48780421033, 'tol': 0.00046116351001877076, 'shrinking': False}. Best is trial 0 with value: 0.95.\n",
      "[I 2024-02-26 11:05:22,382] Trial 99 finished with value: 0.95 and parameters: {'kernel': 'linear', 'C': 6.045107977188556, 'gamma': 0.23276736694572828, 'tol': 0.00023071446614865193, 'shrinking': False}. Best is trial 0 with value: 0.95.\n"
     ]
    },
    {
     "name": "stdout",
     "output_type": "stream",
     "text": [
      "Best params found : {'kernel': 'linear', 'C': 0.19139316950577379, 'gamma': 0.002274491456747546, 'tol': 0.00016155467941107824, 'shrinking': False}\n",
      "accuracy: 1.0\n",
      "recall: 1.0\n",
      "precision: 1.0\n",
      "f1-score: 1.0\n",
      "roc_auc:  1.0\n"
     ]
    }
   ],
   "source": [
    "study = optuna.create_study(direction='maximize')\n",
    "study.optimize(objective, n_trials=100)\n",
    "best_params = study.best_params\n",
    "print(\"Best params found :\", best_params)\n",
    "\n",
    "final_model = SVC(**best_params)\n",
    "final_model.fit(X_train_reduced, y_train)\n",
    "y_pred = final_model.predict(X_test_reduced)\n",
    "prediction_results['svc'] = list(y_pred)\n",
    "\n",
    "accuracy = accuracy_score(y_test, y_pred)\n",
    "precision = precision_score(y_test, y_pred, average='macro')\n",
    "recall = recall_score(y_test, y_pred, average='macro')\n",
    "f1 = f1_score(y_test, y_pred, average='macro')\n",
    "\n",
    "# Fit a label binarizer to get all possible classes\n",
    "label_binarizer = LabelBinarizer()\n",
    "label_binarizer.fit(y_test)\n",
    "\n",
    "# Transform y_test and y_pred to one-hot encoding with the same set of columns\n",
    "y_test_onehot = pd.DataFrame(label_binarizer.transform(\n",
    "    y_test), columns=label_binarizer.classes_)\n",
    "y_pred_onehot = pd.DataFrame(label_binarizer.transform(\n",
    "    y_pred), columns=label_binarizer.classes_)\n",
    "\n",
    "# Ensure both sets have the same columns\n",
    "all_columns = set(y_test_onehot.columns).union(set(y_pred_onehot.columns))\n",
    "y_test_onehot = y_test_onehot.reindex(columns=all_columns, fill_value=0)\n",
    "y_pred_onehot = y_pred_onehot.reindex(columns=all_columns, fill_value=0)\n",
    "\n",
    "# ROC AUC score with multiclass handling\n",
    "roc_auc_macro = roc_auc_score(\n",
    "    y_test_onehot, y_pred_onehot, average='macro', multi_class='ovo')\n",
    "\n",
    "print(\"accuracy:\", accuracy)\n",
    "print(\"recall:\", recall)\n",
    "print(\"precision:\", precision)\n",
    "print(\"f1-score:\", f1)\n",
    "print('roc_auc: ', roc_auc_macro)"
   ]
  },
  {
   "cell_type": "markdown",
   "id": "2300417e",
   "metadata": {
    "papermill": {
     "duration": 0.067208,
     "end_time": "2024-02-26T11:05:22.578156",
     "exception": false,
     "start_time": "2024-02-26T11:05:22.510948",
     "status": "completed"
    },
    "tags": []
   },
   "source": [
    "# Decision Tree"
   ]
  },
  {
   "cell_type": "markdown",
   "id": "440ba8b2",
   "metadata": {
    "papermill": {
     "duration": 0.066666,
     "end_time": "2024-02-26T11:05:22.713287",
     "exception": false,
     "start_time": "2024-02-26T11:05:22.646621",
     "status": "completed"
    },
    "tags": []
   },
   "source": [
    "**Normal**"
   ]
  },
  {
   "cell_type": "code",
   "execution_count": 31,
   "id": "3abb3950",
   "metadata": {
    "execution": {
     "iopub.execute_input": "2024-02-26T11:05:22.848386Z",
     "iopub.status.busy": "2024-02-26T11:05:22.847969Z",
     "iopub.status.idle": "2024-02-26T11:05:22.918164Z",
     "shell.execute_reply": "2024-02-26T11:05:22.916864Z"
    },
    "papermill": {
     "duration": 0.14081,
     "end_time": "2024-02-26T11:05:22.920698",
     "exception": false,
     "start_time": "2024-02-26T11:05:22.779888",
     "status": "completed"
    },
    "tags": []
   },
   "outputs": [
    {
     "name": "stdout",
     "output_type": "stream",
     "text": [
      "accuracy: 0.6125\n",
      "recall: 0.5770833333333333\n",
      "precision: 0.5870833333333334\n",
      "f1-score: 0.5448809523809524\n",
      "roc_auc:  0.8163090726173672\n"
     ]
    }
   ],
   "source": [
    "from sklearn.tree import DecisionTreeClassifier\n",
    "\n",
    "dt = DecisionTreeClassifier(random_state=42)\n",
    "dt.fit(X_train_reduced, y_train)\n",
    "y_pred = dt.predict(X_test_reduced)\n",
    "\n",
    "accuracy = accuracy_score(y_test, y_pred)\n",
    "precision = precision_score(y_test, y_pred, average='macro')\n",
    "recall = recall_score(y_test, y_pred, average='macro')\n",
    "f1 = f1_score(y_test, y_pred, average='macro')\n",
    "\n",
    "# Fit a label binarizer to get all possible classes\n",
    "label_binarizer = LabelBinarizer()\n",
    "label_binarizer.fit(y_test)\n",
    "\n",
    "# Transform y_test and y_pred to one-hot encoding with the same set of columns\n",
    "y_test_onehot = pd.DataFrame(label_binarizer.transform(\n",
    "    y_test), columns=label_binarizer.classes_)\n",
    "y_pred_onehot = pd.DataFrame(label_binarizer.transform(\n",
    "    y_pred), columns=label_binarizer.classes_)\n",
    "\n",
    "# Ensure both sets have the same columns\n",
    "all_columns = set(y_test_onehot.columns).union(set(y_pred_onehot.columns))\n",
    "y_test_onehot = y_test_onehot.reindex(columns=all_columns, fill_value=0)\n",
    "y_pred_onehot = y_pred_onehot.reindex(columns=all_columns, fill_value=0)\n",
    "\n",
    "# ROC AUC score with multiclass handling\n",
    "roc_auc_macro = roc_auc_score(\n",
    "    y_test_onehot, y_pred_onehot, average='macro', multi_class='ovo')\n",
    "\n",
    "print(\"accuracy:\", accuracy)\n",
    "print(\"recall:\", recall)\n",
    "print(\"precision:\", precision)\n",
    "print(\"f1-score:\", f1)\n",
    "print('roc_auc: ', roc_auc_macro)"
   ]
  },
  {
   "cell_type": "markdown",
   "id": "333fc2cf",
   "metadata": {
    "papermill": {
     "duration": 0.067646,
     "end_time": "2024-02-26T11:05:23.054932",
     "exception": false,
     "start_time": "2024-02-26T11:05:22.987286",
     "status": "completed"
    },
    "tags": []
   },
   "source": [
    "**Tunning**"
   ]
  },
  {
   "cell_type": "code",
   "execution_count": 32,
   "id": "589854ba",
   "metadata": {
    "execution": {
     "iopub.execute_input": "2024-02-26T11:05:23.204878Z",
     "iopub.status.busy": "2024-02-26T11:05:23.203661Z",
     "iopub.status.idle": "2024-02-26T11:05:23.213244Z",
     "shell.execute_reply": "2024-02-26T11:05:23.212154Z"
    },
    "papermill": {
     "duration": 0.094968,
     "end_time": "2024-02-26T11:05:23.216883",
     "exception": false,
     "start_time": "2024-02-26T11:05:23.121915",
     "status": "completed"
    },
    "tags": []
   },
   "outputs": [],
   "source": [
    "import optuna\n",
    "from sklearn.model_selection import cross_val_score\n",
    "import warnings\n",
    "warnings.filterwarnings('ignore')\n",
    "\n",
    "\n",
    "def objective(trial):\n",
    "    hyperparams = {\n",
    "        \"max_depth\" : trial.suggest_int(\"max_depth\", 2, 10),\n",
    "        \"min_samples_split\" : trial.suggest_int(\"min_samples_split\", 2, 20),\n",
    "        \"min_samples_leaf\" : trial.suggest_int(\"min_samples_leaf\", 1, 10),\n",
    "        \"criterion\" : trial.suggest_categorical(\"criterion\", [\"gini\", \"entropy\"]),\n",
    "        'random_state': trial.suggest_categorical('random_state', [42])\n",
    "        \n",
    "\n",
    "    }\n",
    "\n",
    "    # Create KNN model with tuned hyperparameters\n",
    "    model = DecisionTreeClassifier(**hyperparams)\n",
    "    scores = cross_val_score(model, X_train_reduced,\n",
    "                             y_train, cv=kf, scoring='accuracy')\n",
    "    return np.mean(scores)"
   ]
  },
  {
   "cell_type": "code",
   "execution_count": 33,
   "id": "82789936",
   "metadata": {
    "execution": {
     "iopub.execute_input": "2024-02-26T11:05:23.357224Z",
     "iopub.status.busy": "2024-02-26T11:05:23.356477Z",
     "iopub.status.idle": "2024-02-26T11:05:44.233157Z",
     "shell.execute_reply": "2024-02-26T11:05:44.231863Z"
    },
    "papermill": {
     "duration": 20.948203,
     "end_time": "2024-02-26T11:05:44.235552",
     "exception": false,
     "start_time": "2024-02-26T11:05:23.287349",
     "status": "completed"
    },
    "tags": []
   },
   "outputs": [
    {
     "name": "stderr",
     "output_type": "stream",
     "text": [
      "[I 2024-02-26 11:05:23,364] A new study created in memory with name: no-name-eb3fa4ed-56fb-4cfe-872e-04e911f5a36f\n",
      "[I 2024-02-26 11:05:23,549] Trial 0 finished with value: 0.271875 and parameters: {'max_depth': 6, 'min_samples_split': 18, 'min_samples_leaf': 2, 'criterion': 'entropy', 'random_state': 42}. Best is trial 0 with value: 0.271875.\n",
      "[I 2024-02-26 11:05:23,587] Trial 1 finished with value: 0.028125 and parameters: {'max_depth': 2, 'min_samples_split': 18, 'min_samples_leaf': 1, 'criterion': 'gini', 'random_state': 42}. Best is trial 0 with value: 0.271875.\n",
      "[I 2024-02-26 11:05:23,668] Trial 2 finished with value: 0.278125 and parameters: {'max_depth': 8, 'min_samples_split': 16, 'min_samples_leaf': 1, 'criterion': 'gini', 'random_state': 42}. Best is trial 2 with value: 0.278125.\n",
      "[I 2024-02-26 11:05:23,790] Trial 3 finished with value: 0.025 and parameters: {'max_depth': 2, 'min_samples_split': 11, 'min_samples_leaf': 5, 'criterion': 'entropy', 'random_state': 42}. Best is trial 2 with value: 0.278125.\n",
      "[I 2024-02-26 11:05:23,860] Trial 4 finished with value: 0.296875 and parameters: {'max_depth': 7, 'min_samples_split': 9, 'min_samples_leaf': 7, 'criterion': 'gini', 'random_state': 42}. Best is trial 4 with value: 0.296875.\n",
      "[I 2024-02-26 11:05:24,048] Trial 5 finished with value: 0.434375 and parameters: {'max_depth': 8, 'min_samples_split': 12, 'min_samples_leaf': 3, 'criterion': 'entropy', 'random_state': 42}. Best is trial 5 with value: 0.434375.\n",
      "[I 2024-02-26 11:05:24,225] Trial 6 finished with value: 0.2375 and parameters: {'max_depth': 5, 'min_samples_split': 20, 'min_samples_leaf': 3, 'criterion': 'entropy', 'random_state': 42}. Best is trial 5 with value: 0.434375.\n",
      "[I 2024-02-26 11:05:24,411] Trial 7 finished with value: 0.459375 and parameters: {'max_depth': 6, 'min_samples_split': 5, 'min_samples_leaf': 4, 'criterion': 'entropy', 'random_state': 42}. Best is trial 7 with value: 0.459375.\n",
      "[I 2024-02-26 11:05:24,469] Trial 8 finished with value: 0.121875 and parameters: {'max_depth': 4, 'min_samples_split': 11, 'min_samples_leaf': 3, 'criterion': 'gini', 'random_state': 42}. Best is trial 7 with value: 0.459375.\n",
      "[I 2024-02-26 11:05:24,625] Trial 9 finished with value: 0.209375 and parameters: {'max_depth': 4, 'min_samples_split': 18, 'min_samples_leaf': 9, 'criterion': 'entropy', 'random_state': 42}. Best is trial 7 with value: 0.459375.\n",
      "[I 2024-02-26 11:05:24,825] Trial 10 finished with value: 0.43125 and parameters: {'max_depth': 10, 'min_samples_split': 2, 'min_samples_leaf': 6, 'criterion': 'entropy', 'random_state': 42}. Best is trial 7 with value: 0.459375.\n",
      "[I 2024-02-26 11:05:25,039] Trial 11 finished with value: 0.46875 and parameters: {'max_depth': 9, 'min_samples_split': 5, 'min_samples_leaf': 4, 'criterion': 'entropy', 'random_state': 42}. Best is trial 11 with value: 0.46875.\n",
      "[I 2024-02-26 11:05:25,242] Trial 12 finished with value: 0.4625 and parameters: {'max_depth': 10, 'min_samples_split': 4, 'min_samples_leaf': 5, 'criterion': 'entropy', 'random_state': 42}. Best is trial 11 with value: 0.46875.\n",
      "[I 2024-02-26 11:05:25,433] Trial 13 finished with value: 0.3625 and parameters: {'max_depth': 10, 'min_samples_split': 5, 'min_samples_leaf': 7, 'criterion': 'entropy', 'random_state': 42}. Best is trial 11 with value: 0.46875.\n",
      "[I 2024-02-26 11:05:25,611] Trial 14 finished with value: 0.253125 and parameters: {'max_depth': 9, 'min_samples_split': 2, 'min_samples_leaf': 10, 'criterion': 'entropy', 'random_state': 42}. Best is trial 11 with value: 0.46875.\n",
      "[I 2024-02-26 11:05:25,816] Trial 15 finished with value: 0.4625 and parameters: {'max_depth': 9, 'min_samples_split': 6, 'min_samples_leaf': 5, 'criterion': 'entropy', 'random_state': 42}. Best is trial 11 with value: 0.46875.\n",
      "[I 2024-02-26 11:05:26,009] Trial 16 finished with value: 0.3625 and parameters: {'max_depth': 10, 'min_samples_split': 7, 'min_samples_leaf': 7, 'criterion': 'entropy', 'random_state': 42}. Best is trial 11 with value: 0.46875.\n",
      "[I 2024-02-26 11:05:26,220] Trial 17 finished with value: 0.46875 and parameters: {'max_depth': 8, 'min_samples_split': 3, 'min_samples_leaf': 4, 'criterion': 'entropy', 'random_state': 42}. Best is trial 11 with value: 0.46875.\n",
      "[I 2024-02-26 11:05:26,325] Trial 18 finished with value: 0.35625 and parameters: {'max_depth': 8, 'min_samples_split': 8, 'min_samples_leaf': 4, 'criterion': 'gini', 'random_state': 42}. Best is trial 11 with value: 0.46875.\n",
      "[I 2024-02-26 11:05:26,535] Trial 19 finished with value: 0.46875 and parameters: {'max_depth': 7, 'min_samples_split': 3, 'min_samples_leaf': 4, 'criterion': 'entropy', 'random_state': 42}. Best is trial 11 with value: 0.46875.\n",
      "[I 2024-02-26 11:05:26,733] Trial 20 finished with value: 0.3625 and parameters: {'max_depth': 9, 'min_samples_split': 14, 'min_samples_leaf': 6, 'criterion': 'entropy', 'random_state': 42}. Best is trial 11 with value: 0.46875.\n",
      "[I 2024-02-26 11:05:26,944] Trial 21 finished with value: 0.46875 and parameters: {'max_depth': 7, 'min_samples_split': 3, 'min_samples_leaf': 4, 'criterion': 'entropy', 'random_state': 42}. Best is trial 11 with value: 0.46875.\n",
      "[I 2024-02-26 11:05:27,161] Trial 22 finished with value: 0.503125 and parameters: {'max_depth': 7, 'min_samples_split': 4, 'min_samples_leaf': 3, 'criterion': 'entropy', 'random_state': 42}. Best is trial 22 with value: 0.503125.\n",
      "[I 2024-02-26 11:05:27,382] Trial 23 finished with value: 0.465625 and parameters: {'max_depth': 8, 'min_samples_split': 9, 'min_samples_leaf': 2, 'criterion': 'entropy', 'random_state': 42}. Best is trial 22 with value: 0.503125.\n",
      "[I 2024-02-26 11:05:27,608] Trial 24 finished with value: 0.525 and parameters: {'max_depth': 7, 'min_samples_split': 5, 'min_samples_leaf': 2, 'criterion': 'entropy', 'random_state': 42}. Best is trial 24 with value: 0.525.\n",
      "[I 2024-02-26 11:05:27,823] Trial 25 finished with value: 0.3625 and parameters: {'max_depth': 5, 'min_samples_split': 7, 'min_samples_leaf': 2, 'criterion': 'entropy', 'random_state': 42}. Best is trial 24 with value: 0.525.\n",
      "[I 2024-02-26 11:05:27,923] Trial 26 finished with value: 0.24375 and parameters: {'max_depth': 6, 'min_samples_split': 5, 'min_samples_leaf': 2, 'criterion': 'gini', 'random_state': 42}. Best is trial 24 with value: 0.525.\n",
      "[I 2024-02-26 11:05:28,154] Trial 27 finished with value: 0.509375 and parameters: {'max_depth': 7, 'min_samples_split': 7, 'min_samples_leaf': 1, 'criterion': 'entropy', 'random_state': 42}. Best is trial 24 with value: 0.525.\n",
      "[I 2024-02-26 11:05:28,384] Trial 28 finished with value: 0.471875 and parameters: {'max_depth': 7, 'min_samples_split': 9, 'min_samples_leaf': 1, 'criterion': 'entropy', 'random_state': 42}. Best is trial 24 with value: 0.525.\n",
      "[I 2024-02-26 11:05:28,605] Trial 29 finished with value: 0.3625 and parameters: {'max_depth': 5, 'min_samples_split': 7, 'min_samples_leaf': 1, 'criterion': 'entropy', 'random_state': 42}. Best is trial 24 with value: 0.525.\n",
      "[I 2024-02-26 11:05:28,822] Trial 30 finished with value: 0.403125 and parameters: {'max_depth': 6, 'min_samples_split': 13, 'min_samples_leaf': 2, 'criterion': 'entropy', 'random_state': 42}. Best is trial 24 with value: 0.525.\n",
      "[I 2024-02-26 11:05:29,051] Trial 31 finished with value: 0.471875 and parameters: {'max_depth': 7, 'min_samples_split': 9, 'min_samples_leaf': 1, 'criterion': 'entropy', 'random_state': 42}. Best is trial 24 with value: 0.525.\n",
      "[I 2024-02-26 11:05:29,282] Trial 32 finished with value: 0.475 and parameters: {'max_depth': 7, 'min_samples_split': 8, 'min_samples_leaf': 1, 'criterion': 'entropy', 'random_state': 42}. Best is trial 24 with value: 0.525.\n",
      "[I 2024-02-26 11:05:29,507] Trial 33 finished with value: 0.48125 and parameters: {'max_depth': 6, 'min_samples_split': 6, 'min_samples_leaf': 2, 'criterion': 'entropy', 'random_state': 42}. Best is trial 24 with value: 0.525.\n",
      "[I 2024-02-26 11:05:29,608] Trial 34 finished with value: 0.24375 and parameters: {'max_depth': 6, 'min_samples_split': 6, 'min_samples_leaf': 2, 'criterion': 'gini', 'random_state': 42}. Best is trial 24 with value: 0.525.\n",
      "[I 2024-02-26 11:05:29,822] Trial 35 finished with value: 0.3625 and parameters: {'max_depth': 5, 'min_samples_split': 4, 'min_samples_leaf': 3, 'criterion': 'entropy', 'random_state': 42}. Best is trial 24 with value: 0.525.\n",
      "[I 2024-02-26 11:05:29,907] Trial 36 finished with value: 0.121875 and parameters: {'max_depth': 4, 'min_samples_split': 6, 'min_samples_leaf': 3, 'criterion': 'gini', 'random_state': 42}. Best is trial 24 with value: 0.525.\n",
      "[I 2024-02-26 11:05:30,127] Trial 37 finished with value: 0.459375 and parameters: {'max_depth': 6, 'min_samples_split': 10, 'min_samples_leaf': 2, 'criterion': 'entropy', 'random_state': 42}. Best is trial 24 with value: 0.525.\n",
      "[I 2024-02-26 11:05:30,361] Trial 38 finished with value: 0.54375 and parameters: {'max_depth': 8, 'min_samples_split': 4, 'min_samples_leaf': 1, 'criterion': 'entropy', 'random_state': 42}. Best is trial 38 with value: 0.54375.\n",
      "[I 2024-02-26 11:05:30,596] Trial 39 finished with value: 0.54375 and parameters: {'max_depth': 8, 'min_samples_split': 4, 'min_samples_leaf': 1, 'criterion': 'entropy', 'random_state': 42}. Best is trial 38 with value: 0.54375.\n",
      "[I 2024-02-26 11:05:30,710] Trial 40 finished with value: 0.390625 and parameters: {'max_depth': 8, 'min_samples_split': 2, 'min_samples_leaf': 1, 'criterion': 'gini', 'random_state': 42}. Best is trial 38 with value: 0.54375.\n",
      "[I 2024-02-26 11:05:30,944] Trial 41 finished with value: 0.54375 and parameters: {'max_depth': 8, 'min_samples_split': 4, 'min_samples_leaf': 1, 'criterion': 'entropy', 'random_state': 42}. Best is trial 38 with value: 0.54375.\n",
      "[I 2024-02-26 11:05:31,180] Trial 42 finished with value: 0.54375 and parameters: {'max_depth': 8, 'min_samples_split': 4, 'min_samples_leaf': 1, 'criterion': 'entropy', 'random_state': 42}. Best is trial 38 with value: 0.54375.\n",
      "[I 2024-02-26 11:05:31,416] Trial 43 finished with value: 0.54375 and parameters: {'max_depth': 9, 'min_samples_split': 4, 'min_samples_leaf': 1, 'criterion': 'entropy', 'random_state': 42}. Best is trial 38 with value: 0.54375.\n",
      "[I 2024-02-26 11:05:31,652] Trial 44 finished with value: 0.540625 and parameters: {'max_depth': 9, 'min_samples_split': 3, 'min_samples_leaf': 1, 'criterion': 'entropy', 'random_state': 42}. Best is trial 38 with value: 0.54375.\n",
      "[I 2024-02-26 11:05:31,889] Trial 45 finished with value: 0.54375 and parameters: {'max_depth': 8, 'min_samples_split': 4, 'min_samples_leaf': 1, 'criterion': 'entropy', 'random_state': 42}. Best is trial 38 with value: 0.54375.\n",
      "[I 2024-02-26 11:05:32,126] Trial 46 finished with value: 0.521875 and parameters: {'max_depth': 9, 'min_samples_split': 2, 'min_samples_leaf': 1, 'criterion': 'entropy', 'random_state': 42}. Best is trial 38 with value: 0.54375.\n",
      "[I 2024-02-26 11:05:32,362] Trial 47 finished with value: 0.54375 and parameters: {'max_depth': 8, 'min_samples_split': 4, 'min_samples_leaf': 1, 'criterion': 'entropy', 'random_state': 42}. Best is trial 38 with value: 0.54375.\n",
      "[I 2024-02-26 11:05:32,562] Trial 48 finished with value: 0.2625 and parameters: {'max_depth': 9, 'min_samples_split': 20, 'min_samples_leaf': 8, 'criterion': 'entropy', 'random_state': 42}. Best is trial 38 with value: 0.54375.\n",
      "[I 2024-02-26 11:05:32,796] Trial 49 finished with value: 0.496875 and parameters: {'max_depth': 10, 'min_samples_split': 3, 'min_samples_leaf': 3, 'criterion': 'entropy', 'random_state': 42}. Best is trial 38 with value: 0.54375.\n",
      "[I 2024-02-26 11:05:33,015] Trial 50 finished with value: 0.325 and parameters: {'max_depth': 8, 'min_samples_split': 16, 'min_samples_leaf': 1, 'criterion': 'entropy', 'random_state': 42}. Best is trial 38 with value: 0.54375.\n",
      "[I 2024-02-26 11:05:33,287] Trial 51 finished with value: 0.54375 and parameters: {'max_depth': 8, 'min_samples_split': 4, 'min_samples_leaf': 1, 'criterion': 'entropy', 'random_state': 42}. Best is trial 38 with value: 0.54375.\n",
      "[I 2024-02-26 11:05:33,517] Trial 52 finished with value: 0.521875 and parameters: {'max_depth': 8, 'min_samples_split': 5, 'min_samples_leaf': 2, 'criterion': 'entropy', 'random_state': 42}. Best is trial 38 with value: 0.54375.\n",
      "[I 2024-02-26 11:05:33,762] Trial 53 finished with value: 0.54375 and parameters: {'max_depth': 9, 'min_samples_split': 4, 'min_samples_leaf': 1, 'criterion': 'entropy', 'random_state': 42}. Best is trial 38 with value: 0.54375.\n",
      "[I 2024-02-26 11:05:33,995] Trial 54 finished with value: 0.5125 and parameters: {'max_depth': 8, 'min_samples_split': 3, 'min_samples_leaf': 2, 'criterion': 'entropy', 'random_state': 42}. Best is trial 38 with value: 0.54375.\n",
      "[I 2024-02-26 11:05:34,234] Trial 55 finished with value: 0.521875 and parameters: {'max_depth': 9, 'min_samples_split': 2, 'min_samples_leaf': 1, 'criterion': 'entropy', 'random_state': 42}. Best is trial 38 with value: 0.54375.\n",
      "[I 2024-02-26 11:05:34,302] Trial 56 finished with value: 0.028125 and parameters: {'max_depth': 2, 'min_samples_split': 5, 'min_samples_leaf': 2, 'criterion': 'gini', 'random_state': 42}. Best is trial 38 with value: 0.54375.\n",
      "[I 2024-02-26 11:05:34,524] Trial 57 finished with value: 0.496875 and parameters: {'max_depth': 10, 'min_samples_split': 6, 'min_samples_leaf': 3, 'criterion': 'entropy', 'random_state': 42}. Best is trial 38 with value: 0.54375.\n",
      "[I 2024-02-26 11:05:34,710] Trial 58 finished with value: 0.253125 and parameters: {'max_depth': 8, 'min_samples_split': 4, 'min_samples_leaf': 10, 'criterion': 'entropy', 'random_state': 42}. Best is trial 38 with value: 0.54375.\n",
      "[I 2024-02-26 11:05:34,896] Trial 59 finished with value: 0.075 and parameters: {'max_depth': 3, 'min_samples_split': 3, 'min_samples_leaf': 1, 'criterion': 'entropy', 'random_state': 42}. Best is trial 38 with value: 0.54375.\n",
      "[I 2024-02-26 11:05:35,128] Trial 60 finished with value: 0.521875 and parameters: {'max_depth': 9, 'min_samples_split': 5, 'min_samples_leaf': 2, 'criterion': 'entropy', 'random_state': 42}. Best is trial 38 with value: 0.54375.\n",
      "[I 2024-02-26 11:05:35,365] Trial 61 finished with value: 0.54375 and parameters: {'max_depth': 8, 'min_samples_split': 4, 'min_samples_leaf': 1, 'criterion': 'entropy', 'random_state': 42}. Best is trial 38 with value: 0.54375.\n",
      "[I 2024-02-26 11:05:35,604] Trial 62 finished with value: 0.521875 and parameters: {'max_depth': 8, 'min_samples_split': 2, 'min_samples_leaf': 1, 'criterion': 'entropy', 'random_state': 42}. Best is trial 38 with value: 0.54375.\n",
      "[I 2024-02-26 11:05:35,836] Trial 63 finished with value: 0.515625 and parameters: {'max_depth': 7, 'min_samples_split': 4, 'min_samples_leaf': 2, 'criterion': 'entropy', 'random_state': 42}. Best is trial 38 with value: 0.54375.\n",
      "[I 2024-02-26 11:05:36,075] Trial 64 finished with value: 0.55 and parameters: {'max_depth': 9, 'min_samples_split': 5, 'min_samples_leaf': 1, 'criterion': 'entropy', 'random_state': 42}. Best is trial 64 with value: 0.55.\n",
      "[I 2024-02-26 11:05:36,313] Trial 65 finished with value: 0.51875 and parameters: {'max_depth': 9, 'min_samples_split': 6, 'min_samples_leaf': 1, 'criterion': 'entropy', 'random_state': 42}. Best is trial 64 with value: 0.55.\n",
      "[I 2024-02-26 11:05:36,545] Trial 66 finished with value: 0.521875 and parameters: {'max_depth': 10, 'min_samples_split': 5, 'min_samples_leaf': 2, 'criterion': 'entropy', 'random_state': 42}. Best is trial 64 with value: 0.55.\n",
      "[I 2024-02-26 11:05:36,784] Trial 67 finished with value: 0.540625 and parameters: {'max_depth': 9, 'min_samples_split': 3, 'min_samples_leaf': 1, 'criterion': 'entropy', 'random_state': 42}. Best is trial 64 with value: 0.55.\n",
      "[I 2024-02-26 11:05:37,013] Trial 68 finished with value: 0.465625 and parameters: {'max_depth': 7, 'min_samples_split': 8, 'min_samples_leaf': 2, 'criterion': 'entropy', 'random_state': 42}. Best is trial 64 with value: 0.55.\n",
      "[I 2024-02-26 11:05:37,120] Trial 69 finished with value: 0.340625 and parameters: {'max_depth': 9, 'min_samples_split': 7, 'min_samples_leaf': 6, 'criterion': 'gini', 'random_state': 42}. Best is trial 64 with value: 0.55.\n",
      "[I 2024-02-26 11:05:37,314] Trial 70 finished with value: 0.340625 and parameters: {'max_depth': 8, 'min_samples_split': 5, 'min_samples_leaf': 8, 'criterion': 'entropy', 'random_state': 42}. Best is trial 64 with value: 0.55.\n",
      "[I 2024-02-26 11:05:37,553] Trial 71 finished with value: 0.54375 and parameters: {'max_depth': 8, 'min_samples_split': 4, 'min_samples_leaf': 1, 'criterion': 'entropy', 'random_state': 42}. Best is trial 64 with value: 0.55.\n",
      "[I 2024-02-26 11:05:37,793] Trial 72 finished with value: 0.540625 and parameters: {'max_depth': 8, 'min_samples_split': 3, 'min_samples_leaf': 1, 'criterion': 'entropy', 'random_state': 42}. Best is trial 64 with value: 0.55.\n",
      "[I 2024-02-26 11:05:38,033] Trial 73 finished with value: 0.540625 and parameters: {'max_depth': 8, 'min_samples_split': 3, 'min_samples_leaf': 1, 'criterion': 'entropy', 'random_state': 42}. Best is trial 64 with value: 0.55.\n",
      "[I 2024-02-26 11:05:38,270] Trial 74 finished with value: 0.55 and parameters: {'max_depth': 9, 'min_samples_split': 5, 'min_samples_leaf': 1, 'criterion': 'entropy', 'random_state': 42}. Best is trial 64 with value: 0.55.\n",
      "[I 2024-02-26 11:05:38,501] Trial 75 finished with value: 0.490625 and parameters: {'max_depth': 9, 'min_samples_split': 6, 'min_samples_leaf': 2, 'criterion': 'entropy', 'random_state': 42}. Best is trial 64 with value: 0.55.\n",
      "[I 2024-02-26 11:05:38,743] Trial 76 finished with value: 0.55 and parameters: {'max_depth': 10, 'min_samples_split': 5, 'min_samples_leaf': 1, 'criterion': 'entropy', 'random_state': 42}. Best is trial 64 with value: 0.55.\n",
      "[I 2024-02-26 11:05:38,974] Trial 77 finished with value: 0.509375 and parameters: {'max_depth': 10, 'min_samples_split': 7, 'min_samples_leaf': 2, 'criterion': 'entropy', 'random_state': 42}. Best is trial 64 with value: 0.55.\n",
      "[I 2024-02-26 11:05:39,213] Trial 78 finished with value: 0.51875 and parameters: {'max_depth': 10, 'min_samples_split': 6, 'min_samples_leaf': 1, 'criterion': 'entropy', 'random_state': 42}. Best is trial 64 with value: 0.55.\n",
      "[I 2024-02-26 11:05:39,436] Trial 79 finished with value: 0.496875 and parameters: {'max_depth': 10, 'min_samples_split': 5, 'min_samples_leaf': 3, 'criterion': 'entropy', 'random_state': 42}. Best is trial 64 with value: 0.55.\n",
      "[I 2024-02-26 11:05:39,558] Trial 80 finished with value: 0.44375 and parameters: {'max_depth': 10, 'min_samples_split': 5, 'min_samples_leaf': 1, 'criterion': 'gini', 'random_state': 42}. Best is trial 64 with value: 0.55.\n",
      "[I 2024-02-26 11:05:39,800] Trial 81 finished with value: 0.54375 and parameters: {'max_depth': 9, 'min_samples_split': 4, 'min_samples_leaf': 1, 'criterion': 'entropy', 'random_state': 42}. Best is trial 64 with value: 0.55.\n",
      "[I 2024-02-26 11:05:40,049] Trial 82 finished with value: 0.521875 and parameters: {'max_depth': 9, 'min_samples_split': 2, 'min_samples_leaf': 1, 'criterion': 'entropy', 'random_state': 42}. Best is trial 64 with value: 0.55.\n",
      "[I 2024-02-26 11:05:40,264] Trial 83 finished with value: 0.434375 and parameters: {'max_depth': 9, 'min_samples_split': 12, 'min_samples_leaf': 5, 'criterion': 'entropy', 'random_state': 42}. Best is trial 64 with value: 0.55.\n",
      "[I 2024-02-26 11:05:40,546] Trial 84 finished with value: 0.54375 and parameters: {'max_depth': 8, 'min_samples_split': 4, 'min_samples_leaf': 1, 'criterion': 'entropy', 'random_state': 42}. Best is trial 64 with value: 0.55.\n",
      "[I 2024-02-26 11:05:40,830] Trial 85 finished with value: 0.515625 and parameters: {'max_depth': 7, 'min_samples_split': 3, 'min_samples_leaf': 2, 'criterion': 'entropy', 'random_state': 42}. Best is trial 64 with value: 0.55.\n",
      "[I 2024-02-26 11:05:41,077] Trial 86 finished with value: 0.55 and parameters: {'max_depth': 9, 'min_samples_split': 5, 'min_samples_leaf': 1, 'criterion': 'entropy', 'random_state': 42}. Best is trial 64 with value: 0.55.\n",
      "[I 2024-02-26 11:05:41,323] Trial 87 finished with value: 0.509375 and parameters: {'max_depth': 9, 'min_samples_split': 7, 'min_samples_leaf': 1, 'criterion': 'entropy', 'random_state': 42}. Best is trial 64 with value: 0.55.\n",
      "[I 2024-02-26 11:05:41,565] Trial 88 finished with value: 0.490625 and parameters: {'max_depth': 10, 'min_samples_split': 6, 'min_samples_leaf': 2, 'criterion': 'entropy', 'random_state': 42}. Best is trial 64 with value: 0.55.\n",
      "[I 2024-02-26 11:05:41,810] Trial 89 finished with value: 0.475 and parameters: {'max_depth': 9, 'min_samples_split': 8, 'min_samples_leaf': 1, 'criterion': 'entropy', 'random_state': 42}. Best is trial 64 with value: 0.55.\n",
      "[I 2024-02-26 11:05:42,047] Trial 90 finished with value: 0.521875 and parameters: {'max_depth': 10, 'min_samples_split': 5, 'min_samples_leaf': 2, 'criterion': 'entropy', 'random_state': 42}. Best is trial 64 with value: 0.55.\n",
      "[I 2024-02-26 11:05:42,294] Trial 91 finished with value: 0.54375 and parameters: {'max_depth': 9, 'min_samples_split': 4, 'min_samples_leaf': 1, 'criterion': 'entropy', 'random_state': 42}. Best is trial 64 with value: 0.55.\n",
      "[I 2024-02-26 11:05:42,542] Trial 92 finished with value: 0.55 and parameters: {'max_depth': 8, 'min_samples_split': 5, 'min_samples_leaf': 1, 'criterion': 'entropy', 'random_state': 42}. Best is trial 64 with value: 0.55.\n",
      "[I 2024-02-26 11:05:42,789] Trial 93 finished with value: 0.55 and parameters: {'max_depth': 8, 'min_samples_split': 5, 'min_samples_leaf': 1, 'criterion': 'entropy', 'random_state': 42}. Best is trial 64 with value: 0.55.\n",
      "[I 2024-02-26 11:05:43,043] Trial 94 finished with value: 0.54375 and parameters: {'max_depth': 7, 'min_samples_split': 5, 'min_samples_leaf': 1, 'criterion': 'entropy', 'random_state': 42}. Best is trial 64 with value: 0.55.\n",
      "[I 2024-02-26 11:05:43,307] Trial 95 finished with value: 0.51875 and parameters: {'max_depth': 8, 'min_samples_split': 6, 'min_samples_leaf': 1, 'criterion': 'entropy', 'random_state': 42}. Best is trial 64 with value: 0.55.\n",
      "[I 2024-02-26 11:05:43,548] Trial 96 finished with value: 0.55 and parameters: {'max_depth': 8, 'min_samples_split': 5, 'min_samples_leaf': 1, 'criterion': 'entropy', 'random_state': 42}. Best is trial 64 with value: 0.55.\n",
      "[I 2024-02-26 11:05:43,784] Trial 97 finished with value: 0.521875 and parameters: {'max_depth': 8, 'min_samples_split': 5, 'min_samples_leaf': 2, 'criterion': 'entropy', 'random_state': 42}. Best is trial 64 with value: 0.55.\n",
      "[I 2024-02-26 11:05:43,901] Trial 98 finished with value: 0.375 and parameters: {'max_depth': 8, 'min_samples_split': 7, 'min_samples_leaf': 1, 'criterion': 'gini', 'random_state': 42}. Best is trial 64 with value: 0.55.\n",
      "[I 2024-02-26 11:05:44,141] Trial 99 finished with value: 0.51875 and parameters: {'max_depth': 8, 'min_samples_split': 6, 'min_samples_leaf': 1, 'criterion': 'entropy', 'random_state': 42}. Best is trial 64 with value: 0.55.\n"
     ]
    },
    {
     "name": "stdout",
     "output_type": "stream",
     "text": [
      "Best params found : {'max_depth': 9, 'min_samples_split': 5, 'min_samples_leaf': 1, 'criterion': 'entropy', 'random_state': 42}\n",
      "accuracy: 0.7375\n",
      "recall: 0.7612612612612613\n",
      "precision: 0.7554054054054055\n",
      "f1-score: 0.7181116181116182\n",
      "roc auc:  0.8876392334295399\n"
     ]
    }
   ],
   "source": [
    "study = optuna.create_study(direction='maximize')\n",
    "study.optimize(objective, n_trials=100)\n",
    "best_params = study.best_params\n",
    "print(\"Best params found :\", best_params)\n",
    "\n",
    "final_model = DecisionTreeClassifier(**best_params)\n",
    "final_model.fit(X_train_reduced, y_train)\n",
    "y_pred = final_model.predict(X_test_reduced)\n",
    "prediction_results['decison tree'] = list(y_pred)\n",
    "\n",
    "accuracy = accuracy_score(y_test, y_pred)\n",
    "precision = precision_score(y_test, y_pred, average='macro')\n",
    "recall = recall_score(y_test, y_pred, average='macro')\n",
    "f1 = f1_score(y_test, y_pred, average='macro')\n",
    "\n",
    "# Fit a label binarizer to get all possible classes\n",
    "label_binarizer = LabelBinarizer()\n",
    "label_binarizer.fit(y_test)\n",
    "\n",
    "# Transform y_test and y_pred to one-hot encoding with the same set of columns\n",
    "y_test_onehot = pd.DataFrame(label_binarizer.transform(\n",
    "    y_test), columns=label_binarizer.classes_)\n",
    "y_pred_onehot = pd.DataFrame(label_binarizer.transform(\n",
    "    y_pred), columns=label_binarizer.classes_)\n",
    "\n",
    "# Ensure both sets have the same columns\n",
    "all_columns = set(y_test_onehot.columns).union(set(y_pred_onehot.columns))\n",
    "y_test_onehot = y_test_onehot.reindex(columns=all_columns, fill_value=0)\n",
    "y_pred_onehot = y_pred_onehot.reindex(columns=all_columns, fill_value=0)\n",
    "\n",
    "# ROC AUC score with multiclass handling\n",
    "roc_auc_macro = roc_auc_score(\n",
    "    y_test_onehot, y_pred_onehot, average='macro', multi_class='ovo')\n",
    "\n",
    "print(\"accuracy:\", accuracy)\n",
    "print(\"recall:\", recall)\n",
    "print(\"precision:\", precision)\n",
    "print(\"f1-score:\", f1)\n",
    "print('roc auc: ',roc_auc_macro)"
   ]
  },
  {
   "cell_type": "markdown",
   "id": "61cc652b",
   "metadata": {
    "papermill": {
     "duration": 0.076678,
     "end_time": "2024-02-26T11:05:44.388954",
     "exception": false,
     "start_time": "2024-02-26T11:05:44.312276",
     "status": "completed"
    },
    "tags": []
   },
   "source": [
    "Tuning rồi lưu kết quả tuning vào bên dưới"
   ]
  },
  {
   "cell_type": "markdown",
   "id": "1f8cbf88",
   "metadata": {
    "papermill": {
     "duration": 0.076531,
     "end_time": "2024-02-26T11:05:44.542298",
     "exception": false,
     "start_time": "2024-02-26T11:05:44.465767",
     "status": "completed"
    },
    "tags": []
   },
   "source": [
    "Tuning rồi lưu kết quả tuning vào bên dưới"
   ]
  },
  {
   "cell_type": "code",
   "execution_count": 34,
   "id": "180a67d0",
   "metadata": {
    "execution": {
     "iopub.execute_input": "2024-02-26T11:05:44.697712Z",
     "iopub.status.busy": "2024-02-26T11:05:44.697323Z",
     "iopub.status.idle": "2024-02-26T11:05:44.702406Z",
     "shell.execute_reply": "2024-02-26T11:05:44.701236Z"
    },
    "papermill": {
     "duration": 0.084864,
     "end_time": "2024-02-26T11:05:44.704469",
     "exception": false,
     "start_time": "2024-02-26T11:05:44.619605",
     "status": "completed"
    },
    "tags": []
   },
   "outputs": [],
   "source": [
    "predictions['lr'] = list(y_pred)"
   ]
  },
  {
   "cell_type": "code",
   "execution_count": 35,
   "id": "be000fdc",
   "metadata": {
    "execution": {
     "iopub.execute_input": "2024-02-26T11:05:44.862501Z",
     "iopub.status.busy": "2024-02-26T11:05:44.861962Z",
     "iopub.status.idle": "2024-02-26T11:05:44.867849Z",
     "shell.execute_reply": "2024-02-26T11:05:44.866745Z"
    },
    "papermill": {
     "duration": 0.087767,
     "end_time": "2024-02-26T11:05:44.870468",
     "exception": false,
     "start_time": "2024-02-26T11:05:44.782701",
     "status": "completed"
    },
    "tags": []
   },
   "outputs": [],
   "source": [
    "import json\n",
    "with open(\"/kaggle/working/predict.json\", \"w\") as json_file:\n",
    "    json.dump(predictions, json_file)"
   ]
  },
  {
   "cell_type": "code",
   "execution_count": 36,
   "id": "695f8a3e",
   "metadata": {
    "execution": {
     "iopub.execute_input": "2024-02-26T11:05:45.026181Z",
     "iopub.status.busy": "2024-02-26T11:05:45.025789Z",
     "iopub.status.idle": "2024-02-26T11:05:45.030004Z",
     "shell.execute_reply": "2024-02-26T11:05:45.028974Z"
    },
    "papermill": {
     "duration": 0.084107,
     "end_time": "2024-02-26T11:05:45.032099",
     "exception": false,
     "start_time": "2024-02-26T11:05:44.947992",
     "status": "completed"
    },
    "tags": []
   },
   "outputs": [],
   "source": [
    "prediction = {}"
   ]
  },
  {
   "cell_type": "code",
   "execution_count": null,
   "id": "377e7fc1",
   "metadata": {
    "papermill": {
     "duration": 0.076519,
     "end_time": "2024-02-26T11:05:45.184926",
     "exception": false,
     "start_time": "2024-02-26T11:05:45.108407",
     "status": "completed"
    },
    "tags": []
   },
   "outputs": [],
   "source": []
  }
 ],
 "metadata": {
  "kaggle": {
   "accelerator": "none",
   "dataSources": [
    {
     "datasetId": 4306985,
     "sourceId": 7405983,
     "sourceType": "datasetVersion"
    },
    {
     "datasetId": 4349100,
     "sourceId": 7470763,
     "sourceType": "datasetVersion"
    },
    {
     "datasetId": 4349319,
     "sourceId": 7471052,
     "sourceType": "datasetVersion"
    }
   ],
   "dockerImageVersionId": 30646,
   "isGpuEnabled": false,
   "isInternetEnabled": true,
   "language": "python",
   "sourceType": "notebook"
  },
  "kernelspec": {
   "display_name": "Python 3",
   "language": "python",
   "name": "python3"
  },
  "language_info": {
   "codemirror_mode": {
    "name": "ipython",
    "version": 3
   },
   "file_extension": ".py",
   "mimetype": "text/x-python",
   "name": "python",
   "nbconvert_exporter": "python",
   "pygments_lexer": "ipython3",
   "version": "3.10.13"
  },
  "papermill": {
   "default_parameters": {},
   "duration": 3024.167419,
   "end_time": "2024-02-26T11:05:47.890697",
   "environment_variables": {},
   "exception": null,
   "input_path": "__notebook__.ipynb",
   "output_path": "__notebook__.ipynb",
   "parameters": {},
   "start_time": "2024-02-26T10:15:23.723278",
   "version": "2.5.0"
  }
 },
 "nbformat": 4,
 "nbformat_minor": 5
}
