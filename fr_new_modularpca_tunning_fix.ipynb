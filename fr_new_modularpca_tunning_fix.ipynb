{
  "cells": [
    {
      "cell_type": "code",
      "execution_count": 105,
      "metadata": {
        "_cell_guid": "b1076dfc-b9ad-4769-8c92-a6c4dae69d19",
        "_uuid": "8f2839f25d086af736a60e9eeb907d3b93b6e0e5",
        "execution": {
          "iopub.execute_input": "2024-02-13T16:26:19.376772Z",
          "iopub.status.busy": "2024-02-13T16:26:19.376300Z",
          "iopub.status.idle": "2024-02-13T16:26:19.384180Z",
          "shell.execute_reply": "2024-02-13T16:26:19.382973Z",
          "shell.execute_reply.started": "2024-02-13T16:26:19.376737Z"
        },
        "id": "_t4qoYbfDINj",
        "trusted": true
      },
      "outputs": [],
      "source": [
        "import os\n",
        "import cv2\n",
        "import numpy as np\n",
        "import pandas as pd\n",
        "from numpy.random import shuffle\n",
        "from sklearn.decomposition import PCA\n",
        "from sklearn.model_selection import train_test_split\n",
        "from sklearn.model_selection import KFold\n",
        "from sklearn.metrics import accuracy_score, precision_score, recall_score, f1_score, roc_auc_score\n",
        "from sklearn.linear_model import LogisticRegression\n",
        "from sklearn.model_selection import train_test_split, cross_val_score"
      ]
    },
    {
      "cell_type": "code",
      "execution_count": 106,
      "metadata": {
        "execution": {
          "iopub.execute_input": "2024-02-13T16:26:19.387962Z",
          "iopub.status.busy": "2024-02-13T16:26:19.387337Z",
          "iopub.status.idle": "2024-02-13T16:26:19.405994Z",
          "shell.execute_reply": "2024-02-13T16:26:19.404378Z",
          "shell.execute_reply.started": "2024-02-13T16:26:19.387916Z"
        },
        "id": "SQebtD7KDINm",
        "trusted": true
      },
      "outputs": [],
      "source": [
        "def get_data(path_data='../ATT images', test_size=0.2, is_shuffle=True):\n",
        "    folders = [f's{i+1}' for i in range(40)]\n",
        "    X, y = [], []\n",
        "\n",
        "    for i in range(1, 41):\n",
        "        path = path_data + f'/s{i}'\n",
        "        files = os.listdir(path)\n",
        "        num_files = len(files)\n",
        "\n",
        "        if is_shuffle:\n",
        "            files = shuffle(files)\n",
        "\n",
        "        for file in os.listdir(path):\n",
        "            path = path_data + f'/s{i}/' + file\n",
        "            image = cv2.imread(path, cv2.IMREAD_GRAYSCALE)\n",
        "            pixels = np.reshape(image, [1, image.shape[0] * image.shape[1]])\n",
        "            pixels = np.asarray(pixels)\n",
        "\n",
        "            if len(X) == 0:\n",
        "                X = pixels\n",
        "            else:\n",
        "                X = np.vstack([X, pixels])\n",
        "            y.append(f's{i}')\n",
        "\n",
        "    return X, np.asarray(y)"
      ]
    },
    {
      "cell_type": "code",
      "execution_count": 107,
      "metadata": {
        "execution": {
          "iopub.execute_input": "2024-02-13T16:26:19.409209Z",
          "iopub.status.busy": "2024-02-13T16:26:19.408795Z",
          "iopub.status.idle": "2024-02-13T16:26:19.417389Z",
          "shell.execute_reply": "2024-02-13T16:26:19.416097Z",
          "shell.execute_reply.started": "2024-02-13T16:26:19.409156Z"
        },
        "id": "SDLUPzlMDINn",
        "trusted": true
      },
      "outputs": [],
      "source": [
        "def get_length(n):\n",
        "    start = int(np.sqrt(n))\n",
        "    while start > 1:\n",
        "        if n % start == 0:\n",
        "            break\n",
        "        else:\n",
        "            start -= 1\n",
        "    return start, n // start"
      ]
    },
    {
      "cell_type": "code",
      "execution_count": 108,
      "metadata": {
        "execution": {
          "iopub.execute_input": "2024-02-13T16:26:19.420817Z",
          "iopub.status.busy": "2024-02-13T16:26:19.420309Z",
          "iopub.status.idle": "2024-02-13T16:26:19.434073Z",
          "shell.execute_reply": "2024-02-13T16:26:19.432406Z",
          "shell.execute_reply.started": "2024-02-13T16:26:19.420780Z"
        },
        "id": "fBJXF_RMDINn",
        "trusted": true
      },
      "outputs": [],
      "source": [
        "def cut_image(X, num_image=4, shape=(112,92)):\n",
        "    height, width = shape\n",
        "    num_width, num_height = get_length(num_image)\n",
        "    part_width = width // num_width\n",
        "    part_height = height // num_height\n",
        "\n",
        "    X_cut = []\n",
        "\n",
        "    for i in range(X.shape[0]):\n",
        "        image = X[i].reshape(shape)\n",
        "        for k in range(num_width):\n",
        "            for j in range(num_height):\n",
        "                left = j * part_width\n",
        "                upper = k * part_height\n",
        "                right = left + part_width\n",
        "                lower = upper + part_height\n",
        "\n",
        "                # Crop the image to get the part\n",
        "                part = image[upper:lower, left:right]\n",
        "\n",
        "                pixels = np.reshape(part, [1, part_width * part_height])\n",
        "                pixels = np.asarray(pixels)\n",
        "\n",
        "                if k == 0 and j == 0:\n",
        "                    X_i = pixels\n",
        "                else:\n",
        "                    X_i = np.hstack([X_i, pixels])\n",
        "\n",
        "        if len(X_cut) == 0:\n",
        "            X_cut = X_i\n",
        "        else:\n",
        "            X_cut = np.vstack([X_cut, X_i])\n",
        "\n",
        "    return X_cut"
      ]
    },
    {
      "cell_type": "code",
      "execution_count": 109,
      "metadata": {
        "execution": {
          "iopub.execute_input": "2024-02-13T16:26:19.436487Z",
          "iopub.status.busy": "2024-02-13T16:26:19.435972Z",
          "iopub.status.idle": "2024-02-13T16:26:20.260066Z",
          "shell.execute_reply": "2024-02-13T16:26:20.258542Z",
          "shell.execute_reply.started": "2024-02-13T16:26:19.436444Z"
        },
        "id": "4X06tC3kDINo",
        "trusted": true
      },
      "outputs": [],
      "source": [
        "X, y = get_data()\n",
        "\n",
        "n_components_pca = 50\n",
        "n_splits = 5\n",
        "kf = KFold(n_splits=n_splits, shuffle=True, random_state=42)"
      ]
    },
    {
      "cell_type": "code",
      "execution_count": 110,
      "metadata": {
        "execution": {
          "iopub.execute_input": "2024-02-13T16:26:20.264236Z",
          "iopub.status.busy": "2024-02-13T16:26:20.263687Z",
          "iopub.status.idle": "2024-02-13T16:26:20.276395Z",
          "shell.execute_reply": "2024-02-13T16:26:20.274380Z",
          "shell.execute_reply.started": "2024-02-13T16:26:20.264193Z"
        },
        "id": "75i3mZfsDINo",
        "trusted": true
      },
      "outputs": [],
      "source": [
        "class ModularPCA:\n",
        "    def __init__(self, n_components, num_image=4, shape_image=(112,92)):\n",
        "        self.n_components = n_components\n",
        "        self.shape = shape_image\n",
        "        self.num_image = num_image\n",
        "\n",
        "    def fit(self, X):\n",
        "        self.X = cut_image(X, self.num_image, self.shape)\n",
        "        self.pca = PCA(n_components=self.n_components, random_state=42)\n",
        "        self.pca.fit(self.X)\n",
        "\n",
        "    def transform(self, X):\n",
        "        X_cut = cut_image(X, self.num_image, self.shape)\n",
        "        return self.pca.transform(X_cut)\n",
        "\n",
        "    def fit_transform(self, X):\n",
        "        self.fit(X)\n",
        "        return self.pca.fit_transform(self.X)"
      ]
    },
    {
      "cell_type": "code",
      "execution_count": 111,
      "metadata": {
        "execution": {
          "iopub.execute_input": "2024-02-13T16:26:20.279232Z",
          "iopub.status.busy": "2024-02-13T16:26:20.278740Z",
          "iopub.status.idle": "2024-02-13T16:26:20.290200Z",
          "shell.execute_reply": "2024-02-13T16:26:20.288786Z",
          "shell.execute_reply.started": "2024-02-13T16:26:20.279192Z"
        },
        "id": "oiZaIxf6DINp",
        "trusted": true
      },
      "outputs": [],
      "source": [
        "# accuracy_scores, precision_scores, recall_scores, f1_scores = [], [], [], []\n",
        "\n",
        "# for train_index, test_index in kf.split(X, y):\n",
        "#     X_train, X_test = X[train_index], X[test_index]\n",
        "#     y_train, y_test = y[train_index], y[test_index]\n",
        "\n",
        "#     mpca = ModularPCA(n_components=n_components_pca)\n",
        "#     X_train_reduced = mpca.fit_transform(X_train)\n",
        "#     X_test_reduced = mpca.transform(X_test)\n",
        "\n",
        "#     # Euclidean\n",
        "#     y_pred = []\n",
        "#     for i in range(80):\n",
        "#         min_ = np.argmin(np.sqrt(np.sum((X_train_reduced - X_test_reduced[i])**2,axis=1)))\n",
        "#         y_pred.append(y_train[min_])\n",
        "\n",
        "#     # Evaluate the model\n",
        "#     accuracy = accuracy_score(y_test, y_pred)\n",
        "#     accuracy_scores.append(accuracy)\n",
        "\n",
        "# print(np.mean(accuracy_scores))"
      ]
    },
    {
      "cell_type": "code",
      "execution_count": 112,
      "metadata": {
        "execution": {
          "iopub.execute_input": "2024-02-13T16:26:20.292748Z",
          "iopub.status.busy": "2024-02-13T16:26:20.292133Z",
          "iopub.status.idle": "2024-02-13T16:26:20.306310Z",
          "shell.execute_reply": "2024-02-13T16:26:20.305019Z",
          "shell.execute_reply.started": "2024-02-13T16:26:20.292711Z"
        },
        "id": "Ex0MhxLpDINp",
        "trusted": true
      },
      "outputs": [],
      "source": [
        "# accuracy_scores, precision_scores, recall_scores, f1_scores = [], [], [], []\n",
        "\n",
        "# for train_index, test_index in kf.split(X, y):\n",
        "#     X_train, X_test = X[train_index], X[test_index]\n",
        "#     y_train, y_test = y[train_index], y[test_index]\n",
        "\n",
        "#     mpca = ModularPCA(n_components=n_components_pca)\n",
        "#     X_train_reduced = mpca.fit_transform(X_train)\n",
        "#     X_test_reduced = mpca.transform(X_test)\n",
        "\n",
        "#     # Logistic\n",
        "#     lr = LogisticRegression(multi_class='ovr', solver='liblinear')\n",
        "#     lr.fit(X_train_reduced, y_train)\n",
        "#     y_pred = lr.predict(X_test_reduced)\n",
        "\n",
        "#     # Evaluate the model\n",
        "#     accuracy = accuracy_score(y_test, y_pred)\n",
        "#     accuracy_scores.append(accuracy)\n",
        "\n",
        "# print(np.mean(accuracy_scores))"
      ]
    },
    {
      "cell_type": "code",
      "execution_count": 113,
      "metadata": {
        "execution": {
          "iopub.execute_input": "2024-02-13T16:26:20.309121Z",
          "iopub.status.busy": "2024-02-13T16:26:20.308580Z",
          "iopub.status.idle": "2024-02-13T16:26:21.093875Z",
          "shell.execute_reply": "2024-02-13T16:26:21.092733Z",
          "shell.execute_reply.started": "2024-02-13T16:26:20.309086Z"
        },
        "id": "raTRESCYZocE",
        "trusted": true
      },
      "outputs": [],
      "source": [
        "X, y = get_data()\n",
        "X_train, X_test, y_train, y_test = train_test_split(X, y, test_size=0.2, random_state=42)"
      ]
    },
    {
      "cell_type": "markdown",
      "metadata": {
        "id": "o-Mq8dZTnxdy"
      },
      "source": [
        "# num_image = 4"
      ]
    },
    {
      "cell_type": "code",
      "execution_count": 114,
      "metadata": {
        "execution": {
          "iopub.execute_input": "2024-02-13T16:26:21.097136Z",
          "iopub.status.busy": "2024-02-13T16:26:21.095361Z",
          "iopub.status.idle": "2024-02-13T16:26:22.539239Z",
          "shell.execute_reply": "2024-02-13T16:26:22.536935Z",
          "shell.execute_reply.started": "2024-02-13T16:26:21.097095Z"
        },
        "id": "BYfLrStuZocF",
        "trusted": true
      },
      "outputs": [],
      "source": [
        "n_components_pca = 50\n",
        "pca = ModularPCA(n_components=n_components_pca, num_image=4)\n",
        "X_train_reduced = pca.fit_transform(X_train)\n",
        "X_test_reduced = pca.transform(X_test)"
      ]
    },
    {
      "cell_type": "markdown",
      "metadata": {
        "id": "Iu7yIjDNZocF"
      },
      "source": [
        "# Modeling"
      ]
    },
    {
      "cell_type": "code",
      "execution_count": 115,
      "metadata": {
        "execution": {
          "iopub.execute_input": "2024-02-13T16:26:22.552888Z",
          "iopub.status.busy": "2024-02-13T16:26:22.549841Z",
          "iopub.status.idle": "2024-02-13T16:26:22.563981Z",
          "shell.execute_reply": "2024-02-13T16:26:22.562357Z",
          "shell.execute_reply.started": "2024-02-13T16:26:22.552826Z"
        },
        "id": "98FrY_DqZocH",
        "trusted": true
      },
      "outputs": [],
      "source": [
        "from sklearn.model_selection import KFold\n",
        "n_splits = 5\n",
        "kf = KFold(n_splits=n_splits, shuffle=True, random_state=42)"
      ]
    },
    {
      "cell_type": "code",
      "execution_count": 116,
      "metadata": {
        "execution": {
          "iopub.execute_input": "2024-02-13T16:26:22.567652Z",
          "iopub.status.busy": "2024-02-13T16:26:22.566518Z",
          "iopub.status.idle": "2024-02-13T16:26:26.331245Z",
          "shell.execute_reply": "2024-02-13T16:26:26.330382Z",
          "shell.execute_reply.started": "2024-02-13T16:26:22.567586Z"
        },
        "id": "flCk0CVhZocH",
        "outputId": "af827c00-5aa5-4719-9324-9a102137fc12",
        "trusted": true
      },
      "outputs": [
        {
          "name": "stdout",
          "output_type": "stream",
          "text": [
            "accuracy: 0.975\n",
            "recall: 0.9791666666666666\n",
            "precision: 0.9837962962962963\n",
            "f1-score: 0.9772486772486771\n",
            "roc_auc:  0.9892248954748956\n"
          ]
        }
      ],
      "source": [
        "lr = LogisticRegression()\n",
        "lr.fit(X_train_reduced, y_train)\n",
        "y_pred = lr.predict(X_test_reduced)\n",
        "\n",
        "accuracy = accuracy_score(y_test, y_pred)\n",
        "precision = precision_score(y_test, y_pred, average='macro')\n",
        "recall = recall_score(y_test, y_pred, average='macro')\n",
        "f1 = f1_score(y_test, y_pred, average='macro')\n",
        "\n",
        "# One-hot encoding for probability calculation (adapt if necessary)\n",
        "y_test_onehot = pd.get_dummies(y_test, prefix='label_')  # Assuming 'label_' prefix for clarity\n",
        "y_pred_onehot = pd.get_dummies(y_pred, prefix='label_')\n",
        "\n",
        "# ROC AUC score with multiclass handling\n",
        "roc_auc_macro = roc_auc_score(y_test_onehot, y_pred_onehot, average='macro', multi_class='ovo')  # Specify 'ovo' or 'ovr'\n",
        "\n",
        "print(\"accuracy:\", accuracy)\n",
        "print(\"recall:\", recall)\n",
        "print(\"precision:\", precision)\n",
        "print(\"f1-score:\", f1)\n",
        "print('roc_auc: ', roc_auc_macro)"
      ]
    },
    {
      "cell_type": "markdown",
      "metadata": {
        "id": "Tp7LvPdcZocI"
      },
      "source": [
        "# Random Forest"
      ]
    },
    {
      "cell_type": "code",
      "execution_count": 117,
      "metadata": {
        "execution": {
          "iopub.execute_input": "2024-02-13T16:26:26.333721Z",
          "iopub.status.busy": "2024-02-13T16:26:26.332505Z",
          "iopub.status.idle": "2024-02-13T16:26:26.338598Z",
          "shell.execute_reply": "2024-02-13T16:26:26.337180Z",
          "shell.execute_reply.started": "2024-02-13T16:26:26.333684Z"
        },
        "id": "z70ML5cGZocI",
        "trusted": true
      },
      "outputs": [],
      "source": [
        "prediction_results = {}"
      ]
    },
    {
      "cell_type": "code",
      "execution_count": 118,
      "metadata": {
        "execution": {
          "iopub.execute_input": "2024-02-13T16:26:26.340392Z",
          "iopub.status.busy": "2024-02-13T16:26:26.340065Z",
          "iopub.status.idle": "2024-02-13T16:26:26.352807Z",
          "shell.execute_reply": "2024-02-13T16:26:26.351233Z",
          "shell.execute_reply.started": "2024-02-13T16:26:26.340365Z"
        },
        "id": "w5pmOW2ZZocJ",
        "trusted": true
      },
      "outputs": [],
      "source": [
        "from sklearn.ensemble import RandomForestClassifier\n",
        "from sklearn.metrics import accuracy_score"
      ]
    },
    {
      "cell_type": "markdown",
      "metadata": {
        "id": "n3culyLtZocJ"
      },
      "source": [
        "**Normal**"
      ]
    },
    {
      "cell_type": "code",
      "execution_count": 119,
      "metadata": {
        "execution": {
          "iopub.execute_input": "2024-02-13T16:26:26.354805Z",
          "iopub.status.busy": "2024-02-13T16:26:26.354423Z",
          "iopub.status.idle": "2024-02-13T16:26:26.887330Z",
          "shell.execute_reply": "2024-02-13T16:26:26.886253Z",
          "shell.execute_reply.started": "2024-02-13T16:26:26.354776Z"
        },
        "id": "cdI-thcdZocJ",
        "outputId": "e1f8598f-d679-4c4d-d635-60fc0230e360",
        "trusted": true
      },
      "outputs": [
        {
          "name": "stdout",
          "output_type": "stream",
          "text": [
            "accuracy: 0.925\n",
            "recall: 0.9351851851851851\n",
            "precision: 0.9097222222222222\n",
            "f1-score: 0.9089947089947089\n",
            "roc_auc:  0.7622988574972966\n"
          ]
        }
      ],
      "source": [
        "rfr = RandomForestClassifier(random_state=42)\n",
        "rfr.fit(X_train_reduced,y_train)\n",
        "y_pred = rfr.predict(X_test_reduced)\n",
        "\n",
        "accuracy = accuracy_score(y_test, y_pred)\n",
        "precision = precision_score(y_test, y_pred, average='macro')\n",
        "recall = recall_score(y_test, y_pred, average='macro')\n",
        "f1 = f1_score(y_test, y_pred, average='macro')\n",
        "\n",
        "# One-hot encoding for probability calculation (adapt if necessary)\n",
        "y_test_onehot = pd.get_dummies(y_test, prefix='label_')  # Assuming 'label_' prefix for clarity\n",
        "y_pred_onehot = pd.get_dummies(y_pred, prefix='label_')\n",
        "\n",
        "# ROC AUC score with multiclass handling\n",
        "roc_auc_macro = roc_auc_score(y_test_onehot, y_pred_onehot, average='macro', multi_class='ovo')  # Specify 'ovo' or 'ovr'\n",
        "\n",
        "print(\"accuracy:\", accuracy)\n",
        "print(\"recall:\", recall)\n",
        "print(\"precision:\", precision)\n",
        "print(\"f1-score:\", f1)\n",
        "print('roc_auc: ', roc_auc_macro)"
      ]
    },
    {
      "cell_type": "markdown",
      "metadata": {
        "id": "IhH_HIi2ZocJ"
      },
      "source": [
        "**Tunning**"
      ]
    },
    {
      "cell_type": "code",
      "execution_count": 120,
      "metadata": {
        "execution": {
          "iopub.execute_input": "2024-02-13T16:26:26.890998Z",
          "iopub.status.busy": "2024-02-13T16:26:26.889800Z",
          "iopub.status.idle": "2024-02-13T16:26:26.899889Z",
          "shell.execute_reply": "2024-02-13T16:26:26.898089Z",
          "shell.execute_reply.started": "2024-02-13T16:26:26.890959Z"
        },
        "id": "gtTc9UhBZocJ",
        "trusted": true
      },
      "outputs": [],
      "source": [
        "import optuna\n",
        "\n",
        "\n",
        "def objective(trial):\n",
        "    hyperparams = {\n",
        "        'n_estimators': trial.suggest_int('n_estimators', 100, 1000),\n",
        "        'max_depth': trial.suggest_int('max_depth', 10, 50),\n",
        "        'min_samples_split': trial.suggest_int('min_samples_split', 2, 32),\n",
        "        'random_state': trial.suggest_categorical('random_state', [42]),\n",
        "        'min_samples_leaf': trial.suggest_int('min_samples_leaf', 1, 32),\n",
        "        'n_jobs': -1\n",
        "    }\n",
        "\n",
        "    model = RandomForestClassifier(**hyperparams)\n",
        "    scores = cross_val_score(model, X_train_reduced,\n",
        "                             y_train, cv=kf, scoring='accuracy')\n",
        "    return np.mean(scores)"
      ]
    },
    {
      "cell_type": "code",
      "execution_count": 121,
      "metadata": {
        "execution": {
          "iopub.execute_input": "2024-02-13T16:26:26.902811Z",
          "iopub.status.busy": "2024-02-13T16:26:26.902052Z",
          "iopub.status.idle": "2024-02-13T16:36:09.669810Z",
          "shell.execute_reply": "2024-02-13T16:36:09.667941Z",
          "shell.execute_reply.started": "2024-02-13T16:26:26.902776Z"
        },
        "id": "7x-i7EwaZocK",
        "outputId": "326d8b72-2363-473c-956c-6340457e819f",
        "trusted": true
      },
      "outputs": [
        {
          "name": "stderr",
          "output_type": "stream",
          "text": [
            "[I 2024-02-16 13:07:44,088] A new study created in memory with name: no-name-f6136bad-4c9d-4ded-9534-68b225e5dadf\n",
            "[I 2024-02-16 13:07:49,317] Trial 0 finished with value: 0.8 and parameters: {'n_estimators': 471, 'max_depth': 19, 'min_samples_split': 5, 'random_state': 42, 'min_samples_leaf': 8}. Best is trial 0 with value: 0.8.\n",
            "[I 2024-02-16 13:07:59,126] Trial 1 finished with value: 0.709375 and parameters: {'n_estimators': 916, 'max_depth': 32, 'min_samples_split': 32, 'random_state': 42, 'min_samples_leaf': 12}. Best is trial 0 with value: 0.8.\n",
            "[I 2024-02-16 13:08:00,078] Trial 2 finished with value: 0.475 and parameters: {'n_estimators': 101, 'max_depth': 39, 'min_samples_split': 3, 'random_state': 42, 'min_samples_leaf': 31}. Best is trial 0 with value: 0.8.\n",
            "[I 2024-02-16 13:08:09,829] Trial 3 finished with value: 0.653125 and parameters: {'n_estimators': 840, 'max_depth': 14, 'min_samples_split': 21, 'random_state': 42, 'min_samples_leaf': 21}. Best is trial 0 with value: 0.8.\n",
            "[I 2024-02-16 13:08:20,943] Trial 4 finished with value: 0.65 and parameters: {'n_estimators': 962, 'max_depth': 20, 'min_samples_split': 19, 'random_state': 42, 'min_samples_leaf': 22}. Best is trial 0 with value: 0.8.\n",
            "[I 2024-02-16 13:08:25,942] Trial 5 finished with value: 0.575 and parameters: {'n_estimators': 443, 'max_depth': 36, 'min_samples_split': 8, 'random_state': 42, 'min_samples_leaf': 27}. Best is trial 0 with value: 0.8.\n",
            "[I 2024-02-16 13:08:37,351] Trial 6 finished with value: 0.8625 and parameters: {'n_estimators': 939, 'max_depth': 46, 'min_samples_split': 9, 'random_state': 42, 'min_samples_leaf': 4}. Best is trial 6 with value: 0.8625.\n",
            "[I 2024-02-16 13:08:44,925] Trial 7 finished with value: 0.65625 and parameters: {'n_estimators': 766, 'max_depth': 16, 'min_samples_split': 17, 'random_state': 42, 'min_samples_leaf': 21}. Best is trial 6 with value: 0.8625.\n",
            "[I 2024-02-16 13:08:46,432] Trial 8 finished with value: 0.703125 and parameters: {'n_estimators': 229, 'max_depth': 26, 'min_samples_split': 12, 'random_state': 42, 'min_samples_leaf': 15}. Best is trial 6 with value: 0.8625.\n",
            "[I 2024-02-16 13:08:49,868] Trial 9 finished with value: 0.75625 and parameters: {'n_estimators': 518, 'max_depth': 26, 'min_samples_split': 8, 'random_state': 42, 'min_samples_leaf': 11}. Best is trial 6 with value: 0.8625.\n",
            "[I 2024-02-16 13:08:54,879] Trial 10 finished with value: 0.725 and parameters: {'n_estimators': 674, 'max_depth': 50, 'min_samples_split': 27, 'random_state': 42, 'min_samples_leaf': 2}. Best is trial 6 with value: 0.8625.\n",
            "[I 2024-02-16 13:08:58,213] Trial 11 finished with value: 0.903125 and parameters: {'n_estimators': 464, 'max_depth': 50, 'min_samples_split': 2, 'random_state': 42, 'min_samples_leaf': 2}. Best is trial 11 with value: 0.903125.\n",
            "[I 2024-02-16 13:09:00,557] Trial 12 finished with value: 0.90625 and parameters: {'n_estimators': 323, 'max_depth': 50, 'min_samples_split': 2, 'random_state': 42, 'min_samples_leaf': 2}. Best is trial 12 with value: 0.90625.\n",
            "[I 2024-02-16 13:09:02,987] Trial 13 finished with value: 0.915625 and parameters: {'n_estimators': 325, 'max_depth': 43, 'min_samples_split': 2, 'random_state': 42, 'min_samples_leaf': 1}. Best is trial 13 with value: 0.915625.\n",
            "[I 2024-02-16 13:09:05,085] Trial 14 finished with value: 0.834375 and parameters: {'n_estimators': 306, 'max_depth': 42, 'min_samples_split': 12, 'random_state': 42, 'min_samples_leaf': 6}. Best is trial 13 with value: 0.915625.\n",
            "[I 2024-02-16 13:09:07,301] Trial 15 finished with value: 0.8125 and parameters: {'n_estimators': 315, 'max_depth': 44, 'min_samples_split': 14, 'random_state': 42, 'min_samples_leaf': 1}. Best is trial 13 with value: 0.915625.\n",
            "[I 2024-02-16 13:09:08,215] Trial 16 finished with value: 0.765625 and parameters: {'n_estimators': 123, 'max_depth': 37, 'min_samples_split': 5, 'random_state': 42, 'min_samples_leaf': 8}. Best is trial 13 with value: 0.915625.\n",
            "[I 2024-02-16 13:09:12,106] Trial 17 finished with value: 0.7125 and parameters: {'n_estimators': 625, 'max_depth': 45, 'min_samples_split': 6, 'random_state': 42, 'min_samples_leaf': 16}. Best is trial 13 with value: 0.915625.\n",
            "[I 2024-02-16 13:09:14,301] Trial 18 finished with value: 0.775 and parameters: {'n_estimators': 333, 'max_depth': 33, 'min_samples_split': 22, 'random_state': 42, 'min_samples_leaf': 11}. Best is trial 13 with value: 0.915625.\n",
            "[I 2024-02-16 13:09:15,751] Trial 19 finished with value: 0.821875 and parameters: {'n_estimators': 205, 'max_depth': 40, 'min_samples_split': 2, 'random_state': 42, 'min_samples_leaf': 6}. Best is trial 13 with value: 0.915625.\n",
            "[I 2024-02-16 13:09:18,386] Trial 20 finished with value: 0.8375 and parameters: {'n_estimators': 391, 'max_depth': 49, 'min_samples_split': 11, 'random_state': 42, 'min_samples_leaf': 5}. Best is trial 13 with value: 0.915625.\n",
            "[I 2024-02-16 13:09:22,578] Trial 21 finished with value: 0.91875 and parameters: {'n_estimators': 580, 'max_depth': 50, 'min_samples_split': 2, 'random_state': 42, 'min_samples_leaf': 1}. Best is trial 21 with value: 0.91875.\n",
            "[I 2024-02-16 13:09:28,385] Trial 22 finished with value: 0.915625 and parameters: {'n_estimators': 704, 'max_depth': 46, 'min_samples_split': 5, 'random_state': 42, 'min_samples_leaf': 1}. Best is trial 21 with value: 0.91875.\n",
            "[I 2024-02-16 13:09:33,617] Trial 23 finished with value: 0.796875 and parameters: {'n_estimators': 631, 'max_depth': 46, 'min_samples_split': 6, 'random_state': 42, 'min_samples_leaf': 8}. Best is trial 21 with value: 0.91875.\n",
            "[I 2024-02-16 13:09:41,104] Trial 24 finished with value: 0.91875 and parameters: {'n_estimators': 721, 'max_depth': 42, 'min_samples_split': 5, 'random_state': 42, 'min_samples_leaf': 1}. Best is trial 21 with value: 0.91875.\n",
            "[I 2024-02-16 13:09:45,922] Trial 25 finished with value: 0.78125 and parameters: {'n_estimators': 542, 'max_depth': 42, 'min_samples_split': 16, 'random_state': 42, 'min_samples_leaf': 4}. Best is trial 21 with value: 0.91875.\n",
            "[I 2024-02-16 13:09:51,856] Trial 26 finished with value: 0.7375 and parameters: {'n_estimators': 782, 'max_depth': 37, 'min_samples_split': 9, 'random_state': 42, 'min_samples_leaf': 13}. Best is trial 21 with value: 0.91875.\n",
            "[I 2024-02-16 13:09:56,749] Trial 27 finished with value: 0.79375 and parameters: {'n_estimators': 603, 'max_depth': 42, 'min_samples_split': 4, 'random_state': 42, 'min_samples_leaf': 8}. Best is trial 21 with value: 0.91875.\n",
            "[I 2024-02-16 13:10:02,889] Trial 28 finished with value: 0.875 and parameters: {'n_estimators': 706, 'max_depth': 29, 'min_samples_split': 7, 'random_state': 42, 'min_samples_leaf': 4}. Best is trial 21 with value: 0.91875.\n",
            "[I 2024-02-16 13:10:07,291] Trial 29 finished with value: 0.6625 and parameters: {'n_estimators': 586, 'max_depth': 34, 'min_samples_split': 4, 'random_state': 42, 'min_samples_leaf': 19}. Best is trial 21 with value: 0.91875.\n",
            "[I 2024-02-16 13:10:14,289] Trial 30 finished with value: 0.8125 and parameters: {'n_estimators': 857, 'max_depth': 48, 'min_samples_split': 10, 'random_state': 42, 'min_samples_leaf': 7}. Best is trial 21 with value: 0.91875.\n",
            "[I 2024-02-16 13:10:21,089] Trial 31 finished with value: 0.91875 and parameters: {'n_estimators': 725, 'max_depth': 47, 'min_samples_split': 5, 'random_state': 42, 'min_samples_leaf': 1}. Best is trial 21 with value: 0.91875.\n",
            "[I 2024-02-16 13:10:27,967] Trial 32 finished with value: 0.89375 and parameters: {'n_estimators': 768, 'max_depth': 40, 'min_samples_split': 4, 'random_state': 42, 'min_samples_leaf': 3}. Best is trial 21 with value: 0.91875.\n",
            "[I 2024-02-16 13:10:31,883] Trial 33 finished with value: 0.775 and parameters: {'n_estimators': 499, 'max_depth': 44, 'min_samples_split': 2, 'random_state': 42, 'min_samples_leaf': 10}. Best is trial 21 with value: 0.91875.\n",
            "[I 2024-02-16 13:10:39,745] Trial 34 finished with value: 0.896875 and parameters: {'n_estimators': 865, 'max_depth': 47, 'min_samples_split': 7, 'random_state': 42, 'min_samples_leaf': 1}. Best is trial 21 with value: 0.91875.\n",
            "[I 2024-02-16 13:10:45,659] Trial 35 finished with value: 0.734375 and parameters: {'n_estimators': 688, 'max_depth': 43, 'min_samples_split': 28, 'random_state': 42, 'min_samples_leaf': 5}. Best is trial 21 with value: 0.91875.\n",
            "[I 2024-02-16 13:10:49,885] Trial 36 finished with value: 0.565625 and parameters: {'n_estimators': 567, 'max_depth': 11, 'min_samples_split': 4, 'random_state': 42, 'min_samples_leaf': 28}. Best is trial 21 with value: 0.91875.\n",
            "[I 2024-02-16 13:10:53,407] Trial 37 finished with value: 0.9 and parameters: {'n_estimators': 393, 'max_depth': 39, 'min_samples_split': 6, 'random_state': 42, 'min_samples_leaf': 3}. Best is trial 21 with value: 0.91875.\n",
            "[I 2024-02-16 13:10:59,237] Trial 38 finished with value: 0.51875 and parameters: {'n_estimators': 807, 'max_depth': 48, 'min_samples_split': 3, 'random_state': 42, 'min_samples_leaf': 32}. Best is trial 21 with value: 0.91875.\n",
            "[I 2024-02-16 13:11:05,243] Trial 39 finished with value: 0.828125 and parameters: {'n_estimators': 731, 'max_depth': 31, 'min_samples_split': 13, 'random_state': 42, 'min_samples_leaf': 6}. Best is trial 21 with value: 0.91875.\n",
            "[I 2024-02-16 13:11:12,313] Trial 40 finished with value: 0.609375 and parameters: {'n_estimators': 993, 'max_depth': 20, 'min_samples_split': 9, 'random_state': 42, 'min_samples_leaf': 25}. Best is trial 21 with value: 0.91875.\n",
            "[I 2024-02-16 13:11:18,506] Trial 41 finished with value: 0.915625 and parameters: {'n_estimators': 643, 'max_depth': 46, 'min_samples_split': 5, 'random_state': 42, 'min_samples_leaf': 1}. Best is trial 21 with value: 0.91875.\n",
            "[I 2024-02-16 13:11:24,919] Trial 42 finished with value: 0.875 and parameters: {'n_estimators': 726, 'max_depth': 45, 'min_samples_split': 8, 'random_state': 42, 'min_samples_leaf': 3}. Best is trial 21 with value: 0.91875.\n",
            "[I 2024-02-16 13:11:33,249] Trial 43 finished with value: 0.909375 and parameters: {'n_estimators': 890, 'max_depth': 48, 'min_samples_split': 5, 'random_state': 42, 'min_samples_leaf': 1}. Best is trial 21 with value: 0.91875.\n",
            "[I 2024-02-16 13:11:39,089] Trial 44 finished with value: 0.89375 and parameters: {'n_estimators': 663, 'max_depth': 39, 'min_samples_split': 3, 'random_state': 42, 'min_samples_leaf': 3}. Best is trial 21 with value: 0.91875.\n",
            "[I 2024-02-16 13:11:45,857] Trial 45 finished with value: 0.753125 and parameters: {'n_estimators': 806, 'max_depth': 24, 'min_samples_split': 21, 'random_state': 42, 'min_samples_leaf': 1}. Best is trial 21 with value: 0.91875.\n",
            "[I 2024-02-16 13:11:52,000] Trial 46 finished with value: 0.709375 and parameters: {'n_estimators': 738, 'max_depth': 41, 'min_samples_split': 32, 'random_state': 42, 'min_samples_leaf': 5}. Best is trial 21 with value: 0.91875.\n",
            "[I 2024-02-16 13:11:55,986] Trial 47 finished with value: 0.7875 and parameters: {'n_estimators': 493, 'max_depth': 50, 'min_samples_split': 3, 'random_state': 42, 'min_samples_leaf': 9}. Best is trial 21 with value: 0.91875.\n",
            "[I 2024-02-16 13:12:00,664] Trial 48 finished with value: 0.865625 and parameters: {'n_estimators': 542, 'max_depth': 44, 'min_samples_split': 7, 'random_state': 42, 'min_samples_leaf': 4}. Best is trial 21 with value: 0.91875.\n",
            "[I 2024-02-16 13:12:04,539] Trial 49 finished with value: 0.85625 and parameters: {'n_estimators': 427, 'max_depth': 35, 'min_samples_split': 10, 'random_state': 42, 'min_samples_leaf': 2}. Best is trial 21 with value: 0.91875.\n",
            "[I 2024-02-16 13:12:06,488] Trial 50 finished with value: 0.740625 and parameters: {'n_estimators': 238, 'max_depth': 47, 'min_samples_split': 2, 'random_state': 42, 'min_samples_leaf': 13}. Best is trial 21 with value: 0.91875.\n",
            "[I 2024-02-16 13:12:12,442] Trial 51 finished with value: 0.915625 and parameters: {'n_estimators': 646, 'max_depth': 46, 'min_samples_split': 5, 'random_state': 42, 'min_samples_leaf': 1}. Best is trial 21 with value: 0.91875.\n",
            "[I 2024-02-16 13:12:18,671] Trial 52 finished with value: 0.9 and parameters: {'n_estimators': 682, 'max_depth': 46, 'min_samples_split': 5, 'random_state': 42, 'min_samples_leaf': 2}. Best is trial 21 with value: 0.91875.\n",
            "[I 2024-02-16 13:12:24,223] Trial 53 finished with value: 0.890625 and parameters: {'n_estimators': 611, 'max_depth': 49, 'min_samples_split': 7, 'random_state': 42, 'min_samples_leaf': 1}. Best is trial 21 with value: 0.91875.\n",
            "[I 2024-02-16 13:12:30,020] Trial 54 finished with value: 0.89375 and parameters: {'n_estimators': 656, 'max_depth': 43, 'min_samples_split': 6, 'random_state': 42, 'min_samples_leaf': 3}. Best is trial 21 with value: 0.91875.\n",
            "[I 2024-02-16 13:12:36,793] Trial 55 finished with value: 0.8375 and parameters: {'n_estimators': 814, 'max_depth': 37, 'min_samples_split': 4, 'random_state': 42, 'min_samples_leaf': 5}. Best is trial 21 with value: 0.91875.\n",
            "[I 2024-02-16 13:12:43,226] Trial 56 finished with value: 0.875 and parameters: {'n_estimators': 742, 'max_depth': 45, 'min_samples_split': 2, 'random_state': 42, 'min_samples_leaf': 4}. Best is trial 21 with value: 0.91875.\n",
            "[I 2024-02-16 13:12:47,792] Trial 57 finished with value: 0.828125 and parameters: {'n_estimators': 562, 'max_depth': 50, 'min_samples_split': 8, 'random_state': 42, 'min_samples_leaf': 7}. Best is trial 21 with value: 0.91875.\n",
            "[I 2024-02-16 13:12:53,019] Trial 58 finished with value: 0.690625 and parameters: {'n_estimators': 703, 'max_depth': 41, 'min_samples_split': 3, 'random_state': 42, 'min_samples_leaf': 18}. Best is trial 21 with value: 0.91875.\n",
            "[I 2024-02-16 13:12:54,324] Trial 59 finished with value: 0.8875 and parameters: {'n_estimators': 129, 'max_depth': 47, 'min_samples_split': 5, 'random_state': 42, 'min_samples_leaf': 2}. Best is trial 21 with value: 0.91875.\n",
            "[I 2024-02-16 13:12:59,602] Trial 60 finished with value: 0.7875 and parameters: {'n_estimators': 590, 'max_depth': 43, 'min_samples_split': 18, 'random_state': 42, 'min_samples_leaf': 6}. Best is trial 21 with value: 0.91875.\n",
            "[I 2024-02-16 13:13:05,839] Trial 61 finished with value: 0.915625 and parameters: {'n_estimators': 645, 'max_depth': 46, 'min_samples_split': 5, 'random_state': 42, 'min_samples_leaf': 1}. Best is trial 21 with value: 0.91875.\n",
            "[I 2024-02-16 13:13:11,704] Trial 62 finished with value: 0.896875 and parameters: {'n_estimators': 647, 'max_depth': 45, 'min_samples_split': 6, 'random_state': 42, 'min_samples_leaf': 2}. Best is trial 21 with value: 0.91875.\n",
            "[I 2024-02-16 13:13:16,729] Trial 63 finished with value: 0.921875 and parameters: {'n_estimators': 523, 'max_depth': 48, 'min_samples_split': 4, 'random_state': 42, 'min_samples_leaf': 1}. Best is trial 63 with value: 0.921875.\n",
            "[I 2024-02-16 13:13:20,762] Trial 64 finished with value: 0.89375 and parameters: {'n_estimators': 449, 'max_depth': 49, 'min_samples_split': 2, 'random_state': 42, 'min_samples_leaf': 3}. Best is trial 63 with value: 0.921875.\n",
            "[I 2024-02-16 13:13:25,209] Trial 65 finished with value: 0.8625 and parameters: {'n_estimators': 516, 'max_depth': 48, 'min_samples_split': 3, 'random_state': 42, 'min_samples_leaf': 4}. Best is trial 63 with value: 0.921875.\n",
            "[I 2024-02-16 13:13:27,742] Trial 66 finished with value: 0.90625 and parameters: {'n_estimators': 265, 'max_depth': 44, 'min_samples_split': 4, 'random_state': 42, 'min_samples_leaf': 2}. Best is trial 63 with value: 0.921875.\n",
            "[I 2024-02-16 13:13:33,901] Trial 67 finished with value: 0.74375 and parameters: {'n_estimators': 770, 'max_depth': 47, 'min_samples_split': 26, 'random_state': 42, 'min_samples_leaf': 5}. Best is trial 63 with value: 0.921875.\n",
            "[I 2024-02-16 13:13:37,113] Trial 68 finished with value: 0.80625 and parameters: {'n_estimators': 389, 'max_depth': 49, 'min_samples_split': 10, 'random_state': 42, 'min_samples_leaf': 7}. Best is trial 63 with value: 0.921875.\n",
            "[I 2024-02-16 13:13:41,569] Trial 69 finished with value: 0.634375 and parameters: {'n_estimators': 614, 'max_depth': 42, 'min_samples_split': 6, 'random_state': 42, 'min_samples_leaf': 23}. Best is trial 63 with value: 0.921875.\n",
            "[I 2024-02-16 13:13:48,321] Trial 70 finished with value: 0.89375 and parameters: {'n_estimators': 694, 'max_depth': 39, 'min_samples_split': 7, 'random_state': 42, 'min_samples_leaf': 1}. Best is trial 63 with value: 0.921875.\n",
            "[I 2024-02-16 13:13:54,183] Trial 71 finished with value: 0.909375 and parameters: {'n_estimators': 633, 'max_depth': 46, 'min_samples_split': 5, 'random_state': 42, 'min_samples_leaf': 1}. Best is trial 63 with value: 0.921875.\n",
            "[I 2024-02-16 13:13:59,499] Trial 72 finished with value: 0.909375 and parameters: {'n_estimators': 580, 'max_depth': 50, 'min_samples_split': 4, 'random_state': 42, 'min_samples_leaf': 2}. Best is trial 63 with value: 0.921875.\n",
            "[I 2024-02-16 13:14:06,334] Trial 73 finished with value: 0.89375 and parameters: {'n_estimators': 722, 'max_depth': 17, 'min_samples_split': 3, 'random_state': 42, 'min_samples_leaf': 3}. Best is trial 63 with value: 0.921875.\n",
            "[I 2024-02-16 13:14:12,377] Trial 74 finished with value: 0.878125 and parameters: {'n_estimators': 675, 'max_depth': 45, 'min_samples_split': 8, 'random_state': 42, 'min_samples_leaf': 1}. Best is trial 63 with value: 0.921875.\n",
            "[I 2024-02-16 13:14:19,078] Trial 75 finished with value: 0.86875 and parameters: {'n_estimators': 784, 'max_depth': 47, 'min_samples_split': 3, 'random_state': 42, 'min_samples_leaf': 4}. Best is trial 63 with value: 0.921875.\n",
            "[I 2024-02-16 13:14:22,298] Trial 76 finished with value: 0.9 and parameters: {'n_estimators': 358, 'max_depth': 48, 'min_samples_split': 6, 'random_state': 42, 'min_samples_leaf': 3}. Best is trial 63 with value: 0.921875.\n",
            "[I 2024-02-16 13:14:27,089] Trial 77 finished with value: 0.878125 and parameters: {'n_estimators': 539, 'max_depth': 43, 'min_samples_split': 9, 'random_state': 42, 'min_samples_leaf': 2}. Best is trial 63 with value: 0.921875.\n",
            "[I 2024-02-16 13:14:33,369] Trial 78 finished with value: 0.79375 and parameters: {'n_estimators': 756, 'max_depth': 41, 'min_samples_split': 15, 'random_state': 42, 'min_samples_leaf': 4}. Best is trial 63 with value: 0.921875.\n",
            "[I 2024-02-16 13:14:35,032] Trial 79 finished with value: 0.725 and parameters: {'n_estimators': 186, 'max_depth': 28, 'min_samples_split': 24, 'random_state': 42, 'min_samples_leaf': 1}. Best is trial 63 with value: 0.921875.\n",
            "[I 2024-02-16 13:14:39,119] Trial 80 finished with value: 0.84375 and parameters: {'n_estimators': 478, 'max_depth': 44, 'min_samples_split': 2, 'random_state': 42, 'min_samples_leaf': 5}. Best is trial 63 with value: 0.921875.\n",
            "[I 2024-02-16 13:14:45,022] Trial 81 finished with value: 0.915625 and parameters: {'n_estimators': 637, 'max_depth': 46, 'min_samples_split': 5, 'random_state': 42, 'min_samples_leaf': 1}. Best is trial 63 with value: 0.921875.\n",
            "[I 2024-02-16 13:14:51,171] Trial 82 finished with value: 0.903125 and parameters: {'n_estimators': 662, 'max_depth': 46, 'min_samples_split': 5, 'random_state': 42, 'min_samples_leaf': 2}. Best is trial 63 with value: 0.921875.\n",
            "[I 2024-02-16 13:14:57,387] Trial 83 finished with value: 0.89375 and parameters: {'n_estimators': 704, 'max_depth': 48, 'min_samples_split': 4, 'random_state': 42, 'min_samples_leaf': 3}. Best is trial 63 with value: 0.921875.\n",
            "[I 2024-02-16 13:15:03,164] Trial 84 finished with value: 0.925 and parameters: {'n_estimators': 620, 'max_depth': 49, 'min_samples_split': 4, 'random_state': 42, 'min_samples_leaf': 1}. Best is trial 84 with value: 0.925.\n",
            "[I 2024-02-16 13:15:08,895] Trial 85 finished with value: 0.9125 and parameters: {'n_estimators': 594, 'max_depth': 49, 'min_samples_split': 4, 'random_state': 42, 'min_samples_leaf': 2}. Best is trial 84 with value: 0.925.\n",
            "[I 2024-02-16 13:15:14,547] Trial 86 finished with value: 0.890625 and parameters: {'n_estimators': 622, 'max_depth': 50, 'min_samples_split': 3, 'random_state': 42, 'min_samples_leaf': 3}. Best is trial 84 with value: 0.925.\n",
            "[I 2024-02-16 13:15:19,782] Trial 87 finished with value: 0.88125 and parameters: {'n_estimators': 566, 'max_depth': 47, 'min_samples_split': 8, 'random_state': 42, 'min_samples_leaf': 1}. Best is trial 84 with value: 0.925.\n",
            "[I 2024-02-16 13:15:26,024] Trial 88 finished with value: 0.871875 and parameters: {'n_estimators': 722, 'max_depth': 45, 'min_samples_split': 7, 'random_state': 42, 'min_samples_leaf': 4}. Best is trial 84 with value: 0.925.\n",
            "[I 2024-02-16 13:15:30,863] Trial 89 finished with value: 0.90625 and parameters: {'n_estimators': 527, 'max_depth': 49, 'min_samples_split': 2, 'random_state': 42, 'min_samples_leaf': 2}. Best is trial 84 with value: 0.925.\n",
            "[I 2024-02-16 13:15:37,034] Trial 90 finished with value: 0.715625 and parameters: {'n_estimators': 829, 'max_depth': 48, 'min_samples_split': 6, 'random_state': 42, 'min_samples_leaf': 15}. Best is trial 84 with value: 0.925.\n",
            "[I 2024-02-16 13:15:43,306] Trial 91 finished with value: 0.915625 and parameters: {'n_estimators': 673, 'max_depth': 46, 'min_samples_split': 5, 'random_state': 42, 'min_samples_leaf': 1}. Best is trial 84 with value: 0.925.\n",
            "[I 2024-02-16 13:15:49,469] Trial 92 finished with value: 0.9125 and parameters: {'n_estimators': 652, 'max_depth': 43, 'min_samples_split': 3, 'random_state': 42, 'min_samples_leaf': 1}. Best is trial 84 with value: 0.925.\n",
            "[I 2024-02-16 13:15:56,060] Trial 93 finished with value: 0.89375 and parameters: {'n_estimators': 745, 'max_depth': 44, 'min_samples_split': 4, 'random_state': 42, 'min_samples_leaf': 3}. Best is trial 84 with value: 0.925.\n",
            "[I 2024-02-16 13:16:00,453] Trial 94 finished with value: 0.5625 and parameters: {'n_estimators': 601, 'max_depth': 47, 'min_samples_split': 6, 'random_state': 42, 'min_samples_leaf': 28}. Best is trial 84 with value: 0.925.\n",
            "[I 2024-02-16 13:16:07,012] Trial 95 finished with value: 0.915625 and parameters: {'n_estimators': 715, 'max_depth': 50, 'min_samples_split': 2, 'random_state': 42, 'min_samples_leaf': 2}. Best is trial 84 with value: 0.925.\n",
            "[I 2024-02-16 13:16:13,138] Trial 96 finished with value: 0.9125 and parameters: {'n_estimators': 636, 'max_depth': 48, 'min_samples_split': 5, 'random_state': 42, 'min_samples_leaf': 1}. Best is trial 84 with value: 0.925.\n",
            "[I 2024-02-16 13:16:19,837] Trial 97 finished with value: 0.89375 and parameters: {'n_estimators': 680, 'max_depth': 42, 'min_samples_split': 7, 'random_state': 42, 'min_samples_leaf': 3}. Best is trial 84 with value: 0.925.\n",
            "[I 2024-02-16 13:16:26,619] Trial 98 finished with value: 0.83125 and parameters: {'n_estimators': 784, 'max_depth': 22, 'min_samples_split': 4, 'random_state': 42, 'min_samples_leaf': 6}. Best is trial 84 with value: 0.925.\n",
            "[I 2024-02-16 13:16:32,961] Trial 99 finished with value: 0.871875 and parameters: {'n_estimators': 691, 'max_depth': 40, 'min_samples_split': 9, 'random_state': 42, 'min_samples_leaf': 2}. Best is trial 84 with value: 0.925.\n"
          ]
        },
        {
          "name": "stdout",
          "output_type": "stream",
          "text": [
            "Best params found : {'n_estimators': 620, 'max_depth': 49, 'min_samples_split': 4, 'random_state': 42, 'min_samples_leaf': 1}\n"
          ]
        },
        {
          "data": {
            "text/plain": [
              "0.9375"
            ]
          },
          "execution_count": 121,
          "metadata": {},
          "output_type": "execute_result"
        }
      ],
      "source": [
        "study = optuna.create_study(direction = 'maximize')\n",
        "study.optimize(objective, n_trials = 100)\n",
        "best_params = study.best_params\n",
        "print(\"Best params found :\", best_params)\n",
        "\n",
        "final_model = RandomForestClassifier(**best_params)\n",
        "final_model.fit(X_train_reduced, y_train)\n",
        "y_pred = final_model.predict(X_test_reduced)\n",
        "accuracy_score(y_test, y_pred)"
      ]
    },
    {
      "cell_type": "code",
      "execution_count": 122,
      "metadata": {
        "execution": {
          "iopub.execute_input": "2024-02-13T16:36:09.673011Z",
          "iopub.status.busy": "2024-02-13T16:36:09.671895Z",
          "iopub.status.idle": "2024-02-13T16:36:12.720910Z",
          "shell.execute_reply": "2024-02-13T16:36:12.719638Z",
          "shell.execute_reply.started": "2024-02-13T16:36:09.672933Z"
        },
        "id": "zD5PvI_8ZocK",
        "outputId": "d2e0f7aa-4c02-4369-994f-c3a5fa3db382",
        "trusted": true
      },
      "outputs": [
        {
          "name": "stdout",
          "output_type": "stream",
          "text": [
            "accuracy: 0.9375\n",
            "recall: 0.949074074074074\n",
            "precision: 0.9611111111111111\n",
            "f1-score: 0.9430555555555556\n",
            "roc_auc:  0.9736420986420986\n"
          ]
        }
      ],
      "source": [
        "final_model = RandomForestClassifier(**best_params)\n",
        "final_model.fit(X_train_reduced, y_train)\n",
        "y_pred = final_model.predict(X_test_reduced)\n",
        "prediction_results['random forest'] = y_pred\n",
        "\n",
        "accuracy = accuracy_score(y_test, y_pred)\n",
        "precision = precision_score(y_test, y_pred, average='macro')\n",
        "recall = recall_score(y_test, y_pred, average='macro')\n",
        "f1 = f1_score(y_test, y_pred, average='macro')\n",
        "\n",
        "# One-hot encoding for probability calculation (adapt if necessary)\n",
        "y_test_onehot = pd.get_dummies(y_test, prefix='label_')  # Assuming 'label_' prefix for clarity\n",
        "y_pred_onehot = pd.get_dummies(y_pred, prefix='label_')\n",
        "\n",
        "# ROC AUC score with multiclass handling\n",
        "roc_auc_macro = roc_auc_score(y_test_onehot, y_pred_onehot, average='macro', multi_class='ovo')  # Specify 'ovo' or 'ovr'\n",
        "\n",
        "print(\"accuracy:\", accuracy)\n",
        "print(\"recall:\", recall)\n",
        "print(\"precision:\", precision)\n",
        "print(\"f1-score:\", f1)\n",
        "print('roc_auc: ', roc_auc_macro)"
      ]
    },
    {
      "cell_type": "markdown",
      "metadata": {
        "id": "K45QO1CFZocK"
      },
      "source": [
        "# Gassian NB"
      ]
    },
    {
      "cell_type": "markdown",
      "metadata": {
        "id": "rJCJoej7ZocL"
      },
      "source": [
        "**Pre-tunning**"
      ]
    },
    {
      "cell_type": "code",
      "execution_count": 123,
      "metadata": {
        "execution": {
          "iopub.execute_input": "2024-02-13T16:36:12.724563Z",
          "iopub.status.busy": "2024-02-13T16:36:12.723303Z",
          "iopub.status.idle": "2024-02-13T16:36:12.802344Z",
          "shell.execute_reply": "2024-02-13T16:36:12.800969Z",
          "shell.execute_reply.started": "2024-02-13T16:36:12.724489Z"
        },
        "id": "5mS9-RAZZocL",
        "outputId": "fd77f38f-8834-48b8-c2be-2184c087d0b1",
        "trusted": true
      },
      "outputs": [
        {
          "name": "stdout",
          "output_type": "stream",
          "text": [
            "accuracy: 0.925\n",
            "recall: 0.9099099099099098\n",
            "precision: 0.9121621621621622\n",
            "f1-score: 0.8972972972972973\n",
            "roc_auc:  0.7181602364188973\n"
          ]
        }
      ],
      "source": [
        "from sklearn.naive_bayes import GaussianNB\n",
        "gnb = GaussianNB()\n",
        "gnb.fit(X_train_reduced, y_train)\n",
        "\n",
        "y_pred = gnb.predict(X_test_reduced)\n",
        "\n",
        "accuracy = accuracy_score(y_test, y_pred)\n",
        "precision = precision_score(y_test, y_pred, average='macro')\n",
        "recall = recall_score(y_test, y_pred, average='macro')\n",
        "f1 = f1_score(y_test, y_pred, average='macro')\n",
        "\n",
        "# One-hot encoding for probability calculation (adapt if necessary)\n",
        "y_test_onehot = pd.get_dummies(y_test, prefix='label_')  # Assuming 'label_' prefix for clarity\n",
        "y_pred_onehot = pd.get_dummies(y_pred, prefix='label_')\n",
        "\n",
        "# ROC AUC score with multiclass handling\n",
        "roc_auc_macro = roc_auc_score(y_test_onehot, y_pred_onehot, average='macro', multi_class='ovo')  # Specify 'ovo' or 'ovr'\n",
        "\n",
        "print(\"accuracy:\", accuracy)\n",
        "print(\"recall:\", recall)\n",
        "print(\"precision:\", precision)\n",
        "print(\"f1-score:\", f1)\n",
        "print('roc_auc: ', roc_auc_macro)\n"
      ]
    },
    {
      "cell_type": "markdown",
      "metadata": {
        "id": "cfgrNKRaZocL"
      },
      "source": [
        "**Tunning**"
      ]
    },
    {
      "cell_type": "code",
      "execution_count": 124,
      "metadata": {
        "execution": {
          "iopub.execute_input": "2024-02-13T16:36:12.806064Z",
          "iopub.status.busy": "2024-02-13T16:36:12.804895Z",
          "iopub.status.idle": "2024-02-13T16:36:12.814438Z",
          "shell.execute_reply": "2024-02-13T16:36:12.813274Z",
          "shell.execute_reply.started": "2024-02-13T16:36:12.806016Z"
        },
        "id": "6Uh3C_iLZocL",
        "trusted": true
      },
      "outputs": [],
      "source": [
        "def objective(trial):\n",
        "    hyperparams = {\n",
        "        'var_smoothing': trial.suggest_float('var_smoothing', 1e-9, 1e-4, log = True)\n",
        "    }\n",
        "\n",
        "    model = GaussianNB(**hyperparams)\n",
        "    scores = cross_val_score(model, X_train_reduced, y_train, cv = kf,scoring = 'accuracy')\n",
        "    return np.mean(scores)"
      ]
    },
    {
      "cell_type": "code",
      "execution_count": 125,
      "metadata": {
        "execution": {
          "iopub.execute_input": "2024-02-13T16:36:12.817510Z",
          "iopub.status.busy": "2024-02-13T16:36:12.816039Z",
          "iopub.status.idle": "2024-02-13T16:36:15.833183Z",
          "shell.execute_reply": "2024-02-13T16:36:15.831584Z",
          "shell.execute_reply.started": "2024-02-13T16:36:12.817464Z"
        },
        "id": "NDjhkBkEZocM",
        "outputId": "7192c5e8-1683-47c2-a0f8-7dcb85de02e0",
        "trusted": true
      },
      "outputs": [
        {
          "name": "stderr",
          "output_type": "stream",
          "text": [
            "[I 2024-02-16 13:16:38,201] A new study created in memory with name: no-name-94442f31-9760-4425-af12-bc6fddd690bc\n",
            "[I 2024-02-16 13:16:38,230] Trial 0 finished with value: 0.746875 and parameters: {'var_smoothing': 9.698745441905131e-06}. Best is trial 0 with value: 0.746875.\n",
            "[I 2024-02-16 13:16:38,258] Trial 1 finished with value: 0.746875 and parameters: {'var_smoothing': 1.2487384454792585e-05}. Best is trial 0 with value: 0.746875.\n",
            "[I 2024-02-16 13:16:38,287] Trial 2 finished with value: 0.746875 and parameters: {'var_smoothing': 3.007912407322358e-09}. Best is trial 0 with value: 0.746875.\n",
            "[I 2024-02-16 13:16:38,316] Trial 3 finished with value: 0.746875 and parameters: {'var_smoothing': 1.8770914153606374e-05}. Best is trial 0 with value: 0.746875.\n",
            "[I 2024-02-16 13:16:38,342] Trial 4 finished with value: 0.746875 and parameters: {'var_smoothing': 4.404188767484831e-06}. Best is trial 0 with value: 0.746875.\n",
            "[I 2024-02-16 13:16:38,369] Trial 5 finished with value: 0.746875 and parameters: {'var_smoothing': 1.5264817446126232e-09}. Best is trial 0 with value: 0.746875.\n",
            "[I 2024-02-16 13:16:38,394] Trial 6 finished with value: 0.746875 and parameters: {'var_smoothing': 5.922462998565648e-05}. Best is trial 0 with value: 0.746875.\n",
            "[I 2024-02-16 13:16:38,416] Trial 7 finished with value: 0.746875 and parameters: {'var_smoothing': 1.4761271512258922e-08}. Best is trial 0 with value: 0.746875.\n",
            "[I 2024-02-16 13:16:38,438] Trial 8 finished with value: 0.746875 and parameters: {'var_smoothing': 3.3187354666233127e-06}. Best is trial 0 with value: 0.746875.\n",
            "[I 2024-02-16 13:16:38,461] Trial 9 finished with value: 0.746875 and parameters: {'var_smoothing': 9.86833232470293e-06}. Best is trial 0 with value: 0.746875.\n",
            "[I 2024-02-16 13:16:38,486] Trial 10 finished with value: 0.746875 and parameters: {'var_smoothing': 4.2218047106489543e-07}. Best is trial 0 with value: 0.746875.\n",
            "[I 2024-02-16 13:16:38,511] Trial 11 finished with value: 0.75 and parameters: {'var_smoothing': 8.412235792531178e-05}. Best is trial 11 with value: 0.75.\n",
            "[I 2024-02-16 13:16:38,536] Trial 12 finished with value: 0.746875 and parameters: {'var_smoothing': 6.805174038811725e-05}. Best is trial 11 with value: 0.75.\n",
            "[I 2024-02-16 13:16:38,563] Trial 13 finished with value: 0.753125 and parameters: {'var_smoothing': 9.591934675048554e-05}. Best is trial 13 with value: 0.753125.\n",
            "[I 2024-02-16 13:16:38,588] Trial 14 finished with value: 0.75 and parameters: {'var_smoothing': 8.323254176086965e-05}. Best is trial 13 with value: 0.753125.\n",
            "[I 2024-02-16 13:16:38,621] Trial 15 finished with value: 0.746875 and parameters: {'var_smoothing': 9.783222993091053e-07}. Best is trial 13 with value: 0.753125.\n",
            "[I 2024-02-16 13:16:38,677] Trial 16 finished with value: 0.753125 and parameters: {'var_smoothing': 9.487786355767898e-05}. Best is trial 13 with value: 0.753125.\n",
            "[I 2024-02-16 13:16:38,712] Trial 17 finished with value: 0.746875 and parameters: {'var_smoothing': 1.1903820560554714e-07}. Best is trial 13 with value: 0.753125.\n",
            "[I 2024-02-16 13:16:38,742] Trial 18 finished with value: 0.746875 and parameters: {'var_smoothing': 3.051877287295817e-05}. Best is trial 13 with value: 0.753125.\n",
            "[I 2024-02-16 13:16:38,771] Trial 19 finished with value: 0.746875 and parameters: {'var_smoothing': 3.662046693109756e-06}. Best is trial 13 with value: 0.753125.\n",
            "[I 2024-02-16 13:16:38,798] Trial 20 finished with value: 0.746875 and parameters: {'var_smoothing': 3.329411244909544e-05}. Best is trial 13 with value: 0.753125.\n",
            "[I 2024-02-16 13:16:38,825] Trial 21 finished with value: 0.746875 and parameters: {'var_smoothing': 5.403634550714452e-05}. Best is trial 13 with value: 0.753125.\n",
            "[I 2024-02-16 13:16:38,849] Trial 22 finished with value: 0.753125 and parameters: {'var_smoothing': 9.727337558945524e-05}. Best is trial 13 with value: 0.753125.\n",
            "[I 2024-02-16 13:16:38,876] Trial 23 finished with value: 0.746875 and parameters: {'var_smoothing': 2.74976298049554e-05}. Best is trial 13 with value: 0.753125.\n",
            "[I 2024-02-16 13:16:38,902] Trial 24 finished with value: 0.753125 and parameters: {'var_smoothing': 9.16836038719053e-05}. Best is trial 13 with value: 0.753125.\n",
            "[I 2024-02-16 13:16:38,927] Trial 25 finished with value: 0.746875 and parameters: {'var_smoothing': 2.1378099749627182e-05}. Best is trial 13 with value: 0.753125.\n",
            "[I 2024-02-16 13:16:38,952] Trial 26 finished with value: 0.753125 and parameters: {'var_smoothing': 9.96290543788925e-05}. Best is trial 13 with value: 0.753125.\n",
            "[I 2024-02-16 13:16:38,979] Trial 27 finished with value: 0.746875 and parameters: {'var_smoothing': 7.38774235385222e-06}. Best is trial 13 with value: 0.753125.\n",
            "[I 2024-02-16 13:16:39,003] Trial 28 finished with value: 0.746875 and parameters: {'var_smoothing': 2.7215468162520215e-05}. Best is trial 13 with value: 0.753125.\n",
            "[I 2024-02-16 13:16:39,030] Trial 29 finished with value: 0.746875 and parameters: {'var_smoothing': 1.0905279653304816e-05}. Best is trial 13 with value: 0.753125.\n",
            "[I 2024-02-16 13:16:39,055] Trial 30 finished with value: 0.746875 and parameters: {'var_smoothing': 4.009429551648873e-05}. Best is trial 13 with value: 0.753125.\n",
            "[I 2024-02-16 13:16:39,080] Trial 31 finished with value: 0.753125 and parameters: {'var_smoothing': 9.452520829996477e-05}. Best is trial 13 with value: 0.753125.\n",
            "[I 2024-02-16 13:16:39,106] Trial 32 finished with value: 0.746875 and parameters: {'var_smoothing': 1.6149483973141495e-05}. Best is trial 13 with value: 0.753125.\n",
            "[I 2024-02-16 13:16:39,131] Trial 33 finished with value: 0.746875 and parameters: {'var_smoothing': 4.244361213891425e-05}. Best is trial 13 with value: 0.753125.\n",
            "[I 2024-02-16 13:16:39,156] Trial 34 finished with value: 0.746875 and parameters: {'var_smoothing': 1.436070938653937e-05}. Best is trial 13 with value: 0.753125.\n",
            "[I 2024-02-16 13:16:39,182] Trial 35 finished with value: 0.746875 and parameters: {'var_smoothing': 4.459574457665187e-05}. Best is trial 13 with value: 0.753125.\n",
            "[I 2024-02-16 13:16:39,207] Trial 36 finished with value: 0.746875 and parameters: {'var_smoothing': 8.30358641723514e-06}. Best is trial 13 with value: 0.753125.\n",
            "[I 2024-02-16 13:16:39,233] Trial 37 finished with value: 0.746875 and parameters: {'var_smoothing': 2.182827795921103e-05}. Best is trial 13 with value: 0.753125.\n",
            "[I 2024-02-16 13:16:39,258] Trial 38 finished with value: 0.746875 and parameters: {'var_smoothing': 5.946728779034671e-05}. Best is trial 13 with value: 0.753125.\n",
            "[I 2024-02-16 13:16:39,285] Trial 39 finished with value: 0.753125 and parameters: {'var_smoothing': 9.832041171115916e-05}. Best is trial 13 with value: 0.753125.\n",
            "[I 2024-02-16 13:16:39,309] Trial 40 finished with value: 0.746875 and parameters: {'var_smoothing': 5.493000229315595e-06}. Best is trial 13 with value: 0.753125.\n",
            "[I 2024-02-16 13:16:39,335] Trial 41 finished with value: 0.753125 and parameters: {'var_smoothing': 9.085272483085359e-05}. Best is trial 13 with value: 0.753125.\n",
            "[I 2024-02-16 13:16:39,361] Trial 42 finished with value: 0.746875 and parameters: {'var_smoothing': 4.7836968555884266e-05}. Best is trial 13 with value: 0.753125.\n",
            "[I 2024-02-16 13:16:39,386] Trial 43 finished with value: 0.753125 and parameters: {'var_smoothing': 9.997018096570717e-05}. Best is trial 13 with value: 0.753125.\n",
            "[I 2024-02-16 13:16:39,412] Trial 44 finished with value: 0.746875 and parameters: {'var_smoothing': 1.402397569760782e-05}. Best is trial 13 with value: 0.753125.\n",
            "[I 2024-02-16 13:16:39,437] Trial 45 finished with value: 0.746875 and parameters: {'var_smoothing': 5.3137765947077895e-05}. Best is trial 13 with value: 0.753125.\n",
            "[I 2024-02-16 13:16:39,462] Trial 46 finished with value: 0.746875 and parameters: {'var_smoothing': 2.0034850462420548e-05}. Best is trial 13 with value: 0.753125.\n",
            "[I 2024-02-16 13:16:39,487] Trial 47 finished with value: 0.746875 and parameters: {'var_smoothing': 3.360640693184609e-05}. Best is trial 13 with value: 0.753125.\n",
            "[I 2024-02-16 13:16:39,512] Trial 48 finished with value: 0.746875 and parameters: {'var_smoothing': 6.22740336680752e-05}. Best is trial 13 with value: 0.753125.\n",
            "[I 2024-02-16 13:16:39,538] Trial 49 finished with value: 0.746875 and parameters: {'var_smoothing': 1.3712808247554903e-05}. Best is trial 13 with value: 0.753125.\n",
            "[I 2024-02-16 13:16:39,564] Trial 50 finished with value: 0.746875 and parameters: {'var_smoothing': 2.7089605445893172e-05}. Best is trial 13 with value: 0.753125.\n",
            "[I 2024-02-16 13:16:39,589] Trial 51 finished with value: 0.753125 and parameters: {'var_smoothing': 9.866211980761008e-05}. Best is trial 13 with value: 0.753125.\n",
            "[I 2024-02-16 13:16:39,614] Trial 52 finished with value: 0.746875 and parameters: {'var_smoothing': 5.9479444439723425e-05}. Best is trial 13 with value: 0.753125.\n",
            "[I 2024-02-16 13:16:39,641] Trial 53 finished with value: 0.746875 and parameters: {'var_smoothing': 6.839992695535012e-05}. Best is trial 13 with value: 0.753125.\n",
            "[I 2024-02-16 13:16:39,666] Trial 54 finished with value: 0.746875 and parameters: {'var_smoothing': 3.459268643320907e-05}. Best is trial 13 with value: 0.753125.\n",
            "[I 2024-02-16 13:16:39,691] Trial 55 finished with value: 0.753125 and parameters: {'var_smoothing': 9.96120229411768e-05}. Best is trial 13 with value: 0.753125.\n",
            "[I 2024-02-16 13:16:39,717] Trial 56 finished with value: 0.746875 and parameters: {'var_smoothing': 2.1918308613947347e-06}. Best is trial 13 with value: 0.753125.\n",
            "[I 2024-02-16 13:16:39,742] Trial 57 finished with value: 0.746875 and parameters: {'var_smoothing': 6.297126221911925e-05}. Best is trial 13 with value: 0.753125.\n",
            "[I 2024-02-16 13:16:39,767] Trial 58 finished with value: 0.746875 and parameters: {'var_smoothing': 2.3197251112804245e-05}. Best is trial 13 with value: 0.753125.\n",
            "[I 2024-02-16 13:16:39,792] Trial 59 finished with value: 0.746875 and parameters: {'var_smoothing': 4.363118493917536e-05}. Best is trial 13 with value: 0.753125.\n",
            "[I 2024-02-16 13:16:39,817] Trial 60 finished with value: 0.746875 and parameters: {'var_smoothing': 6.867261273028136e-05}. Best is trial 13 with value: 0.753125.\n",
            "[I 2024-02-16 13:16:39,843] Trial 61 finished with value: 0.753125 and parameters: {'var_smoothing': 9.984273189028218e-05}. Best is trial 13 with value: 0.753125.\n",
            "[I 2024-02-16 13:16:39,872] Trial 62 finished with value: 0.746875 and parameters: {'var_smoothing': 3.600763764673056e-05}. Best is trial 13 with value: 0.753125.\n",
            "[I 2024-02-16 13:16:39,910] Trial 63 finished with value: 0.75 and parameters: {'var_smoothing': 7.648848726551388e-05}. Best is trial 13 with value: 0.753125.\n",
            "[I 2024-02-16 13:16:39,938] Trial 64 finished with value: 0.746875 and parameters: {'var_smoothing': 4.481501384011161e-05}. Best is trial 13 with value: 0.753125.\n",
            "[I 2024-02-16 13:16:39,967] Trial 65 finished with value: 0.746875 and parameters: {'var_smoothing': 1.8465724924350464e-05}. Best is trial 13 with value: 0.753125.\n",
            "[I 2024-02-16 13:16:39,993] Trial 66 finished with value: 0.746875 and parameters: {'var_smoothing': 2.973028040183275e-05}. Best is trial 13 with value: 0.753125.\n",
            "[I 2024-02-16 13:16:40,020] Trial 67 finished with value: 0.746875 and parameters: {'var_smoothing': 6.953630048689472e-05}. Best is trial 13 with value: 0.753125.\n",
            "[I 2024-02-16 13:16:40,045] Trial 68 finished with value: 0.746875 and parameters: {'var_smoothing': 4.328567685022885e-05}. Best is trial 13 with value: 0.753125.\n",
            "[I 2024-02-16 13:16:40,070] Trial 69 finished with value: 0.746875 and parameters: {'var_smoothing': 8.878530148061927e-06}. Best is trial 13 with value: 0.753125.\n",
            "[I 2024-02-16 13:16:40,096] Trial 70 finished with value: 0.746875 and parameters: {'var_smoothing': 7.445785666192724e-05}. Best is trial 13 with value: 0.753125.\n",
            "[I 2024-02-16 13:16:40,120] Trial 71 finished with value: 0.75 and parameters: {'var_smoothing': 7.759147565179147e-05}. Best is trial 13 with value: 0.753125.\n",
            "[I 2024-02-16 13:16:40,145] Trial 72 finished with value: 0.746875 and parameters: {'var_smoothing': 5.2309360868063144e-05}. Best is trial 13 with value: 0.753125.\n",
            "[I 2024-02-16 13:16:40,171] Trial 73 finished with value: 0.753125 and parameters: {'var_smoothing': 9.762059673215093e-05}. Best is trial 13 with value: 0.753125.\n",
            "[I 2024-02-16 13:16:40,195] Trial 74 finished with value: 0.746875 and parameters: {'var_smoothing': 2.9641741564485877e-05}. Best is trial 13 with value: 0.753125.\n",
            "[I 2024-02-16 13:16:40,221] Trial 75 finished with value: 0.746875 and parameters: {'var_smoothing': 5.4557313103727705e-05}. Best is trial 13 with value: 0.753125.\n",
            "[I 2024-02-16 13:16:40,246] Trial 76 finished with value: 0.746875 and parameters: {'var_smoothing': 1.9770032726232926e-05}. Best is trial 13 with value: 0.753125.\n",
            "[I 2024-02-16 13:16:40,272] Trial 77 finished with value: 0.746875 and parameters: {'var_smoothing': 3.782218955788513e-05}. Best is trial 13 with value: 0.753125.\n",
            "[I 2024-02-16 13:16:40,297] Trial 78 finished with value: 0.75 and parameters: {'var_smoothing': 8.207037445710172e-05}. Best is trial 13 with value: 0.753125.\n",
            "[I 2024-02-16 13:16:40,323] Trial 79 finished with value: 0.746875 and parameters: {'var_smoothing': 1.099046865198181e-05}. Best is trial 13 with value: 0.753125.\n",
            "[I 2024-02-16 13:16:40,348] Trial 80 finished with value: 0.746875 and parameters: {'var_smoothing': 4.9915591953606554e-05}. Best is trial 13 with value: 0.753125.\n",
            "[I 2024-02-16 13:16:40,374] Trial 81 finished with value: 0.753125 and parameters: {'var_smoothing': 9.88065826117845e-05}. Best is trial 13 with value: 0.753125.\n",
            "[I 2024-02-16 13:16:40,399] Trial 82 finished with value: 0.75 and parameters: {'var_smoothing': 7.632286250407488e-05}. Best is trial 13 with value: 0.753125.\n",
            "[I 2024-02-16 13:16:40,424] Trial 83 finished with value: 0.753125 and parameters: {'var_smoothing': 9.837695567140308e-05}. Best is trial 13 with value: 0.753125.\n",
            "[I 2024-02-16 13:16:40,450] Trial 84 finished with value: 0.746875 and parameters: {'var_smoothing': 5.897517998099883e-05}. Best is trial 13 with value: 0.753125.\n",
            "[I 2024-02-16 13:16:40,474] Trial 85 finished with value: 0.746875 and parameters: {'var_smoothing': 3.933510582932323e-05}. Best is trial 13 with value: 0.753125.\n",
            "[I 2024-02-16 13:16:40,499] Trial 86 finished with value: 0.746875 and parameters: {'var_smoothing': 2.4594676805121575e-05}. Best is trial 13 with value: 0.753125.\n",
            "[I 2024-02-16 13:16:40,524] Trial 87 finished with value: 0.746875 and parameters: {'var_smoothing': 5.4166043183531976e-05}. Best is trial 13 with value: 0.753125.\n",
            "[I 2024-02-16 13:16:40,550] Trial 88 finished with value: 0.75 and parameters: {'var_smoothing': 7.533353121093982e-05}. Best is trial 13 with value: 0.753125.\n",
            "[I 2024-02-16 13:16:40,575] Trial 89 finished with value: 0.746875 and parameters: {'var_smoothing': 3.153341310622355e-05}. Best is trial 13 with value: 0.753125.\n",
            "[I 2024-02-16 13:16:40,599] Trial 90 finished with value: 0.746875 and parameters: {'var_smoothing': 1.7029329951187136e-05}. Best is trial 13 with value: 0.753125.\n",
            "[I 2024-02-16 13:16:40,625] Trial 91 finished with value: 0.753125 and parameters: {'var_smoothing': 9.243320126432873e-05}. Best is trial 13 with value: 0.753125.\n",
            "[I 2024-02-16 13:16:40,650] Trial 92 finished with value: 0.753125 and parameters: {'var_smoothing': 9.94727411439924e-05}. Best is trial 13 with value: 0.753125.\n",
            "[I 2024-02-16 13:16:40,675] Trial 93 finished with value: 0.746875 and parameters: {'var_smoothing': 6.268428607653766e-05}. Best is trial 13 with value: 0.753125.\n",
            "[I 2024-02-16 13:16:40,700] Trial 94 finished with value: 0.746875 and parameters: {'var_smoothing': 4.59279908948019e-05}. Best is trial 13 with value: 0.753125.\n",
            "[I 2024-02-16 13:16:40,725] Trial 95 finished with value: 0.75 and parameters: {'var_smoothing': 7.805517686536515e-05}. Best is trial 13 with value: 0.753125.\n",
            "[I 2024-02-16 13:16:40,750] Trial 96 finished with value: 0.746875 and parameters: {'var_smoothing': 5.869357683885433e-05}. Best is trial 13 with value: 0.753125.\n",
            "[I 2024-02-16 13:16:40,776] Trial 97 finished with value: 0.746875 and parameters: {'var_smoothing': 4.07189493270451e-05}. Best is trial 13 with value: 0.753125.\n",
            "[I 2024-02-16 13:16:40,801] Trial 98 finished with value: 0.746875 and parameters: {'var_smoothing': 7.265077903776989e-05}. Best is trial 13 with value: 0.753125.\n",
            "[I 2024-02-16 13:16:40,826] Trial 99 finished with value: 0.746875 and parameters: {'var_smoothing': 3.335110471753662e-05}. Best is trial 13 with value: 0.753125.\n"
          ]
        },
        {
          "name": "stdout",
          "output_type": "stream",
          "text": [
            "Best params found : {'var_smoothing': 9.591934675048554e-05}\n",
            "accuracy: 0.9375\n",
            "recall: 0.9166666666666666\n",
            "precision: 0.9144144144144145\n",
            "f1-score: 0.9051480051480051\n",
            "roc_auc:  0.721808267361232\n"
          ]
        }
      ],
      "source": [
        "study = optuna.create_study(direction = 'maximize')\n",
        "study.optimize(objective, n_trials = 100)\n",
        "best_params = study.best_params\n",
        "print(\"Best params found :\", best_params)\n",
        "\n",
        "final_model = GaussianNB(**best_params)\n",
        "final_model.fit(X_train_reduced, y_train)\n",
        "y_pred = final_model.predict(X_test_reduced)\n",
        "prediction_results['gnb'] = y_pred\n",
        "\n",
        "accuracy = accuracy_score(y_test, y_pred)\n",
        "precision = precision_score(y_test, y_pred, average='macro')\n",
        "recall = recall_score(y_test, y_pred, average='macro')\n",
        "f1 = f1_score(y_test, y_pred, average='macro')\n",
        "\n",
        "# One-hot encoding for probability calculation (adapt if necessary)\n",
        "y_test_onehot = pd.get_dummies(y_test, prefix='label_')  # Assuming 'label_' prefix for clarity\n",
        "y_pred_onehot = pd.get_dummies(y_pred, prefix='label_')\n",
        "\n",
        "# ROC AUC score with multiclass handling\n",
        "roc_auc_macro = roc_auc_score(y_test_onehot, y_pred_onehot, average='macro', multi_class='ovo')  # Specify 'ovo' or 'ovr'\n",
        "\n",
        "print(\"accuracy:\", accuracy)\n",
        "print(\"recall:\", recall)\n",
        "print(\"precision:\", precision)\n",
        "print(\"f1-score:\", f1)\n",
        "print('roc_auc: ', roc_auc_macro)"
      ]
    },
    {
      "cell_type": "markdown",
      "metadata": {
        "id": "kBdkMP1YZocM"
      },
      "source": [
        "# Logistic Regression"
      ]
    },
    {
      "cell_type": "markdown",
      "metadata": {
        "id": "1__4jB4NZocM"
      },
      "source": [
        "**Normal**"
      ]
    },
    {
      "cell_type": "code",
      "execution_count": 126,
      "metadata": {
        "execution": {
          "iopub.execute_input": "2024-02-13T16:36:15.835628Z",
          "iopub.status.busy": "2024-02-13T16:36:15.835127Z",
          "iopub.status.idle": "2024-02-13T16:36:19.623738Z",
          "shell.execute_reply": "2024-02-13T16:36:19.622220Z",
          "shell.execute_reply.started": "2024-02-13T16:36:15.835587Z"
        },
        "id": "nKHZzWQqZocM",
        "outputId": "606ea177-093d-4a3e-bdc9-b9b054aee857",
        "trusted": true
      },
      "outputs": [
        {
          "name": "stdout",
          "output_type": "stream",
          "text": [
            "accuracy: 0.975\n",
            "recall: 0.9791666666666666\n",
            "precision: 0.9837962962962963\n",
            "f1-score: 0.9772486772486771\n",
            "roc_auc:  0.9892248954748956\n"
          ]
        }
      ],
      "source": [
        "lr = LogisticRegression()\n",
        "lr.fit(X_train_reduced, y_train)\n",
        "y_pred = lr.predict(X_test_reduced)\n",
        "\n",
        "accuracy = accuracy_score(y_test, y_pred)\n",
        "precision = precision_score(y_test, y_pred, average='macro')\n",
        "recall = recall_score(y_test, y_pred, average='macro')\n",
        "f1 = f1_score(y_test, y_pred, average='macro')\n",
        "\n",
        "# One-hot encoding for probability calculation (adapt if necessary)\n",
        "y_test_onehot = pd.get_dummies(y_test, prefix='label_')  # Assuming 'label_' prefix for clarity\n",
        "y_pred_onehot = pd.get_dummies(y_pred, prefix='label_')\n",
        "\n",
        "# ROC AUC score with multiclass handling\n",
        "roc_auc_macro = roc_auc_score(y_test_onehot, y_pred_onehot, average='macro', multi_class='ovo')  # Specify 'ovo' or 'ovr'\n",
        "\n",
        "print(\"accuracy:\", accuracy)\n",
        "print(\"recall:\", recall)\n",
        "print(\"precision:\", precision)\n",
        "print(\"f1-score:\", f1)\n",
        "print('roc_auc: ', roc_auc_macro)"
      ]
    },
    {
      "cell_type": "markdown",
      "metadata": {
        "id": "c61YEVjKZocN"
      },
      "source": [
        "**Tunning**"
      ]
    },
    {
      "cell_type": "code",
      "execution_count": 127,
      "metadata": {
        "execution": {
          "iopub.execute_input": "2024-02-13T16:36:19.626060Z",
          "iopub.status.busy": "2024-02-13T16:36:19.625572Z",
          "iopub.status.idle": "2024-02-13T16:36:19.636027Z",
          "shell.execute_reply": "2024-02-13T16:36:19.634717Z",
          "shell.execute_reply.started": "2024-02-13T16:36:19.626018Z"
        },
        "id": "EQWtm8n2ZocN",
        "trusted": true
      },
      "outputs": [],
      "source": [
        "import optuna\n",
        "from sklearn.model_selection import cross_val_score\n",
        "import warnings\n",
        "warnings.filterwarnings('ignore')\n",
        "\n",
        "\n",
        "def objective(trial):\n",
        "    hyperparams = {\n",
        "        'solver': trial.suggest_categorical('solver', ['lbfgs', 'liblinear', 'newton-cg', 'saga']),\n",
        "        'penalty': trial.suggest_categorical('penalty', ['l2']),\n",
        "        'multi_class': trial.suggest_categorical('multi_class', ['ovr']),\n",
        "        'C': trial.suggest_loguniform(\"C\", 1e-3, 1e3),\n",
        "        'n_jobs': -1\n",
        "    }\n",
        "\n",
        "    model = LogisticRegression(**hyperparams)\n",
        "    scores = cross_val_score(model, X_train_reduced,\n",
        "                             y_train, cv=kf, scoring='accuracy')\n",
        "    return np.mean(scores)"
      ]
    },
    {
      "cell_type": "code",
      "execution_count": 128,
      "metadata": {
        "execution": {
          "iopub.execute_input": "2024-02-13T16:36:19.638580Z",
          "iopub.status.busy": "2024-02-13T16:36:19.638094Z",
          "iopub.status.idle": "2024-02-13T16:49:45.889034Z",
          "shell.execute_reply": "2024-02-13T16:49:45.887437Z",
          "shell.execute_reply.started": "2024-02-13T16:36:19.638516Z"
        },
        "id": "KelNhfypZocN",
        "outputId": "42885174-d124-4b75-b6e6-78cd03f88409",
        "trusted": true
      },
      "outputs": [
        {
          "name": "stderr",
          "output_type": "stream",
          "text": [
            "[I 2024-02-16 13:16:41,041] A new study created in memory with name: no-name-86780fbc-5473-4ea8-a224-77adc73cc013\n",
            "[I 2024-02-16 13:16:44,816] Trial 0 finished with value: 0.928125 and parameters: {'solver': 'liblinear', 'penalty': 'l2', 'multi_class': 'ovr', 'C': 4.683582694858897}. Best is trial 0 with value: 0.928125.\n",
            "[I 2024-02-16 13:16:51,410] Trial 1 finished with value: 0.928125 and parameters: {'solver': 'newton-cg', 'penalty': 'l2', 'multi_class': 'ovr', 'C': 656.3940294185421}. Best is trial 0 with value: 0.928125.\n",
            "[I 2024-02-16 13:16:55,929] Trial 2 finished with value: 0.978125 and parameters: {'solver': 'newton-cg', 'penalty': 'l2', 'multi_class': 'ovr', 'C': 0.013487194026077051}. Best is trial 2 with value: 0.978125.\n",
            "[I 2024-02-16 13:16:59,952] Trial 3 finished with value: 0.928125 and parameters: {'solver': 'liblinear', 'penalty': 'l2', 'multi_class': 'ovr', 'C': 17.35892870483305}. Best is trial 2 with value: 0.978125.\n",
            "[I 2024-02-16 13:17:00,446] Trial 4 finished with value: 0.846875 and parameters: {'solver': 'saga', 'penalty': 'l2', 'multi_class': 'ovr', 'C': 0.005925224842283897}. Best is trial 2 with value: 0.978125.\n",
            "[I 2024-02-16 13:17:04,199] Trial 5 finished with value: 0.93125 and parameters: {'solver': 'liblinear', 'penalty': 'l2', 'multi_class': 'ovr', 'C': 7.736480411481275}. Best is trial 2 with value: 0.978125.\n",
            "[I 2024-02-16 13:17:04,698] Trial 6 finished with value: 0.846875 and parameters: {'solver': 'saga', 'penalty': 'l2', 'multi_class': 'ovr', 'C': 0.041403474111357454}. Best is trial 2 with value: 0.978125.\n",
            "[I 2024-02-16 13:17:05,183] Trial 7 finished with value: 0.846875 and parameters: {'solver': 'saga', 'penalty': 'l2', 'multi_class': 'ovr', 'C': 8.252002967966641}. Best is trial 2 with value: 0.978125.\n",
            "[I 2024-02-16 13:17:08,697] Trial 8 finished with value: 0.95625 and parameters: {'solver': 'newton-cg', 'penalty': 'l2', 'multi_class': 'ovr', 'C': 1.8553195560981144}. Best is trial 2 with value: 0.978125.\n",
            "[I 2024-02-16 13:17:09,194] Trial 9 finished with value: 0.846875 and parameters: {'solver': 'saga', 'penalty': 'l2', 'multi_class': 'ovr', 'C': 9.54943702623623}. Best is trial 2 with value: 0.978125.\n",
            "[I 2024-02-16 13:17:09,767] Trial 10 finished with value: 0.978125 and parameters: {'solver': 'lbfgs', 'penalty': 'l2', 'multi_class': 'ovr', 'C': 0.00201646507753123}. Best is trial 2 with value: 0.978125.\n",
            "[I 2024-02-16 13:17:10,335] Trial 11 finished with value: 0.978125 and parameters: {'solver': 'lbfgs', 'penalty': 'l2', 'multi_class': 'ovr', 'C': 0.0011903901490911424}. Best is trial 2 with value: 0.978125.\n",
            "[I 2024-02-16 13:17:10,899] Trial 12 finished with value: 0.975 and parameters: {'solver': 'lbfgs', 'penalty': 'l2', 'multi_class': 'ovr', 'C': 0.06384094334343704}. Best is trial 2 with value: 0.978125.\n",
            "[I 2024-02-16 13:17:11,506] Trial 13 finished with value: 0.978125 and parameters: {'solver': 'lbfgs', 'penalty': 'l2', 'multi_class': 'ovr', 'C': 0.0012577772716645202}. Best is trial 2 with value: 0.978125.\n",
            "[I 2024-02-16 13:17:15,917] Trial 14 finished with value: 0.975 and parameters: {'solver': 'newton-cg', 'penalty': 'l2', 'multi_class': 'ovr', 'C': 0.016852751865007964}. Best is trial 2 with value: 0.978125.\n",
            "[I 2024-02-16 13:17:16,508] Trial 15 finished with value: 0.96875 and parameters: {'solver': 'lbfgs', 'penalty': 'l2', 'multi_class': 'ovr', 'C': 0.1736115708657939}. Best is trial 2 with value: 0.978125.\n",
            "[I 2024-02-16 13:17:21,125] Trial 16 finished with value: 0.978125 and parameters: {'solver': 'newton-cg', 'penalty': 'l2', 'multi_class': 'ovr', 'C': 0.006795592723456956}. Best is trial 2 with value: 0.978125.\n",
            "[I 2024-02-16 13:17:21,812] Trial 17 finished with value: 0.96875 and parameters: {'solver': 'lbfgs', 'penalty': 'l2', 'multi_class': 'ovr', 'C': 0.16581456804531786}. Best is trial 2 with value: 0.978125.\n",
            "[I 2024-02-16 13:17:26,394] Trial 18 finished with value: 0.978125 and parameters: {'solver': 'newton-cg', 'penalty': 'l2', 'multi_class': 'ovr', 'C': 0.004024371543075843}. Best is trial 2 with value: 0.978125.\n",
            "[I 2024-02-16 13:17:27,031] Trial 19 finished with value: 0.975 and parameters: {'solver': 'lbfgs', 'penalty': 'l2', 'multi_class': 'ovr', 'C': 0.01707781981607519}. Best is trial 2 with value: 0.978125.\n",
            "[I 2024-02-16 13:17:31,593] Trial 20 finished with value: 0.978125 and parameters: {'solver': 'newton-cg', 'penalty': 'l2', 'multi_class': 'ovr', 'C': 0.0012000285274758088}. Best is trial 2 with value: 0.978125.\n",
            "[I 2024-02-16 13:17:32,183] Trial 21 finished with value: 0.978125 and parameters: {'solver': 'lbfgs', 'penalty': 'l2', 'multi_class': 'ovr', 'C': 0.0010582039535603441}. Best is trial 2 with value: 0.978125.\n",
            "[I 2024-02-16 13:17:32,778] Trial 22 finished with value: 0.978125 and parameters: {'solver': 'lbfgs', 'penalty': 'l2', 'multi_class': 'ovr', 'C': 0.0037743975606952924}. Best is trial 2 with value: 0.978125.\n",
            "[I 2024-02-16 13:17:33,356] Trial 23 finished with value: 0.978125 and parameters: {'solver': 'lbfgs', 'penalty': 'l2', 'multi_class': 'ovr', 'C': 0.0029639870790892707}. Best is trial 2 with value: 0.978125.\n",
            "[I 2024-02-16 13:17:33,918] Trial 24 finished with value: 0.978125 and parameters: {'solver': 'lbfgs', 'penalty': 'l2', 'multi_class': 'ovr', 'C': 0.012473480769071827}. Best is trial 2 with value: 0.978125.\n",
            "[I 2024-02-16 13:17:34,497] Trial 25 finished with value: 0.975 and parameters: {'solver': 'lbfgs', 'penalty': 'l2', 'multi_class': 'ovr', 'C': 0.0025823161259511526}. Best is trial 2 with value: 0.978125.\n",
            "[I 2024-02-16 13:17:38,956] Trial 26 finished with value: 0.978125 and parameters: {'solver': 'newton-cg', 'penalty': 'l2', 'multi_class': 'ovr', 'C': 0.0011244888700499217}. Best is trial 2 with value: 0.978125.\n",
            "[I 2024-02-16 13:17:41,360] Trial 27 finished with value: 0.871875 and parameters: {'solver': 'liblinear', 'penalty': 'l2', 'multi_class': 'ovr', 'C': 0.010281714124437775}. Best is trial 2 with value: 0.978125.\n",
            "[I 2024-02-16 13:17:41,923] Trial 28 finished with value: 0.975 and parameters: {'solver': 'lbfgs', 'penalty': 'l2', 'multi_class': 'ovr', 'C': 0.026645456348629158}. Best is trial 2 with value: 0.978125.\n",
            "[I 2024-02-16 13:17:44,218] Trial 29 finished with value: 0.865625 and parameters: {'solver': 'liblinear', 'penalty': 'l2', 'multi_class': 'ovr', 'C': 0.007540449675907509}. Best is trial 2 with value: 0.978125.\n",
            "[I 2024-02-16 13:17:48,297] Trial 30 finished with value: 0.971875 and parameters: {'solver': 'newton-cg', 'penalty': 'l2', 'multi_class': 'ovr', 'C': 0.0793536193711617}. Best is trial 2 with value: 0.978125.\n",
            "[I 2024-02-16 13:17:48,848] Trial 31 finished with value: 0.978125 and parameters: {'solver': 'lbfgs', 'penalty': 'l2', 'multi_class': 'ovr', 'C': 0.0023630155119658642}. Best is trial 2 with value: 0.978125.\n",
            "[I 2024-02-16 13:17:49,408] Trial 32 finished with value: 0.978125 and parameters: {'solver': 'lbfgs', 'penalty': 'l2', 'multi_class': 'ovr', 'C': 0.0016547849550064035}. Best is trial 2 with value: 0.978125.\n",
            "[I 2024-02-16 13:17:49,999] Trial 33 finished with value: 0.978125 and parameters: {'solver': 'lbfgs', 'penalty': 'l2', 'multi_class': 'ovr', 'C': 0.003258716807318417}. Best is trial 2 with value: 0.978125.\n",
            "[I 2024-02-16 13:17:50,564] Trial 34 finished with value: 0.978125 and parameters: {'solver': 'lbfgs', 'penalty': 'l2', 'multi_class': 'ovr', 'C': 0.0010170245933542321}. Best is trial 2 with value: 0.978125.\n",
            "[I 2024-02-16 13:17:52,733] Trial 35 finished with value: 0.8625 and parameters: {'solver': 'liblinear', 'penalty': 'l2', 'multi_class': 'ovr', 'C': 0.005122998012519149}. Best is trial 2 with value: 0.978125.\n",
            "[I 2024-02-16 13:17:53,301] Trial 36 finished with value: 0.975 and parameters: {'solver': 'lbfgs', 'penalty': 'l2', 'multi_class': 'ovr', 'C': 0.008213177575670274}. Best is trial 2 with value: 0.978125.\n",
            "[I 2024-02-16 13:17:53,804] Trial 37 finished with value: 0.846875 and parameters: {'solver': 'saga', 'penalty': 'l2', 'multi_class': 'ovr', 'C': 0.0023271162819184813}. Best is trial 2 with value: 0.978125.\n",
            "[I 2024-02-16 13:17:58,316] Trial 38 finished with value: 0.975 and parameters: {'solver': 'newton-cg', 'penalty': 'l2', 'multi_class': 'ovr', 'C': 0.02107069725880363}. Best is trial 2 with value: 0.978125.\n",
            "[I 2024-02-16 13:17:58,815] Trial 39 finished with value: 0.846875 and parameters: {'solver': 'saga', 'penalty': 'l2', 'multi_class': 'ovr', 'C': 0.005997617584605331}. Best is trial 2 with value: 0.978125.\n",
            "[I 2024-02-16 13:17:59,377] Trial 40 finished with value: 0.978125 and parameters: {'solver': 'lbfgs', 'penalty': 'l2', 'multi_class': 'ovr', 'C': 0.0020095683635622695}. Best is trial 2 with value: 0.978125.\n",
            "[I 2024-02-16 13:18:03,942] Trial 41 finished with value: 0.978125 and parameters: {'solver': 'newton-cg', 'penalty': 'l2', 'multi_class': 'ovr', 'C': 0.008595597136958712}. Best is trial 2 with value: 0.978125.\n",
            "[I 2024-02-16 13:18:08,450] Trial 42 finished with value: 0.978125 and parameters: {'solver': 'newton-cg', 'penalty': 'l2', 'multi_class': 'ovr', 'C': 0.004998109013724962}. Best is trial 2 with value: 0.978125.\n",
            "[I 2024-02-16 13:18:12,761] Trial 43 finished with value: 0.978125 and parameters: {'solver': 'newton-cg', 'penalty': 'l2', 'multi_class': 'ovr', 'C': 0.031411961255445556}. Best is trial 2 with value: 0.978125.\n",
            "[I 2024-02-16 13:18:17,317] Trial 44 finished with value: 0.978125 and parameters: {'solver': 'newton-cg', 'penalty': 'l2', 'multi_class': 'ovr', 'C': 0.0018472913970371911}. Best is trial 2 with value: 0.978125.\n",
            "[I 2024-02-16 13:18:21,853] Trial 45 finished with value: 0.978125 and parameters: {'solver': 'newton-cg', 'penalty': 'l2', 'multi_class': 'ovr', 'C': 0.011305601321665042}. Best is trial 2 with value: 0.978125.\n",
            "[I 2024-02-16 13:18:24,220] Trial 46 finished with value: 0.865625 and parameters: {'solver': 'liblinear', 'penalty': 'l2', 'multi_class': 'ovr', 'C': 0.005303519485816425}. Best is trial 2 with value: 0.978125.\n",
            "[I 2024-02-16 13:18:24,708] Trial 47 finished with value: 0.846875 and parameters: {'solver': 'saga', 'penalty': 'l2', 'multi_class': 'ovr', 'C': 0.042426824773339124}. Best is trial 2 with value: 0.978125.\n",
            "[I 2024-02-16 13:18:29,369] Trial 48 finished with value: 0.975 and parameters: {'solver': 'newton-cg', 'penalty': 'l2', 'multi_class': 'ovr', 'C': 0.017015941297317014}. Best is trial 2 with value: 0.978125.\n",
            "[I 2024-02-16 13:18:29,952] Trial 49 finished with value: 0.978125 and parameters: {'solver': 'lbfgs', 'penalty': 'l2', 'multi_class': 'ovr', 'C': 0.0017642255325982029}. Best is trial 2 with value: 0.978125.\n",
            "[I 2024-02-16 13:18:30,518] Trial 50 finished with value: 0.978125 and parameters: {'solver': 'lbfgs', 'penalty': 'l2', 'multi_class': 'ovr', 'C': 0.004222607669591264}. Best is trial 2 with value: 0.978125.\n",
            "[I 2024-02-16 13:18:35,107] Trial 51 finished with value: 0.978125 and parameters: {'solver': 'newton-cg', 'penalty': 'l2', 'multi_class': 'ovr', 'C': 0.0038654872458255794}. Best is trial 2 with value: 0.978125.\n",
            "[I 2024-02-16 13:18:39,584] Trial 52 finished with value: 0.978125 and parameters: {'solver': 'newton-cg', 'penalty': 'l2', 'multi_class': 'ovr', 'C': 0.0014877360656902275}. Best is trial 2 with value: 0.978125.\n",
            "[I 2024-02-16 13:18:44,044] Trial 53 finished with value: 0.978125 and parameters: {'solver': 'newton-cg', 'penalty': 'l2', 'multi_class': 'ovr', 'C': 0.001039082446641393}. Best is trial 2 with value: 0.978125.\n",
            "[I 2024-02-16 13:18:48,612] Trial 54 finished with value: 0.978125 and parameters: {'solver': 'newton-cg', 'penalty': 'l2', 'multi_class': 'ovr', 'C': 0.003250063457095472}. Best is trial 2 with value: 0.978125.\n",
            "[I 2024-02-16 13:18:53,082] Trial 55 finished with value: 0.978125 and parameters: {'solver': 'newton-cg', 'penalty': 'l2', 'multi_class': 'ovr', 'C': 0.008198218033435227}. Best is trial 2 with value: 0.978125.\n",
            "[I 2024-02-16 13:18:53,674] Trial 56 finished with value: 0.975 and parameters: {'solver': 'lbfgs', 'penalty': 'l2', 'multi_class': 'ovr', 'C': 0.014071807655116904}. Best is trial 2 with value: 0.978125.\n",
            "[I 2024-02-16 13:18:58,165] Trial 57 finished with value: 0.978125 and parameters: {'solver': 'newton-cg', 'penalty': 'l2', 'multi_class': 'ovr', 'C': 0.0023095410938304994}. Best is trial 2 with value: 0.978125.\n",
            "[I 2024-02-16 13:18:58,743] Trial 58 finished with value: 0.978125 and parameters: {'solver': 'lbfgs', 'penalty': 'l2', 'multi_class': 'ovr', 'C': 0.001005281158828429}. Best is trial 2 with value: 0.978125.\n",
            "[I 2024-02-16 13:18:59,261] Trial 59 finished with value: 0.846875 and parameters: {'solver': 'saga', 'penalty': 'l2', 'multi_class': 'ovr', 'C': 0.003418308344592373}. Best is trial 2 with value: 0.978125.\n",
            "[I 2024-02-16 13:18:59,852] Trial 60 finished with value: 0.971875 and parameters: {'solver': 'lbfgs', 'penalty': 'l2', 'multi_class': 'ovr', 'C': 0.5553444961714968}. Best is trial 2 with value: 0.978125.\n",
            "[I 2024-02-16 13:19:04,535] Trial 61 finished with value: 0.978125 and parameters: {'solver': 'newton-cg', 'penalty': 'l2', 'multi_class': 'ovr', 'C': 0.0014802153420828666}. Best is trial 2 with value: 0.978125.\n",
            "[I 2024-02-16 13:19:09,058] Trial 62 finished with value: 0.978125 and parameters: {'solver': 'newton-cg', 'penalty': 'l2', 'multi_class': 'ovr', 'C': 0.005846160944921303}. Best is trial 2 with value: 0.978125.\n",
            "[I 2024-02-16 13:19:14,026] Trial 63 finished with value: 0.978125 and parameters: {'solver': 'newton-cg', 'penalty': 'l2', 'multi_class': 'ovr', 'C': 0.0025567136764989575}. Best is trial 2 with value: 0.978125.\n",
            "[I 2024-02-16 13:19:15,621] Trial 64 finished with value: 0.846875 and parameters: {'solver': 'liblinear', 'penalty': 'l2', 'multi_class': 'ovr', 'C': 0.0014854170062298454}. Best is trial 2 with value: 0.978125.\n",
            "[I 2024-02-16 13:19:20,436] Trial 65 finished with value: 0.978125 and parameters: {'solver': 'newton-cg', 'penalty': 'l2', 'multi_class': 'ovr', 'C': 0.0028987327605962837}. Best is trial 2 with value: 0.978125.\n",
            "[I 2024-02-16 13:19:21,029] Trial 66 finished with value: 0.978125 and parameters: {'solver': 'lbfgs', 'penalty': 'l2', 'multi_class': 'ovr', 'C': 0.011840682327842045}. Best is trial 2 with value: 0.978125.\n",
            "[I 2024-02-16 13:19:25,744] Trial 67 finished with value: 0.978125 and parameters: {'solver': 'newton-cg', 'penalty': 'l2', 'multi_class': 'ovr', 'C': 0.006724731209697449}. Best is trial 2 with value: 0.978125.\n",
            "[I 2024-02-16 13:19:26,338] Trial 68 finished with value: 0.975 and parameters: {'solver': 'lbfgs', 'penalty': 'l2', 'multi_class': 'ovr', 'C': 0.00425901939180296}. Best is trial 2 with value: 0.978125.\n",
            "[I 2024-02-16 13:19:31,113] Trial 69 finished with value: 0.978125 and parameters: {'solver': 'newton-cg', 'penalty': 'l2', 'multi_class': 'ovr', 'C': 0.001606797754633815}. Best is trial 2 with value: 0.978125.\n",
            "[I 2024-02-16 13:19:31,724] Trial 70 finished with value: 0.975 and parameters: {'solver': 'lbfgs', 'penalty': 'l2', 'multi_class': 'ovr', 'C': 0.009787910240755085}. Best is trial 2 with value: 0.978125.\n",
            "[I 2024-02-16 13:19:32,334] Trial 71 finished with value: 0.978125 and parameters: {'solver': 'lbfgs', 'penalty': 'l2', 'multi_class': 'ovr', 'C': 0.0014161210394934805}. Best is trial 2 with value: 0.978125.\n",
            "[I 2024-02-16 13:19:32,973] Trial 72 finished with value: 0.978125 and parameters: {'solver': 'lbfgs', 'penalty': 'l2', 'multi_class': 'ovr', 'C': 0.0010639810003234954}. Best is trial 2 with value: 0.978125.\n",
            "[I 2024-02-16 13:19:33,618] Trial 73 finished with value: 0.978125 and parameters: {'solver': 'lbfgs', 'penalty': 'l2', 'multi_class': 'ovr', 'C': 0.0023324808979619128}. Best is trial 2 with value: 0.978125.\n",
            "[I 2024-02-16 13:19:34,226] Trial 74 finished with value: 0.978125 and parameters: {'solver': 'lbfgs', 'penalty': 'l2', 'multi_class': 'ovr', 'C': 0.003594071535847019}. Best is trial 2 with value: 0.978125.\n",
            "[I 2024-02-16 13:19:35,982] Trial 75 finished with value: 0.853125 and parameters: {'solver': 'liblinear', 'penalty': 'l2', 'multi_class': 'ovr', 'C': 0.00213361735216711}. Best is trial 2 with value: 0.978125.\n",
            "[I 2024-02-16 13:19:36,561] Trial 76 finished with value: 0.978125 and parameters: {'solver': 'lbfgs', 'penalty': 'l2', 'multi_class': 'ovr', 'C': 0.006126384492645043}. Best is trial 2 with value: 0.978125.\n",
            "[I 2024-02-16 13:19:41,560] Trial 77 finished with value: 0.978125 and parameters: {'solver': 'newton-cg', 'penalty': 'l2', 'multi_class': 'ovr', 'C': 0.0013950209795755971}. Best is trial 2 with value: 0.978125.\n",
            "[I 2024-02-16 13:19:42,173] Trial 78 finished with value: 0.978125 and parameters: {'solver': 'lbfgs', 'penalty': 'l2', 'multi_class': 'ovr', 'C': 0.004623200183684531}. Best is trial 2 with value: 0.978125.\n",
            "[I 2024-02-16 13:19:42,769] Trial 79 finished with value: 0.846875 and parameters: {'solver': 'saga', 'penalty': 'l2', 'multi_class': 'ovr', 'C': 0.0028550860665469296}. Best is trial 2 with value: 0.978125.\n",
            "[I 2024-02-16 13:19:47,609] Trial 80 finished with value: 0.978125 and parameters: {'solver': 'newton-cg', 'penalty': 'l2', 'multi_class': 'ovr', 'C': 0.0010466511637334994}. Best is trial 2 with value: 0.978125.\n",
            "[I 2024-02-16 13:19:48,189] Trial 81 finished with value: 0.978125 and parameters: {'solver': 'lbfgs', 'penalty': 'l2', 'multi_class': 'ovr', 'C': 0.002015921830084919}. Best is trial 2 with value: 0.978125.\n",
            "[I 2024-02-16 13:19:48,784] Trial 82 finished with value: 0.978125 and parameters: {'solver': 'lbfgs', 'penalty': 'l2', 'multi_class': 'ovr', 'C': 0.007306133750968952}. Best is trial 2 with value: 0.978125.\n",
            "[I 2024-02-16 13:19:49,375] Trial 83 finished with value: 0.978125 and parameters: {'solver': 'lbfgs', 'penalty': 'l2', 'multi_class': 'ovr', 'C': 0.003944101339959587}. Best is trial 2 with value: 0.978125.\n",
            "[I 2024-02-16 13:19:49,996] Trial 84 finished with value: 0.975 and parameters: {'solver': 'lbfgs', 'penalty': 'l2', 'multi_class': 'ovr', 'C': 0.020152620645690573}. Best is trial 2 with value: 0.978125.\n",
            "[I 2024-02-16 13:19:50,592] Trial 85 finished with value: 0.978125 and parameters: {'solver': 'lbfgs', 'penalty': 'l2', 'multi_class': 'ovr', 'C': 0.0019484029184178076}. Best is trial 2 with value: 0.978125.\n",
            "[I 2024-02-16 13:19:55,354] Trial 86 finished with value: 0.978125 and parameters: {'solver': 'newton-cg', 'penalty': 'l2', 'multi_class': 'ovr', 'C': 0.0028903919992969967}. Best is trial 2 with value: 0.978125.\n",
            "[I 2024-02-16 13:19:55,952] Trial 87 finished with value: 0.975 and parameters: {'solver': 'lbfgs', 'penalty': 'l2', 'multi_class': 'ovr', 'C': 0.013802006373826087}. Best is trial 2 with value: 0.978125.\n",
            "[I 2024-02-16 13:20:00,595] Trial 88 finished with value: 0.978125 and parameters: {'solver': 'newton-cg', 'penalty': 'l2', 'multi_class': 'ovr', 'C': 0.0013498899666470185}. Best is trial 2 with value: 0.978125.\n",
            "[I 2024-02-16 13:20:02,774] Trial 89 finished with value: 0.8625 and parameters: {'solver': 'liblinear', 'penalty': 'l2', 'multi_class': 'ovr', 'C': 0.005019287199998099}. Best is trial 2 with value: 0.978125.\n",
            "[I 2024-02-16 13:20:03,351] Trial 90 finished with value: 0.978125 and parameters: {'solver': 'lbfgs', 'penalty': 'l2', 'multi_class': 'ovr', 'C': 0.001909047042411022}. Best is trial 2 with value: 0.978125.\n",
            "[I 2024-02-16 13:20:03,927] Trial 91 finished with value: 0.978125 and parameters: {'solver': 'lbfgs', 'penalty': 'l2', 'multi_class': 'ovr', 'C': 0.002896847050923997}. Best is trial 2 with value: 0.978125.\n",
            "[I 2024-02-16 13:20:04,537] Trial 92 finished with value: 0.971875 and parameters: {'solver': 'lbfgs', 'penalty': 'l2', 'multi_class': 'ovr', 'C': 0.009370469801446636}. Best is trial 2 with value: 0.978125.\n",
            "[I 2024-02-16 13:20:05,161] Trial 93 finished with value: 0.975 and parameters: {'solver': 'lbfgs', 'penalty': 'l2', 'multi_class': 'ovr', 'C': 0.0038099038900805313}. Best is trial 2 with value: 0.978125.\n",
            "[I 2024-02-16 13:20:09,755] Trial 94 finished with value: 0.978125 and parameters: {'solver': 'newton-cg', 'penalty': 'l2', 'multi_class': 'ovr', 'C': 0.0013337911595973414}. Best is trial 2 with value: 0.978125.\n",
            "[I 2024-02-16 13:20:10,275] Trial 95 finished with value: 0.846875 and parameters: {'solver': 'saga', 'penalty': 'l2', 'multi_class': 'ovr', 'C': 0.006201786205312175}. Best is trial 2 with value: 0.978125.\n",
            "[I 2024-02-16 13:20:10,898] Trial 96 finished with value: 0.978125 and parameters: {'solver': 'lbfgs', 'penalty': 'l2', 'multi_class': 'ovr', 'C': 0.002492756091946365}. Best is trial 2 with value: 0.978125.\n",
            "[I 2024-02-16 13:20:15,518] Trial 97 finished with value: 0.978125 and parameters: {'solver': 'newton-cg', 'penalty': 'l2', 'multi_class': 'ovr', 'C': 0.001809176460604538}. Best is trial 2 with value: 0.978125.\n",
            "[I 2024-02-16 13:20:16,132] Trial 98 finished with value: 0.978125 and parameters: {'solver': 'lbfgs', 'penalty': 'l2', 'multi_class': 'ovr', 'C': 0.001064699542943182}. Best is trial 2 with value: 0.978125.\n",
            "[I 2024-02-16 13:20:20,819] Trial 99 finished with value: 0.978125 and parameters: {'solver': 'newton-cg', 'penalty': 'l2', 'multi_class': 'ovr', 'C': 0.004733666885232131}. Best is trial 2 with value: 0.978125.\n"
          ]
        },
        {
          "name": "stdout",
          "output_type": "stream",
          "text": [
            "Best params found : {'solver': 'newton-cg', 'penalty': 'l2', 'multi_class': 'ovr', 'C': 0.013487194026077051}\n",
            "accuracy: 0.9875\n",
            "recall: 0.9861111111111112\n",
            "precision: 0.9907407407407407\n",
            "f1-score: 0.9851851851851853\n",
            "roc_auc:  0.9928774928774929\n"
          ]
        }
      ],
      "source": [
        "study = optuna.create_study(direction = 'maximize')\n",
        "study.optimize(objective, n_trials = 100)\n",
        "best_params = study.best_params\n",
        "print(\"Best params found :\", best_params)\n",
        "\n",
        "final_model = LogisticRegression(**best_params)\n",
        "final_model.fit(X_train_reduced, y_train)\n",
        "y_pred = final_model.predict(X_test_reduced)\n",
        "prediction_results['logistic regression'] = y_pred\n",
        "\n",
        "accuracy = accuracy_score(y_test, y_pred)\n",
        "precision = precision_score(y_test, y_pred, average='macro')\n",
        "recall = recall_score(y_test, y_pred, average='macro')\n",
        "f1 = f1_score(y_test, y_pred, average='macro')\n",
        "\n",
        "# One-hot encoding for probability calculation (adapt if necessary)\n",
        "y_test_onehot = pd.get_dummies(y_test, prefix='label_')  # Assuming 'label_' prefix for clarity\n",
        "y_pred_onehot = pd.get_dummies(y_pred, prefix='label_')\n",
        "\n",
        "# ROC AUC score with multiclass handling\n",
        "roc_auc_macro = roc_auc_score(y_test_onehot, y_pred_onehot, average='macro', multi_class='ovo')  # Specify 'ovo' or 'ovr'\n",
        "\n",
        "print(\"accuracy:\", accuracy)\n",
        "print(\"recall:\", recall)\n",
        "print(\"precision:\", precision)\n",
        "print(\"f1-score:\", f1)\n",
        "print('roc_auc: ', roc_auc_macro)"
      ]
    },
    {
      "cell_type": "code",
      "execution_count": 129,
      "metadata": {
        "execution": {
          "iopub.execute_input": "2024-02-13T16:49:45.891305Z",
          "iopub.status.busy": "2024-02-13T16:49:45.890918Z",
          "iopub.status.idle": "2024-02-13T16:49:45.897562Z",
          "shell.execute_reply": "2024-02-13T16:49:45.895966Z",
          "shell.execute_reply.started": "2024-02-13T16:49:45.891274Z"
        },
        "id": "2t51_KgGZocN",
        "trusted": true
      },
      "outputs": [],
      "source": [
        "# lr = LogisticRegression(multi_class='ovr', solver='liblinear')\n",
        "# lr.fit(X_train_reduced, y_train)\n",
        "# y_pred = lr.predict(X_test_reduced)"
      ]
    },
    {
      "cell_type": "markdown",
      "metadata": {
        "id": "9_gA1pBMZocO"
      },
      "source": [
        "# KNN Classifier"
      ]
    },
    {
      "cell_type": "markdown",
      "metadata": {
        "id": "Yl3S4775ZocO"
      },
      "source": [
        "**Normal**"
      ]
    },
    {
      "cell_type": "code",
      "execution_count": 130,
      "metadata": {
        "execution": {
          "iopub.execute_input": "2024-02-13T16:49:45.913243Z",
          "iopub.status.busy": "2024-02-13T16:49:45.912601Z",
          "iopub.status.idle": "2024-02-13T16:49:46.049985Z",
          "shell.execute_reply": "2024-02-13T16:49:46.048603Z",
          "shell.execute_reply.started": "2024-02-13T16:49:45.913197Z"
        },
        "id": "_wV-8qM7ZocO",
        "outputId": "5bceb54a-770b-4ce5-d761-d813e35fe0a2",
        "trusted": true
      },
      "outputs": [
        {
          "name": "stdout",
          "output_type": "stream",
          "text": [
            "accuracy: 0.925\n",
            "recall: 0.9421296296296295\n",
            "precision: 0.9495370370370372\n",
            "f1-score: 0.9279761904761905\n",
            "roc_auc:  0.9699917551974515\n"
          ]
        }
      ],
      "source": [
        "from sklearn.neighbors import KNeighborsClassifier\n",
        "\n",
        "knn = KNeighborsClassifier()\n",
        "knn.fit(X_train_reduced, y_train)\n",
        "y_pred = knn.predict(X_test_reduced)\n",
        "\n",
        "accuracy = accuracy_score(y_test, y_pred)\n",
        "precision = precision_score(y_test, y_pred, average='macro')\n",
        "recall = recall_score(y_test, y_pred, average='macro')\n",
        "f1 = f1_score(y_test, y_pred, average='macro')\n",
        "\n",
        "# One-hot encoding for probability calculation (adapt if necessary)\n",
        "y_test_onehot = pd.get_dummies(y_test, prefix='label_')  # Assuming 'label_' prefix for clarity\n",
        "y_pred_onehot = pd.get_dummies(y_pred, prefix='label_')\n",
        "\n",
        "# ROC AUC score with multiclass handling\n",
        "roc_auc_macro = roc_auc_score(y_test_onehot, y_pred_onehot, average='macro', multi_class='ovo')  # Specify 'ovo' or 'ovr'\n",
        "\n",
        "print(\"accuracy:\", accuracy)\n",
        "print(\"recall:\", recall)\n",
        "print(\"precision:\", precision)\n",
        "print(\"f1-score:\", f1)\n",
        "print('roc_auc: ', roc_auc_macro)\n"
      ]
    },
    {
      "cell_type": "markdown",
      "metadata": {
        "id": "YeLOq21CZocO"
      },
      "source": [
        "**Tunning**"
      ]
    },
    {
      "cell_type": "code",
      "execution_count": 131,
      "metadata": {
        "execution": {
          "iopub.execute_input": "2024-02-13T16:49:46.070730Z",
          "iopub.status.busy": "2024-02-13T16:49:46.070222Z",
          "iopub.status.idle": "2024-02-13T16:49:46.081820Z"
        },
        "id": "ql-aCf6rZocU",
        "trusted": true
      },
      "outputs": [],
      "source": [
        "import optuna\n",
        "from sklearn.model_selection import cross_val_score\n",
        "import warnings\n",
        "warnings.filterwarnings('ignore')\n",
        "\n",
        "\n",
        "def objective(trial):\n",
        "    hyperparams = {\n",
        "        'n_neighbors': trial.suggest_int(\"n_neighbors\", 5, 100),\n",
        "        'weights': trial.suggest_categorical(\"weights\", [\"uniform\", \"distance\"]),\n",
        "        'metric': trial.suggest_categorical(\"metric\", [\"euclidean\", \"manhattan\", \"minkowski\"]),\n",
        "        'algorithm': trial.suggest_categorical('algorithm', ['auto', 'ball_tree', 'kd_tree', 'brute']),\n",
        "        'n_jobs': -1\n",
        "    }\n",
        "\n",
        "    # Create KNN model with tuned hyperparameters\n",
        "    model = KNeighborsClassifier(**hyperparams)\n",
        "    scores = cross_val_score(model, X_train_reduced,\n",
        "                             y_train, cv=kf, scoring='accuracy')\n",
        "    return np.mean(scores)"
      ]
    },
    {
      "cell_type": "code",
      "execution_count": 132,
      "metadata": {
        "execution": {
          "iopub.execute_input": "2024-02-13T16:49:46.084307Z",
          "iopub.status.busy": "2024-02-13T16:49:46.083835Z",
          "iopub.status.idle": "2024-02-13T16:49:48.603328Z"
        },
        "id": "THw9wvsOZocU",
        "outputId": "17e300b9-2cff-4e5a-a415-7607e75a15c8",
        "trusted": true
      },
      "outputs": [
        {
          "name": "stderr",
          "output_type": "stream",
          "text": [
            "[I 2024-02-16 13:20:39,779] A new study created in memory with name: no-name-d4402308-02ae-4c92-b85c-63f9a4e6f22a\n",
            "[I 2024-02-16 13:20:39,964] Trial 0 finished with value: 0.559375 and parameters: {'n_neighbors': 96, 'weights': 'distance', 'metric': 'manhattan', 'algorithm': 'ball_tree'}. Best is trial 0 with value: 0.559375.\n",
            "[I 2024-02-16 13:20:40,002] Trial 1 finished with value: 0.69375 and parameters: {'n_neighbors': 30, 'weights': 'distance', 'metric': 'euclidean', 'algorithm': 'brute'}. Best is trial 1 with value: 0.69375.\n",
            "[I 2024-02-16 13:20:40,167] Trial 2 finished with value: 0.584375 and parameters: {'n_neighbors': 96, 'weights': 'distance', 'metric': 'euclidean', 'algorithm': 'kd_tree'}. Best is trial 1 with value: 0.69375.\n",
            "[I 2024-02-16 13:20:40,320] Trial 3 finished with value: 0.5875 and parameters: {'n_neighbors': 97, 'weights': 'distance', 'metric': 'euclidean', 'algorithm': 'ball_tree'}. Best is trial 1 with value: 0.69375.\n",
            "[I 2024-02-16 13:20:40,478] Trial 4 finished with value: 0.090625 and parameters: {'n_neighbors': 70, 'weights': 'uniform', 'metric': 'minkowski', 'algorithm': 'ball_tree'}. Best is trial 1 with value: 0.69375.\n",
            "[I 2024-02-16 13:20:40,504] Trial 5 finished with value: 0.61875 and parameters: {'n_neighbors': 57, 'weights': 'distance', 'metric': 'minkowski', 'algorithm': 'brute'}. Best is trial 1 with value: 0.69375.\n",
            "[I 2024-02-16 13:20:40,647] Trial 6 finished with value: 0.634375 and parameters: {'n_neighbors': 48, 'weights': 'distance', 'metric': 'minkowski', 'algorithm': 'ball_tree'}. Best is trial 1 with value: 0.69375.\n",
            "[I 2024-02-16 13:20:40,803] Trial 7 finished with value: 0.096875 and parameters: {'n_neighbors': 79, 'weights': 'uniform', 'metric': 'manhattan', 'algorithm': 'ball_tree'}. Best is trial 1 with value: 0.69375.\n",
            "[I 2024-02-16 13:20:40,959] Trial 8 finished with value: 0.403125 and parameters: {'n_neighbors': 25, 'weights': 'uniform', 'metric': 'euclidean', 'algorithm': 'ball_tree'}. Best is trial 1 with value: 0.69375.\n",
            "[W 2024-02-16 13:20:40,993] Trial 9 failed with parameters: {'n_neighbors': 48, 'weights': 'uniform', 'metric': 'manhattan', 'algorithm': 'brute'} because of the following error: The value nan is not acceptable.\n",
            "[W 2024-02-16 13:20:40,994] Trial 9 failed with value nan.\n",
            "[W 2024-02-16 13:20:41,001] Trial 10 failed with parameters: {'n_neighbors': 42, 'weights': 'uniform', 'metric': 'manhattan', 'algorithm': 'auto'} because of the following error: The value nan is not acceptable.\n",
            "[W 2024-02-16 13:20:41,001] Trial 10 failed with value nan.\n",
            "[I 2024-02-16 13:20:41,023] Trial 11 finished with value: 0.734375 and parameters: {'n_neighbors': 21, 'weights': 'distance', 'metric': 'minkowski', 'algorithm': 'auto'}. Best is trial 11 with value: 0.734375.\n",
            "[I 2024-02-16 13:20:41,047] Trial 12 finished with value: 0.803125 and parameters: {'n_neighbors': 5, 'weights': 'uniform', 'metric': 'minkowski', 'algorithm': 'auto'}. Best is trial 12 with value: 0.803125.\n",
            "[I 2024-02-16 13:20:41,069] Trial 13 finished with value: 0.803125 and parameters: {'n_neighbors': 5, 'weights': 'uniform', 'metric': 'minkowski', 'algorithm': 'auto'}. Best is trial 12 with value: 0.803125.\n",
            "[I 2024-02-16 13:20:41,094] Trial 14 finished with value: 0.803125 and parameters: {'n_neighbors': 5, 'weights': 'uniform', 'metric': 'minkowski', 'algorithm': 'auto'}. Best is trial 12 with value: 0.803125.\n",
            "[I 2024-02-16 13:20:41,121] Trial 15 finished with value: 0.678125 and parameters: {'n_neighbors': 8, 'weights': 'uniform', 'metric': 'minkowski', 'algorithm': 'auto'}. Best is trial 12 with value: 0.803125.\n",
            "[I 2024-02-16 13:20:41,149] Trial 16 finished with value: 0.24375 and parameters: {'n_neighbors': 38, 'weights': 'uniform', 'metric': 'minkowski', 'algorithm': 'auto'}. Best is trial 12 with value: 0.803125.\n",
            "[I 2024-02-16 13:20:41,178] Trial 17 finished with value: 0.590625 and parameters: {'n_neighbors': 12, 'weights': 'uniform', 'metric': 'minkowski', 'algorithm': 'auto'}. Best is trial 12 with value: 0.803125.\n",
            "[I 2024-02-16 13:20:41,347] Trial 18 finished with value: 0.540625 and parameters: {'n_neighbors': 18, 'weights': 'uniform', 'metric': 'manhattan', 'algorithm': 'kd_tree'}. Best is trial 12 with value: 0.803125.\n",
            "[I 2024-02-16 13:20:41,373] Trial 19 finished with value: 0.2125 and parameters: {'n_neighbors': 41, 'weights': 'uniform', 'metric': 'minkowski', 'algorithm': 'auto'}. Best is trial 12 with value: 0.803125.\n",
            "[I 2024-02-16 13:20:41,397] Trial 20 finished with value: 0.33125 and parameters: {'n_neighbors': 31, 'weights': 'uniform', 'metric': 'minkowski', 'algorithm': 'auto'}. Best is trial 12 with value: 0.803125.\n",
            "[W 2024-02-16 13:20:41,408] Trial 21 failed with parameters: {'n_neighbors': 60, 'weights': 'uniform', 'metric': 'manhattan', 'algorithm': 'auto'} because of the following error: The value nan is not acceptable.\n",
            "[W 2024-02-16 13:20:41,410] Trial 21 failed with value nan.\n",
            "[W 2024-02-16 13:20:41,422] Trial 22 failed with parameters: {'n_neighbors': 60, 'weights': 'uniform', 'metric': 'manhattan', 'algorithm': 'auto'} because of the following error: The value nan is not acceptable.\n",
            "[W 2024-02-16 13:20:41,422] Trial 22 failed with value nan.\n",
            "[W 2024-02-16 13:20:41,437] Trial 23 failed with parameters: {'n_neighbors': 16, 'weights': 'uniform', 'metric': 'manhattan', 'algorithm': 'auto'} because of the following error: The value nan is not acceptable.\n",
            "[W 2024-02-16 13:20:41,438] Trial 23 failed with value nan.\n",
            "[W 2024-02-16 13:20:41,451] Trial 24 failed with parameters: {'n_neighbors': 62, 'weights': 'uniform', 'metric': 'manhattan', 'algorithm': 'auto'} because of the following error: The value nan is not acceptable.\n",
            "[W 2024-02-16 13:20:41,452] Trial 24 failed with value nan.\n",
            "[W 2024-02-16 13:20:41,464] Trial 25 failed with parameters: {'n_neighbors': 60, 'weights': 'uniform', 'metric': 'manhattan', 'algorithm': 'auto'} because of the following error: The value nan is not acceptable.\n",
            "[W 2024-02-16 13:20:41,465] Trial 25 failed with value nan.\n",
            "[W 2024-02-16 13:20:41,477] Trial 26 failed with parameters: {'n_neighbors': 14, 'weights': 'uniform', 'metric': 'manhattan', 'algorithm': 'auto'} because of the following error: The value nan is not acceptable.\n",
            "[W 2024-02-16 13:20:41,478] Trial 26 failed with value nan.\n",
            "[W 2024-02-16 13:20:41,491] Trial 27 failed with parameters: {'n_neighbors': 59, 'weights': 'uniform', 'metric': 'manhattan', 'algorithm': 'auto'} because of the following error: The value nan is not acceptable.\n",
            "[W 2024-02-16 13:20:41,492] Trial 27 failed with value nan.\n",
            "[W 2024-02-16 13:20:41,504] Trial 28 failed with parameters: {'n_neighbors': 60, 'weights': 'uniform', 'metric': 'manhattan', 'algorithm': 'auto'} because of the following error: The value nan is not acceptable.\n",
            "[W 2024-02-16 13:20:41,505] Trial 28 failed with value nan.\n",
            "[W 2024-02-16 13:20:41,518] Trial 29 failed with parameters: {'n_neighbors': 15, 'weights': 'uniform', 'metric': 'manhattan', 'algorithm': 'auto'} because of the following error: The value nan is not acceptable.\n",
            "[W 2024-02-16 13:20:41,519] Trial 29 failed with value nan.\n",
            "[W 2024-02-16 13:20:41,533] Trial 30 failed with parameters: {'n_neighbors': 15, 'weights': 'uniform', 'metric': 'manhattan', 'algorithm': 'auto'} because of the following error: The value nan is not acceptable.\n",
            "[W 2024-02-16 13:20:41,533] Trial 30 failed with value nan.\n",
            "[W 2024-02-16 13:20:41,546] Trial 31 failed with parameters: {'n_neighbors': 60, 'weights': 'uniform', 'metric': 'manhattan', 'algorithm': 'auto'} because of the following error: The value nan is not acceptable.\n",
            "[W 2024-02-16 13:20:41,546] Trial 31 failed with value nan.\n",
            "[W 2024-02-16 13:20:41,559] Trial 32 failed with parameters: {'n_neighbors': 60, 'weights': 'uniform', 'metric': 'manhattan', 'algorithm': 'auto'} because of the following error: The value nan is not acceptable.\n",
            "[W 2024-02-16 13:20:41,560] Trial 32 failed with value nan.\n",
            "[W 2024-02-16 13:20:41,573] Trial 33 failed with parameters: {'n_neighbors': 16, 'weights': 'uniform', 'metric': 'manhattan', 'algorithm': 'auto'} because of the following error: The value nan is not acceptable.\n",
            "[W 2024-02-16 13:20:41,574] Trial 33 failed with value nan.\n",
            "[W 2024-02-16 13:20:41,587] Trial 34 failed with parameters: {'n_neighbors': 62, 'weights': 'uniform', 'metric': 'manhattan', 'algorithm': 'auto'} because of the following error: The value nan is not acceptable.\n",
            "[W 2024-02-16 13:20:41,588] Trial 34 failed with value nan.\n",
            "[W 2024-02-16 13:20:41,600] Trial 35 failed with parameters: {'n_neighbors': 15, 'weights': 'uniform', 'metric': 'manhattan', 'algorithm': 'auto'} because of the following error: The value nan is not acceptable.\n",
            "[W 2024-02-16 13:20:41,601] Trial 35 failed with value nan.\n",
            "[W 2024-02-16 13:20:41,614] Trial 36 failed with parameters: {'n_neighbors': 60, 'weights': 'uniform', 'metric': 'manhattan', 'algorithm': 'auto'} because of the following error: The value nan is not acceptable.\n",
            "[W 2024-02-16 13:20:41,615] Trial 36 failed with value nan.\n",
            "[W 2024-02-16 13:20:41,628] Trial 37 failed with parameters: {'n_neighbors': 15, 'weights': 'uniform', 'metric': 'manhattan', 'algorithm': 'auto'} because of the following error: The value nan is not acceptable.\n",
            "[W 2024-02-16 13:20:41,629] Trial 37 failed with value nan.\n",
            "[W 2024-02-16 13:20:41,643] Trial 38 failed with parameters: {'n_neighbors': 59, 'weights': 'uniform', 'metric': 'manhattan', 'algorithm': 'auto'} because of the following error: The value nan is not acceptable.\n",
            "[W 2024-02-16 13:20:41,643] Trial 38 failed with value nan.\n",
            "[W 2024-02-16 13:20:41,658] Trial 39 failed with parameters: {'n_neighbors': 15, 'weights': 'uniform', 'metric': 'manhattan', 'algorithm': 'auto'} because of the following error: The value nan is not acceptable.\n",
            "[W 2024-02-16 13:20:41,659] Trial 39 failed with value nan.\n",
            "[W 2024-02-16 13:20:41,672] Trial 40 failed with parameters: {'n_neighbors': 15, 'weights': 'uniform', 'metric': 'manhattan', 'algorithm': 'auto'} because of the following error: The value nan is not acceptable.\n",
            "[W 2024-02-16 13:20:41,673] Trial 40 failed with value nan.\n",
            "[W 2024-02-16 13:20:41,686] Trial 41 failed with parameters: {'n_neighbors': 58, 'weights': 'uniform', 'metric': 'manhattan', 'algorithm': 'auto'} because of the following error: The value nan is not acceptable.\n",
            "[W 2024-02-16 13:20:41,686] Trial 41 failed with value nan.\n",
            "[W 2024-02-16 13:20:41,699] Trial 42 failed with parameters: {'n_neighbors': 14, 'weights': 'uniform', 'metric': 'manhattan', 'algorithm': 'auto'} because of the following error: The value nan is not acceptable.\n",
            "[W 2024-02-16 13:20:41,699] Trial 42 failed with value nan.\n",
            "[W 2024-02-16 13:20:41,713] Trial 43 failed with parameters: {'n_neighbors': 13, 'weights': 'uniform', 'metric': 'manhattan', 'algorithm': 'auto'} because of the following error: The value nan is not acceptable.\n",
            "[W 2024-02-16 13:20:41,714] Trial 43 failed with value nan.\n",
            "[W 2024-02-16 13:20:41,727] Trial 44 failed with parameters: {'n_neighbors': 15, 'weights': 'uniform', 'metric': 'manhattan', 'algorithm': 'auto'} because of the following error: The value nan is not acceptable.\n",
            "[W 2024-02-16 13:20:41,728] Trial 44 failed with value nan.\n",
            "[W 2024-02-16 13:20:41,742] Trial 45 failed with parameters: {'n_neighbors': 58, 'weights': 'uniform', 'metric': 'manhattan', 'algorithm': 'auto'} because of the following error: The value nan is not acceptable.\n",
            "[W 2024-02-16 13:20:41,742] Trial 45 failed with value nan.\n",
            "[W 2024-02-16 13:20:41,755] Trial 46 failed with parameters: {'n_neighbors': 15, 'weights': 'uniform', 'metric': 'manhattan', 'algorithm': 'auto'} because of the following error: The value nan is not acceptable.\n",
            "[W 2024-02-16 13:20:41,756] Trial 46 failed with value nan.\n",
            "[W 2024-02-16 13:20:41,770] Trial 47 failed with parameters: {'n_neighbors': 16, 'weights': 'uniform', 'metric': 'manhattan', 'algorithm': 'auto'} because of the following error: The value nan is not acceptable.\n",
            "[W 2024-02-16 13:20:41,770] Trial 47 failed with value nan.\n",
            "[W 2024-02-16 13:20:41,784] Trial 48 failed with parameters: {'n_neighbors': 59, 'weights': 'uniform', 'metric': 'manhattan', 'algorithm': 'auto'} because of the following error: The value nan is not acceptable.\n",
            "[W 2024-02-16 13:20:41,784] Trial 48 failed with value nan.\n",
            "[W 2024-02-16 13:20:41,797] Trial 49 failed with parameters: {'n_neighbors': 15, 'weights': 'uniform', 'metric': 'manhattan', 'algorithm': 'auto'} because of the following error: The value nan is not acceptable.\n",
            "[W 2024-02-16 13:20:41,798] Trial 49 failed with value nan.\n",
            "[W 2024-02-16 13:20:41,811] Trial 50 failed with parameters: {'n_neighbors': 57, 'weights': 'uniform', 'metric': 'manhattan', 'algorithm': 'auto'} because of the following error: The value nan is not acceptable.\n",
            "[W 2024-02-16 13:20:41,812] Trial 50 failed with value nan.\n",
            "[W 2024-02-16 13:20:41,826] Trial 51 failed with parameters: {'n_neighbors': 59, 'weights': 'uniform', 'metric': 'manhattan', 'algorithm': 'auto'} because of the following error: The value nan is not acceptable.\n",
            "[W 2024-02-16 13:20:41,827] Trial 51 failed with value nan.\n",
            "[W 2024-02-16 13:20:41,840] Trial 52 failed with parameters: {'n_neighbors': 59, 'weights': 'uniform', 'metric': 'manhattan', 'algorithm': 'auto'} because of the following error: The value nan is not acceptable.\n",
            "[W 2024-02-16 13:20:41,841] Trial 52 failed with value nan.\n",
            "[W 2024-02-16 13:20:41,855] Trial 53 failed with parameters: {'n_neighbors': 15, 'weights': 'uniform', 'metric': 'manhattan', 'algorithm': 'auto'} because of the following error: The value nan is not acceptable.\n",
            "[W 2024-02-16 13:20:41,855] Trial 53 failed with value nan.\n",
            "[W 2024-02-16 13:20:41,870] Trial 54 failed with parameters: {'n_neighbors': 56, 'weights': 'uniform', 'metric': 'manhattan', 'algorithm': 'auto'} because of the following error: The value nan is not acceptable.\n",
            "[W 2024-02-16 13:20:41,870] Trial 54 failed with value nan.\n",
            "[W 2024-02-16 13:20:41,885] Trial 55 failed with parameters: {'n_neighbors': 58, 'weights': 'uniform', 'metric': 'manhattan', 'algorithm': 'auto'} because of the following error: The value nan is not acceptable.\n",
            "[W 2024-02-16 13:20:41,885] Trial 55 failed with value nan.\n",
            "[W 2024-02-16 13:20:41,899] Trial 56 failed with parameters: {'n_neighbors': 58, 'weights': 'uniform', 'metric': 'manhattan', 'algorithm': 'auto'} because of the following error: The value nan is not acceptable.\n",
            "[W 2024-02-16 13:20:41,900] Trial 56 failed with value nan.\n",
            "[W 2024-02-16 13:20:41,913] Trial 57 failed with parameters: {'n_neighbors': 15, 'weights': 'uniform', 'metric': 'manhattan', 'algorithm': 'auto'} because of the following error: The value nan is not acceptable.\n",
            "[W 2024-02-16 13:20:41,914] Trial 57 failed with value nan.\n",
            "[W 2024-02-16 13:20:41,926] Trial 58 failed with parameters: {'n_neighbors': 14, 'weights': 'uniform', 'metric': 'manhattan', 'algorithm': 'auto'} because of the following error: The value nan is not acceptable.\n",
            "[W 2024-02-16 13:20:41,927] Trial 58 failed with value nan.\n",
            "[W 2024-02-16 13:20:41,941] Trial 59 failed with parameters: {'n_neighbors': 59, 'weights': 'uniform', 'metric': 'manhattan', 'algorithm': 'auto'} because of the following error: The value nan is not acceptable.\n",
            "[W 2024-02-16 13:20:41,942] Trial 59 failed with value nan.\n",
            "[W 2024-02-16 13:20:41,955] Trial 60 failed with parameters: {'n_neighbors': 60, 'weights': 'uniform', 'metric': 'manhattan', 'algorithm': 'auto'} because of the following error: The value nan is not acceptable.\n",
            "[W 2024-02-16 13:20:41,956] Trial 60 failed with value nan.\n",
            "[W 2024-02-16 13:20:41,969] Trial 61 failed with parameters: {'n_neighbors': 61, 'weights': 'uniform', 'metric': 'manhattan', 'algorithm': 'auto'} because of the following error: The value nan is not acceptable.\n",
            "[W 2024-02-16 13:20:41,970] Trial 61 failed with value nan.\n",
            "[W 2024-02-16 13:20:41,983] Trial 62 failed with parameters: {'n_neighbors': 15, 'weights': 'uniform', 'metric': 'manhattan', 'algorithm': 'auto'} because of the following error: The value nan is not acceptable.\n",
            "[W 2024-02-16 13:20:41,983] Trial 62 failed with value nan.\n",
            "[W 2024-02-16 13:20:41,998] Trial 63 failed with parameters: {'n_neighbors': 60, 'weights': 'uniform', 'metric': 'manhattan', 'algorithm': 'auto'} because of the following error: The value nan is not acceptable.\n",
            "[W 2024-02-16 13:20:41,998] Trial 63 failed with value nan.\n",
            "[W 2024-02-16 13:20:42,011] Trial 64 failed with parameters: {'n_neighbors': 61, 'weights': 'uniform', 'metric': 'manhattan', 'algorithm': 'auto'} because of the following error: The value nan is not acceptable.\n",
            "[W 2024-02-16 13:20:42,012] Trial 64 failed with value nan.\n",
            "[W 2024-02-16 13:20:42,026] Trial 65 failed with parameters: {'n_neighbors': 15, 'weights': 'uniform', 'metric': 'manhattan', 'algorithm': 'auto'} because of the following error: The value nan is not acceptable.\n",
            "[W 2024-02-16 13:20:42,026] Trial 65 failed with value nan.\n",
            "[W 2024-02-16 13:20:42,039] Trial 66 failed with parameters: {'n_neighbors': 16, 'weights': 'uniform', 'metric': 'manhattan', 'algorithm': 'auto'} because of the following error: The value nan is not acceptable.\n",
            "[W 2024-02-16 13:20:42,039] Trial 66 failed with value nan.\n",
            "[W 2024-02-16 13:20:42,052] Trial 67 failed with parameters: {'n_neighbors': 60, 'weights': 'uniform', 'metric': 'manhattan', 'algorithm': 'auto'} because of the following error: The value nan is not acceptable.\n",
            "[W 2024-02-16 13:20:42,053] Trial 67 failed with value nan.\n",
            "[W 2024-02-16 13:20:42,067] Trial 68 failed with parameters: {'n_neighbors': 16, 'weights': 'uniform', 'metric': 'manhattan', 'algorithm': 'auto'} because of the following error: The value nan is not acceptable.\n",
            "[W 2024-02-16 13:20:42,068] Trial 68 failed with value nan.\n",
            "[W 2024-02-16 13:20:42,081] Trial 69 failed with parameters: {'n_neighbors': 15, 'weights': 'uniform', 'metric': 'manhattan', 'algorithm': 'auto'} because of the following error: The value nan is not acceptable.\n",
            "[W 2024-02-16 13:20:42,081] Trial 69 failed with value nan.\n",
            "[W 2024-02-16 13:20:42,094] Trial 70 failed with parameters: {'n_neighbors': 16, 'weights': 'uniform', 'metric': 'manhattan', 'algorithm': 'auto'} because of the following error: The value nan is not acceptable.\n",
            "[W 2024-02-16 13:20:42,095] Trial 70 failed with value nan.\n",
            "[W 2024-02-16 13:20:42,107] Trial 71 failed with parameters: {'n_neighbors': 59, 'weights': 'uniform', 'metric': 'manhattan', 'algorithm': 'auto'} because of the following error: The value nan is not acceptable.\n",
            "[W 2024-02-16 13:20:42,108] Trial 71 failed with value nan.\n",
            "[W 2024-02-16 13:20:42,122] Trial 72 failed with parameters: {'n_neighbors': 14, 'weights': 'uniform', 'metric': 'manhattan', 'algorithm': 'auto'} because of the following error: The value nan is not acceptable.\n",
            "[W 2024-02-16 13:20:42,123] Trial 72 failed with value nan.\n",
            "[W 2024-02-16 13:20:42,136] Trial 73 failed with parameters: {'n_neighbors': 58, 'weights': 'uniform', 'metric': 'manhattan', 'algorithm': 'auto'} because of the following error: The value nan is not acceptable.\n",
            "[W 2024-02-16 13:20:42,137] Trial 73 failed with value nan.\n",
            "[W 2024-02-16 13:20:42,150] Trial 74 failed with parameters: {'n_neighbors': 59, 'weights': 'uniform', 'metric': 'manhattan', 'algorithm': 'auto'} because of the following error: The value nan is not acceptable.\n",
            "[W 2024-02-16 13:20:42,151] Trial 74 failed with value nan.\n",
            "[W 2024-02-16 13:20:42,164] Trial 75 failed with parameters: {'n_neighbors': 15, 'weights': 'uniform', 'metric': 'manhattan', 'algorithm': 'auto'} because of the following error: The value nan is not acceptable.\n",
            "[W 2024-02-16 13:20:42,165] Trial 75 failed with value nan.\n",
            "[W 2024-02-16 13:20:42,178] Trial 76 failed with parameters: {'n_neighbors': 14, 'weights': 'uniform', 'metric': 'manhattan', 'algorithm': 'auto'} because of the following error: The value nan is not acceptable.\n",
            "[W 2024-02-16 13:20:42,179] Trial 76 failed with value nan.\n",
            "[W 2024-02-16 13:20:42,193] Trial 77 failed with parameters: {'n_neighbors': 16, 'weights': 'uniform', 'metric': 'manhattan', 'algorithm': 'auto'} because of the following error: The value nan is not acceptable.\n",
            "[W 2024-02-16 13:20:42,194] Trial 77 failed with value nan.\n",
            "[W 2024-02-16 13:20:42,208] Trial 78 failed with parameters: {'n_neighbors': 16, 'weights': 'uniform', 'metric': 'manhattan', 'algorithm': 'auto'} because of the following error: The value nan is not acceptable.\n",
            "[W 2024-02-16 13:20:42,209] Trial 78 failed with value nan.\n",
            "[W 2024-02-16 13:20:42,222] Trial 79 failed with parameters: {'n_neighbors': 17, 'weights': 'uniform', 'metric': 'manhattan', 'algorithm': 'auto'} because of the following error: The value nan is not acceptable.\n",
            "[W 2024-02-16 13:20:42,223] Trial 79 failed with value nan.\n",
            "[W 2024-02-16 13:20:42,237] Trial 80 failed with parameters: {'n_neighbors': 18, 'weights': 'uniform', 'metric': 'manhattan', 'algorithm': 'auto'} because of the following error: The value nan is not acceptable.\n",
            "[W 2024-02-16 13:20:42,238] Trial 80 failed with value nan.\n",
            "[W 2024-02-16 13:20:42,250] Trial 81 failed with parameters: {'n_neighbors': 61, 'weights': 'uniform', 'metric': 'manhattan', 'algorithm': 'auto'} because of the following error: The value nan is not acceptable.\n",
            "[W 2024-02-16 13:20:42,251] Trial 81 failed with value nan.\n",
            "[W 2024-02-16 13:20:42,264] Trial 82 failed with parameters: {'n_neighbors': 59, 'weights': 'uniform', 'metric': 'manhattan', 'algorithm': 'auto'} because of the following error: The value nan is not acceptable.\n",
            "[W 2024-02-16 13:20:42,264] Trial 82 failed with value nan.\n",
            "[W 2024-02-16 13:20:42,281] Trial 83 failed with parameters: {'n_neighbors': 17, 'weights': 'uniform', 'metric': 'manhattan', 'algorithm': 'auto'} because of the following error: The value nan is not acceptable.\n",
            "[W 2024-02-16 13:20:42,282] Trial 83 failed with value nan.\n",
            "[W 2024-02-16 13:20:42,300] Trial 84 failed with parameters: {'n_neighbors': 61, 'weights': 'uniform', 'metric': 'manhattan', 'algorithm': 'auto'} because of the following error: The value nan is not acceptable.\n",
            "[W 2024-02-16 13:20:42,301] Trial 84 failed with value nan.\n",
            "[W 2024-02-16 13:20:42,321] Trial 85 failed with parameters: {'n_neighbors': 15, 'weights': 'uniform', 'metric': 'manhattan', 'algorithm': 'auto'} because of the following error: The value nan is not acceptable.\n",
            "[W 2024-02-16 13:20:42,322] Trial 85 failed with value nan.\n",
            "[W 2024-02-16 13:20:42,341] Trial 86 failed with parameters: {'n_neighbors': 13, 'weights': 'uniform', 'metric': 'manhattan', 'algorithm': 'auto'} because of the following error: The value nan is not acceptable.\n",
            "[W 2024-02-16 13:20:42,342] Trial 86 failed with value nan.\n",
            "[W 2024-02-16 13:20:42,359] Trial 87 failed with parameters: {'n_neighbors': 59, 'weights': 'uniform', 'metric': 'manhattan', 'algorithm': 'auto'} because of the following error: The value nan is not acceptable.\n",
            "[W 2024-02-16 13:20:42,360] Trial 87 failed with value nan.\n",
            "[W 2024-02-16 13:20:42,382] Trial 88 failed with parameters: {'n_neighbors': 16, 'weights': 'uniform', 'metric': 'manhattan', 'algorithm': 'auto'} because of the following error: The value nan is not acceptable.\n",
            "[W 2024-02-16 13:20:42,383] Trial 88 failed with value nan.\n",
            "[W 2024-02-16 13:20:42,401] Trial 89 failed with parameters: {'n_neighbors': 15, 'weights': 'uniform', 'metric': 'manhattan', 'algorithm': 'auto'} because of the following error: The value nan is not acceptable.\n",
            "[W 2024-02-16 13:20:42,403] Trial 89 failed with value nan.\n",
            "[W 2024-02-16 13:20:42,419] Trial 90 failed with parameters: {'n_neighbors': 57, 'weights': 'uniform', 'metric': 'manhattan', 'algorithm': 'auto'} because of the following error: The value nan is not acceptable.\n",
            "[W 2024-02-16 13:20:42,420] Trial 90 failed with value nan.\n",
            "[W 2024-02-16 13:20:42,436] Trial 91 failed with parameters: {'n_neighbors': 15, 'weights': 'uniform', 'metric': 'manhattan', 'algorithm': 'auto'} because of the following error: The value nan is not acceptable.\n",
            "[W 2024-02-16 13:20:42,437] Trial 91 failed with value nan.\n",
            "[W 2024-02-16 13:20:42,450] Trial 92 failed with parameters: {'n_neighbors': 16, 'weights': 'uniform', 'metric': 'manhattan', 'algorithm': 'auto'} because of the following error: The value nan is not acceptable.\n",
            "[W 2024-02-16 13:20:42,450] Trial 92 failed with value nan.\n",
            "[W 2024-02-16 13:20:42,465] Trial 93 failed with parameters: {'n_neighbors': 57, 'weights': 'uniform', 'metric': 'manhattan', 'algorithm': 'auto'} because of the following error: The value nan is not acceptable.\n",
            "[W 2024-02-16 13:20:42,466] Trial 93 failed with value nan.\n",
            "[W 2024-02-16 13:20:42,481] Trial 94 failed with parameters: {'n_neighbors': 59, 'weights': 'uniform', 'metric': 'manhattan', 'algorithm': 'auto'} because of the following error: The value nan is not acceptable.\n",
            "[W 2024-02-16 13:20:42,482] Trial 94 failed with value nan.\n",
            "[W 2024-02-16 13:20:42,496] Trial 95 failed with parameters: {'n_neighbors': 60, 'weights': 'uniform', 'metric': 'manhattan', 'algorithm': 'auto'} because of the following error: The value nan is not acceptable.\n",
            "[W 2024-02-16 13:20:42,497] Trial 95 failed with value nan.\n",
            "[W 2024-02-16 13:20:42,509] Trial 96 failed with parameters: {'n_neighbors': 59, 'weights': 'uniform', 'metric': 'manhattan', 'algorithm': 'auto'} because of the following error: The value nan is not acceptable.\n",
            "[W 2024-02-16 13:20:42,510] Trial 96 failed with value nan.\n",
            "[W 2024-02-16 13:20:42,524] Trial 97 failed with parameters: {'n_neighbors': 15, 'weights': 'uniform', 'metric': 'manhattan', 'algorithm': 'auto'} because of the following error: The value nan is not acceptable.\n",
            "[W 2024-02-16 13:20:42,525] Trial 97 failed with value nan.\n",
            "[W 2024-02-16 13:20:42,538] Trial 98 failed with parameters: {'n_neighbors': 59, 'weights': 'uniform', 'metric': 'manhattan', 'algorithm': 'auto'} because of the following error: The value nan is not acceptable.\n",
            "[W 2024-02-16 13:20:42,539] Trial 98 failed with value nan.\n",
            "[W 2024-02-16 13:20:42,553] Trial 99 failed with parameters: {'n_neighbors': 60, 'weights': 'uniform', 'metric': 'manhattan', 'algorithm': 'auto'} because of the following error: The value nan is not acceptable.\n",
            "[W 2024-02-16 13:20:42,554] Trial 99 failed with value nan.\n"
          ]
        },
        {
          "name": "stdout",
          "output_type": "stream",
          "text": [
            "Best params found : {'n_neighbors': 5, 'weights': 'uniform', 'metric': 'minkowski', 'algorithm': 'auto'}\n",
            "accuracy: 0.925\n",
            "recall: 0.9421296296296295\n",
            "precision: 0.9495370370370372\n",
            "f1-score: 0.9279761904761905\n",
            "roc_auc:  0.9699917551974515\n"
          ]
        }
      ],
      "source": [
        "study = optuna.create_study(direction = 'maximize')\n",
        "study.optimize(objective, n_trials = 100)\n",
        "best_params = study.best_params\n",
        "print(\"Best params found :\", best_params)\n",
        "\n",
        "final_model =KNeighborsClassifier(**best_params)\n",
        "final_model.fit(X_train_reduced, y_train)\n",
        "y_pred = final_model.predict(X_test_reduced)\n",
        "prediction_results['KNN'] = y_pred\n",
        "\n",
        "accuracy = accuracy_score(y_test, y_pred)\n",
        "precision = precision_score(y_test, y_pred, average='macro')\n",
        "recall = recall_score(y_test, y_pred, average='macro')\n",
        "f1 = f1_score(y_test, y_pred, average='macro')\n",
        "\n",
        "# One-hot encoding for probability calculation (adapt if necessary)\n",
        "y_test_onehot = pd.get_dummies(y_test, prefix='label_')  # Assuming 'label_' prefix for clarity\n",
        "y_pred_onehot = pd.get_dummies(y_pred, prefix='label_')\n",
        "\n",
        "# ROC AUC score with multiclass handling\n",
        "roc_auc_macro = roc_auc_score(y_test_onehot, y_pred_onehot, average='macro', multi_class='ovo')  # Specify 'ovo' or 'ovr'\n",
        "\n",
        "print(\"accuracy:\", accuracy)\n",
        "print(\"recall:\", recall)\n",
        "print(\"precision:\", precision)\n",
        "print(\"f1-score:\", f1)\n",
        "print('roc_auc: ', roc_auc_macro)"
      ]
    },
    {
      "cell_type": "markdown",
      "metadata": {
        "id": "jTVxUybVZocU"
      },
      "source": [
        "Tuning rồi lưu kết quả tuning vào bên dưới"
      ]
    },
    {
      "cell_type": "markdown",
      "metadata": {
        "id": "_mhZ25idZocV"
      },
      "source": [
        "## num_image = 9"
      ]
    },
    {
      "cell_type": "code",
      "execution_count": 133,
      "metadata": {
        "execution": {
          "iopub.execute_input": "2024-02-13T16:49:48.605885Z",
          "iopub.status.busy": "2024-02-13T16:49:48.605376Z",
          "iopub.status.idle": "2024-02-13T16:49:50.182229Z"
        },
        "id": "NNKwYwD9ZocV",
        "trusted": true
      },
      "outputs": [],
      "source": [
        "n_components_pca = 50\n",
        "pca = ModularPCA(n_components=n_components_pca, num_image=9)\n",
        "X_train_reduced = pca.fit_transform(X_train)\n",
        "X_test_reduced = pca.transform(X_test)"
      ]
    },
    {
      "cell_type": "code",
      "execution_count": 134,
      "metadata": {
        "execution": {
          "iopub.execute_input": "2024-02-13T16:49:50.185710Z",
          "iopub.status.busy": "2024-02-13T16:49:50.184161Z",
          "iopub.status.idle": "2024-02-13T16:49:50.196560Z"
        },
        "id": "QTuyHjM9ZocV",
        "trusted": true
      },
      "outputs": [],
      "source": [
        "# for train_index, test_index in skf.split(X, y):\n",
        "#     X_train, X_test = X[train_index], X[test_index]\n",
        "#     y_train, y_test = y[train_index], y[test_index]\n",
        "\n",
        "#     pca = PCA(n_components=n_components_pca)\n",
        "#     X_train_reduced = pca.fit_transform(X_train)\n",
        "#     X_test_reduced = pca.transform(X_test)\n",
        "\n",
        "#     # Euclidean\n",
        "#     y_pred = []\n",
        "#     for i in range(320):\n",
        "#         min_ = np.argmin(np.sqrt(np.sum((X_train_reduced - X_test_reduced[i])**2,axis=1)))\n",
        "#         y_pred.append(y_train[min_])\n",
        "\n",
        "#     # Evaluate the model\n",
        "#     accuracy = accuracy_score(y_test, y_pred)\n",
        "#     accuracy_scores.append(accuracy)\n",
        "\n",
        "# print(np.mean(accuracy_scores))"
      ]
    },
    {
      "cell_type": "markdown",
      "metadata": {
        "id": "UvRazco9ZocV"
      },
      "source": [
        "# Modeling"
      ]
    },
    {
      "cell_type": "code",
      "execution_count": 135,
      "metadata": {
        "execution": {
          "iopub.execute_input": "2024-02-13T16:49:50.199748Z",
          "iopub.status.busy": "2024-02-13T16:49:50.199064Z",
          "iopub.status.idle": "2024-02-13T16:49:50.213200Z"
        },
        "id": "zdQybjPpZocW",
        "trusted": true
      },
      "outputs": [],
      "source": [
        "from sklearn.model_selection import KFold\n",
        "n_splits = 5\n",
        "kf = KFold(n_splits=n_splits, shuffle=True, random_state=42)"
      ]
    },
    {
      "cell_type": "markdown",
      "metadata": {
        "id": "eUTPNxKsZocW"
      },
      "source": [
        "# Random Forest"
      ]
    },
    {
      "cell_type": "code",
      "execution_count": 136,
      "metadata": {
        "execution": {
          "iopub.execute_input": "2024-02-13T16:49:50.215394Z",
          "iopub.status.busy": "2024-02-13T16:49:50.214624Z",
          "iopub.status.idle": "2024-02-13T16:49:50.230699Z"
        },
        "id": "nSKXniZNZocW",
        "trusted": true
      },
      "outputs": [],
      "source": [
        "prediction_results = {}"
      ]
    },
    {
      "cell_type": "code",
      "execution_count": 137,
      "metadata": {
        "execution": {
          "iopub.execute_input": "2024-02-13T16:49:50.233017Z",
          "iopub.status.busy": "2024-02-13T16:49:50.232155Z",
          "iopub.status.idle": "2024-02-13T16:49:50.247228Z"
        },
        "id": "dfSGIzMCZocW",
        "trusted": true
      },
      "outputs": [],
      "source": [
        "from sklearn.ensemble import RandomForestClassifier\n",
        "from sklearn.metrics import accuracy_score"
      ]
    },
    {
      "cell_type": "markdown",
      "metadata": {
        "id": "aB6N0pajZocX"
      },
      "source": [
        "**Normal**"
      ]
    },
    {
      "cell_type": "code",
      "execution_count": 138,
      "metadata": {
        "execution": {
          "iopub.execute_input": "2024-02-13T16:49:50.250587Z",
          "iopub.status.busy": "2024-02-13T16:49:50.248794Z",
          "iopub.status.idle": "2024-02-13T16:49:50.908792Z"
        },
        "id": "46cSgHdSZocX",
        "outputId": "7f345b74-25a8-4617-a993-f758c9a642ee",
        "trusted": true
      },
      "outputs": [
        {
          "name": "stdout",
          "output_type": "stream",
          "text": [
            "accuracy: 0.9\n",
            "recall: 0.9143518518518517\n",
            "precision: 0.9120370370370369\n",
            "f1-score: 0.8899470899470899\n",
            "roc_auc:  0.9557535028262877\n"
          ]
        }
      ],
      "source": [
        "rfr = RandomForestClassifier(random_state=42)\n",
        "rfr.fit(X_train_reduced,y_train)\n",
        "y_pred = rfr.predict(X_test_reduced)\n",
        "\n",
        "accuracy = accuracy_score(y_test, y_pred)\n",
        "precision = precision_score(y_test, y_pred, average='macro')\n",
        "recall = recall_score(y_test, y_pred, average='macro')\n",
        "f1 = f1_score(y_test, y_pred, average='macro')\n",
        "\n",
        "# One-hot encoding for probability calculation (adapt if necessary)\n",
        "y_test_onehot = pd.get_dummies(y_test, prefix='label_')  # Assuming 'label_' prefix for clarity\n",
        "y_pred_onehot = pd.get_dummies(y_pred, prefix='label_')\n",
        "\n",
        "# ROC AUC score with multiclass handling\n",
        "roc_auc_macro = roc_auc_score(y_test_onehot, y_pred_onehot, average='macro', multi_class='ovo')  # Specify 'ovo' or 'ovr'\n",
        "\n",
        "print(\"accuracy:\", accuracy)\n",
        "print(\"recall:\", recall)\n",
        "print(\"precision:\", precision)\n",
        "print(\"f1-score:\", f1)\n",
        "print('roc_auc: ', roc_auc_macro)"
      ]
    },
    {
      "cell_type": "markdown",
      "metadata": {
        "id": "NPy37T_fZocX"
      },
      "source": [
        "**Tunning**"
      ]
    },
    {
      "cell_type": "code",
      "execution_count": 139,
      "metadata": {
        "execution": {
          "iopub.execute_input": "2024-02-13T16:49:50.911859Z",
          "iopub.status.busy": "2024-02-13T16:49:50.910836Z",
          "iopub.status.idle": "2024-02-13T16:49:50.919060Z"
        },
        "id": "q6Tu4LcdZocY",
        "trusted": true
      },
      "outputs": [],
      "source": [
        "import optuna\n",
        "\n",
        "\n",
        "def objective(trial):\n",
        "    hyperparams = {\n",
        "        'n_estimators': trial.suggest_int('n_estimators', 100, 1000),\n",
        "        'max_depth': trial.suggest_int('max_depth', 10, 50),\n",
        "        'min_samples_split': trial.suggest_int('min_samples_split', 2, 32),\n",
        "        'random_state': trial.suggest_categorical('random_state', [42]),\n",
        "        'min_samples_leaf': trial.suggest_int('min_samples_leaf', 1, 32),\n",
        "        'n_jobs': -1\n",
        "    }\n",
        "\n",
        "    model = RandomForestClassifier(**hyperparams)\n",
        "    scores = cross_val_score(model, X_train_reduced,\n",
        "                             y_train, cv=kf, scoring='accuracy')\n",
        "    return np.mean(scores)"
      ]
    },
    {
      "cell_type": "code",
      "execution_count": 140,
      "metadata": {
        "execution": {
          "iopub.execute_input": "2024-02-13T16:49:50.921109Z",
          "iopub.status.busy": "2024-02-13T16:49:50.920688Z",
          "iopub.status.idle": "2024-02-13T16:59:36.599215Z"
        },
        "id": "alZqG-QXZocY",
        "outputId": "c205ee7d-cf50-4899-b182-ba2ad815a261",
        "trusted": true
      },
      "outputs": [
        {
          "name": "stderr",
          "output_type": "stream",
          "text": [
            "[I 2024-02-16 13:20:43,860] A new study created in memory with name: no-name-96d79994-79ac-43f6-8029-7df0541dce74\n",
            "[I 2024-02-16 13:20:47,015] Trial 0 finished with value: 0.784375 and parameters: {'n_estimators': 372, 'max_depth': 32, 'min_samples_split': 3, 'random_state': 42, 'min_samples_leaf': 7}. Best is trial 0 with value: 0.784375.\n",
            "[I 2024-02-16 13:20:50,086] Trial 1 finished with value: 0.51875 and parameters: {'n_estimators': 427, 'max_depth': 44, 'min_samples_split': 31, 'random_state': 42, 'min_samples_leaf': 31}. Best is trial 0 with value: 0.784375.\n",
            "[I 2024-02-16 13:20:52,985] Trial 2 finished with value: 0.7125 and parameters: {'n_estimators': 358, 'max_depth': 14, 'min_samples_split': 27, 'random_state': 42, 'min_samples_leaf': 8}. Best is trial 0 with value: 0.784375.\n",
            "[I 2024-02-16 13:20:57,600] Trial 3 finished with value: 0.7375 and parameters: {'n_estimators': 604, 'max_depth': 39, 'min_samples_split': 26, 'random_state': 42, 'min_samples_leaf': 11}. Best is trial 0 with value: 0.784375.\n",
            "[I 2024-02-16 13:21:03,938] Trial 4 finished with value: 0.778125 and parameters: {'n_estimators': 802, 'max_depth': 28, 'min_samples_split': 17, 'random_state': 42, 'min_samples_leaf': 7}. Best is trial 0 with value: 0.784375.\n",
            "[I 2024-02-16 13:21:10,305] Trial 5 finished with value: 0.76875 and parameters: {'n_estimators': 819, 'max_depth': 28, 'min_samples_split': 10, 'random_state': 42, 'min_samples_leaf': 10}. Best is trial 0 with value: 0.784375.\n",
            "[I 2024-02-16 13:21:11,549] Trial 6 finished with value: 0.56875 and parameters: {'n_estimators': 155, 'max_depth': 10, 'min_samples_split': 14, 'random_state': 42, 'min_samples_leaf': 26}. Best is trial 0 with value: 0.784375.\n",
            "[I 2024-02-16 13:21:16,065] Trial 7 finished with value: 0.703125 and parameters: {'n_estimators': 609, 'max_depth': 36, 'min_samples_split': 3, 'random_state': 42, 'min_samples_leaf': 15}. Best is trial 0 with value: 0.784375.\n",
            "[I 2024-02-16 13:21:18,278] Trial 8 finished with value: 0.515625 and parameters: {'n_estimators': 302, 'max_depth': 13, 'min_samples_split': 7, 'random_state': 42, 'min_samples_leaf': 30}. Best is trial 0 with value: 0.784375.\n",
            "[I 2024-02-16 13:21:22,186] Trial 9 finished with value: 0.7 and parameters: {'n_estimators': 506, 'max_depth': 47, 'min_samples_split': 18, 'random_state': 42, 'min_samples_leaf': 17}. Best is trial 0 with value: 0.784375.\n",
            "[I 2024-02-16 13:21:31,055] Trial 10 finished with value: 0.89375 and parameters: {'n_estimators': 983, 'max_depth': 24, 'min_samples_split': 2, 'random_state': 42, 'min_samples_leaf': 2}. Best is trial 10 with value: 0.89375.\n",
            "[I 2024-02-16 13:21:40,119] Trial 11 finished with value: 0.909375 and parameters: {'n_estimators': 962, 'max_depth': 23, 'min_samples_split': 2, 'random_state': 42, 'min_samples_leaf': 1}. Best is trial 11 with value: 0.909375.\n",
            "[I 2024-02-16 13:21:49,199] Trial 12 finished with value: 0.859375 and parameters: {'n_estimators': 994, 'max_depth': 21, 'min_samples_split': 8, 'random_state': 42, 'min_samples_leaf': 1}. Best is trial 11 with value: 0.909375.\n",
            "[I 2024-02-16 13:21:58,475] Trial 13 finished with value: 0.9125 and parameters: {'n_estimators': 996, 'max_depth': 21, 'min_samples_split': 2, 'random_state': 42, 'min_samples_leaf': 1}. Best is trial 13 with value: 0.9125.\n",
            "[I 2024-02-16 13:22:04,364] Trial 14 finished with value: 0.675 and parameters: {'n_estimators': 819, 'max_depth': 19, 'min_samples_split': 12, 'random_state': 42, 'min_samples_leaf': 21}. Best is trial 13 with value: 0.9125.\n",
            "[I 2024-02-16 13:22:12,316] Trial 15 finished with value: 0.884375 and parameters: {'n_estimators': 892, 'max_depth': 20, 'min_samples_split': 6, 'random_state': 42, 'min_samples_leaf': 2}. Best is trial 13 with value: 0.9125.\n",
            "[I 2024-02-16 13:22:17,971] Trial 16 finished with value: 0.75625 and parameters: {'n_estimators': 696, 'max_depth': 17, 'min_samples_split': 20, 'random_state': 42, 'min_samples_leaf': 5}. Best is trial 13 with value: 0.9125.\n",
            "[I 2024-02-16 13:22:23,251] Trial 17 finished with value: 0.74375 and parameters: {'n_estimators': 702, 'max_depth': 26, 'min_samples_split': 6, 'random_state': 42, 'min_samples_leaf': 13}. Best is trial 13 with value: 0.9125.\n",
            "[I 2024-02-16 13:22:29,903] Trial 18 finished with value: 0.6875 and parameters: {'n_estimators': 912, 'max_depth': 34, 'min_samples_split': 13, 'random_state': 42, 'min_samples_leaf': 20}. Best is trial 13 with value: 0.9125.\n",
            "[I 2024-02-16 13:22:35,858] Trial 19 finished with value: 0.734375 and parameters: {'n_estimators': 734, 'max_depth': 23, 'min_samples_split': 22, 'random_state': 42, 'min_samples_leaf': 4}. Best is trial 13 with value: 0.9125.\n",
            "[I 2024-02-16 13:22:43,312] Trial 20 finished with value: 0.85 and parameters: {'n_estimators': 906, 'max_depth': 16, 'min_samples_split': 2, 'random_state': 42, 'min_samples_leaf': 5}. Best is trial 13 with value: 0.9125.\n",
            "[I 2024-02-16 13:22:52,977] Trial 21 finished with value: 0.909375 and parameters: {'n_estimators': 999, 'max_depth': 25, 'min_samples_split': 2, 'random_state': 42, 'min_samples_leaf': 1}. Best is trial 13 with value: 0.9125.\n",
            "[I 2024-02-16 13:23:02,425] Trial 22 finished with value: 0.89375 and parameters: {'n_estimators': 994, 'max_depth': 31, 'min_samples_split': 5, 'random_state': 42, 'min_samples_leaf': 1}. Best is trial 13 with value: 0.9125.\n",
            "[I 2024-02-16 13:23:10,692] Trial 23 finished with value: 0.85625 and parameters: {'n_estimators': 890, 'max_depth': 26, 'min_samples_split': 9, 'random_state': 42, 'min_samples_leaf': 4}. Best is trial 13 with value: 0.9125.\n",
            "[I 2024-02-16 13:23:18,052] Trial 24 finished with value: 0.765625 and parameters: {'n_estimators': 927, 'max_depth': 23, 'min_samples_split': 5, 'random_state': 42, 'min_samples_leaf': 9}. Best is trial 13 with value: 0.9125.\n",
            "[I 2024-02-16 13:23:24,582] Trial 25 finished with value: 0.84375 and parameters: {'n_estimators': 778, 'max_depth': 18, 'min_samples_split': 10, 'random_state': 42, 'min_samples_leaf': 4}. Best is trial 13 with value: 0.9125.\n",
            "[I 2024-02-16 13:23:32,886] Trial 26 finished with value: 0.9 and parameters: {'n_estimators': 856, 'max_depth': 39, 'min_samples_split': 3, 'random_state': 42, 'min_samples_leaf': 1}. Best is trial 13 with value: 0.9125.\n",
            "[I 2024-02-16 13:23:40,202] Trial 27 finished with value: 0.75 and parameters: {'n_estimators': 950, 'max_depth': 29, 'min_samples_split': 5, 'random_state': 42, 'min_samples_leaf': 12}. Best is trial 13 with value: 0.9125.\n",
            "[I 2024-02-16 13:23:47,367] Trial 28 finished with value: 0.821875 and parameters: {'n_estimators': 647, 'max_depth': 21, 'min_samples_split': 2, 'random_state': 42, 'min_samples_leaf': 6}. Best is trial 13 with value: 0.9125.\n",
            "[I 2024-02-16 13:23:52,753] Trial 29 finished with value: 0.790625 and parameters: {'n_estimators': 521, 'max_depth': 25, 'min_samples_split': 11, 'random_state': 42, 'min_samples_leaf': 7}. Best is trial 13 with value: 0.9125.\n",
            "[I 2024-02-16 13:23:53,983] Trial 30 finished with value: 0.790625 and parameters: {'n_estimators': 114, 'max_depth': 33, 'min_samples_split': 15, 'random_state': 42, 'min_samples_leaf': 3}. Best is trial 13 with value: 0.9125.\n",
            "[I 2024-02-16 13:24:02,399] Trial 31 finished with value: 0.896875 and parameters: {'n_estimators': 860, 'max_depth': 39, 'min_samples_split': 4, 'random_state': 42, 'min_samples_leaf': 1}. Best is trial 13 with value: 0.9125.\n",
            "[I 2024-02-16 13:24:09,894] Trial 32 finished with value: 0.88125 and parameters: {'n_estimators': 852, 'max_depth': 40, 'min_samples_split': 4, 'random_state': 42, 'min_samples_leaf': 3}. Best is trial 13 with value: 0.9125.\n",
            "[I 2024-02-16 13:24:18,439] Trial 33 finished with value: 0.878125 and parameters: {'n_estimators': 949, 'max_depth': 43, 'min_samples_split': 7, 'random_state': 42, 'min_samples_leaf': 1}. Best is trial 13 with value: 0.9125.\n",
            "[I 2024-02-16 13:24:24,388] Trial 34 finished with value: 0.78125 and parameters: {'n_estimators': 758, 'max_depth': 48, 'min_samples_split': 2, 'random_state': 42, 'min_samples_leaf': 8}. Best is trial 13 with value: 0.9125.\n",
            "[I 2024-02-16 13:24:32,097] Trial 35 finished with value: 0.675 and parameters: {'n_estimators': 997, 'max_depth': 35, 'min_samples_split': 31, 'random_state': 42, 'min_samples_leaf': 6}. Best is trial 13 with value: 0.9125.\n",
            "[I 2024-02-16 13:24:39,381] Trial 36 finished with value: 0.8625 and parameters: {'n_estimators': 845, 'max_depth': 30, 'min_samples_split': 8, 'random_state': 42, 'min_samples_leaf': 3}. Best is trial 13 with value: 0.9125.\n",
            "[I 2024-02-16 13:24:46,787] Trial 37 finished with value: 0.71875 and parameters: {'n_estimators': 944, 'max_depth': 14, 'min_samples_split': 28, 'random_state': 42, 'min_samples_leaf': 8}. Best is trial 13 with value: 0.9125.\n",
            "[I 2024-02-16 13:24:49,786] Trial 38 finished with value: 0.590625 and parameters: {'n_estimators': 395, 'max_depth': 27, 'min_samples_split': 4, 'random_state': 42, 'min_samples_leaf': 25}. Best is trial 13 with value: 0.9125.\n",
            "[I 2024-02-16 13:24:52,012] Trial 39 finished with value: 0.753125 and parameters: {'n_estimators': 267, 'max_depth': 37, 'min_samples_split': 3, 'random_state': 42, 'min_samples_leaf': 11}. Best is trial 13 with value: 0.9125.\n",
            "[I 2024-02-16 13:24:58,221] Trial 40 finished with value: 0.728125 and parameters: {'n_estimators': 798, 'max_depth': 45, 'min_samples_split': 23, 'random_state': 42, 'min_samples_leaf': 14}. Best is trial 13 with value: 0.9125.\n",
            "[I 2024-02-16 13:25:07,090] Trial 41 finished with value: 0.89375 and parameters: {'n_estimators': 879, 'max_depth': 41, 'min_samples_split': 4, 'random_state': 42, 'min_samples_leaf': 1}. Best is trial 13 with value: 0.9125.\n",
            "[I 2024-02-16 13:25:15,862] Trial 42 finished with value: 0.896875 and parameters: {'n_estimators': 943, 'max_depth': 37, 'min_samples_split': 4, 'random_state': 42, 'min_samples_leaf': 2}. Best is trial 13 with value: 0.9125.\n",
            "[I 2024-02-16 13:25:23,250] Trial 43 finished with value: 0.821875 and parameters: {'n_estimators': 863, 'max_depth': 22, 'min_samples_split': 7, 'random_state': 42, 'min_samples_leaf': 6}. Best is trial 13 with value: 0.9125.\n",
            "[I 2024-02-16 13:25:30,714] Trial 44 finished with value: 0.86875 and parameters: {'n_estimators': 827, 'max_depth': 42, 'min_samples_split': 2, 'random_state': 42, 'min_samples_leaf': 3}. Best is trial 13 with value: 0.9125.\n",
            "[I 2024-02-16 13:25:39,745] Trial 45 finished with value: 0.89375 and parameters: {'n_estimators': 967, 'max_depth': 39, 'min_samples_split': 6, 'random_state': 42, 'min_samples_leaf': 1}. Best is trial 13 with value: 0.9125.\n",
            "[I 2024-02-16 13:25:44,941] Trial 46 finished with value: 0.8375 and parameters: {'n_estimators': 584, 'max_depth': 45, 'min_samples_split': 3, 'random_state': 42, 'min_samples_leaf': 5}. Best is trial 13 with value: 0.9125.\n",
            "[I 2024-02-16 13:25:51,264] Trial 47 finished with value: 0.515625 and parameters: {'n_estimators': 911, 'max_depth': 50, 'min_samples_split': 9, 'random_state': 42, 'min_samples_leaf': 31}. Best is trial 13 with value: 0.9125.\n",
            "[I 2024-02-16 13:25:58,451] Trial 48 finished with value: 0.703125 and parameters: {'n_estimators': 1000, 'max_depth': 29, 'min_samples_split': 5, 'random_state': 42, 'min_samples_leaf': 18}. Best is trial 13 with value: 0.9125.\n",
            "[I 2024-02-16 13:26:04,027] Trial 49 finished with value: 0.771875 and parameters: {'n_estimators': 719, 'max_depth': 32, 'min_samples_split': 3, 'random_state': 42, 'min_samples_leaf': 10}. Best is trial 13 with value: 0.9125.\n",
            "[I 2024-02-16 13:26:08,353] Trial 50 finished with value: 0.846875 and parameters: {'n_estimators': 450, 'max_depth': 11, 'min_samples_split': 7, 'random_state': 42, 'min_samples_leaf': 2}. Best is trial 13 with value: 0.9125.\n",
            "[I 2024-02-16 13:26:16,825] Trial 51 finished with value: 0.896875 and parameters: {'n_estimators': 950, 'max_depth': 38, 'min_samples_split': 4, 'random_state': 42, 'min_samples_leaf': 2}. Best is trial 13 with value: 0.9125.\n",
            "[I 2024-02-16 13:26:24,788] Trial 52 finished with value: 0.859375 and parameters: {'n_estimators': 875, 'max_depth': 36, 'min_samples_split': 2, 'random_state': 42, 'min_samples_leaf': 4}. Best is trial 13 with value: 0.9125.\n",
            "[I 2024-02-16 13:26:33,468] Trial 53 finished with value: 0.890625 and parameters: {'n_estimators': 964, 'max_depth': 19, 'min_samples_split': 4, 'random_state': 42, 'min_samples_leaf': 2}. Best is trial 13 with value: 0.9125.\n",
            "[I 2024-02-16 13:26:41,724] Trial 54 finished with value: 0.89375 and parameters: {'n_estimators': 924, 'max_depth': 25, 'min_samples_split': 6, 'random_state': 42, 'min_samples_leaf': 1}. Best is trial 13 with value: 0.9125.\n",
            "[I 2024-02-16 13:26:48,830] Trial 55 finished with value: 0.86875 and parameters: {'n_estimators': 815, 'max_depth': 34, 'min_samples_split': 3, 'random_state': 42, 'min_samples_leaf': 3}. Best is trial 13 with value: 0.9125.\n",
            "[I 2024-02-16 13:26:56,124] Trial 56 finished with value: 0.784375 and parameters: {'n_estimators': 901, 'max_depth': 40, 'min_samples_split': 16, 'random_state': 42, 'min_samples_leaf': 5}. Best is trial 13 with value: 0.9125.\n",
            "[I 2024-02-16 13:27:01,570] Trial 57 finished with value: 0.85625 and parameters: {'n_estimators': 649, 'max_depth': 23, 'min_samples_split': 9, 'random_state': 42, 'min_samples_leaf': 4}. Best is trial 13 with value: 0.9125.\n",
            "[I 2024-02-16 13:27:06,876] Trial 58 finished with value: 0.590625 and parameters: {'n_estimators': 755, 'max_depth': 15, 'min_samples_split': 5, 'random_state': 42, 'min_samples_leaf': 27}. Best is trial 13 with value: 0.9125.\n",
            "[I 2024-02-16 13:27:15,822] Trial 59 finished with value: 0.8875 and parameters: {'n_estimators': 969, 'max_depth': 20, 'min_samples_split': 6, 'random_state': 42, 'min_samples_leaf': 2}. Best is trial 13 with value: 0.9125.\n",
            "[I 2024-02-16 13:27:23,291] Trial 60 finished with value: 0.81875 and parameters: {'n_estimators': 923, 'max_depth': 37, 'min_samples_split': 8, 'random_state': 42, 'min_samples_leaf': 6}. Best is trial 13 with value: 0.9125.\n",
            "[I 2024-02-16 13:27:31,721] Trial 61 finished with value: 0.896875 and parameters: {'n_estimators': 935, 'max_depth': 38, 'min_samples_split': 4, 'random_state': 42, 'min_samples_leaf': 2}. Best is trial 13 with value: 0.9125.\n",
            "[I 2024-02-16 13:27:40,766] Trial 62 finished with value: 0.90625 and parameters: {'n_estimators': 972, 'max_depth': 38, 'min_samples_split': 2, 'random_state': 42, 'min_samples_leaf': 1}. Best is trial 13 with value: 0.9125.\n",
            "[I 2024-02-16 13:27:49,702] Trial 63 finished with value: 0.903125 and parameters: {'n_estimators': 972, 'max_depth': 42, 'min_samples_split': 3, 'random_state': 42, 'min_samples_leaf': 1}. Best is trial 13 with value: 0.9125.\n",
            "[I 2024-02-16 13:27:58,959] Trial 64 finished with value: 0.9125 and parameters: {'n_estimators': 1000, 'max_depth': 44, 'min_samples_split': 2, 'random_state': 42, 'min_samples_leaf': 1}. Best is trial 13 with value: 0.9125.\n",
            "[I 2024-02-16 13:28:07,154] Trial 65 finished with value: 0.853125 and parameters: {'n_estimators': 981, 'max_depth': 44, 'min_samples_split': 2, 'random_state': 42, 'min_samples_leaf': 4}. Best is trial 13 with value: 0.9125.\n",
            "[I 2024-02-16 13:28:16,349] Trial 66 finished with value: 0.90625 and parameters: {'n_estimators': 972, 'max_depth': 47, 'min_samples_split': 2, 'random_state': 42, 'min_samples_leaf': 1}. Best is trial 13 with value: 0.9125.\n",
            "[I 2024-02-16 13:28:25,162] Trial 67 finished with value: 0.8875 and parameters: {'n_estimators': 996, 'max_depth': 47, 'min_samples_split': 2, 'random_state': 42, 'min_samples_leaf': 3}. Best is trial 13 with value: 0.9125.\n",
            "[I 2024-02-16 13:28:32,322] Trial 68 finished with value: 0.775 and parameters: {'n_estimators': 897, 'max_depth': 47, 'min_samples_split': 19, 'random_state': 42, 'min_samples_leaf': 5}. Best is trial 13 with value: 0.9125.\n",
            "[I 2024-02-16 13:28:39,941] Trial 69 finished with value: 0.796875 and parameters: {'n_estimators': 970, 'max_depth': 49, 'min_samples_split': 3, 'random_state': 42, 'min_samples_leaf': 7}. Best is trial 13 with value: 0.9125.\n",
            "[I 2024-02-16 13:28:48,960] Trial 70 finished with value: 0.90625 and parameters: {'n_estimators': 973, 'max_depth': 46, 'min_samples_split': 2, 'random_state': 42, 'min_samples_leaf': 1}. Best is trial 13 with value: 0.9125.\n",
            "[I 2024-02-16 13:28:58,147] Trial 71 finished with value: 0.9125 and parameters: {'n_estimators': 998, 'max_depth': 46, 'min_samples_split': 2, 'random_state': 42, 'min_samples_leaf': 1}. Best is trial 13 with value: 0.9125.\n",
            "[I 2024-02-16 13:29:06,858] Trial 72 finished with value: 0.8875 and parameters: {'n_estimators': 999, 'max_depth': 45, 'min_samples_split': 2, 'random_state': 42, 'min_samples_leaf': 3}. Best is trial 13 with value: 0.9125.\n",
            "[I 2024-02-16 13:29:15,016] Trial 73 finished with value: 0.890625 and parameters: {'n_estimators': 919, 'max_depth': 46, 'min_samples_split': 5, 'random_state': 42, 'min_samples_leaf': 2}. Best is trial 13 with value: 0.9125.\n",
            "[I 2024-02-16 13:29:23,285] Trial 74 finished with value: 0.859375 and parameters: {'n_estimators': 952, 'max_depth': 49, 'min_samples_split': 2, 'random_state': 42, 'min_samples_leaf': 4}. Best is trial 13 with value: 0.9125.\n",
            "[I 2024-02-16 13:29:25,450] Trial 75 finished with value: 0.86875 and parameters: {'n_estimators': 218, 'max_depth': 43, 'min_samples_split': 5, 'random_state': 42, 'min_samples_leaf': 1}. Best is trial 13 with value: 0.9125.\n",
            "[I 2024-02-16 13:29:33,168] Trial 76 finished with value: 0.875 and parameters: {'n_estimators': 889, 'max_depth': 48, 'min_samples_split': 3, 'random_state': 42, 'min_samples_leaf': 3}. Best is trial 13 with value: 0.9125.\n",
            "[I 2024-02-16 13:29:42,554] Trial 77 finished with value: 0.90625 and parameters: {'n_estimators': 973, 'max_depth': 46, 'min_samples_split': 2, 'random_state': 42, 'min_samples_leaf': 1}. Best is trial 13 with value: 0.9125.\n",
            "[I 2024-02-16 13:29:50,797] Trial 78 finished with value: 0.896875 and parameters: {'n_estimators': 925, 'max_depth': 27, 'min_samples_split': 3, 'random_state': 42, 'min_samples_leaf': 2}. Best is trial 13 with value: 0.9125.\n",
            "[I 2024-02-16 13:29:57,583] Trial 79 finished with value: 0.81875 and parameters: {'n_estimators': 834, 'max_depth': 21, 'min_samples_split': 13, 'random_state': 42, 'min_samples_leaf': 5}. Best is trial 13 with value: 0.9125.\n",
            "[I 2024-02-16 13:30:05,833] Trial 80 finished with value: 0.8875 and parameters: {'n_estimators': 944, 'max_depth': 24, 'min_samples_split': 4, 'random_state': 42, 'min_samples_leaf': 3}. Best is trial 13 with value: 0.9125.\n",
            "[I 2024-02-16 13:30:14,789] Trial 81 finished with value: 0.909375 and parameters: {'n_estimators': 971, 'max_depth': 46, 'min_samples_split': 2, 'random_state': 42, 'min_samples_leaf': 1}. Best is trial 13 with value: 0.9125.\n",
            "[I 2024-02-16 13:30:23,824] Trial 82 finished with value: 0.90625 and parameters: {'n_estimators': 979, 'max_depth': 48, 'min_samples_split': 2, 'random_state': 42, 'min_samples_leaf': 1}. Best is trial 13 with value: 0.9125.\n",
            "[I 2024-02-16 13:30:30,850] Trial 83 finished with value: 0.6625 and parameters: {'n_estimators': 953, 'max_depth': 44, 'min_samples_split': 3, 'random_state': 42, 'min_samples_leaf': 22}. Best is trial 13 with value: 0.9125.\n",
            "[I 2024-02-16 13:30:39,982] Trial 84 finished with value: 0.89375 and parameters: {'n_estimators': 997, 'max_depth': 50, 'min_samples_split': 5, 'random_state': 42, 'min_samples_leaf': 1}. Best is trial 13 with value: 0.9125.\n",
            "[I 2024-02-16 13:30:47,375] Trial 85 finished with value: 0.859375 and parameters: {'n_estimators': 881, 'max_depth': 46, 'min_samples_split': 6, 'random_state': 42, 'min_samples_leaf': 4}. Best is trial 13 with value: 0.9125.\n",
            "[I 2024-02-16 13:30:54,790] Trial 86 finished with value: 0.721875 and parameters: {'n_estimators': 912, 'max_depth': 42, 'min_samples_split': 24, 'random_state': 42, 'min_samples_leaf': 2}. Best is trial 13 with value: 0.9125.\n",
            "[I 2024-02-16 13:31:02,361] Trial 87 finished with value: 0.6875 and parameters: {'n_estimators': 937, 'max_depth': 43, 'min_samples_split': 32, 'random_state': 42, 'min_samples_leaf': 3}. Best is trial 13 with value: 0.9125.\n",
            "[I 2024-02-16 13:31:11,257] Trial 88 finished with value: 0.890625 and parameters: {'n_estimators': 982, 'max_depth': 17, 'min_samples_split': 4, 'random_state': 42, 'min_samples_leaf': 1}. Best is trial 13 with value: 0.9125.\n",
            "[I 2024-02-16 13:31:19,819] Trial 89 finished with value: 0.89375 and parameters: {'n_estimators': 963, 'max_depth': 22, 'min_samples_split': 2, 'random_state': 42, 'min_samples_leaf': 2}. Best is trial 13 with value: 0.9125.\n",
            "[I 2024-02-16 13:31:27,131] Trial 90 finished with value: 0.8625 and parameters: {'n_estimators': 863, 'max_depth': 49, 'min_samples_split': 3, 'random_state': 42, 'min_samples_leaf': 4}. Best is trial 13 with value: 0.9125.\n",
            "[I 2024-02-16 13:31:36,588] Trial 91 finished with value: 0.90625 and parameters: {'n_estimators': 979, 'max_depth': 46, 'min_samples_split': 2, 'random_state': 42, 'min_samples_leaf': 1}. Best is trial 13 with value: 0.9125.\n",
            "[I 2024-02-16 13:31:43,892] Trial 92 finished with value: 0.70625 and parameters: {'n_estimators': 999, 'max_depth': 45, 'min_samples_split': 4, 'random_state': 42, 'min_samples_leaf': 16}. Best is trial 13 with value: 0.9125.\n",
            "[I 2024-02-16 13:31:52,256] Trial 93 finished with value: 0.896875 and parameters: {'n_estimators': 938, 'max_depth': 47, 'min_samples_split': 2, 'random_state': 42, 'min_samples_leaf': 2}. Best is trial 13 with value: 0.9125.\n",
            "[I 2024-02-16 13:32:01,079] Trial 94 finished with value: 0.9 and parameters: {'n_estimators': 960, 'max_depth': 44, 'min_samples_split': 3, 'random_state': 42, 'min_samples_leaf': 1}. Best is trial 13 with value: 0.9125.\n",
            "[I 2024-02-16 13:32:09,536] Trial 95 finished with value: 0.9125 and parameters: {'n_estimators': 916, 'max_depth': 46, 'min_samples_split': 2, 'random_state': 42, 'min_samples_leaf': 1}. Best is trial 13 with value: 0.9125.\n",
            "[I 2024-02-16 13:32:17,346] Trial 96 finished with value: 0.88125 and parameters: {'n_estimators': 907, 'max_depth': 25, 'min_samples_split': 4, 'random_state': 42, 'min_samples_leaf': 3}. Best is trial 13 with value: 0.9125.\n",
            "[I 2024-02-16 13:32:25,485] Trial 97 finished with value: 0.884375 and parameters: {'n_estimators': 933, 'max_depth': 19, 'min_samples_split': 6, 'random_state': 42, 'min_samples_leaf': 2}. Best is trial 13 with value: 0.9125.\n",
            "[I 2024-02-16 13:32:33,180] Trial 98 finished with value: 0.821875 and parameters: {'n_estimators': 957, 'max_depth': 41, 'min_samples_split': 3, 'random_state': 42, 'min_samples_leaf': 6}. Best is trial 13 with value: 0.9125.\n",
            "[I 2024-02-16 13:32:35,955] Trial 99 finished with value: 0.84375 and parameters: {'n_estimators': 327, 'max_depth': 50, 'min_samples_split': 5, 'random_state': 42, 'min_samples_leaf': 5}. Best is trial 13 with value: 0.9125.\n"
          ]
        },
        {
          "name": "stdout",
          "output_type": "stream",
          "text": [
            "Best params found : {'n_estimators': 996, 'max_depth': 21, 'min_samples_split': 2, 'random_state': 42, 'min_samples_leaf': 1}\n"
          ]
        },
        {
          "data": {
            "text/plain": [
              "0.925"
            ]
          },
          "execution_count": 140,
          "metadata": {},
          "output_type": "execute_result"
        }
      ],
      "source": [
        "study = optuna.create_study(direction = 'maximize')\n",
        "study.optimize(objective, n_trials = 100)\n",
        "best_params = study.best_params\n",
        "print(\"Best params found :\", best_params)\n",
        "\n",
        "final_model = RandomForestClassifier(**best_params)\n",
        "final_model.fit(X_train_reduced, y_train)\n",
        "y_pred = final_model.predict(X_test_reduced)\n",
        "accuracy_score(y_test, y_pred)"
      ]
    },
    {
      "cell_type": "code",
      "execution_count": 141,
      "metadata": {
        "execution": {
          "iopub.execute_input": "2024-02-13T16:59:36.601788Z",
          "iopub.status.busy": "2024-02-13T16:59:36.601296Z",
          "iopub.status.idle": "2024-02-13T16:59:39.792673Z"
        },
        "id": "HvLn9CnCZocY",
        "outputId": "186f602c-942d-411f-f37a-ddbdb4165c42",
        "trusted": true
      },
      "outputs": [
        {
          "name": "stdout",
          "output_type": "stream",
          "text": [
            "accuracy: 0.925\n",
            "recall: 0.9421296296296295\n",
            "precision: 0.9472222222222223\n",
            "f1-score: 0.9298280423280423\n",
            "roc_auc:  0.969994067699764\n"
          ]
        }
      ],
      "source": [
        "final_model = RandomForestClassifier(**best_params)\n",
        "final_model.fit(X_train_reduced, y_train)\n",
        "y_pred = final_model.predict(X_test_reduced)\n",
        "prediction_results['random forest'] = y_pred\n",
        "\n",
        "accuracy = accuracy_score(y_test, y_pred)\n",
        "precision = precision_score(y_test, y_pred, average='macro')\n",
        "recall = recall_score(y_test, y_pred, average='macro')\n",
        "f1 = f1_score(y_test, y_pred, average='macro')\n",
        "\n",
        "# One-hot encoding for probability calculation (adapt if necessary)\n",
        "y_test_onehot = pd.get_dummies(y_test, prefix='label_')  # Assuming 'label_' prefix for clarity\n",
        "y_pred_onehot = pd.get_dummies(y_pred, prefix='label_')\n",
        "\n",
        "# ROC AUC score with multiclass handling\n",
        "roc_auc_macro = roc_auc_score(y_test_onehot, y_pred_onehot, average='macro', multi_class='ovo')  # Specify 'ovo' or 'ovr'\n",
        "\n",
        "print(\"accuracy:\", accuracy)\n",
        "print(\"recall:\", recall)\n",
        "print(\"precision:\", precision)\n",
        "print(\"f1-score:\", f1)\n",
        "print('roc_auc: ', roc_auc_macro)"
      ]
    },
    {
      "cell_type": "markdown",
      "metadata": {
        "id": "tcpEfPDrZocZ"
      },
      "source": [
        "# Gassian NB"
      ]
    },
    {
      "cell_type": "markdown",
      "metadata": {
        "id": "uioGxVHmZocZ"
      },
      "source": [
        "**Pre-tunning**"
      ]
    },
    {
      "cell_type": "code",
      "execution_count": 142,
      "metadata": {
        "execution": {
          "iopub.execute_input": "2024-02-13T16:59:39.795101Z",
          "iopub.status.busy": "2024-02-13T16:59:39.793875Z",
          "iopub.status.idle": "2024-02-13T16:59:39.847801Z"
        },
        "id": "fUTe160HZocZ",
        "outputId": "09f09b60-3239-4559-eae4-8cc44c2edc3f",
        "trusted": true
      },
      "outputs": [
        {
          "name": "stdout",
          "output_type": "stream",
          "text": [
            "accuracy: 0.9\n",
            "recall: 0.8851351351351351\n",
            "precision: 0.9022522522522523\n",
            "f1-score: 0.8757614757614758\n",
            "roc_auc:  0.7146765079185132\n"
          ]
        }
      ],
      "source": [
        "from sklearn.naive_bayes import GaussianNB\n",
        "gnb = GaussianNB()\n",
        "gnb.fit(X_train_reduced, y_train)\n",
        "\n",
        "y_pred = gnb.predict(X_test_reduced)\n",
        "\n",
        "accuracy = accuracy_score(y_test, y_pred)\n",
        "precision = precision_score(y_test, y_pred, average='macro')\n",
        "recall = recall_score(y_test, y_pred, average='macro')\n",
        "f1 = f1_score(y_test, y_pred, average='macro')\n",
        "\n",
        "# One-hot encoding for probability calculation (adapt if necessary)\n",
        "y_test_onehot = pd.get_dummies(y_test, prefix='label_')  # Assuming 'label_' prefix for clarity\n",
        "y_pred_onehot = pd.get_dummies(y_pred, prefix='label_')\n",
        "\n",
        "# ROC AUC score with multiclass handling\n",
        "roc_auc_macro = roc_auc_score(y_test_onehot, y_pred_onehot, average='macro', multi_class='ovo')  # Specify 'ovo' or 'ovr'\n",
        "\n",
        "print(\"accuracy:\", accuracy)\n",
        "print(\"recall:\", recall)\n",
        "print(\"precision:\", precision)\n",
        "print(\"f1-score:\", f1)\n",
        "print('roc_auc: ', roc_auc_macro)\n"
      ]
    },
    {
      "cell_type": "markdown",
      "metadata": {
        "id": "JRG7dGQUZocZ"
      },
      "source": [
        "**Tunning**"
      ]
    },
    {
      "cell_type": "code",
      "execution_count": 143,
      "metadata": {
        "execution": {
          "iopub.execute_input": "2024-02-13T16:59:39.849400Z",
          "iopub.status.busy": "2024-02-13T16:59:39.849078Z",
          "iopub.status.idle": "2024-02-13T16:59:39.856052Z"
        },
        "id": "_tWof9reZoca",
        "trusted": true
      },
      "outputs": [],
      "source": [
        "def objective(trial):\n",
        "    hyperparams = {\n",
        "        'var_smoothing': trial.suggest_float('var_smoothing', 1e-9, 1e-4, log = True)\n",
        "    }\n",
        "\n",
        "    model = GaussianNB(**hyperparams)\n",
        "    scores = cross_val_score(model, X_train_reduced, y_train, cv = kf,scoring = 'accuracy')\n",
        "    return np.mean(scores)"
      ]
    },
    {
      "cell_type": "code",
      "execution_count": 144,
      "metadata": {
        "execution": {
          "iopub.execute_input": "2024-02-13T16:59:39.858557Z",
          "iopub.status.busy": "2024-02-13T16:59:39.858109Z",
          "iopub.status.idle": "2024-02-13T16:59:42.559161Z"
        },
        "id": "-j4_mbxYZoca",
        "outputId": "6e982841-1f9f-4bb3-d65b-03b45c72be61",
        "trusted": true
      },
      "outputs": [
        {
          "name": "stderr",
          "output_type": "stream",
          "text": [
            "[I 2024-02-16 13:32:44,726] A new study created in memory with name: no-name-1b45c393-c3bc-485d-9df9-b0fee11a1cbc\n",
            "[I 2024-02-16 13:32:44,755] Trial 0 finished with value: 0.759375 and parameters: {'var_smoothing': 2.3165040123622865e-05}. Best is trial 0 with value: 0.759375.\n",
            "[I 2024-02-16 13:32:44,784] Trial 1 finished with value: 0.75625 and parameters: {'var_smoothing': 1.0358278426045092e-08}. Best is trial 0 with value: 0.759375.\n",
            "[I 2024-02-16 13:32:44,820] Trial 2 finished with value: 0.75625 and parameters: {'var_smoothing': 5.521505986703645e-08}. Best is trial 0 with value: 0.759375.\n",
            "[I 2024-02-16 13:32:44,849] Trial 3 finished with value: 0.76875 and parameters: {'var_smoothing': 8.199523154052229e-05}. Best is trial 3 with value: 0.76875.\n",
            "[I 2024-02-16 13:32:44,903] Trial 4 finished with value: 0.75625 and parameters: {'var_smoothing': 9.72574556979045e-09}. Best is trial 3 with value: 0.76875.\n",
            "[I 2024-02-16 13:32:44,940] Trial 5 finished with value: 0.75625 and parameters: {'var_smoothing': 1.1403919854172327e-07}. Best is trial 3 with value: 0.76875.\n",
            "[I 2024-02-16 13:32:44,972] Trial 6 finished with value: 0.75625 and parameters: {'var_smoothing': 2.183702586432504e-07}. Best is trial 3 with value: 0.76875.\n",
            "[I 2024-02-16 13:32:44,998] Trial 7 finished with value: 0.75625 and parameters: {'var_smoothing': 5.780311851660369e-09}. Best is trial 3 with value: 0.76875.\n",
            "[I 2024-02-16 13:32:45,023] Trial 8 finished with value: 0.75625 and parameters: {'var_smoothing': 8.704309668424227e-09}. Best is trial 3 with value: 0.76875.\n",
            "[I 2024-02-16 13:32:45,047] Trial 9 finished with value: 0.75625 and parameters: {'var_smoothing': 3.6005551889282764e-09}. Best is trial 3 with value: 0.76875.\n",
            "[I 2024-02-16 13:32:45,072] Trial 10 finished with value: 0.771875 and parameters: {'var_smoothing': 9.821045494689508e-05}. Best is trial 10 with value: 0.771875.\n",
            "[I 2024-02-16 13:32:45,099] Trial 11 finished with value: 0.76875 and parameters: {'var_smoothing': 7.847632288667448e-05}. Best is trial 10 with value: 0.771875.\n",
            "[I 2024-02-16 13:32:45,125] Trial 12 finished with value: 0.759375 and parameters: {'var_smoothing': 9.79613534056039e-06}. Best is trial 10 with value: 0.771875.\n",
            "[I 2024-02-16 13:32:45,151] Trial 13 finished with value: 0.75625 and parameters: {'var_smoothing': 3.1263533255362733e-06}. Best is trial 10 with value: 0.771875.\n",
            "[I 2024-02-16 13:32:45,176] Trial 14 finished with value: 0.75625 and parameters: {'var_smoothing': 1.6243984932212073e-06}. Best is trial 10 with value: 0.771875.\n",
            "[I 2024-02-16 13:32:45,203] Trial 15 finished with value: 0.7625 and parameters: {'var_smoothing': 5.6267870432526514e-05}. Best is trial 10 with value: 0.771875.\n",
            "[I 2024-02-16 13:32:45,229] Trial 16 finished with value: 0.76875 and parameters: {'var_smoothing': 7.706415761088106e-05}. Best is trial 10 with value: 0.771875.\n",
            "[I 2024-02-16 13:32:45,253] Trial 17 finished with value: 0.759375 and parameters: {'var_smoothing': 1.0952936828629545e-05}. Best is trial 10 with value: 0.771875.\n",
            "[I 2024-02-16 13:32:45,279] Trial 18 finished with value: 0.75625 and parameters: {'var_smoothing': 1.1707635241052111e-06}. Best is trial 10 with value: 0.771875.\n",
            "[I 2024-02-16 13:32:45,305] Trial 19 finished with value: 0.759375 and parameters: {'var_smoothing': 2.382037361184377e-05}. Best is trial 10 with value: 0.771875.\n",
            "[I 2024-02-16 13:32:45,329] Trial 20 finished with value: 0.75625 and parameters: {'var_smoothing': 5.156237671571265e-06}. Best is trial 10 with value: 0.771875.\n",
            "[I 2024-02-16 13:32:45,354] Trial 21 finished with value: 0.771875 and parameters: {'var_smoothing': 9.918450421354935e-05}. Best is trial 10 with value: 0.771875.\n",
            "[I 2024-02-16 13:32:45,380] Trial 22 finished with value: 0.76875 and parameters: {'var_smoothing': 8.742651718253641e-05}. Best is trial 10 with value: 0.771875.\n",
            "[I 2024-02-16 13:32:45,405] Trial 23 finished with value: 0.759375 and parameters: {'var_smoothing': 2.5856536672113492e-05}. Best is trial 10 with value: 0.771875.\n",
            "[I 2024-02-16 13:32:45,430] Trial 24 finished with value: 0.759375 and parameters: {'var_smoothing': 3.1550166372914145e-05}. Best is trial 10 with value: 0.771875.\n",
            "[I 2024-02-16 13:32:45,456] Trial 25 finished with value: 0.76875 and parameters: {'var_smoothing': 9.683298544098893e-05}. Best is trial 10 with value: 0.771875.\n",
            "[I 2024-02-16 13:32:45,481] Trial 26 finished with value: 0.759375 and parameters: {'var_smoothing': 1.0752324890423797e-05}. Best is trial 10 with value: 0.771875.\n",
            "[I 2024-02-16 13:32:45,506] Trial 27 finished with value: 0.759375 and parameters: {'var_smoothing': 3.928338912496714e-05}. Best is trial 10 with value: 0.771875.\n",
            "[I 2024-02-16 13:32:45,531] Trial 28 finished with value: 0.759375 and parameters: {'var_smoothing': 1.6505733643926146e-05}. Best is trial 10 with value: 0.771875.\n",
            "[I 2024-02-16 13:32:45,557] Trial 29 finished with value: 0.759375 and parameters: {'var_smoothing': 1.8160828173197022e-05}. Best is trial 10 with value: 0.771875.\n",
            "[I 2024-02-16 13:32:45,583] Trial 30 finished with value: 0.759375 and parameters: {'var_smoothing': 4.2120777234098475e-05}. Best is trial 10 with value: 0.771875.\n",
            "[I 2024-02-16 13:32:45,608] Trial 31 finished with value: 0.771875 and parameters: {'var_smoothing': 9.918287382267303e-05}. Best is trial 10 with value: 0.771875.\n",
            "[I 2024-02-16 13:32:45,633] Trial 32 finished with value: 0.759375 and parameters: {'var_smoothing': 3.9675992895847025e-05}. Best is trial 10 with value: 0.771875.\n",
            "[I 2024-02-16 13:32:45,659] Trial 33 finished with value: 0.7625 and parameters: {'var_smoothing': 5.064863163680138e-05}. Best is trial 10 with value: 0.771875.\n",
            "[I 2024-02-16 13:32:45,685] Trial 34 finished with value: 0.76875 and parameters: {'var_smoothing': 9.159602206285745e-05}. Best is trial 10 with value: 0.771875.\n",
            "[I 2024-02-16 13:32:45,713] Trial 35 finished with value: 0.759375 and parameters: {'var_smoothing': 2.1758978585953303e-05}. Best is trial 10 with value: 0.771875.\n",
            "[I 2024-02-16 13:32:45,742] Trial 36 finished with value: 0.759375 and parameters: {'var_smoothing': 6.8370796375517605e-06}. Best is trial 10 with value: 0.771875.\n",
            "[I 2024-02-16 13:32:45,769] Trial 37 finished with value: 0.759375 and parameters: {'var_smoothing': 3.412629273057492e-05}. Best is trial 10 with value: 0.771875.\n",
            "[I 2024-02-16 13:32:45,796] Trial 38 finished with value: 0.75625 and parameters: {'var_smoothing': 2.6635767872188568e-08}. Best is trial 10 with value: 0.771875.\n",
            "[I 2024-02-16 13:32:45,821] Trial 39 finished with value: 0.75625 and parameters: {'var_smoothing': 1.261431404937113e-09}. Best is trial 10 with value: 0.771875.\n",
            "[I 2024-02-16 13:32:45,847] Trial 40 finished with value: 0.759375 and parameters: {'var_smoothing': 1.571897695704837e-05}. Best is trial 10 with value: 0.771875.\n",
            "[I 2024-02-16 13:32:45,872] Trial 41 finished with value: 0.771875 and parameters: {'var_smoothing': 9.925906422828467e-05}. Best is trial 10 with value: 0.771875.\n",
            "[I 2024-02-16 13:32:45,897] Trial 42 finished with value: 0.7625 and parameters: {'var_smoothing': 5.535995816185593e-05}. Best is trial 10 with value: 0.771875.\n",
            "[I 2024-02-16 13:32:45,925] Trial 43 finished with value: 0.76875 and parameters: {'var_smoothing': 9.182811509315036e-05}. Best is trial 10 with value: 0.771875.\n",
            "[I 2024-02-16 13:32:45,955] Trial 44 finished with value: 0.7625 and parameters: {'var_smoothing': 5.5148578723992686e-05}. Best is trial 10 with value: 0.771875.\n",
            "[I 2024-02-16 13:32:45,985] Trial 45 finished with value: 0.759375 and parameters: {'var_smoothing': 2.915543731226766e-05}. Best is trial 10 with value: 0.771875.\n",
            "[I 2024-02-16 13:32:46,014] Trial 46 finished with value: 0.7625 and parameters: {'var_smoothing': 5.575127175492146e-05}. Best is trial 10 with value: 0.771875.\n",
            "[I 2024-02-16 13:32:46,041] Trial 47 finished with value: 0.759375 and parameters: {'var_smoothing': 1.5836084339042127e-05}. Best is trial 10 with value: 0.771875.\n",
            "[I 2024-02-16 13:32:46,068] Trial 48 finished with value: 0.765625 and parameters: {'var_smoothing': 6.32611781339358e-05}. Best is trial 10 with value: 0.771875.\n",
            "[I 2024-02-16 13:32:46,094] Trial 49 finished with value: 0.76875 and parameters: {'var_smoothing': 9.456345102199363e-05}. Best is trial 10 with value: 0.771875.\n",
            "[I 2024-02-16 13:32:46,120] Trial 50 finished with value: 0.759375 and parameters: {'var_smoothing': 2.9221576002209756e-05}. Best is trial 10 with value: 0.771875.\n",
            "[I 2024-02-16 13:32:46,145] Trial 51 finished with value: 0.7625 and parameters: {'var_smoothing': 5.903584311527178e-05}. Best is trial 10 with value: 0.771875.\n",
            "[I 2024-02-16 13:32:46,171] Trial 52 finished with value: 0.771875 and parameters: {'var_smoothing': 9.739573168402771e-05}. Best is trial 10 with value: 0.771875.\n",
            "[I 2024-02-16 13:32:46,197] Trial 53 finished with value: 0.759375 and parameters: {'var_smoothing': 3.8869678958561374e-05}. Best is trial 10 with value: 0.771875.\n",
            "[I 2024-02-16 13:32:46,223] Trial 54 finished with value: 0.771875 and parameters: {'var_smoothing': 9.9577904614194e-05}. Best is trial 10 with value: 0.771875.\n",
            "[I 2024-02-16 13:32:46,248] Trial 55 finished with value: 0.771875 and parameters: {'var_smoothing': 9.932285676924763e-05}. Best is trial 10 with value: 0.771875.\n",
            "[I 2024-02-16 13:32:46,273] Trial 56 finished with value: 0.7625 and parameters: {'var_smoothing': 6.072383800088887e-05}. Best is trial 10 with value: 0.771875.\n",
            "[I 2024-02-16 13:32:46,299] Trial 57 finished with value: 0.759375 and parameters: {'var_smoothing': 2.474534801106986e-05}. Best is trial 10 with value: 0.771875.\n",
            "[I 2024-02-16 13:32:46,325] Trial 58 finished with value: 0.759375 and parameters: {'var_smoothing': 4.2207731900202e-05}. Best is trial 10 with value: 0.771875.\n",
            "[I 2024-02-16 13:32:46,350] Trial 59 finished with value: 0.765625 and parameters: {'var_smoothing': 6.922030874428894e-05}. Best is trial 10 with value: 0.771875.\n",
            "[I 2024-02-16 13:32:46,375] Trial 60 finished with value: 0.759375 and parameters: {'var_smoothing': 1.2024806861924066e-05}. Best is trial 10 with value: 0.771875.\n",
            "[I 2024-02-16 13:32:46,399] Trial 61 finished with value: 0.771875 and parameters: {'var_smoothing': 9.986017614640883e-05}. Best is trial 10 with value: 0.771875.\n",
            "[I 2024-02-16 13:32:46,426] Trial 62 finished with value: 0.765625 and parameters: {'var_smoothing': 7.038448026216198e-05}. Best is trial 10 with value: 0.771875.\n",
            "[I 2024-02-16 13:32:46,451] Trial 63 finished with value: 0.76875 and parameters: {'var_smoothing': 9.627463703549072e-05}. Best is trial 10 with value: 0.771875.\n",
            "[I 2024-02-16 13:32:46,475] Trial 64 finished with value: 0.759375 and parameters: {'var_smoothing': 3.855587017242358e-05}. Best is trial 10 with value: 0.771875.\n",
            "[I 2024-02-16 13:32:46,500] Trial 65 finished with value: 0.759375 and parameters: {'var_smoothing': 2.5614428138395686e-05}. Best is trial 10 with value: 0.771875.\n",
            "[I 2024-02-16 13:32:46,526] Trial 66 finished with value: 0.7625 and parameters: {'var_smoothing': 4.9118035295272753e-05}. Best is trial 10 with value: 0.771875.\n",
            "[I 2024-02-16 13:32:46,550] Trial 67 finished with value: 0.765625 and parameters: {'var_smoothing': 7.148655954403625e-05}. Best is trial 10 with value: 0.771875.\n",
            "[I 2024-02-16 13:32:46,576] Trial 68 finished with value: 0.759375 and parameters: {'var_smoothing': 2.0461964737967735e-05}. Best is trial 10 with value: 0.771875.\n",
            "[I 2024-02-16 13:32:46,601] Trial 69 finished with value: 0.771875 and parameters: {'var_smoothing': 9.975686499909337e-05}. Best is trial 10 with value: 0.771875.\n",
            "[I 2024-02-16 13:32:46,626] Trial 70 finished with value: 0.759375 and parameters: {'var_smoothing': 3.5807471097634276e-05}. Best is trial 10 with value: 0.771875.\n",
            "[I 2024-02-16 13:32:46,650] Trial 71 finished with value: 0.765625 and parameters: {'var_smoothing': 6.873962804694796e-05}. Best is trial 10 with value: 0.771875.\n",
            "[I 2024-02-16 13:32:46,676] Trial 72 finished with value: 0.771875 and parameters: {'var_smoothing': 9.955448424718096e-05}. Best is trial 10 with value: 0.771875.\n",
            "[I 2024-02-16 13:32:46,701] Trial 73 finished with value: 0.7625 and parameters: {'var_smoothing': 4.500621366028331e-05}. Best is trial 10 with value: 0.771875.\n",
            "[I 2024-02-16 13:32:46,726] Trial 74 finished with value: 0.765625 and parameters: {'var_smoothing': 7.065056409086544e-05}. Best is trial 10 with value: 0.771875.\n",
            "[I 2024-02-16 13:32:46,751] Trial 75 finished with value: 0.759375 and parameters: {'var_smoothing': 3.513868210184922e-05}. Best is trial 10 with value: 0.771875.\n",
            "[I 2024-02-16 13:32:46,776] Trial 76 finished with value: 0.7625 and parameters: {'var_smoothing': 5.134463757313856e-05}. Best is trial 10 with value: 0.771875.\n",
            "[I 2024-02-16 13:32:46,802] Trial 77 finished with value: 0.759375 and parameters: {'var_smoothing': 2.650810385609623e-05}. Best is trial 10 with value: 0.771875.\n",
            "[I 2024-02-16 13:32:46,827] Trial 78 finished with value: 0.765625 and parameters: {'var_smoothing': 7.283288218352522e-05}. Best is trial 10 with value: 0.771875.\n",
            "[I 2024-02-16 13:32:46,853] Trial 79 finished with value: 0.7625 and parameters: {'var_smoothing': 4.699581118416152e-05}. Best is trial 10 with value: 0.771875.\n",
            "[I 2024-02-16 13:32:46,878] Trial 80 finished with value: 0.759375 and parameters: {'var_smoothing': 1.9507326038010952e-05}. Best is trial 10 with value: 0.771875.\n",
            "[I 2024-02-16 13:32:46,903] Trial 81 finished with value: 0.76875 and parameters: {'var_smoothing': 9.424590137257267e-05}. Best is trial 10 with value: 0.771875.\n",
            "[I 2024-02-16 13:32:46,929] Trial 82 finished with value: 0.76875 and parameters: {'var_smoothing': 9.650079627337714e-05}. Best is trial 10 with value: 0.771875.\n",
            "[I 2024-02-16 13:32:46,957] Trial 83 finished with value: 0.765625 and parameters: {'var_smoothing': 6.652055675009163e-05}. Best is trial 10 with value: 0.771875.\n",
            "[I 2024-02-16 13:32:46,982] Trial 84 finished with value: 0.765625 and parameters: {'var_smoothing': 7.510223557302735e-05}. Best is trial 10 with value: 0.771875.\n",
            "[I 2024-02-16 13:32:47,008] Trial 85 finished with value: 0.771875 and parameters: {'var_smoothing': 9.871297695308366e-05}. Best is trial 10 with value: 0.771875.\n",
            "[I 2024-02-16 13:32:47,032] Trial 86 finished with value: 0.7625 and parameters: {'var_smoothing': 5.1242915205488544e-05}. Best is trial 10 with value: 0.771875.\n",
            "[I 2024-02-16 13:32:47,058] Trial 87 finished with value: 0.759375 and parameters: {'var_smoothing': 2.9585385898114884e-05}. Best is trial 10 with value: 0.771875.\n",
            "[I 2024-02-16 13:32:47,083] Trial 88 finished with value: 0.7625 and parameters: {'var_smoothing': 4.7499974298975395e-05}. Best is trial 10 with value: 0.771875.\n",
            "[I 2024-02-16 13:32:47,110] Trial 89 finished with value: 0.759375 and parameters: {'var_smoothing': 3.239655027466054e-05}. Best is trial 10 with value: 0.771875.\n",
            "[I 2024-02-16 13:32:47,135] Trial 90 finished with value: 0.76875 and parameters: {'var_smoothing': 7.737317726237227e-05}. Best is trial 10 with value: 0.771875.\n",
            "[I 2024-02-16 13:32:47,161] Trial 91 finished with value: 0.771875 and parameters: {'var_smoothing': 9.80218384165873e-05}. Best is trial 10 with value: 0.771875.\n",
            "[I 2024-02-16 13:32:47,187] Trial 92 finished with value: 0.7625 and parameters: {'var_smoothing': 5.8218797730237266e-05}. Best is trial 10 with value: 0.771875.\n",
            "[I 2024-02-16 13:32:47,212] Trial 93 finished with value: 0.765625 and parameters: {'var_smoothing': 7.22051691875712e-05}. Best is trial 10 with value: 0.771875.\n",
            "[I 2024-02-16 13:32:47,239] Trial 94 finished with value: 0.771875 and parameters: {'var_smoothing': 9.838485969847973e-05}. Best is trial 10 with value: 0.771875.\n",
            "[I 2024-02-16 13:32:47,264] Trial 95 finished with value: 0.7625 and parameters: {'var_smoothing': 4.417684458079011e-05}. Best is trial 10 with value: 0.771875.\n",
            "[I 2024-02-16 13:32:47,290] Trial 96 finished with value: 0.7625 and parameters: {'var_smoothing': 5.6587337893537435e-05}. Best is trial 10 with value: 0.771875.\n",
            "[I 2024-02-16 13:32:47,316] Trial 97 finished with value: 0.76875 and parameters: {'var_smoothing': 8.058806962460374e-05}. Best is trial 10 with value: 0.771875.\n",
            "[I 2024-02-16 13:32:47,341] Trial 98 finished with value: 0.759375 and parameters: {'var_smoothing': 3.68700870898856e-05}. Best is trial 10 with value: 0.771875.\n",
            "[I 2024-02-16 13:32:47,365] Trial 99 finished with value: 0.7625 and parameters: {'var_smoothing': 5.89564815568233e-05}. Best is trial 10 with value: 0.771875.\n"
          ]
        },
        {
          "name": "stdout",
          "output_type": "stream",
          "text": [
            "Best params found : {'var_smoothing': 9.821045494689508e-05}\n",
            "accuracy: 0.9125\n",
            "recall: 0.894144144144144\n",
            "precision: 0.9040540540540541\n",
            "f1-score: 0.8858000858000857\n",
            "roc_auc:  0.7146765079185131\n"
          ]
        }
      ],
      "source": [
        "study = optuna.create_study(direction = 'maximize')\n",
        "study.optimize(objective, n_trials = 100)\n",
        "best_params = study.best_params\n",
        "print(\"Best params found :\", best_params)\n",
        "\n",
        "final_model = GaussianNB(**best_params)\n",
        "final_model.fit(X_train_reduced, y_train)\n",
        "y_pred = final_model.predict(X_test_reduced)\n",
        "prediction_results['gnb'] = y_pred\n",
        "\n",
        "accuracy = accuracy_score(y_test, y_pred)\n",
        "precision = precision_score(y_test, y_pred, average='macro')\n",
        "recall = recall_score(y_test, y_pred, average='macro')\n",
        "f1 = f1_score(y_test, y_pred, average='macro')\n",
        "\n",
        "# One-hot encoding for probability calculation (adapt if necessary)\n",
        "y_test_onehot = pd.get_dummies(y_test, prefix='label_')  # Assuming 'label_' prefix for clarity\n",
        "y_pred_onehot = pd.get_dummies(y_pred, prefix='label_')\n",
        "\n",
        "# ROC AUC score with multiclass handling\n",
        "roc_auc_macro = roc_auc_score(y_test_onehot, y_pred_onehot, average='macro', multi_class='ovo')  # Specify 'ovo' or 'ovr'\n",
        "\n",
        "print(\"accuracy:\", accuracy)\n",
        "print(\"recall:\", recall)\n",
        "print(\"precision:\", precision)\n",
        "print(\"f1-score:\", f1)\n",
        "print('roc_auc: ', roc_auc_macro)"
      ]
    },
    {
      "cell_type": "markdown",
      "metadata": {
        "id": "u32WTAUGZoca"
      },
      "source": [
        "# Logistic Regression"
      ]
    },
    {
      "cell_type": "markdown",
      "metadata": {
        "id": "INcny-lFZocb"
      },
      "source": [
        "**Normal**"
      ]
    },
    {
      "cell_type": "code",
      "execution_count": 145,
      "metadata": {
        "execution": {
          "iopub.execute_input": "2024-02-13T16:59:42.562557Z",
          "iopub.status.busy": "2024-02-13T16:59:42.561144Z",
          "iopub.status.idle": "2024-02-13T16:59:46.417956Z"
        },
        "id": "r-S_mTxOZocb",
        "outputId": "2772d080-887c-494b-dbb6-d7f5347de9cc",
        "trusted": true
      },
      "outputs": [
        {
          "name": "stdout",
          "output_type": "stream",
          "text": [
            "accuracy: 0.975\n",
            "recall: 0.9791666666666666\n",
            "precision: 0.9837962962962963\n",
            "f1-score: 0.9772486772486771\n",
            "roc_auc:  0.9892248954748956\n"
          ]
        }
      ],
      "source": [
        "lr = LogisticRegression()\n",
        "lr.fit(X_train_reduced, y_train)\n",
        "y_pred = lr.predict(X_test_reduced)\n",
        "\n",
        "accuracy = accuracy_score(y_test, y_pred)\n",
        "precision = precision_score(y_test, y_pred, average='macro')\n",
        "recall = recall_score(y_test, y_pred, average='macro')\n",
        "f1 = f1_score(y_test, y_pred, average='macro')\n",
        "\n",
        "# One-hot encoding for probability calculation (adapt if necessary)\n",
        "y_test_onehot = pd.get_dummies(y_test, prefix='label_')  # Assuming 'label_' prefix for clarity\n",
        "y_pred_onehot = pd.get_dummies(y_pred, prefix='label_')\n",
        "\n",
        "# ROC AUC score with multiclass handling\n",
        "roc_auc_macro = roc_auc_score(y_test_onehot, y_pred_onehot, average='macro', multi_class='ovo')  # Specify 'ovo' or 'ovr'\n",
        "\n",
        "print(\"accuracy:\", accuracy)\n",
        "print(\"recall:\", recall)\n",
        "print(\"precision:\", precision)\n",
        "print(\"f1-score:\", f1)\n",
        "print('roc_auc: ', roc_auc_macro)"
      ]
    },
    {
      "cell_type": "markdown",
      "metadata": {
        "id": "mKFvtCm0Zocb"
      },
      "source": [
        "**Tunning**"
      ]
    },
    {
      "cell_type": "code",
      "execution_count": 146,
      "metadata": {
        "execution": {
          "iopub.execute_input": "2024-02-13T16:59:46.419819Z",
          "iopub.status.busy": "2024-02-13T16:59:46.419398Z",
          "iopub.status.idle": "2024-02-13T16:59:46.428477Z"
        },
        "id": "uk3LA_VHZocb",
        "trusted": true
      },
      "outputs": [],
      "source": [
        "import optuna\n",
        "from sklearn.model_selection import cross_val_score\n",
        "import warnings\n",
        "warnings.filterwarnings('ignore')\n",
        "\n",
        "\n",
        "def objective(trial):\n",
        "    hyperparams = {\n",
        "        'solver': trial.suggest_categorical('solver', ['lbfgs', 'liblinear', 'newton-cg', 'saga']),\n",
        "        'penalty': trial.suggest_categorical('penalty', ['l2']),\n",
        "        'multi_class': trial.suggest_categorical('multi_class', ['ovr']),\n",
        "        'C': trial.suggest_loguniform(\"C\", 1e-3, 1e3),\n",
        "        'n_jobs': -1\n",
        "    }\n",
        "\n",
        "    model = LogisticRegression(**hyperparams)\n",
        "    scores = cross_val_score(model, X_train_reduced,\n",
        "                             y_train, cv=kf, scoring='accuracy')\n",
        "    return np.mean(scores)"
      ]
    },
    {
      "cell_type": "code",
      "execution_count": 147,
      "metadata": {
        "execution": {
          "iopub.execute_input": "2024-02-13T16:59:46.430749Z",
          "iopub.status.busy": "2024-02-13T16:59:46.430254Z",
          "iopub.status.idle": "2024-02-13T17:13:58.828657Z"
        },
        "id": "OMLQ7x6TZocc",
        "outputId": "dfe73dd1-93b7-44f5-d7eb-023ec925f959",
        "trusted": true
      },
      "outputs": [
        {
          "name": "stderr",
          "output_type": "stream",
          "text": [
            "[I 2024-02-16 13:32:47,578] A new study created in memory with name: no-name-071f9abe-ec4b-43cd-9a5d-3415065d9128\n",
            "[I 2024-02-16 13:32:53,287] Trial 0 finished with value: 0.95625 and parameters: {'solver': 'newton-cg', 'penalty': 'l2', 'multi_class': 'ovr', 'C': 1.7274641203365648}. Best is trial 0 with value: 0.95625.\n",
            "[I 2024-02-16 13:32:56,517] Trial 1 finished with value: 0.915625 and parameters: {'solver': 'newton-cg', 'penalty': 'l2', 'multi_class': 'ovr', 'C': 193.76773143465692}. Best is trial 0 with value: 0.95625.\n",
            "[I 2024-02-16 13:32:57,097] Trial 2 finished with value: 0.971875 and parameters: {'solver': 'lbfgs', 'penalty': 'l2', 'multi_class': 'ovr', 'C': 0.5943618660640917}. Best is trial 2 with value: 0.971875.\n",
            "[I 2024-02-16 13:32:57,695] Trial 3 finished with value: 0.978125 and parameters: {'solver': 'lbfgs', 'penalty': 'l2', 'multi_class': 'ovr', 'C': 0.0035945991220888815}. Best is trial 3 with value: 0.978125.\n",
            "[I 2024-02-16 13:33:02,027] Trial 4 finished with value: 0.91875 and parameters: {'solver': 'liblinear', 'penalty': 'l2', 'multi_class': 'ovr', 'C': 27.112237598665367}. Best is trial 3 with value: 0.978125.\n",
            "[I 2024-02-16 13:33:05,404] Trial 5 finished with value: 0.946875 and parameters: {'solver': 'newton-cg', 'penalty': 'l2', 'multi_class': 'ovr', 'C': 26.806281789625395}. Best is trial 3 with value: 0.978125.\n",
            "[I 2024-02-16 13:33:05,982] Trial 6 finished with value: 0.8375 and parameters: {'solver': 'saga', 'penalty': 'l2', 'multi_class': 'ovr', 'C': 107.1362873061971}. Best is trial 3 with value: 0.978125.\n",
            "[I 2024-02-16 13:33:09,296] Trial 7 finished with value: 0.9375 and parameters: {'solver': 'newton-cg', 'penalty': 'l2', 'multi_class': 'ovr', 'C': 27.993161252734875}. Best is trial 3 with value: 0.978125.\n",
            "[I 2024-02-16 13:33:12,412] Trial 8 finished with value: 0.91875 and parameters: {'solver': 'newton-cg', 'penalty': 'l2', 'multi_class': 'ovr', 'C': 288.9949019673557}. Best is trial 3 with value: 0.978125.\n",
            "[I 2024-02-16 13:33:12,979] Trial 9 finished with value: 0.971875 and parameters: {'solver': 'lbfgs', 'penalty': 'l2', 'multi_class': 'ovr', 'C': 2.092944427453707}. Best is trial 3 with value: 0.978125.\n",
            "[I 2024-02-16 13:33:13,557] Trial 10 finished with value: 0.971875 and parameters: {'solver': 'lbfgs', 'penalty': 'l2', 'multi_class': 'ovr', 'C': 0.006873329952672039}. Best is trial 3 with value: 0.978125.\n",
            "[I 2024-02-16 13:33:14,138] Trial 11 finished with value: 0.975 and parameters: {'solver': 'lbfgs', 'penalty': 'l2', 'multi_class': 'ovr', 'C': 0.00952380705404259}. Best is trial 3 with value: 0.978125.\n",
            "[I 2024-02-16 13:33:14,701] Trial 12 finished with value: 0.978125 and parameters: {'solver': 'lbfgs', 'penalty': 'l2', 'multi_class': 'ovr', 'C': 0.0014312386411360397}. Best is trial 3 with value: 0.978125.\n",
            "[I 2024-02-16 13:33:15,268] Trial 13 finished with value: 0.978125 and parameters: {'solver': 'lbfgs', 'penalty': 'l2', 'multi_class': 'ovr', 'C': 0.0013960866985578287}. Best is trial 3 with value: 0.978125.\n",
            "[I 2024-02-16 13:33:15,763] Trial 14 finished with value: 0.8375 and parameters: {'solver': 'saga', 'penalty': 'l2', 'multi_class': 'ovr', 'C': 0.0010098203980900278}. Best is trial 3 with value: 0.978125.\n",
            "[I 2024-02-16 13:33:18,464] Trial 15 finished with value: 0.8875 and parameters: {'solver': 'liblinear', 'penalty': 'l2', 'multi_class': 'ovr', 'C': 0.029435698996032232}. Best is trial 3 with value: 0.978125.\n",
            "[I 2024-02-16 13:33:19,035] Trial 16 finished with value: 0.971875 and parameters: {'solver': 'lbfgs', 'penalty': 'l2', 'multi_class': 'ovr', 'C': 0.09574774340839297}. Best is trial 3 with value: 0.978125.\n",
            "[I 2024-02-16 13:33:19,640] Trial 17 finished with value: 0.978125 and parameters: {'solver': 'lbfgs', 'penalty': 'l2', 'multi_class': 'ovr', 'C': 0.0038293946195810573}. Best is trial 3 with value: 0.978125.\n",
            "[I 2024-02-16 13:33:20,215] Trial 18 finished with value: 0.971875 and parameters: {'solver': 'lbfgs', 'penalty': 'l2', 'multi_class': 'ovr', 'C': 0.03664813194108409}. Best is trial 3 with value: 0.978125.\n",
            "[I 2024-02-16 13:33:20,733] Trial 19 finished with value: 0.8375 and parameters: {'solver': 'saga', 'penalty': 'l2', 'multi_class': 'ovr', 'C': 0.0029970190644532588}. Best is trial 3 with value: 0.978125.\n",
            "[I 2024-02-16 13:33:22,107] Trial 20 finished with value: 0.8375 and parameters: {'solver': 'liblinear', 'penalty': 'l2', 'multi_class': 'ovr', 'C': 0.0011347246832169482}. Best is trial 3 with value: 0.978125.\n",
            "[I 2024-02-16 13:33:22,745] Trial 21 finished with value: 0.975 and parameters: {'solver': 'lbfgs', 'penalty': 'l2', 'multi_class': 'ovr', 'C': 0.0011156141589155591}. Best is trial 3 with value: 0.978125.\n",
            "[I 2024-02-16 13:33:23,308] Trial 22 finished with value: 0.975 and parameters: {'solver': 'lbfgs', 'penalty': 'l2', 'multi_class': 'ovr', 'C': 0.007245681379849791}. Best is trial 3 with value: 0.978125.\n",
            "[I 2024-02-16 13:33:23,900] Trial 23 finished with value: 0.971875 and parameters: {'solver': 'lbfgs', 'penalty': 'l2', 'multi_class': 'ovr', 'C': 0.019973320815439163}. Best is trial 3 with value: 0.978125.\n",
            "[I 2024-02-16 13:33:24,462] Trial 24 finished with value: 0.975 and parameters: {'solver': 'lbfgs', 'penalty': 'l2', 'multi_class': 'ovr', 'C': 0.0025153383728699586}. Best is trial 3 with value: 0.978125.\n",
            "[I 2024-02-16 13:33:25,056] Trial 25 finished with value: 0.971875 and parameters: {'solver': 'lbfgs', 'penalty': 'l2', 'multi_class': 'ovr', 'C': 0.0920287099618108}. Best is trial 3 with value: 0.978125.\n",
            "[I 2024-02-16 13:33:25,635] Trial 26 finished with value: 0.978125 and parameters: {'solver': 'lbfgs', 'penalty': 'l2', 'multi_class': 'ovr', 'C': 0.003047939893573794}. Best is trial 3 with value: 0.978125.\n",
            "[I 2024-02-16 13:33:26,215] Trial 27 finished with value: 0.971875 and parameters: {'solver': 'lbfgs', 'penalty': 'l2', 'multi_class': 'ovr', 'C': 0.020822668430041904}. Best is trial 3 with value: 0.978125.\n",
            "[I 2024-02-16 13:33:26,716] Trial 28 finished with value: 0.8375 and parameters: {'solver': 'saga', 'penalty': 'l2', 'multi_class': 'ovr', 'C': 0.010448645355321627}. Best is trial 3 with value: 0.978125.\n",
            "[I 2024-02-16 13:33:28,424] Trial 29 finished with value: 0.8375 and parameters: {'solver': 'liblinear', 'penalty': 'l2', 'multi_class': 'ovr', 'C': 0.002174244728004691}. Best is trial 3 with value: 0.978125.\n",
            "[I 2024-02-16 13:33:28,976] Trial 30 finished with value: 0.978125 and parameters: {'solver': 'lbfgs', 'penalty': 'l2', 'multi_class': 'ovr', 'C': 0.005424890759274818}. Best is trial 3 with value: 0.978125.\n",
            "[I 2024-02-16 13:33:29,555] Trial 31 finished with value: 0.978125 and parameters: {'solver': 'lbfgs', 'penalty': 'l2', 'multi_class': 'ovr', 'C': 0.0037343746368016404}. Best is trial 3 with value: 0.978125.\n",
            "[I 2024-02-16 13:33:30,146] Trial 32 finished with value: 0.975 and parameters: {'solver': 'lbfgs', 'penalty': 'l2', 'multi_class': 'ovr', 'C': 0.0010289464393526805}. Best is trial 3 with value: 0.978125.\n",
            "[I 2024-02-16 13:33:30,723] Trial 33 finished with value: 0.978125 and parameters: {'solver': 'lbfgs', 'penalty': 'l2', 'multi_class': 'ovr', 'C': 0.002873025731802124}. Best is trial 3 with value: 0.978125.\n",
            "[I 2024-02-16 13:33:31,300] Trial 34 finished with value: 0.971875 and parameters: {'solver': 'lbfgs', 'penalty': 'l2', 'multi_class': 'ovr', 'C': 0.015346304978807328}. Best is trial 3 with value: 0.978125.\n",
            "[I 2024-02-16 13:33:35,783] Trial 35 finished with value: 0.975 and parameters: {'solver': 'newton-cg', 'penalty': 'l2', 'multi_class': 'ovr', 'C': 0.0067044934543367025}. Best is trial 3 with value: 0.978125.\n",
            "[I 2024-02-16 13:33:36,346] Trial 36 finished with value: 0.96875 and parameters: {'solver': 'lbfgs', 'penalty': 'l2', 'multi_class': 'ovr', 'C': 0.052216306526798026}. Best is trial 3 with value: 0.978125.\n",
            "[I 2024-02-16 13:33:37,990] Trial 37 finished with value: 0.8375 and parameters: {'solver': 'liblinear', 'penalty': 'l2', 'multi_class': 'ovr', 'C': 0.0019783701236235937}. Best is trial 3 with value: 0.978125.\n",
            "[I 2024-02-16 13:33:42,402] Trial 38 finished with value: 0.975 and parameters: {'solver': 'newton-cg', 'penalty': 'l2', 'multi_class': 'ovr', 'C': 0.01291869450103836}. Best is trial 3 with value: 0.978125.\n",
            "[I 2024-02-16 13:33:42,981] Trial 39 finished with value: 0.975 and parameters: {'solver': 'lbfgs', 'penalty': 'l2', 'multi_class': 'ovr', 'C': 0.004922033470865238}. Best is trial 3 with value: 0.978125.\n",
            "[I 2024-02-16 13:33:43,479] Trial 40 finished with value: 0.8375 and parameters: {'solver': 'saga', 'penalty': 'l2', 'multi_class': 'ovr', 'C': 0.23007544343249592}. Best is trial 3 with value: 0.978125.\n",
            "[I 2024-02-16 13:33:44,043] Trial 41 finished with value: 0.975 and parameters: {'solver': 'lbfgs', 'penalty': 'l2', 'multi_class': 'ovr', 'C': 0.003845237435494899}. Best is trial 3 with value: 0.978125.\n",
            "[I 2024-02-16 13:33:44,620] Trial 42 finished with value: 0.975 and parameters: {'solver': 'lbfgs', 'penalty': 'l2', 'multi_class': 'ovr', 'C': 0.0023105968279317156}. Best is trial 3 with value: 0.978125.\n",
            "[I 2024-02-16 13:33:45,228] Trial 43 finished with value: 0.971875 and parameters: {'solver': 'lbfgs', 'penalty': 'l2', 'multi_class': 'ovr', 'C': 0.013084585945241508}. Best is trial 3 with value: 0.978125.\n",
            "[I 2024-02-16 13:33:45,837] Trial 44 finished with value: 0.975 and parameters: {'solver': 'lbfgs', 'penalty': 'l2', 'multi_class': 'ovr', 'C': 0.0019079243791153048}. Best is trial 3 with value: 0.978125.\n",
            "[I 2024-02-16 13:33:46,417] Trial 45 finished with value: 0.975 and parameters: {'solver': 'lbfgs', 'penalty': 'l2', 'multi_class': 'ovr', 'C': 0.00580675254357684}. Best is trial 3 with value: 0.978125.\n",
            "[I 2024-02-16 13:33:51,040] Trial 46 finished with value: 0.975 and parameters: {'solver': 'newton-cg', 'penalty': 'l2', 'multi_class': 'ovr', 'C': 0.0017547311359766866}. Best is trial 3 with value: 0.978125.\n",
            "[I 2024-02-16 13:33:51,603] Trial 47 finished with value: 0.975 and parameters: {'solver': 'lbfgs', 'penalty': 'l2', 'multi_class': 'ovr', 'C': 0.008098711553574127}. Best is trial 3 with value: 0.978125.\n",
            "[I 2024-02-16 13:33:52,164] Trial 48 finished with value: 0.975 and parameters: {'solver': 'lbfgs', 'penalty': 'l2', 'multi_class': 'ovr', 'C': 0.004079594332619964}. Best is trial 3 with value: 0.978125.\n",
            "[I 2024-02-16 13:33:52,689] Trial 49 finished with value: 0.8375 and parameters: {'solver': 'saga', 'penalty': 'l2', 'multi_class': 'ovr', 'C': 0.0010171706994364738}. Best is trial 3 with value: 0.978125.\n",
            "[I 2024-02-16 13:33:55,430] Trial 50 finished with value: 0.890625 and parameters: {'solver': 'liblinear', 'penalty': 'l2', 'multi_class': 'ovr', 'C': 0.03167162955903223}. Best is trial 3 with value: 0.978125.\n",
            "[I 2024-02-16 13:33:56,007] Trial 51 finished with value: 0.975 and parameters: {'solver': 'lbfgs', 'penalty': 'l2', 'multi_class': 'ovr', 'C': 0.004723454203074826}. Best is trial 3 with value: 0.978125.\n",
            "[I 2024-02-16 13:33:56,569] Trial 52 finished with value: 0.975 and parameters: {'solver': 'lbfgs', 'penalty': 'l2', 'multi_class': 'ovr', 'C': 0.009134622768118206}. Best is trial 3 with value: 0.978125.\n",
            "[I 2024-02-16 13:33:57,174] Trial 53 finished with value: 0.975 and parameters: {'solver': 'lbfgs', 'penalty': 'l2', 'multi_class': 'ovr', 'C': 0.0016535292014268107}. Best is trial 3 with value: 0.978125.\n",
            "[I 2024-02-16 13:33:57,723] Trial 54 finished with value: 0.975 and parameters: {'solver': 'lbfgs', 'penalty': 'l2', 'multi_class': 'ovr', 'C': 0.003844880925484498}. Best is trial 3 with value: 0.978125.\n",
            "[I 2024-02-16 13:33:58,300] Trial 55 finished with value: 0.978125 and parameters: {'solver': 'lbfgs', 'penalty': 'l2', 'multi_class': 'ovr', 'C': 0.0015721770763231547}. Best is trial 3 with value: 0.978125.\n",
            "[I 2024-02-16 13:33:58,879] Trial 56 finished with value: 0.971875 and parameters: {'solver': 'lbfgs', 'penalty': 'l2', 'multi_class': 'ovr', 'C': 0.007125836857189415}. Best is trial 3 with value: 0.978125.\n",
            "[I 2024-02-16 13:33:59,469] Trial 57 finished with value: 0.975 and parameters: {'solver': 'lbfgs', 'penalty': 'l2', 'multi_class': 'ovr', 'C': 0.002987679660576143}. Best is trial 3 with value: 0.978125.\n",
            "[I 2024-02-16 13:34:03,974] Trial 58 finished with value: 0.975 and parameters: {'solver': 'newton-cg', 'penalty': 'l2', 'multi_class': 'ovr', 'C': 0.01569772640944957}. Best is trial 3 with value: 0.978125.\n",
            "[I 2024-02-16 13:34:04,547] Trial 59 finished with value: 0.978125 and parameters: {'solver': 'lbfgs', 'penalty': 'l2', 'multi_class': 'ovr', 'C': 0.005287180941810669}. Best is trial 3 with value: 0.978125.\n",
            "[I 2024-02-16 13:34:05,111] Trial 60 finished with value: 0.978125 and parameters: {'solver': 'lbfgs', 'penalty': 'l2', 'multi_class': 'ovr', 'C': 0.0013547234572533417}. Best is trial 3 with value: 0.978125.\n",
            "[I 2024-02-16 13:34:05,691] Trial 61 finished with value: 0.978125 and parameters: {'solver': 'lbfgs', 'penalty': 'l2', 'multi_class': 'ovr', 'C': 0.00357499423686858}. Best is trial 3 with value: 0.978125.\n",
            "[I 2024-02-16 13:34:06,253] Trial 62 finished with value: 0.975 and parameters: {'solver': 'lbfgs', 'penalty': 'l2', 'multi_class': 'ovr', 'C': 0.0026164658791038788}. Best is trial 3 with value: 0.978125.\n",
            "[I 2024-02-16 13:34:06,832] Trial 63 finished with value: 0.978125 and parameters: {'solver': 'lbfgs', 'penalty': 'l2', 'multi_class': 'ovr', 'C': 0.0010006151861619947}. Best is trial 3 with value: 0.978125.\n",
            "[I 2024-02-16 13:34:07,424] Trial 64 finished with value: 0.971875 and parameters: {'solver': 'lbfgs', 'penalty': 'l2', 'multi_class': 'ovr', 'C': 0.009933626644029497}. Best is trial 3 with value: 0.978125.\n",
            "[I 2024-02-16 13:34:09,990] Trial 65 finished with value: 0.875 and parameters: {'solver': 'liblinear', 'penalty': 'l2', 'multi_class': 'ovr', 'C': 0.019684523864531043}. Best is trial 3 with value: 0.978125.\n",
            "[I 2024-02-16 13:34:10,557] Trial 66 finished with value: 0.978125 and parameters: {'solver': 'lbfgs', 'penalty': 'l2', 'multi_class': 'ovr', 'C': 0.002778400099769631}. Best is trial 3 with value: 0.978125.\n",
            "[I 2024-02-16 13:34:11,054] Trial 67 finished with value: 0.8375 and parameters: {'solver': 'saga', 'penalty': 'l2', 'multi_class': 'ovr', 'C': 0.0015902535607171095}. Best is trial 3 with value: 0.978125.\n",
            "[I 2024-02-16 13:34:11,659] Trial 68 finished with value: 0.975 and parameters: {'solver': 'lbfgs', 'penalty': 'l2', 'multi_class': 'ovr', 'C': 0.005934483626364506}. Best is trial 3 with value: 0.978125.\n",
            "[I 2024-02-16 13:34:12,242] Trial 69 finished with value: 0.978125 and parameters: {'solver': 'lbfgs', 'penalty': 'l2', 'multi_class': 'ovr', 'C': 0.0037942469838126583}. Best is trial 3 with value: 0.978125.\n",
            "[I 2024-02-16 13:34:12,806] Trial 70 finished with value: 0.975 and parameters: {'solver': 'lbfgs', 'penalty': 'l2', 'multi_class': 'ovr', 'C': 0.0022343185070166052}. Best is trial 3 with value: 0.978125.\n",
            "[I 2024-02-16 13:34:13,371] Trial 71 finished with value: 0.978125 and parameters: {'solver': 'lbfgs', 'penalty': 'l2', 'multi_class': 'ovr', 'C': 0.0028955993241969844}. Best is trial 3 with value: 0.978125.\n",
            "[I 2024-02-16 13:34:13,963] Trial 72 finished with value: 0.971875 and parameters: {'solver': 'lbfgs', 'penalty': 'l2', 'multi_class': 'ovr', 'C': 0.010421924109911985}. Best is trial 3 with value: 0.978125.\n",
            "[I 2024-02-16 13:34:14,526] Trial 73 finished with value: 0.975 and parameters: {'solver': 'lbfgs', 'penalty': 'l2', 'multi_class': 'ovr', 'C': 0.004939874253953195}. Best is trial 3 with value: 0.978125.\n",
            "[I 2024-02-16 13:34:15,108] Trial 74 finished with value: 0.978125 and parameters: {'solver': 'lbfgs', 'penalty': 'l2', 'multi_class': 'ovr', 'C': 0.0014984740909231257}. Best is trial 3 with value: 0.978125.\n",
            "[I 2024-02-16 13:34:15,689] Trial 75 finished with value: 0.975 and parameters: {'solver': 'lbfgs', 'penalty': 'l2', 'multi_class': 'ovr', 'C': 0.002162129535763004}. Best is trial 3 with value: 0.978125.\n",
            "[I 2024-02-16 13:34:20,260] Trial 76 finished with value: 0.975 and parameters: {'solver': 'newton-cg', 'penalty': 'l2', 'multi_class': 'ovr', 'C': 0.0075230788925872635}. Best is trial 3 with value: 0.978125.\n",
            "[I 2024-02-16 13:34:20,820] Trial 77 finished with value: 0.978125 and parameters: {'solver': 'lbfgs', 'penalty': 'l2', 'multi_class': 'ovr', 'C': 0.0031862361107209583}. Best is trial 3 with value: 0.978125.\n",
            "[I 2024-02-16 13:34:22,266] Trial 78 finished with value: 0.8375 and parameters: {'solver': 'liblinear', 'penalty': 'l2', 'multi_class': 'ovr', 'C': 0.0013061723610296831}. Best is trial 3 with value: 0.978125.\n",
            "[I 2024-02-16 13:34:22,774] Trial 79 finished with value: 0.8375 and parameters: {'solver': 'saga', 'penalty': 'l2', 'multi_class': 'ovr', 'C': 0.01370639930172924}. Best is trial 3 with value: 0.978125.\n",
            "[I 2024-02-16 13:34:23,338] Trial 80 finished with value: 0.978125 and parameters: {'solver': 'lbfgs', 'penalty': 'l2', 'multi_class': 'ovr', 'C': 0.005687861694450056}. Best is trial 3 with value: 0.978125.\n",
            "[I 2024-02-16 13:34:23,915] Trial 81 finished with value: 0.975 and parameters: {'solver': 'lbfgs', 'penalty': 'l2', 'multi_class': 'ovr', 'C': 0.001614261799068012}. Best is trial 3 with value: 0.978125.\n",
            "[I 2024-02-16 13:34:24,492] Trial 82 finished with value: 0.978125 and parameters: {'solver': 'lbfgs', 'penalty': 'l2', 'multi_class': 'ovr', 'C': 0.0022097143636883917}. Best is trial 3 with value: 0.978125.\n",
            "[I 2024-02-16 13:34:25,054] Trial 83 finished with value: 0.975 and parameters: {'solver': 'lbfgs', 'penalty': 'l2', 'multi_class': 'ovr', 'C': 0.0012373642204105348}. Best is trial 3 with value: 0.978125.\n",
            "[I 2024-02-16 13:34:25,618] Trial 84 finished with value: 0.975 and parameters: {'solver': 'lbfgs', 'penalty': 'l2', 'multi_class': 'ovr', 'C': 0.003608763559880226}. Best is trial 3 with value: 0.978125.\n",
            "[I 2024-02-16 13:34:26,209] Trial 85 finished with value: 0.975 and parameters: {'solver': 'lbfgs', 'penalty': 'l2', 'multi_class': 'ovr', 'C': 0.0017914422420329357}. Best is trial 3 with value: 0.978125.\n",
            "[I 2024-02-16 13:34:26,789] Trial 86 finished with value: 0.975 and parameters: {'solver': 'lbfgs', 'penalty': 'l2', 'multi_class': 'ovr', 'C': 0.0046083217546780825}. Best is trial 3 with value: 0.978125.\n",
            "[I 2024-02-16 13:34:27,356] Trial 87 finished with value: 0.975 and parameters: {'solver': 'lbfgs', 'penalty': 'l2', 'multi_class': 'ovr', 'C': 0.0074416269268209375}. Best is trial 3 with value: 0.978125.\n",
            "[I 2024-02-16 13:34:27,919] Trial 88 finished with value: 0.978125 and parameters: {'solver': 'lbfgs', 'penalty': 'l2', 'multi_class': 'ovr', 'C': 0.003058402754719392}. Best is trial 3 with value: 0.978125.\n",
            "[I 2024-02-16 13:34:28,502] Trial 89 finished with value: 0.975 and parameters: {'solver': 'lbfgs', 'penalty': 'l2', 'multi_class': 'ovr', 'C': 0.0010139849229235565}. Best is trial 3 with value: 0.978125.\n",
            "[I 2024-02-16 13:34:32,940] Trial 90 finished with value: 0.975 and parameters: {'solver': 'newton-cg', 'penalty': 'l2', 'multi_class': 'ovr', 'C': 0.0018544032022334502}. Best is trial 3 with value: 0.978125.\n",
            "[I 2024-02-16 13:34:33,488] Trial 91 finished with value: 0.978125 and parameters: {'solver': 'lbfgs', 'penalty': 'l2', 'multi_class': 'ovr', 'C': 0.005334075685442299}. Best is trial 3 with value: 0.978125.\n",
            "[I 2024-02-16 13:34:34,051] Trial 92 finished with value: 0.975 and parameters: {'solver': 'lbfgs', 'penalty': 'l2', 'multi_class': 'ovr', 'C': 0.0047047214560365265}. Best is trial 3 with value: 0.978125.\n",
            "[I 2024-02-16 13:34:34,642] Trial 93 finished with value: 0.971875 and parameters: {'solver': 'lbfgs', 'penalty': 'l2', 'multi_class': 'ovr', 'C': 0.0024807106060473114}. Best is trial 3 with value: 0.978125.\n",
            "[I 2024-02-16 13:34:35,223] Trial 94 finished with value: 0.978125 and parameters: {'solver': 'lbfgs', 'penalty': 'l2', 'multi_class': 'ovr', 'C': 0.0014353258856580058}. Best is trial 3 with value: 0.978125.\n",
            "[I 2024-02-16 13:34:35,788] Trial 95 finished with value: 0.971875 and parameters: {'solver': 'lbfgs', 'penalty': 'l2', 'multi_class': 'ovr', 'C': 0.0065561612895649974}. Best is trial 3 with value: 0.978125.\n",
            "[I 2024-02-16 13:34:36,353] Trial 96 finished with value: 0.975 and parameters: {'solver': 'lbfgs', 'penalty': 'l2', 'multi_class': 'ovr', 'C': 0.010045083036466097}. Best is trial 3 with value: 0.978125.\n",
            "[I 2024-02-16 13:34:38,302] Trial 97 finished with value: 0.840625 and parameters: {'solver': 'liblinear', 'penalty': 'l2', 'multi_class': 'ovr', 'C': 0.0036380754878994736}. Best is trial 3 with value: 0.978125.\n",
            "[I 2024-02-16 13:34:38,882] Trial 98 finished with value: 0.975 and parameters: {'solver': 'lbfgs', 'penalty': 'l2', 'multi_class': 'ovr', 'C': 0.0022048801066497366}. Best is trial 3 with value: 0.978125.\n",
            "[I 2024-02-16 13:34:39,380] Trial 99 finished with value: 0.8375 and parameters: {'solver': 'saga', 'penalty': 'l2', 'multi_class': 'ovr', 'C': 0.0014204570023089791}. Best is trial 3 with value: 0.978125.\n"
          ]
        },
        {
          "name": "stdout",
          "output_type": "stream",
          "text": [
            "Best params found : {'solver': 'lbfgs', 'penalty': 'l2', 'multi_class': 'ovr', 'C': 0.0035945991220888815}\n",
            "accuracy: 0.975\n",
            "recall: 0.9791666666666666\n",
            "precision: 0.9837962962962963\n",
            "f1-score: 0.9772486772486771\n",
            "roc_auc:  0.9892248954748956\n"
          ]
        }
      ],
      "source": [
        "study = optuna.create_study(direction = 'maximize')\n",
        "study.optimize(objective, n_trials = 100)\n",
        "best_params = study.best_params\n",
        "print(\"Best params found :\", best_params)\n",
        "\n",
        "final_model = LogisticRegression(**best_params)\n",
        "final_model.fit(X_train_reduced, y_train)\n",
        "y_pred = final_model.predict(X_test_reduced)\n",
        "prediction_results['logistic regression'] = y_pred\n",
        "\n",
        "accuracy = accuracy_score(y_test, y_pred)\n",
        "precision = precision_score(y_test, y_pred, average='macro')\n",
        "recall = recall_score(y_test, y_pred, average='macro')\n",
        "f1 = f1_score(y_test, y_pred, average='macro')\n",
        "\n",
        "# One-hot encoding for probability calculation (adapt if necessary)\n",
        "y_test_onehot = pd.get_dummies(y_test, prefix='label_')  # Assuming 'label_' prefix for clarity\n",
        "y_pred_onehot = pd.get_dummies(y_pred, prefix='label_')\n",
        "\n",
        "# ROC AUC score with multiclass handling\n",
        "roc_auc_macro = roc_auc_score(y_test_onehot, y_pred_onehot, average='macro', multi_class='ovo')  # Specify 'ovo' or 'ovr'\n",
        "\n",
        "print(\"accuracy:\", accuracy)\n",
        "print(\"recall:\", recall)\n",
        "print(\"precision:\", precision)\n",
        "print(\"f1-score:\", f1)\n",
        "print('roc_auc: ', roc_auc_macro)"
      ]
    },
    {
      "cell_type": "code",
      "execution_count": 148,
      "metadata": {
        "execution": {
          "iopub.execute_input": "2024-02-13T17:13:58.831188Z",
          "iopub.status.busy": "2024-02-13T17:13:58.830179Z",
          "iopub.status.idle": "2024-02-13T17:13:58.837105Z"
        },
        "id": "wNaS-Sh8Zocc",
        "trusted": true
      },
      "outputs": [],
      "source": [
        "# lr = LogisticRegression(multi_class='ovr', solver='liblinear')\n",
        "# lr.fit(X_train_reduced, y_train)\n",
        "# y_pred = lr.predict(X_test_reduced)"
      ]
    },
    {
      "cell_type": "markdown",
      "metadata": {
        "id": "yAP5ojqfZocc"
      },
      "source": [
        "# KNN Classifier"
      ]
    },
    {
      "cell_type": "markdown",
      "metadata": {
        "id": "6ub3PNZVZocd"
      },
      "source": [
        "**Normal**"
      ]
    },
    {
      "cell_type": "code",
      "execution_count": 149,
      "metadata": {
        "execution": {
          "iopub.execute_input": "2024-02-13T17:13:58.839619Z",
          "iopub.status.busy": "2024-02-13T17:13:58.839178Z",
          "iopub.status.idle": "2024-02-13T17:13:59.024710Z"
        },
        "id": "soJbwwpvZocd",
        "outputId": "d155e068-8839-430a-f5a0-31b7340f6c2e",
        "trusted": true
      },
      "outputs": [
        {
          "name": "stdout",
          "output_type": "stream",
          "text": [
            "accuracy: 0.925\n",
            "recall: 0.9421296296296295\n",
            "precision: 0.9495370370370372\n",
            "f1-score: 0.9279761904761905\n",
            "roc_auc:  0.9699917551974515\n"
          ]
        }
      ],
      "source": [
        "from sklearn.neighbors import KNeighborsClassifier\n",
        "\n",
        "knn = KNeighborsClassifier()\n",
        "knn.fit(X_train_reduced, y_train)\n",
        "y_pred = knn.predict(X_test_reduced)\n",
        "\n",
        "accuracy = accuracy_score(y_test, y_pred)\n",
        "precision = precision_score(y_test, y_pred, average='macro')\n",
        "recall = recall_score(y_test, y_pred, average='macro')\n",
        "f1 = f1_score(y_test, y_pred, average='macro')\n",
        "\n",
        "# One-hot encoding for probability calculation (adapt if necessary)\n",
        "y_test_onehot = pd.get_dummies(y_test, prefix='label_')  # Assuming 'label_' prefix for clarity\n",
        "y_pred_onehot = pd.get_dummies(y_pred, prefix='label_')\n",
        "\n",
        "# ROC AUC score with multiclass handling\n",
        "roc_auc_macro = roc_auc_score(y_test_onehot, y_pred_onehot, average='macro', multi_class='ovo')  # Specify 'ovo' or 'ovr'\n",
        "\n",
        "print(\"accuracy:\", accuracy)\n",
        "print(\"recall:\", recall)\n",
        "print(\"precision:\", precision)\n",
        "print(\"f1-score:\", f1)\n",
        "print('roc_auc: ', roc_auc_macro)\n"
      ]
    },
    {
      "cell_type": "markdown",
      "metadata": {
        "id": "P2h7U1CgZocd"
      },
      "source": [
        "**Tunning**"
      ]
    },
    {
      "cell_type": "code",
      "execution_count": 150,
      "metadata": {
        "execution": {
          "iopub.execute_input": "2024-02-13T17:13:59.028078Z",
          "iopub.status.busy": "2024-02-13T17:13:59.027425Z",
          "iopub.status.idle": "2024-02-13T17:13:59.041479Z"
        },
        "id": "Lnd3OeCmZoce",
        "trusted": true
      },
      "outputs": [],
      "source": [
        "import optuna\n",
        "from sklearn.model_selection import cross_val_score\n",
        "import warnings\n",
        "warnings.filterwarnings('ignore')\n",
        "\n",
        "\n",
        "def objective(trial):\n",
        "    hyperparams = {\n",
        "        'n_neighbors': trial.suggest_int(\"n_neighbors\", 5, 100),\n",
        "        'weights': trial.suggest_categorical(\"weights\", [\"uniform\", \"distance\"]),\n",
        "        'metric': trial.suggest_categorical(\"metric\", [\"euclidean\", \"manhattan\", \"minkowski\"]),\n",
        "        'algorithm': trial.suggest_categorical('algorithm', ['auto', 'ball_tree', 'kd_tree', 'brute']),\n",
        "        'n_jobs': -1\n",
        "    }\n",
        "\n",
        "    # Create KNN model with tuned hyperparameters\n",
        "    model = KNeighborsClassifier(**hyperparams)\n",
        "    scores = cross_val_score(model, X_train_reduced,\n",
        "                             y_train, cv=kf, scoring='accuracy')\n",
        "    return np.mean(scores)"
      ]
    },
    {
      "cell_type": "code",
      "execution_count": 151,
      "metadata": {
        "execution": {
          "iopub.execute_input": "2024-02-13T17:13:59.044056Z",
          "iopub.status.busy": "2024-02-13T17:13:59.043554Z",
          "iopub.status.idle": "2024-02-13T17:14:02.747201Z"
        },
        "id": "WRBW9-_0Zoce",
        "outputId": "2acb3c19-100b-4a0d-925f-059376bac94b",
        "trusted": true
      },
      "outputs": [
        {
          "name": "stderr",
          "output_type": "stream",
          "text": [
            "[I 2024-02-16 13:34:40,751] A new study created in memory with name: no-name-085fd718-b917-4648-8fa9-4e9b9004edd9\n",
            "[I 2024-02-16 13:34:40,797] Trial 0 finished with value: 0.609375 and parameters: {'n_neighbors': 60, 'weights': 'distance', 'metric': 'minkowski', 'algorithm': 'auto'}. Best is trial 0 with value: 0.609375.\n",
            "[I 2024-02-16 13:34:40,962] Trial 1 finished with value: 0.521875 and parameters: {'n_neighbors': 99, 'weights': 'distance', 'metric': 'manhattan', 'algorithm': 'ball_tree'}. Best is trial 0 with value: 0.609375.\n",
            "[I 2024-02-16 13:34:40,990] Trial 2 finished with value: 0.2375 and parameters: {'n_neighbors': 40, 'weights': 'uniform', 'metric': 'minkowski', 'algorithm': 'auto'}. Best is trial 0 with value: 0.609375.\n",
            "[I 2024-02-16 13:34:41,148] Trial 3 finished with value: 0.584375 and parameters: {'n_neighbors': 88, 'weights': 'distance', 'metric': 'euclidean', 'algorithm': 'ball_tree'}. Best is trial 0 with value: 0.609375.\n",
            "[I 2024-02-16 13:34:41,179] Trial 4 finished with value: 0.55625 and parameters: {'n_neighbors': 77, 'weights': 'distance', 'metric': 'manhattan', 'algorithm': 'auto'}. Best is trial 0 with value: 0.609375.\n",
            "[I 2024-02-16 13:34:41,334] Trial 5 finished with value: 0.59375 and parameters: {'n_neighbors': 67, 'weights': 'distance', 'metric': 'euclidean', 'algorithm': 'ball_tree'}. Best is trial 0 with value: 0.609375.\n",
            "[I 2024-02-16 13:34:41,493] Trial 6 finished with value: 0.475 and parameters: {'n_neighbors': 21, 'weights': 'uniform', 'metric': 'manhattan', 'algorithm': 'kd_tree'}. Best is trial 0 with value: 0.609375.\n",
            "[I 2024-02-16 13:34:41,644] Trial 7 finished with value: 0.5875 and parameters: {'n_neighbors': 69, 'weights': 'distance', 'metric': 'euclidean', 'algorithm': 'kd_tree'}. Best is trial 0 with value: 0.609375.\n",
            "[I 2024-02-16 13:34:41,802] Trial 8 finished with value: 0.609375 and parameters: {'n_neighbors': 11, 'weights': 'uniform', 'metric': 'minkowski', 'algorithm': 'ball_tree'}. Best is trial 0 with value: 0.609375.\n",
            "[I 2024-02-16 13:34:41,955] Trial 9 finished with value: 0.4875 and parameters: {'n_neighbors': 19, 'weights': 'uniform', 'metric': 'minkowski', 'algorithm': 'kd_tree'}. Best is trial 0 with value: 0.609375.\n",
            "[I 2024-02-16 13:34:41,985] Trial 10 finished with value: 0.6375 and parameters: {'n_neighbors': 46, 'weights': 'distance', 'metric': 'minkowski', 'algorithm': 'brute'}. Best is trial 10 with value: 0.6375.\n",
            "[I 2024-02-16 13:34:42,015] Trial 11 finished with value: 0.6375 and parameters: {'n_neighbors': 46, 'weights': 'distance', 'metric': 'minkowski', 'algorithm': 'brute'}. Best is trial 10 with value: 0.6375.\n",
            "[I 2024-02-16 13:34:42,050] Trial 12 finished with value: 0.6375 and parameters: {'n_neighbors': 46, 'weights': 'distance', 'metric': 'minkowski', 'algorithm': 'brute'}. Best is trial 10 with value: 0.6375.\n",
            "[I 2024-02-16 13:34:42,085] Trial 13 finished with value: 0.66875 and parameters: {'n_neighbors': 34, 'weights': 'distance', 'metric': 'minkowski', 'algorithm': 'brute'}. Best is trial 13 with value: 0.66875.\n",
            "[I 2024-02-16 13:34:42,121] Trial 14 finished with value: 0.696875 and parameters: {'n_neighbors': 29, 'weights': 'distance', 'metric': 'minkowski', 'algorithm': 'brute'}. Best is trial 14 with value: 0.696875.\n",
            "[I 2024-02-16 13:34:42,159] Trial 15 finished with value: 0.671875 and parameters: {'n_neighbors': 33, 'weights': 'distance', 'metric': 'minkowski', 'algorithm': 'brute'}. Best is trial 14 with value: 0.696875.\n",
            "[I 2024-02-16 13:34:42,198] Trial 16 finished with value: 0.696875 and parameters: {'n_neighbors': 29, 'weights': 'distance', 'metric': 'minkowski', 'algorithm': 'brute'}. Best is trial 14 with value: 0.696875.\n",
            "[I 2024-02-16 13:34:42,233] Trial 17 finished with value: 0.89375 and parameters: {'n_neighbors': 6, 'weights': 'distance', 'metric': 'minkowski', 'algorithm': 'brute'}. Best is trial 17 with value: 0.89375.\n",
            "[W 2024-02-16 13:34:42,248] Trial 18 failed with parameters: {'n_neighbors': 9, 'weights': 'uniform', 'metric': 'manhattan', 'algorithm': 'brute'} because of the following error: The value nan is not acceptable.\n",
            "[W 2024-02-16 13:34:42,249] Trial 18 failed with value nan.\n",
            "[W 2024-02-16 13:34:42,268] Trial 19 failed with parameters: {'n_neighbors': 7, 'weights': 'uniform', 'metric': 'manhattan', 'algorithm': 'brute'} because of the following error: The value nan is not acceptable.\n",
            "[W 2024-02-16 13:34:42,269] Trial 19 failed with value nan.\n",
            "[W 2024-02-16 13:34:42,290] Trial 20 failed with parameters: {'n_neighbors': 5, 'weights': 'uniform', 'metric': 'manhattan', 'algorithm': 'brute'} because of the following error: The value nan is not acceptable.\n",
            "[W 2024-02-16 13:34:42,291] Trial 20 failed with value nan.\n",
            "[I 2024-02-16 13:34:42,333] Trial 21 finished with value: 0.63125 and parameters: {'n_neighbors': 10, 'weights': 'uniform', 'metric': 'euclidean', 'algorithm': 'brute'}. Best is trial 17 with value: 0.89375.\n",
            "[I 2024-02-16 13:34:42,367] Trial 22 finished with value: 0.89375 and parameters: {'n_neighbors': 5, 'weights': 'distance', 'metric': 'manhattan', 'algorithm': 'brute'}. Best is trial 17 with value: 0.89375.\n",
            "[I 2024-02-16 13:34:42,402] Trial 23 finished with value: 0.890625 and parameters: {'n_neighbors': 6, 'weights': 'distance', 'metric': 'manhattan', 'algorithm': 'brute'}. Best is trial 17 with value: 0.89375.\n",
            "[I 2024-02-16 13:34:42,436] Trial 24 finished with value: 0.890625 and parameters: {'n_neighbors': 6, 'weights': 'distance', 'metric': 'manhattan', 'algorithm': 'brute'}. Best is trial 17 with value: 0.89375.\n",
            "[I 2024-02-16 13:34:42,478] Trial 25 finished with value: 0.75 and parameters: {'n_neighbors': 19, 'weights': 'distance', 'metric': 'manhattan', 'algorithm': 'brute'}. Best is trial 17 with value: 0.89375.\n",
            "[I 2024-02-16 13:34:42,514] Trial 26 finished with value: 0.890625 and parameters: {'n_neighbors': 6, 'weights': 'distance', 'metric': 'manhattan', 'algorithm': 'brute'}. Best is trial 17 with value: 0.89375.\n",
            "[I 2024-02-16 13:34:42,551] Trial 27 finished with value: 0.78125 and parameters: {'n_neighbors': 16, 'weights': 'distance', 'metric': 'manhattan', 'algorithm': 'brute'}. Best is trial 17 with value: 0.89375.\n",
            "[I 2024-02-16 13:34:42,590] Trial 28 finished with value: 0.728125 and parameters: {'n_neighbors': 25, 'weights': 'distance', 'metric': 'manhattan', 'algorithm': 'brute'}. Best is trial 17 with value: 0.89375.\n",
            "[W 2024-02-16 13:34:42,609] Trial 29 failed with parameters: {'n_neighbors': 14, 'weights': 'uniform', 'metric': 'manhattan', 'algorithm': 'brute'} because of the following error: The value nan is not acceptable.\n",
            "[W 2024-02-16 13:34:42,610] Trial 29 failed with value nan.\n",
            "[W 2024-02-16 13:34:42,628] Trial 30 failed with parameters: {'n_neighbors': 5, 'weights': 'uniform', 'metric': 'manhattan', 'algorithm': 'brute'} because of the following error: The value nan is not acceptable.\n",
            "[W 2024-02-16 13:34:42,629] Trial 30 failed with value nan.\n",
            "[W 2024-02-16 13:34:42,649] Trial 31 failed with parameters: {'n_neighbors': 13, 'weights': 'uniform', 'metric': 'manhattan', 'algorithm': 'brute'} because of the following error: The value nan is not acceptable.\n",
            "[W 2024-02-16 13:34:42,650] Trial 31 failed with value nan.\n",
            "[W 2024-02-16 13:34:42,668] Trial 32 failed with parameters: {'n_neighbors': 13, 'weights': 'uniform', 'metric': 'manhattan', 'algorithm': 'brute'} because of the following error: The value nan is not acceptable.\n",
            "[W 2024-02-16 13:34:42,669] Trial 32 failed with value nan.\n",
            "[W 2024-02-16 13:34:42,688] Trial 33 failed with parameters: {'n_neighbors': 13, 'weights': 'uniform', 'metric': 'manhattan', 'algorithm': 'brute'} because of the following error: The value nan is not acceptable.\n",
            "[W 2024-02-16 13:34:42,689] Trial 33 failed with value nan.\n",
            "[W 2024-02-16 13:34:42,705] Trial 34 failed with parameters: {'n_neighbors': 14, 'weights': 'uniform', 'metric': 'manhattan', 'algorithm': 'brute'} because of the following error: The value nan is not acceptable.\n",
            "[W 2024-02-16 13:34:42,705] Trial 34 failed with value nan.\n",
            "[W 2024-02-16 13:34:42,719] Trial 35 failed with parameters: {'n_neighbors': 13, 'weights': 'uniform', 'metric': 'manhattan', 'algorithm': 'brute'} because of the following error: The value nan is not acceptable.\n",
            "[W 2024-02-16 13:34:42,720] Trial 35 failed with value nan.\n",
            "[W 2024-02-16 13:34:42,735] Trial 36 failed with parameters: {'n_neighbors': 14, 'weights': 'uniform', 'metric': 'manhattan', 'algorithm': 'brute'} because of the following error: The value nan is not acceptable.\n",
            "[W 2024-02-16 13:34:42,735] Trial 36 failed with value nan.\n",
            "[W 2024-02-16 13:34:42,750] Trial 37 failed with parameters: {'n_neighbors': 13, 'weights': 'uniform', 'metric': 'manhattan', 'algorithm': 'brute'} because of the following error: The value nan is not acceptable.\n",
            "[W 2024-02-16 13:34:42,752] Trial 37 failed with value nan.\n",
            "[W 2024-02-16 13:34:42,765] Trial 38 failed with parameters: {'n_neighbors': 13, 'weights': 'uniform', 'metric': 'manhattan', 'algorithm': 'brute'} because of the following error: The value nan is not acceptable.\n",
            "[W 2024-02-16 13:34:42,766] Trial 38 failed with value nan.\n",
            "[W 2024-02-16 13:34:42,781] Trial 39 failed with parameters: {'n_neighbors': 13, 'weights': 'uniform', 'metric': 'manhattan', 'algorithm': 'brute'} because of the following error: The value nan is not acceptable.\n",
            "[W 2024-02-16 13:34:42,781] Trial 39 failed with value nan.\n",
            "[W 2024-02-16 13:34:42,794] Trial 40 failed with parameters: {'n_neighbors': 10, 'weights': 'uniform', 'metric': 'manhattan', 'algorithm': 'brute'} because of the following error: The value nan is not acceptable.\n",
            "[W 2024-02-16 13:34:42,795] Trial 40 failed with value nan.\n",
            "[W 2024-02-16 13:34:42,809] Trial 41 failed with parameters: {'n_neighbors': 13, 'weights': 'uniform', 'metric': 'manhattan', 'algorithm': 'brute'} because of the following error: The value nan is not acceptable.\n",
            "[W 2024-02-16 13:34:42,810] Trial 41 failed with value nan.\n",
            "[W 2024-02-16 13:34:42,823] Trial 42 failed with parameters: {'n_neighbors': 13, 'weights': 'uniform', 'metric': 'manhattan', 'algorithm': 'brute'} because of the following error: The value nan is not acceptable.\n",
            "[W 2024-02-16 13:34:42,824] Trial 42 failed with value nan.\n",
            "[W 2024-02-16 13:34:42,837] Trial 43 failed with parameters: {'n_neighbors': 13, 'weights': 'uniform', 'metric': 'manhattan', 'algorithm': 'brute'} because of the following error: The value nan is not acceptable.\n",
            "[W 2024-02-16 13:34:42,838] Trial 43 failed with value nan.\n",
            "[W 2024-02-16 13:34:42,852] Trial 44 failed with parameters: {'n_neighbors': 5, 'weights': 'uniform', 'metric': 'manhattan', 'algorithm': 'brute'} because of the following error: The value nan is not acceptable.\n",
            "[W 2024-02-16 13:34:42,852] Trial 44 failed with value nan.\n",
            "[W 2024-02-16 13:34:42,864] Trial 45 failed with parameters: {'n_neighbors': 12, 'weights': 'uniform', 'metric': 'manhattan', 'algorithm': 'brute'} because of the following error: The value nan is not acceptable.\n",
            "[W 2024-02-16 13:34:42,865] Trial 45 failed with value nan.\n",
            "[W 2024-02-16 13:34:42,879] Trial 46 failed with parameters: {'n_neighbors': 5, 'weights': 'uniform', 'metric': 'manhattan', 'algorithm': 'brute'} because of the following error: The value nan is not acceptable.\n",
            "[W 2024-02-16 13:34:42,880] Trial 46 failed with value nan.\n",
            "[W 2024-02-16 13:34:42,893] Trial 47 failed with parameters: {'n_neighbors': 13, 'weights': 'uniform', 'metric': 'manhattan', 'algorithm': 'brute'} because of the following error: The value nan is not acceptable.\n",
            "[W 2024-02-16 13:34:42,894] Trial 47 failed with value nan.\n",
            "[W 2024-02-16 13:34:42,907] Trial 48 failed with parameters: {'n_neighbors': 14, 'weights': 'uniform', 'metric': 'manhattan', 'algorithm': 'brute'} because of the following error: The value nan is not acceptable.\n",
            "[W 2024-02-16 13:34:42,908] Trial 48 failed with value nan.\n",
            "[W 2024-02-16 13:34:42,920] Trial 49 failed with parameters: {'n_neighbors': 13, 'weights': 'uniform', 'metric': 'manhattan', 'algorithm': 'brute'} because of the following error: The value nan is not acceptable.\n",
            "[W 2024-02-16 13:34:42,921] Trial 49 failed with value nan.\n",
            "[W 2024-02-16 13:34:42,934] Trial 50 failed with parameters: {'n_neighbors': 13, 'weights': 'uniform', 'metric': 'manhattan', 'algorithm': 'brute'} because of the following error: The value nan is not acceptable.\n",
            "[W 2024-02-16 13:34:42,935] Trial 50 failed with value nan.\n",
            "[W 2024-02-16 13:34:42,948] Trial 51 failed with parameters: {'n_neighbors': 5, 'weights': 'uniform', 'metric': 'manhattan', 'algorithm': 'brute'} because of the following error: The value nan is not acceptable.\n",
            "[W 2024-02-16 13:34:42,949] Trial 51 failed with value nan.\n",
            "[I 2024-02-16 13:34:42,983] Trial 52 finished with value: 0.778125 and parameters: {'n_neighbors': 14, 'weights': 'distance', 'metric': 'manhattan', 'algorithm': 'brute'}. Best is trial 17 with value: 0.89375.\n",
            "[W 2024-02-16 13:34:42,998] Trial 53 failed with parameters: {'n_neighbors': 7, 'weights': 'uniform', 'metric': 'manhattan', 'algorithm': 'auto'} because of the following error: The value nan is not acceptable.\n",
            "[W 2024-02-16 13:34:42,998] Trial 53 failed with value nan.\n",
            "[I 2024-02-16 13:34:43,157] Trial 54 finished with value: 0.721875 and parameters: {'n_neighbors': 8, 'weights': 'uniform', 'metric': 'manhattan', 'algorithm': 'kd_tree'}. Best is trial 17 with value: 0.89375.\n",
            "[I 2024-02-16 13:34:43,194] Trial 55 finished with value: 0.89375 and parameters: {'n_neighbors': 5, 'weights': 'distance', 'metric': 'manhattan', 'algorithm': 'auto'}. Best is trial 17 with value: 0.89375.\n",
            "[I 2024-02-16 13:34:43,237] Trial 56 finished with value: 0.590625 and parameters: {'n_neighbors': 56, 'weights': 'distance', 'metric': 'manhattan', 'algorithm': 'auto'}. Best is trial 17 with value: 0.89375.\n",
            "[I 2024-02-16 13:34:43,278] Trial 57 finished with value: 0.73125 and parameters: {'n_neighbors': 24, 'weights': 'distance', 'metric': 'euclidean', 'algorithm': 'auto'}. Best is trial 17 with value: 0.89375.\n",
            "[I 2024-02-16 13:34:43,319] Trial 58 finished with value: 0.778125 and parameters: {'n_neighbors': 14, 'weights': 'distance', 'metric': 'manhattan', 'algorithm': 'auto'}. Best is trial 17 with value: 0.89375.\n",
            "[I 2024-02-16 13:34:43,356] Trial 59 finished with value: 0.89375 and parameters: {'n_neighbors': 5, 'weights': 'distance', 'metric': 'manhattan', 'algorithm': 'auto'}. Best is trial 17 with value: 0.89375.\n",
            "[I 2024-02-16 13:34:43,393] Trial 60 finished with value: 0.89375 and parameters: {'n_neighbors': 5, 'weights': 'distance', 'metric': 'manhattan', 'algorithm': 'auto'}. Best is trial 17 with value: 0.89375.\n",
            "[I 2024-02-16 13:34:43,431] Trial 61 finished with value: 0.778125 and parameters: {'n_neighbors': 15, 'weights': 'distance', 'metric': 'manhattan', 'algorithm': 'auto'}. Best is trial 17 with value: 0.89375.\n",
            "[I 2024-02-16 13:34:43,475] Trial 62 finished with value: 0.5375 and parameters: {'n_neighbors': 91, 'weights': 'distance', 'metric': 'manhattan', 'algorithm': 'auto'}. Best is trial 17 with value: 0.89375.\n",
            "[I 2024-02-16 13:34:43,514] Trial 63 finished with value: 0.803125 and parameters: {'n_neighbors': 12, 'weights': 'distance', 'metric': 'manhattan', 'algorithm': 'auto'}. Best is trial 17 with value: 0.89375.\n",
            "[I 2024-02-16 13:34:43,672] Trial 64 finished with value: 0.284375 and parameters: {'n_neighbors': 38, 'weights': 'uniform', 'metric': 'manhattan', 'algorithm': 'ball_tree'}. Best is trial 17 with value: 0.89375.\n",
            "[I 2024-02-16 13:34:43,703] Trial 65 finished with value: 0.73125 and parameters: {'n_neighbors': 23, 'weights': 'distance', 'metric': 'euclidean', 'algorithm': 'auto'}. Best is trial 17 with value: 0.89375.\n",
            "[I 2024-02-16 13:34:43,739] Trial 66 finished with value: 0.75 and parameters: {'n_neighbors': 19, 'weights': 'distance', 'metric': 'manhattan', 'algorithm': 'auto'}. Best is trial 17 with value: 0.89375.\n",
            "[I 2024-02-16 13:34:43,903] Trial 67 finished with value: 0.1375 and parameters: {'n_neighbors': 66, 'weights': 'uniform', 'metric': 'manhattan', 'algorithm': 'ball_tree'}. Best is trial 17 with value: 0.89375.\n",
            "[I 2024-02-16 13:34:43,933] Trial 68 finished with value: 0.890625 and parameters: {'n_neighbors': 6, 'weights': 'distance', 'metric': 'manhattan', 'algorithm': 'auto'}. Best is trial 17 with value: 0.89375.\n",
            "[I 2024-02-16 13:34:43,967] Trial 69 finished with value: 0.89375 and parameters: {'n_neighbors': 5, 'weights': 'distance', 'metric': 'manhattan', 'algorithm': 'auto'}. Best is trial 17 with value: 0.89375.\n",
            "[I 2024-02-16 13:34:44,006] Trial 70 finished with value: 0.8125 and parameters: {'n_neighbors': 11, 'weights': 'distance', 'metric': 'manhattan', 'algorithm': 'auto'}. Best is trial 17 with value: 0.89375.\n",
            "[I 2024-02-16 13:34:44,047] Trial 71 finished with value: 0.553125 and parameters: {'n_neighbors': 79, 'weights': 'distance', 'metric': 'manhattan', 'algorithm': 'auto'}. Best is trial 17 with value: 0.89375.\n",
            "[I 2024-02-16 13:34:44,217] Trial 72 finished with value: 0.825 and parameters: {'n_neighbors': 10, 'weights': 'distance', 'metric': 'minkowski', 'algorithm': 'kd_tree'}. Best is trial 17 with value: 0.89375.\n",
            "[I 2024-02-16 13:34:44,247] Trial 73 finished with value: 0.796875 and parameters: {'n_neighbors': 15, 'weights': 'distance', 'metric': 'euclidean', 'algorithm': 'auto'}. Best is trial 17 with value: 0.89375.\n",
            "[I 2024-02-16 13:34:44,421] Trial 74 finished with value: 0.725 and parameters: {'n_neighbors': 27, 'weights': 'distance', 'metric': 'minkowski', 'algorithm': 'ball_tree'}. Best is trial 17 with value: 0.89375.\n",
            "[W 2024-02-16 13:34:44,436] Trial 75 failed with parameters: {'n_neighbors': 19, 'weights': 'uniform', 'metric': 'manhattan', 'algorithm': 'auto'} because of the following error: The value nan is not acceptable.\n",
            "[W 2024-02-16 13:34:44,437] Trial 75 failed with value nan.\n",
            "[W 2024-02-16 13:34:44,449] Trial 76 failed with parameters: {'n_neighbors': 19, 'weights': 'uniform', 'metric': 'manhattan', 'algorithm': 'auto'} because of the following error: The value nan is not acceptable.\n",
            "[W 2024-02-16 13:34:44,449] Trial 76 failed with value nan.\n",
            "[W 2024-02-16 13:34:44,462] Trial 77 failed with parameters: {'n_neighbors': 19, 'weights': 'uniform', 'metric': 'manhattan', 'algorithm': 'auto'} because of the following error: The value nan is not acceptable.\n",
            "[W 2024-02-16 13:34:44,462] Trial 77 failed with value nan.\n",
            "[W 2024-02-16 13:34:44,475] Trial 78 failed with parameters: {'n_neighbors': 20, 'weights': 'uniform', 'metric': 'manhattan', 'algorithm': 'auto'} because of the following error: The value nan is not acceptable.\n",
            "[W 2024-02-16 13:34:44,476] Trial 78 failed with value nan.\n",
            "[W 2024-02-16 13:34:44,490] Trial 79 failed with parameters: {'n_neighbors': 20, 'weights': 'uniform', 'metric': 'manhattan', 'algorithm': 'auto'} because of the following error: The value nan is not acceptable.\n",
            "[W 2024-02-16 13:34:44,490] Trial 79 failed with value nan.\n",
            "[W 2024-02-16 13:34:44,504] Trial 80 failed with parameters: {'n_neighbors': 19, 'weights': 'uniform', 'metric': 'manhattan', 'algorithm': 'auto'} because of the following error: The value nan is not acceptable.\n",
            "[W 2024-02-16 13:34:44,505] Trial 80 failed with value nan.\n",
            "[W 2024-02-16 13:34:44,520] Trial 81 failed with parameters: {'n_neighbors': 19, 'weights': 'uniform', 'metric': 'manhattan', 'algorithm': 'auto'} because of the following error: The value nan is not acceptable.\n",
            "[W 2024-02-16 13:34:44,521] Trial 81 failed with value nan.\n",
            "[W 2024-02-16 13:34:44,535] Trial 82 failed with parameters: {'n_neighbors': 19, 'weights': 'uniform', 'metric': 'manhattan', 'algorithm': 'auto'} because of the following error: The value nan is not acceptable.\n",
            "[W 2024-02-16 13:34:44,536] Trial 82 failed with value nan.\n",
            "[W 2024-02-16 13:34:44,551] Trial 83 failed with parameters: {'n_neighbors': 20, 'weights': 'uniform', 'metric': 'manhattan', 'algorithm': 'auto'} because of the following error: The value nan is not acceptable.\n",
            "[W 2024-02-16 13:34:44,551] Trial 83 failed with value nan.\n",
            "[W 2024-02-16 13:34:44,565] Trial 84 failed with parameters: {'n_neighbors': 20, 'weights': 'uniform', 'metric': 'manhattan', 'algorithm': 'auto'} because of the following error: The value nan is not acceptable.\n",
            "[W 2024-02-16 13:34:44,566] Trial 84 failed with value nan.\n",
            "[W 2024-02-16 13:34:44,580] Trial 85 failed with parameters: {'n_neighbors': 19, 'weights': 'uniform', 'metric': 'manhattan', 'algorithm': 'auto'} because of the following error: The value nan is not acceptable.\n",
            "[W 2024-02-16 13:34:44,580] Trial 85 failed with value nan.\n",
            "[W 2024-02-16 13:34:44,595] Trial 86 failed with parameters: {'n_neighbors': 19, 'weights': 'uniform', 'metric': 'manhattan', 'algorithm': 'auto'} because of the following error: The value nan is not acceptable.\n",
            "[W 2024-02-16 13:34:44,595] Trial 86 failed with value nan.\n",
            "[W 2024-02-16 13:34:44,609] Trial 87 failed with parameters: {'n_neighbors': 19, 'weights': 'uniform', 'metric': 'manhattan', 'algorithm': 'auto'} because of the following error: The value nan is not acceptable.\n",
            "[W 2024-02-16 13:34:44,609] Trial 87 failed with value nan.\n",
            "[W 2024-02-16 13:34:44,624] Trial 88 failed with parameters: {'n_neighbors': 20, 'weights': 'uniform', 'metric': 'manhattan', 'algorithm': 'auto'} because of the following error: The value nan is not acceptable.\n",
            "[W 2024-02-16 13:34:44,625] Trial 88 failed with value nan.\n",
            "[W 2024-02-16 13:34:44,638] Trial 89 failed with parameters: {'n_neighbors': 18, 'weights': 'uniform', 'metric': 'manhattan', 'algorithm': 'auto'} because of the following error: The value nan is not acceptable.\n",
            "[W 2024-02-16 13:34:44,639] Trial 89 failed with value nan.\n",
            "[W 2024-02-16 13:34:44,653] Trial 90 failed with parameters: {'n_neighbors': 20, 'weights': 'uniform', 'metric': 'manhattan', 'algorithm': 'auto'} because of the following error: The value nan is not acceptable.\n",
            "[W 2024-02-16 13:34:44,654] Trial 90 failed with value nan.\n",
            "[W 2024-02-16 13:34:44,667] Trial 91 failed with parameters: {'n_neighbors': 20, 'weights': 'uniform', 'metric': 'manhattan', 'algorithm': 'auto'} because of the following error: The value nan is not acceptable.\n",
            "[W 2024-02-16 13:34:44,667] Trial 91 failed with value nan.\n",
            "[W 2024-02-16 13:34:44,682] Trial 92 failed with parameters: {'n_neighbors': 10, 'weights': 'uniform', 'metric': 'manhattan', 'algorithm': 'auto'} because of the following error: The value nan is not acceptable.\n",
            "[W 2024-02-16 13:34:44,683] Trial 92 failed with value nan.\n",
            "[W 2024-02-16 13:34:44,697] Trial 93 failed with parameters: {'n_neighbors': 21, 'weights': 'uniform', 'metric': 'manhattan', 'algorithm': 'auto'} because of the following error: The value nan is not acceptable.\n",
            "[W 2024-02-16 13:34:44,698] Trial 93 failed with value nan.\n",
            "[W 2024-02-16 13:34:44,711] Trial 94 failed with parameters: {'n_neighbors': 17, 'weights': 'uniform', 'metric': 'manhattan', 'algorithm': 'auto'} because of the following error: The value nan is not acceptable.\n",
            "[W 2024-02-16 13:34:44,712] Trial 94 failed with value nan.\n",
            "[W 2024-02-16 13:34:44,726] Trial 95 failed with parameters: {'n_neighbors': 19, 'weights': 'uniform', 'metric': 'manhattan', 'algorithm': 'auto'} because of the following error: The value nan is not acceptable.\n",
            "[W 2024-02-16 13:34:44,727] Trial 95 failed with value nan.\n",
            "[W 2024-02-16 13:34:44,741] Trial 96 failed with parameters: {'n_neighbors': 18, 'weights': 'uniform', 'metric': 'manhattan', 'algorithm': 'auto'} because of the following error: The value nan is not acceptable.\n",
            "[W 2024-02-16 13:34:44,742] Trial 96 failed with value nan.\n",
            "[W 2024-02-16 13:34:44,755] Trial 97 failed with parameters: {'n_neighbors': 19, 'weights': 'uniform', 'metric': 'manhattan', 'algorithm': 'auto'} because of the following error: The value nan is not acceptable.\n",
            "[W 2024-02-16 13:34:44,755] Trial 97 failed with value nan.\n",
            "[W 2024-02-16 13:34:44,770] Trial 98 failed with parameters: {'n_neighbors': 18, 'weights': 'uniform', 'metric': 'manhattan', 'algorithm': 'auto'} because of the following error: The value nan is not acceptable.\n",
            "[W 2024-02-16 13:34:44,770] Trial 98 failed with value nan.\n",
            "[W 2024-02-16 13:34:44,785] Trial 99 failed with parameters: {'n_neighbors': 20, 'weights': 'uniform', 'metric': 'manhattan', 'algorithm': 'auto'} because of the following error: The value nan is not acceptable.\n",
            "[W 2024-02-16 13:34:44,785] Trial 99 failed with value nan.\n"
          ]
        },
        {
          "name": "stdout",
          "output_type": "stream",
          "text": [
            "Best params found : {'n_neighbors': 6, 'weights': 'distance', 'metric': 'minkowski', 'algorithm': 'brute'}\n",
            "accuracy: 0.925\n",
            "recall: 0.9421296296296295\n",
            "precision: 0.9537037037037036\n",
            "f1-score: 0.9296296296296297\n",
            "roc_auc:  0.9699917551974515\n"
          ]
        }
      ],
      "source": [
        "study = optuna.create_study(direction = 'maximize')\n",
        "study.optimize(objective, n_trials = 100)\n",
        "best_params = study.best_params\n",
        "print(\"Best params found :\", best_params)\n",
        "\n",
        "final_model =KNeighborsClassifier(**best_params)\n",
        "final_model.fit(X_train_reduced, y_train)\n",
        "y_pred = final_model.predict(X_test_reduced)\n",
        "prediction_results['KNN'] = y_pred\n",
        "\n",
        "accuracy = accuracy_score(y_test, y_pred)\n",
        "precision = precision_score(y_test, y_pred, average='macro')\n",
        "recall = recall_score(y_test, y_pred, average='macro')\n",
        "f1 = f1_score(y_test, y_pred, average='macro')\n",
        "\n",
        "# One-hot encoding for probability calculation (adapt if necessary)\n",
        "y_test_onehot = pd.get_dummies(y_test, prefix='label_')  # Assuming 'label_' prefix for clarity\n",
        "y_pred_onehot = pd.get_dummies(y_pred, prefix='label_')\n",
        "\n",
        "# ROC AUC score with multiclass handling\n",
        "roc_auc_macro = roc_auc_score(y_test_onehot, y_pred_onehot, average='macro', multi_class='ovo')  # Specify 'ovo' or 'ovr'\n",
        "\n",
        "print(\"accuracy:\", accuracy)\n",
        "print(\"recall:\", recall)\n",
        "print(\"precision:\", precision)\n",
        "print(\"f1-score:\", f1)\n",
        "print('roc_auc: ', roc_auc_macro)"
      ]
    },
    {
      "cell_type": "markdown",
      "metadata": {
        "id": "81guluY9Zoce"
      },
      "source": [
        "Tuning rồi lưu kết quả tuning vào bên dưới"
      ]
    },
    {
      "cell_type": "markdown",
      "metadata": {
        "id": "mJels-qLZocf"
      },
      "source": [
        "## num_image = 16"
      ]
    },
    {
      "cell_type": "code",
      "execution_count": 152,
      "metadata": {
        "execution": {
          "iopub.execute_input": "2024-02-13T17:14:02.749900Z",
          "iopub.status.busy": "2024-02-13T17:14:02.749092Z",
          "iopub.status.idle": "2024-02-13T17:14:04.898829Z"
        },
        "id": "bt0sQcs7Zocf",
        "trusted": true
      },
      "outputs": [],
      "source": [
        "n_components_pca = 50\n",
        "pca = ModularPCA(n_components=n_components_pca, num_image=16)\n",
        "X_train_reduced = pca.fit_transform(X_train)\n",
        "X_test_reduced = pca.transform(X_test)"
      ]
    },
    {
      "cell_type": "code",
      "execution_count": 153,
      "metadata": {
        "execution": {
          "iopub.execute_input": "2024-02-13T17:14:04.902970Z",
          "iopub.status.busy": "2024-02-13T17:14:04.902208Z",
          "iopub.status.idle": "2024-02-13T17:14:04.911356Z"
        },
        "id": "nClgatiPZocf",
        "trusted": true
      },
      "outputs": [],
      "source": [
        "# accuracy_scores, precision_scores, recall_scores, f1_scores = [], [], [], []\n",
        "# n_components_pca = 50\n",
        "# n_splits = 5\n",
        "# skf = StratifiedKFold(n_splits=n_splits, shuffle=True, random_state=42)"
      ]
    },
    {
      "cell_type": "code",
      "execution_count": 154,
      "metadata": {
        "execution": {
          "iopub.execute_input": "2024-02-13T17:14:04.914839Z",
          "iopub.status.busy": "2024-02-13T17:14:04.914059Z",
          "iopub.status.idle": "2024-02-13T17:14:04.932075Z"
        },
        "id": "y2za525DZocf",
        "trusted": true
      },
      "outputs": [],
      "source": [
        "# for train_index, test_index in skf.split(X, y):\n",
        "#     X_train, X_test = X[train_index], X[test_index]\n",
        "#     y_train, y_test = y[train_index], y[test_index]\n",
        "\n",
        "#     pca = PCA(n_components=n_components_pca)\n",
        "#     X_train_reduced = pca.fit_transform(X_train)\n",
        "#     X_test_reduced = pca.transform(X_test)\n",
        "\n",
        "#     # Euclidean\n",
        "#     y_pred = []\n",
        "#     for i in range(320):\n",
        "#         min_ = np.argmin(np.sqrt(np.sum((X_train_reduced - X_test_reduced[i])**2,axis=1)))\n",
        "#         y_pred.append(y_train[min_])\n",
        "\n",
        "#     # Evaluate the model\n",
        "#     accuracy = accuracy_score(y_test, y_pred)\n",
        "#     accuracy_scores.append(accuracy)\n",
        "\n",
        "# print(np.mean(accuracy_scores))"
      ]
    },
    {
      "cell_type": "markdown",
      "metadata": {
        "id": "B05mgPI4Zocf"
      },
      "source": [
        "# Modeling"
      ]
    },
    {
      "cell_type": "code",
      "execution_count": 155,
      "metadata": {
        "execution": {
          "iopub.execute_input": "2024-02-13T17:14:04.937090Z",
          "iopub.status.busy": "2024-02-13T17:14:04.935314Z",
          "iopub.status.idle": "2024-02-13T17:14:04.951797Z"
        },
        "id": "sVSttdiwZocg",
        "trusted": true
      },
      "outputs": [],
      "source": [
        "from sklearn.model_selection import KFold\n",
        "n_splits = 5\n",
        "kf = KFold(n_splits=n_splits, shuffle=True, random_state=42)"
      ]
    },
    {
      "cell_type": "markdown",
      "metadata": {
        "id": "djODk29rZocg"
      },
      "source": [
        "# Random Forest"
      ]
    },
    {
      "cell_type": "code",
      "execution_count": 156,
      "metadata": {
        "execution": {
          "iopub.execute_input": "2024-02-13T17:14:04.965983Z",
          "iopub.status.busy": "2024-02-13T17:14:04.964699Z",
          "iopub.status.idle": "2024-02-13T17:14:04.973122Z"
        },
        "id": "1c7-upjTZocg",
        "trusted": true
      },
      "outputs": [],
      "source": [
        "prediction_results = {}"
      ]
    },
    {
      "cell_type": "code",
      "execution_count": 157,
      "metadata": {
        "execution": {
          "iopub.execute_input": "2024-02-13T17:14:04.977737Z",
          "iopub.status.busy": "2024-02-13T17:14:04.976393Z",
          "iopub.status.idle": "2024-02-13T17:14:04.996465Z"
        },
        "id": "DQpj1qmJZocg",
        "trusted": true
      },
      "outputs": [],
      "source": [
        "from sklearn.ensemble import RandomForestClassifier\n",
        "from sklearn.metrics import accuracy_score"
      ]
    },
    {
      "cell_type": "markdown",
      "metadata": {
        "id": "udxDjnQ-Zoch"
      },
      "source": [
        "**Normal**"
      ]
    },
    {
      "cell_type": "code",
      "execution_count": 158,
      "metadata": {
        "execution": {
          "iopub.execute_input": "2024-02-13T17:14:05.001489Z",
          "iopub.status.busy": "2024-02-13T17:14:04.999610Z",
          "iopub.status.idle": "2024-02-13T17:14:05.579852Z"
        },
        "id": "tXhSfQhhZoch",
        "outputId": "fdf23eb7-e23a-4c74-bc93-fb252f3d652b",
        "trusted": true
      },
      "outputs": [
        {
          "name": "stdout",
          "output_type": "stream",
          "text": [
            "accuracy: 0.925\n",
            "recall: 0.9351851851851851\n",
            "precision: 0.9097222222222222\n",
            "f1-score: 0.9089947089947089\n",
            "roc_auc:  0.7622988574972966\n"
          ]
        }
      ],
      "source": [
        "rfr = RandomForestClassifier(random_state=42)\n",
        "rfr.fit(X_train_reduced,y_train)\n",
        "y_pred = rfr.predict(X_test_reduced)\n",
        "\n",
        "accuracy = accuracy_score(y_test, y_pred)\n",
        "precision = precision_score(y_test, y_pred, average='macro')\n",
        "recall = recall_score(y_test, y_pred, average='macro')\n",
        "f1 = f1_score(y_test, y_pred, average='macro')\n",
        "\n",
        "# One-hot encoding for probability calculation (adapt if necessary)\n",
        "y_test_onehot = pd.get_dummies(y_test, prefix='label_')  # Assuming 'label_' prefix for clarity\n",
        "y_pred_onehot = pd.get_dummies(y_pred, prefix='label_')\n",
        "\n",
        "# ROC AUC score with multiclass handling\n",
        "roc_auc_macro = roc_auc_score(y_test_onehot, y_pred_onehot, average='macro', multi_class='ovo')  # Specify 'ovo' or 'ovr'\n",
        "\n",
        "print(\"accuracy:\", accuracy)\n",
        "print(\"recall:\", recall)\n",
        "print(\"precision:\", precision)\n",
        "print(\"f1-score:\", f1)\n",
        "print('roc_auc: ', roc_auc_macro)"
      ]
    },
    {
      "cell_type": "markdown",
      "metadata": {
        "id": "AT8pvxD9Zoch"
      },
      "source": [
        "**Tunning**"
      ]
    },
    {
      "cell_type": "code",
      "execution_count": 159,
      "metadata": {
        "execution": {
          "iopub.execute_input": "2024-02-13T17:14:05.582705Z",
          "iopub.status.busy": "2024-02-13T17:14:05.582311Z",
          "iopub.status.idle": "2024-02-13T17:14:05.593346Z"
        },
        "id": "FIVv-RMVZoch",
        "trusted": true
      },
      "outputs": [],
      "source": [
        "import optuna\n",
        "\n",
        "\n",
        "def objective(trial):\n",
        "    hyperparams = {\n",
        "        'n_estimators': trial.suggest_int('n_estimators', 100, 1000),\n",
        "        'max_depth': trial.suggest_int('max_depth', 10, 50),\n",
        "        'min_samples_split': trial.suggest_int('min_samples_split', 2, 32),\n",
        "        'random_state': trial.suggest_categorical('random_state', [42]),\n",
        "        'min_samples_leaf': trial.suggest_int('min_samples_leaf', 1, 32),\n",
        "        'n_jobs': -1\n",
        "    }\n",
        "\n",
        "    model = RandomForestClassifier(**hyperparams)\n",
        "    scores = cross_val_score(model, X_train_reduced,\n",
        "                             y_train, cv=kf, scoring='accuracy')\n",
        "    return np.mean(scores)"
      ]
    },
    {
      "cell_type": "code",
      "execution_count": 160,
      "metadata": {
        "execution": {
          "iopub.execute_input": "2024-02-13T17:14:05.595907Z",
          "iopub.status.busy": "2024-02-13T17:14:05.595357Z",
          "iopub.status.idle": "2024-02-13T17:25:16.493545Z"
        },
        "id": "dhYPug44Zoci",
        "outputId": "c2031162-9cb8-4245-9f9b-38e12863fd3b",
        "trusted": true
      },
      "outputs": [
        {
          "name": "stderr",
          "output_type": "stream",
          "text": [
            "[I 2024-02-16 13:34:46,108] A new study created in memory with name: no-name-c4d9aa94-5313-44b7-a599-90d0c3f70381\n",
            "[I 2024-02-16 13:34:47,258] Trial 0 finished with value: 0.603125 and parameters: {'n_estimators': 146, 'max_depth': 37, 'min_samples_split': 3, 'random_state': 42, 'min_samples_leaf': 24}. Best is trial 0 with value: 0.603125.\n",
            "[I 2024-02-16 13:34:52,077] Trial 1 finished with value: 0.6375 and parameters: {'n_estimators': 641, 'max_depth': 21, 'min_samples_split': 2, 'random_state': 42, 'min_samples_leaf': 23}. Best is trial 1 with value: 0.6375.\n",
            "[I 2024-02-16 13:34:54,389] Trial 2 finished with value: 0.778125 and parameters: {'n_estimators': 268, 'max_depth': 30, 'min_samples_split': 13, 'random_state': 42, 'min_samples_leaf': 10}. Best is trial 2 with value: 0.778125.\n",
            "[I 2024-02-16 13:34:56,010] Trial 3 finished with value: 0.734375 and parameters: {'n_estimators': 188, 'max_depth': 28, 'min_samples_split': 13, 'random_state': 42, 'min_samples_leaf': 13}. Best is trial 2 with value: 0.778125.\n",
            "[I 2024-02-16 13:34:58,529] Trial 4 finished with value: 0.759375 and parameters: {'n_estimators': 312, 'max_depth': 33, 'min_samples_split': 18, 'random_state': 42, 'min_samples_leaf': 12}. Best is trial 2 with value: 0.778125.\n",
            "[I 2024-02-16 13:35:01,702] Trial 5 finished with value: 0.628125 and parameters: {'n_estimators': 442, 'max_depth': 23, 'min_samples_split': 30, 'random_state': 42, 'min_samples_leaf': 24}. Best is trial 2 with value: 0.778125.\n",
            "[I 2024-02-16 13:35:04,977] Trial 6 finished with value: 0.915625 and parameters: {'n_estimators': 343, 'max_depth': 39, 'min_samples_split': 3, 'random_state': 42, 'min_samples_leaf': 1}. Best is trial 6 with value: 0.915625.\n",
            "[I 2024-02-16 13:35:07,590] Trial 7 finished with value: 0.621875 and parameters: {'n_estimators': 348, 'max_depth': 38, 'min_samples_split': 6, 'random_state': 42, 'min_samples_leaf': 22}. Best is trial 6 with value: 0.915625.\n",
            "[I 2024-02-16 13:35:11,780] Trial 8 finished with value: 0.58125 and parameters: {'n_estimators': 575, 'max_depth': 11, 'min_samples_split': 12, 'random_state': 42, 'min_samples_leaf': 27}. Best is trial 6 with value: 0.915625.\n",
            "[I 2024-02-16 13:35:19,201] Trial 9 finished with value: 0.775 and parameters: {'n_estimators': 948, 'max_depth': 16, 'min_samples_split': 18, 'random_state': 42, 'min_samples_leaf': 6}. Best is trial 6 with value: 0.915625.\n",
            "[I 2024-02-16 13:35:25,401] Trial 10 finished with value: 0.725 and parameters: {'n_estimators': 767, 'max_depth': 50, 'min_samples_split': 27, 'random_state': 42, 'min_samples_leaf': 1}. Best is trial 6 with value: 0.915625.\n",
            "[I 2024-02-16 13:35:28,180] Trial 11 finished with value: 0.828125 and parameters: {'n_estimators': 332, 'max_depth': 45, 'min_samples_split': 9, 'random_state': 42, 'min_samples_leaf': 6}. Best is trial 6 with value: 0.915625.\n",
            "[I 2024-02-16 13:35:31,652] Trial 12 finished with value: 0.896875 and parameters: {'n_estimators': 382, 'max_depth': 47, 'min_samples_split': 7, 'random_state': 42, 'min_samples_leaf': 1}. Best is trial 6 with value: 0.915625.\n",
            "[I 2024-02-16 13:35:35,828] Trial 13 finished with value: 0.890625 and parameters: {'n_estimators': 467, 'max_depth': 43, 'min_samples_split': 7, 'random_state': 42, 'min_samples_leaf': 1}. Best is trial 6 with value: 0.915625.\n",
            "[I 2024-02-16 13:35:39,543] Trial 14 finished with value: 0.75625 and parameters: {'n_estimators': 470, 'max_depth': 49, 'min_samples_split': 23, 'random_state': 42, 'min_samples_leaf': 6}. Best is trial 6 with value: 0.915625.\n",
            "[I 2024-02-16 13:35:44,417] Trial 15 finished with value: 0.709375 and parameters: {'n_estimators': 670, 'max_depth': 41, 'min_samples_split': 5, 'random_state': 42, 'min_samples_leaf': 16}. Best is trial 6 with value: 0.915625.\n",
            "[I 2024-02-16 13:35:45,315] Trial 16 finished with value: 0.48125 and parameters: {'n_estimators': 114, 'max_depth': 37, 'min_samples_split': 9, 'random_state': 42, 'min_samples_leaf': 32}. Best is trial 6 with value: 0.915625.\n",
            "[I 2024-02-16 13:35:48,783] Trial 17 finished with value: 0.859375 and parameters: {'n_estimators': 404, 'max_depth': 47, 'min_samples_split': 2, 'random_state': 42, 'min_samples_leaf': 4}. Best is trial 6 with value: 0.915625.\n",
            "[I 2024-02-16 13:35:50,373] Trial 18 finished with value: 0.671875 and parameters: {'n_estimators': 206, 'max_depth': 42, 'min_samples_split': 21, 'random_state': 42, 'min_samples_leaf': 18}. Best is trial 6 with value: 0.915625.\n",
            "[I 2024-02-16 13:35:54,403] Trial 19 finished with value: 0.7875 and parameters: {'n_estimators': 526, 'max_depth': 34, 'min_samples_split': 10, 'random_state': 42, 'min_samples_leaf': 9}. Best is trial 6 with value: 0.915625.\n",
            "[I 2024-02-16 13:36:02,212] Trial 20 finished with value: 0.796875 and parameters: {'n_estimators': 861, 'max_depth': 40, 'min_samples_split': 15, 'random_state': 42, 'min_samples_leaf': 1}. Best is trial 6 with value: 0.915625.\n",
            "[I 2024-02-16 13:36:06,714] Trial 21 finished with value: 0.8875 and parameters: {'n_estimators': 515, 'max_depth': 44, 'min_samples_split': 7, 'random_state': 42, 'min_samples_leaf': 3}. Best is trial 6 with value: 0.915625.\n",
            "[I 2024-02-16 13:36:10,766] Trial 22 finished with value: 0.9 and parameters: {'n_estimators': 407, 'max_depth': 46, 'min_samples_split': 6, 'random_state': 42, 'min_samples_leaf': 1}. Best is trial 6 with value: 0.915625.\n",
            "[I 2024-02-16 13:36:14,163] Trial 23 finished with value: 0.8 and parameters: {'n_estimators': 387, 'max_depth': 47, 'min_samples_split': 4, 'random_state': 42, 'min_samples_leaf': 8}. Best is trial 6 with value: 0.915625.\n",
            "[I 2024-02-16 13:36:16,441] Trial 24 finished with value: 0.85 and parameters: {'n_estimators': 256, 'max_depth': 50, 'min_samples_split': 10, 'random_state': 42, 'min_samples_leaf': 4}. Best is trial 6 with value: 0.915625.\n",
            "[I 2024-02-16 13:36:22,640] Trial 25 finished with value: 0.890625 and parameters: {'n_estimators': 617, 'max_depth': 45, 'min_samples_split': 6, 'random_state': 42, 'min_samples_leaf': 3}. Best is trial 6 with value: 0.915625.\n",
            "[I 2024-02-16 13:36:24,834] Trial 26 finished with value: 0.796875 and parameters: {'n_estimators': 266, 'max_depth': 34, 'min_samples_split': 4, 'random_state': 42, 'min_samples_leaf': 7}. Best is trial 6 with value: 0.915625.\n",
            "[I 2024-02-16 13:36:27,855] Trial 27 finished with value: 0.765625 and parameters: {'n_estimators': 391, 'max_depth': 39, 'min_samples_split': 8, 'random_state': 42, 'min_samples_leaf': 11}. Best is trial 6 with value: 0.915625.\n",
            "[I 2024-02-16 13:36:32,495] Trial 28 finished with value: 0.78125 and parameters: {'n_estimators': 560, 'max_depth': 46, 'min_samples_split': 16, 'random_state': 42, 'min_samples_leaf': 4}. Best is trial 6 with value: 0.915625.\n",
            "[I 2024-02-16 13:36:34,054] Trial 29 finished with value: 0.6625 and parameters: {'n_estimators': 198, 'max_depth': 36, 'min_samples_split': 2, 'random_state': 42, 'min_samples_leaf': 18}. Best is trial 6 with value: 0.915625.\n",
            "[I 2024-02-16 13:36:39,423] Trial 30 finished with value: 0.728125 and parameters: {'n_estimators': 719, 'max_depth': 29, 'min_samples_split': 11, 'random_state': 42, 'min_samples_leaf': 14}. Best is trial 6 with value: 0.915625.\n",
            "[I 2024-02-16 13:36:43,659] Trial 31 finished with value: 0.89375 and parameters: {'n_estimators': 467, 'max_depth': 42, 'min_samples_split': 6, 'random_state': 42, 'min_samples_leaf': 1}. Best is trial 6 with value: 0.915625.\n",
            "[I 2024-02-16 13:36:48,247] Trial 32 finished with value: 0.915625 and parameters: {'n_estimators': 490, 'max_depth': 43, 'min_samples_split': 4, 'random_state': 42, 'min_samples_leaf': 1}. Best is trial 6 with value: 0.915625.\n",
            "[I 2024-02-16 13:36:51,414] Trial 33 finished with value: 0.9 and parameters: {'n_estimators': 358, 'max_depth': 48, 'min_samples_split': 4, 'random_state': 42, 'min_samples_leaf': 3}. Best is trial 6 with value: 0.915625.\n",
            "[I 2024-02-16 13:36:54,065] Trial 34 finished with value: 0.9 and parameters: {'n_estimators': 296, 'max_depth': 48, 'min_samples_split': 4, 'random_state': 42, 'min_samples_leaf': 3}. Best is trial 6 with value: 0.915625.\n",
            "[I 2024-02-16 13:36:57,630] Trial 35 finished with value: 0.834375 and parameters: {'n_estimators': 424, 'max_depth': 44, 'min_samples_split': 2, 'random_state': 42, 'min_samples_leaf': 5}. Best is trial 6 with value: 0.915625.\n",
            "[I 2024-02-16 13:37:00,393] Trial 36 finished with value: 0.7875 and parameters: {'n_estimators': 346, 'max_depth': 40, 'min_samples_split': 4, 'random_state': 42, 'min_samples_leaf': 9}. Best is trial 6 with value: 0.915625.\n",
            "[I 2024-02-16 13:37:02,542] Trial 37 finished with value: 0.809375 and parameters: {'n_estimators': 241, 'max_depth': 36, 'min_samples_split': 13, 'random_state': 42, 'min_samples_leaf': 3}. Best is trial 6 with value: 0.915625.\n",
            "[I 2024-02-16 13:37:06,806] Trial 38 finished with value: 0.796875 and parameters: {'n_estimators': 506, 'max_depth': 24, 'min_samples_split': 3, 'random_state': 42, 'min_samples_leaf': 8}. Best is trial 6 with value: 0.915625.\n",
            "[I 2024-02-16 13:37:09,488] Trial 39 finished with value: 0.684375 and parameters: {'n_estimators': 310, 'max_depth': 27, 'min_samples_split': 32, 'random_state': 42, 'min_samples_leaf': 2}. Best is trial 6 with value: 0.915625.\n",
            "[I 2024-02-16 13:37:13,878] Trial 40 finished with value: 0.6375 and parameters: {'n_estimators': 603, 'max_depth': 31, 'min_samples_split': 5, 'random_state': 42, 'min_samples_leaf': 22}. Best is trial 6 with value: 0.915625.\n",
            "[I 2024-02-16 13:37:16,615] Trial 41 finished with value: 0.828125 and parameters: {'n_estimators': 309, 'max_depth': 48, 'min_samples_split': 4, 'random_state': 42, 'min_samples_leaf': 5}. Best is trial 6 with value: 0.915625.\n",
            "[I 2024-02-16 13:37:17,958] Trial 42 finished with value: 0.871875 and parameters: {'n_estimators': 137, 'max_depth': 48, 'min_samples_split': 3, 'random_state': 42, 'min_samples_leaf': 3}. Best is trial 6 with value: 0.915625.\n",
            "[I 2024-02-16 13:37:20,995] Trial 43 finished with value: 0.83125 and parameters: {'n_estimators': 358, 'max_depth': 50, 'min_samples_split': 8, 'random_state': 42, 'min_samples_leaf': 5}. Best is trial 6 with value: 0.915625.\n",
            "[I 2024-02-16 13:37:25,079] Trial 44 finished with value: 0.9 and parameters: {'n_estimators': 439, 'max_depth': 45, 'min_samples_split': 5, 'random_state': 42, 'min_samples_leaf': 2}. Best is trial 6 with value: 0.915625.\n",
            "[I 2024-02-16 13:37:27,648] Trial 45 finished with value: 0.809375 and parameters: {'n_estimators': 306, 'max_depth': 43, 'min_samples_split': 2, 'random_state': 42, 'min_samples_leaf': 7}. Best is trial 6 with value: 0.915625.\n",
            "[I 2024-02-16 13:37:29,344] Trial 46 finished with value: 0.90625 and parameters: {'n_estimators': 175, 'max_depth': 18, 'min_samples_split': 6, 'random_state': 42, 'min_samples_leaf': 1}. Best is trial 6 with value: 0.915625.\n",
            "[I 2024-02-16 13:37:30,819] Trial 47 finished with value: 0.80625 and parameters: {'n_estimators': 156, 'max_depth': 18, 'min_samples_split': 13, 'random_state': 42, 'min_samples_leaf': 1}. Best is trial 6 with value: 0.915625.\n",
            "[I 2024-02-16 13:37:35,060] Trial 48 finished with value: 0.884375 and parameters: {'n_estimators': 483, 'max_depth': 13, 'min_samples_split': 8, 'random_state': 42, 'min_samples_leaf': 2}. Best is trial 6 with value: 0.915625.\n",
            "[I 2024-02-16 13:37:36,989] Trial 49 finished with value: 0.790625 and parameters: {'n_estimators': 236, 'max_depth': 18, 'min_samples_split': 6, 'random_state': 42, 'min_samples_leaf': 7}. Best is trial 6 with value: 0.915625.\n",
            "[I 2024-02-16 13:37:40,050] Trial 50 finished with value: 0.565625 and parameters: {'n_estimators': 425, 'max_depth': 10, 'min_samples_split': 20, 'random_state': 42, 'min_samples_leaf': 28}. Best is trial 6 with value: 0.915625.\n",
            "[I 2024-02-16 13:37:42,447] Trial 51 finished with value: 0.734375 and parameters: {'n_estimators': 277, 'max_depth': 24, 'min_samples_split': 26, 'random_state': 42, 'min_samples_leaf': 4}. Best is trial 6 with value: 0.915625.\n",
            "[I 2024-02-16 13:37:44,207] Trial 52 finished with value: 0.903125 and parameters: {'n_estimators': 169, 'max_depth': 46, 'min_samples_split': 5, 'random_state': 42, 'min_samples_leaf': 2}. Best is trial 6 with value: 0.915625.\n",
            "[I 2024-02-16 13:37:45,862] Trial 53 finished with value: 0.871875 and parameters: {'n_estimators': 167, 'max_depth': 38, 'min_samples_split': 7, 'random_state': 42, 'min_samples_leaf': 1}. Best is trial 6 with value: 0.915625.\n",
            "[I 2024-02-16 13:37:46,902] Trial 54 finished with value: 0.85 and parameters: {'n_estimators': 101, 'max_depth': 46, 'min_samples_split': 9, 'random_state': 42, 'min_samples_leaf': 2}. Best is trial 6 with value: 0.915625.\n",
            "[I 2024-02-16 13:37:48,799] Trial 55 finished with value: 0.834375 and parameters: {'n_estimators': 211, 'max_depth': 42, 'min_samples_split': 5, 'random_state': 42, 'min_samples_leaf': 5}. Best is trial 6 with value: 0.915625.\n",
            "[I 2024-02-16 13:37:50,665] Trial 56 finished with value: 0.909375 and parameters: {'n_estimators': 185, 'max_depth': 44, 'min_samples_split': 3, 'random_state': 42, 'min_samples_leaf': 2}. Best is trial 6 with value: 0.915625.\n",
            "[I 2024-02-16 13:37:52,175] Trial 57 finished with value: 0.815625 and parameters: {'n_estimators': 168, 'max_depth': 40, 'min_samples_split': 6, 'random_state': 42, 'min_samples_leaf': 6}. Best is trial 6 with value: 0.915625.\n",
            "[I 2024-02-16 13:37:53,619] Trial 58 finished with value: 0.83125 and parameters: {'n_estimators': 140, 'max_depth': 44, 'min_samples_split': 11, 'random_state': 42, 'min_samples_leaf': 1}. Best is trial 6 with value: 0.915625.\n",
            "[I 2024-02-16 13:37:55,346] Trial 59 finished with value: 0.73125 and parameters: {'n_estimators': 207, 'max_depth': 32, 'min_samples_split': 3, 'random_state': 42, 'min_samples_leaf': 13}. Best is trial 6 with value: 0.915625.\n",
            "[I 2024-02-16 13:37:57,600] Trial 60 finished with value: 0.878125 and parameters: {'n_estimators': 232, 'max_depth': 41, 'min_samples_split': 7, 'random_state': 42, 'min_samples_leaf': 2}. Best is trial 6 with value: 0.915625.\n",
            "[I 2024-02-16 13:38:00,813] Trial 61 finished with value: 0.86875 and parameters: {'n_estimators': 358, 'max_depth': 49, 'min_samples_split': 3, 'random_state': 42, 'min_samples_leaf': 4}. Best is trial 6 with value: 0.915625.\n",
            "[I 2024-02-16 13:38:05,769] Trial 62 finished with value: 0.890625 and parameters: {'n_estimators': 538, 'max_depth': 46, 'min_samples_split': 5, 'random_state': 42, 'min_samples_leaf': 3}. Best is trial 6 with value: 0.915625.\n",
            "[I 2024-02-16 13:38:07,028] Trial 63 finished with value: 0.890625 and parameters: {'n_estimators': 124, 'max_depth': 43, 'min_samples_split': 2, 'random_state': 42, 'min_samples_leaf': 2}. Best is trial 6 with value: 0.915625.\n",
            "[I 2024-02-16 13:38:08,977] Trial 64 finished with value: 0.915625 and parameters: {'n_estimators': 180, 'max_depth': 27, 'min_samples_split': 4, 'random_state': 42, 'min_samples_leaf': 1}. Best is trial 6 with value: 0.915625.\n",
            "[I 2024-02-16 13:38:11,759] Trial 65 finished with value: 0.871875 and parameters: {'n_estimators': 270, 'max_depth': 21, 'min_samples_split': 9, 'random_state': 42, 'min_samples_leaf': 1}. Best is trial 6 with value: 0.915625.\n",
            "[I 2024-02-16 13:38:13,551] Trial 66 finished with value: 0.821875 and parameters: {'n_estimators': 179, 'max_depth': 26, 'min_samples_split': 7, 'random_state': 42, 'min_samples_leaf': 6}. Best is trial 6 with value: 0.915625.\n",
            "[I 2024-02-16 13:38:15,340] Trial 67 finished with value: 0.853125 and parameters: {'n_estimators': 191, 'max_depth': 15, 'min_samples_split': 5, 'random_state': 42, 'min_samples_leaf': 4}. Best is trial 6 with value: 0.915625.\n",
            "[I 2024-02-16 13:38:16,441] Trial 68 finished with value: 0.88125 and parameters: {'n_estimators': 101, 'max_depth': 19, 'min_samples_split': 3, 'random_state': 42, 'min_samples_leaf': 1}. Best is trial 6 with value: 0.915625.\n",
            "[I 2024-02-16 13:38:25,583] Trial 69 finished with value: 0.88125 and parameters: {'n_estimators': 996, 'max_depth': 35, 'min_samples_split': 8, 'random_state': 42, 'min_samples_leaf': 2}. Best is trial 6 with value: 0.915625.\n",
            "[I 2024-02-16 13:38:28,570] Trial 70 finished with value: 0.825 and parameters: {'n_estimators': 334, 'max_depth': 45, 'min_samples_split': 10, 'random_state': 42, 'min_samples_leaf': 5}. Best is trial 6 with value: 0.915625.\n",
            "[I 2024-02-16 13:38:32,088] Trial 71 finished with value: 0.9 and parameters: {'n_estimators': 378, 'max_depth': 47, 'min_samples_split': 4, 'random_state': 42, 'min_samples_leaf': 3}. Best is trial 6 with value: 0.915625.\n",
            "[I 2024-02-16 13:38:34,281] Trial 72 finished with value: 0.9 and parameters: {'n_estimators': 228, 'max_depth': 43, 'min_samples_split': 6, 'random_state': 42, 'min_samples_leaf': 3}. Best is trial 6 with value: 0.915625.\n",
            "[I 2024-02-16 13:38:39,027] Trial 73 finished with value: 0.91875 and parameters: {'n_estimators': 483, 'max_depth': 49, 'min_samples_split': 2, 'random_state': 42, 'min_samples_leaf': 1}. Best is trial 73 with value: 0.91875.\n",
            "[I 2024-02-16 13:38:44,078] Trial 74 finished with value: 0.91875 and parameters: {'n_estimators': 483, 'max_depth': 49, 'min_samples_split': 2, 'random_state': 42, 'min_samples_leaf': 1}. Best is trial 73 with value: 0.91875.\n",
            "[I 2024-02-16 13:38:49,538] Trial 75 finished with value: 0.91875 and parameters: {'n_estimators': 573, 'max_depth': 49, 'min_samples_split': 2, 'random_state': 42, 'min_samples_leaf': 1}. Best is trial 73 with value: 0.91875.\n",
            "[I 2024-02-16 13:38:55,224] Trial 76 finished with value: 0.8625 and parameters: {'n_estimators': 667, 'max_depth': 50, 'min_samples_split': 2, 'random_state': 42, 'min_samples_leaf': 4}. Best is trial 73 with value: 0.91875.\n",
            "[I 2024-02-16 13:39:00,987] Trial 77 finished with value: 0.915625 and parameters: {'n_estimators': 597, 'max_depth': 49, 'min_samples_split': 2, 'random_state': 42, 'min_samples_leaf': 1}. Best is trial 73 with value: 0.91875.\n",
            "[I 2024-02-16 13:39:06,540] Trial 78 finished with value: 0.90625 and parameters: {'n_estimators': 572, 'max_depth': 49, 'min_samples_split': 2, 'random_state': 42, 'min_samples_leaf': 2}. Best is trial 73 with value: 0.91875.\n",
            "[I 2024-02-16 13:39:11,808] Trial 79 finished with value: 0.709375 and parameters: {'n_estimators': 602, 'max_depth': 49, 'min_samples_split': 3, 'random_state': 42, 'min_samples_leaf': 16}. Best is trial 73 with value: 0.91875.\n",
            "[I 2024-02-16 13:39:17,229] Trial 80 finished with value: 0.8625 and parameters: {'n_estimators': 495, 'max_depth': 28, 'min_samples_split': 2, 'random_state': 42, 'min_samples_leaf': 4}. Best is trial 73 with value: 0.91875.\n",
            "[I 2024-02-16 13:39:24,495] Trial 81 finished with value: 0.921875 and parameters: {'n_estimators': 643, 'max_depth': 48, 'min_samples_split': 4, 'random_state': 42, 'min_samples_leaf': 1}. Best is trial 81 with value: 0.921875.\n",
            "[I 2024-02-16 13:39:31,979] Trial 82 finished with value: 0.921875 and parameters: {'n_estimators': 712, 'max_depth': 48, 'min_samples_split': 4, 'random_state': 42, 'min_samples_leaf': 1}. Best is trial 81 with value: 0.921875.\n",
            "[I 2024-02-16 13:39:40,152] Trial 83 finished with value: 0.91875 and parameters: {'n_estimators': 753, 'max_depth': 50, 'min_samples_split': 4, 'random_state': 42, 'min_samples_leaf': 1}. Best is trial 81 with value: 0.921875.\n",
            "[I 2024-02-16 13:39:46,559] Trial 84 finished with value: 0.659375 and parameters: {'n_estimators': 783, 'max_depth': 48, 'min_samples_split': 4, 'random_state': 42, 'min_samples_leaf': 20}. Best is trial 81 with value: 0.921875.\n",
            "[I 2024-02-16 13:39:53,330] Trial 85 finished with value: 0.89375 and parameters: {'n_estimators': 724, 'max_depth': 47, 'min_samples_split': 4, 'random_state': 42, 'min_samples_leaf': 3}. Best is trial 81 with value: 0.921875.\n",
            "[I 2024-02-16 13:40:01,764] Trial 86 finished with value: 0.9125 and parameters: {'n_estimators': 825, 'max_depth': 50, 'min_samples_split': 3, 'random_state': 42, 'min_samples_leaf': 1}. Best is trial 81 with value: 0.921875.\n",
            "[I 2024-02-16 13:40:08,660] Trial 87 finished with value: 0.89375 and parameters: {'n_estimators': 708, 'max_depth': 47, 'min_samples_split': 4, 'random_state': 42, 'min_samples_leaf': 3}. Best is trial 81 with value: 0.921875.\n",
            "[I 2024-02-16 13:40:13,871] Trial 88 finished with value: 0.5875 and parameters: {'n_estimators': 642, 'max_depth': 49, 'min_samples_split': 5, 'random_state': 42, 'min_samples_leaf': 27}. Best is trial 81 with value: 0.921875.\n",
            "[I 2024-02-16 13:40:21,202] Trial 89 finished with value: 0.915625 and parameters: {'n_estimators': 697, 'max_depth': 45, 'min_samples_split': 3, 'random_state': 42, 'min_samples_leaf': 1}. Best is trial 81 with value: 0.921875.\n",
            "[I 2024-02-16 13:40:29,087] Trial 90 finished with value: 0.9125 and parameters: {'n_estimators': 744, 'max_depth': 30, 'min_samples_split': 2, 'random_state': 42, 'min_samples_leaf': 2}. Best is trial 81 with value: 0.921875.\n",
            "[I 2024-02-16 13:40:35,047] Trial 91 finished with value: 0.921875 and parameters: {'n_estimators': 640, 'max_depth': 50, 'min_samples_split': 2, 'random_state': 42, 'min_samples_leaf': 1}. Best is trial 81 with value: 0.921875.\n",
            "[I 2024-02-16 13:40:41,029] Trial 92 finished with value: 0.89375 and parameters: {'n_estimators': 685, 'max_depth': 50, 'min_samples_split': 4, 'random_state': 42, 'min_samples_leaf': 3}. Best is trial 81 with value: 0.921875.\n",
            "[I 2024-02-16 13:40:45,498] Trial 93 finished with value: 0.521875 and parameters: {'n_estimators': 641, 'max_depth': 48, 'min_samples_split': 2, 'random_state': 42, 'min_samples_leaf': 32}. Best is trial 81 with value: 0.921875.\n",
            "[I 2024-02-16 13:40:50,624] Trial 94 finished with value: 0.9125 and parameters: {'n_estimators': 548, 'max_depth': 47, 'min_samples_split': 3, 'random_state': 42, 'min_samples_leaf': 1}. Best is trial 81 with value: 0.921875.\n",
            "[I 2024-02-16 13:40:54,569] Trial 95 finished with value: 0.796875 and parameters: {'n_estimators': 459, 'max_depth': 48, 'min_samples_split': 15, 'random_state': 42, 'min_samples_leaf': 2}. Best is trial 81 with value: 0.921875.\n",
            "[I 2024-02-16 13:41:00,097] Trial 96 finished with value: 0.846875 and parameters: {'n_estimators': 665, 'max_depth': 26, 'min_samples_split': 5, 'random_state': 42, 'min_samples_leaf': 5}. Best is trial 81 with value: 0.921875.\n",
            "[I 2024-02-16 13:41:06,428] Trial 97 finished with value: 0.7375 and parameters: {'n_estimators': 771, 'max_depth': 50, 'min_samples_split': 26, 'random_state': 42, 'min_samples_leaf': 4}. Best is trial 81 with value: 0.921875.\n",
            "[I 2024-02-16 13:41:11,188] Trial 98 finished with value: 0.89375 and parameters: {'n_estimators': 515, 'max_depth': 49, 'min_samples_split': 6, 'random_state': 42, 'min_samples_leaf': 2}. Best is trial 81 with value: 0.921875.\n",
            "[I 2024-02-16 13:41:16,991] Trial 99 finished with value: 0.915625 and parameters: {'n_estimators': 622, 'max_depth': 46, 'min_samples_split': 3, 'random_state': 42, 'min_samples_leaf': 1}. Best is trial 81 with value: 0.921875.\n"
          ]
        },
        {
          "name": "stdout",
          "output_type": "stream",
          "text": [
            "Best params found : {'n_estimators': 643, 'max_depth': 48, 'min_samples_split': 4, 'random_state': 42, 'min_samples_leaf': 1}\n"
          ]
        },
        {
          "data": {
            "text/plain": [
              "0.9375"
            ]
          },
          "execution_count": 160,
          "metadata": {},
          "output_type": "execute_result"
        }
      ],
      "source": [
        "study = optuna.create_study(direction = 'maximize')\n",
        "study.optimize(objective, n_trials = 100)\n",
        "best_params = study.best_params\n",
        "print(\"Best params found :\", best_params)\n",
        "\n",
        "final_model = RandomForestClassifier(**best_params)\n",
        "final_model.fit(X_train_reduced, y_train)\n",
        "y_pred = final_model.predict(X_test_reduced)\n",
        "accuracy_score(y_test, y_pred)"
      ]
    },
    {
      "cell_type": "code",
      "execution_count": 161,
      "metadata": {
        "execution": {
          "iopub.execute_input": "2024-02-13T17:25:16.496439Z",
          "iopub.status.busy": "2024-02-13T17:25:16.495451Z",
          "iopub.status.idle": "2024-02-13T17:25:20.475300Z"
        },
        "id": "8GqCRlKpZoci",
        "outputId": "30f74b02-bcb5-423d-a9fa-c1e6125d5e2d",
        "trusted": true
      },
      "outputs": [
        {
          "name": "stdout",
          "output_type": "stream",
          "text": [
            "accuracy: 0.9375\n",
            "recall: 0.949074074074074\n",
            "precision: 0.9611111111111111\n",
            "f1-score: 0.9430555555555556\n",
            "roc_auc:  0.9736420986420986\n"
          ]
        }
      ],
      "source": [
        "final_model = RandomForestClassifier(**best_params)\n",
        "final_model.fit(X_train_reduced, y_train)\n",
        "y_pred = final_model.predict(X_test_reduced)\n",
        "prediction_results['random forest'] = y_pred\n",
        "\n",
        "accuracy = accuracy_score(y_test, y_pred)\n",
        "precision = precision_score(y_test, y_pred, average='macro')\n",
        "recall = recall_score(y_test, y_pred, average='macro')\n",
        "f1 = f1_score(y_test, y_pred, average='macro')\n",
        "\n",
        "# One-hot encoding for probability calculation (adapt if necessary)\n",
        "y_test_onehot = pd.get_dummies(y_test, prefix='label_')  # Assuming 'label_' prefix for clarity\n",
        "y_pred_onehot = pd.get_dummies(y_pred, prefix='label_')\n",
        "\n",
        "# ROC AUC score with multiclass handling\n",
        "roc_auc_macro = roc_auc_score(y_test_onehot, y_pred_onehot, average='macro', multi_class='ovo')  # Specify 'ovo' or 'ovr'\n",
        "\n",
        "print(\"accuracy:\", accuracy)\n",
        "print(\"recall:\", recall)\n",
        "print(\"precision:\", precision)\n",
        "print(\"f1-score:\", f1)\n",
        "print('roc_auc: ', roc_auc_macro)"
      ]
    },
    {
      "cell_type": "markdown",
      "metadata": {
        "id": "NpVtbGMPZoci"
      },
      "source": [
        "# Gassian NB"
      ]
    },
    {
      "cell_type": "markdown",
      "metadata": {
        "id": "XuZYbincZoci"
      },
      "source": [
        "**Pre-tunning**"
      ]
    },
    {
      "cell_type": "code",
      "execution_count": 162,
      "metadata": {
        "execution": {
          "iopub.execute_input": "2024-02-13T17:25:20.477214Z",
          "iopub.status.busy": "2024-02-13T17:25:20.476844Z",
          "iopub.status.idle": "2024-02-13T17:25:20.532249Z"
        },
        "id": "v5obTqtpZocj",
        "outputId": "8cf2abf0-528d-48f6-a6a0-3bb11401abe0",
        "trusted": true
      },
      "outputs": [
        {
          "name": "stdout",
          "output_type": "stream",
          "text": [
            "accuracy: 0.925\n",
            "recall: 0.9099099099099098\n",
            "precision: 0.9121621621621622\n",
            "f1-score: 0.8972972972972973\n",
            "roc_auc:  0.7181602364188973\n"
          ]
        }
      ],
      "source": [
        "from sklearn.naive_bayes import GaussianNB\n",
        "gnb = GaussianNB()\n",
        "gnb.fit(X_train_reduced, y_train)\n",
        "\n",
        "y_pred = gnb.predict(X_test_reduced)\n",
        "\n",
        "accuracy = accuracy_score(y_test, y_pred)\n",
        "precision = precision_score(y_test, y_pred, average='macro')\n",
        "recall = recall_score(y_test, y_pred, average='macro')\n",
        "f1 = f1_score(y_test, y_pred, average='macro')\n",
        "\n",
        "# One-hot encoding for probability calculation (adapt if necessary)\n",
        "y_test_onehot = pd.get_dummies(y_test, prefix='label_')  # Assuming 'label_' prefix for clarity\n",
        "y_pred_onehot = pd.get_dummies(y_pred, prefix='label_')\n",
        "\n",
        "# ROC AUC score with multiclass handling\n",
        "roc_auc_macro = roc_auc_score(y_test_onehot, y_pred_onehot, average='macro', multi_class='ovo')  # Specify 'ovo' or 'ovr'\n",
        "\n",
        "print(\"accuracy:\", accuracy)\n",
        "print(\"recall:\", recall)\n",
        "print(\"precision:\", precision)\n",
        "print(\"f1-score:\", f1)\n",
        "print('roc_auc: ', roc_auc_macro)\n"
      ]
    },
    {
      "cell_type": "markdown",
      "metadata": {
        "id": "li3_DxzxZocj"
      },
      "source": [
        "**Tunning**"
      ]
    },
    {
      "cell_type": "code",
      "execution_count": 163,
      "metadata": {
        "execution": {
          "iopub.execute_input": "2024-02-13T17:25:20.535981Z",
          "iopub.status.busy": "2024-02-13T17:25:20.534505Z",
          "iopub.status.idle": "2024-02-13T17:25:20.543920Z"
        },
        "id": "piCtTw6FZocj",
        "trusted": true
      },
      "outputs": [],
      "source": [
        "def objective(trial):\n",
        "    hyperparams = {\n",
        "        'var_smoothing': trial.suggest_float('var_smoothing', 1e-9, 1e-4, log = True)\n",
        "    }\n",
        "\n",
        "    model = GaussianNB(**hyperparams)\n",
        "    scores = cross_val_score(model, X_train_reduced, y_train, cv = kf,scoring = 'accuracy')\n",
        "    return np.mean(scores)"
      ]
    },
    {
      "cell_type": "code",
      "execution_count": 164,
      "metadata": {
        "execution": {
          "iopub.execute_input": "2024-02-13T17:25:20.547706Z",
          "iopub.status.busy": "2024-02-13T17:25:20.545971Z",
          "iopub.status.idle": "2024-02-13T17:25:23.474344Z"
        },
        "id": "rP15cDwgZocj",
        "outputId": "0db99e8f-d153-4106-92b9-86637213dbe4",
        "trusted": true
      },
      "outputs": [
        {
          "name": "stderr",
          "output_type": "stream",
          "text": [
            "[I 2024-02-16 13:41:22,778] A new study created in memory with name: no-name-5f8ecb24-affd-4425-a67e-2ebcb27949bd\n",
            "[I 2024-02-16 13:41:22,807] Trial 0 finished with value: 0.746875 and parameters: {'var_smoothing': 5.839523690895988e-08}. Best is trial 0 with value: 0.746875.\n",
            "[I 2024-02-16 13:41:22,834] Trial 1 finished with value: 0.746875 and parameters: {'var_smoothing': 1.3881904701595762e-06}. Best is trial 0 with value: 0.746875.\n",
            "[I 2024-02-16 13:41:22,865] Trial 2 finished with value: 0.746875 and parameters: {'var_smoothing': 5.63962904029412e-09}. Best is trial 0 with value: 0.746875.\n",
            "[I 2024-02-16 13:41:22,896] Trial 3 finished with value: 0.746875 and parameters: {'var_smoothing': 2.9645765235779734e-06}. Best is trial 0 with value: 0.746875.\n",
            "[I 2024-02-16 13:41:22,928] Trial 4 finished with value: 0.746875 and parameters: {'var_smoothing': 2.708548092316079e-09}. Best is trial 0 with value: 0.746875.\n",
            "[I 2024-02-16 13:41:22,957] Trial 5 finished with value: 0.746875 and parameters: {'var_smoothing': 3.0262467908036453e-05}. Best is trial 0 with value: 0.746875.\n",
            "[I 2024-02-16 13:41:22,983] Trial 6 finished with value: 0.746875 and parameters: {'var_smoothing': 2.2600866712641893e-05}. Best is trial 0 with value: 0.746875.\n",
            "[I 2024-02-16 13:41:23,008] Trial 7 finished with value: 0.746875 and parameters: {'var_smoothing': 1.8052651151482324e-08}. Best is trial 0 with value: 0.746875.\n",
            "[I 2024-02-16 13:41:23,032] Trial 8 finished with value: 0.746875 and parameters: {'var_smoothing': 1.6288540957298065e-08}. Best is trial 0 with value: 0.746875.\n",
            "[I 2024-02-16 13:41:23,054] Trial 9 finished with value: 0.746875 and parameters: {'var_smoothing': 6.836728351688163e-06}. Best is trial 0 with value: 0.746875.\n",
            "[I 2024-02-16 13:41:23,081] Trial 10 finished with value: 0.746875 and parameters: {'var_smoothing': 1.388408265714695e-07}. Best is trial 0 with value: 0.746875.\n",
            "[I 2024-02-16 13:41:23,107] Trial 11 finished with value: 0.746875 and parameters: {'var_smoothing': 3.1907390755234393e-07}. Best is trial 0 with value: 0.746875.\n",
            "[I 2024-02-16 13:41:23,132] Trial 12 finished with value: 0.746875 and parameters: {'var_smoothing': 4.4238117660612693e-07}. Best is trial 0 with value: 0.746875.\n",
            "[I 2024-02-16 13:41:23,158] Trial 13 finished with value: 0.746875 and parameters: {'var_smoothing': 1.1437818037043e-06}. Best is trial 0 with value: 0.746875.\n",
            "[I 2024-02-16 13:41:23,184] Trial 14 finished with value: 0.746875 and parameters: {'var_smoothing': 1.1444905812501734e-07}. Best is trial 0 with value: 0.746875.\n",
            "[I 2024-02-16 13:41:23,210] Trial 15 finished with value: 0.746875 and parameters: {'var_smoothing': 1.1502975296338297e-06}. Best is trial 0 with value: 0.746875.\n",
            "[I 2024-02-16 13:41:23,236] Trial 16 finished with value: 0.746875 and parameters: {'var_smoothing': 6.937949141002511e-08}. Best is trial 0 with value: 0.746875.\n",
            "[I 2024-02-16 13:41:23,261] Trial 17 finished with value: 0.746875 and parameters: {'var_smoothing': 1.4544482029569018e-09}. Best is trial 0 with value: 0.746875.\n",
            "[I 2024-02-16 13:41:23,287] Trial 18 finished with value: 0.746875 and parameters: {'var_smoothing': 4.034078159553524e-08}. Best is trial 0 with value: 0.746875.\n",
            "[I 2024-02-16 13:41:23,312] Trial 19 finished with value: 0.746875 and parameters: {'var_smoothing': 5.4925720043827324e-05}. Best is trial 0 with value: 0.746875.\n",
            "[I 2024-02-16 13:41:23,338] Trial 20 finished with value: 0.746875 and parameters: {'var_smoothing': 5.634092611843285e-07}. Best is trial 0 with value: 0.746875.\n",
            "[I 2024-02-16 13:41:23,367] Trial 21 finished with value: 0.746875 and parameters: {'var_smoothing': 6.875593009879385e-09}. Best is trial 0 with value: 0.746875.\n",
            "[I 2024-02-16 13:41:23,394] Trial 22 finished with value: 0.746875 and parameters: {'var_smoothing': 6.069770477224851e-09}. Best is trial 0 with value: 0.746875.\n",
            "[I 2024-02-16 13:41:23,419] Trial 23 finished with value: 0.746875 and parameters: {'var_smoothing': 1.1422558653021633e-09}. Best is trial 0 with value: 0.746875.\n",
            "[I 2024-02-16 13:41:23,525] Trial 24 finished with value: 0.746875 and parameters: {'var_smoothing': 2.878086196726356e-08}. Best is trial 0 with value: 0.746875.\n",
            "[I 2024-02-16 13:41:23,550] Trial 25 finished with value: 0.746875 and parameters: {'var_smoothing': 1.0495501230801172e-07}. Best is trial 0 with value: 0.746875.\n",
            "[I 2024-02-16 13:41:23,576] Trial 26 finished with value: 0.746875 and parameters: {'var_smoothing': 8.765106400640273e-09}. Best is trial 0 with value: 0.746875.\n",
            "[I 2024-02-16 13:41:23,600] Trial 27 finished with value: 0.746875 and parameters: {'var_smoothing': 4.802968599157239e-08}. Best is trial 0 with value: 0.746875.\n",
            "[I 2024-02-16 13:41:23,625] Trial 28 finished with value: 0.746875 and parameters: {'var_smoothing': 1.5275636252632228e-07}. Best is trial 0 with value: 0.746875.\n",
            "[I 2024-02-16 13:41:23,654] Trial 29 finished with value: 0.746875 and parameters: {'var_smoothing': 6.376109625837313e-06}. Best is trial 0 with value: 0.746875.\n",
            "[I 2024-02-16 13:41:23,681] Trial 30 finished with value: 0.746875 and parameters: {'var_smoothing': 3.6421290756248794e-09}. Best is trial 0 with value: 0.746875.\n",
            "[I 2024-02-16 13:41:23,723] Trial 31 finished with value: 0.746875 and parameters: {'var_smoothing': 2.231233842264284e-06}. Best is trial 0 with value: 0.746875.\n",
            "[I 2024-02-16 13:41:23,783] Trial 32 finished with value: 0.746875 and parameters: {'var_smoothing': 2.2184330632387956e-09}. Best is trial 0 with value: 0.746875.\n",
            "[I 2024-02-16 13:41:23,820] Trial 33 finished with value: 0.746875 and parameters: {'var_smoothing': 2.0558605619374758e-07}. Best is trial 0 with value: 0.746875.\n",
            "[I 2024-02-16 13:41:23,850] Trial 34 finished with value: 0.746875 and parameters: {'var_smoothing': 3.0026926963119964e-06}. Best is trial 0 with value: 0.746875.\n",
            "[I 2024-02-16 13:41:23,882] Trial 35 finished with value: 0.746875 and parameters: {'var_smoothing': 1.2275301164827866e-08}. Best is trial 0 with value: 0.746875.\n",
            "[I 2024-02-16 13:41:23,915] Trial 36 finished with value: 0.746875 and parameters: {'var_smoothing': 2.9464180682599516e-08}. Best is trial 0 with value: 0.746875.\n",
            "[I 2024-02-16 13:41:23,945] Trial 37 finished with value: 0.746875 and parameters: {'var_smoothing': 1.1305373723896217e-05}. Best is trial 0 with value: 0.746875.\n",
            "[I 2024-02-16 13:41:23,970] Trial 38 finished with value: 0.746875 and parameters: {'var_smoothing': 1.854279969722536e-08}. Best is trial 0 with value: 0.746875.\n",
            "[I 2024-02-16 13:41:23,997] Trial 39 finished with value: 0.746875 and parameters: {'var_smoothing': 2.913283379743755e-07}. Best is trial 0 with value: 0.746875.\n",
            "[I 2024-02-16 13:41:24,026] Trial 40 finished with value: 0.746875 and parameters: {'var_smoothing': 6.341854757417374e-08}. Best is trial 0 with value: 0.746875.\n",
            "[I 2024-02-16 13:41:24,052] Trial 41 finished with value: 0.746875 and parameters: {'var_smoothing': 3.2855243937800383e-09}. Best is trial 0 with value: 0.746875.\n",
            "[I 2024-02-16 13:41:24,079] Trial 42 finished with value: 0.746875 and parameters: {'var_smoothing': 4.68793631658744e-09}. Best is trial 0 with value: 0.746875.\n",
            "[I 2024-02-16 13:41:24,105] Trial 43 finished with value: 0.746875 and parameters: {'var_smoothing': 2.159543023465751e-09}. Best is trial 0 with value: 0.746875.\n",
            "[I 2024-02-16 13:41:24,132] Trial 44 finished with value: 0.746875 and parameters: {'var_smoothing': 1.3017142441657506e-08}. Best is trial 0 with value: 0.746875.\n",
            "[I 2024-02-16 13:41:24,158] Trial 45 finished with value: 0.746875 and parameters: {'var_smoothing': 2.297490909967092e-08}. Best is trial 0 with value: 0.746875.\n",
            "[I 2024-02-16 13:41:24,185] Trial 46 finished with value: 0.746875 and parameters: {'var_smoothing': 9.157619744210904e-09}. Best is trial 0 with value: 0.746875.\n",
            "[I 2024-02-16 13:41:24,212] Trial 47 finished with value: 0.746875 and parameters: {'var_smoothing': 1.8430439865648857e-09}. Best is trial 0 with value: 0.746875.\n",
            "[I 2024-02-16 13:41:24,238] Trial 48 finished with value: 0.746875 and parameters: {'var_smoothing': 7.203259647079126e-07}. Best is trial 0 with value: 0.746875.\n",
            "[I 2024-02-16 13:41:24,265] Trial 49 finished with value: 0.746875 and parameters: {'var_smoothing': 4.541955991616801e-09}. Best is trial 0 with value: 0.746875.\n",
            "[I 2024-02-16 13:41:24,291] Trial 50 finished with value: 0.746875 and parameters: {'var_smoothing': 1.0215842998709565e-06}. Best is trial 0 with value: 0.746875.\n",
            "[I 2024-02-16 13:41:24,317] Trial 51 finished with value: 0.746875 and parameters: {'var_smoothing': 4.5702927157900914e-05}. Best is trial 0 with value: 0.746875.\n",
            "[I 2024-02-16 13:41:24,344] Trial 52 finished with value: 0.753125 and parameters: {'var_smoothing': 9.555448986550812e-05}. Best is trial 52 with value: 0.753125.\n",
            "[I 2024-02-16 13:41:24,371] Trial 53 finished with value: 0.75 and parameters: {'var_smoothing': 8.220215553464712e-05}. Best is trial 52 with value: 0.753125.\n",
            "[I 2024-02-16 13:41:24,398] Trial 54 finished with value: 0.746875 and parameters: {'var_smoothing': 2.91371544811223e-05}. Best is trial 52 with value: 0.753125.\n",
            "[I 2024-02-16 13:41:24,426] Trial 55 finished with value: 0.746875 and parameters: {'var_smoothing': 7.030307293934279e-05}. Best is trial 52 with value: 0.753125.\n",
            "[I 2024-02-16 13:41:24,454] Trial 56 finished with value: 0.753125 and parameters: {'var_smoothing': 9.810990816797255e-05}. Best is trial 52 with value: 0.753125.\n",
            "[I 2024-02-16 13:41:24,482] Trial 57 finished with value: 0.753125 and parameters: {'var_smoothing': 9.672986795555781e-05}. Best is trial 52 with value: 0.753125.\n",
            "[I 2024-02-16 13:41:24,509] Trial 58 finished with value: 0.753125 and parameters: {'var_smoothing': 9.749906990651716e-05}. Best is trial 52 with value: 0.753125.\n",
            "[I 2024-02-16 13:41:24,538] Trial 59 finished with value: 0.75 and parameters: {'var_smoothing': 7.738444172981721e-05}. Best is trial 52 with value: 0.753125.\n",
            "[I 2024-02-16 13:41:24,565] Trial 60 finished with value: 0.753125 and parameters: {'var_smoothing': 9.157796060064023e-05}. Best is trial 52 with value: 0.753125.\n",
            "[I 2024-02-16 13:41:24,591] Trial 61 finished with value: 0.753125 and parameters: {'var_smoothing': 9.949142209928378e-05}. Best is trial 52 with value: 0.753125.\n",
            "[I 2024-02-16 13:41:24,618] Trial 62 finished with value: 0.753125 and parameters: {'var_smoothing': 9.853462812984057e-05}. Best is trial 52 with value: 0.753125.\n",
            "[I 2024-02-16 13:41:24,646] Trial 63 finished with value: 0.753125 and parameters: {'var_smoothing': 9.888707975464849e-05}. Best is trial 52 with value: 0.753125.\n",
            "[I 2024-02-16 13:41:24,674] Trial 64 finished with value: 0.746875 and parameters: {'var_smoothing': 4.8115051818338746e-05}. Best is trial 52 with value: 0.753125.\n",
            "[I 2024-02-16 13:41:24,705] Trial 65 finished with value: 0.746875 and parameters: {'var_smoothing': 4.164055606863493e-05}. Best is trial 52 with value: 0.753125.\n",
            "[I 2024-02-16 13:41:24,733] Trial 66 finished with value: 0.753125 and parameters: {'var_smoothing': 9.753702461705043e-05}. Best is trial 52 with value: 0.753125.\n",
            "[I 2024-02-16 13:41:24,759] Trial 67 finished with value: 0.746875 and parameters: {'var_smoothing': 6.119933252575388e-05}. Best is trial 52 with value: 0.753125.\n",
            "[I 2024-02-16 13:41:24,785] Trial 68 finished with value: 0.746875 and parameters: {'var_smoothing': 3.25664238034827e-05}. Best is trial 52 with value: 0.753125.\n",
            "[I 2024-02-16 13:41:24,812] Trial 69 finished with value: 0.746875 and parameters: {'var_smoothing': 2.212908992325273e-05}. Best is trial 52 with value: 0.753125.\n",
            "[I 2024-02-16 13:41:24,839] Trial 70 finished with value: 0.746875 and parameters: {'var_smoothing': 6.309509414965462e-05}. Best is trial 52 with value: 0.753125.\n",
            "[I 2024-02-16 13:41:24,865] Trial 71 finished with value: 0.753125 and parameters: {'var_smoothing': 9.659898442786414e-05}. Best is trial 52 with value: 0.753125.\n",
            "[I 2024-02-16 13:41:24,892] Trial 72 finished with value: 0.746875 and parameters: {'var_smoothing': 6.454281261023887e-05}. Best is trial 52 with value: 0.753125.\n",
            "[I 2024-02-16 13:41:24,919] Trial 73 finished with value: 0.753125 and parameters: {'var_smoothing': 9.384215311493628e-05}. Best is trial 52 with value: 0.753125.\n",
            "[I 2024-02-16 13:41:24,946] Trial 74 finished with value: 0.746875 and parameters: {'var_smoothing': 4.613872642834585e-05}. Best is trial 52 with value: 0.753125.\n",
            "[I 2024-02-16 13:41:24,972] Trial 75 finished with value: 0.753125 and parameters: {'var_smoothing': 9.698057181300219e-05}. Best is trial 52 with value: 0.753125.\n",
            "[I 2024-02-16 13:41:24,998] Trial 76 finished with value: 0.746875 and parameters: {'var_smoothing': 3.2944056094026236e-05}. Best is trial 52 with value: 0.753125.\n",
            "[I 2024-02-16 13:41:25,028] Trial 77 finished with value: 0.746875 and parameters: {'var_smoothing': 5.6612089048868336e-05}. Best is trial 52 with value: 0.753125.\n",
            "[I 2024-02-16 13:41:25,067] Trial 78 finished with value: 0.746875 and parameters: {'var_smoothing': 2.143482118061218e-05}. Best is trial 52 with value: 0.753125.\n",
            "[I 2024-02-16 13:41:25,097] Trial 79 finished with value: 0.746875 and parameters: {'var_smoothing': 6.982077112015553e-05}. Best is trial 52 with value: 0.753125.\n",
            "[I 2024-02-16 13:41:25,133] Trial 80 finished with value: 0.746875 and parameters: {'var_smoothing': 3.803229403701545e-05}. Best is trial 52 with value: 0.753125.\n",
            "[I 2024-02-16 13:41:25,165] Trial 81 finished with value: 0.753125 and parameters: {'var_smoothing': 9.861363650243332e-05}. Best is trial 52 with value: 0.753125.\n",
            "[I 2024-02-16 13:41:25,193] Trial 82 finished with value: 0.746875 and parameters: {'var_smoothing': 5.678972835853113e-05}. Best is trial 52 with value: 0.753125.\n",
            "[I 2024-02-16 13:41:25,220] Trial 83 finished with value: 0.75 and parameters: {'var_smoothing': 7.724028770180308e-05}. Best is trial 52 with value: 0.753125.\n",
            "[I 2024-02-16 13:41:25,248] Trial 84 finished with value: 0.746875 and parameters: {'var_smoothing': 4.8622067596920706e-05}. Best is trial 52 with value: 0.753125.\n",
            "[I 2024-02-16 13:41:25,277] Trial 85 finished with value: 0.753125 and parameters: {'var_smoothing': 9.662232411448128e-05}. Best is trial 52 with value: 0.753125.\n",
            "[I 2024-02-16 13:41:25,308] Trial 86 finished with value: 0.746875 and parameters: {'var_smoothing': 2.735268745988207e-05}. Best is trial 52 with value: 0.753125.\n",
            "[I 2024-02-16 13:41:25,336] Trial 87 finished with value: 0.746875 and parameters: {'var_smoothing': 4.091549504929355e-05}. Best is trial 52 with value: 0.753125.\n",
            "[I 2024-02-16 13:41:25,378] Trial 88 finished with value: 0.746875 and parameters: {'var_smoothing': 7.040390750070248e-05}. Best is trial 52 with value: 0.753125.\n",
            "[I 2024-02-16 13:41:25,417] Trial 89 finished with value: 0.746875 and parameters: {'var_smoothing': 1.6861137679727384e-05}. Best is trial 52 with value: 0.753125.\n",
            "[I 2024-02-16 13:41:25,451] Trial 90 finished with value: 0.746875 and parameters: {'var_smoothing': 3.799296627219779e-05}. Best is trial 52 with value: 0.753125.\n",
            "[I 2024-02-16 13:41:25,481] Trial 91 finished with value: 0.753125 and parameters: {'var_smoothing': 9.331813430435098e-05}. Best is trial 52 with value: 0.753125.\n",
            "[I 2024-02-16 13:41:25,510] Trial 92 finished with value: 0.746875 and parameters: {'var_smoothing': 5.4185431090878385e-05}. Best is trial 52 with value: 0.753125.\n",
            "[I 2024-02-16 13:41:25,539] Trial 93 finished with value: 0.746875 and parameters: {'var_smoothing': 7.305253667221969e-05}. Best is trial 52 with value: 0.753125.\n",
            "[I 2024-02-16 13:41:25,574] Trial 94 finished with value: 0.753125 and parameters: {'var_smoothing': 9.919877700427228e-05}. Best is trial 52 with value: 0.753125.\n",
            "[I 2024-02-16 13:41:25,609] Trial 95 finished with value: 0.746875 and parameters: {'var_smoothing': 5.394364554057321e-05}. Best is trial 52 with value: 0.753125.\n",
            "[I 2024-02-16 13:41:25,639] Trial 96 finished with value: 0.746875 and parameters: {'var_smoothing': 7.411439237581454e-05}. Best is trial 52 with value: 0.753125.\n",
            "[I 2024-02-16 13:41:25,667] Trial 97 finished with value: 0.746875 and parameters: {'var_smoothing': 3.759253362050246e-05}. Best is trial 52 with value: 0.753125.\n",
            "[I 2024-02-16 13:41:25,695] Trial 98 finished with value: 0.746875 and parameters: {'var_smoothing': 2.7445654033571854e-05}. Best is trial 52 with value: 0.753125.\n",
            "[I 2024-02-16 13:41:25,723] Trial 99 finished with value: 0.75 and parameters: {'var_smoothing': 7.801687866125269e-05}. Best is trial 52 with value: 0.753125.\n"
          ]
        },
        {
          "name": "stdout",
          "output_type": "stream",
          "text": [
            "Best params found : {'var_smoothing': 9.555448986550812e-05}\n",
            "accuracy: 0.9375\n",
            "recall: 0.9166666666666666\n",
            "precision: 0.9144144144144145\n",
            "f1-score: 0.9051480051480051\n",
            "roc_auc:  0.721808267361232\n"
          ]
        }
      ],
      "source": [
        "study = optuna.create_study(direction = 'maximize')\n",
        "study.optimize(objective, n_trials = 100)\n",
        "best_params = study.best_params\n",
        "print(\"Best params found :\", best_params)\n",
        "\n",
        "final_model = GaussianNB(**best_params)\n",
        "final_model.fit(X_train_reduced, y_train)\n",
        "y_pred = final_model.predict(X_test_reduced)\n",
        "prediction_results['gnb'] = y_pred\n",
        "\n",
        "accuracy = accuracy_score(y_test, y_pred)\n",
        "precision = precision_score(y_test, y_pred, average='macro')\n",
        "recall = recall_score(y_test, y_pred, average='macro')\n",
        "f1 = f1_score(y_test, y_pred, average='macro')\n",
        "\n",
        "# One-hot encoding for probability calculation (adapt if necessary)\n",
        "y_test_onehot = pd.get_dummies(y_test, prefix='label_')  # Assuming 'label_' prefix for clarity\n",
        "y_pred_onehot = pd.get_dummies(y_pred, prefix='label_')\n",
        "\n",
        "# ROC AUC score with multiclass handling\n",
        "roc_auc_macro = roc_auc_score(y_test_onehot, y_pred_onehot, average='macro', multi_class='ovo')  # Specify 'ovo' or 'ovr'\n",
        "\n",
        "print(\"accuracy:\", accuracy)\n",
        "print(\"recall:\", recall)\n",
        "print(\"precision:\", precision)\n",
        "print(\"f1-score:\", f1)\n",
        "print('roc_auc: ', roc_auc_macro)"
      ]
    },
    {
      "cell_type": "markdown",
      "metadata": {
        "id": "S4cNMCl9Zocj"
      },
      "source": [
        "# Logistic Regression"
      ]
    },
    {
      "cell_type": "markdown",
      "metadata": {
        "id": "0Qah5jSPZock"
      },
      "source": [
        "**Normal**"
      ]
    },
    {
      "cell_type": "code",
      "execution_count": 165,
      "metadata": {
        "execution": {
          "iopub.execute_input": "2024-02-13T17:25:23.477861Z",
          "iopub.status.busy": "2024-02-13T17:25:23.476209Z",
          "iopub.status.idle": "2024-02-13T17:25:27.250383Z"
        },
        "id": "ZRsfyCKJZock",
        "outputId": "f9094762-c411-4a2e-f9ff-422ef7d05d87",
        "trusted": true
      },
      "outputs": [
        {
          "name": "stdout",
          "output_type": "stream",
          "text": [
            "accuracy: 0.975\n",
            "recall: 0.9791666666666666\n",
            "precision: 0.9837962962962963\n",
            "f1-score: 0.9772486772486771\n",
            "roc_auc:  0.9892248954748956\n"
          ]
        }
      ],
      "source": [
        "lr = LogisticRegression()\n",
        "lr.fit(X_train_reduced, y_train)\n",
        "y_pred = lr.predict(X_test_reduced)\n",
        "\n",
        "accuracy = accuracy_score(y_test, y_pred)\n",
        "precision = precision_score(y_test, y_pred, average='macro')\n",
        "recall = recall_score(y_test, y_pred, average='macro')\n",
        "f1 = f1_score(y_test, y_pred, average='macro')\n",
        "\n",
        "# One-hot encoding for probability calculation (adapt if necessary)\n",
        "y_test_onehot = pd.get_dummies(y_test, prefix='label_')  # Assuming 'label_' prefix for clarity\n",
        "y_pred_onehot = pd.get_dummies(y_pred, prefix='label_')\n",
        "\n",
        "# ROC AUC score with multiclass handling\n",
        "roc_auc_macro = roc_auc_score(y_test_onehot, y_pred_onehot, average='macro', multi_class='ovo')  # Specify 'ovo' or 'ovr'\n",
        "\n",
        "print(\"accuracy:\", accuracy)\n",
        "print(\"recall:\", recall)\n",
        "print(\"precision:\", precision)\n",
        "print(\"f1-score:\", f1)\n",
        "print('roc_auc: ', roc_auc_macro)"
      ]
    },
    {
      "cell_type": "markdown",
      "metadata": {
        "id": "PgX6otSxZock"
      },
      "source": [
        "**Tunning**"
      ]
    },
    {
      "cell_type": "code",
      "execution_count": 166,
      "metadata": {
        "execution": {
          "iopub.execute_input": "2024-02-13T17:25:27.253176Z",
          "iopub.status.busy": "2024-02-13T17:25:27.252357Z",
          "iopub.status.idle": "2024-02-13T17:25:27.264277Z"
        },
        "id": "lNshzG12Zock",
        "trusted": true
      },
      "outputs": [],
      "source": [
        "import optuna\n",
        "from sklearn.model_selection import cross_val_score\n",
        "import warnings\n",
        "warnings.filterwarnings('ignore')\n",
        "\n",
        "\n",
        "def objective(trial):\n",
        "    hyperparams = {\n",
        "        'solver': trial.suggest_categorical('solver', ['lbfgs', 'liblinear', 'newton-cg', 'saga']),\n",
        "        'penalty': trial.suggest_categorical('penalty', ['l2']),\n",
        "        'multi_class': trial.suggest_categorical('multi_class', ['ovr']),\n",
        "        'C': trial.suggest_loguniform(\"C\", 1e-3, 1e3),\n",
        "        'n_jobs': -1\n",
        "    }\n",
        "\n",
        "    model = LogisticRegression(**hyperparams)\n",
        "    scores = cross_val_score(model, X_train_reduced,\n",
        "                             y_train, cv=kf, scoring='accuracy')\n",
        "    return np.mean(scores)"
      ]
    },
    {
      "cell_type": "code",
      "execution_count": 167,
      "metadata": {
        "execution": {
          "iopub.execute_input": "2024-02-13T17:25:27.267640Z",
          "iopub.status.busy": "2024-02-13T17:25:27.267017Z",
          "iopub.status.idle": "2024-02-13T17:38:48.111231Z"
        },
        "id": "vUMJwEDjZocl",
        "outputId": "8f6d21a5-918b-46e2-f044-41e71a038cd2",
        "trusted": true
      },
      "outputs": [
        {
          "name": "stderr",
          "output_type": "stream",
          "text": [
            "[I 2024-02-16 13:41:25,991] A new study created in memory with name: no-name-39bb7bfb-1863-43f7-a9b5-478d0ba63f76\n",
            "[I 2024-02-16 13:41:26,577] Trial 0 finished with value: 0.846875 and parameters: {'solver': 'saga', 'penalty': 'l2', 'multi_class': 'ovr', 'C': 176.10033805703344}. Best is trial 0 with value: 0.846875.\n",
            "[I 2024-02-16 13:41:27,190] Trial 1 finished with value: 0.846875 and parameters: {'solver': 'saga', 'penalty': 'l2', 'multi_class': 'ovr', 'C': 46.62012583227125}. Best is trial 0 with value: 0.846875.\n",
            "[I 2024-02-16 13:41:30,973] Trial 2 finished with value: 0.925 and parameters: {'solver': 'liblinear', 'penalty': 'l2', 'multi_class': 'ovr', 'C': 0.2969974718905308}. Best is trial 2 with value: 0.925.\n",
            "[I 2024-02-16 13:41:34,050] Trial 3 finished with value: 0.86875 and parameters: {'solver': 'lbfgs', 'penalty': 'l2', 'multi_class': 'ovr', 'C': 473.45133644380525}. Best is trial 2 with value: 0.925.\n",
            "[I 2024-02-16 13:41:38,463] Trial 4 finished with value: 0.96875 and parameters: {'solver': 'newton-cg', 'penalty': 'l2', 'multi_class': 'ovr', 'C': 0.11693732624359708}. Best is trial 4 with value: 0.96875.\n",
            "[I 2024-02-16 13:41:43,908] Trial 5 finished with value: 0.93125 and parameters: {'solver': 'liblinear', 'penalty': 'l2', 'multi_class': 'ovr', 'C': 319.9202753355978}. Best is trial 4 with value: 0.96875.\n",
            "[I 2024-02-16 13:41:44,592] Trial 6 finished with value: 0.96875 and parameters: {'solver': 'lbfgs', 'penalty': 'l2', 'multi_class': 'ovr', 'C': 47.67630344153045}. Best is trial 4 with value: 0.96875.\n",
            "[I 2024-02-16 13:41:49,336] Trial 7 finished with value: 0.971875 and parameters: {'solver': 'newton-cg', 'penalty': 'l2', 'multi_class': 'ovr', 'C': 0.44304969258298343}. Best is trial 7 with value: 0.971875.\n",
            "[I 2024-02-16 13:41:53,643] Trial 8 finished with value: 0.928125 and parameters: {'solver': 'liblinear', 'penalty': 'l2', 'multi_class': 'ovr', 'C': 6.6300861384864245}. Best is trial 7 with value: 0.971875.\n",
            "[I 2024-02-16 13:41:54,345] Trial 9 finished with value: 0.846875 and parameters: {'solver': 'saga', 'penalty': 'l2', 'multi_class': 'ovr', 'C': 0.8188636386643826}. Best is trial 7 with value: 0.971875.\n",
            "[I 2024-02-16 13:42:00,077] Trial 10 finished with value: 0.978125 and parameters: {'solver': 'newton-cg', 'penalty': 'l2', 'multi_class': 'ovr', 'C': 0.004559581926751442}. Best is trial 10 with value: 0.978125.\n",
            "[I 2024-02-16 13:42:04,900] Trial 11 finished with value: 0.978125 and parameters: {'solver': 'newton-cg', 'penalty': 'l2', 'multi_class': 'ovr', 'C': 0.002775260763198712}. Best is trial 10 with value: 0.978125.\n",
            "[I 2024-02-16 13:42:09,579] Trial 12 finished with value: 0.978125 and parameters: {'solver': 'newton-cg', 'penalty': 'l2', 'multi_class': 'ovr', 'C': 0.0016903779995980765}. Best is trial 10 with value: 0.978125.\n",
            "[I 2024-02-16 13:42:14,952] Trial 13 finished with value: 0.978125 and parameters: {'solver': 'newton-cg', 'penalty': 'l2', 'multi_class': 'ovr', 'C': 0.0010171489759354026}. Best is trial 10 with value: 0.978125.\n",
            "[I 2024-02-16 13:42:20,900] Trial 14 finished with value: 0.975 and parameters: {'solver': 'newton-cg', 'penalty': 'l2', 'multi_class': 'ovr', 'C': 0.01281644722413807}. Best is trial 10 with value: 0.978125.\n",
            "[I 2024-02-16 13:42:26,420] Trial 15 finished with value: 0.975 and parameters: {'solver': 'newton-cg', 'penalty': 'l2', 'multi_class': 'ovr', 'C': 0.018092792475079104}. Best is trial 10 with value: 0.978125.\n",
            "[I 2024-02-16 13:42:31,963] Trial 16 finished with value: 0.978125 and parameters: {'solver': 'newton-cg', 'penalty': 'l2', 'multi_class': 'ovr', 'C': 0.008849985316027207}. Best is trial 10 with value: 0.978125.\n",
            "[I 2024-02-16 13:42:37,445] Trial 17 finished with value: 0.971875 and parameters: {'solver': 'newton-cg', 'penalty': 'l2', 'multi_class': 'ovr', 'C': 0.05093469130741965}. Best is trial 10 with value: 0.978125.\n",
            "[I 2024-02-16 13:42:38,198] Trial 18 finished with value: 0.978125 and parameters: {'solver': 'lbfgs', 'penalty': 'l2', 'multi_class': 'ovr', 'C': 0.003538672090990606}. Best is trial 10 with value: 0.978125.\n",
            "[I 2024-02-16 13:42:43,879] Trial 19 finished with value: 0.978125 and parameters: {'solver': 'newton-cg', 'penalty': 'l2', 'multi_class': 'ovr', 'C': 0.005229049000465123}. Best is trial 10 with value: 0.978125.\n",
            "[I 2024-02-16 13:42:49,202] Trial 20 finished with value: 0.975 and parameters: {'solver': 'newton-cg', 'penalty': 'l2', 'multi_class': 'ovr', 'C': 0.03384885550233863}. Best is trial 10 with value: 0.978125.\n",
            "[I 2024-02-16 13:42:54,621] Trial 21 finished with value: 0.978125 and parameters: {'solver': 'newton-cg', 'penalty': 'l2', 'multi_class': 'ovr', 'C': 0.0013422249317087476}. Best is trial 10 with value: 0.978125.\n",
            "[I 2024-02-16 13:43:00,147] Trial 22 finished with value: 0.978125 and parameters: {'solver': 'newton-cg', 'penalty': 'l2', 'multi_class': 'ovr', 'C': 0.002090363617704072}. Best is trial 10 with value: 0.978125.\n",
            "[I 2024-02-16 13:43:05,659] Trial 23 finished with value: 0.978125 and parameters: {'solver': 'newton-cg', 'penalty': 'l2', 'multi_class': 'ovr', 'C': 0.005412249643493347}. Best is trial 10 with value: 0.978125.\n",
            "[I 2024-02-16 13:43:10,667] Trial 24 finished with value: 0.978125 and parameters: {'solver': 'newton-cg', 'penalty': 'l2', 'multi_class': 'ovr', 'C': 0.001092719634514991}. Best is trial 10 with value: 0.978125.\n",
            "[I 2024-02-16 13:43:15,721] Trial 25 finished with value: 0.978125 and parameters: {'solver': 'newton-cg', 'penalty': 'l2', 'multi_class': 'ovr', 'C': 0.005116006574239264}. Best is trial 10 with value: 0.978125.\n",
            "[I 2024-02-16 13:43:16,234] Trial 26 finished with value: 0.846875 and parameters: {'solver': 'saga', 'penalty': 'l2', 'multi_class': 'ovr', 'C': 0.022757220549777142}. Best is trial 10 with value: 0.978125.\n",
            "[I 2024-02-16 13:43:19,534] Trial 27 finished with value: 0.915625 and parameters: {'solver': 'liblinear', 'penalty': 'l2', 'multi_class': 'ovr', 'C': 0.07784369265010141}. Best is trial 10 with value: 0.978125.\n",
            "[I 2024-02-16 13:43:20,213] Trial 28 finished with value: 0.978125 and parameters: {'solver': 'lbfgs', 'penalty': 'l2', 'multi_class': 'ovr', 'C': 0.0028547088398112237}. Best is trial 10 with value: 0.978125.\n",
            "[I 2024-02-16 13:43:20,804] Trial 29 finished with value: 0.846875 and parameters: {'solver': 'saga', 'penalty': 'l2', 'multi_class': 'ovr', 'C': 0.016825307350803266}. Best is trial 10 with value: 0.978125.\n",
            "[I 2024-02-16 13:43:26,031] Trial 30 finished with value: 0.978125 and parameters: {'solver': 'newton-cg', 'penalty': 'l2', 'multi_class': 'ovr', 'C': 0.0026181351187483833}. Best is trial 10 with value: 0.978125.\n",
            "[I 2024-02-16 13:43:31,261] Trial 31 finished with value: 0.978125 and parameters: {'solver': 'newton-cg', 'penalty': 'l2', 'multi_class': 'ovr', 'C': 0.001100556768994565}. Best is trial 10 with value: 0.978125.\n",
            "[I 2024-02-16 13:43:36,422] Trial 32 finished with value: 0.978125 and parameters: {'solver': 'newton-cg', 'penalty': 'l2', 'multi_class': 'ovr', 'C': 0.001013141549033633}. Best is trial 10 with value: 0.978125.\n",
            "[I 2024-02-16 13:43:42,045] Trial 33 finished with value: 0.978125 and parameters: {'solver': 'newton-cg', 'penalty': 'l2', 'multi_class': 'ovr', 'C': 0.008562192825627734}. Best is trial 10 with value: 0.978125.\n",
            "[I 2024-02-16 13:43:47,915] Trial 34 finished with value: 0.978125 and parameters: {'solver': 'newton-cg', 'penalty': 'l2', 'multi_class': 'ovr', 'C': 0.00274324654002653}. Best is trial 10 with value: 0.978125.\n",
            "[I 2024-02-16 13:43:48,556] Trial 35 finished with value: 0.846875 and parameters: {'solver': 'saga', 'penalty': 'l2', 'multi_class': 'ovr', 'C': 0.007629781776557501}. Best is trial 10 with value: 0.978125.\n",
            "[I 2024-02-16 13:43:52,773] Trial 36 finished with value: 0.921875 and parameters: {'solver': 'liblinear', 'penalty': 'l2', 'multi_class': 'ovr', 'C': 0.15211602457331327}. Best is trial 10 with value: 0.978125.\n",
            "[I 2024-02-16 13:43:53,389] Trial 37 finished with value: 0.978125 and parameters: {'solver': 'lbfgs', 'penalty': 'l2', 'multi_class': 'ovr', 'C': 0.033194058854232315}. Best is trial 10 with value: 0.978125.\n",
            "[I 2024-02-16 13:43:59,043] Trial 38 finished with value: 0.978125 and parameters: {'solver': 'newton-cg', 'penalty': 'l2', 'multi_class': 'ovr', 'C': 0.002871309383574641}. Best is trial 10 with value: 0.978125.\n",
            "[I 2024-02-16 13:44:03,914] Trial 39 finished with value: 0.975 and parameters: {'solver': 'newton-cg', 'penalty': 'l2', 'multi_class': 'ovr', 'C': 0.011425311079094789}. Best is trial 10 with value: 0.978125.\n",
            "[I 2024-02-16 13:44:05,649] Trial 40 finished with value: 0.846875 and parameters: {'solver': 'liblinear', 'penalty': 'l2', 'multi_class': 'ovr', 'C': 0.0018428983320996984}. Best is trial 10 with value: 0.978125.\n",
            "[I 2024-02-16 13:44:10,352] Trial 41 finished with value: 0.978125 and parameters: {'solver': 'newton-cg', 'penalty': 'l2', 'multi_class': 'ovr', 'C': 0.008718411961632533}. Best is trial 10 with value: 0.978125.\n",
            "[I 2024-02-16 13:44:14,850] Trial 42 finished with value: 0.978125 and parameters: {'solver': 'newton-cg', 'penalty': 'l2', 'multi_class': 'ovr', 'C': 0.004804216934050983}. Best is trial 10 with value: 0.978125.\n",
            "[I 2024-02-16 13:44:19,363] Trial 43 finished with value: 0.978125 and parameters: {'solver': 'newton-cg', 'penalty': 'l2', 'multi_class': 'ovr', 'C': 0.0017427751839328594}. Best is trial 10 with value: 0.978125.\n",
            "[I 2024-02-16 13:44:23,799] Trial 44 finished with value: 0.975 and parameters: {'solver': 'newton-cg', 'penalty': 'l2', 'multi_class': 'ovr', 'C': 0.012781013260561896}. Best is trial 10 with value: 0.978125.\n",
            "[I 2024-02-16 13:44:28,333] Trial 45 finished with value: 0.978125 and parameters: {'solver': 'newton-cg', 'penalty': 'l2', 'multi_class': 'ovr', 'C': 0.004116616150590942}. Best is trial 10 with value: 0.978125.\n",
            "[I 2024-02-16 13:44:28,895] Trial 46 finished with value: 0.978125 and parameters: {'solver': 'lbfgs', 'penalty': 'l2', 'multi_class': 'ovr', 'C': 0.0018169043735440525}. Best is trial 10 with value: 0.978125.\n",
            "[I 2024-02-16 13:44:33,262] Trial 47 finished with value: 0.975 and parameters: {'solver': 'newton-cg', 'penalty': 'l2', 'multi_class': 'ovr', 'C': 0.02550645482208499}. Best is trial 10 with value: 0.978125.\n",
            "[I 2024-02-16 13:44:37,805] Trial 48 finished with value: 0.978125 and parameters: {'solver': 'newton-cg', 'penalty': 'l2', 'multi_class': 'ovr', 'C': 0.007312796456171824}. Best is trial 10 with value: 0.978125.\n",
            "[I 2024-02-16 13:44:38,303] Trial 49 finished with value: 0.846875 and parameters: {'solver': 'saga', 'penalty': 'l2', 'multi_class': 'ovr', 'C': 0.04148890481176482}. Best is trial 10 with value: 0.978125.\n",
            "[I 2024-02-16 13:44:42,730] Trial 50 finished with value: 0.978125 and parameters: {'solver': 'newton-cg', 'penalty': 'l2', 'multi_class': 'ovr', 'C': 0.014349809771225817}. Best is trial 10 with value: 0.978125.\n",
            "[I 2024-02-16 13:44:43,309] Trial 51 finished with value: 0.978125 and parameters: {'solver': 'lbfgs', 'penalty': 'l2', 'multi_class': 'ovr', 'C': 0.002849132201364745}. Best is trial 10 with value: 0.978125.\n",
            "[I 2024-02-16 13:44:43,882] Trial 52 finished with value: 0.978125 and parameters: {'solver': 'lbfgs', 'penalty': 'l2', 'multi_class': 'ovr', 'C': 0.0010420204518359647}. Best is trial 10 with value: 0.978125.\n",
            "[I 2024-02-16 13:44:44,493] Trial 53 finished with value: 0.978125 and parameters: {'solver': 'lbfgs', 'penalty': 'l2', 'multi_class': 'ovr', 'C': 0.003131499233290692}. Best is trial 10 with value: 0.978125.\n",
            "[I 2024-02-16 13:44:45,087] Trial 54 finished with value: 0.975 and parameters: {'solver': 'lbfgs', 'penalty': 'l2', 'multi_class': 'ovr', 'C': 0.00489725864465088}. Best is trial 10 with value: 0.978125.\n",
            "[I 2024-02-16 13:44:49,716] Trial 55 finished with value: 0.978125 and parameters: {'solver': 'newton-cg', 'penalty': 'l2', 'multi_class': 'ovr', 'C': 0.0017416948807682303}. Best is trial 10 with value: 0.978125.\n",
            "[I 2024-02-16 13:44:51,921] Trial 56 finished with value: 0.865625 and parameters: {'solver': 'liblinear', 'penalty': 'l2', 'multi_class': 'ovr', 'C': 0.0060170144741835884}. Best is trial 10 with value: 0.978125.\n",
            "[I 2024-02-16 13:44:52,461] Trial 57 finished with value: 0.978125 and parameters: {'solver': 'lbfgs', 'penalty': 'l2', 'multi_class': 'ovr', 'C': 0.0036498382984848877}. Best is trial 10 with value: 0.978125.\n",
            "[I 2024-02-16 13:44:57,173] Trial 58 finished with value: 0.978125 and parameters: {'solver': 'newton-cg', 'penalty': 'l2', 'multi_class': 'ovr', 'C': 0.020937159428409263}. Best is trial 10 with value: 0.978125.\n",
            "[I 2024-02-16 13:45:02,200] Trial 59 finished with value: 0.978125 and parameters: {'solver': 'newton-cg', 'penalty': 'l2', 'multi_class': 'ovr', 'C': 0.0017014653571731581}. Best is trial 10 with value: 0.978125.\n",
            "[I 2024-02-16 13:45:06,862] Trial 60 finished with value: 0.978125 and parameters: {'solver': 'newton-cg', 'penalty': 'l2', 'multi_class': 'ovr', 'C': 0.009251685823050207}. Best is trial 10 with value: 0.978125.\n",
            "[I 2024-02-16 13:45:12,556] Trial 61 finished with value: 0.978125 and parameters: {'solver': 'newton-cg', 'penalty': 'l2', 'multi_class': 'ovr', 'C': 0.00488911757857476}. Best is trial 10 with value: 0.978125.\n",
            "[I 2024-02-16 13:45:18,188] Trial 62 finished with value: 0.978125 and parameters: {'solver': 'newton-cg', 'penalty': 'l2', 'multi_class': 'ovr', 'C': 0.001025808683708559}. Best is trial 10 with value: 0.978125.\n",
            "[I 2024-02-16 13:45:23,874] Trial 63 finished with value: 0.978125 and parameters: {'solver': 'newton-cg', 'penalty': 'l2', 'multi_class': 'ovr', 'C': 0.002080128251517364}. Best is trial 10 with value: 0.978125.\n",
            "[I 2024-02-16 13:45:29,288] Trial 64 finished with value: 0.978125 and parameters: {'solver': 'newton-cg', 'penalty': 'l2', 'multi_class': 'ovr', 'C': 0.0035662474894552878}. Best is trial 10 with value: 0.978125.\n",
            "[I 2024-02-16 13:45:29,799] Trial 65 finished with value: 0.846875 and parameters: {'solver': 'saga', 'penalty': 'l2', 'multi_class': 'ovr', 'C': 0.006968759037386575}. Best is trial 10 with value: 0.978125.\n",
            "[I 2024-02-16 13:45:35,009] Trial 66 finished with value: 0.978125 and parameters: {'solver': 'newton-cg', 'penalty': 'l2', 'multi_class': 'ovr', 'C': 0.014529430574960363}. Best is trial 10 with value: 0.978125.\n",
            "[I 2024-02-16 13:45:40,337] Trial 67 finished with value: 0.978125 and parameters: {'solver': 'newton-cg', 'penalty': 'l2', 'multi_class': 'ovr', 'C': 0.0023425993633061732}. Best is trial 10 with value: 0.978125.\n",
            "[I 2024-02-16 13:45:42,115] Trial 68 finished with value: 0.846875 and parameters: {'solver': 'liblinear', 'penalty': 'l2', 'multi_class': 'ovr', 'C': 0.0014393508480235902}. Best is trial 10 with value: 0.978125.\n",
            "[I 2024-02-16 13:45:42,782] Trial 69 finished with value: 0.978125 and parameters: {'solver': 'lbfgs', 'penalty': 'l2', 'multi_class': 'ovr', 'C': 0.06114124318446664}. Best is trial 10 with value: 0.978125.\n",
            "[I 2024-02-16 13:45:47,833] Trial 70 finished with value: 0.978125 and parameters: {'solver': 'newton-cg', 'penalty': 'l2', 'multi_class': 'ovr', 'C': 0.009370401646168624}. Best is trial 10 with value: 0.978125.\n",
            "[I 2024-02-16 13:45:52,722] Trial 71 finished with value: 0.978125 and parameters: {'solver': 'newton-cg', 'penalty': 'l2', 'multi_class': 'ovr', 'C': 0.0013873823377331055}. Best is trial 10 with value: 0.978125.\n",
            "[I 2024-02-16 13:45:58,090] Trial 72 finished with value: 0.978125 and parameters: {'solver': 'newton-cg', 'penalty': 'l2', 'multi_class': 'ovr', 'C': 0.004491192149670697}. Best is trial 10 with value: 0.978125.\n",
            "[I 2024-02-16 13:46:02,955] Trial 73 finished with value: 0.978125 and parameters: {'solver': 'newton-cg', 'penalty': 'l2', 'multi_class': 'ovr', 'C': 0.0024877631995530456}. Best is trial 10 with value: 0.978125.\n",
            "[I 2024-02-16 13:46:07,561] Trial 74 finished with value: 0.978125 and parameters: {'solver': 'newton-cg', 'penalty': 'l2', 'multi_class': 'ovr', 'C': 0.001350392871387775}. Best is trial 10 with value: 0.978125.\n",
            "[I 2024-02-16 13:46:12,353] Trial 75 finished with value: 0.978125 and parameters: {'solver': 'newton-cg', 'penalty': 'l2', 'multi_class': 'ovr', 'C': 0.006562726086965095}. Best is trial 10 with value: 0.978125.\n",
            "[I 2024-02-16 13:46:17,149] Trial 76 finished with value: 0.978125 and parameters: {'solver': 'newton-cg', 'penalty': 'l2', 'multi_class': 'ovr', 'C': 0.0034360324934422457}. Best is trial 10 with value: 0.978125.\n",
            "[I 2024-02-16 13:46:17,650] Trial 77 finished with value: 0.846875 and parameters: {'solver': 'saga', 'penalty': 'l2', 'multi_class': 'ovr', 'C': 0.0022190677795733724}. Best is trial 10 with value: 0.978125.\n",
            "[I 2024-02-16 13:46:23,069] Trial 78 finished with value: 0.978125 and parameters: {'solver': 'newton-cg', 'penalty': 'l2', 'multi_class': 'ovr', 'C': 0.010905714217005383}. Best is trial 10 with value: 0.978125.\n",
            "[I 2024-02-16 13:46:27,880] Trial 79 finished with value: 0.978125 and parameters: {'solver': 'newton-cg', 'penalty': 'l2', 'multi_class': 'ovr', 'C': 0.0015316841424377167}. Best is trial 10 with value: 0.978125.\n",
            "[I 2024-02-16 13:46:28,519] Trial 80 finished with value: 0.978125 and parameters: {'solver': 'lbfgs', 'penalty': 'l2', 'multi_class': 'ovr', 'C': 0.005528834681002833}. Best is trial 10 with value: 0.978125.\n",
            "[I 2024-02-16 13:46:33,250] Trial 81 finished with value: 0.978125 and parameters: {'solver': 'newton-cg', 'penalty': 'l2', 'multi_class': 'ovr', 'C': 0.003505270033253541}. Best is trial 10 with value: 0.978125.\n",
            "[I 2024-02-16 13:46:38,103] Trial 82 finished with value: 0.978125 and parameters: {'solver': 'newton-cg', 'penalty': 'l2', 'multi_class': 'ovr', 'C': 0.0021820482109388036}. Best is trial 10 with value: 0.978125.\n",
            "[I 2024-02-16 13:46:42,776] Trial 83 finished with value: 0.978125 and parameters: {'solver': 'newton-cg', 'penalty': 'l2', 'multi_class': 'ovr', 'C': 0.0010019246671772902}. Best is trial 10 with value: 0.978125.\n",
            "[I 2024-02-16 13:46:47,641] Trial 84 finished with value: 0.978125 and parameters: {'solver': 'newton-cg', 'penalty': 'l2', 'multi_class': 'ovr', 'C': 0.002690032704941655}. Best is trial 10 with value: 0.978125.\n",
            "[I 2024-02-16 13:46:49,754] Trial 85 finished with value: 0.85625 and parameters: {'solver': 'liblinear', 'penalty': 'l2', 'multi_class': 'ovr', 'C': 0.003864348779440232}. Best is trial 10 with value: 0.978125.\n",
            "[I 2024-02-16 13:46:54,353] Trial 86 finished with value: 0.978125 and parameters: {'solver': 'newton-cg', 'penalty': 'l2', 'multi_class': 'ovr', 'C': 0.0015296338688497641}. Best is trial 10 with value: 0.978125.\n",
            "[I 2024-02-16 13:46:59,150] Trial 87 finished with value: 0.978125 and parameters: {'solver': 'newton-cg', 'penalty': 'l2', 'multi_class': 'ovr', 'C': 0.006520788044428433}. Best is trial 10 with value: 0.978125.\n",
            "[I 2024-02-16 13:47:03,872] Trial 88 finished with value: 0.978125 and parameters: {'solver': 'newton-cg', 'penalty': 'l2', 'multi_class': 'ovr', 'C': 0.027609902587061762}. Best is trial 10 with value: 0.978125.\n",
            "[I 2024-02-16 13:47:04,467] Trial 89 finished with value: 0.971875 and parameters: {'solver': 'lbfgs', 'penalty': 'l2', 'multi_class': 'ovr', 'C': 0.01679837263336958}. Best is trial 10 with value: 0.978125.\n",
            "[I 2024-02-16 13:47:10,099] Trial 90 finished with value: 0.978125 and parameters: {'solver': 'newton-cg', 'penalty': 'l2', 'multi_class': 'ovr', 'C': 0.0020355600623113462}. Best is trial 10 with value: 0.978125.\n",
            "[I 2024-02-16 13:47:15,579] Trial 91 finished with value: 0.978125 and parameters: {'solver': 'newton-cg', 'penalty': 'l2', 'multi_class': 'ovr', 'C': 0.0050727866941985}. Best is trial 10 with value: 0.978125.\n",
            "[I 2024-02-16 13:47:20,333] Trial 92 finished with value: 0.978125 and parameters: {'solver': 'newton-cg', 'penalty': 'l2', 'multi_class': 'ovr', 'C': 0.003055367031578378}. Best is trial 10 with value: 0.978125.\n",
            "[I 2024-02-16 13:47:24,997] Trial 93 finished with value: 0.978125 and parameters: {'solver': 'newton-cg', 'penalty': 'l2', 'multi_class': 'ovr', 'C': 0.008353880930520823}. Best is trial 10 with value: 0.978125.\n",
            "[I 2024-02-16 13:47:29,757] Trial 94 finished with value: 0.978125 and parameters: {'solver': 'newton-cg', 'penalty': 'l2', 'multi_class': 'ovr', 'C': 0.0012384747251534707}. Best is trial 10 with value: 0.978125.\n",
            "[I 2024-02-16 13:47:30,255] Trial 95 finished with value: 0.846875 and parameters: {'solver': 'saga', 'penalty': 'l2', 'multi_class': 'ovr', 'C': 0.004633492058349859}. Best is trial 10 with value: 0.978125.\n",
            "[I 2024-02-16 13:47:34,902] Trial 96 finished with value: 0.978125 and parameters: {'solver': 'newton-cg', 'penalty': 'l2', 'multi_class': 'ovr', 'C': 0.011644281425296278}. Best is trial 10 with value: 0.978125.\n",
            "[I 2024-02-16 13:47:39,596] Trial 97 finished with value: 0.978125 and parameters: {'solver': 'newton-cg', 'penalty': 'l2', 'multi_class': 'ovr', 'C': 0.001890879133133144}. Best is trial 10 with value: 0.978125.\n",
            "[I 2024-02-16 13:47:40,185] Trial 98 finished with value: 0.978125 and parameters: {'solver': 'lbfgs', 'penalty': 'l2', 'multi_class': 'ovr', 'C': 0.0027456454683070625}. Best is trial 10 with value: 0.978125.\n",
            "[I 2024-02-16 13:47:44,799] Trial 99 finished with value: 0.978125 and parameters: {'solver': 'newton-cg', 'penalty': 'l2', 'multi_class': 'ovr', 'C': 0.0014339322039681845}. Best is trial 10 with value: 0.978125.\n"
          ]
        },
        {
          "name": "stdout",
          "output_type": "stream",
          "text": [
            "Best params found : {'solver': 'newton-cg', 'penalty': 'l2', 'multi_class': 'ovr', 'C': 0.004559581926751442}\n",
            "accuracy: 0.9875\n",
            "recall: 0.9861111111111112\n",
            "precision: 0.9907407407407407\n",
            "f1-score: 0.9851851851851853\n",
            "roc_auc:  0.9928774928774929\n"
          ]
        }
      ],
      "source": [
        "study = optuna.create_study(direction = 'maximize')\n",
        "study.optimize(objective, n_trials = 100)\n",
        "best_params = study.best_params\n",
        "print(\"Best params found :\", best_params)\n",
        "\n",
        "final_model = LogisticRegression(**best_params)\n",
        "final_model.fit(X_train_reduced, y_train)\n",
        "y_pred = final_model.predict(X_test_reduced)\n",
        "prediction_results['logistic regression'] = y_pred\n",
        "\n",
        "accuracy = accuracy_score(y_test, y_pred)\n",
        "precision = precision_score(y_test, y_pred, average='macro')\n",
        "recall = recall_score(y_test, y_pred, average='macro')\n",
        "f1 = f1_score(y_test, y_pred, average='macro')\n",
        "\n",
        "# One-hot encoding for probability calculation (adapt if necessary)\n",
        "y_test_onehot = pd.get_dummies(y_test, prefix='label_')  # Assuming 'label_' prefix for clarity\n",
        "y_pred_onehot = pd.get_dummies(y_pred, prefix='label_')\n",
        "\n",
        "# ROC AUC score with multiclass handling\n",
        "roc_auc_macro = roc_auc_score(y_test_onehot, y_pred_onehot, average='macro', multi_class='ovo')  # Specify 'ovo' or 'ovr'\n",
        "\n",
        "print(\"accuracy:\", accuracy)\n",
        "print(\"recall:\", recall)\n",
        "print(\"precision:\", precision)\n",
        "print(\"f1-score:\", f1)\n",
        "print('roc_auc: ', roc_auc_macro)"
      ]
    },
    {
      "cell_type": "code",
      "execution_count": 168,
      "metadata": {
        "execution": {
          "iopub.execute_input": "2024-02-13T17:38:48.113941Z",
          "iopub.status.busy": "2024-02-13T17:38:48.113326Z",
          "iopub.status.idle": "2024-02-13T17:38:48.120904Z"
        },
        "id": "tb91KNhaZocl",
        "trusted": true
      },
      "outputs": [],
      "source": [
        "# lr = LogisticRegression(multi_class='ovr', solver='liblinear')\n",
        "# lr.fit(X_train_reduced, y_train)\n",
        "# y_pred = lr.predict(X_test_reduced)"
      ]
    },
    {
      "cell_type": "markdown",
      "metadata": {
        "id": "IptOdjgIZocl"
      },
      "source": [
        "# KNN Classifier"
      ]
    },
    {
      "cell_type": "markdown",
      "metadata": {
        "id": "JghGTocKZocl"
      },
      "source": [
        "**Normal**"
      ]
    },
    {
      "cell_type": "code",
      "execution_count": 169,
      "metadata": {
        "execution": {
          "iopub.execute_input": "2024-02-13T17:38:48.123395Z",
          "iopub.status.busy": "2024-02-13T17:38:48.122867Z",
          "iopub.status.idle": "2024-02-13T17:38:48.196970Z"
        },
        "id": "5UAG-mBdZocm",
        "outputId": "ffc2f51f-97ea-4cce-cbd5-8f35f64eb788",
        "trusted": true
      },
      "outputs": [
        {
          "name": "stdout",
          "output_type": "stream",
          "text": [
            "accuracy: 0.925\n",
            "recall: 0.9421296296296295\n",
            "precision: 0.9495370370370372\n",
            "f1-score: 0.9279761904761905\n",
            "roc_auc:  0.9699917551974515\n"
          ]
        }
      ],
      "source": [
        "from sklearn.neighbors import KNeighborsClassifier\n",
        "\n",
        "knn = KNeighborsClassifier()\n",
        "knn.fit(X_train_reduced, y_train)\n",
        "y_pred = knn.predict(X_test_reduced)\n",
        "\n",
        "accuracy = accuracy_score(y_test, y_pred)\n",
        "precision = precision_score(y_test, y_pred, average='macro')\n",
        "recall = recall_score(y_test, y_pred, average='macro')\n",
        "f1 = f1_score(y_test, y_pred, average='macro')\n",
        "\n",
        "# One-hot encoding for probability calculation (adapt if necessary)\n",
        "y_test_onehot = pd.get_dummies(y_test, prefix='label_')  # Assuming 'label_' prefix for clarity\n",
        "y_pred_onehot = pd.get_dummies(y_pred, prefix='label_')\n",
        "\n",
        "# ROC AUC score with multiclass handling\n",
        "roc_auc_macro = roc_auc_score(y_test_onehot, y_pred_onehot, average='macro', multi_class='ovo')  # Specify 'ovo' or 'ovr'\n",
        "\n",
        "print(\"accuracy:\", accuracy)\n",
        "print(\"recall:\", recall)\n",
        "print(\"precision:\", precision)\n",
        "print(\"f1-score:\", f1)\n",
        "print('roc_auc: ', roc_auc_macro)\n"
      ]
    },
    {
      "cell_type": "markdown",
      "metadata": {
        "id": "yuPM396XZocm"
      },
      "source": [
        "**Tunning**"
      ]
    },
    {
      "cell_type": "code",
      "execution_count": 170,
      "metadata": {
        "execution": {
          "iopub.execute_input": "2024-02-13T17:38:48.208578Z",
          "iopub.status.busy": "2024-02-13T17:38:48.208089Z",
          "iopub.status.idle": "2024-02-13T17:38:48.218109Z"
        },
        "id": "p4zO_c4aZocm",
        "trusted": true
      },
      "outputs": [],
      "source": [
        "import optuna\n",
        "from sklearn.model_selection import cross_val_score\n",
        "import warnings\n",
        "warnings.filterwarnings('ignore')\n",
        "\n",
        "\n",
        "def objective(trial):\n",
        "    hyperparams = {\n",
        "        'n_neighbors': trial.suggest_int(\"n_neighbors\", 5, 100),\n",
        "        'weights': trial.suggest_categorical(\"weights\", [\"uniform\", \"distance\"]),\n",
        "        'metric': trial.suggest_categorical(\"metric\", [\"euclidean\", \"manhattan\", \"minkowski\"]),\n",
        "        'algorithm': trial.suggest_categorical('algorithm', ['auto', 'ball_tree', 'kd_tree', 'brute']),\n",
        "        'n_jobs': -1\n",
        "    }\n",
        "\n",
        "    # Create KNN model with tuned hyperparameters\n",
        "    model = KNeighborsClassifier(**hyperparams)\n",
        "    scores = cross_val_score(model, X_train_reduced,\n",
        "                             y_train, cv=kf, scoring='accuracy')\n",
        "    return np.mean(scores)"
      ]
    },
    {
      "cell_type": "code",
      "execution_count": 171,
      "metadata": {
        "execution": {
          "iopub.execute_input": "2024-02-13T17:38:48.220856Z",
          "iopub.status.busy": "2024-02-13T17:38:48.220303Z",
          "iopub.status.idle": "2024-02-13T17:38:51.376690Z"
        },
        "id": "08WuSIyEZocm",
        "outputId": "d42f8ec4-10b0-426f-d3c2-71bf07d7f37b",
        "trusted": true
      },
      "outputs": [
        {
          "name": "stderr",
          "output_type": "stream",
          "text": [
            "[I 2024-02-16 13:48:05,686] A new study created in memory with name: no-name-623a6daf-eb90-499d-8e1d-08e25c16f4ac\n",
            "[I 2024-02-16 13:48:05,889] Trial 0 finished with value: 0.284375 and parameters: {'n_neighbors': 34, 'weights': 'uniform', 'metric': 'euclidean', 'algorithm': 'ball_tree'}. Best is trial 0 with value: 0.284375.\n",
            "[I 2024-02-16 13:48:06,130] Trial 1 finished with value: 0.184375 and parameters: {'n_neighbors': 54, 'weights': 'uniform', 'metric': 'manhattan', 'algorithm': 'kd_tree'}. Best is trial 0 with value: 0.284375.\n",
            "[I 2024-02-16 13:48:06,285] Trial 2 finished with value: 0.596875 and parameters: {'n_neighbors': 65, 'weights': 'distance', 'metric': 'manhattan', 'algorithm': 'kd_tree'}. Best is trial 2 with value: 0.596875.\n",
            "[I 2024-02-16 13:48:06,439] Trial 3 finished with value: 0.584375 and parameters: {'n_neighbors': 93, 'weights': 'distance', 'metric': 'minkowski', 'algorithm': 'kd_tree'}. Best is trial 2 with value: 0.596875.\n",
            "[I 2024-02-16 13:48:06,596] Trial 4 finished with value: 0.59375 and parameters: {'n_neighbors': 79, 'weights': 'distance', 'metric': 'euclidean', 'algorithm': 'ball_tree'}. Best is trial 2 with value: 0.596875.\n",
            "[I 2024-02-16 13:48:06,784] Trial 5 finished with value: 0.284375 and parameters: {'n_neighbors': 34, 'weights': 'uniform', 'metric': 'minkowski', 'algorithm': 'ball_tree'}. Best is trial 2 with value: 0.596875.\n",
            "[W 2024-02-16 13:48:06,797] Trial 6 failed with parameters: {'n_neighbors': 68, 'weights': 'uniform', 'metric': 'manhattan', 'algorithm': 'auto'} because of the following error: The value nan is not acceptable.\n",
            "[W 2024-02-16 13:48:06,798] Trial 6 failed with value nan.\n",
            "[I 2024-02-16 13:48:06,847] Trial 7 finished with value: 0.596875 and parameters: {'n_neighbors': 66, 'weights': 'distance', 'metric': 'minkowski', 'algorithm': 'auto'}. Best is trial 2 with value: 0.596875.\n",
            "[I 2024-02-16 13:48:06,900] Trial 8 finished with value: 0.19375 and parameters: {'n_neighbors': 43, 'weights': 'uniform', 'metric': 'euclidean', 'algorithm': 'brute'}. Best is trial 2 with value: 0.596875.\n",
            "[I 2024-02-16 13:48:07,065] Trial 9 finished with value: 0.221875 and parameters: {'n_neighbors': 49, 'weights': 'uniform', 'metric': 'manhattan', 'algorithm': 'kd_tree'}. Best is trial 2 with value: 0.596875.\n",
            "[I 2024-02-16 13:48:07,108] Trial 10 finished with value: 0.83125 and parameters: {'n_neighbors': 9, 'weights': 'distance', 'metric': 'manhattan', 'algorithm': 'brute'}. Best is trial 10 with value: 0.83125.\n",
            "[I 2024-02-16 13:48:07,161] Trial 11 finished with value: 0.859375 and parameters: {'n_neighbors': 7, 'weights': 'distance', 'metric': 'manhattan', 'algorithm': 'brute'}. Best is trial 11 with value: 0.859375.\n",
            "[I 2024-02-16 13:48:07,213] Trial 12 finished with value: 0.896875 and parameters: {'n_neighbors': 5, 'weights': 'distance', 'metric': 'manhattan', 'algorithm': 'brute'}. Best is trial 12 with value: 0.896875.\n",
            "[I 2024-02-16 13:48:07,264] Trial 13 finished with value: 0.83125 and parameters: {'n_neighbors': 9, 'weights': 'distance', 'metric': 'manhattan', 'algorithm': 'brute'}. Best is trial 12 with value: 0.896875.\n",
            "[I 2024-02-16 13:48:07,316] Trial 14 finished with value: 0.75625 and parameters: {'n_neighbors': 18, 'weights': 'distance', 'metric': 'manhattan', 'algorithm': 'brute'}. Best is trial 12 with value: 0.896875.\n",
            "[I 2024-02-16 13:48:07,369] Trial 15 finished with value: 0.709375 and parameters: {'n_neighbors': 23, 'weights': 'distance', 'metric': 'manhattan', 'algorithm': 'brute'}. Best is trial 12 with value: 0.896875.\n",
            "[I 2024-02-16 13:48:07,419] Trial 16 finished with value: 0.89375 and parameters: {'n_neighbors': 6, 'weights': 'distance', 'metric': 'manhattan', 'algorithm': 'auto'}. Best is trial 12 with value: 0.896875.\n",
            "[I 2024-02-16 13:48:07,473] Trial 17 finished with value: 0.70625 and parameters: {'n_neighbors': 25, 'weights': 'distance', 'metric': 'manhattan', 'algorithm': 'auto'}. Best is trial 12 with value: 0.896875.\n",
            "[I 2024-02-16 13:48:07,527] Trial 18 finished with value: 0.765625 and parameters: {'n_neighbors': 17, 'weights': 'distance', 'metric': 'manhattan', 'algorithm': 'auto'}. Best is trial 12 with value: 0.896875.\n",
            "[I 2024-02-16 13:48:07,578] Trial 19 finished with value: 0.903125 and parameters: {'n_neighbors': 5, 'weights': 'distance', 'metric': 'euclidean', 'algorithm': 'auto'}. Best is trial 19 with value: 0.903125.\n",
            "[I 2024-02-16 13:48:07,633] Trial 20 finished with value: 0.671875 and parameters: {'n_neighbors': 35, 'weights': 'distance', 'metric': 'euclidean', 'algorithm': 'auto'}. Best is trial 19 with value: 0.903125.\n",
            "[I 2024-02-16 13:48:07,690] Trial 21 finished with value: 0.5875 and parameters: {'n_neighbors': 99, 'weights': 'distance', 'metric': 'euclidean', 'algorithm': 'auto'}. Best is trial 19 with value: 0.903125.\n",
            "[I 2024-02-16 13:48:07,743] Trial 22 finished with value: 0.903125 and parameters: {'n_neighbors': 5, 'weights': 'distance', 'metric': 'euclidean', 'algorithm': 'auto'}. Best is trial 19 with value: 0.903125.\n",
            "[I 2024-02-16 13:48:07,797] Trial 23 finished with value: 0.753125 and parameters: {'n_neighbors': 20, 'weights': 'distance', 'metric': 'euclidean', 'algorithm': 'auto'}. Best is trial 19 with value: 0.903125.\n",
            "[I 2024-02-16 13:48:07,847] Trial 24 finished with value: 0.8125 and parameters: {'n_neighbors': 13, 'weights': 'distance', 'metric': 'euclidean', 'algorithm': 'auto'}. Best is trial 19 with value: 0.903125.\n",
            "[I 2024-02-16 13:48:07,900] Trial 25 finished with value: 0.696875 and parameters: {'n_neighbors': 29, 'weights': 'distance', 'metric': 'euclidean', 'algorithm': 'auto'}. Best is trial 19 with value: 0.903125.\n",
            "[I 2024-02-16 13:48:07,953] Trial 26 finished with value: 0.903125 and parameters: {'n_neighbors': 5, 'weights': 'distance', 'metric': 'euclidean', 'algorithm': 'auto'}. Best is trial 19 with value: 0.903125.\n",
            "[I 2024-02-16 13:48:08,015] Trial 27 finished with value: 0.54375 and parameters: {'n_neighbors': 15, 'weights': 'uniform', 'metric': 'euclidean', 'algorithm': 'auto'}. Best is trial 19 with value: 0.903125.\n",
            "[I 2024-02-16 13:48:08,070] Trial 28 finished with value: 0.73125 and parameters: {'n_neighbors': 26, 'weights': 'distance', 'metric': 'euclidean', 'algorithm': 'auto'}. Best is trial 19 with value: 0.903125.\n",
            "[I 2024-02-16 13:48:08,126] Trial 29 finished with value: 0.640625 and parameters: {'n_neighbors': 42, 'weights': 'distance', 'metric': 'euclidean', 'algorithm': 'auto'}. Best is trial 19 with value: 0.903125.\n",
            "[I 2024-02-16 13:48:08,293] Trial 30 finished with value: 0.553125 and parameters: {'n_neighbors': 14, 'weights': 'uniform', 'metric': 'euclidean', 'algorithm': 'ball_tree'}. Best is trial 19 with value: 0.903125.\n",
            "[I 2024-02-16 13:48:08,348] Trial 31 finished with value: 0.675 and parameters: {'n_neighbors': 33, 'weights': 'distance', 'metric': 'euclidean', 'algorithm': 'auto'}. Best is trial 19 with value: 0.903125.\n",
            "[I 2024-02-16 13:48:08,399] Trial 32 finished with value: 0.89375 and parameters: {'n_neighbors': 6, 'weights': 'distance', 'metric': 'euclidean', 'algorithm': 'brute'}. Best is trial 19 with value: 0.903125.\n",
            "[I 2024-02-16 13:48:08,451] Trial 33 finished with value: 0.815625 and parameters: {'n_neighbors': 12, 'weights': 'distance', 'metric': 'minkowski', 'algorithm': 'auto'}. Best is trial 19 with value: 0.903125.\n",
            "[I 2024-02-16 13:48:08,617] Trial 34 finished with value: 0.903125 and parameters: {'n_neighbors': 5, 'weights': 'distance', 'metric': 'euclidean', 'algorithm': 'ball_tree'}. Best is trial 19 with value: 0.903125.\n",
            "[I 2024-02-16 13:48:08,787] Trial 35 finished with value: 0.753125 and parameters: {'n_neighbors': 20, 'weights': 'distance', 'metric': 'euclidean', 'algorithm': 'ball_tree'}. Best is trial 19 with value: 0.903125.\n",
            "[I 2024-02-16 13:48:08,959] Trial 36 finished with value: 0.815625 and parameters: {'n_neighbors': 12, 'weights': 'distance', 'metric': 'euclidean', 'algorithm': 'ball_tree'}. Best is trial 19 with value: 0.903125.\n",
            "[I 2024-02-16 13:48:09,130] Trial 37 finished with value: 0.059375 and parameters: {'n_neighbors': 82, 'weights': 'uniform', 'metric': 'euclidean', 'algorithm': 'ball_tree'}. Best is trial 19 with value: 0.903125.\n",
            "[I 2024-02-16 13:48:09,299] Trial 38 finished with value: 0.60625 and parameters: {'n_neighbors': 60, 'weights': 'distance', 'metric': 'euclidean', 'algorithm': 'kd_tree'}. Best is trial 19 with value: 0.903125.\n",
            "[I 2024-02-16 13:48:09,472] Trial 39 finished with value: 0.903125 and parameters: {'n_neighbors': 5, 'weights': 'distance', 'metric': 'minkowski', 'algorithm': 'ball_tree'}. Best is trial 19 with value: 0.903125.\n",
            "[I 2024-02-16 13:48:09,648] Trial 40 finished with value: 0.08125 and parameters: {'n_neighbors': 73, 'weights': 'uniform', 'metric': 'euclidean', 'algorithm': 'kd_tree'}. Best is trial 19 with value: 0.903125.\n",
            "[I 2024-02-16 13:48:09,816] Trial 41 finished with value: 0.69375 and parameters: {'n_neighbors': 30, 'weights': 'distance', 'metric': 'euclidean', 'algorithm': 'ball_tree'}. Best is trial 19 with value: 0.903125.\n",
            "[I 2024-02-16 13:48:09,986] Trial 42 finished with value: 0.81875 and parameters: {'n_neighbors': 10, 'weights': 'distance', 'metric': 'minkowski', 'algorithm': 'ball_tree'}. Best is trial 19 with value: 0.903125.\n",
            "[I 2024-02-16 13:48:10,159] Trial 43 finished with value: 0.89375 and parameters: {'n_neighbors': 6, 'weights': 'distance', 'metric': 'minkowski', 'algorithm': 'ball_tree'}. Best is trial 19 with value: 0.903125.\n",
            "[I 2024-02-16 13:48:10,330] Trial 44 finished with value: 0.734375 and parameters: {'n_neighbors': 21, 'weights': 'distance', 'metric': 'minkowski', 'algorithm': 'ball_tree'}. Best is trial 19 with value: 0.903125.\n",
            "[I 2024-02-16 13:48:10,502] Trial 45 finished with value: 0.903125 and parameters: {'n_neighbors': 5, 'weights': 'distance', 'metric': 'minkowski', 'algorithm': 'ball_tree'}. Best is trial 19 with value: 0.903125.\n",
            "[I 2024-02-16 13:48:10,673] Trial 46 finished with value: 0.8 and parameters: {'n_neighbors': 15, 'weights': 'distance', 'metric': 'minkowski', 'algorithm': 'ball_tree'}. Best is trial 19 with value: 0.903125.\n",
            "[I 2024-02-16 13:48:10,845] Trial 47 finished with value: 0.81875 and parameters: {'n_neighbors': 10, 'weights': 'distance', 'metric': 'minkowski', 'algorithm': 'kd_tree'}. Best is trial 19 with value: 0.903125.\n",
            "[I 2024-02-16 13:48:10,919] Trial 48 finished with value: 0.503125 and parameters: {'n_neighbors': 18, 'weights': 'uniform', 'metric': 'euclidean', 'algorithm': 'auto'}. Best is trial 19 with value: 0.903125.\n",
            "[I 2024-02-16 13:48:11,093] Trial 49 finished with value: 0.659375 and parameters: {'n_neighbors': 39, 'weights': 'distance', 'metric': 'euclidean', 'algorithm': 'ball_tree'}. Best is trial 19 with value: 0.903125.\n",
            "[I 2024-02-16 13:48:11,164] Trial 50 finished with value: 0.628125 and parameters: {'n_neighbors': 51, 'weights': 'distance', 'metric': 'minkowski', 'algorithm': 'auto'}. Best is trial 19 with value: 0.903125.\n",
            "[I 2024-02-16 13:48:11,222] Trial 51 finished with value: 0.828125 and parameters: {'n_neighbors': 9, 'weights': 'distance', 'metric': 'euclidean', 'algorithm': 'auto'}. Best is trial 19 with value: 0.903125.\n",
            "[I 2024-02-16 13:48:11,404] Trial 52 finished with value: 0.903125 and parameters: {'n_neighbors': 5, 'weights': 'distance', 'metric': 'minkowski', 'algorithm': 'ball_tree'}. Best is trial 19 with value: 0.903125.\n",
            "[I 2024-02-16 13:48:11,573] Trial 53 finished with value: 0.903125 and parameters: {'n_neighbors': 5, 'weights': 'distance', 'metric': 'minkowski', 'algorithm': 'ball_tree'}. Best is trial 19 with value: 0.903125.\n",
            "[I 2024-02-16 13:48:11,743] Trial 54 finished with value: 0.81875 and parameters: {'n_neighbors': 10, 'weights': 'distance', 'metric': 'minkowski', 'algorithm': 'ball_tree'}. Best is trial 19 with value: 0.903125.\n",
            "[I 2024-02-16 13:48:11,917] Trial 55 finished with value: 0.778125 and parameters: {'n_neighbors': 16, 'weights': 'distance', 'metric': 'minkowski', 'algorithm': 'ball_tree'}. Best is trial 19 with value: 0.903125.\n",
            "[I 2024-02-16 13:48:12,088] Trial 56 finished with value: 0.828125 and parameters: {'n_neighbors': 9, 'weights': 'distance', 'metric': 'minkowski', 'algorithm': 'ball_tree'}. Best is trial 19 with value: 0.903125.\n",
            "[I 2024-02-16 13:48:12,148] Trial 57 finished with value: 0.734375 and parameters: {'n_neighbors': 24, 'weights': 'distance', 'metric': 'euclidean', 'algorithm': 'auto'}. Best is trial 19 with value: 0.903125.\n",
            "[I 2024-02-16 13:48:12,322] Trial 58 finished with value: 0.8125 and parameters: {'n_neighbors': 13, 'weights': 'distance', 'metric': 'euclidean', 'algorithm': 'kd_tree'}. Best is trial 19 with value: 0.903125.\n",
            "[I 2024-02-16 13:48:12,378] Trial 59 finished with value: 0.903125 and parameters: {'n_neighbors': 5, 'weights': 'distance', 'metric': 'minkowski', 'algorithm': 'auto'}. Best is trial 19 with value: 0.903125.\n",
            "[I 2024-02-16 13:48:12,556] Trial 60 finished with value: 0.503125 and parameters: {'n_neighbors': 18, 'weights': 'uniform', 'metric': 'euclidean', 'algorithm': 'ball_tree'}. Best is trial 19 with value: 0.903125.\n",
            "[I 2024-02-16 13:48:12,614] Trial 61 finished with value: 0.828125 and parameters: {'n_neighbors': 9, 'weights': 'distance', 'metric': 'euclidean', 'algorithm': 'auto'}. Best is trial 19 with value: 0.903125.\n",
            "[I 2024-02-16 13:48:12,785] Trial 62 finished with value: 0.871875 and parameters: {'n_neighbors': 7, 'weights': 'distance', 'metric': 'minkowski', 'algorithm': 'ball_tree'}. Best is trial 19 with value: 0.903125.\n",
            "[I 2024-02-16 13:48:12,959] Trial 63 finished with value: 0.903125 and parameters: {'n_neighbors': 5, 'weights': 'distance', 'metric': 'minkowski', 'algorithm': 'ball_tree'}. Best is trial 19 with value: 0.903125.\n",
            "[I 2024-02-16 13:48:13,128] Trial 64 finished with value: 0.815625 and parameters: {'n_neighbors': 12, 'weights': 'distance', 'metric': 'minkowski', 'algorithm': 'ball_tree'}. Best is trial 19 with value: 0.903125.\n",
            "[I 2024-02-16 13:48:13,187] Trial 65 finished with value: 0.85 and parameters: {'n_neighbors': 8, 'weights': 'distance', 'metric': 'minkowski', 'algorithm': 'brute'}. Best is trial 19 with value: 0.903125.\n",
            "[I 2024-02-16 13:48:13,361] Trial 66 finished with value: 0.790625 and parameters: {'n_neighbors': 14, 'weights': 'distance', 'metric': 'manhattan', 'algorithm': 'ball_tree'}. Best is trial 19 with value: 0.903125.\n",
            "[I 2024-02-16 13:48:13,426] Trial 67 finished with value: 0.621875 and parameters: {'n_neighbors': 56, 'weights': 'distance', 'metric': 'minkowski', 'algorithm': 'auto'}. Best is trial 19 with value: 0.903125.\n",
            "[I 2024-02-16 13:48:13,605] Trial 68 finished with value: 0.734375 and parameters: {'n_neighbors': 21, 'weights': 'distance', 'metric': 'euclidean', 'algorithm': 'ball_tree'}. Best is trial 19 with value: 0.903125.\n",
            "[I 2024-02-16 13:48:13,666] Trial 69 finished with value: 0.815625 and parameters: {'n_neighbors': 12, 'weights': 'distance', 'metric': 'euclidean', 'algorithm': 'auto'}. Best is trial 19 with value: 0.903125.\n",
            "[I 2024-02-16 13:48:13,839] Trial 70 finished with value: 0.778125 and parameters: {'n_neighbors': 16, 'weights': 'distance', 'metric': 'minkowski', 'algorithm': 'ball_tree'}. Best is trial 19 with value: 0.903125.\n",
            "[W 2024-02-16 13:48:13,863] Trial 71 failed with parameters: {'n_neighbors': 27, 'weights': 'uniform', 'metric': 'manhattan', 'algorithm': 'brute'} because of the following error: The value nan is not acceptable.\n",
            "[W 2024-02-16 13:48:13,864] Trial 71 failed with value nan.\n",
            "[W 2024-02-16 13:48:13,889] Trial 72 failed with parameters: {'n_neighbors': 5, 'weights': 'uniform', 'metric': 'manhattan', 'algorithm': 'brute'} because of the following error: The value nan is not acceptable.\n",
            "[W 2024-02-16 13:48:13,891] Trial 72 failed with value nan.\n",
            "[W 2024-02-16 13:48:13,917] Trial 73 failed with parameters: {'n_neighbors': 5, 'weights': 'uniform', 'metric': 'manhattan', 'algorithm': 'brute'} because of the following error: The value nan is not acceptable.\n",
            "[W 2024-02-16 13:48:13,919] Trial 73 failed with value nan.\n",
            "[W 2024-02-16 13:48:13,945] Trial 74 failed with parameters: {'n_neighbors': 5, 'weights': 'uniform', 'metric': 'manhattan', 'algorithm': 'brute'} because of the following error: The value nan is not acceptable.\n",
            "[W 2024-02-16 13:48:13,946] Trial 74 failed with value nan.\n",
            "[W 2024-02-16 13:48:13,969] Trial 75 failed with parameters: {'n_neighbors': 5, 'weights': 'uniform', 'metric': 'manhattan', 'algorithm': 'brute'} because of the following error: The value nan is not acceptable.\n",
            "[W 2024-02-16 13:48:13,971] Trial 75 failed with value nan.\n",
            "[W 2024-02-16 13:48:13,994] Trial 76 failed with parameters: {'n_neighbors': 5, 'weights': 'uniform', 'metric': 'manhattan', 'algorithm': 'brute'} because of the following error: The value nan is not acceptable.\n",
            "[W 2024-02-16 13:48:13,996] Trial 76 failed with value nan.\n",
            "[W 2024-02-16 13:48:14,022] Trial 77 failed with parameters: {'n_neighbors': 28, 'weights': 'uniform', 'metric': 'manhattan', 'algorithm': 'brute'} because of the following error: The value nan is not acceptable.\n",
            "[W 2024-02-16 13:48:14,023] Trial 77 failed with value nan.\n",
            "[W 2024-02-16 13:48:14,047] Trial 78 failed with parameters: {'n_neighbors': 5, 'weights': 'uniform', 'metric': 'manhattan', 'algorithm': 'brute'} because of the following error: The value nan is not acceptable.\n",
            "[W 2024-02-16 13:48:14,049] Trial 78 failed with value nan.\n",
            "[W 2024-02-16 13:48:14,074] Trial 79 failed with parameters: {'n_neighbors': 5, 'weights': 'uniform', 'metric': 'manhattan', 'algorithm': 'brute'} because of the following error: The value nan is not acceptable.\n",
            "[W 2024-02-16 13:48:14,075] Trial 79 failed with value nan.\n",
            "[W 2024-02-16 13:48:14,100] Trial 80 failed with parameters: {'n_neighbors': 8, 'weights': 'uniform', 'metric': 'manhattan', 'algorithm': 'brute'} because of the following error: The value nan is not acceptable.\n",
            "[W 2024-02-16 13:48:14,102] Trial 80 failed with value nan.\n",
            "[W 2024-02-16 13:48:14,126] Trial 81 failed with parameters: {'n_neighbors': 8, 'weights': 'uniform', 'metric': 'manhattan', 'algorithm': 'brute'} because of the following error: The value nan is not acceptable.\n",
            "[W 2024-02-16 13:48:14,127] Trial 81 failed with value nan.\n",
            "[W 2024-02-16 13:48:14,153] Trial 82 failed with parameters: {'n_neighbors': 27, 'weights': 'uniform', 'metric': 'manhattan', 'algorithm': 'brute'} because of the following error: The value nan is not acceptable.\n",
            "[W 2024-02-16 13:48:14,154] Trial 82 failed with value nan.\n",
            "[W 2024-02-16 13:48:14,181] Trial 83 failed with parameters: {'n_neighbors': 5, 'weights': 'uniform', 'metric': 'manhattan', 'algorithm': 'brute'} because of the following error: The value nan is not acceptable.\n",
            "[W 2024-02-16 13:48:14,182] Trial 83 failed with value nan.\n",
            "[W 2024-02-16 13:48:14,205] Trial 84 failed with parameters: {'n_neighbors': 5, 'weights': 'uniform', 'metric': 'manhattan', 'algorithm': 'brute'} because of the following error: The value nan is not acceptable.\n",
            "[W 2024-02-16 13:48:14,207] Trial 84 failed with value nan.\n",
            "[W 2024-02-16 13:48:14,230] Trial 85 failed with parameters: {'n_neighbors': 5, 'weights': 'uniform', 'metric': 'manhattan', 'algorithm': 'brute'} because of the following error: The value nan is not acceptable.\n",
            "[W 2024-02-16 13:48:14,231] Trial 85 failed with value nan.\n",
            "[W 2024-02-16 13:48:14,254] Trial 86 failed with parameters: {'n_neighbors': 85, 'weights': 'uniform', 'metric': 'manhattan', 'algorithm': 'brute'} because of the following error: The value nan is not acceptable.\n",
            "[W 2024-02-16 13:48:14,256] Trial 86 failed with value nan.\n",
            "[W 2024-02-16 13:48:14,278] Trial 87 failed with parameters: {'n_neighbors': 8, 'weights': 'uniform', 'metric': 'manhattan', 'algorithm': 'brute'} because of the following error: The value nan is not acceptable.\n",
            "[W 2024-02-16 13:48:14,279] Trial 87 failed with value nan.\n",
            "[W 2024-02-16 13:48:14,304] Trial 88 failed with parameters: {'n_neighbors': 47, 'weights': 'uniform', 'metric': 'manhattan', 'algorithm': 'brute'} because of the following error: The value nan is not acceptable.\n",
            "[W 2024-02-16 13:48:14,305] Trial 88 failed with value nan.\n",
            "[W 2024-02-16 13:48:14,329] Trial 89 failed with parameters: {'n_neighbors': 7, 'weights': 'uniform', 'metric': 'manhattan', 'algorithm': 'brute'} because of the following error: The value nan is not acceptable.\n",
            "[W 2024-02-16 13:48:14,330] Trial 89 failed with value nan.\n",
            "[W 2024-02-16 13:48:14,354] Trial 90 failed with parameters: {'n_neighbors': 28, 'weights': 'uniform', 'metric': 'manhattan', 'algorithm': 'brute'} because of the following error: The value nan is not acceptable.\n",
            "[W 2024-02-16 13:48:14,355] Trial 90 failed with value nan.\n",
            "[W 2024-02-16 13:48:14,377] Trial 91 failed with parameters: {'n_neighbors': 5, 'weights': 'uniform', 'metric': 'manhattan', 'algorithm': 'brute'} because of the following error: The value nan is not acceptable.\n",
            "[W 2024-02-16 13:48:14,378] Trial 91 failed with value nan.\n",
            "[W 2024-02-16 13:48:14,403] Trial 92 failed with parameters: {'n_neighbors': 5, 'weights': 'uniform', 'metric': 'manhattan', 'algorithm': 'brute'} because of the following error: The value nan is not acceptable.\n",
            "[W 2024-02-16 13:48:14,404] Trial 92 failed with value nan.\n",
            "[W 2024-02-16 13:48:14,427] Trial 93 failed with parameters: {'n_neighbors': 5, 'weights': 'uniform', 'metric': 'manhattan', 'algorithm': 'brute'} because of the following error: The value nan is not acceptable.\n",
            "[W 2024-02-16 13:48:14,428] Trial 93 failed with value nan.\n",
            "[W 2024-02-16 13:48:14,451] Trial 94 failed with parameters: {'n_neighbors': 86, 'weights': 'uniform', 'metric': 'manhattan', 'algorithm': 'brute'} because of the following error: The value nan is not acceptable.\n",
            "[W 2024-02-16 13:48:14,452] Trial 94 failed with value nan.\n",
            "[W 2024-02-16 13:48:14,478] Trial 95 failed with parameters: {'n_neighbors': 5, 'weights': 'uniform', 'metric': 'manhattan', 'algorithm': 'brute'} because of the following error: The value nan is not acceptable.\n",
            "[W 2024-02-16 13:48:14,479] Trial 95 failed with value nan.\n",
            "[I 2024-02-16 13:48:14,543] Trial 96 finished with value: 0.378125 and parameters: {'n_neighbors': 27, 'weights': 'uniform', 'metric': 'euclidean', 'algorithm': 'brute'}. Best is trial 19 with value: 0.903125.\n",
            "[I 2024-02-16 13:48:14,713] Trial 97 finished with value: 0.903125 and parameters: {'n_neighbors': 5, 'weights': 'distance', 'metric': 'minkowski', 'algorithm': 'ball_tree'}. Best is trial 19 with value: 0.903125.\n",
            "[I 2024-02-16 13:48:14,885] Trial 98 finished with value: 0.903125 and parameters: {'n_neighbors': 5, 'weights': 'distance', 'metric': 'minkowski', 'algorithm': 'ball_tree'}. Best is trial 19 with value: 0.903125.\n",
            "[I 2024-02-16 13:48:15,056] Trial 99 finished with value: 0.85 and parameters: {'n_neighbors': 8, 'weights': 'distance', 'metric': 'minkowski', 'algorithm': 'ball_tree'}. Best is trial 19 with value: 0.903125.\n"
          ]
        },
        {
          "name": "stdout",
          "output_type": "stream",
          "text": [
            "Best params found : {'n_neighbors': 5, 'weights': 'distance', 'metric': 'euclidean', 'algorithm': 'auto'}\n",
            "accuracy: 0.9375\n",
            "recall: 0.949074074074074\n",
            "precision: 0.9564814814814816\n",
            "f1-score: 0.9393518518518518\n",
            "roc_auc:  0.9736443526000489\n"
          ]
        }
      ],
      "source": [
        "study = optuna.create_study(direction = 'maximize')\n",
        "study.optimize(objective, n_trials = 100)\n",
        "best_params = study.best_params\n",
        "print(\"Best params found :\", best_params)\n",
        "\n",
        "final_model =KNeighborsClassifier(**best_params)\n",
        "final_model.fit(X_train_reduced, y_train)\n",
        "y_pred = final_model.predict(X_test_reduced)\n",
        "prediction_results['KNN'] = y_pred\n",
        "\n",
        "accuracy = accuracy_score(y_test, y_pred)\n",
        "precision = precision_score(y_test, y_pred, average='macro')\n",
        "recall = recall_score(y_test, y_pred, average='macro')\n",
        "f1 = f1_score(y_test, y_pred, average='macro')\n",
        "\n",
        "# One-hot encoding for probability calculation (adapt if necessary)\n",
        "y_test_onehot = pd.get_dummies(y_test, prefix='label_')  # Assuming 'label_' prefix for clarity\n",
        "y_pred_onehot = pd.get_dummies(y_pred, prefix='label_')\n",
        "\n",
        "# ROC AUC score with multiclass handling\n",
        "roc_auc_macro = roc_auc_score(y_test_onehot, y_pred_onehot, average='macro', multi_class='ovo')  # Specify 'ovo' or 'ovr'\n",
        "\n",
        "print(\"accuracy:\", accuracy)\n",
        "print(\"recall:\", recall)\n",
        "print(\"precision:\", precision)\n",
        "print(\"f1-score:\", f1)\n",
        "print('roc_auc: ', roc_auc_macro)"
      ]
    }
  ],
  "metadata": {
    "colab": {
      "provenance": []
    },
    "kaggle": {
      "accelerator": "none",
      "dataSources": [
        {
          "datasetId": 4306985,
          "sourceId": 7405983,
          "sourceType": "datasetVersion"
        },
        {
          "datasetId": 4349100,
          "sourceId": 7470763,
          "sourceType": "datasetVersion"
        }
      ],
      "dockerImageVersionId": 30646,
      "isGpuEnabled": false,
      "isInternetEnabled": true,
      "language": "python",
      "sourceType": "notebook"
    },
    "kernelspec": {
      "display_name": "Python 3",
      "language": "python",
      "name": "python3"
    },
    "language_info": {
      "codemirror_mode": {
        "name": "ipython",
        "version": 3
      },
      "file_extension": ".py",
      "mimetype": "text/x-python",
      "name": "python",
      "nbconvert_exporter": "python",
      "pygments_lexer": "ipython3",
      "version": "3.10.11"
    }
  },
  "nbformat": 4,
  "nbformat_minor": 0
}
