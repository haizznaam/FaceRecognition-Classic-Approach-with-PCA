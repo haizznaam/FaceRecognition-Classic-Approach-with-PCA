{
 "cells": [
  {
   "cell_type": "code",
   "execution_count": 1,
   "id": "692db8ea",
   "metadata": {
    "_cell_guid": "b1076dfc-b9ad-4769-8c92-a6c4dae69d19",
    "_uuid": "8f2839f25d086af736a60e9eeb907d3b93b6e0e5",
    "execution": {
     "iopub.execute_input": "2024-02-22T15:25:15.356156Z",
     "iopub.status.busy": "2024-02-22T15:25:15.355293Z",
     "iopub.status.idle": "2024-02-22T15:25:17.989834Z",
     "shell.execute_reply": "2024-02-22T15:25:17.988434Z"
    },
    "papermill": {
     "duration": 2.653504,
     "end_time": "2024-02-22T15:25:17.992985",
     "exception": false,
     "start_time": "2024-02-22T15:25:15.339481",
     "status": "completed"
    },
    "tags": []
   },
   "outputs": [],
   "source": [
    "import os\n",
    "import numpy as np\n",
    "import pandas as pd\n",
    "from numpy.random import shuffle\n",
    "from sklearn.decomposition import PCA\n",
    "from sklearn.model_selection import train_test_split\n",
    "from sklearn.model_selection import StratifiedKFold, cross_val_score\n",
    "from sklearn.metrics import accuracy_score, precision_score, recall_score, f1_score, roc_auc_score\n",
    "from sklearn.linear_model import LogisticRegression"
   ]
  },
  {
   "cell_type": "code",
   "execution_count": 2,
   "id": "ffd20d34",
   "metadata": {
    "execution": {
     "iopub.execute_input": "2024-02-22T15:25:18.021572Z",
     "iopub.status.busy": "2024-02-22T15:25:18.020879Z",
     "iopub.status.idle": "2024-02-22T15:25:18.541494Z",
     "shell.execute_reply": "2024-02-22T15:25:18.540216Z"
    },
    "papermill": {
     "duration": 0.537817,
     "end_time": "2024-02-22T15:25:18.544038",
     "exception": false,
     "start_time": "2024-02-22T15:25:18.006221",
     "status": "completed"
    },
    "tags": []
   },
   "outputs": [
    {
     "data": {
      "image/png": "[encoded data removed]",
      "text/plain": [
       "<Figure size 640x480 with 1 Axes>"
      ]
     },
     "metadata": {},
     "output_type": "display_data"
    }
   ],
   "source": [
    "import cv2\n",
    "import matplotlib.pyplot as plt\n",
    "\n",
    "def read_pgm(file_path):\n",
    "    return cv2.imread(file_path, cv2.IMREAD_GRAYSCALE)\n",
    "\n",
    "def show_image(image_data):\n",
    "    plt.imshow(image_data, cmap='gray')\n",
    "    plt.axis('off')  # Hide axis labels\n",
    "    plt.show()\n",
    "\n",
    "file_path = f'/kaggle/input/att-images/ATT images/s1/1.pgm'\n",
    "image_data = read_pgm(file_path)\n",
    "show_image(image_data)"
   ]
  },
  {
   "cell_type": "code",
   "execution_count": 3,
   "id": "cf179259",
   "metadata": {
    "execution": {
     "iopub.execute_input": "2024-02-22T15:25:18.572825Z",
     "iopub.status.busy": "2024-02-22T15:25:18.572257Z",
     "iopub.status.idle": "2024-02-22T15:25:18.581059Z",
     "shell.execute_reply": "2024-02-22T15:25:18.579519Z"
    },
    "papermill": {
     "duration": 0.026393,
     "end_time": "2024-02-22T15:25:18.583697",
     "exception": false,
     "start_time": "2024-02-22T15:25:18.557304",
     "status": "completed"
    },
    "tags": []
   },
   "outputs": [
    {
     "data": {
      "text/plain": [
       "(112, 92)"
      ]
     },
     "execution_count": 3,
     "metadata": {},
     "output_type": "execute_result"
    }
   ],
   "source": [
    "image_data.shape"
   ]
  },
  {
   "cell_type": "code",
   "execution_count": 4,
   "id": "c5e307d5",
   "metadata": {
    "execution": {
     "iopub.execute_input": "2024-02-22T15:25:18.613814Z",
     "iopub.status.busy": "2024-02-22T15:25:18.613266Z",
     "iopub.status.idle": "2024-02-22T15:25:18.622640Z",
     "shell.execute_reply": "2024-02-22T15:25:18.621411Z"
    },
    "papermill": {
     "duration": 0.026495,
     "end_time": "2024-02-22T15:25:18.625097",
     "exception": false,
     "start_time": "2024-02-22T15:25:18.598602",
     "status": "completed"
    },
    "tags": []
   },
   "outputs": [],
   "source": [
    "def get_data(path_data='/kaggle/input/att-images/ATT images', test_size=0.2, is_shuffle=True):\n",
    "    folders = [f's{i+1}' for i in range(40)]\n",
    "    X, y = [], []\n",
    "\n",
    "    for i in range(1, 41):\n",
    "        path = path_data + f'/s{i}'\n",
    "        files = os.listdir(path)\n",
    "        num_files = len(files)\n",
    "\n",
    "        # if is_shuffle:\n",
    "        #     files = shuffle(files)\n",
    "\n",
    "        for file in os.listdir(path):\n",
    "            path = path_data + f'/s{i}/' + file\n",
    "            image = cv2.imread(path, cv2.IMREAD_GRAYSCALE)\n",
    "            pixels = np.reshape(image, [1, image.shape[0] * image.shape[1]])\n",
    "            pixels = np.asarray(pixels)\n",
    "\n",
    "            if len(X) == 0:\n",
    "                X = pixels\n",
    "            else:\n",
    "                X = np.vstack([X, pixels])\n",
    "            y.append(f's{i}')\n",
    "\n",
    "    return X, np.asarray(y)"
   ]
  },
  {
   "cell_type": "code",
   "execution_count": 5,
   "id": "2587fe22",
   "metadata": {
    "execution": {
     "iopub.execute_input": "2024-02-22T15:25:18.653609Z",
     "iopub.status.busy": "2024-02-22T15:25:18.652222Z",
     "iopub.status.idle": "2024-02-22T15:25:20.901697Z",
     "shell.execute_reply": "2024-02-22T15:25:20.899124Z"
    },
    "papermill": {
     "duration": 2.267895,
     "end_time": "2024-02-22T15:25:20.905913",
     "exception": false,
     "start_time": "2024-02-22T15:25:18.638018",
     "status": "completed"
    },
    "tags": []
   },
   "outputs": [],
   "source": [
    "X, y = get_data()\n",
    "X_train, X_test, y_train, y_test = train_test_split(X, y, test_size=0.2, random_state=42)"
   ]
  },
  {
   "cell_type": "code",
   "execution_count": 6,
   "id": "2f67da85",
   "metadata": {
    "execution": {
     "iopub.execute_input": "2024-02-22T15:25:20.945712Z",
     "iopub.status.busy": "2024-02-22T15:25:20.944776Z",
     "iopub.status.idle": "2024-02-22T15:25:21.821834Z",
     "shell.execute_reply": "2024-02-22T15:25:21.820289Z"
    },
    "papermill": {
     "duration": 0.901876,
     "end_time": "2024-02-22T15:25:21.825865",
     "exception": false,
     "start_time": "2024-02-22T15:25:20.923989",
     "status": "completed"
    },
    "tags": []
   },
   "outputs": [],
   "source": [
    "n_components_pca = 50\n",
    "pca = PCA(n_components=n_components_pca, random_state=42)\n",
    "X_train_reduced = pca.fit_transform(X_train)\n",
    "X_test_reduced = pca.transform(X_test)"
   ]
  },
  {
   "cell_type": "code",
   "execution_count": 7,
   "id": "f6b17921",
   "metadata": {
    "execution": {
     "iopub.execute_input": "2024-02-22T15:25:21.890448Z",
     "iopub.status.busy": "2024-02-22T15:25:21.889736Z",
     "iopub.status.idle": "2024-02-22T15:25:21.896660Z",
     "shell.execute_reply": "2024-02-22T15:25:21.895257Z"
    },
    "papermill": {
     "duration": 0.044793,
     "end_time": "2024-02-22T15:25:21.899945",
     "exception": false,
     "start_time": "2024-02-22T15:25:21.855152",
     "status": "completed"
    },
    "tags": []
   },
   "outputs": [],
   "source": [
    "predictions = {}"
   ]
  },
  {
   "cell_type": "markdown",
   "id": "ee591aa0",
   "metadata": {
    "papermill": {
     "duration": 0.019411,
     "end_time": "2024-02-22T15:25:21.942791",
     "exception": false,
     "start_time": "2024-02-22T15:25:21.923380",
     "status": "completed"
    },
    "tags": []
   },
   "source": [
    "# Euclidean"
   ]
  },
  {
   "cell_type": "code",
   "execution_count": 8,
   "id": "92da6442",
   "metadata": {
    "execution": {
     "iopub.execute_input": "2024-02-22T15:25:21.970552Z",
     "iopub.status.busy": "2024-02-22T15:25:21.970120Z",
     "iopub.status.idle": "2024-02-22T15:25:21.981518Z",
     "shell.execute_reply": "2024-02-22T15:25:21.979930Z"
    },
    "papermill": {
     "duration": 0.028305,
     "end_time": "2024-02-22T15:25:21.984125",
     "exception": false,
     "start_time": "2024-02-22T15:25:21.955820",
     "status": "completed"
    },
    "tags": []
   },
   "outputs": [],
   "source": [
    "y_pred = []\n",
    "for i in range(80):\n",
    "    min_ = np.argmin(np.sqrt(np.sum((X_train_reduced - X_test_reduced[i])**2,axis=1)))\n",
    "    y_pred.append(y_train[min_])"
   ]
  },
  {
   "cell_type": "code",
   "execution_count": 9,
   "id": "f9e7b2f7",
   "metadata": {
    "execution": {
     "iopub.execute_input": "2024-02-22T15:25:22.012450Z",
     "iopub.status.busy": "2024-02-22T15:25:22.011944Z",
     "iopub.status.idle": "2024-02-22T15:25:22.017346Z",
     "shell.execute_reply": "2024-02-22T15:25:22.016157Z"
    },
    "papermill": {
     "duration": 0.022254,
     "end_time": "2024-02-22T15:25:22.019850",
     "exception": false,
     "start_time": "2024-02-22T15:25:21.997596",
     "status": "completed"
    },
    "tags": []
   },
   "outputs": [],
   "source": [
    "predictions['euclidean'] = y_pred"
   ]
  },
  {
   "cell_type": "code",
   "execution_count": 10,
   "id": "55dd768f",
   "metadata": {
    "execution": {
     "iopub.execute_input": "2024-02-22T15:25:22.049846Z",
     "iopub.status.busy": "2024-02-22T15:25:22.048832Z",
     "iopub.status.idle": "2024-02-22T15:25:22.054229Z",
     "shell.execute_reply": "2024-02-22T15:25:22.053385Z"
    },
    "papermill": {
     "duration": 0.022557,
     "end_time": "2024-02-22T15:25:22.056468",
     "exception": false,
     "start_time": "2024-02-22T15:25:22.033911",
     "status": "completed"
    },
    "tags": []
   },
   "outputs": [],
   "source": [
    "from sklearn.model_selection import KFold\n",
    "n_splits = 5\n",
    "kf = KFold(n_splits=n_splits, shuffle=True, random_state=42)"
   ]
  },
  {
   "cell_type": "markdown",
   "id": "a48ce705",
   "metadata": {
    "papermill": {
     "duration": 0.012236,
     "end_time": "2024-02-22T15:25:22.081423",
     "exception": false,
     "start_time": "2024-02-22T15:25:22.069187",
     "status": "completed"
    },
    "tags": []
   },
   "source": [
    "****"
   ]
  },
  {
   "cell_type": "markdown",
   "id": "f0582774",
   "metadata": {
    "papermill": {
     "duration": 0.012232,
     "end_time": "2024-02-22T15:25:22.106190",
     "exception": false,
     "start_time": "2024-02-22T15:25:22.093958",
     "status": "completed"
    },
    "tags": []
   },
   "source": [
    "**Chọn trường hợp accuracy của logistic model khác 1**"
   ]
  },
  {
   "cell_type": "code",
   "execution_count": 11,
   "id": "4040051c",
   "metadata": {
    "execution": {
     "iopub.execute_input": "2024-02-22T15:25:22.135647Z",
     "iopub.status.busy": "2024-02-22T15:25:22.134646Z",
     "iopub.status.idle": "2024-02-22T15:25:22.377375Z",
     "shell.execute_reply": "2024-02-22T15:25:22.376024Z"
    },
    "papermill": {
     "duration": 0.261805,
     "end_time": "2024-02-22T15:25:22.382298",
     "exception": false,
     "start_time": "2024-02-22T15:25:22.120493",
     "status": "completed"
    },
    "tags": []
   },
   "outputs": [
    {
     "name": "stdout",
     "output_type": "stream",
     "text": [
      "accuracy: 1.0\n",
      "recall: 1.0\n",
      "precision: 1.0\n",
      "f1-score: 1.0\n",
      "roc_auc:  1.0\n"
     ]
    },
    {
     "name": "stderr",
     "output_type": "stream",
     "text": [
      "/opt/conda/lib/python3.10/site-packages/sklearn/linear_model/_logistic.py:458: ConvergenceWarning: lbfgs failed to converge (status=1):\n",
      "STOP: TOTAL NO. of ITERATIONS REACHED LIMIT.\n",
      "\n",
      "Increase the number of iterations (max_iter) or scale the data as shown in:\n",
      "    https://scikit-learn.org/stable/modules/preprocessing.html\n",
      "Please also refer to the documentation for alternative solver options:\n",
      "    https://scikit-learn.org/stable/modules/linear_model.html#logistic-regression\n",
      "  n_iter_i = _check_optimize_result(\n"
     ]
    }
   ],
   "source": [
    "lr = LogisticRegression()\n",
    "lr.fit(X_train_reduced, y_train)\n",
    "y_pred = lr.predict(X_test_reduced)\n",
    "\n",
    "accuracy = accuracy_score(y_test, y_pred)\n",
    "precision = precision_score(y_test, y_pred, average='macro')\n",
    "recall = recall_score(y_test, y_pred, average='macro')\n",
    "f1 = f1_score(y_test, y_pred, average='macro')\n",
    "\n",
    "# One-hot encoding for probability calculation (adapt if necessary)\n",
    "y_test_onehot = pd.get_dummies(y_test, prefix='label_')  # Assuming 'label_' prefix for clarity\n",
    "y_pred_onehot = pd.get_dummies(y_pred, prefix='label_')\n",
    "\n",
    "# ROC AUC score with multiclass handling\n",
    "roc_auc_macro = roc_auc_score(y_test_onehot, y_pred_onehot, average='macro', multi_class='ovo')  \n",
    "\n",
    "print(\"accuracy:\", accuracy)\n",
    "print(\"recall:\", recall)\n",
    "print(\"precision:\", precision)\n",
    "print(\"f1-score:\", f1)\n",
    "print('roc_auc: ', roc_auc_macro)"
   ]
  },
  {
   "cell_type": "markdown",
   "id": "752af456",
   "metadata": {
    "papermill": {
     "duration": 0.0224,
     "end_time": "2024-02-22T15:25:22.427140",
     "exception": false,
     "start_time": "2024-02-22T15:25:22.404740",
     "status": "completed"
    },
    "tags": []
   },
   "source": [
    "# Random Forest"
   ]
  },
  {
   "cell_type": "code",
   "execution_count": 12,
   "id": "45455683",
   "metadata": {
    "execution": {
     "iopub.execute_input": "2024-02-22T15:25:22.457339Z",
     "iopub.status.busy": "2024-02-22T15:25:22.456147Z",
     "iopub.status.idle": "2024-02-22T15:25:22.461884Z",
     "shell.execute_reply": "2024-02-22T15:25:22.460692Z"
    },
    "papermill": {
     "duration": 0.023748,
     "end_time": "2024-02-22T15:25:22.464303",
     "exception": false,
     "start_time": "2024-02-22T15:25:22.440555",
     "status": "completed"
    },
    "tags": []
   },
   "outputs": [],
   "source": [
    "prediction_results = {}"
   ]
  },
  {
   "cell_type": "code",
   "execution_count": 13,
   "id": "ab83e948",
   "metadata": {
    "execution": {
     "iopub.execute_input": "2024-02-22T15:25:22.493508Z",
     "iopub.status.busy": "2024-02-22T15:25:22.493038Z",
     "iopub.status.idle": "2024-02-22T15:25:22.633694Z",
     "shell.execute_reply": "2024-02-22T15:25:22.632271Z"
    },
    "papermill": {
     "duration": 0.158979,
     "end_time": "2024-02-22T15:25:22.636546",
     "exception": false,
     "start_time": "2024-02-22T15:25:22.477567",
     "status": "completed"
    },
    "tags": []
   },
   "outputs": [],
   "source": [
    "from sklearn.ensemble import RandomForestClassifier\n",
    "from sklearn.metrics import accuracy_score"
   ]
  },
  {
   "cell_type": "markdown",
   "id": "dcdb0cd6",
   "metadata": {
    "papermill": {
     "duration": 0.012738,
     "end_time": "2024-02-22T15:25:22.662528",
     "exception": false,
     "start_time": "2024-02-22T15:25:22.649790",
     "status": "completed"
    },
    "tags": []
   },
   "source": [
    "**Normal**"
   ]
  },
  {
   "cell_type": "code",
   "execution_count": 14,
   "id": "5b4c4c79",
   "metadata": {
    "execution": {
     "iopub.execute_input": "2024-02-22T15:25:22.691230Z",
     "iopub.status.busy": "2024-02-22T15:25:22.690769Z",
     "iopub.status.idle": "2024-02-22T15:25:23.171015Z",
     "shell.execute_reply": "2024-02-22T15:25:23.169376Z"
    },
    "papermill": {
     "duration": 0.498387,
     "end_time": "2024-02-22T15:25:23.173995",
     "exception": false,
     "start_time": "2024-02-22T15:25:22.675608",
     "status": "completed"
    },
    "tags": []
   },
   "outputs": [
    {
     "name": "stdout",
     "output_type": "stream",
     "text": [
      "accuracy: 0.9875\n",
      "recall: 0.9722222222222222\n",
      "precision: 0.9629629629629629\n",
      "f1-score: 0.9666666666666666\n",
      "roc_auc:  0.7339875119474435\n"
     ]
    },
    {
     "name": "stderr",
     "output_type": "stream",
     "text": [
      "/opt/conda/lib/python3.10/site-packages/sklearn/metrics/_classification.py:1344: UndefinedMetricWarning: Precision is ill-defined and being set to 0.0 in labels with no predicted samples. Use `zero_division` parameter to control this behavior.\n",
      "  _warn_prf(average, modifier, msg_start, len(result))\n"
     ]
    }
   ],
   "source": [
    "rfr = RandomForestClassifier(random_state=42)\n",
    "rfr.fit(X_train_reduced,y_train)\n",
    "y_pred = rfr.predict(X_test_reduced)\n",
    "\n",
    "accuracy = accuracy_score(y_test, y_pred)\n",
    "precision = precision_score(y_test, y_pred, average='macro')\n",
    "recall = recall_score(y_test, y_pred, average='macro')\n",
    "f1 = f1_score(y_test, y_pred, average='macro')\n",
    "\n",
    "# One-hot encoding for probability calculation (adapt if necessary)\n",
    "y_test_onehot = pd.get_dummies(y_test, prefix='label_')  # Assuming 'label_' prefix for clarity\n",
    "y_pred_onehot = pd.get_dummies(y_pred, prefix='label_')\n",
    "\n",
    "# ROC AUC score with multiclass handling\n",
    "roc_auc_macro = roc_auc_score(y_test_onehot, y_pred_onehot, average='macro', multi_class='ovo')  # Specify 'ovo' or 'ovr'\n",
    "\n",
    "print(\"accuracy:\", accuracy)\n",
    "print(\"recall:\", recall)\n",
    "print(\"precision:\", precision)\n",
    "print(\"f1-score:\", f1)\n",
    "print('roc_auc: ', roc_auc_macro)"
   ]
  },
  {
   "cell_type": "markdown",
   "id": "44a9d99d",
   "metadata": {
    "papermill": {
     "duration": 0.014123,
     "end_time": "2024-02-22T15:25:23.201206",
     "exception": false,
     "start_time": "2024-02-22T15:25:23.187083",
     "status": "completed"
    },
    "tags": []
   },
   "source": [
    "**Tunning**"
   ]
  },
  {
   "cell_type": "code",
   "execution_count": 15,
   "id": "b3f0a100",
   "metadata": {
    "execution": {
     "iopub.execute_input": "2024-02-22T15:25:23.231598Z",
     "iopub.status.busy": "2024-02-22T15:25:23.230377Z",
     "iopub.status.idle": "2024-02-22T15:25:24.769677Z",
     "shell.execute_reply": "2024-02-22T15:25:24.768431Z"
    },
    "papermill": {
     "duration": 1.557565,
     "end_time": "2024-02-22T15:25:24.772863",
     "exception": false,
     "start_time": "2024-02-22T15:25:23.215298",
     "status": "completed"
    },
    "tags": []
   },
   "outputs": [],
   "source": [
    "import optuna\n",
    "\n",
    "def objective(trial):\n",
    "        hyperparams = {\n",
    "            'n_estimators' : trial.suggest_int('n_estimators',100,1000),\n",
    "            'max_depth' : trial.suggest_int('max_depth',10, 50),\n",
    "            'min_samples_split' : trial.suggest_int('min_samples_split', 2, 32),\n",
    "            'random_state' : trial.suggest_categorical('random_state',[42]),\n",
    "            'min_samples_leaf' : trial.suggest_int('min_samples_leaf', 1, 32),\n",
    "            'n_jobs' : -1\n",
    "        }\n",
    "        \n",
    "        model = RandomForestClassifier(**hyperparams)\n",
    "        scores = cross_val_score(model, X_train_reduced, y_train, cv=kf, scoring = 'accuracy')\n",
    "        return np.mean(scores)"
   ]
  },
  {
   "cell_type": "code",
   "execution_count": 16,
   "id": "4ea578d6",
   "metadata": {
    "execution": {
     "iopub.execute_input": "2024-02-22T15:25:24.881094Z",
     "iopub.status.busy": "2024-02-22T15:25:24.880526Z",
     "iopub.status.idle": "2024-02-22T15:34:48.037115Z",
     "shell.execute_reply": "2024-02-22T15:34:48.035415Z"
    },
    "papermill": {
     "duration": 563.253317,
     "end_time": "2024-02-22T15:34:48.039983",
     "exception": false,
     "start_time": "2024-02-22T15:25:24.786666",
     "status": "completed"
    },
    "tags": []
   },
   "outputs": [
    {
     "name": "stderr",
     "output_type": "stream",
     "text": [
      "[I 2024-02-22 15:25:24,884] A new study created in memory with name: no-name-7fbdbec9-6b97-4b3b-b750-aeead9914cad\n",
      "[I 2024-02-22 15:25:27,209] Trial 0 finished with value: 0.621875 and parameters: {'n_estimators': 141, 'max_depth': 34, 'min_samples_split': 9, 'random_state': 42, 'min_samples_leaf': 20}. Best is trial 0 with value: 0.621875.\n",
      "[I 2024-02-22 15:25:40,600] Trial 1 finished with value: 0.590625 and parameters: {'n_estimators': 894, 'max_depth': 23, 'min_samples_split': 24, 'random_state': 42, 'min_samples_leaf': 23}. Best is trial 0 with value: 0.621875.\n",
      "[I 2024-02-22 15:25:44,211] Trial 2 finished with value: 0.653125 and parameters: {'n_estimators': 229, 'max_depth': 22, 'min_samples_split': 15, 'random_state': 42, 'min_samples_leaf': 17}. Best is trial 2 with value: 0.653125.\n",
      "[I 2024-02-22 15:25:48,771] Trial 3 finished with value: 0.74375 and parameters: {'n_estimators': 289, 'max_depth': 35, 'min_samples_split': 7, 'random_state': 42, 'min_samples_leaf': 10}. Best is trial 3 with value: 0.74375.\n",
      "[I 2024-02-22 15:25:53,132] Trial 4 finished with value: 0.746875 and parameters: {'n_estimators': 271, 'max_depth': 17, 'min_samples_split': 17, 'random_state': 42, 'min_samples_leaf': 10}. Best is trial 4 with value: 0.746875.\n",
      "[I 2024-02-22 15:26:04,775] Trial 5 finished with value: 0.646875 and parameters: {'n_estimators': 776, 'max_depth': 42, 'min_samples_split': 7, 'random_state': 42, 'min_samples_leaf': 20}. Best is trial 4 with value: 0.746875.\n",
      "[I 2024-02-22 15:26:11,986] Trial 6 finished with value: 0.684375 and parameters: {'n_estimators': 471, 'max_depth': 24, 'min_samples_split': 27, 'random_state': 42, 'min_samples_leaf': 15}. Best is trial 4 with value: 0.746875.\n",
      "[I 2024-02-22 15:26:15,961] Trial 7 finished with value: 0.7 and parameters: {'n_estimators': 234, 'max_depth': 48, 'min_samples_split': 22, 'random_state': 42, 'min_samples_leaf': 2}. Best is trial 4 with value: 0.746875.\n",
      "[I 2024-02-22 15:26:26,504] Trial 8 finished with value: 0.525 and parameters: {'n_estimators': 719, 'max_depth': 34, 'min_samples_split': 21, 'random_state': 42, 'min_samples_leaf': 31}. Best is trial 4 with value: 0.746875.\n",
      "[I 2024-02-22 15:26:42,349] Trial 9 finished with value: 0.696875 and parameters: {'n_estimators': 951, 'max_depth': 39, 'min_samples_split': 14, 'random_state': 42, 'min_samples_leaf': 14}. Best is trial 4 with value: 0.746875.\n",
      "[I 2024-02-22 15:26:50,100] Trial 10 finished with value: 0.659375 and parameters: {'n_estimators': 460, 'max_depth': 10, 'min_samples_split': 32, 'random_state': 42, 'min_samples_leaf': 5}. Best is trial 4 with value: 0.746875.\n",
      "[I 2024-02-22 15:26:55,909] Trial 11 finished with value: 0.740625 and parameters: {'n_estimators': 346, 'max_depth': 11, 'min_samples_split': 2, 'random_state': 42, 'min_samples_leaf': 9}. Best is trial 4 with value: 0.746875.\n",
      "[I 2024-02-22 15:27:01,363] Trial 12 finished with value: 0.74375 and parameters: {'n_estimators': 339, 'max_depth': 17, 'min_samples_split': 10, 'random_state': 42, 'min_samples_leaf': 9}. Best is trial 4 with value: 0.746875.\n",
      "[I 2024-02-22 15:27:03,279] Trial 13 finished with value: 0.721875 and parameters: {'n_estimators': 109, 'max_depth': 29, 'min_samples_split': 4, 'random_state': 42, 'min_samples_leaf': 10}. Best is trial 4 with value: 0.746875.\n",
      "[I 2024-02-22 15:27:13,404] Trial 14 finished with value: 0.753125 and parameters: {'n_estimators': 588, 'max_depth': 29, 'min_samples_split': 17, 'random_state': 42, 'min_samples_leaf': 5}. Best is trial 14 with value: 0.753125.\n",
      "[I 2024-02-22 15:27:24,193] Trial 15 finished with value: 0.746875 and parameters: {'n_estimators': 619, 'max_depth': 17, 'min_samples_split': 18, 'random_state': 42, 'min_samples_leaf': 1}. Best is trial 14 with value: 0.753125.\n",
      "[I 2024-02-22 15:27:33,463] Trial 16 finished with value: 0.771875 and parameters: {'n_estimators': 565, 'max_depth': 27, 'min_samples_split': 13, 'random_state': 42, 'min_samples_leaf': 5}. Best is trial 16 with value: 0.771875.\n",
      "[I 2024-02-22 15:27:43,375] Trial 17 finished with value: 0.796875 and parameters: {'n_estimators': 592, 'max_depth': 28, 'min_samples_split': 12, 'random_state': 42, 'min_samples_leaf': 5}. Best is trial 17 with value: 0.796875.\n",
      "[I 2024-02-22 15:27:54,714] Trial 18 finished with value: 0.784375 and parameters: {'n_estimators': 683, 'max_depth': 26, 'min_samples_split': 12, 'random_state': 42, 'min_samples_leaf': 5}. Best is trial 17 with value: 0.796875.\n",
      "[I 2024-02-22 15:28:04,965] Trial 19 finished with value: 0.540625 and parameters: {'n_estimators': 721, 'max_depth': 42, 'min_samples_split': 11, 'random_state': 42, 'min_samples_leaf': 28}. Best is trial 17 with value: 0.796875.\n",
      "[I 2024-02-22 15:28:17,570] Trial 20 finished with value: 0.721875 and parameters: {'n_estimators': 839, 'max_depth': 20, 'min_samples_split': 5, 'random_state': 42, 'min_samples_leaf': 13}. Best is trial 17 with value: 0.796875.\n",
      "[I 2024-02-22 15:28:25,544] Trial 21 finished with value: 0.784375 and parameters: {'n_estimators': 501, 'max_depth': 28, 'min_samples_split': 13, 'random_state': 42, 'min_samples_leaf': 5}. Best is trial 17 with value: 0.796875.\n",
      "[I 2024-02-22 15:28:32,689] Trial 22 finished with value: 0.809375 and parameters: {'n_estimators': 452, 'max_depth': 26, 'min_samples_split': 11, 'random_state': 42, 'min_samples_leaf': 6}. Best is trial 22 with value: 0.809375.\n",
      "[I 2024-02-22 15:28:43,855] Trial 23 finished with value: 0.8125 and parameters: {'n_estimators': 647, 'max_depth': 32, 'min_samples_split': 10, 'random_state': 42, 'min_samples_leaf': 3}. Best is trial 23 with value: 0.8125.\n",
      "[I 2024-02-22 15:28:51,396] Trial 24 finished with value: 0.83125 and parameters: {'n_estimators': 426, 'max_depth': 32, 'min_samples_split': 8, 'random_state': 42, 'min_samples_leaf': 1}. Best is trial 24 with value: 0.83125.\n",
      "[I 2024-02-22 15:28:58,380] Trial 25 finished with value: 0.83125 and parameters: {'n_estimators': 418, 'max_depth': 32, 'min_samples_split': 8, 'random_state': 42, 'min_samples_leaf': 1}. Best is trial 24 with value: 0.83125.\n",
      "[I 2024-02-22 15:29:04,679] Trial 26 finished with value: 0.84375 and parameters: {'n_estimators': 373, 'max_depth': 38, 'min_samples_split': 8, 'random_state': 42, 'min_samples_leaf': 2}. Best is trial 26 with value: 0.84375.\n",
      "[I 2024-02-22 15:29:11,800] Trial 27 finished with value: 0.871875 and parameters: {'n_estimators': 391, 'max_depth': 38, 'min_samples_split': 6, 'random_state': 42, 'min_samples_leaf': 1}. Best is trial 27 with value: 0.871875.\n",
      "[I 2024-02-22 15:29:18,352] Trial 28 finished with value: 0.784375 and parameters: {'n_estimators': 397, 'max_depth': 39, 'min_samples_split': 2, 'random_state': 42, 'min_samples_leaf': 7}. Best is trial 27 with value: 0.871875.\n",
      "[I 2024-02-22 15:29:22,296] Trial 29 finished with value: 0.853125 and parameters: {'n_estimators': 195, 'max_depth': 50, 'min_samples_split': 5, 'random_state': 42, 'min_samples_leaf': 2}. Best is trial 27 with value: 0.871875.\n",
      "[I 2024-02-22 15:29:25,431] Trial 30 finished with value: 0.828125 and parameters: {'n_estimators': 173, 'max_depth': 49, 'min_samples_split': 5, 'random_state': 42, 'min_samples_leaf': 3}. Best is trial 27 with value: 0.871875.\n",
      "[I 2024-02-22 15:29:31,556] Trial 31 finished with value: 0.859375 and parameters: {'n_estimators': 338, 'max_depth': 45, 'min_samples_split': 6, 'random_state': 42, 'min_samples_leaf': 1}. Best is trial 27 with value: 0.871875.\n",
      "[I 2024-02-22 15:29:34,971] Trial 32 finished with value: 0.83125 and parameters: {'n_estimators': 188, 'max_depth': 46, 'min_samples_split': 4, 'random_state': 42, 'min_samples_leaf': 3}. Best is trial 27 with value: 0.871875.\n",
      "[I 2024-02-22 15:29:41,073] Trial 33 finished with value: 0.7875 and parameters: {'n_estimators': 340, 'max_depth': 45, 'min_samples_split': 6, 'random_state': 42, 'min_samples_leaf': 7}. Best is trial 27 with value: 0.871875.\n",
      "[I 2024-02-22 15:29:46,403] Trial 34 finished with value: 0.853125 and parameters: {'n_estimators': 290, 'max_depth': 50, 'min_samples_split': 3, 'random_state': 42, 'min_samples_leaf': 3}. Best is trial 27 with value: 0.871875.\n",
      "[I 2024-02-22 15:29:50,622] Trial 35 finished with value: 0.609375 and parameters: {'n_estimators': 272, 'max_depth': 44, 'min_samples_split': 2, 'random_state': 42, 'min_samples_leaf': 22}. Best is trial 27 with value: 0.871875.\n",
      "[I 2024-02-22 15:29:54,267] Trial 36 finished with value: 0.75625 and parameters: {'n_estimators': 218, 'max_depth': 50, 'min_samples_split': 4, 'random_state': 42, 'min_samples_leaf': 8}. Best is trial 27 with value: 0.871875.\n",
      "[I 2024-02-22 15:29:59,785] Trial 37 finished with value: 0.85625 and parameters: {'n_estimators': 313, 'max_depth': 47, 'min_samples_split': 6, 'random_state': 42, 'min_samples_leaf': 3}. Best is trial 27 with value: 0.871875.\n",
      "[I 2024-02-22 15:30:08,526] Trial 38 finished with value: 0.709375 and parameters: {'n_estimators': 531, 'max_depth': 47, 'min_samples_split': 6, 'random_state': 42, 'min_samples_leaf': 12}. Best is trial 27 with value: 0.871875.\n",
      "[I 2024-02-22 15:30:11,330] Trial 39 finished with value: 0.65625 and parameters: {'n_estimators': 156, 'max_depth': 42, 'min_samples_split': 9, 'random_state': 42, 'min_samples_leaf': 17}. Best is trial 27 with value: 0.871875.\n",
      "[I 2024-02-22 15:30:16,567] Trial 40 finished with value: 0.665625 and parameters: {'n_estimators': 312, 'max_depth': 44, 'min_samples_split': 6, 'random_state': 42, 'min_samples_leaf': 19}. Best is trial 27 with value: 0.871875.\n",
      "[I 2024-02-22 15:30:20,990] Trial 41 finished with value: 0.85 and parameters: {'n_estimators': 222, 'max_depth': 50, 'min_samples_split': 3, 'random_state': 42, 'min_samples_leaf': 3}. Best is trial 27 with value: 0.871875.\n",
      "[I 2024-02-22 15:30:26,524] Trial 42 finished with value: 0.85 and parameters: {'n_estimators': 289, 'max_depth': 48, 'min_samples_split': 7, 'random_state': 42, 'min_samples_leaf': 3}. Best is trial 27 with value: 0.871875.\n",
      "[I 2024-02-22 15:30:31,546] Trial 43 finished with value: 0.871875 and parameters: {'n_estimators': 255, 'max_depth': 47, 'min_samples_split': 4, 'random_state': 42, 'min_samples_leaf': 1}. Best is trial 27 with value: 0.871875.\n",
      "[I 2024-02-22 15:30:35,744] Trial 44 finished with value: 0.83125 and parameters: {'n_estimators': 226, 'max_depth': 37, 'min_samples_split': 9, 'random_state': 42, 'min_samples_leaf': 1}. Best is trial 27 with value: 0.871875.\n",
      "[I 2024-02-22 15:30:37,543] Trial 45 finished with value: 0.53125 and parameters: {'n_estimators': 105, 'max_depth': 42, 'min_samples_split': 27, 'random_state': 42, 'min_samples_leaf': 25}. Best is trial 27 with value: 0.871875.\n",
      "[I 2024-02-22 15:30:43,964] Trial 46 finished with value: 0.784375 and parameters: {'n_estimators': 380, 'max_depth': 47, 'min_samples_split': 5, 'random_state': 42, 'min_samples_leaf': 7}. Best is trial 27 with value: 0.871875.\n",
      "[I 2024-02-22 15:30:48,643] Trial 47 finished with value: 0.859375 and parameters: {'n_estimators': 244, 'max_depth': 40, 'min_samples_split': 7, 'random_state': 42, 'min_samples_leaf': 1}. Best is trial 27 with value: 0.871875.\n",
      "[I 2024-02-22 15:30:53,368] Trial 48 finished with value: 0.775 and parameters: {'n_estimators': 258, 'max_depth': 36, 'min_samples_split': 15, 'random_state': 42, 'min_samples_leaf': 4}. Best is trial 27 with value: 0.871875.\n",
      "[I 2024-02-22 15:30:58,414] Trial 49 finished with value: 0.728125 and parameters: {'n_estimators': 324, 'max_depth': 40, 'min_samples_split': 7, 'random_state': 42, 'min_samples_leaf': 11}. Best is trial 27 with value: 0.871875.\n",
      "[I 2024-02-22 15:31:02,676] Trial 50 finished with value: 0.728125 and parameters: {'n_estimators': 253, 'max_depth': 40, 'min_samples_split': 19, 'random_state': 42, 'min_samples_leaf': 4}. Best is trial 27 with value: 0.871875.\n",
      "[I 2024-02-22 15:31:06,387] Trial 51 finished with value: 0.878125 and parameters: {'n_estimators': 194, 'max_depth': 44, 'min_samples_split': 3, 'random_state': 42, 'min_samples_leaf': 1}. Best is trial 51 with value: 0.878125.\n",
      "[I 2024-02-22 15:31:09,323] Trial 52 finished with value: 0.865625 and parameters: {'n_estimators': 152, 'max_depth': 44, 'min_samples_split': 3, 'random_state': 42, 'min_samples_leaf': 1}. Best is trial 51 with value: 0.878125.\n",
      "[I 2024-02-22 15:31:11,986] Trial 53 finished with value: 0.86875 and parameters: {'n_estimators': 135, 'max_depth': 44, 'min_samples_split': 3, 'random_state': 42, 'min_samples_leaf': 1}. Best is trial 51 with value: 0.878125.\n",
      "[I 2024-02-22 15:31:14,899] Trial 54 finished with value: 0.8625 and parameters: {'n_estimators': 146, 'max_depth': 43, 'min_samples_split': 3, 'random_state': 42, 'min_samples_leaf': 1}. Best is trial 51 with value: 0.878125.\n",
      "[I 2024-02-22 15:31:17,161] Trial 55 finished with value: 0.775 and parameters: {'n_estimators': 121, 'max_depth': 44, 'min_samples_split': 3, 'random_state': 42, 'min_samples_leaf': 6}. Best is trial 51 with value: 0.878125.\n",
      "[I 2024-02-22 15:31:19,774] Trial 56 finished with value: 0.81875 and parameters: {'n_estimators': 143, 'max_depth': 43, 'min_samples_split': 2, 'random_state': 42, 'min_samples_leaf': 4}. Best is trial 51 with value: 0.878125.\n",
      "[I 2024-02-22 15:31:22,583] Trial 57 finished with value: 0.865625 and parameters: {'n_estimators': 142, 'max_depth': 41, 'min_samples_split': 4, 'random_state': 42, 'min_samples_leaf': 2}. Best is trial 51 with value: 0.878125.\n",
      "[I 2024-02-22 15:31:26,018] Trial 58 finished with value: 0.859375 and parameters: {'n_estimators': 186, 'max_depth': 35, 'min_samples_split': 4, 'random_state': 42, 'min_samples_leaf': 2}. Best is trial 51 with value: 0.878125.\n",
      "[I 2024-02-22 15:31:28,281] Trial 59 finished with value: 0.6375 and parameters: {'n_estimators': 142, 'max_depth': 41, 'min_samples_split': 32, 'random_state': 42, 'min_samples_leaf': 15}. Best is trial 51 with value: 0.878125.\n",
      "[I 2024-02-22 15:31:30,045] Trial 60 finished with value: 0.659375 and parameters: {'n_estimators': 100, 'max_depth': 38, 'min_samples_split': 25, 'random_state': 42, 'min_samples_leaf': 6}. Best is trial 51 with value: 0.878125.\n",
      "[I 2024-02-22 15:31:33,105] Trial 61 finished with value: 0.8625 and parameters: {'n_estimators': 163, 'max_depth': 46, 'min_samples_split': 3, 'random_state': 42, 'min_samples_leaf': 2}. Best is trial 51 with value: 0.878125.\n",
      "[I 2024-02-22 15:31:35,786] Trial 62 finished with value: 0.865625 and parameters: {'n_estimators': 133, 'max_depth': 43, 'min_samples_split': 3, 'random_state': 42, 'min_samples_leaf': 1}. Best is trial 51 with value: 0.878125.\n",
      "[I 2024-02-22 15:31:39,755] Trial 63 finished with value: 0.8375 and parameters: {'n_estimators': 207, 'max_depth': 45, 'min_samples_split': 4, 'random_state': 42, 'min_samples_leaf': 4}. Best is trial 51 with value: 0.878125.\n",
      "[I 2024-02-22 15:31:42,172] Trial 64 finished with value: 0.86875 and parameters: {'n_estimators': 121, 'max_depth': 41, 'min_samples_split': 2, 'random_state': 42, 'min_samples_leaf': 2}. Best is trial 51 with value: 0.878125.\n",
      "[I 2024-02-22 15:31:44,969] Trial 65 finished with value: 0.475 and parameters: {'n_estimators': 177, 'max_depth': 39, 'min_samples_split': 2, 'random_state': 42, 'min_samples_leaf': 31}. Best is trial 51 with value: 0.878125.\n",
      "[I 2024-02-22 15:31:49,275] Trial 66 finished with value: 0.853125 and parameters: {'n_estimators': 199, 'max_depth': 41, 'min_samples_split': 5, 'random_state': 42, 'min_samples_leaf': 2}. Best is trial 51 with value: 0.878125.\n",
      "[I 2024-02-22 15:31:51,811] Trial 67 finished with value: 0.803125 and parameters: {'n_estimators': 126, 'max_depth': 48, 'min_samples_split': 2, 'random_state': 42, 'min_samples_leaf': 4}. Best is trial 51 with value: 0.878125.\n",
      "[I 2024-02-22 15:31:55,580] Trial 68 finished with value: 0.865625 and parameters: {'n_estimators': 169, 'max_depth': 33, 'min_samples_split': 4, 'random_state': 42, 'min_samples_leaf': 2}. Best is trial 51 with value: 0.878125.\n",
      "[I 2024-02-22 15:32:00,431] Trial 69 finished with value: 0.790625 and parameters: {'n_estimators': 235, 'max_depth': 37, 'min_samples_split': 5, 'random_state': 42, 'min_samples_leaf': 5}. Best is trial 51 with value: 0.878125.\n",
      "[I 2024-02-22 15:32:05,698] Trial 70 finished with value: 0.75625 and parameters: {'n_estimators': 276, 'max_depth': 46, 'min_samples_split': 2, 'random_state': 42, 'min_samples_leaf': 8}. Best is trial 51 with value: 0.878125.\n",
      "[I 2024-02-22 15:32:08,441] Trial 71 finished with value: 0.8625 and parameters: {'n_estimators': 130, 'max_depth': 43, 'min_samples_split': 3, 'random_state': 42, 'min_samples_leaf': 1}. Best is trial 51 with value: 0.878125.\n",
      "[I 2024-02-22 15:32:11,190] Trial 72 finished with value: 0.8625 and parameters: {'n_estimators': 130, 'max_depth': 42, 'min_samples_split': 4, 'random_state': 42, 'min_samples_leaf': 1}. Best is trial 51 with value: 0.878125.\n",
      "[I 2024-02-22 15:32:13,228] Trial 73 finished with value: 0.859375 and parameters: {'n_estimators': 102, 'max_depth': 41, 'min_samples_split': 3, 'random_state': 42, 'min_samples_leaf': 2}. Best is trial 51 with value: 0.878125.\n",
      "[I 2024-02-22 15:32:16,195] Trial 74 finished with value: 0.828125 and parameters: {'n_estimators': 160, 'max_depth': 13, 'min_samples_split': 5, 'random_state': 42, 'min_samples_leaf': 3}. Best is trial 51 with value: 0.878125.\n",
      "[I 2024-02-22 15:32:20,282] Trial 75 finished with value: 0.809375 and parameters: {'n_estimators': 201, 'max_depth': 44, 'min_samples_split': 8, 'random_state': 42, 'min_samples_leaf': 2}. Best is trial 51 with value: 0.878125.\n",
      "[I 2024-02-22 15:32:35,867] Trial 76 finished with value: 0.840625 and parameters: {'n_estimators': 893, 'max_depth': 45, 'min_samples_split': 6, 'random_state': 42, 'min_samples_leaf': 4}. Best is trial 51 with value: 0.878125.\n",
      "[I 2024-02-22 15:32:51,861] Trial 77 finished with value: 0.690625 and parameters: {'n_estimators': 988, 'max_depth': 39, 'min_samples_split': 30, 'random_state': 42, 'min_samples_leaf': 5}. Best is trial 51 with value: 0.878125.\n",
      "[I 2024-02-22 15:32:55,175] Trial 78 finished with value: 0.86875 and parameters: {'n_estimators': 170, 'max_depth': 43, 'min_samples_split': 4, 'random_state': 42, 'min_samples_leaf': 1}. Best is trial 51 with value: 0.878125.\n",
      "[I 2024-02-22 15:32:59,366] Trial 79 finished with value: 0.8375 and parameters: {'n_estimators': 223, 'max_depth': 48, 'min_samples_split': 7, 'random_state': 42, 'min_samples_leaf': 3}. Best is trial 51 with value: 0.878125.\n",
      "[I 2024-02-22 15:33:06,400] Trial 80 finished with value: 0.525 and parameters: {'n_estimators': 488, 'max_depth': 46, 'min_samples_split': 10, 'random_state': 42, 'min_samples_leaf': 29}. Best is trial 51 with value: 0.878125.\n",
      "[I 2024-02-22 15:33:09,983] Trial 81 finished with value: 0.871875 and parameters: {'n_estimators': 183, 'max_depth': 43, 'min_samples_split': 4, 'random_state': 42, 'min_samples_leaf': 1}. Best is trial 51 with value: 0.878125.\n",
      "[I 2024-02-22 15:33:13,544] Trial 82 finished with value: 0.871875 and parameters: {'n_estimators': 181, 'max_depth': 42, 'min_samples_split': 4, 'random_state': 42, 'min_samples_leaf': 1}. Best is trial 51 with value: 0.878125.\n",
      "[I 2024-02-22 15:33:17,193] Trial 83 finished with value: 0.86875 and parameters: {'n_estimators': 183, 'max_depth': 44, 'min_samples_split': 2, 'random_state': 42, 'min_samples_leaf': 1}. Best is trial 51 with value: 0.878125.\n",
      "[I 2024-02-22 15:33:20,743] Trial 84 finished with value: 0.865625 and parameters: {'n_estimators': 182, 'max_depth': 43, 'min_samples_split': 2, 'random_state': 42, 'min_samples_leaf': 1}. Best is trial 51 with value: 0.878125.\n",
      "[I 2024-02-22 15:33:25,727] Trial 85 finished with value: 0.86875 and parameters: {'n_estimators': 247, 'max_depth': 45, 'min_samples_split': 5, 'random_state': 42, 'min_samples_leaf': 2}. Best is trial 51 with value: 0.878125.\n",
      "[I 2024-02-22 15:33:29,376] Trial 86 finished with value: 0.7875 and parameters: {'n_estimators': 211, 'max_depth': 47, 'min_samples_split': 6, 'random_state': 42, 'min_samples_leaf': 6}. Best is trial 51 with value: 0.878125.\n",
      "[I 2024-02-22 15:33:34,244] Trial 87 finished with value: 0.85 and parameters: {'n_estimators': 266, 'max_depth': 49, 'min_samples_split': 4, 'random_state': 42, 'min_samples_leaf': 3}. Best is trial 51 with value: 0.878125.\n",
      "[I 2024-02-22 15:33:41,050] Trial 88 finished with value: 0.834375 and parameters: {'n_estimators': 372, 'max_depth': 40, 'min_samples_split': 2, 'random_state': 42, 'min_samples_leaf': 4}. Best is trial 51 with value: 0.878125.\n",
      "[I 2024-02-22 15:33:46,830] Trial 89 finished with value: 0.871875 and parameters: {'n_estimators': 299, 'max_depth': 42, 'min_samples_split': 5, 'random_state': 42, 'min_samples_leaf': 1}. Best is trial 51 with value: 0.878125.\n",
      "[I 2024-02-22 15:33:52,257] Trial 90 finished with value: 0.828125 and parameters: {'n_estimators': 300, 'max_depth': 38, 'min_samples_split': 8, 'random_state': 42, 'min_samples_leaf': 3}. Best is trial 51 with value: 0.878125.\n",
      "[I 2024-02-22 15:33:55,954] Trial 91 finished with value: 0.853125 and parameters: {'n_estimators': 185, 'max_depth': 42, 'min_samples_split': 5, 'random_state': 42, 'min_samples_leaf': 1}. Best is trial 51 with value: 0.878125.\n",
      "[I 2024-02-22 15:34:00,285] Trial 92 finished with value: 0.865625 and parameters: {'n_estimators': 235, 'max_depth': 41, 'min_samples_split': 3, 'random_state': 42, 'min_samples_leaf': 2}. Best is trial 51 with value: 0.878125.\n",
      "[I 2024-02-22 15:34:05,640] Trial 93 finished with value: 0.875 and parameters: {'n_estimators': 279, 'max_depth': 44, 'min_samples_split': 4, 'random_state': 42, 'min_samples_leaf': 1}. Best is trial 51 with value: 0.878125.\n",
      "[I 2024-02-22 15:34:10,832] Trial 94 finished with value: 0.86875 and parameters: {'n_estimators': 277, 'max_depth': 42, 'min_samples_split': 6, 'random_state': 42, 'min_samples_leaf': 2}. Best is trial 51 with value: 0.878125.\n",
      "[I 2024-02-22 15:34:16,761] Trial 95 finished with value: 0.846875 and parameters: {'n_estimators': 316, 'max_depth': 23, 'min_samples_split': 7, 'random_state': 42, 'min_samples_leaf': 3}. Best is trial 51 with value: 0.878125.\n",
      "[I 2024-02-22 15:34:25,540] Trial 96 finished with value: 0.89375 and parameters: {'n_estimators': 441, 'max_depth': 46, 'min_samples_split': 4, 'random_state': 42, 'min_samples_leaf': 1}. Best is trial 96 with value: 0.89375.\n",
      "[I 2024-02-22 15:34:33,481] Trial 97 finished with value: 0.865625 and parameters: {'n_estimators': 438, 'max_depth': 46, 'min_samples_split': 4, 'random_state': 42, 'min_samples_leaf': 3}. Best is trial 96 with value: 0.89375.\n",
      "[I 2024-02-22 15:34:40,726] Trial 98 finished with value: 0.8375 and parameters: {'n_estimators': 403, 'max_depth': 49, 'min_samples_split': 5, 'random_state': 42, 'min_samples_leaf': 4}. Best is trial 96 with value: 0.89375.\n",
      "[I 2024-02-22 15:34:46,194] Trial 99 finished with value: 0.665625 and parameters: {'n_estimators': 353, 'max_depth': 45, 'min_samples_split': 3, 'random_state': 42, 'min_samples_leaf': 19}. Best is trial 96 with value: 0.89375.\n"
     ]
    },
    {
     "name": "stdout",
     "output_type": "stream",
     "text": [
      "Best params found : {'n_estimators': 441, 'max_depth': 46, 'min_samples_split': 4, 'random_state': 42, 'min_samples_leaf': 1}\n"
     ]
    },
    {
     "data": {
      "text/plain": [
       "0.9875"
      ]
     },
     "execution_count": 16,
     "metadata": {},
     "output_type": "execute_result"
    }
   ],
   "source": [
    "study = optuna.create_study(direction = 'maximize')\n",
    "study.optimize(objective, n_trials = 100)\n",
    "best_params = study.best_params\n",
    "print(\"Best params found :\", best_params)\n",
    "\n",
    "final_model = RandomForestClassifier(**best_params)\n",
    "final_model.fit(X_train_reduced, y_train)\n",
    "y_pred = final_model.predict(X_test_reduced)\n",
    "accuracy_score(y_test, y_pred)"
   ]
  },
  {
   "cell_type": "code",
   "execution_count": 17,
   "id": "b115869d",
   "metadata": {
    "execution": {
     "iopub.execute_input": "2024-02-22T15:34:48.086340Z",
     "iopub.status.busy": "2024-02-22T15:34:48.085809Z",
     "iopub.status.idle": "2024-02-22T15:34:50.034126Z",
     "shell.execute_reply": "2024-02-22T15:34:50.032492Z"
    },
    "papermill": {
     "duration": 1.975496,
     "end_time": "2024-02-22T15:34:50.036518",
     "exception": false,
     "start_time": "2024-02-22T15:34:48.061022",
     "status": "completed"
    },
    "tags": []
   },
   "outputs": [
    {
     "name": "stdout",
     "output_type": "stream",
     "text": [
      "accuracy: 0.9875\n",
      "recall: 0.9722222222222222\n",
      "precision: 0.9629629629629629\n",
      "f1-score: 0.9666666666666666\n",
      "roc_auc:  0.7339875119474435\n"
     ]
    },
    {
     "name": "stderr",
     "output_type": "stream",
     "text": [
      "/opt/conda/lib/python3.10/site-packages/sklearn/metrics/_classification.py:1344: UndefinedMetricWarning: Precision is ill-defined and being set to 0.0 in labels with no predicted samples. Use `zero_division` parameter to control this behavior.\n",
      "  _warn_prf(average, modifier, msg_start, len(result))\n"
     ]
    }
   ],
   "source": [
    "final_model = RandomForestClassifier(**best_params)\n",
    "final_model.fit(X_train_reduced, y_train)\n",
    "y_pred = final_model.predict(X_test_reduced)\n",
    "prediction_results['random forest'] = list(y_pred)\n",
    "\n",
    "accuracy = accuracy_score(y_test, y_pred)\n",
    "precision = precision_score(y_test, y_pred, average='macro')\n",
    "recall = recall_score(y_test, y_pred, average='macro')\n",
    "f1 = f1_score(y_test, y_pred, average='macro')\n",
    "\n",
    "# One-hot encoding for probability calculation (adapt if necessary)\n",
    "y_test_onehot = pd.get_dummies(y_test, prefix='label_')  # Assuming 'label_' prefix for clarity\n",
    "y_pred_onehot = pd.get_dummies(y_pred, prefix='label_')\n",
    "\n",
    "# ROC AUC score with multiclass handling\n",
    "roc_auc_macro = roc_auc_score(y_test_onehot, y_pred_onehot, average='macro', multi_class='ovo')  # Specify 'ovo' or 'ovr'\n",
    "\n",
    "print(\"accuracy:\", accuracy)\n",
    "print(\"recall:\", recall)\n",
    "print(\"precision:\", precision)\n",
    "print(\"f1-score:\", f1)\n",
    "print('roc_auc: ', roc_auc_macro)"
   ]
  },
  {
   "cell_type": "markdown",
   "id": "f967923e",
   "metadata": {
    "papermill": {
     "duration": 0.020135,
     "end_time": "2024-02-22T15:34:50.077111",
     "exception": false,
     "start_time": "2024-02-22T15:34:50.056976",
     "status": "completed"
    },
    "tags": []
   },
   "source": [
    "****"
   ]
  },
  {
   "cell_type": "markdown",
   "id": "8de2662f",
   "metadata": {
    "papermill": {
     "duration": 0.020335,
     "end_time": "2024-02-22T15:34:50.117870",
     "exception": false,
     "start_time": "2024-02-22T15:34:50.097535",
     "status": "completed"
    },
    "tags": []
   },
   "source": [
    "# Gassian NB"
   ]
  },
  {
   "cell_type": "markdown",
   "id": "e2890c22",
   "metadata": {
    "papermill": {
     "duration": 0.020415,
     "end_time": "2024-02-22T15:34:50.161229",
     "exception": false,
     "start_time": "2024-02-22T15:34:50.140814",
     "status": "completed"
    },
    "tags": []
   },
   "source": [
    "**Pre-tunning**"
   ]
  },
  {
   "cell_type": "code",
   "execution_count": 18,
   "id": "1b090597",
   "metadata": {
    "_kg_hide-output": true,
    "execution": {
     "iopub.execute_input": "2024-02-22T15:34:50.205283Z",
     "iopub.status.busy": "2024-02-22T15:34:50.204824Z",
     "iopub.status.idle": "2024-02-22T15:34:50.231674Z",
     "shell.execute_reply": "2024-02-22T15:34:50.230335Z"
    },
    "papermill": {
     "duration": 0.051801,
     "end_time": "2024-02-22T15:34:50.234650",
     "exception": false,
     "start_time": "2024-02-22T15:34:50.182849",
     "status": "completed"
    },
    "tags": []
   },
   "outputs": [
    {
     "name": "stdout",
     "output_type": "stream",
     "text": [
      "accuracy: 0.9625\n",
      "recall: 0.9444444444444444\n",
      "precision: 0.9375\n",
      "f1-score: 0.9358465608465608\n"
     ]
    },
    {
     "name": "stderr",
     "output_type": "stream",
     "text": [
      "/opt/conda/lib/python3.10/site-packages/sklearn/metrics/_classification.py:1344: UndefinedMetricWarning: Precision is ill-defined and being set to 0.0 in labels with no predicted samples. Use `zero_division` parameter to control this behavior.\n",
      "  _warn_prf(average, modifier, msg_start, len(result))\n"
     ]
    }
   ],
   "source": [
    "from sklearn.naive_bayes import GaussianNB\n",
    "gnb = GaussianNB()\n",
    "gnb.fit(X_train_reduced, y_train)\n",
    "\n",
    "y_pred = gnb.predict(X_test_reduced)\n",
    "\n",
    "accuracy = accuracy_score(y_test, y_pred)\n",
    "precision = precision_score(y_test, y_pred, average='macro')\n",
    "recall = recall_score(y_test, y_pred, average='macro')\n",
    "f1 = f1_score(y_test, y_pred, average='macro')\n",
    "\n",
    "# One-hot encoding for probability calculation (adapt if necessary)\n",
    "y_test_onehot = pd.get_dummies(y_test, prefix='label_')  # Assuming 'label_' prefix for clarity\n",
    "y_pred_onehot = pd.get_dummies(y_pred, prefix='label_')\n",
    "\n",
    "# # ROC AUC score with multiclass handling\n",
    "# roc_auc_macro = roc_auc_score(y_test_onehot, y_pred_onehot, average='macro', multi_class='ovr')  # Specify 'ovo' or 'ovr'\n",
    "\n",
    "print(\"accuracy:\", accuracy)\n",
    "print(\"recall:\", recall)\n",
    "print(\"precision:\", precision)\n",
    "print(\"f1-score:\", f1)\n",
    "# print('roc_auc: ', roc_auc_macro)\n"
   ]
  },
  {
   "cell_type": "markdown",
   "id": "15e0d26a",
   "metadata": {
    "papermill": {
     "duration": 0.02113,
     "end_time": "2024-02-22T15:34:50.276489",
     "exception": false,
     "start_time": "2024-02-22T15:34:50.255359",
     "status": "completed"
    },
    "tags": []
   },
   "source": [
    "**Tunning**"
   ]
  },
  {
   "cell_type": "code",
   "execution_count": 19,
   "id": "422133db",
   "metadata": {
    "execution": {
     "iopub.execute_input": "2024-02-22T15:34:50.320837Z",
     "iopub.status.busy": "2024-02-22T15:34:50.320338Z",
     "iopub.status.idle": "2024-02-22T15:34:50.326905Z",
     "shell.execute_reply": "2024-02-22T15:34:50.325672Z"
    },
    "papermill": {
     "duration": 0.031259,
     "end_time": "2024-02-22T15:34:50.329275",
     "exception": false,
     "start_time": "2024-02-22T15:34:50.298016",
     "status": "completed"
    },
    "tags": []
   },
   "outputs": [],
   "source": [
    "def objective(trial):\n",
    "    hyperparams = {\n",
    "        'var_smoothing': trial.suggest_float('var_smoothing', 1e-9, 1e-4, log = True)\n",
    "    }\n",
    "    \n",
    "    model = GaussianNB(**hyperparams)\n",
    "    scores = cross_val_score(model, X_train_reduced, y_train, cv = kf,scoring = 'accuracy')\n",
    "    return np.mean(scores)"
   ]
  },
  {
   "cell_type": "code",
   "execution_count": 20,
   "id": "2420dd31",
   "metadata": {
    "execution": {
     "iopub.execute_input": "2024-02-22T15:34:50.373992Z",
     "iopub.status.busy": "2024-02-22T15:34:50.373494Z",
     "iopub.status.idle": "2024-02-22T15:34:54.581176Z",
     "shell.execute_reply": "2024-02-22T15:34:54.579387Z"
    },
    "papermill": {
     "duration": 4.233628,
     "end_time": "2024-02-22T15:34:54.583787",
     "exception": false,
     "start_time": "2024-02-22T15:34:50.350159",
     "status": "completed"
    },
    "tags": []
   },
   "outputs": [
    {
     "name": "stderr",
     "output_type": "stream",
     "text": [
      "[I 2024-02-22 15:34:50,378] A new study created in memory with name: no-name-fec5bb88-93b8-4a2c-81a9-c58357ac769a\n",
      "[I 2024-02-22 15:34:50,416] Trial 0 finished with value: 0.75 and parameters: {'var_smoothing': 6.032661292809288e-09}. Best is trial 0 with value: 0.75.\n",
      "[I 2024-02-22 15:34:50,451] Trial 1 finished with value: 0.75 and parameters: {'var_smoothing': 4.4472605401167e-07}. Best is trial 0 with value: 0.75.\n",
      "[I 2024-02-22 15:34:50,485] Trial 2 finished with value: 0.765625 and parameters: {'var_smoothing': 9.87015907731127e-05}. Best is trial 2 with value: 0.765625.\n",
      "[I 2024-02-22 15:34:50,524] Trial 3 finished with value: 0.7625 and parameters: {'var_smoothing': 8.790162027005365e-05}. Best is trial 2 with value: 0.765625.\n",
      "[I 2024-02-22 15:34:50,560] Trial 4 finished with value: 0.75 and parameters: {'var_smoothing': 7.787687196885561e-07}. Best is trial 2 with value: 0.765625.\n",
      "[I 2024-02-22 15:34:50,595] Trial 5 finished with value: 0.75 and parameters: {'var_smoothing': 1.220710030684767e-05}. Best is trial 2 with value: 0.765625.\n",
      "[I 2024-02-22 15:34:50,630] Trial 6 finished with value: 0.75 and parameters: {'var_smoothing': 6.601198884727069e-09}. Best is trial 2 with value: 0.765625.\n",
      "[I 2024-02-22 15:34:50,664] Trial 7 finished with value: 0.7625 and parameters: {'var_smoothing': 6.379227988173362e-05}. Best is trial 2 with value: 0.765625.\n",
      "[I 2024-02-22 15:34:50,703] Trial 8 finished with value: 0.75 and parameters: {'var_smoothing': 2.640324914732269e-08}. Best is trial 2 with value: 0.765625.\n",
      "[I 2024-02-22 15:34:50,738] Trial 9 finished with value: 0.75 and parameters: {'var_smoothing': 4.25376415788206e-08}. Best is trial 2 with value: 0.765625.\n",
      "[I 2024-02-22 15:34:50,780] Trial 10 finished with value: 0.75 and parameters: {'var_smoothing': 4.281313331537905e-06}. Best is trial 2 with value: 0.765625.\n",
      "[I 2024-02-22 15:34:50,821] Trial 11 finished with value: 0.7625 and parameters: {'var_smoothing': 6.856184005709509e-05}. Best is trial 2 with value: 0.765625.\n",
      "[I 2024-02-22 15:34:50,874] Trial 12 finished with value: 0.75 and parameters: {'var_smoothing': 8.42221261037737e-06}. Best is trial 2 with value: 0.765625.\n",
      "[I 2024-02-22 15:34:50,920] Trial 13 finished with value: 0.7625 and parameters: {'var_smoothing': 8.978126506826905e-05}. Best is trial 2 with value: 0.765625.\n",
      "[I 2024-02-22 15:34:50,959] Trial 14 finished with value: 0.75 and parameters: {'var_smoothing': 3.2712822427105726e-06}. Best is trial 2 with value: 0.765625.\n",
      "[I 2024-02-22 15:34:51,000] Trial 15 finished with value: 0.75 and parameters: {'var_smoothing': 2.740180928705981e-05}. Best is trial 2 with value: 0.765625.\n",
      "[I 2024-02-22 15:34:51,043] Trial 16 finished with value: 0.75 and parameters: {'var_smoothing': 1.5768954197999143e-06}. Best is trial 2 with value: 0.765625.\n",
      "[I 2024-02-22 15:34:51,085] Trial 17 finished with value: 0.75 and parameters: {'var_smoothing': 1.9963462793996907e-05}. Best is trial 2 with value: 0.765625.\n",
      "[I 2024-02-22 15:34:51,128] Trial 18 finished with value: 0.75 and parameters: {'var_smoothing': 1.6590506638556874e-07}. Best is trial 2 with value: 0.765625.\n",
      "[I 2024-02-22 15:34:51,172] Trial 19 finished with value: 0.75 and parameters: {'var_smoothing': 1.3722983782187491e-07}. Best is trial 2 with value: 0.765625.\n",
      "[I 2024-02-22 15:34:51,215] Trial 20 finished with value: 0.75 and parameters: {'var_smoothing': 1.6905632764298659e-09}. Best is trial 2 with value: 0.765625.\n",
      "[I 2024-02-22 15:34:51,259] Trial 21 finished with value: 0.75625 and parameters: {'var_smoothing': 4.497961872395434e-05}. Best is trial 2 with value: 0.765625.\n",
      "[I 2024-02-22 15:34:51,301] Trial 22 finished with value: 0.7625 and parameters: {'var_smoothing': 9.052257704738215e-05}. Best is trial 2 with value: 0.765625.\n",
      "[I 2024-02-22 15:34:51,343] Trial 23 finished with value: 0.75 and parameters: {'var_smoothing': 2.46640100637703e-05}. Best is trial 2 with value: 0.765625.\n",
      "[I 2024-02-22 15:34:51,387] Trial 24 finished with value: 0.75 and parameters: {'var_smoothing': 5.903923123766078e-06}. Best is trial 2 with value: 0.765625.\n",
      "[I 2024-02-22 15:34:51,431] Trial 25 finished with value: 0.75 and parameters: {'var_smoothing': 2.4241965265030308e-05}. Best is trial 2 with value: 0.765625.\n",
      "[I 2024-02-22 15:34:51,473] Trial 26 finished with value: 0.75 and parameters: {'var_smoothing': 1.6096299143809913e-06}. Best is trial 2 with value: 0.765625.\n",
      "[I 2024-02-22 15:34:51,517] Trial 27 finished with value: 0.75 and parameters: {'var_smoothing': 1.1094398943476703e-05}. Best is trial 2 with value: 0.765625.\n",
      "[I 2024-02-22 15:34:51,558] Trial 28 finished with value: 0.75 and parameters: {'var_smoothing': 3.75925655138518e-05}. Best is trial 2 with value: 0.765625.\n",
      "[I 2024-02-22 15:34:51,599] Trial 29 finished with value: 0.7625 and parameters: {'var_smoothing': 6.242362389130705e-05}. Best is trial 2 with value: 0.765625.\n",
      "[I 2024-02-22 15:34:51,640] Trial 30 finished with value: 0.75 and parameters: {'var_smoothing': 2.9869909944458236e-06}. Best is trial 2 with value: 0.765625.\n",
      "[I 2024-02-22 15:34:51,679] Trial 31 finished with value: 0.765625 and parameters: {'var_smoothing': 9.670239590677886e-05}. Best is trial 2 with value: 0.765625.\n",
      "[I 2024-02-22 15:34:51,722] Trial 32 finished with value: 0.7625 and parameters: {'var_smoothing': 9.543798044548965e-05}. Best is trial 2 with value: 0.765625.\n",
      "[I 2024-02-22 15:34:51,762] Trial 33 finished with value: 0.75 and parameters: {'var_smoothing': 1.48672023469738e-05}. Best is trial 2 with value: 0.765625.\n",
      "[I 2024-02-22 15:34:51,802] Trial 34 finished with value: 0.75 and parameters: {'var_smoothing': 3.5989341040544536e-05}. Best is trial 2 with value: 0.765625.\n",
      "[I 2024-02-22 15:34:51,844] Trial 35 finished with value: 0.75625 and parameters: {'var_smoothing': 5.22092812596031e-05}. Best is trial 2 with value: 0.765625.\n",
      "[I 2024-02-22 15:34:51,886] Trial 36 finished with value: 0.75 and parameters: {'var_smoothing': 8.835098424923435e-06}. Best is trial 2 with value: 0.765625.\n",
      "[I 2024-02-22 15:34:51,929] Trial 37 finished with value: 0.75 and parameters: {'var_smoothing': 4.321211912139916e-05}. Best is trial 2 with value: 0.765625.\n",
      "[I 2024-02-22 15:34:51,970] Trial 38 finished with value: 0.75 and parameters: {'var_smoothing': 1.5480456877631015e-05}. Best is trial 2 with value: 0.765625.\n",
      "[I 2024-02-22 15:34:52,014] Trial 39 finished with value: 0.75 and parameters: {'var_smoothing': 4.673626176540251e-07}. Best is trial 2 with value: 0.765625.\n",
      "[I 2024-02-22 15:34:52,054] Trial 40 finished with value: 0.75 and parameters: {'var_smoothing': 6.007167216262311e-06}. Best is trial 2 with value: 0.765625.\n",
      "[I 2024-02-22 15:34:52,094] Trial 41 finished with value: 0.765625 and parameters: {'var_smoothing': 9.672062184242458e-05}. Best is trial 2 with value: 0.765625.\n",
      "[I 2024-02-22 15:34:52,139] Trial 42 finished with value: 0.7625 and parameters: {'var_smoothing': 6.304596675775049e-05}. Best is trial 2 with value: 0.765625.\n",
      "[I 2024-02-22 15:34:52,184] Trial 43 finished with value: 0.7625 and parameters: {'var_smoothing': 8.342410583428419e-05}. Best is trial 2 with value: 0.765625.\n",
      "[I 2024-02-22 15:34:52,229] Trial 44 finished with value: 0.75 and parameters: {'var_smoothing': 1.4294295563685522e-08}. Best is trial 2 with value: 0.765625.\n",
      "[I 2024-02-22 15:34:52,273] Trial 45 finished with value: 0.765625 and parameters: {'var_smoothing': 9.932086667377178e-05}. Best is trial 2 with value: 0.765625.\n",
      "[I 2024-02-22 15:34:52,314] Trial 46 finished with value: 0.75 and parameters: {'var_smoothing': 2.9436518463156715e-05}. Best is trial 2 with value: 0.765625.\n",
      "[I 2024-02-22 15:34:52,357] Trial 47 finished with value: 0.75625 and parameters: {'var_smoothing': 5.021163208293484e-05}. Best is trial 2 with value: 0.765625.\n",
      "[I 2024-02-22 15:34:52,399] Trial 48 finished with value: 0.765625 and parameters: {'var_smoothing': 9.893459490389017e-05}. Best is trial 2 with value: 0.765625.\n",
      "[I 2024-02-22 15:34:52,440] Trial 49 finished with value: 0.75 and parameters: {'var_smoothing': 1.582381594292467e-05}. Best is trial 2 with value: 0.765625.\n",
      "[I 2024-02-22 15:34:52,486] Trial 50 finished with value: 0.7625 and parameters: {'var_smoothing': 9.227618436141746e-05}. Best is trial 2 with value: 0.765625.\n",
      "[I 2024-02-22 15:34:52,528] Trial 51 finished with value: 0.765625 and parameters: {'var_smoothing': 9.810715966207198e-05}. Best is trial 2 with value: 0.765625.\n",
      "[I 2024-02-22 15:34:52,570] Trial 52 finished with value: 0.75 and parameters: {'var_smoothing': 3.218295810530556e-05}. Best is trial 2 with value: 0.765625.\n",
      "[I 2024-02-22 15:34:52,613] Trial 53 finished with value: 0.7625 and parameters: {'var_smoothing': 6.407558528278899e-05}. Best is trial 2 with value: 0.765625.\n",
      "[I 2024-02-22 15:34:52,655] Trial 54 finished with value: 0.765625 and parameters: {'var_smoothing': 9.962597541916494e-05}. Best is trial 2 with value: 0.765625.\n",
      "[I 2024-02-22 15:34:52,698] Trial 55 finished with value: 0.75 and parameters: {'var_smoothing': 4.3875464061304984e-05}. Best is trial 2 with value: 0.765625.\n",
      "[I 2024-02-22 15:34:52,740] Trial 56 finished with value: 0.75 and parameters: {'var_smoothing': 2.4252758963030018e-05}. Best is trial 2 with value: 0.765625.\n",
      "[I 2024-02-22 15:34:52,782] Trial 57 finished with value: 0.75 and parameters: {'var_smoothing': 1.7699903450586661e-09}. Best is trial 2 with value: 0.765625.\n",
      "[I 2024-02-22 15:34:52,825] Trial 58 finished with value: 0.75 and parameters: {'var_smoothing': 7.805820042729488e-08}. Best is trial 2 with value: 0.765625.\n",
      "[I 2024-02-22 15:34:52,867] Trial 59 finished with value: 0.75 and parameters: {'var_smoothing': 1.89357028647022e-05}. Best is trial 2 with value: 0.765625.\n",
      "[I 2024-02-22 15:34:52,907] Trial 60 finished with value: 0.759375 and parameters: {'var_smoothing': 6.0167282656457764e-05}. Best is trial 2 with value: 0.765625.\n",
      "[I 2024-02-22 15:34:52,947] Trial 61 finished with value: 0.7625 and parameters: {'var_smoothing': 9.042775465536022e-05}. Best is trial 2 with value: 0.765625.\n",
      "[I 2024-02-22 15:34:52,987] Trial 62 finished with value: 0.75 and parameters: {'var_smoothing': 3.621099084633549e-05}. Best is trial 2 with value: 0.765625.\n",
      "[I 2024-02-22 15:34:53,031] Trial 63 finished with value: 0.7625 and parameters: {'var_smoothing': 6.871826837442254e-05}. Best is trial 2 with value: 0.765625.\n",
      "[I 2024-02-22 15:34:53,072] Trial 64 finished with value: 0.765625 and parameters: {'var_smoothing': 9.98868680452554e-05}. Best is trial 2 with value: 0.765625.\n",
      "[I 2024-02-22 15:34:53,114] Trial 65 finished with value: 0.75625 and parameters: {'var_smoothing': 5.051106578373555e-05}. Best is trial 2 with value: 0.765625.\n",
      "[I 2024-02-22 15:34:53,157] Trial 66 finished with value: 0.75 and parameters: {'var_smoothing': 2.8705773020670025e-05}. Best is trial 2 with value: 0.765625.\n",
      "[I 2024-02-22 15:34:53,198] Trial 67 finished with value: 0.75 and parameters: {'var_smoothing': 1.171435901040606e-05}. Best is trial 2 with value: 0.765625.\n",
      "[I 2024-02-22 15:34:53,238] Trial 68 finished with value: 0.765625 and parameters: {'var_smoothing': 9.958387032594669e-05}. Best is trial 2 with value: 0.765625.\n",
      "[I 2024-02-22 15:34:53,281] Trial 69 finished with value: 0.75 and parameters: {'var_smoothing': 2.14774140502964e-05}. Best is trial 2 with value: 0.765625.\n",
      "[I 2024-02-22 15:34:53,322] Trial 70 finished with value: 0.7625 and parameters: {'var_smoothing': 6.723481630238094e-05}. Best is trial 2 with value: 0.765625.\n",
      "[I 2024-02-22 15:34:53,364] Trial 71 finished with value: 0.765625 and parameters: {'var_smoothing': 9.74055032335389e-05}. Best is trial 2 with value: 0.765625.\n",
      "[I 2024-02-22 15:34:53,409] Trial 72 finished with value: 0.75 and parameters: {'var_smoothing': 4.328213474711639e-05}. Best is trial 2 with value: 0.765625.\n",
      "[I 2024-02-22 15:34:53,448] Trial 73 finished with value: 0.75625 and parameters: {'var_smoothing': 5.635416107659925e-05}. Best is trial 2 with value: 0.765625.\n",
      "[I 2024-02-22 15:34:53,490] Trial 74 finished with value: 0.7625 and parameters: {'var_smoothing': 7.449916223860427e-05}. Best is trial 2 with value: 0.765625.\n",
      "[I 2024-02-22 15:34:53,532] Trial 75 finished with value: 0.75 and parameters: {'var_smoothing': 3.64713194759084e-05}. Best is trial 2 with value: 0.765625.\n",
      "[I 2024-02-22 15:34:53,576] Trial 76 finished with value: 0.75 and parameters: {'var_smoothing': 1.261146784677727e-06}. Best is trial 2 with value: 0.765625.\n",
      "[I 2024-02-22 15:34:53,622] Trial 77 finished with value: 0.7625 and parameters: {'var_smoothing': 7.074384116215004e-05}. Best is trial 2 with value: 0.765625.\n",
      "[I 2024-02-22 15:34:53,666] Trial 78 finished with value: 0.75 and parameters: {'var_smoothing': 4.334247212409488e-05}. Best is trial 2 with value: 0.765625.\n",
      "[I 2024-02-22 15:34:53,712] Trial 79 finished with value: 0.765625 and parameters: {'var_smoothing': 9.651942985500831e-05}. Best is trial 2 with value: 0.765625.\n",
      "[I 2024-02-22 15:34:53,759] Trial 80 finished with value: 0.75 and parameters: {'var_smoothing': 3.0542427354524984e-05}. Best is trial 2 with value: 0.765625.\n",
      "[I 2024-02-22 15:34:53,804] Trial 81 finished with value: 0.7625 and parameters: {'var_smoothing': 7.502825316749855e-05}. Best is trial 2 with value: 0.765625.\n",
      "[I 2024-02-22 15:34:53,848] Trial 82 finished with value: 0.765625 and parameters: {'var_smoothing': 9.988347671079897e-05}. Best is trial 2 with value: 0.765625.\n",
      "[I 2024-02-22 15:34:53,893] Trial 83 finished with value: 0.75625 and parameters: {'var_smoothing': 5.67845410728129e-05}. Best is trial 2 with value: 0.765625.\n",
      "[I 2024-02-22 15:34:53,936] Trial 84 finished with value: 0.75625 and parameters: {'var_smoothing': 5.216439974925418e-05}. Best is trial 2 with value: 0.765625.\n",
      "[I 2024-02-22 15:34:53,978] Trial 85 finished with value: 0.7625 and parameters: {'var_smoothing': 7.496868582674941e-05}. Best is trial 2 with value: 0.765625.\n",
      "[I 2024-02-22 15:34:54,023] Trial 86 finished with value: 0.765625 and parameters: {'var_smoothing': 9.769878032355973e-05}. Best is trial 2 with value: 0.765625.\n",
      "[I 2024-02-22 15:34:54,066] Trial 87 finished with value: 0.75 and parameters: {'var_smoothing': 1.999729783670005e-05}. Best is trial 2 with value: 0.765625.\n",
      "[I 2024-02-22 15:34:54,106] Trial 88 finished with value: 0.75 and parameters: {'var_smoothing': 2.3648875593809971e-07}. Best is trial 2 with value: 0.765625.\n",
      "[I 2024-02-22 15:34:54,148] Trial 89 finished with value: 0.75 and parameters: {'var_smoothing': 4.096980047824724e-05}. Best is trial 2 with value: 0.765625.\n",
      "[I 2024-02-22 15:34:54,189] Trial 90 finished with value: 0.75 and parameters: {'var_smoothing': 2.7014049304705744e-05}. Best is trial 2 with value: 0.765625.\n",
      "[I 2024-02-22 15:34:54,229] Trial 91 finished with value: 0.7625 and parameters: {'var_smoothing': 7.708888035937265e-05}. Best is trial 2 with value: 0.765625.\n",
      "[I 2024-02-22 15:34:54,270] Trial 92 finished with value: 0.7625 and parameters: {'var_smoothing': 9.568084155994156e-05}. Best is trial 2 with value: 0.765625.\n",
      "[I 2024-02-22 15:34:54,316] Trial 93 finished with value: 0.75625 and parameters: {'var_smoothing': 5.426781851258391e-05}. Best is trial 2 with value: 0.765625.\n",
      "[I 2024-02-22 15:34:54,356] Trial 94 finished with value: 0.7625 and parameters: {'var_smoothing': 7.294938468531082e-05}. Best is trial 2 with value: 0.765625.\n",
      "[I 2024-02-22 15:34:54,398] Trial 95 finished with value: 0.765625 and parameters: {'var_smoothing': 9.950031128229879e-05}. Best is trial 2 with value: 0.765625.\n",
      "[I 2024-02-22 15:34:54,437] Trial 96 finished with value: 0.75 and parameters: {'var_smoothing': 3.526962626421223e-05}. Best is trial 2 with value: 0.765625.\n",
      "[I 2024-02-22 15:34:54,480] Trial 97 finished with value: 0.75625 and parameters: {'var_smoothing': 5.104930442519973e-05}. Best is trial 2 with value: 0.765625.\n",
      "[I 2024-02-22 15:34:54,521] Trial 98 finished with value: 0.7625 and parameters: {'var_smoothing': 6.646249199799298e-05}. Best is trial 2 with value: 0.765625.\n",
      "[I 2024-02-22 15:34:54,560] Trial 99 finished with value: 0.75 and parameters: {'var_smoothing': 4.1934030430726226e-05}. Best is trial 2 with value: 0.765625.\n"
     ]
    },
    {
     "name": "stdout",
     "output_type": "stream",
     "text": [
      "Best params found : {'var_smoothing': 9.87015907731127e-05}\n",
      "accuracy: 0.9625\n",
      "recall: 0.9444444444444444\n",
      "precision: 0.9375\n",
      "f1-score: 0.9358465608465608\n"
     ]
    },
    {
     "name": "stderr",
     "output_type": "stream",
     "text": [
      "/opt/conda/lib/python3.10/site-packages/sklearn/metrics/_classification.py:1344: UndefinedMetricWarning: Precision is ill-defined and being set to 0.0 in labels with no predicted samples. Use `zero_division` parameter to control this behavior.\n",
      "  _warn_prf(average, modifier, msg_start, len(result))\n"
     ]
    }
   ],
   "source": [
    "study = optuna.create_study(direction = 'maximize')\n",
    "study.optimize(objective, n_trials = 100)\n",
    "best_params = study.best_params\n",
    "print(\"Best params found :\", best_params)\n",
    "\n",
    "final_model = GaussianNB(**best_params)\n",
    "final_model.fit(X_train_reduced, y_train)\n",
    "y_pred = final_model.predict(X_test_reduced)\n",
    "prediction_results['gnb'] = list(y_pred)\n",
    "\n",
    "accuracy = accuracy_score(y_test, y_pred)\n",
    "precision = precision_score(y_test, y_pred, average='macro')\n",
    "recall = recall_score(y_test, y_pred, average='macro')\n",
    "f1 = f1_score(y_test, y_pred, average='macro')\n",
    "\n",
    "# # One-hot encoding for probability calculation (adapt if necessary)\n",
    "# y_test_onehot = pd.get_dummies(y_test, prefix='label_')  # Assuming 'label_' prefix for clarity\n",
    "# y_pred_onehot = pd.get_dummies(y_pred, prefix='label_')\n",
    "\n",
    "# # ROC AUC score with multiclass handling\n",
    "# roc_auc_macro = roc_auc_score(y_test_onehot, y_pred_onehot, average='macro', multi_class='ovo')  # Specify 'ovo' or 'ovr'\n",
    "\n",
    "print(\"accuracy:\", accuracy)\n",
    "print(\"recall:\", recall)\n",
    "print(\"precision:\", precision)\n",
    "print(\"f1-score:\", f1)\n",
    "# print('roc_auc: ', roc_auc_macro)"
   ]
  },
  {
   "cell_type": "markdown",
   "id": "fc7e6414",
   "metadata": {
    "papermill": {
     "duration": 0.027053,
     "end_time": "2024-02-22T15:34:54.638918",
     "exception": false,
     "start_time": "2024-02-22T15:34:54.611865",
     "status": "completed"
    },
    "tags": []
   },
   "source": [
    "****"
   ]
  },
  {
   "cell_type": "markdown",
   "id": "7db892ce",
   "metadata": {
    "papermill": {
     "duration": 0.027799,
     "end_time": "2024-02-22T15:34:54.694073",
     "exception": false,
     "start_time": "2024-02-22T15:34:54.666274",
     "status": "completed"
    },
    "tags": []
   },
   "source": [
    "# Logistic Regression"
   ]
  },
  {
   "cell_type": "markdown",
   "id": "b1608089",
   "metadata": {
    "papermill": {
     "duration": 0.027406,
     "end_time": "2024-02-22T15:34:54.748853",
     "exception": false,
     "start_time": "2024-02-22T15:34:54.721447",
     "status": "completed"
    },
    "tags": []
   },
   "source": [
    "**Normal**"
   ]
  },
  {
   "cell_type": "code",
   "execution_count": 21,
   "id": "a5f121a4",
   "metadata": {
    "execution": {
     "iopub.execute_input": "2024-02-22T15:34:54.806076Z",
     "iopub.status.busy": "2024-02-22T15:34:54.805649Z",
     "iopub.status.idle": "2024-02-22T15:34:55.008268Z",
     "shell.execute_reply": "2024-02-22T15:34:55.006847Z"
    },
    "papermill": {
     "duration": 0.238507,
     "end_time": "2024-02-22T15:34:55.014930",
     "exception": false,
     "start_time": "2024-02-22T15:34:54.776423",
     "status": "completed"
    },
    "tags": []
   },
   "outputs": [
    {
     "name": "stdout",
     "output_type": "stream",
     "text": [
      "accuracy: 1.0\n",
      "recall: 1.0\n",
      "precision: 1.0\n",
      "f1-score: 1.0\n"
     ]
    },
    {
     "name": "stderr",
     "output_type": "stream",
     "text": [
      "/opt/conda/lib/python3.10/site-packages/sklearn/linear_model/_logistic.py:458: ConvergenceWarning: lbfgs failed to converge (status=1):\n",
      "STOP: TOTAL NO. of ITERATIONS REACHED LIMIT.\n",
      "\n",
      "Increase the number of iterations (max_iter) or scale the data as shown in:\n",
      "    https://scikit-learn.org/stable/modules/preprocessing.html\n",
      "Please also refer to the documentation for alternative solver options:\n",
      "    https://scikit-learn.org/stable/modules/linear_model.html#logistic-regression\n",
      "  n_iter_i = _check_optimize_result(\n"
     ]
    }
   ],
   "source": [
    "lr = LogisticRegression()\n",
    "lr.fit(X_train_reduced, y_train)\n",
    "y_pred = lr.predict(X_test_reduced)\n",
    "\n",
    "accuracy = accuracy_score(y_test, y_pred)\n",
    "precision = precision_score(y_test, y_pred, average='macro')\n",
    "recall = recall_score(y_test, y_pred, average='macro')\n",
    "f1 = f1_score(y_test, y_pred, average='macro')\n",
    "\n",
    "# # One-hot encoding for probability calculation (adapt if necessary)\n",
    "# y_test_onehot = pd.get_dummies(y_test, prefix='label_')  # Assuming 'label_' prefix for clarity\n",
    "# y_pred_onehot = pd.get_dummies(y_pred, prefix='label_')\n",
    "\n",
    "# # ROC AUC score with multiclass handling\n",
    "# roc_auc_macro = roc_auc_score(y_test_onehot, y_pred_onehot, average='macro', multi_class='ovo')  # Specify 'ovo' or 'ovr'\n",
    "\n",
    "print(\"accuracy:\", accuracy)\n",
    "print(\"recall:\", recall)\n",
    "print(\"precision:\", precision)\n",
    "print(\"f1-score:\", f1)\n",
    "# print('roc_auc: ', roc_auc_macro)"
   ]
  },
  {
   "cell_type": "markdown",
   "id": "fd37b6b8",
   "metadata": {
    "papermill": {
     "duration": 0.04662,
     "end_time": "2024-02-22T15:34:55.116097",
     "exception": false,
     "start_time": "2024-02-22T15:34:55.069477",
     "status": "completed"
    },
    "tags": []
   },
   "source": [
    "**Tunning**"
   ]
  },
  {
   "cell_type": "code",
   "execution_count": 22,
   "id": "50c2f153",
   "metadata": {
    "execution": {
     "iopub.execute_input": "2024-02-22T15:34:55.173974Z",
     "iopub.status.busy": "2024-02-22T15:34:55.173461Z",
     "iopub.status.idle": "2024-02-22T15:34:55.181574Z",
     "shell.execute_reply": "2024-02-22T15:34:55.180494Z"
    },
    "papermill": {
     "duration": 0.03924,
     "end_time": "2024-02-22T15:34:55.183613",
     "exception": false,
     "start_time": "2024-02-22T15:34:55.144373",
     "status": "completed"
    },
    "tags": []
   },
   "outputs": [],
   "source": [
    "import optuna\n",
    "from sklearn.model_selection import cross_val_score\n",
    "import warnings\n",
    "warnings.filterwarnings('ignore')\n",
    "\n",
    "def objective(trial):\n",
    "    hyperparams = {\n",
    "        'solver': trial.suggest_categorical('solver', ['lbfgs','liblinear','newton-cg','saga']),\n",
    "         'penalty': trial.suggest_categorical('penalty',['l2']),\n",
    "         'multi_class': trial.suggest_categorical('multi_class',['ovr']),\n",
    "         'C' : trial.suggest_loguniform(\"C\", 1e-3, 1e3),\n",
    "         'n_jobs' : -1\n",
    "    }\n",
    "    \n",
    "    model = LogisticRegression(**hyperparams)\n",
    "    scores = cross_val_score(model, X_train_reduced, y_train, cv = kf,scoring = 'accuracy')\n",
    "    return np.mean(scores)"
   ]
  },
  {
   "cell_type": "code",
   "execution_count": 23,
   "id": "499ad303",
   "metadata": {
    "execution": {
     "iopub.execute_input": "2024-02-22T15:34:55.246427Z",
     "iopub.status.busy": "2024-02-22T15:34:55.245384Z",
     "iopub.status.idle": "2024-02-22T15:49:58.336810Z",
     "shell.execute_reply": "2024-02-22T15:49:58.335282Z"
    },
    "papermill": {
     "duration": 903.187401,
     "end_time": "2024-02-22T15:49:58.399997",
     "exception": false,
     "start_time": "2024-02-22T15:34:55.212596",
     "status": "completed"
    },
    "tags": []
   },
   "outputs": [
    {
     "name": "stderr",
     "output_type": "stream",
     "text": [
      "[I 2024-02-22 15:34:55,253] A new study created in memory with name: no-name-f0d35cc7-5800-4f56-8cf4-3992c43e5ab1\n",
      "/opt/conda/lib/python3.10/site-packages/sklearn/linear_model/_logistic.py:458: ConvergenceWarning: lbfgs failed to converge (status=1):\n",
      "STOP: TOTAL NO. of ITERATIONS REACHED LIMIT.\n",
      "\n",
      "Increase the number of iterations (max_iter) or scale the data as shown in:\n",
      "    https://scikit-learn.org/stable/modules/preprocessing.html\n",
      "Please also refer to the documentation for alternative solver options:\n",
      "    https://scikit-learn.org/stable/modules/linear_model.html#logistic-regression\n",
      "  n_iter_i = _check_optimize_result(\n",
      "/opt/conda/lib/python3.10/site-packages/sklearn/linear_model/_logistic.py:458: ConvergenceWarning: lbfgs failed to converge (status=1):\n",
      "STOP: TOTAL NO. of ITERATIONS REACHED LIMIT.\n",
      "\n",
      "Increase the number of iterations (max_iter) or scale the data as shown in:\n",
      "    https://scikit-learn.org/stable/modules/preprocessing.html\n",
      "Please also refer to the documentation for alternative solver options:\n",
      "    https://scikit-learn.org/stable/modules/linear_model.html#logistic-regression\n",
      "  n_iter_i = _check_optimize_result(\n",
      "/opt/conda/lib/python3.10/site-packages/sklearn/linear_model/_logistic.py:458: ConvergenceWarning: lbfgs failed to converge (status=1):\n",
      "STOP: TOTAL NO. of ITERATIONS REACHED LIMIT.\n",
      "\n",
      "Increase the number of iterations (max_iter) or scale the data as shown in:\n",
      "    https://scikit-learn.org/stable/modules/preprocessing.html\n",
      "Please also refer to the documentation for alternative solver options:\n",
      "    https://scikit-learn.org/stable/modules/linear_model.html#logistic-regression\n",
      "  n_iter_i = _check_optimize_result(\n",
      "/opt/conda/lib/python3.10/site-packages/sklearn/linear_model/_logistic.py:458: ConvergenceWarning: lbfgs failed to converge (status=1):\n",
      "STOP: TOTAL NO. of ITERATIONS REACHED LIMIT.\n",
      "\n",
      "Increase the number of iterations (max_iter) or scale the data as shown in:\n",
      "    https://scikit-learn.org/stable/modules/preprocessing.html\n",
      "Please also refer to the documentation for alternative solver options:\n",
      "    https://scikit-learn.org/stable/modules/linear_model.html#logistic-regression\n",
      "  n_iter_i = _check_optimize_result(\n",
      "[I 2024-02-22 15:34:58,643] Trial 0 finished with value: 0.953125 and parameters: {'solver': 'lbfgs', 'penalty': 'l2', 'multi_class': 'ovr', 'C': 23.62061721452109}. Best is trial 0 with value: 0.953125.\n",
      "/opt/conda/lib/python3.10/site-packages/sklearn/utils/optimize.py:210: ConvergenceWarning: newton-cg failed to converge. Increase the number of iterations.\n",
      "  warnings.warn(\n",
      "/opt/conda/lib/python3.10/site-packages/sklearn/utils/optimize.py:210: ConvergenceWarning: newton-cg failed to converge. Increase the number of iterations.\n",
      "  warnings.warn(\n",
      "/opt/conda/lib/python3.10/site-packages/sklearn/utils/optimize.py:210: ConvergenceWarning: newton-cg failed to converge. Increase the number of iterations.\n",
      "  warnings.warn(\n",
      "/opt/conda/lib/python3.10/site-packages/sklearn/utils/optimize.py:210: ConvergenceWarning: newton-cg failed to converge. Increase the number of iterations.\n",
      "  warnings.warn(\n",
      "[I 2024-02-22 15:35:10,204] Trial 1 finished with value: 0.95625 and parameters: {'solver': 'newton-cg', 'penalty': 'l2', 'multi_class': 'ovr', 'C': 0.0036996571431719915}. Best is trial 1 with value: 0.95625.\n",
      "[I 2024-02-22 15:35:11,495] Trial 2 finished with value: 0.803125 and parameters: {'solver': 'saga', 'penalty': 'l2', 'multi_class': 'ovr', 'C': 416.23413307879173}. Best is trial 1 with value: 0.95625.\n",
      "[I 2024-02-22 15:35:12,752] Trial 3 finished with value: 0.803125 and parameters: {'solver': 'saga', 'penalty': 'l2', 'multi_class': 'ovr', 'C': 0.05551461918884019}. Best is trial 1 with value: 0.95625.\n",
      "[I 2024-02-22 15:35:13,974] Trial 4 finished with value: 0.80625 and parameters: {'solver': 'saga', 'penalty': 'l2', 'multi_class': 'ovr', 'C': 0.008910435591568702}. Best is trial 1 with value: 0.95625.\n",
      "[I 2024-02-22 15:35:15,252] Trial 5 finished with value: 0.80625 and parameters: {'solver': 'saga', 'penalty': 'l2', 'multi_class': 'ovr', 'C': 0.7345337167631382}. Best is trial 1 with value: 0.95625.\n",
      "[I 2024-02-22 15:35:26,588] Trial 6 finished with value: 0.95625 and parameters: {'solver': 'newton-cg', 'penalty': 'l2', 'multi_class': 'ovr', 'C': 0.005719646965506492}. Best is trial 1 with value: 0.95625.\n",
      "[I 2024-02-22 15:35:36,025] Trial 7 finished with value: 0.946875 and parameters: {'solver': 'newton-cg', 'penalty': 'l2', 'multi_class': 'ovr', 'C': 0.6304757019766398}. Best is trial 1 with value: 0.95625.\n",
      "[I 2024-02-22 15:35:46,567] Trial 8 finished with value: 0.953125 and parameters: {'solver': 'newton-cg', 'penalty': 'l2', 'multi_class': 'ovr', 'C': 0.056079278608463665}. Best is trial 1 with value: 0.95625.\n",
      "[I 2024-02-22 15:35:57,899] Trial 9 finished with value: 0.95625 and parameters: {'solver': 'newton-cg', 'penalty': 'l2', 'multi_class': 'ovr', 'C': 0.006771588317845742}. Best is trial 1 with value: 0.95625.\n",
      "[I 2024-02-22 15:36:03,725] Trial 10 finished with value: 0.809375 and parameters: {'solver': 'liblinear', 'penalty': 'l2', 'multi_class': 'ovr', 'C': 0.0010759099792249003}. Best is trial 1 with value: 0.95625.\n",
      "[I 2024-02-22 15:36:15,462] Trial 11 finished with value: 0.95625 and parameters: {'solver': 'newton-cg', 'penalty': 'l2', 'multi_class': 'ovr', 'C': 0.0012406978994308352}. Best is trial 1 with value: 0.95625.\n",
      "[I 2024-02-22 15:36:25,868] Trial 12 finished with value: 0.95 and parameters: {'solver': 'newton-cg', 'penalty': 'l2', 'multi_class': 'ovr', 'C': 0.0685629508785492}. Best is trial 1 with value: 0.95625.\n",
      "[I 2024-02-22 15:36:27,294] Trial 13 finished with value: 0.94375 and parameters: {'solver': 'lbfgs', 'penalty': 'l2', 'multi_class': 'ovr', 'C': 7.582777495073068}. Best is trial 1 with value: 0.95625.\n",
      "[I 2024-02-22 15:36:37,019] Trial 14 finished with value: 0.8375 and parameters: {'solver': 'liblinear', 'penalty': 'l2', 'multi_class': 'ovr', 'C': 0.008223342397596917}. Best is trial 1 with value: 0.95625.\n",
      "[I 2024-02-22 15:36:48,258] Trial 15 finished with value: 0.95625 and parameters: {'solver': 'newton-cg', 'penalty': 'l2', 'multi_class': 'ovr', 'C': 0.022801774192746486}. Best is trial 1 with value: 0.95625.\n",
      "[I 2024-02-22 15:36:57,816] Trial 16 finished with value: 0.946875 and parameters: {'solver': 'newton-cg', 'penalty': 'l2', 'multi_class': 'ovr', 'C': 0.2411468530065212}. Best is trial 1 with value: 0.95625.\n",
      "[I 2024-02-22 15:37:09,489] Trial 17 finished with value: 0.95625 and parameters: {'solver': 'newton-cg', 'penalty': 'l2', 'multi_class': 'ovr', 'C': 0.002072360123774126}. Best is trial 1 with value: 0.95625.\n",
      "[I 2024-02-22 15:37:25,132] Trial 18 finished with value: 0.909375 and parameters: {'solver': 'liblinear', 'penalty': 'l2', 'multi_class': 'ovr', 'C': 5.060385955857718}. Best is trial 1 with value: 0.95625.\n",
      "[I 2024-02-22 15:37:26,299] Trial 19 finished with value: 0.8375 and parameters: {'solver': 'lbfgs', 'penalty': 'l2', 'multi_class': 'ovr', 'C': 886.9833834482585}. Best is trial 1 with value: 0.95625.\n",
      "[I 2024-02-22 15:37:36,196] Trial 20 finished with value: 0.95 and parameters: {'solver': 'newton-cg', 'penalty': 'l2', 'multi_class': 'ovr', 'C': 0.20921138234436}. Best is trial 1 with value: 0.95625.\n",
      "[I 2024-02-22 15:37:47,482] Trial 21 finished with value: 0.95625 and parameters: {'solver': 'newton-cg', 'penalty': 'l2', 'multi_class': 'ovr', 'C': 0.00557741043917817}. Best is trial 1 with value: 0.95625.\n",
      "[I 2024-02-22 15:37:58,698] Trial 22 finished with value: 0.95625 and parameters: {'solver': 'newton-cg', 'penalty': 'l2', 'multi_class': 'ovr', 'C': 0.005610573670503215}. Best is trial 1 with value: 0.95625.\n",
      "[I 2024-02-22 15:38:10,057] Trial 23 finished with value: 0.953125 and parameters: {'solver': 'newton-cg', 'penalty': 'l2', 'multi_class': 'ovr', 'C': 0.021077933472813965}. Best is trial 1 with value: 0.95625.\n",
      "[I 2024-02-22 15:38:21,449] Trial 24 finished with value: 0.95625 and parameters: {'solver': 'newton-cg', 'penalty': 'l2', 'multi_class': 'ovr', 'C': 0.0036386727386594}. Best is trial 1 with value: 0.95625.\n",
      "[I 2024-02-22 15:38:32,313] Trial 25 finished with value: 0.95625 and parameters: {'solver': 'newton-cg', 'penalty': 'l2', 'multi_class': 'ovr', 'C': 0.01658108347757489}. Best is trial 1 with value: 0.95625.\n",
      "[I 2024-02-22 15:38:42,255] Trial 26 finished with value: 0.95 and parameters: {'solver': 'newton-cg', 'penalty': 'l2', 'multi_class': 'ovr', 'C': 0.1605097412676978}. Best is trial 1 with value: 0.95625.\n",
      "[I 2024-02-22 15:38:49,319] Trial 27 finished with value: 0.809375 and parameters: {'solver': 'liblinear', 'penalty': 'l2', 'multi_class': 'ovr', 'C': 0.0021408471393959687}. Best is trial 1 with value: 0.95625.\n",
      "[I 2024-02-22 15:38:50,783] Trial 28 finished with value: 0.95625 and parameters: {'solver': 'lbfgs', 'penalty': 'l2', 'multi_class': 'ovr', 'C': 0.02300637372629835}. Best is trial 1 with value: 0.95625.\n",
      "[I 2024-02-22 15:38:52,240] Trial 29 finished with value: 0.94375 and parameters: {'solver': 'lbfgs', 'penalty': 'l2', 'multi_class': 'ovr', 'C': 4.568793125194409}. Best is trial 1 with value: 0.95625.\n",
      "[I 2024-02-22 15:39:00,076] Trial 30 finished with value: 0.90625 and parameters: {'solver': 'newton-cg', 'penalty': 'l2', 'multi_class': 'ovr', 'C': 75.9137764546634}. Best is trial 1 with value: 0.95625.\n",
      "[I 2024-02-22 15:39:11,418] Trial 31 finished with value: 0.953125 and parameters: {'solver': 'newton-cg', 'penalty': 'l2', 'multi_class': 'ovr', 'C': 0.0011827132917660117}. Best is trial 1 with value: 0.95625.\n",
      "[I 2024-02-22 15:39:22,804] Trial 32 finished with value: 0.95625 and parameters: {'solver': 'newton-cg', 'penalty': 'l2', 'multi_class': 'ovr', 'C': 0.0025472926326247443}. Best is trial 1 with value: 0.95625.\n",
      "[I 2024-02-22 15:39:34,036] Trial 33 finished with value: 0.95625 and parameters: {'solver': 'newton-cg', 'penalty': 'l2', 'multi_class': 'ovr', 'C': 0.010231637071543353}. Best is trial 1 with value: 0.95625.\n",
      "[I 2024-02-22 15:39:35,308] Trial 34 finished with value: 0.80625 and parameters: {'solver': 'saga', 'penalty': 'l2', 'multi_class': 'ovr', 'C': 0.0010562210844932186}. Best is trial 1 with value: 0.95625.\n",
      "[I 2024-02-22 15:39:36,565] Trial 35 finished with value: 0.80625 and parameters: {'solver': 'saga', 'penalty': 'l2', 'multi_class': 'ovr', 'C': 0.003415755155539965}. Best is trial 1 with value: 0.95625.\n",
      "[I 2024-02-22 15:39:47,567] Trial 36 finished with value: 0.95 and parameters: {'solver': 'newton-cg', 'penalty': 'l2', 'multi_class': 'ovr', 'C': 0.04327583534570867}. Best is trial 1 with value: 0.95625.\n",
      "[I 2024-02-22 15:39:56,314] Trial 37 finished with value: 0.94375 and parameters: {'solver': 'newton-cg', 'penalty': 'l2', 'multi_class': 'ovr', 'C': 1.573756826218429}. Best is trial 1 with value: 0.95625.\n",
      "[I 2024-02-22 15:39:57,569] Trial 38 finished with value: 0.803125 and parameters: {'solver': 'saga', 'penalty': 'l2', 'multi_class': 'ovr', 'C': 95.97137361057963}. Best is trial 1 with value: 0.95625.\n",
      "[I 2024-02-22 15:40:09,016] Trial 39 finished with value: 0.95625 and parameters: {'solver': 'newton-cg', 'penalty': 'l2', 'multi_class': 'ovr', 'C': 0.008321734260768411}. Best is trial 1 with value: 0.95625.\n",
      "[I 2024-02-22 15:40:19,517] Trial 40 finished with value: 0.953125 and parameters: {'solver': 'newton-cg', 'penalty': 'l2', 'multi_class': 'ovr', 'C': 0.07695353038360796}. Best is trial 1 with value: 0.95625.\n",
      "[I 2024-02-22 15:40:30,518] Trial 41 finished with value: 0.95625 and parameters: {'solver': 'newton-cg', 'penalty': 'l2', 'multi_class': 'ovr', 'C': 0.014052617913347496}. Best is trial 1 with value: 0.95625.\n",
      "[I 2024-02-22 15:40:41,350] Trial 42 finished with value: 0.953125 and parameters: {'solver': 'newton-cg', 'penalty': 'l2', 'multi_class': 'ovr', 'C': 0.030580539226291163}. Best is trial 1 with value: 0.95625.\n",
      "[I 2024-02-22 15:40:52,968] Trial 43 finished with value: 0.95625 and parameters: {'solver': 'newton-cg', 'penalty': 'l2', 'multi_class': 'ovr', 'C': 0.004329860662287744}. Best is trial 1 with value: 0.95625.\n",
      "[I 2024-02-22 15:40:59,924] Trial 44 finished with value: 0.809375 and parameters: {'solver': 'liblinear', 'penalty': 'l2', 'multi_class': 'ovr', 'C': 0.0019937321263931505}. Best is trial 1 with value: 0.95625.\n",
      "[I 2024-02-22 15:41:11,118] Trial 45 finished with value: 0.95625 and parameters: {'solver': 'newton-cg', 'penalty': 'l2', 'multi_class': 'ovr', 'C': 0.006833278394391081}. Best is trial 1 with value: 0.95625.\n",
      "[I 2024-02-22 15:41:21,505] Trial 46 finished with value: 0.946875 and parameters: {'solver': 'newton-cg', 'penalty': 'l2', 'multi_class': 'ovr', 'C': 0.1308849900167776}. Best is trial 1 with value: 0.95625.\n",
      "[I 2024-02-22 15:41:23,044] Trial 47 finished with value: 0.953125 and parameters: {'solver': 'lbfgs', 'penalty': 'l2', 'multi_class': 'ovr', 'C': 0.0017015122694053555}. Best is trial 1 with value: 0.95625.\n",
      "[I 2024-02-22 15:41:34,477] Trial 48 finished with value: 0.95625 and parameters: {'solver': 'newton-cg', 'penalty': 'l2', 'multi_class': 'ovr', 'C': 0.011822545684714162}. Best is trial 1 with value: 0.95625.\n",
      "[I 2024-02-22 15:41:35,744] Trial 49 finished with value: 0.80625 and parameters: {'solver': 'saga', 'penalty': 'l2', 'multi_class': 'ovr', 'C': 0.039718846528619706}. Best is trial 1 with value: 0.95625.\n",
      "[I 2024-02-22 15:41:49,615] Trial 50 finished with value: 0.91875 and parameters: {'solver': 'liblinear', 'penalty': 'l2', 'multi_class': 'ovr', 'C': 0.3168572416623428}. Best is trial 1 with value: 0.95625.\n",
      "[I 2024-02-22 15:42:01,489] Trial 51 finished with value: 0.95625 and parameters: {'solver': 'newton-cg', 'penalty': 'l2', 'multi_class': 'ovr', 'C': 0.002835206602429062}. Best is trial 1 with value: 0.95625.\n",
      "[I 2024-02-22 15:42:12,805] Trial 52 finished with value: 0.95625 and parameters: {'solver': 'newton-cg', 'penalty': 'l2', 'multi_class': 'ovr', 'C': 0.004903087692507571}. Best is trial 1 with value: 0.95625.\n",
      "[I 2024-02-22 15:42:24,376] Trial 53 finished with value: 0.95625 and parameters: {'solver': 'newton-cg', 'penalty': 'l2', 'multi_class': 'ovr', 'C': 0.0020163511865694257}. Best is trial 1 with value: 0.95625.\n",
      "[I 2024-02-22 15:42:35,526] Trial 54 finished with value: 0.95625 and parameters: {'solver': 'newton-cg', 'penalty': 'l2', 'multi_class': 'ovr', 'C': 0.0013975358700327209}. Best is trial 1 with value: 0.95625.\n",
      "[I 2024-02-22 15:42:46,686] Trial 55 finished with value: 0.95625 and parameters: {'solver': 'newton-cg', 'penalty': 'l2', 'multi_class': 'ovr', 'C': 0.005859425938171424}. Best is trial 1 with value: 0.95625.\n",
      "[I 2024-02-22 15:42:57,919] Trial 56 finished with value: 0.953125 and parameters: {'solver': 'newton-cg', 'penalty': 'l2', 'multi_class': 'ovr', 'C': 0.01839476224566535}. Best is trial 1 with value: 0.95625.\n",
      "[I 2024-02-22 15:43:09,021] Trial 57 finished with value: 0.95625 and parameters: {'solver': 'newton-cg', 'penalty': 'l2', 'multi_class': 'ovr', 'C': 0.003390615256474928}. Best is trial 1 with value: 0.95625.\n",
      "[I 2024-02-22 15:43:10,477] Trial 58 finished with value: 0.953125 and parameters: {'solver': 'lbfgs', 'penalty': 'l2', 'multi_class': 'ovr', 'C': 0.08635831001487197}. Best is trial 1 with value: 0.95625.\n",
      "[I 2024-02-22 15:43:21,334] Trial 59 finished with value: 0.95625 and parameters: {'solver': 'newton-cg', 'penalty': 'l2', 'multi_class': 'ovr', 'C': 0.0010191631542014923}. Best is trial 1 with value: 0.95625.\n",
      "[I 2024-02-22 15:43:31,177] Trial 60 finished with value: 0.8375 and parameters: {'solver': 'liblinear', 'penalty': 'l2', 'multi_class': 'ovr', 'C': 0.009087020488971611}. Best is trial 1 with value: 0.95625.\n",
      "[I 2024-02-22 15:43:42,679] Trial 61 finished with value: 0.95625 and parameters: {'solver': 'newton-cg', 'penalty': 'l2', 'multi_class': 'ovr', 'C': 0.005159024458028089}. Best is trial 1 with value: 0.95625.\n",
      "[I 2024-02-22 15:43:53,823] Trial 62 finished with value: 0.95625 and parameters: {'solver': 'newton-cg', 'penalty': 'l2', 'multi_class': 'ovr', 'C': 0.002633877088720045}. Best is trial 1 with value: 0.95625.\n",
      "[I 2024-02-22 15:44:05,076] Trial 63 finished with value: 0.95625 and parameters: {'solver': 'newton-cg', 'penalty': 'l2', 'multi_class': 'ovr', 'C': 0.023710315917217468}. Best is trial 1 with value: 0.95625.\n",
      "[I 2024-02-22 15:44:16,241] Trial 64 finished with value: 0.95625 and parameters: {'solver': 'newton-cg', 'penalty': 'l2', 'multi_class': 'ovr', 'C': 0.012741372008613205}. Best is trial 1 with value: 0.95625.\n",
      "[I 2024-02-22 15:44:27,261] Trial 65 finished with value: 0.953125 and parameters: {'solver': 'newton-cg', 'penalty': 'l2', 'multi_class': 'ovr', 'C': 0.0016368377628813303}. Best is trial 1 with value: 0.95625.\n",
      "[I 2024-02-22 15:44:39,106] Trial 66 finished with value: 0.95625 and parameters: {'solver': 'newton-cg', 'penalty': 'l2', 'multi_class': 'ovr', 'C': 0.007595149210548514}. Best is trial 1 with value: 0.95625.\n",
      "[I 2024-02-22 15:44:50,499] Trial 67 finished with value: 0.95625 and parameters: {'solver': 'newton-cg', 'penalty': 'l2', 'multi_class': 'ovr', 'C': 0.003798247679050905}. Best is trial 1 with value: 0.95625.\n",
      "[I 2024-02-22 15:44:51,790] Trial 68 finished with value: 0.80625 and parameters: {'solver': 'saga', 'penalty': 'l2', 'multi_class': 'ovr', 'C': 0.0026022560357529495}. Best is trial 1 with value: 0.95625.\n",
      "[I 2024-02-22 15:45:02,703] Trial 69 finished with value: 0.953125 and parameters: {'solver': 'newton-cg', 'penalty': 'l2', 'multi_class': 'ovr', 'C': 0.03213278636775218}. Best is trial 1 with value: 0.95625.\n",
      "[I 2024-02-22 15:45:04,435] Trial 70 finished with value: 0.95625 and parameters: {'solver': 'lbfgs', 'penalty': 'l2', 'multi_class': 'ovr', 'C': 0.015143239539154226}. Best is trial 1 with value: 0.95625.\n",
      "[I 2024-02-22 15:45:15,729] Trial 71 finished with value: 0.95625 and parameters: {'solver': 'newton-cg', 'penalty': 'l2', 'multi_class': 'ovr', 'C': 0.005696948434306512}. Best is trial 1 with value: 0.95625.\n",
      "[I 2024-02-22 15:45:27,119] Trial 72 finished with value: 0.95625 and parameters: {'solver': 'newton-cg', 'penalty': 'l2', 'multi_class': 'ovr', 'C': 0.0014496442261245747}. Best is trial 1 with value: 0.95625.\n",
      "[I 2024-02-22 15:45:39,227] Trial 73 finished with value: 0.95625 and parameters: {'solver': 'newton-cg', 'penalty': 'l2', 'multi_class': 'ovr', 'C': 0.004305479566507492}. Best is trial 1 with value: 0.95625.\n",
      "[I 2024-02-22 15:45:50,692] Trial 74 finished with value: 0.95625 and parameters: {'solver': 'newton-cg', 'penalty': 'l2', 'multi_class': 'ovr', 'C': 0.010190967540257492}. Best is trial 1 with value: 0.95625.\n",
      "[I 2024-02-22 15:46:02,308] Trial 75 finished with value: 0.953125 and parameters: {'solver': 'newton-cg', 'penalty': 'l2', 'multi_class': 'ovr', 'C': 0.0010036363823238991}. Best is trial 1 with value: 0.95625.\n",
      "[I 2024-02-22 15:46:12,051] Trial 76 finished with value: 0.940625 and parameters: {'solver': 'newton-cg', 'penalty': 'l2', 'multi_class': 'ovr', 'C': 1.4970656938351068}. Best is trial 1 with value: 0.95625.\n",
      "[I 2024-02-22 15:46:23,810] Trial 77 finished with value: 0.95625 and parameters: {'solver': 'newton-cg', 'penalty': 'l2', 'multi_class': 'ovr', 'C': 0.006137761738101273}. Best is trial 1 with value: 0.95625.\n",
      "[I 2024-02-22 15:46:31,046] Trial 78 finished with value: 0.8125 and parameters: {'solver': 'liblinear', 'penalty': 'l2', 'multi_class': 'ovr', 'C': 0.002263691348229203}. Best is trial 1 with value: 0.95625.\n",
      "[I 2024-02-22 15:46:40,796] Trial 79 finished with value: 0.946875 and parameters: {'solver': 'newton-cg', 'penalty': 'l2', 'multi_class': 'ovr', 'C': 0.4633807500106949}. Best is trial 1 with value: 0.95625.\n",
      "[I 2024-02-22 15:46:42,094] Trial 80 finished with value: 0.803125 and parameters: {'solver': 'saga', 'penalty': 'l2', 'multi_class': 'ovr', 'C': 0.0031412220416924363}. Best is trial 1 with value: 0.95625.\n",
      "[I 2024-02-22 15:46:53,646] Trial 81 finished with value: 0.95625 and parameters: {'solver': 'newton-cg', 'penalty': 'l2', 'multi_class': 'ovr', 'C': 0.007549591442177895}. Best is trial 1 with value: 0.95625.\n",
      "[I 2024-02-22 15:47:05,423] Trial 82 finished with value: 0.95625 and parameters: {'solver': 'newton-cg', 'penalty': 'l2', 'multi_class': 'ovr', 'C': 0.004292704471197178}. Best is trial 1 with value: 0.95625.\n",
      "[I 2024-02-22 15:47:16,966] Trial 83 finished with value: 0.953125 and parameters: {'solver': 'newton-cg', 'penalty': 'l2', 'multi_class': 'ovr', 'C': 0.018958145711279323}. Best is trial 1 with value: 0.95625.\n",
      "[I 2024-02-22 15:47:28,185] Trial 84 finished with value: 0.95625 and parameters: {'solver': 'newton-cg', 'penalty': 'l2', 'multi_class': 'ovr', 'C': 0.0016426428012864171}. Best is trial 1 with value: 0.95625.\n",
      "[I 2024-02-22 15:47:39,589] Trial 85 finished with value: 0.95625 and parameters: {'solver': 'newton-cg', 'penalty': 'l2', 'multi_class': 'ovr', 'C': 0.010823339444690197}. Best is trial 1 with value: 0.95625.\n",
      "[I 2024-02-22 15:47:48,459] Trial 86 finished with value: 0.93125 and parameters: {'solver': 'newton-cg', 'penalty': 'l2', 'multi_class': 'ovr', 'C': 11.059270030088179}. Best is trial 1 with value: 0.95625.\n",
      "[I 2024-02-22 15:47:49,910] Trial 87 finished with value: 0.953125 and parameters: {'solver': 'lbfgs', 'penalty': 'l2', 'multi_class': 'ovr', 'C': 0.002109328302024848}. Best is trial 1 with value: 0.95625.\n",
      "[I 2024-02-22 15:48:01,170] Trial 88 finished with value: 0.95625 and parameters: {'solver': 'newton-cg', 'penalty': 'l2', 'multi_class': 'ovr', 'C': 0.003506663109433691}. Best is trial 1 with value: 0.95625.\n",
      "[I 2024-02-22 15:48:09,128] Trial 89 finished with value: 0.903125 and parameters: {'solver': 'newton-cg', 'penalty': 'l2', 'multi_class': 'ovr', 'C': 204.82268953407745}. Best is trial 1 with value: 0.95625.\n",
      "[I 2024-02-22 15:48:20,308] Trial 90 finished with value: 0.95625 and parameters: {'solver': 'newton-cg', 'penalty': 'l2', 'multi_class': 'ovr', 'C': 0.028459418271652985}. Best is trial 1 with value: 0.95625.\n",
      "[I 2024-02-22 15:48:30,674] Trial 91 finished with value: 0.953125 and parameters: {'solver': 'newton-cg', 'penalty': 'l2', 'multi_class': 'ovr', 'C': 0.053775680111590896}. Best is trial 1 with value: 0.95625.\n",
      "[I 2024-02-22 15:48:41,876] Trial 92 finished with value: 0.95625 and parameters: {'solver': 'newton-cg', 'penalty': 'l2', 'multi_class': 'ovr', 'C': 0.006152492486369698}. Best is trial 1 with value: 0.95625.\n",
      "[I 2024-02-22 15:48:53,367] Trial 93 finished with value: 0.95625 and parameters: {'solver': 'newton-cg', 'penalty': 'l2', 'multi_class': 'ovr', 'C': 0.01424759268766034}. Best is trial 1 with value: 0.95625.\n",
      "[I 2024-02-22 15:49:04,628] Trial 94 finished with value: 0.95625 and parameters: {'solver': 'newton-cg', 'penalty': 'l2', 'multi_class': 'ovr', 'C': 0.008431417694446247}. Best is trial 1 with value: 0.95625.\n",
      "[I 2024-02-22 15:49:12,293] Trial 95 finished with value: 0.8125 and parameters: {'solver': 'liblinear', 'penalty': 'l2', 'multi_class': 'ovr', 'C': 0.0028967488682037574}. Best is trial 1 with value: 0.95625.\n",
      "[I 2024-02-22 15:49:23,775] Trial 96 finished with value: 0.953125 and parameters: {'solver': 'newton-cg', 'penalty': 'l2', 'multi_class': 'ovr', 'C': 0.01830776632891388}. Best is trial 1 with value: 0.95625.\n",
      "[I 2024-02-22 15:49:35,446] Trial 97 finished with value: 0.95625 and parameters: {'solver': 'newton-cg', 'penalty': 'l2', 'multi_class': 'ovr', 'C': 0.0012944043272968334}. Best is trial 1 with value: 0.95625.\n",
      "[I 2024-02-22 15:49:36,757] Trial 98 finished with value: 0.80625 and parameters: {'solver': 'saga', 'penalty': 'l2', 'multi_class': 'ovr', 'C': 0.004213780338256533}. Best is trial 1 with value: 0.95625.\n",
      "[I 2024-02-22 15:49:48,250] Trial 99 finished with value: 0.953125 and parameters: {'solver': 'newton-cg', 'penalty': 'l2', 'multi_class': 'ovr', 'C': 0.0018455452890256488}. Best is trial 1 with value: 0.95625.\n"
     ]
    },
    {
     "name": "stdout",
     "output_type": "stream",
     "text": [
      "Best params found : {'solver': 'newton-cg', 'penalty': 'l2', 'multi_class': 'ovr', 'C': 0.0036996571431719915}\n",
      "accuracy: 1.0\n",
      "recall: 1.0\n",
      "precision: 1.0\n",
      "f1-score: 1.0\n",
      "roc_auc:  1.0\n"
     ]
    }
   ],
   "source": [
    "study = optuna.create_study(direction = 'maximize')\n",
    "study.optimize(objective, n_trials = 100)\n",
    "best_params = study.best_params\n",
    "print(\"Best params found :\", best_params)\n",
    "\n",
    "final_model = LogisticRegression(**best_params)\n",
    "final_model.fit(X_train_reduced, y_train)\n",
    "y_pred = final_model.predict(X_test_reduced)\n",
    "prediction_results['logistic regression'] = list(y_pred)\n",
    "\n",
    "accuracy = accuracy_score(y_test, y_pred)\n",
    "precision = precision_score(y_test, y_pred, average='macro')\n",
    "recall = recall_score(y_test, y_pred, average='macro')\n",
    "f1 = f1_score(y_test, y_pred, average='macro')\n",
    "\n",
    "# One-hot encoding for probability calculation (adapt if necessary)\n",
    "y_test_onehot = pd.get_dummies(y_test, prefix='label_')  # Assuming 'label_' prefix for clarity\n",
    "y_pred_onehot = pd.get_dummies(y_pred, prefix='label_')\n",
    "\n",
    "# ROC AUC score with multiclass handling\n",
    "roc_auc_macro = roc_auc_score(y_test_onehot, y_pred_onehot, average='macro', multi_class='ovo')  # Specify 'ovo' or 'ovr'\n",
    "\n",
    "print(\"accuracy:\", accuracy)\n",
    "print(\"recall:\", recall)\n",
    "print(\"precision:\", precision)\n",
    "print(\"f1-score:\", f1)\n",
    "print('roc_auc: ', roc_auc_macro)"
   ]
  },
  {
   "cell_type": "code",
   "execution_count": 24,
   "id": "83d559a4",
   "metadata": {
    "execution": {
     "iopub.execute_input": "2024-02-22T15:49:58.473303Z",
     "iopub.status.busy": "2024-02-22T15:49:58.472731Z",
     "iopub.status.idle": "2024-02-22T15:49:58.478194Z",
     "shell.execute_reply": "2024-02-22T15:49:58.476843Z"
    },
    "papermill": {
     "duration": 0.045446,
     "end_time": "2024-02-22T15:49:58.481069",
     "exception": false,
     "start_time": "2024-02-22T15:49:58.435623",
     "status": "completed"
    },
    "tags": []
   },
   "outputs": [],
   "source": [
    "# lr = LogisticRegression(multi_class='ovr', solver='liblinear')\n",
    "# lr.fit(X_train_reduced, y_train)\n",
    "# y_pred = lr.predict(X_test_reduced)"
   ]
  },
  {
   "cell_type": "markdown",
   "id": "a2a14b3c",
   "metadata": {
    "papermill": {
     "duration": 0.034607,
     "end_time": "2024-02-22T15:49:58.550747",
     "exception": false,
     "start_time": "2024-02-22T15:49:58.516140",
     "status": "completed"
    },
    "tags": []
   },
   "source": [
    "# KNN Classifier"
   ]
  },
  {
   "cell_type": "markdown",
   "id": "7cc775f7",
   "metadata": {
    "papermill": {
     "duration": 0.035075,
     "end_time": "2024-02-22T15:49:58.624089",
     "exception": false,
     "start_time": "2024-02-22T15:49:58.589014",
     "status": "completed"
    },
    "tags": []
   },
   "source": [
    "**Normal**"
   ]
  },
  {
   "cell_type": "code",
   "execution_count": 25,
   "id": "71f3a6d9",
   "metadata": {
    "execution": {
     "iopub.execute_input": "2024-02-22T15:49:58.697379Z",
     "iopub.status.busy": "2024-02-22T15:49:58.696910Z",
     "iopub.status.idle": "2024-02-22T15:49:58.868181Z",
     "shell.execute_reply": "2024-02-22T15:49:58.866841Z"
    },
    "papermill": {
     "duration": 0.213647,
     "end_time": "2024-02-22T15:49:58.872455",
     "exception": false,
     "start_time": "2024-02-22T15:49:58.658808",
     "status": "completed"
    },
    "tags": []
   },
   "outputs": [
    {
     "name": "stdout",
     "output_type": "stream",
     "text": [
      "accuracy: 0.9125\n",
      "recall: 0.9375\n",
      "precision: 0.9143518518518517\n",
      "f1-score: 0.9068783068783068\n",
      "roc_auc:  0.5771545864579081\n"
     ]
    }
   ],
   "source": [
    "from sklearn.neighbors import KNeighborsClassifier\n",
    "\n",
    "knn = KNeighborsClassifier()\n",
    "knn.fit(X_train_reduced, y_train)\n",
    "y_pred = knn.predict(X_test_reduced)\n",
    "\n",
    "accuracy = accuracy_score(y_test, y_pred)\n",
    "precision = precision_score(y_test, y_pred, average='macro')\n",
    "recall = recall_score(y_test, y_pred, average='macro')\n",
    "f1 = f1_score(y_test, y_pred, average='macro')\n",
    "\n",
    "# One-hot encoding for probability calculation (adapt if necessary)\n",
    "y_test_onehot = pd.get_dummies(y_test, prefix='label_')  # Assuming 'label_' prefix for clarity\n",
    "y_pred_onehot = pd.get_dummies(y_pred, prefix='label_')\n",
    "\n",
    "# ROC AUC score with multiclass handling\n",
    "roc_auc_macro = roc_auc_score(y_test_onehot, y_pred_onehot, average='macro', multi_class='ovo')  # Specify 'ovo' or 'ovr'\n",
    "\n",
    "print(\"accuracy:\", accuracy)\n",
    "print(\"recall:\", recall)\n",
    "print(\"precision:\", precision)\n",
    "print(\"f1-score:\", f1)\n",
    "print('roc_auc: ', roc_auc_macro)\n"
   ]
  },
  {
   "cell_type": "markdown",
   "id": "3e226f8b",
   "metadata": {
    "papermill": {
     "duration": 0.034971,
     "end_time": "2024-02-22T15:49:58.942824",
     "exception": false,
     "start_time": "2024-02-22T15:49:58.907853",
     "status": "completed"
    },
    "tags": []
   },
   "source": [
    "**Tunning**"
   ]
  },
  {
   "cell_type": "code",
   "execution_count": 26,
   "id": "42d79d07",
   "metadata": {
    "execution": {
     "iopub.execute_input": "2024-02-22T15:49:59.016601Z",
     "iopub.status.busy": "2024-02-22T15:49:59.016121Z",
     "iopub.status.idle": "2024-02-22T15:49:59.024218Z",
     "shell.execute_reply": "2024-02-22T15:49:59.022891Z"
    },
    "papermill": {
     "duration": 0.047229,
     "end_time": "2024-02-22T15:49:59.026722",
     "exception": false,
     "start_time": "2024-02-22T15:49:58.979493",
     "status": "completed"
    },
    "tags": []
   },
   "outputs": [],
   "source": [
    "import optuna\n",
    "from sklearn.model_selection import cross_val_score\n",
    "import warnings\n",
    "warnings.filterwarnings('ignore')\n",
    "\n",
    "def objective(trial):\n",
    "    hyperparams = {\n",
    "        'n_neighbors': trial.suggest_int(\"n_neighbors\", 5, 100),\n",
    "        'weights' : trial.suggest_categorical(\"weights\", [\"uniform\", \"distance\"]),\n",
    "        'metric' : trial.suggest_categorical(\"metric\", [\"euclidean\", \"manhattan\", \"minkowski\"]),\n",
    "        'algorithm':trial.suggest_categorical('algorithm',['auto', 'ball_tree', 'kd_tree', 'brute']),\n",
    "        'n_jobs': -1\n",
    "    }\n",
    "    \n",
    "    # Create KNN model with tuned hyperparameters\n",
    "    model = KNeighborsClassifier(**hyperparams)\n",
    "    scores = cross_val_score(model, X_train_reduced, y_train, cv = kf,scoring = 'accuracy')\n",
    "    return np.mean(scores)"
   ]
  },
  {
   "cell_type": "code",
   "execution_count": 27,
   "id": "dcee5fad",
   "metadata": {
    "execution": {
     "iopub.execute_input": "2024-02-22T15:49:59.102093Z",
     "iopub.status.busy": "2024-02-22T15:49:59.101609Z",
     "iopub.status.idle": "2024-02-22T15:50:08.019255Z",
     "shell.execute_reply": "2024-02-22T15:50:08.017110Z"
    },
    "papermill": {
     "duration": 8.959848,
     "end_time": "2024-02-22T15:50:08.021990",
     "exception": false,
     "start_time": "2024-02-22T15:49:59.062142",
     "status": "completed"
    },
    "tags": []
   },
   "outputs": [
    {
     "name": "stderr",
     "output_type": "stream",
     "text": [
      "[I 2024-02-22 15:49:59,106] A new study created in memory with name: no-name-c78cfff9-18b2-4f0d-b2cb-966051987643\n",
      "[I 2024-02-22 15:49:59,224] Trial 0 finished with value: 0.31875 and parameters: {'n_neighbors': 34, 'weights': 'uniform', 'metric': 'minkowski', 'algorithm': 'kd_tree'}. Best is trial 0 with value: 0.31875.\n",
      "[I 2024-02-22 15:49:59,274] Trial 1 finished with value: 0.5875 and parameters: {'n_neighbors': 14, 'weights': 'uniform', 'metric': 'minkowski', 'algorithm': 'auto'}. Best is trial 1 with value: 0.5875.\n",
      "[I 2024-02-22 15:49:59,308] Trial 2 finished with value: 0.653125 and parameters: {'n_neighbors': 29, 'weights': 'distance', 'metric': 'minkowski', 'algorithm': 'brute'}. Best is trial 2 with value: 0.653125.\n",
      "[I 2024-02-22 15:49:59,360] Trial 3 finished with value: 0.184375 and parameters: {'n_neighbors': 46, 'weights': 'uniform', 'metric': 'euclidean', 'algorithm': 'brute'}. Best is trial 2 with value: 0.653125.\n",
      "[I 2024-02-22 15:49:59,418] Trial 4 finished with value: 0.259375 and parameters: {'n_neighbors': 44, 'weights': 'uniform', 'metric': 'manhattan', 'algorithm': 'brute'}. Best is trial 2 with value: 0.653125.\n",
      "[I 2024-02-22 15:49:59,531] Trial 5 finished with value: 0.15625 and parameters: {'n_neighbors': 50, 'weights': 'uniform', 'metric': 'minkowski', 'algorithm': 'ball_tree'}. Best is trial 2 with value: 0.653125.\n",
      "[I 2024-02-22 15:49:59,571] Trial 6 finished with value: 0.59375 and parameters: {'n_neighbors': 69, 'weights': 'distance', 'metric': 'euclidean', 'algorithm': 'brute'}. Best is trial 2 with value: 0.653125.\n",
      "[I 2024-02-22 15:49:59,616] Trial 7 finished with value: 0.540625 and parameters: {'n_neighbors': 92, 'weights': 'distance', 'metric': 'manhattan', 'algorithm': 'brute'}. Best is trial 2 with value: 0.653125.\n",
      "[I 2024-02-22 15:49:59,714] Trial 8 finished with value: 0.65625 and parameters: {'n_neighbors': 34, 'weights': 'distance', 'metric': 'manhattan', 'algorithm': 'ball_tree'}. Best is trial 8 with value: 0.65625.\n",
      "[I 2024-02-22 15:49:59,771] Trial 9 finished with value: 0.059375 and parameters: {'n_neighbors': 94, 'weights': 'uniform', 'metric': 'euclidean', 'algorithm': 'brute'}. Best is trial 8 with value: 0.65625.\n",
      "[I 2024-02-22 15:49:59,883] Trial 10 finished with value: 0.56875 and parameters: {'n_neighbors': 68, 'weights': 'distance', 'metric': 'manhattan', 'algorithm': 'ball_tree'}. Best is trial 8 with value: 0.65625.\n",
      "[I 2024-02-22 15:49:59,988] Trial 11 finished with value: 0.696875 and parameters: {'n_neighbors': 20, 'weights': 'distance', 'metric': 'manhattan', 'algorithm': 'ball_tree'}. Best is trial 11 with value: 0.696875.\n",
      "[I 2024-02-22 15:50:00,093] Trial 12 finished with value: 0.83125 and parameters: {'n_neighbors': 6, 'weights': 'distance', 'metric': 'manhattan', 'algorithm': 'ball_tree'}. Best is trial 12 with value: 0.83125.\n",
      "[I 2024-02-22 15:50:00,199] Trial 13 finished with value: 0.803125 and parameters: {'n_neighbors': 8, 'weights': 'distance', 'metric': 'manhattan', 'algorithm': 'ball_tree'}. Best is trial 12 with value: 0.83125.\n",
      "[I 2024-02-22 15:50:00,312] Trial 14 finished with value: 0.85625 and parameters: {'n_neighbors': 5, 'weights': 'distance', 'metric': 'manhattan', 'algorithm': 'ball_tree'}. Best is trial 14 with value: 0.85625.\n",
      "[I 2024-02-22 15:50:00,367] Trial 15 finished with value: 0.83125 and parameters: {'n_neighbors': 6, 'weights': 'distance', 'metric': 'manhattan', 'algorithm': 'auto'}. Best is trial 14 with value: 0.85625.\n",
      "[I 2024-02-22 15:50:00,478] Trial 16 finished with value: 0.671875 and parameters: {'n_neighbors': 23, 'weights': 'distance', 'metric': 'manhattan', 'algorithm': 'kd_tree'}. Best is trial 14 with value: 0.85625.\n",
      "[I 2024-02-22 15:50:00,590] Trial 17 finished with value: 0.571875 and parameters: {'n_neighbors': 66, 'weights': 'distance', 'metric': 'manhattan', 'algorithm': 'ball_tree'}. Best is trial 14 with value: 0.85625.\n",
      "[I 2024-02-22 15:50:00,703] Trial 18 finished with value: 0.85625 and parameters: {'n_neighbors': 5, 'weights': 'distance', 'metric': 'manhattan', 'algorithm': 'ball_tree'}. Best is trial 14 with value: 0.85625.\n",
      "[I 2024-02-22 15:50:00,814] Trial 19 finished with value: 0.6875 and parameters: {'n_neighbors': 20, 'weights': 'distance', 'metric': 'euclidean', 'algorithm': 'ball_tree'}. Best is trial 14 with value: 0.85625.\n",
      "[I 2024-02-22 15:50:00,936] Trial 20 finished with value: 0.575 and parameters: {'n_neighbors': 57, 'weights': 'distance', 'metric': 'manhattan', 'algorithm': 'auto'}. Best is trial 14 with value: 0.85625.\n",
      "[I 2024-02-22 15:50:01,044] Trial 21 finished with value: 0.85625 and parameters: {'n_neighbors': 5, 'weights': 'distance', 'metric': 'manhattan', 'algorithm': 'ball_tree'}. Best is trial 14 with value: 0.85625.\n",
      "[I 2024-02-22 15:50:01,151] Trial 22 finished with value: 0.725 and parameters: {'n_neighbors': 16, 'weights': 'distance', 'metric': 'manhattan', 'algorithm': 'ball_tree'}. Best is trial 14 with value: 0.85625.\n",
      "[I 2024-02-22 15:50:01,263] Trial 23 finished with value: 0.775 and parameters: {'n_neighbors': 11, 'weights': 'distance', 'metric': 'manhattan', 'algorithm': 'ball_tree'}. Best is trial 14 with value: 0.85625.\n",
      "[I 2024-02-22 15:50:01,383] Trial 24 finished with value: 0.665625 and parameters: {'n_neighbors': 28, 'weights': 'distance', 'metric': 'manhattan', 'algorithm': 'kd_tree'}. Best is trial 14 with value: 0.85625.\n",
      "[I 2024-02-22 15:50:01,491] Trial 25 finished with value: 0.7375 and parameters: {'n_neighbors': 14, 'weights': 'distance', 'metric': 'manhattan', 'algorithm': 'ball_tree'}. Best is trial 14 with value: 0.85625.\n",
      "[I 2024-02-22 15:50:01,604] Trial 26 finished with value: 0.559375 and parameters: {'n_neighbors': 83, 'weights': 'distance', 'metric': 'manhattan', 'algorithm': 'ball_tree'}. Best is trial 14 with value: 0.85625.\n",
      "[I 2024-02-22 15:50:01,720] Trial 27 finished with value: 0.63125 and parameters: {'n_neighbors': 39, 'weights': 'distance', 'metric': 'manhattan', 'algorithm': 'ball_tree'}. Best is trial 14 with value: 0.85625.\n",
      "[I 2024-02-22 15:50:01,829] Trial 28 finished with value: 0.653125 and parameters: {'n_neighbors': 25, 'weights': 'distance', 'metric': 'euclidean', 'algorithm': 'ball_tree'}. Best is trial 14 with value: 0.85625.\n",
      "[I 2024-02-22 15:50:01,962] Trial 29 finished with value: 0.296875 and parameters: {'n_neighbors': 35, 'weights': 'uniform', 'metric': 'minkowski', 'algorithm': 'kd_tree'}. Best is trial 14 with value: 0.85625.\n",
      "[I 2024-02-22 15:50:02,006] Trial 30 finished with value: 0.825 and parameters: {'n_neighbors': 6, 'weights': 'distance', 'metric': 'minkowski', 'algorithm': 'auto'}. Best is trial 14 with value: 0.85625.\n",
      "[I 2024-02-22 15:50:02,120] Trial 31 finished with value: 0.83125 and parameters: {'n_neighbors': 6, 'weights': 'distance', 'metric': 'manhattan', 'algorithm': 'ball_tree'}. Best is trial 14 with value: 0.85625.\n",
      "[I 2024-02-22 15:50:02,235] Trial 32 finished with value: 0.725 and parameters: {'n_neighbors': 16, 'weights': 'distance', 'metric': 'manhattan', 'algorithm': 'ball_tree'}. Best is trial 14 with value: 0.85625.\n",
      "[I 2024-02-22 15:50:02,356] Trial 33 finished with value: 0.7625 and parameters: {'n_neighbors': 12, 'weights': 'distance', 'metric': 'manhattan', 'algorithm': 'ball_tree'}. Best is trial 14 with value: 0.85625.\n",
      "[I 2024-02-22 15:50:02,485] Trial 34 finished with value: 0.784375 and parameters: {'n_neighbors': 5, 'weights': 'uniform', 'metric': 'manhattan', 'algorithm': 'ball_tree'}. Best is trial 14 with value: 0.85625.\n",
      "[I 2024-02-22 15:50:02,600] Trial 35 finished with value: 0.709375 and parameters: {'n_neighbors': 18, 'weights': 'distance', 'metric': 'minkowski', 'algorithm': 'kd_tree'}. Best is trial 14 with value: 0.85625.\n",
      "[I 2024-02-22 15:50:02,728] Trial 36 finished with value: 0.675 and parameters: {'n_neighbors': 11, 'weights': 'uniform', 'metric': 'manhattan', 'algorithm': 'ball_tree'}. Best is trial 14 with value: 0.85625.\n",
      "[I 2024-02-22 15:50:02,773] Trial 37 finished with value: 0.65625 and parameters: {'n_neighbors': 27, 'weights': 'distance', 'metric': 'minkowski', 'algorithm': 'auto'}. Best is trial 14 with value: 0.85625.\n",
      "[I 2024-02-22 15:50:02,883] Trial 38 finished with value: 0.771875 and parameters: {'n_neighbors': 11, 'weights': 'distance', 'metric': 'euclidean', 'algorithm': 'ball_tree'}. Best is trial 14 with value: 0.85625.\n",
      "[I 2024-02-22 15:50:02,948] Trial 39 finished with value: 0.390625 and parameters: {'n_neighbors': 30, 'weights': 'uniform', 'metric': 'manhattan', 'algorithm': 'brute'}. Best is trial 14 with value: 0.85625.\n",
      "[I 2024-02-22 15:50:03,058] Trial 40 finished with value: 0.678125 and parameters: {'n_neighbors': 22, 'weights': 'distance', 'metric': 'manhattan', 'algorithm': 'ball_tree'}. Best is trial 14 with value: 0.85625.\n",
      "[I 2024-02-22 15:50:03,105] Trial 41 finished with value: 0.83125 and parameters: {'n_neighbors': 6, 'weights': 'distance', 'metric': 'manhattan', 'algorithm': 'auto'}. Best is trial 14 with value: 0.85625.\n",
      "[I 2024-02-22 15:50:03,153] Trial 42 finished with value: 0.775 and parameters: {'n_neighbors': 11, 'weights': 'distance', 'metric': 'manhattan', 'algorithm': 'auto'}. Best is trial 14 with value: 0.85625.\n",
      "[I 2024-02-22 15:50:03,206] Trial 43 finished with value: 0.725 and parameters: {'n_neighbors': 16, 'weights': 'distance', 'metric': 'manhattan', 'algorithm': 'auto'}. Best is trial 14 with value: 0.85625.\n",
      "[I 2024-02-22 15:50:03,257] Trial 44 finished with value: 0.85625 and parameters: {'n_neighbors': 5, 'weights': 'distance', 'metric': 'manhattan', 'algorithm': 'auto'}. Best is trial 14 with value: 0.85625.\n",
      "[I 2024-02-22 15:50:03,306] Trial 45 finished with value: 0.775 and parameters: {'n_neighbors': 11, 'weights': 'distance', 'metric': 'manhattan', 'algorithm': 'brute'}. Best is trial 14 with value: 0.85625.\n",
      "[I 2024-02-22 15:50:03,362] Trial 46 finished with value: 0.53125 and parameters: {'n_neighbors': 100, 'weights': 'distance', 'metric': 'manhattan', 'algorithm': 'auto'}. Best is trial 14 with value: 0.85625.\n",
      "[I 2024-02-22 15:50:03,485] Trial 47 finished with value: 0.46875 and parameters: {'n_neighbors': 21, 'weights': 'uniform', 'metric': 'euclidean', 'algorithm': 'ball_tree'}. Best is trial 14 with value: 0.85625.\n",
      "[I 2024-02-22 15:50:03,599] Trial 48 finished with value: 0.5625 and parameters: {'n_neighbors': 77, 'weights': 'distance', 'metric': 'manhattan', 'algorithm': 'ball_tree'}. Best is trial 14 with value: 0.85625.\n",
      "[I 2024-02-22 15:50:03,710] Trial 49 finished with value: 0.584375 and parameters: {'n_neighbors': 53, 'weights': 'distance', 'metric': 'manhattan', 'algorithm': 'kd_tree'}. Best is trial 14 with value: 0.85625.\n",
      "[I 2024-02-22 15:50:03,757] Trial 50 finished with value: 0.79375 and parameters: {'n_neighbors': 9, 'weights': 'distance', 'metric': 'minkowski', 'algorithm': 'brute'}. Best is trial 14 with value: 0.85625.\n",
      "[I 2024-02-22 15:50:03,811] Trial 51 finished with value: 0.85625 and parameters: {'n_neighbors': 5, 'weights': 'distance', 'metric': 'manhattan', 'algorithm': 'auto'}. Best is trial 14 with value: 0.85625.\n",
      "[I 2024-02-22 15:50:03,859] Trial 52 finished with value: 0.85625 and parameters: {'n_neighbors': 5, 'weights': 'distance', 'metric': 'manhattan', 'algorithm': 'auto'}. Best is trial 14 with value: 0.85625.\n",
      "[I 2024-02-22 15:50:03,922] Trial 53 finished with value: 0.73125 and parameters: {'n_neighbors': 15, 'weights': 'distance', 'metric': 'manhattan', 'algorithm': 'auto'}. Best is trial 14 with value: 0.85625.\n",
      "[I 2024-02-22 15:50:03,969] Trial 54 finished with value: 0.85625 and parameters: {'n_neighbors': 5, 'weights': 'distance', 'metric': 'manhattan', 'algorithm': 'auto'}. Best is trial 14 with value: 0.85625.\n",
      "[I 2024-02-22 15:50:04,015] Trial 55 finished with value: 0.778125 and parameters: {'n_neighbors': 9, 'weights': 'distance', 'metric': 'manhattan', 'algorithm': 'auto'}. Best is trial 14 with value: 0.85625.\n",
      "[I 2024-02-22 15:50:04,065] Trial 56 finished with value: 0.71875 and parameters: {'n_neighbors': 17, 'weights': 'distance', 'metric': 'manhattan', 'algorithm': 'auto'}. Best is trial 14 with value: 0.85625.\n",
      "[I 2024-02-22 15:50:04,147] Trial 57 finished with value: 0.778125 and parameters: {'n_neighbors': 9, 'weights': 'distance', 'metric': 'manhattan', 'algorithm': 'auto'}. Best is trial 14 with value: 0.85625.\n",
      "[I 2024-02-22 15:50:04,204] Trial 58 finished with value: 0.634375 and parameters: {'n_neighbors': 44, 'weights': 'distance', 'metric': 'euclidean', 'algorithm': 'auto'}. Best is trial 14 with value: 0.85625.\n",
      "[I 2024-02-22 15:50:04,259] Trial 59 finished with value: 0.7375 and parameters: {'n_neighbors': 14, 'weights': 'distance', 'metric': 'manhattan', 'algorithm': 'auto'}. Best is trial 14 with value: 0.85625.\n",
      "[I 2024-02-22 15:50:04,316] Trial 60 finished with value: 0.703125 and parameters: {'n_neighbors': 19, 'weights': 'distance', 'metric': 'manhattan', 'algorithm': 'auto'}. Best is trial 14 with value: 0.85625.\n",
      "[I 2024-02-22 15:50:04,400] Trial 61 finished with value: 0.85625 and parameters: {'n_neighbors': 5, 'weights': 'distance', 'metric': 'manhattan', 'algorithm': 'auto'}. Best is trial 14 with value: 0.85625.\n",
      "[I 2024-02-22 15:50:04,453] Trial 62 finished with value: 0.85625 and parameters: {'n_neighbors': 5, 'weights': 'distance', 'metric': 'manhattan', 'algorithm': 'auto'}. Best is trial 14 with value: 0.85625.\n",
      "[I 2024-02-22 15:50:04,506] Trial 63 finished with value: 0.803125 and parameters: {'n_neighbors': 8, 'weights': 'distance', 'metric': 'manhattan', 'algorithm': 'auto'}. Best is trial 14 with value: 0.85625.\n",
      "[I 2024-02-22 15:50:04,558] Trial 64 finished with value: 0.753125 and parameters: {'n_neighbors': 13, 'weights': 'distance', 'metric': 'manhattan', 'algorithm': 'auto'}. Best is trial 14 with value: 0.85625.\n",
      "[I 2024-02-22 15:50:04,620] Trial 65 finished with value: 0.571875 and parameters: {'n_neighbors': 61, 'weights': 'distance', 'metric': 'manhattan', 'algorithm': 'auto'}. Best is trial 14 with value: 0.85625.\n",
      "[I 2024-02-22 15:50:04,666] Trial 66 finished with value: 0.803125 and parameters: {'n_neighbors': 8, 'weights': 'distance', 'metric': 'manhattan', 'algorithm': 'auto'}. Best is trial 14 with value: 0.85625.\n",
      "[I 2024-02-22 15:50:04,793] Trial 67 finished with value: 0.59375 and parameters: {'n_neighbors': 14, 'weights': 'uniform', 'metric': 'manhattan', 'algorithm': 'ball_tree'}. Best is trial 14 with value: 0.85625.\n",
      "[I 2024-02-22 15:50:04,900] Trial 68 finished with value: 0.803125 and parameters: {'n_neighbors': 8, 'weights': 'distance', 'metric': 'manhattan', 'algorithm': 'kd_tree'}. Best is trial 14 with value: 0.85625.\n",
      "[I 2024-02-22 15:50:05,010] Trial 69 finished with value: 0.6625 and parameters: {'n_neighbors': 24, 'weights': 'distance', 'metric': 'minkowski', 'algorithm': 'ball_tree'}. Best is trial 14 with value: 0.85625.\n",
      "[I 2024-02-22 15:50:05,071] Trial 70 finished with value: 0.703125 and parameters: {'n_neighbors': 19, 'weights': 'distance', 'metric': 'manhattan', 'algorithm': 'brute'}. Best is trial 14 with value: 0.85625.\n",
      "[I 2024-02-22 15:50:05,121] Trial 71 finished with value: 0.85625 and parameters: {'n_neighbors': 5, 'weights': 'distance', 'metric': 'manhattan', 'algorithm': 'auto'}. Best is trial 14 with value: 0.85625.\n",
      "[I 2024-02-22 15:50:05,166] Trial 72 finished with value: 0.85625 and parameters: {'n_neighbors': 5, 'weights': 'distance', 'metric': 'manhattan', 'algorithm': 'auto'}. Best is trial 14 with value: 0.85625.\n",
      "[I 2024-02-22 15:50:05,214] Trial 73 finished with value: 0.778125 and parameters: {'n_neighbors': 9, 'weights': 'distance', 'metric': 'manhattan', 'algorithm': 'auto'}. Best is trial 14 with value: 0.85625.\n",
      "[I 2024-02-22 15:50:05,261] Trial 74 finished with value: 0.7625 and parameters: {'n_neighbors': 12, 'weights': 'distance', 'metric': 'manhattan', 'algorithm': 'auto'}. Best is trial 14 with value: 0.85625.\n",
      "[I 2024-02-22 15:50:05,308] Trial 75 finished with value: 0.803125 and parameters: {'n_neighbors': 8, 'weights': 'distance', 'metric': 'manhattan', 'algorithm': 'auto'}. Best is trial 14 with value: 0.85625.\n",
      "[I 2024-02-22 15:50:05,418] Trial 76 finished with value: 0.859375 and parameters: {'n_neighbors': 5, 'weights': 'distance', 'metric': 'euclidean', 'algorithm': 'ball_tree'}. Best is trial 76 with value: 0.859375.\n",
      "[I 2024-02-22 15:50:05,542] Trial 77 finished with value: 0.603125 and parameters: {'n_neighbors': 13, 'weights': 'uniform', 'metric': 'euclidean', 'algorithm': 'ball_tree'}. Best is trial 76 with value: 0.859375.\n",
      "[I 2024-02-22 15:50:05,651] Trial 78 finished with value: 0.775 and parameters: {'n_neighbors': 10, 'weights': 'distance', 'metric': 'euclidean', 'algorithm': 'ball_tree'}. Best is trial 76 with value: 0.859375.\n",
      "[I 2024-02-22 15:50:05,764] Trial 79 finished with value: 0.715625 and parameters: {'n_neighbors': 16, 'weights': 'distance', 'metric': 'euclidean', 'algorithm': 'ball_tree'}. Best is trial 76 with value: 0.859375.\n",
      "[I 2024-02-22 15:50:05,875] Trial 80 finished with value: 0.809375 and parameters: {'n_neighbors': 7, 'weights': 'distance', 'metric': 'euclidean', 'algorithm': 'ball_tree'}. Best is trial 76 with value: 0.859375.\n",
      "[I 2024-02-22 15:50:05,985] Trial 81 finished with value: 0.859375 and parameters: {'n_neighbors': 5, 'weights': 'distance', 'metric': 'euclidean', 'algorithm': 'ball_tree'}. Best is trial 76 with value: 0.859375.\n",
      "[I 2024-02-22 15:50:06,101] Trial 82 finished with value: 0.859375 and parameters: {'n_neighbors': 5, 'weights': 'distance', 'metric': 'euclidean', 'algorithm': 'ball_tree'}. Best is trial 76 with value: 0.859375.\n",
      "[I 2024-02-22 15:50:06,210] Trial 83 finished with value: 0.76875 and parameters: {'n_neighbors': 12, 'weights': 'distance', 'metric': 'euclidean', 'algorithm': 'ball_tree'}. Best is trial 76 with value: 0.859375.\n",
      "[I 2024-02-22 15:50:06,322] Trial 84 finished with value: 0.775 and parameters: {'n_neighbors': 10, 'weights': 'distance', 'metric': 'euclidean', 'algorithm': 'ball_tree'}. Best is trial 76 with value: 0.859375.\n",
      "[I 2024-02-22 15:50:06,430] Trial 85 finished with value: 0.809375 and parameters: {'n_neighbors': 7, 'weights': 'distance', 'metric': 'euclidean', 'algorithm': 'ball_tree'}. Best is trial 76 with value: 0.859375.\n",
      "[I 2024-02-22 15:50:06,537] Trial 86 finished with value: 0.646875 and parameters: {'n_neighbors': 31, 'weights': 'distance', 'metric': 'euclidean', 'algorithm': 'ball_tree'}. Best is trial 76 with value: 0.859375.\n",
      "[I 2024-02-22 15:50:06,642] Trial 87 finished with value: 0.728125 and parameters: {'n_neighbors': 15, 'weights': 'distance', 'metric': 'euclidean', 'algorithm': 'ball_tree'}. Best is trial 76 with value: 0.859375.\n",
      "[I 2024-02-22 15:50:06,749] Trial 88 finished with value: 0.809375 and parameters: {'n_neighbors': 7, 'weights': 'distance', 'metric': 'euclidean', 'algorithm': 'ball_tree'}. Best is trial 76 with value: 0.859375.\n",
      "[I 2024-02-22 15:50:06,871] Trial 89 finished with value: 0.615625 and parameters: {'n_neighbors': 11, 'weights': 'uniform', 'metric': 'euclidean', 'algorithm': 'ball_tree'}. Best is trial 76 with value: 0.859375.\n",
      "[I 2024-02-22 15:50:06,978] Trial 90 finished with value: 0.709375 and parameters: {'n_neighbors': 18, 'weights': 'distance', 'metric': 'euclidean', 'algorithm': 'ball_tree'}. Best is trial 76 with value: 0.859375.\n",
      "[I 2024-02-22 15:50:07,084] Trial 91 finished with value: 0.859375 and parameters: {'n_neighbors': 5, 'weights': 'distance', 'metric': 'euclidean', 'algorithm': 'ball_tree'}. Best is trial 76 with value: 0.859375.\n",
      "[I 2024-02-22 15:50:07,195] Trial 92 finished with value: 0.809375 and parameters: {'n_neighbors': 7, 'weights': 'distance', 'metric': 'euclidean', 'algorithm': 'ball_tree'}. Best is trial 76 with value: 0.859375.\n",
      "[I 2024-02-22 15:50:07,304] Trial 93 finished with value: 0.859375 and parameters: {'n_neighbors': 5, 'weights': 'distance', 'metric': 'euclidean', 'algorithm': 'ball_tree'}. Best is trial 76 with value: 0.859375.\n",
      "[I 2024-02-22 15:50:07,414] Trial 94 finished with value: 0.759375 and parameters: {'n_neighbors': 13, 'weights': 'distance', 'metric': 'euclidean', 'algorithm': 'ball_tree'}. Best is trial 76 with value: 0.859375.\n",
      "[I 2024-02-22 15:50:07,523] Trial 95 finished with value: 0.775 and parameters: {'n_neighbors': 10, 'weights': 'distance', 'metric': 'euclidean', 'algorithm': 'ball_tree'}. Best is trial 76 with value: 0.859375.\n",
      "[I 2024-02-22 15:50:07,636] Trial 96 finished with value: 0.859375 and parameters: {'n_neighbors': 5, 'weights': 'distance', 'metric': 'euclidean', 'algorithm': 'ball_tree'}. Best is trial 76 with value: 0.859375.\n",
      "[I 2024-02-22 15:50:07,749] Trial 97 finished with value: 0.5875 and parameters: {'n_neighbors': 76, 'weights': 'distance', 'metric': 'euclidean', 'algorithm': 'ball_tree'}. Best is trial 76 with value: 0.859375.\n",
      "[I 2024-02-22 15:50:07,857] Trial 98 finished with value: 0.79375 and parameters: {'n_neighbors': 9, 'weights': 'distance', 'metric': 'euclidean', 'algorithm': 'ball_tree'}. Best is trial 76 with value: 0.859375.\n",
      "[I 2024-02-22 15:50:07,971] Trial 99 finished with value: 0.634375 and parameters: {'n_neighbors': 38, 'weights': 'distance', 'metric': 'euclidean', 'algorithm': 'ball_tree'}. Best is trial 76 with value: 0.859375.\n"
     ]
    },
    {
     "name": "stdout",
     "output_type": "stream",
     "text": [
      "Best params found : {'n_neighbors': 5, 'weights': 'distance', 'metric': 'euclidean', 'algorithm': 'ball_tree'}\n",
      "accuracy: 0.9875\n",
      "recall: 0.9930555555555556\n",
      "precision: 0.9930555555555556\n",
      "f1-score: 0.9920634920634921\n",
      "roc_auc:  0.9963474025974026\n"
     ]
    }
   ],
   "source": [
    "study = optuna.create_study(direction = 'maximize')\n",
    "study.optimize(objective, n_trials = 100)\n",
    "best_params = study.best_params\n",
    "print(\"Best params found :\", best_params)\n",
    "\n",
    "final_model =KNeighborsClassifier(**best_params)\n",
    "final_model.fit(X_train_reduced, y_train)\n",
    "y_pred = final_model.predict(X_test_reduced)\n",
    "prediction_results['KNN'] = list(y_pred)\n",
    "\n",
    "accuracy = accuracy_score(y_test, y_pred)\n",
    "precision = precision_score(y_test, y_pred, average='macro')\n",
    "recall = recall_score(y_test, y_pred, average='macro')\n",
    "f1 = f1_score(y_test, y_pred, average='macro')\n",
    "\n",
    "# One-hot encoding for probability calculation (adapt if necessary)\n",
    "y_test_onehot = pd.get_dummies(y_test, prefix='label_')  # Assuming 'label_' prefix for clarity\n",
    "y_pred_onehot = pd.get_dummies(y_pred, prefix='label_')\n",
    "\n",
    "# ROC AUC score with multiclass handling\n",
    "roc_auc_macro = roc_auc_score(y_test_onehot, y_pred_onehot, average='macro', multi_class='ovo')  # Specify 'ovo' or 'ovr'\n",
    "\n",
    "print(\"accuracy:\", accuracy)\n",
    "print(\"recall:\", recall)\n",
    "print(\"precision:\", precision)\n",
    "print(\"f1-score:\", f1)\n",
    "print('roc_auc: ', roc_auc_macro)"
   ]
  },
  {
   "cell_type": "markdown",
   "id": "c1047f6b",
   "metadata": {
    "papermill": {
     "duration": 0.04399,
     "end_time": "2024-02-22T15:50:08.110508",
     "exception": false,
     "start_time": "2024-02-22T15:50:08.066518",
     "status": "completed"
    },
    "tags": []
   },
   "source": [
    "# Support Vector Machine "
   ]
  },
  {
   "cell_type": "markdown",
   "id": "374508d2",
   "metadata": {
    "papermill": {
     "duration": 0.042198,
     "end_time": "2024-02-22T15:50:08.196165",
     "exception": false,
     "start_time": "2024-02-22T15:50:08.153967",
     "status": "completed"
    },
    "tags": []
   },
   "source": [
    "**Normal**"
   ]
  },
  {
   "cell_type": "code",
   "execution_count": 28,
   "id": "b0623944",
   "metadata": {
    "execution": {
     "iopub.execute_input": "2024-02-22T15:50:08.282947Z",
     "iopub.status.busy": "2024-02-22T15:50:08.282496Z",
     "iopub.status.idle": "2024-02-22T15:50:08.343916Z",
     "shell.execute_reply": "2024-02-22T15:50:08.342421Z"
    },
    "papermill": {
     "duration": 0.107479,
     "end_time": "2024-02-22T15:50:08.346527",
     "exception": false,
     "start_time": "2024-02-22T15:50:08.239048",
     "status": "completed"
    },
    "tags": []
   },
   "outputs": [
    {
     "name": "stdout",
     "output_type": "stream",
     "text": [
      "accuracy: 1.0\n",
      "recall: 1.0\n",
      "precision: 1.0\n",
      "f1-score: 1.0\n",
      "roc_auc:  1.0\n"
     ]
    }
   ],
   "source": [
    "from sklearn.svm import SVC\n",
    "\n",
    "svm = SVC(kernel='linear')\n",
    "svm.fit(X_train_reduced, y_train)\n",
    "y_pred = svm.predict(X_test_reduced)\n",
    "\n",
    "accuracy = accuracy_score(y_test, y_pred)\n",
    "precision = precision_score(y_test, y_pred, average='macro')\n",
    "recall = recall_score(y_test, y_pred, average='macro')\n",
    "f1 = f1_score(y_test, y_pred, average='macro')\n",
    "\n",
    "# One-hot encoding for probability calculation (adapt if necessary)\n",
    "# Assuming 'label_' prefix for clarity\n",
    "y_test_onehot = pd.get_dummies(y_test, prefix='label_')\n",
    "y_pred_onehot = pd.get_dummies(y_pred, prefix='label_')\n",
    "\n",
    "# ROC AUC score with multiclass handling\n",
    "roc_auc_macro = roc_auc_score(y_test_onehot, y_pred_onehot,\n",
    "                              average='macro', multi_class='ovo')  # Specify 'ovo' or 'ovr'\n",
    "\n",
    "print(\"accuracy:\", accuracy)\n",
    "print(\"recall:\", recall)\n",
    "print(\"precision:\", precision)\n",
    "print(\"f1-score:\", f1)\n",
    "print('roc_auc: ', roc_auc_macro)"
   ]
  },
  {
   "cell_type": "markdown",
   "id": "3c9ff97b",
   "metadata": {
    "papermill": {
     "duration": 0.043509,
     "end_time": "2024-02-22T15:50:08.433133",
     "exception": false,
     "start_time": "2024-02-22T15:50:08.389624",
     "status": "completed"
    },
    "tags": []
   },
   "source": [
    "**Tunning**"
   ]
  },
  {
   "cell_type": "code",
   "execution_count": 29,
   "id": "3e9143dc",
   "metadata": {
    "execution": {
     "iopub.execute_input": "2024-02-22T15:50:08.521967Z",
     "iopub.status.busy": "2024-02-22T15:50:08.521241Z",
     "iopub.status.idle": "2024-02-22T15:50:08.529286Z",
     "shell.execute_reply": "2024-02-22T15:50:08.528166Z"
    },
    "papermill": {
     "duration": 0.054369,
     "end_time": "2024-02-22T15:50:08.531413",
     "exception": false,
     "start_time": "2024-02-22T15:50:08.477044",
     "status": "completed"
    },
    "tags": []
   },
   "outputs": [],
   "source": [
    "import optuna\n",
    "from sklearn.model_selection import cross_val_score\n",
    "import warnings\n",
    "warnings.filterwarnings('ignore')\n",
    "\n",
    "def objective(trial):\n",
    "    hyperparams = {\n",
    "        'kernel': trial.suggest_categorical('kernel', ['linear', 'rbf', 'poly']),\n",
    "        'C': trial.suggest_loguniform('C', 1e-5, 1e5),\n",
    "        'gamma': trial.suggest_loguniform('gamma', 1e-5, 1e5),\n",
    "        # 'degree': trial.suggest_int('degree', 2, 5),  # for polynomial kernel\n",
    "        'tol': trial.suggest_loguniform('tol', 1e-4, 1e-2),\n",
    "        'shrinking': trial.suggest_categorical('shrinking', [True, False]),\n",
    "    }\n",
    "    \n",
    "    # Create KNN model with tuned hyperparameters\n",
    "    model = SVC(**hyperparams)\n",
    "    scores = cross_val_score(model, X_train_reduced, y_train, cv = kf,scoring = 'accuracy')\n",
    "    return np.mean(scores)"
   ]
  },
  {
   "cell_type": "code",
   "execution_count": 30,
   "id": "09d800ea",
   "metadata": {
    "execution": {
     "iopub.execute_input": "2024-02-22T15:50:08.620487Z",
     "iopub.status.busy": "2024-02-22T15:50:08.619993Z",
     "iopub.status.idle": "2024-02-22T15:50:19.092959Z",
     "shell.execute_reply": "2024-02-22T15:50:19.091380Z"
    },
    "papermill": {
     "duration": 10.520476,
     "end_time": "2024-02-22T15:50:19.095471",
     "exception": false,
     "start_time": "2024-02-22T15:50:08.574995",
     "status": "completed"
    },
    "tags": []
   },
   "outputs": [
    {
     "name": "stderr",
     "output_type": "stream",
     "text": [
      "[I 2024-02-22 15:50:08,625] A new study created in memory with name: no-name-14bd1382-91d1-47b3-b039-1b10e3024a38\n",
      "[I 2024-02-22 15:50:08,707] Trial 0 finished with value: 0.0 and parameters: {'kernel': 'rbf', 'C': 3.518248733872884e-05, 'gamma': 0.0002949828758864826, 'tol': 0.0005595835689535996, 'shrinking': True}. Best is trial 0 with value: 0.0.\n",
      "[I 2024-02-22 15:50:08,786] Trial 1 finished with value: 0.0 and parameters: {'kernel': 'rbf', 'C': 1.0667294760008732e-05, 'gamma': 0.00217201118955408, 'tol': 0.0031291554310873986, 'shrinking': True}. Best is trial 0 with value: 0.0.\n",
      "[I 2024-02-22 15:50:08,904] Trial 2 finished with value: 0.0 and parameters: {'kernel': 'rbf', 'C': 12.986144358191437, 'gamma': 0.00016597559683255162, 'tol': 0.00048257314456762965, 'shrinking': True}. Best is trial 0 with value: 0.0.\n",
      "[I 2024-02-22 15:50:08,997] Trial 3 finished with value: 0.859375 and parameters: {'kernel': 'poly', 'C': 5.653832063148999, 'gamma': 0.0009566545017769037, 'tol': 0.0002851459241666125, 'shrinking': False}. Best is trial 3 with value: 0.859375.\n",
      "[I 2024-02-22 15:50:09,082] Trial 4 finished with value: 0.946875 and parameters: {'kernel': 'linear', 'C': 0.06867103515652859, 'gamma': 30.740236878215377, 'tol': 0.0009473448743274386, 'shrinking': True}. Best is trial 4 with value: 0.946875.\n",
      "[I 2024-02-22 15:50:09,200] Trial 5 finished with value: 0.0 and parameters: {'kernel': 'rbf', 'C': 1710.314889303638, 'gamma': 19.240200735235995, 'tol': 0.00010048223866677394, 'shrinking': True}. Best is trial 4 with value: 0.946875.\n",
      "[I 2024-02-22 15:50:09,282] Trial 6 finished with value: 0.946875 and parameters: {'kernel': 'linear', 'C': 0.1550693558902299, 'gamma': 0.8898955940671178, 'tol': 0.0004901279048292713, 'shrinking': False}. Best is trial 4 with value: 0.946875.\n",
      "[I 2024-02-22 15:50:09,388] Trial 7 finished with value: 0.0 and parameters: {'kernel': 'rbf', 'C': 272.72928531160153, 'gamma': 10883.212534730104, 'tol': 0.0024705336345398764, 'shrinking': True}. Best is trial 4 with value: 0.946875.\n",
      "[I 2024-02-22 15:50:09,468] Trial 8 finished with value: 0.0 and parameters: {'kernel': 'rbf', 'C': 0.0008499422584853697, 'gamma': 0.9804800435930991, 'tol': 0.0012544748134683116, 'shrinking': True}. Best is trial 4 with value: 0.946875.\n",
      "[I 2024-02-22 15:50:09,566] Trial 9 finished with value: 0.0 and parameters: {'kernel': 'rbf', 'C': 0.7606583180924396, 'gamma': 603.8580473435277, 'tol': 0.0004572827447738991, 'shrinking': True}. Best is trial 4 with value: 0.946875.\n",
      "[I 2024-02-22 15:50:09,655] Trial 10 finished with value: 0.946875 and parameters: {'kernel': 'linear', 'C': 82178.07682152888, 'gamma': 85526.64399378751, 'tol': 0.009241566022340053, 'shrinking': False}. Best is trial 4 with value: 0.946875.\n",
      "[I 2024-02-22 15:50:09,753] Trial 11 finished with value: 0.946875 and parameters: {'kernel': 'linear', 'C': 0.032921168923818585, 'gamma': 0.6590432661983835, 'tol': 0.0013936313418310953, 'shrinking': False}. Best is trial 4 with value: 0.946875.\n",
      "[I 2024-02-22 15:50:09,858] Trial 12 finished with value: 0.946875 and parameters: {'kernel': 'linear', 'C': 0.020044598255121965, 'gamma': 0.08227472550065275, 'tol': 0.00020422301611599326, 'shrinking': False}. Best is trial 4 with value: 0.946875.\n",
      "[I 2024-02-22 15:50:09,957] Trial 13 finished with value: 0.946875 and parameters: {'kernel': 'linear', 'C': 0.02078033463732132, 'gamma': 42.71898659951193, 'tol': 0.0011394655326346281, 'shrinking': False}. Best is trial 4 with value: 0.946875.\n",
      "[I 2024-02-22 15:50:10,053] Trial 14 finished with value: 0.946875 and parameters: {'kernel': 'linear', 'C': 0.2816677964481813, 'gamma': 0.035038987310939025, 'tol': 0.0027421853456722476, 'shrinking': False}. Best is trial 4 with value: 0.946875.\n",
      "[I 2024-02-22 15:50:10,164] Trial 15 finished with value: 0.859375 and parameters: {'kernel': 'poly', 'C': 0.0007678788965136113, 'gamma': 36.12134011810798, 'tol': 0.0007779588159558635, 'shrinking': False}. Best is trial 4 with value: 0.946875.\n",
      "[I 2024-02-22 15:50:10,272] Trial 16 finished with value: 0.946875 and parameters: {'kernel': 'linear', 'C': 0.000991093282878821, 'gamma': 633.9061395520563, 'tol': 0.0002760117946500276, 'shrinking': True}. Best is trial 4 with value: 0.946875.\n",
      "[I 2024-02-22 15:50:10,367] Trial 17 finished with value: 0.946875 and parameters: {'kernel': 'linear', 'C': 42.88353919181451, 'gamma': 0.028428710260310946, 'tol': 0.0058757830076105605, 'shrinking': False}. Best is trial 4 with value: 0.946875.\n",
      "[I 2024-02-22 15:50:10,472] Trial 18 finished with value: 0.946875 and parameters: {'kernel': 'linear', 'C': 0.35255734414564033, 'gamma': 7.7613798099789015, 'tol': 0.0001415758371287329, 'shrinking': False}. Best is trial 4 with value: 0.946875.\n",
      "[I 2024-02-22 15:50:10,583] Trial 19 finished with value: 0.859375 and parameters: {'kernel': 'poly', 'C': 0.005201013319853668, 'gamma': 674.8333197804565, 'tol': 0.0017303153691161845, 'shrinking': True}. Best is trial 4 with value: 0.946875.\n",
      "[I 2024-02-22 15:50:10,693] Trial 20 finished with value: 0.946875 and parameters: {'kernel': 'linear', 'C': 2.9380756820684253, 'gamma': 2.7766411130291657, 'tol': 0.0007010757239586634, 'shrinking': True}. Best is trial 4 with value: 0.946875.\n",
      "[I 2024-02-22 15:50:10,785] Trial 21 finished with value: 0.946875 and parameters: {'kernel': 'linear', 'C': 37066.10199762047, 'gamma': 94067.94979187557, 'tol': 0.0076180899397608505, 'shrinking': False}. Best is trial 4 with value: 0.946875.\n",
      "[I 2024-02-22 15:50:10,894] Trial 22 finished with value: 0.946875 and parameters: {'kernel': 'linear', 'C': 15327.670917797333, 'gamma': 12343.39967849369, 'tol': 0.00383594387186841, 'shrinking': False}. Best is trial 4 with value: 0.946875.\n",
      "[I 2024-02-22 15:50:11,001] Trial 23 finished with value: 0.946875 and parameters: {'kernel': 'linear', 'C': 172.9633293278968, 'gamma': 0.3440075235767039, 'tol': 0.00034890292987086103, 'shrinking': False}. Best is trial 4 with value: 0.946875.\n",
      "[I 2024-02-22 15:50:11,089] Trial 24 finished with value: 0.946875 and parameters: {'kernel': 'linear', 'C': 0.11702100543453381, 'gamma': 273.38290814922317, 'tol': 0.009592165611090026, 'shrinking': False}. Best is trial 4 with value: 0.946875.\n",
      "[I 2024-02-22 15:50:11,185] Trial 25 finished with value: 0.946875 and parameters: {'kernel': 'linear', 'C': 2097.60537773455, 'gamma': 1.9272864932233065e-05, 'tol': 0.0019270269993419496, 'shrinking': False}. Best is trial 4 with value: 0.946875.\n",
      "[I 2024-02-22 15:50:11,297] Trial 26 finished with value: 0.859375 and parameters: {'kernel': 'poly', 'C': 1.6326256774639196, 'gamma': 5320.028144336736, 'tol': 0.0008777552936643862, 'shrinking': False}. Best is trial 4 with value: 0.946875.\n",
      "[I 2024-02-22 15:50:11,395] Trial 27 finished with value: 0.946875 and parameters: {'kernel': 'linear', 'C': 0.004241098283643189, 'gamma': 71381.0023424339, 'tol': 0.0005976062847535639, 'shrinking': False}. Best is trial 4 with value: 0.946875.\n",
      "[I 2024-02-22 15:50:11,491] Trial 28 finished with value: 0.946875 and parameters: {'kernel': 'linear', 'C': 0.00010929571487559072, 'gamma': 0.008673194365094773, 'tol': 0.005117265981470821, 'shrinking': True}. Best is trial 4 with value: 0.946875.\n",
      "[I 2024-02-22 15:50:11,594] Trial 29 finished with value: 0.946875 and parameters: {'kernel': 'linear', 'C': 0.076365667622992, 'gamma': 0.2442579243271548, 'tol': 0.0010141895942276347, 'shrinking': True}. Best is trial 4 with value: 0.946875.\n",
      "[I 2024-02-22 15:50:11,709] Trial 30 finished with value: 0.859375 and parameters: {'kernel': 'poly', 'C': 15.71715704778442, 'gamma': 112.29237347377497, 'tol': 0.0003705339527868044, 'shrinking': False}. Best is trial 4 with value: 0.946875.\n",
      "[I 2024-02-22 15:50:11,807] Trial 31 finished with value: 0.946875 and parameters: {'kernel': 'linear', 'C': 0.03594605530264382, 'gamma': 3.3747184149426093, 'tol': 0.0017386128245366135, 'shrinking': False}. Best is trial 4 with value: 0.946875.\n",
      "[I 2024-02-22 15:50:11,900] Trial 32 finished with value: 0.946875 and parameters: {'kernel': 'linear', 'C': 0.007332272456608955, 'gamma': 0.6230755044700729, 'tol': 0.0038374104126775127, 'shrinking': False}. Best is trial 4 with value: 0.946875.\n",
      "[I 2024-02-22 15:50:11,999] Trial 33 finished with value: 0.946875 and parameters: {'kernel': 'linear', 'C': 0.24837354073274373, 'gamma': 0.13183221581326768, 'tol': 0.000544323152078509, 'shrinking': False}. Best is trial 4 with value: 0.946875.\n",
      "[I 2024-02-22 15:50:12,095] Trial 34 finished with value: 0.946875 and parameters: {'kernel': 'linear', 'C': 7.763997526017188e-05, 'gamma': 0.0072300842360855135, 'tol': 0.0012986745741966764, 'shrinking': False}. Best is trial 4 with value: 0.946875.\n",
      "[I 2024-02-22 15:50:12,205] Trial 35 finished with value: 0.946875 and parameters: {'kernel': 'linear', 'C': 0.6660712038852946, 'gamma': 7.194595533031114, 'tol': 0.00023786071477251502, 'shrinking': True}. Best is trial 4 with value: 0.946875.\n",
      "[I 2024-02-22 15:50:12,313] Trial 36 finished with value: 0.946875 and parameters: {'kernel': 'linear', 'C': 9.537800689777846, 'gamma': 0.0003806742208811233, 'tol': 0.00016873406460650645, 'shrinking': False}. Best is trial 4 with value: 0.946875.\n",
      "[I 2024-02-22 15:50:12,419] Trial 37 finished with value: 0.0 and parameters: {'kernel': 'rbf', 'C': 0.0021368518292089007, 'gamma': 2659.1009989201916, 'tol': 0.00040165628082743495, 'shrinking': True}. Best is trial 4 with value: 0.946875.\n",
      "[I 2024-02-22 15:50:12,526] Trial 38 finished with value: 0.0 and parameters: {'kernel': 'rbf', 'C': 0.06829799733842187, 'gamma': 1.898627800536107, 'tol': 0.002141071202659419, 'shrinking': False}. Best is trial 4 with value: 0.946875.\n",
      "[I 2024-02-22 15:50:12,630] Trial 39 finished with value: 0.946875 and parameters: {'kernel': 'linear', 'C': 0.00026444594514818506, 'gamma': 0.002728542279711696, 'tol': 0.001395519343833637, 'shrinking': True}. Best is trial 4 with value: 0.946875.\n",
      "[I 2024-02-22 15:50:12,741] Trial 40 finished with value: 0.859375 and parameters: {'kernel': 'poly', 'C': 0.013842418930085806, 'gamma': 14.407562661548056, 'tol': 0.0006862672967552208, 'shrinking': False}. Best is trial 4 with value: 0.946875.\n",
      "[I 2024-02-22 15:50:12,844] Trial 41 finished with value: 0.946875 and parameters: {'kernel': 'linear', 'C': 1.4449007116837007e-05, 'gamma': 0.13342377357033236, 'tol': 0.00019022825193824855, 'shrinking': False}. Best is trial 4 with value: 0.946875.\n",
      "[I 2024-02-22 15:50:12,949] Trial 42 finished with value: 0.946875 and parameters: {'kernel': 'linear', 'C': 0.02505649829064837, 'gamma': 0.03856558562377186, 'tol': 0.00023080554115580162, 'shrinking': False}. Best is trial 4 with value: 0.946875.\n",
      "[I 2024-02-22 15:50:13,054] Trial 43 finished with value: 0.946875 and parameters: {'kernel': 'linear', 'C': 0.13707203088716227, 'gamma': 1.2165757380092084, 'tol': 0.00012644388377515252, 'shrinking': False}. Best is trial 4 with value: 0.946875.\n",
      "[I 2024-02-22 15:50:13,156] Trial 44 finished with value: 0.946875 and parameters: {'kernel': 'linear', 'C': 0.9442716498068515, 'gamma': 0.10466857704988705, 'tol': 0.0005103851267871815, 'shrinking': False}. Best is trial 4 with value: 0.946875.\n",
      "[I 2024-02-22 15:50:13,271] Trial 45 finished with value: 0.0 and parameters: {'kernel': 'rbf', 'C': 0.01306638766670824, 'gamma': 0.016085692296068356, 'tol': 0.00010772558695060721, 'shrinking': True}. Best is trial 4 with value: 0.946875.\n",
      "[I 2024-02-22 15:50:13,375] Trial 46 finished with value: 0.946875 and parameters: {'kernel': 'linear', 'C': 0.0017016050003278702, 'gamma': 110.79839413163963, 'tol': 0.00029268854794186456, 'shrinking': False}. Best is trial 4 with value: 0.946875.\n",
      "[I 2024-02-22 15:50:13,476] Trial 47 finished with value: 0.946875 and parameters: {'kernel': 'linear', 'C': 0.043236684263426396, 'gamma': 0.6365309945059421, 'tol': 0.0009380529599690123, 'shrinking': False}. Best is trial 4 with value: 0.946875.\n",
      "[I 2024-02-22 15:50:13,582] Trial 48 finished with value: 0.946875 and parameters: {'kernel': 'linear', 'C': 3.2415015188012486, 'gamma': 0.06945996005256777, 'tol': 0.0014813540542389122, 'shrinking': True}. Best is trial 4 with value: 0.946875.\n",
      "[I 2024-02-22 15:50:13,684] Trial 49 finished with value: 0.946875 and parameters: {'kernel': 'linear', 'C': 53.16910372312368, 'gamma': 0.0025444861351529816, 'tol': 0.002540715435263215, 'shrinking': False}. Best is trial 4 with value: 0.946875.\n",
      "[I 2024-02-22 15:50:13,808] Trial 50 finished with value: 0.0 and parameters: {'kernel': 'rbf', 'C': 94447.88745477486, 'gamma': 31.05733562411179, 'tol': 0.003194195045587978, 'shrinking': False}. Best is trial 4 with value: 0.946875.\n",
      "[I 2024-02-22 15:50:13,907] Trial 51 finished with value: 0.946875 and parameters: {'kernel': 'linear', 'C': 0.25862765749922295, 'gamma': 6.554801058786176, 'tol': 0.0012326313760835704, 'shrinking': False}. Best is trial 4 with value: 0.946875.\n",
      "[I 2024-02-22 15:50:14,010] Trial 52 finished with value: 0.946875 and parameters: {'kernel': 'linear', 'C': 0.01421781646059546, 'gamma': 1813.4014840285563, 'tol': 0.0010571082153398696, 'shrinking': False}. Best is trial 4 with value: 0.946875.\n",
      "[I 2024-02-22 15:50:14,113] Trial 53 finished with value: 0.946875 and parameters: {'kernel': 'linear', 'C': 1816.3873858305249, 'gamma': 73.63434117561155, 'tol': 0.000751573078300427, 'shrinking': False}. Best is trial 4 with value: 0.946875.\n",
      "[I 2024-02-22 15:50:14,219] Trial 54 finished with value: 0.946875 and parameters: {'kernel': 'linear', 'C': 0.003146167565170178, 'gamma': 0.3639570649057384, 'tol': 0.0005919164995465279, 'shrinking': False}. Best is trial 4 with value: 0.946875.\n",
      "[I 2024-02-22 15:50:14,338] Trial 55 finished with value: 0.859375 and parameters: {'kernel': 'poly', 'C': 0.0004598878851290964, 'gamma': 232.9972730365114, 'tol': 0.000414690284846322, 'shrinking': False}. Best is trial 4 with value: 0.946875.\n",
      "[I 2024-02-22 15:50:14,442] Trial 56 finished with value: 0.946875 and parameters: {'kernel': 'linear', 'C': 0.13711721138732247, 'gamma': 17.616638636695257, 'tol': 0.005877485015588653, 'shrinking': True}. Best is trial 4 with value: 0.946875.\n",
      "[I 2024-02-22 15:50:14,548] Trial 57 finished with value: 0.946875 and parameters: {'kernel': 'linear', 'C': 0.43313722877204824, 'gamma': 3.0523558597443268, 'tol': 0.001087368800141748, 'shrinking': False}. Best is trial 4 with value: 0.946875.\n",
      "[I 2024-02-22 15:50:14,658] Trial 58 finished with value: 0.946875 and parameters: {'kernel': 'linear', 'C': 0.028732666514003618, 'gamma': 23737.772202329958, 'tol': 0.0003061921031626369, 'shrinking': False}. Best is trial 4 with value: 0.946875.\n",
      "[I 2024-02-22 15:50:14,768] Trial 59 finished with value: 0.946875 and parameters: {'kernel': 'linear', 'C': 0.010203418892994203, 'gamma': 1211.3236060611346, 'tol': 0.0008715867681878678, 'shrinking': True}. Best is trial 4 with value: 0.946875.\n",
      "[I 2024-02-22 15:50:14,872] Trial 60 finished with value: 0.8625 and parameters: {'kernel': 'poly', 'C': 0.06443641306806909, 'gamma': 45.10723707394236, 'tol': 0.009939641904942426, 'shrinking': False}. Best is trial 4 with value: 0.946875.\n",
      "[I 2024-02-22 15:50:14,970] Trial 61 finished with value: 0.946875 and parameters: {'kernel': 'linear', 'C': 5245.397885178058, 'gamma': 0.039796229235729084, 'tol': 0.00249925165523577, 'shrinking': False}. Best is trial 4 with value: 0.946875.\n",
      "[I 2024-02-22 15:50:15,069] Trial 62 finished with value: 0.946875 and parameters: {'kernel': 'linear', 'C': 2.079026015441514, 'gamma': 0.017836279378268757, 'tol': 0.0016067392432202153, 'shrinking': False}. Best is trial 4 with value: 0.946875.\n",
      "[I 2024-02-22 15:50:15,165] Trial 63 finished with value: 0.946875 and parameters: {'kernel': 'linear', 'C': 0.20264930540557982, 'gamma': 0.30482672599763677, 'tol': 0.004198880344551471, 'shrinking': False}. Best is trial 4 with value: 0.946875.\n",
      "[I 2024-02-22 15:50:15,262] Trial 64 finished with value: 0.946875 and parameters: {'kernel': 'linear', 'C': 0.8756913233414696, 'gamma': 0.0058999323270971194, 'tol': 0.007804124327590959, 'shrinking': False}. Best is trial 4 with value: 0.946875.\n",
      "[I 2024-02-22 15:50:15,360] Trial 65 finished with value: 0.946875 and parameters: {'kernel': 'linear', 'C': 0.020370675475504533, 'gamma': 1.074649476772976, 'tol': 0.0030538724602798793, 'shrinking': False}. Best is trial 4 with value: 0.946875.\n",
      "[I 2024-02-22 15:50:15,460] Trial 66 finished with value: 0.946875 and parameters: {'kernel': 'linear', 'C': 0.005872180548150376, 'gamma': 4.503680341574511, 'tol': 0.001973766772361737, 'shrinking': False}. Best is trial 4 with value: 0.946875.\n",
      "[I 2024-02-22 15:50:15,567] Trial 67 finished with value: 0.946875 and parameters: {'kernel': 'linear', 'C': 0.5062321596933524, 'gamma': 0.0005545720842674328, 'tol': 0.000653306052593467, 'shrinking': True}. Best is trial 4 with value: 0.946875.\n",
      "[I 2024-02-22 15:50:15,672] Trial 68 finished with value: 0.946875 and parameters: {'kernel': 'linear', 'C': 0.04752089563663723, 'gamma': 1.2930232312074549e-05, 'tol': 0.0011635959374114802, 'shrinking': False}. Best is trial 4 with value: 0.946875.\n",
      "[I 2024-02-22 15:50:15,800] Trial 69 finished with value: 0.0 and parameters: {'kernel': 'rbf', 'C': 346.68105700705127, 'gamma': 0.18288534555251876, 'tol': 0.0008217942078441622, 'shrinking': False}. Best is trial 4 with value: 0.946875.\n",
      "[I 2024-02-22 15:50:15,904] Trial 70 finished with value: 0.946875 and parameters: {'kernel': 'linear', 'C': 0.10254262529348407, 'gamma': 342.1628201318024, 'tol': 0.005451536940533391, 'shrinking': True}. Best is trial 4 with value: 0.946875.\n",
      "[I 2024-02-22 15:50:16,018] Trial 71 finished with value: 0.946875 and parameters: {'kernel': 'linear', 'C': 0.0014089363172255568, 'gamma': 8341.71989463031, 'tol': 0.00023473160129684263, 'shrinking': True}. Best is trial 4 with value: 0.946875.\n",
      "[I 2024-02-22 15:50:16,133] Trial 72 finished with value: 0.946875 and parameters: {'kernel': 'linear', 'C': 0.0007639275100521182, 'gamma': 18350.855951009504, 'tol': 0.00018967062467573992, 'shrinking': True}. Best is trial 4 with value: 0.946875.\n",
      "[I 2024-02-22 15:50:16,248] Trial 73 finished with value: 0.946875 and parameters: {'kernel': 'linear', 'C': 0.0046759581789657155, 'gamma': 12.464426066792639, 'tol': 0.0001584117488946352, 'shrinking': True}. Best is trial 4 with value: 0.946875.\n",
      "[I 2024-02-22 15:50:16,361] Trial 74 finished with value: 0.946875 and parameters: {'kernel': 'linear', 'C': 1.429361136836932, 'gamma': 0.06557535748511444, 'tol': 0.00045913498086855563, 'shrinking': True}. Best is trial 4 with value: 0.946875.\n",
      "[I 2024-02-22 15:50:16,478] Trial 75 finished with value: 0.859375 and parameters: {'kernel': 'poly', 'C': 0.00026458982216852903, 'gamma': 561.8647271266916, 'tol': 0.0003384418472757297, 'shrinking': False}. Best is trial 4 with value: 0.946875.\n",
      "[I 2024-02-22 15:50:16,590] Trial 76 finished with value: 0.946875 and parameters: {'kernel': 'linear', 'C': 3.8189902043536614, 'gamma': 1.686857547244186, 'tol': 0.00025636559315069885, 'shrinking': True}. Best is trial 4 with value: 0.946875.\n",
      "[I 2024-02-22 15:50:16,700] Trial 77 finished with value: 0.946875 and parameters: {'kernel': 'linear', 'C': 0.18984224721015128, 'gamma': 0.8132386083810818, 'tol': 0.00020037888679753834, 'shrinking': False}. Best is trial 4 with value: 0.946875.\n",
      "[I 2024-02-22 15:50:16,800] Trial 78 finished with value: 0.946875 and parameters: {'kernel': 'linear', 'C': 0.022958775946925945, 'gamma': 0.3899481078941416, 'tol': 0.0016719230429768858, 'shrinking': False}. Best is trial 4 with value: 0.946875.\n",
      "[I 2024-02-22 15:50:16,901] Trial 79 finished with value: 0.946875 and parameters: {'kernel': 'linear', 'C': 4.499845971516704e-05, 'gamma': 71499.78510035385, 'tol': 0.006643245568007473, 'shrinking': True}. Best is trial 4 with value: 0.946875.\n",
      "[I 2024-02-22 15:50:17,024] Trial 80 finished with value: 0.0 and parameters: {'kernel': 'rbf', 'C': 6.523852944384957, 'gamma': 2957.5757396355743, 'tol': 0.004363595060824663, 'shrinking': False}. Best is trial 4 with value: 0.946875.\n",
      "[I 2024-02-22 15:50:17,119] Trial 81 finished with value: 0.946875 and parameters: {'kernel': 'linear', 'C': 222.46159809246257, 'gamma': 8.970135668948688e-05, 'tol': 0.006213158434795247, 'shrinking': False}. Best is trial 4 with value: 0.946875.\n",
      "[I 2024-02-22 15:50:17,216] Trial 82 finished with value: 0.946875 and parameters: {'kernel': 'linear', 'C': 582.6646965211962, 'gamma': 0.040433746600111356, 'tol': 0.0078822194239549, 'shrinking': False}. Best is trial 4 with value: 0.946875.\n",
      "[I 2024-02-22 15:50:17,316] Trial 83 finished with value: 0.946875 and parameters: {'kernel': 'linear', 'C': 5123.1832436857385, 'gamma': 0.014010083441300905, 'tol': 0.0030560526904809446, 'shrinking': False}. Best is trial 4 with value: 0.946875.\n",
      "[I 2024-02-22 15:50:17,416] Trial 84 finished with value: 0.946875 and parameters: {'kernel': 'linear', 'C': 76.9036012613957, 'gamma': 0.07734404591547385, 'tol': 0.005015380116579698, 'shrinking': False}. Best is trial 4 with value: 0.946875.\n",
      "[I 2024-02-22 15:50:17,514] Trial 85 finished with value: 0.946875 and parameters: {'kernel': 'linear', 'C': 0.07450170693906089, 'gamma': 0.17343946260360024, 'tol': 0.008514173863120254, 'shrinking': False}. Best is trial 4 with value: 0.946875.\n",
      "[I 2024-02-22 15:50:17,623] Trial 86 finished with value: 0.946875 and parameters: {'kernel': 'linear', 'C': 35.2348686537824, 'gamma': 37590.65187997672, 'tol': 0.00013271746166792887, 'shrinking': False}. Best is trial 4 with value: 0.946875.\n",
      "[I 2024-02-22 15:50:17,718] Trial 87 finished with value: 0.946875 and parameters: {'kernel': 'linear', 'C': 0.3035867013492981, 'gamma': 0.024888806947171993, 'tol': 0.008833002290530197, 'shrinking': False}. Best is trial 4 with value: 0.946875.\n",
      "[I 2024-02-22 15:50:17,820] Trial 88 finished with value: 0.946875 and parameters: {'kernel': 'linear', 'C': 0.00850115530650336, 'gamma': 0.008344919923941783, 'tol': 0.006915639655652114, 'shrinking': True}. Best is trial 4 with value: 0.946875.\n",
      "[I 2024-02-22 15:50:17,930] Trial 89 finished with value: 0.859375 and parameters: {'kernel': 'poly', 'C': 0.002629465834032338, 'gamma': 168.13792241762002, 'tol': 0.0014552424036389123, 'shrinking': False}. Best is trial 4 with value: 0.946875.\n",
      "[I 2024-02-22 15:50:18,031] Trial 90 finished with value: 0.946875 and parameters: {'kernel': 'linear', 'C': 0.041242130458782986, 'gamma': 0.003859323690086022, 'tol': 0.0020863054925773657, 'shrinking': False}. Best is trial 4 with value: 0.946875.\n",
      "[I 2024-02-22 15:50:18,145] Trial 91 finished with value: 0.946875 and parameters: {'kernel': 'linear', 'C': 0.426752109576384, 'gamma': 5.601165106454485, 'tol': 0.00014371781857982295, 'shrinking': False}. Best is trial 4 with value: 0.946875.\n",
      "[I 2024-02-22 15:50:18,258] Trial 92 finished with value: 0.946875 and parameters: {'kernel': 'linear', 'C': 0.1378711807927719, 'gamma': 40.061788820297565, 'tol': 0.0002078044893737555, 'shrinking': False}. Best is trial 4 with value: 0.946875.\n",
      "[I 2024-02-22 15:50:18,373] Trial 93 finished with value: 0.946875 and parameters: {'kernel': 'linear', 'C': 0.08930890777338202, 'gamma': 11.905626755727628, 'tol': 0.00011984637579511332, 'shrinking': False}. Best is trial 4 with value: 0.946875.\n",
      "[I 2024-02-22 15:50:18,482] Trial 94 finished with value: 0.946875 and parameters: {'kernel': 'linear', 'C': 16.45328446383411, 'gamma': 0.001331617540684343, 'tol': 0.0001682972944232002, 'shrinking': False}. Best is trial 4 with value: 0.946875.\n",
      "[I 2024-02-22 15:50:18,592] Trial 95 finished with value: 0.946875 and parameters: {'kernel': 'linear', 'C': 16340.334301273728, 'gamma': 1.9150444835123224, 'tol': 0.00010272668588477895, 'shrinking': False}. Best is trial 4 with value: 0.946875.\n",
      "[I 2024-02-22 15:50:18,698] Trial 96 finished with value: 0.946875 and parameters: {'kernel': 'linear', 'C': 0.019687736019006207, 'gamma': 23.396124171714593, 'tol': 0.0009458083438244882, 'shrinking': False}. Best is trial 4 with value: 0.946875.\n",
      "[I 2024-02-22 15:50:18,830] Trial 97 finished with value: 0.0 and parameters: {'kernel': 'rbf', 'C': 1.5061637132590917, 'gamma': 106.39786917090551, 'tol': 0.0005029217947684577, 'shrinking': True}. Best is trial 4 with value: 0.946875.\n",
      "[I 2024-02-22 15:50:18,936] Trial 98 finished with value: 0.946875 and parameters: {'kernel': 'linear', 'C': 0.6634300418401602, 'gamma': 0.4514663458814039, 'tol': 0.00026700241117942836, 'shrinking': False}. Best is trial 4 with value: 0.946875.\n",
      "[I 2024-02-22 15:50:19,037] Trial 99 finished with value: 0.946875 and parameters: {'kernel': 'linear', 'C': 0.06159556173093849, 'gamma': 72.6258394775965, 'tol': 0.0012539819549264464, 'shrinking': False}. Best is trial 4 with value: 0.946875.\n"
     ]
    },
    {
     "name": "stdout",
     "output_type": "stream",
     "text": [
      "Best params found : {'kernel': 'linear', 'C': 0.06867103515652859, 'gamma': 30.740236878215377, 'tol': 0.0009473448743274386, 'shrinking': True}\n",
      "accuracy: 1.0\n",
      "recall: 1.0\n",
      "precision: 1.0\n",
      "f1-score: 1.0\n",
      "roc_auc:  1.0\n"
     ]
    }
   ],
   "source": [
    "study = optuna.create_study(direction='maximize')\n",
    "study.optimize(objective, n_trials=100)\n",
    "best_params = study.best_params\n",
    "print(\"Best params found :\", best_params)\n",
    "\n",
    "final_model = SVC(**best_params)\n",
    "final_model.fit(X_train_reduced, y_train)\n",
    "y_pred = final_model.predict(X_test_reduced)\n",
    "prediction_results['svc'] = list(y_pred)\n",
    "\n",
    "accuracy = accuracy_score(y_test, y_pred)\n",
    "precision = precision_score(y_test, y_pred, average='macro')\n",
    "recall = recall_score(y_test, y_pred, average='macro')\n",
    "f1 = f1_score(y_test, y_pred, average='macro')\n",
    "\n",
    "# One-hot encoding for probability calculation (adapt if necessary)\n",
    "# Assuming 'label_' prefix for clarity\n",
    "y_test_onehot = pd.get_dummies(y_test, prefix='label_')\n",
    "y_pred_onehot = pd.get_dummies(y_pred, prefix='label_')\n",
    "\n",
    "# ROC AUC score with multiclass handling\n",
    "roc_auc_macro = roc_auc_score(y_test_onehot, y_pred_onehot,\n",
    "                              average='macro', multi_class='ovo')  # Specify 'ovo' or 'ovr'\n",
    "\n",
    "print(\"accuracy:\", accuracy)\n",
    "print(\"recall:\", recall)\n",
    "print(\"precision:\", precision)\n",
    "print(\"f1-score:\", f1)\n",
    "print('roc_auc: ', roc_auc_macro)"
   ]
  },
  {
   "cell_type": "markdown",
   "id": "1d27a12a",
   "metadata": {
    "papermill": {
     "duration": 0.050911,
     "end_time": "2024-02-22T15:50:19.195520",
     "exception": false,
     "start_time": "2024-02-22T15:50:19.144609",
     "status": "completed"
    },
    "tags": []
   },
   "source": [
    "# Decision Tree"
   ]
  },
  {
   "cell_type": "markdown",
   "id": "26db8c91",
   "metadata": {
    "papermill": {
     "duration": 0.04927,
     "end_time": "2024-02-22T15:50:19.294939",
     "exception": false,
     "start_time": "2024-02-22T15:50:19.245669",
     "status": "completed"
    },
    "tags": []
   },
   "source": [
    "**Normal**"
   ]
  },
  {
   "cell_type": "code",
   "execution_count": 31,
   "id": "6e84ed8f",
   "metadata": {
    "execution": {
     "iopub.execute_input": "2024-02-22T15:50:19.400493Z",
     "iopub.status.busy": "2024-02-22T15:50:19.400006Z",
     "iopub.status.idle": "2024-02-22T15:50:19.515122Z",
     "shell.execute_reply": "2024-02-22T15:50:19.513944Z"
    },
    "papermill": {
     "duration": 0.171266,
     "end_time": "2024-02-22T15:50:19.517537",
     "exception": false,
     "start_time": "2024-02-22T15:50:19.346271",
     "status": "completed"
    },
    "tags": []
   },
   "outputs": [
    {
     "name": "stdout",
     "output_type": "stream",
     "text": [
      "accuracy: 0.6\n",
      "recall: 0.55\n",
      "precision: 0.5641666666666667\n",
      "f1-score: 0.5229761904761905\n",
      "roc_auc:  0.5452392744810545\n",
      "accuracy: 1.0\n",
      "recall: 1.0\n",
      "precision: 1.0\n",
      "f1-score: 1.0\n",
      "roc_auc:  1.0\n"
     ]
    }
   ],
   "source": [
    "from sklearn.tree import DecisionTreeClassifier\n",
    "\n",
    "dt = DecisionTreeClassifier(random_state=42)\n",
    "dt.fit(X_train_reduced, y_train)\n",
    "y_pred = dt.predict(X_test_reduced)\n",
    "\n",
    "accuracy = accuracy_score(y_test, y_pred)\n",
    "precision = precision_score(y_test, y_pred, average='macro')\n",
    "recall = recall_score(y_test, y_pred, average='macro')\n",
    "f1 = f1_score(y_test, y_pred, average='macro')\n",
    "\n",
    "# One-hot encoding for probability calculation (adapt if necessary)\n",
    "# Assuming 'label_' prefix for clarity\n",
    "y_test_onehot = pd.get_dummies(y_test, prefix='label_')\n",
    "y_pred_onehot = pd.get_dummies(y_pred, prefix='label_')\n",
    "\n",
    "# ROC AUC score with multiclass handling\n",
    "roc_auc_macro = roc_auc_score(y_test_onehot, y_pred_onehot,\n",
    "                              average='macro', multi_class='ovo')  # Specify 'ovo' or 'ovr'\n",
    "\n",
    "print(\"accuracy:\", accuracy)\n",
    "print(\"recall:\", recall)\n",
    "print(\"precision:\", precision)\n",
    "print(\"f1-score:\", f1)\n",
    "print('roc_auc: ', roc_auc_macro)\n",
    "\n",
    "svm = SVC(kernel='linear')\n",
    "svm.fit(X_train_reduced, y_train)\n",
    "y_pred = svm.predict(X_test_reduced)\n",
    "\n",
    "accuracy = accuracy_score(y_test, y_pred)\n",
    "precision = precision_score(y_test, y_pred, average='macro')\n",
    "recall = recall_score(y_test, y_pred, average='macro')\n",
    "f1 = f1_score(y_test, y_pred, average='macro')\n",
    "\n",
    "# One-hot encoding for probability calculation (adapt if necessary)\n",
    "# Assuming 'label_' prefix for clarity\n",
    "y_test_onehot = pd.get_dummies(y_test, prefix='label_')\n",
    "y_pred_onehot = pd.get_dummies(y_pred, prefix='label_')\n",
    "\n",
    "# ROC AUC score with multiclass handling\n",
    "roc_auc_macro = roc_auc_score(y_test_onehot, y_pred_onehot,\n",
    "                              average='macro', multi_class='ovo')  # Specify 'ovo' or 'ovr'\n",
    "\n",
    "print(\"accuracy:\", accuracy)\n",
    "print(\"recall:\", recall)\n",
    "print(\"precision:\", precision)\n",
    "print(\"f1-score:\", f1)\n",
    "print('roc_auc: ', roc_auc_macro)"
   ]
  },
  {
   "cell_type": "markdown",
   "id": "9928cbd8",
   "metadata": {
    "papermill": {
     "duration": 0.048423,
     "end_time": "2024-02-22T15:50:19.615529",
     "exception": false,
     "start_time": "2024-02-22T15:50:19.567106",
     "status": "completed"
    },
    "tags": []
   },
   "source": [
    "**Tunning**"
   ]
  },
  {
   "cell_type": "code",
   "execution_count": 32,
   "id": "4798f65d",
   "metadata": {
    "execution": {
     "iopub.execute_input": "2024-02-22T15:50:19.715031Z",
     "iopub.status.busy": "2024-02-22T15:50:19.714609Z",
     "iopub.status.idle": "2024-02-22T15:50:19.722071Z",
     "shell.execute_reply": "2024-02-22T15:50:19.720790Z"
    },
    "papermill": {
     "duration": 0.060129,
     "end_time": "2024-02-22T15:50:19.724365",
     "exception": false,
     "start_time": "2024-02-22T15:50:19.664236",
     "status": "completed"
    },
    "tags": []
   },
   "outputs": [],
   "source": [
    "import optuna\n",
    "from sklearn.model_selection import cross_val_score\n",
    "import warnings\n",
    "warnings.filterwarnings('ignore')\n",
    "\n",
    "\n",
    "def objective(trial):\n",
    "    hyperparams = {\n",
    "        \"max_depth\" : trial.suggest_int(\"max_depth\", 2, 10),\n",
    "        \"min_samples_split\" : trial.suggest_int(\"min_samples_split\", 2, 20),\n",
    "        \"min_samples_leaf\" : trial.suggest_int(\"min_samples_leaf\", 1, 10),\n",
    "        \"criterion\" : trial.suggest_categorical(\"criterion\", [\"gini\", \"entropy\"]),\n",
    "        'random_state': trial.suggest_categorical('random_state', [42])\n",
    "        \n",
    "\n",
    "    }\n",
    "\n",
    "    # Create KNN model with tuned hyperparameters\n",
    "    model = DecisionTreeClassifier(**hyperparams)\n",
    "    scores = cross_val_score(model, X_train_reduced,\n",
    "                             y_train, cv=kf, scoring='accuracy')\n",
    "    return np.mean(scores)"
   ]
  },
  {
   "cell_type": "code",
   "execution_count": 33,
   "id": "95f664f7",
   "metadata": {
    "execution": {
     "iopub.execute_input": "2024-02-22T15:50:19.826745Z",
     "iopub.status.busy": "2024-02-22T15:50:19.826307Z",
     "iopub.status.idle": "2024-02-22T15:50:40.160909Z",
     "shell.execute_reply": "2024-02-22T15:50:40.159231Z"
    },
    "papermill": {
     "duration": 20.389073,
     "end_time": "2024-02-22T15:50:40.163464",
     "exception": false,
     "start_time": "2024-02-22T15:50:19.774391",
     "status": "completed"
    },
    "tags": []
   },
   "outputs": [
    {
     "name": "stderr",
     "output_type": "stream",
     "text": [
      "[I 2024-02-22 15:50:19,831] A new study created in memory with name: no-name-4529fd08-8eab-43b7-8bf4-a15623c6378e\n",
      "[I 2024-02-22 15:50:19,999] Trial 0 finished with value: 0.328125 and parameters: {'max_depth': 5, 'min_samples_split': 9, 'min_samples_leaf': 8, 'criterion': 'entropy', 'random_state': 42}. Best is trial 0 with value: 0.328125.\n",
      "[I 2024-02-22 15:50:20,065] Trial 1 finished with value: 0.23125 and parameters: {'max_depth': 6, 'min_samples_split': 15, 'min_samples_leaf': 9, 'criterion': 'gini', 'random_state': 42}. Best is trial 0 with value: 0.328125.\n",
      "[I 2024-02-22 15:50:20,257] Trial 2 finished with value: 0.2625 and parameters: {'max_depth': 5, 'min_samples_split': 18, 'min_samples_leaf': 2, 'criterion': 'entropy', 'random_state': 42}. Best is trial 0 with value: 0.328125.\n",
      "[I 2024-02-22 15:50:20,427] Trial 3 finished with value: 0.259375 and parameters: {'max_depth': 7, 'min_samples_split': 19, 'min_samples_leaf': 7, 'criterion': 'entropy', 'random_state': 42}. Best is trial 0 with value: 0.328125.\n",
      "[I 2024-02-22 15:50:20,601] Trial 4 finished with value: 0.20625 and parameters: {'max_depth': 4, 'min_samples_split': 2, 'min_samples_leaf': 4, 'criterion': 'entropy', 'random_state': 42}. Best is trial 0 with value: 0.328125.\n",
      "[I 2024-02-22 15:50:20,768] Trial 5 finished with value: 0.209375 and parameters: {'max_depth': 4, 'min_samples_split': 20, 'min_samples_leaf': 8, 'criterion': 'entropy', 'random_state': 42}. Best is trial 0 with value: 0.328125.\n",
      "[I 2024-02-22 15:50:20,828] Trial 6 finished with value: 0.109375 and parameters: {'max_depth': 4, 'min_samples_split': 11, 'min_samples_leaf': 8, 'criterion': 'gini', 'random_state': 42}. Best is trial 0 with value: 0.328125.\n",
      "[I 2024-02-22 15:50:21,005] Trial 7 finished with value: 0.246875 and parameters: {'max_depth': 5, 'min_samples_split': 4, 'min_samples_leaf': 10, 'criterion': 'entropy', 'random_state': 42}. Best is trial 0 with value: 0.328125.\n",
      "[I 2024-02-22 15:50:21,214] Trial 8 finished with value: 0.5125 and parameters: {'max_depth': 9, 'min_samples_split': 2, 'min_samples_leaf': 2, 'criterion': 'entropy', 'random_state': 42}. Best is trial 8 with value: 0.5125.\n",
      "[I 2024-02-22 15:50:21,256] Trial 9 finished with value: 0.028125 and parameters: {'max_depth': 2, 'min_samples_split': 6, 'min_samples_leaf': 2, 'criterion': 'gini', 'random_state': 42}. Best is trial 8 with value: 0.5125.\n",
      "[I 2024-02-22 15:50:21,361] Trial 10 finished with value: 0.4 and parameters: {'max_depth': 10, 'min_samples_split': 7, 'min_samples_leaf': 4, 'criterion': 'gini', 'random_state': 42}. Best is trial 8 with value: 0.5125.\n",
      "[I 2024-02-22 15:50:21,470] Trial 11 finished with value: 0.4 and parameters: {'max_depth': 10, 'min_samples_split': 7, 'min_samples_leaf': 4, 'criterion': 'gini', 'random_state': 42}. Best is trial 8 with value: 0.5125.\n",
      "[I 2024-02-22 15:50:21,585] Trial 12 finished with value: 0.428125 and parameters: {'max_depth': 10, 'min_samples_split': 2, 'min_samples_leaf': 1, 'criterion': 'gini', 'random_state': 42}. Best is trial 8 with value: 0.5125.\n",
      "[I 2024-02-22 15:50:21,690] Trial 13 finished with value: 0.38125 and parameters: {'max_depth': 8, 'min_samples_split': 2, 'min_samples_leaf': 1, 'criterion': 'gini', 'random_state': 42}. Best is trial 8 with value: 0.5125.\n",
      "[I 2024-02-22 15:50:21,930] Trial 14 finished with value: 0.54375 and parameters: {'max_depth': 9, 'min_samples_split': 4, 'min_samples_leaf': 1, 'criterion': 'entropy', 'random_state': 42}. Best is trial 14 with value: 0.54375.\n",
      "[I 2024-02-22 15:50:22,147] Trial 15 finished with value: 0.496875 and parameters: {'max_depth': 8, 'min_samples_split': 5, 'min_samples_leaf': 3, 'criterion': 'entropy', 'random_state': 42}. Best is trial 14 with value: 0.54375.\n",
      "[I 2024-02-22 15:50:22,342] Trial 16 finished with value: 0.378125 and parameters: {'max_depth': 8, 'min_samples_split': 14, 'min_samples_leaf': 6, 'criterion': 'entropy', 'random_state': 42}. Best is trial 14 with value: 0.54375.\n",
      "[I 2024-02-22 15:50:22,584] Trial 17 finished with value: 0.478125 and parameters: {'max_depth': 9, 'min_samples_split': 9, 'min_samples_leaf': 2, 'criterion': 'entropy', 'random_state': 42}. Best is trial 14 with value: 0.54375.\n",
      "[I 2024-02-22 15:50:22,803] Trial 18 finished with value: 0.453125 and parameters: {'max_depth': 9, 'min_samples_split': 5, 'min_samples_leaf': 5, 'criterion': 'entropy', 'random_state': 42}. Best is trial 14 with value: 0.54375.\n",
      "[I 2024-02-22 15:50:23,050] Trial 19 finished with value: 0.553125 and parameters: {'max_depth': 7, 'min_samples_split': 4, 'min_samples_leaf': 1, 'criterion': 'entropy', 'random_state': 42}. Best is trial 19 with value: 0.553125.\n",
      "[I 2024-02-22 15:50:23,284] Trial 20 finished with value: 0.484375 and parameters: {'max_depth': 7, 'min_samples_split': 9, 'min_samples_leaf': 1, 'criterion': 'entropy', 'random_state': 42}. Best is trial 19 with value: 0.553125.\n",
      "[I 2024-02-22 15:50:23,499] Trial 21 finished with value: 0.496875 and parameters: {'max_depth': 9, 'min_samples_split': 3, 'min_samples_leaf': 3, 'criterion': 'entropy', 'random_state': 42}. Best is trial 19 with value: 0.553125.\n",
      "[I 2024-02-22 15:50:23,731] Trial 22 finished with value: 0.553125 and parameters: {'max_depth': 7, 'min_samples_split': 4, 'min_samples_leaf': 1, 'criterion': 'entropy', 'random_state': 42}. Best is trial 19 with value: 0.553125.\n",
      "[I 2024-02-22 15:50:23,965] Trial 23 finished with value: 0.553125 and parameters: {'max_depth': 7, 'min_samples_split': 4, 'min_samples_leaf': 1, 'criterion': 'entropy', 'random_state': 42}. Best is trial 19 with value: 0.553125.\n",
      "[I 2024-02-22 15:50:24,182] Trial 24 finished with value: 0.490625 and parameters: {'max_depth': 7, 'min_samples_split': 7, 'min_samples_leaf': 3, 'criterion': 'entropy', 'random_state': 42}. Best is trial 19 with value: 0.553125.\n",
      "[I 2024-02-22 15:50:24,412] Trial 25 finished with value: 0.434375 and parameters: {'max_depth': 6, 'min_samples_split': 11, 'min_samples_leaf': 1, 'criterion': 'entropy', 'random_state': 42}. Best is trial 19 with value: 0.553125.\n",
      "[I 2024-02-22 15:50:24,632] Trial 26 finished with value: 0.478125 and parameters: {'max_depth': 6, 'min_samples_split': 4, 'min_samples_leaf': 3, 'criterion': 'entropy', 'random_state': 42}. Best is trial 19 with value: 0.553125.\n",
      "[I 2024-02-22 15:50:24,849] Trial 27 finished with value: 0.409375 and parameters: {'max_depth': 7, 'min_samples_split': 13, 'min_samples_leaf': 2, 'criterion': 'entropy', 'random_state': 42}. Best is trial 19 with value: 0.553125.\n",
      "[I 2024-02-22 15:50:25,059] Trial 28 finished with value: 0.440625 and parameters: {'max_depth': 6, 'min_samples_split': 6, 'min_samples_leaf': 5, 'criterion': 'entropy', 'random_state': 42}. Best is trial 19 with value: 0.553125.\n",
      "[I 2024-02-22 15:50:25,292] Trial 29 finished with value: 0.484375 and parameters: {'max_depth': 8, 'min_samples_split': 8, 'min_samples_leaf': 1, 'criterion': 'entropy', 'random_state': 42}. Best is trial 19 with value: 0.553125.\n",
      "[I 2024-02-22 15:50:25,515] Trial 30 finished with value: 0.478125 and parameters: {'max_depth': 7, 'min_samples_split': 9, 'min_samples_leaf': 2, 'criterion': 'entropy', 'random_state': 42}. Best is trial 19 with value: 0.553125.\n",
      "[I 2024-02-22 15:50:25,752] Trial 31 finished with value: 0.54375 and parameters: {'max_depth': 8, 'min_samples_split': 4, 'min_samples_leaf': 1, 'criterion': 'entropy', 'random_state': 42}. Best is trial 19 with value: 0.553125.\n",
      "[I 2024-02-22 15:50:25,986] Trial 32 finished with value: 0.5 and parameters: {'max_depth': 6, 'min_samples_split': 5, 'min_samples_leaf': 1, 'criterion': 'entropy', 'random_state': 42}. Best is trial 19 with value: 0.553125.\n",
      "[I 2024-02-22 15:50:26,202] Trial 33 finished with value: 0.359375 and parameters: {'max_depth': 5, 'min_samples_split': 3, 'min_samples_leaf': 2, 'criterion': 'entropy', 'random_state': 42}. Best is trial 19 with value: 0.553125.\n",
      "[I 2024-02-22 15:50:26,408] Trial 34 finished with value: 0.328125 and parameters: {'max_depth': 7, 'min_samples_split': 16, 'min_samples_leaf': 3, 'criterion': 'entropy', 'random_state': 42}. Best is trial 19 with value: 0.553125.\n",
      "[I 2024-02-22 15:50:26,558] Trial 35 finished with value: 0.025 and parameters: {'max_depth': 2, 'min_samples_split': 6, 'min_samples_leaf': 1, 'criterion': 'entropy', 'random_state': 42}. Best is trial 19 with value: 0.553125.\n",
      "[I 2024-02-22 15:50:26,784] Trial 36 finished with value: 0.5125 and parameters: {'max_depth': 8, 'min_samples_split': 3, 'min_samples_leaf': 2, 'criterion': 'entropy', 'random_state': 42}. Best is trial 19 with value: 0.553125.\n",
      "[I 2024-02-22 15:50:27,016] Trial 37 finished with value: 0.553125 and parameters: {'max_depth': 7, 'min_samples_split': 4, 'min_samples_leaf': 1, 'criterion': 'entropy', 'random_state': 42}. Best is trial 19 with value: 0.553125.\n",
      "[I 2024-02-22 15:50:27,218] Trial 38 finished with value: 0.41875 and parameters: {'max_depth': 7, 'min_samples_split': 5, 'min_samples_leaf': 6, 'criterion': 'entropy', 'random_state': 42}. Best is trial 19 with value: 0.553125.\n",
      "[I 2024-02-22 15:50:27,398] Trial 39 finished with value: 0.265625 and parameters: {'max_depth': 5, 'min_samples_split': 8, 'min_samples_leaf': 9, 'criterion': 'entropy', 'random_state': 42}. Best is trial 19 with value: 0.553125.\n",
      "[I 2024-02-22 15:50:27,488] Trial 40 finished with value: 0.265625 and parameters: {'max_depth': 6, 'min_samples_split': 3, 'min_samples_leaf': 7, 'criterion': 'gini', 'random_state': 42}. Best is trial 19 with value: 0.553125.\n",
      "[I 2024-02-22 15:50:27,719] Trial 41 finished with value: 0.553125 and parameters: {'max_depth': 7, 'min_samples_split': 4, 'min_samples_leaf': 1, 'criterion': 'entropy', 'random_state': 42}. Best is trial 19 with value: 0.553125.\n",
      "[I 2024-02-22 15:50:27,943] Trial 42 finished with value: 0.509375 and parameters: {'max_depth': 7, 'min_samples_split': 4, 'min_samples_leaf': 2, 'criterion': 'entropy', 'random_state': 42}. Best is trial 19 with value: 0.553125.\n",
      "[I 2024-02-22 15:50:28,174] Trial 43 finished with value: 0.521875 and parameters: {'max_depth': 7, 'min_samples_split': 6, 'min_samples_leaf': 1, 'criterion': 'entropy', 'random_state': 42}. Best is trial 19 with value: 0.553125.\n",
      "[I 2024-02-22 15:50:28,404] Trial 44 finished with value: 0.475 and parameters: {'max_depth': 6, 'min_samples_split': 2, 'min_samples_leaf': 2, 'criterion': 'entropy', 'random_state': 42}. Best is trial 19 with value: 0.553125.\n",
      "[I 2024-02-22 15:50:28,636] Trial 45 finished with value: 0.53125 and parameters: {'max_depth': 8, 'min_samples_split': 5, 'min_samples_leaf': 1, 'criterion': 'entropy', 'random_state': 42}. Best is trial 19 with value: 0.553125.\n",
      "[I 2024-02-22 15:50:28,727] Trial 46 finished with value: 0.18125 and parameters: {'max_depth': 5, 'min_samples_split': 7, 'min_samples_leaf': 2, 'criterion': 'gini', 'random_state': 42}. Best is trial 19 with value: 0.553125.\n",
      "[I 2024-02-22 15:50:28,923] Trial 47 finished with value: 0.20625 and parameters: {'max_depth': 4, 'min_samples_split': 17, 'min_samples_leaf': 4, 'criterion': 'entropy', 'random_state': 42}. Best is trial 19 with value: 0.553125.\n",
      "[I 2024-02-22 15:50:29,139] Trial 48 finished with value: 0.503125 and parameters: {'max_depth': 7, 'min_samples_split': 3, 'min_samples_leaf': 3, 'criterion': 'entropy', 'random_state': 42}. Best is trial 19 with value: 0.553125.\n",
      "[I 2024-02-22 15:50:29,250] Trial 49 finished with value: 0.346875 and parameters: {'max_depth': 8, 'min_samples_split': 12, 'min_samples_leaf': 1, 'criterion': 'gini', 'random_state': 42}. Best is trial 19 with value: 0.553125.\n",
      "[I 2024-02-22 15:50:29,435] Trial 50 finished with value: 0.25625 and parameters: {'max_depth': 6, 'min_samples_split': 2, 'min_samples_leaf': 10, 'criterion': 'entropy', 'random_state': 42}. Best is trial 19 with value: 0.553125.\n",
      "[I 2024-02-22 15:50:29,667] Trial 51 finished with value: 0.54375 and parameters: {'max_depth': 9, 'min_samples_split': 4, 'min_samples_leaf': 1, 'criterion': 'entropy', 'random_state': 42}. Best is trial 19 with value: 0.553125.\n",
      "[I 2024-02-22 15:50:29,902] Trial 52 finished with value: 0.54375 and parameters: {'max_depth': 10, 'min_samples_split': 4, 'min_samples_leaf': 1, 'criterion': 'entropy', 'random_state': 42}. Best is trial 19 with value: 0.553125.\n",
      "[I 2024-02-22 15:50:30,125] Trial 53 finished with value: 0.490625 and parameters: {'max_depth': 7, 'min_samples_split': 6, 'min_samples_leaf': 2, 'criterion': 'entropy', 'random_state': 42}. Best is trial 19 with value: 0.553125.\n",
      "[I 2024-02-22 15:50:30,359] Trial 54 finished with value: 0.53125 and parameters: {'max_depth': 9, 'min_samples_split': 5, 'min_samples_leaf': 1, 'criterion': 'entropy', 'random_state': 42}. Best is trial 19 with value: 0.553125.\n",
      "[I 2024-02-22 15:50:30,587] Trial 55 finished with value: 0.5125 and parameters: {'max_depth': 8, 'min_samples_split': 3, 'min_samples_leaf': 2, 'criterion': 'entropy', 'random_state': 42}. Best is trial 19 with value: 0.553125.\n",
      "[I 2024-02-22 15:50:30,810] Trial 56 finished with value: 0.371875 and parameters: {'max_depth': 5, 'min_samples_split': 10, 'min_samples_leaf': 1, 'criterion': 'entropy', 'random_state': 42}. Best is trial 19 with value: 0.553125.\n",
      "[I 2024-02-22 15:50:31,056] Trial 57 finished with value: 0.5125 and parameters: {'max_depth': 8, 'min_samples_split': 2, 'min_samples_leaf': 2, 'criterion': 'entropy', 'random_state': 42}. Best is trial 19 with value: 0.553125.\n",
      "[I 2024-02-22 15:50:31,158] Trial 58 finished with value: 0.29375 and parameters: {'max_depth': 7, 'min_samples_split': 8, 'min_samples_leaf': 3, 'criterion': 'gini', 'random_state': 42}. Best is trial 19 with value: 0.553125.\n",
      "[I 2024-02-22 15:50:31,390] Trial 59 finished with value: 0.5 and parameters: {'max_depth': 6, 'min_samples_split': 5, 'min_samples_leaf': 1, 'criterion': 'entropy', 'random_state': 42}. Best is trial 19 with value: 0.553125.\n",
      "[I 2024-02-22 15:50:31,590] Trial 60 finished with value: 0.20625 and parameters: {'max_depth': 4, 'min_samples_split': 20, 'min_samples_leaf': 1, 'criterion': 'entropy', 'random_state': 42}. Best is trial 19 with value: 0.553125.\n",
      "[I 2024-02-22 15:50:31,823] Trial 61 finished with value: 0.54375 and parameters: {'max_depth': 8, 'min_samples_split': 4, 'min_samples_leaf': 1, 'criterion': 'entropy', 'random_state': 42}. Best is trial 19 with value: 0.553125.\n",
      "[I 2024-02-22 15:50:32,060] Trial 62 finished with value: 0.54375 and parameters: {'max_depth': 9, 'min_samples_split': 4, 'min_samples_leaf': 1, 'criterion': 'entropy', 'random_state': 42}. Best is trial 19 with value: 0.553125.\n",
      "[I 2024-02-22 15:50:32,290] Trial 63 finished with value: 0.5125 and parameters: {'max_depth': 8, 'min_samples_split': 3, 'min_samples_leaf': 2, 'criterion': 'entropy', 'random_state': 42}. Best is trial 19 with value: 0.553125.\n",
      "[I 2024-02-22 15:50:32,526] Trial 64 finished with value: 0.521875 and parameters: {'max_depth': 7, 'min_samples_split': 6, 'min_samples_leaf': 1, 'criterion': 'entropy', 'random_state': 42}. Best is trial 19 with value: 0.553125.\n",
      "[I 2024-02-22 15:50:32,755] Trial 65 finished with value: 0.5125 and parameters: {'max_depth': 9, 'min_samples_split': 4, 'min_samples_leaf': 2, 'criterion': 'entropy', 'random_state': 42}. Best is trial 19 with value: 0.553125.\n",
      "[I 2024-02-22 15:50:32,987] Trial 66 finished with value: 0.490625 and parameters: {'max_depth': 7, 'min_samples_split': 7, 'min_samples_leaf': 1, 'criterion': 'entropy', 'random_state': 42}. Best is trial 19 with value: 0.553125.\n",
      "[I 2024-02-22 15:50:33,217] Trial 67 finished with value: 0.5125 and parameters: {'max_depth': 8, 'min_samples_split': 5, 'min_samples_leaf': 2, 'criterion': 'entropy', 'random_state': 42}. Best is trial 19 with value: 0.553125.\n",
      "[I 2024-02-22 15:50:33,433] Trial 68 finished with value: 0.45625 and parameters: {'max_depth': 7, 'min_samples_split': 3, 'min_samples_leaf': 4, 'criterion': 'entropy', 'random_state': 42}. Best is trial 19 with value: 0.553125.\n",
      "[I 2024-02-22 15:50:33,669] Trial 69 finished with value: 0.5125 and parameters: {'max_depth': 8, 'min_samples_split': 2, 'min_samples_leaf': 1, 'criterion': 'entropy', 'random_state': 42}. Best is trial 19 with value: 0.553125.\n",
      "[I 2024-02-22 15:50:33,769] Trial 70 finished with value: 0.375 and parameters: {'max_depth': 10, 'min_samples_split': 4, 'min_samples_leaf': 7, 'criterion': 'gini', 'random_state': 42}. Best is trial 19 with value: 0.553125.\n",
      "[I 2024-02-22 15:50:34,001] Trial 71 finished with value: 0.54375 and parameters: {'max_depth': 9, 'min_samples_split': 4, 'min_samples_leaf': 1, 'criterion': 'entropy', 'random_state': 42}. Best is trial 19 with value: 0.553125.\n",
      "[I 2024-02-22 15:50:34,235] Trial 72 finished with value: 0.53125 and parameters: {'max_depth': 10, 'min_samples_split': 5, 'min_samples_leaf': 1, 'criterion': 'entropy', 'random_state': 42}. Best is trial 19 with value: 0.553125.\n",
      "[I 2024-02-22 15:50:34,465] Trial 73 finished with value: 0.515625 and parameters: {'max_depth': 9, 'min_samples_split': 6, 'min_samples_leaf': 1, 'criterion': 'entropy', 'random_state': 42}. Best is trial 19 with value: 0.553125.\n",
      "[I 2024-02-22 15:50:34,696] Trial 74 finished with value: 0.5125 and parameters: {'max_depth': 9, 'min_samples_split': 3, 'min_samples_leaf': 2, 'criterion': 'entropy', 'random_state': 42}. Best is trial 19 with value: 0.553125.\n",
      "[I 2024-02-22 15:50:34,932] Trial 75 finished with value: 0.54375 and parameters: {'max_depth': 8, 'min_samples_split': 4, 'min_samples_leaf': 1, 'criterion': 'entropy', 'random_state': 42}. Best is trial 19 with value: 0.553125.\n",
      "[I 2024-02-22 15:50:35,162] Trial 76 finished with value: 0.515625 and parameters: {'max_depth': 7, 'min_samples_split': 5, 'min_samples_leaf': 2, 'criterion': 'entropy', 'random_state': 42}. Best is trial 19 with value: 0.553125.\n",
      "[I 2024-02-22 15:50:35,391] Trial 77 finished with value: 0.484375 and parameters: {'max_depth': 6, 'min_samples_split': 6, 'min_samples_leaf': 1, 'criterion': 'entropy', 'random_state': 42}. Best is trial 19 with value: 0.553125.\n",
      "[I 2024-02-22 15:50:35,572] Trial 78 finished with value: 0.28125 and parameters: {'max_depth': 7, 'min_samples_split': 3, 'min_samples_leaf': 9, 'criterion': 'entropy', 'random_state': 42}. Best is trial 19 with value: 0.553125.\n",
      "[I 2024-02-22 15:50:35,796] Trial 79 finished with value: 0.475 and parameters: {'max_depth': 6, 'min_samples_split': 2, 'min_samples_leaf': 2, 'criterion': 'entropy', 'random_state': 42}. Best is trial 19 with value: 0.553125.\n",
      "[I 2024-02-22 15:50:36,015] Trial 80 finished with value: 0.49375 and parameters: {'max_depth': 8, 'min_samples_split': 7, 'min_samples_leaf': 3, 'criterion': 'entropy', 'random_state': 42}. Best is trial 19 with value: 0.553125.\n",
      "[I 2024-02-22 15:50:36,253] Trial 81 finished with value: 0.54375 and parameters: {'max_depth': 10, 'min_samples_split': 4, 'min_samples_leaf': 1, 'criterion': 'entropy', 'random_state': 42}. Best is trial 19 with value: 0.553125.\n",
      "[I 2024-02-22 15:50:36,489] Trial 82 finished with value: 0.54375 and parameters: {'max_depth': 10, 'min_samples_split': 4, 'min_samples_leaf': 1, 'criterion': 'entropy', 'random_state': 42}. Best is trial 19 with value: 0.553125.\n",
      "[I 2024-02-22 15:50:36,722] Trial 83 finished with value: 0.53125 and parameters: {'max_depth': 10, 'min_samples_split': 5, 'min_samples_leaf': 1, 'criterion': 'entropy', 'random_state': 42}. Best is trial 19 with value: 0.553125.\n",
      "[I 2024-02-22 15:50:36,954] Trial 84 finished with value: 0.54375 and parameters: {'max_depth': 9, 'min_samples_split': 3, 'min_samples_leaf': 1, 'criterion': 'entropy', 'random_state': 42}. Best is trial 19 with value: 0.553125.\n",
      "[I 2024-02-22 15:50:37,181] Trial 85 finished with value: 0.5125 and parameters: {'max_depth': 9, 'min_samples_split': 4, 'min_samples_leaf': 2, 'criterion': 'entropy', 'random_state': 42}. Best is trial 19 with value: 0.553125.\n",
      "[I 2024-02-22 15:50:37,285] Trial 86 finished with value: 0.271875 and parameters: {'max_depth': 7, 'min_samples_split': 14, 'min_samples_leaf': 1, 'criterion': 'gini', 'random_state': 42}. Best is trial 19 with value: 0.553125.\n",
      "[I 2024-02-22 15:50:37,468] Trial 87 finished with value: 0.075 and parameters: {'max_depth': 3, 'min_samples_split': 5, 'min_samples_leaf': 1, 'criterion': 'entropy', 'random_state': 42}. Best is trial 19 with value: 0.553125.\n",
      "[I 2024-02-22 15:50:37,696] Trial 88 finished with value: 0.5125 and parameters: {'max_depth': 8, 'min_samples_split': 3, 'min_samples_leaf': 2, 'criterion': 'entropy', 'random_state': 42}. Best is trial 19 with value: 0.553125.\n",
      "[I 2024-02-22 15:50:37,928] Trial 89 finished with value: 0.5125 and parameters: {'max_depth': 10, 'min_samples_split': 2, 'min_samples_leaf': 1, 'criterion': 'entropy', 'random_state': 42}. Best is trial 19 with value: 0.553125.\n",
      "[I 2024-02-22 15:50:38,154] Trial 90 finished with value: 0.515625 and parameters: {'max_depth': 7, 'min_samples_split': 5, 'min_samples_leaf': 2, 'criterion': 'entropy', 'random_state': 42}. Best is trial 19 with value: 0.553125.\n",
      "[I 2024-02-22 15:50:38,388] Trial 91 finished with value: 0.54375 and parameters: {'max_depth': 8, 'min_samples_split': 4, 'min_samples_leaf': 1, 'criterion': 'entropy', 'random_state': 42}. Best is trial 19 with value: 0.553125.\n",
      "[I 2024-02-22 15:50:38,619] Trial 92 finished with value: 0.553125 and parameters: {'max_depth': 7, 'min_samples_split': 4, 'min_samples_leaf': 1, 'criterion': 'entropy', 'random_state': 42}. Best is trial 19 with value: 0.553125.\n",
      "[I 2024-02-22 15:50:38,851] Trial 93 finished with value: 0.521875 and parameters: {'max_depth': 7, 'min_samples_split': 6, 'min_samples_leaf': 1, 'criterion': 'entropy', 'random_state': 42}. Best is trial 19 with value: 0.553125.\n",
      "[I 2024-02-22 15:50:39,060] Trial 94 finished with value: 0.259375 and parameters: {'max_depth': 7, 'min_samples_split': 19, 'min_samples_leaf': 1, 'criterion': 'entropy', 'random_state': 42}. Best is trial 19 with value: 0.553125.\n",
      "[I 2024-02-22 15:50:39,269] Trial 95 finished with value: 0.440625 and parameters: {'max_depth': 6, 'min_samples_split': 4, 'min_samples_leaf': 5, 'criterion': 'entropy', 'random_state': 42}. Best is trial 19 with value: 0.553125.\n",
      "[I 2024-02-22 15:50:39,508] Trial 96 finished with value: 0.51875 and parameters: {'max_depth': 7, 'min_samples_split': 3, 'min_samples_leaf': 1, 'criterion': 'entropy', 'random_state': 42}. Best is trial 19 with value: 0.553125.\n",
      "[I 2024-02-22 15:50:39,741] Trial 97 finished with value: 0.54375 and parameters: {'max_depth': 9, 'min_samples_split': 4, 'min_samples_leaf': 1, 'criterion': 'entropy', 'random_state': 42}. Best is trial 19 with value: 0.553125.\n",
      "[I 2024-02-22 15:50:39,968] Trial 98 finished with value: 0.515625 and parameters: {'max_depth': 7, 'min_samples_split': 5, 'min_samples_leaf': 2, 'criterion': 'entropy', 'random_state': 42}. Best is trial 19 with value: 0.553125.\n",
      "[I 2024-02-22 15:50:40,073] Trial 99 finished with value: 0.240625 and parameters: {'max_depth': 6, 'min_samples_split': 3, 'min_samples_leaf': 1, 'criterion': 'gini', 'random_state': 42}. Best is trial 19 with value: 0.553125.\n"
     ]
    },
    {
     "name": "stdout",
     "output_type": "stream",
     "text": [
      "Best params found : {'max_depth': 7, 'min_samples_split': 4, 'min_samples_leaf': 1, 'criterion': 'entropy', 'random_state': 42}\n",
      "accuracy: 0.6875\n",
      "recall: 0.7361111111111112\n",
      "precision: 0.7138888888888889\n",
      "f1-score: 0.6833633958633959\n",
      "roc_auc:  0.5365064934594339\n"
     ]
    }
   ],
   "source": [
    "study = optuna.create_study(direction='maximize')\n",
    "study.optimize(objective, n_trials=100)\n",
    "best_params = study.best_params\n",
    "print(\"Best params found :\", best_params)\n",
    "\n",
    "final_model = DecisionTreeClassifier(**best_params)\n",
    "final_model.fit(X_train_reduced, y_train)\n",
    "y_pred = final_model.predict(X_test_reduced)\n",
    "prediction_results['decison tree'] = list(y_pred)\n",
    "\n",
    "accuracy = accuracy_score(y_test, y_pred)\n",
    "precision = precision_score(y_test, y_pred, average='macro')\n",
    "recall = recall_score(y_test, y_pred, average='macro')\n",
    "f1 = f1_score(y_test, y_pred, average='macro')\n",
    "\n",
    "# One-hot encoding for probability calculation (adapt if necessary)\n",
    "# Assuming 'label_' prefix for clarity\n",
    "y_test_onehot = pd.get_dummies(y_test, prefix='label_')\n",
    "y_pred_onehot = pd.get_dummies(y_pred, prefix='label_')\n",
    "\n",
    "# ROC AUC score with multiclass handling\n",
    "roc_auc_macro = roc_auc_score(y_test_onehot, y_pred_onehot,\n",
    "                              average='macro', multi_class='ovo')  # Specify 'ovo' or 'ovr'\n",
    "\n",
    "print(\"accuracy:\", accuracy)\n",
    "print(\"recall:\", recall)\n",
    "print(\"precision:\", precision)\n",
    "print(\"f1-score:\", f1)\n",
    "print('roc_auc: ', roc_auc_macro)"
   ]
  },
  {
   "cell_type": "markdown",
   "id": "69a405a9",
   "metadata": {
    "papermill": {
     "duration": 0.055188,
     "end_time": "2024-02-22T15:50:40.277932",
     "exception": false,
     "start_time": "2024-02-22T15:50:40.222744",
     "status": "completed"
    },
    "tags": []
   },
   "source": [
    "Tuning rồi lưu kết quả tuning vào bên dưới"
   ]
  },
  {
   "cell_type": "code",
   "execution_count": 34,
   "id": "703734a9",
   "metadata": {
    "execution": {
     "iopub.execute_input": "2024-02-22T15:50:40.394834Z",
     "iopub.status.busy": "2024-02-22T15:50:40.394035Z",
     "iopub.status.idle": "2024-02-22T15:50:40.399626Z",
     "shell.execute_reply": "2024-02-22T15:50:40.398402Z"
    },
    "papermill": {
     "duration": 0.06564,
     "end_time": "2024-02-22T15:50:40.402257",
     "exception": false,
     "start_time": "2024-02-22T15:50:40.336617",
     "status": "completed"
    },
    "tags": []
   },
   "outputs": [],
   "source": [
    "predictions['lr'] = list(y_pred)"
   ]
  },
  {
   "cell_type": "code",
   "execution_count": 35,
   "id": "cb68f6cc",
   "metadata": {
    "execution": {
     "iopub.execute_input": "2024-02-22T15:50:40.516013Z",
     "iopub.status.busy": "2024-02-22T15:50:40.515486Z",
     "iopub.status.idle": "2024-02-22T15:50:40.521822Z",
     "shell.execute_reply": "2024-02-22T15:50:40.520502Z"
    },
    "papermill": {
     "duration": 0.065371,
     "end_time": "2024-02-22T15:50:40.524218",
     "exception": false,
     "start_time": "2024-02-22T15:50:40.458847",
     "status": "completed"
    },
    "tags": []
   },
   "outputs": [],
   "source": [
    "import json\n",
    "with open(\"/kaggle/working/predict_pca_tuning.json\", \"w\") as json_file:\n",
    "    json.dump(prediction_results, json_file)"
   ]
  },
  {
   "cell_type": "code",
   "execution_count": 36,
   "id": "916ed57e",
   "metadata": {
    "execution": {
     "iopub.execute_input": "2024-02-22T15:50:40.640276Z",
     "iopub.status.busy": "2024-02-22T15:50:40.639697Z",
     "iopub.status.idle": "2024-02-22T15:50:40.655521Z",
     "shell.execute_reply": "2024-02-22T15:50:40.654401Z"
    },
    "papermill": {
     "duration": 0.075791,
     "end_time": "2024-02-22T15:50:40.657747",
     "exception": false,
     "start_time": "2024-02-22T15:50:40.581956",
     "status": "completed"
    },
    "tags": []
   },
   "outputs": [
    {
     "data": {
      "text/plain": [
       "{'random forest': ['s21',\n",
       "  's29',\n",
       "  's4',\n",
       "  's22',\n",
       "  's10',\n",
       "  's9',\n",
       "  's33',\n",
       "  's10',\n",
       "  's27',\n",
       "  's13',\n",
       "  's1',\n",
       "  's37',\n",
       "  's6',\n",
       "  's8',\n",
       "  's14',\n",
       "  's5',\n",
       "  's28',\n",
       "  's38',\n",
       "  's24',\n",
       "  's39',\n",
       "  's8',\n",
       "  's2',\n",
       "  's40',\n",
       "  's28',\n",
       "  's1',\n",
       "  's40',\n",
       "  's12',\n",
       "  's23',\n",
       "  's27',\n",
       "  's11',\n",
       "  's40',\n",
       "  's20',\n",
       "  's27',\n",
       "  's6',\n",
       "  's24',\n",
       "  's12',\n",
       "  's12',\n",
       "  's35',\n",
       "  's16',\n",
       "  's15',\n",
       "  's39',\n",
       "  's6',\n",
       "  's8',\n",
       "  's3',\n",
       "  's9',\n",
       "  's39',\n",
       "  's15',\n",
       "  's19',\n",
       "  's3',\n",
       "  's18',\n",
       "  's5',\n",
       "  's33',\n",
       "  's34',\n",
       "  's8',\n",
       "  's38',\n",
       "  's4',\n",
       "  's23',\n",
       "  's18',\n",
       "  's4',\n",
       "  's16',\n",
       "  's13',\n",
       "  's30',\n",
       "  's37',\n",
       "  's8',\n",
       "  's11',\n",
       "  's4',\n",
       "  's36',\n",
       "  's27',\n",
       "  's40',\n",
       "  's8',\n",
       "  's33',\n",
       "  's15',\n",
       "  's1',\n",
       "  's5',\n",
       "  's39',\n",
       "  's25',\n",
       "  's23',\n",
       "  's37',\n",
       "  's18',\n",
       "  's29'],\n",
       " 'gnb': ['s21',\n",
       "  's29',\n",
       "  's4',\n",
       "  's22',\n",
       "  's10',\n",
       "  's9',\n",
       "  's33',\n",
       "  's10',\n",
       "  's27',\n",
       "  's13',\n",
       "  's1',\n",
       "  's37',\n",
       "  's6',\n",
       "  's8',\n",
       "  's14',\n",
       "  's5',\n",
       "  's19',\n",
       "  's38',\n",
       "  's24',\n",
       "  's39',\n",
       "  's8',\n",
       "  's2',\n",
       "  's40',\n",
       "  's28',\n",
       "  's1',\n",
       "  's40',\n",
       "  's12',\n",
       "  's23',\n",
       "  's27',\n",
       "  's11',\n",
       "  's40',\n",
       "  's20',\n",
       "  's27',\n",
       "  's6',\n",
       "  's24',\n",
       "  's12',\n",
       "  's12',\n",
       "  's35',\n",
       "  's16',\n",
       "  's15',\n",
       "  's39',\n",
       "  's6',\n",
       "  's8',\n",
       "  's3',\n",
       "  's9',\n",
       "  's39',\n",
       "  's15',\n",
       "  's19',\n",
       "  's3',\n",
       "  's18',\n",
       "  's5',\n",
       "  's33',\n",
       "  's34',\n",
       "  's8',\n",
       "  's38',\n",
       "  's4',\n",
       "  's23',\n",
       "  's18',\n",
       "  's4',\n",
       "  's16',\n",
       "  's1',\n",
       "  's30',\n",
       "  's28',\n",
       "  's8',\n",
       "  's11',\n",
       "  's4',\n",
       "  's36',\n",
       "  's27',\n",
       "  's40',\n",
       "  's8',\n",
       "  's33',\n",
       "  's15',\n",
       "  's1',\n",
       "  's5',\n",
       "  's39',\n",
       "  's25',\n",
       "  's23',\n",
       "  's37',\n",
       "  's18',\n",
       "  's29'],\n",
       " 'logistic regression': ['s21',\n",
       "  's29',\n",
       "  's4',\n",
       "  's22',\n",
       "  's10',\n",
       "  's9',\n",
       "  's33',\n",
       "  's10',\n",
       "  's27',\n",
       "  's13',\n",
       "  's1',\n",
       "  's37',\n",
       "  's6',\n",
       "  's8',\n",
       "  's14',\n",
       "  's5',\n",
       "  's28',\n",
       "  's38',\n",
       "  's24',\n",
       "  's39',\n",
       "  's8',\n",
       "  's2',\n",
       "  's40',\n",
       "  's28',\n",
       "  's1',\n",
       "  's40',\n",
       "  's12',\n",
       "  's23',\n",
       "  's27',\n",
       "  's11',\n",
       "  's40',\n",
       "  's20',\n",
       "  's27',\n",
       "  's6',\n",
       "  's24',\n",
       "  's12',\n",
       "  's12',\n",
       "  's35',\n",
       "  's16',\n",
       "  's15',\n",
       "  's39',\n",
       "  's6',\n",
       "  's8',\n",
       "  's3',\n",
       "  's9',\n",
       "  's39',\n",
       "  's15',\n",
       "  's19',\n",
       "  's3',\n",
       "  's18',\n",
       "  's5',\n",
       "  's33',\n",
       "  's34',\n",
       "  's8',\n",
       "  's38',\n",
       "  's4',\n",
       "  's23',\n",
       "  's18',\n",
       "  's4',\n",
       "  's16',\n",
       "  's13',\n",
       "  's30',\n",
       "  's26',\n",
       "  's8',\n",
       "  's11',\n",
       "  's4',\n",
       "  's36',\n",
       "  's27',\n",
       "  's40',\n",
       "  's8',\n",
       "  's33',\n",
       "  's15',\n",
       "  's1',\n",
       "  's5',\n",
       "  's39',\n",
       "  's25',\n",
       "  's23',\n",
       "  's37',\n",
       "  's18',\n",
       "  's29'],\n",
       " 'KNN': ['s21',\n",
       "  's29',\n",
       "  's4',\n",
       "  's22',\n",
       "  's10',\n",
       "  's9',\n",
       "  's33',\n",
       "  's10',\n",
       "  's27',\n",
       "  's13',\n",
       "  's1',\n",
       "  's37',\n",
       "  's6',\n",
       "  's8',\n",
       "  's14',\n",
       "  's5',\n",
       "  's28',\n",
       "  's38',\n",
       "  's24',\n",
       "  's39',\n",
       "  's8',\n",
       "  's2',\n",
       "  's40',\n",
       "  's28',\n",
       "  's1',\n",
       "  's40',\n",
       "  's12',\n",
       "  's23',\n",
       "  's27',\n",
       "  's11',\n",
       "  's5',\n",
       "  's20',\n",
       "  's27',\n",
       "  's6',\n",
       "  's24',\n",
       "  's12',\n",
       "  's12',\n",
       "  's35',\n",
       "  's16',\n",
       "  's15',\n",
       "  's39',\n",
       "  's6',\n",
       "  's8',\n",
       "  's3',\n",
       "  's9',\n",
       "  's39',\n",
       "  's15',\n",
       "  's19',\n",
       "  's3',\n",
       "  's18',\n",
       "  's5',\n",
       "  's33',\n",
       "  's34',\n",
       "  's8',\n",
       "  's38',\n",
       "  's4',\n",
       "  's23',\n",
       "  's18',\n",
       "  's4',\n",
       "  's16',\n",
       "  's13',\n",
       "  's30',\n",
       "  's26',\n",
       "  's8',\n",
       "  's11',\n",
       "  's4',\n",
       "  's36',\n",
       "  's27',\n",
       "  's40',\n",
       "  's8',\n",
       "  's33',\n",
       "  's15',\n",
       "  's1',\n",
       "  's5',\n",
       "  's39',\n",
       "  's25',\n",
       "  's23',\n",
       "  's37',\n",
       "  's18',\n",
       "  's29'],\n",
       " 'svc': ['s21',\n",
       "  's29',\n",
       "  's4',\n",
       "  's22',\n",
       "  's10',\n",
       "  's9',\n",
       "  's33',\n",
       "  's10',\n",
       "  's27',\n",
       "  's13',\n",
       "  's1',\n",
       "  's37',\n",
       "  's6',\n",
       "  's8',\n",
       "  's14',\n",
       "  's5',\n",
       "  's28',\n",
       "  's38',\n",
       "  's24',\n",
       "  's39',\n",
       "  's8',\n",
       "  's2',\n",
       "  's40',\n",
       "  's28',\n",
       "  's1',\n",
       "  's40',\n",
       "  's12',\n",
       "  's23',\n",
       "  's27',\n",
       "  's11',\n",
       "  's40',\n",
       "  's20',\n",
       "  's27',\n",
       "  's6',\n",
       "  's24',\n",
       "  's12',\n",
       "  's12',\n",
       "  's35',\n",
       "  's16',\n",
       "  's15',\n",
       "  's39',\n",
       "  's6',\n",
       "  's8',\n",
       "  's3',\n",
       "  's9',\n",
       "  's39',\n",
       "  's15',\n",
       "  's19',\n",
       "  's3',\n",
       "  's18',\n",
       "  's5',\n",
       "  's33',\n",
       "  's34',\n",
       "  's8',\n",
       "  's38',\n",
       "  's4',\n",
       "  's23',\n",
       "  's18',\n",
       "  's4',\n",
       "  's16',\n",
       "  's13',\n",
       "  's30',\n",
       "  's26',\n",
       "  's8',\n",
       "  's11',\n",
       "  's4',\n",
       "  's36',\n",
       "  's27',\n",
       "  's40',\n",
       "  's8',\n",
       "  's33',\n",
       "  's15',\n",
       "  's1',\n",
       "  's5',\n",
       "  's39',\n",
       "  's25',\n",
       "  's23',\n",
       "  's37',\n",
       "  's18',\n",
       "  's29'],\n",
       " 'decison tree': ['s21',\n",
       "  's33',\n",
       "  's25',\n",
       "  's22',\n",
       "  's10',\n",
       "  's23',\n",
       "  's33',\n",
       "  's10',\n",
       "  's16',\n",
       "  's13',\n",
       "  's1',\n",
       "  's37',\n",
       "  's9',\n",
       "  's8',\n",
       "  's11',\n",
       "  's5',\n",
       "  's19',\n",
       "  's38',\n",
       "  's24',\n",
       "  's39',\n",
       "  's8',\n",
       "  's2',\n",
       "  's40',\n",
       "  's28',\n",
       "  's27',\n",
       "  's35',\n",
       "  's16',\n",
       "  's23',\n",
       "  's27',\n",
       "  's21',\n",
       "  's3',\n",
       "  's20',\n",
       "  's27',\n",
       "  's6',\n",
       "  's24',\n",
       "  's12',\n",
       "  's12',\n",
       "  's3',\n",
       "  's16',\n",
       "  's19',\n",
       "  's39',\n",
       "  's6',\n",
       "  's16',\n",
       "  's3',\n",
       "  's9',\n",
       "  's39',\n",
       "  's24',\n",
       "  's19',\n",
       "  's3',\n",
       "  's18',\n",
       "  's25',\n",
       "  's33',\n",
       "  's34',\n",
       "  's8',\n",
       "  's38',\n",
       "  's8',\n",
       "  's23',\n",
       "  's18',\n",
       "  's3',\n",
       "  's16',\n",
       "  's18',\n",
       "  's30',\n",
       "  's26',\n",
       "  's3',\n",
       "  's11',\n",
       "  's23',\n",
       "  's36',\n",
       "  's27',\n",
       "  's35',\n",
       "  's8',\n",
       "  's33',\n",
       "  's19',\n",
       "  's1',\n",
       "  's5',\n",
       "  's39',\n",
       "  's25',\n",
       "  's38',\n",
       "  's37',\n",
       "  's18',\n",
       "  's29']}"
      ]
     },
     "execution_count": 36,
     "metadata": {},
     "output_type": "execute_result"
    }
   ],
   "source": [
    "prediction_results"
   ]
  }
 ],
 "metadata": {
  "kaggle": {
   "accelerator": "none",
   "dataSources": [
    {
     "datasetId": 4306985,
     "sourceId": 7405983,
     "sourceType": "datasetVersion"
    },
    {
     "datasetId": 4349100,
     "sourceId": 7470763,
     "sourceType": "datasetVersion"
    }
   ],
   "dockerImageVersionId": 30646,
   "isGpuEnabled": false,
   "isInternetEnabled": true,
   "language": "python",
   "sourceType": "notebook"
  },
  "kernelspec": {
   "display_name": "Python 3",
   "language": "python",
   "name": "python3"
  },
  "language_info": {
   "codemirror_mode": {
    "name": "ipython",
    "version": 3
   },
   "file_extension": ".py",
   "mimetype": "text/x-python",
   "name": "python",
   "nbconvert_exporter": "python",
   "pygments_lexer": "ipython3",
   "version": "3.10.13"
  },
  "papermill": {
   "default_parameters": {},
   "duration": 1531.058548,
   "end_time": "2024-02-22T15:50:43.343013",
   "environment_variables": {},
   "exception": null,
   "input_path": "__notebook__.ipynb",
   "output_path": "__notebook__.ipynb",
   "parameters": {},
   "start_time": "2024-02-22T15:25:12.284465",
   "version": "2.5.0"
  }
 },
 "nbformat": 4,
 "nbformat_minor": 5
}
