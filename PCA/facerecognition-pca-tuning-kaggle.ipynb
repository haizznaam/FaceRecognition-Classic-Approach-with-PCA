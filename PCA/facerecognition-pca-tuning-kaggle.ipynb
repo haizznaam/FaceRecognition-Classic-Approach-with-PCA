{
  "metadata": {
    "kaggle": {
      "accelerator": "none",
      "dataSources": [
        {
          "sourceId": 7405983,
          "sourceType": "datasetVersion",
          "datasetId": 4306985
        },
        {
          "sourceId": 7470763,
          "sourceType": "datasetVersion",
          "datasetId": 4349100
        }
      ],
      "dockerImageVersionId": 30646,
      "isInternetEnabled": true,
      "language": "python",
      "sourceType": "notebook",
      "isGpuEnabled": false
    },
    "kernelspec": {
      "display_name": "Python 3",
      "language": "python",
      "name": "python3"
    },
    "language_info": {
      "name": "python",
      "version": "3.10.13",
      "mimetype": "text/x-python",
      "codemirror_mode": {
        "name": "ipython",
        "version": 3
      },
      "pygments_lexer": "ipython3",
      "nbconvert_exporter": "python",
      "file_extension": ".py"
    },
    "colab": {
      "provenance": [],
      "toc_visible": true
    }
  },
  "nbformat_minor": 0,
  "nbformat": 4,
  "cells": [
    {
      "cell_type": "code",
      "source": [
        "import os\n",
        "import numpy as np\n",
        "import pandas as pd\n",
        "from numpy.random import shuffle\n",
        "from sklearn.decomposition import PCA\n",
        "from sklearn.model_selection import train_test_split\n",
        "from sklearn.model_selection import StratifiedKFold, cross_val_score\n",
        "from sklearn.metrics import accuracy_score, precision_score, recall_score, f1_score, roc_auc_score\n",
        "from sklearn.linear_model import LogisticRegression"
      ],
      "metadata": {
        "_cell_guid": "b1076dfc-b9ad-4769-8c92-a6c4dae69d19",
        "_uuid": "8f2839f25d086af736a60e9eeb907d3b93b6e0e5",
        "execution": {
          "iopub.status.busy": "2024-02-22T14:45:41.592214Z",
          "iopub.execute_input": "2024-02-22T14:45:41.592683Z",
          "iopub.status.idle": "2024-02-22T14:45:42.731661Z",
          "shell.execute_reply.started": "2024-02-22T14:45:41.592641Z",
          "shell.execute_reply": "2024-02-22T14:45:42.730595Z"
        },
        "trusted": true,
        "id": "jGzGnhMRgZ4n"
      },
      "execution_count": null,
      "outputs": []
    },
    {
      "cell_type": "code",
      "source": [
        "import cv2\n",
        "import matplotlib.pyplot as plt\n",
        "\n",
        "def read_pgm(file_path):\n",
        "    return cv2.imread(file_path, cv2.IMREAD_GRAYSCALE)\n",
        "\n",
        "def show_image(image_data):\n",
        "    plt.imshow(image_data, cmap='gray')\n",
        "    plt.axis('off')  # Hide axis labels\n",
        "    plt.show()\n",
        "\n",
        "file_path = f'/kaggle/input/att-images/ATT images/s1/1.pgm'\n",
        "image_data = read_pgm(file_path)\n",
        "show_image(image_data)"
      ],
      "metadata": {
        "execution": {
          "iopub.status.busy": "2024-02-22T14:45:42.733598Z",
          "iopub.execute_input": "2024-02-22T14:45:42.734148Z",
          "iopub.status.idle": "2024-02-22T14:45:43.028399Z",
          "shell.execute_reply.started": "2024-02-22T14:45:42.734120Z",
          "shell.execute_reply": "2024-02-22T14:45:43.027274Z"
        },
        "trusted": true,
        "id": "Eqd4lxsAgZ4q",
        "outputId": "eef9fe9c-3cf6-41ff-f4c6-c01a6752dc46"
      },
      "execution_count": null,
      "outputs": [
        {
          "output_type": "display_data",
          "data": {
            "text/plain": "<Figure size 640x480 with 1 Axes>",
            "image/png": "[encoded data removed]"
          },
          "metadata": {}
        }
      ]
    },
    {
      "cell_type": "code",
      "source": [
        "image_data.shape"
      ],
      "metadata": {
        "execution": {
          "iopub.status.busy": "2024-02-22T14:45:43.030018Z",
          "iopub.execute_input": "2024-02-22T14:45:43.030435Z",
          "iopub.status.idle": "2024-02-22T14:45:43.037580Z",
          "shell.execute_reply.started": "2024-02-22T14:45:43.030402Z",
          "shell.execute_reply": "2024-02-22T14:45:43.036535Z"
        },
        "trusted": true,
        "id": "kOIL1YKIgZ4r",
        "outputId": "ce25e8e3-a404-46b0-9c01-0d64d20de164"
      },
      "execution_count": null,
      "outputs": [
        {
          "execution_count": 4,
          "output_type": "execute_result",
          "data": {
            "text/plain": "(112, 92)"
          },
          "metadata": {}
        }
      ]
    },
    {
      "cell_type": "code",
      "source": [
        "def get_data(path_data='/kaggle/input/att-images/ATT images', test_size=0.2, is_shuffle=True):\n",
        "    folders = [f's{i+1}' for i in range(40)]\n",
        "    X, y = [], []\n",
        "\n",
        "    for i in range(1, 41):\n",
        "        path = path_data + f'/s{i}'\n",
        "        files = os.listdir(path)\n",
        "        num_files = len(files)\n",
        "\n",
        "        # if is_shuffle:\n",
        "        #     files = shuffle(files)\n",
        "\n",
        "        for file in os.listdir(path):\n",
        "            path = path_data + f'/s{i}/' + file\n",
        "            image = cv2.imread(path, cv2.IMREAD_GRAYSCALE)\n",
        "            pixels = np.reshape(image, [1, image.shape[0] * image.shape[1]])\n",
        "            pixels = np.asarray(pixels)\n",
        "\n",
        "            if len(X) == 0:\n",
        "                X = pixels\n",
        "            else:\n",
        "                X = np.vstack([X, pixels])\n",
        "            y.append(f's{i}')\n",
        "\n",
        "    return X, np.asarray(y)"
      ],
      "metadata": {
        "execution": {
          "iopub.status.busy": "2024-02-22T14:45:43.040174Z",
          "iopub.execute_input": "2024-02-22T14:45:43.040749Z",
          "iopub.status.idle": "2024-02-22T14:45:43.051315Z",
          "shell.execute_reply.started": "2024-02-22T14:45:43.040721Z",
          "shell.execute_reply": "2024-02-22T14:45:43.050181Z"
        },
        "trusted": true,
        "id": "vVJaQSgxgZ4r"
      },
      "execution_count": null,
      "outputs": []
    },
    {
      "cell_type": "code",
      "source": [
        "X, y = get_data()\n",
        "X_train, X_test, y_train, y_test = train_test_split(X, y, test_size=0.2, random_state=42)"
      ],
      "metadata": {
        "execution": {
          "iopub.status.busy": "2024-02-22T14:45:43.052389Z",
          "iopub.execute_input": "2024-02-22T14:45:43.052673Z",
          "iopub.status.idle": "2024-02-22T14:45:45.106937Z",
          "shell.execute_reply.started": "2024-02-22T14:45:43.052650Z",
          "shell.execute_reply": "2024-02-22T14:45:45.105896Z"
        },
        "trusted": true,
        "id": "UmgDJKemgZ4s"
      },
      "execution_count": null,
      "outputs": []
    },
    {
      "cell_type": "code",
      "source": [
        "n_components_pca = 50\n",
        "pca = PCA(n_components=n_components_pca, random_state=42)\n",
        "X_train_reduced = pca.fit_transform(X_train)\n",
        "X_test_reduced = pca.transform(X_test)"
      ],
      "metadata": {
        "execution": {
          "iopub.status.busy": "2024-02-22T14:45:45.108292Z",
          "iopub.execute_input": "2024-02-22T14:45:45.108669Z",
          "iopub.status.idle": "2024-02-22T14:45:45.782351Z",
          "shell.execute_reply.started": "2024-02-22T14:45:45.108631Z",
          "shell.execute_reply": "2024-02-22T14:45:45.780710Z"
        },
        "trusted": true,
        "id": "myd22eR_gZ4s"
      },
      "execution_count": null,
      "outputs": []
    },
    {
      "cell_type": "code",
      "source": [
        "predictions = {}"
      ],
      "metadata": {
        "execution": {
          "iopub.status.busy": "2024-02-22T14:45:45.784156Z",
          "iopub.execute_input": "2024-02-22T14:45:45.784604Z",
          "iopub.status.idle": "2024-02-22T14:45:45.795212Z",
          "shell.execute_reply.started": "2024-02-22T14:45:45.784564Z",
          "shell.execute_reply": "2024-02-22T14:45:45.793854Z"
        },
        "trusted": true,
        "id": "X8l7hoczgZ4t"
      },
      "execution_count": null,
      "outputs": []
    },
    {
      "cell_type": "markdown",
      "source": [
        "# Euclidean"
      ],
      "metadata": {
        "id": "omgyRLBugZ4t"
      }
    },
    {
      "cell_type": "code",
      "source": [
        "y_pred = []\n",
        "for i in range(80):\n",
        "    min_ = np.argmin(np.sqrt(np.sum((X_train_reduced - X_test_reduced[i])**2,axis=1)))\n",
        "    y_pred.append(y_train[min_])"
      ],
      "metadata": {
        "execution": {
          "iopub.status.busy": "2024-02-22T14:45:45.797046Z",
          "iopub.execute_input": "2024-02-22T14:45:45.797687Z",
          "iopub.status.idle": "2024-02-22T14:45:45.823613Z",
          "shell.execute_reply.started": "2024-02-22T14:45:45.797648Z",
          "shell.execute_reply": "2024-02-22T14:45:45.822185Z"
        },
        "trusted": true,
        "id": "0n3Uw1emgZ4u"
      },
      "execution_count": null,
      "outputs": []
    },
    {
      "cell_type": "code",
      "source": [
        "predictions['euclidean'] = y_pred"
      ],
      "metadata": {
        "execution": {
          "iopub.status.busy": "2024-02-22T14:45:45.825474Z",
          "iopub.execute_input": "2024-02-22T14:45:45.827719Z",
          "iopub.status.idle": "2024-02-22T14:45:45.835607Z",
          "shell.execute_reply.started": "2024-02-22T14:45:45.827647Z",
          "shell.execute_reply": "2024-02-22T14:45:45.834327Z"
        },
        "trusted": true,
        "id": "FWz19RnSgZ4u"
      },
      "execution_count": null,
      "outputs": []
    },
    {
      "cell_type": "code",
      "source": [
        "from sklearn.model_selection import KFold\n",
        "n_splits = 5\n",
        "kf = KFold(n_splits=n_splits, shuffle=True, random_state=42)"
      ],
      "metadata": {
        "execution": {
          "iopub.status.busy": "2024-02-22T14:45:45.848059Z",
          "iopub.execute_input": "2024-02-22T14:45:45.850334Z",
          "iopub.status.idle": "2024-02-22T14:45:45.857476Z",
          "shell.execute_reply.started": "2024-02-22T14:45:45.850281Z",
          "shell.execute_reply": "2024-02-22T14:45:45.856169Z"
        },
        "trusted": true,
        "id": "NauJYkdXgZ4v"
      },
      "execution_count": null,
      "outputs": []
    },
    {
      "cell_type": "markdown",
      "source": [
        "****"
      ],
      "metadata": {
        "id": "1xhmUnNdgZ4v"
      }
    },
    {
      "cell_type": "markdown",
      "source": [
        "**Chọn trường hợp accuracy của logistic model khác 1**"
      ],
      "metadata": {
        "id": "dqzHrsaogZ4v"
      }
    },
    {
      "cell_type": "code",
      "source": [
        "lr = LogisticRegression()\n",
        "lr.fit(X_train_reduced, y_train)\n",
        "y_pred = lr.predict(X_test_reduced)\n",
        "\n",
        "accuracy = accuracy_score(y_test, y_pred)\n",
        "precision = precision_score(y_test, y_pred, average='macro')\n",
        "recall = recall_score(y_test, y_pred, average='macro')\n",
        "f1 = f1_score(y_test, y_pred, average='macro')\n",
        "\n",
        "# One-hot encoding for probability calculation (adapt if necessary)\n",
        "y_test_onehot = pd.get_dummies(y_test, prefix='label_')  # Assuming 'label_' prefix for clarity\n",
        "y_pred_onehot = pd.get_dummies(y_pred, prefix='label_')\n",
        "\n",
        "# ROC AUC score with multiclass handling\n",
        "roc_auc_macro = roc_auc_score(y_test_onehot, y_pred_onehot, average='macro', multi_class='ovo')\n",
        "\n",
        "print(\"accuracy:\", accuracy)\n",
        "print(\"recall:\", recall)\n",
        "print(\"precision:\", precision)\n",
        "print(\"f1-score:\", f1)\n",
        "print('roc_auc: ', roc_auc_macro)"
      ],
      "metadata": {
        "execution": {
          "iopub.status.busy": "2024-02-22T14:45:45.862399Z",
          "iopub.execute_input": "2024-02-22T14:45:45.865691Z",
          "iopub.status.idle": "2024-02-22T14:45:46.175639Z",
          "shell.execute_reply.started": "2024-02-22T14:45:45.865645Z",
          "shell.execute_reply": "2024-02-22T14:45:46.173694Z"
        },
        "trusted": true,
        "id": "WkEeb4OCgZ4v",
        "outputId": "0ccdafe4-32a9-426b-d296-ce845fb76a7c"
      },
      "execution_count": null,
      "outputs": [
        {
          "name": "stdout",
          "text": "accuracy: 1.0\nrecall: 1.0\nprecision: 1.0\nf1-score: 1.0\nroc_auc:  1.0\n",
          "output_type": "stream"
        },
        {
          "name": "stderr",
          "text": "/opt/conda/lib/python3.10/site-packages/sklearn/linear_model/_logistic.py:458: ConvergenceWarning: lbfgs failed to converge (status=1):\nSTOP: TOTAL NO. of ITERATIONS REACHED LIMIT.\n\nIncrease the number of iterations (max_iter) or scale the data as shown in:\n    https://scikit-learn.org/stable/modules/preprocessing.html\nPlease also refer to the documentation for alternative solver options:\n    https://scikit-learn.org/stable/modules/linear_model.html#logistic-regression\n  n_iter_i = _check_optimize_result(\n",
          "output_type": "stream"
        }
      ]
    },
    {
      "cell_type": "markdown",
      "source": [
        "# Random Forest"
      ],
      "metadata": {
        "id": "p-JUO43rgZ4v"
      }
    },
    {
      "cell_type": "code",
      "source": [
        "prediction_results = {}"
      ],
      "metadata": {
        "execution": {
          "iopub.status.busy": "2024-02-22T14:45:46.181862Z",
          "iopub.execute_input": "2024-02-22T14:45:46.185073Z",
          "iopub.status.idle": "2024-02-22T14:45:46.193476Z",
          "shell.execute_reply.started": "2024-02-22T14:45:46.185024Z",
          "shell.execute_reply": "2024-02-22T14:45:46.192296Z"
        },
        "trusted": true,
        "id": "XyDSec-ngZ4w"
      },
      "execution_count": null,
      "outputs": []
    },
    {
      "cell_type": "code",
      "source": [
        "from sklearn.ensemble import RandomForestClassifier\n",
        "from sklearn.metrics import accuracy_score"
      ],
      "metadata": {
        "execution": {
          "iopub.status.busy": "2024-02-22T14:45:46.197851Z",
          "iopub.execute_input": "2024-02-22T14:45:46.202465Z",
          "iopub.status.idle": "2024-02-22T14:45:46.308362Z",
          "shell.execute_reply.started": "2024-02-22T14:45:46.202417Z",
          "shell.execute_reply": "2024-02-22T14:45:46.307196Z"
        },
        "trusted": true,
        "id": "qES1tl6egZ4w"
      },
      "execution_count": null,
      "outputs": []
    },
    {
      "cell_type": "markdown",
      "source": [
        "**Normal**"
      ],
      "metadata": {
        "id": "NXKB58GNgZ4w"
      }
    },
    {
      "cell_type": "code",
      "source": [
        "rfr = RandomForestClassifier(random_state=42)\n",
        "rfr.fit(X_train_reduced,y_train)\n",
        "y_pred = rfr.predict(X_test_reduced)\n",
        "\n",
        "accuracy = accuracy_score(y_test, y_pred)\n",
        "precision = precision_score(y_test, y_pred, average='macro')\n",
        "recall = recall_score(y_test, y_pred, average='macro')\n",
        "f1 = f1_score(y_test, y_pred, average='macro')\n",
        "\n",
        "# One-hot encoding for probability calculation (adapt if necessary)\n",
        "y_test_onehot = pd.get_dummies(y_test, prefix='label_')  # Assuming 'label_' prefix for clarity\n",
        "y_pred_onehot = pd.get_dummies(y_pred, prefix='label_')\n",
        "\n",
        "# ROC AUC score with multiclass handling\n",
        "roc_auc_macro = roc_auc_score(y_test_onehot, y_pred_onehot, average='macro', multi_class='ovo')  # Specify 'ovo' or 'ovr'\n",
        "\n",
        "print(\"accuracy:\", accuracy)\n",
        "print(\"recall:\", recall)\n",
        "print(\"precision:\", precision)\n",
        "print(\"f1-score:\", f1)\n",
        "print('roc_auc: ', roc_auc_macro)"
      ],
      "metadata": {
        "execution": {
          "iopub.status.busy": "2024-02-22T14:45:46.309625Z",
          "iopub.execute_input": "2024-02-22T14:45:46.310002Z",
          "iopub.status.idle": "2024-02-22T14:45:46.787746Z",
          "shell.execute_reply.started": "2024-02-22T14:45:46.309971Z",
          "shell.execute_reply": "2024-02-22T14:45:46.786750Z"
        },
        "trusted": true,
        "id": "zOitQJRwgZ4w",
        "outputId": "3b9a017e-4d58-4fb9-d6cc-e03db5440e2b"
      },
      "execution_count": null,
      "outputs": [
        {
          "name": "stdout",
          "text": "accuracy: 0.9875\nrecall: 0.9722222222222222\nprecision: 0.9629629629629629\nf1-score: 0.9666666666666666\nroc_auc:  0.7339875119474435\n",
          "output_type": "stream"
        },
        {
          "name": "stderr",
          "text": "/opt/conda/lib/python3.10/site-packages/sklearn/metrics/_classification.py:1344: UndefinedMetricWarning: Precision is ill-defined and being set to 0.0 in labels with no predicted samples. Use `zero_division` parameter to control this behavior.\n  _warn_prf(average, modifier, msg_start, len(result))\n",
          "output_type": "stream"
        }
      ]
    },
    {
      "cell_type": "markdown",
      "source": [
        "**Tunning**"
      ],
      "metadata": {
        "id": "wNBa36gjgZ4w"
      }
    },
    {
      "cell_type": "code",
      "source": [
        "import optuna\n",
        "\n",
        "def objective(trial):\n",
        "        hyperparams = {\n",
        "            'n_estimators' : trial.suggest_int('n_estimators',100,1000),\n",
        "            'max_depth' : trial.suggest_int('max_depth',10, 50),\n",
        "            'min_samples_split' : trial.suggest_int('min_samples_split', 2, 32),\n",
        "            'random_state' : trial.suggest_categorical('random_state',[42]),\n",
        "            'min_samples_leaf' : trial.suggest_int('min_samples_leaf', 1, 32),\n",
        "            'n_jobs' : -1\n",
        "        }\n",
        "\n",
        "        model = RandomForestClassifier(**hyperparams)\n",
        "        scores = cross_val_score(model, X_train_reduced, y_train, cv=kf, scoring = 'accuracy')\n",
        "        return np.mean(scores)"
      ],
      "metadata": {
        "execution": {
          "iopub.status.busy": "2024-02-22T14:45:46.789017Z",
          "iopub.execute_input": "2024-02-22T14:45:46.789814Z",
          "iopub.status.idle": "2024-02-22T14:45:48.030697Z",
          "shell.execute_reply.started": "2024-02-22T14:45:46.789781Z",
          "shell.execute_reply": "2024-02-22T14:45:48.029574Z"
        },
        "trusted": true,
        "id": "ZoHt-6SngZ4w"
      },
      "execution_count": null,
      "outputs": []
    },
    {
      "cell_type": "code",
      "source": [
        "study = optuna.create_study(direction = 'maximize')\n",
        "study.optimize(objective, n_trials = 100)\n",
        "best_params = study.best_params\n",
        "print(\"Best params found :\", best_params)\n",
        "\n",
        "final_model = RandomForestClassifier(**best_params)\n",
        "final_model.fit(X_train_reduced, y_train)\n",
        "y_pred = final_model.predict(X_test_reduced)\n",
        "accuracy_score(y_test, y_pred)"
      ],
      "metadata": {
        "execution": {
          "iopub.status.busy": "2024-02-22T14:45:48.032374Z",
          "iopub.execute_input": "2024-02-22T14:45:48.032744Z",
          "iopub.status.idle": "2024-02-22T15:00:51.590021Z",
          "shell.execute_reply.started": "2024-02-22T14:45:48.032709Z",
          "shell.execute_reply": "2024-02-22T15:00:51.589246Z"
        },
        "trusted": true,
        "id": "jeoJAPSdgZ4w",
        "outputId": "67f18006-979f-4a97-bc40-ef7b182445c0"
      },
      "execution_count": null,
      "outputs": [
        {
          "name": "stderr",
          "text": "[I 2024-02-22 14:45:48,035] A new study created in memory with name: no-name-6e5fb95d-2c34-4093-93c9-f9d57eab172c\n[I 2024-02-22 14:45:51,259] Trial 0 finished with value: 0.475 and parameters: {'n_estimators': 215, 'max_depth': 27, 'min_samples_split': 20, 'random_state': 42, 'min_samples_leaf': 32}. Best is trial 0 with value: 0.475.\n[I 2024-02-22 14:46:04,754] Trial 1 finished with value: 0.69375 and parameters: {'n_estimators': 887, 'max_depth': 41, 'min_samples_split': 24, 'random_state': 42, 'min_samples_leaf': 15}. Best is trial 1 with value: 0.69375.\n[I 2024-02-22 14:46:10,424] Trial 2 finished with value: 0.84375 and parameters: {'n_estimators': 337, 'max_depth': 34, 'min_samples_split': 5, 'random_state': 42, 'min_samples_leaf': 4}. Best is trial 2 with value: 0.84375.\n[I 2024-02-22 14:46:12,866] Trial 3 finished with value: 0.784375 and parameters: {'n_estimators': 141, 'max_depth': 36, 'min_samples_split': 13, 'random_state': 42, 'min_samples_leaf': 2}. Best is trial 2 with value: 0.84375.\n[I 2024-02-22 14:46:26,714] Trial 4 finished with value: 0.653125 and parameters: {'n_estimators': 934, 'max_depth': 25, 'min_samples_split': 12, 'random_state': 42, 'min_samples_leaf': 19}. Best is trial 2 with value: 0.84375.\n[I 2024-02-22 14:46:39,460] Trial 5 finished with value: 0.73125 and parameters: {'n_estimators': 759, 'max_depth': 48, 'min_samples_split': 19, 'random_state': 42, 'min_samples_leaf': 2}. Best is trial 2 with value: 0.84375.\n[I 2024-02-22 14:46:50,215] Trial 6 finished with value: 0.69375 and parameters: {'n_estimators': 716, 'max_depth': 23, 'min_samples_split': 19, 'random_state': 42, 'min_samples_leaf': 16}. Best is trial 2 with value: 0.84375.\n[I 2024-02-22 14:46:53,518] Trial 7 finished with value: 0.6625 and parameters: {'n_estimators': 207, 'max_depth': 10, 'min_samples_split': 30, 'random_state': 42, 'min_samples_leaf': 7}. Best is trial 2 with value: 0.84375.\n[I 2024-02-22 14:46:57,585] Trial 8 finished with value: 0.65625 and parameters: {'n_estimators': 253, 'max_depth': 38, 'min_samples_split': 31, 'random_state': 42, 'min_samples_leaf': 7}. Best is trial 2 with value: 0.84375.\n[I 2024-02-22 14:46:59,527] Trial 9 finished with value: 0.640625 and parameters: {'n_estimators': 114, 'max_depth': 26, 'min_samples_split': 30, 'random_state': 42, 'min_samples_leaf': 7}. Best is trial 2 with value: 0.84375.\n[I 2024-02-22 14:47:07,386] Trial 10 finished with value: 0.5625 and parameters: {'n_estimators': 521, 'max_depth': 13, 'min_samples_split': 2, 'random_state': 42, 'min_samples_leaf': 25}. Best is trial 2 with value: 0.84375.\n[I 2024-02-22 14:47:14,921] Trial 11 finished with value: 0.84375 and parameters: {'n_estimators': 435, 'max_depth': 35, 'min_samples_split': 9, 'random_state': 42, 'min_samples_leaf': 1}. Best is trial 2 with value: 0.84375.\n[I 2024-02-22 14:47:22,119] Trial 12 finished with value: 0.884375 and parameters: {'n_estimators': 405, 'max_depth': 33, 'min_samples_split': 4, 'random_state': 42, 'min_samples_leaf': 1}. Best is trial 12 with value: 0.884375.\n[I 2024-02-22 14:47:28,327] Trial 13 finished with value: 0.71875 and parameters: {'n_estimators': 402, 'max_depth': 45, 'min_samples_split': 2, 'random_state': 42, 'min_samples_leaf': 11}. Best is trial 12 with value: 0.884375.\n[I 2024-02-22 14:47:33,853] Trial 14 finished with value: 0.746875 and parameters: {'n_estimators': 348, 'max_depth': 33, 'min_samples_split': 7, 'random_state': 42, 'min_samples_leaf': 10}. Best is trial 12 with value: 0.884375.\n[I 2024-02-22 14:47:44,054] Trial 15 finished with value: 0.8 and parameters: {'n_estimators': 617, 'max_depth': 20, 'min_samples_split': 6, 'random_state': 42, 'min_samples_leaf': 5}. Best is trial 12 with value: 0.884375.\n[I 2024-02-22 14:47:52,394] Trial 16 finished with value: 0.709375 and parameters: {'n_estimators': 539, 'max_depth': 30, 'min_samples_split': 13, 'random_state': 42, 'min_samples_leaf': 12}. Best is trial 12 with value: 0.884375.\n[I 2024-02-22 14:47:57,571] Trial 17 finished with value: 0.603125 and parameters: {'n_estimators': 348, 'max_depth': 42, 'min_samples_split': 5, 'random_state': 42, 'min_samples_leaf': 22}. Best is trial 12 with value: 0.884375.\n[I 2024-02-22 14:48:05,865] Trial 18 finished with value: 0.8125 and parameters: {'n_estimators': 470, 'max_depth': 18, 'min_samples_split': 10, 'random_state': 42, 'min_samples_leaf': 4}. Best is trial 12 with value: 0.884375.\n[I 2024-02-22 14:48:15,015] Trial 19 finished with value: 0.540625 and parameters: {'n_estimators': 620, 'max_depth': 33, 'min_samples_split': 15, 'random_state': 42, 'min_samples_leaf': 29}. Best is trial 12 with value: 0.884375.\n[I 2024-02-22 14:48:19,967] Trial 20 finished with value: 0.75 and parameters: {'n_estimators': 306, 'max_depth': 29, 'min_samples_split': 3, 'random_state': 42, 'min_samples_leaf': 9}. Best is trial 12 with value: 0.884375.\n[I 2024-02-22 14:48:27,311] Trial 21 finished with value: 0.840625 and parameters: {'n_estimators': 419, 'max_depth': 35, 'min_samples_split': 9, 'random_state': 42, 'min_samples_leaf': 1}. Best is trial 12 with value: 0.884375.\n[I 2024-02-22 14:48:35,206] Trial 22 finished with value: 0.83125 and parameters: {'n_estimators': 443, 'max_depth': 40, 'min_samples_split': 8, 'random_state': 42, 'min_samples_leaf': 1}. Best is trial 12 with value: 0.884375.\n[I 2024-02-22 14:48:40,708] Trial 23 finished with value: 0.853125 and parameters: {'n_estimators': 305, 'max_depth': 32, 'min_samples_split': 5, 'random_state': 42, 'min_samples_leaf': 3}. Best is trial 12 with value: 0.884375.\n[I 2024-02-22 14:48:45,677] Trial 24 finished with value: 0.79375 and parameters: {'n_estimators': 297, 'max_depth': 31, 'min_samples_split': 5, 'random_state': 42, 'min_samples_leaf': 5}. Best is trial 12 with value: 0.884375.\n[I 2024-02-22 14:48:51,151] Trial 25 finished with value: 0.709375 and parameters: {'n_estimators': 348, 'max_depth': 45, 'min_samples_split': 5, 'random_state': 42, 'min_samples_leaf': 13}. Best is trial 12 with value: 0.884375.\n[I 2024-02-22 14:48:54,316] Trial 26 finished with value: 0.79375 and parameters: {'n_estimators': 183, 'max_depth': 38, 'min_samples_split': 11, 'random_state': 42, 'min_samples_leaf': 4}. Best is trial 12 with value: 0.884375.\n[I 2024-02-22 14:48:58,445] Trial 27 finished with value: 0.753125 and parameters: {'n_estimators': 255, 'max_depth': 21, 'min_samples_split': 4, 'random_state': 42, 'min_samples_leaf': 8}. Best is trial 12 with value: 0.884375.\n[I 2024-02-22 14:49:06,389] Trial 28 finished with value: 0.7 and parameters: {'n_estimators': 491, 'max_depth': 32, 'min_samples_split': 26, 'random_state': 42, 'min_samples_leaf': 4}. Best is trial 12 with value: 0.884375.\n[I 2024-02-22 14:49:15,910] Trial 29 finished with value: 0.65 and parameters: {'n_estimators': 633, 'max_depth': 26, 'min_samples_split': 7, 'random_state': 42, 'min_samples_leaf': 20}. Best is trial 12 with value: 0.884375.\n[I 2024-02-22 14:49:21,724] Trial 30 finished with value: 0.684375 and parameters: {'n_estimators': 377, 'max_depth': 28, 'min_samples_split': 15, 'random_state': 42, 'min_samples_leaf': 14}. Best is trial 12 with value: 0.884375.\n[I 2024-02-22 14:49:29,111] Trial 31 finished with value: 0.828125 and parameters: {'n_estimators': 436, 'max_depth': 35, 'min_samples_split': 9, 'random_state': 42, 'min_samples_leaf': 3}. Best is trial 12 with value: 0.884375.\n[I 2024-02-22 14:49:34,138] Trial 32 finished with value: 0.88125 and parameters: {'n_estimators': 279, 'max_depth': 37, 'min_samples_split': 2, 'random_state': 42, 'min_samples_leaf': 1}. Best is trial 12 with value: 0.884375.\n[I 2024-02-22 14:49:38,753] Trial 33 finished with value: 0.8 and parameters: {'n_estimators': 278, 'max_depth': 38, 'min_samples_split': 2, 'random_state': 42, 'min_samples_leaf': 6}. Best is trial 12 with value: 0.884375.\n[I 2024-02-22 14:49:42,004] Trial 34 finished with value: 0.828125 and parameters: {'n_estimators': 172, 'max_depth': 41, 'min_samples_split': 4, 'random_state': 42, 'min_samples_leaf': 3}. Best is trial 12 with value: 0.884375.\n[I 2024-02-22 14:49:46,199] Trial 35 finished with value: 0.853125 and parameters: {'n_estimators': 230, 'max_depth': 43, 'min_samples_split': 7, 'random_state': 42, 'min_samples_leaf': 1}. Best is trial 12 with value: 0.884375.\n[I 2024-02-22 14:49:50,228] Trial 36 finished with value: 0.85 and parameters: {'n_estimators': 225, 'max_depth': 44, 'min_samples_split': 6, 'random_state': 42, 'min_samples_leaf': 1}. Best is trial 12 with value: 0.884375.\n[I 2024-02-22 14:50:06,431] Trial 37 finished with value: 0.6875 and parameters: {'n_estimators': 999, 'max_depth': 37, 'min_samples_split': 25, 'random_state': 42, 'min_samples_leaf': 3}. Best is trial 12 with value: 0.884375.\n[I 2024-02-22 14:50:09,035] Trial 38 finished with value: 0.665625 and parameters: {'n_estimators': 156, 'max_depth': 50, 'min_samples_split': 23, 'random_state': 42, 'min_samples_leaf': 5}. Best is trial 12 with value: 0.884375.\n[I 2024-02-22 14:50:12,591] Trial 39 finished with value: 0.484375 and parameters: {'n_estimators': 237, 'max_depth': 47, 'min_samples_split': 3, 'random_state': 42, 'min_samples_leaf': 31}. Best is trial 12 with value: 0.884375.\n[I 2024-02-22 14:50:14,472] Trial 40 finished with value: 0.815625 and parameters: {'n_estimators': 101, 'max_depth': 43, 'min_samples_split': 7, 'random_state': 42, 'min_samples_leaf': 2}. Best is trial 12 with value: 0.884375.\n[I 2024-02-22 14:50:18,479] Trial 41 finished with value: 0.85625 and parameters: {'n_estimators': 219, 'max_depth': 44, 'min_samples_split': 6, 'random_state': 42, 'min_samples_leaf': 1}. Best is trial 12 with value: 0.884375.\n[I 2024-02-22 14:50:23,678] Trial 42 finished with value: 0.8625 and parameters: {'n_estimators': 296, 'max_depth': 39, 'min_samples_split': 4, 'random_state': 42, 'min_samples_leaf': 2}. Best is trial 12 with value: 0.884375.\n[I 2024-02-22 14:50:28,640] Trial 43 finished with value: 0.803125 and parameters: {'n_estimators': 301, 'max_depth': 40, 'min_samples_split': 4, 'random_state': 42, 'min_samples_leaf': 6}. Best is trial 12 with value: 0.884375.\n[I 2024-02-22 14:50:35,423] Trial 44 finished with value: 0.859375 and parameters: {'n_estimators': 394, 'max_depth': 40, 'min_samples_split': 2, 'random_state': 42, 'min_samples_leaf': 3}. Best is trial 12 with value: 0.884375.\n[I 2024-02-22 14:50:41,446] Trial 45 finished with value: 0.76875 and parameters: {'n_estimators': 380, 'max_depth': 40, 'min_samples_split': 2, 'random_state': 42, 'min_samples_leaf': 8}. Best is trial 12 with value: 0.884375.\n[I 2024-02-22 14:50:45,102] Trial 46 finished with value: 0.865625 and parameters: {'n_estimators': 195, 'max_depth': 46, 'min_samples_split': 3, 'random_state': 42, 'min_samples_leaf': 2}. Best is trial 12 with value: 0.884375.\n[I 2024-02-22 14:50:54,357] Trial 47 finished with value: 0.8 and parameters: {'n_estimators': 569, 'max_depth': 47, 'min_samples_split': 3, 'random_state': 42, 'min_samples_leaf': 6}. Best is trial 12 with value: 0.884375.\n[I 2024-02-22 14:51:07,183] Trial 48 finished with value: 0.684375 and parameters: {'n_estimators': 843, 'max_depth': 37, 'min_samples_split': 2, 'random_state': 42, 'min_samples_leaf': 16}. Best is trial 12 with value: 0.884375.\n[I 2024-02-22 14:51:15,626] Trial 49 finished with value: 0.8625 and parameters: {'n_estimators': 484, 'max_depth': 39, 'min_samples_split': 4, 'random_state': 42, 'min_samples_leaf': 3}. Best is trial 12 with value: 0.884375.\n[I 2024-02-22 14:51:22,818] Trial 50 finished with value: 0.65625 and parameters: {'n_estimators': 486, 'max_depth': 50, 'min_samples_split': 11, 'random_state': 42, 'min_samples_leaf': 18}. Best is trial 12 with value: 0.884375.\n[I 2024-02-22 14:51:32,874] Trial 51 finished with value: 0.878125 and parameters: {'n_estimators': 580, 'max_depth': 39, 'min_samples_split': 4, 'random_state': 42, 'min_samples_leaf': 2}. Best is trial 12 with value: 0.884375.\n[I 2024-02-22 14:51:43,096] Trial 52 finished with value: 0.875 and parameters: {'n_estimators': 586, 'max_depth': 38, 'min_samples_split': 4, 'random_state': 42, 'min_samples_leaf': 2}. Best is trial 12 with value: 0.884375.\n[I 2024-02-22 14:51:55,575] Trial 53 finished with value: 0.878125 and parameters: {'n_estimators': 708, 'max_depth': 36, 'min_samples_split': 4, 'random_state': 42, 'min_samples_leaf': 2}. Best is trial 12 with value: 0.884375.\n[I 2024-02-22 14:52:07,294] Trial 54 finished with value: 0.8 and parameters: {'n_estimators': 706, 'max_depth': 34, 'min_samples_split': 8, 'random_state': 42, 'min_samples_leaf': 5}. Best is trial 12 with value: 0.884375.\n[I 2024-02-22 14:52:19,715] Trial 55 finished with value: 0.871875 and parameters: {'n_estimators': 694, 'max_depth': 36, 'min_samples_split': 6, 'random_state': 42, 'min_samples_leaf': 2}. Best is trial 12 with value: 0.884375.\n[I 2024-02-22 14:52:29,847] Trial 56 finished with value: 0.571875 and parameters: {'n_estimators': 696, 'max_depth': 36, 'min_samples_split': 6, 'random_state': 42, 'min_samples_leaf': 25}. Best is trial 12 with value: 0.884375.\n[I 2024-02-22 14:52:42,060] Trial 57 finished with value: 0.740625 and parameters: {'n_estimators': 786, 'max_depth': 36, 'min_samples_split': 21, 'random_state': 42, 'min_samples_leaf': 7}. Best is trial 12 with value: 0.884375.\n[I 2024-02-22 14:52:53,237] Trial 58 finished with value: 0.78125 and parameters: {'n_estimators': 663, 'max_depth': 34, 'min_samples_split': 13, 'random_state': 42, 'min_samples_leaf': 4}. Best is trial 12 with value: 0.884375.\n[I 2024-02-22 14:53:02,507] Trial 59 finished with value: 0.725 and parameters: {'n_estimators': 570, 'max_depth': 31, 'min_samples_split': 8, 'random_state': 42, 'min_samples_leaf': 11}. Best is trial 12 with value: 0.884375.\n[I 2024-02-22 14:53:15,126] Trial 60 finished with value: 0.753125 and parameters: {'n_estimators': 767, 'max_depth': 29, 'min_samples_split': 5, 'random_state': 42, 'min_samples_leaf': 9}. Best is trial 12 with value: 0.884375.\n[I 2024-02-22 14:53:26,333] Trial 61 finished with value: 0.875 and parameters: {'n_estimators': 602, 'max_depth': 33, 'min_samples_split': 3, 'random_state': 42, 'min_samples_leaf': 2}. Best is trial 12 with value: 0.884375.\n[I 2024-02-22 14:53:37,362] Trial 62 finished with value: 0.875 and parameters: {'n_estimators': 598, 'max_depth': 33, 'min_samples_split': 3, 'random_state': 42, 'min_samples_leaf': 2}. Best is trial 12 with value: 0.884375.\n[I 2024-02-22 14:53:47,550] Trial 63 finished with value: 0.88125 and parameters: {'n_estimators': 533, 'max_depth': 33, 'min_samples_split': 3, 'random_state': 42, 'min_samples_leaf': 1}. Best is trial 12 with value: 0.884375.\n[I 2024-02-22 14:53:57,900] Trial 64 finished with value: 0.8875 and parameters: {'n_estimators': 538, 'max_depth': 30, 'min_samples_split': 4, 'random_state': 42, 'min_samples_leaf': 1}. Best is trial 64 with value: 0.8875.\n[I 2024-02-22 14:54:07,346] Trial 65 finished with value: 0.746875 and parameters: {'n_estimators': 535, 'max_depth': 25, 'min_samples_split': 17, 'random_state': 42, 'min_samples_leaf': 1}. Best is trial 64 with value: 0.8875.\n[I 2024-02-22 14:54:16,289] Trial 66 finished with value: 0.846875 and parameters: {'n_estimators': 507, 'max_depth': 30, 'min_samples_split': 5, 'random_state': 42, 'min_samples_leaf': 4}. Best is trial 64 with value: 0.8875.\n[I 2024-02-22 14:54:27,670] Trial 67 finished with value: 0.8 and parameters: {'n_estimators': 655, 'max_depth': 27, 'min_samples_split': 10, 'random_state': 42, 'min_samples_leaf': 5}. Best is trial 64 with value: 0.8875.\n[I 2024-02-22 14:54:38,253] Trial 68 finished with value: 0.890625 and parameters: {'n_estimators': 568, 'max_depth': 31, 'min_samples_split': 4, 'random_state': 42, 'min_samples_leaf': 1}. Best is trial 68 with value: 0.890625.\n[I 2024-02-22 14:54:51,959] Trial 69 finished with value: 0.896875 and parameters: {'n_estimators': 738, 'max_depth': 31, 'min_samples_split': 2, 'random_state': 42, 'min_samples_leaf': 1}. Best is trial 69 with value: 0.896875.\n[I 2024-02-22 14:55:00,407] Trial 70 finished with value: 0.83125 and parameters: {'n_estimators': 458, 'max_depth': 24, 'min_samples_split': 8, 'random_state': 42, 'min_samples_leaf': 1}. Best is trial 69 with value: 0.896875.\n[I 2024-02-22 14:55:14,969] Trial 71 finished with value: 0.871875 and parameters: {'n_estimators': 818, 'max_depth': 30, 'min_samples_split': 2, 'random_state': 42, 'min_samples_leaf': 3}. Best is trial 69 with value: 0.896875.\n[I 2024-02-22 14:55:28,543] Trial 72 finished with value: 0.871875 and parameters: {'n_estimators': 743, 'max_depth': 32, 'min_samples_split': 5, 'random_state': 42, 'min_samples_leaf': 1}. Best is trial 69 with value: 0.896875.\n[I 2024-02-22 14:55:38,308] Trial 73 finished with value: 0.84375 and parameters: {'n_estimators': 548, 'max_depth': 29, 'min_samples_split': 3, 'random_state': 42, 'min_samples_leaf': 4}. Best is trial 69 with value: 0.896875.\n[I 2024-02-22 14:55:50,380] Trial 74 finished with value: 0.8875 and parameters: {'n_estimators': 653, 'max_depth': 31, 'min_samples_split': 4, 'random_state': 42, 'min_samples_leaf': 1}. Best is trial 69 with value: 0.896875.\n[I 2024-02-22 14:56:01,668] Trial 75 finished with value: 0.853125 and parameters: {'n_estimators': 628, 'max_depth': 31, 'min_samples_split': 7, 'random_state': 42, 'min_samples_leaf': 3}. Best is trial 69 with value: 0.896875.\n[I 2024-02-22 14:56:13,789] Trial 76 finished with value: 0.865625 and parameters: {'n_estimators': 665, 'max_depth': 34, 'min_samples_split': 6, 'random_state': 42, 'min_samples_leaf': 1}. Best is trial 69 with value: 0.896875.\n[I 2024-02-22 14:56:22,843] Trial 77 finished with value: 0.840625 and parameters: {'n_estimators': 513, 'max_depth': 28, 'min_samples_split': 2, 'random_state': 42, 'min_samples_leaf': 4}. Best is trial 69 with value: 0.896875.\n[I 2024-02-22 14:56:34,016] Trial 78 finished with value: 0.803125 and parameters: {'n_estimators': 647, 'max_depth': 32, 'min_samples_split': 5, 'random_state': 42, 'min_samples_leaf': 6}. Best is trial 69 with value: 0.896875.\n[I 2024-02-22 14:56:43,696] Trial 79 finished with value: 0.6875 and parameters: {'n_estimators': 563, 'max_depth': 27, 'min_samples_split': 28, 'random_state': 42, 'min_samples_leaf': 1}. Best is trial 69 with value: 0.896875.\n[I 2024-02-22 14:56:50,985] Trial 80 finished with value: 0.853125 and parameters: {'n_estimators': 413, 'max_depth': 12, 'min_samples_split': 3, 'random_state': 42, 'min_samples_leaf': 3}. Best is trial 69 with value: 0.896875.\n[I 2024-02-22 14:57:04,514] Trial 81 finished with value: 0.88125 and parameters: {'n_estimators': 734, 'max_depth': 35, 'min_samples_split': 4, 'random_state': 42, 'min_samples_leaf': 2}. Best is trial 69 with value: 0.896875.\n[I 2024-02-22 14:57:18,173] Trial 82 finished with value: 0.88125 and parameters: {'n_estimators': 747, 'max_depth': 31, 'min_samples_split': 4, 'random_state': 42, 'min_samples_leaf': 2}. Best is trial 69 with value: 0.896875.\n[I 2024-02-22 14:57:31,969] Trial 83 finished with value: 0.878125 and parameters: {'n_estimators': 734, 'max_depth': 32, 'min_samples_split': 3, 'random_state': 42, 'min_samples_leaf': 1}. Best is trial 69 with value: 0.896875.\n[I 2024-02-22 14:57:45,637] Trial 84 finished with value: 0.8 and parameters: {'n_estimators': 794, 'max_depth': 34, 'min_samples_split': 2, 'random_state': 42, 'min_samples_leaf': 5}. Best is trial 69 with value: 0.896875.\n[I 2024-02-22 14:58:00,421] Trial 85 finished with value: 0.84375 and parameters: {'n_estimators': 847, 'max_depth': 28, 'min_samples_split': 5, 'random_state': 42, 'min_samples_leaf': 4}. Best is trial 69 with value: 0.896875.\n[I 2024-02-22 14:58:12,549] Trial 86 finished with value: 0.871875 and parameters: {'n_estimators': 675, 'max_depth': 31, 'min_samples_split': 4, 'random_state': 42, 'min_samples_leaf': 3}. Best is trial 69 with value: 0.896875.\n[I 2024-02-22 14:58:25,987] Trial 87 finished with value: 0.875 and parameters: {'n_estimators': 737, 'max_depth': 29, 'min_samples_split': 6, 'random_state': 42, 'min_samples_leaf': 2}. Best is trial 69 with value: 0.896875.\n[I 2024-02-22 14:58:42,322] Trial 88 finished with value: 0.846875 and parameters: {'n_estimators': 890, 'max_depth': 35, 'min_samples_split': 7, 'random_state': 42, 'min_samples_leaf': 1}. Best is trial 69 with value: 0.896875.\n[I 2024-02-22 14:58:56,414] Trial 89 finished with value: 0.878125 and parameters: {'n_estimators': 776, 'max_depth': 30, 'min_samples_split': 4, 'random_state': 42, 'min_samples_leaf': 2}. Best is trial 69 with value: 0.896875.\n[I 2024-02-22 14:59:08,843] Trial 90 finished with value: 0.565625 and parameters: {'n_estimators': 806, 'max_depth': 33, 'min_samples_split': 3, 'random_state': 42, 'min_samples_leaf': 25}. Best is trial 69 with value: 0.896875.\n[I 2024-02-22 14:59:14,757] Trial 91 finished with value: 0.640625 and parameters: {'n_estimators': 335, 'max_depth': 37, 'min_samples_split': 32, 'random_state': 42, 'min_samples_leaf': 2}. Best is trial 69 with value: 0.896875.\n[I 2024-02-22 14:59:26,172] Trial 92 finished with value: 0.8875 and parameters: {'n_estimators': 615, 'max_depth': 35, 'min_samples_split': 4, 'random_state': 42, 'min_samples_leaf': 1}. Best is trial 69 with value: 0.896875.\n[I 2024-02-22 14:59:37,110] Trial 93 finished with value: 0.871875 and parameters: {'n_estimators': 611, 'max_depth': 35, 'min_samples_split': 2, 'random_state': 42, 'min_samples_leaf': 3}. Best is trial 69 with value: 0.896875.\n[I 2024-02-22 14:59:49,011] Trial 94 finished with value: 0.8875 and parameters: {'n_estimators': 634, 'max_depth': 31, 'min_samples_split': 4, 'random_state': 42, 'min_samples_leaf': 1}. Best is trial 69 with value: 0.896875.\n[I 2024-02-22 15:00:01,669] Trial 95 finished with value: 0.865625 and parameters: {'n_estimators': 684, 'max_depth': 33, 'min_samples_split': 5, 'random_state': 42, 'min_samples_leaf': 1}. Best is trial 69 with value: 0.896875.\n[I 2024-02-22 15:00:13,887] Trial 96 finished with value: 0.890625 and parameters: {'n_estimators': 634, 'max_depth': 35, 'min_samples_split': 2, 'random_state': 42, 'min_samples_leaf': 1}. Best is trial 69 with value: 0.896875.\n[I 2024-02-22 15:00:26,078] Trial 97 finished with value: 0.8875 and parameters: {'n_estimators': 643, 'max_depth': 32, 'min_samples_split': 2, 'random_state': 42, 'min_samples_leaf': 1}. Best is trial 69 with value: 0.896875.\n[I 2024-02-22 15:00:37,191] Trial 98 finished with value: 0.8 and parameters: {'n_estimators': 645, 'max_depth': 27, 'min_samples_split': 2, 'random_state': 42, 'min_samples_leaf': 5}. Best is trial 69 with value: 0.896875.\n[I 2024-02-22 15:00:48,310] Trial 99 finished with value: 0.834375 and parameters: {'n_estimators': 634, 'max_depth': 30, 'min_samples_split': 3, 'random_state': 42, 'min_samples_leaf': 4}. Best is trial 69 with value: 0.896875.\n",
          "output_type": "stream"
        },
        {
          "name": "stdout",
          "text": "Best params found : {'n_estimators': 738, 'max_depth': 31, 'min_samples_split': 2, 'random_state': 42, 'min_samples_leaf': 1}\n",
          "output_type": "stream"
        },
        {
          "execution_count": 17,
          "output_type": "execute_result",
          "data": {
            "text/plain": "0.9875"
          },
          "metadata": {}
        }
      ]
    },
    {
      "cell_type": "code",
      "source": [
        "final_model = RandomForestClassifier(**best_params)\n",
        "final_model.fit(X_train_reduced, y_train)\n",
        "y_pred = final_model.predict(X_test_reduced)\n",
        "prediction_results['random forest'] = list(y_pred)\n",
        "\n",
        "accuracy = accuracy_score(y_test, y_pred)\n",
        "precision = precision_score(y_test, y_pred, average='macro')\n",
        "recall = recall_score(y_test, y_pred, average='macro')\n",
        "f1 = f1_score(y_test, y_pred, average='macro')\n",
        "\n",
        "# One-hot encoding for probability calculation (adapt if necessary)\n",
        "y_test_onehot = pd.get_dummies(y_test, prefix='label_')  # Assuming 'label_' prefix for clarity\n",
        "y_pred_onehot = pd.get_dummies(y_pred, prefix='label_')\n",
        "\n",
        "# ROC AUC score with multiclass handling\n",
        "roc_auc_macro = roc_auc_score(y_test_onehot, y_pred_onehot, average='macro', multi_class='ovo')  # Specify 'ovo' or 'ovr'\n",
        "\n",
        "print(\"accuracy:\", accuracy)\n",
        "print(\"recall:\", recall)\n",
        "print(\"precision:\", precision)\n",
        "print(\"f1-score:\", f1)\n",
        "print('roc_auc: ', roc_auc_macro)"
      ],
      "metadata": {
        "execution": {
          "iopub.status.busy": "2024-02-22T15:00:51.591463Z",
          "iopub.execute_input": "2024-02-22T15:00:51.591979Z",
          "iopub.status.idle": "2024-02-22T15:00:54.834052Z",
          "shell.execute_reply.started": "2024-02-22T15:00:51.591951Z",
          "shell.execute_reply": "2024-02-22T15:00:54.833092Z"
        },
        "trusted": true,
        "id": "I7PN05R_gZ4x",
        "outputId": "23156123-a4f6-4b8a-e2e0-21c24bf9d8c4"
      },
      "execution_count": null,
      "outputs": [
        {
          "name": "stdout",
          "text": "accuracy: 0.9875\nrecall: 0.9722222222222222\nprecision: 0.9629629629629629\nf1-score: 0.9666666666666666\nroc_auc:  0.7339875119474435\n",
          "output_type": "stream"
        },
        {
          "name": "stderr",
          "text": "/opt/conda/lib/python3.10/site-packages/sklearn/metrics/_classification.py:1344: UndefinedMetricWarning: Precision is ill-defined and being set to 0.0 in labels with no predicted samples. Use `zero_division` parameter to control this behavior.\n  _warn_prf(average, modifier, msg_start, len(result))\n",
          "output_type": "stream"
        }
      ]
    },
    {
      "cell_type": "markdown",
      "source": [
        "****"
      ],
      "metadata": {
        "id": "6PhMsAr7gZ4x"
      }
    },
    {
      "cell_type": "markdown",
      "source": [
        "# Gassian NB"
      ],
      "metadata": {
        "id": "RwWmcDyJgZ4x"
      }
    },
    {
      "cell_type": "markdown",
      "source": [
        "**Pre-tunning**"
      ],
      "metadata": {
        "id": "4cEmUaPGgZ4x"
      }
    },
    {
      "cell_type": "code",
      "source": [
        "from sklearn.naive_bayes import GaussianNB\n",
        "gnb = GaussianNB()\n",
        "gnb.fit(X_train_reduced, y_train)\n",
        "\n",
        "y_pred = gnb.predict(X_test_reduced)\n",
        "\n",
        "accuracy = accuracy_score(y_test, y_pred)\n",
        "precision = precision_score(y_test, y_pred, average='macro')\n",
        "recall = recall_score(y_test, y_pred, average='macro')\n",
        "f1 = f1_score(y_test, y_pred, average='macro')\n",
        "\n",
        "# One-hot encoding for probability calculation (adapt if necessary)\n",
        "y_test_onehot = pd.get_dummies(y_test, prefix='label_')  # Assuming 'label_' prefix for clarity\n",
        "y_pred_onehot = pd.get_dummies(y_pred, prefix='label_')\n",
        "\n",
        "# # ROC AUC score with multiclass handling\n",
        "# roc_auc_macro = roc_auc_score(y_test_onehot, y_pred_onehot, average='macro', multi_class='ovr')  # Specify 'ovo' or 'ovr'\n",
        "\n",
        "print(\"accuracy:\", accuracy)\n",
        "print(\"recall:\", recall)\n",
        "print(\"precision:\", precision)\n",
        "print(\"f1-score:\", f1)\n",
        "# print('roc_auc: ', roc_auc_macro)\n"
      ],
      "metadata": {
        "_kg_hide-output": true,
        "execution": {
          "iopub.status.busy": "2024-02-22T15:00:54.835415Z",
          "iopub.execute_input": "2024-02-22T15:00:54.835689Z",
          "iopub.status.idle": "2024-02-22T15:00:54.861615Z",
          "shell.execute_reply.started": "2024-02-22T15:00:54.835666Z",
          "shell.execute_reply": "2024-02-22T15:00:54.860622Z"
        },
        "trusted": true,
        "id": "MRAa0GXzgZ4x",
        "outputId": "0c63990c-b5fb-45f9-c774-05916f207861"
      },
      "execution_count": null,
      "outputs": [
        {
          "name": "stdout",
          "text": "accuracy: 0.9625\nrecall: 0.9444444444444444\nprecision: 0.9375\nf1-score: 0.9358465608465608\n",
          "output_type": "stream"
        },
        {
          "name": "stderr",
          "text": "/opt/conda/lib/python3.10/site-packages/sklearn/metrics/_classification.py:1344: UndefinedMetricWarning: Precision is ill-defined and being set to 0.0 in labels with no predicted samples. Use `zero_division` parameter to control this behavior.\n  _warn_prf(average, modifier, msg_start, len(result))\n",
          "output_type": "stream"
        }
      ]
    },
    {
      "cell_type": "markdown",
      "source": [
        "**Tunning**"
      ],
      "metadata": {
        "id": "hLmkeFUAgZ4x"
      }
    },
    {
      "cell_type": "code",
      "source": [
        "def objective(trial):\n",
        "    hyperparams = {\n",
        "        'var_smoothing': trial.suggest_float('var_smoothing', 1e-9, 1e-4, log = True)\n",
        "    }\n",
        "\n",
        "    model = GaussianNB(**hyperparams)\n",
        "    scores = cross_val_score(model, X_train_reduced, y_train, cv = kf,scoring = 'accuracy')\n",
        "    return np.mean(scores)"
      ],
      "metadata": {
        "execution": {
          "iopub.status.busy": "2024-02-22T15:00:54.863098Z",
          "iopub.execute_input": "2024-02-22T15:00:54.863401Z",
          "iopub.status.idle": "2024-02-22T15:00:54.869123Z",
          "shell.execute_reply.started": "2024-02-22T15:00:54.863375Z",
          "shell.execute_reply": "2024-02-22T15:00:54.868035Z"
        },
        "trusted": true,
        "id": "TjsJJhB4gZ4x"
      },
      "execution_count": null,
      "outputs": []
    },
    {
      "cell_type": "code",
      "source": [
        "study = optuna.create_study(direction = 'maximize')\n",
        "study.optimize(objective, n_trials = 100)\n",
        "best_params = study.best_params\n",
        "print(\"Best params found :\", best_params)\n",
        "\n",
        "final_model = GaussianNB(**best_params)\n",
        "final_model.fit(X_train_reduced, y_train)\n",
        "y_pred = final_model.predict(X_test_reduced)\n",
        "prediction_results['gnb'] = list(y_pred)\n",
        "\n",
        "accuracy = accuracy_score(y_test, y_pred)\n",
        "precision = precision_score(y_test, y_pred, average='macro')\n",
        "recall = recall_score(y_test, y_pred, average='macro')\n",
        "f1 = f1_score(y_test, y_pred, average='macro')\n",
        "\n",
        "# # One-hot encoding for probability calculation (adapt if necessary)\n",
        "# y_test_onehot = pd.get_dummies(y_test, prefix='label_')  # Assuming 'label_' prefix for clarity\n",
        "# y_pred_onehot = pd.get_dummies(y_pred, prefix='label_')\n",
        "\n",
        "# # ROC AUC score with multiclass handling\n",
        "# roc_auc_macro = roc_auc_score(y_test_onehot, y_pred_onehot, average='macro', multi_class='ovo')  # Specify 'ovo' or 'ovr'\n",
        "\n",
        "print(\"accuracy:\", accuracy)\n",
        "print(\"recall:\", recall)\n",
        "print(\"precision:\", precision)\n",
        "print(\"f1-score:\", f1)\n",
        "# print('roc_auc: ', roc_auc_macro)"
      ],
      "metadata": {
        "execution": {
          "iopub.status.busy": "2024-02-22T15:00:54.870848Z",
          "iopub.execute_input": "2024-02-22T15:00:54.871264Z",
          "iopub.status.idle": "2024-02-22T15:00:59.334351Z",
          "shell.execute_reply.started": "2024-02-22T15:00:54.871227Z",
          "shell.execute_reply": "2024-02-22T15:00:59.333342Z"
        },
        "trusted": true,
        "id": "rctZQyxygZ4x",
        "outputId": "d1839804-f3ea-48d9-8f8e-b3b71100bf7a"
      },
      "execution_count": null,
      "outputs": [
        {
          "name": "stderr",
          "text": "[I 2024-02-22 15:00:54,878] A new study created in memory with name: no-name-b61aa5f2-3851-4f16-9b90-1a6b3a2f1018\n[I 2024-02-22 15:00:54,919] Trial 0 finished with value: 0.75 and parameters: {'var_smoothing': 2.2954820641721784e-08}. Best is trial 0 with value: 0.75.\n[I 2024-02-22 15:00:54,958] Trial 1 finished with value: 0.75 and parameters: {'var_smoothing': 3.182377714267511e-07}. Best is trial 0 with value: 0.75.\n[I 2024-02-22 15:00:54,996] Trial 2 finished with value: 0.75 and parameters: {'var_smoothing': 5.728554951170556e-06}. Best is trial 0 with value: 0.75.\n[I 2024-02-22 15:00:55,036] Trial 3 finished with value: 0.7625 and parameters: {'var_smoothing': 6.480769515178086e-05}. Best is trial 3 with value: 0.7625.\n[I 2024-02-22 15:00:55,076] Trial 4 finished with value: 0.75 and parameters: {'var_smoothing': 1.000458267495806e-05}. Best is trial 3 with value: 0.7625.\n[I 2024-02-22 15:00:55,116] Trial 5 finished with value: 0.75 and parameters: {'var_smoothing': 6.828075647977518e-06}. Best is trial 3 with value: 0.7625.\n[I 2024-02-22 15:00:55,157] Trial 6 finished with value: 0.75 and parameters: {'var_smoothing': 1.3756802090637876e-05}. Best is trial 3 with value: 0.7625.\n[I 2024-02-22 15:00:55,197] Trial 7 finished with value: 0.75 and parameters: {'var_smoothing': 3.306731037590792e-08}. Best is trial 3 with value: 0.7625.\n[I 2024-02-22 15:00:55,238] Trial 8 finished with value: 0.75 and parameters: {'var_smoothing': 2.1698970027057837e-08}. Best is trial 3 with value: 0.7625.\n[I 2024-02-22 15:00:55,281] Trial 9 finished with value: 0.75 and parameters: {'var_smoothing': 1.2849198123983904e-05}. Best is trial 3 with value: 0.7625.\n[I 2024-02-22 15:00:55,329] Trial 10 finished with value: 0.7625 and parameters: {'var_smoothing': 8.88581469332437e-05}. Best is trial 3 with value: 0.7625.\n[I 2024-02-22 15:00:55,377] Trial 11 finished with value: 0.7625 and parameters: {'var_smoothing': 9.1174411994562e-05}. Best is trial 3 with value: 0.7625.\n[I 2024-02-22 15:00:55,425] Trial 12 finished with value: 0.765625 and parameters: {'var_smoothing': 9.670923469875092e-05}. Best is trial 12 with value: 0.765625.\n[I 2024-02-22 15:00:55,471] Trial 13 finished with value: 0.75 and parameters: {'var_smoothing': 5.515875280238537e-07}. Best is trial 12 with value: 0.765625.\n[I 2024-02-22 15:00:55,516] Trial 14 finished with value: 0.75 and parameters: {'var_smoothing': 2.87228317694239e-09}. Best is trial 12 with value: 0.765625.\n[I 2024-02-22 15:00:55,562] Trial 15 finished with value: 0.75 and parameters: {'var_smoothing': 1.1592792033262105e-06}. Best is trial 12 with value: 0.765625.\n[I 2024-02-22 15:00:55,606] Trial 16 finished with value: 0.75 and parameters: {'var_smoothing': 4.110725596019515e-05}. Best is trial 12 with value: 0.765625.\n[I 2024-02-22 15:00:55,649] Trial 17 finished with value: 0.75 and parameters: {'var_smoothing': 2.6982620475562297e-06}. Best is trial 12 with value: 0.765625.\n[I 2024-02-22 15:00:55,695] Trial 18 finished with value: 0.75 and parameters: {'var_smoothing': 3.2006249404689065e-05}. Best is trial 12 with value: 0.765625.\n[I 2024-02-22 15:00:55,739] Trial 19 finished with value: 0.75 and parameters: {'var_smoothing': 1.0489676604408653e-07}. Best is trial 12 with value: 0.765625.\n[I 2024-02-22 15:00:55,784] Trial 20 finished with value: 0.75 and parameters: {'var_smoothing': 1.4363993570894808e-09}. Best is trial 12 with value: 0.765625.\n[I 2024-02-22 15:00:55,828] Trial 21 finished with value: 0.765625 and parameters: {'var_smoothing': 9.742230614801267e-05}. Best is trial 12 with value: 0.765625.\n[I 2024-02-22 15:00:55,872] Trial 22 finished with value: 0.75 and parameters: {'var_smoothing': 3.4156345142385114e-05}. Best is trial 12 with value: 0.765625.\n[I 2024-02-22 15:00:55,918] Trial 23 finished with value: 0.75 and parameters: {'var_smoothing': 2.3406908665545516e-06}. Best is trial 12 with value: 0.765625.\n[I 2024-02-22 15:00:55,963] Trial 24 finished with value: 0.765625 and parameters: {'var_smoothing': 9.822333313820547e-05}. Best is trial 12 with value: 0.765625.\n[I 2024-02-22 15:00:56,009] Trial 25 finished with value: 0.75 and parameters: {'var_smoothing': 2.4188186602153017e-05}. Best is trial 12 with value: 0.765625.\n[I 2024-02-22 15:00:56,056] Trial 26 finished with value: 0.75 and parameters: {'var_smoothing': 3.383643449595603e-06}. Best is trial 12 with value: 0.765625.\n[I 2024-02-22 15:00:56,100] Trial 27 finished with value: 0.75 and parameters: {'var_smoothing': 1.9869579630016204e-05}. Best is trial 12 with value: 0.765625.\n[I 2024-02-22 15:00:56,144] Trial 28 finished with value: 0.7625 and parameters: {'var_smoothing': 8.526323812478968e-05}. Best is trial 12 with value: 0.765625.\n[I 2024-02-22 15:00:56,188] Trial 29 finished with value: 0.75 and parameters: {'var_smoothing': 1.2983146197761127e-06}. Best is trial 12 with value: 0.765625.\n[I 2024-02-22 15:00:56,231] Trial 30 finished with value: 0.75 and parameters: {'var_smoothing': 4.1329048630900146e-05}. Best is trial 12 with value: 0.765625.\n[I 2024-02-22 15:00:56,276] Trial 31 finished with value: 0.759375 and parameters: {'var_smoothing': 6.057162344242163e-05}. Best is trial 12 with value: 0.765625.\n[I 2024-02-22 15:00:56,321] Trial 32 finished with value: 0.75 and parameters: {'var_smoothing': 1.9712723027332535e-05}. Best is trial 12 with value: 0.765625.\n[I 2024-02-22 15:00:56,365] Trial 33 finished with value: 0.75625 and parameters: {'var_smoothing': 5.1721764360835824e-05}. Best is trial 12 with value: 0.765625.\n[I 2024-02-22 15:00:56,410] Trial 34 finished with value: 0.75 and parameters: {'var_smoothing': 9.127759131998437e-06}. Best is trial 12 with value: 0.765625.\n[I 2024-02-22 15:00:56,453] Trial 35 finished with value: 0.7625 and parameters: {'var_smoothing': 9.008534129773519e-05}. Best is trial 12 with value: 0.765625.\n[I 2024-02-22 15:00:56,498] Trial 36 finished with value: 0.75 and parameters: {'var_smoothing': 5.169538398781214e-06}. Best is trial 12 with value: 0.765625.\n[I 2024-02-22 15:00:56,543] Trial 37 finished with value: 0.75 and parameters: {'var_smoothing': 1.5672185856369772e-05}. Best is trial 12 with value: 0.765625.\n[I 2024-02-22 15:00:56,590] Trial 38 finished with value: 0.75 and parameters: {'var_smoothing': 6.100110205709767e-06}. Best is trial 12 with value: 0.765625.\n[I 2024-02-22 15:00:56,636] Trial 39 finished with value: 0.75625 and parameters: {'var_smoothing': 5.3917137890211746e-05}. Best is trial 12 with value: 0.765625.\n[I 2024-02-22 15:00:56,680] Trial 40 finished with value: 0.75 and parameters: {'var_smoothing': 2.0248542635189877e-07}. Best is trial 12 with value: 0.765625.\n[I 2024-02-22 15:00:56,724] Trial 41 finished with value: 0.7625 and parameters: {'var_smoothing': 7.703314128787758e-05}. Best is trial 12 with value: 0.765625.\n[I 2024-02-22 15:00:56,768] Trial 42 finished with value: 0.75 and parameters: {'var_smoothing': 3.0285548562914232e-05}. Best is trial 12 with value: 0.765625.\n[I 2024-02-22 15:00:56,812] Trial 43 finished with value: 0.7625 and parameters: {'var_smoothing': 8.771138644995404e-05}. Best is trial 12 with value: 0.765625.\n[I 2024-02-22 15:00:56,853] Trial 44 finished with value: 0.765625 and parameters: {'var_smoothing': 9.976026824054397e-05}. Best is trial 12 with value: 0.765625.\n[I 2024-02-22 15:00:56,895] Trial 45 finished with value: 0.75 and parameters: {'var_smoothing': 1.0958048476422487e-05}. Best is trial 12 with value: 0.765625.\n[I 2024-02-22 15:00:56,939] Trial 46 finished with value: 0.75 and parameters: {'var_smoothing': 1.2517021807952749e-08}. Best is trial 12 with value: 0.765625.\n[I 2024-02-22 15:00:56,985] Trial 47 finished with value: 0.75625 and parameters: {'var_smoothing': 4.6734556100790223e-05}. Best is trial 12 with value: 0.765625.\n[I 2024-02-22 15:00:57,029] Trial 48 finished with value: 0.75 and parameters: {'var_smoothing': 2.430932580878546e-05}. Best is trial 12 with value: 0.765625.\n[I 2024-02-22 15:00:57,071] Trial 49 finished with value: 0.765625 and parameters: {'var_smoothing': 9.93125704801251e-05}. Best is trial 12 with value: 0.765625.\n[I 2024-02-22 15:00:57,114] Trial 50 finished with value: 0.75 and parameters: {'var_smoothing': 1.3560994255420723e-05}. Best is trial 12 with value: 0.765625.\n[I 2024-02-22 15:00:57,156] Trial 51 finished with value: 0.75625 and parameters: {'var_smoothing': 5.6900091743495444e-05}. Best is trial 12 with value: 0.765625.\n[I 2024-02-22 15:00:57,201] Trial 52 finished with value: 0.7625 and parameters: {'var_smoothing': 9.543197710520369e-05}. Best is trial 12 with value: 0.765625.\n[I 2024-02-22 15:00:57,247] Trial 53 finished with value: 0.75 and parameters: {'var_smoothing': 3.4516570151215526e-05}. Best is trial 12 with value: 0.765625.\n[I 2024-02-22 15:00:57,293] Trial 54 finished with value: 0.765625 and parameters: {'var_smoothing': 9.846835804677031e-05}. Best is trial 12 with value: 0.765625.\n[I 2024-02-22 15:00:57,338] Trial 55 finished with value: 0.765625 and parameters: {'var_smoothing': 9.952091278633244e-05}. Best is trial 12 with value: 0.765625.\n[I 2024-02-22 15:00:57,381] Trial 56 finished with value: 0.75625 and parameters: {'var_smoothing': 5.663780663629794e-05}. Best is trial 12 with value: 0.765625.\n[I 2024-02-22 15:00:57,425] Trial 57 finished with value: 0.75 and parameters: {'var_smoothing': 2.778078636011017e-05}. Best is trial 12 with value: 0.765625.\n[I 2024-02-22 15:00:57,469] Trial 58 finished with value: 0.75 and parameters: {'var_smoothing': 1.8508573224340075e-05}. Best is trial 12 with value: 0.765625.\n[I 2024-02-22 15:00:57,513] Trial 59 finished with value: 0.75 and parameters: {'var_smoothing': 3.6458362703193437e-05}. Best is trial 12 with value: 0.765625.\n[I 2024-02-22 15:00:57,557] Trial 60 finished with value: 0.7625 and parameters: {'var_smoothing': 6.278280771230035e-05}. Best is trial 12 with value: 0.765625.\n[I 2024-02-22 15:00:57,603] Trial 61 finished with value: 0.765625 and parameters: {'var_smoothing': 9.733738689406268e-05}. Best is trial 12 with value: 0.765625.\n[I 2024-02-22 15:00:57,649] Trial 62 finished with value: 0.75 and parameters: {'var_smoothing': 4.329585575838417e-05}. Best is trial 12 with value: 0.765625.\n[I 2024-02-22 15:00:57,696] Trial 63 finished with value: 0.765625 and parameters: {'var_smoothing': 9.793284630520056e-05}. Best is trial 12 with value: 0.765625.\n[I 2024-02-22 15:00:57,741] Trial 64 finished with value: 0.759375 and parameters: {'var_smoothing': 6.13907640307863e-05}. Best is trial 12 with value: 0.765625.\n[I 2024-02-22 15:00:57,788] Trial 65 finished with value: 0.7625 and parameters: {'var_smoothing': 6.733192941904792e-05}. Best is trial 12 with value: 0.765625.\n[I 2024-02-22 15:00:57,833] Trial 66 finished with value: 0.75 and parameters: {'var_smoothing': 2.7140802188455298e-05}. Best is trial 12 with value: 0.765625.\n[I 2024-02-22 15:00:57,877] Trial 67 finished with value: 0.75 and parameters: {'var_smoothing': 4.108321127611247e-05}. Best is trial 12 with value: 0.765625.\n[I 2024-02-22 15:00:57,920] Trial 68 finished with value: 0.75 and parameters: {'var_smoothing': 7.766153456489852e-08}. Best is trial 12 with value: 0.765625.\n[I 2024-02-22 15:00:57,965] Trial 69 finished with value: 0.7625 and parameters: {'var_smoothing': 6.982224125832655e-05}. Best is trial 12 with value: 0.765625.\n[I 2024-02-22 15:00:58,011] Trial 70 finished with value: 0.75 and parameters: {'var_smoothing': 9.421377039363401e-06}. Best is trial 12 with value: 0.765625.\n[I 2024-02-22 15:00:58,055] Trial 71 finished with value: 0.7625 and parameters: {'var_smoothing': 9.613699761625054e-05}. Best is trial 12 with value: 0.765625.\n[I 2024-02-22 15:00:58,099] Trial 72 finished with value: 0.75625 and parameters: {'var_smoothing': 4.525794874316296e-05}. Best is trial 12 with value: 0.765625.\n[I 2024-02-22 15:00:58,144] Trial 73 finished with value: 0.75 and parameters: {'var_smoothing': 6.294985894087546e-07}. Best is trial 12 with value: 0.765625.\n[I 2024-02-22 15:00:58,190] Trial 74 finished with value: 0.75 and parameters: {'var_smoothing': 2.147533134154271e-05}. Best is trial 12 with value: 0.765625.\n[I 2024-02-22 15:00:58,235] Trial 75 finished with value: 0.7625 and parameters: {'var_smoothing': 7.003102003233086e-05}. Best is trial 12 with value: 0.765625.\n[I 2024-02-22 15:00:58,280] Trial 76 finished with value: 0.7625 and parameters: {'var_smoothing': 9.495551244117547e-05}. Best is trial 12 with value: 0.765625.\n[I 2024-02-22 15:00:58,324] Trial 77 finished with value: 0.75 and parameters: {'var_smoothing': 1.0552377762964914e-08}. Best is trial 12 with value: 0.765625.\n[I 2024-02-22 15:00:58,371] Trial 78 finished with value: 0.75 and parameters: {'var_smoothing': 3.357636746644684e-05}. Best is trial 12 with value: 0.765625.\n[I 2024-02-22 15:00:58,418] Trial 79 finished with value: 0.75625 and parameters: {'var_smoothing': 5.0240757216039024e-05}. Best is trial 12 with value: 0.765625.\n[I 2024-02-22 15:00:58,480] Trial 80 finished with value: 0.7625 and parameters: {'var_smoothing': 7.065185041917091e-05}. Best is trial 12 with value: 0.765625.\n[I 2024-02-22 15:00:58,524] Trial 81 finished with value: 0.765625 and parameters: {'var_smoothing': 9.694603619671997e-05}. Best is trial 12 with value: 0.765625.\n[I 2024-02-22 15:00:58,567] Trial 82 finished with value: 0.765625 and parameters: {'var_smoothing': 9.867191056989573e-05}. Best is trial 12 with value: 0.765625.\n[I 2024-02-22 15:00:58,610] Trial 83 finished with value: 0.7625 and parameters: {'var_smoothing': 7.24285891547056e-05}. Best is trial 12 with value: 0.765625.\n[I 2024-02-22 15:00:58,655] Trial 84 finished with value: 0.75625 and parameters: {'var_smoothing': 4.624425033935488e-05}. Best is trial 12 with value: 0.765625.\n[I 2024-02-22 15:00:58,700] Trial 85 finished with value: 0.75 and parameters: {'var_smoothing': 2.923974879694172e-05}. Best is trial 12 with value: 0.765625.\n[I 2024-02-22 15:00:58,744] Trial 86 finished with value: 0.75 and parameters: {'var_smoothing': 1.6494578986648578e-05}. Best is trial 12 with value: 0.765625.\n[I 2024-02-22 15:00:58,788] Trial 87 finished with value: 0.7625 and parameters: {'var_smoothing': 7.344126460767844e-05}. Best is trial 12 with value: 0.765625.\n[I 2024-02-22 15:00:58,831] Trial 88 finished with value: 0.75625 and parameters: {'var_smoothing': 5.2788399879947585e-05}. Best is trial 12 with value: 0.765625.\n[I 2024-02-22 15:00:58,874] Trial 89 finished with value: 0.75 and parameters: {'var_smoothing': 3.592934305876453e-05}. Best is trial 12 with value: 0.765625.\n[I 2024-02-22 15:00:58,918] Trial 90 finished with value: 0.75 and parameters: {'var_smoothing': 2.2802725459520357e-05}. Best is trial 12 with value: 0.765625.\n[I 2024-02-22 15:00:58,964] Trial 91 finished with value: 0.7625 and parameters: {'var_smoothing': 9.630953708131673e-05}. Best is trial 12 with value: 0.765625.\n[I 2024-02-22 15:00:59,009] Trial 92 finished with value: 0.7625 and parameters: {'var_smoothing': 7.582107780356035e-05}. Best is trial 12 with value: 0.765625.\n[I 2024-02-22 15:00:59,053] Trial 93 finished with value: 0.75625 and parameters: {'var_smoothing': 5.787457652539917e-05}. Best is trial 12 with value: 0.765625.\n[I 2024-02-22 15:00:59,097] Trial 94 finished with value: 0.765625 and parameters: {'var_smoothing': 9.829933247709963e-05}. Best is trial 12 with value: 0.765625.\n[I 2024-02-22 15:00:59,141] Trial 95 finished with value: 0.75 and parameters: {'var_smoothing': 4.340031971906526e-05}. Best is trial 12 with value: 0.765625.\n[I 2024-02-22 15:00:59,186] Trial 96 finished with value: 0.7625 and parameters: {'var_smoothing': 7.348166986390435e-05}. Best is trial 12 with value: 0.765625.\n[I 2024-02-22 15:00:59,228] Trial 97 finished with value: 0.75625 and parameters: {'var_smoothing': 5.8213815371863275e-05}. Best is trial 12 with value: 0.765625.\n[I 2024-02-22 15:00:59,271] Trial 98 finished with value: 0.75 and parameters: {'var_smoothing': 3.866300502127314e-05}. Best is trial 12 with value: 0.765625.\n[I 2024-02-22 15:00:59,315] Trial 99 finished with value: 0.7625 and parameters: {'var_smoothing': 7.851317696648003e-05}. Best is trial 12 with value: 0.765625.\n",
          "output_type": "stream"
        },
        {
          "name": "stdout",
          "text": "Best params found : {'var_smoothing': 9.670923469875092e-05}\naccuracy: 0.9625\nrecall: 0.9444444444444444\nprecision: 0.9375\nf1-score: 0.9358465608465608\n",
          "output_type": "stream"
        },
        {
          "name": "stderr",
          "text": "/opt/conda/lib/python3.10/site-packages/sklearn/metrics/_classification.py:1344: UndefinedMetricWarning: Precision is ill-defined and being set to 0.0 in labels with no predicted samples. Use `zero_division` parameter to control this behavior.\n  _warn_prf(average, modifier, msg_start, len(result))\n",
          "output_type": "stream"
        }
      ]
    },
    {
      "cell_type": "markdown",
      "source": [
        "****"
      ],
      "metadata": {
        "id": "Eo4CEjSqgZ4y"
      }
    },
    {
      "cell_type": "markdown",
      "source": [
        "# Logistic Regression"
      ],
      "metadata": {
        "id": "hULALcHkgZ4y"
      }
    },
    {
      "cell_type": "markdown",
      "source": [
        "**Normal**"
      ],
      "metadata": {
        "id": "FkQt12xqgZ4y"
      }
    },
    {
      "cell_type": "code",
      "source": [
        "lr = LogisticRegression()\n",
        "lr.fit(X_train_reduced, y_train)\n",
        "y_pred = lr.predict(X_test_reduced)\n",
        "\n",
        "accuracy = accuracy_score(y_test, y_pred)\n",
        "precision = precision_score(y_test, y_pred, average='macro')\n",
        "recall = recall_score(y_test, y_pred, average='macro')\n",
        "f1 = f1_score(y_test, y_pred, average='macro')\n",
        "\n",
        "# # One-hot encoding for probability calculation (adapt if necessary)\n",
        "# y_test_onehot = pd.get_dummies(y_test, prefix='label_')  # Assuming 'label_' prefix for clarity\n",
        "# y_pred_onehot = pd.get_dummies(y_pred, prefix='label_')\n",
        "\n",
        "# # ROC AUC score with multiclass handling\n",
        "# roc_auc_macro = roc_auc_score(y_test_onehot, y_pred_onehot, average='macro', multi_class='ovo')  # Specify 'ovo' or 'ovr'\n",
        "\n",
        "print(\"accuracy:\", accuracy)\n",
        "print(\"recall:\", recall)\n",
        "print(\"precision:\", precision)\n",
        "print(\"f1-score:\", f1)\n",
        "# print('roc_auc: ', roc_auc_macro)"
      ],
      "metadata": {
        "execution": {
          "iopub.status.busy": "2024-02-22T15:00:59.335451Z",
          "iopub.execute_input": "2024-02-22T15:00:59.335701Z",
          "iopub.status.idle": "2024-02-22T15:00:59.555357Z",
          "shell.execute_reply.started": "2024-02-22T15:00:59.335678Z",
          "shell.execute_reply": "2024-02-22T15:00:59.554106Z"
        },
        "trusted": true,
        "id": "rpidLwqRgZ4y",
        "outputId": "7df1885e-6410-4b6b-ed86-367028c7dc2f"
      },
      "execution_count": null,
      "outputs": [
        {
          "name": "stdout",
          "text": "accuracy: 1.0\nrecall: 1.0\nprecision: 1.0\nf1-score: 1.0\n",
          "output_type": "stream"
        },
        {
          "name": "stderr",
          "text": "/opt/conda/lib/python3.10/site-packages/sklearn/linear_model/_logistic.py:458: ConvergenceWarning: lbfgs failed to converge (status=1):\nSTOP: TOTAL NO. of ITERATIONS REACHED LIMIT.\n\nIncrease the number of iterations (max_iter) or scale the data as shown in:\n    https://scikit-learn.org/stable/modules/preprocessing.html\nPlease also refer to the documentation for alternative solver options:\n    https://scikit-learn.org/stable/modules/linear_model.html#logistic-regression\n  n_iter_i = _check_optimize_result(\n",
          "output_type": "stream"
        }
      ]
    },
    {
      "cell_type": "markdown",
      "source": [
        "**Tunning**"
      ],
      "metadata": {
        "id": "aQHyd2hegZ4y"
      }
    },
    {
      "cell_type": "code",
      "source": [
        "import optuna\n",
        "from sklearn.model_selection import cross_val_score\n",
        "import warnings\n",
        "warnings.filterwarnings('ignore')\n",
        "\n",
        "def objective(trial):\n",
        "    hyperparams = {\n",
        "        'solver': trial.suggest_categorical('solver', ['lbfgs','liblinear','newton-cg','saga']),\n",
        "         'penalty': trial.suggest_categorical('penalty',['l2']),\n",
        "         'multi_class': trial.suggest_categorical('multi_class',['ovr']),\n",
        "         'C' : trial.suggest_loguniform(\"C\", 1e-3, 1e3),\n",
        "         'n_jobs' : -1\n",
        "    }\n",
        "\n",
        "    model = LogisticRegression(**hyperparams)\n",
        "    scores = cross_val_score(model, X_train_reduced, y_train, cv = kf,scoring = 'accuracy')\n",
        "    return np.mean(scores)"
      ],
      "metadata": {
        "execution": {
          "iopub.status.busy": "2024-02-22T15:00:59.561744Z",
          "iopub.execute_input": "2024-02-22T15:00:59.565871Z",
          "iopub.status.idle": "2024-02-22T15:00:59.579848Z",
          "shell.execute_reply.started": "2024-02-22T15:00:59.565822Z",
          "shell.execute_reply": "2024-02-22T15:00:59.578604Z"
        },
        "trusted": true,
        "id": "nJ603QX8gZ4y"
      },
      "execution_count": null,
      "outputs": []
    },
    {
      "cell_type": "code",
      "source": [
        "study = optuna.create_study(direction = 'maximize')\n",
        "study.optimize(objective, n_trials = 100)\n",
        "best_params = study.best_params\n",
        "print(\"Best params found :\", best_params)\n",
        "\n",
        "final_model = LogisticRegression(**best_params)\n",
        "final_model.fit(X_train_reduced, y_train)\n",
        "y_pred = final_model.predict(X_test_reduced)\n",
        "prediction_results['logistic regression'] = list(y_pred)\n",
        "\n",
        "accuracy = accuracy_score(y_test, y_pred)\n",
        "precision = precision_score(y_test, y_pred, average='macro')\n",
        "recall = recall_score(y_test, y_pred, average='macro')\n",
        "f1 = f1_score(y_test, y_pred, average='macro')\n",
        "\n",
        "# One-hot encoding for probability calculation (adapt if necessary)\n",
        "y_test_onehot = pd.get_dummies(y_test, prefix='label_')  # Assuming 'label_' prefix for clarity\n",
        "y_pred_onehot = pd.get_dummies(y_pred, prefix='label_')\n",
        "\n",
        "# ROC AUC score with multiclass handling\n",
        "roc_auc_macro = roc_auc_score(y_test_onehot, y_pred_onehot, average='macro', multi_class='ovo')  # Specify 'ovo' or 'ovr'\n",
        "\n",
        "print(\"accuracy:\", accuracy)\n",
        "print(\"recall:\", recall)\n",
        "print(\"precision:\", precision)\n",
        "print(\"f1-score:\", f1)\n",
        "print('roc_auc: ', roc_auc_macro)"
      ],
      "metadata": {
        "execution": {
          "iopub.status.busy": "2024-02-22T15:00:59.585407Z",
          "iopub.execute_input": "2024-02-22T15:00:59.586523Z",
          "iopub.status.idle": "2024-02-22T15:07:49.698699Z",
          "shell.execute_reply.started": "2024-02-22T15:00:59.586477Z",
          "shell.execute_reply": "2024-02-22T15:07:49.697299Z"
        },
        "trusted": true,
        "id": "hAL_JnxUgZ4y",
        "outputId": "fd8e8337-dab8-4e9d-d409-b45b03e98958"
      },
      "execution_count": null,
      "outputs": [
        {
          "name": "stderr",
          "text": "[I 2024-02-22 15:00:59,602] A new study created in memory with name: no-name-07a1f372-c149-4c41-a08d-2d1de93aae2a\n[I 2024-02-22 15:01:18,004] Trial 0 finished with value: 0.903125 and parameters: {'solver': 'liblinear', 'penalty': 'l2', 'multi_class': 'ovr', 'C': 187.74166668955826}. Best is trial 0 with value: 0.903125.\n[I 2024-02-22 15:01:35,644] Trial 1 finished with value: 0.903125 and parameters: {'solver': 'liblinear', 'penalty': 'l2', 'multi_class': 'ovr', 'C': 48.78360423491454}. Best is trial 0 with value: 0.903125.\n[I 2024-02-22 15:01:36,822] Trial 2 finished with value: 0.80625 and parameters: {'solver': 'saga', 'penalty': 'l2', 'multi_class': 'ovr', 'C': 0.004222609107332785}. Best is trial 0 with value: 0.903125.\n[I 2024-02-22 15:01:47,068] Trial 3 finished with value: 0.9 and parameters: {'solver': 'newton-cg', 'penalty': 'l2', 'multi_class': 'ovr', 'C': 162.95866483286915}. Best is trial 0 with value: 0.903125.\n[I 2024-02-22 15:01:48,249] Trial 4 finished with value: 0.803125 and parameters: {'solver': 'saga', 'penalty': 'l2', 'multi_class': 'ovr', 'C': 1.2553699256705808}. Best is trial 0 with value: 0.903125.\n[I 2024-02-22 15:02:06,243] Trial 5 finished with value: 0.903125 and parameters: {'solver': 'liblinear', 'penalty': 'l2', 'multi_class': 'ovr', 'C': 60.632496707105986}. Best is trial 0 with value: 0.903125.\n/opt/conda/lib/python3.10/site-packages/sklearn/linear_model/_logistic.py:458: ConvergenceWarning: lbfgs failed to converge (status=1):\nSTOP: TOTAL NO. of ITERATIONS REACHED LIMIT.\n\nIncrease the number of iterations (max_iter) or scale the data as shown in:\n    https://scikit-learn.org/stable/modules/preprocessing.html\nPlease also refer to the documentation for alternative solver options:\n    https://scikit-learn.org/stable/modules/linear_model.html#logistic-regression\n  n_iter_i = _check_optimize_result(\n/opt/conda/lib/python3.10/site-packages/sklearn/linear_model/_logistic.py:458: ConvergenceWarning: lbfgs failed to converge (status=1):\nSTOP: TOTAL NO. of ITERATIONS REACHED LIMIT.\n\nIncrease the number of iterations (max_iter) or scale the data as shown in:\n    https://scikit-learn.org/stable/modules/preprocessing.html\nPlease also refer to the documentation for alternative solver options:\n    https://scikit-learn.org/stable/modules/linear_model.html#logistic-regression\n  n_iter_i = _check_optimize_result(\n/opt/conda/lib/python3.10/site-packages/sklearn/linear_model/_logistic.py:458: ConvergenceWarning: lbfgs failed to converge (status=1):\nSTOP: TOTAL NO. of ITERATIONS REACHED LIMIT.\n\nIncrease the number of iterations (max_iter) or scale the data as shown in:\n    https://scikit-learn.org/stable/modules/preprocessing.html\nPlease also refer to the documentation for alternative solver options:\n    https://scikit-learn.org/stable/modules/linear_model.html#logistic-regression\n  n_iter_i = _check_optimize_result(\n/opt/conda/lib/python3.10/site-packages/sklearn/linear_model/_logistic.py:458: ConvergenceWarning: lbfgs failed to converge (status=1):\nSTOP: TOTAL NO. of ITERATIONS REACHED LIMIT.\n\nIncrease the number of iterations (max_iter) or scale the data as shown in:\n    https://scikit-learn.org/stable/modules/preprocessing.html\nPlease also refer to the documentation for alternative solver options:\n    https://scikit-learn.org/stable/modules/linear_model.html#logistic-regression\n  n_iter_i = _check_optimize_result(\n[I 2024-02-22 15:02:07,775] Trial 6 finished with value: 0.946875 and parameters: {'solver': 'lbfgs', 'penalty': 'l2', 'multi_class': 'ovr', 'C': 4.428603640032151}. Best is trial 6 with value: 0.946875.\n[I 2024-02-22 15:02:17,320] Trial 7 finished with value: 0.9375 and parameters: {'solver': 'newton-cg', 'penalty': 'l2', 'multi_class': 'ovr', 'C': 3.4082247056641393}. Best is trial 6 with value: 0.946875.\n[I 2024-02-22 15:02:18,483] Trial 8 finished with value: 0.803125 and parameters: {'solver': 'saga', 'penalty': 'l2', 'multi_class': 'ovr', 'C': 0.11324349412503347}. Best is trial 6 with value: 0.946875.\n[I 2024-02-22 15:02:28,287] Trial 9 finished with value: 0.940625 and parameters: {'solver': 'newton-cg', 'penalty': 'l2', 'multi_class': 'ovr', 'C': 2.5871320190701423}. Best is trial 6 with value: 0.946875.\n[I 2024-02-22 15:02:29,905] Trial 10 finished with value: 0.95625 and parameters: {'solver': 'lbfgs', 'penalty': 'l2', 'multi_class': 'ovr', 'C': 0.041838449495074155}. Best is trial 10 with value: 0.95625.\n[I 2024-02-22 15:02:31,430] Trial 11 finished with value: 0.95625 and parameters: {'solver': 'lbfgs', 'penalty': 'l2', 'multi_class': 'ovr', 'C': 0.020561032554920592}. Best is trial 10 with value: 0.95625.\n[I 2024-02-22 15:02:32,954] Trial 12 finished with value: 0.95625 and parameters: {'solver': 'lbfgs', 'penalty': 'l2', 'multi_class': 'ovr', 'C': 0.02254684334189885}. Best is trial 10 with value: 0.95625.\n[I 2024-02-22 15:02:34,496] Trial 13 finished with value: 0.95625 and parameters: {'solver': 'lbfgs', 'penalty': 'l2', 'multi_class': 'ovr', 'C': 0.0012479506676718478}. Best is trial 10 with value: 0.95625.\n[I 2024-02-22 15:02:36,027] Trial 14 finished with value: 0.95625 and parameters: {'solver': 'lbfgs', 'penalty': 'l2', 'multi_class': 'ovr', 'C': 0.11975130943048538}. Best is trial 10 with value: 0.95625.\n[I 2024-02-22 15:02:37,602] Trial 15 finished with value: 0.946875 and parameters: {'solver': 'lbfgs', 'penalty': 'l2', 'multi_class': 'ovr', 'C': 0.10420788724198392}. Best is trial 10 with value: 0.95625.\n[I 2024-02-22 15:02:39,273] Trial 16 finished with value: 0.953125 and parameters: {'solver': 'lbfgs', 'penalty': 'l2', 'multi_class': 'ovr', 'C': 0.011496180980756826}. Best is trial 10 with value: 0.95625.\n[I 2024-02-22 15:02:40,809] Trial 17 finished with value: 0.95625 and parameters: {'solver': 'lbfgs', 'penalty': 'l2', 'multi_class': 'ovr', 'C': 0.03224925045893842}. Best is trial 10 with value: 0.95625.\n[I 2024-02-22 15:02:42,367] Trial 18 finished with value: 0.95 and parameters: {'solver': 'lbfgs', 'penalty': 'l2', 'multi_class': 'ovr', 'C': 0.4202617460646345}. Best is trial 10 with value: 0.95625.\n[I 2024-02-22 15:02:43,919] Trial 19 finished with value: 0.953125 and parameters: {'solver': 'lbfgs', 'penalty': 'l2', 'multi_class': 'ovr', 'C': 0.0013682859501239946}. Best is trial 10 with value: 0.95625.\n[I 2024-02-22 15:02:45,490] Trial 20 finished with value: 0.95625 and parameters: {'solver': 'lbfgs', 'penalty': 'l2', 'multi_class': 'ovr', 'C': 0.00767147365885218}. Best is trial 10 with value: 0.95625.\n[I 2024-02-22 15:02:47,045] Trial 21 finished with value: 0.95625 and parameters: {'solver': 'lbfgs', 'penalty': 'l2', 'multi_class': 'ovr', 'C': 0.01874717012505535}. Best is trial 10 with value: 0.95625.\n[I 2024-02-22 15:02:48,639] Trial 22 finished with value: 0.95 and parameters: {'solver': 'lbfgs', 'penalty': 'l2', 'multi_class': 'ovr', 'C': 0.04630498745722804}. Best is trial 10 with value: 0.95625.\n[I 2024-02-22 15:02:50,198] Trial 23 finished with value: 0.946875 and parameters: {'solver': 'lbfgs', 'penalty': 'l2', 'multi_class': 'ovr', 'C': 0.5113482419073863}. Best is trial 10 with value: 0.95625.\n[I 2024-02-22 15:02:51,745] Trial 24 finished with value: 0.95625 and parameters: {'solver': 'lbfgs', 'penalty': 'l2', 'multi_class': 'ovr', 'C': 0.0033854470412263654}. Best is trial 10 with value: 0.95625.\n[I 2024-02-22 15:02:53,498] Trial 25 finished with value: 0.95 and parameters: {'solver': 'lbfgs', 'penalty': 'l2', 'multi_class': 'ovr', 'C': 0.3081417142340744}. Best is trial 10 with value: 0.95625.\n[I 2024-02-22 15:03:06,273] Trial 26 finished with value: 0.871875 and parameters: {'solver': 'liblinear', 'penalty': 'l2', 'multi_class': 'ovr', 'C': 0.040117018928075385}. Best is trial 10 with value: 0.95625.\n/opt/conda/lib/python3.10/site-packages/sklearn/utils/optimize.py:210: ConvergenceWarning: newton-cg failed to converge. Increase the number of iterations.\n  warnings.warn(\n/opt/conda/lib/python3.10/site-packages/sklearn/utils/optimize.py:210: ConvergenceWarning: newton-cg failed to converge. Increase the number of iterations.\n  warnings.warn(\n/opt/conda/lib/python3.10/site-packages/sklearn/utils/optimize.py:210: ConvergenceWarning: newton-cg failed to converge. Increase the number of iterations.\n  warnings.warn(\n/opt/conda/lib/python3.10/site-packages/sklearn/utils/optimize.py:210: ConvergenceWarning: newton-cg failed to converge. Increase the number of iterations.\n  warnings.warn(\n[I 2024-02-22 15:03:18,701] Trial 27 finished with value: 0.95625 and parameters: {'solver': 'newton-cg', 'penalty': 'l2', 'multi_class': 'ovr', 'C': 0.007604617021035338}. Best is trial 10 with value: 0.95625.\n[I 2024-02-22 15:03:19,833] Trial 28 finished with value: 0.803125 and parameters: {'solver': 'saga', 'penalty': 'l2', 'multi_class': 'ovr', 'C': 12.117770055249665}. Best is trial 10 with value: 0.95625.\n[I 2024-02-22 15:03:33,952] Trial 29 finished with value: 0.903125 and parameters: {'solver': 'liblinear', 'penalty': 'l2', 'multi_class': 'ovr', 'C': 0.1435560907027159}. Best is trial 10 with value: 0.95625.\n[I 2024-02-22 15:03:35,223] Trial 30 finished with value: 0.840625 and parameters: {'solver': 'lbfgs', 'penalty': 'l2', 'multi_class': 'ovr', 'C': 631.0213215900262}. Best is trial 10 with value: 0.95625.\n[I 2024-02-22 15:03:36,752] Trial 31 finished with value: 0.953125 and parameters: {'solver': 'lbfgs', 'penalty': 'l2', 'multi_class': 'ovr', 'C': 0.0013344360284307374}. Best is trial 10 with value: 0.95625.\n[I 2024-02-22 15:03:38,276] Trial 32 finished with value: 0.95625 and parameters: {'solver': 'lbfgs', 'penalty': 'l2', 'multi_class': 'ovr', 'C': 0.0033314112535107695}. Best is trial 10 with value: 0.95625.\n[I 2024-02-22 15:03:39,827] Trial 33 finished with value: 0.953125 and parameters: {'solver': 'lbfgs', 'penalty': 'l2', 'multi_class': 'ovr', 'C': 0.0010584192555009818}. Best is trial 10 with value: 0.95625.\n[I 2024-02-22 15:03:41,365] Trial 34 finished with value: 0.95625 and parameters: {'solver': 'lbfgs', 'penalty': 'l2', 'multi_class': 'ovr', 'C': 0.022640469180983933}. Best is trial 10 with value: 0.95625.\n[I 2024-02-22 15:03:42,527] Trial 35 finished with value: 0.80625 and parameters: {'solver': 'saga', 'penalty': 'l2', 'multi_class': 'ovr', 'C': 0.0027433869804705307}. Best is trial 10 with value: 0.95625.\n[I 2024-02-22 15:03:53,148] Trial 36 finished with value: 0.84375 and parameters: {'solver': 'liblinear', 'penalty': 'l2', 'multi_class': 'ovr', 'C': 0.010674424674691149}. Best is trial 10 with value: 0.95625.\n[I 2024-02-22 15:03:54,727] Trial 37 finished with value: 0.953125 and parameters: {'solver': 'lbfgs', 'penalty': 'l2', 'multi_class': 'ovr', 'C': 0.057171931508162674}. Best is trial 10 with value: 0.95625.\n[I 2024-02-22 15:04:04,932] Trial 38 finished with value: 0.946875 and parameters: {'solver': 'newton-cg', 'penalty': 'l2', 'multi_class': 'ovr', 'C': 0.9129515297435691}. Best is trial 10 with value: 0.95625.\n[I 2024-02-22 15:04:06,119] Trial 39 finished with value: 0.803125 and parameters: {'solver': 'saga', 'penalty': 'l2', 'multi_class': 'ovr', 'C': 0.005446728796345451}. Best is trial 10 with value: 0.95625.\n[I 2024-02-22 15:04:07,655] Trial 40 finished with value: 0.953125 and parameters: {'solver': 'lbfgs', 'penalty': 'l2', 'multi_class': 'ovr', 'C': 0.01696819642760519}. Best is trial 10 with value: 0.95625.\n[I 2024-02-22 15:04:09,262] Trial 41 finished with value: 0.95 and parameters: {'solver': 'lbfgs', 'penalty': 'l2', 'multi_class': 'ovr', 'C': 0.2419252842338567}. Best is trial 10 with value: 0.95625.\n[I 2024-02-22 15:04:10,792] Trial 42 finished with value: 0.953125 and parameters: {'solver': 'lbfgs', 'penalty': 'l2', 'multi_class': 'ovr', 'C': 0.08227952683370665}. Best is trial 10 with value: 0.95625.\n[I 2024-02-22 15:04:12,329] Trial 43 finished with value: 0.953125 and parameters: {'solver': 'lbfgs', 'penalty': 'l2', 'multi_class': 'ovr', 'C': 0.1924365632053025}. Best is trial 10 with value: 0.95625.\n[I 2024-02-22 15:04:13,875] Trial 44 finished with value: 0.953125 and parameters: {'solver': 'lbfgs', 'penalty': 'l2', 'multi_class': 'ovr', 'C': 0.06640761817860959}. Best is trial 10 with value: 0.95625.\n[I 2024-02-22 15:04:23,616] Trial 45 finished with value: 0.946875 and parameters: {'solver': 'newton-cg', 'penalty': 'l2', 'multi_class': 'ovr', 'C': 0.8697451653165421}. Best is trial 10 with value: 0.95625.\n[I 2024-02-22 15:04:25,165] Trial 46 finished with value: 0.95 and parameters: {'solver': 'lbfgs', 'penalty': 'l2', 'multi_class': 'ovr', 'C': 0.02591579690833601}. Best is trial 10 with value: 0.95625.\n[I 2024-02-22 15:04:33,033] Trial 47 finished with value: 0.8125 and parameters: {'solver': 'liblinear', 'penalty': 'l2', 'multi_class': 'ovr', 'C': 0.0025124444632038698}. Best is trial 10 with value: 0.95625.\n[I 2024-02-22 15:04:34,614] Trial 48 finished with value: 0.95625 and parameters: {'solver': 'lbfgs', 'penalty': 'l2', 'multi_class': 'ovr', 'C': 0.01409071729459448}. Best is trial 10 with value: 0.95625.\n[I 2024-02-22 15:04:36,123] Trial 49 finished with value: 0.95 and parameters: {'solver': 'lbfgs', 'penalty': 'l2', 'multi_class': 'ovr', 'C': 1.7280491288158357}. Best is trial 10 with value: 0.95625.\n[I 2024-02-22 15:04:37,659] Trial 50 finished with value: 0.95 and parameters: {'solver': 'lbfgs', 'penalty': 'l2', 'multi_class': 'ovr', 'C': 0.11129097461140554}. Best is trial 10 with value: 0.95625.\n[I 2024-02-22 15:04:39,329] Trial 51 finished with value: 0.953125 and parameters: {'solver': 'lbfgs', 'penalty': 'l2', 'multi_class': 'ovr', 'C': 0.03126883819194646}. Best is trial 10 with value: 0.95625.\n[I 2024-02-22 15:04:40,868] Trial 52 finished with value: 0.953125 and parameters: {'solver': 'lbfgs', 'penalty': 'l2', 'multi_class': 'ovr', 'C': 0.0056910622332007705}. Best is trial 10 with value: 0.95625.\n[I 2024-02-22 15:04:42,375] Trial 53 finished with value: 0.940625 and parameters: {'solver': 'lbfgs', 'penalty': 'l2', 'multi_class': 'ovr', 'C': 8.06672202375661}. Best is trial 10 with value: 0.95625.\n[I 2024-02-22 15:04:43,918] Trial 54 finished with value: 0.95625 and parameters: {'solver': 'lbfgs', 'penalty': 'l2', 'multi_class': 'ovr', 'C': 0.045370337180977896}. Best is trial 10 with value: 0.95625.\n[I 2024-02-22 15:04:45,420] Trial 55 finished with value: 0.95 and parameters: {'solver': 'lbfgs', 'penalty': 'l2', 'multi_class': 'ovr', 'C': 0.47553223320386523}. Best is trial 10 with value: 0.95625.\n[I 2024-02-22 15:04:46,560] Trial 56 finished with value: 0.80625 and parameters: {'solver': 'saga', 'penalty': 'l2', 'multi_class': 'ovr', 'C': 0.009273393272114436}. Best is trial 10 with value: 0.95625.\n[I 2024-02-22 15:04:58,544] Trial 57 finished with value: 0.95625 and parameters: {'solver': 'newton-cg', 'penalty': 'l2', 'multi_class': 'ovr', 'C': 0.030833309769793246}. Best is trial 10 with value: 0.95625.\n[I 2024-02-22 15:05:00,093] Trial 58 finished with value: 0.95 and parameters: {'solver': 'lbfgs', 'penalty': 'l2', 'multi_class': 'ovr', 'C': 0.16553236580420957}. Best is trial 10 with value: 0.95625.\n[I 2024-02-22 15:05:02,081] Trial 59 finished with value: 0.95625 and parameters: {'solver': 'lbfgs', 'penalty': 'l2', 'multi_class': 'ovr', 'C': 0.002124842347551841}. Best is trial 10 with value: 0.95625.\n[I 2024-02-22 15:05:13,343] Trial 60 finished with value: 0.859375 and parameters: {'solver': 'liblinear', 'penalty': 'l2', 'multi_class': 'ovr', 'C': 0.015778294598733585}. Best is trial 10 with value: 0.95625.\n[I 2024-02-22 15:05:14,889] Trial 61 finished with value: 0.953125 and parameters: {'solver': 'lbfgs', 'penalty': 'l2', 'multi_class': 'ovr', 'C': 0.007699093308802615}. Best is trial 10 with value: 0.95625.\n[I 2024-02-22 15:05:16,427] Trial 62 finished with value: 0.95625 and parameters: {'solver': 'lbfgs', 'penalty': 'l2', 'multi_class': 'ovr', 'C': 0.004919434364667454}. Best is trial 10 with value: 0.95625.\n[I 2024-02-22 15:05:17,964] Trial 63 finished with value: 0.953125 and parameters: {'solver': 'lbfgs', 'penalty': 'l2', 'multi_class': 'ovr', 'C': 0.0017374676169208889}. Best is trial 10 with value: 0.95625.\n[I 2024-02-22 15:05:19,541] Trial 64 finished with value: 0.95 and parameters: {'solver': 'lbfgs', 'penalty': 'l2', 'multi_class': 'ovr', 'C': 0.08461535980762903}. Best is trial 10 with value: 0.95625.\n[I 2024-02-22 15:05:21,067] Trial 65 finished with value: 0.953125 and parameters: {'solver': 'lbfgs', 'penalty': 'l2', 'multi_class': 'ovr', 'C': 0.022621115644920583}. Best is trial 10 with value: 0.95625.\n[I 2024-02-22 15:05:22,608] Trial 66 finished with value: 0.953125 and parameters: {'solver': 'lbfgs', 'penalty': 'l2', 'multi_class': 'ovr', 'C': 0.04243193383388548}. Best is trial 10 with value: 0.95625.\n[I 2024-02-22 15:05:24,137] Trial 67 finished with value: 0.95625 and parameters: {'solver': 'lbfgs', 'penalty': 'l2', 'multi_class': 'ovr', 'C': 0.013247988781975044}. Best is trial 10 with value: 0.95625.\n[I 2024-02-22 15:05:25,302] Trial 68 finished with value: 0.803125 and parameters: {'solver': 'saga', 'penalty': 'l2', 'multi_class': 'ovr', 'C': 0.007411822200566813}. Best is trial 10 with value: 0.95625.\n[I 2024-02-22 15:05:26,798] Trial 69 finished with value: 0.95625 and parameters: {'solver': 'lbfgs', 'penalty': 'l2', 'multi_class': 'ovr', 'C': 0.0034850421755101045}. Best is trial 10 with value: 0.95625.\n[I 2024-02-22 15:05:39,446] Trial 70 finished with value: 0.95625 and parameters: {'solver': 'newton-cg', 'penalty': 'l2', 'multi_class': 'ovr', 'C': 0.0010151673612132318}. Best is trial 10 with value: 0.95625.\n[I 2024-02-22 15:05:40,957] Trial 71 finished with value: 0.953125 and parameters: {'solver': 'lbfgs', 'penalty': 'l2', 'multi_class': 'ovr', 'C': 0.020620587126506627}. Best is trial 10 with value: 0.95625.\n[I 2024-02-22 15:05:42,466] Trial 72 finished with value: 0.95 and parameters: {'solver': 'lbfgs', 'penalty': 'l2', 'multi_class': 'ovr', 'C': 0.0662793959075137}. Best is trial 10 with value: 0.95625.\n[I 2024-02-22 15:05:44,012] Trial 73 finished with value: 0.953125 and parameters: {'solver': 'lbfgs', 'penalty': 'l2', 'multi_class': 'ovr', 'C': 0.03392468038202175}. Best is trial 10 with value: 0.95625.\n[I 2024-02-22 15:05:45,527] Trial 74 finished with value: 0.95625 and parameters: {'solver': 'lbfgs', 'penalty': 'l2', 'multi_class': 'ovr', 'C': 0.012669275956076836}. Best is trial 10 with value: 0.95625.\n[I 2024-02-22 15:05:46,981] Trial 75 finished with value: 0.946875 and parameters: {'solver': 'lbfgs', 'penalty': 'l2', 'multi_class': 'ovr', 'C': 33.64768863299758}. Best is trial 10 with value: 0.95625.\n[I 2024-02-22 15:06:00,822] Trial 76 finished with value: 0.89375 and parameters: {'solver': 'liblinear', 'penalty': 'l2', 'multi_class': 'ovr', 'C': 0.11544203624329635}. Best is trial 10 with value: 0.95625.\n[I 2024-02-22 15:06:02,349] Trial 77 finished with value: 0.95625 and parameters: {'solver': 'lbfgs', 'penalty': 'l2', 'multi_class': 'ovr', 'C': 0.004143954712871804}. Best is trial 10 with value: 0.95625.\n[I 2024-02-22 15:06:03,916] Trial 78 finished with value: 0.95 and parameters: {'solver': 'lbfgs', 'penalty': 'l2', 'multi_class': 'ovr', 'C': 0.3114484903421034}. Best is trial 10 with value: 0.95625.\n[I 2024-02-22 15:06:05,673] Trial 79 finished with value: 0.95625 and parameters: {'solver': 'lbfgs', 'penalty': 'l2', 'multi_class': 'ovr', 'C': 0.049657402649661966}. Best is trial 10 with value: 0.95625.\n[I 2024-02-22 15:06:07,445] Trial 80 finished with value: 0.95625 and parameters: {'solver': 'lbfgs', 'penalty': 'l2', 'multi_class': 'ovr', 'C': 0.006821905443813269}. Best is trial 10 with value: 0.95625.\n[I 2024-02-22 15:06:09,039] Trial 81 finished with value: 0.95625 and parameters: {'solver': 'lbfgs', 'penalty': 'l2', 'multi_class': 'ovr', 'C': 0.019859448426239153}. Best is trial 10 with value: 0.95625.\n[I 2024-02-22 15:06:10,571] Trial 82 finished with value: 0.953125 and parameters: {'solver': 'lbfgs', 'penalty': 'l2', 'multi_class': 'ovr', 'C': 0.001742029565009504}. Best is trial 10 with value: 0.95625.\n[I 2024-02-22 15:06:12,098] Trial 83 finished with value: 0.953125 and parameters: {'solver': 'lbfgs', 'penalty': 'l2', 'multi_class': 'ovr', 'C': 0.009991251543764228}. Best is trial 10 with value: 0.95625.\n[I 2024-02-22 15:06:13,248] Trial 84 finished with value: 0.80625 and parameters: {'solver': 'saga', 'penalty': 'l2', 'multi_class': 'ovr', 'C': 0.0027403949713679853}. Best is trial 10 with value: 0.95625.\n[I 2024-02-22 15:06:14,753] Trial 85 finished with value: 0.95625 and parameters: {'solver': 'lbfgs', 'penalty': 'l2', 'multi_class': 'ovr', 'C': 0.004078421481597752}. Best is trial 10 with value: 0.95625.\n[I 2024-02-22 15:06:15,981] Trial 86 finished with value: 0.8375 and parameters: {'solver': 'lbfgs', 'penalty': 'l2', 'multi_class': 'ovr', 'C': 831.6857554955196}. Best is trial 10 with value: 0.95625.\n[I 2024-02-22 15:06:27,991] Trial 87 finished with value: 0.953125 and parameters: {'solver': 'newton-cg', 'penalty': 'l2', 'multi_class': 'ovr', 'C': 0.031001180780683434}. Best is trial 10 with value: 0.95625.\n[I 2024-02-22 15:06:29,599] Trial 88 finished with value: 0.953125 and parameters: {'solver': 'lbfgs', 'penalty': 'l2', 'multi_class': 'ovr', 'C': 0.001457579409313265}. Best is trial 10 with value: 0.95625.\n[I 2024-02-22 15:06:31,115] Trial 89 finished with value: 0.95625 and parameters: {'solver': 'lbfgs', 'penalty': 'l2', 'multi_class': 'ovr', 'C': 0.010114895359967301}. Best is trial 10 with value: 0.95625.\n[I 2024-02-22 15:06:42,409] Trial 90 finished with value: 0.859375 and parameters: {'solver': 'liblinear', 'penalty': 'l2', 'multi_class': 'ovr', 'C': 0.01654833948061389}. Best is trial 10 with value: 0.95625.\n[I 2024-02-22 15:06:54,823] Trial 91 finished with value: 0.95625 and parameters: {'solver': 'newton-cg', 'penalty': 'l2', 'multi_class': 'ovr', 'C': 0.005658554403815692}. Best is trial 10 with value: 0.95625.\n[I 2024-02-22 15:07:07,098] Trial 92 finished with value: 0.95625 and parameters: {'solver': 'newton-cg', 'penalty': 'l2', 'multi_class': 'ovr', 'C': 0.0022430307197708953}. Best is trial 10 with value: 0.95625.\n[I 2024-02-22 15:07:19,463] Trial 93 finished with value: 0.95625 and parameters: {'solver': 'newton-cg', 'penalty': 'l2', 'multi_class': 'ovr', 'C': 0.02528901921944229}. Best is trial 10 with value: 0.95625.\n[I 2024-02-22 15:07:30,693] Trial 94 finished with value: 0.953125 and parameters: {'solver': 'newton-cg', 'penalty': 'l2', 'multi_class': 'ovr', 'C': 0.06466378813040953}. Best is trial 10 with value: 0.95625.\n[I 2024-02-22 15:07:32,217] Trial 95 finished with value: 0.953125 and parameters: {'solver': 'lbfgs', 'penalty': 'l2', 'multi_class': 'ovr', 'C': 0.0070763854730671654}. Best is trial 10 with value: 0.95625.\n[I 2024-02-22 15:07:33,754] Trial 96 finished with value: 0.95625 and parameters: {'solver': 'lbfgs', 'penalty': 'l2', 'multi_class': 'ovr', 'C': 0.003079130768550297}. Best is trial 10 with value: 0.95625.\n[I 2024-02-22 15:07:35,319] Trial 97 finished with value: 0.953125 and parameters: {'solver': 'lbfgs', 'penalty': 'l2', 'multi_class': 'ovr', 'C': 0.03864943331130479}. Best is trial 10 with value: 0.95625.\n[I 2024-02-22 15:07:46,852] Trial 98 finished with value: 0.953125 and parameters: {'solver': 'newton-cg', 'penalty': 'l2', 'multi_class': 'ovr', 'C': 0.08954397685463189}. Best is trial 10 with value: 0.95625.\n[I 2024-02-22 15:07:48,148] Trial 99 finished with value: 0.871875 and parameters: {'solver': 'lbfgs', 'penalty': 'l2', 'multi_class': 'ovr', 'C': 298.0148584632303}. Best is trial 10 with value: 0.95625.\n",
          "output_type": "stream"
        },
        {
          "name": "stdout",
          "text": "Best params found : {'solver': 'lbfgs', 'penalty': 'l2', 'multi_class': 'ovr', 'C': 0.041838449495074155}\naccuracy: 1.0\nrecall: 1.0\nprecision: 1.0\nf1-score: 1.0\nroc_auc:  1.0\n",
          "output_type": "stream"
        }
      ]
    },
    {
      "cell_type": "code",
      "source": [
        "# lr = LogisticRegression(multi_class='ovr', solver='liblinear')\n",
        "# lr.fit(X_train_reduced, y_train)\n",
        "# y_pred = lr.predict(X_test_reduced)"
      ],
      "metadata": {
        "execution": {
          "iopub.status.busy": "2024-02-22T15:07:49.705040Z",
          "iopub.execute_input": "2024-02-22T15:07:49.708854Z",
          "iopub.status.idle": "2024-02-22T15:07:49.716652Z",
          "shell.execute_reply.started": "2024-02-22T15:07:49.708799Z",
          "shell.execute_reply": "2024-02-22T15:07:49.715358Z"
        },
        "trusted": true,
        "id": "Ax6CQPMYgZ4y"
      },
      "execution_count": null,
      "outputs": []
    },
    {
      "cell_type": "markdown",
      "source": [
        "# KNN Classifier"
      ],
      "metadata": {
        "id": "NbWqYceZgZ4z"
      }
    },
    {
      "cell_type": "markdown",
      "source": [
        "**Normal**"
      ],
      "metadata": {
        "id": "_rqR0KaJgZ4z"
      }
    },
    {
      "cell_type": "code",
      "source": [
        "from sklearn.neighbors import KNeighborsClassifier\n",
        "\n",
        "knn = KNeighborsClassifier()\n",
        "knn.fit(X_train_reduced, y_train)\n",
        "y_pred = knn.predict(X_test_reduced)\n",
        "\n",
        "accuracy = accuracy_score(y_test, y_pred)\n",
        "precision = precision_score(y_test, y_pred, average='macro')\n",
        "recall = recall_score(y_test, y_pred, average='macro')\n",
        "f1 = f1_score(y_test, y_pred, average='macro')\n",
        "\n",
        "# One-hot encoding for probability calculation (adapt if necessary)\n",
        "y_test_onehot = pd.get_dummies(y_test, prefix='label_')  # Assuming 'label_' prefix for clarity\n",
        "y_pred_onehot = pd.get_dummies(y_pred, prefix='label_')\n",
        "\n",
        "# ROC AUC score with multiclass handling\n",
        "roc_auc_macro = roc_auc_score(y_test_onehot, y_pred_onehot, average='macro', multi_class='ovo')  # Specify 'ovo' or 'ovr'\n",
        "\n",
        "print(\"accuracy:\", accuracy)\n",
        "print(\"recall:\", recall)\n",
        "print(\"precision:\", precision)\n",
        "print(\"f1-score:\", f1)\n",
        "print('roc_auc: ', roc_auc_macro)\n"
      ],
      "metadata": {
        "execution": {
          "iopub.status.busy": "2024-02-22T15:07:49.722276Z",
          "iopub.execute_input": "2024-02-22T15:07:49.726058Z",
          "iopub.status.idle": "2024-02-22T15:07:49.916673Z",
          "shell.execute_reply.started": "2024-02-22T15:07:49.726010Z",
          "shell.execute_reply": "2024-02-22T15:07:49.915938Z"
        },
        "trusted": true,
        "id": "5yaw_fV9gZ4z",
        "outputId": "9c3d5e61-ba74-4a36-bb3d-495c053a4bb2"
      },
      "execution_count": null,
      "outputs": [
        {
          "name": "stdout",
          "text": "accuracy: 0.9125\nrecall: 0.9375\nprecision: 0.9143518518518517\nf1-score: 0.9068783068783068\nroc_auc:  0.5771545864579081\n",
          "output_type": "stream"
        }
      ]
    },
    {
      "cell_type": "markdown",
      "source": [
        "**Tunning**"
      ],
      "metadata": {
        "id": "StsA9i9cgZ4z"
      }
    },
    {
      "cell_type": "code",
      "source": [
        "import optuna\n",
        "from sklearn.model_selection import cross_val_score\n",
        "import warnings\n",
        "warnings.filterwarnings('ignore')\n",
        "\n",
        "def objective(trial):\n",
        "    hyperparams = {\n",
        "        'n_neighbors': trial.suggest_int(\"n_neighbors\", 5, 100),\n",
        "        'weights' : trial.suggest_categorical(\"weights\", [\"uniform\", \"distance\"]),\n",
        "        'metric' : trial.suggest_categorical(\"metric\", [\"euclidean\", \"manhattan\", \"minkowski\"]),\n",
        "        'algorithm':trial.suggest_categorical('algorithm',['auto', 'ball_tree', 'kd_tree', 'brute']),\n",
        "        'n_jobs': -1\n",
        "    }\n",
        "\n",
        "    # Create KNN model with tuned hyperparameters\n",
        "    model = KNeighborsClassifier(**hyperparams)\n",
        "    scores = cross_val_score(model, X_train_reduced, y_train, cv = kf,scoring = 'accuracy')\n",
        "    return np.mean(scores)"
      ],
      "metadata": {
        "execution": {
          "iopub.status.busy": "2024-02-22T15:07:49.918019Z",
          "iopub.execute_input": "2024-02-22T15:07:49.918394Z",
          "iopub.status.idle": "2024-02-22T15:07:49.926762Z",
          "shell.execute_reply.started": "2024-02-22T15:07:49.918361Z",
          "shell.execute_reply": "2024-02-22T15:07:49.925730Z"
        },
        "trusted": true,
        "id": "ib25DOC3gZ40"
      },
      "execution_count": null,
      "outputs": []
    },
    {
      "cell_type": "code",
      "source": [
        "study = optuna.create_study(direction = 'maximize')\n",
        "study.optimize(objective, n_trials = 100)\n",
        "best_params = study.best_params\n",
        "print(\"Best params found :\", best_params)\n",
        "\n",
        "final_model =KNeighborsClassifier(**best_params)\n",
        "final_model.fit(X_train_reduced, y_train)\n",
        "y_pred = final_model.predict(X_test_reduced)\n",
        "prediction_results['KNN'] = list(y_pred)\n",
        "\n",
        "accuracy = accuracy_score(y_test, y_pred)\n",
        "precision = precision_score(y_test, y_pred, average='macro')\n",
        "recall = recall_score(y_test, y_pred, average='macro')\n",
        "f1 = f1_score(y_test, y_pred, average='macro')\n",
        "\n",
        "# One-hot encoding for probability calculation (adapt if necessary)\n",
        "y_test_onehot = pd.get_dummies(y_test, prefix='label_')  # Assuming 'label_' prefix for clarity\n",
        "y_pred_onehot = pd.get_dummies(y_pred, prefix='label_')\n",
        "\n",
        "# ROC AUC score with multiclass handling\n",
        "roc_auc_macro = roc_auc_score(y_test_onehot, y_pred_onehot, average='macro', multi_class='ovo')  # Specify 'ovo' or 'ovr'\n",
        "\n",
        "print(\"accuracy:\", accuracy)\n",
        "print(\"recall:\", recall)\n",
        "print(\"precision:\", precision)\n",
        "print(\"f1-score:\", f1)\n",
        "print('roc_auc: ', roc_auc_macro)"
      ],
      "metadata": {
        "execution": {
          "iopub.status.busy": "2024-02-22T15:07:49.928168Z",
          "iopub.execute_input": "2024-02-22T15:07:49.928795Z",
          "iopub.status.idle": "2024-02-22T15:07:58.983151Z",
          "shell.execute_reply.started": "2024-02-22T15:07:49.928757Z",
          "shell.execute_reply": "2024-02-22T15:07:58.982038Z"
        },
        "trusted": true,
        "id": "bykYzdpIgZ40",
        "outputId": "0baba60b-9792-4894-d477-1d52033c1717"
      },
      "execution_count": null,
      "outputs": [
        {
          "name": "stderr",
          "text": "[I 2024-02-22 15:07:49,936] A new study created in memory with name: no-name-bd3ac70f-bd29-4e48-8ed0-a82c39fe3c17\n[I 2024-02-22 15:07:50,038] Trial 0 finished with value: 0.11875 and parameters: {'n_neighbors': 74, 'weights': 'uniform', 'metric': 'manhattan', 'algorithm': 'ball_tree'}. Best is trial 0 with value: 0.11875.\n[I 2024-02-22 15:07:50,137] Trial 1 finished with value: 0.153125 and parameters: {'n_neighbors': 52, 'weights': 'uniform', 'metric': 'minkowski', 'algorithm': 'ball_tree'}. Best is trial 1 with value: 0.153125.\n[I 2024-02-22 15:07:50,187] Trial 2 finished with value: 0.478125 and parameters: {'n_neighbors': 23, 'weights': 'uniform', 'metric': 'manhattan', 'algorithm': 'auto'}. Best is trial 2 with value: 0.478125.\n[I 2024-02-22 15:07:50,229] Trial 3 finished with value: 0.46875 and parameters: {'n_neighbors': 20, 'weights': 'uniform', 'metric': 'minkowski', 'algorithm': 'auto'}. Best is trial 2 with value: 0.478125.\n[I 2024-02-22 15:07:50,260] Trial 4 finished with value: 0.634375 and parameters: {'n_neighbors': 38, 'weights': 'distance', 'metric': 'euclidean', 'algorithm': 'auto'}. Best is trial 4 with value: 0.634375.\n[I 2024-02-22 15:07:50,363] Trial 5 finished with value: 0.153125 and parameters: {'n_neighbors': 53, 'weights': 'uniform', 'metric': 'minkowski', 'algorithm': 'ball_tree'}. Best is trial 4 with value: 0.634375.\n[I 2024-02-22 15:07:50,405] Trial 6 finished with value: 0.503125 and parameters: {'n_neighbors': 19, 'weights': 'uniform', 'metric': 'minkowski', 'algorithm': 'auto'}. Best is trial 4 with value: 0.634375.\n[I 2024-02-22 15:07:50,455] Trial 7 finished with value: 0.084375 and parameters: {'n_neighbors': 95, 'weights': 'uniform', 'metric': 'manhattan', 'algorithm': 'auto'}. Best is trial 4 with value: 0.634375.\n[I 2024-02-22 15:07:50,487] Trial 8 finished with value: 0.596875 and parameters: {'n_neighbors': 66, 'weights': 'distance', 'metric': 'euclidean', 'algorithm': 'brute'}. Best is trial 4 with value: 0.634375.\n[I 2024-02-22 15:07:50,527] Trial 9 finished with value: 0.534375 and parameters: {'n_neighbors': 95, 'weights': 'distance', 'metric': 'manhattan', 'algorithm': 'brute'}. Best is trial 4 with value: 0.634375.\n[I 2024-02-22 15:07:50,625] Trial 10 finished with value: 0.63125 and parameters: {'n_neighbors': 37, 'weights': 'distance', 'metric': 'euclidean', 'algorithm': 'kd_tree'}. Best is trial 4 with value: 0.634375.\n[I 2024-02-22 15:07:50,723] Trial 11 finished with value: 0.634375 and parameters: {'n_neighbors': 38, 'weights': 'distance', 'metric': 'euclidean', 'algorithm': 'kd_tree'}. Best is trial 4 with value: 0.634375.\n[I 2024-02-22 15:07:50,822] Trial 12 finished with value: 0.634375 and parameters: {'n_neighbors': 39, 'weights': 'distance', 'metric': 'euclidean', 'algorithm': 'kd_tree'}. Best is trial 4 with value: 0.634375.\n[I 2024-02-22 15:07:50,915] Trial 13 finished with value: 0.79375 and parameters: {'n_neighbors': 9, 'weights': 'distance', 'metric': 'euclidean', 'algorithm': 'kd_tree'}. Best is trial 13 with value: 0.79375.\n[I 2024-02-22 15:07:51,009] Trial 14 finished with value: 0.859375 and parameters: {'n_neighbors': 5, 'weights': 'distance', 'metric': 'euclidean', 'algorithm': 'kd_tree'}. Best is trial 14 with value: 0.859375.\n[I 2024-02-22 15:07:51,103] Trial 15 finished with value: 0.775 and parameters: {'n_neighbors': 10, 'weights': 'distance', 'metric': 'euclidean', 'algorithm': 'kd_tree'}. Best is trial 14 with value: 0.859375.\n[I 2024-02-22 15:07:51,201] Trial 16 finished with value: 0.809375 and parameters: {'n_neighbors': 7, 'weights': 'distance', 'metric': 'euclidean', 'algorithm': 'kd_tree'}. Best is trial 14 with value: 0.859375.\n[I 2024-02-22 15:07:51,298] Trial 17 finished with value: 0.859375 and parameters: {'n_neighbors': 5, 'weights': 'distance', 'metric': 'euclidean', 'algorithm': 'kd_tree'}. Best is trial 14 with value: 0.859375.\n[I 2024-02-22 15:07:51,392] Trial 18 finished with value: 0.665625 and parameters: {'n_neighbors': 23, 'weights': 'distance', 'metric': 'euclidean', 'algorithm': 'kd_tree'}. Best is trial 14 with value: 0.859375.\n[I 2024-02-22 15:07:51,487] Trial 19 finished with value: 0.859375 and parameters: {'n_neighbors': 5, 'weights': 'distance', 'metric': 'euclidean', 'algorithm': 'kd_tree'}. Best is trial 14 with value: 0.859375.\n[I 2024-02-22 15:07:51,526] Trial 20 finished with value: 0.65625 and parameters: {'n_neighbors': 27, 'weights': 'distance', 'metric': 'euclidean', 'algorithm': 'brute'}. Best is trial 14 with value: 0.859375.\n[I 2024-02-22 15:07:51,620] Trial 21 finished with value: 0.859375 and parameters: {'n_neighbors': 5, 'weights': 'distance', 'metric': 'euclidean', 'algorithm': 'kd_tree'}. Best is trial 14 with value: 0.859375.\n[I 2024-02-22 15:07:51,716] Trial 22 finished with value: 0.75625 and parameters: {'n_neighbors': 14, 'weights': 'distance', 'metric': 'euclidean', 'algorithm': 'kd_tree'}. Best is trial 14 with value: 0.859375.\n[I 2024-02-22 15:07:51,812] Trial 23 finished with value: 0.653125 and parameters: {'n_neighbors': 28, 'weights': 'distance', 'metric': 'euclidean', 'algorithm': 'kd_tree'}. Best is trial 14 with value: 0.859375.\n[I 2024-02-22 15:07:51,908] Trial 24 finished with value: 0.728125 and parameters: {'n_neighbors': 15, 'weights': 'distance', 'metric': 'euclidean', 'algorithm': 'kd_tree'}. Best is trial 14 with value: 0.859375.\n[I 2024-02-22 15:07:52,004] Trial 25 finished with value: 0.859375 and parameters: {'n_neighbors': 5, 'weights': 'distance', 'metric': 'euclidean', 'algorithm': 'kd_tree'}. Best is trial 14 with value: 0.859375.\n[I 2024-02-22 15:07:52,099] Trial 26 finished with value: 0.728125 and parameters: {'n_neighbors': 15, 'weights': 'distance', 'metric': 'euclidean', 'algorithm': 'kd_tree'}. Best is trial 14 with value: 0.859375.\n[I 2024-02-22 15:07:52,200] Trial 27 finished with value: 0.646875 and parameters: {'n_neighbors': 30, 'weights': 'distance', 'metric': 'euclidean', 'algorithm': 'kd_tree'}. Best is trial 14 with value: 0.859375.\n[I 2024-02-22 15:07:52,245] Trial 28 finished with value: 0.63125 and parameters: {'n_neighbors': 48, 'weights': 'distance', 'metric': 'minkowski', 'algorithm': 'brute'}. Best is trial 14 with value: 0.859375.\n[I 2024-02-22 15:07:52,352] Trial 29 finished with value: 0.546875 and parameters: {'n_neighbors': 86, 'weights': 'distance', 'metric': 'manhattan', 'algorithm': 'ball_tree'}. Best is trial 14 with value: 0.859375.\n[I 2024-02-22 15:07:52,453] Trial 30 finished with value: 0.565625 and parameters: {'n_neighbors': 70, 'weights': 'distance', 'metric': 'manhattan', 'algorithm': 'ball_tree'}. Best is trial 14 with value: 0.859375.\n[I 2024-02-22 15:07:52,551] Trial 31 finished with value: 0.771875 and parameters: {'n_neighbors': 11, 'weights': 'distance', 'metric': 'euclidean', 'algorithm': 'kd_tree'}. Best is trial 14 with value: 0.859375.\n[I 2024-02-22 15:07:52,647] Trial 32 finished with value: 0.825 and parameters: {'n_neighbors': 6, 'weights': 'distance', 'metric': 'euclidean', 'algorithm': 'kd_tree'}. Best is trial 14 with value: 0.859375.\n[I 2024-02-22 15:07:52,747] Trial 33 finished with value: 0.728125 and parameters: {'n_neighbors': 15, 'weights': 'distance', 'metric': 'euclidean', 'algorithm': 'kd_tree'}. Best is trial 14 with value: 0.859375.\n[I 2024-02-22 15:07:52,861] Trial 34 finished with value: 0.796875 and parameters: {'n_neighbors': 5, 'weights': 'uniform', 'metric': 'euclidean', 'algorithm': 'kd_tree'}. Best is trial 14 with value: 0.859375.\n[I 2024-02-22 15:07:52,958] Trial 35 finished with value: 0.7 and parameters: {'n_neighbors': 19, 'weights': 'distance', 'metric': 'minkowski', 'algorithm': 'kd_tree'}. Best is trial 14 with value: 0.859375.\n[I 2024-02-22 15:07:53,067] Trial 36 finished with value: 0.46875 and parameters: {'n_neighbors': 21, 'weights': 'uniform', 'metric': 'euclidean', 'algorithm': 'ball_tree'}. Best is trial 14 with value: 0.859375.\n[I 2024-02-22 15:07:53,106] Trial 37 finished with value: 0.76875 and parameters: {'n_neighbors': 12, 'weights': 'distance', 'metric': 'minkowski', 'algorithm': 'auto'}. Best is trial 14 with value: 0.859375.\n[I 2024-02-22 15:07:53,223] Trial 38 finished with value: 0.39375 and parameters: {'n_neighbors': 31, 'weights': 'uniform', 'metric': 'manhattan', 'algorithm': 'kd_tree'}. Best is trial 14 with value: 0.859375.\n[I 2024-02-22 15:07:53,271] Trial 39 finished with value: 0.609375 and parameters: {'n_neighbors': 58, 'weights': 'distance', 'metric': 'euclidean', 'algorithm': 'auto'}. Best is trial 14 with value: 0.859375.\n[I 2024-02-22 15:07:53,387] Trial 40 finished with value: 0.075 and parameters: {'n_neighbors': 79, 'weights': 'uniform', 'metric': 'euclidean', 'algorithm': 'ball_tree'}. Best is trial 14 with value: 0.859375.\n[I 2024-02-22 15:07:53,486] Trial 41 finished with value: 0.859375 and parameters: {'n_neighbors': 5, 'weights': 'distance', 'metric': 'euclidean', 'algorithm': 'kd_tree'}. Best is trial 14 with value: 0.859375.\n[I 2024-02-22 15:07:53,582] Trial 42 finished with value: 0.859375 and parameters: {'n_neighbors': 5, 'weights': 'distance', 'metric': 'euclidean', 'algorithm': 'kd_tree'}. Best is trial 14 with value: 0.859375.\n[I 2024-02-22 15:07:53,680] Trial 43 finished with value: 0.7 and parameters: {'n_neighbors': 19, 'weights': 'distance', 'metric': 'euclidean', 'algorithm': 'kd_tree'}. Best is trial 14 with value: 0.859375.\n[I 2024-02-22 15:07:53,779] Trial 44 finished with value: 0.771875 and parameters: {'n_neighbors': 11, 'weights': 'distance', 'metric': 'euclidean', 'algorithm': 'kd_tree'}. Best is trial 14 with value: 0.859375.\n[I 2024-02-22 15:07:53,839] Trial 45 finished with value: 0.665625 and parameters: {'n_neighbors': 23, 'weights': 'distance', 'metric': 'minkowski', 'algorithm': 'brute'}. Best is trial 14 with value: 0.859375.\n[I 2024-02-22 15:07:53,942] Trial 46 finished with value: 0.7125 and parameters: {'n_neighbors': 17, 'weights': 'distance', 'metric': 'euclidean', 'algorithm': 'kd_tree'}. Best is trial 14 with value: 0.859375.\n[I 2024-02-22 15:07:53,985] Trial 47 finished with value: 0.775 and parameters: {'n_neighbors': 11, 'weights': 'distance', 'metric': 'manhattan', 'algorithm': 'auto'}. Best is trial 14 with value: 0.859375.\n[I 2024-02-22 15:07:54,103] Trial 48 finished with value: 0.69375 and parameters: {'n_neighbors': 8, 'weights': 'uniform', 'metric': 'euclidean', 'algorithm': 'kd_tree'}. Best is trial 14 with value: 0.859375.\n[I 2024-02-22 15:07:54,206] Trial 49 finished with value: 0.64375 and parameters: {'n_neighbors': 34, 'weights': 'distance', 'metric': 'euclidean', 'algorithm': 'kd_tree'}. Best is trial 14 with value: 0.859375.\n[I 2024-02-22 15:07:54,306] Trial 50 finished with value: 0.79375 and parameters: {'n_neighbors': 9, 'weights': 'distance', 'metric': 'euclidean', 'algorithm': 'kd_tree'}. Best is trial 14 with value: 0.859375.\n[I 2024-02-22 15:07:54,405] Trial 51 finished with value: 0.859375 and parameters: {'n_neighbors': 5, 'weights': 'distance', 'metric': 'euclidean', 'algorithm': 'kd_tree'}. Best is trial 14 with value: 0.859375.\n[I 2024-02-22 15:07:54,507] Trial 52 finished with value: 0.634375 and parameters: {'n_neighbors': 44, 'weights': 'distance', 'metric': 'euclidean', 'algorithm': 'kd_tree'}. Best is trial 14 with value: 0.859375.\n[I 2024-02-22 15:07:54,609] Trial 53 finished with value: 0.759375 and parameters: {'n_neighbors': 13, 'weights': 'distance', 'metric': 'euclidean', 'algorithm': 'kd_tree'}. Best is trial 14 with value: 0.859375.\n[I 2024-02-22 15:07:54,711] Trial 54 finished with value: 0.653125 and parameters: {'n_neighbors': 25, 'weights': 'distance', 'metric': 'euclidean', 'algorithm': 'kd_tree'}. Best is trial 14 with value: 0.859375.\n[I 2024-02-22 15:07:54,808] Trial 55 finished with value: 0.79375 and parameters: {'n_neighbors': 9, 'weights': 'distance', 'metric': 'euclidean', 'algorithm': 'kd_tree'}. Best is trial 14 with value: 0.859375.\n[I 2024-02-22 15:07:54,846] Trial 56 finished with value: 0.709375 and parameters: {'n_neighbors': 18, 'weights': 'distance', 'metric': 'euclidean', 'algorithm': 'brute'}. Best is trial 14 with value: 0.859375.\n[I 2024-02-22 15:07:54,948] Trial 57 finished with value: 0.859375 and parameters: {'n_neighbors': 5, 'weights': 'distance', 'metric': 'euclidean', 'algorithm': 'kd_tree'}. Best is trial 14 with value: 0.859375.\n[I 2024-02-22 15:07:55,047] Trial 58 finished with value: 0.728125 and parameters: {'n_neighbors': 15, 'weights': 'distance', 'metric': 'euclidean', 'algorithm': 'kd_tree'}. Best is trial 14 with value: 0.859375.\n[I 2024-02-22 15:07:55,147] Trial 59 finished with value: 0.8 and parameters: {'n_neighbors': 8, 'weights': 'distance', 'metric': 'minkowski', 'algorithm': 'kd_tree'}. Best is trial 14 with value: 0.859375.\n[I 2024-02-22 15:07:55,192] Trial 60 finished with value: 0.678125 and parameters: {'n_neighbors': 22, 'weights': 'distance', 'metric': 'manhattan', 'algorithm': 'auto'}. Best is trial 14 with value: 0.859375.\n[I 2024-02-22 15:07:55,292] Trial 61 finished with value: 0.859375 and parameters: {'n_neighbors': 5, 'weights': 'distance', 'metric': 'euclidean', 'algorithm': 'kd_tree'}. Best is trial 14 with value: 0.859375.\n[I 2024-02-22 15:07:55,395] Trial 62 finished with value: 0.571875 and parameters: {'n_neighbors': 99, 'weights': 'distance', 'metric': 'euclidean', 'algorithm': 'kd_tree'}. Best is trial 14 with value: 0.859375.\n[I 2024-02-22 15:07:55,495] Trial 63 finished with value: 0.8 and parameters: {'n_neighbors': 8, 'weights': 'distance', 'metric': 'euclidean', 'algorithm': 'kd_tree'}. Best is trial 14 with value: 0.859375.\n[I 2024-02-22 15:07:55,593] Trial 64 finished with value: 0.759375 and parameters: {'n_neighbors': 13, 'weights': 'distance', 'metric': 'euclidean', 'algorithm': 'kd_tree'}. Best is trial 14 with value: 0.859375.\n[I 2024-02-22 15:07:55,694] Trial 65 finished with value: 0.7125 and parameters: {'n_neighbors': 17, 'weights': 'distance', 'metric': 'euclidean', 'algorithm': 'kd_tree'}. Best is trial 14 with value: 0.859375.\n[I 2024-02-22 15:07:55,792] Trial 66 finished with value: 0.859375 and parameters: {'n_neighbors': 5, 'weights': 'distance', 'metric': 'euclidean', 'algorithm': 'ball_tree'}. Best is trial 14 with value: 0.859375.\n[I 2024-02-22 15:07:55,902] Trial 67 finished with value: 0.615625 and parameters: {'n_neighbors': 11, 'weights': 'uniform', 'metric': 'euclidean', 'algorithm': 'kd_tree'}. Best is trial 14 with value: 0.859375.\n[I 2024-02-22 15:07:55,941] Trial 68 finished with value: 0.8 and parameters: {'n_neighbors': 8, 'weights': 'distance', 'metric': 'euclidean', 'algorithm': 'brute'}. Best is trial 14 with value: 0.859375.\n[I 2024-02-22 15:07:56,042] Trial 69 finished with value: 0.728125 and parameters: {'n_neighbors': 15, 'weights': 'distance', 'metric': 'euclidean', 'algorithm': 'kd_tree'}. Best is trial 14 with value: 0.859375.\n[I 2024-02-22 15:07:56,145] Trial 70 finished with value: 0.76875 and parameters: {'n_neighbors': 12, 'weights': 'distance', 'metric': 'euclidean', 'algorithm': 'kd_tree'}. Best is trial 14 with value: 0.859375.\n[I 2024-02-22 15:07:56,243] Trial 71 finished with value: 0.859375 and parameters: {'n_neighbors': 5, 'weights': 'distance', 'metric': 'euclidean', 'algorithm': 'kd_tree'}. Best is trial 14 with value: 0.859375.\n[I 2024-02-22 15:07:56,342] Trial 72 finished with value: 0.809375 and parameters: {'n_neighbors': 7, 'weights': 'distance', 'metric': 'euclidean', 'algorithm': 'kd_tree'}. Best is trial 14 with value: 0.859375.\n[I 2024-02-22 15:07:56,441] Trial 73 finished with value: 0.775 and parameters: {'n_neighbors': 10, 'weights': 'distance', 'metric': 'euclidean', 'algorithm': 'kd_tree'}. Best is trial 14 with value: 0.859375.\n[I 2024-02-22 15:07:56,542] Trial 74 finished with value: 0.859375 and parameters: {'n_neighbors': 5, 'weights': 'distance', 'metric': 'euclidean', 'algorithm': 'kd_tree'}. Best is trial 14 with value: 0.859375.\n[I 2024-02-22 15:07:56,651] Trial 75 finished with value: 0.609375 and parameters: {'n_neighbors': 55, 'weights': 'distance', 'metric': 'euclidean', 'algorithm': 'kd_tree'}. Best is trial 14 with value: 0.859375.\n[I 2024-02-22 15:07:56,752] Trial 76 finished with value: 0.7375 and parameters: {'n_neighbors': 14, 'weights': 'distance', 'metric': 'manhattan', 'algorithm': 'kd_tree'}. Best is trial 14 with value: 0.859375.\n[I 2024-02-22 15:07:56,850] Trial 77 finished with value: 0.79375 and parameters: {'n_neighbors': 9, 'weights': 'distance', 'metric': 'minkowski', 'algorithm': 'ball_tree'}. Best is trial 14 with value: 0.859375.\n[I 2024-02-22 15:07:56,962] Trial 78 finished with value: 0.0875 and parameters: {'n_neighbors': 65, 'weights': 'uniform', 'metric': 'euclidean', 'algorithm': 'kd_tree'}. Best is trial 14 with value: 0.859375.\n[I 2024-02-22 15:07:57,003] Trial 79 finished with value: 0.7125 and parameters: {'n_neighbors': 17, 'weights': 'distance', 'metric': 'euclidean', 'algorithm': 'auto'}. Best is trial 14 with value: 0.859375.\n[I 2024-02-22 15:07:57,105] Trial 80 finished with value: 0.809375 and parameters: {'n_neighbors': 7, 'weights': 'distance', 'metric': 'euclidean', 'algorithm': 'kd_tree'}. Best is trial 14 with value: 0.859375.\n[I 2024-02-22 15:07:57,207] Trial 81 finished with value: 0.859375 and parameters: {'n_neighbors': 5, 'weights': 'distance', 'metric': 'euclidean', 'algorithm': 'kd_tree'}. Best is trial 14 with value: 0.859375.\n[I 2024-02-22 15:07:57,308] Trial 82 finished with value: 0.771875 and parameters: {'n_neighbors': 11, 'weights': 'distance', 'metric': 'euclidean', 'algorithm': 'kd_tree'}. Best is trial 14 with value: 0.859375.\n[I 2024-02-22 15:07:57,406] Trial 83 finished with value: 0.809375 and parameters: {'n_neighbors': 7, 'weights': 'distance', 'metric': 'euclidean', 'algorithm': 'kd_tree'}. Best is trial 14 with value: 0.859375.\n[I 2024-02-22 15:07:57,506] Trial 84 finished with value: 0.775 and parameters: {'n_neighbors': 10, 'weights': 'distance', 'metric': 'euclidean', 'algorithm': 'kd_tree'}. Best is trial 14 with value: 0.859375.\n[I 2024-02-22 15:07:57,606] Trial 85 finished with value: 0.759375 and parameters: {'n_neighbors': 13, 'weights': 'distance', 'metric': 'euclidean', 'algorithm': 'kd_tree'}. Best is trial 14 with value: 0.859375.\n[I 2024-02-22 15:07:57,648] Trial 86 finished with value: 0.859375 and parameters: {'n_neighbors': 5, 'weights': 'distance', 'metric': 'euclidean', 'algorithm': 'brute'}. Best is trial 14 with value: 0.859375.\n[I 2024-02-22 15:07:57,755] Trial 87 finished with value: 0.6875 and parameters: {'n_neighbors': 20, 'weights': 'distance', 'metric': 'euclidean', 'algorithm': 'kd_tree'}. Best is trial 14 with value: 0.859375.\n[I 2024-02-22 15:07:57,857] Trial 88 finished with value: 0.809375 and parameters: {'n_neighbors': 7, 'weights': 'distance', 'metric': 'minkowski', 'algorithm': 'kd_tree'}. Best is trial 14 with value: 0.859375.\n[I 2024-02-22 15:07:57,976] Trial 89 finished with value: 0.09375 and parameters: {'n_neighbors': 88, 'weights': 'uniform', 'metric': 'manhattan', 'algorithm': 'kd_tree'}. Best is trial 14 with value: 0.859375.\n[I 2024-02-22 15:07:58,078] Trial 90 finished with value: 0.715625 and parameters: {'n_neighbors': 16, 'weights': 'distance', 'metric': 'euclidean', 'algorithm': 'kd_tree'}. Best is trial 14 with value: 0.859375.\n[I 2024-02-22 15:07:58,177] Trial 91 finished with value: 0.859375 and parameters: {'n_neighbors': 5, 'weights': 'distance', 'metric': 'euclidean', 'algorithm': 'kd_tree'}. Best is trial 14 with value: 0.859375.\n[I 2024-02-22 15:07:58,277] Trial 92 finished with value: 0.79375 and parameters: {'n_neighbors': 9, 'weights': 'distance', 'metric': 'euclidean', 'algorithm': 'kd_tree'}. Best is trial 14 with value: 0.859375.\n[I 2024-02-22 15:07:58,377] Trial 93 finished with value: 0.76875 and parameters: {'n_neighbors': 12, 'weights': 'distance', 'metric': 'euclidean', 'algorithm': 'kd_tree'}. Best is trial 14 with value: 0.859375.\n[I 2024-02-22 15:07:58,494] Trial 94 finished with value: 0.809375 and parameters: {'n_neighbors': 7, 'weights': 'distance', 'metric': 'euclidean', 'algorithm': 'kd_tree'}. Best is trial 14 with value: 0.859375.\n[I 2024-02-22 15:07:58,597] Trial 95 finished with value: 0.775 and parameters: {'n_neighbors': 10, 'weights': 'distance', 'metric': 'euclidean', 'algorithm': 'kd_tree'}. Best is trial 14 with value: 0.859375.\n[I 2024-02-22 15:07:58,699] Trial 96 finished with value: 0.6375 and parameters: {'n_neighbors': 41, 'weights': 'distance', 'metric': 'euclidean', 'algorithm': 'ball_tree'}. Best is trial 14 with value: 0.859375.\n[I 2024-02-22 15:07:58,798] Trial 97 finished with value: 0.759375 and parameters: {'n_neighbors': 13, 'weights': 'distance', 'metric': 'euclidean', 'algorithm': 'kd_tree'}. Best is trial 14 with value: 0.859375.\n[I 2024-02-22 15:07:58,896] Trial 98 finished with value: 0.809375 and parameters: {'n_neighbors': 7, 'weights': 'distance', 'metric': 'euclidean', 'algorithm': 'kd_tree'}. Best is trial 14 with value: 0.859375.\n[I 2024-02-22 15:07:58,936] Trial 99 finished with value: 0.859375 and parameters: {'n_neighbors': 5, 'weights': 'distance', 'metric': 'euclidean', 'algorithm': 'auto'}. Best is trial 14 with value: 0.859375.\n",
          "output_type": "stream"
        },
        {
          "name": "stdout",
          "text": "Best params found : {'n_neighbors': 5, 'weights': 'distance', 'metric': 'euclidean', 'algorithm': 'kd_tree'}\naccuracy: 0.9875\nrecall: 0.9930555555555556\nprecision: 0.9930555555555556\nf1-score: 0.9920634920634921\nroc_auc:  0.9963474025974026\n",
          "output_type": "stream"
        }
      ]
    },
    {
      "cell_type": "markdown",
      "source": [
        "# Support Vector Machine"
      ],
      "metadata": {
        "id": "GBpKVj-9gZ40"
      }
    },
    {
      "cell_type": "markdown",
      "source": [
        "**Normal**"
      ],
      "metadata": {
        "id": "M0roYYFygZ40"
      }
    },
    {
      "cell_type": "code",
      "source": [
        "from sklearn.svm import SVC\n",
        "\n",
        "svm = SVC(kernel='linear')\n",
        "svm.fit(X_train_reduced, y_train)\n",
        "y_pred = svm.predict(X_test_reduced)\n",
        "\n",
        "accuracy = accuracy_score(y_test, y_pred)\n",
        "precision = precision_score(y_test, y_pred, average='macro')\n",
        "recall = recall_score(y_test, y_pred, average='macro')\n",
        "f1 = f1_score(y_test, y_pred, average='macro')\n",
        "\n",
        "# One-hot encoding for probability calculation (adapt if necessary)\n",
        "# Assuming 'label_' prefix for clarity\n",
        "y_test_onehot = pd.get_dummies(y_test, prefix='label_')\n",
        "y_pred_onehot = pd.get_dummies(y_pred, prefix='label_')\n",
        "\n",
        "# ROC AUC score with multiclass handling\n",
        "roc_auc_macro = roc_auc_score(y_test_onehot, y_pred_onehot,\n",
        "                              average='macro', multi_class='ovo')  # Specify 'ovo' or 'ovr'\n",
        "\n",
        "print(\"accuracy:\", accuracy)\n",
        "print(\"recall:\", recall)\n",
        "print(\"precision:\", precision)\n",
        "print(\"f1-score:\", f1)\n",
        "print('roc_auc: ', roc_auc_macro)"
      ],
      "metadata": {
        "execution": {
          "iopub.status.busy": "2024-02-22T15:07:58.990146Z",
          "iopub.execute_input": "2024-02-22T15:07:58.990480Z",
          "iopub.status.idle": "2024-02-22T15:07:59.046671Z",
          "shell.execute_reply.started": "2024-02-22T15:07:58.990454Z",
          "shell.execute_reply": "2024-02-22T15:07:59.045642Z"
        },
        "trusted": true,
        "id": "1rFuT5UUgZ40",
        "outputId": "56f5951d-f361-4518-a0c3-8b2846fdc240"
      },
      "execution_count": null,
      "outputs": [
        {
          "name": "stdout",
          "text": "accuracy: 1.0\nrecall: 1.0\nprecision: 1.0\nf1-score: 1.0\nroc_auc:  1.0\n",
          "output_type": "stream"
        }
      ]
    },
    {
      "cell_type": "markdown",
      "source": [
        "**Tunning**"
      ],
      "metadata": {
        "id": "ksWLzqsmgZ40"
      }
    },
    {
      "cell_type": "code",
      "source": [
        "import optuna\n",
        "from sklearn.model_selection import cross_val_score\n",
        "import warnings\n",
        "warnings.filterwarnings('ignore')\n",
        "\n",
        "def objective(trial):\n",
        "    hyperparams = {\n",
        "        'kernel': trial.suggest_categorical('kernel', ['linear', 'rbf', 'poly']),\n",
        "        'C': trial.suggest_loguniform('C', 1e-5, 1e5),\n",
        "        'gamma': trial.suggest_loguniform('gamma', 1e-5, 1e5),\n",
        "        # 'degree': trial.suggest_int('degree', 2, 5),  # for polynomial kernel\n",
        "        'tol': trial.suggest_loguniform('tol', 1e-4, 1e-2),\n",
        "        'shrinking': trial.suggest_categorical('shrinking', [True, False]),\n",
        "    }\n",
        "\n",
        "    # Create KNN model with tuned hyperparameters\n",
        "    model = SVC(**hyperparams)\n",
        "    scores = cross_val_score(model, X_train_reduced, y_train, cv = kf,scoring = 'accuracy')\n",
        "    return np.mean(scores)"
      ],
      "metadata": {
        "execution": {
          "iopub.status.busy": "2024-02-22T15:07:59.047670Z",
          "iopub.execute_input": "2024-02-22T15:07:59.047951Z",
          "iopub.status.idle": "2024-02-22T15:07:59.055460Z",
          "shell.execute_reply.started": "2024-02-22T15:07:59.047927Z",
          "shell.execute_reply": "2024-02-22T15:07:59.054395Z"
        },
        "trusted": true,
        "id": "If3klzhRgZ40"
      },
      "execution_count": null,
      "outputs": []
    },
    {
      "cell_type": "code",
      "source": [
        "study = optuna.create_study(direction='maximize')\n",
        "study.optimize(objective, n_trials=100)\n",
        "best_params = study.best_params\n",
        "print(\"Best params found :\", best_params)\n",
        "\n",
        "final_model = SVC(**best_params)\n",
        "final_model.fit(X_train_reduced, y_train)\n",
        "y_pred = final_model.predict(X_test_reduced)\n",
        "prediction_results['svc'] = list(y_pred)\n",
        "\n",
        "accuracy = accuracy_score(y_test, y_pred)\n",
        "precision = precision_score(y_test, y_pred, average='macro')\n",
        "recall = recall_score(y_test, y_pred, average='macro')\n",
        "f1 = f1_score(y_test, y_pred, average='macro')\n",
        "\n",
        "# One-hot encoding for probability calculation (adapt if necessary)\n",
        "# Assuming 'label_' prefix for clarity\n",
        "y_test_onehot = pd.get_dummies(y_test, prefix='label_')\n",
        "y_pred_onehot = pd.get_dummies(y_pred, prefix='label_')\n",
        "\n",
        "# ROC AUC score with multiclass handling\n",
        "roc_auc_macro = roc_auc_score(y_test_onehot, y_pred_onehot,\n",
        "                              average='macro', multi_class='ovo')  # Specify 'ovo' or 'ovr'\n",
        "\n",
        "print(\"accuracy:\", accuracy)\n",
        "print(\"recall:\", recall)\n",
        "print(\"precision:\", precision)\n",
        "print(\"f1-score:\", f1)\n",
        "print('roc_auc: ', roc_auc_macro)"
      ],
      "metadata": {
        "execution": {
          "iopub.status.busy": "2024-02-22T15:07:59.057038Z",
          "iopub.execute_input": "2024-02-22T15:07:59.057296Z",
          "iopub.status.idle": "2024-02-22T15:08:08.575035Z",
          "shell.execute_reply.started": "2024-02-22T15:07:59.057274Z",
          "shell.execute_reply": "2024-02-22T15:08:08.573926Z"
        },
        "trusted": true,
        "id": "Kuk2lK7egZ40",
        "outputId": "d12b7df7-c5e4-45aa-8c9a-31f56108ec36"
      },
      "execution_count": null,
      "outputs": [
        {
          "name": "stderr",
          "text": "[I 2024-02-22 15:07:59,066] A new study created in memory with name: no-name-f7aacf09-15bd-4edb-88e2-88b42f3d6ab0\n[I 2024-02-22 15:07:59,160] Trial 0 finished with value: 0.0 and parameters: {'kernel': 'rbf', 'C': 1.4149449850529954, 'gamma': 0.011579250107620858, 'tol': 0.003423257169395852, 'shrinking': False}. Best is trial 0 with value: 0.0.\n[I 2024-02-22 15:07:59,227] Trial 1 finished with value: 0.946875 and parameters: {'kernel': 'linear', 'C': 1.6748743405695075, 'gamma': 0.3064378096832369, 'tol': 0.0020904283770206036, 'shrinking': False}. Best is trial 1 with value: 0.946875.\n[I 2024-02-22 15:07:59,298] Trial 2 finished with value: 0.946875 and parameters: {'kernel': 'linear', 'C': 4582.100883195505, 'gamma': 4979.582944695045, 'tol': 0.0027971308667460513, 'shrinking': True}. Best is trial 1 with value: 0.946875.\n[I 2024-02-22 15:07:59,374] Trial 3 finished with value: 0.859375 and parameters: {'kernel': 'poly', 'C': 6.947432081756405e-05, 'gamma': 1.3626682712825414e-05, 'tol': 0.0008868535079584808, 'shrinking': False}. Best is trial 1 with value: 0.946875.\n[I 2024-02-22 15:07:59,445] Trial 4 finished with value: 0.946875 and parameters: {'kernel': 'linear', 'C': 0.8270026906803538, 'gamma': 6572.967575701006, 'tol': 0.00034389961623824814, 'shrinking': False}. Best is trial 1 with value: 0.946875.\n[I 2024-02-22 15:07:59,523] Trial 5 finished with value: 0.946875 and parameters: {'kernel': 'linear', 'C': 0.0003743140369707409, 'gamma': 0.0367748318106745, 'tol': 0.0007106151183846696, 'shrinking': True}. Best is trial 1 with value: 0.946875.\n[I 2024-02-22 15:07:59,590] Trial 6 finished with value: 0.0 and parameters: {'kernel': 'rbf', 'C': 0.0002481135609686358, 'gamma': 0.004079266414809742, 'tol': 0.0033082749464024095, 'shrinking': True}. Best is trial 1 with value: 0.946875.\n[I 2024-02-22 15:07:59,656] Trial 7 finished with value: 0.0 and parameters: {'kernel': 'rbf', 'C': 1.3834745146674598e-05, 'gamma': 0.4620743038219962, 'tol': 0.00034360250408561633, 'shrinking': False}. Best is trial 1 with value: 0.946875.\n[I 2024-02-22 15:07:59,725] Trial 8 finished with value: 0.946875 and parameters: {'kernel': 'linear', 'C': 0.10758686504074261, 'gamma': 0.680085477168096, 'tol': 0.0012056617522666322, 'shrinking': False}. Best is trial 1 with value: 0.946875.\n[I 2024-02-22 15:07:59,789] Trial 9 finished with value: 0.946875 and parameters: {'kernel': 'linear', 'C': 818.7075854835304, 'gamma': 0.540820889526618, 'tol': 0.0028693645714701677, 'shrinking': False}. Best is trial 1 with value: 0.946875.\n[I 2024-02-22 15:07:59,905] Trial 10 finished with value: 0.859375 and parameters: {'kernel': 'poly', 'C': 40.081038958945406, 'gamma': 165.27259488729098, 'tol': 0.00011976474721532874, 'shrinking': True}. Best is trial 1 with value: 0.946875.\n[I 2024-02-22 15:07:59,992] Trial 11 finished with value: 0.946875 and parameters: {'kernel': 'linear', 'C': 50664.33337476331, 'gamma': 85937.38778809004, 'tol': 0.008064168906153095, 'shrinking': True}. Best is trial 1 with value: 0.946875.\n[I 2024-02-22 15:08:00,079] Trial 12 finished with value: 0.946875 and parameters: {'kernel': 'linear', 'C': 90499.15035439162, 'gamma': 64.66529725252015, 'tol': 0.009632171928801718, 'shrinking': True}. Best is trial 1 with value: 0.946875.\n[I 2024-02-22 15:08:00,172] Trial 13 finished with value: 0.946875 and parameters: {'kernel': 'linear', 'C': 878.9937013463151, 'gamma': 64.50872036729008, 'tol': 0.0022900671063323876, 'shrinking': True}. Best is trial 1 with value: 0.946875.\n[I 2024-02-22 15:08:00,261] Trial 14 finished with value: 0.946875 and parameters: {'kernel': 'linear', 'C': 0.010401931954999066, 'gamma': 0.00018506408269822612, 'tol': 0.001620820073841526, 'shrinking': False}. Best is trial 1 with value: 0.946875.\n[I 2024-02-22 15:08:00,362] Trial 15 finished with value: 0.8625 and parameters: {'kernel': 'poly', 'C': 132.8994501158135, 'gamma': 2741.8069517093745, 'tol': 0.005607200061697891, 'shrinking': True}. Best is trial 1 with value: 0.946875.\n[I 2024-02-22 15:08:00,445] Trial 16 finished with value: 0.946875 and parameters: {'kernel': 'linear', 'C': 26.722914613240093, 'gamma': 15.580715201175492, 'tol': 0.004744296534771517, 'shrinking': False}. Best is trial 1 with value: 0.946875.\n[I 2024-02-22 15:08:00,543] Trial 17 finished with value: 0.946875 and parameters: {'kernel': 'linear', 'C': 2894.974593954182, 'gamma': 7.656294924192983, 'tol': 0.0005856147200455562, 'shrinking': True}. Best is trial 1 with value: 0.946875.\n[I 2024-02-22 15:08:00,639] Trial 18 finished with value: 0.859375 and parameters: {'kernel': 'poly', 'C': 0.014086051956164409, 'gamma': 663.4298389912088, 'tol': 0.0017407278482373912, 'shrinking': False}. Best is trial 1 with value: 0.946875.\n[I 2024-02-22 15:08:00,753] Trial 19 finished with value: 0.0 and parameters: {'kernel': 'rbf', 'C': 4.1977310115837145, 'gamma': 99168.6411772446, 'tol': 0.005304618623721972, 'shrinking': True}. Best is trial 1 with value: 0.946875.\n[I 2024-02-22 15:08:00,846] Trial 20 finished with value: 0.946875 and parameters: {'kernel': 'linear', 'C': 7632.189934982077, 'gamma': 0.0010974255417574121, 'tol': 0.0004603737183239594, 'shrinking': False}. Best is trial 1 with value: 0.946875.\n[I 2024-02-22 15:08:00,938] Trial 21 finished with value: 0.946875 and parameters: {'kernel': 'linear', 'C': 0.2523187346528766, 'gamma': 6725.385754774999, 'tol': 0.0002394144867968815, 'shrinking': False}. Best is trial 1 with value: 0.946875.\n[I 2024-02-22 15:08:01,031] Trial 22 finished with value: 0.946875 and parameters: {'kernel': 'linear', 'C': 5.6797101548498246, 'gamma': 5467.970246321362, 'tol': 0.00019803768796600657, 'shrinking': False}. Best is trial 1 with value: 0.946875.\n[I 2024-02-22 15:08:01,119] Trial 23 finished with value: 0.946875 and parameters: {'kernel': 'linear', 'C': 0.04892792949624107, 'gamma': 0.05448086823920404, 'tol': 0.0013357643863416704, 'shrinking': False}. Best is trial 1 with value: 0.946875.\n[I 2024-02-22 15:08:01,207] Trial 24 finished with value: 0.946875 and parameters: {'kernel': 'linear', 'C': 0.004805612963402776, 'gamma': 6.141816093255274, 'tol': 0.0021364231054282483, 'shrinking': False}. Best is trial 1 with value: 0.946875.\n[I 2024-02-22 15:08:01,298] Trial 25 finished with value: 0.946875 and parameters: {'kernel': 'linear', 'C': 124.02462797324173, 'gamma': 16486.513199863384, 'tol': 0.0010045191778300319, 'shrinking': False}. Best is trial 1 with value: 0.946875.\n[I 2024-02-22 15:08:01,395] Trial 26 finished with value: 0.946875 and parameters: {'kernel': 'linear', 'C': 0.3052196748075483, 'gamma': 835.5431281860111, 'tol': 0.00033340755431270785, 'shrinking': True}. Best is trial 1 with value: 0.946875.\n[I 2024-02-22 15:08:01,490] Trial 27 finished with value: 0.946875 and parameters: {'kernel': 'linear', 'C': 6.794481999117456, 'gamma': 509.873598932613, 'tol': 0.00017375317178424494, 'shrinking': False}. Best is trial 1 with value: 0.946875.\n[I 2024-02-22 15:08:01,589] Trial 28 finished with value: 0.0 and parameters: {'kernel': 'rbf', 'C': 0.0019556928979409657, 'gamma': 0.0974053242858865, 'tol': 0.0005096602683012569, 'shrinking': True}. Best is trial 1 with value: 0.946875.\n[I 2024-02-22 15:08:01,686] Trial 29 finished with value: 0.859375 and parameters: {'kernel': 'poly', 'C': 1.3931012557496052, 'gamma': 3.178603283938992, 'tol': 0.004051984041991925, 'shrinking': False}. Best is trial 1 with value: 0.946875.\n[I 2024-02-22 15:08:01,788] Trial 30 finished with value: 0.0 and parameters: {'kernel': 'rbf', 'C': 0.46991440741988977, 'gamma': 23126.18040755598, 'tol': 0.0026725953043862756, 'shrinking': False}. Best is trial 1 with value: 0.946875.\n[I 2024-02-22 15:08:01,885] Trial 31 finished with value: 0.946875 and parameters: {'kernel': 'linear', 'C': 0.000538238169948279, 'gamma': 0.07476997678406337, 'tol': 0.0007763731631745887, 'shrinking': True}. Best is trial 1 with value: 0.946875.\n[I 2024-02-22 15:08:01,981] Trial 32 finished with value: 0.946875 and parameters: {'kernel': 'linear', 'C': 4.5470333974387286e-05, 'gamma': 0.0126931864299175, 'tol': 0.0007570233450010675, 'shrinking': True}. Best is trial 1 with value: 0.946875.\n[I 2024-02-22 15:08:02,080] Trial 33 finished with value: 0.946875 and parameters: {'kernel': 'linear', 'C': 0.000509235147973253, 'gamma': 0.0007649025617240256, 'tol': 0.00033421705107458287, 'shrinking': True}. Best is trial 1 with value: 0.946875.\n[I 2024-02-22 15:08:02,176] Trial 34 finished with value: 0.946875 and parameters: {'kernel': 'linear', 'C': 0.03762961507427638, 'gamma': 0.015089915919968052, 'tol': 0.0011016027828171474, 'shrinking': True}. Best is trial 1 with value: 0.946875.\n[I 2024-02-22 15:08:02,277] Trial 35 finished with value: 0.946875 and parameters: {'kernel': 'linear', 'C': 18478.92175454365, 'gamma': 4.59970961798741e-05, 'tol': 0.0006365063413029321, 'shrinking': True}. Best is trial 1 with value: 0.946875.\n[I 2024-02-22 15:08:02,367] Trial 36 finished with value: 0.0 and parameters: {'kernel': 'rbf', 'C': 5.595980219240281e-05, 'gamma': 0.24693456914825682, 'tol': 0.0015710534211830851, 'shrinking': False}. Best is trial 1 with value: 0.946875.\n[I 2024-02-22 15:08:02,481] Trial 37 finished with value: 0.859375 and parameters: {'kernel': 'poly', 'C': 0.0020141095909066813, 'gamma': 2.0058949694352313, 'tol': 0.00041415409041916637, 'shrinking': True}. Best is trial 1 with value: 0.946875.\n[I 2024-02-22 15:08:02,567] Trial 38 finished with value: 0.946875 and parameters: {'kernel': 'linear', 'C': 1.1193147858051873e-05, 'gamma': 0.03088884910018731, 'tol': 0.003576659501628821, 'shrinking': False}. Best is trial 1 with value: 0.946875.\n[I 2024-02-22 15:08:02,671] Trial 39 finished with value: 0.946875 and parameters: {'kernel': 'linear', 'C': 694.3014175204099, 'gamma': 0.003383944706658746, 'tol': 0.00010664131414790013, 'shrinking': True}. Best is trial 1 with value: 0.946875.\n[I 2024-02-22 15:08:02,775] Trial 40 finished with value: 0.946875 and parameters: {'kernel': 'linear', 'C': 77.29974247652981, 'gamma': 50.708631113533734, 'tol': 0.00025677641093311724, 'shrinking': True}. Best is trial 1 with value: 0.946875.\n[I 2024-02-22 15:08:02,867] Trial 41 finished with value: 0.946875 and parameters: {'kernel': 'linear', 'C': 0.12675052620705712, 'gamma': 0.6752650785475679, 'tol': 0.001311385215786617, 'shrinking': False}. Best is trial 1 with value: 0.946875.\n[I 2024-02-22 15:08:02,955] Trial 42 finished with value: 0.946875 and parameters: {'kernel': 'linear', 'C': 21.91498877424369, 'gamma': 0.20276570404409958, 'tol': 0.002697169151326304, 'shrinking': False}. Best is trial 1 with value: 0.946875.\n[I 2024-02-22 15:08:03,046] Trial 43 finished with value: 0.946875 and parameters: {'kernel': 'linear', 'C': 1.8814437316510948, 'gamma': 0.8626707071243762, 'tol': 0.002115609769164917, 'shrinking': False}. Best is trial 1 with value: 0.946875.\n[I 2024-02-22 15:08:03,139] Trial 44 finished with value: 0.946875 and parameters: {'kernel': 'linear', 'C': 0.06259106055030053, 'gamma': 0.004347580285132123, 'tol': 0.0009211071031943568, 'shrinking': False}. Best is trial 1 with value: 0.946875.\n[I 2024-02-22 15:08:03,243] Trial 45 finished with value: 0.859375 and parameters: {'kernel': 'poly', 'C': 0.00023224921037573448, 'gamma': 208.1431658377374, 'tol': 0.0011659532032812863, 'shrinking': False}. Best is trial 1 with value: 0.946875.\n[I 2024-02-22 15:08:03,341] Trial 46 finished with value: 0.946875 and parameters: {'kernel': 'linear', 'C': 0.6820571580078386, 'gamma': 16.157346783141506, 'tol': 0.0017552312672649505, 'shrinking': True}. Best is trial 1 with value: 0.946875.\n[I 2024-02-22 15:08:03,443] Trial 47 finished with value: 0.0 and parameters: {'kernel': 'rbf', 'C': 0.01811001155997873, 'gamma': 0.5144955501856426, 'tol': 0.0007587574989255118, 'shrinking': False}. Best is trial 1 with value: 0.946875.\n[I 2024-02-22 15:08:03,533] Trial 48 finished with value: 0.946875 and parameters: {'kernel': 'linear', 'C': 14.517796280273478, 'gamma': 1568.9777184843113, 'tol': 0.006623471919130944, 'shrinking': False}. Best is trial 1 with value: 0.946875.\n[I 2024-02-22 15:08:03,630] Trial 49 finished with value: 0.946875 and parameters: {'kernel': 'linear', 'C': 1692.950609784104, 'gamma': 39417.177137828716, 'tol': 0.004094142883814378, 'shrinking': True}. Best is trial 1 with value: 0.946875.\n[I 2024-02-22 15:08:03,734] Trial 50 finished with value: 0.946875 and parameters: {'kernel': 'linear', 'C': 434.540909066161, 'gamma': 32.55595968720393, 'tol': 0.00014679334324479897, 'shrinking': False}. Best is trial 1 with value: 0.946875.\n[I 2024-02-22 15:08:03,824] Trial 51 finished with value: 0.946875 and parameters: {'kernel': 'linear', 'C': 7219.686615106344, 'gamma': 2.228748583119061, 'tol': 0.0027366749540041193, 'shrinking': False}. Best is trial 1 with value: 0.946875.\n[I 2024-02-22 15:08:03,913] Trial 52 finished with value: 0.946875 and parameters: {'kernel': 'linear', 'C': 41970.88696776837, 'gamma': 0.18124218231970832, 'tol': 0.003180339109475684, 'shrinking': False}. Best is trial 1 with value: 0.946875.\n[I 2024-02-22 15:08:04,003] Trial 53 finished with value: 0.946875 and parameters: {'kernel': 'linear', 'C': 305.16528686723024, 'gamma': 155.93084787216614, 'tol': 0.001825885490415194, 'shrinking': False}. Best is trial 1 with value: 0.946875.\n[I 2024-02-22 15:08:04,092] Trial 54 finished with value: 0.946875 and parameters: {'kernel': 'linear', 'C': 1698.7376230362408, 'gamma': 0.030115187166769943, 'tol': 0.001403465183120869, 'shrinking': False}. Best is trial 1 with value: 0.946875.\n[I 2024-02-22 15:08:04,192] Trial 55 finished with value: 0.859375 and parameters: {'kernel': 'poly', 'C': 2.09749597352808, 'gamma': 1.5207391298605695, 'tol': 0.0021443976117105504, 'shrinking': False}. Best is trial 1 with value: 0.946875.\n[I 2024-02-22 15:08:04,285] Trial 56 finished with value: 0.946875 and parameters: {'kernel': 'linear', 'C': 0.14048567741502244, 'gamma': 0.21096321017387945, 'tol': 0.007083740138117254, 'shrinking': True}. Best is trial 1 with value: 0.946875.\n[I 2024-02-22 15:08:04,377] Trial 57 finished with value: 0.946875 and parameters: {'kernel': 'linear', 'C': 5133.191830012251, 'gamma': 7.389727802432085, 'tol': 0.003250948358305612, 'shrinking': False}. Best is trial 1 with value: 0.946875.\n[I 2024-02-22 15:08:04,470] Trial 58 finished with value: 0.946875 and parameters: {'kernel': 'linear', 'C': 58.7515164751095, 'gamma': 5529.937323127521, 'tol': 0.004824374160209637, 'shrinking': False}. Best is trial 1 with value: 0.946875.\n[I 2024-02-22 15:08:04,593] Trial 59 finished with value: 0.0 and parameters: {'kernel': 'rbf', 'C': 11.378479176142301, 'gamma': 0.005957593624413941, 'tol': 0.0005782712018789532, 'shrinking': True}. Best is trial 1 with value: 0.946875.\n[I 2024-02-22 15:08:04,683] Trial 60 finished with value: 0.946875 and parameters: {'kernel': 'linear', 'C': 0.006073064851855149, 'gamma': 0.0010043853763974763, 'tol': 0.009911489208268849, 'shrinking': False}. Best is trial 1 with value: 0.946875.\n[I 2024-02-22 15:08:04,781] Trial 61 finished with value: 0.946875 and parameters: {'kernel': 'linear', 'C': 89132.38963637107, 'gamma': 13654.759828668635, 'tol': 0.007571295573843076, 'shrinking': True}. Best is trial 1 with value: 0.946875.\n[I 2024-02-22 15:08:04,891] Trial 62 finished with value: 0.946875 and parameters: {'kernel': 'linear', 'C': 14951.84276147635, 'gamma': 25988.012115857506, 'tol': 0.0004020716143528267, 'shrinking': True}. Best is trial 1 with value: 0.946875.\n[I 2024-02-22 15:08:05,002] Trial 63 finished with value: 0.946875 and parameters: {'kernel': 'linear', 'C': 27142.580030485155, 'gamma': 91964.41525145262, 'tol': 0.00026009288194571764, 'shrinking': True}. Best is trial 1 with value: 0.946875.\n[I 2024-02-22 15:08:05,100] Trial 64 finished with value: 0.946875 and parameters: {'kernel': 'linear', 'C': 202.79433233455177, 'gamma': 1761.5708744765182, 'tol': 0.002405421358420977, 'shrinking': True}. Best is trial 1 with value: 0.946875.\n[I 2024-02-22 15:08:05,202] Trial 65 finished with value: 0.946875 and parameters: {'kernel': 'linear', 'C': 3200.206090961016, 'gamma': 47305.47456139406, 'tol': 0.001029140681140221, 'shrinking': True}. Best is trial 1 with value: 0.946875.\n[I 2024-02-22 15:08:05,309] Trial 66 finished with value: 0.859375 and parameters: {'kernel': 'poly', 'C': 55015.92750584262, 'gamma': 0.0954957508830761, 'tol': 0.0038456927725267305, 'shrinking': True}. Best is trial 1 with value: 0.946875.\n[I 2024-02-22 15:08:05,401] Trial 67 finished with value: 0.946875 and parameters: {'kernel': 'linear', 'C': 0.00013160438593234753, 'gamma': 9072.409489930986, 'tol': 0.0014513786644021252, 'shrinking': False}. Best is trial 1 with value: 0.946875.\n[I 2024-02-22 15:08:05,502] Trial 68 finished with value: 0.946875 and parameters: {'kernel': 'linear', 'C': 0.0026503114283143634, 'gamma': 3.9328129459211723, 'tol': 0.0006565687666251311, 'shrinking': True}. Best is trial 1 with value: 0.946875.\n[I 2024-02-22 15:08:05,597] Trial 69 finished with value: 0.946875 and parameters: {'kernel': 'linear', 'C': 2.611530535817862e-05, 'gamma': 0.04269197943205343, 'tol': 0.000881131829670168, 'shrinking': False}. Best is trial 1 with value: 0.946875.\n[I 2024-02-22 15:08:05,717] Trial 70 finished with value: 0.0 and parameters: {'kernel': 'rbf', 'C': 3.874163253757453, 'gamma': 3752.307968455918, 'tol': 0.0012496401049462663, 'shrinking': True}. Best is trial 1 with value: 0.946875.\n[I 2024-02-22 15:08:05,805] Trial 71 finished with value: 0.946875 and parameters: {'kernel': 'linear', 'C': 19138.380907820807, 'gamma': 298.1081302141504, 'tol': 0.008134120351684218, 'shrinking': True}. Best is trial 1 with value: 0.946875.\n[I 2024-02-22 15:08:05,892] Trial 72 finished with value: 0.946875 and parameters: {'kernel': 'linear', 'C': 13302.771267331613, 'gamma': 0.3655368982152142, 'tol': 0.009167935235394477, 'shrinking': True}. Best is trial 1 with value: 0.946875.\n[I 2024-02-22 15:08:05,984] Trial 73 finished with value: 0.946875 and parameters: {'kernel': 'linear', 'C': 71434.52179868794, 'gamma': 1.197275807292296, 'tol': 0.004208068110791491, 'shrinking': True}. Best is trial 1 with value: 0.946875.\n[I 2024-02-22 15:08:06,078] Trial 74 finished with value: 0.946875 and parameters: {'kernel': 'linear', 'C': 35527.17422450443, 'gamma': 13.81474402295863, 'tol': 0.002987255620372146, 'shrinking': True}. Best is trial 1 with value: 0.946875.\n[I 2024-02-22 15:08:06,168] Trial 75 finished with value: 0.946875 and parameters: {'kernel': 'linear', 'C': 0.3074818595639029, 'gamma': 896.8735259054099, 'tol': 0.0060363321132909506, 'shrinking': False}. Best is trial 1 with value: 0.946875.\n[I 2024-02-22 15:08:06,259] Trial 76 finished with value: 0.946875 and parameters: {'kernel': 'linear', 'C': 1491.4309378199289, 'gamma': 93242.0787414001, 'tol': 0.008560797277563047, 'shrinking': True}. Best is trial 1 with value: 0.946875.\n[I 2024-02-22 15:08:06,347] Trial 77 finished with value: 0.946875 and parameters: {'kernel': 'linear', 'C': 9794.268661208038, 'gamma': 70.23541595663043, 'tol': 0.005729149641973296, 'shrinking': False}. Best is trial 1 with value: 0.946875.\n[I 2024-02-22 15:08:06,455] Trial 78 finished with value: 0.859375 and parameters: {'kernel': 'poly', 'C': 3802.86729024493, 'gamma': 0.017337059995010822, 'tol': 0.001874649073476774, 'shrinking': True}. Best is trial 1 with value: 0.946875.\n[I 2024-02-22 15:08:06,547] Trial 79 finished with value: 0.946875 and parameters: {'kernel': 'linear', 'C': 0.024592973352592428, 'gamma': 0.11103648565764469, 'tol': 0.004687043398042513, 'shrinking': False}. Best is trial 1 with value: 0.946875.\n[I 2024-02-22 15:08:06,642] Trial 80 finished with value: 0.946875 and parameters: {'kernel': 'linear', 'C': 0.0928777007089724, 'gamma': 2562.0877348860076, 'tol': 0.006405367799983107, 'shrinking': True}. Best is trial 1 with value: 0.946875.\n[I 2024-02-22 15:08:06,740] Trial 81 finished with value: 0.946875 and parameters: {'kernel': 'linear', 'C': 813.5545450037298, 'gamma': 0.3896005214594926, 'tol': 0.0024648680826681387, 'shrinking': True}. Best is trial 1 with value: 0.946875.\n[I 2024-02-22 15:08:06,836] Trial 82 finished with value: 0.946875 and parameters: {'kernel': 'linear', 'C': 124.41246809429425, 'gamma': 11441.450924719926, 'tol': 0.0020320378280404092, 'shrinking': True}. Best is trial 1 with value: 0.946875.\n[I 2024-02-22 15:08:06,932] Trial 83 finished with value: 0.946875 and parameters: {'kernel': 'linear', 'C': 791.1373957295505, 'gamma': 90.80189775945556, 'tol': 0.0015720061470088345, 'shrinking': True}. Best is trial 1 with value: 0.946875.\n[I 2024-02-22 15:08:07,030] Trial 84 finished with value: 0.946875 and parameters: {'kernel': 'linear', 'C': 0.8976194210051252, 'gamma': 0.8682847671514837, 'tol': 0.0024088598605684236, 'shrinking': True}. Best is trial 1 with value: 0.946875.\n[I 2024-02-22 15:08:07,122] Trial 85 finished with value: 0.946875 and parameters: {'kernel': 'linear', 'C': 97137.6398712818, 'gamma': 882.3866810394763, 'tol': 0.005316845554455283, 'shrinking': False}. Best is trial 1 with value: 0.946875.\n[I 2024-02-22 15:08:07,217] Trial 86 finished with value: 0.0 and parameters: {'kernel': 'rbf', 'C': 0.0012957047528340542, 'gamma': 3.7158587920257498, 'tol': 0.0035085831917876192, 'shrinking': False}. Best is trial 1 with value: 0.946875.\n[I 2024-02-22 15:08:07,321] Trial 87 finished with value: 0.946875 and parameters: {'kernel': 'linear', 'C': 5757.484929465552, 'gamma': 25.18747508433483, 'tol': 0.0005087919510581618, 'shrinking': True}. Best is trial 1 with value: 0.946875.\n[I 2024-02-22 15:08:07,412] Trial 88 finished with value: 0.946875 and parameters: {'kernel': 'linear', 'C': 33.95039849438967, 'gamma': 23050.836255402657, 'tol': 0.0029610692131284955, 'shrinking': False}. Best is trial 1 with value: 0.946875.\n[I 2024-02-22 15:08:07,519] Trial 89 finished with value: 0.946875 and parameters: {'kernel': 'linear', 'C': 3.253809217011444, 'gamma': 10.246307416119706, 'tol': 0.00021203910032014932, 'shrinking': True}. Best is trial 1 with value: 0.946875.\n[I 2024-02-22 15:08:07,615] Trial 90 finished with value: 0.946875 and parameters: {'kernel': 'linear', 'C': 2207.5603726416703, 'gamma': 43822.697897871425, 'tol': 0.00031414963058825864, 'shrinking': False}. Best is trial 1 with value: 0.946875.\n[I 2024-02-22 15:08:07,709] Trial 91 finished with value: 0.946875 and parameters: {'kernel': 'linear', 'C': 0.23805907179212846, 'gamma': 8.641908198843411e-05, 'tol': 0.0015932462105952296, 'shrinking': False}. Best is trial 1 with value: 0.946875.\n[I 2024-02-22 15:08:07,803] Trial 92 finished with value: 0.946875 and parameters: {'kernel': 'linear', 'C': 0.005397617186293396, 'gamma': 0.0003624753472711702, 'tol': 0.001177259163784832, 'shrinking': False}. Best is trial 1 with value: 0.946875.\n[I 2024-02-22 15:08:07,900] Trial 93 finished with value: 0.946875 and parameters: {'kernel': 'linear', 'C': 0.0008080901472549802, 'gamma': 2.0891272822740165e-05, 'tol': 0.0008897323839650406, 'shrinking': False}. Best is trial 1 with value: 0.946875.\n[I 2024-02-22 15:08:07,996] Trial 94 finished with value: 0.946875 and parameters: {'kernel': 'linear', 'C': 0.05303438704651819, 'gamma': 418.08897882339517, 'tol': 0.002016049929119962, 'shrinking': False}. Best is trial 1 with value: 0.946875.\n[I 2024-02-22 15:08:08,097] Trial 95 finished with value: 0.859375 and parameters: {'kernel': 'poly', 'C': 0.6088367726448335, 'gamma': 1.849478952871009, 'tol': 0.0022327156669407783, 'shrinking': False}. Best is trial 1 with value: 0.946875.\n[I 2024-02-22 15:08:08,199] Trial 96 finished with value: 0.946875 and parameters: {'kernel': 'linear', 'C': 0.01018641199646637, 'gamma': 0.0003029926037167469, 'tol': 0.0017892211327000193, 'shrinking': True}. Best is trial 1 with value: 0.946875.\n[I 2024-02-22 15:08:08,293] Trial 97 finished with value: 0.946875 and parameters: {'kernel': 'linear', 'C': 25539.733938064106, 'gamma': 0.001569257487392664, 'tol': 0.0015768932617725316, 'shrinking': False}. Best is trial 1 with value: 0.946875.\n[I 2024-02-22 15:08:08,399] Trial 98 finished with value: 0.946875 and parameters: {'kernel': 'linear', 'C': 0.00029812140338077354, 'gamma': 0.1565263680927492, 'tol': 0.0010495383255395326, 'shrinking': True}. Best is trial 1 with value: 0.946875.\n[I 2024-02-22 15:08:08,523] Trial 99 finished with value: 0.946875 and parameters: {'kernel': 'linear', 'C': 1.55287402658847, 'gamma': 0.5429726883663778, 'tol': 0.00015243107713704194, 'shrinking': False}. Best is trial 1 with value: 0.946875.\n",
          "output_type": "stream"
        },
        {
          "name": "stdout",
          "text": "Best params found : {'kernel': 'linear', 'C': 1.6748743405695075, 'gamma': 0.3064378096832369, 'tol': 0.0020904283770206036, 'shrinking': False}\naccuracy: 1.0\nrecall: 1.0\nprecision: 1.0\nf1-score: 1.0\nroc_auc:  1.0\n",
          "output_type": "stream"
        }
      ]
    },
    {
      "cell_type": "markdown",
      "source": [
        "# Decision Tree"
      ],
      "metadata": {
        "id": "Cdip-Q7AgZ41"
      }
    },
    {
      "cell_type": "markdown",
      "source": [
        "**Normal**"
      ],
      "metadata": {
        "id": "RLE52Oc6gZ41"
      }
    },
    {
      "cell_type": "code",
      "source": [
        "from sklearn.tree import DecisionTreeClassifier\n",
        "\n",
        "dt = DecisionTreeClassifier(random_state=42)\n",
        "dt.fit(X_train_reduced, y_train)\n",
        "y_pred = dt.predict(X_test_reduced)\n",
        "\n",
        "accuracy = accuracy_score(y_test, y_pred)\n",
        "precision = precision_score(y_test, y_pred, average='macro')\n",
        "recall = recall_score(y_test, y_pred, average='macro')\n",
        "f1 = f1_score(y_test, y_pred, average='macro')\n",
        "\n",
        "# One-hot encoding for probability calculation (adapt if necessary)\n",
        "# Assuming 'label_' prefix for clarity\n",
        "y_test_onehot = pd.get_dummies(y_test, prefix='label_')\n",
        "y_pred_onehot = pd.get_dummies(y_pred, prefix='label_')\n",
        "\n",
        "# ROC AUC score with multiclass handling\n",
        "roc_auc_macro = roc_auc_score(y_test_onehot, y_pred_onehot,\n",
        "                              average='macro', multi_class='ovo')  # Specify 'ovo' or 'ovr'\n",
        "\n",
        "print(\"accuracy:\", accuracy)\n",
        "print(\"recall:\", recall)\n",
        "print(\"precision:\", precision)\n",
        "print(\"f1-score:\", f1)\n",
        "print('roc_auc: ', roc_auc_macro)"
      ],
      "metadata": {
        "execution": {
          "iopub.status.busy": "2024-02-22T15:08:08.576147Z",
          "iopub.execute_input": "2024-02-22T15:08:08.576529Z",
          "iopub.status.idle": "2024-02-22T15:08:08.684858Z",
          "shell.execute_reply.started": "2024-02-22T15:08:08.576477Z",
          "shell.execute_reply": "2024-02-22T15:08:08.683830Z"
        },
        "trusted": true,
        "id": "1KuHi9NugZ41",
        "outputId": "48825d0a-00f1-4769-f819-6715a0eb09aa"
      },
      "execution_count": null,
      "outputs": [
        {
          "name": "stdout",
          "text": "accuracy: 0.6\nrecall: 0.55\nprecision: 0.5641666666666667\nf1-score: 0.5229761904761905\nroc_auc:  0.5452392744810545\naccuracy: 1.0\nrecall: 1.0\nprecision: 1.0\nf1-score: 1.0\nroc_auc:  1.0\n",
          "output_type": "stream"
        }
      ]
    },
    {
      "cell_type": "markdown",
      "source": [
        "**Tunning**"
      ],
      "metadata": {
        "id": "7zaWopULgZ41"
      }
    },
    {
      "cell_type": "code",
      "source": [
        "import optuna\n",
        "from sklearn.model_selection import cross_val_score\n",
        "import warnings\n",
        "warnings.filterwarnings('ignore')\n",
        "\n",
        "\n",
        "def objective(trial):\n",
        "    hyperparams = {\n",
        "        \"max_depth\" : trial.suggest_int(\"max_depth\", 2, 10),\n",
        "        \"min_samples_split\" : trial.suggest_int(\"min_samples_split\", 2, 20),\n",
        "        \"min_samples_leaf\" : trial.suggest_int(\"min_samples_leaf\", 1, 10),\n",
        "        \"criterion\" : trial.suggest_categorical(\"criterion\", [\"gini\", \"entropy\"]),\n",
        "        'random_state': trial.suggest_categorical('random_state', [42])\n",
        "\n",
        "\n",
        "    }\n",
        "\n",
        "    # Create KNN model with tuned hyperparameters\n",
        "    model = DecisionTreeClassifier(**hyperparams)\n",
        "    scores = cross_val_score(model, X_train_reduced,\n",
        "                             y_train, cv=kf, scoring='accuracy')\n",
        "    return np.mean(scores)"
      ],
      "metadata": {
        "execution": {
          "iopub.status.busy": "2024-02-22T15:08:08.686122Z",
          "iopub.execute_input": "2024-02-22T15:08:08.686440Z",
          "iopub.status.idle": "2024-02-22T15:08:08.693785Z",
          "shell.execute_reply.started": "2024-02-22T15:08:08.686414Z",
          "shell.execute_reply": "2024-02-22T15:08:08.692798Z"
        },
        "trusted": true,
        "id": "evivtdaEgZ41"
      },
      "execution_count": null,
      "outputs": []
    },
    {
      "cell_type": "code",
      "source": [
        "study = optuna.create_study(direction='maximize')\n",
        "study.optimize(objective, n_trials=100)\n",
        "best_params = study.best_params\n",
        "print(\"Best params found :\", best_params)\n",
        "\n",
        "final_model = DecisionTreeClassifier(**best_params)\n",
        "final_model.fit(X_train_reduced, y_train)\n",
        "y_pred = final_model.predict(X_test_reduced)\n",
        "prediction_results['decison tree'] = list(y_pred)\n",
        "\n",
        "accuracy = accuracy_score(y_test, y_pred)\n",
        "precision = precision_score(y_test, y_pred, average='macro')\n",
        "recall = recall_score(y_test, y_pred, average='macro')\n",
        "f1 = f1_score(y_test, y_pred, average='macro')\n",
        "\n",
        "# One-hot encoding for probability calculation (adapt if necessary)\n",
        "# Assuming 'label_' prefix for clarity\n",
        "y_test_onehot = pd.get_dummies(y_test, prefix='label_')\n",
        "y_pred_onehot = pd.get_dummies(y_pred, prefix='label_')\n",
        "\n",
        "# ROC AUC score with multiclass handling\n",
        "roc_auc_macro = roc_auc_score(y_test_onehot, y_pred_onehot,\n",
        "                              average='macro', multi_class='ovo')  # Specify 'ovo' or 'ovr'\n",
        "\n",
        "print(\"accuracy:\", accuracy)\n",
        "print(\"recall:\", recall)\n",
        "print(\"precision:\", precision)\n",
        "print(\"f1-score:\", f1)\n",
        "print('roc_auc: ', roc_auc_macro)"
      ],
      "metadata": {
        "execution": {
          "iopub.status.busy": "2024-02-22T15:08:08.695011Z",
          "iopub.execute_input": "2024-02-22T15:08:08.695346Z",
          "iopub.status.idle": "2024-02-22T15:08:27.730688Z",
          "shell.execute_reply.started": "2024-02-22T15:08:08.695313Z",
          "shell.execute_reply": "2024-02-22T15:08:27.729559Z"
        },
        "trusted": true,
        "id": "QCw0ZbhzgZ41",
        "outputId": "fe1c1bfa-f0ba-43a9-8bd0-2cb25d28dfc5"
      },
      "execution_count": null,
      "outputs": [
        {
          "name": "stderr",
          "text": "[I 2024-02-22 15:08:08,706] A new study created in memory with name: no-name-a5c473e0-7451-467b-948c-73249a6c6c1c\n[I 2024-02-22 15:08:08,776] Trial 0 finished with value: 0.209375 and parameters: {'max_depth': 6, 'min_samples_split': 16, 'min_samples_leaf': 1, 'criterion': 'gini', 'random_state': 42}. Best is trial 0 with value: 0.209375.\n[I 2024-02-22 15:08:08,925] Trial 1 finished with value: 0.34375 and parameters: {'max_depth': 7, 'min_samples_split': 11, 'min_samples_leaf': 8, 'criterion': 'entropy', 'random_state': 42}. Best is trial 1 with value: 0.34375.\n[I 2024-02-22 15:08:09,002] Trial 2 finished with value: 0.415625 and parameters: {'max_depth': 10, 'min_samples_split': 10, 'min_samples_leaf': 3, 'criterion': 'gini', 'random_state': 42}. Best is trial 2 with value: 0.415625.\n[I 2024-02-22 15:08:09,155] Trial 3 finished with value: 0.328125 and parameters: {'max_depth': 7, 'min_samples_split': 16, 'min_samples_leaf': 6, 'criterion': 'entropy', 'random_state': 42}. Best is trial 2 with value: 0.415625.\n[I 2024-02-22 15:08:09,314] Trial 4 finished with value: 0.4125 and parameters: {'max_depth': 6, 'min_samples_split': 9, 'min_samples_leaf': 6, 'criterion': 'entropy', 'random_state': 42}. Best is trial 2 with value: 0.415625.\n[I 2024-02-22 15:08:09,357] Trial 5 finished with value: 0.078125 and parameters: {'max_depth': 3, 'min_samples_split': 17, 'min_samples_leaf': 2, 'criterion': 'gini', 'random_state': 42}. Best is trial 2 with value: 0.415625.\n[I 2024-02-22 15:08:09,390] Trial 6 finished with value: 0.028125 and parameters: {'max_depth': 2, 'min_samples_split': 5, 'min_samples_leaf': 1, 'criterion': 'gini', 'random_state': 42}. Best is trial 2 with value: 0.415625.\n[I 2024-02-22 15:08:09,449] Trial 7 finished with value: 0.28125 and parameters: {'max_depth': 7, 'min_samples_split': 10, 'min_samples_leaf': 9, 'criterion': 'gini', 'random_state': 42}. Best is trial 2 with value: 0.415625.\n[I 2024-02-22 15:08:09,509] Trial 8 finished with value: 0.175 and parameters: {'max_depth': 5, 'min_samples_split': 16, 'min_samples_leaf': 2, 'criterion': 'gini', 'random_state': 42}. Best is trial 2 with value: 0.415625.\n[I 2024-02-22 15:08:09,569] Trial 9 finished with value: 0.30625 and parameters: {'max_depth': 10, 'min_samples_split': 2, 'min_samples_leaf': 9, 'criterion': 'gini', 'random_state': 42}. Best is trial 2 with value: 0.415625.\n[I 2024-02-22 15:08:09,750] Trial 10 finished with value: 0.24375 and parameters: {'max_depth': 10, 'min_samples_split': 20, 'min_samples_leaf': 4, 'criterion': 'entropy', 'random_state': 42}. Best is trial 2 with value: 0.415625.\n[I 2024-02-22 15:08:09,943] Trial 11 finished with value: 0.453125 and parameters: {'max_depth': 9, 'min_samples_split': 8, 'min_samples_leaf': 5, 'criterion': 'entropy', 'random_state': 42}. Best is trial 11 with value: 0.453125.\n[I 2024-02-22 15:08:10,139] Trial 12 finished with value: 0.45625 and parameters: {'max_depth': 9, 'min_samples_split': 6, 'min_samples_leaf': 4, 'criterion': 'entropy', 'random_state': 42}. Best is trial 12 with value: 0.45625.\n[I 2024-02-22 15:08:10,322] Trial 13 finished with value: 0.453125 and parameters: {'max_depth': 9, 'min_samples_split': 6, 'min_samples_leaf': 5, 'criterion': 'entropy', 'random_state': 42}. Best is trial 12 with value: 0.45625.\n[I 2024-02-22 15:08:10,500] Trial 14 finished with value: 0.375 and parameters: {'max_depth': 8, 'min_samples_split': 6, 'min_samples_leaf': 7, 'criterion': 'entropy', 'random_state': 42}. Best is trial 12 with value: 0.45625.\n[I 2024-02-22 15:08:10,698] Trial 15 finished with value: 0.45625 and parameters: {'max_depth': 9, 'min_samples_split': 2, 'min_samples_leaf': 4, 'criterion': 'entropy', 'random_state': 42}. Best is trial 12 with value: 0.45625.\n[I 2024-02-22 15:08:10,877] Trial 16 finished with value: 0.20625 and parameters: {'max_depth': 4, 'min_samples_split': 2, 'min_samples_leaf': 4, 'criterion': 'entropy', 'random_state': 42}. Best is trial 12 with value: 0.45625.\n[I 2024-02-22 15:08:11,075] Trial 17 finished with value: 0.45625 and parameters: {'max_depth': 8, 'min_samples_split': 4, 'min_samples_leaf': 4, 'criterion': 'entropy', 'random_state': 42}. Best is trial 12 with value: 0.45625.\n[I 2024-02-22 15:08:11,278] Trial 18 finished with value: 0.409375 and parameters: {'max_depth': 9, 'min_samples_split': 13, 'min_samples_leaf': 3, 'criterion': 'entropy', 'random_state': 42}. Best is trial 12 with value: 0.45625.\n[I 2024-02-22 15:08:11,466] Trial 19 finished with value: 0.375 and parameters: {'max_depth': 8, 'min_samples_split': 3, 'min_samples_leaf': 7, 'criterion': 'entropy', 'random_state': 42}. Best is trial 12 with value: 0.45625.\n[I 2024-02-22 15:08:11,638] Trial 20 finished with value: 0.25625 and parameters: {'max_depth': 9, 'min_samples_split': 7, 'min_samples_leaf': 10, 'criterion': 'entropy', 'random_state': 42}. Best is trial 12 with value: 0.45625.\n[I 2024-02-22 15:08:11,830] Trial 21 finished with value: 0.45625 and parameters: {'max_depth': 8, 'min_samples_split': 4, 'min_samples_leaf': 4, 'criterion': 'entropy', 'random_state': 42}. Best is trial 12 with value: 0.45625.\n[I 2024-02-22 15:08:12,030] Trial 22 finished with value: 0.496875 and parameters: {'max_depth': 8, 'min_samples_split': 4, 'min_samples_leaf': 3, 'criterion': 'entropy', 'random_state': 42}. Best is trial 22 with value: 0.496875.\n[I 2024-02-22 15:08:12,227] Trial 23 finished with value: 0.496875 and parameters: {'max_depth': 9, 'min_samples_split': 4, 'min_samples_leaf': 3, 'criterion': 'entropy', 'random_state': 42}. Best is trial 22 with value: 0.496875.\n[I 2024-02-22 15:08:12,435] Trial 24 finished with value: 0.5125 and parameters: {'max_depth': 10, 'min_samples_split': 5, 'min_samples_leaf': 2, 'criterion': 'entropy', 'random_state': 42}. Best is trial 24 with value: 0.5125.\n[I 2024-02-22 15:08:12,649] Trial 25 finished with value: 0.5125 and parameters: {'max_depth': 10, 'min_samples_split': 4, 'min_samples_leaf': 2, 'criterion': 'entropy', 'random_state': 42}. Best is trial 24 with value: 0.5125.\n[I 2024-02-22 15:08:12,863] Trial 26 finished with value: 0.471875 and parameters: {'max_depth': 10, 'min_samples_split': 8, 'min_samples_leaf': 2, 'criterion': 'entropy', 'random_state': 42}. Best is trial 24 with value: 0.5125.\n[I 2024-02-22 15:08:13,077] Trial 27 finished with value: 0.428125 and parameters: {'max_depth': 10, 'min_samples_split': 12, 'min_samples_leaf': 1, 'criterion': 'entropy', 'random_state': 42}. Best is trial 24 with value: 0.5125.\n[I 2024-02-22 15:08:13,305] Trial 28 finished with value: 0.478125 and parameters: {'max_depth': 6, 'min_samples_split': 5, 'min_samples_leaf': 2, 'criterion': 'entropy', 'random_state': 42}. Best is trial 24 with value: 0.5125.\n[I 2024-02-22 15:08:13,519] Trial 29 finished with value: 0.378125 and parameters: {'max_depth': 7, 'min_samples_split': 14, 'min_samples_leaf': 1, 'criterion': 'entropy', 'random_state': 42}. Best is trial 24 with value: 0.5125.\n[I 2024-02-22 15:08:13,731] Trial 30 finished with value: 0.49375 and parameters: {'max_depth': 8, 'min_samples_split': 7, 'min_samples_leaf': 3, 'criterion': 'entropy', 'random_state': 42}. Best is trial 24 with value: 0.5125.\n[I 2024-02-22 15:08:13,934] Trial 31 finished with value: 0.496875 and parameters: {'max_depth': 10, 'min_samples_split': 4, 'min_samples_leaf': 3, 'criterion': 'entropy', 'random_state': 42}. Best is trial 24 with value: 0.5125.\n[I 2024-02-22 15:08:14,149] Trial 32 finished with value: 0.5125 and parameters: {'max_depth': 9, 'min_samples_split': 3, 'min_samples_leaf': 2, 'criterion': 'entropy', 'random_state': 42}. Best is trial 24 with value: 0.5125.\n[I 2024-02-22 15:08:14,362] Trial 33 finished with value: 0.5125 and parameters: {'max_depth': 10, 'min_samples_split': 3, 'min_samples_leaf': 2, 'criterion': 'entropy', 'random_state': 42}. Best is trial 24 with value: 0.5125.\n[I 2024-02-22 15:08:14,577] Trial 34 finished with value: 0.54375 and parameters: {'max_depth': 10, 'min_samples_split': 3, 'min_samples_leaf': 1, 'criterion': 'entropy', 'random_state': 42}. Best is trial 34 with value: 0.54375.\n[I 2024-02-22 15:08:14,787] Trial 35 finished with value: 0.54375 and parameters: {'max_depth': 10, 'min_samples_split': 3, 'min_samples_leaf': 1, 'criterion': 'entropy', 'random_state': 42}. Best is trial 34 with value: 0.54375.\n[I 2024-02-22 15:08:14,890] Trial 36 finished with value: 0.4375 and parameters: {'max_depth': 10, 'min_samples_split': 5, 'min_samples_leaf': 1, 'criterion': 'gini', 'random_state': 42}. Best is trial 34 with value: 0.54375.\n[I 2024-02-22 15:08:15,109] Trial 37 finished with value: 0.5125 and parameters: {'max_depth': 10, 'min_samples_split': 2, 'min_samples_leaf': 1, 'criterion': 'entropy', 'random_state': 42}. Best is trial 34 with value: 0.54375.\n[I 2024-02-22 15:08:15,319] Trial 38 finished with value: 0.359375 and parameters: {'max_depth': 5, 'min_samples_split': 7, 'min_samples_leaf': 1, 'criterion': 'entropy', 'random_state': 42}. Best is trial 34 with value: 0.54375.\n[I 2024-02-22 15:08:15,379] Trial 39 finished with value: 0.028125 and parameters: {'max_depth': 2, 'min_samples_split': 10, 'min_samples_leaf': 2, 'criterion': 'gini', 'random_state': 42}. Best is trial 34 with value: 0.54375.\n[I 2024-02-22 15:08:15,491] Trial 40 finished with value: 0.4375 and parameters: {'max_depth': 10, 'min_samples_split': 5, 'min_samples_leaf': 1, 'criterion': 'gini', 'random_state': 42}. Best is trial 34 with value: 0.54375.\n[I 2024-02-22 15:08:15,702] Trial 41 finished with value: 0.5125 and parameters: {'max_depth': 9, 'min_samples_split': 3, 'min_samples_leaf': 2, 'criterion': 'entropy', 'random_state': 42}. Best is trial 34 with value: 0.54375.\n[I 2024-02-22 15:08:15,909] Trial 42 finished with value: 0.5125 and parameters: {'max_depth': 10, 'min_samples_split': 3, 'min_samples_leaf': 2, 'criterion': 'entropy', 'random_state': 42}. Best is trial 34 with value: 0.54375.\n[I 2024-02-22 15:08:16,128] Trial 43 finished with value: 0.54375 and parameters: {'max_depth': 9, 'min_samples_split': 3, 'min_samples_leaf': 1, 'criterion': 'entropy', 'random_state': 42}. Best is trial 34 with value: 0.54375.\n[I 2024-02-22 15:08:16,345] Trial 44 finished with value: 0.5125 and parameters: {'max_depth': 10, 'min_samples_split': 2, 'min_samples_leaf': 1, 'criterion': 'entropy', 'random_state': 42}. Best is trial 34 with value: 0.54375.\n[I 2024-02-22 15:08:16,562] Trial 45 finished with value: 0.515625 and parameters: {'max_depth': 10, 'min_samples_split': 6, 'min_samples_leaf': 1, 'criterion': 'entropy', 'random_state': 42}. Best is trial 34 with value: 0.54375.\n[I 2024-02-22 15:08:16,778] Trial 46 finished with value: 0.521875 and parameters: {'max_depth': 7, 'min_samples_split': 6, 'min_samples_leaf': 1, 'criterion': 'entropy', 'random_state': 42}. Best is trial 34 with value: 0.54375.\n[I 2024-02-22 15:08:16,875] Trial 47 finished with value: 0.30625 and parameters: {'max_depth': 7, 'min_samples_split': 9, 'min_samples_leaf': 1, 'criterion': 'gini', 'random_state': 42}. Best is trial 34 with value: 0.54375.\n[I 2024-02-22 15:08:17,083] Trial 48 finished with value: 0.359375 and parameters: {'max_depth': 5, 'min_samples_split': 6, 'min_samples_leaf': 1, 'criterion': 'entropy', 'random_state': 42}. Best is trial 34 with value: 0.54375.\n[I 2024-02-22 15:08:17,302] Trial 49 finished with value: 0.484375 and parameters: {'max_depth': 7, 'min_samples_split': 8, 'min_samples_leaf': 1, 'criterion': 'entropy', 'random_state': 42}. Best is trial 34 with value: 0.54375.\n[I 2024-02-22 15:08:17,476] Trial 50 finished with value: 0.075 and parameters: {'max_depth': 3, 'min_samples_split': 9, 'min_samples_leaf': 1, 'criterion': 'entropy', 'random_state': 42}. Best is trial 34 with value: 0.54375.\n[I 2024-02-22 15:08:17,699] Trial 51 finished with value: 0.53125 and parameters: {'max_depth': 9, 'min_samples_split': 5, 'min_samples_leaf': 1, 'criterion': 'entropy', 'random_state': 42}. Best is trial 34 with value: 0.54375.\n[I 2024-02-22 15:08:17,914] Trial 52 finished with value: 0.515625 and parameters: {'max_depth': 9, 'min_samples_split': 6, 'min_samples_leaf': 1, 'criterion': 'entropy', 'random_state': 42}. Best is trial 34 with value: 0.54375.\n[I 2024-02-22 15:08:18,136] Trial 53 finished with value: 0.53125 and parameters: {'max_depth': 9, 'min_samples_split': 5, 'min_samples_leaf': 1, 'criterion': 'entropy', 'random_state': 42}. Best is trial 34 with value: 0.54375.\n[I 2024-02-22 15:08:18,340] Trial 54 finished with value: 0.496875 and parameters: {'max_depth': 9, 'min_samples_split': 3, 'min_samples_leaf': 3, 'criterion': 'entropy', 'random_state': 42}. Best is trial 34 with value: 0.54375.\n[I 2024-02-22 15:08:18,573] Trial 55 finished with value: 0.5125 and parameters: {'max_depth': 8, 'min_samples_split': 5, 'min_samples_leaf': 2, 'criterion': 'entropy', 'random_state': 42}. Best is trial 34 with value: 0.54375.\n[I 2024-02-22 15:08:18,756] Trial 56 finished with value: 0.375 and parameters: {'max_depth': 9, 'min_samples_split': 2, 'min_samples_leaf': 7, 'criterion': 'entropy', 'random_state': 42}. Best is trial 34 with value: 0.54375.\n[I 2024-02-22 15:08:18,934] Trial 57 finished with value: 0.275 and parameters: {'max_depth': 8, 'min_samples_split': 19, 'min_samples_leaf': 8, 'criterion': 'entropy', 'random_state': 42}. Best is trial 34 with value: 0.54375.\n[I 2024-02-22 15:08:19,026] Trial 58 finished with value: 0.225 and parameters: {'max_depth': 6, 'min_samples_split': 4, 'min_samples_leaf': 5, 'criterion': 'gini', 'random_state': 42}. Best is trial 34 with value: 0.54375.\n[I 2024-02-22 15:08:19,249] Trial 59 finished with value: 0.54375 and parameters: {'max_depth': 9, 'min_samples_split': 3, 'min_samples_leaf': 1, 'criterion': 'entropy', 'random_state': 42}. Best is trial 34 with value: 0.54375.\n[I 2024-02-22 15:08:19,466] Trial 60 finished with value: 0.5125 and parameters: {'max_depth': 9, 'min_samples_split': 3, 'min_samples_leaf': 2, 'criterion': 'entropy', 'random_state': 42}. Best is trial 34 with value: 0.54375.\n[I 2024-02-22 15:08:19,686] Trial 61 finished with value: 0.54375 and parameters: {'max_depth': 9, 'min_samples_split': 4, 'min_samples_leaf': 1, 'criterion': 'entropy', 'random_state': 42}. Best is trial 34 with value: 0.54375.\n[I 2024-02-22 15:08:19,904] Trial 62 finished with value: 0.5125 and parameters: {'max_depth': 9, 'min_samples_split': 2, 'min_samples_leaf': 1, 'criterion': 'entropy', 'random_state': 42}. Best is trial 34 with value: 0.54375.\n[I 2024-02-22 15:08:20,125] Trial 63 finished with value: 0.54375 and parameters: {'max_depth': 9, 'min_samples_split': 4, 'min_samples_leaf': 1, 'criterion': 'entropy', 'random_state': 42}. Best is trial 34 with value: 0.54375.\n[I 2024-02-22 15:08:20,341] Trial 64 finished with value: 0.5125 and parameters: {'max_depth': 8, 'min_samples_split': 4, 'min_samples_leaf': 2, 'criterion': 'entropy', 'random_state': 42}. Best is trial 34 with value: 0.54375.\n[I 2024-02-22 15:08:20,558] Trial 65 finished with value: 0.5125 and parameters: {'max_depth': 9, 'min_samples_split': 3, 'min_samples_leaf': 2, 'criterion': 'entropy', 'random_state': 42}. Best is trial 34 with value: 0.54375.\n[I 2024-02-22 15:08:20,779] Trial 66 finished with value: 0.54375 and parameters: {'max_depth': 8, 'min_samples_split': 4, 'min_samples_leaf': 1, 'criterion': 'entropy', 'random_state': 42}. Best is trial 34 with value: 0.54375.\n[I 2024-02-22 15:08:20,996] Trial 67 finished with value: 0.5125 and parameters: {'max_depth': 8, 'min_samples_split': 2, 'min_samples_leaf': 1, 'criterion': 'entropy', 'random_state': 42}. Best is trial 34 with value: 0.54375.\n[I 2024-02-22 15:08:21,200] Trial 68 finished with value: 0.496875 and parameters: {'max_depth': 9, 'min_samples_split': 4, 'min_samples_leaf': 3, 'criterion': 'entropy', 'random_state': 42}. Best is trial 34 with value: 0.54375.\n[I 2024-02-22 15:08:21,388] Trial 69 finished with value: 0.41875 and parameters: {'max_depth': 10, 'min_samples_split': 2, 'min_samples_leaf': 6, 'criterion': 'entropy', 'random_state': 42}. Best is trial 34 with value: 0.54375.\n[I 2024-02-22 15:08:21,589] Trial 70 finished with value: 0.365625 and parameters: {'max_depth': 8, 'min_samples_split': 15, 'min_samples_leaf': 2, 'criterion': 'entropy', 'random_state': 42}. Best is trial 34 with value: 0.54375.\n[I 2024-02-22 15:08:21,804] Trial 71 finished with value: 0.54375 and parameters: {'max_depth': 9, 'min_samples_split': 4, 'min_samples_leaf': 1, 'criterion': 'entropy', 'random_state': 42}. Best is trial 34 with value: 0.54375.\n[I 2024-02-22 15:08:22,023] Trial 72 finished with value: 0.54375 and parameters: {'max_depth': 9, 'min_samples_split': 3, 'min_samples_leaf': 1, 'criterion': 'entropy', 'random_state': 42}. Best is trial 34 with value: 0.54375.\n[I 2024-02-22 15:08:22,237] Trial 73 finished with value: 0.54375 and parameters: {'max_depth': 10, 'min_samples_split': 4, 'min_samples_leaf': 1, 'criterion': 'entropy', 'random_state': 42}. Best is trial 34 with value: 0.54375.\n[I 2024-02-22 15:08:22,460] Trial 74 finished with value: 0.54375 and parameters: {'max_depth': 8, 'min_samples_split': 3, 'min_samples_leaf': 1, 'criterion': 'entropy', 'random_state': 42}. Best is trial 34 with value: 0.54375.\n[I 2024-02-22 15:08:22,668] Trial 75 finished with value: 0.49375 and parameters: {'max_depth': 9, 'min_samples_split': 7, 'min_samples_leaf': 2, 'criterion': 'entropy', 'random_state': 42}. Best is trial 34 with value: 0.54375.\n[I 2024-02-22 15:08:22,881] Trial 76 finished with value: 0.5125 and parameters: {'max_depth': 10, 'min_samples_split': 4, 'min_samples_leaf': 2, 'criterion': 'entropy', 'random_state': 42}. Best is trial 34 with value: 0.54375.\n[I 2024-02-22 15:08:22,991] Trial 77 finished with value: 0.415625 and parameters: {'max_depth': 9, 'min_samples_split': 5, 'min_samples_leaf': 1, 'criterion': 'gini', 'random_state': 42}. Best is trial 34 with value: 0.54375.\n[I 2024-02-22 15:08:23,160] Trial 78 finished with value: 0.25625 and parameters: {'max_depth': 10, 'min_samples_split': 11, 'min_samples_leaf': 10, 'criterion': 'entropy', 'random_state': 42}. Best is trial 34 with value: 0.54375.\n[I 2024-02-22 15:08:23,374] Trial 79 finished with value: 0.5125 and parameters: {'max_depth': 8, 'min_samples_split': 3, 'min_samples_leaf': 2, 'criterion': 'entropy', 'random_state': 42}. Best is trial 34 with value: 0.54375.\n[I 2024-02-22 15:08:23,596] Trial 80 finished with value: 0.54375 and parameters: {'max_depth': 9, 'min_samples_split': 4, 'min_samples_leaf': 1, 'criterion': 'entropy', 'random_state': 42}. Best is trial 34 with value: 0.54375.\n[I 2024-02-22 15:08:23,815] Trial 81 finished with value: 0.54375 and parameters: {'max_depth': 9, 'min_samples_split': 3, 'min_samples_leaf': 1, 'criterion': 'entropy', 'random_state': 42}. Best is trial 34 with value: 0.54375.\n[I 2024-02-22 15:08:24,041] Trial 82 finished with value: 0.5125 and parameters: {'max_depth': 10, 'min_samples_split': 2, 'min_samples_leaf': 1, 'criterion': 'entropy', 'random_state': 42}. Best is trial 34 with value: 0.54375.\n[I 2024-02-22 15:08:24,265] Trial 83 finished with value: 0.54375 and parameters: {'max_depth': 9, 'min_samples_split': 4, 'min_samples_leaf': 1, 'criterion': 'entropy', 'random_state': 42}. Best is trial 34 with value: 0.54375.\n[I 2024-02-22 15:08:24,485] Trial 84 finished with value: 0.54375 and parameters: {'max_depth': 8, 'min_samples_split': 3, 'min_samples_leaf': 1, 'criterion': 'entropy', 'random_state': 42}. Best is trial 34 with value: 0.54375.\n[I 2024-02-22 15:08:24,700] Trial 85 finished with value: 0.5125 and parameters: {'max_depth': 10, 'min_samples_split': 3, 'min_samples_leaf': 2, 'criterion': 'entropy', 'random_state': 42}. Best is trial 34 with value: 0.54375.\n[I 2024-02-22 15:08:24,916] Trial 86 finished with value: 0.53125 and parameters: {'max_depth': 9, 'min_samples_split': 5, 'min_samples_leaf': 1, 'criterion': 'entropy', 'random_state': 42}. Best is trial 34 with value: 0.54375.\n[I 2024-02-22 15:08:25,141] Trial 87 finished with value: 0.5125 and parameters: {'max_depth': 9, 'min_samples_split': 2, 'min_samples_leaf': 1, 'criterion': 'entropy', 'random_state': 42}. Best is trial 34 with value: 0.54375.\n[I 2024-02-22 15:08:25,359] Trial 88 finished with value: 0.5125 and parameters: {'max_depth': 10, 'min_samples_split': 5, 'min_samples_leaf': 2, 'criterion': 'entropy', 'random_state': 42}. Best is trial 34 with value: 0.54375.\n[I 2024-02-22 15:08:25,470] Trial 89 finished with value: 0.425 and parameters: {'max_depth': 9, 'min_samples_split': 2, 'min_samples_leaf': 1, 'criterion': 'gini', 'random_state': 42}. Best is trial 34 with value: 0.54375.\n[I 2024-02-22 15:08:25,690] Trial 90 finished with value: 0.509375 and parameters: {'max_depth': 7, 'min_samples_split': 4, 'min_samples_leaf': 2, 'criterion': 'entropy', 'random_state': 42}. Best is trial 34 with value: 0.54375.\n[I 2024-02-22 15:08:25,909] Trial 91 finished with value: 0.54375 and parameters: {'max_depth': 10, 'min_samples_split': 4, 'min_samples_leaf': 1, 'criterion': 'entropy', 'random_state': 42}. Best is trial 34 with value: 0.54375.\n[I 2024-02-22 15:08:26,133] Trial 92 finished with value: 0.54375 and parameters: {'max_depth': 10, 'min_samples_split': 3, 'min_samples_leaf': 1, 'criterion': 'entropy', 'random_state': 42}. Best is trial 34 with value: 0.54375.\n[I 2024-02-22 15:08:26,353] Trial 93 finished with value: 0.54375 and parameters: {'max_depth': 10, 'min_samples_split': 4, 'min_samples_leaf': 1, 'criterion': 'entropy', 'random_state': 42}. Best is trial 34 with value: 0.54375.\n[I 2024-02-22 15:08:26,576] Trial 94 finished with value: 0.53125 and parameters: {'max_depth': 10, 'min_samples_split': 5, 'min_samples_leaf': 1, 'criterion': 'entropy', 'random_state': 42}. Best is trial 34 with value: 0.54375.\n[I 2024-02-22 15:08:26,793] Trial 95 finished with value: 0.4875 and parameters: {'max_depth': 9, 'min_samples_split': 6, 'min_samples_leaf': 2, 'criterion': 'entropy', 'random_state': 42}. Best is trial 34 with value: 0.54375.\n[I 2024-02-22 15:08:27,016] Trial 96 finished with value: 0.54375 and parameters: {'max_depth': 9, 'min_samples_split': 3, 'min_samples_leaf': 1, 'criterion': 'entropy', 'random_state': 42}. Best is trial 34 with value: 0.54375.\n[I 2024-02-22 15:08:27,195] Trial 97 finished with value: 0.34375 and parameters: {'max_depth': 10, 'min_samples_split': 4, 'min_samples_leaf': 8, 'criterion': 'entropy', 'random_state': 42}. Best is trial 34 with value: 0.54375.\n[I 2024-02-22 15:08:27,418] Trial 98 finished with value: 0.5125 and parameters: {'max_depth': 9, 'min_samples_split': 2, 'min_samples_leaf': 1, 'criterion': 'entropy', 'random_state': 42}. Best is trial 34 with value: 0.54375.\n[I 2024-02-22 15:08:27,645] Trial 99 finished with value: 0.54375 and parameters: {'max_depth': 8, 'min_samples_split': 3, 'min_samples_leaf': 1, 'criterion': 'entropy', 'random_state': 42}. Best is trial 34 with value: 0.54375.\n",
          "output_type": "stream"
        },
        {
          "name": "stdout",
          "text": "Best params found : {'max_depth': 10, 'min_samples_split': 3, 'min_samples_leaf': 1, 'criterion': 'entropy', 'random_state': 42}\naccuracy: 0.6625\nrecall: 0.7476851851851852\nprecision: 0.7347222222222222\nf1-score: 0.6736772486772487\nroc_auc:  0.7203905318519386\n",
          "output_type": "stream"
        }
      ]
    },
    {
      "cell_type": "markdown",
      "source": [
        "Tuning rồi lưu kết quả tuning vào bên dưới"
      ],
      "metadata": {
        "id": "8EFNRGvBgZ41"
      }
    },
    {
      "cell_type": "code",
      "source": [
        "predictions['lr'] = list(y_pred)"
      ],
      "metadata": {
        "execution": {
          "iopub.status.busy": "2024-02-22T15:08:27.731790Z",
          "iopub.execute_input": "2024-02-22T15:08:27.732106Z",
          "iopub.status.idle": "2024-02-22T15:08:27.736539Z",
          "shell.execute_reply.started": "2024-02-22T15:08:27.732083Z",
          "shell.execute_reply": "2024-02-22T15:08:27.735782Z"
        },
        "trusted": true,
        "id": "fyQtCtNDgZ42"
      },
      "execution_count": null,
      "outputs": []
    },
    {
      "cell_type": "code",
      "source": [
        "import json\n",
        "with open(\"/kaggle/working/predict_pca_tuning.json\", \"w\") as json_file:\n",
        "    json.dump(prediction_results, json_file)"
      ],
      "metadata": {
        "execution": {
          "iopub.status.busy": "2024-02-22T15:24:04.469343Z",
          "iopub.execute_input": "2024-02-22T15:24:04.469784Z",
          "iopub.status.idle": "2024-02-22T15:24:04.475763Z",
          "shell.execute_reply.started": "2024-02-22T15:24:04.469752Z",
          "shell.execute_reply": "2024-02-22T15:24:04.474698Z"
        },
        "trusted": true,
        "id": "j4e-rTdZgZ42"
      },
      "execution_count": null,
      "outputs": []
    },
    {
      "cell_type": "code",
      "source": [
        "prediction_results"
      ],
      "metadata": {
        "execution": {
          "iopub.status.busy": "2024-02-22T15:23:04.926221Z",
          "iopub.execute_input": "2024-02-22T15:23:04.926619Z",
          "iopub.status.idle": "2024-02-22T15:23:04.944724Z",
          "shell.execute_reply.started": "2024-02-22T15:23:04.926592Z",
          "shell.execute_reply": "2024-02-22T15:23:04.943697Z"
        },
        "trusted": true,
        "id": "vGrnJi1QgZ42",
        "outputId": "c1d54508-ac2e-4a69-89aa-bd79ab683afa"
      },
      "execution_count": null,
      "outputs": [
        {
          "execution_count": 37,
          "output_type": "execute_result",
          "data": {
            "text/plain": "{'random forest': ['s21',\n  's29',\n  's4',\n  's22',\n  's10',\n  's9',\n  's33',\n  's10',\n  's27',\n  's13',\n  's1',\n  's37',\n  's6',\n  's8',\n  's14',\n  's5',\n  's28',\n  's38',\n  's24',\n  's39',\n  's8',\n  's2',\n  's40',\n  's28',\n  's1',\n  's40',\n  's12',\n  's23',\n  's27',\n  's11',\n  's40',\n  's20',\n  's27',\n  's6',\n  's24',\n  's12',\n  's12',\n  's35',\n  's16',\n  's15',\n  's39',\n  's6',\n  's8',\n  's3',\n  's9',\n  's39',\n  's15',\n  's19',\n  's3',\n  's18',\n  's5',\n  's33',\n  's34',\n  's8',\n  's38',\n  's4',\n  's23',\n  's18',\n  's4',\n  's16',\n  's13',\n  's30',\n  's37',\n  's8',\n  's11',\n  's4',\n  's36',\n  's27',\n  's40',\n  's8',\n  's33',\n  's15',\n  's1',\n  's5',\n  's39',\n  's25',\n  's23',\n  's37',\n  's18',\n  's29'],\n 'gnb': ['s21',\n  's29',\n  's4',\n  's22',\n  's10',\n  's9',\n  's33',\n  's10',\n  's27',\n  's13',\n  's1',\n  's37',\n  's6',\n  's8',\n  's14',\n  's5',\n  's19',\n  's38',\n  's24',\n  's39',\n  's8',\n  's2',\n  's40',\n  's28',\n  's1',\n  's40',\n  's12',\n  's23',\n  's27',\n  's11',\n  's40',\n  's20',\n  's27',\n  's6',\n  's24',\n  's12',\n  's12',\n  's35',\n  's16',\n  's15',\n  's39',\n  's6',\n  's8',\n  's3',\n  's9',\n  's39',\n  's15',\n  's19',\n  's3',\n  's18',\n  's5',\n  's33',\n  's34',\n  's8',\n  's38',\n  's4',\n  's23',\n  's18',\n  's4',\n  's16',\n  's1',\n  's30',\n  's28',\n  's8',\n  's11',\n  's4',\n  's36',\n  's27',\n  's40',\n  's8',\n  's33',\n  's15',\n  's1',\n  's5',\n  's39',\n  's25',\n  's23',\n  's37',\n  's18',\n  's29'],\n 'logistic regression': ['s21',\n  's29',\n  's4',\n  's22',\n  's10',\n  's9',\n  's33',\n  's10',\n  's27',\n  's13',\n  's1',\n  's37',\n  's6',\n  's8',\n  's14',\n  's5',\n  's28',\n  's38',\n  's24',\n  's39',\n  's8',\n  's2',\n  's40',\n  's28',\n  's1',\n  's40',\n  's12',\n  's23',\n  's27',\n  's11',\n  's40',\n  's20',\n  's27',\n  's6',\n  's24',\n  's12',\n  's12',\n  's35',\n  's16',\n  's15',\n  's39',\n  's6',\n  's8',\n  's3',\n  's9',\n  's39',\n  's15',\n  's19',\n  's3',\n  's18',\n  's5',\n  's33',\n  's34',\n  's8',\n  's38',\n  's4',\n  's23',\n  's18',\n  's4',\n  's16',\n  's13',\n  's30',\n  's26',\n  's8',\n  's11',\n  's4',\n  's36',\n  's27',\n  's40',\n  's8',\n  's33',\n  's15',\n  's1',\n  's5',\n  's39',\n  's25',\n  's23',\n  's37',\n  's18',\n  's29'],\n 'KNN': ['s21',\n  's29',\n  's4',\n  's22',\n  's10',\n  's9',\n  's33',\n  's10',\n  's27',\n  's13',\n  's1',\n  's37',\n  's6',\n  's8',\n  's14',\n  's5',\n  's28',\n  's38',\n  's24',\n  's39',\n  's8',\n  's2',\n  's40',\n  's28',\n  's1',\n  's40',\n  's12',\n  's23',\n  's27',\n  's11',\n  's5',\n  's20',\n  's27',\n  's6',\n  's24',\n  's12',\n  's12',\n  's35',\n  's16',\n  's15',\n  's39',\n  's6',\n  's8',\n  's3',\n  's9',\n  's39',\n  's15',\n  's19',\n  's3',\n  's18',\n  's5',\n  's33',\n  's34',\n  's8',\n  's38',\n  's4',\n  's23',\n  's18',\n  's4',\n  's16',\n  's13',\n  's30',\n  's26',\n  's8',\n  's11',\n  's4',\n  's36',\n  's27',\n  's40',\n  's8',\n  's33',\n  's15',\n  's1',\n  's5',\n  's39',\n  's25',\n  's23',\n  's37',\n  's18',\n  's29'],\n 'svc': ['s21',\n  's29',\n  's4',\n  's22',\n  's10',\n  's9',\n  's33',\n  's10',\n  's27',\n  's13',\n  's1',\n  's37',\n  's6',\n  's8',\n  's14',\n  's5',\n  's28',\n  's38',\n  's24',\n  's39',\n  's8',\n  's2',\n  's40',\n  's28',\n  's1',\n  's40',\n  's12',\n  's23',\n  's27',\n  's11',\n  's40',\n  's20',\n  's27',\n  's6',\n  's24',\n  's12',\n  's12',\n  's35',\n  's16',\n  's15',\n  's39',\n  's6',\n  's8',\n  's3',\n  's9',\n  's39',\n  's15',\n  's19',\n  's3',\n  's18',\n  's5',\n  's33',\n  's34',\n  's8',\n  's38',\n  's4',\n  's23',\n  's18',\n  's4',\n  's16',\n  's13',\n  's30',\n  's26',\n  's8',\n  's11',\n  's4',\n  's36',\n  's27',\n  's40',\n  's8',\n  's33',\n  's15',\n  's1',\n  's5',\n  's39',\n  's25',\n  's23',\n  's37',\n  's18',\n  's29'],\n 'decison tree': ['s21',\n  's29',\n  's37',\n  's22',\n  's10',\n  's23',\n  's33',\n  's10',\n  's16',\n  's13',\n  's1',\n  's37',\n  's9',\n  's36',\n  's14',\n  's5',\n  's19',\n  's38',\n  's24',\n  's39',\n  's36',\n  's2',\n  's40',\n  's14',\n  's27',\n  's35',\n  's1',\n  's23',\n  's27',\n  's21',\n  's25',\n  's20',\n  's27',\n  's6',\n  's24',\n  's12',\n  's27',\n  's37',\n  's16',\n  's15',\n  's39',\n  's6',\n  's16',\n  's3',\n  's9',\n  's39',\n  's24',\n  's19',\n  's3',\n  's18',\n  's34',\n  's29',\n  's34',\n  's36',\n  's38',\n  's4',\n  's23',\n  's18',\n  's37',\n  's16',\n  's18',\n  's30',\n  's26',\n  's36',\n  's11',\n  's23',\n  's36',\n  's27',\n  's35',\n  's8',\n  's29',\n  's15',\n  's1',\n  's5',\n  's39',\n  's25',\n  's38',\n  's37',\n  's18',\n  's29']}"
          },
          "metadata": {}
        }
      ]
    }
  ]
}