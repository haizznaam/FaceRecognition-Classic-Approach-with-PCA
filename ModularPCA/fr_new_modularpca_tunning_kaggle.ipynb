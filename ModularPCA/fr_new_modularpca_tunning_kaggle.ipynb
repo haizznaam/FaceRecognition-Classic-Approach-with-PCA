{
  "metadata": {
    "colab": {
      "provenance": []
    },
    "kaggle": {
      "accelerator": "none",
      "dataSources": [
        {
          "sourceId": 7405983,
          "sourceType": "datasetVersion",
          "datasetId": 4306985
        },
        {
          "sourceId": 7470763,
          "sourceType": "datasetVersion",
          "datasetId": 4349100
        }
      ],
      "dockerImageVersionId": 30646,
      "isInternetEnabled": true,
      "language": "python",
      "sourceType": "notebook",
      "isGpuEnabled": false
    },
    "kernelspec": {
      "display_name": "Python 3",
      "language": "python",
      "name": "python3"
    },
    "language_info": {
      "name": "python",
      "version": "3.10.13",
      "mimetype": "text/x-python",
      "codemirror_mode": {
        "name": "ipython",
        "version": 3
      },
      "pygments_lexer": "ipython3",
      "nbconvert_exporter": "python",
      "file_extension": ".py"
    }
  },
  "nbformat_minor": 0,
  "nbformat": 4,
  "cells": [
    {
      "cell_type": "code",
      "source": [
        "import os\n",
        "import cv2\n",
        "import numpy as np\n",
        "import pandas as pd\n",
        "from numpy.random import shuffle\n",
        "from sklearn.decomposition import PCA\n",
        "from sklearn.model_selection import train_test_split\n",
        "from sklearn.model_selection import KFold\n",
        "from sklearn.metrics import accuracy_score, precision_score, recall_score, f1_score, roc_auc_score\n",
        "from sklearn.linear_model import LogisticRegression\n",
        "from sklearn.model_selection import train_test_split, cross_val_score"
      ],
      "metadata": {
        "_cell_guid": "b1076dfc-b9ad-4769-8c92-a6c4dae69d19",
        "_uuid": "8f2839f25d086af736a60e9eeb907d3b93b6e0e5",
        "id": "_t4qoYbfDINj",
        "execution": {
          "iopub.status.busy": "2024-02-22T15:43:22.778367Z",
          "iopub.execute_input": "2024-02-22T15:43:22.778839Z",
          "iopub.status.idle": "2024-02-22T15:43:22.786370Z",
          "shell.execute_reply.started": "2024-02-22T15:43:22.778803Z",
          "shell.execute_reply": "2024-02-22T15:43:22.785243Z"
        },
        "trusted": true
      },
      "execution_count": null,
      "outputs": []
    },
    {
      "cell_type": "code",
      "source": [
        "def get_data(path_data='/kaggle/input/att-images/ATT images', test_size=0.2, is_shuffle=True):\n",
        "    folders = [f's{i+1}' for i in range(40)]\n",
        "    X, y = [], []\n",
        "\n",
        "    for i in range(1, 41):\n",
        "        path = path_data + f'/s{i}'\n",
        "        files = os.listdir(path)\n",
        "        num_files = len(files)\n",
        "\n",
        "        if is_shuffle:\n",
        "            files = shuffle(files)\n",
        "\n",
        "        for file in os.listdir(path):\n",
        "            path = path_data + f'/s{i}/' + file\n",
        "            image = cv2.imread(path, cv2.IMREAD_GRAYSCALE)\n",
        "            pixels = np.reshape(image, [1, image.shape[0] * image.shape[1]])\n",
        "            pixels = np.asarray(pixels)\n",
        "\n",
        "            if len(X) == 0:\n",
        "                X = pixels\n",
        "            else:\n",
        "                X = np.vstack([X, pixels])\n",
        "            y.append(f's{i}')\n",
        "\n",
        "    return X, np.asarray(y)"
      ],
      "metadata": {
        "id": "SQebtD7KDINm",
        "execution": {
          "iopub.status.busy": "2024-02-22T15:43:22.789776Z",
          "iopub.execute_input": "2024-02-22T15:43:22.791294Z",
          "iopub.status.idle": "2024-02-22T15:43:22.806737Z",
          "shell.execute_reply.started": "2024-02-22T15:43:22.791243Z",
          "shell.execute_reply": "2024-02-22T15:43:22.804837Z"
        },
        "trusted": true
      },
      "execution_count": null,
      "outputs": []
    },
    {
      "cell_type": "code",
      "source": [
        "def get_length(n):\n",
        "    start = int(np.sqrt(n))\n",
        "    while start > 1:\n",
        "        if n % start == 0:\n",
        "            break\n",
        "        else:\n",
        "            start -= 1\n",
        "    return start, n // start"
      ],
      "metadata": {
        "id": "SDLUPzlMDINn",
        "execution": {
          "iopub.status.busy": "2024-02-22T15:43:22.808484Z",
          "iopub.execute_input": "2024-02-22T15:43:22.808877Z",
          "iopub.status.idle": "2024-02-22T15:43:22.825257Z",
          "shell.execute_reply.started": "2024-02-22T15:43:22.808844Z",
          "shell.execute_reply": "2024-02-22T15:43:22.824020Z"
        },
        "trusted": true
      },
      "execution_count": null,
      "outputs": []
    },
    {
      "cell_type": "code",
      "source": [
        "def cut_image(X, num_image=4, shape=(112,92)):\n",
        "    height, width = shape\n",
        "    num_width, num_height = get_length(num_image)\n",
        "    part_width = width // num_width\n",
        "    part_height = height // num_height\n",
        "\n",
        "    X_cut = []\n",
        "\n",
        "    for i in range(X.shape[0]):\n",
        "        image = X[i].reshape(shape)\n",
        "        for k in range(num_width):\n",
        "            for j in range(num_height):\n",
        "                left = j * part_width\n",
        "                upper = k * part_height\n",
        "                right = left + part_width\n",
        "                lower = upper + part_height\n",
        "\n",
        "                # Crop the image to get the part\n",
        "                part = image[upper:lower, left:right]\n",
        "\n",
        "                pixels = np.reshape(part, [1, part_width * part_height])\n",
        "                pixels = np.asarray(pixels)\n",
        "\n",
        "                if k == 0 and j == 0:\n",
        "                    X_i = pixels\n",
        "                else:\n",
        "                    X_i = np.hstack([X_i, pixels])\n",
        "\n",
        "        if len(X_cut) == 0:\n",
        "            X_cut = X_i\n",
        "        else:\n",
        "            X_cut = np.vstack([X_cut, X_i])\n",
        "\n",
        "    return X_cut"
      ],
      "metadata": {
        "id": "fBJXF_RMDINn",
        "execution": {
          "iopub.status.busy": "2024-02-22T15:43:22.826720Z",
          "iopub.execute_input": "2024-02-22T15:43:22.827107Z",
          "iopub.status.idle": "2024-02-22T15:43:22.840341Z",
          "shell.execute_reply.started": "2024-02-22T15:43:22.827077Z",
          "shell.execute_reply": "2024-02-22T15:43:22.838933Z"
        },
        "trusted": true
      },
      "execution_count": null,
      "outputs": []
    },
    {
      "cell_type": "code",
      "source": [
        "X, y = get_data()\n",
        "\n",
        "n_components_pca = 50\n",
        "n_splits = 5\n",
        "kf = KFold(n_splits=n_splits, shuffle=True, random_state=42)"
      ],
      "metadata": {
        "id": "4X06tC3kDINo",
        "execution": {
          "iopub.status.busy": "2024-02-22T15:43:22.843217Z",
          "iopub.execute_input": "2024-02-22T15:43:22.844317Z",
          "iopub.status.idle": "2024-02-22T15:43:26.331326Z",
          "shell.execute_reply.started": "2024-02-22T15:43:22.844264Z",
          "shell.execute_reply": "2024-02-22T15:43:26.329880Z"
        },
        "trusted": true
      },
      "execution_count": null,
      "outputs": []
    },
    {
      "cell_type": "code",
      "source": [
        "class ModularPCA:\n",
        "    def __init__(self, n_components, num_image=4, shape_image=(112,92)):\n",
        "        self.n_components = n_components\n",
        "        self.shape = shape_image\n",
        "        self.num_image = num_image\n",
        "\n",
        "    def fit(self, X):\n",
        "        self.X = cut_image(X, self.num_image, self.shape)\n",
        "        self.pca = PCA(n_components=self.n_components, random_state=42)\n",
        "        self.pca.fit(self.X)\n",
        "\n",
        "    def transform(self, X):\n",
        "        X_cut = cut_image(X, self.num_image, self.shape)\n",
        "        return self.pca.transform(X_cut)\n",
        "\n",
        "    def fit_transform(self, X):\n",
        "        self.fit(X)\n",
        "        return self.pca.fit_transform(self.X)"
      ],
      "metadata": {
        "id": "75i3mZfsDINo",
        "execution": {
          "iopub.status.busy": "2024-02-22T15:43:26.332907Z",
          "iopub.execute_input": "2024-02-22T15:43:26.333265Z",
          "iopub.status.idle": "2024-02-22T15:43:26.344622Z",
          "shell.execute_reply.started": "2024-02-22T15:43:26.333237Z",
          "shell.execute_reply": "2024-02-22T15:43:26.342607Z"
        },
        "trusted": true
      },
      "execution_count": null,
      "outputs": []
    },
    {
      "cell_type": "code",
      "source": [
        "# accuracy_scores, precision_scores, recall_scores, f1_scores = [], [], [], []\n",
        "\n",
        "# for train_index, test_index in kf.split(X, y):\n",
        "#     X_train, X_test = X[train_index], X[test_index]\n",
        "#     y_train, y_test = y[train_index], y[test_index]\n",
        "\n",
        "#     mpca = ModularPCA(n_components=n_components_pca)\n",
        "#     X_train_reduced = mpca.fit_transform(X_train)\n",
        "#     X_test_reduced = mpca.transform(X_test)\n",
        "\n",
        "#     # Euclidean\n",
        "#     y_pred = []\n",
        "#     for i in range(80):\n",
        "#         min_ = np.argmin(np.sqrt(np.sum((X_train_reduced - X_test_reduced[i])**2,axis=1)))\n",
        "#         y_pred.append(y_train[min_])\n",
        "\n",
        "#     # Evaluate the model\n",
        "#     accuracy = accuracy_score(y_test, y_pred)\n",
        "#     accuracy_scores.append(accuracy)\n",
        "\n",
        "# print(np.mean(accuracy_scores))"
      ],
      "metadata": {
        "id": "oiZaIxf6DINp",
        "execution": {
          "iopub.status.busy": "2024-02-22T15:43:26.346757Z",
          "iopub.execute_input": "2024-02-22T15:43:26.347394Z",
          "iopub.status.idle": "2024-02-22T15:43:26.356198Z",
          "shell.execute_reply.started": "2024-02-22T15:43:26.347338Z",
          "shell.execute_reply": "2024-02-22T15:43:26.355119Z"
        },
        "trusted": true
      },
      "execution_count": null,
      "outputs": []
    },
    {
      "cell_type": "code",
      "source": [
        "# accuracy_scores, precision_scores, recall_scores, f1_scores = [], [], [], []\n",
        "\n",
        "# for train_index, test_index in kf.split(X, y):\n",
        "#     X_train, X_test = X[train_index], X[test_index]\n",
        "#     y_train, y_test = y[train_index], y[test_index]\n",
        "\n",
        "#     mpca = ModularPCA(n_components=n_components_pca)\n",
        "#     X_train_reduced = mpca.fit_transform(X_train)\n",
        "#     X_test_reduced = mpca.transform(X_test)\n",
        "\n",
        "#     # Logistic\n",
        "#     lr = LogisticRegression(multi_class='ovr', solver='liblinear')\n",
        "#     lr.fit(X_train_reduced, y_train)\n",
        "#     y_pred = lr.predict(X_test_reduced)\n",
        "\n",
        "#     # Evaluate the model\n",
        "#     accuracy = accuracy_score(y_test, y_pred)\n",
        "#     accuracy_scores.append(accuracy)\n",
        "\n",
        "# print(np.mean(accuracy_scores))"
      ],
      "metadata": {
        "id": "Ex0MhxLpDINp",
        "execution": {
          "iopub.status.busy": "2024-02-22T15:43:26.359323Z",
          "iopub.execute_input": "2024-02-22T15:43:26.360050Z",
          "iopub.status.idle": "2024-02-22T15:43:26.369102Z",
          "shell.execute_reply.started": "2024-02-22T15:43:26.360013Z",
          "shell.execute_reply": "2024-02-22T15:43:26.367558Z"
        },
        "trusted": true
      },
      "execution_count": null,
      "outputs": []
    },
    {
      "cell_type": "code",
      "source": [
        "X, y = get_data()\n",
        "X_train, X_test, y_train, y_test = train_test_split(X, y, test_size=0.2, random_state=42)"
      ],
      "metadata": {
        "id": "raTRESCYZocE",
        "execution": {
          "iopub.status.busy": "2024-02-22T15:43:26.370538Z",
          "iopub.execute_input": "2024-02-22T15:43:26.371246Z",
          "iopub.status.idle": "2024-02-22T15:43:27.335095Z",
          "shell.execute_reply.started": "2024-02-22T15:43:26.371209Z",
          "shell.execute_reply": "2024-02-22T15:43:27.333703Z"
        },
        "trusted": true
      },
      "execution_count": null,
      "outputs": []
    },
    {
      "cell_type": "markdown",
      "source": [
        "# num_image = 4"
      ],
      "metadata": {
        "id": "o-Mq8dZTnxdy"
      }
    },
    {
      "cell_type": "code",
      "source": [
        "n_components_pca = 50\n",
        "pca = ModularPCA(n_components=n_components_pca, num_image=4)\n",
        "X_train_reduced = pca.fit_transform(X_train)\n",
        "X_test_reduced = pca.transform(X_test)"
      ],
      "metadata": {
        "id": "BYfLrStuZocF",
        "execution": {
          "iopub.status.busy": "2024-02-22T15:43:27.337026Z",
          "iopub.execute_input": "2024-02-22T15:43:27.337451Z",
          "iopub.status.idle": "2024-02-22T15:43:29.276890Z",
          "shell.execute_reply.started": "2024-02-22T15:43:27.337419Z",
          "shell.execute_reply": "2024-02-22T15:43:29.274812Z"
        },
        "trusted": true
      },
      "execution_count": null,
      "outputs": []
    },
    {
      "cell_type": "markdown",
      "source": [
        "## Modeling"
      ],
      "metadata": {
        "id": "Iu7yIjDNZocF"
      }
    },
    {
      "cell_type": "code",
      "source": [
        "from sklearn.model_selection import KFold\n",
        "n_splits = 5\n",
        "kf = KFold(n_splits=n_splits, shuffle=True, random_state=42)"
      ],
      "metadata": {
        "id": "98FrY_DqZocH",
        "execution": {
          "iopub.status.busy": "2024-02-22T15:43:29.279201Z",
          "iopub.execute_input": "2024-02-22T15:43:29.281974Z",
          "iopub.status.idle": "2024-02-22T15:43:29.292816Z",
          "shell.execute_reply.started": "2024-02-22T15:43:29.281907Z",
          "shell.execute_reply": "2024-02-22T15:43:29.290787Z"
        },
        "trusted": true
      },
      "execution_count": null,
      "outputs": []
    },
    {
      "cell_type": "code",
      "source": [
        "lr = LogisticRegression()\n",
        "lr.fit(X_train_reduced, y_train)\n",
        "y_pred = lr.predict(X_test_reduced)\n",
        "\n",
        "accuracy = accuracy_score(y_test, y_pred)\n",
        "precision = precision_score(y_test, y_pred, average='macro')\n",
        "recall = recall_score(y_test, y_pred, average='macro')\n",
        "f1 = f1_score(y_test, y_pred, average='macro')\n",
        "\n",
        "# One-hot encoding for probability calculation (adapt if necessary)\n",
        "y_test_onehot = pd.get_dummies(y_test, prefix='label_')  # Assuming 'label_' prefix for clarity\n",
        "y_pred_onehot = pd.get_dummies(y_pred, prefix='label_')\n",
        "\n",
        "# ROC AUC score with multiclass handling\n",
        "roc_auc_macro = roc_auc_score(y_test_onehot, y_pred_onehot, average='macro', multi_class='ovo')  # Specify 'ovo' or 'ovr'\n",
        "\n",
        "print(\"accuracy:\", accuracy)\n",
        "print(\"recall:\", recall)\n",
        "print(\"precision:\", precision)\n",
        "print(\"f1-score:\", f1)\n",
        "print('roc_auc: ', roc_auc_macro)"
      ],
      "metadata": {
        "id": "flCk0CVhZocH",
        "outputId": "af827c00-5aa5-4719-9324-9a102137fc12",
        "execution": {
          "iopub.status.busy": "2024-02-22T15:43:29.295155Z",
          "iopub.execute_input": "2024-02-22T15:43:29.297362Z",
          "iopub.status.idle": "2024-02-22T15:43:29.729982Z",
          "shell.execute_reply.started": "2024-02-22T15:43:29.297264Z",
          "shell.execute_reply": "2024-02-22T15:43:29.728497Z"
        },
        "trusted": true
      },
      "execution_count": null,
      "outputs": [
        {
          "name": "stdout",
          "text": "accuracy: 1.0\nrecall: 1.0\nprecision: 1.0\nf1-score: 1.0\nroc_auc:  1.0\n",
          "output_type": "stream"
        },
        {
          "name": "stderr",
          "text": "/opt/conda/lib/python3.10/site-packages/sklearn/linear_model/_logistic.py:458: ConvergenceWarning: lbfgs failed to converge (status=1):\nSTOP: TOTAL NO. of ITERATIONS REACHED LIMIT.\n\nIncrease the number of iterations (max_iter) or scale the data as shown in:\n    https://scikit-learn.org/stable/modules/preprocessing.html\nPlease also refer to the documentation for alternative solver options:\n    https://scikit-learn.org/stable/modules/linear_model.html#logistic-regression\n  n_iter_i = _check_optimize_result(\n",
          "output_type": "stream"
        }
      ]
    },
    {
      "cell_type": "markdown",
      "source": [
        "## Random Forest"
      ],
      "metadata": {
        "id": "Tp7LvPdcZocI"
      }
    },
    {
      "cell_type": "code",
      "source": [
        "prediction_results = {}"
      ],
      "metadata": {
        "id": "z70ML5cGZocI",
        "execution": {
          "iopub.status.busy": "2024-02-22T15:43:29.732331Z",
          "iopub.execute_input": "2024-02-22T15:43:29.733511Z",
          "iopub.status.idle": "2024-02-22T15:43:29.741095Z",
          "shell.execute_reply.started": "2024-02-22T15:43:29.733452Z",
          "shell.execute_reply": "2024-02-22T15:43:29.739372Z"
        },
        "trusted": true
      },
      "execution_count": null,
      "outputs": []
    },
    {
      "cell_type": "code",
      "source": [
        "from sklearn.ensemble import RandomForestClassifier\n",
        "from sklearn.metrics import accuracy_score"
      ],
      "metadata": {
        "id": "w5pmOW2ZZocJ",
        "execution": {
          "iopub.status.busy": "2024-02-22T15:43:29.743004Z",
          "iopub.execute_input": "2024-02-22T15:43:29.743646Z",
          "iopub.status.idle": "2024-02-22T15:43:29.950423Z",
          "shell.execute_reply.started": "2024-02-22T15:43:29.743571Z",
          "shell.execute_reply": "2024-02-22T15:43:29.948259Z"
        },
        "trusted": true
      },
      "execution_count": null,
      "outputs": []
    },
    {
      "cell_type": "markdown",
      "source": [
        "**Normal**"
      ],
      "metadata": {
        "id": "n3culyLtZocJ"
      }
    },
    {
      "cell_type": "code",
      "source": [
        "rfr = RandomForestClassifier(random_state=42)\n",
        "rfr.fit(X_train_reduced,y_train)\n",
        "y_pred = rfr.predict(X_test_reduced)\n",
        "\n",
        "accuracy = accuracy_score(y_test, y_pred)\n",
        "precision = precision_score(y_test, y_pred, average='macro')\n",
        "recall = recall_score(y_test, y_pred, average='macro')\n",
        "f1 = f1_score(y_test, y_pred, average='macro')\n",
        "\n",
        "# One-hot encoding for probability calculation (adapt if necessary)\n",
        "y_test_onehot = pd.get_dummies(y_test, prefix='label_')  # Assuming 'label_' prefix for clarity\n",
        "y_pred_onehot = pd.get_dummies(y_pred, prefix='label_')\n",
        "\n",
        "# ROC AUC score with multiclass handling\n",
        "roc_auc_macro = roc_auc_score(y_test_onehot, y_pred_onehot, average='macro', multi_class='ovo')  # Specify 'ovo' or 'ovr'\n",
        "\n",
        "print(\"accuracy:\", accuracy)\n",
        "print(\"recall:\", recall)\n",
        "print(\"precision:\", precision)\n",
        "print(\"f1-score:\", f1)\n",
        "print('roc_auc: ', roc_auc_macro)"
      ],
      "metadata": {
        "id": "cdI-thcdZocJ",
        "outputId": "e1f8598f-d679-4c4d-d635-60fc0230e360",
        "execution": {
          "iopub.status.busy": "2024-02-22T15:43:29.952427Z",
          "iopub.execute_input": "2024-02-22T15:43:29.952940Z",
          "iopub.status.idle": "2024-02-22T15:43:30.592275Z",
          "shell.execute_reply.started": "2024-02-22T15:43:29.952896Z",
          "shell.execute_reply": "2024-02-22T15:43:30.591242Z"
        },
        "trusted": true
      },
      "execution_count": null,
      "outputs": [
        {
          "name": "stdout",
          "text": "accuracy: 0.9875\nrecall: 0.9722222222222222\nprecision: 0.9629629629629629\nf1-score: 0.9666666666666666\nroc_auc:  0.7339875119474435\n",
          "output_type": "stream"
        },
        {
          "name": "stderr",
          "text": "/opt/conda/lib/python3.10/site-packages/sklearn/metrics/_classification.py:1344: UndefinedMetricWarning: Precision is ill-defined and being set to 0.0 in labels with no predicted samples. Use `zero_division` parameter to control this behavior.\n  _warn_prf(average, modifier, msg_start, len(result))\n",
          "output_type": "stream"
        }
      ]
    },
    {
      "cell_type": "markdown",
      "source": [
        "**Tunning**"
      ],
      "metadata": {
        "id": "IhH_HIi2ZocJ"
      }
    },
    {
      "cell_type": "code",
      "source": [
        "import optuna\n",
        "\n",
        "\n",
        "def objective(trial):\n",
        "    hyperparams = {\n",
        "        'n_estimators': trial.suggest_int('n_estimators', 100, 1000),\n",
        "        'max_depth': trial.suggest_int('max_depth', 10, 50),\n",
        "        'min_samples_split': trial.suggest_int('min_samples_split', 2, 32),\n",
        "        'random_state': trial.suggest_categorical('random_state', [42]),\n",
        "        'min_samples_leaf': trial.suggest_int('min_samples_leaf', 1, 32),\n",
        "        'n_jobs': -1\n",
        "    }\n",
        "\n",
        "    model = RandomForestClassifier(**hyperparams)\n",
        "    scores = cross_val_score(model, X_train_reduced,\n",
        "                             y_train, cv=kf, scoring='accuracy')\n",
        "    return np.mean(scores)"
      ],
      "metadata": {
        "id": "gtTc9UhBZocJ",
        "execution": {
          "iopub.status.busy": "2024-02-22T15:43:30.597421Z",
          "iopub.execute_input": "2024-02-22T15:43:30.598344Z",
          "iopub.status.idle": "2024-02-22T15:43:32.417938Z",
          "shell.execute_reply.started": "2024-02-22T15:43:30.598291Z",
          "shell.execute_reply": "2024-02-22T15:43:32.416396Z"
        },
        "trusted": true
      },
      "execution_count": null,
      "outputs": []
    },
    {
      "cell_type": "code",
      "source": [
        "study = optuna.create_study(direction = 'maximize')\n",
        "study.optimize(objective, n_trials = 100)\n",
        "best_params = study.best_params\n",
        "print(\"Best params found :\", best_params)\n",
        "\n",
        "final_model = RandomForestClassifier(**best_params)\n",
        "final_model.fit(X_train_reduced, y_train)\n",
        "y_pred = final_model.predict(X_test_reduced)\n",
        "accuracy_score(y_test, y_pred)"
      ],
      "metadata": {
        "id": "7x-i7EwaZocK",
        "outputId": "326d8b72-2363-473c-956c-6340457e819f",
        "execution": {
          "iopub.status.busy": "2024-02-22T15:43:32.419828Z",
          "iopub.execute_input": "2024-02-22T15:43:32.420200Z",
          "iopub.status.idle": "2024-02-22T16:09:32.567280Z",
          "shell.execute_reply.started": "2024-02-22T15:43:32.420170Z",
          "shell.execute_reply": "2024-02-22T16:09:32.565684Z"
        },
        "trusted": true
      },
      "execution_count": null,
      "outputs": [
        {
          "name": "stderr",
          "text": "[I 2024-02-22 15:43:32,423] A new study created in memory with name: no-name-d34cedd6-b3f0-4e38-8f33-39ef8688b6e5\n[I 2024-02-22 15:43:45,152] Trial 0 finished with value: 0.78125 and parameters: {'n_estimators': 513, 'max_depth': 11, 'min_samples_split': 14, 'random_state': 42, 'min_samples_leaf': 4}. Best is trial 0 with value: 0.78125.\n[I 2024-02-22 15:44:03,051] Trial 1 finished with value: 0.803125 and parameters: {'n_estimators': 714, 'max_depth': 47, 'min_samples_split': 10, 'random_state': 42, 'min_samples_leaf': 1}. Best is trial 1 with value: 0.803125.\n[I 2024-02-22 15:44:14,776] Trial 2 finished with value: 0.721875 and parameters: {'n_estimators': 505, 'max_depth': 35, 'min_samples_split': 16, 'random_state': 42, 'min_samples_leaf': 11}. Best is trial 1 with value: 0.803125.\n[I 2024-02-22 15:44:33,230] Trial 3 finished with value: 0.7 and parameters: {'n_estimators': 809, 'max_depth': 13, 'min_samples_split': 29, 'random_state': 42, 'min_samples_leaf': 7}. Best is trial 1 with value: 0.803125.\n[I 2024-02-22 15:44:42,594] Trial 4 finished with value: 0.59375 and parameters: {'n_estimators': 403, 'max_depth': 36, 'min_samples_split': 7, 'random_state': 42, 'min_samples_leaf': 23}. Best is trial 1 with value: 0.803125.\n[I 2024-02-22 15:44:54,092] Trial 5 finished with value: 0.559375 and parameters: {'n_estimators': 502, 'max_depth': 32, 'min_samples_split': 11, 'random_state': 42, 'min_samples_leaf': 25}. Best is trial 1 with value: 0.803125.\n[I 2024-02-22 15:45:13,248] Trial 6 finished with value: 0.521875 and parameters: {'n_estimators': 862, 'max_depth': 25, 'min_samples_split': 27, 'random_state': 42, 'min_samples_leaf': 30}. Best is trial 1 with value: 0.803125.\n[I 2024-02-22 15:45:22,281] Trial 7 finished with value: 0.515625 and parameters: {'n_estimators': 409, 'max_depth': 43, 'min_samples_split': 13, 'random_state': 42, 'min_samples_leaf': 30}. Best is trial 1 with value: 0.803125.\n[I 2024-02-22 15:45:25,256] Trial 8 finished with value: 0.7625 and parameters: {'n_estimators': 105, 'max_depth': 33, 'min_samples_split': 14, 'random_state': 42, 'min_samples_leaf': 2}. Best is trial 1 with value: 0.803125.\n[I 2024-02-22 15:45:37,496] Trial 9 finished with value: 0.709375 and parameters: {'n_estimators': 534, 'max_depth': 48, 'min_samples_split': 10, 'random_state': 42, 'min_samples_leaf': 13}. Best is trial 1 with value: 0.803125.\n[I 2024-02-22 15:45:58,934] Trial 10 finished with value: 0.653125 and parameters: {'n_estimators': 980, 'max_depth': 22, 'min_samples_split': 3, 'random_state': 42, 'min_samples_leaf': 19}. Best is trial 1 with value: 0.803125.\n[I 2024-02-22 15:46:16,023] Trial 11 finished with value: 0.6875 and parameters: {'n_estimators': 704, 'max_depth': 10, 'min_samples_split': 22, 'random_state': 42, 'min_samples_leaf': 1}. Best is trial 1 with value: 0.803125.\n[I 2024-02-22 15:46:32,119] Trial 12 finished with value: 0.7375 and parameters: {'n_estimators': 681, 'max_depth': 19, 'min_samples_split': 20, 'random_state': 42, 'min_samples_leaf': 6}. Best is trial 1 with value: 0.803125.\n[I 2024-02-22 15:46:38,468] Trial 13 finished with value: 0.7875 and parameters: {'n_estimators': 268, 'max_depth': 42, 'min_samples_split': 5, 'random_state': 42, 'min_samples_leaf': 6}. Best is trial 1 with value: 0.803125.\n[I 2024-02-22 15:46:44,855] Trial 14 finished with value: 0.740625 and parameters: {'n_estimators': 263, 'max_depth': 50, 'min_samples_split': 3, 'random_state': 42, 'min_samples_leaf': 10}. Best is trial 1 with value: 0.803125.\n[I 2024-02-22 15:46:47,341] Trial 15 finished with value: 0.6625 and parameters: {'n_estimators': 106, 'max_depth': 42, 'min_samples_split': 5, 'random_state': 42, 'min_samples_leaf': 16}. Best is trial 1 with value: 0.803125.\n[I 2024-02-22 15:46:53,798] Trial 16 finished with value: 0.7875 and parameters: {'n_estimators': 264, 'max_depth': 42, 'min_samples_split': 8, 'random_state': 42, 'min_samples_leaf': 6}. Best is trial 1 with value: 0.803125.\n[I 2024-02-22 15:47:10,398] Trial 17 finished with value: 0.728125 and parameters: {'n_estimators': 670, 'max_depth': 45, 'min_samples_split': 19, 'random_state': 42, 'min_samples_leaf': 1}. Best is trial 1 with value: 0.803125.\n[I 2024-02-22 15:47:16,374] Trial 18 finished with value: 0.75625 and parameters: {'n_estimators': 247, 'max_depth': 38, 'min_samples_split': 2, 'random_state': 42, 'min_samples_leaf': 8}. Best is trial 1 with value: 0.803125.\n[I 2024-02-22 15:47:33,514] Trial 19 finished with value: 0.696875 and parameters: {'n_estimators': 775, 'max_depth': 28, 'min_samples_split': 8, 'random_state': 42, 'min_samples_leaf': 16}. Best is trial 1 with value: 0.803125.\n[I 2024-02-22 15:47:56,156] Trial 20 finished with value: 0.721875 and parameters: {'n_estimators': 970, 'max_depth': 39, 'min_samples_split': 24, 'random_state': 42, 'min_samples_leaf': 11}. Best is trial 1 with value: 0.803125.\n[I 2024-02-22 15:48:02,783] Trial 21 finished with value: 0.8375 and parameters: {'n_estimators': 266, 'max_depth': 47, 'min_samples_split': 8, 'random_state': 42, 'min_samples_leaf': 4}. Best is trial 21 with value: 0.8375.\n[I 2024-02-22 15:48:11,961] Trial 22 finished with value: 0.8375 and parameters: {'n_estimators': 365, 'max_depth': 48, 'min_samples_split': 6, 'random_state': 42, 'min_samples_leaf': 4}. Best is trial 21 with value: 0.8375.\n[I 2024-02-22 15:48:21,628] Trial 23 finished with value: 0.83125 and parameters: {'n_estimators': 386, 'max_depth': 47, 'min_samples_split': 9, 'random_state': 42, 'min_samples_leaf': 4}. Best is trial 21 with value: 0.8375.\n[I 2024-02-22 15:48:30,583] Trial 24 finished with value: 0.8375 and parameters: {'n_estimators': 368, 'max_depth': 50, 'min_samples_split': 5, 'random_state': 42, 'min_samples_leaf': 4}. Best is trial 21 with value: 0.8375.\n[I 2024-02-22 15:48:38,759] Trial 25 finished with value: 0.8375 and parameters: {'n_estimators': 353, 'max_depth': 50, 'min_samples_split': 6, 'random_state': 42, 'min_samples_leaf': 4}. Best is trial 21 with value: 0.8375.\n[I 2024-02-22 15:48:43,101] Trial 26 finished with value: 0.6625 and parameters: {'n_estimators': 189, 'max_depth': 45, 'min_samples_split': 5, 'random_state': 42, 'min_samples_leaf': 14}. Best is trial 21 with value: 0.8375.\n[I 2024-02-22 15:48:50,479] Trial 27 finished with value: 0.759375 and parameters: {'n_estimators': 318, 'max_depth': 50, 'min_samples_split': 11, 'random_state': 42, 'min_samples_leaf': 8}. Best is trial 21 with value: 0.8375.\n[I 2024-02-22 15:48:59,923] Trial 28 finished with value: 0.6625 and parameters: {'n_estimators': 447, 'max_depth': 40, 'min_samples_split': 2, 'random_state': 42, 'min_samples_leaf': 19}. Best is trial 21 with value: 0.8375.\n[I 2024-02-22 15:49:03,909] Trial 29 finished with value: 0.784375 and parameters: {'n_estimators': 167, 'max_depth': 45, 'min_samples_split': 13, 'random_state': 42, 'min_samples_leaf': 3}. Best is trial 21 with value: 0.8375.\n[I 2024-02-22 15:49:17,167] Trial 30 finished with value: 0.66875 and parameters: {'n_estimators': 593, 'max_depth': 47, 'min_samples_split': 32, 'random_state': 42, 'min_samples_leaf': 9}. Best is trial 21 with value: 0.8375.\n[I 2024-02-22 15:49:25,843] Trial 31 finished with value: 0.84375 and parameters: {'n_estimators': 344, 'max_depth': 50, 'min_samples_split': 6, 'random_state': 42, 'min_samples_leaf': 4}. Best is trial 31 with value: 0.84375.\n[I 2024-02-22 15:49:33,113] Trial 32 finished with value: 0.8375 and parameters: {'n_estimators': 313, 'max_depth': 48, 'min_samples_split': 6, 'random_state': 42, 'min_samples_leaf': 4}. Best is trial 31 with value: 0.84375.\n[I 2024-02-22 15:49:43,738] Trial 33 finished with value: 0.79375 and parameters: {'n_estimators': 449, 'max_depth': 45, 'min_samples_split': 4, 'random_state': 42, 'min_samples_leaf': 5}. Best is trial 31 with value: 0.84375.\n[I 2024-02-22 15:49:48,809] Trial 34 finished with value: 0.809375 and parameters: {'n_estimators': 201, 'max_depth': 50, 'min_samples_split': 8, 'random_state': 42, 'min_samples_leaf': 2}. Best is trial 31 with value: 0.84375.\n[I 2024-02-22 15:50:02,115] Trial 35 finished with value: 0.71875 and parameters: {'n_estimators': 597, 'max_depth': 47, 'min_samples_split': 16, 'random_state': 42, 'min_samples_leaf': 12}. Best is trial 31 with value: 0.84375.\n[I 2024-02-22 15:50:09,971] Trial 36 finished with value: 0.7625 and parameters: {'n_estimators': 343, 'max_depth': 37, 'min_samples_split': 10, 'random_state': 42, 'min_samples_leaf': 8}. Best is trial 31 with value: 0.84375.\n[I 2024-02-22 15:50:21,437] Trial 37 finished with value: 0.85625 and parameters: {'n_estimators': 464, 'max_depth': 17, 'min_samples_split': 7, 'random_state': 42, 'min_samples_leaf': 3}. Best is trial 37 with value: 0.85625.\n[I 2024-02-22 15:50:31,722] Trial 38 finished with value: 0.54375 and parameters: {'n_estimators': 467, 'max_depth': 20, 'min_samples_split': 12, 'random_state': 42, 'min_samples_leaf': 27}. Best is trial 37 with value: 0.85625.\n[I 2024-02-22 15:50:46,245] Trial 39 finished with value: 0.84375 and parameters: {'n_estimators': 580, 'max_depth': 13, 'min_samples_split': 7, 'random_state': 42, 'min_samples_leaf': 2}. Best is trial 37 with value: 0.85625.\n[I 2024-02-22 15:51:00,782] Trial 40 finished with value: 0.75625 and parameters: {'n_estimators': 589, 'max_depth': 13, 'min_samples_split': 16, 'random_state': 42, 'min_samples_leaf': 2}. Best is trial 37 with value: 0.85625.\n[I 2024-02-22 15:51:12,651] Trial 41 finished with value: 0.809375 and parameters: {'n_estimators': 492, 'max_depth': 13, 'min_samples_split': 7, 'random_state': 42, 'min_samples_leaf': 6}. Best is trial 37 with value: 0.85625.\n[I 2024-02-22 15:51:23,053] Trial 42 finished with value: 0.859375 and parameters: {'n_estimators': 419, 'max_depth': 16, 'min_samples_split': 7, 'random_state': 42, 'min_samples_leaf': 1}. Best is trial 42 with value: 0.859375.\n[I 2024-02-22 15:51:34,102] Trial 43 finished with value: 0.8375 and parameters: {'n_estimators': 429, 'max_depth': 16, 'min_samples_split': 9, 'random_state': 42, 'min_samples_leaf': 1}. Best is trial 42 with value: 0.859375.\n[I 2024-02-22 15:51:47,978] Trial 44 finished with value: 0.775 and parameters: {'n_estimators': 553, 'max_depth': 16, 'min_samples_split': 14, 'random_state': 42, 'min_samples_leaf': 3}. Best is trial 42 with value: 0.859375.\n[I 2024-02-22 15:52:01,621] Trial 45 finished with value: 0.821875 and parameters: {'n_estimators': 538, 'max_depth': 26, 'min_samples_split': 11, 'random_state': 42, 'min_samples_leaf': 1}. Best is trial 42 with value: 0.859375.\n[I 2024-02-22 15:52:15,901] Trial 46 finished with value: 0.503125 and parameters: {'n_estimators': 635, 'max_depth': 15, 'min_samples_split': 7, 'random_state': 42, 'min_samples_leaf': 32}. Best is trial 42 with value: 0.859375.\n[I 2024-02-22 15:52:28,482] Trial 47 finished with value: 0.78125 and parameters: {'n_estimators': 518, 'max_depth': 22, 'min_samples_split': 9, 'random_state': 42, 'min_samples_leaf': 7}. Best is trial 42 with value: 0.859375.\n[I 2024-02-22 15:52:39,860] Trial 48 finished with value: 0.865625 and parameters: {'n_estimators': 453, 'max_depth': 18, 'min_samples_split': 4, 'random_state': 42, 'min_samples_leaf': 3}. Best is trial 48 with value: 0.865625.\n[I 2024-02-22 15:52:52,645] Trial 49 finished with value: 0.875 and parameters: {'n_estimators': 492, 'max_depth': 18, 'min_samples_split': 3, 'random_state': 42, 'min_samples_leaf': 2}. Best is trial 49 with value: 0.875.\n[I 2024-02-22 15:53:01,756] Trial 50 finished with value: 0.6375 and parameters: {'n_estimators': 405, 'max_depth': 19, 'min_samples_split': 3, 'random_state': 42, 'min_samples_leaf': 20}. Best is trial 49 with value: 0.875.\n[I 2024-02-22 15:53:14,239] Trial 51 finished with value: 0.871875 and parameters: {'n_estimators': 477, 'max_depth': 18, 'min_samples_split': 4, 'random_state': 42, 'min_samples_leaf': 2}. Best is trial 49 with value: 0.875.\n[I 2024-02-22 15:53:26,604] Trial 52 finished with value: 0.865625 and parameters: {'n_estimators': 487, 'max_depth': 18, 'min_samples_split': 4, 'random_state': 42, 'min_samples_leaf': 3}. Best is trial 49 with value: 0.875.\n[I 2024-02-22 15:53:38,818] Trial 53 finished with value: 0.875 and parameters: {'n_estimators': 484, 'max_depth': 18, 'min_samples_split': 4, 'random_state': 42, 'min_samples_leaf': 2}. Best is trial 49 with value: 0.875.\n[I 2024-02-22 15:53:51,645] Trial 54 finished with value: 0.8875 and parameters: {'n_estimators': 496, 'max_depth': 23, 'min_samples_split': 4, 'random_state': 42, 'min_samples_leaf': 1}. Best is trial 54 with value: 0.8875.\n[I 2024-02-22 15:54:03,107] Trial 55 finished with value: 0.809375 and parameters: {'n_estimators': 492, 'max_depth': 23, 'min_samples_split': 4, 'random_state': 42, 'min_samples_leaf': 6}. Best is trial 54 with value: 0.8875.\n[I 2024-02-22 15:54:17,423] Trial 56 finished with value: 0.875 and parameters: {'n_estimators': 559, 'max_depth': 20, 'min_samples_split': 2, 'random_state': 42, 'min_samples_leaf': 2}. Best is trial 54 with value: 0.8875.\n[I 2024-02-22 15:54:30,675] Trial 57 finished with value: 0.803125 and parameters: {'n_estimators': 550, 'max_depth': 21, 'min_samples_split': 3, 'random_state': 42, 'min_samples_leaf': 5}. Best is trial 54 with value: 0.8875.\n[I 2024-02-22 15:54:49,959] Trial 58 finished with value: 0.88125 and parameters: {'n_estimators': 758, 'max_depth': 24, 'min_samples_split': 3, 'random_state': 42, 'min_samples_leaf': 2}. Best is trial 54 with value: 0.8875.\n[I 2024-02-22 15:55:10,492] Trial 59 finished with value: 0.89375 and parameters: {'n_estimators': 779, 'max_depth': 24, 'min_samples_split': 2, 'random_state': 42, 'min_samples_leaf': 1}. Best is trial 59 with value: 0.89375.\n[I 2024-02-22 15:55:29,029] Trial 60 finished with value: 0.803125 and parameters: {'n_estimators': 779, 'max_depth': 25, 'min_samples_split': 2, 'random_state': 42, 'min_samples_leaf': 5}. Best is trial 59 with value: 0.89375.\n[I 2024-02-22 15:55:50,888] Trial 61 finished with value: 0.88125 and parameters: {'n_estimators': 862, 'max_depth': 24, 'min_samples_split': 2, 'random_state': 42, 'min_samples_leaf': 2}. Best is trial 59 with value: 0.89375.\n[I 2024-02-22 15:56:12,598] Trial 62 finished with value: 0.89375 and parameters: {'n_estimators': 856, 'max_depth': 30, 'min_samples_split': 2, 'random_state': 42, 'min_samples_leaf': 1}. Best is trial 59 with value: 0.89375.\n[I 2024-02-22 15:56:35,109] Trial 63 finished with value: 0.89375 and parameters: {'n_estimators': 887, 'max_depth': 30, 'min_samples_split': 2, 'random_state': 42, 'min_samples_leaf': 1}. Best is trial 59 with value: 0.89375.\n[I 2024-02-22 15:56:57,663] Trial 64 finished with value: 0.896875 and parameters: {'n_estimators': 895, 'max_depth': 32, 'min_samples_split': 2, 'random_state': 42, 'min_samples_leaf': 1}. Best is trial 64 with value: 0.896875.\n[I 2024-02-22 15:57:20,453] Trial 65 finished with value: 0.896875 and parameters: {'n_estimators': 891, 'max_depth': 31, 'min_samples_split': 2, 'random_state': 42, 'min_samples_leaf': 1}. Best is trial 64 with value: 0.896875.\n[I 2024-02-22 15:57:43,601] Trial 66 finished with value: 0.896875 and parameters: {'n_estimators': 911, 'max_depth': 31, 'min_samples_split': 2, 'random_state': 42, 'min_samples_leaf': 1}. Best is trial 64 with value: 0.896875.\n[I 2024-02-22 15:58:08,023] Trial 67 finished with value: 0.896875 and parameters: {'n_estimators': 944, 'max_depth': 32, 'min_samples_split': 2, 'random_state': 42, 'min_samples_leaf': 1}. Best is trial 64 with value: 0.896875.\n[I 2024-02-22 15:58:32,193] Trial 68 finished with value: 0.896875 and parameters: {'n_estimators': 929, 'max_depth': 32, 'min_samples_split': 2, 'random_state': 42, 'min_samples_leaf': 1}. Best is trial 64 with value: 0.896875.\n[I 2024-02-22 15:58:53,696] Trial 69 finished with value: 0.815625 and parameters: {'n_estimators': 937, 'max_depth': 33, 'min_samples_split': 5, 'random_state': 42, 'min_samples_leaf': 5}. Best is trial 64 with value: 0.896875.\n[I 2024-02-22 15:59:14,454] Trial 70 finished with value: 0.68125 and parameters: {'n_estimators': 924, 'max_depth': 35, 'min_samples_split': 26, 'random_state': 42, 'min_samples_leaf': 3}. Best is trial 64 with value: 0.896875.\n[I 2024-02-22 15:59:35,576] Trial 71 finished with value: 0.89375 and parameters: {'n_estimators': 846, 'max_depth': 30, 'min_samples_split': 2, 'random_state': 42, 'min_samples_leaf': 1}. Best is trial 64 with value: 0.896875.\n[I 2024-02-22 15:59:59,499] Trial 72 finished with value: 0.896875 and parameters: {'n_estimators': 900, 'max_depth': 31, 'min_samples_split': 2, 'random_state': 42, 'min_samples_leaf': 1}. Best is trial 64 with value: 0.896875.\n[I 2024-02-22 16:00:22,860] Trial 73 finished with value: 0.86875 and parameters: {'n_estimators': 998, 'max_depth': 30, 'min_samples_split': 3, 'random_state': 42, 'min_samples_leaf': 3}. Best is trial 64 with value: 0.896875.\n[I 2024-02-22 16:00:44,616] Trial 74 finished with value: 0.878125 and parameters: {'n_estimators': 914, 'max_depth': 28, 'min_samples_split': 5, 'random_state': 42, 'min_samples_leaf': 1}. Best is trial 64 with value: 0.896875.\n[I 2024-02-22 16:01:08,119] Trial 75 finished with value: 0.8375 and parameters: {'n_estimators': 952, 'max_depth': 32, 'min_samples_split': 2, 'random_state': 42, 'min_samples_leaf': 4}. Best is trial 64 with value: 0.896875.\n[I 2024-02-22 16:01:25,911] Trial 76 finished with value: 0.78125 and parameters: {'n_estimators': 825, 'max_depth': 32, 'min_samples_split': 5, 'random_state': 42, 'min_samples_leaf': 7}. Best is trial 64 with value: 0.896875.\n[I 2024-02-22 16:01:44,112] Trial 77 finished with value: 0.625 and parameters: {'n_estimators': 895, 'max_depth': 34, 'min_samples_split': 3, 'random_state': 42, 'min_samples_leaf': 22}. Best is trial 64 with value: 0.896875.\n[I 2024-02-22 16:02:02,362] Trial 78 finished with value: 0.80625 and parameters: {'n_estimators': 807, 'max_depth': 28, 'min_samples_split': 2, 'random_state': 42, 'min_samples_leaf': 5}. Best is trial 64 with value: 0.896875.\n[I 2024-02-22 16:02:25,338] Trial 79 finished with value: 0.86875 and parameters: {'n_estimators': 974, 'max_depth': 36, 'min_samples_split': 6, 'random_state': 42, 'min_samples_leaf': 3}. Best is trial 64 with value: 0.896875.\n[I 2024-02-22 16:02:45,945] Trial 80 finished with value: 0.703125 and parameters: {'n_estimators': 877, 'max_depth': 31, 'min_samples_split': 20, 'random_state': 42, 'min_samples_leaf': 1}. Best is trial 64 with value: 0.896875.\n[I 2024-02-22 16:03:08,511] Trial 81 finished with value: 0.896875 and parameters: {'n_estimators': 894, 'max_depth': 29, 'min_samples_split': 2, 'random_state': 42, 'min_samples_leaf': 1}. Best is trial 64 with value: 0.896875.\n[I 2024-02-22 16:03:31,088] Trial 82 finished with value: 0.88125 and parameters: {'n_estimators': 910, 'max_depth': 27, 'min_samples_split': 3, 'random_state': 42, 'min_samples_leaf': 1}. Best is trial 64 with value: 0.896875.\n[I 2024-02-22 16:03:54,302] Trial 83 finished with value: 0.840625 and parameters: {'n_estimators': 943, 'max_depth': 34, 'min_samples_split': 3, 'random_state': 42, 'min_samples_leaf': 4}. Best is trial 64 with value: 0.896875.\n[I 2024-02-22 16:04:15,699] Trial 84 finished with value: 0.871875 and parameters: {'n_estimators': 826, 'max_depth': 29, 'min_samples_split': 2, 'random_state': 42, 'min_samples_leaf': 3}. Best is trial 64 with value: 0.896875.\n[I 2024-02-22 16:04:35,717] Trial 85 finished with value: 0.690625 and parameters: {'n_estimators': 859, 'max_depth': 31, 'min_samples_split': 4, 'random_state': 42, 'min_samples_leaf': 15}. Best is trial 64 with value: 0.896875.\n[I 2024-02-22 16:04:56,781] Trial 86 finished with value: 0.553125 and parameters: {'n_estimators': 967, 'max_depth': 33, 'min_samples_split': 5, 'random_state': 42, 'min_samples_leaf': 26}. Best is trial 64 with value: 0.896875.\n[I 2024-02-22 16:05:16,561] Trial 87 finished with value: 0.878125 and parameters: {'n_estimators': 791, 'max_depth': 29, 'min_samples_split': 2, 'random_state': 42, 'min_samples_leaf': 2}. Best is trial 64 with value: 0.896875.\n[I 2024-02-22 16:05:38,744] Trial 88 finished with value: 0.871875 and parameters: {'n_estimators': 899, 'max_depth': 31, 'min_samples_split': 6, 'random_state': 42, 'min_samples_leaf': 1}. Best is trial 64 with value: 0.896875.\n[I 2024-02-22 16:05:57,099] Trial 89 finished with value: 0.846875 and parameters: {'n_estimators': 759, 'max_depth': 27, 'min_samples_split': 3, 'random_state': 42, 'min_samples_leaf': 4}. Best is trial 64 with value: 0.896875.\n[I 2024-02-22 16:06:20,539] Trial 90 finished with value: 0.740625 and parameters: {'n_estimators': 992, 'max_depth': 35, 'min_samples_split': 18, 'random_state': 42, 'min_samples_leaf': 2}. Best is trial 64 with value: 0.896875.\n[I 2024-02-22 16:06:42,107] Trial 91 finished with value: 0.896875 and parameters: {'n_estimators': 883, 'max_depth': 29, 'min_samples_split': 2, 'random_state': 42, 'min_samples_leaf': 1}. Best is trial 64 with value: 0.896875.\n[I 2024-02-22 16:07:02,066] Trial 92 finished with value: 0.884375 and parameters: {'n_estimators': 840, 'max_depth': 29, 'min_samples_split': 4, 'random_state': 42, 'min_samples_leaf': 1}. Best is trial 64 with value: 0.896875.\n[I 2024-02-22 16:07:19,216] Trial 93 finished with value: 0.871875 and parameters: {'n_estimators': 720, 'max_depth': 32, 'min_samples_split': 2, 'random_state': 42, 'min_samples_leaf': 3}. Best is trial 64 with value: 0.896875.\n[I 2024-02-22 16:07:41,265] Trial 94 finished with value: 0.884375 and parameters: {'n_estimators': 927, 'max_depth': 33, 'min_samples_split': 4, 'random_state': 42, 'min_samples_leaf': 2}. Best is trial 64 with value: 0.896875.\n[I 2024-02-22 16:08:02,871] Trial 95 finished with value: 0.878125 and parameters: {'n_estimators': 874, 'max_depth': 27, 'min_samples_split': 3, 'random_state': 42, 'min_samples_leaf': 1}. Best is trial 64 with value: 0.896875.\n[I 2024-02-22 16:08:24,927] Trial 96 finished with value: 0.7 and parameters: {'n_estimators': 955, 'max_depth': 31, 'min_samples_split': 22, 'random_state': 42, 'min_samples_leaf': 3}. Best is trial 64 with value: 0.896875.\n[I 2024-02-22 16:08:45,387] Trial 97 finished with value: 0.665625 and parameters: {'n_estimators': 904, 'max_depth': 37, 'min_samples_split': 31, 'random_state': 42, 'min_samples_leaf': 2}. Best is trial 64 with value: 0.896875.\n[I 2024-02-22 16:09:05,636] Trial 98 finished with value: 0.84375 and parameters: {'n_estimators': 860, 'max_depth': 34, 'min_samples_split': 2, 'random_state': 42, 'min_samples_leaf': 4}. Best is trial 64 with value: 0.896875.\n[I 2024-02-22 16:09:28,304] Trial 99 finished with value: 0.871875 and parameters: {'n_estimators': 926, 'max_depth': 28, 'min_samples_split': 6, 'random_state': 42, 'min_samples_leaf': 1}. Best is trial 64 with value: 0.896875.\n",
          "output_type": "stream"
        },
        {
          "name": "stdout",
          "text": "Best params found : {'n_estimators': 895, 'max_depth': 32, 'min_samples_split': 2, 'random_state': 42, 'min_samples_leaf': 1}\n",
          "output_type": "stream"
        },
        {
          "execution_count": 22,
          "output_type": "execute_result",
          "data": {
            "text/plain": "0.9875"
          },
          "metadata": {}
        }
      ]
    },
    {
      "cell_type": "code",
      "source": [
        "final_model = RandomForestClassifier(**best_params)\n",
        "final_model.fit(X_train_reduced, y_train)\n",
        "y_pred = final_model.predict(X_test_reduced)\n",
        "prediction_results['random forest'] = y_pred\n",
        "\n",
        "accuracy = accuracy_score(y_test, y_pred)\n",
        "precision = precision_score(y_test, y_pred, average='macro')\n",
        "recall = recall_score(y_test, y_pred, average='macro')\n",
        "f1 = f1_score(y_test, y_pred, average='macro')\n",
        "\n",
        "# One-hot encoding for probability calculation (adapt if necessary)\n",
        "y_test_onehot = pd.get_dummies(y_test, prefix='label_')  # Assuming 'label_' prefix for clarity\n",
        "y_pred_onehot = pd.get_dummies(y_pred, prefix='label_')\n",
        "\n",
        "# ROC AUC score with multiclass handling\n",
        "roc_auc_macro = roc_auc_score(y_test_onehot, y_pred_onehot, average='macro', multi_class='ovo')  # Specify 'ovo' or 'ovr'\n",
        "\n",
        "print(\"accuracy:\", accuracy)\n",
        "print(\"recall:\", recall)\n",
        "print(\"precision:\", precision)\n",
        "print(\"f1-score:\", f1)\n",
        "print('roc_auc: ', roc_auc_macro)"
      ],
      "metadata": {
        "id": "zD5PvI_8ZocK",
        "outputId": "d2e0f7aa-4c02-4369-994f-c3a5fa3db382",
        "execution": {
          "iopub.status.busy": "2024-02-22T16:09:32.569120Z",
          "iopub.execute_input": "2024-02-22T16:09:32.569460Z",
          "iopub.status.idle": "2024-02-22T16:09:36.853047Z",
          "shell.execute_reply.started": "2024-02-22T16:09:32.569432Z",
          "shell.execute_reply": "2024-02-22T16:09:36.851851Z"
        },
        "trusted": true
      },
      "execution_count": null,
      "outputs": [
        {
          "name": "stdout",
          "text": "accuracy: 0.9875\nrecall: 0.9722222222222222\nprecision: 0.9629629629629629\nf1-score: 0.9666666666666666\nroc_auc:  0.7339875119474435\n",
          "output_type": "stream"
        },
        {
          "name": "stderr",
          "text": "/opt/conda/lib/python3.10/site-packages/sklearn/metrics/_classification.py:1344: UndefinedMetricWarning: Precision is ill-defined and being set to 0.0 in labels with no predicted samples. Use `zero_division` parameter to control this behavior.\n  _warn_prf(average, modifier, msg_start, len(result))\n",
          "output_type": "stream"
        }
      ]
    },
    {
      "cell_type": "markdown",
      "source": [
        "## Gassian NB"
      ],
      "metadata": {
        "id": "K45QO1CFZocK"
      }
    },
    {
      "cell_type": "markdown",
      "source": [
        "**Pre-tunning**"
      ],
      "metadata": {
        "id": "rJCJoej7ZocL"
      }
    },
    {
      "cell_type": "code",
      "source": [
        "from sklearn.naive_bayes import GaussianNB\n",
        "gnb = GaussianNB()\n",
        "gnb.fit(X_train_reduced, y_train)\n",
        "\n",
        "y_pred = gnb.predict(X_test_reduced)\n",
        "\n",
        "accuracy = accuracy_score(y_test, y_pred)\n",
        "precision = precision_score(y_test, y_pred, average='macro')\n",
        "recall = recall_score(y_test, y_pred, average='macro')\n",
        "f1 = f1_score(y_test, y_pred, average='macro')\n",
        "\n",
        "# One-hot encoding for probability calculation (adapt if necessary)\n",
        "y_test_onehot = pd.get_dummies(y_test, prefix='label_')  # Assuming 'label_' prefix for clarity\n",
        "y_pred_onehot = pd.get_dummies(y_pred, prefix='label_')\n",
        "\n",
        "# ROC AUC score with multiclass handling\n",
        "roc_auc_macro = roc_auc_score(y_test_onehot, y_pred_onehot, average='macro', multi_class='ovo')  # Specify 'ovo' or 'ovr'\n",
        "\n",
        "print(\"accuracy:\", accuracy)\n",
        "print(\"recall:\", recall)\n",
        "print(\"precision:\", precision)\n",
        "print(\"f1-score:\", f1)\n",
        "print('roc_auc: ', roc_auc_macro)\n"
      ],
      "metadata": {
        "id": "5mS9-RAZZocL",
        "outputId": "fd77f38f-8834-48b8-c2be-2184c087d0b1",
        "execution": {
          "iopub.status.busy": "2024-02-22T16:09:36.854436Z",
          "iopub.execute_input": "2024-02-22T16:09:36.854782Z",
          "iopub.status.idle": "2024-02-22T16:09:36.915234Z",
          "shell.execute_reply.started": "2024-02-22T16:09:36.854752Z",
          "shell.execute_reply": "2024-02-22T16:09:36.914076Z"
        },
        "trusted": true
      },
      "execution_count": null,
      "outputs": [
        {
          "name": "stdout",
          "text": "accuracy: 0.9625\nrecall: 0.9444444444444444\nprecision: 0.9375\nf1-score: 0.9358465608465608\nroc_auc:  0.7266591260476291\n",
          "output_type": "stream"
        },
        {
          "name": "stderr",
          "text": "/opt/conda/lib/python3.10/site-packages/sklearn/metrics/_classification.py:1344: UndefinedMetricWarning: Precision is ill-defined and being set to 0.0 in labels with no predicted samples. Use `zero_division` parameter to control this behavior.\n  _warn_prf(average, modifier, msg_start, len(result))\n",
          "output_type": "stream"
        }
      ]
    },
    {
      "cell_type": "markdown",
      "source": [
        "**Tunning**"
      ],
      "metadata": {
        "id": "cfgrNKRaZocL"
      }
    },
    {
      "cell_type": "code",
      "source": [
        "def objective(trial):\n",
        "    hyperparams = {\n",
        "        'var_smoothing': trial.suggest_float('var_smoothing', 1e-9, 1e-4, log = True)\n",
        "    }\n",
        "\n",
        "    model = GaussianNB(**hyperparams)\n",
        "    scores = cross_val_score(model, X_train_reduced, y_train, cv = kf,scoring = 'accuracy')\n",
        "    return np.mean(scores)"
      ],
      "metadata": {
        "id": "6Uh3C_iLZocL",
        "execution": {
          "iopub.status.busy": "2024-02-22T16:09:36.917787Z",
          "iopub.execute_input": "2024-02-22T16:09:36.918215Z",
          "iopub.status.idle": "2024-02-22T16:09:36.925881Z",
          "shell.execute_reply.started": "2024-02-22T16:09:36.918184Z",
          "shell.execute_reply": "2024-02-22T16:09:36.924325Z"
        },
        "trusted": true
      },
      "execution_count": null,
      "outputs": []
    },
    {
      "cell_type": "code",
      "source": [
        "study = optuna.create_study(direction = 'maximize')\n",
        "study.optimize(objective, n_trials = 100)\n",
        "best_params = study.best_params\n",
        "print(\"Best params found :\", best_params)\n",
        "\n",
        "final_model = GaussianNB(**best_params)\n",
        "final_model.fit(X_train_reduced, y_train)\n",
        "y_pred = final_model.predict(X_test_reduced)\n",
        "prediction_results['gnb'] = y_pred\n",
        "\n",
        "accuracy = accuracy_score(y_test, y_pred)\n",
        "precision = precision_score(y_test, y_pred, average='macro')\n",
        "recall = recall_score(y_test, y_pred, average='macro')\n",
        "f1 = f1_score(y_test, y_pred, average='macro')\n",
        "\n",
        "# One-hot encoding for probability calculation (adapt if necessary)\n",
        "y_test_onehot = pd.get_dummies(y_test, prefix='label_')  # Assuming 'label_' prefix for clarity\n",
        "y_pred_onehot = pd.get_dummies(y_pred, prefix='label_')\n",
        "\n",
        "# ROC AUC score with multiclass handling\n",
        "roc_auc_macro = roc_auc_score(y_test_onehot, y_pred_onehot, average='macro', multi_class='ovo')  # Specify 'ovo' or 'ovr'\n",
        "\n",
        "print(\"accuracy:\", accuracy)\n",
        "print(\"recall:\", recall)\n",
        "print(\"precision:\", precision)\n",
        "print(\"f1-score:\", f1)\n",
        "print('roc_auc: ', roc_auc_macro)"
      ],
      "metadata": {
        "id": "NDjhkBkEZocM",
        "outputId": "7192c5e8-1683-47c2-a0f8-7dcb85de02e0",
        "execution": {
          "iopub.status.busy": "2024-02-22T16:09:36.927401Z",
          "iopub.execute_input": "2024-02-22T16:09:36.927801Z",
          "iopub.status.idle": "2024-02-22T16:09:42.170122Z",
          "shell.execute_reply.started": "2024-02-22T16:09:36.927771Z",
          "shell.execute_reply": "2024-02-22T16:09:42.169088Z"
        },
        "trusted": true
      },
      "execution_count": null,
      "outputs": [
        {
          "name": "stderr",
          "text": "[I 2024-02-22 16:09:36,943] A new study created in memory with name: no-name-1c8d49a8-a4ff-4a04-91d6-133c862d5a3a\n[I 2024-02-22 16:09:36,989] Trial 0 finished with value: 0.75625 and parameters: {'var_smoothing': 5.4168538997973906e-05}. Best is trial 0 with value: 0.75625.\n[I 2024-02-22 16:09:37,031] Trial 1 finished with value: 0.75 and parameters: {'var_smoothing': 8.183158500245939e-06}. Best is trial 0 with value: 0.75625.\n[I 2024-02-22 16:09:37,078] Trial 2 finished with value: 0.75 and parameters: {'var_smoothing': 1.5142352830664216e-09}. Best is trial 0 with value: 0.75625.\n[I 2024-02-22 16:09:37,125] Trial 3 finished with value: 0.75 and parameters: {'var_smoothing': 1.7880444193690765e-07}. Best is trial 0 with value: 0.75625.\n[I 2024-02-22 16:09:37,169] Trial 4 finished with value: 0.75 and parameters: {'var_smoothing': 1.143316200564362e-05}. Best is trial 0 with value: 0.75625.\n[I 2024-02-22 16:09:37,213] Trial 5 finished with value: 0.75 and parameters: {'var_smoothing': 1.7389254453506717e-06}. Best is trial 0 with value: 0.75625.\n[I 2024-02-22 16:09:37,257] Trial 6 finished with value: 0.75 and parameters: {'var_smoothing': 1.5584176885624864e-07}. Best is trial 0 with value: 0.75625.\n[I 2024-02-22 16:09:37,300] Trial 7 finished with value: 0.75 and parameters: {'var_smoothing': 7.142743471214701e-06}. Best is trial 0 with value: 0.75625.\n[I 2024-02-22 16:09:37,343] Trial 8 finished with value: 0.7625 and parameters: {'var_smoothing': 9.50610116776686e-05}. Best is trial 8 with value: 0.7625.\n[I 2024-02-22 16:09:37,386] Trial 9 finished with value: 0.75 and parameters: {'var_smoothing': 1.3000870032916943e-08}. Best is trial 8 with value: 0.7625.\n[I 2024-02-22 16:09:37,436] Trial 10 finished with value: 0.765625 and parameters: {'var_smoothing': 9.996276704284733e-05}. Best is trial 10 with value: 0.765625.\n[I 2024-02-22 16:09:37,488] Trial 11 finished with value: 0.765625 and parameters: {'var_smoothing': 9.713345720320531e-05}. Best is trial 10 with value: 0.765625.\n[I 2024-02-22 16:09:37,538] Trial 12 finished with value: 0.765625 and parameters: {'var_smoothing': 9.971979972304724e-05}. Best is trial 10 with value: 0.765625.\n[I 2024-02-22 16:09:37,589] Trial 13 finished with value: 0.75 and parameters: {'var_smoothing': 1.7980281407436329e-06}. Best is trial 10 with value: 0.765625.\n[I 2024-02-22 16:09:37,639] Trial 14 finished with value: 0.75 and parameters: {'var_smoothing': 2.943037174773807e-05}. Best is trial 10 with value: 0.765625.\n[I 2024-02-22 16:09:37,690] Trial 15 finished with value: 0.75 and parameters: {'var_smoothing': 7.602847906205285e-07}. Best is trial 10 with value: 0.765625.\n[I 2024-02-22 16:09:37,738] Trial 16 finished with value: 0.75 and parameters: {'var_smoothing': 2.1313059882279945e-05}. Best is trial 10 with value: 0.765625.\n[I 2024-02-22 16:09:37,787] Trial 17 finished with value: 0.75 and parameters: {'var_smoothing': 4.9378567221249465e-08}. Best is trial 10 with value: 0.765625.\n[I 2024-02-22 16:09:37,836] Trial 18 finished with value: 0.75 and parameters: {'var_smoothing': 3.313731645823027e-06}. Best is trial 10 with value: 0.765625.\n[I 2024-02-22 16:09:37,886] Trial 19 finished with value: 0.75 and parameters: {'var_smoothing': 1.2165668116378963e-09}. Best is trial 10 with value: 0.765625.\n[I 2024-02-22 16:09:37,934] Trial 20 finished with value: 0.75 and parameters: {'var_smoothing': 5.121400529791606e-07}. Best is trial 10 with value: 0.765625.\n[I 2024-02-22 16:09:37,991] Trial 21 finished with value: 0.7625 and parameters: {'var_smoothing': 8.885951099929714e-05}. Best is trial 10 with value: 0.765625.\n[I 2024-02-22 16:09:38,048] Trial 22 finished with value: 0.75 and parameters: {'var_smoothing': 3.7577970994487e-05}. Best is trial 10 with value: 0.765625.\n[I 2024-02-22 16:09:38,108] Trial 23 finished with value: 0.75 and parameters: {'var_smoothing': 1.6762553271977542e-05}. Best is trial 10 with value: 0.765625.\n[I 2024-02-22 16:09:38,165] Trial 24 finished with value: 0.7625 and parameters: {'var_smoothing': 9.085738380175816e-05}. Best is trial 10 with value: 0.765625.\n[I 2024-02-22 16:09:38,217] Trial 25 finished with value: 0.75 and parameters: {'var_smoothing': 5.55863720628984e-06}. Best is trial 10 with value: 0.765625.\n[I 2024-02-22 16:09:38,267] Trial 26 finished with value: 0.75 and parameters: {'var_smoothing': 3.740128431097054e-05}. Best is trial 10 with value: 0.765625.\n[I 2024-02-22 16:09:38,317] Trial 27 finished with value: 0.75 and parameters: {'var_smoothing': 2.2378067890843973e-05}. Best is trial 10 with value: 0.765625.\n[I 2024-02-22 16:09:38,368] Trial 28 finished with value: 0.75 and parameters: {'var_smoothing': 3.092570228344667e-06}. Best is trial 10 with value: 0.765625.\n[I 2024-02-22 16:09:38,418] Trial 29 finished with value: 0.75625 and parameters: {'var_smoothing': 5.117035776812321e-05}. Best is trial 10 with value: 0.765625.\n[I 2024-02-22 16:09:38,475] Trial 30 finished with value: 0.75 and parameters: {'var_smoothing': 2.756816542525354e-08}. Best is trial 10 with value: 0.765625.\n[I 2024-02-22 16:09:38,530] Trial 31 finished with value: 0.7625 and parameters: {'var_smoothing': 8.674318591671821e-05}. Best is trial 10 with value: 0.765625.\n[I 2024-02-22 16:09:38,586] Trial 32 finished with value: 0.75625 and parameters: {'var_smoothing': 5.618590526329301e-05}. Best is trial 10 with value: 0.765625.\n[I 2024-02-22 16:09:38,637] Trial 33 finished with value: 0.75 and parameters: {'var_smoothing': 1.2936089084125365e-05}. Best is trial 10 with value: 0.765625.\n[I 2024-02-22 16:09:38,689] Trial 34 finished with value: 0.75 and parameters: {'var_smoothing': 3.325085940341026e-09}. Best is trial 10 with value: 0.765625.\n[I 2024-02-22 16:09:38,737] Trial 35 finished with value: 0.765625 and parameters: {'var_smoothing': 9.89764395211759e-05}. Best is trial 10 with value: 0.765625.\n[I 2024-02-22 16:09:38,785] Trial 36 finished with value: 0.75625 and parameters: {'var_smoothing': 4.561048393547364e-05}. Best is trial 10 with value: 0.765625.\n[I 2024-02-22 16:09:38,834] Trial 37 finished with value: 0.75 and parameters: {'var_smoothing': 8.78061712021586e-06}. Best is trial 10 with value: 0.765625.\n[I 2024-02-22 16:09:38,894] Trial 38 finished with value: 0.75 and parameters: {'var_smoothing': 1.6764232874065183e-05}. Best is trial 10 with value: 0.765625.\n[I 2024-02-22 16:09:38,952] Trial 39 finished with value: 0.75 and parameters: {'var_smoothing': 2.806671221973875e-05}. Best is trial 10 with value: 0.765625.\n[I 2024-02-22 16:09:39,017] Trial 40 finished with value: 0.75 and parameters: {'var_smoothing': 6.807341171608977e-06}. Best is trial 10 with value: 0.765625.\n[I 2024-02-22 16:09:39,077] Trial 41 finished with value: 0.765625 and parameters: {'var_smoothing': 9.943524642409933e-05}. Best is trial 10 with value: 0.765625.\n[I 2024-02-22 16:09:39,131] Trial 42 finished with value: 0.75625 and parameters: {'var_smoothing': 5.162347117125462e-05}. Best is trial 10 with value: 0.765625.\n[I 2024-02-22 16:09:39,183] Trial 43 finished with value: 0.7625 and parameters: {'var_smoothing': 6.94863785915929e-05}. Best is trial 10 with value: 0.765625.\n[I 2024-02-22 16:09:39,234] Trial 44 finished with value: 0.75 and parameters: {'var_smoothing': 3.0527936668295925e-05}. Best is trial 10 with value: 0.765625.\n[I 2024-02-22 16:09:39,285] Trial 45 finished with value: 0.7625 and parameters: {'var_smoothing': 6.182046612152586e-05}. Best is trial 10 with value: 0.765625.\n[I 2024-02-22 16:09:39,335] Trial 46 finished with value: 0.7625 and parameters: {'var_smoothing': 9.559525450679564e-05}. Best is trial 10 with value: 0.765625.\n[I 2024-02-22 16:09:39,386] Trial 47 finished with value: 0.75 and parameters: {'var_smoothing': 1.0221901819431099e-05}. Best is trial 10 with value: 0.765625.\n[I 2024-02-22 16:09:39,437] Trial 48 finished with value: 0.75 and parameters: {'var_smoothing': 1.7742736144511389e-07}. Best is trial 10 with value: 0.765625.\n[I 2024-02-22 16:09:39,498] Trial 49 finished with value: 0.75 and parameters: {'var_smoothing': 4.1073584047029155e-06}. Best is trial 10 with value: 0.765625.\n[I 2024-02-22 16:09:39,557] Trial 50 finished with value: 0.75 and parameters: {'var_smoothing': 2.1431934215810744e-05}. Best is trial 10 with value: 0.765625.\n[I 2024-02-22 16:09:39,618] Trial 51 finished with value: 0.75 and parameters: {'var_smoothing': 3.7128337945073477e-05}. Best is trial 10 with value: 0.765625.\n[I 2024-02-22 16:09:39,672] Trial 52 finished with value: 0.7625 and parameters: {'var_smoothing': 6.488350742845534e-05}. Best is trial 10 with value: 0.765625.\n[I 2024-02-22 16:09:39,730] Trial 53 finished with value: 0.7625 and parameters: {'var_smoothing': 9.503727437786363e-05}. Best is trial 10 with value: 0.765625.\n[I 2024-02-22 16:09:39,786] Trial 54 finished with value: 0.75 and parameters: {'var_smoothing': 3.662694794679047e-05}. Best is trial 10 with value: 0.765625.\n[I 2024-02-22 16:09:39,842] Trial 55 finished with value: 0.75 and parameters: {'var_smoothing': 1.3455078203826574e-05}. Best is trial 10 with value: 0.765625.\n[I 2024-02-22 16:09:39,893] Trial 56 finished with value: 0.75 and parameters: {'var_smoothing': 1.6159772121168145e-06}. Best is trial 10 with value: 0.765625.\n[I 2024-02-22 16:09:39,944] Trial 57 finished with value: 0.75 and parameters: {'var_smoothing': 2.3968709752085478e-05}. Best is trial 10 with value: 0.765625.\n[I 2024-02-22 16:09:39,995] Trial 58 finished with value: 0.759375 and parameters: {'var_smoothing': 6.161665914411552e-05}. Best is trial 10 with value: 0.765625.\n[I 2024-02-22 16:09:40,057] Trial 59 finished with value: 0.75 and parameters: {'var_smoothing': 7.608120673924931e-08}. Best is trial 10 with value: 0.765625.\n[I 2024-02-22 16:09:40,118] Trial 60 finished with value: 0.7625 and parameters: {'var_smoothing': 9.623619492374234e-05}. Best is trial 10 with value: 0.765625.\n[I 2024-02-22 16:09:40,169] Trial 61 finished with value: 0.75625 and parameters: {'var_smoothing': 4.522282761669175e-05}. Best is trial 10 with value: 0.765625.\n[I 2024-02-22 16:09:40,220] Trial 62 finished with value: 0.765625 and parameters: {'var_smoothing': 9.860415455290122e-05}. Best is trial 10 with value: 0.765625.\n[I 2024-02-22 16:09:40,272] Trial 63 finished with value: 0.7625 and parameters: {'var_smoothing': 6.682369243317531e-05}. Best is trial 10 with value: 0.765625.\n[I 2024-02-22 16:09:40,322] Trial 64 finished with value: 0.75 and parameters: {'var_smoothing': 3.0319771250821006e-05}. Best is trial 10 with value: 0.765625.\n[I 2024-02-22 16:09:40,373] Trial 65 finished with value: 0.765625 and parameters: {'var_smoothing': 9.664500948070693e-05}. Best is trial 10 with value: 0.765625.\n[I 2024-02-22 16:09:40,422] Trial 66 finished with value: 0.75 and parameters: {'var_smoothing': 1.8919994490126042e-05}. Best is trial 10 with value: 0.765625.\n[I 2024-02-22 16:09:40,471] Trial 67 finished with value: 0.7625 and parameters: {'var_smoothing': 7.075360605751467e-05}. Best is trial 10 with value: 0.765625.\n[I 2024-02-22 16:09:40,520] Trial 68 finished with value: 0.75 and parameters: {'var_smoothing': 5.897224540564372e-09}. Best is trial 10 with value: 0.765625.\n[I 2024-02-22 16:09:40,571] Trial 69 finished with value: 0.75 and parameters: {'var_smoothing': 4.354564543910213e-05}. Best is trial 10 with value: 0.765625.\n[I 2024-02-22 16:09:40,622] Trial 70 finished with value: 0.75 and parameters: {'var_smoothing': 5.115356960435478e-07}. Best is trial 10 with value: 0.765625.\n[I 2024-02-22 16:09:40,673] Trial 71 finished with value: 0.7625 and parameters: {'var_smoothing': 9.194799899344594e-05}. Best is trial 10 with value: 0.765625.\n[I 2024-02-22 16:09:40,726] Trial 72 finished with value: 0.75625 and parameters: {'var_smoothing': 4.8766542779349116e-05}. Best is trial 10 with value: 0.765625.\n[I 2024-02-22 16:09:40,779] Trial 73 finished with value: 0.765625 and parameters: {'var_smoothing': 9.863953139269885e-05}. Best is trial 10 with value: 0.765625.\n[I 2024-02-22 16:09:40,832] Trial 74 finished with value: 0.7625 and parameters: {'var_smoothing': 6.979440145022964e-05}. Best is trial 10 with value: 0.765625.\n[I 2024-02-22 16:09:40,882] Trial 75 finished with value: 0.75 and parameters: {'var_smoothing': 3.207478750383447e-05}. Best is trial 10 with value: 0.765625.\n[I 2024-02-22 16:09:40,932] Trial 76 finished with value: 0.765625 and parameters: {'var_smoothing': 9.89116313547082e-05}. Best is trial 10 with value: 0.765625.\n[I 2024-02-22 16:09:40,984] Trial 77 finished with value: 0.75625 and parameters: {'var_smoothing': 4.864084313197715e-05}. Best is trial 10 with value: 0.765625.\n[I 2024-02-22 16:09:41,037] Trial 78 finished with value: 0.75 and parameters: {'var_smoothing': 1.534970002901531e-05}. Best is trial 10 with value: 0.765625.\n[I 2024-02-22 16:09:41,089] Trial 79 finished with value: 0.75 and parameters: {'var_smoothing': 2.5039945279384013e-05}. Best is trial 10 with value: 0.765625.\n[I 2024-02-22 16:09:41,140] Trial 80 finished with value: 0.7625 and parameters: {'var_smoothing': 7.517990440872183e-05}. Best is trial 10 with value: 0.765625.\n[I 2024-02-22 16:09:41,190] Trial 81 finished with value: 0.75625 and parameters: {'var_smoothing': 5.593874989088506e-05}. Best is trial 10 with value: 0.765625.\n[I 2024-02-22 16:09:41,242] Trial 82 finished with value: 0.765625 and parameters: {'var_smoothing': 9.751152427647374e-05}. Best is trial 10 with value: 0.765625.\n[I 2024-02-22 16:09:41,295] Trial 83 finished with value: 0.75 and parameters: {'var_smoothing': 4.1870187730957865e-05}. Best is trial 10 with value: 0.765625.\n[I 2024-02-22 16:09:41,346] Trial 84 finished with value: 0.765625 and parameters: {'var_smoothing': 9.952067849185545e-05}. Best is trial 10 with value: 0.765625.\n[I 2024-02-22 16:09:41,398] Trial 85 finished with value: 0.7625 and parameters: {'var_smoothing': 7.094002129825278e-05}. Best is trial 10 with value: 0.765625.\n[I 2024-02-22 16:09:41,447] Trial 86 finished with value: 0.75625 and parameters: {'var_smoothing': 5.321477192086505e-05}. Best is trial 10 with value: 0.765625.\n[I 2024-02-22 16:09:41,496] Trial 87 finished with value: 0.75 and parameters: {'var_smoothing': 3.2104059102158805e-05}. Best is trial 10 with value: 0.765625.\n[I 2024-02-22 16:09:41,546] Trial 88 finished with value: 0.7625 and parameters: {'var_smoothing': 7.527938612495941e-05}. Best is trial 10 with value: 0.765625.\n[I 2024-02-22 16:09:41,597] Trial 89 finished with value: 0.75 and parameters: {'var_smoothing': 3.640478926028905e-05}. Best is trial 10 with value: 0.765625.\n[I 2024-02-22 16:09:41,646] Trial 90 finished with value: 0.75 and parameters: {'var_smoothing': 2.2797176004762396e-05}. Best is trial 10 with value: 0.765625.\n[I 2024-02-22 16:09:41,700] Trial 91 finished with value: 0.7625 and parameters: {'var_smoothing': 7.935239748134682e-05}. Best is trial 10 with value: 0.765625.\n[I 2024-02-22 16:09:41,750] Trial 92 finished with value: 0.765625 and parameters: {'var_smoothing': 9.713594011574775e-05}. Best is trial 10 with value: 0.765625.\n[I 2024-02-22 16:09:41,802] Trial 93 finished with value: 0.759375 and parameters: {'var_smoothing': 6.016509777864418e-05}. Best is trial 10 with value: 0.765625.\n[I 2024-02-22 16:09:41,852] Trial 94 finished with value: 0.765625 and parameters: {'var_smoothing': 9.893822871831369e-05}. Best is trial 10 with value: 0.765625.\n[I 2024-02-22 16:09:41,904] Trial 95 finished with value: 0.75625 and parameters: {'var_smoothing': 5.6429257418959126e-05}. Best is trial 10 with value: 0.765625.\n[I 2024-02-22 16:09:41,954] Trial 96 finished with value: 0.75 and parameters: {'var_smoothing': 4.215917242816847e-05}. Best is trial 10 with value: 0.765625.\n[I 2024-02-22 16:09:42,004] Trial 97 finished with value: 0.7625 and parameters: {'var_smoothing': 7.419536310230737e-05}. Best is trial 10 with value: 0.765625.\n[I 2024-02-22 16:09:42,054] Trial 98 finished with value: 0.75 and parameters: {'var_smoothing': 1.10233422431629e-07}. Best is trial 10 with value: 0.765625.\n[I 2024-02-22 16:09:42,110] Trial 99 finished with value: 0.75625 and parameters: {'var_smoothing': 5.6109478515939744e-05}. Best is trial 10 with value: 0.765625.\n/opt/conda/lib/python3.10/site-packages/sklearn/metrics/_classification.py:1344: UndefinedMetricWarning: Precision is ill-defined and being set to 0.0 in labels with no predicted samples. Use `zero_division` parameter to control this behavior.\n  _warn_prf(average, modifier, msg_start, len(result))\n",
          "output_type": "stream"
        },
        {
          "name": "stdout",
          "text": "Best params found : {'var_smoothing': 9.996276704284733e-05}\naccuracy: 0.9625\nrecall: 0.9444444444444444\nprecision: 0.9375\nf1-score: 0.9358465608465608\nroc_auc:  0.7266591260476291\n",
          "output_type": "stream"
        }
      ]
    },
    {
      "cell_type": "markdown",
      "source": [
        "## Logistic Regression"
      ],
      "metadata": {
        "id": "kBdkMP1YZocM"
      }
    },
    {
      "cell_type": "markdown",
      "source": [
        "**Normal**"
      ],
      "metadata": {
        "id": "1__4jB4NZocM"
      }
    },
    {
      "cell_type": "code",
      "source": [
        "lr = LogisticRegression()\n",
        "lr.fit(X_train_reduced, y_train)\n",
        "y_pred = lr.predict(X_test_reduced)\n",
        "\n",
        "accuracy = accuracy_score(y_test, y_pred)\n",
        "precision = precision_score(y_test, y_pred, average='macro')\n",
        "recall = recall_score(y_test, y_pred, average='macro')\n",
        "f1 = f1_score(y_test, y_pred, average='macro')\n",
        "\n",
        "# One-hot encoding for probability calculation (adapt if necessary)\n",
        "y_test_onehot = pd.get_dummies(y_test, prefix='label_')  # Assuming 'label_' prefix for clarity\n",
        "y_pred_onehot = pd.get_dummies(y_pred, prefix='label_')\n",
        "\n",
        "# ROC AUC score with multiclass handling\n",
        "roc_auc_macro = roc_auc_score(y_test_onehot, y_pred_onehot, average='macro', multi_class='ovo')  # Specify 'ovo' or 'ovr'\n",
        "\n",
        "print(\"accuracy:\", accuracy)\n",
        "print(\"recall:\", recall)\n",
        "print(\"precision:\", precision)\n",
        "print(\"f1-score:\", f1)\n",
        "print('roc_auc: ', roc_auc_macro)"
      ],
      "metadata": {
        "id": "nKHZzWQqZocM",
        "outputId": "606ea177-093d-4a3e-bdc9-b9b054aee857",
        "execution": {
          "iopub.status.busy": "2024-02-22T16:09:42.171244Z",
          "iopub.execute_input": "2024-02-22T16:09:42.171610Z",
          "iopub.status.idle": "2024-02-22T16:09:42.491322Z",
          "shell.execute_reply.started": "2024-02-22T16:09:42.171552Z",
          "shell.execute_reply": "2024-02-22T16:09:42.489885Z"
        },
        "trusted": true
      },
      "execution_count": null,
      "outputs": [
        {
          "name": "stdout",
          "text": "accuracy: 1.0\nrecall: 1.0\nprecision: 1.0\nf1-score: 1.0\nroc_auc:  1.0\n",
          "output_type": "stream"
        },
        {
          "name": "stderr",
          "text": "/opt/conda/lib/python3.10/site-packages/sklearn/linear_model/_logistic.py:458: ConvergenceWarning: lbfgs failed to converge (status=1):\nSTOP: TOTAL NO. of ITERATIONS REACHED LIMIT.\n\nIncrease the number of iterations (max_iter) or scale the data as shown in:\n    https://scikit-learn.org/stable/modules/preprocessing.html\nPlease also refer to the documentation for alternative solver options:\n    https://scikit-learn.org/stable/modules/linear_model.html#logistic-regression\n  n_iter_i = _check_optimize_result(\n",
          "output_type": "stream"
        }
      ]
    },
    {
      "cell_type": "markdown",
      "source": [
        "**Tunning**"
      ],
      "metadata": {
        "id": "c61YEVjKZocN"
      }
    },
    {
      "cell_type": "code",
      "source": [
        "import optuna\n",
        "from sklearn.model_selection import cross_val_score\n",
        "import warnings\n",
        "warnings.filterwarnings('ignore')\n",
        "\n",
        "\n",
        "def objective(trial):\n",
        "    hyperparams = {\n",
        "        'solver': trial.suggest_categorical('solver', ['lbfgs', 'liblinear', 'newton-cg', 'saga']),\n",
        "        'penalty': trial.suggest_categorical('penalty', ['l2']),\n",
        "        'multi_class': trial.suggest_categorical('multi_class', ['ovr']),\n",
        "        'C': trial.suggest_loguniform(\"C\", 1e-3, 1e3),\n",
        "        'n_jobs': -1\n",
        "    }\n",
        "\n",
        "    model = LogisticRegression(**hyperparams)\n",
        "    scores = cross_val_score(model, X_train_reduced,\n",
        "                             y_train, cv=kf, scoring='accuracy')\n",
        "    return np.mean(scores)"
      ],
      "metadata": {
        "id": "EQWtm8n2ZocN",
        "execution": {
          "iopub.status.busy": "2024-02-22T16:09:42.493345Z",
          "iopub.execute_input": "2024-02-22T16:09:42.494623Z",
          "iopub.status.idle": "2024-02-22T16:09:42.508310Z",
          "shell.execute_reply.started": "2024-02-22T16:09:42.494550Z",
          "shell.execute_reply": "2024-02-22T16:09:42.506783Z"
        },
        "trusted": true
      },
      "execution_count": null,
      "outputs": []
    },
    {
      "cell_type": "code",
      "source": [
        "study = optuna.create_study(direction = 'maximize')\n",
        "study.optimize(objective, n_trials = 100)\n",
        "best_params = study.best_params\n",
        "print(\"Best params found :\", best_params)\n",
        "\n",
        "final_model = LogisticRegression(**best_params)\n",
        "final_model.fit(X_train_reduced, y_train)\n",
        "y_pred = final_model.predict(X_test_reduced)\n",
        "prediction_results['logistic regression'] = y_pred\n",
        "\n",
        "accuracy = accuracy_score(y_test, y_pred)\n",
        "precision = precision_score(y_test, y_pred, average='macro')\n",
        "recall = recall_score(y_test, y_pred, average='macro')\n",
        "f1 = f1_score(y_test, y_pred, average='macro')\n",
        "\n",
        "# One-hot encoding for probability calculation (adapt if necessary)\n",
        "y_test_onehot = pd.get_dummies(y_test, prefix='label_')  # Assuming 'label_' prefix for clarity\n",
        "y_pred_onehot = pd.get_dummies(y_pred, prefix='label_')\n",
        "\n",
        "# ROC AUC score with multiclass handling\n",
        "roc_auc_macro = roc_auc_score(y_test_onehot, y_pred_onehot, average='macro', multi_class='ovo')  # Specify 'ovo' or 'ovr'\n",
        "\n",
        "print(\"accuracy:\", accuracy)\n",
        "print(\"recall:\", recall)\n",
        "print(\"precision:\", precision)\n",
        "print(\"f1-score:\", f1)\n",
        "print('roc_auc: ', roc_auc_macro)"
      ],
      "metadata": {
        "id": "KelNhfypZocN",
        "outputId": "42885174-d124-4b75-b6e6-78cd03f88409",
        "execution": {
          "iopub.status.busy": "2024-02-22T16:09:42.511724Z",
          "iopub.execute_input": "2024-02-22T16:09:42.513112Z",
          "iopub.status.idle": "2024-02-22T16:22:38.679540Z",
          "shell.execute_reply.started": "2024-02-22T16:09:42.513052Z",
          "shell.execute_reply": "2024-02-22T16:22:38.678104Z"
        },
        "trusted": true
      },
      "execution_count": null,
      "outputs": [
        {
          "name": "stderr",
          "text": "[I 2024-02-22 16:09:42,526] A new study created in memory with name: no-name-81e187bf-6204-41b1-bd36-092058631c1e\n[I 2024-02-22 16:09:43,875] Trial 0 finished with value: 0.803125 and parameters: {'solver': 'saga', 'penalty': 'l2', 'multi_class': 'ovr', 'C': 48.078753852687754}. Best is trial 0 with value: 0.803125.\n[I 2024-02-22 16:09:45,222] Trial 1 finished with value: 0.803125 and parameters: {'solver': 'saga', 'penalty': 'l2', 'multi_class': 'ovr', 'C': 5.931965320756886}. Best is trial 0 with value: 0.803125.\n[I 2024-02-22 16:09:57,788] Trial 2 finished with value: 0.86875 and parameters: {'solver': 'liblinear', 'penalty': 'l2', 'multi_class': 'ovr', 'C': 0.02161250565376318}. Best is trial 2 with value: 0.86875.\n/opt/conda/lib/python3.10/site-packages/sklearn/linear_model/_logistic.py:458: ConvergenceWarning: lbfgs failed to converge (status=1):\nSTOP: TOTAL NO. of ITERATIONS REACHED LIMIT.\n\nIncrease the number of iterations (max_iter) or scale the data as shown in:\n    https://scikit-learn.org/stable/modules/preprocessing.html\nPlease also refer to the documentation for alternative solver options:\n    https://scikit-learn.org/stable/modules/linear_model.html#logistic-regression\n  n_iter_i = _check_optimize_result(\n/opt/conda/lib/python3.10/site-packages/sklearn/linear_model/_logistic.py:458: ConvergenceWarning: lbfgs failed to converge (status=1):\nSTOP: TOTAL NO. of ITERATIONS REACHED LIMIT.\n\nIncrease the number of iterations (max_iter) or scale the data as shown in:\n    https://scikit-learn.org/stable/modules/preprocessing.html\nPlease also refer to the documentation for alternative solver options:\n    https://scikit-learn.org/stable/modules/linear_model.html#logistic-regression\n  n_iter_i = _check_optimize_result(\n/opt/conda/lib/python3.10/site-packages/sklearn/linear_model/_logistic.py:458: ConvergenceWarning: lbfgs failed to converge (status=1):\nSTOP: TOTAL NO. of ITERATIONS REACHED LIMIT.\n\nIncrease the number of iterations (max_iter) or scale the data as shown in:\n    https://scikit-learn.org/stable/modules/preprocessing.html\nPlease also refer to the documentation for alternative solver options:\n    https://scikit-learn.org/stable/modules/linear_model.html#logistic-regression\n  n_iter_i = _check_optimize_result(\n/opt/conda/lib/python3.10/site-packages/sklearn/linear_model/_logistic.py:458: ConvergenceWarning: lbfgs failed to converge (status=1):\nSTOP: TOTAL NO. of ITERATIONS REACHED LIMIT.\n\nIncrease the number of iterations (max_iter) or scale the data as shown in:\n    https://scikit-learn.org/stable/modules/preprocessing.html\nPlease also refer to the documentation for alternative solver options:\n    https://scikit-learn.org/stable/modules/linear_model.html#logistic-regression\n  n_iter_i = _check_optimize_result(\n[I 2024-02-22 16:10:01,097] Trial 3 finished with value: 0.953125 and parameters: {'solver': 'lbfgs', 'penalty': 'l2', 'multi_class': 'ovr', 'C': 0.600148280697532}. Best is trial 3 with value: 0.953125.\n[I 2024-02-22 16:10:02,842] Trial 4 finished with value: 0.95625 and parameters: {'solver': 'lbfgs', 'penalty': 'l2', 'multi_class': 'ovr', 'C': 0.002611160152703293}. Best is trial 4 with value: 0.95625.\n[I 2024-02-22 16:10:04,293] Trial 5 finished with value: 0.80625 and parameters: {'solver': 'saga', 'penalty': 'l2', 'multi_class': 'ovr', 'C': 0.020816662409961634}. Best is trial 4 with value: 0.95625.\n[I 2024-02-22 16:10:05,689] Trial 6 finished with value: 0.80625 and parameters: {'solver': 'saga', 'penalty': 'l2', 'multi_class': 'ovr', 'C': 0.007159505611522254}. Best is trial 4 with value: 0.95625.\n[I 2024-02-22 16:10:07,242] Trial 7 finished with value: 0.890625 and parameters: {'solver': 'lbfgs', 'penalty': 'l2', 'multi_class': 'ovr', 'C': 234.70418362042062}. Best is trial 4 with value: 0.95625.\n[I 2024-02-22 16:10:14,120] Trial 8 finished with value: 0.809375 and parameters: {'solver': 'liblinear', 'penalty': 'l2', 'multi_class': 'ovr', 'C': 0.0013082555104958287}. Best is trial 4 with value: 0.95625.\n[I 2024-02-22 16:10:15,783] Trial 9 finished with value: 0.95 and parameters: {'solver': 'lbfgs', 'penalty': 'l2', 'multi_class': 'ovr', 'C': 60.85102749517899}. Best is trial 4 with value: 0.95625.\n[I 2024-02-22 16:10:27,935] Trial 10 finished with value: 0.95 and parameters: {'solver': 'newton-cg', 'penalty': 'l2', 'multi_class': 'ovr', 'C': 0.2566575004319343}. Best is trial 4 with value: 0.95625.\n[I 2024-02-22 16:10:29,913] Trial 11 finished with value: 0.953125 and parameters: {'solver': 'lbfgs', 'penalty': 'l2', 'multi_class': 'ovr', 'C': 0.44725408844956793}. Best is trial 4 with value: 0.95625.\n[I 2024-02-22 16:10:31,663] Trial 12 finished with value: 0.946875 and parameters: {'solver': 'lbfgs', 'penalty': 'l2', 'multi_class': 'ovr', 'C': 2.431636611075427}. Best is trial 4 with value: 0.95625.\n[I 2024-02-22 16:10:33,388] Trial 13 finished with value: 0.953125 and parameters: {'solver': 'lbfgs', 'penalty': 'l2', 'multi_class': 'ovr', 'C': 0.0011619306831173015}. Best is trial 4 with value: 0.95625.\n[I 2024-02-22 16:10:45,991] Trial 14 finished with value: 0.953125 and parameters: {'solver': 'newton-cg', 'penalty': 'l2', 'multi_class': 'ovr', 'C': 0.10726756812064055}. Best is trial 4 with value: 0.95625.\n[I 2024-02-22 16:10:47,769] Trial 15 finished with value: 0.953125 and parameters: {'solver': 'lbfgs', 'penalty': 'l2', 'multi_class': 'ovr', 'C': 5.900501317811212}. Best is trial 4 with value: 0.95625.\n[I 2024-02-22 16:10:49,592] Trial 16 finished with value: 0.95 and parameters: {'solver': 'lbfgs', 'penalty': 'l2', 'multi_class': 'ovr', 'C': 0.06847867042176747}. Best is trial 4 with value: 0.95625.\n[I 2024-02-22 16:10:51,418] Trial 17 finished with value: 0.95625 and parameters: {'solver': 'lbfgs', 'penalty': 'l2', 'multi_class': 'ovr', 'C': 0.004997715102545241}. Best is trial 4 with value: 0.95625.\n/opt/conda/lib/python3.10/site-packages/sklearn/utils/optimize.py:210: ConvergenceWarning: newton-cg failed to converge. Increase the number of iterations.\n  warnings.warn(\n/opt/conda/lib/python3.10/site-packages/sklearn/utils/optimize.py:210: ConvergenceWarning: newton-cg failed to converge. Increase the number of iterations.\n  warnings.warn(\n/opt/conda/lib/python3.10/site-packages/sklearn/utils/optimize.py:210: ConvergenceWarning: newton-cg failed to converge. Increase the number of iterations.\n  warnings.warn(\n/opt/conda/lib/python3.10/site-packages/sklearn/utils/optimize.py:210: ConvergenceWarning: newton-cg failed to converge. Increase the number of iterations.\n  warnings.warn(\n[I 2024-02-22 16:11:05,888] Trial 18 finished with value: 0.95625 and parameters: {'solver': 'newton-cg', 'penalty': 'l2', 'multi_class': 'ovr', 'C': 0.010143150344727922}. Best is trial 4 with value: 0.95625.\n[I 2024-02-22 16:11:15,054] Trial 19 finished with value: 0.8125 and parameters: {'solver': 'liblinear', 'penalty': 'l2', 'multi_class': 'ovr', 'C': 0.003677066752540042}. Best is trial 4 with value: 0.95625.\n[I 2024-02-22 16:11:16,828] Trial 20 finished with value: 0.953125 and parameters: {'solver': 'lbfgs', 'penalty': 'l2', 'multi_class': 'ovr', 'C': 0.08778006291074693}. Best is trial 4 with value: 0.95625.\n[I 2024-02-22 16:11:30,978] Trial 21 finished with value: 0.95625 and parameters: {'solver': 'newton-cg', 'penalty': 'l2', 'multi_class': 'ovr', 'C': 0.005996551037671471}. Best is trial 4 with value: 0.95625.\n[I 2024-02-22 16:11:45,088] Trial 22 finished with value: 0.953125 and parameters: {'solver': 'newton-cg', 'penalty': 'l2', 'multi_class': 'ovr', 'C': 0.02395871910659524}. Best is trial 4 with value: 0.95625.\n[I 2024-02-22 16:11:59,138] Trial 23 finished with value: 0.95625 and parameters: {'solver': 'newton-cg', 'penalty': 'l2', 'multi_class': 'ovr', 'C': 0.004429883682510531}. Best is trial 4 with value: 0.95625.\n[I 2024-02-22 16:12:13,418] Trial 24 finished with value: 0.95625 and parameters: {'solver': 'newton-cg', 'penalty': 'l2', 'multi_class': 'ovr', 'C': 0.0016712234870815}. Best is trial 4 with value: 0.95625.\n[I 2024-02-22 16:12:15,209] Trial 25 finished with value: 0.95625 and parameters: {'solver': 'lbfgs', 'penalty': 'l2', 'multi_class': 'ovr', 'C': 0.011514431438911038}. Best is trial 4 with value: 0.95625.\n[I 2024-02-22 16:12:28,410] Trial 26 finished with value: 0.95625 and parameters: {'solver': 'newton-cg', 'penalty': 'l2', 'multi_class': 'ovr', 'C': 0.039055794869002076}. Best is trial 4 with value: 0.95625.\n[I 2024-02-22 16:12:37,335] Trial 27 finished with value: 0.8125 and parameters: {'solver': 'liblinear', 'penalty': 'l2', 'multi_class': 'ovr', 'C': 0.0032062242183409587}. Best is trial 4 with value: 0.95625.\n[I 2024-02-22 16:12:39,103] Trial 28 finished with value: 0.95625 and parameters: {'solver': 'lbfgs', 'penalty': 'l2', 'multi_class': 'ovr', 'C': 0.20636994206429254}. Best is trial 4 with value: 0.95625.\n[I 2024-02-22 16:12:40,418] Trial 29 finished with value: 0.803125 and parameters: {'solver': 'saga', 'penalty': 'l2', 'multi_class': 'ovr', 'C': 0.012213419697644824}. Best is trial 4 with value: 0.95625.\n[I 2024-02-22 16:12:54,229] Trial 30 finished with value: 0.953125 and parameters: {'solver': 'newton-cg', 'penalty': 'l2', 'multi_class': 'ovr', 'C': 0.0010173554097337438}. Best is trial 4 with value: 0.95625.\n[I 2024-02-22 16:13:08,096] Trial 31 finished with value: 0.95625 and parameters: {'solver': 'newton-cg', 'penalty': 'l2', 'multi_class': 'ovr', 'C': 0.006377009490582717}. Best is trial 4 with value: 0.95625.\n[I 2024-02-22 16:13:21,860] Trial 32 finished with value: 0.95625 and parameters: {'solver': 'newton-cg', 'penalty': 'l2', 'multi_class': 'ovr', 'C': 0.004290013879671416}. Best is trial 4 with value: 0.95625.\n[I 2024-02-22 16:13:34,627] Trial 33 finished with value: 0.953125 and parameters: {'solver': 'newton-cg', 'penalty': 'l2', 'multi_class': 'ovr', 'C': 0.03653145900937305}. Best is trial 4 with value: 0.95625.\n[I 2024-02-22 16:13:48,506] Trial 34 finished with value: 0.95625 and parameters: {'solver': 'newton-cg', 'penalty': 'l2', 'multi_class': 'ovr', 'C': 0.012309645882504298}. Best is trial 4 with value: 0.95625.\n[I 2024-02-22 16:13:49,816] Trial 35 finished with value: 0.80625 and parameters: {'solver': 'saga', 'penalty': 'l2', 'multi_class': 'ovr', 'C': 0.002299296433005877}. Best is trial 4 with value: 0.95625.\n[I 2024-02-22 16:13:51,155] Trial 36 finished with value: 0.8375 and parameters: {'solver': 'lbfgs', 'penalty': 'l2', 'multi_class': 'ovr', 'C': 893.6171512402123}. Best is trial 4 with value: 0.95625.\n[I 2024-02-22 16:14:02,414] Trial 37 finished with value: 0.840625 and parameters: {'solver': 'liblinear', 'penalty': 'l2', 'multi_class': 'ovr', 'C': 0.010374700253898689}. Best is trial 4 with value: 0.95625.\n[I 2024-02-22 16:14:03,728] Trial 38 finished with value: 0.803125 and parameters: {'solver': 'saga', 'penalty': 'l2', 'multi_class': 'ovr', 'C': 1.2332684306202513}. Best is trial 4 with value: 0.95625.\n[I 2024-02-22 16:14:05,465] Trial 39 finished with value: 0.953125 and parameters: {'solver': 'lbfgs', 'penalty': 'l2', 'multi_class': 'ovr', 'C': 0.002475854046468595}. Best is trial 4 with value: 0.95625.\n[I 2024-02-22 16:14:19,022] Trial 40 finished with value: 0.95625 and parameters: {'solver': 'newton-cg', 'penalty': 'l2', 'multi_class': 'ovr', 'C': 0.021682895813281682}. Best is trial 4 with value: 0.95625.\n[I 2024-02-22 16:14:32,544] Trial 41 finished with value: 0.95625 and parameters: {'solver': 'newton-cg', 'penalty': 'l2', 'multi_class': 'ovr', 'C': 0.006682652233297679}. Best is trial 4 with value: 0.95625.\n[I 2024-02-22 16:14:46,459] Trial 42 finished with value: 0.95625 and parameters: {'solver': 'newton-cg', 'penalty': 'l2', 'multi_class': 'ovr', 'C': 0.00419586693712034}. Best is trial 4 with value: 0.95625.\n[I 2024-02-22 16:14:59,514] Trial 43 finished with value: 0.95 and parameters: {'solver': 'newton-cg', 'penalty': 'l2', 'multi_class': 'ovr', 'C': 0.04844766884355154}. Best is trial 4 with value: 0.95625.\n[I 2024-02-22 16:15:09,646] Trial 44 finished with value: 0.921875 and parameters: {'solver': 'newton-cg', 'penalty': 'l2', 'multi_class': 'ovr', 'C': 27.78674597559461}. Best is trial 4 with value: 0.95625.\n[I 2024-02-22 16:15:11,362] Trial 45 finished with value: 0.953125 and parameters: {'solver': 'lbfgs', 'penalty': 'l2', 'multi_class': 'ovr', 'C': 0.006206997781251492}. Best is trial 4 with value: 0.95625.\n[I 2024-02-22 16:15:25,758] Trial 46 finished with value: 0.95625 and parameters: {'solver': 'newton-cg', 'penalty': 'l2', 'multi_class': 'ovr', 'C': 0.0020058014971990825}. Best is trial 4 with value: 0.95625.\n[I 2024-02-22 16:15:27,533] Trial 47 finished with value: 0.95 and parameters: {'solver': 'lbfgs', 'penalty': 'l2', 'multi_class': 'ovr', 'C': 0.14779950244478543}. Best is trial 4 with value: 0.95625.\n[I 2024-02-22 16:15:39,953] Trial 48 finished with value: 0.865625 and parameters: {'solver': 'liblinear', 'penalty': 'l2', 'multi_class': 'ovr', 'C': 0.018801026494355923}. Best is trial 4 with value: 0.95625.\n[I 2024-02-22 16:15:41,250] Trial 49 finished with value: 0.80625 and parameters: {'solver': 'saga', 'penalty': 'l2', 'multi_class': 'ovr', 'C': 0.0015704816878808142}. Best is trial 4 with value: 0.95625.\n[I 2024-02-22 16:15:43,011] Trial 50 finished with value: 0.95625 and parameters: {'solver': 'lbfgs', 'penalty': 'l2', 'multi_class': 'ovr', 'C': 0.0077312592586114975}. Best is trial 4 with value: 0.95625.\n[I 2024-02-22 16:15:57,952] Trial 51 finished with value: 0.95625 and parameters: {'solver': 'newton-cg', 'penalty': 'l2', 'multi_class': 'ovr', 'C': 0.0016095186344586595}. Best is trial 4 with value: 0.95625.\n[I 2024-02-22 16:16:11,860] Trial 52 finished with value: 0.95625 and parameters: {'solver': 'newton-cg', 'penalty': 'l2', 'multi_class': 'ovr', 'C': 0.001065440350140169}. Best is trial 4 with value: 0.95625.\n[I 2024-02-22 16:16:26,841] Trial 53 finished with value: 0.95625 and parameters: {'solver': 'newton-cg', 'penalty': 'l2', 'multi_class': 'ovr', 'C': 0.0033580849429010705}. Best is trial 4 with value: 0.95625.\n[I 2024-02-22 16:16:41,055] Trial 54 finished with value: 0.95625 and parameters: {'solver': 'newton-cg', 'penalty': 'l2', 'multi_class': 'ovr', 'C': 0.004652330247630382}. Best is trial 4 with value: 0.95625.\n[I 2024-02-22 16:16:54,895] Trial 55 finished with value: 0.953125 and parameters: {'solver': 'newton-cg', 'penalty': 'l2', 'multi_class': 'ovr', 'C': 0.01900599300038983}. Best is trial 4 with value: 0.95625.\n[I 2024-02-22 16:16:56,957] Trial 56 finished with value: 0.953125 and parameters: {'solver': 'lbfgs', 'penalty': 'l2', 'multi_class': 'ovr', 'C': 0.0018161859400172456}. Best is trial 4 with value: 0.95625.\n[I 2024-02-22 16:17:11,019] Trial 57 finished with value: 0.95625 and parameters: {'solver': 'newton-cg', 'penalty': 'l2', 'multi_class': 'ovr', 'C': 0.011568427765159395}. Best is trial 4 with value: 0.95625.\n[I 2024-02-22 16:17:12,812] Trial 58 finished with value: 0.953125 and parameters: {'solver': 'lbfgs', 'penalty': 'l2', 'multi_class': 'ovr', 'C': 0.003127214042365249}. Best is trial 4 with value: 0.95625.\n[I 2024-02-22 16:17:26,115] Trial 59 finished with value: 0.871875 and parameters: {'solver': 'liblinear', 'penalty': 'l2', 'multi_class': 'ovr', 'C': 0.03278975109787775}. Best is trial 4 with value: 0.95625.\n[I 2024-02-22 16:17:37,244] Trial 60 finished with value: 0.934375 and parameters: {'solver': 'newton-cg', 'penalty': 'l2', 'multi_class': 'ovr', 'C': 10.837326082619324}. Best is trial 4 with value: 0.95625.\n[I 2024-02-22 16:17:39,013] Trial 61 finished with value: 0.953125 and parameters: {'solver': 'lbfgs', 'penalty': 'l2', 'multi_class': 'ovr', 'C': 0.06381115901817223}. Best is trial 4 with value: 0.95625.\n[I 2024-02-22 16:17:40,813] Trial 62 finished with value: 0.95625 and parameters: {'solver': 'lbfgs', 'penalty': 'l2', 'multi_class': 'ovr', 'C': 0.007868842484389843}. Best is trial 4 with value: 0.95625.\n[I 2024-02-22 16:17:42,614] Trial 63 finished with value: 0.953125 and parameters: {'solver': 'lbfgs', 'penalty': 'l2', 'multi_class': 'ovr', 'C': 0.014069936687051237}. Best is trial 4 with value: 0.95625.\n[I 2024-02-22 16:17:44,513] Trial 64 finished with value: 0.953125 and parameters: {'solver': 'lbfgs', 'penalty': 'l2', 'multi_class': 'ovr', 'C': 0.004329761395600383}. Best is trial 4 with value: 0.95625.\n[I 2024-02-22 16:17:46,312] Trial 65 finished with value: 0.95625 and parameters: {'solver': 'lbfgs', 'penalty': 'l2', 'multi_class': 'ovr', 'C': 0.0023486231635363873}. Best is trial 4 with value: 0.95625.\n[I 2024-02-22 16:17:58,161] Trial 66 finished with value: 0.946875 and parameters: {'solver': 'newton-cg', 'penalty': 'l2', 'multi_class': 'ovr', 'C': 0.4659402145792069}. Best is trial 4 with value: 0.95625.\n[I 2024-02-22 16:17:59,478] Trial 67 finished with value: 0.80625 and parameters: {'solver': 'saga', 'penalty': 'l2', 'multi_class': 'ovr', 'C': 0.009694520395888025}. Best is trial 4 with value: 0.95625.\n[I 2024-02-22 16:18:01,464] Trial 68 finished with value: 0.953125 and parameters: {'solver': 'lbfgs', 'penalty': 'l2', 'multi_class': 'ovr', 'C': 0.028200371621183426}. Best is trial 4 with value: 0.95625.\n[I 2024-02-22 16:18:15,796] Trial 69 finished with value: 0.95625 and parameters: {'solver': 'newton-cg', 'penalty': 'l2', 'multi_class': 'ovr', 'C': 0.006169172116726084}. Best is trial 4 with value: 0.95625.\n[I 2024-02-22 16:18:29,440] Trial 70 finished with value: 0.953125 and parameters: {'solver': 'newton-cg', 'penalty': 'l2', 'multi_class': 'ovr', 'C': 0.0010857571867611633}. Best is trial 4 with value: 0.95625.\n[I 2024-02-22 16:18:43,800] Trial 71 finished with value: 0.95625 and parameters: {'solver': 'newton-cg', 'penalty': 'l2', 'multi_class': 'ovr', 'C': 0.015575489206025351}. Best is trial 4 with value: 0.95625.\n[I 2024-02-22 16:18:57,992] Trial 72 finished with value: 0.95625 and parameters: {'solver': 'newton-cg', 'penalty': 'l2', 'multi_class': 'ovr', 'C': 0.0028204832152303365}. Best is trial 4 with value: 0.95625.\n[I 2024-02-22 16:19:12,493] Trial 73 finished with value: 0.95625 and parameters: {'solver': 'newton-cg', 'penalty': 'l2', 'multi_class': 'ovr', 'C': 0.0048788551147011285}. Best is trial 4 with value: 0.95625.\n[I 2024-02-22 16:19:26,083] Trial 74 finished with value: 0.953125 and parameters: {'solver': 'newton-cg', 'penalty': 'l2', 'multi_class': 'ovr', 'C': 0.03711773637462743}. Best is trial 4 with value: 0.95625.\n[I 2024-02-22 16:19:36,833] Trial 75 finished with value: 0.8375 and parameters: {'solver': 'liblinear', 'penalty': 'l2', 'multi_class': 'ovr', 'C': 0.007758048331465908}. Best is trial 4 with value: 0.95625.\n[I 2024-02-22 16:19:38,739] Trial 76 finished with value: 0.95625 and parameters: {'solver': 'lbfgs', 'penalty': 'l2', 'multi_class': 'ovr', 'C': 0.053594383908715446}. Best is trial 4 with value: 0.95625.\n[I 2024-02-22 16:19:51,568] Trial 77 finished with value: 0.95 and parameters: {'solver': 'newton-cg', 'penalty': 'l2', 'multi_class': 'ovr', 'C': 0.08990380287470201}. Best is trial 4 with value: 0.95625.\n[I 2024-02-22 16:20:05,526] Trial 78 finished with value: 0.95625 and parameters: {'solver': 'newton-cg', 'penalty': 'l2', 'multi_class': 'ovr', 'C': 0.001421313430533}. Best is trial 4 with value: 0.95625.\n[I 2024-02-22 16:20:07,294] Trial 79 finished with value: 0.946875 and parameters: {'solver': 'lbfgs', 'penalty': 'l2', 'multi_class': 'ovr', 'C': 0.9275345186602735}. Best is trial 4 with value: 0.95625.\n[I 2024-02-22 16:20:08,666] Trial 80 finished with value: 0.80625 and parameters: {'solver': 'saga', 'penalty': 'l2', 'multi_class': 'ovr', 'C': 0.0023556185799964158}. Best is trial 4 with value: 0.95625.\n[I 2024-02-22 16:20:10,400] Trial 81 finished with value: 0.953125 and parameters: {'solver': 'lbfgs', 'penalty': 'l2', 'multi_class': 'ovr', 'C': 0.20847601749794764}. Best is trial 4 with value: 0.95625.\n[I 2024-02-22 16:20:12,652] Trial 82 finished with value: 0.946875 and parameters: {'solver': 'lbfgs', 'penalty': 'l2', 'multi_class': 'ovr', 'C': 2.2664832482270674}. Best is trial 4 with value: 0.95625.\n[I 2024-02-22 16:20:14,531] Trial 83 finished with value: 0.953125 and parameters: {'solver': 'lbfgs', 'penalty': 'l2', 'multi_class': 'ovr', 'C': 0.11470858734771096}. Best is trial 4 with value: 0.95625.\n[I 2024-02-22 16:20:16,283] Trial 84 finished with value: 0.95 and parameters: {'solver': 'lbfgs', 'penalty': 'l2', 'multi_class': 'ovr', 'C': 0.29874850612486203}. Best is trial 4 with value: 0.95625.\n[I 2024-02-22 16:20:30,313] Trial 85 finished with value: 0.95625 and parameters: {'solver': 'newton-cg', 'penalty': 'l2', 'multi_class': 'ovr', 'C': 0.005332368737805109}. Best is trial 4 with value: 0.95625.\n[I 2024-02-22 16:20:31,981] Trial 86 finished with value: 0.95625 and parameters: {'solver': 'lbfgs', 'penalty': 'l2', 'multi_class': 'ovr', 'C': 0.009508648996423142}. Best is trial 4 with value: 0.95625.\n[I 2024-02-22 16:20:45,879] Trial 87 finished with value: 0.953125 and parameters: {'solver': 'newton-cg', 'penalty': 'l2', 'multi_class': 'ovr', 'C': 0.02390974628656136}. Best is trial 4 with value: 0.95625.\n[I 2024-02-22 16:20:59,285] Trial 88 finished with value: 0.95625 and parameters: {'solver': 'newton-cg', 'penalty': 'l2', 'multi_class': 'ovr', 'C': 0.01594176928922599}. Best is trial 4 with value: 0.95625.\n[I 2024-02-22 16:21:01,024] Trial 89 finished with value: 0.95625 and parameters: {'solver': 'lbfgs', 'penalty': 'l2', 'multi_class': 'ovr', 'C': 0.04191833756674921}. Best is trial 4 with value: 0.95625.\n[I 2024-02-22 16:21:08,784] Trial 90 finished with value: 0.809375 and parameters: {'solver': 'liblinear', 'penalty': 'l2', 'multi_class': 'ovr', 'C': 0.001976426609990046}. Best is trial 4 with value: 0.95625.\n[I 2024-02-22 16:21:23,123] Trial 91 finished with value: 0.95625 and parameters: {'solver': 'newton-cg', 'penalty': 'l2', 'multi_class': 'ovr', 'C': 0.0034287839866103237}. Best is trial 4 with value: 0.95625.\n[I 2024-02-22 16:21:36,779] Trial 92 finished with value: 0.95625 and parameters: {'solver': 'newton-cg', 'penalty': 'l2', 'multi_class': 'ovr', 'C': 0.00626122189912153}. Best is trial 4 with value: 0.95625.\n[I 2024-02-22 16:21:50,780] Trial 93 finished with value: 0.95625 and parameters: {'solver': 'newton-cg', 'penalty': 'l2', 'multi_class': 'ovr', 'C': 0.011278103017388219}. Best is trial 4 with value: 0.95625.\n[I 2024-02-22 16:22:04,699] Trial 94 finished with value: 0.95625 and parameters: {'solver': 'newton-cg', 'penalty': 'l2', 'multi_class': 'ovr', 'C': 0.004082335747288043}. Best is trial 4 with value: 0.95625.\n[I 2024-02-22 16:22:18,292] Trial 95 finished with value: 0.95625 and parameters: {'solver': 'newton-cg', 'penalty': 'l2', 'multi_class': 'ovr', 'C': 0.008250474988046578}. Best is trial 4 with value: 0.95625.\n[I 2024-02-22 16:22:20,001] Trial 96 finished with value: 0.953125 and parameters: {'solver': 'lbfgs', 'penalty': 'l2', 'multi_class': 'ovr', 'C': 0.002761339765409182}. Best is trial 4 with value: 0.95625.\n[I 2024-02-22 16:22:33,926] Trial 97 finished with value: 0.953125 and parameters: {'solver': 'newton-cg', 'penalty': 'l2', 'multi_class': 'ovr', 'C': 0.01924728198222936}. Best is trial 4 with value: 0.95625.\n[I 2024-02-22 16:22:35,236] Trial 98 finished with value: 0.80625 and parameters: {'solver': 'saga', 'penalty': 'l2', 'multi_class': 'ovr', 'C': 0.0013876165287534101}. Best is trial 4 with value: 0.95625.\n[I 2024-02-22 16:22:36,924] Trial 99 finished with value: 0.953125 and parameters: {'solver': 'lbfgs', 'penalty': 'l2', 'multi_class': 'ovr', 'C': 0.005475953835246892}. Best is trial 4 with value: 0.95625.\n",
          "output_type": "stream"
        },
        {
          "name": "stdout",
          "text": "Best params found : {'solver': 'lbfgs', 'penalty': 'l2', 'multi_class': 'ovr', 'C': 0.002611160152703293}\naccuracy: 1.0\nrecall: 1.0\nprecision: 1.0\nf1-score: 1.0\nroc_auc:  1.0\n",
          "output_type": "stream"
        }
      ]
    },
    {
      "cell_type": "code",
      "source": [
        "# lr = LogisticRegression(multi_class='ovr', solver='liblinear')\n",
        "# lr.fit(X_train_reduced, y_train)\n",
        "# y_pred = lr.predict(X_test_reduced)"
      ],
      "metadata": {
        "id": "2t51_KgGZocN",
        "execution": {
          "iopub.status.busy": "2024-02-22T16:22:38.681795Z",
          "iopub.execute_input": "2024-02-22T16:22:38.683064Z",
          "iopub.status.idle": "2024-02-22T16:22:38.690669Z",
          "shell.execute_reply.started": "2024-02-22T16:22:38.682998Z",
          "shell.execute_reply": "2024-02-22T16:22:38.688985Z"
        },
        "trusted": true
      },
      "execution_count": null,
      "outputs": []
    },
    {
      "cell_type": "markdown",
      "source": [
        "## KNN Classifier"
      ],
      "metadata": {
        "id": "9_gA1pBMZocO"
      }
    },
    {
      "cell_type": "markdown",
      "source": [
        "**Normal**"
      ],
      "metadata": {
        "id": "Yl3S4775ZocO"
      }
    },
    {
      "cell_type": "code",
      "source": [
        "from sklearn.neighbors import KNeighborsClassifier\n",
        "\n",
        "knn = KNeighborsClassifier()\n",
        "knn.fit(X_train_reduced, y_train)\n",
        "y_pred = knn.predict(X_test_reduced)\n",
        "\n",
        "accuracy = accuracy_score(y_test, y_pred)\n",
        "precision = precision_score(y_test, y_pred, average='macro')\n",
        "recall = recall_score(y_test, y_pred, average='macro')\n",
        "f1 = f1_score(y_test, y_pred, average='macro')\n",
        "\n",
        "# One-hot encoding for probability calculation (adapt if necessary)\n",
        "y_test_onehot = pd.get_dummies(y_test, prefix='label_')  # Assuming 'label_' prefix for clarity\n",
        "y_pred_onehot = pd.get_dummies(y_pred, prefix='label_')\n",
        "\n",
        "# ROC AUC score with multiclass handling\n",
        "roc_auc_macro = roc_auc_score(y_test_onehot, y_pred_onehot, average='macro', multi_class='ovo')  # Specify 'ovo' or 'ovr'\n",
        "\n",
        "print(\"accuracy:\", accuracy)\n",
        "print(\"recall:\", recall)\n",
        "print(\"precision:\", precision)\n",
        "print(\"f1-score:\", f1)\n",
        "print('roc_auc: ', roc_auc_macro)\n"
      ],
      "metadata": {
        "id": "_wV-8qM7ZocO",
        "outputId": "5bceb54a-770b-4ce5-d761-d813e35fe0a2",
        "execution": {
          "iopub.status.busy": "2024-02-22T16:22:38.693127Z",
          "iopub.execute_input": "2024-02-22T16:22:38.693967Z",
          "iopub.status.idle": "2024-02-22T16:22:38.929792Z",
          "shell.execute_reply.started": "2024-02-22T16:22:38.693909Z",
          "shell.execute_reply": "2024-02-22T16:22:38.927238Z"
        },
        "trusted": true
      },
      "execution_count": null,
      "outputs": [
        {
          "name": "stdout",
          "text": "accuracy: 0.9125\nrecall: 0.9375\nprecision: 0.9143518518518517\nf1-score: 0.9068783068783068\nroc_auc:  0.5771545864579081\n",
          "output_type": "stream"
        }
      ]
    },
    {
      "cell_type": "markdown",
      "source": [
        "**Tunning**"
      ],
      "metadata": {
        "id": "YeLOq21CZocO"
      }
    },
    {
      "cell_type": "code",
      "source": [
        "import optuna\n",
        "from sklearn.model_selection import cross_val_score\n",
        "import warnings\n",
        "warnings.filterwarnings('ignore')\n",
        "\n",
        "\n",
        "def objective(trial):\n",
        "    hyperparams = {\n",
        "        'n_neighbors': trial.suggest_int(\"n_neighbors\", 5, 100),\n",
        "        'weights': trial.suggest_categorical(\"weights\", [\"uniform\", \"distance\"]),\n",
        "        'metric': trial.suggest_categorical(\"metric\", [\"euclidean\", \"manhattan\", \"minkowski\"]),\n",
        "        'algorithm': trial.suggest_categorical('algorithm', ['auto', 'ball_tree', 'kd_tree', 'brute']),\n",
        "        'n_jobs': -1\n",
        "    }\n",
        "\n",
        "    # Create KNN model with tuned hyperparameters\n",
        "    model = KNeighborsClassifier(**hyperparams)\n",
        "    scores = cross_val_score(model, X_train_reduced,\n",
        "                             y_train, cv=kf, scoring='accuracy')\n",
        "    return np.mean(scores)"
      ],
      "metadata": {
        "id": "ql-aCf6rZocU",
        "execution": {
          "iopub.status.busy": "2024-02-22T16:22:38.931306Z",
          "iopub.execute_input": "2024-02-22T16:22:38.931680Z",
          "iopub.status.idle": "2024-02-22T16:22:38.940991Z",
          "shell.execute_reply.started": "2024-02-22T16:22:38.931635Z",
          "shell.execute_reply": "2024-02-22T16:22:38.939605Z"
        },
        "trusted": true
      },
      "execution_count": null,
      "outputs": []
    },
    {
      "cell_type": "code",
      "source": [
        "study = optuna.create_study(direction = 'maximize')\n",
        "study.optimize(objective, n_trials = 100)\n",
        "best_params = study.best_params\n",
        "print(\"Best params found :\", best_params)\n",
        "\n",
        "final_model =KNeighborsClassifier(**best_params)\n",
        "final_model.fit(X_train_reduced, y_train)\n",
        "y_pred = final_model.predict(X_test_reduced)\n",
        "prediction_results['KNN'] = y_pred\n",
        "\n",
        "accuracy = accuracy_score(y_test, y_pred)\n",
        "precision = precision_score(y_test, y_pred, average='macro')\n",
        "recall = recall_score(y_test, y_pred, average='macro')\n",
        "f1 = f1_score(y_test, y_pred, average='macro')\n",
        "\n",
        "# One-hot encoding for probability calculation (adapt if necessary)\n",
        "y_test_onehot = pd.get_dummies(y_test, prefix='label_')  # Assuming 'label_' prefix for clarity\n",
        "y_pred_onehot = pd.get_dummies(y_pred, prefix='label_')\n",
        "\n",
        "# ROC AUC score with multiclass handling\n",
        "roc_auc_macro = roc_auc_score(y_test_onehot, y_pred_onehot, average='macro', multi_class='ovo')  # Specify 'ovo' or 'ovr'\n",
        "\n",
        "print(\"accuracy:\", accuracy)\n",
        "print(\"recall:\", recall)\n",
        "print(\"precision:\", precision)\n",
        "print(\"f1-score:\", f1)\n",
        "print('roc_auc: ', roc_auc_macro)"
      ],
      "metadata": {
        "id": "THw9wvsOZocU",
        "outputId": "17e300b9-2cff-4e5a-a415-7607e75a15c8",
        "execution": {
          "iopub.status.busy": "2024-02-22T16:22:38.942599Z",
          "iopub.execute_input": "2024-02-22T16:22:38.943772Z",
          "iopub.status.idle": "2024-02-22T16:22:49.523165Z",
          "shell.execute_reply.started": "2024-02-22T16:22:38.943726Z",
          "shell.execute_reply": "2024-02-22T16:22:49.521712Z"
        },
        "trusted": true
      },
      "execution_count": null,
      "outputs": [
        {
          "name": "stderr",
          "text": "[I 2024-02-22 16:22:38,952] A new study created in memory with name: no-name-272d9c20-27b7-4e19-86a9-b3c7033623fa\n[I 2024-02-22 16:22:38,994] Trial 0 finished with value: 0.684375 and parameters: {'n_neighbors': 21, 'weights': 'distance', 'metric': 'manhattan', 'algorithm': 'auto'}. Best is trial 0 with value: 0.684375.\n[I 2024-02-22 16:22:39,123] Trial 1 finished with value: 0.46875 and parameters: {'n_neighbors': 20, 'weights': 'uniform', 'metric': 'minkowski', 'algorithm': 'kd_tree'}. Best is trial 0 with value: 0.684375.\n[I 2024-02-22 16:22:39,176] Trial 2 finished with value: 0.31875 and parameters: {'n_neighbors': 34, 'weights': 'uniform', 'metric': 'euclidean', 'algorithm': 'auto'}. Best is trial 0 with value: 0.684375.\n[I 2024-02-22 16:22:39,218] Trial 3 finished with value: 0.59375 and parameters: {'n_neighbors': 73, 'weights': 'distance', 'metric': 'euclidean', 'algorithm': 'auto'}. Best is trial 0 with value: 0.684375.\n[I 2024-02-22 16:22:39,341] Trial 4 finished with value: 0.796875 and parameters: {'n_neighbors': 5, 'weights': 'uniform', 'metric': 'minkowski', 'algorithm': 'kd_tree'}. Best is trial 4 with value: 0.796875.\n[I 2024-02-22 16:22:39,448] Trial 5 finished with value: 0.728125 and parameters: {'n_neighbors': 15, 'weights': 'distance', 'metric': 'minkowski', 'algorithm': 'kd_tree'}. Best is trial 4 with value: 0.796875.\n[I 2024-02-22 16:22:39,516] Trial 6 finished with value: 0.478125 and parameters: {'n_neighbors': 23, 'weights': 'uniform', 'metric': 'manhattan', 'algorithm': 'auto'}. Best is trial 4 with value: 0.796875.\n[I 2024-02-22 16:22:39,575] Trial 7 finished with value: 0.159375 and parameters: {'n_neighbors': 49, 'weights': 'uniform', 'metric': 'euclidean', 'algorithm': 'auto'}. Best is trial 4 with value: 0.796875.\n[I 2024-02-22 16:22:39,629] Trial 8 finished with value: 0.653125 and parameters: {'n_neighbors': 9, 'weights': 'uniform', 'metric': 'minkowski', 'algorithm': 'auto'}. Best is trial 4 with value: 0.796875.\n[I 2024-02-22 16:22:39,754] Trial 9 finished with value: 0.25625 and parameters: {'n_neighbors': 45, 'weights': 'uniform', 'metric': 'manhattan', 'algorithm': 'kd_tree'}. Best is trial 4 with value: 0.796875.\n[I 2024-02-22 16:22:39,815] Trial 10 finished with value: 0.571875 and parameters: {'n_neighbors': 99, 'weights': 'distance', 'metric': 'minkowski', 'algorithm': 'brute'}. Best is trial 4 with value: 0.796875.\n[I 2024-02-22 16:22:39,932] Trial 11 finished with value: 0.825 and parameters: {'n_neighbors': 6, 'weights': 'distance', 'metric': 'minkowski', 'algorithm': 'kd_tree'}. Best is trial 11 with value: 0.825.\n[I 2024-02-22 16:22:40,046] Trial 12 finished with value: 0.825 and parameters: {'n_neighbors': 6, 'weights': 'distance', 'metric': 'minkowski', 'algorithm': 'ball_tree'}. Best is trial 11 with value: 0.825.\n[I 2024-02-22 16:22:40,160] Trial 13 finished with value: 0.596875 and parameters: {'n_neighbors': 67, 'weights': 'distance', 'metric': 'minkowski', 'algorithm': 'ball_tree'}. Best is trial 11 with value: 0.825.\n[I 2024-02-22 16:22:40,272] Trial 14 finished with value: 0.64375 and parameters: {'n_neighbors': 33, 'weights': 'distance', 'metric': 'minkowski', 'algorithm': 'ball_tree'}. Best is trial 11 with value: 0.825.\n[I 2024-02-22 16:22:40,387] Trial 15 finished with value: 0.64375 and parameters: {'n_neighbors': 32, 'weights': 'distance', 'metric': 'minkowski', 'algorithm': 'ball_tree'}. Best is trial 11 with value: 0.825.\n[I 2024-02-22 16:22:40,441] Trial 16 finished with value: 0.6125 and parameters: {'n_neighbors': 63, 'weights': 'distance', 'metric': 'minkowski', 'algorithm': 'brute'}. Best is trial 11 with value: 0.825.\n[I 2024-02-22 16:22:40,570] Trial 17 finished with value: 0.575 and parameters: {'n_neighbors': 89, 'weights': 'distance', 'metric': 'minkowski', 'algorithm': 'ball_tree'}. Best is trial 11 with value: 0.825.\n[I 2024-02-22 16:22:40,685] Trial 18 finished with value: 0.85625 and parameters: {'n_neighbors': 5, 'weights': 'distance', 'metric': 'manhattan', 'algorithm': 'ball_tree'}. Best is trial 18 with value: 0.85625.\n[I 2024-02-22 16:22:40,803] Trial 19 finished with value: 0.66875 and parameters: {'n_neighbors': 30, 'weights': 'distance', 'metric': 'manhattan', 'algorithm': 'kd_tree'}. Best is trial 18 with value: 0.85625.\n[I 2024-02-22 16:22:40,862] Trial 20 finished with value: 0.61875 and parameters: {'n_neighbors': 42, 'weights': 'distance', 'metric': 'manhattan', 'algorithm': 'brute'}. Best is trial 18 with value: 0.85625.\n[I 2024-02-22 16:22:40,979] Trial 21 finished with value: 0.83125 and parameters: {'n_neighbors': 6, 'weights': 'distance', 'metric': 'manhattan', 'algorithm': 'ball_tree'}. Best is trial 18 with value: 0.85625.\n[I 2024-02-22 16:22:41,098] Trial 22 finished with value: 0.7625 and parameters: {'n_neighbors': 12, 'weights': 'distance', 'metric': 'manhattan', 'algorithm': 'ball_tree'}. Best is trial 18 with value: 0.85625.\n[I 2024-02-22 16:22:41,213] Trial 23 finished with value: 0.725 and parameters: {'n_neighbors': 16, 'weights': 'distance', 'metric': 'manhattan', 'algorithm': 'ball_tree'}. Best is trial 18 with value: 0.85625.\n[I 2024-02-22 16:22:41,326] Trial 24 finished with value: 0.6625 and parameters: {'n_neighbors': 27, 'weights': 'distance', 'metric': 'manhattan', 'algorithm': 'ball_tree'}. Best is trial 18 with value: 0.85625.\n[I 2024-02-22 16:22:41,444] Trial 25 finished with value: 0.85625 and parameters: {'n_neighbors': 5, 'weights': 'distance', 'metric': 'manhattan', 'algorithm': 'kd_tree'}. Best is trial 18 with value: 0.85625.\n[I 2024-02-22 16:22:41,555] Trial 26 finished with value: 0.73125 and parameters: {'n_neighbors': 15, 'weights': 'distance', 'metric': 'manhattan', 'algorithm': 'ball_tree'}. Best is trial 18 with value: 0.85625.\n[I 2024-02-22 16:22:41,670] Trial 27 finished with value: 0.575 and parameters: {'n_neighbors': 57, 'weights': 'distance', 'metric': 'manhattan', 'algorithm': 'ball_tree'}. Best is trial 18 with value: 0.85625.\n[I 2024-02-22 16:22:41,789] Trial 28 finished with value: 0.634375 and parameters: {'n_neighbors': 38, 'weights': 'distance', 'metric': 'manhattan', 'algorithm': 'kd_tree'}. Best is trial 18 with value: 0.85625.\n[I 2024-02-22 16:22:41,849] Trial 29 finished with value: 0.684375 and parameters: {'n_neighbors': 21, 'weights': 'distance', 'metric': 'manhattan', 'algorithm': 'brute'}. Best is trial 18 with value: 0.85625.\n[I 2024-02-22 16:22:41,970] Trial 30 finished with value: 0.66875 and parameters: {'n_neighbors': 25, 'weights': 'distance', 'metric': 'manhattan', 'algorithm': 'ball_tree'}. Best is trial 18 with value: 0.85625.\n[I 2024-02-22 16:22:42,087] Trial 31 finished with value: 0.85625 and parameters: {'n_neighbors': 5, 'weights': 'distance', 'metric': 'manhattan', 'algorithm': 'kd_tree'}. Best is trial 18 with value: 0.85625.\n[I 2024-02-22 16:22:42,209] Trial 32 finished with value: 0.7625 and parameters: {'n_neighbors': 12, 'weights': 'distance', 'metric': 'manhattan', 'algorithm': 'kd_tree'}. Best is trial 18 with value: 0.85625.\n[I 2024-02-22 16:22:42,328] Trial 33 finished with value: 0.709375 and parameters: {'n_neighbors': 18, 'weights': 'distance', 'metric': 'manhattan', 'algorithm': 'kd_tree'}. Best is trial 18 with value: 0.85625.\n[I 2024-02-22 16:22:42,445] Trial 34 finished with value: 0.859375 and parameters: {'n_neighbors': 5, 'weights': 'distance', 'metric': 'euclidean', 'algorithm': 'kd_tree'}. Best is trial 34 with value: 0.859375.\n[I 2024-02-22 16:22:42,570] Trial 35 finished with value: 0.76875 and parameters: {'n_neighbors': 12, 'weights': 'distance', 'metric': 'euclidean', 'algorithm': 'kd_tree'}. Best is trial 34 with value: 0.859375.\n[I 2024-02-22 16:22:42,712] Trial 36 finished with value: 0.503125 and parameters: {'n_neighbors': 19, 'weights': 'uniform', 'metric': 'euclidean', 'algorithm': 'kd_tree'}. Best is trial 34 with value: 0.859375.\n[I 2024-02-22 16:22:42,827] Trial 37 finished with value: 0.79375 and parameters: {'n_neighbors': 9, 'weights': 'distance', 'metric': 'euclidean', 'algorithm': 'kd_tree'}. Best is trial 34 with value: 0.859375.\n[I 2024-02-22 16:22:42,950] Trial 38 finished with value: 0.5875 and parameters: {'n_neighbors': 76, 'weights': 'distance', 'metric': 'euclidean', 'algorithm': 'kd_tree'}. Best is trial 34 with value: 0.859375.\n[I 2024-02-22 16:22:43,090] Trial 39 finished with value: 0.446875 and parameters: {'n_neighbors': 23, 'weights': 'uniform', 'metric': 'euclidean', 'algorithm': 'kd_tree'}. Best is trial 34 with value: 0.859375.\n[I 2024-02-22 16:22:43,154] Trial 40 finished with value: 0.796875 and parameters: {'n_neighbors': 5, 'weights': 'uniform', 'metric': 'euclidean', 'algorithm': 'auto'}. Best is trial 34 with value: 0.859375.\n[I 2024-02-22 16:22:43,272] Trial 41 finished with value: 0.784375 and parameters: {'n_neighbors': 10, 'weights': 'distance', 'metric': 'manhattan', 'algorithm': 'kd_tree'}. Best is trial 34 with value: 0.859375.\n[I 2024-02-22 16:22:43,386] Trial 42 finished with value: 0.85625 and parameters: {'n_neighbors': 5, 'weights': 'distance', 'metric': 'manhattan', 'algorithm': 'kd_tree'}. Best is trial 34 with value: 0.859375.\n[I 2024-02-22 16:22:43,499] Trial 43 finished with value: 0.725 and parameters: {'n_neighbors': 16, 'weights': 'distance', 'metric': 'manhattan', 'algorithm': 'kd_tree'}. Best is trial 34 with value: 0.859375.\n[I 2024-02-22 16:22:43,621] Trial 44 finished with value: 0.85625 and parameters: {'n_neighbors': 5, 'weights': 'distance', 'metric': 'manhattan', 'algorithm': 'kd_tree'}. Best is trial 34 with value: 0.859375.\n[I 2024-02-22 16:22:43,741] Trial 45 finished with value: 0.775 and parameters: {'n_neighbors': 11, 'weights': 'distance', 'metric': 'manhattan', 'algorithm': 'kd_tree'}. Best is trial 34 with value: 0.859375.\n[I 2024-02-22 16:22:43,867] Trial 46 finished with value: 0.728125 and parameters: {'n_neighbors': 15, 'weights': 'distance', 'metric': 'euclidean', 'algorithm': 'kd_tree'}. Best is trial 34 with value: 0.859375.\n[I 2024-02-22 16:22:43,933] Trial 47 finished with value: 0.509375 and parameters: {'n_neighbors': 20, 'weights': 'uniform', 'metric': 'manhattan', 'algorithm': 'auto'}. Best is trial 34 with value: 0.859375.\n[I 2024-02-22 16:22:44,052] Trial 48 finished with value: 0.778125 and parameters: {'n_neighbors': 9, 'weights': 'distance', 'metric': 'manhattan', 'algorithm': 'kd_tree'}. Best is trial 34 with value: 0.859375.\n[I 2024-02-22 16:22:44,174] Trial 49 finished with value: 0.659375 and parameters: {'n_neighbors': 26, 'weights': 'distance', 'metric': 'euclidean', 'algorithm': 'kd_tree'}. Best is trial 34 with value: 0.859375.\n[I 2024-02-22 16:22:44,234] Trial 50 finished with value: 0.778125 and parameters: {'n_neighbors': 9, 'weights': 'distance', 'metric': 'manhattan', 'algorithm': 'brute'}. Best is trial 34 with value: 0.859375.\n[I 2024-02-22 16:22:44,359] Trial 51 finished with value: 0.83125 and parameters: {'n_neighbors': 6, 'weights': 'distance', 'metric': 'manhattan', 'algorithm': 'kd_tree'}. Best is trial 34 with value: 0.859375.\n[I 2024-02-22 16:22:44,480] Trial 52 finished with value: 0.85625 and parameters: {'n_neighbors': 5, 'weights': 'distance', 'metric': 'manhattan', 'algorithm': 'kd_tree'}. Best is trial 34 with value: 0.859375.\n[I 2024-02-22 16:22:44,595] Trial 53 finished with value: 0.7375 and parameters: {'n_neighbors': 14, 'weights': 'distance', 'metric': 'manhattan', 'algorithm': 'kd_tree'}. Best is trial 34 with value: 0.859375.\n[I 2024-02-22 16:22:44,711] Trial 54 finished with value: 0.85625 and parameters: {'n_neighbors': 5, 'weights': 'distance', 'metric': 'manhattan', 'algorithm': 'kd_tree'}. Best is trial 34 with value: 0.859375.\n[I 2024-02-22 16:22:44,832] Trial 55 finished with value: 0.778125 and parameters: {'n_neighbors': 9, 'weights': 'distance', 'metric': 'manhattan', 'algorithm': 'kd_tree'}. Best is trial 34 with value: 0.859375.\n[I 2024-02-22 16:22:44,891] Trial 56 finished with value: 0.703125 and parameters: {'n_neighbors': 19, 'weights': 'distance', 'metric': 'manhattan', 'algorithm': 'auto'}. Best is trial 34 with value: 0.859375.\n[I 2024-02-22 16:22:45,016] Trial 57 finished with value: 0.59375 and parameters: {'n_neighbors': 50, 'weights': 'distance', 'metric': 'manhattan', 'algorithm': 'kd_tree'}. Best is trial 34 with value: 0.859375.\n[I 2024-02-22 16:22:45,150] Trial 58 finished with value: 0.075 and parameters: {'n_neighbors': 78, 'weights': 'uniform', 'metric': 'euclidean', 'algorithm': 'kd_tree'}. Best is trial 34 with value: 0.859375.\n[I 2024-02-22 16:22:45,207] Trial 59 finished with value: 0.66875 and parameters: {'n_neighbors': 29, 'weights': 'distance', 'metric': 'manhattan', 'algorithm': 'brute'}. Best is trial 34 with value: 0.859375.\n[I 2024-02-22 16:22:45,328] Trial 60 finished with value: 0.7375 and parameters: {'n_neighbors': 14, 'weights': 'distance', 'metric': 'manhattan', 'algorithm': 'kd_tree'}. Best is trial 34 with value: 0.859375.\n[I 2024-02-22 16:22:45,443] Trial 61 finished with value: 0.803125 and parameters: {'n_neighbors': 8, 'weights': 'distance', 'metric': 'manhattan', 'algorithm': 'kd_tree'}. Best is trial 34 with value: 0.859375.\n[I 2024-02-22 16:22:45,561] Trial 62 finished with value: 0.828125 and parameters: {'n_neighbors': 7, 'weights': 'distance', 'metric': 'manhattan', 'algorithm': 'kd_tree'}. Best is trial 34 with value: 0.859375.\n[I 2024-02-22 16:22:45,683] Trial 63 finished with value: 0.85625 and parameters: {'n_neighbors': 5, 'weights': 'distance', 'metric': 'manhattan', 'algorithm': 'kd_tree'}. Best is trial 34 with value: 0.859375.\n[I 2024-02-22 16:22:45,801] Trial 64 finished with value: 0.7625 and parameters: {'n_neighbors': 12, 'weights': 'distance', 'metric': 'manhattan', 'algorithm': 'kd_tree'}. Best is trial 34 with value: 0.859375.\n[I 2024-02-22 16:22:45,923] Trial 65 finished with value: 0.7125 and parameters: {'n_neighbors': 17, 'weights': 'distance', 'metric': 'minkowski', 'algorithm': 'ball_tree'}. Best is trial 34 with value: 0.859375.\n[I 2024-02-22 16:22:46,049] Trial 66 finished with value: 0.7625 and parameters: {'n_neighbors': 12, 'weights': 'distance', 'metric': 'manhattan', 'algorithm': 'kd_tree'}. Best is trial 34 with value: 0.859375.\n[I 2024-02-22 16:22:46,170] Trial 67 finished with value: 0.678125 and parameters: {'n_neighbors': 22, 'weights': 'distance', 'metric': 'manhattan', 'algorithm': 'kd_tree'}. Best is trial 34 with value: 0.859375.\n[I 2024-02-22 16:22:46,219] Trial 68 finished with value: 0.85625 and parameters: {'n_neighbors': 5, 'weights': 'distance', 'metric': 'manhattan', 'algorithm': 'auto'}. Best is trial 34 with value: 0.859375.\n[I 2024-02-22 16:22:46,342] Trial 69 finished with value: 0.575 and parameters: {'n_neighbors': 57, 'weights': 'distance', 'metric': 'manhattan', 'algorithm': 'ball_tree'}. Best is trial 34 with value: 0.859375.\n[I 2024-02-22 16:22:46,460] Trial 70 finished with value: 0.8 and parameters: {'n_neighbors': 8, 'weights': 'distance', 'metric': 'minkowski', 'algorithm': 'kd_tree'}. Best is trial 34 with value: 0.859375.\n[I 2024-02-22 16:22:46,576] Trial 71 finished with value: 0.85625 and parameters: {'n_neighbors': 5, 'weights': 'distance', 'metric': 'manhattan', 'algorithm': 'kd_tree'}. Best is trial 34 with value: 0.859375.\n[I 2024-02-22 16:22:46,700] Trial 72 finished with value: 0.53125 and parameters: {'n_neighbors': 99, 'weights': 'distance', 'metric': 'manhattan', 'algorithm': 'kd_tree'}. Best is trial 34 with value: 0.859375.\n[I 2024-02-22 16:22:46,820] Trial 73 finished with value: 0.7625 and parameters: {'n_neighbors': 12, 'weights': 'distance', 'metric': 'manhattan', 'algorithm': 'kd_tree'}. Best is trial 34 with value: 0.859375.\n[I 2024-02-22 16:22:46,944] Trial 74 finished with value: 0.803125 and parameters: {'n_neighbors': 8, 'weights': 'distance', 'metric': 'manhattan', 'algorithm': 'kd_tree'}. Best is trial 34 with value: 0.859375.\n[I 2024-02-22 16:22:47,063] Trial 75 finished with value: 0.75625 and parameters: {'n_neighbors': 14, 'weights': 'distance', 'metric': 'euclidean', 'algorithm': 'kd_tree'}. Best is trial 34 with value: 0.859375.\n[I 2024-02-22 16:22:47,132] Trial 76 finished with value: 0.784375 and parameters: {'n_neighbors': 5, 'weights': 'uniform', 'metric': 'manhattan', 'algorithm': 'brute'}. Best is trial 34 with value: 0.859375.\n[I 2024-02-22 16:22:47,252] Trial 77 finished with value: 0.784375 and parameters: {'n_neighbors': 10, 'weights': 'distance', 'metric': 'manhattan', 'algorithm': 'ball_tree'}. Best is trial 34 with value: 0.859375.\n[I 2024-02-22 16:22:47,374] Trial 78 finished with value: 0.575 and parameters: {'n_neighbors': 88, 'weights': 'distance', 'metric': 'euclidean', 'algorithm': 'kd_tree'}. Best is trial 34 with value: 0.859375.\n[I 2024-02-22 16:22:47,500] Trial 79 finished with value: 0.646875 and parameters: {'n_neighbors': 36, 'weights': 'distance', 'metric': 'manhattan', 'algorithm': 'kd_tree'}. Best is trial 34 with value: 0.859375.\n[I 2024-02-22 16:22:47,618] Trial 80 finished with value: 0.709375 and parameters: {'n_neighbors': 18, 'weights': 'distance', 'metric': 'manhattan', 'algorithm': 'kd_tree'}. Best is trial 34 with value: 0.859375.\n[I 2024-02-22 16:22:47,735] Trial 81 finished with value: 0.85625 and parameters: {'n_neighbors': 5, 'weights': 'distance', 'metric': 'manhattan', 'algorithm': 'kd_tree'}. Best is trial 34 with value: 0.859375.\n[I 2024-02-22 16:22:47,855] Trial 82 finished with value: 0.828125 and parameters: {'n_neighbors': 7, 'weights': 'distance', 'metric': 'manhattan', 'algorithm': 'kd_tree'}. Best is trial 34 with value: 0.859375.\n[I 2024-02-22 16:22:47,973] Trial 83 finished with value: 0.784375 and parameters: {'n_neighbors': 10, 'weights': 'distance', 'metric': 'manhattan', 'algorithm': 'kd_tree'}. Best is trial 34 with value: 0.859375.\n[I 2024-02-22 16:22:48,098] Trial 84 finished with value: 0.7375 and parameters: {'n_neighbors': 14, 'weights': 'distance', 'metric': 'manhattan', 'algorithm': 'kd_tree'}. Best is trial 34 with value: 0.859375.\n[I 2024-02-22 16:22:48,220] Trial 85 finished with value: 0.828125 and parameters: {'n_neighbors': 7, 'weights': 'distance', 'metric': 'manhattan', 'algorithm': 'kd_tree'}. Best is trial 34 with value: 0.859375.\n[I 2024-02-22 16:22:48,340] Trial 86 finished with value: 0.775 and parameters: {'n_neighbors': 11, 'weights': 'distance', 'metric': 'manhattan', 'algorithm': 'ball_tree'}. Best is trial 34 with value: 0.859375.\n[I 2024-02-22 16:22:48,485] Trial 87 finished with value: 0.796875 and parameters: {'n_neighbors': 5, 'weights': 'uniform', 'metric': 'minkowski', 'algorithm': 'kd_tree'}. Best is trial 34 with value: 0.859375.\n[I 2024-02-22 16:22:48,607] Trial 88 finished with value: 0.715625 and parameters: {'n_neighbors': 16, 'weights': 'distance', 'metric': 'euclidean', 'algorithm': 'kd_tree'}. Best is trial 34 with value: 0.859375.\n[I 2024-02-22 16:22:48,663] Trial 89 finished with value: 0.778125 and parameters: {'n_neighbors': 9, 'weights': 'distance', 'metric': 'manhattan', 'algorithm': 'auto'}. Best is trial 34 with value: 0.859375.\n[I 2024-02-22 16:22:48,719] Trial 90 finished with value: 0.753125 and parameters: {'n_neighbors': 13, 'weights': 'distance', 'metric': 'manhattan', 'algorithm': 'brute'}. Best is trial 34 with value: 0.859375.\n[I 2024-02-22 16:22:48,772] Trial 91 finished with value: 0.85625 and parameters: {'n_neighbors': 5, 'weights': 'distance', 'metric': 'manhattan', 'algorithm': 'auto'}. Best is trial 34 with value: 0.859375.\n[I 2024-02-22 16:22:48,824] Trial 92 finished with value: 0.828125 and parameters: {'n_neighbors': 7, 'weights': 'distance', 'metric': 'manhattan', 'algorithm': 'auto'}. Best is trial 34 with value: 0.859375.\n[I 2024-02-22 16:22:48,885] Trial 93 finished with value: 0.609375 and parameters: {'n_neighbors': 44, 'weights': 'distance', 'metric': 'manhattan', 'algorithm': 'auto'}. Best is trial 34 with value: 0.859375.\n[I 2024-02-22 16:22:48,940] Trial 94 finished with value: 0.784375 and parameters: {'n_neighbors': 10, 'weights': 'distance', 'metric': 'manhattan', 'algorithm': 'auto'}. Best is trial 34 with value: 0.859375.\n[I 2024-02-22 16:22:48,994] Trial 95 finished with value: 0.803125 and parameters: {'n_neighbors': 8, 'weights': 'distance', 'metric': 'manhattan', 'algorithm': 'auto'}. Best is trial 34 with value: 0.859375.\n[I 2024-02-22 16:22:49,120] Trial 96 finished with value: 0.85625 and parameters: {'n_neighbors': 5, 'weights': 'distance', 'metric': 'manhattan', 'algorithm': 'kd_tree'}. Best is trial 34 with value: 0.859375.\n[I 2024-02-22 16:22:49,237] Trial 97 finished with value: 0.809375 and parameters: {'n_neighbors': 7, 'weights': 'distance', 'metric': 'euclidean', 'algorithm': 'ball_tree'}. Best is trial 34 with value: 0.859375.\n[I 2024-02-22 16:22:49,357] Trial 98 finished with value: 0.775 and parameters: {'n_neighbors': 11, 'weights': 'distance', 'metric': 'manhattan', 'algorithm': 'kd_tree'}. Best is trial 34 with value: 0.859375.\n[I 2024-02-22 16:22:49,472] Trial 99 finished with value: 0.71875 and parameters: {'n_neighbors': 17, 'weights': 'distance', 'metric': 'manhattan', 'algorithm': 'kd_tree'}. Best is trial 34 with value: 0.859375.\n",
          "output_type": "stream"
        },
        {
          "name": "stdout",
          "text": "Best params found : {'n_neighbors': 5, 'weights': 'distance', 'metric': 'euclidean', 'algorithm': 'kd_tree'}\naccuracy: 0.9875\nrecall: 0.9930555555555556\nprecision: 0.9930555555555556\nf1-score: 0.9920634920634921\nroc_auc:  0.9963474025974026\n",
          "output_type": "stream"
        }
      ]
    },
    {
      "cell_type": "markdown",
      "source": [
        "## Support Vector Machine"
      ],
      "metadata": {
        "id": "K7-RwTXcA4YI"
      }
    },
    {
      "cell_type": "markdown",
      "source": [
        "**Normal**"
      ],
      "metadata": {
        "id": "7f9tqg99A4YI"
      }
    },
    {
      "cell_type": "code",
      "source": [
        "from sklearn.svm import SVC\n",
        "\n",
        "svm = SVC(kernel='linear')\n",
        "svm.fit(X_train_reduced, y_train)\n",
        "y_pred = svm.predict(X_test_reduced)\n",
        "\n",
        "accuracy = accuracy_score(y_test, y_pred)\n",
        "precision = precision_score(y_test, y_pred, average='macro')\n",
        "recall = recall_score(y_test, y_pred, average='macro')\n",
        "f1 = f1_score(y_test, y_pred, average='macro')\n",
        "\n",
        "# One-hot encoding for probability calculation (adapt if necessary)\n",
        "# Assuming 'label_' prefix for clarity\n",
        "y_test_onehot = pd.get_dummies(y_test, prefix='label_')\n",
        "y_pred_onehot = pd.get_dummies(y_pred, prefix='label_')\n",
        "\n",
        "# ROC AUC score with multiclass handling\n",
        "roc_auc_macro = roc_auc_score(y_test_onehot, y_pred_onehot,\n",
        "                              average='macro', multi_class='ovo')  # Specify 'ovo' or 'ovr'\n",
        "\n",
        "print(\"accuracy:\", accuracy)\n",
        "print(\"recall:\", recall)\n",
        "print(\"precision:\", precision)\n",
        "print(\"f1-score:\", f1)\n",
        "print('roc_auc: ', roc_auc_macro)"
      ],
      "metadata": {
        "execution": {
          "iopub.status.busy": "2024-02-22T16:22:49.524921Z",
          "iopub.execute_input": "2024-02-22T16:22:49.525427Z",
          "iopub.status.idle": "2024-02-22T16:22:49.596050Z",
          "shell.execute_reply.started": "2024-02-22T16:22:49.525392Z",
          "shell.execute_reply": "2024-02-22T16:22:49.595099Z"
        },
        "trusted": true,
        "id": "gxiezgt9A4YI",
        "outputId": "a3033082-8339-4654-8761-f01039610ae3"
      },
      "execution_count": null,
      "outputs": [
        {
          "name": "stdout",
          "text": "accuracy: 1.0\nrecall: 1.0\nprecision: 1.0\nf1-score: 1.0\nroc_auc:  1.0\n",
          "output_type": "stream"
        }
      ]
    },
    {
      "cell_type": "markdown",
      "source": [
        "**Tunning**"
      ],
      "metadata": {
        "id": "BMGVltHLA4YJ"
      }
    },
    {
      "cell_type": "code",
      "source": [
        "import optuna\n",
        "from sklearn.model_selection import cross_val_score\n",
        "import warnings\n",
        "warnings.filterwarnings('ignore')\n",
        "\n",
        "def objective(trial):\n",
        "    hyperparams = {\n",
        "        'kernel': trial.suggest_categorical('kernel', ['linear', 'rbf', 'poly']),\n",
        "        'C': trial.suggest_loguniform('C', 1e-5, 1e5),\n",
        "        'gamma': trial.suggest_loguniform('gamma', 1e-5, 1e5),\n",
        "        # 'degree': trial.suggest_int('degree', 2, 5),  # for polynomial kernel\n",
        "        'tol': trial.suggest_loguniform('tol', 1e-4, 1e-2),\n",
        "        'shrinking': trial.suggest_categorical('shrinking', [True, False]),\n",
        "    }\n",
        "\n",
        "    # Create KNN model with tuned hyperparameters\n",
        "    model = SVC(**hyperparams)\n",
        "    scores = cross_val_score(model, X_train_reduced, y_train, cv = kf,scoring = 'accuracy')\n",
        "    return np.mean(scores)"
      ],
      "metadata": {
        "execution": {
          "iopub.status.busy": "2024-02-22T16:22:49.597154Z",
          "iopub.execute_input": "2024-02-22T16:22:49.597479Z",
          "iopub.status.idle": "2024-02-22T16:22:49.608152Z",
          "shell.execute_reply.started": "2024-02-22T16:22:49.597450Z",
          "shell.execute_reply": "2024-02-22T16:22:49.606868Z"
        },
        "trusted": true,
        "id": "MuvYV8_kA4YJ"
      },
      "execution_count": null,
      "outputs": []
    },
    {
      "cell_type": "code",
      "source": [
        "study = optuna.create_study(direction='maximize')\n",
        "study.optimize(objective, n_trials=100)\n",
        "best_params = study.best_params\n",
        "print(\"Best params found :\", best_params)\n",
        "\n",
        "final_model = SVC(**best_params)\n",
        "final_model.fit(X_train_reduced, y_train)\n",
        "y_pred = final_model.predict(X_test_reduced)\n",
        "prediction_results['svc'] = list(y_pred)\n",
        "\n",
        "accuracy = accuracy_score(y_test, y_pred)\n",
        "precision = precision_score(y_test, y_pred, average='macro')\n",
        "recall = recall_score(y_test, y_pred, average='macro')\n",
        "f1 = f1_score(y_test, y_pred, average='macro')\n",
        "\n",
        "# One-hot encoding for probability calculation (adapt if necessary)\n",
        "# Assuming 'label_' prefix for clarity\n",
        "y_test_onehot = pd.get_dummies(y_test, prefix='label_')\n",
        "y_pred_onehot = pd.get_dummies(y_pred, prefix='label_')\n",
        "\n",
        "# ROC AUC score with multiclass handling\n",
        "roc_auc_macro = roc_auc_score(y_test_onehot, y_pred_onehot,\n",
        "                              average='macro', multi_class='ovo')  # Specify 'ovo' or 'ovr'\n",
        "\n",
        "print(\"accuracy:\", accuracy)\n",
        "print(\"recall:\", recall)\n",
        "print(\"precision:\", precision)\n",
        "print(\"f1-score:\", f1)\n",
        "print('roc_auc: ', roc_auc_macro)"
      ],
      "metadata": {
        "execution": {
          "iopub.status.busy": "2024-02-22T16:22:49.610018Z",
          "iopub.execute_input": "2024-02-22T16:22:49.610420Z",
          "iopub.status.idle": "2024-02-22T16:23:00.950082Z",
          "shell.execute_reply.started": "2024-02-22T16:22:49.610385Z",
          "shell.execute_reply": "2024-02-22T16:23:00.948656Z"
        },
        "trusted": true,
        "id": "jJa2l336A4YJ",
        "outputId": "446a4053-fef2-4b07-d098-cdea51e0c0f8"
      },
      "execution_count": null,
      "outputs": [
        {
          "name": "stderr",
          "text": "[I 2024-02-22 16:22:49,622] A new study created in memory with name: no-name-f3026064-0475-4934-bc33-da76b7011022\n[I 2024-02-22 16:22:49,721] Trial 0 finished with value: 0.946875 and parameters: {'kernel': 'linear', 'C': 220.9629470812618, 'gamma': 0.06088274860822626, 'tol': 0.00023208153084322786, 'shrinking': True}. Best is trial 0 with value: 0.946875.\n[I 2024-02-22 16:22:49,806] Trial 1 finished with value: 0.946875 and parameters: {'kernel': 'linear', 'C': 113.83386617945368, 'gamma': 3.0510654046941412, 'tol': 0.0006753022963092315, 'shrinking': True}. Best is trial 0 with value: 0.946875.\n[I 2024-02-22 16:22:49,901] Trial 2 finished with value: 0.859375 and parameters: {'kernel': 'poly', 'C': 0.004379719664797487, 'gamma': 8.681048945477069e-05, 'tol': 0.0014995375162449125, 'shrinking': False}. Best is trial 0 with value: 0.946875.\n[I 2024-02-22 16:22:49,984] Trial 3 finished with value: 0.946875 and parameters: {'kernel': 'linear', 'C': 38578.61644105757, 'gamma': 1051.9313454937123, 'tol': 0.0014549052644281888, 'shrinking': False}. Best is trial 0 with value: 0.946875.\n[I 2024-02-22 16:22:50,088] Trial 4 finished with value: 0.859375 and parameters: {'kernel': 'poly', 'C': 46.124405664672004, 'gamma': 0.0005220327881124807, 'tol': 0.0017599728235646731, 'shrinking': True}. Best is trial 0 with value: 0.946875.\n[I 2024-02-22 16:22:50,177] Trial 5 finished with value: 0.859375 and parameters: {'kernel': 'poly', 'C': 0.011839989922795125, 'gamma': 4.573065337399836, 'tol': 0.0028633148068498357, 'shrinking': False}. Best is trial 0 with value: 0.946875.\n[I 2024-02-22 16:22:50,259] Trial 6 finished with value: 0.946875 and parameters: {'kernel': 'linear', 'C': 96055.09909574252, 'gamma': 0.00012038809682894811, 'tol': 0.002440755030693934, 'shrinking': False}. Best is trial 0 with value: 0.946875.\n[I 2024-02-22 16:22:50,367] Trial 7 finished with value: 0.0 and parameters: {'kernel': 'rbf', 'C': 2.4716722318058513, 'gamma': 0.17760728625876462, 'tol': 0.0008230279043365354, 'shrinking': False}. Best is trial 0 with value: 0.946875.\n[I 2024-02-22 16:22:50,451] Trial 8 finished with value: 0.946875 and parameters: {'kernel': 'linear', 'C': 0.15892433900089364, 'gamma': 1.001373593683949, 'tol': 0.0008215003401717685, 'shrinking': False}. Best is trial 0 with value: 0.946875.\n[I 2024-02-22 16:22:50,553] Trial 9 finished with value: 0.859375 and parameters: {'kernel': 'poly', 'C': 27342.150901022727, 'gamma': 16231.645348136011, 'tol': 0.0001283225569298868, 'shrinking': False}. Best is trial 0 with value: 0.946875.\n[I 2024-02-22 16:22:50,662] Trial 10 finished with value: 0.0 and parameters: {'kernel': 'rbf', 'C': 0.00012288705523246188, 'gamma': 0.010047548169945927, 'tol': 0.00017559562550540348, 'shrinking': True}. Best is trial 0 with value: 0.946875.\n[I 2024-02-22 16:22:50,780] Trial 11 finished with value: 0.946875 and parameters: {'kernel': 'linear', 'C': 189.76512183788395, 'gamma': 39.43412506020863, 'tol': 0.00029611834616137355, 'shrinking': True}. Best is trial 0 with value: 0.946875.\n[I 2024-02-22 16:22:50,879] Trial 12 finished with value: 0.946875 and parameters: {'kernel': 'linear', 'C': 265.6800415574142, 'gamma': 0.011100774187652974, 'tol': 0.007308865748095483, 'shrinking': True}. Best is trial 0 with value: 0.946875.\n[I 2024-02-22 16:22:50,989] Trial 13 finished with value: 0.946875 and parameters: {'kernel': 'linear', 'C': 11.62557880177435, 'gamma': 68.67972075182377, 'tol': 0.00037735578881366495, 'shrinking': True}. Best is trial 0 with value: 0.946875.\n[I 2024-02-22 16:22:51,102] Trial 14 finished with value: 0.946875 and parameters: {'kernel': 'linear', 'C': 1313.9413783952923, 'gamma': 0.036563232314142435, 'tol': 0.00035056940073601605, 'shrinking': True}. Best is trial 0 with value: 0.946875.\n[I 2024-02-22 16:22:51,213] Trial 15 finished with value: 0.946875 and parameters: {'kernel': 'linear', 'C': 3885.7492521960826, 'gamma': 1.130410290761007, 'tol': 0.0005507425314461084, 'shrinking': True}. Best is trial 0 with value: 0.946875.\n[I 2024-02-22 16:22:51,335] Trial 16 finished with value: 0.0 and parameters: {'kernel': 'rbf', 'C': 0.5751908172941697, 'gamma': 0.0021987958985484955, 'tol': 0.00020101228584332813, 'shrinking': True}. Best is trial 0 with value: 0.946875.\n[I 2024-02-22 16:22:51,451] Trial 17 finished with value: 0.946875 and parameters: {'kernel': 'linear', 'C': 10.074678522530155, 'gamma': 37.62892688192524, 'tol': 0.00011503778118261691, 'shrinking': True}. Best is trial 0 with value: 0.946875.\n[I 2024-02-22 16:22:51,559] Trial 18 finished with value: 0.946875 and parameters: {'kernel': 'linear', 'C': 1596.9429786902379, 'gamma': 0.17568529710755348, 'tol': 0.0005507145169764492, 'shrinking': True}. Best is trial 0 with value: 0.946875.\n[I 2024-02-22 16:22:51,673] Trial 19 finished with value: 0.0 and parameters: {'kernel': 'rbf', 'C': 0.22563130453947663, 'gamma': 2842.6644340851235, 'tol': 0.005252504952095487, 'shrinking': True}. Best is trial 0 with value: 0.946875.\n[I 2024-02-22 16:22:51,784] Trial 20 finished with value: 0.946875 and parameters: {'kernel': 'linear', 'C': 1.351591527417904e-05, 'gamma': 6.339408079042237, 'tol': 0.00020055021020223384, 'shrinking': True}. Best is trial 0 with value: 0.946875.\n[I 2024-02-22 16:22:51,887] Trial 21 finished with value: 0.946875 and parameters: {'kernel': 'linear', 'C': 9001.625443028082, 'gamma': 1270.0173902153047, 'tol': 0.0014035472251040005, 'shrinking': False}. Best is trial 0 with value: 0.946875.\n[I 2024-02-22 16:22:51,982] Trial 22 finished with value: 0.946875 and parameters: {'kernel': 'linear', 'C': 291.19209830610964, 'gamma': 76515.2071987936, 'tol': 0.003738415790903494, 'shrinking': False}. Best is trial 0 with value: 0.946875.\n[I 2024-02-22 16:22:52,085] Trial 23 finished with value: 0.946875 and parameters: {'kernel': 'linear', 'C': 38091.82379625296, 'gamma': 223.16526681161375, 'tol': 0.0006031194212235439, 'shrinking': False}. Best is trial 0 with value: 0.946875.\n[I 2024-02-22 16:22:52,192] Trial 24 finished with value: 0.946875 and parameters: {'kernel': 'linear', 'C': 37.84437920773845, 'gamma': 692.6562892022424, 'tol': 0.0011146987875307933, 'shrinking': True}. Best is trial 0 with value: 0.946875.\n[I 2024-02-22 16:22:52,304] Trial 25 finished with value: 0.946875 and parameters: {'kernel': 'linear', 'C': 581.507388512854, 'gamma': 0.16956075134112455, 'tol': 0.0002757166297652008, 'shrinking': True}. Best is trial 0 with value: 0.946875.\n[I 2024-02-22 16:22:52,416] Trial 26 finished with value: 0.946875 and parameters: {'kernel': 'linear', 'C': 11309.38751222714, 'gamma': 8.00439813996061, 'tol': 0.001038611114464674, 'shrinking': False}. Best is trial 0 with value: 0.946875.\n[I 2024-02-22 16:22:52,532] Trial 27 finished with value: 0.946875 and parameters: {'kernel': 'linear', 'C': 33.389737422616484, 'gamma': 6000.476415494017, 'tol': 0.0004501791661127144, 'shrinking': True}. Best is trial 0 with value: 0.946875.\n[I 2024-02-22 16:22:52,664] Trial 28 finished with value: 0.0 and parameters: {'kernel': 'rbf', 'C': 3.67569632467446, 'gamma': 92265.11245741366, 'tol': 0.0018382413391494004, 'shrinking': False}. Best is trial 0 with value: 0.946875.\n[I 2024-02-22 16:22:52,782] Trial 29 finished with value: 0.859375 and parameters: {'kernel': 'poly', 'C': 0.05405600240361463, 'gamma': 272.5972794776451, 'tol': 0.0008119170422249594, 'shrinking': False}. Best is trial 0 with value: 0.946875.\n[I 2024-02-22 16:22:52,906] Trial 30 finished with value: 0.859375 and parameters: {'kernel': 'poly', 'C': 3867.9083280284713, 'gamma': 8.062985474930793e-05, 'tol': 0.0013273633593941308, 'shrinking': True}. Best is trial 0 with value: 0.946875.\n[I 2024-02-22 16:22:53,006] Trial 31 finished with value: 0.946875 and parameters: {'kernel': 'linear', 'C': 86142.96334268703, 'gamma': 3.490983587266932e-05, 'tol': 0.0024084463869710956, 'shrinking': False}. Best is trial 0 with value: 0.946875.\n[I 2024-02-22 16:22:53,106] Trial 32 finished with value: 0.946875 and parameters: {'kernel': 'linear', 'C': 72077.75603464115, 'gamma': 0.0006481239471763247, 'tol': 0.0020618436044104183, 'shrinking': False}. Best is trial 0 with value: 0.946875.\n[I 2024-02-22 16:22:53,219] Trial 33 finished with value: 0.946875 and parameters: {'kernel': 'linear', 'C': 11435.021996367228, 'gamma': 1.4548216704974268e-05, 'tol': 0.0033610906312483307, 'shrinking': False}. Best is trial 0 with value: 0.946875.\n[I 2024-02-22 16:22:53,325] Trial 34 finished with value: 0.946875 and parameters: {'kernel': 'linear', 'C': 85.00019339514803, 'gamma': 0.0004284710438539035, 'tol': 0.0016808536126562861, 'shrinking': False}. Best is trial 0 with value: 0.946875.\n[I 2024-02-22 16:22:53,442] Trial 35 finished with value: 0.859375 and parameters: {'kernel': 'poly', 'C': 1849.1546049141473, 'gamma': 0.0021410126438070934, 'tol': 0.002495834775117595, 'shrinking': False}. Best is trial 0 with value: 0.946875.\n[I 2024-02-22 16:22:53,552] Trial 36 finished with value: 0.946875 and parameters: {'kernel': 'linear', 'C': 19598.333240971195, 'gamma': 1.6680231738476237, 'tol': 0.004151513268643845, 'shrinking': False}. Best is trial 0 with value: 0.946875.\n[I 2024-02-22 16:22:53,680] Trial 37 finished with value: 0.859375 and parameters: {'kernel': 'poly', 'C': 0.002893758041970749, 'gamma': 0.03213128467601753, 'tol': 0.0007380004485603637, 'shrinking': False}. Best is trial 0 with value: 0.946875.\n[I 2024-02-22 16:22:53,855] Trial 38 finished with value: 0.0 and parameters: {'kernel': 'rbf', 'C': 609.0310619999617, 'gamma': 0.00035688419512915293, 'tol': 0.00014328923724182187, 'shrinking': True}. Best is trial 0 with value: 0.946875.\n[I 2024-02-22 16:22:53,959] Trial 39 finished with value: 0.946875 and parameters: {'kernel': 'linear', 'C': 1.7986874499440304, 'gamma': 0.45417448771731467, 'tol': 0.0053918640793064855, 'shrinking': False}. Best is trial 0 with value: 0.946875.\n[I 2024-02-22 16:22:54,069] Trial 40 finished with value: 0.946875 and parameters: {'kernel': 'linear', 'C': 86273.26425232919, 'gamma': 17.6464506543183, 'tol': 0.0011848674620301822, 'shrinking': True}. Best is trial 0 with value: 0.946875.\n[I 2024-02-22 16:22:54,175] Trial 41 finished with value: 0.946875 and parameters: {'kernel': 'linear', 'C': 0.02933694913929886, 'gamma': 1.9967547086172417, 'tol': 0.0008908754541779562, 'shrinking': False}. Best is trial 0 with value: 0.946875.\n[I 2024-02-22 16:22:54,272] Trial 42 finished with value: 0.946875 and parameters: {'kernel': 'linear', 'C': 0.0008089805601569901, 'gamma': 0.04314742902725233, 'tol': 0.00915917174494307, 'shrinking': False}. Best is trial 0 with value: 0.946875.\n[I 2024-02-22 16:22:54,381] Trial 43 finished with value: 0.946875 and parameters: {'kernel': 'linear', 'C': 0.4914413889652458, 'gamma': 0.6012121846374902, 'tol': 0.0006941813975936598, 'shrinking': False}. Best is trial 0 with value: 0.946875.\n[I 2024-02-22 16:22:54,483] Trial 44 finished with value: 0.946875 and parameters: {'kernel': 'linear', 'C': 0.10305991725024913, 'gamma': 0.01378416180748595, 'tol': 0.0015475598094062378, 'shrinking': False}. Best is trial 0 with value: 0.946875.\n[I 2024-02-22 16:22:54,596] Trial 45 finished with value: 0.946875 and parameters: {'kernel': 'linear', 'C': 10.577023051398397, 'gamma': 0.07884364859731993, 'tol': 0.0004332593430347861, 'shrinking': True}. Best is trial 0 with value: 0.946875.\n[I 2024-02-22 16:22:54,705] Trial 46 finished with value: 0.946875 and parameters: {'kernel': 'linear', 'C': 3590.3054808287484, 'gamma': 96.17084762603406, 'tol': 0.00029722058933149816, 'shrinking': False}. Best is trial 0 with value: 0.946875.\n[I 2024-02-22 16:22:54,824] Trial 47 finished with value: 0.0 and parameters: {'kernel': 'rbf', 'C': 0.009838185700583417, 'gamma': 0.003521072914087164, 'tol': 0.00024012524488053243, 'shrinking': True}. Best is trial 0 with value: 0.946875.\n[I 2024-02-22 16:22:54,931] Trial 48 finished with value: 0.946875 and parameters: {'kernel': 'linear', 'C': 68.03880901861662, 'gamma': 3.4935839769484973, 'tol': 0.0030439793434820805, 'shrinking': True}. Best is trial 0 with value: 0.946875.\n[I 2024-02-22 16:22:55,044] Trial 49 finished with value: 0.946875 and parameters: {'kernel': 'linear', 'C': 3.394412941400586, 'gamma': 14.635499755353123, 'tol': 0.00010397868603556257, 'shrinking': False}. Best is trial 0 with value: 0.946875.\n[I 2024-02-22 16:22:55,163] Trial 50 finished with value: 0.859375 and parameters: {'kernel': 'poly', 'C': 140.61027308648647, 'gamma': 12773.869436737325, 'tol': 0.002216724347946454, 'shrinking': True}. Best is trial 0 with value: 0.946875.\n[I 2024-02-22 16:22:55,279] Trial 51 finished with value: 0.946875 and parameters: {'kernel': 'linear', 'C': 376.5527805689395, 'gamma': 29.474066697615687, 'tol': 0.00016986327177137702, 'shrinking': True}. Best is trial 0 with value: 0.946875.\n[I 2024-02-22 16:22:55,393] Trial 52 finished with value: 0.946875 and parameters: {'kernel': 'linear', 'C': 27759.919552315212, 'gamma': 132.36278235413542, 'tol': 0.0003816617414823438, 'shrinking': True}. Best is trial 0 with value: 0.946875.\n[I 2024-02-22 16:22:55,507] Trial 53 finished with value: 0.946875 and parameters: {'kernel': 'linear', 'C': 15.236579148792412, 'gamma': 561.3251153585259, 'tol': 0.0006018991082886828, 'shrinking': True}. Best is trial 0 with value: 0.946875.\n[I 2024-02-22 16:22:55,620] Trial 54 finished with value: 0.946875 and parameters: {'kernel': 'linear', 'C': 1255.3140999192105, 'gamma': 0.552870295085513, 'tol': 0.0005105644367904976, 'shrinking': True}. Best is trial 0 with value: 0.946875.\n[I 2024-02-22 16:22:55,736] Trial 55 finished with value: 0.946875 and parameters: {'kernel': 'linear', 'C': 126.05243955061601, 'gamma': 44.90650235031583, 'tol': 0.0002356153450996691, 'shrinking': True}. Best is trial 0 with value: 0.946875.\n[I 2024-02-22 16:22:55,851] Trial 56 finished with value: 0.946875 and parameters: {'kernel': 'linear', 'C': 6618.249387994647, 'gamma': 2205.8820819996263, 'tol': 0.00030939412065070606, 'shrinking': True}. Best is trial 0 with value: 0.946875.\n[I 2024-02-22 16:22:55,979] Trial 57 finished with value: 0.0 and parameters: {'kernel': 'rbf', 'C': 0.7638373856079604, 'gamma': 3.828090618886229, 'tol': 0.0009496992740250106, 'shrinking': False}. Best is trial 0 with value: 0.946875.\n[I 2024-02-22 16:22:56,092] Trial 58 finished with value: 0.946875 and parameters: {'kernel': 'linear', 'C': 25.875859719503453, 'gamma': 0.2389925028217567, 'tol': 0.001215319198577131, 'shrinking': True}. Best is trial 0 with value: 0.946875.\n[I 2024-02-22 16:22:56,197] Trial 59 finished with value: 0.946875 and parameters: {'kernel': 'linear', 'C': 0.23259871445827582, 'gamma': 9.040583240180057, 'tol': 0.0006867630424546828, 'shrinking': False}. Best is trial 0 with value: 0.946875.\n[I 2024-02-22 16:22:56,325] Trial 60 finished with value: 0.946875 and parameters: {'kernel': 'linear', 'C': 5.7908269319642764, 'gamma': 1.0513765226985867, 'tol': 0.00015639313316060234, 'shrinking': True}. Best is trial 0 with value: 0.946875.\n[I 2024-02-22 16:22:56,437] Trial 61 finished with value: 0.946875 and parameters: {'kernel': 'linear', 'C': 863.6646929722392, 'gamma': 0.009522725901550313, 'tol': 0.005165044870617785, 'shrinking': True}. Best is trial 0 with value: 0.946875.\n[I 2024-02-22 16:22:56,547] Trial 62 finished with value: 0.946875 and parameters: {'kernel': 'linear', 'C': 170.7571787423102, 'gamma': 0.10694966345552788, 'tol': 0.009092115569998031, 'shrinking': True}. Best is trial 0 with value: 0.946875.\n[I 2024-02-22 16:22:56,660] Trial 63 finished with value: 0.946875 and parameters: {'kernel': 'linear', 'C': 2533.7089457935, 'gamma': 0.0010658530407031501, 'tol': 0.006123767376868862, 'shrinking': True}. Best is trial 0 with value: 0.946875.\n[I 2024-02-22 16:22:56,786] Trial 64 finished with value: 0.946875 and parameters: {'kernel': 'linear', 'C': 322.9539363106295, 'gamma': 0.014214201269977932, 'tol': 0.0002066213436144389, 'shrinking': True}. Best is trial 0 with value: 0.946875.\n[I 2024-02-22 16:22:56,891] Trial 65 finished with value: 0.946875 and parameters: {'kernel': 'linear', 'C': 44143.0382808932, 'gamma': 0.00013399843317072715, 'tol': 0.007158084833807605, 'shrinking': False}. Best is trial 0 with value: 0.946875.\n[I 2024-02-22 16:22:57,014] Trial 66 finished with value: 0.859375 and parameters: {'kernel': 'poly', 'C': 14572.503696100399, 'gamma': 0.2798303296045134, 'tol': 0.0018346019071291944, 'shrinking': True}. Best is trial 0 with value: 0.946875.\n[I 2024-02-22 16:22:57,129] Trial 67 finished with value: 0.946875 and parameters: {'kernel': 'linear', 'C': 20.196755530888485, 'gamma': 0.005011920537853989, 'tol': 0.001043141853998441, 'shrinking': False}. Best is trial 0 with value: 0.946875.\n[I 2024-02-22 16:22:57,270] Trial 68 finished with value: 0.0 and parameters: {'kernel': 'rbf', 'C': 7607.283740941845, 'gamma': 333.3049765539311, 'tol': 0.001450546299456697, 'shrinking': True}. Best is trial 0 with value: 0.946875.\n[I 2024-02-22 16:22:57,391] Trial 69 finished with value: 0.946875 and parameters: {'kernel': 'linear', 'C': 1.5382493566048052, 'gamma': 2.4087392929170335, 'tol': 0.0003445316610297715, 'shrinking': False}. Best is trial 0 with value: 0.946875.\n[I 2024-02-22 16:22:57,512] Trial 70 finished with value: 0.946875 and parameters: {'kernel': 'linear', 'C': 68.96918680001801, 'gamma': 0.0324146008445117, 'tol': 0.0007996320604231244, 'shrinking': True}. Best is trial 0 with value: 0.946875.\n[I 2024-02-22 16:22:57,632] Trial 71 finished with value: 0.946875 and parameters: {'kernel': 'linear', 'C': 39.61383172300644, 'gamma': 86.58880303183773, 'tol': 0.0004898160879281039, 'shrinking': True}. Best is trial 0 with value: 0.946875.\n[I 2024-02-22 16:22:57,754] Trial 72 finished with value: 0.946875 and parameters: {'kernel': 'linear', 'C': 258.337710150968, 'gamma': 1141.5786089276708, 'tol': 0.00040514143425849784, 'shrinking': True}. Best is trial 0 with value: 0.946875.\n[I 2024-02-22 16:22:57,875] Trial 73 finished with value: 0.946875 and parameters: {'kernel': 'linear', 'C': 744.1420476593308, 'gamma': 41.77363900289603, 'tol': 0.00027291450181993735, 'shrinking': True}. Best is trial 0 with value: 0.946875.\n[I 2024-02-22 16:22:57,986] Trial 74 finished with value: 0.946875 and parameters: {'kernel': 'linear', 'C': 0.29825277346428836, 'gamma': 5794.089543106928, 'tol': 0.0038960951965183645, 'shrinking': True}. Best is trial 0 with value: 0.946875.\n[I 2024-02-22 16:22:58,098] Trial 75 finished with value: 0.946875 and parameters: {'kernel': 'linear', 'C': 8.317131317553532, 'gamma': 17.713315418192803, 'tol': 0.00034442084748470086, 'shrinking': False}. Best is trial 0 with value: 0.946875.\n[I 2024-02-22 16:22:58,213] Trial 76 finished with value: 0.946875 and parameters: {'kernel': 'linear', 'C': 0.06935662588884593, 'gamma': 7.437461752694367, 'tol': 0.0006160995070864483, 'shrinking': True}. Best is trial 0 with value: 0.946875.\n[I 2024-02-22 16:22:58,335] Trial 77 finished with value: 0.859375 and parameters: {'kernel': 'poly', 'C': 100.16612100008501, 'gamma': 1.7757686787969045e-05, 'tol': 0.0002482682975537407, 'shrinking': False}. Best is trial 0 with value: 0.946875.\n[I 2024-02-22 16:22:58,452] Trial 78 finished with value: 0.946875 and parameters: {'kernel': 'linear', 'C': 51.874539643572476, 'gamma': 0.07239160339017939, 'tol': 0.0002052597600060605, 'shrinking': True}. Best is trial 0 with value: 0.946875.\n[I 2024-02-22 16:22:58,556] Trial 79 finished with value: 0.946875 and parameters: {'kernel': 'linear', 'C': 1707.4436252771404, 'gamma': 8.362574507908721e-05, 'tol': 0.0026321907929862305, 'shrinking': False}. Best is trial 0 with value: 0.946875.\n[I 2024-02-22 16:22:58,691] Trial 80 finished with value: 0.0 and parameters: {'kernel': 'rbf', 'C': 5.5216629940595165, 'gamma': 27948.181979872053, 'tol': 0.001242786811892901, 'shrinking': True}. Best is trial 0 with value: 0.946875.\n[I 2024-02-22 16:22:58,806] Trial 81 finished with value: 0.946875 and parameters: {'kernel': 'linear', 'C': 407.0939172775745, 'gamma': 1.2283598856775413, 'tol': 0.00046955064264374703, 'shrinking': True}. Best is trial 0 with value: 0.946875.\n[I 2024-02-22 16:22:58,923] Trial 82 finished with value: 0.946875 and parameters: {'kernel': 'linear', 'C': 53600.26534327554, 'gamma': 0.00019754883967743313, 'tol': 0.0003531691845432303, 'shrinking': True}. Best is trial 0 with value: 0.946875.\n[I 2024-02-22 16:22:59,040] Trial 83 finished with value: 0.946875 and parameters: {'kernel': 'linear', 'C': 25676.4390263849, 'gamma': 0.0015058192456569937, 'tol': 0.0005566073936628032, 'shrinking': True}. Best is trial 0 with value: 0.946875.\n[I 2024-02-22 16:22:59,154] Trial 84 finished with value: 0.946875 and parameters: {'kernel': 'linear', 'C': 2828.1189042431256, 'gamma': 0.13316881862029234, 'tol': 0.000854610117823562, 'shrinking': True}. Best is trial 0 with value: 0.946875.\n[I 2024-02-22 16:22:59,265] Trial 85 finished with value: 0.946875 and parameters: {'kernel': 'linear', 'C': 4236.23357675533, 'gamma': 0.020891966387127796, 'tol': 0.00030965034898569003, 'shrinking': False}. Best is trial 0 with value: 0.946875.\n[I 2024-02-22 16:22:59,380] Trial 86 finished with value: 0.946875 and parameters: {'kernel': 'linear', 'C': 178.95334056894094, 'gamma': 0.3788446634995019, 'tol': 0.0004224583777047752, 'shrinking': True}. Best is trial 0 with value: 0.946875.\n[I 2024-02-22 16:22:59,492] Trial 87 finished with value: 0.946875 and parameters: {'kernel': 'linear', 'C': 95103.66801820217, 'gamma': 0.004447780893304823, 'tol': 0.0001823249663615449, 'shrinking': False}. Best is trial 0 with value: 0.946875.\n[I 2024-02-22 16:22:59,611] Trial 88 finished with value: 0.946875 and parameters: {'kernel': 'linear', 'C': 4.009937078855436e-05, 'gamma': 0.05951351665926089, 'tol': 0.00013018840614908045, 'shrinking': True}. Best is trial 0 with value: 0.946875.\n[I 2024-02-22 16:22:59,728] Trial 89 finished with value: 0.946875 and parameters: {'kernel': 'linear', 'C': 1082.4188667306169, 'gamma': 180.08988044090634, 'tol': 0.000277676734284253, 'shrinking': True}. Best is trial 0 with value: 0.946875.\n[I 2024-02-22 16:22:59,842] Trial 90 finished with value: 0.859375 and parameters: {'kernel': 'poly', 'C': 636.5371597211608, 'gamma': 0.6581469711335366, 'tol': 0.0020900851445429494, 'shrinking': False}. Best is trial 0 with value: 0.946875.\n[I 2024-02-22 16:22:59,956] Trial 91 finished with value: 0.946875 and parameters: {'kernel': 'linear', 'C': 14780.24041666026, 'gamma': 4.709598170803711, 'tol': 0.0006725572394453605, 'shrinking': True}. Best is trial 0 with value: 0.946875.\n[I 2024-02-22 16:23:00,073] Trial 92 finished with value: 0.946875 and parameters: {'kernel': 'linear', 'C': 6524.705598361205, 'gamma': 1.6804422980945104, 'tol': 0.0005269543939834785, 'shrinking': True}. Best is trial 0 with value: 0.946875.\n[I 2024-02-22 16:23:00,188] Trial 93 finished with value: 0.946875 and parameters: {'kernel': 'linear', 'C': 1796.5487862114633, 'gamma': 0.7824248558495018, 'tol': 0.0007583779580940025, 'shrinking': True}. Best is trial 0 with value: 0.946875.\n[I 2024-02-22 16:23:00,299] Trial 94 finished with value: 0.946875 and parameters: {'kernel': 'linear', 'C': 247.69526924230536, 'gamma': 0.17124896734731415, 'tol': 0.001624018859013489, 'shrinking': True}. Best is trial 0 with value: 0.946875.\n[I 2024-02-22 16:23:00,413] Trial 95 finished with value: 0.946875 and parameters: {'kernel': 'linear', 'C': 4863.033040537918, 'gamma': 12.811857245914762, 'tol': 0.0003707851406561338, 'shrinking': True}. Best is trial 0 with value: 0.946875.\n[I 2024-02-22 16:23:00,524] Trial 96 finished with value: 0.946875 and parameters: {'kernel': 'linear', 'C': 33986.3212756639, 'gamma': 3.7205933657501606e-05, 'tol': 0.0011041638016365668, 'shrinking': False}. Best is trial 0 with value: 0.946875.\n[I 2024-02-22 16:23:00,663] Trial 97 finished with value: 0.0 and parameters: {'kernel': 'rbf', 'C': 107.57765974044844, 'gamma': 2.8605030722209426, 'tol': 0.0008971714538532679, 'shrinking': True}. Best is trial 0 with value: 0.946875.\n[I 2024-02-22 16:23:00,775] Trial 98 finished with value: 0.946875 and parameters: {'kernel': 'linear', 'C': 396.58695557365826, 'gamma': 27.33475995913675, 'tol': 0.0044642122007084156, 'shrinking': True}. Best is trial 0 with value: 0.946875.\n[I 2024-02-22 16:23:00,887] Trial 99 finished with value: 0.946875 and parameters: {'kernel': 'linear', 'C': 16.250716763909516, 'gamma': 0.36785109646456937, 'tol': 0.000584163656013422, 'shrinking': False}. Best is trial 0 with value: 0.946875.\n",
          "output_type": "stream"
        },
        {
          "name": "stdout",
          "text": "Best params found : {'kernel': 'linear', 'C': 220.9629470812618, 'gamma': 0.06088274860822626, 'tol': 0.00023208153084322786, 'shrinking': True}\naccuracy: 1.0\nrecall: 1.0\nprecision: 1.0\nf1-score: 1.0\nroc_auc:  1.0\n",
          "output_type": "stream"
        }
      ]
    },
    {
      "cell_type": "markdown",
      "source": [
        "## Decision Tree"
      ],
      "metadata": {
        "id": "uwvhjEVoA4YJ"
      }
    },
    {
      "cell_type": "markdown",
      "source": [
        "**Normal**"
      ],
      "metadata": {
        "id": "CWgQDGmeA4YJ"
      }
    },
    {
      "cell_type": "code",
      "source": [
        "from sklearn.tree import DecisionTreeClassifier\n",
        "\n",
        "dt = DecisionTreeClassifier(random_state=42)\n",
        "dt.fit(X_train_reduced, y_train)\n",
        "y_pred = dt.predict(X_test_reduced)\n",
        "\n",
        "accuracy = accuracy_score(y_test, y_pred)\n",
        "precision = precision_score(y_test, y_pred, average='macro')\n",
        "recall = recall_score(y_test, y_pred, average='macro')\n",
        "f1 = f1_score(y_test, y_pred, average='macro')\n",
        "\n",
        "# One-hot encoding for probability calculation (adapt if necessary)\n",
        "# Assuming 'label_' prefix for clarity\n",
        "y_test_onehot = pd.get_dummies(y_test, prefix='label_')\n",
        "y_pred_onehot = pd.get_dummies(y_pred, prefix='label_')\n",
        "\n",
        "# ROC AUC score with multiclass handling\n",
        "roc_auc_macro = roc_auc_score(y_test_onehot, y_pred_onehot,\n",
        "                              average='macro', multi_class='ovo')  # Specify 'ovo' or 'ovr'\n",
        "\n",
        "print(\"accuracy:\", accuracy)\n",
        "print(\"recall:\", recall)\n",
        "print(\"precision:\", precision)\n",
        "print(\"f1-score:\", f1)\n",
        "print('roc_auc: ', roc_auc_macro)\n",
        "\n",
        "svm = SVC(kernel='linear')\n",
        "svm.fit(X_train_reduced, y_train)\n",
        "y_pred = svm.predict(X_test_reduced)\n",
        "\n",
        "accuracy = accuracy_score(y_test, y_pred)\n",
        "precision = precision_score(y_test, y_pred, average='macro')\n",
        "recall = recall_score(y_test, y_pred, average='macro')\n",
        "f1 = f1_score(y_test, y_pred, average='macro')\n",
        "\n",
        "# One-hot encoding for probability calculation (adapt if necessary)\n",
        "# Assuming 'label_' prefix for clarity\n",
        "y_test_onehot = pd.get_dummies(y_test, prefix='label_')\n",
        "y_pred_onehot = pd.get_dummies(y_pred, prefix='label_')\n",
        "\n",
        "# ROC AUC score with multiclass handling\n",
        "roc_auc_macro = roc_auc_score(y_test_onehot, y_pred_onehot,\n",
        "                              average='macro', multi_class='ovo')  # Specify 'ovo' or 'ovr'\n",
        "\n",
        "print(\"accuracy:\", accuracy)\n",
        "print(\"recall:\", recall)\n",
        "print(\"precision:\", precision)\n",
        "print(\"f1-score:\", f1)\n",
        "print('roc_auc: ', roc_auc_macro)"
      ],
      "metadata": {
        "execution": {
          "iopub.status.busy": "2024-02-22T16:23:00.951741Z",
          "iopub.execute_input": "2024-02-22T16:23:00.952128Z",
          "iopub.status.idle": "2024-02-22T16:23:01.078921Z",
          "shell.execute_reply.started": "2024-02-22T16:23:00.952096Z",
          "shell.execute_reply": "2024-02-22T16:23:01.077730Z"
        },
        "trusted": true,
        "id": "IygdQZWhA4YJ",
        "outputId": "6defd7b6-6dc4-45ec-9b98-61784960d065"
      },
      "execution_count": null,
      "outputs": [
        {
          "name": "stdout",
          "text": "accuracy: 0.6\nrecall: 0.55\nprecision: 0.5641666666666667\nf1-score: 0.5229761904761905\nroc_auc:  0.5452392744810545\naccuracy: 1.0\nrecall: 1.0\nprecision: 1.0\nf1-score: 1.0\nroc_auc:  1.0\n",
          "output_type": "stream"
        }
      ]
    },
    {
      "cell_type": "markdown",
      "source": [
        "**Tunning**"
      ],
      "metadata": {
        "id": "-x7UHYGuA4YJ"
      }
    },
    {
      "cell_type": "code",
      "source": [
        "import optuna\n",
        "from sklearn.model_selection import cross_val_score\n",
        "import warnings\n",
        "warnings.filterwarnings('ignore')\n",
        "\n",
        "\n",
        "def objective(trial):\n",
        "    hyperparams = {\n",
        "        \"max_depth\" : trial.suggest_int(\"max_depth\", 2, 10),\n",
        "        \"min_samples_split\" : trial.suggest_int(\"min_samples_split\", 2, 20),\n",
        "        \"min_samples_leaf\" : trial.suggest_int(\"min_samples_leaf\", 1, 10),\n",
        "        \"criterion\" : trial.suggest_categorical(\"criterion\", [\"gini\", \"entropy\"]),\n",
        "        'random_state': trial.suggest_categorical('random_state', [42])\n",
        "    }\n",
        "\n",
        "    # Create KNN model with tuned hyperparameters\n",
        "    model = DecisionTreeClassifier(**hyperparams)\n",
        "    scores = cross_val_score(model, X_train_reduced,\n",
        "                             y_train, cv=kf, scoring='accuracy')\n",
        "    return np.mean(scores)"
      ],
      "metadata": {
        "execution": {
          "iopub.status.busy": "2024-02-22T16:23:01.081714Z",
          "iopub.execute_input": "2024-02-22T16:23:01.082539Z",
          "iopub.status.idle": "2024-02-22T16:23:01.092346Z",
          "shell.execute_reply.started": "2024-02-22T16:23:01.082497Z",
          "shell.execute_reply": "2024-02-22T16:23:01.090803Z"
        },
        "trusted": true,
        "id": "ysjas7C9A4YJ"
      },
      "execution_count": null,
      "outputs": []
    },
    {
      "cell_type": "code",
      "source": [
        "study = optuna.create_study(direction='maximize')\n",
        "study.optimize(objective, n_trials=100)\n",
        "best_params = study.best_params\n",
        "print(\"Best params found :\", best_params)\n",
        "\n",
        "final_model = DecisionTreeClassifier(**best_params)\n",
        "final_model.fit(X_train_reduced, y_train)\n",
        "y_pred = final_model.predict(X_test_reduced)\n",
        "prediction_results['decison tree'] = list(y_pred)\n",
        "\n",
        "accuracy = accuracy_score(y_test, y_pred)\n",
        "precision = precision_score(y_test, y_pred, average='macro')\n",
        "recall = recall_score(y_test, y_pred, average='macro')\n",
        "f1 = f1_score(y_test, y_pred, average='macro')\n",
        "\n",
        "# One-hot encoding for probability calculation (adapt if necessary)\n",
        "# Assuming 'label_' prefix for clarity\n",
        "y_test_onehot = pd.get_dummies(y_test, prefix='label_')\n",
        "y_pred_onehot = pd.get_dummies(y_pred, prefix='label_')\n",
        "\n",
        "# ROC AUC score with multiclass handling\n",
        "roc_auc_macro = roc_auc_score(y_test_onehot, y_pred_onehot,\n",
        "                              average='macro', multi_class='ovo')  # Specify 'ovo' or 'ovr'\n",
        "\n",
        "print(\"accuracy:\", accuracy)\n",
        "print(\"recall:\", recall)\n",
        "print(\"precision:\", precision)\n",
        "print(\"f1-score:\", f1)\n",
        "print('roc_auc: ', roc_auc_macro)"
      ],
      "metadata": {
        "execution": {
          "iopub.status.busy": "2024-02-22T16:23:01.094072Z",
          "iopub.execute_input": "2024-02-22T16:23:01.094454Z",
          "iopub.status.idle": "2024-02-22T16:23:21.977781Z",
          "shell.execute_reply.started": "2024-02-22T16:23:01.094424Z",
          "shell.execute_reply": "2024-02-22T16:23:21.976800Z"
        },
        "trusted": true,
        "id": "cScIDH-qA4YK",
        "outputId": "9233ae1c-4daa-4ea9-a29d-b7f862096636"
      },
      "execution_count": null,
      "outputs": [
        {
          "name": "stderr",
          "text": "[I 2024-02-22 16:23:01,106] A new study created in memory with name: no-name-b955df00-c4c8-4940-bd07-1622e5fc158c\n[I 2024-02-22 16:23:01,174] Trial 0 finished with value: 0.246875 and parameters: {'max_depth': 8, 'min_samples_split': 6, 'min_samples_leaf': 10, 'criterion': 'gini', 'random_state': 42}. Best is trial 0 with value: 0.246875.\n[I 2024-02-22 16:23:01,232] Trial 1 finished with value: 0.165625 and parameters: {'max_depth': 5, 'min_samples_split': 4, 'min_samples_leaf': 10, 'criterion': 'gini', 'random_state': 42}. Best is trial 0 with value: 0.246875.\n[I 2024-02-22 16:23:01,424] Trial 2 finished with value: 0.45625 and parameters: {'max_depth': 6, 'min_samples_split': 8, 'min_samples_leaf': 3, 'criterion': 'entropy', 'random_state': 42}. Best is trial 2 with value: 0.45625.\n[I 2024-02-22 16:23:01,504] Trial 3 finished with value: 0.378125 and parameters: {'max_depth': 9, 'min_samples_split': 2, 'min_samples_leaf': 5, 'criterion': 'gini', 'random_state': 42}. Best is trial 2 with value: 0.45625.\n[I 2024-02-22 16:23:01,582] Trial 4 finished with value: 0.30625 and parameters: {'max_depth': 7, 'min_samples_split': 9, 'min_samples_leaf': 3, 'criterion': 'gini', 'random_state': 42}. Best is trial 2 with value: 0.45625.\n[I 2024-02-22 16:23:01,646] Trial 5 finished with value: 0.159375 and parameters: {'max_depth': 5, 'min_samples_split': 10, 'min_samples_leaf': 6, 'criterion': 'gini', 'random_state': 42}. Best is trial 2 with value: 0.45625.\n[I 2024-02-22 16:23:01,692] Trial 6 finished with value: 0.0625 and parameters: {'max_depth': 3, 'min_samples_split': 6, 'min_samples_leaf': 10, 'criterion': 'gini', 'random_state': 42}. Best is trial 2 with value: 0.45625.\n[I 2024-02-22 16:23:01,869] Trial 7 finished with value: 0.240625 and parameters: {'max_depth': 5, 'min_samples_split': 20, 'min_samples_leaf': 4, 'criterion': 'entropy', 'random_state': 42}. Best is trial 2 with value: 0.45625.\n[I 2024-02-22 16:23:01,939] Trial 8 finished with value: 0.284375 and parameters: {'max_depth': 7, 'min_samples_split': 13, 'min_samples_leaf': 7, 'criterion': 'gini', 'random_state': 42}. Best is trial 2 with value: 0.45625.\n[I 2024-02-22 16:23:02,100] Trial 9 finished with value: 0.246875 and parameters: {'max_depth': 5, 'min_samples_split': 20, 'min_samples_leaf': 9, 'criterion': 'entropy', 'random_state': 42}. Best is trial 2 with value: 0.45625.\n[I 2024-02-22 16:23:02,249] Trial 10 finished with value: 0.025 and parameters: {'max_depth': 2, 'min_samples_split': 13, 'min_samples_leaf': 1, 'criterion': 'entropy', 'random_state': 42}. Best is trial 2 with value: 0.45625.\n[I 2024-02-22 16:23:02,465] Trial 11 finished with value: 0.45625 and parameters: {'max_depth': 10, 'min_samples_split': 2, 'min_samples_leaf': 4, 'criterion': 'entropy', 'random_state': 42}. Best is trial 2 with value: 0.45625.\n[I 2024-02-22 16:23:02,696] Trial 12 finished with value: 0.5125 and parameters: {'max_depth': 10, 'min_samples_split': 2, 'min_samples_leaf': 2, 'criterion': 'entropy', 'random_state': 42}. Best is trial 12 with value: 0.5125.\n[I 2024-02-22 16:23:02,929] Trial 13 finished with value: 0.484375 and parameters: {'max_depth': 10, 'min_samples_split': 8, 'min_samples_leaf': 1, 'criterion': 'entropy', 'random_state': 42}. Best is trial 12 with value: 0.5125.\n[I 2024-02-22 16:23:03,151] Trial 14 finished with value: 0.378125 and parameters: {'max_depth': 10, 'min_samples_split': 14, 'min_samples_leaf': 1, 'criterion': 'entropy', 'random_state': 42}. Best is trial 12 with value: 0.5125.\n[I 2024-02-22 16:23:03,362] Trial 15 finished with value: 0.328125 and parameters: {'max_depth': 9, 'min_samples_split': 16, 'min_samples_leaf': 2, 'criterion': 'entropy', 'random_state': 42}. Best is trial 12 with value: 0.5125.\n[I 2024-02-22 16:23:03,593] Trial 16 finished with value: 0.4875 and parameters: {'max_depth': 9, 'min_samples_split': 6, 'min_samples_leaf': 2, 'criterion': 'entropy', 'random_state': 42}. Best is trial 12 with value: 0.5125.\n[I 2024-02-22 16:23:03,830] Trial 17 finished with value: 0.496875 and parameters: {'max_depth': 8, 'min_samples_split': 4, 'min_samples_leaf': 3, 'criterion': 'entropy', 'random_state': 42}. Best is trial 12 with value: 0.5125.\n[I 2024-02-22 16:23:04,056] Trial 18 finished with value: 0.496875 and parameters: {'max_depth': 8, 'min_samples_split': 4, 'min_samples_leaf': 3, 'criterion': 'entropy', 'random_state': 42}. Best is trial 12 with value: 0.5125.\n[I 2024-02-22 16:23:04,250] Trial 19 finished with value: 0.375 and parameters: {'max_depth': 8, 'min_samples_split': 4, 'min_samples_leaf': 7, 'criterion': 'entropy', 'random_state': 42}. Best is trial 12 with value: 0.5125.\n[I 2024-02-22 16:23:04,456] Trial 20 finished with value: 0.453125 and parameters: {'max_depth': 7, 'min_samples_split': 2, 'min_samples_leaf': 5, 'criterion': 'entropy', 'random_state': 42}. Best is trial 12 with value: 0.5125.\n[I 2024-02-22 16:23:04,674] Trial 21 finished with value: 0.496875 and parameters: {'max_depth': 8, 'min_samples_split': 4, 'min_samples_leaf': 3, 'criterion': 'entropy', 'random_state': 42}. Best is trial 12 with value: 0.5125.\n[I 2024-02-22 16:23:04,900] Trial 22 finished with value: 0.5125 and parameters: {'max_depth': 9, 'min_samples_split': 4, 'min_samples_leaf': 2, 'criterion': 'entropy', 'random_state': 42}. Best is trial 12 with value: 0.5125.\n[I 2024-02-22 16:23:05,130] Trial 23 finished with value: 0.4875 and parameters: {'max_depth': 9, 'min_samples_split': 6, 'min_samples_leaf': 2, 'criterion': 'entropy', 'random_state': 42}. Best is trial 12 with value: 0.5125.\n[I 2024-02-22 16:23:05,357] Trial 24 finished with value: 0.5125 and parameters: {'max_depth': 10, 'min_samples_split': 3, 'min_samples_leaf': 2, 'criterion': 'entropy', 'random_state': 42}. Best is trial 12 with value: 0.5125.\n[I 2024-02-22 16:23:05,584] Trial 25 finished with value: 0.5125 and parameters: {'max_depth': 10, 'min_samples_split': 2, 'min_samples_leaf': 2, 'criterion': 'entropy', 'random_state': 42}. Best is trial 12 with value: 0.5125.\n[I 2024-02-22 16:23:05,801] Trial 26 finished with value: 0.45625 and parameters: {'max_depth': 10, 'min_samples_split': 7, 'min_samples_leaf': 4, 'criterion': 'entropy', 'random_state': 42}. Best is trial 12 with value: 0.5125.\n[I 2024-02-22 16:23:06,040] Trial 27 finished with value: 0.54375 and parameters: {'max_depth': 9, 'min_samples_split': 3, 'min_samples_leaf': 1, 'criterion': 'entropy', 'random_state': 42}. Best is trial 27 with value: 0.54375.\n[I 2024-02-22 16:23:06,267] Trial 28 finished with value: 0.44375 and parameters: {'max_depth': 9, 'min_samples_split': 11, 'min_samples_leaf': 1, 'criterion': 'entropy', 'random_state': 42}. Best is trial 27 with value: 0.54375.\n[I 2024-02-22 16:23:06,497] Trial 29 finished with value: 0.5 and parameters: {'max_depth': 6, 'min_samples_split': 5, 'min_samples_leaf': 1, 'criterion': 'entropy', 'random_state': 42}. Best is trial 27 with value: 0.54375.\n[I 2024-02-22 16:23:06,710] Trial 30 finished with value: 0.45625 and parameters: {'max_depth': 9, 'min_samples_split': 7, 'min_samples_leaf': 4, 'criterion': 'entropy', 'random_state': 42}. Best is trial 27 with value: 0.54375.\n[I 2024-02-22 16:23:06,947] Trial 31 finished with value: 0.5125 and parameters: {'max_depth': 10, 'min_samples_split': 3, 'min_samples_leaf': 2, 'criterion': 'entropy', 'random_state': 42}. Best is trial 27 with value: 0.54375.\n[I 2024-02-22 16:23:07,178] Trial 32 finished with value: 0.5125 and parameters: {'max_depth': 9, 'min_samples_split': 3, 'min_samples_leaf': 2, 'criterion': 'entropy', 'random_state': 42}. Best is trial 27 with value: 0.54375.\n[I 2024-02-22 16:23:07,416] Trial 33 finished with value: 0.53125 and parameters: {'max_depth': 10, 'min_samples_split': 5, 'min_samples_leaf': 1, 'criterion': 'entropy', 'random_state': 42}. Best is trial 27 with value: 0.54375.\n[I 2024-02-22 16:23:07,532] Trial 34 finished with value: 0.415625 and parameters: {'max_depth': 9, 'min_samples_split': 5, 'min_samples_leaf': 1, 'criterion': 'gini', 'random_state': 42}. Best is trial 27 with value: 0.54375.\n[I 2024-02-22 16:23:07,767] Trial 35 finished with value: 0.534375 and parameters: {'max_depth': 7, 'min_samples_split': 5, 'min_samples_leaf': 1, 'criterion': 'entropy', 'random_state': 42}. Best is trial 27 with value: 0.54375.\n[I 2024-02-22 16:23:07,853] Trial 36 finished with value: 0.125 and parameters: {'max_depth': 4, 'min_samples_split': 9, 'min_samples_leaf': 1, 'criterion': 'gini', 'random_state': 42}. Best is trial 27 with value: 0.54375.\n[I 2024-02-22 16:23:08,089] Trial 37 finished with value: 0.534375 and parameters: {'max_depth': 7, 'min_samples_split': 5, 'min_samples_leaf': 1, 'criterion': 'entropy', 'random_state': 42}. Best is trial 27 with value: 0.54375.\n[I 2024-02-22 16:23:08,192] Trial 38 finished with value: 0.234375 and parameters: {'max_depth': 6, 'min_samples_split': 8, 'min_samples_leaf': 1, 'criterion': 'gini', 'random_state': 42}. Best is trial 27 with value: 0.54375.\n[I 2024-02-22 16:23:08,423] Trial 39 finished with value: 0.503125 and parameters: {'max_depth': 7, 'min_samples_split': 5, 'min_samples_leaf': 3, 'criterion': 'entropy', 'random_state': 42}. Best is trial 27 with value: 0.54375.\n[I 2024-02-22 16:23:08,624] Trial 40 finished with value: 0.34375 and parameters: {'max_depth': 7, 'min_samples_split': 7, 'min_samples_leaf': 8, 'criterion': 'entropy', 'random_state': 42}. Best is trial 27 with value: 0.54375.\n[I 2024-02-22 16:23:08,865] Trial 41 finished with value: 0.54375 and parameters: {'max_depth': 8, 'min_samples_split': 3, 'min_samples_leaf': 1, 'criterion': 'entropy', 'random_state': 42}. Best is trial 27 with value: 0.54375.\n[I 2024-02-22 16:23:09,107] Trial 42 finished with value: 0.53125 and parameters: {'max_depth': 8, 'min_samples_split': 5, 'min_samples_leaf': 1, 'criterion': 'entropy', 'random_state': 42}. Best is trial 27 with value: 0.54375.\n[I 2024-02-22 16:23:09,345] Trial 43 finished with value: 0.521875 and parameters: {'max_depth': 6, 'min_samples_split': 3, 'min_samples_leaf': 1, 'criterion': 'entropy', 'random_state': 42}. Best is trial 27 with value: 0.54375.\n[I 2024-02-22 16:23:09,580] Trial 44 finished with value: 0.521875 and parameters: {'max_depth': 7, 'min_samples_split': 6, 'min_samples_leaf': 1, 'criterion': 'entropy', 'random_state': 42}. Best is trial 27 with value: 0.54375.\n[I 2024-02-22 16:23:09,684] Trial 45 finished with value: 0.328125 and parameters: {'max_depth': 8, 'min_samples_split': 10, 'min_samples_leaf': 6, 'criterion': 'gini', 'random_state': 42}. Best is trial 27 with value: 0.54375.\n[I 2024-02-22 16:23:09,923] Trial 46 finished with value: 0.509375 and parameters: {'max_depth': 7, 'min_samples_split': 3, 'min_samples_leaf': 2, 'criterion': 'entropy', 'random_state': 42}. Best is trial 27 with value: 0.54375.\n[I 2024-02-22 16:23:10,147] Trial 47 finished with value: 0.496875 and parameters: {'max_depth': 8, 'min_samples_split': 6, 'min_samples_leaf': 3, 'criterion': 'entropy', 'random_state': 42}. Best is trial 27 with value: 0.54375.\n[I 2024-02-22 16:23:10,335] Trial 48 finished with value: 0.25625 and parameters: {'max_depth': 6, 'min_samples_split': 5, 'min_samples_leaf': 10, 'criterion': 'entropy', 'random_state': 42}. Best is trial 27 with value: 0.54375.\n[I 2024-02-22 16:23:10,441] Trial 49 finished with value: 0.24375 and parameters: {'max_depth': 7, 'min_samples_split': 18, 'min_samples_leaf': 1, 'criterion': 'gini', 'random_state': 42}. Best is trial 27 with value: 0.54375.\n[I 2024-02-22 16:23:10,660] Trial 50 finished with value: 0.375 and parameters: {'max_depth': 5, 'min_samples_split': 8, 'min_samples_leaf': 3, 'criterion': 'entropy', 'random_state': 42}. Best is trial 27 with value: 0.54375.\n[I 2024-02-22 16:23:10,899] Trial 51 finished with value: 0.53125 and parameters: {'max_depth': 8, 'min_samples_split': 5, 'min_samples_leaf': 1, 'criterion': 'entropy', 'random_state': 42}. Best is trial 27 with value: 0.54375.\n[I 2024-02-22 16:23:11,140] Trial 52 finished with value: 0.5125 and parameters: {'max_depth': 8, 'min_samples_split': 2, 'min_samples_leaf': 1, 'criterion': 'entropy', 'random_state': 42}. Best is trial 27 with value: 0.54375.\n[I 2024-02-22 16:23:11,374] Trial 53 finished with value: 0.5125 and parameters: {'max_depth': 8, 'min_samples_split': 4, 'min_samples_leaf': 2, 'criterion': 'entropy', 'random_state': 42}. Best is trial 27 with value: 0.54375.\n[I 2024-02-22 16:23:11,618] Trial 54 finished with value: 0.49375 and parameters: {'max_depth': 8, 'min_samples_split': 7, 'min_samples_leaf': 1, 'criterion': 'entropy', 'random_state': 42}. Best is trial 27 with value: 0.54375.\n[I 2024-02-22 16:23:11,783] Trial 55 finished with value: 0.025 and parameters: {'max_depth': 2, 'min_samples_split': 3, 'min_samples_leaf': 1, 'criterion': 'entropy', 'random_state': 42}. Best is trial 27 with value: 0.54375.\n[I 2024-02-22 16:23:12,023] Trial 56 finished with value: 0.515625 and parameters: {'max_depth': 7, 'min_samples_split': 5, 'min_samples_leaf': 2, 'criterion': 'entropy', 'random_state': 42}. Best is trial 27 with value: 0.54375.\n[I 2024-02-22 16:23:12,266] Trial 57 finished with value: 0.509375 and parameters: {'max_depth': 7, 'min_samples_split': 4, 'min_samples_leaf': 2, 'criterion': 'entropy', 'random_state': 42}. Best is trial 27 with value: 0.54375.\n[I 2024-02-22 16:23:12,501] Trial 58 finished with value: 0.484375 and parameters: {'max_depth': 9, 'min_samples_split': 9, 'min_samples_leaf': 1, 'criterion': 'entropy', 'random_state': 42}. Best is trial 27 with value: 0.54375.\n[I 2024-02-22 16:23:12,692] Trial 59 finished with value: 0.28125 and parameters: {'max_depth': 8, 'min_samples_split': 14, 'min_samples_leaf': 9, 'criterion': 'entropy', 'random_state': 42}. Best is trial 27 with value: 0.54375.\n[I 2024-02-22 16:23:12,923] Trial 60 finished with value: 0.4875 and parameters: {'max_depth': 9, 'min_samples_split': 6, 'min_samples_leaf': 2, 'criterion': 'entropy', 'random_state': 42}. Best is trial 27 with value: 0.54375.\n[I 2024-02-22 16:23:13,164] Trial 61 finished with value: 0.53125 and parameters: {'max_depth': 8, 'min_samples_split': 5, 'min_samples_leaf': 1, 'criterion': 'entropy', 'random_state': 42}. Best is trial 27 with value: 0.54375.\n[I 2024-02-22 16:23:13,401] Trial 62 finished with value: 0.553125 and parameters: {'max_depth': 7, 'min_samples_split': 4, 'min_samples_leaf': 1, 'criterion': 'entropy', 'random_state': 42}. Best is trial 62 with value: 0.553125.\n[I 2024-02-22 16:23:13,644] Trial 63 finished with value: 0.553125 and parameters: {'max_depth': 7, 'min_samples_split': 4, 'min_samples_leaf': 1, 'criterion': 'entropy', 'random_state': 42}. Best is trial 62 with value: 0.553125.\n[I 2024-02-22 16:23:13,900] Trial 64 finished with value: 0.475 and parameters: {'max_depth': 6, 'min_samples_split': 2, 'min_samples_leaf': 2, 'criterion': 'entropy', 'random_state': 42}. Best is trial 62 with value: 0.553125.\n[I 2024-02-22 16:23:14,141] Trial 65 finished with value: 0.553125 and parameters: {'max_depth': 7, 'min_samples_split': 4, 'min_samples_leaf': 1, 'criterion': 'entropy', 'random_state': 42}. Best is trial 62 with value: 0.553125.\n[I 2024-02-22 16:23:14,373] Trial 66 finished with value: 0.509375 and parameters: {'max_depth': 7, 'min_samples_split': 3, 'min_samples_leaf': 2, 'criterion': 'entropy', 'random_state': 42}. Best is trial 62 with value: 0.553125.\n[I 2024-02-22 16:23:14,610] Trial 67 finished with value: 0.553125 and parameters: {'max_depth': 7, 'min_samples_split': 4, 'min_samples_leaf': 1, 'criterion': 'entropy', 'random_state': 42}. Best is trial 62 with value: 0.553125.\n[I 2024-02-22 16:23:14,844] Trial 68 finished with value: 0.478125 and parameters: {'max_depth': 6, 'min_samples_split': 2, 'min_samples_leaf': 3, 'criterion': 'entropy', 'random_state': 42}. Best is trial 62 with value: 0.553125.\n[I 2024-02-22 16:23:14,966] Trial 69 finished with value: 0.29375 and parameters: {'max_depth': 7, 'min_samples_split': 4, 'min_samples_leaf': 5, 'criterion': 'gini', 'random_state': 42}. Best is trial 62 with value: 0.553125.\n[I 2024-02-22 16:23:15,214] Trial 70 finished with value: 0.509375 and parameters: {'max_depth': 6, 'min_samples_split': 4, 'min_samples_leaf': 1, 'criterion': 'entropy', 'random_state': 42}. Best is trial 62 with value: 0.553125.\n[I 2024-02-22 16:23:15,459] Trial 71 finished with value: 0.51875 and parameters: {'max_depth': 7, 'min_samples_split': 3, 'min_samples_leaf': 1, 'criterion': 'entropy', 'random_state': 42}. Best is trial 62 with value: 0.553125.\n[I 2024-02-22 16:23:15,701] Trial 72 finished with value: 0.553125 and parameters: {'max_depth': 7, 'min_samples_split': 4, 'min_samples_leaf': 1, 'criterion': 'entropy', 'random_state': 42}. Best is trial 62 with value: 0.553125.\n[I 2024-02-22 16:23:15,932] Trial 73 finished with value: 0.475 and parameters: {'max_depth': 6, 'min_samples_split': 3, 'min_samples_leaf': 2, 'criterion': 'entropy', 'random_state': 42}. Best is trial 62 with value: 0.553125.\n[I 2024-02-22 16:23:16,177] Trial 74 finished with value: 0.553125 and parameters: {'max_depth': 7, 'min_samples_split': 4, 'min_samples_leaf': 1, 'criterion': 'entropy', 'random_state': 42}. Best is trial 62 with value: 0.553125.\n[I 2024-02-22 16:23:16,404] Trial 75 finished with value: 0.359375 and parameters: {'max_depth': 5, 'min_samples_split': 4, 'min_samples_leaf': 1, 'criterion': 'entropy', 'random_state': 42}. Best is trial 62 with value: 0.553125.\n[I 2024-02-22 16:23:16,638] Trial 76 finished with value: 0.509375 and parameters: {'max_depth': 7, 'min_samples_split': 2, 'min_samples_leaf': 2, 'criterion': 'entropy', 'random_state': 42}. Best is trial 62 with value: 0.553125.\n[I 2024-02-22 16:23:16,882] Trial 77 finished with value: 0.553125 and parameters: {'max_depth': 7, 'min_samples_split': 4, 'min_samples_leaf': 1, 'criterion': 'entropy', 'random_state': 42}. Best is trial 62 with value: 0.553125.\n[I 2024-02-22 16:23:17,093] Trial 78 finished with value: 0.20625 and parameters: {'max_depth': 4, 'min_samples_split': 4, 'min_samples_leaf': 2, 'criterion': 'entropy', 'random_state': 42}. Best is trial 62 with value: 0.553125.\n[I 2024-02-22 16:23:17,331] Trial 79 finished with value: 0.484375 and parameters: {'max_depth': 6, 'min_samples_split': 6, 'min_samples_leaf': 1, 'criterion': 'entropy', 'random_state': 42}. Best is trial 62 with value: 0.553125.\n[I 2024-02-22 16:23:17,576] Trial 80 finished with value: 0.509375 and parameters: {'max_depth': 7, 'min_samples_split': 4, 'min_samples_leaf': 2, 'criterion': 'entropy', 'random_state': 42}. Best is trial 62 with value: 0.553125.\n[I 2024-02-22 16:23:17,821] Trial 81 finished with value: 0.51875 and parameters: {'max_depth': 7, 'min_samples_split': 3, 'min_samples_leaf': 1, 'criterion': 'entropy', 'random_state': 42}. Best is trial 62 with value: 0.553125.\n[I 2024-02-22 16:23:18,067] Trial 82 finished with value: 0.553125 and parameters: {'max_depth': 7, 'min_samples_split': 4, 'min_samples_leaf': 1, 'criterion': 'entropy', 'random_state': 42}. Best is trial 62 with value: 0.553125.\n[I 2024-02-22 16:23:18,310] Trial 83 finished with value: 0.553125 and parameters: {'max_depth': 7, 'min_samples_split': 4, 'min_samples_leaf': 1, 'criterion': 'entropy', 'random_state': 42}. Best is trial 62 with value: 0.553125.\n[I 2024-02-22 16:23:18,549] Trial 84 finished with value: 0.553125 and parameters: {'max_depth': 7, 'min_samples_split': 4, 'min_samples_leaf': 1, 'criterion': 'entropy', 'random_state': 42}. Best is trial 62 with value: 0.553125.\n[I 2024-02-22 16:23:18,790] Trial 85 finished with value: 0.521875 and parameters: {'max_depth': 7, 'min_samples_split': 6, 'min_samples_leaf': 1, 'criterion': 'entropy', 'random_state': 42}. Best is trial 62 with value: 0.553125.\n[I 2024-02-22 16:23:19,029] Trial 86 finished with value: 0.45625 and parameters: {'max_depth': 6, 'min_samples_split': 7, 'min_samples_leaf': 1, 'criterion': 'entropy', 'random_state': 42}. Best is trial 62 with value: 0.553125.\n[I 2024-02-22 16:23:19,127] Trial 87 finished with value: 0.265625 and parameters: {'max_depth': 6, 'min_samples_split': 4, 'min_samples_leaf': 7, 'criterion': 'gini', 'random_state': 42}. Best is trial 62 with value: 0.553125.\n[I 2024-02-22 16:23:19,363] Trial 88 finished with value: 0.515625 and parameters: {'max_depth': 7, 'min_samples_split': 5, 'min_samples_leaf': 2, 'criterion': 'entropy', 'random_state': 42}. Best is trial 62 with value: 0.553125.\n[I 2024-02-22 16:23:19,602] Trial 89 finished with value: 0.55 and parameters: {'max_depth': 7, 'min_samples_split': 2, 'min_samples_leaf': 1, 'criterion': 'entropy', 'random_state': 42}. Best is trial 62 with value: 0.553125.\n[I 2024-02-22 16:23:19,836] Trial 90 finished with value: 0.428125 and parameters: {'max_depth': 7, 'min_samples_split': 12, 'min_samples_leaf': 2, 'criterion': 'entropy', 'random_state': 42}. Best is trial 62 with value: 0.553125.\n[I 2024-02-22 16:23:20,088] Trial 91 finished with value: 0.553125 and parameters: {'max_depth': 7, 'min_samples_split': 4, 'min_samples_leaf': 1, 'criterion': 'entropy', 'random_state': 42}. Best is trial 62 with value: 0.553125.\n[I 2024-02-22 16:23:20,334] Trial 92 finished with value: 0.553125 and parameters: {'max_depth': 7, 'min_samples_split': 4, 'min_samples_leaf': 1, 'criterion': 'entropy', 'random_state': 42}. Best is trial 62 with value: 0.553125.\n[I 2024-02-22 16:23:20,582] Trial 93 finished with value: 0.521875 and parameters: {'max_depth': 7, 'min_samples_split': 6, 'min_samples_leaf': 1, 'criterion': 'entropy', 'random_state': 42}. Best is trial 62 with value: 0.553125.\n[I 2024-02-22 16:23:20,824] Trial 94 finished with value: 0.54375 and parameters: {'max_depth': 8, 'min_samples_split': 3, 'min_samples_leaf': 1, 'criterion': 'entropy', 'random_state': 42}. Best is trial 62 with value: 0.553125.\n[I 2024-02-22 16:23:21,064] Trial 95 finished with value: 0.5 and parameters: {'max_depth': 6, 'min_samples_split': 5, 'min_samples_leaf': 1, 'criterion': 'entropy', 'random_state': 42}. Best is trial 62 with value: 0.553125.\n[I 2024-02-22 16:23:21,306] Trial 96 finished with value: 0.553125 and parameters: {'max_depth': 7, 'min_samples_split': 4, 'min_samples_leaf': 1, 'criterion': 'entropy', 'random_state': 42}. Best is trial 62 with value: 0.553125.\n[I 2024-02-22 16:23:21,539] Trial 97 finished with value: 0.5125 and parameters: {'max_depth': 8, 'min_samples_split': 5, 'min_samples_leaf': 2, 'criterion': 'entropy', 'random_state': 42}. Best is trial 62 with value: 0.553125.\n[I 2024-02-22 16:23:21,782] Trial 98 finished with value: 0.51875 and parameters: {'max_depth': 7, 'min_samples_split': 3, 'min_samples_leaf': 1, 'criterion': 'entropy', 'random_state': 42}. Best is trial 62 with value: 0.553125.\n[I 2024-02-22 16:23:21,889] Trial 99 finished with value: 0.23125 and parameters: {'max_depth': 6, 'min_samples_split': 4, 'min_samples_leaf': 2, 'criterion': 'gini', 'random_state': 42}. Best is trial 62 with value: 0.553125.\n",
          "output_type": "stream"
        },
        {
          "name": "stdout",
          "text": "Best params found : {'max_depth': 7, 'min_samples_split': 4, 'min_samples_leaf': 1, 'criterion': 'entropy', 'random_state': 42}\naccuracy: 0.6875\nrecall: 0.7361111111111112\nprecision: 0.7138888888888889\nf1-score: 0.6833633958633959\nroc_auc:  0.5365064934594339\n",
          "output_type": "stream"
        }
      ]
    },
    {
      "cell_type": "markdown",
      "source": [
        "Tuning rồi lưu kết quả tuning vào bên dưới"
      ],
      "metadata": {
        "id": "jTVxUybVZocU"
      }
    },
    {
      "cell_type": "markdown",
      "source": [
        "# num_image = 9"
      ],
      "metadata": {
        "id": "_mhZ25idZocV"
      }
    },
    {
      "cell_type": "code",
      "source": [
        "n_components_pca = 50\n",
        "pca = ModularPCA(n_components=n_components_pca, num_image=9)\n",
        "X_train_reduced = pca.fit_transform(X_train)\n",
        "X_test_reduced = pca.transform(X_test)"
      ],
      "metadata": {
        "id": "NNKwYwD9ZocV",
        "execution": {
          "iopub.status.busy": "2024-02-22T16:23:21.979708Z",
          "iopub.execute_input": "2024-02-22T16:23:21.980114Z",
          "iopub.status.idle": "2024-02-22T16:23:23.438354Z",
          "shell.execute_reply.started": "2024-02-22T16:23:21.980079Z",
          "shell.execute_reply": "2024-02-22T16:23:23.434382Z"
        },
        "trusted": true
      },
      "execution_count": null,
      "outputs": []
    },
    {
      "cell_type": "code",
      "source": [
        "# for train_index, test_index in skf.split(X, y):\n",
        "#     X_train, X_test = X[train_index], X[test_index]\n",
        "#     y_train, y_test = y[train_index], y[test_index]\n",
        "\n",
        "#     pca = PCA(n_components=n_components_pca)\n",
        "#     X_train_reduced = pca.fit_transform(X_train)\n",
        "#     X_test_reduced = pca.transform(X_test)\n",
        "\n",
        "#     # Euclidean\n",
        "#     y_pred = []\n",
        "#     for i in range(320):\n",
        "#         min_ = np.argmin(np.sqrt(np.sum((X_train_reduced - X_test_reduced[i])**2,axis=1)))\n",
        "#         y_pred.append(y_train[min_])\n",
        "\n",
        "#     # Evaluate the model\n",
        "#     accuracy = accuracy_score(y_test, y_pred)\n",
        "#     accuracy_scores.append(accuracy)\n",
        "\n",
        "# print(np.mean(accuracy_scores))"
      ],
      "metadata": {
        "id": "QTuyHjM9ZocV",
        "execution": {
          "iopub.status.busy": "2024-02-22T16:23:23.441038Z",
          "iopub.execute_input": "2024-02-22T16:23:23.443212Z",
          "iopub.status.idle": "2024-02-22T16:23:23.455284Z",
          "shell.execute_reply.started": "2024-02-22T16:23:23.443161Z",
          "shell.execute_reply": "2024-02-22T16:23:23.453663Z"
        },
        "trusted": true
      },
      "execution_count": null,
      "outputs": []
    },
    {
      "cell_type": "markdown",
      "source": [
        "## Modeling"
      ],
      "metadata": {
        "id": "UvRazco9ZocV"
      }
    },
    {
      "cell_type": "code",
      "source": [
        "from sklearn.model_selection import KFold\n",
        "n_splits = 5\n",
        "kf = KFold(n_splits=n_splits, shuffle=True, random_state=42)"
      ],
      "metadata": {
        "id": "zdQybjPpZocW",
        "execution": {
          "iopub.status.busy": "2024-02-22T16:23:23.457099Z",
          "iopub.execute_input": "2024-02-22T16:23:23.458824Z",
          "iopub.status.idle": "2024-02-22T16:23:23.469007Z",
          "shell.execute_reply.started": "2024-02-22T16:23:23.458768Z",
          "shell.execute_reply": "2024-02-22T16:23:23.467386Z"
        },
        "trusted": true
      },
      "execution_count": null,
      "outputs": []
    },
    {
      "cell_type": "markdown",
      "source": [
        "## Random Forest"
      ],
      "metadata": {
        "id": "eUTPNxKsZocW"
      }
    },
    {
      "cell_type": "code",
      "source": [
        "prediction_results = {}"
      ],
      "metadata": {
        "id": "nSKXniZNZocW",
        "execution": {
          "iopub.status.busy": "2024-02-22T16:23:23.476420Z",
          "iopub.execute_input": "2024-02-22T16:23:23.480081Z",
          "iopub.status.idle": "2024-02-22T16:23:23.495636Z",
          "shell.execute_reply.started": "2024-02-22T16:23:23.479996Z",
          "shell.execute_reply": "2024-02-22T16:23:23.493761Z"
        },
        "trusted": true
      },
      "execution_count": null,
      "outputs": []
    },
    {
      "cell_type": "code",
      "source": [
        "from sklearn.ensemble import RandomForestClassifier\n",
        "from sklearn.metrics import accuracy_score"
      ],
      "metadata": {
        "id": "dfSGIzMCZocW",
        "execution": {
          "iopub.status.busy": "2024-02-22T16:23:23.499268Z",
          "iopub.execute_input": "2024-02-22T16:23:23.502814Z",
          "iopub.status.idle": "2024-02-22T16:23:23.518041Z",
          "shell.execute_reply.started": "2024-02-22T16:23:23.501930Z",
          "shell.execute_reply": "2024-02-22T16:23:23.516152Z"
        },
        "trusted": true
      },
      "execution_count": null,
      "outputs": []
    },
    {
      "cell_type": "markdown",
      "source": [
        "**Normal**"
      ],
      "metadata": {
        "id": "aB6N0pajZocX"
      }
    },
    {
      "cell_type": "code",
      "source": [
        "rfr = RandomForestClassifier(random_state=42)\n",
        "rfr.fit(X_train_reduced,y_train)\n",
        "y_pred = rfr.predict(X_test_reduced)\n",
        "\n",
        "accuracy = accuracy_score(y_test, y_pred)\n",
        "precision = precision_score(y_test, y_pred, average='macro')\n",
        "recall = recall_score(y_test, y_pred, average='macro')\n",
        "f1 = f1_score(y_test, y_pred, average='macro')\n",
        "\n",
        "# One-hot encoding for probability calculation (adapt if necessary)\n",
        "y_test_onehot = pd.get_dummies(y_test, prefix='label_')  # Assuming 'label_' prefix for clarity\n",
        "y_pred_onehot = pd.get_dummies(y_pred, prefix='label_')\n",
        "\n",
        "# ROC AUC score with multiclass handling\n",
        "roc_auc_macro = roc_auc_score(y_test_onehot, y_pred_onehot, average='macro', multi_class='ovo')  # Specify 'ovo' or 'ovr'\n",
        "\n",
        "print(\"accuracy:\", accuracy)\n",
        "print(\"recall:\", recall)\n",
        "print(\"precision:\", precision)\n",
        "print(\"f1-score:\", f1)\n",
        "print('roc_auc: ', roc_auc_macro)"
      ],
      "metadata": {
        "id": "46cSgHdSZocX",
        "outputId": "7f345b74-25a8-4617-a993-f758c9a642ee",
        "execution": {
          "iopub.status.busy": "2024-02-22T16:23:23.556728Z",
          "iopub.execute_input": "2024-02-22T16:23:23.559824Z",
          "iopub.status.idle": "2024-02-22T16:23:24.108098Z",
          "shell.execute_reply.started": "2024-02-22T16:23:23.559770Z",
          "shell.execute_reply": "2024-02-22T16:23:24.106646Z"
        },
        "trusted": true
      },
      "execution_count": null,
      "outputs": [
        {
          "name": "stdout",
          "text": "accuracy: 0.9875\nrecall: 0.9722222222222222\nprecision: 0.9652777777777778\nf1-score: 0.9682539682539684\nroc_auc:  0.7339828150168876\n",
          "output_type": "stream"
        }
      ]
    },
    {
      "cell_type": "markdown",
      "source": [
        "**Tunning**"
      ],
      "metadata": {
        "id": "NPy37T_fZocX"
      }
    },
    {
      "cell_type": "code",
      "source": [
        "import optuna\n",
        "\n",
        "\n",
        "def objective(trial):\n",
        "    hyperparams = {\n",
        "        'n_estimators': trial.suggest_int('n_estimators', 100, 1000),\n",
        "        'max_depth': trial.suggest_int('max_depth', 10, 50),\n",
        "        'min_samples_split': trial.suggest_int('min_samples_split', 2, 32),\n",
        "        'random_state': trial.suggest_categorical('random_state', [42]),\n",
        "        'min_samples_leaf': trial.suggest_int('min_samples_leaf', 1, 32),\n",
        "        'n_jobs': -1\n",
        "    }\n",
        "\n",
        "    model = RandomForestClassifier(**hyperparams)\n",
        "    scores = cross_val_score(model, X_train_reduced,\n",
        "                             y_train, cv=kf, scoring='accuracy')\n",
        "    return np.mean(scores)"
      ],
      "metadata": {
        "id": "q6Tu4LcdZocY",
        "execution": {
          "iopub.status.busy": "2024-02-22T16:23:24.109440Z",
          "iopub.execute_input": "2024-02-22T16:23:24.109771Z",
          "iopub.status.idle": "2024-02-22T16:23:24.118036Z",
          "shell.execute_reply.started": "2024-02-22T16:23:24.109741Z",
          "shell.execute_reply": "2024-02-22T16:23:24.116524Z"
        },
        "trusted": true
      },
      "execution_count": null,
      "outputs": []
    },
    {
      "cell_type": "code",
      "source": [
        "study = optuna.create_study(direction = 'maximize')\n",
        "study.optimize(objective, n_trials = 100)\n",
        "best_params = study.best_params\n",
        "print(\"Best params found :\", best_params)\n",
        "\n",
        "final_model = RandomForestClassifier(**best_params)\n",
        "final_model.fit(X_train_reduced, y_train)\n",
        "y_pred = final_model.predict(X_test_reduced)\n",
        "accuracy_score(y_test, y_pred)"
      ],
      "metadata": {
        "id": "alZqG-QXZocY",
        "outputId": "c205ee7d-cf50-4899-b182-ba2ad815a261",
        "execution": {
          "iopub.status.busy": "2024-02-22T16:23:24.119787Z",
          "iopub.execute_input": "2024-02-22T16:23:24.120125Z",
          "iopub.status.idle": "2024-02-22T16:45:03.192857Z",
          "shell.execute_reply.started": "2024-02-22T16:23:24.120096Z",
          "shell.execute_reply": "2024-02-22T16:45:03.191416Z"
        },
        "trusted": true
      },
      "execution_count": null,
      "outputs": [
        {
          "name": "stderr",
          "text": "[I 2024-02-22 16:23:24,133] A new study created in memory with name: no-name-4e3de5da-ed2a-4957-bd7a-053c0a3e088d\n[I 2024-02-22 16:23:33,653] Trial 0 finished with value: 0.609375 and parameters: {'n_estimators': 477, 'max_depth': 40, 'min_samples_split': 18, 'random_state': 42, 'min_samples_leaf': 20}. Best is trial 0 with value: 0.609375.\n[I 2024-02-22 16:23:47,925] Trial 1 finished with value: 0.725 and parameters: {'n_estimators': 671, 'max_depth': 25, 'min_samples_split': 19, 'random_state': 42, 'min_samples_leaf': 5}. Best is trial 1 with value: 0.725.\n[I 2024-02-22 16:23:57,830] Trial 2 finished with value: 0.771875 and parameters: {'n_estimators': 437, 'max_depth': 19, 'min_samples_split': 13, 'random_state': 42, 'min_samples_leaf': 1}. Best is trial 2 with value: 0.771875.\n[I 2024-02-22 16:24:04,673] Trial 3 finished with value: 0.765625 and parameters: {'n_estimators': 309, 'max_depth': 18, 'min_samples_split': 12, 'random_state': 42, 'min_samples_leaf': 2}. Best is trial 2 with value: 0.771875.\n[I 2024-02-22 16:24:13,476] Trial 4 finished with value: 0.51875 and parameters: {'n_estimators': 449, 'max_depth': 32, 'min_samples_split': 14, 'random_state': 42, 'min_samples_leaf': 30}. Best is trial 2 with value: 0.771875.\n[I 2024-02-22 16:24:17,821] Trial 5 finished with value: 0.553125 and parameters: {'n_estimators': 213, 'max_depth': 26, 'min_samples_split': 4, 'random_state': 42, 'min_samples_leaf': 27}. Best is trial 2 with value: 0.771875.\n[I 2024-02-22 16:24:31,212] Trial 6 finished with value: 0.628125 and parameters: {'n_estimators': 672, 'max_depth': 26, 'min_samples_split': 26, 'random_state': 42, 'min_samples_leaf': 21}. Best is trial 2 with value: 0.771875.\n[I 2024-02-22 16:24:33,208] Trial 7 finished with value: 0.590625 and parameters: {'n_estimators': 100, 'max_depth': 35, 'min_samples_split': 31, 'random_state': 42, 'min_samples_leaf': 23}. Best is trial 2 with value: 0.771875.\n[I 2024-02-22 16:24:39,329] Trial 8 finished with value: 0.65625 and parameters: {'n_estimators': 307, 'max_depth': 47, 'min_samples_split': 16, 'random_state': 42, 'min_samples_leaf': 16}. Best is trial 2 with value: 0.771875.\n[I 2024-02-22 16:24:41,620] Trial 9 finished with value: 0.6 and parameters: {'n_estimators': 115, 'max_depth': 46, 'min_samples_split': 6, 'random_state': 42, 'min_samples_leaf': 19}. Best is trial 2 with value: 0.771875.\n[I 2024-02-22 16:24:59,379] Trial 10 finished with value: 0.728125 and parameters: {'n_estimators': 878, 'max_depth': 10, 'min_samples_split': 8, 'random_state': 42, 'min_samples_leaf': 10}. Best is trial 2 with value: 0.771875.\n[I 2024-02-22 16:25:07,486] Trial 11 finished with value: 0.784375 and parameters: {'n_estimators': 361, 'max_depth': 14, 'min_samples_split': 11, 'random_state': 42, 'min_samples_leaf': 2}. Best is trial 11 with value: 0.784375.\n[I 2024-02-22 16:25:19,857] Trial 12 finished with value: 0.7375 and parameters: {'n_estimators': 591, 'max_depth': 14, 'min_samples_split': 11, 'random_state': 42, 'min_samples_leaf': 9}. Best is trial 11 with value: 0.784375.\n[I 2024-02-22 16:25:28,486] Trial 13 finished with value: 0.7 and parameters: {'n_estimators': 383, 'max_depth': 18, 'min_samples_split': 22, 'random_state': 42, 'min_samples_leaf': 2}. Best is trial 11 with value: 0.784375.\n[I 2024-02-22 16:25:46,171] Trial 14 finished with value: 0.728125 and parameters: {'n_estimators': 864, 'max_depth': 18, 'min_samples_split': 9, 'random_state': 42, 'min_samples_leaf': 10}. Best is trial 11 with value: 0.784375.\n[I 2024-02-22 16:25:58,861] Trial 15 finished with value: 0.778125 and parameters: {'n_estimators': 563, 'max_depth': 10, 'min_samples_split': 3, 'random_state': 42, 'min_samples_leaf': 6}. Best is trial 11 with value: 0.784375.\n[I 2024-02-22 16:26:14,681] Trial 16 finished with value: 0.690625 and parameters: {'n_estimators': 740, 'max_depth': 11, 'min_samples_split': 2, 'random_state': 42, 'min_samples_leaf': 14}. Best is trial 11 with value: 0.784375.\n[I 2024-02-22 16:26:27,150] Trial 17 finished with value: 0.7875 and parameters: {'n_estimators': 565, 'max_depth': 14, 'min_samples_split': 6, 'random_state': 42, 'min_samples_leaf': 6}. Best is trial 17 with value: 0.7875.\n[I 2024-02-22 16:26:48,589] Trial 18 finished with value: 0.771875 and parameters: {'n_estimators': 1000, 'max_depth': 23, 'min_samples_split': 7, 'random_state': 42, 'min_samples_leaf': 7}. Best is trial 17 with value: 0.7875.\n[I 2024-02-22 16:26:54,618] Trial 19 finished with value: 0.675 and parameters: {'n_estimators': 293, 'max_depth': 14, 'min_samples_split': 10, 'random_state': 42, 'min_samples_leaf': 13}. Best is trial 17 with value: 0.7875.\n[I 2024-02-22 16:27:06,187] Trial 20 finished with value: 0.696875 and parameters: {'n_estimators': 543, 'max_depth': 31, 'min_samples_split': 22, 'random_state': 42, 'min_samples_leaf': 4}. Best is trial 17 with value: 0.7875.\n[I 2024-02-22 16:27:18,335] Trial 21 finished with value: 0.778125 and parameters: {'n_estimators': 569, 'max_depth': 14, 'min_samples_split': 2, 'random_state': 42, 'min_samples_leaf': 6}. Best is trial 17 with value: 0.7875.\n[I 2024-02-22 16:27:28,765] Trial 22 finished with value: 0.73125 and parameters: {'n_estimators': 507, 'max_depth': 21, 'min_samples_split': 5, 'random_state': 42, 'min_samples_leaf': 8}. Best is trial 17 with value: 0.7875.\n[I 2024-02-22 16:27:41,708] Trial 23 finished with value: 0.7 and parameters: {'n_estimators': 643, 'max_depth': 10, 'min_samples_split': 4, 'random_state': 42, 'min_samples_leaf': 12}. Best is trial 17 with value: 0.7875.\n[I 2024-02-22 16:27:58,052] Trial 24 finished with value: 0.8125 and parameters: {'n_estimators': 753, 'max_depth': 15, 'min_samples_split': 7, 'random_state': 42, 'min_samples_leaf': 4}. Best is trial 24 with value: 0.8125.\n[I 2024-02-22 16:28:15,743] Trial 25 finished with value: 0.80625 and parameters: {'n_estimators': 786, 'max_depth': 15, 'min_samples_split': 8, 'random_state': 42, 'min_samples_leaf': 3}. Best is trial 24 with value: 0.8125.\n[I 2024-02-22 16:28:32,750] Trial 26 finished with value: 0.821875 and parameters: {'n_estimators': 786, 'max_depth': 22, 'min_samples_split': 8, 'random_state': 42, 'min_samples_leaf': 4}. Best is trial 26 with value: 0.821875.\n[I 2024-02-22 16:28:49,900] Trial 27 finished with value: 0.75625 and parameters: {'n_estimators': 795, 'max_depth': 22, 'min_samples_split': 16, 'random_state': 42, 'min_samples_leaf': 4}. Best is trial 26 with value: 0.821875.\n[I 2024-02-22 16:29:12,262] Trial 28 finished with value: 0.8125 and parameters: {'n_estimators': 970, 'max_depth': 27, 'min_samples_split': 9, 'random_state': 42, 'min_samples_leaf': 1}. Best is trial 26 with value: 0.821875.\n[I 2024-02-22 16:29:35,572] Trial 29 finished with value: 0.759375 and parameters: {'n_estimators': 1000, 'max_depth': 34, 'min_samples_split': 14, 'random_state': 42, 'min_samples_leaf': 1}. Best is trial 26 with value: 0.821875.\n[I 2024-02-22 16:29:55,787] Trial 30 finished with value: 0.725 and parameters: {'n_estimators': 911, 'max_depth': 39, 'min_samples_split': 9, 'random_state': 42, 'min_samples_leaf': 10}. Best is trial 26 with value: 0.821875.\n[I 2024-02-22 16:30:14,006] Trial 31 finished with value: 0.821875 and parameters: {'n_estimators': 760, 'max_depth': 28, 'min_samples_split': 8, 'random_state': 42, 'min_samples_leaf': 4}. Best is trial 26 with value: 0.821875.\n[I 2024-02-22 16:30:32,355] Trial 32 finished with value: 0.821875 and parameters: {'n_estimators': 740, 'max_depth': 29, 'min_samples_split': 7, 'random_state': 42, 'min_samples_leaf': 4}. Best is trial 26 with value: 0.821875.\n[I 2024-02-22 16:30:50,101] Trial 33 finished with value: 0.725 and parameters: {'n_estimators': 737, 'max_depth': 29, 'min_samples_split': 19, 'random_state': 42, 'min_samples_leaf': 4}. Best is trial 26 with value: 0.821875.\n[I 2024-02-22 16:31:09,036] Trial 34 finished with value: 0.740625 and parameters: {'n_estimators': 802, 'max_depth': 29, 'min_samples_split': 6, 'random_state': 42, 'min_samples_leaf': 8}. Best is trial 26 with value: 0.821875.\n[I 2024-02-22 16:31:26,476] Trial 35 finished with value: 0.76875 and parameters: {'n_estimators': 702, 'max_depth': 23, 'min_samples_split': 13, 'random_state': 42, 'min_samples_leaf': 5}. Best is trial 26 with value: 0.821875.\n[I 2024-02-22 16:31:46,081] Trial 36 finished with value: 0.7125 and parameters: {'n_estimators': 836, 'max_depth': 36, 'min_samples_split': 11, 'random_state': 42, 'min_samples_leaf': 12}. Best is trial 26 with value: 0.821875.\n[I 2024-02-22 16:32:03,024] Trial 37 finished with value: 0.840625 and parameters: {'n_estimators': 636, 'max_depth': 20, 'min_samples_split': 4, 'random_state': 42, 'min_samples_leaf': 3}. Best is trial 37 with value: 0.840625.\n[I 2024-02-22 16:32:17,810] Trial 38 finished with value: 0.496875 and parameters: {'n_estimators': 641, 'max_depth': 25, 'min_samples_split': 5, 'random_state': 42, 'min_samples_leaf': 32}. Best is trial 37 with value: 0.840625.\n[I 2024-02-22 16:32:34,560] Trial 39 finished with value: 0.66875 and parameters: {'n_estimators': 695, 'max_depth': 20, 'min_samples_split': 4, 'random_state': 42, 'min_samples_leaf': 16}. Best is trial 37 with value: 0.840625.\n[I 2024-02-22 16:32:56,772] Trial 40 finished with value: 0.575 and parameters: {'n_estimators': 928, 'max_depth': 33, 'min_samples_split': 14, 'random_state': 42, 'min_samples_leaf': 24}. Best is trial 37 with value: 0.840625.\n[I 2024-02-22 16:33:15,218] Trial 41 finished with value: 0.821875 and parameters: {'n_estimators': 745, 'max_depth': 28, 'min_samples_split': 7, 'random_state': 42, 'min_samples_leaf': 4}. Best is trial 37 with value: 0.840625.\n[I 2024-02-22 16:33:30,307] Trial 42 finished with value: 0.640625 and parameters: {'n_estimators': 619, 'max_depth': 28, 'min_samples_split': 32, 'random_state': 42, 'min_samples_leaf': 3}. Best is trial 37 with value: 0.840625.\n[I 2024-02-22 16:33:47,409] Trial 43 finished with value: 0.76875 and parameters: {'n_estimators': 702, 'max_depth': 24, 'min_samples_split': 7, 'random_state': 42, 'min_samples_leaf': 7}. Best is trial 37 with value: 0.840625.\n[I 2024-02-22 16:34:07,944] Trial 44 finished with value: 0.78125 and parameters: {'n_estimators': 827, 'max_depth': 37, 'min_samples_split': 12, 'random_state': 42, 'min_samples_leaf': 5}. Best is trial 37 with value: 0.840625.\n[I 2024-02-22 16:34:26,563] Trial 45 finished with value: 0.875 and parameters: {'n_estimators': 660, 'max_depth': 31, 'min_samples_split': 3, 'random_state': 42, 'min_samples_leaf': 1}. Best is trial 45 with value: 0.875.\n[I 2024-02-22 16:34:40,383] Trial 46 finished with value: 0.875 and parameters: {'n_estimators': 497, 'max_depth': 43, 'min_samples_split': 3, 'random_state': 42, 'min_samples_leaf': 1}. Best is trial 45 with value: 0.875.\n[I 2024-02-22 16:34:53,800] Trial 47 finished with value: 0.875 and parameters: {'n_estimators': 484, 'max_depth': 50, 'min_samples_split': 3, 'random_state': 42, 'min_samples_leaf': 1}. Best is trial 45 with value: 0.875.\n[I 2024-02-22 16:35:06,775] Trial 48 finished with value: 0.88125 and parameters: {'n_estimators': 472, 'max_depth': 44, 'min_samples_split': 2, 'random_state': 42, 'min_samples_leaf': 1}. Best is trial 48 with value: 0.88125.\n[I 2024-02-22 16:35:19,144] Trial 49 finished with value: 0.878125 and parameters: {'n_estimators': 446, 'max_depth': 49, 'min_samples_split': 3, 'random_state': 42, 'min_samples_leaf': 1}. Best is trial 48 with value: 0.88125.\n[I 2024-02-22 16:35:31,286] Trial 50 finished with value: 0.88125 and parameters: {'n_estimators': 440, 'max_depth': 50, 'min_samples_split': 2, 'random_state': 42, 'min_samples_leaf': 1}. Best is trial 48 with value: 0.88125.\n[I 2024-02-22 16:35:43,712] Trial 51 finished with value: 0.88125 and parameters: {'n_estimators': 442, 'max_depth': 50, 'min_samples_split': 2, 'random_state': 42, 'min_samples_leaf': 1}. Best is trial 48 with value: 0.88125.\n[I 2024-02-22 16:35:55,306] Trial 52 finished with value: 0.884375 and parameters: {'n_estimators': 421, 'max_depth': 43, 'min_samples_split': 2, 'random_state': 42, 'min_samples_leaf': 1}. Best is trial 52 with value: 0.884375.\n[I 2024-02-22 16:36:06,765] Trial 53 finished with value: 0.875 and parameters: {'n_estimators': 426, 'max_depth': 49, 'min_samples_split': 2, 'random_state': 42, 'min_samples_leaf': 2}. Best is trial 52 with value: 0.884375.\n[I 2024-02-22 16:36:17,479] Trial 54 finished with value: 0.871875 and parameters: {'n_estimators': 396, 'max_depth': 44, 'min_samples_split': 2, 'random_state': 42, 'min_samples_leaf': 2}. Best is trial 52 with value: 0.884375.\n[I 2024-02-22 16:36:26,447] Trial 55 finished with value: 0.85625 and parameters: {'n_estimators': 331, 'max_depth': 47, 'min_samples_split': 5, 'random_state': 42, 'min_samples_leaf': 1}. Best is trial 52 with value: 0.884375.\n[I 2024-02-22 16:36:38,450] Trial 56 finished with value: 0.88125 and parameters: {'n_estimators': 452, 'max_depth': 44, 'min_samples_split': 3, 'random_state': 42, 'min_samples_leaf': 2}. Best is trial 52 with value: 0.884375.\n[I 2024-02-22 16:36:44,637] Trial 57 finished with value: 0.53125 and parameters: {'n_estimators': 265, 'max_depth': 44, 'min_samples_split': 27, 'random_state': 42, 'min_samples_leaf': 27}. Best is trial 52 with value: 0.884375.\n[I 2024-02-22 16:36:55,423] Trial 58 finished with value: 0.784375 and parameters: {'n_estimators': 429, 'max_depth': 42, 'min_samples_split': 2, 'random_state': 42, 'min_samples_leaf': 6}. Best is trial 52 with value: 0.884375.\n[I 2024-02-22 16:37:07,514] Trial 59 finished with value: 0.846875 and parameters: {'n_estimators': 460, 'max_depth': 48, 'min_samples_split': 4, 'random_state': 42, 'min_samples_leaf': 3}. Best is trial 52 with value: 0.884375.\n[I 2024-02-22 16:37:17,936] Trial 60 finished with value: 0.859375 and parameters: {'n_estimators': 363, 'max_depth': 46, 'min_samples_split': 5, 'random_state': 42, 'min_samples_leaf': 2}. Best is trial 52 with value: 0.884375.\n[I 2024-02-22 16:37:31,837] Trial 61 finished with value: 0.878125 and parameters: {'n_estimators': 514, 'max_depth': 40, 'min_samples_split': 3, 'random_state': 42, 'min_samples_leaf': 2}. Best is trial 52 with value: 0.884375.\n[I 2024-02-22 16:37:46,113] Trial 62 finished with value: 0.878125 and parameters: {'n_estimators': 525, 'max_depth': 41, 'min_samples_split': 3, 'random_state': 42, 'min_samples_leaf': 2}. Best is trial 52 with value: 0.884375.\n[I 2024-02-22 16:37:55,960] Trial 63 finished with value: 0.66875 and parameters: {'n_estimators': 402, 'max_depth': 45, 'min_samples_split': 2, 'random_state': 42, 'min_samples_leaf': 18}. Best is trial 52 with value: 0.884375.\n[I 2024-02-22 16:38:08,029] Trial 64 finished with value: 0.85 and parameters: {'n_estimators': 467, 'max_depth': 39, 'min_samples_split': 5, 'random_state': 42, 'min_samples_leaf': 3}. Best is trial 52 with value: 0.884375.\n[I 2024-02-22 16:38:21,576] Trial 65 finished with value: 0.80625 and parameters: {'n_estimators': 523, 'max_depth': 50, 'min_samples_split': 3, 'random_state': 42, 'min_samples_leaf': 5}. Best is trial 52 with value: 0.884375.\n[I 2024-02-22 16:38:30,497] Trial 66 finished with value: 0.871875 and parameters: {'n_estimators': 331, 'max_depth': 48, 'min_samples_split': 4, 'random_state': 42, 'min_samples_leaf': 2}. Best is trial 52 with value: 0.884375.\n[I 2024-02-22 16:38:45,341] Trial 67 finished with value: 0.765625 and parameters: {'n_estimators': 595, 'max_depth': 46, 'min_samples_split': 6, 'random_state': 42, 'min_samples_leaf': 7}. Best is trial 52 with value: 0.884375.\n[I 2024-02-22 16:38:57,053] Trial 68 finished with value: 0.846875 and parameters: {'n_estimators': 431, 'max_depth': 40, 'min_samples_split': 2, 'random_state': 42, 'min_samples_leaf': 3}. Best is trial 52 with value: 0.884375.\n[I 2024-02-22 16:39:08,813] Trial 69 finished with value: 0.878125 and parameters: {'n_estimators': 448, 'max_depth': 48, 'min_samples_split': 4, 'random_state': 42, 'min_samples_leaf': 2}. Best is trial 52 with value: 0.884375.\n[I 2024-02-22 16:39:14,350] Trial 70 finished with value: 0.7875 and parameters: {'n_estimators': 213, 'max_depth': 43, 'min_samples_split': 5, 'random_state': 42, 'min_samples_leaf': 5}. Best is trial 52 with value: 0.884375.\n[I 2024-02-22 16:39:28,247] Trial 71 finished with value: 0.875 and parameters: {'n_estimators': 508, 'max_depth': 41, 'min_samples_split': 3, 'random_state': 42, 'min_samples_leaf': 1}. Best is trial 52 with value: 0.884375.\n[I 2024-02-22 16:39:42,801] Trial 72 finished with value: 0.88125 and parameters: {'n_estimators': 557, 'max_depth': 38, 'min_samples_split': 2, 'random_state': 42, 'min_samples_leaf': 2}. Best is trial 52 with value: 0.884375.\n[I 2024-02-22 16:39:57,423] Trial 73 finished with value: 0.8875 and parameters: {'n_estimators': 539, 'max_depth': 37, 'min_samples_split': 2, 'random_state': 42, 'min_samples_leaf': 1}. Best is trial 73 with value: 0.8875.\n[I 2024-02-22 16:40:13,745] Trial 74 finished with value: 0.8875 and parameters: {'n_estimators': 585, 'max_depth': 45, 'min_samples_split': 2, 'random_state': 42, 'min_samples_leaf': 1}. Best is trial 73 with value: 0.8875.\n[I 2024-02-22 16:40:29,670] Trial 75 finished with value: 0.84375 and parameters: {'n_estimators': 588, 'max_depth': 45, 'min_samples_split': 2, 'random_state': 42, 'min_samples_leaf': 3}. Best is trial 73 with value: 0.8875.\n[I 2024-02-22 16:40:43,284] Trial 76 finished with value: 0.809375 and parameters: {'n_estimators': 548, 'max_depth': 38, 'min_samples_split': 6, 'random_state': 42, 'min_samples_leaf': 5}. Best is trial 73 with value: 0.8875.\n[I 2024-02-22 16:40:55,963] Trial 77 finished with value: 0.846875 and parameters: {'n_estimators': 478, 'max_depth': 35, 'min_samples_split': 2, 'random_state': 42, 'min_samples_leaf': 3}. Best is trial 73 with value: 0.8875.\n[I 2024-02-22 16:41:05,263] Trial 78 finished with value: 0.625 and parameters: {'n_estimators': 407, 'max_depth': 42, 'min_samples_split': 4, 'random_state': 42, 'min_samples_leaf': 21}. Best is trial 73 with value: 0.8875.\n[I 2024-02-22 16:41:14,621] Trial 79 finished with value: 0.775 and parameters: {'n_estimators': 380, 'max_depth': 45, 'min_samples_split': 6, 'random_state': 42, 'min_samples_leaf': 6}. Best is trial 73 with value: 0.8875.\n[I 2024-02-22 16:41:28,920] Trial 80 finished with value: 0.68125 and parameters: {'n_estimators': 572, 'max_depth': 43, 'min_samples_split': 24, 'random_state': 42, 'min_samples_leaf': 1}. Best is trial 73 with value: 0.8875.\n[I 2024-02-22 16:41:42,971] Trial 81 finished with value: 0.878125 and parameters: {'n_estimators': 535, 'max_depth': 49, 'min_samples_split': 3, 'random_state': 42, 'min_samples_leaf': 1}. Best is trial 73 with value: 0.8875.\n[I 2024-02-22 16:41:55,411] Trial 82 finished with value: 0.875 and parameters: {'n_estimators': 449, 'max_depth': 47, 'min_samples_split': 4, 'random_state': 42, 'min_samples_leaf': 1}. Best is trial 73 with value: 0.8875.\n[I 2024-02-22 16:42:07,752] Trial 83 finished with value: 0.74375 and parameters: {'n_estimators': 490, 'max_depth': 50, 'min_samples_split': 17, 'random_state': 42, 'min_samples_leaf': 2}. Best is trial 73 with value: 0.8875.\n[I 2024-02-22 16:42:22,346] Trial 84 finished with value: 0.821875 and parameters: {'n_estimators': 608, 'max_depth': 49, 'min_samples_split': 2, 'random_state': 42, 'min_samples_leaf': 4}. Best is trial 73 with value: 0.8875.\n[I 2024-02-22 16:42:33,841] Trial 85 finished with value: 0.84375 and parameters: {'n_estimators': 469, 'max_depth': 47, 'min_samples_split': 3, 'random_state': 42, 'min_samples_leaf': 3}. Best is trial 73 with value: 0.8875.\n[I 2024-02-22 16:42:46,204] Trial 86 finished with value: 0.659375 and parameters: {'n_estimators': 555, 'max_depth': 46, 'min_samples_split': 29, 'random_state': 42, 'min_samples_leaf': 1}. Best is trial 73 with value: 0.8875.\n[I 2024-02-22 16:42:56,193] Trial 87 finished with value: 0.8625 and parameters: {'n_estimators': 419, 'max_depth': 38, 'min_samples_split': 5, 'random_state': 42, 'min_samples_leaf': 2}. Best is trial 73 with value: 0.8875.\n[I 2024-02-22 16:43:04,183] Trial 88 finished with value: 0.821875 and parameters: {'n_estimators': 346, 'max_depth': 44, 'min_samples_split': 2, 'random_state': 42, 'min_samples_leaf': 4}. Best is trial 73 with value: 0.8875.\n[I 2024-02-22 16:43:11,562] Trial 89 finished with value: 0.6875 and parameters: {'n_estimators': 365, 'max_depth': 42, 'min_samples_split': 4, 'random_state': 42, 'min_samples_leaf': 14}. Best is trial 73 with value: 0.8875.\n[I 2024-02-22 16:43:20,471] Trial 90 finished with value: 0.846875 and parameters: {'n_estimators': 385, 'max_depth': 48, 'min_samples_split': 3, 'random_state': 42, 'min_samples_leaf': 3}. Best is trial 73 with value: 0.8875.\n[I 2024-02-22 16:43:32,271] Trial 91 finished with value: 0.878125 and parameters: {'n_estimators': 510, 'max_depth': 40, 'min_samples_split': 3, 'random_state': 42, 'min_samples_leaf': 2}. Best is trial 73 with value: 0.8875.\n[I 2024-02-22 16:43:44,005] Trial 92 finished with value: 0.88125 and parameters: {'n_estimators': 491, 'max_depth': 37, 'min_samples_split': 2, 'random_state': 42, 'min_samples_leaf': 1}. Best is trial 73 with value: 0.8875.\n[I 2024-02-22 16:43:54,877] Trial 93 finished with value: 0.88125 and parameters: {'n_estimators': 452, 'max_depth': 49, 'min_samples_split': 2, 'random_state': 42, 'min_samples_leaf': 1}. Best is trial 73 with value: 0.8875.\n[I 2024-02-22 16:44:06,390] Trial 94 finished with value: 0.88125 and parameters: {'n_estimators': 491, 'max_depth': 33, 'min_samples_split': 2, 'random_state': 42, 'min_samples_leaf': 1}. Best is trial 73 with value: 0.8875.\n[I 2024-02-22 16:44:19,361] Trial 95 finished with value: 0.878125 and parameters: {'n_estimators': 572, 'max_depth': 35, 'min_samples_split': 4, 'random_state': 42, 'min_samples_leaf': 2}. Best is trial 73 with value: 0.8875.\n[I 2024-02-22 16:44:30,965] Trial 96 finished with value: 0.821875 and parameters: {'n_estimators': 533, 'max_depth': 45, 'min_samples_split': 2, 'random_state': 42, 'min_samples_leaf': 4}. Best is trial 73 with value: 0.8875.\n[I 2024-02-22 16:44:41,214] Trial 97 finished with value: 0.709375 and parameters: {'n_estimators': 464, 'max_depth': 37, 'min_samples_split': 21, 'random_state': 42, 'min_samples_leaf': 2}. Best is trial 73 with value: 0.8875.\n[I 2024-02-22 16:44:51,210] Trial 98 finished with value: 0.846875 and parameters: {'n_estimators': 439, 'max_depth': 41, 'min_samples_split': 2, 'random_state': 42, 'min_samples_leaf': 3}. Best is trial 73 with value: 0.8875.\n[I 2024-02-22 16:45:00,654] Trial 99 finished with value: 0.86875 and parameters: {'n_estimators': 414, 'max_depth': 50, 'min_samples_split': 5, 'random_state': 42, 'min_samples_leaf': 1}. Best is trial 73 with value: 0.8875.\n",
          "output_type": "stream"
        },
        {
          "name": "stdout",
          "text": "Best params found : {'n_estimators': 539, 'max_depth': 37, 'min_samples_split': 2, 'random_state': 42, 'min_samples_leaf': 1}\n",
          "output_type": "stream"
        },
        {
          "execution_count": 47,
          "output_type": "execute_result",
          "data": {
            "text/plain": "0.9875"
          },
          "metadata": {}
        }
      ]
    },
    {
      "cell_type": "code",
      "source": [
        "final_model = RandomForestClassifier(**best_params)\n",
        "final_model.fit(X_train_reduced, y_train)\n",
        "y_pred = final_model.predict(X_test_reduced)\n",
        "prediction_results['random forest'] = y_pred\n",
        "\n",
        "accuracy = accuracy_score(y_test, y_pred)\n",
        "precision = precision_score(y_test, y_pred, average='macro')\n",
        "recall = recall_score(y_test, y_pred, average='macro')\n",
        "f1 = f1_score(y_test, y_pred, average='macro')\n",
        "\n",
        "# One-hot encoding for probability calculation (adapt if necessary)\n",
        "y_test_onehot = pd.get_dummies(y_test, prefix='label_')  # Assuming 'label_' prefix for clarity\n",
        "y_pred_onehot = pd.get_dummies(y_pred, prefix='label_')\n",
        "\n",
        "# ROC AUC score with multiclass handling\n",
        "roc_auc_macro = roc_auc_score(y_test_onehot, y_pred_onehot, average='macro', multi_class='ovo')  # Specify 'ovo' or 'ovr'\n",
        "\n",
        "print(\"accuracy:\", accuracy)\n",
        "print(\"recall:\", recall)\n",
        "print(\"precision:\", precision)\n",
        "print(\"f1-score:\", f1)\n",
        "print('roc_auc: ', roc_auc_macro)"
      ],
      "metadata": {
        "id": "HvLn9CnCZocY",
        "outputId": "186f602c-942d-411f-f37a-ddbdb4165c42",
        "execution": {
          "iopub.status.busy": "2024-02-22T16:45:03.194544Z",
          "iopub.execute_input": "2024-02-22T16:45:03.194967Z",
          "iopub.status.idle": "2024-02-22T16:45:05.922551Z",
          "shell.execute_reply.started": "2024-02-22T16:45:03.194931Z",
          "shell.execute_reply": "2024-02-22T16:45:05.920778Z"
        },
        "trusted": true
      },
      "execution_count": null,
      "outputs": [
        {
          "name": "stdout",
          "text": "accuracy: 0.9875\nrecall: 0.9722222222222222\nprecision: 0.9629629629629629\nf1-score: 0.9666666666666666\nroc_auc:  0.7339803738490329\n",
          "output_type": "stream"
        }
      ]
    },
    {
      "cell_type": "markdown",
      "source": [
        "## Gassian NB"
      ],
      "metadata": {
        "id": "tcpEfPDrZocZ"
      }
    },
    {
      "cell_type": "markdown",
      "source": [
        "**Pre-tunning**"
      ],
      "metadata": {
        "id": "uioGxVHmZocZ"
      }
    },
    {
      "cell_type": "code",
      "source": [
        "from sklearn.naive_bayes import GaussianNB\n",
        "gnb = GaussianNB()\n",
        "gnb.fit(X_train_reduced, y_train)\n",
        "\n",
        "y_pred = gnb.predict(X_test_reduced)\n",
        "\n",
        "accuracy = accuracy_score(y_test, y_pred)\n",
        "precision = precision_score(y_test, y_pred, average='macro')\n",
        "recall = recall_score(y_test, y_pred, average='macro')\n",
        "f1 = f1_score(y_test, y_pred, average='macro')\n",
        "\n",
        "# One-hot encoding for probability calculation (adapt if necessary)\n",
        "y_test_onehot = pd.get_dummies(y_test, prefix='label_')  # Assuming 'label_' prefix for clarity\n",
        "y_pred_onehot = pd.get_dummies(y_pred, prefix='label_')\n",
        "\n",
        "# ROC AUC score with multiclass handling\n",
        "roc_auc_macro = roc_auc_score(y_test_onehot, y_pred_onehot, average='macro', multi_class='ovo')  # Specify 'ovo' or 'ovr'\n",
        "\n",
        "print(\"accuracy:\", accuracy)\n",
        "print(\"recall:\", recall)\n",
        "print(\"precision:\", precision)\n",
        "print(\"f1-score:\", f1)\n",
        "print('roc_auc: ', roc_auc_macro)\n"
      ],
      "metadata": {
        "id": "fUTe160HZocZ",
        "outputId": "09f09b60-3239-4559-eae4-8cc44c2edc3f",
        "execution": {
          "iopub.status.busy": "2024-02-22T16:45:05.926443Z",
          "iopub.execute_input": "2024-02-22T16:45:05.926833Z",
          "iopub.status.idle": "2024-02-22T16:45:05.981287Z",
          "shell.execute_reply.started": "2024-02-22T16:45:05.926799Z",
          "shell.execute_reply": "2024-02-22T16:45:05.979828Z"
        },
        "trusted": true
      },
      "execution_count": null,
      "outputs": [
        {
          "name": "stdout",
          "text": "accuracy: 0.975\nrecall: 0.9583333333333334\nprecision: 0.9527777777777777\nf1-score: 0.9506172839506173\nroc_auc:  0.7339875119474435\n",
          "output_type": "stream"
        }
      ]
    },
    {
      "cell_type": "markdown",
      "source": [
        "**Tunning**"
      ],
      "metadata": {
        "id": "JRG7dGQUZocZ"
      }
    },
    {
      "cell_type": "code",
      "source": [
        "def objective(trial):\n",
        "    hyperparams = {\n",
        "        'var_smoothing': trial.suggest_float('var_smoothing', 1e-9, 1e-4, log = True)\n",
        "    }\n",
        "\n",
        "    model = GaussianNB(**hyperparams)\n",
        "    scores = cross_val_score(model, X_train_reduced, y_train, cv = kf,scoring = 'accuracy')\n",
        "    return np.mean(scores)"
      ],
      "metadata": {
        "id": "_tWof9reZoca",
        "execution": {
          "iopub.status.busy": "2024-02-22T16:45:05.983151Z",
          "iopub.execute_input": "2024-02-22T16:45:05.983500Z",
          "iopub.status.idle": "2024-02-22T16:45:05.990825Z",
          "shell.execute_reply.started": "2024-02-22T16:45:05.983471Z",
          "shell.execute_reply": "2024-02-22T16:45:05.989357Z"
        },
        "trusted": true
      },
      "execution_count": null,
      "outputs": []
    },
    {
      "cell_type": "code",
      "source": [
        "study = optuna.create_study(direction = 'maximize')\n",
        "study.optimize(objective, n_trials = 100)\n",
        "best_params = study.best_params\n",
        "print(\"Best params found :\", best_params)\n",
        "\n",
        "final_model = GaussianNB(**best_params)\n",
        "final_model.fit(X_train_reduced, y_train)\n",
        "y_pred = final_model.predict(X_test_reduced)\n",
        "prediction_results['gnb'] = y_pred\n",
        "\n",
        "accuracy = accuracy_score(y_test, y_pred)\n",
        "precision = precision_score(y_test, y_pred, average='macro')\n",
        "recall = recall_score(y_test, y_pred, average='macro')\n",
        "f1 = f1_score(y_test, y_pred, average='macro')\n",
        "\n",
        "# One-hot encoding for probability calculation (adapt if necessary)\n",
        "y_test_onehot = pd.get_dummies(y_test, prefix='label_')  # Assuming 'label_' prefix for clarity\n",
        "y_pred_onehot = pd.get_dummies(y_pred, prefix='label_')\n",
        "\n",
        "# ROC AUC score with multiclass handling\n",
        "roc_auc_macro = roc_auc_score(y_test_onehot, y_pred_onehot, average='macro', multi_class='ovo')  # Specify 'ovo' or 'ovr'\n",
        "\n",
        "print(\"accuracy:\", accuracy)\n",
        "print(\"recall:\", recall)\n",
        "print(\"precision:\", precision)\n",
        "print(\"f1-score:\", f1)\n",
        "print('roc_auc: ', roc_auc_macro)"
      ],
      "metadata": {
        "id": "-j4_mbxYZoca",
        "outputId": "6e982841-1f9f-4bb3-d65b-03b45c72be61",
        "execution": {
          "iopub.status.busy": "2024-02-22T16:45:05.992416Z",
          "iopub.execute_input": "2024-02-22T16:45:05.992821Z",
          "iopub.status.idle": "2024-02-22T16:45:11.233368Z",
          "shell.execute_reply.started": "2024-02-22T16:45:05.992724Z",
          "shell.execute_reply": "2024-02-22T16:45:11.231860Z"
        },
        "trusted": true
      },
      "execution_count": null,
      "outputs": [
        {
          "name": "stderr",
          "text": "[I 2024-02-22 16:45:06,000] A new study created in memory with name: no-name-5a1289fb-1e87-4b0b-96b6-e66c1312210b\n[I 2024-02-22 16:45:06,046] Trial 0 finished with value: 0.728125 and parameters: {'var_smoothing': 1.1493896550400249e-08}. Best is trial 0 with value: 0.728125.\n[I 2024-02-22 16:45:06,087] Trial 1 finished with value: 0.728125 and parameters: {'var_smoothing': 6.166751170116735e-09}. Best is trial 0 with value: 0.728125.\n[I 2024-02-22 16:45:06,129] Trial 2 finished with value: 0.728125 and parameters: {'var_smoothing': 2.3420679749207867e-06}. Best is trial 0 with value: 0.728125.\n[I 2024-02-22 16:45:06,172] Trial 3 finished with value: 0.73125 and parameters: {'var_smoothing': 5.1030570268839814e-06}. Best is trial 3 with value: 0.73125.\n[I 2024-02-22 16:45:06,218] Trial 4 finished with value: 0.728125 and parameters: {'var_smoothing': 9.730300672992457e-07}. Best is trial 3 with value: 0.73125.\n[I 2024-02-22 16:45:06,262] Trial 5 finished with value: 0.728125 and parameters: {'var_smoothing': 4.577991205428537e-06}. Best is trial 3 with value: 0.73125.\n[I 2024-02-22 16:45:06,308] Trial 6 finished with value: 0.728125 and parameters: {'var_smoothing': 1.4626689688050485e-07}. Best is trial 3 with value: 0.73125.\n[I 2024-02-22 16:45:06,358] Trial 7 finished with value: 0.728125 and parameters: {'var_smoothing': 4.942658177283748e-08}. Best is trial 3 with value: 0.73125.\n[I 2024-02-22 16:45:06,405] Trial 8 finished with value: 0.728125 and parameters: {'var_smoothing': 6.395155113964812e-07}. Best is trial 3 with value: 0.73125.\n[I 2024-02-22 16:45:06,451] Trial 9 finished with value: 0.73125 and parameters: {'var_smoothing': 1.4221881790539985e-05}. Best is trial 3 with value: 0.73125.\n[I 2024-02-22 16:45:06,502] Trial 10 finished with value: 0.7375 and parameters: {'var_smoothing': 7.963796714008142e-05}. Best is trial 10 with value: 0.7375.\n[I 2024-02-22 16:45:06,552] Trial 11 finished with value: 0.7375 and parameters: {'var_smoothing': 8.868310386246045e-05}. Best is trial 10 with value: 0.7375.\n[I 2024-02-22 16:45:06,604] Trial 12 finished with value: 0.7375 and parameters: {'var_smoothing': 9.098736460271936e-05}. Best is trial 10 with value: 0.7375.\n[I 2024-02-22 16:45:06,655] Trial 13 finished with value: 0.7375 and parameters: {'var_smoothing': 8.351154318121898e-05}. Best is trial 10 with value: 0.7375.\n[I 2024-02-22 16:45:06,705] Trial 14 finished with value: 0.734375 and parameters: {'var_smoothing': 2.9299667818381956e-05}. Best is trial 10 with value: 0.7375.\n[I 2024-02-22 16:45:06,759] Trial 15 finished with value: 0.73125 and parameters: {'var_smoothing': 1.8365695459505723e-05}. Best is trial 10 with value: 0.7375.\n[I 2024-02-22 16:45:06,812] Trial 16 finished with value: 0.728125 and parameters: {'var_smoothing': 2.173776323424868e-09}. Best is trial 10 with value: 0.7375.\n[I 2024-02-22 16:45:06,864] Trial 17 finished with value: 0.734375 and parameters: {'var_smoothing': 3.0685854354585953e-05}. Best is trial 10 with value: 0.7375.\n[I 2024-02-22 16:45:06,916] Trial 18 finished with value: 0.728125 and parameters: {'var_smoothing': 1.8408492932005077e-07}. Best is trial 10 with value: 0.7375.\n[I 2024-02-22 16:45:06,968] Trial 19 finished with value: 0.73125 and parameters: {'var_smoothing': 7.2940528492101105e-06}. Best is trial 10 with value: 0.7375.\n[I 2024-02-22 16:45:07,020] Trial 20 finished with value: 0.7375 and parameters: {'var_smoothing': 9.955414827448201e-05}. Best is trial 10 with value: 0.7375.\n[I 2024-02-22 16:45:07,075] Trial 21 finished with value: 0.7375 and parameters: {'var_smoothing': 9.532542348059257e-05}. Best is trial 10 with value: 0.7375.\n[I 2024-02-22 16:45:07,125] Trial 22 finished with value: 0.734375 and parameters: {'var_smoothing': 4.095180685327963e-05}. Best is trial 10 with value: 0.7375.\n[I 2024-02-22 16:45:07,174] Trial 23 finished with value: 0.73125 and parameters: {'var_smoothing': 1.141169799298581e-05}. Best is trial 10 with value: 0.7375.\n[I 2024-02-22 16:45:07,224] Trial 24 finished with value: 0.728125 and parameters: {'var_smoothing': 2.6553446123285788e-06}. Best is trial 10 with value: 0.7375.\n[I 2024-02-22 16:45:07,274] Trial 25 finished with value: 0.734375 and parameters: {'var_smoothing': 4.678787236333867e-05}. Best is trial 10 with value: 0.7375.\n[I 2024-02-22 16:45:07,324] Trial 26 finished with value: 0.73125 and parameters: {'var_smoothing': 1.419456754265997e-05}. Best is trial 10 with value: 0.7375.\n[I 2024-02-22 16:45:07,380] Trial 27 finished with value: 0.728125 and parameters: {'var_smoothing': 1.2455650098284222e-06}. Best is trial 10 with value: 0.7375.\n[I 2024-02-22 16:45:07,433] Trial 28 finished with value: 0.734375 and parameters: {'var_smoothing': 3.4641096240366184e-05}. Best is trial 10 with value: 0.7375.\n[I 2024-02-22 16:45:07,483] Trial 29 finished with value: 0.728125 and parameters: {'var_smoothing': 3.05190937850397e-08}. Best is trial 10 with value: 0.7375.\n[I 2024-02-22 16:45:07,532] Trial 30 finished with value: 0.734375 and parameters: {'var_smoothing': 5.366442847059504e-05}. Best is trial 10 with value: 0.7375.\n[I 2024-02-22 16:45:07,582] Trial 31 finished with value: 0.7375 and parameters: {'var_smoothing': 9.277635825523848e-05}. Best is trial 10 with value: 0.7375.\n[I 2024-02-22 16:45:07,635] Trial 32 finished with value: 0.734375 and parameters: {'var_smoothing': 5.855257225828552e-05}. Best is trial 10 with value: 0.7375.\n[I 2024-02-22 16:45:07,688] Trial 33 finished with value: 0.734375 and parameters: {'var_smoothing': 2.3430570326052787e-05}. Best is trial 10 with value: 0.7375.\n[I 2024-02-22 16:45:07,741] Trial 34 finished with value: 0.73125 and parameters: {'var_smoothing': 6.377722219457203e-06}. Best is trial 10 with value: 0.7375.\n[I 2024-02-22 16:45:07,794] Trial 35 finished with value: 0.7375 and parameters: {'var_smoothing': 9.54186371600312e-05}. Best is trial 10 with value: 0.7375.\n[I 2024-02-22 16:45:07,846] Trial 36 finished with value: 0.728125 and parameters: {'var_smoothing': 2.7175786272445733e-06}. Best is trial 10 with value: 0.7375.\n[I 2024-02-22 16:45:07,900] Trial 37 finished with value: 0.73125 and parameters: {'var_smoothing': 9.198209574801173e-06}. Best is trial 10 with value: 0.7375.\n[I 2024-02-22 16:45:07,952] Trial 38 finished with value: 0.73125 and parameters: {'var_smoothing': 1.9083627276406118e-05}. Best is trial 10 with value: 0.7375.\n[I 2024-02-22 16:45:08,006] Trial 39 finished with value: 0.728125 and parameters: {'var_smoothing': 1.2122364040457145e-08}. Best is trial 10 with value: 0.7375.\n[I 2024-02-22 16:45:08,055] Trial 40 finished with value: 0.728125 and parameters: {'var_smoothing': 4.1878548990500224e-07}. Best is trial 10 with value: 0.7375.\n[I 2024-02-22 16:45:08,105] Trial 41 finished with value: 0.734375 and parameters: {'var_smoothing': 6.253143572801538e-05}. Best is trial 10 with value: 0.7375.\n[I 2024-02-22 16:45:08,156] Trial 42 finished with value: 0.7375 and parameters: {'var_smoothing': 9.684146486501931e-05}. Best is trial 10 with value: 0.7375.\n[I 2024-02-22 16:45:08,207] Trial 43 finished with value: 0.734375 and parameters: {'var_smoothing': 4.400840644913157e-05}. Best is trial 10 with value: 0.7375.\n[I 2024-02-22 16:45:08,256] Trial 44 finished with value: 0.734375 and parameters: {'var_smoothing': 2.29983317265606e-05}. Best is trial 10 with value: 0.7375.\n[I 2024-02-22 16:45:08,314] Trial 45 finished with value: 0.734375 and parameters: {'var_smoothing': 5.259277411214249e-05}. Best is trial 10 with value: 0.7375.\n[I 2024-02-22 16:45:08,365] Trial 46 finished with value: 0.728125 and parameters: {'var_smoothing': 4.315120921858035e-06}. Best is trial 10 with value: 0.7375.\n[I 2024-02-22 16:45:08,419] Trial 47 finished with value: 0.728125 and parameters: {'var_smoothing': 1.592444980860271e-09}. Best is trial 10 with value: 0.7375.\n[I 2024-02-22 16:45:08,470] Trial 48 finished with value: 0.734375 and parameters: {'var_smoothing': 2.5269806136140004e-05}. Best is trial 10 with value: 0.7375.\n[I 2024-02-22 16:45:08,523] Trial 49 finished with value: 0.734375 and parameters: {'var_smoothing': 6.820140852470261e-05}. Best is trial 10 with value: 0.7375.\n[I 2024-02-22 16:45:08,578] Trial 50 finished with value: 0.73125 and parameters: {'var_smoothing': 1.4814465399578058e-05}. Best is trial 10 with value: 0.7375.\n[I 2024-02-22 16:45:08,632] Trial 51 finished with value: 0.7375 and parameters: {'var_smoothing': 9.7589249246634e-05}. Best is trial 10 with value: 0.7375.\n[I 2024-02-22 16:45:08,685] Trial 52 finished with value: 0.734375 and parameters: {'var_smoothing': 3.026647324139902e-05}. Best is trial 10 with value: 0.7375.\n[I 2024-02-22 16:45:08,735] Trial 53 finished with value: 0.734375 and parameters: {'var_smoothing': 3.918604700936585e-05}. Best is trial 10 with value: 0.7375.\n[I 2024-02-22 16:45:08,785] Trial 54 finished with value: 0.734375 and parameters: {'var_smoothing': 7.018508655358473e-05}. Best is trial 10 with value: 0.7375.\n[I 2024-02-22 16:45:08,833] Trial 55 finished with value: 0.728125 and parameters: {'var_smoothing': 8.282035789316561e-08}. Best is trial 10 with value: 0.7375.\n[I 2024-02-22 16:45:08,883] Trial 56 finished with value: 0.73125 and parameters: {'var_smoothing': 1.0687561860835784e-05}. Best is trial 10 with value: 0.7375.\n[I 2024-02-22 16:45:08,933] Trial 57 finished with value: 0.734375 and parameters: {'var_smoothing': 3.846868096124267e-05}. Best is trial 10 with value: 0.7375.\n[I 2024-02-22 16:45:08,982] Trial 58 finished with value: 0.734375 and parameters: {'var_smoothing': 7.381560429443248e-05}. Best is trial 10 with value: 0.7375.\n[I 2024-02-22 16:45:09,034] Trial 59 finished with value: 0.73125 and parameters: {'var_smoothing': 1.683042284583687e-05}. Best is trial 10 with value: 0.7375.\n[I 2024-02-22 16:45:09,086] Trial 60 finished with value: 0.734375 and parameters: {'var_smoothing': 3.16227375105246e-05}. Best is trial 10 with value: 0.7375.\n[I 2024-02-22 16:45:09,134] Trial 61 finished with value: 0.7375 and parameters: {'var_smoothing': 9.177583497445699e-05}. Best is trial 10 with value: 0.7375.\n[I 2024-02-22 16:45:09,183] Trial 62 finished with value: 0.734375 and parameters: {'var_smoothing': 5.396945462151214e-05}. Best is trial 10 with value: 0.7375.\n[I 2024-02-22 16:45:09,236] Trial 63 finished with value: 0.734375 and parameters: {'var_smoothing': 7.146444913051574e-05}. Best is trial 10 with value: 0.7375.\n[I 2024-02-22 16:45:09,289] Trial 64 finished with value: 0.734375 and parameters: {'var_smoothing': 4.3454872324389014e-05}. Best is trial 10 with value: 0.7375.\n[I 2024-02-22 16:45:09,343] Trial 65 finished with value: 0.7375 and parameters: {'var_smoothing': 8.907664379307132e-05}. Best is trial 10 with value: 0.7375.\n[I 2024-02-22 16:45:09,399] Trial 66 finished with value: 0.728125 and parameters: {'var_smoothing': 4.26853164609445e-09}. Best is trial 10 with value: 0.7375.\n[I 2024-02-22 16:45:09,453] Trial 67 finished with value: 0.734375 and parameters: {'var_smoothing': 2.5985623366453694e-05}. Best is trial 10 with value: 0.7375.\n[I 2024-02-22 16:45:09,505] Trial 68 finished with value: 0.734375 and parameters: {'var_smoothing': 5.295199213438596e-05}. Best is trial 10 with value: 0.7375.\n[I 2024-02-22 16:45:09,557] Trial 69 finished with value: 0.728125 and parameters: {'var_smoothing': 1.47337498258361e-06}. Best is trial 10 with value: 0.7375.\n[I 2024-02-22 16:45:09,613] Trial 70 finished with value: 0.73125 and parameters: {'var_smoothing': 1.912538349717459e-05}. Best is trial 10 with value: 0.7375.\n[I 2024-02-22 16:45:09,666] Trial 71 finished with value: 0.7375 and parameters: {'var_smoothing': 9.316572694247118e-05}. Best is trial 10 with value: 0.7375.\n[I 2024-02-22 16:45:09,717] Trial 72 finished with value: 0.7375 and parameters: {'var_smoothing': 9.714578367543479e-05}. Best is trial 10 with value: 0.7375.\n[I 2024-02-22 16:45:09,770] Trial 73 finished with value: 0.734375 and parameters: {'var_smoothing': 5.897039046528666e-05}. Best is trial 10 with value: 0.7375.\n[I 2024-02-22 16:45:09,822] Trial 74 finished with value: 0.734375 and parameters: {'var_smoothing': 3.39758488528263e-05}. Best is trial 10 with value: 0.7375.\n[I 2024-02-22 16:45:09,874] Trial 75 finished with value: 0.734375 and parameters: {'var_smoothing': 7.214393008909247e-05}. Best is trial 10 with value: 0.7375.\n[I 2024-02-22 16:45:09,928] Trial 76 finished with value: 0.734375 and parameters: {'var_smoothing': 4.489210281811785e-05}. Best is trial 10 with value: 0.7375.\n[I 2024-02-22 16:45:09,983] Trial 77 finished with value: 0.7375 and parameters: {'var_smoothing': 9.950237602642764e-05}. Best is trial 10 with value: 0.7375.\n[I 2024-02-22 16:45:10,040] Trial 78 finished with value: 0.73125 and parameters: {'var_smoothing': 2.1985619290834357e-05}. Best is trial 10 with value: 0.7375.\n[I 2024-02-22 16:45:10,093] Trial 79 finished with value: 0.728125 and parameters: {'var_smoothing': 2.3879193612698826e-07}. Best is trial 10 with value: 0.7375.\n[I 2024-02-22 16:45:10,144] Trial 80 finished with value: 0.73125 and parameters: {'var_smoothing': 7.621065190536924e-06}. Best is trial 10 with value: 0.7375.\n[I 2024-02-22 16:45:10,195] Trial 81 finished with value: 0.734375 and parameters: {'var_smoothing': 6.928148276170444e-05}. Best is trial 10 with value: 0.7375.\n[I 2024-02-22 16:45:10,255] Trial 82 finished with value: 0.734375 and parameters: {'var_smoothing': 4.923160125915686e-05}. Best is trial 10 with value: 0.7375.\n[I 2024-02-22 16:45:10,311] Trial 83 finished with value: 0.7375 and parameters: {'var_smoothing': 7.59820370370235e-05}. Best is trial 10 with value: 0.7375.\n[I 2024-02-22 16:45:10,371] Trial 84 finished with value: 0.734375 and parameters: {'var_smoothing': 3.248571996141375e-05}. Best is trial 10 with value: 0.7375.\n[I 2024-02-22 16:45:10,424] Trial 85 finished with value: 0.734375 and parameters: {'var_smoothing': 5.8444868721123376e-05}. Best is trial 10 with value: 0.7375.\n[I 2024-02-22 16:45:10,480] Trial 86 finished with value: 0.734375 and parameters: {'var_smoothing': 4.1055111108156407e-05}. Best is trial 10 with value: 0.7375.\n[I 2024-02-22 16:45:10,532] Trial 87 finished with value: 0.728125 and parameters: {'var_smoothing': 6.617921298381331e-07}. Best is trial 10 with value: 0.7375.\n[I 2024-02-22 16:45:10,585] Trial 88 finished with value: 0.73125 and parameters: {'var_smoothing': 1.3798524618246903e-05}. Best is trial 10 with value: 0.7375.\n[I 2024-02-22 16:45:10,637] Trial 89 finished with value: 0.7375 and parameters: {'var_smoothing': 7.663400896566084e-05}. Best is trial 10 with value: 0.7375.\n[I 2024-02-22 16:45:10,690] Trial 90 finished with value: 0.728125 and parameters: {'var_smoothing': 2.1375448298654157e-08}. Best is trial 10 with value: 0.7375.\n[I 2024-02-22 16:45:10,744] Trial 91 finished with value: 0.7375 and parameters: {'var_smoothing': 9.537716239457266e-05}. Best is trial 10 with value: 0.7375.\n[I 2024-02-22 16:45:10,796] Trial 92 finished with value: 0.734375 and parameters: {'var_smoothing': 5.681736655393522e-05}. Best is trial 10 with value: 0.7375.\n[I 2024-02-22 16:45:10,850] Trial 93 finished with value: 0.7375 and parameters: {'var_smoothing': 9.942694445917614e-05}. Best is trial 10 with value: 0.7375.\n[I 2024-02-22 16:45:10,904] Trial 94 finished with value: 0.734375 and parameters: {'var_smoothing': 3.54156815707228e-05}. Best is trial 10 with value: 0.7375.\n[I 2024-02-22 16:45:10,960] Trial 95 finished with value: 0.734375 and parameters: {'var_smoothing': 6.903662409730977e-05}. Best is trial 10 with value: 0.7375.\n[I 2024-02-22 16:45:11,017] Trial 96 finished with value: 0.734375 and parameters: {'var_smoothing': 4.410453036873563e-05}. Best is trial 10 with value: 0.7375.\n[I 2024-02-22 16:45:11,071] Trial 97 finished with value: 0.7375 and parameters: {'var_smoothing': 8.058983948629202e-05}. Best is trial 10 with value: 0.7375.\n[I 2024-02-22 16:45:11,125] Trial 98 finished with value: 0.734375 and parameters: {'var_smoothing': 3.043181835128744e-05}. Best is trial 10 with value: 0.7375.\n[I 2024-02-22 16:45:11,182] Trial 99 finished with value: 0.734375 and parameters: {'var_smoothing': 5.569568691630863e-05}. Best is trial 10 with value: 0.7375.\n",
          "output_type": "stream"
        },
        {
          "name": "stdout",
          "text": "Best params found : {'var_smoothing': 7.963796714008142e-05}\naccuracy: 0.975\nrecall: 0.9583333333333334\nprecision: 0.9527777777777777\nf1-score: 0.9506172839506173\nroc_auc:  0.7339875119474435\n",
          "output_type": "stream"
        }
      ]
    },
    {
      "cell_type": "markdown",
      "source": [
        "## Logistic Regression"
      ],
      "metadata": {
        "id": "u32WTAUGZoca"
      }
    },
    {
      "cell_type": "markdown",
      "source": [
        "**Normal**"
      ],
      "metadata": {
        "id": "INcny-lFZocb"
      }
    },
    {
      "cell_type": "code",
      "source": [
        "lr = LogisticRegression()\n",
        "lr.fit(X_train_reduced, y_train)\n",
        "y_pred = lr.predict(X_test_reduced)\n",
        "\n",
        "accuracy = accuracy_score(y_test, y_pred)\n",
        "precision = precision_score(y_test, y_pred, average='macro')\n",
        "recall = recall_score(y_test, y_pred, average='macro')\n",
        "f1 = f1_score(y_test, y_pred, average='macro')\n",
        "\n",
        "# One-hot encoding for probability calculation (adapt if necessary)\n",
        "y_test_onehot = pd.get_dummies(y_test, prefix='label_')  # Assuming 'label_' prefix for clarity\n",
        "y_pred_onehot = pd.get_dummies(y_pred, prefix='label_')\n",
        "\n",
        "# ROC AUC score with multiclass handling\n",
        "roc_auc_macro = roc_auc_score(y_test_onehot, y_pred_onehot, average='macro', multi_class='ovo')  # Specify 'ovo' or 'ovr'\n",
        "\n",
        "print(\"accuracy:\", accuracy)\n",
        "print(\"recall:\", recall)\n",
        "print(\"precision:\", precision)\n",
        "print(\"f1-score:\", f1)\n",
        "print('roc_auc: ', roc_auc_macro)"
      ],
      "metadata": {
        "id": "r-S_mTxOZocb",
        "outputId": "2772d080-887c-494b-dbb6-d7f5347de9cc",
        "execution": {
          "iopub.status.busy": "2024-02-22T16:45:11.235310Z",
          "iopub.execute_input": "2024-02-22T16:45:11.235807Z",
          "iopub.status.idle": "2024-02-22T16:45:11.526022Z",
          "shell.execute_reply.started": "2024-02-22T16:45:11.235762Z",
          "shell.execute_reply": "2024-02-22T16:45:11.524529Z"
        },
        "trusted": true
      },
      "execution_count": null,
      "outputs": [
        {
          "name": "stdout",
          "text": "accuracy: 1.0\nrecall: 1.0\nprecision: 1.0\nf1-score: 1.0\nroc_auc:  1.0\n",
          "output_type": "stream"
        }
      ]
    },
    {
      "cell_type": "markdown",
      "source": [
        "**Tunning**"
      ],
      "metadata": {
        "id": "mKFvtCm0Zocb"
      }
    },
    {
      "cell_type": "code",
      "source": [
        "import optuna\n",
        "from sklearn.model_selection import cross_val_score\n",
        "import warnings\n",
        "warnings.filterwarnings('ignore')\n",
        "\n",
        "\n",
        "def objective(trial):\n",
        "    hyperparams = {\n",
        "        'solver': trial.suggest_categorical('solver', ['lbfgs', 'liblinear', 'newton-cg', 'saga']),\n",
        "        'penalty': trial.suggest_categorical('penalty', ['l2']),\n",
        "        'multi_class': trial.suggest_categorical('multi_class', ['ovr']),\n",
        "        'C': trial.suggest_loguniform(\"C\", 1e-3, 1e3),\n",
        "        'n_jobs': -1\n",
        "    }\n",
        "\n",
        "    model = LogisticRegression(**hyperparams)\n",
        "    scores = cross_val_score(model, X_train_reduced,\n",
        "                             y_train, cv=kf, scoring='accuracy')\n",
        "    return np.mean(scores)"
      ],
      "metadata": {
        "id": "uk3LA_VHZocb",
        "execution": {
          "iopub.status.busy": "2024-02-22T16:45:11.528280Z",
          "iopub.execute_input": "2024-02-22T16:45:11.529631Z",
          "iopub.status.idle": "2024-02-22T16:45:11.544811Z",
          "shell.execute_reply.started": "2024-02-22T16:45:11.529557Z",
          "shell.execute_reply": "2024-02-22T16:45:11.543302Z"
        },
        "trusted": true
      },
      "execution_count": null,
      "outputs": []
    },
    {
      "cell_type": "code",
      "source": [
        "study = optuna.create_study(direction = 'maximize')\n",
        "study.optimize(objective, n_trials = 100)\n",
        "best_params = study.best_params\n",
        "print(\"Best params found :\", best_params)\n",
        "\n",
        "final_model = LogisticRegression(**best_params)\n",
        "final_model.fit(X_train_reduced, y_train)\n",
        "y_pred = final_model.predict(X_test_reduced)\n",
        "prediction_results['logistic regression'] = y_pred\n",
        "\n",
        "accuracy = accuracy_score(y_test, y_pred)\n",
        "precision = precision_score(y_test, y_pred, average='macro')\n",
        "recall = recall_score(y_test, y_pred, average='macro')\n",
        "f1 = f1_score(y_test, y_pred, average='macro')\n",
        "\n",
        "# One-hot encoding for probability calculation (adapt if necessary)\n",
        "y_test_onehot = pd.get_dummies(y_test, prefix='label_')  # Assuming 'label_' prefix for clarity\n",
        "y_pred_onehot = pd.get_dummies(y_pred, prefix='label_')\n",
        "\n",
        "# ROC AUC score with multiclass handling\n",
        "roc_auc_macro = roc_auc_score(y_test_onehot, y_pred_onehot, average='macro', multi_class='ovo')  # Specify 'ovo' or 'ovr'\n",
        "\n",
        "print(\"accuracy:\", accuracy)\n",
        "print(\"recall:\", recall)\n",
        "print(\"precision:\", precision)\n",
        "print(\"f1-score:\", f1)\n",
        "print('roc_auc: ', roc_auc_macro)"
      ],
      "metadata": {
        "id": "OMLQ7x6TZocc",
        "outputId": "dfe73dd1-93b7-44f5-d7eb-023ec925f959",
        "execution": {
          "iopub.status.busy": "2024-02-22T16:45:11.547256Z",
          "iopub.execute_input": "2024-02-22T16:45:11.548610Z",
          "iopub.status.idle": "2024-02-22T16:51:43.482616Z",
          "shell.execute_reply.started": "2024-02-22T16:45:11.548541Z",
          "shell.execute_reply": "2024-02-22T16:51:43.480992Z"
        },
        "trusted": true
      },
      "execution_count": null,
      "outputs": [
        {
          "name": "stderr",
          "text": "[I 2024-02-22 16:45:11,562] A new study created in memory with name: no-name-2628e572-c787-4782-b8b9-c8c6536c64cb\n[I 2024-02-22 16:45:27,551] Trial 0 finished with value: 0.90625 and parameters: {'solver': 'liblinear', 'penalty': 'l2', 'multi_class': 'ovr', 'C': 0.7542231336177456}. Best is trial 0 with value: 0.90625.\n/opt/conda/lib/python3.10/site-packages/sklearn/linear_model/_logistic.py:458: ConvergenceWarning: lbfgs failed to converge (status=1):\nSTOP: TOTAL NO. of ITERATIONS REACHED LIMIT.\n\nIncrease the number of iterations (max_iter) or scale the data as shown in:\n    https://scikit-learn.org/stable/modules/preprocessing.html\nPlease also refer to the documentation for alternative solver options:\n    https://scikit-learn.org/stable/modules/linear_model.html#logistic-regression\n  n_iter_i = _check_optimize_result(\n/opt/conda/lib/python3.10/site-packages/sklearn/linear_model/_logistic.py:458: ConvergenceWarning: lbfgs failed to converge (status=1):\nSTOP: TOTAL NO. of ITERATIONS REACHED LIMIT.\n\nIncrease the number of iterations (max_iter) or scale the data as shown in:\n    https://scikit-learn.org/stable/modules/preprocessing.html\nPlease also refer to the documentation for alternative solver options:\n    https://scikit-learn.org/stable/modules/linear_model.html#logistic-regression\n  n_iter_i = _check_optimize_result(\n/opt/conda/lib/python3.10/site-packages/sklearn/linear_model/_logistic.py:458: ConvergenceWarning: lbfgs failed to converge (status=1):\nSTOP: TOTAL NO. of ITERATIONS REACHED LIMIT.\n\nIncrease the number of iterations (max_iter) or scale the data as shown in:\n    https://scikit-learn.org/stable/modules/preprocessing.html\nPlease also refer to the documentation for alternative solver options:\n    https://scikit-learn.org/stable/modules/linear_model.html#logistic-regression\n  n_iter_i = _check_optimize_result(\n/opt/conda/lib/python3.10/site-packages/sklearn/linear_model/_logistic.py:458: ConvergenceWarning: lbfgs failed to converge (status=1):\nSTOP: TOTAL NO. of ITERATIONS REACHED LIMIT.\n\nIncrease the number of iterations (max_iter) or scale the data as shown in:\n    https://scikit-learn.org/stable/modules/preprocessing.html\nPlease also refer to the documentation for alternative solver options:\n    https://scikit-learn.org/stable/modules/linear_model.html#logistic-regression\n  n_iter_i = _check_optimize_result(\n[I 2024-02-22 16:45:30,571] Trial 1 finished with value: 0.95 and parameters: {'solver': 'lbfgs', 'penalty': 'l2', 'multi_class': 'ovr', 'C': 0.0026093407833599055}. Best is trial 1 with value: 0.95.\n[I 2024-02-22 16:45:40,730] Trial 2 finished with value: 0.890625 and parameters: {'solver': 'newton-cg', 'penalty': 'l2', 'multi_class': 'ovr', 'C': 167.85868843883543}. Best is trial 1 with value: 0.95.\n[I 2024-02-22 16:45:42,436] Trial 3 finished with value: 0.953125 and parameters: {'solver': 'lbfgs', 'penalty': 'l2', 'multi_class': 'ovr', 'C': 0.03596323589256248}. Best is trial 3 with value: 0.953125.\n[I 2024-02-22 16:45:52,751] Trial 4 finished with value: 0.921875 and parameters: {'solver': 'newton-cg', 'penalty': 'l2', 'multi_class': 'ovr', 'C': 14.724451392621466}. Best is trial 3 with value: 0.953125.\n[I 2024-02-22 16:46:02,347] Trial 5 finished with value: 0.9 and parameters: {'solver': 'newton-cg', 'penalty': 'l2', 'multi_class': 'ovr', 'C': 93.59127868705535}. Best is trial 3 with value: 0.953125.\n[I 2024-02-22 16:46:18,659] Trial 6 finished with value: 0.9125 and parameters: {'solver': 'liblinear', 'penalty': 'l2', 'multi_class': 'ovr', 'C': 1.104800365281913}. Best is trial 3 with value: 0.953125.\n[I 2024-02-22 16:46:19,974] Trial 7 finished with value: 0.79375 and parameters: {'solver': 'saga', 'penalty': 'l2', 'multi_class': 'ovr', 'C': 0.02612008987653844}. Best is trial 3 with value: 0.953125.\n[I 2024-02-22 16:46:36,657] Trial 8 finished with value: 0.909375 and parameters: {'solver': 'liblinear', 'penalty': 'l2', 'multi_class': 'ovr', 'C': 1.8569560969748378}. Best is trial 3 with value: 0.953125.\n[I 2024-02-22 16:46:47,707] Trial 9 finished with value: 0.93125 and parameters: {'solver': 'newton-cg', 'penalty': 'l2', 'multi_class': 'ovr', 'C': 9.984877755187187}. Best is trial 3 with value: 0.953125.\n[I 2024-02-22 16:46:49,510] Trial 10 finished with value: 0.95625 and parameters: {'solver': 'lbfgs', 'penalty': 'l2', 'multi_class': 'ovr', 'C': 0.04340626562965562}. Best is trial 10 with value: 0.95625.\n[I 2024-02-22 16:46:51,304] Trial 11 finished with value: 0.953125 and parameters: {'solver': 'lbfgs', 'penalty': 'l2', 'multi_class': 'ovr', 'C': 0.030238763462499055}. Best is trial 10 with value: 0.95625.\n[I 2024-02-22 16:46:53,106] Trial 12 finished with value: 0.953125 and parameters: {'solver': 'lbfgs', 'penalty': 'l2', 'multi_class': 'ovr', 'C': 0.0554705671337119}. Best is trial 10 with value: 0.95625.\n[I 2024-02-22 16:46:54,868] Trial 13 finished with value: 0.953125 and parameters: {'solver': 'lbfgs', 'penalty': 'l2', 'multi_class': 'ovr', 'C': 0.0011208553285345288}. Best is trial 10 with value: 0.95625.\n[I 2024-02-22 16:46:56,647] Trial 14 finished with value: 0.953125 and parameters: {'solver': 'lbfgs', 'penalty': 'l2', 'multi_class': 'ovr', 'C': 0.12185788785339993}. Best is trial 10 with value: 0.95625.\n[I 2024-02-22 16:46:57,949] Trial 15 finished with value: 0.79375 and parameters: {'solver': 'saga', 'penalty': 'l2', 'multi_class': 'ovr', 'C': 0.007602139012906648}. Best is trial 10 with value: 0.95625.\n[I 2024-02-22 16:46:59,694] Trial 16 finished with value: 0.953125 and parameters: {'solver': 'lbfgs', 'penalty': 'l2', 'multi_class': 'ovr', 'C': 0.42322028910027}. Best is trial 10 with value: 0.95625.\n[I 2024-02-22 16:47:01,466] Trial 17 finished with value: 0.95 and parameters: {'solver': 'lbfgs', 'penalty': 'l2', 'multi_class': 'ovr', 'C': 0.011244483680047842}. Best is trial 10 with value: 0.95625.\n[I 2024-02-22 16:47:03,242] Trial 18 finished with value: 0.953125 and parameters: {'solver': 'lbfgs', 'penalty': 'l2', 'multi_class': 'ovr', 'C': 0.10556980416787445}. Best is trial 10 with value: 0.95625.\n[I 2024-02-22 16:47:04,668] Trial 19 finished with value: 0.79375 and parameters: {'solver': 'saga', 'penalty': 'l2', 'multi_class': 'ovr', 'C': 845.3683118521682}. Best is trial 10 with value: 0.95625.\n[I 2024-02-22 16:47:06,467] Trial 20 finished with value: 0.946875 and parameters: {'solver': 'lbfgs', 'penalty': 'l2', 'multi_class': 'ovr', 'C': 0.2956747088167182}. Best is trial 10 with value: 0.95625.\n[I 2024-02-22 16:47:08,240] Trial 21 finished with value: 0.953125 and parameters: {'solver': 'lbfgs', 'penalty': 'l2', 'multi_class': 'ovr', 'C': 0.01810087048503246}. Best is trial 10 with value: 0.95625.\n[I 2024-02-22 16:47:10,034] Trial 22 finished with value: 0.95 and parameters: {'solver': 'lbfgs', 'penalty': 'l2', 'multi_class': 'ovr', 'C': 0.0028197472071458387}. Best is trial 10 with value: 0.95625.\n[I 2024-02-22 16:47:11,835] Trial 23 finished with value: 0.95625 and parameters: {'solver': 'lbfgs', 'penalty': 'l2', 'multi_class': 'ovr', 'C': 0.03349551752112513}. Best is trial 10 with value: 0.95625.\n[I 2024-02-22 16:47:14,151] Trial 24 finished with value: 0.953125 and parameters: {'solver': 'lbfgs', 'penalty': 'l2', 'multi_class': 'ovr', 'C': 0.18145650394919713}. Best is trial 10 with value: 0.95625.\n[I 2024-02-22 16:47:15,948] Trial 25 finished with value: 0.946875 and parameters: {'solver': 'lbfgs', 'penalty': 'l2', 'multi_class': 'ovr', 'C': 3.6521908149057656}. Best is trial 10 with value: 0.95625.\n[I 2024-02-22 16:47:17,684] Trial 26 finished with value: 0.953125 and parameters: {'solver': 'lbfgs', 'penalty': 'l2', 'multi_class': 'ovr', 'C': 0.005649008111523376}. Best is trial 10 with value: 0.95625.\n[I 2024-02-22 16:47:18,987] Trial 27 finished with value: 0.79375 and parameters: {'solver': 'saga', 'penalty': 'l2', 'multi_class': 'ovr', 'C': 0.06519486484329343}. Best is trial 10 with value: 0.95625.\n[I 2024-02-22 16:47:25,367] Trial 28 finished with value: 0.8 and parameters: {'solver': 'liblinear', 'penalty': 'l2', 'multi_class': 'ovr', 'C': 0.0010339385873591482}. Best is trial 10 with value: 0.95625.\n[I 2024-02-22 16:47:41,301] Trial 29 finished with value: 0.90625 and parameters: {'solver': 'liblinear', 'penalty': 'l2', 'multi_class': 'ovr', 'C': 0.7580137720039645}. Best is trial 10 with value: 0.95625.\n[I 2024-02-22 16:47:43,069] Trial 30 finished with value: 0.95625 and parameters: {'solver': 'lbfgs', 'penalty': 'l2', 'multi_class': 'ovr', 'C': 0.04588705745112553}. Best is trial 10 with value: 0.95625.\n[I 2024-02-22 16:47:45,012] Trial 31 finished with value: 0.953125 and parameters: {'solver': 'lbfgs', 'penalty': 'l2', 'multi_class': 'ovr', 'C': 0.03779605328067377}. Best is trial 10 with value: 0.95625.\n[I 2024-02-22 16:47:47,142] Trial 32 finished with value: 0.95625 and parameters: {'solver': 'lbfgs', 'penalty': 'l2', 'multi_class': 'ovr', 'C': 0.011983065452019341}. Best is trial 10 with value: 0.95625.\n[I 2024-02-22 16:47:48,843] Trial 33 finished with value: 0.953125 and parameters: {'solver': 'lbfgs', 'penalty': 'l2', 'multi_class': 'ovr', 'C': 0.0028965775341982785}. Best is trial 10 with value: 0.95625.\n[I 2024-02-22 16:47:50,568] Trial 34 finished with value: 0.953125 and parameters: {'solver': 'lbfgs', 'penalty': 'l2', 'multi_class': 'ovr', 'C': 0.007469228354649471}. Best is trial 10 with value: 0.95625.\n[I 2024-02-22 16:47:52,296] Trial 35 finished with value: 0.953125 and parameters: {'solver': 'lbfgs', 'penalty': 'l2', 'multi_class': 'ovr', 'C': 0.015115592569688929}. Best is trial 10 with value: 0.95625.\n[I 2024-02-22 16:48:03,949] Trial 36 finished with value: 0.946875 and parameters: {'solver': 'newton-cg', 'penalty': 'l2', 'multi_class': 'ovr', 'C': 0.3739759526484549}. Best is trial 10 with value: 0.95625.\n[I 2024-02-22 16:48:05,653] Trial 37 finished with value: 0.953125 and parameters: {'solver': 'lbfgs', 'penalty': 'l2', 'multi_class': 'ovr', 'C': 0.0036581229801439003}. Best is trial 10 with value: 0.95625.\n[I 2024-02-22 16:48:18,949] Trial 38 finished with value: 0.953125 and parameters: {'solver': 'newton-cg', 'penalty': 'l2', 'multi_class': 'ovr', 'C': 0.07768102979527042}. Best is trial 10 with value: 0.95625.\n[I 2024-02-22 16:48:20,693] Trial 39 finished with value: 0.95 and parameters: {'solver': 'lbfgs', 'penalty': 'l2', 'multi_class': 'ovr', 'C': 0.014568881045854515}. Best is trial 10 with value: 0.95625.\n[I 2024-02-22 16:48:35,495] Trial 40 finished with value: 0.903125 and parameters: {'solver': 'liblinear', 'penalty': 'l2', 'multi_class': 'ovr', 'C': 0.1574973420248616}. Best is trial 10 with value: 0.95625.\n[I 2024-02-22 16:48:37,258] Trial 41 finished with value: 0.953125 and parameters: {'solver': 'lbfgs', 'penalty': 'l2', 'multi_class': 'ovr', 'C': 0.0441296156119392}. Best is trial 10 with value: 0.95625.\n[I 2024-02-22 16:48:38,991] Trial 42 finished with value: 0.953125 and parameters: {'solver': 'lbfgs', 'penalty': 'l2', 'multi_class': 'ovr', 'C': 0.04860838984148693}. Best is trial 10 with value: 0.95625.\n[I 2024-02-22 16:48:40,714] Trial 43 finished with value: 0.953125 and parameters: {'solver': 'lbfgs', 'penalty': 'l2', 'multi_class': 'ovr', 'C': 0.02091465258085624}. Best is trial 10 with value: 0.95625.\n[I 2024-02-22 16:48:52,074] Trial 44 finished with value: 0.94375 and parameters: {'solver': 'newton-cg', 'penalty': 'l2', 'multi_class': 'ovr', 'C': 1.599445829305663}. Best is trial 10 with value: 0.95625.\n[I 2024-02-22 16:48:53,862] Trial 45 finished with value: 0.95 and parameters: {'solver': 'lbfgs', 'penalty': 'l2', 'multi_class': 'ovr', 'C': 0.02824301177611081}. Best is trial 10 with value: 0.95625.\n[I 2024-02-22 16:48:55,265] Trial 46 finished with value: 0.79375 and parameters: {'solver': 'saga', 'penalty': 'l2', 'multi_class': 'ovr', 'C': 0.23498478403898865}. Best is trial 10 with value: 0.95625.\n[I 2024-02-22 16:48:56,961] Trial 47 finished with value: 0.953125 and parameters: {'solver': 'lbfgs', 'penalty': 'l2', 'multi_class': 'ovr', 'C': 0.0050383364781945985}. Best is trial 10 with value: 0.95625.\n[I 2024-02-22 16:48:58,626] Trial 48 finished with value: 0.953125 and parameters: {'solver': 'lbfgs', 'penalty': 'l2', 'multi_class': 'ovr', 'C': 0.001746147691175542}. Best is trial 10 with value: 0.95625.\n[I 2024-02-22 16:49:09,512] Trial 49 finished with value: 0.834375 and parameters: {'solver': 'liblinear', 'penalty': 'l2', 'multi_class': 'ovr', 'C': 0.00915060446050884}. Best is trial 10 with value: 0.95625.\n[I 2024-02-22 16:49:11,212] Trial 50 finished with value: 0.953125 and parameters: {'solver': 'lbfgs', 'penalty': 'l2', 'multi_class': 'ovr', 'C': 0.10682810820877603}. Best is trial 10 with value: 0.95625.\n[I 2024-02-22 16:49:12,950] Trial 51 finished with value: 0.95 and parameters: {'solver': 'lbfgs', 'penalty': 'l2', 'multi_class': 'ovr', 'C': 0.02760354760998429}. Best is trial 10 with value: 0.95625.\n[I 2024-02-22 16:49:14,653] Trial 52 finished with value: 0.946875 and parameters: {'solver': 'lbfgs', 'penalty': 'l2', 'multi_class': 'ovr', 'C': 54.61426608498677}. Best is trial 10 with value: 0.95625.\n[I 2024-02-22 16:49:16,424] Trial 53 finished with value: 0.95625 and parameters: {'solver': 'lbfgs', 'penalty': 'l2', 'multi_class': 'ovr', 'C': 0.07292089135873044}. Best is trial 10 with value: 0.95625.\n[I 2024-02-22 16:49:18,167] Trial 54 finished with value: 0.953125 and parameters: {'solver': 'lbfgs', 'penalty': 'l2', 'multi_class': 'ovr', 'C': 0.5202898761268729}. Best is trial 10 with value: 0.95625.\n[I 2024-02-22 16:49:19,911] Trial 55 finished with value: 0.95 and parameters: {'solver': 'lbfgs', 'penalty': 'l2', 'multi_class': 'ovr', 'C': 0.08067716088244499}. Best is trial 10 with value: 0.95625.\n[I 2024-02-22 16:49:21,214] Trial 56 finished with value: 0.79375 and parameters: {'solver': 'saga', 'penalty': 'l2', 'multi_class': 'ovr', 'C': 0.012082560328070637}. Best is trial 10 with value: 0.95625.\n[I 2024-02-22 16:49:23,377] Trial 57 finished with value: 0.95625 and parameters: {'solver': 'lbfgs', 'penalty': 'l2', 'multi_class': 'ovr', 'C': 0.14247785149152578}. Best is trial 10 with value: 0.95625.\n[I 2024-02-22 16:49:25,208] Trial 58 finished with value: 0.95625 and parameters: {'solver': 'lbfgs', 'penalty': 'l2', 'multi_class': 'ovr', 'C': 0.15810032814291053}. Best is trial 10 with value: 0.95625.\n[I 2024-02-22 16:49:26,930] Trial 59 finished with value: 0.953125 and parameters: {'solver': 'lbfgs', 'penalty': 'l2', 'multi_class': 'ovr', 'C': 0.06269949830160788}. Best is trial 10 with value: 0.95625.\n[I 2024-02-22 16:49:38,452] Trial 60 finished with value: 0.946875 and parameters: {'solver': 'newton-cg', 'penalty': 'l2', 'multi_class': 'ovr', 'C': 0.25154841726095806}. Best is trial 10 with value: 0.95625.\n[I 2024-02-22 16:49:40,192] Trial 61 finished with value: 0.95 and parameters: {'solver': 'lbfgs', 'penalty': 'l2', 'multi_class': 'ovr', 'C': 0.11373511964573331}. Best is trial 10 with value: 0.95625.\n[I 2024-02-22 16:49:41,973] Trial 62 finished with value: 0.953125 and parameters: {'solver': 'lbfgs', 'penalty': 'l2', 'multi_class': 'ovr', 'C': 0.1628227532064218}. Best is trial 10 with value: 0.95625.\n[I 2024-02-22 16:49:43,773] Trial 63 finished with value: 0.95625 and parameters: {'solver': 'lbfgs', 'penalty': 'l2', 'multi_class': 'ovr', 'C': 0.029132621882564578}. Best is trial 10 with value: 0.95625.\n[I 2024-02-22 16:49:45,558] Trial 64 finished with value: 0.95 and parameters: {'solver': 'lbfgs', 'penalty': 'l2', 'multi_class': 'ovr', 'C': 1.0513185535313818}. Best is trial 10 with value: 0.95625.\n[I 2024-02-22 16:49:47,326] Trial 65 finished with value: 0.95 and parameters: {'solver': 'lbfgs', 'penalty': 'l2', 'multi_class': 'ovr', 'C': 0.5635346669567287}. Best is trial 10 with value: 0.95625.\n[I 2024-02-22 16:49:49,137] Trial 66 finished with value: 0.953125 and parameters: {'solver': 'lbfgs', 'penalty': 'l2', 'multi_class': 'ovr', 'C': 0.042363979330541444}. Best is trial 10 with value: 0.95625.\n[I 2024-02-22 16:49:50,898] Trial 67 finished with value: 0.946875 and parameters: {'solver': 'lbfgs', 'penalty': 'l2', 'multi_class': 'ovr', 'C': 3.7384818536343607}. Best is trial 10 with value: 0.95625.\n[I 2024-02-22 16:49:52,194] Trial 68 finished with value: 0.79375 and parameters: {'solver': 'saga', 'penalty': 'l2', 'multi_class': 'ovr', 'C': 0.18192940741937189}. Best is trial 10 with value: 0.95625.\n[I 2024-02-22 16:49:54,106] Trial 69 finished with value: 0.953125 and parameters: {'solver': 'lbfgs', 'penalty': 'l2', 'multi_class': 'ovr', 'C': 0.0198280602408544}. Best is trial 10 with value: 0.95625.\n[I 2024-02-22 16:50:08,300] Trial 70 finished with value: 0.884375 and parameters: {'solver': 'liblinear', 'penalty': 'l2', 'multi_class': 'ovr', 'C': 0.0831763460166094}. Best is trial 10 with value: 0.95625.\n[I 2024-02-22 16:50:10,056] Trial 71 finished with value: 0.95 and parameters: {'solver': 'lbfgs', 'penalty': 'l2', 'multi_class': 'ovr', 'C': 0.03371607347969887}. Best is trial 10 with value: 0.95625.\n[I 2024-02-22 16:50:11,842] Trial 72 finished with value: 0.95625 and parameters: {'solver': 'lbfgs', 'penalty': 'l2', 'multi_class': 'ovr', 'C': 0.02256814942815485}. Best is trial 10 with value: 0.95625.\n[I 2024-02-22 16:50:13,637] Trial 73 finished with value: 0.95 and parameters: {'solver': 'lbfgs', 'penalty': 'l2', 'multi_class': 'ovr', 'C': 0.056413715005703594}. Best is trial 10 with value: 0.95625.\n[I 2024-02-22 16:50:15,473] Trial 74 finished with value: 0.953125 and parameters: {'solver': 'lbfgs', 'penalty': 'l2', 'multi_class': 'ovr', 'C': 0.005309786142958277}. Best is trial 10 with value: 0.95625.\n[I 2024-02-22 16:50:17,250] Trial 75 finished with value: 0.95 and parameters: {'solver': 'lbfgs', 'penalty': 'l2', 'multi_class': 'ovr', 'C': 0.010249465159446424}. Best is trial 10 with value: 0.95625.\n[I 2024-02-22 16:50:19,034] Trial 76 finished with value: 0.953125 and parameters: {'solver': 'lbfgs', 'penalty': 'l2', 'multi_class': 'ovr', 'C': 0.12121908794909719}. Best is trial 10 with value: 0.95625.\n[I 2024-02-22 16:50:20,771] Trial 77 finished with value: 0.95 and parameters: {'solver': 'lbfgs', 'penalty': 'l2', 'multi_class': 'ovr', 'C': 0.014962136597509909}. Best is trial 10 with value: 0.95625.\n[I 2024-02-22 16:50:32,924] Trial 78 finished with value: 0.946875 and parameters: {'solver': 'newton-cg', 'penalty': 'l2', 'multi_class': 'ovr', 'C': 0.32628042058674256}. Best is trial 10 with value: 0.95625.\n[I 2024-02-22 16:50:34,796] Trial 79 finished with value: 0.95 and parameters: {'solver': 'lbfgs', 'penalty': 'l2', 'multi_class': 'ovr', 'C': 0.03072428041043821}. Best is trial 10 with value: 0.95625.\n[I 2024-02-22 16:50:36,583] Trial 80 finished with value: 0.95 and parameters: {'solver': 'lbfgs', 'penalty': 'l2', 'multi_class': 'ovr', 'C': 0.007616077525309624}. Best is trial 10 with value: 0.95625.\n[I 2024-02-22 16:50:38,380] Trial 81 finished with value: 0.95 and parameters: {'solver': 'lbfgs', 'penalty': 'l2', 'multi_class': 'ovr', 'C': 0.020260808720053123}. Best is trial 10 with value: 0.95625.\n[I 2024-02-22 16:50:40,200] Trial 82 finished with value: 0.953125 and parameters: {'solver': 'lbfgs', 'penalty': 'l2', 'multi_class': 'ovr', 'C': 0.050092952597625404}. Best is trial 10 with value: 0.95625.\n[I 2024-02-22 16:50:41,986] Trial 83 finished with value: 0.953125 and parameters: {'solver': 'lbfgs', 'penalty': 'l2', 'multi_class': 'ovr', 'C': 0.023954531035593123}. Best is trial 10 with value: 0.95625.\n[I 2024-02-22 16:50:43,822] Trial 84 finished with value: 0.953125 and parameters: {'solver': 'lbfgs', 'penalty': 'l2', 'multi_class': 'ovr', 'C': 0.08040200716902433}. Best is trial 10 with value: 0.95625.\n[I 2024-02-22 16:50:45,656] Trial 85 finished with value: 0.953125 and parameters: {'solver': 'lbfgs', 'penalty': 'l2', 'multi_class': 'ovr', 'C': 0.03560177912302349}. Best is trial 10 with value: 0.95625.\n[I 2024-02-22 16:50:47,458] Trial 86 finished with value: 0.95 and parameters: {'solver': 'lbfgs', 'penalty': 'l2', 'multi_class': 'ovr', 'C': 0.014917216135017345}. Best is trial 10 with value: 0.95625.\n[I 2024-02-22 16:51:07,641] Trial 87 finished with value: 0.903125 and parameters: {'solver': 'liblinear', 'penalty': 'l2', 'multi_class': 'ovr', 'C': 831.5467175280806}. Best is trial 10 with value: 0.95625.\n[I 2024-02-22 16:51:09,408] Trial 88 finished with value: 0.953125 and parameters: {'solver': 'lbfgs', 'penalty': 'l2', 'multi_class': 'ovr', 'C': 0.003857305142986937}. Best is trial 10 with value: 0.95625.\n[I 2024-02-22 16:51:10,927] Trial 89 finished with value: 0.79375 and parameters: {'solver': 'saga', 'penalty': 'l2', 'multi_class': 'ovr', 'C': 0.05594507744521576}. Best is trial 10 with value: 0.95625.\n[I 2024-02-22 16:51:12,739] Trial 90 finished with value: 0.953125 and parameters: {'solver': 'lbfgs', 'penalty': 'l2', 'multi_class': 'ovr', 'C': 0.0017894871696357568}. Best is trial 10 with value: 0.95625.\n[I 2024-02-22 16:51:14,588] Trial 91 finished with value: 0.953125 and parameters: {'solver': 'lbfgs', 'penalty': 'l2', 'multi_class': 'ovr', 'C': 0.025536745182087633}. Best is trial 10 with value: 0.95625.\n[I 2024-02-22 16:51:16,388] Trial 92 finished with value: 0.95 and parameters: {'solver': 'lbfgs', 'penalty': 'l2', 'multi_class': 'ovr', 'C': 0.19304140638427114}. Best is trial 10 with value: 0.95625.\n[I 2024-02-22 16:51:18,194] Trial 93 finished with value: 0.95 and parameters: {'solver': 'lbfgs', 'penalty': 'l2', 'multi_class': 'ovr', 'C': 0.08954428610814563}. Best is trial 10 with value: 0.95625.\n[I 2024-02-22 16:51:20,005] Trial 94 finished with value: 0.95 and parameters: {'solver': 'lbfgs', 'penalty': 'l2', 'multi_class': 'ovr', 'C': 0.13484214709116574}. Best is trial 10 with value: 0.95625.\n[I 2024-02-22 16:51:21,797] Trial 95 finished with value: 0.953125 and parameters: {'solver': 'lbfgs', 'penalty': 'l2', 'multi_class': 'ovr', 'C': 0.04369843524483648}. Best is trial 10 with value: 0.95625.\n[I 2024-02-22 16:51:23,636] Trial 96 finished with value: 0.95 and parameters: {'solver': 'lbfgs', 'penalty': 'l2', 'multi_class': 'ovr', 'C': 0.012080769138976419}. Best is trial 10 with value: 0.95625.\n[I 2024-02-22 16:51:25,515] Trial 97 finished with value: 0.95 and parameters: {'solver': 'lbfgs', 'penalty': 'l2', 'multi_class': 'ovr', 'C': 0.0067857501620202905}. Best is trial 10 with value: 0.95625.\n/opt/conda/lib/python3.10/site-packages/sklearn/utils/optimize.py:210: ConvergenceWarning: newton-cg failed to converge. Increase the number of iterations.\n  warnings.warn(\n[I 2024-02-22 16:51:39,754] Trial 98 finished with value: 0.953125 and parameters: {'solver': 'newton-cg', 'penalty': 'l2', 'multi_class': 'ovr', 'C': 0.037069459194943845}. Best is trial 10 with value: 0.95625.\n[I 2024-02-22 16:51:41,594] Trial 99 finished with value: 0.95 and parameters: {'solver': 'lbfgs', 'penalty': 'l2', 'multi_class': 'ovr', 'C': 0.07096713062262848}. Best is trial 10 with value: 0.95625.\n",
          "output_type": "stream"
        },
        {
          "name": "stdout",
          "text": "Best params found : {'solver': 'lbfgs', 'penalty': 'l2', 'multi_class': 'ovr', 'C': 0.04340626562965562}\naccuracy: 1.0\nrecall: 1.0\nprecision: 1.0\nf1-score: 1.0\nroc_auc:  1.0\n",
          "output_type": "stream"
        }
      ]
    },
    {
      "cell_type": "code",
      "source": [
        "# lr = LogisticRegression(multi_class='ovr', solver='liblinear')\n",
        "# lr.fit(X_train_reduced, y_train)\n",
        "# y_pred = lr.predict(X_test_reduced)"
      ],
      "metadata": {
        "id": "wNaS-Sh8Zocc",
        "execution": {
          "iopub.status.busy": "2024-02-22T16:51:43.484953Z",
          "iopub.execute_input": "2024-02-22T16:51:43.486388Z",
          "iopub.status.idle": "2024-02-22T16:51:43.496180Z",
          "shell.execute_reply.started": "2024-02-22T16:51:43.486326Z",
          "shell.execute_reply": "2024-02-22T16:51:43.493656Z"
        },
        "trusted": true
      },
      "execution_count": null,
      "outputs": []
    },
    {
      "cell_type": "markdown",
      "source": [
        "## KNN Classifier"
      ],
      "metadata": {
        "id": "yAP5ojqfZocc"
      }
    },
    {
      "cell_type": "markdown",
      "source": [
        "**Normal**"
      ],
      "metadata": {
        "id": "6ub3PNZVZocd"
      }
    },
    {
      "cell_type": "code",
      "source": [
        "from sklearn.neighbors import KNeighborsClassifier\n",
        "\n",
        "knn = KNeighborsClassifier()\n",
        "knn.fit(X_train_reduced, y_train)\n",
        "y_pred = knn.predict(X_test_reduced)\n",
        "\n",
        "accuracy = accuracy_score(y_test, y_pred)\n",
        "precision = precision_score(y_test, y_pred, average='macro')\n",
        "recall = recall_score(y_test, y_pred, average='macro')\n",
        "f1 = f1_score(y_test, y_pred, average='macro')\n",
        "\n",
        "# One-hot encoding for probability calculation (adapt if necessary)\n",
        "y_test_onehot = pd.get_dummies(y_test, prefix='label_')  # Assuming 'label_' prefix for clarity\n",
        "y_pred_onehot = pd.get_dummies(y_pred, prefix='label_')\n",
        "\n",
        "# ROC AUC score with multiclass handling\n",
        "roc_auc_macro = roc_auc_score(y_test_onehot, y_pred_onehot, average='macro', multi_class='ovo')  # Specify 'ovo' or 'ovr'\n",
        "\n",
        "print(\"accuracy:\", accuracy)\n",
        "print(\"recall:\", recall)\n",
        "print(\"precision:\", precision)\n",
        "print(\"f1-score:\", f1)\n",
        "print('roc_auc: ', roc_auc_macro)\n"
      ],
      "metadata": {
        "id": "soJbwwpvZocd",
        "outputId": "d155e068-8839-430a-f5a0-31b7340f6c2e",
        "execution": {
          "iopub.status.busy": "2024-02-22T16:51:43.498890Z",
          "iopub.execute_input": "2024-02-22T16:51:43.500330Z",
          "iopub.status.idle": "2024-02-22T16:51:43.691006Z",
          "shell.execute_reply.started": "2024-02-22T16:51:43.500270Z",
          "shell.execute_reply": "2024-02-22T16:51:43.689673Z"
        },
        "trusted": true
      },
      "execution_count": null,
      "outputs": [
        {
          "name": "stdout",
          "text": "accuracy: 0.9125\nrecall: 0.9375\nprecision: 0.9143518518518517\nf1-score: 0.9068783068783068\nroc_auc:  0.5771545864579081\n",
          "output_type": "stream"
        }
      ]
    },
    {
      "cell_type": "markdown",
      "source": [
        "**Tunning**"
      ],
      "metadata": {
        "id": "P2h7U1CgZocd"
      }
    },
    {
      "cell_type": "code",
      "source": [
        "import optuna\n",
        "from sklearn.model_selection import cross_val_score\n",
        "import warnings\n",
        "warnings.filterwarnings('ignore')\n",
        "\n",
        "\n",
        "def objective(trial):\n",
        "    hyperparams = {\n",
        "        'n_neighbors': trial.suggest_int(\"n_neighbors\", 5, 100),\n",
        "        'weights': trial.suggest_categorical(\"weights\", [\"uniform\", \"distance\"]),\n",
        "        'metric': trial.suggest_categorical(\"metric\", [\"euclidean\", \"manhattan\", \"minkowski\"]),\n",
        "        'algorithm': trial.suggest_categorical('algorithm', ['auto', 'ball_tree', 'kd_tree', 'brute']),\n",
        "        'n_jobs': -1\n",
        "    }\n",
        "\n",
        "    # Create KNN model with tuned hyperparameters\n",
        "    model = KNeighborsClassifier(**hyperparams)\n",
        "    scores = cross_val_score(model, X_train_reduced,\n",
        "                             y_train, cv=kf, scoring='accuracy')\n",
        "    return np.mean(scores)"
      ],
      "metadata": {
        "id": "Lnd3OeCmZoce",
        "execution": {
          "iopub.status.busy": "2024-02-22T16:51:43.694140Z",
          "iopub.execute_input": "2024-02-22T16:51:43.694958Z",
          "iopub.status.idle": "2024-02-22T16:51:43.705102Z",
          "shell.execute_reply.started": "2024-02-22T16:51:43.694915Z",
          "shell.execute_reply": "2024-02-22T16:51:43.703688Z"
        },
        "trusted": true
      },
      "execution_count": null,
      "outputs": []
    },
    {
      "cell_type": "code",
      "source": [
        "study = optuna.create_study(direction = 'maximize')\n",
        "study.optimize(objective, n_trials = 100)\n",
        "best_params = study.best_params\n",
        "print(\"Best params found :\", best_params)\n",
        "\n",
        "final_model =KNeighborsClassifier(**best_params)\n",
        "final_model.fit(X_train_reduced, y_train)\n",
        "y_pred = final_model.predict(X_test_reduced)\n",
        "prediction_results['KNN'] = y_pred\n",
        "\n",
        "accuracy = accuracy_score(y_test, y_pred)\n",
        "precision = precision_score(y_test, y_pred, average='macro')\n",
        "recall = recall_score(y_test, y_pred, average='macro')\n",
        "f1 = f1_score(y_test, y_pred, average='macro')\n",
        "\n",
        "# One-hot encoding for probability calculation (adapt if necessary)\n",
        "y_test_onehot = pd.get_dummies(y_test, prefix='label_')  # Assuming 'label_' prefix for clarity\n",
        "y_pred_onehot = pd.get_dummies(y_pred, prefix='label_')\n",
        "\n",
        "# ROC AUC score with multiclass handling\n",
        "roc_auc_macro = roc_auc_score(y_test_onehot, y_pred_onehot, average='macro', multi_class='ovo')  # Specify 'ovo' or 'ovr'\n",
        "\n",
        "print(\"accuracy:\", accuracy)\n",
        "print(\"recall:\", recall)\n",
        "print(\"precision:\", precision)\n",
        "print(\"f1-score:\", f1)\n",
        "print('roc_auc: ', roc_auc_macro)"
      ],
      "metadata": {
        "id": "WRBW9-_0Zoce",
        "outputId": "2acb3c19-100b-4a0d-925f-059376bac94b",
        "execution": {
          "iopub.status.busy": "2024-02-22T16:51:43.707169Z",
          "iopub.execute_input": "2024-02-22T16:51:43.707647Z",
          "iopub.status.idle": "2024-02-22T16:51:55.189555Z",
          "shell.execute_reply.started": "2024-02-22T16:51:43.707612Z",
          "shell.execute_reply": "2024-02-22T16:51:55.188153Z"
        },
        "trusted": true
      },
      "execution_count": null,
      "outputs": [
        {
          "name": "stderr",
          "text": "[I 2024-02-22 16:51:43,715] A new study created in memory with name: no-name-23940d36-b1f3-40c1-96ff-4b27a0e74d31\n[I 2024-02-22 16:51:43,799] Trial 0 finished with value: 0.359375 and parameters: {'n_neighbors': 32, 'weights': 'uniform', 'metric': 'manhattan', 'algorithm': 'auto'}. Best is trial 0 with value: 0.359375.\n[I 2024-02-22 16:51:43,935] Trial 1 finished with value: 0.25 and parameters: {'n_neighbors': 37, 'weights': 'uniform', 'metric': 'minkowski', 'algorithm': 'kd_tree'}. Best is trial 0 with value: 0.359375.\n[I 2024-02-22 16:51:44,060] Trial 2 finished with value: 0.08125 and parameters: {'n_neighbors': 71, 'weights': 'uniform', 'metric': 'minkowski', 'algorithm': 'ball_tree'}. Best is trial 0 with value: 0.359375.\n[I 2024-02-22 16:51:44,185] Trial 3 finished with value: 0.6125 and parameters: {'n_neighbors': 11, 'weights': 'uniform', 'metric': 'euclidean', 'algorithm': 'kd_tree'}. Best is trial 3 with value: 0.6125.\n[I 2024-02-22 16:51:44,250] Trial 4 finished with value: 0.10625 and parameters: {'n_neighbors': 63, 'weights': 'uniform', 'metric': 'minkowski', 'algorithm': 'auto'}. Best is trial 3 with value: 0.6125.\n[I 2024-02-22 16:51:44,302] Trial 5 finished with value: 0.546875 and parameters: {'n_neighbors': 69, 'weights': 'distance', 'metric': 'manhattan', 'algorithm': 'brute'}. Best is trial 3 with value: 0.6125.\n[I 2024-02-22 16:51:44,429] Trial 6 finished with value: 0.196875 and parameters: {'n_neighbors': 52, 'weights': 'uniform', 'metric': 'manhattan', 'algorithm': 'kd_tree'}. Best is trial 3 with value: 0.6125.\n[I 2024-02-22 16:51:44,543] Trial 7 finished with value: 0.553125 and parameters: {'n_neighbors': 65, 'weights': 'distance', 'metric': 'manhattan', 'algorithm': 'kd_tree'}. Best is trial 3 with value: 0.6125.\n[I 2024-02-22 16:51:44,602] Trial 8 finished with value: 0.096875 and parameters: {'n_neighbors': 86, 'weights': 'uniform', 'metric': 'manhattan', 'algorithm': 'brute'}. Best is trial 3 with value: 0.6125.\n[I 2024-02-22 16:51:44,653] Trial 9 finished with value: 0.365625 and parameters: {'n_neighbors': 27, 'weights': 'uniform', 'metric': 'euclidean', 'algorithm': 'brute'}. Best is trial 3 with value: 0.6125.\n[I 2024-02-22 16:51:44,774] Trial 10 finished with value: 0.784375 and parameters: {'n_neighbors': 9, 'weights': 'distance', 'metric': 'euclidean', 'algorithm': 'ball_tree'}. Best is trial 10 with value: 0.784375.\n[I 2024-02-22 16:51:44,895] Trial 11 finished with value: 0.85625 and parameters: {'n_neighbors': 5, 'weights': 'distance', 'metric': 'euclidean', 'algorithm': 'ball_tree'}. Best is trial 11 with value: 0.85625.\n[I 2024-02-22 16:51:45,009] Trial 12 finished with value: 0.7875 and parameters: {'n_neighbors': 8, 'weights': 'distance', 'metric': 'euclidean', 'algorithm': 'ball_tree'}. Best is trial 11 with value: 0.85625.\n[I 2024-02-22 16:51:45,120] Trial 13 finished with value: 0.85625 and parameters: {'n_neighbors': 5, 'weights': 'distance', 'metric': 'euclidean', 'algorithm': 'ball_tree'}. Best is trial 11 with value: 0.85625.\n[I 2024-02-22 16:51:45,238] Trial 14 finished with value: 0.675 and parameters: {'n_neighbors': 21, 'weights': 'distance', 'metric': 'euclidean', 'algorithm': 'ball_tree'}. Best is trial 11 with value: 0.85625.\n[I 2024-02-22 16:51:45,354] Trial 15 finished with value: 0.621875 and parameters: {'n_neighbors': 41, 'weights': 'distance', 'metric': 'euclidean', 'algorithm': 'ball_tree'}. Best is trial 11 with value: 0.85625.\n[I 2024-02-22 16:51:45,481] Trial 16 finished with value: 0.565625 and parameters: {'n_neighbors': 99, 'weights': 'distance', 'metric': 'euclidean', 'algorithm': 'ball_tree'}. Best is trial 11 with value: 0.85625.\n[I 2024-02-22 16:51:45,596] Trial 17 finished with value: 0.70625 and parameters: {'n_neighbors': 18, 'weights': 'distance', 'metric': 'euclidean', 'algorithm': 'ball_tree'}. Best is trial 11 with value: 0.85625.\n[I 2024-02-22 16:51:45,720] Trial 18 finished with value: 0.628125 and parameters: {'n_neighbors': 47, 'weights': 'distance', 'metric': 'euclidean', 'algorithm': 'ball_tree'}. Best is trial 11 with value: 0.85625.\n[I 2024-02-22 16:51:45,771] Trial 19 finished with value: 0.675 and parameters: {'n_neighbors': 21, 'weights': 'distance', 'metric': 'euclidean', 'algorithm': 'auto'}. Best is trial 11 with value: 0.85625.\n[I 2024-02-22 16:51:45,896] Trial 20 finished with value: 0.85625 and parameters: {'n_neighbors': 5, 'weights': 'distance', 'metric': 'minkowski', 'algorithm': 'ball_tree'}. Best is trial 11 with value: 0.85625.\n[I 2024-02-22 16:51:46,009] Trial 21 finished with value: 0.828125 and parameters: {'n_neighbors': 6, 'weights': 'distance', 'metric': 'minkowski', 'algorithm': 'ball_tree'}. Best is trial 11 with value: 0.85625.\n[I 2024-02-22 16:51:46,127] Trial 22 finished with value: 0.69375 and parameters: {'n_neighbors': 19, 'weights': 'distance', 'metric': 'minkowski', 'algorithm': 'ball_tree'}. Best is trial 11 with value: 0.85625.\n[I 2024-02-22 16:51:46,244] Trial 23 finished with value: 0.85625 and parameters: {'n_neighbors': 5, 'weights': 'distance', 'metric': 'minkowski', 'algorithm': 'ball_tree'}. Best is trial 11 with value: 0.85625.\n[I 2024-02-22 16:51:46,367] Trial 24 finished with value: 0.75 and parameters: {'n_neighbors': 14, 'weights': 'distance', 'metric': 'minkowski', 'algorithm': 'ball_tree'}. Best is trial 11 with value: 0.85625.\n[I 2024-02-22 16:51:46,492] Trial 25 finished with value: 0.640625 and parameters: {'n_neighbors': 30, 'weights': 'distance', 'metric': 'euclidean', 'algorithm': 'ball_tree'}. Best is trial 11 with value: 0.85625.\n[I 2024-02-22 16:51:46,613] Trial 26 finished with value: 0.646875 and parameters: {'n_neighbors': 26, 'weights': 'distance', 'metric': 'minkowski', 'algorithm': 'ball_tree'}. Best is trial 11 with value: 0.85625.\n[I 2024-02-22 16:51:46,659] Trial 27 finished with value: 0.725 and parameters: {'n_neighbors': 15, 'weights': 'distance', 'metric': 'euclidean', 'algorithm': 'brute'}. Best is trial 11 with value: 0.85625.\n[I 2024-02-22 16:51:46,716] Trial 28 finished with value: 0.765625 and parameters: {'n_neighbors': 12, 'weights': 'distance', 'metric': 'euclidean', 'algorithm': 'auto'}. Best is trial 11 with value: 0.85625.\n[I 2024-02-22 16:51:46,779] Trial 29 finished with value: 0.634375 and parameters: {'n_neighbors': 34, 'weights': 'distance', 'metric': 'minkowski', 'algorithm': 'auto'}. Best is trial 11 with value: 0.85625.\n[I 2024-02-22 16:51:46,907] Trial 30 finished with value: 0.66875 and parameters: {'n_neighbors': 25, 'weights': 'distance', 'metric': 'manhattan', 'algorithm': 'ball_tree'}. Best is trial 11 with value: 0.85625.\n[I 2024-02-22 16:51:47,023] Trial 31 finished with value: 0.85625 and parameters: {'n_neighbors': 5, 'weights': 'distance', 'metric': 'minkowski', 'algorithm': 'ball_tree'}. Best is trial 11 with value: 0.85625.\n[I 2024-02-22 16:51:47,146] Trial 32 finished with value: 0.85625 and parameters: {'n_neighbors': 5, 'weights': 'distance', 'metric': 'minkowski', 'algorithm': 'ball_tree'}. Best is trial 11 with value: 0.85625.\n[I 2024-02-22 16:51:47,271] Trial 33 finished with value: 0.753125 and parameters: {'n_neighbors': 13, 'weights': 'distance', 'metric': 'minkowski', 'algorithm': 'ball_tree'}. Best is trial 11 with value: 0.85625.\n[I 2024-02-22 16:51:47,395] Trial 34 finished with value: 0.61875 and parameters: {'n_neighbors': 40, 'weights': 'distance', 'metric': 'minkowski', 'algorithm': 'kd_tree'}. Best is trial 11 with value: 0.85625.\n[I 2024-02-22 16:51:47,537] Trial 35 finished with value: 0.54375 and parameters: {'n_neighbors': 16, 'weights': 'uniform', 'metric': 'minkowski', 'algorithm': 'ball_tree'}. Best is trial 11 with value: 0.85625.\n[I 2024-02-22 16:51:47,659] Trial 36 finished with value: 0.76875 and parameters: {'n_neighbors': 11, 'weights': 'distance', 'metric': 'minkowski', 'algorithm': 'ball_tree'}. Best is trial 11 with value: 0.85625.\n[I 2024-02-22 16:51:47,796] Trial 37 finished with value: 0.440625 and parameters: {'n_neighbors': 23, 'weights': 'uniform', 'metric': 'minkowski', 'algorithm': 'kd_tree'}. Best is trial 11 with value: 0.85625.\n[I 2024-02-22 16:51:47,915] Trial 38 finished with value: 0.578125 and parameters: {'n_neighbors': 77, 'weights': 'distance', 'metric': 'euclidean', 'algorithm': 'ball_tree'}. Best is trial 11 with value: 0.85625.\n[I 2024-02-22 16:51:47,977] Trial 39 finished with value: 0.578125 and parameters: {'n_neighbors': 56, 'weights': 'distance', 'metric': 'manhattan', 'algorithm': 'brute'}. Best is trial 11 with value: 0.85625.\n[I 2024-02-22 16:51:48,060] Trial 40 finished with value: 0.3375 and parameters: {'n_neighbors': 31, 'weights': 'uniform', 'metric': 'minkowski', 'algorithm': 'auto'}. Best is trial 11 with value: 0.85625.\n[I 2024-02-22 16:51:48,190] Trial 41 finished with value: 0.8125 and parameters: {'n_neighbors': 7, 'weights': 'distance', 'metric': 'minkowski', 'algorithm': 'ball_tree'}. Best is trial 11 with value: 0.85625.\n[I 2024-02-22 16:51:48,311] Trial 42 finished with value: 0.8125 and parameters: {'n_neighbors': 7, 'weights': 'distance', 'metric': 'minkowski', 'algorithm': 'ball_tree'}. Best is trial 11 with value: 0.85625.\n[I 2024-02-22 16:51:48,439] Trial 43 finished with value: 0.85625 and parameters: {'n_neighbors': 5, 'weights': 'distance', 'metric': 'minkowski', 'algorithm': 'ball_tree'}. Best is trial 11 with value: 0.85625.\n[I 2024-02-22 16:51:48,562] Trial 44 finished with value: 0.765625 and parameters: {'n_neighbors': 12, 'weights': 'distance', 'metric': 'minkowski', 'algorithm': 'ball_tree'}. Best is trial 11 with value: 0.85625.\n[I 2024-02-22 16:51:48,689] Trial 45 finished with value: 0.703125 and parameters: {'n_neighbors': 18, 'weights': 'distance', 'metric': 'manhattan', 'algorithm': 'kd_tree'}. Best is trial 11 with value: 0.85625.\n[I 2024-02-22 16:51:48,833] Trial 46 finished with value: 0.63125 and parameters: {'n_neighbors': 10, 'weights': 'uniform', 'metric': 'euclidean', 'algorithm': 'ball_tree'}. Best is trial 11 with value: 0.85625.\n[I 2024-02-22 16:51:48,901] Trial 47 finished with value: 0.7125 and parameters: {'n_neighbors': 16, 'weights': 'distance', 'metric': 'minkowski', 'algorithm': 'brute'}. Best is trial 11 with value: 0.85625.\n[I 2024-02-22 16:51:49,025] Trial 48 finished with value: 0.85625 and parameters: {'n_neighbors': 5, 'weights': 'distance', 'metric': 'euclidean', 'algorithm': 'ball_tree'}. Best is trial 11 with value: 0.85625.\n[I 2024-02-22 16:51:49,148] Trial 49 finished with value: 0.771875 and parameters: {'n_neighbors': 10, 'weights': 'distance', 'metric': 'euclidean', 'algorithm': 'ball_tree'}. Best is trial 11 with value: 0.85625.\n[I 2024-02-22 16:51:49,271] Trial 50 finished with value: 0.68125 and parameters: {'n_neighbors': 22, 'weights': 'distance', 'metric': 'manhattan', 'algorithm': 'ball_tree'}. Best is trial 11 with value: 0.85625.\n[I 2024-02-22 16:51:49,390] Trial 51 finished with value: 0.85625 and parameters: {'n_neighbors': 5, 'weights': 'distance', 'metric': 'minkowski', 'algorithm': 'ball_tree'}. Best is trial 11 with value: 0.85625.\n[I 2024-02-22 16:51:49,510] Trial 52 finished with value: 0.784375 and parameters: {'n_neighbors': 9, 'weights': 'distance', 'metric': 'minkowski', 'algorithm': 'ball_tree'}. Best is trial 11 with value: 0.85625.\n[I 2024-02-22 16:51:49,630] Trial 53 finished with value: 0.85625 and parameters: {'n_neighbors': 5, 'weights': 'distance', 'metric': 'minkowski', 'algorithm': 'ball_tree'}. Best is trial 11 with value: 0.85625.\n[I 2024-02-22 16:51:49,751] Trial 54 finished with value: 0.7125 and parameters: {'n_neighbors': 16, 'weights': 'distance', 'metric': 'minkowski', 'algorithm': 'ball_tree'}. Best is trial 11 with value: 0.85625.\n[I 2024-02-22 16:51:49,875] Trial 55 finished with value: 0.565625 and parameters: {'n_neighbors': 100, 'weights': 'distance', 'metric': 'minkowski', 'algorithm': 'ball_tree'}. Best is trial 11 with value: 0.85625.\n[I 2024-02-22 16:51:49,995] Trial 56 finished with value: 0.771875 and parameters: {'n_neighbors': 10, 'weights': 'distance', 'metric': 'euclidean', 'algorithm': 'ball_tree'}. Best is trial 11 with value: 0.85625.\n[I 2024-02-22 16:51:50,140] Trial 57 finished with value: 0.509375 and parameters: {'n_neighbors': 19, 'weights': 'uniform', 'metric': 'minkowski', 'algorithm': 'kd_tree'}. Best is trial 11 with value: 0.85625.\n[I 2024-02-22 16:51:50,199] Trial 58 finished with value: 0.571875 and parameters: {'n_neighbors': 91, 'weights': 'distance', 'metric': 'euclidean', 'algorithm': 'auto'}. Best is trial 11 with value: 0.85625.\n[I 2024-02-22 16:51:50,327] Trial 59 finished with value: 0.753125 and parameters: {'n_neighbors': 13, 'weights': 'distance', 'metric': 'minkowski', 'algorithm': 'ball_tree'}. Best is trial 11 with value: 0.85625.\n[I 2024-02-22 16:51:50,382] Trial 60 finished with value: 0.625 and parameters: {'n_neighbors': 48, 'weights': 'distance', 'metric': 'euclidean', 'algorithm': 'brute'}. Best is trial 11 with value: 0.85625.\n[I 2024-02-22 16:51:50,512] Trial 61 finished with value: 0.85625 and parameters: {'n_neighbors': 5, 'weights': 'distance', 'metric': 'minkowski', 'algorithm': 'ball_tree'}. Best is trial 11 with value: 0.85625.\n[I 2024-02-22 16:51:50,638] Trial 62 finished with value: 0.784375 and parameters: {'n_neighbors': 9, 'weights': 'distance', 'metric': 'minkowski', 'algorithm': 'ball_tree'}. Best is trial 11 with value: 0.85625.\n[I 2024-02-22 16:51:50,762] Trial 63 finished with value: 0.7875 and parameters: {'n_neighbors': 8, 'weights': 'distance', 'metric': 'minkowski', 'algorithm': 'ball_tree'}. Best is trial 11 with value: 0.85625.\n[I 2024-02-22 16:51:50,889] Trial 64 finished with value: 0.75 and parameters: {'n_neighbors': 14, 'weights': 'distance', 'metric': 'minkowski', 'algorithm': 'ball_tree'}. Best is trial 11 with value: 0.85625.\n[I 2024-02-22 16:51:51,020] Trial 65 finished with value: 0.85625 and parameters: {'n_neighbors': 5, 'weights': 'distance', 'metric': 'minkowski', 'algorithm': 'ball_tree'}. Best is trial 11 with value: 0.85625.\n[I 2024-02-22 16:51:51,148] Trial 66 finished with value: 0.6375 and parameters: {'n_neighbors': 28, 'weights': 'distance', 'metric': 'minkowski', 'algorithm': 'ball_tree'}. Best is trial 11 with value: 0.85625.\n[I 2024-02-22 16:51:51,276] Trial 67 finished with value: 0.753125 and parameters: {'n_neighbors': 13, 'weights': 'distance', 'metric': 'euclidean', 'algorithm': 'ball_tree'}. Best is trial 11 with value: 0.85625.\n[I 2024-02-22 16:51:51,412] Trial 68 finished with value: 0.690625 and parameters: {'n_neighbors': 20, 'weights': 'distance', 'metric': 'manhattan', 'algorithm': 'ball_tree'}. Best is trial 11 with value: 0.85625.\n[I 2024-02-22 16:51:51,489] Trial 69 finished with value: 0.675 and parameters: {'n_neighbors': 8, 'weights': 'uniform', 'metric': 'minkowski', 'algorithm': 'auto'}. Best is trial 11 with value: 0.85625.\n[I 2024-02-22 16:51:51,621] Trial 70 finished with value: 0.609375 and parameters: {'n_neighbors': 59, 'weights': 'distance', 'metric': 'euclidean', 'algorithm': 'ball_tree'}. Best is trial 11 with value: 0.85625.\n[I 2024-02-22 16:51:51,743] Trial 71 finished with value: 0.85625 and parameters: {'n_neighbors': 5, 'weights': 'distance', 'metric': 'euclidean', 'algorithm': 'ball_tree'}. Best is trial 11 with value: 0.85625.\n[I 2024-02-22 16:51:51,867] Trial 72 finished with value: 0.76875 and parameters: {'n_neighbors': 11, 'weights': 'distance', 'metric': 'euclidean', 'algorithm': 'ball_tree'}. Best is trial 11 with value: 0.85625.\n[I 2024-02-22 16:51:51,984] Trial 73 finished with value: 0.7875 and parameters: {'n_neighbors': 8, 'weights': 'distance', 'metric': 'euclidean', 'algorithm': 'ball_tree'}. Best is trial 11 with value: 0.85625.\n[I 2024-02-22 16:51:52,108] Trial 74 finished with value: 0.7125 and parameters: {'n_neighbors': 16, 'weights': 'distance', 'metric': 'euclidean', 'algorithm': 'ball_tree'}. Best is trial 11 with value: 0.85625.\n[I 2024-02-22 16:51:52,237] Trial 75 finished with value: 0.8125 and parameters: {'n_neighbors': 7, 'weights': 'distance', 'metric': 'euclidean', 'algorithm': 'ball_tree'}. Best is trial 11 with value: 0.85625.\n[I 2024-02-22 16:51:52,365] Trial 76 finished with value: 0.76875 and parameters: {'n_neighbors': 11, 'weights': 'distance', 'metric': 'minkowski', 'algorithm': 'kd_tree'}. Best is trial 11 with value: 0.85625.\n[I 2024-02-22 16:51:52,421] Trial 77 finished with value: 0.703125 and parameters: {'n_neighbors': 17, 'weights': 'distance', 'metric': 'minkowski', 'algorithm': 'brute'}. Best is trial 11 with value: 0.85625.\n[I 2024-02-22 16:51:52,554] Trial 78 finished with value: 0.75 and parameters: {'n_neighbors': 14, 'weights': 'distance', 'metric': 'euclidean', 'algorithm': 'ball_tree'}. Best is trial 11 with value: 0.85625.\n[I 2024-02-22 16:51:52,685] Trial 79 finished with value: 0.590625 and parameters: {'n_neighbors': 68, 'weights': 'distance', 'metric': 'minkowski', 'algorithm': 'ball_tree'}. Best is trial 11 with value: 0.85625.\n[I 2024-02-22 16:51:52,830] Trial 80 finished with value: 0.4625 and parameters: {'n_neighbors': 24, 'weights': 'uniform', 'metric': 'manhattan', 'algorithm': 'ball_tree'}. Best is trial 11 with value: 0.85625.\n[I 2024-02-22 16:51:52,952] Trial 81 finished with value: 0.828125 and parameters: {'n_neighbors': 6, 'weights': 'distance', 'metric': 'minkowski', 'algorithm': 'ball_tree'}. Best is trial 11 with value: 0.85625.\n[I 2024-02-22 16:51:53,077] Trial 82 finished with value: 0.85625 and parameters: {'n_neighbors': 5, 'weights': 'distance', 'metric': 'minkowski', 'algorithm': 'ball_tree'}. Best is trial 11 with value: 0.85625.\n[I 2024-02-22 16:51:53,196] Trial 83 finished with value: 0.7875 and parameters: {'n_neighbors': 8, 'weights': 'distance', 'metric': 'minkowski', 'algorithm': 'ball_tree'}. Best is trial 11 with value: 0.85625.\n[I 2024-02-22 16:51:53,319] Trial 84 finished with value: 0.76875 and parameters: {'n_neighbors': 11, 'weights': 'distance', 'metric': 'minkowski', 'algorithm': 'ball_tree'}. Best is trial 11 with value: 0.85625.\n[I 2024-02-22 16:51:53,451] Trial 85 finished with value: 0.85625 and parameters: {'n_neighbors': 5, 'weights': 'distance', 'metric': 'minkowski', 'algorithm': 'ball_tree'}. Best is trial 11 with value: 0.85625.\n[I 2024-02-22 16:51:53,576] Trial 86 finished with value: 0.784375 and parameters: {'n_neighbors': 9, 'weights': 'distance', 'metric': 'minkowski', 'algorithm': 'ball_tree'}. Best is trial 11 with value: 0.85625.\n[I 2024-02-22 16:51:53,632] Trial 87 finished with value: 0.753125 and parameters: {'n_neighbors': 13, 'weights': 'distance', 'metric': 'euclidean', 'algorithm': 'auto'}. Best is trial 11 with value: 0.85625.\n[I 2024-02-22 16:51:53,769] Trial 88 finished with value: 0.8125 and parameters: {'n_neighbors': 7, 'weights': 'distance', 'metric': 'minkowski', 'algorithm': 'ball_tree'}. Best is trial 11 with value: 0.85625.\n[I 2024-02-22 16:51:53,909] Trial 89 finished with value: 0.76875 and parameters: {'n_neighbors': 11, 'weights': 'distance', 'metric': 'euclidean', 'algorithm': 'ball_tree'}. Best is trial 11 with value: 0.85625.\n[I 2024-02-22 16:51:54,044] Trial 90 finished with value: 0.578125 and parameters: {'n_neighbors': 76, 'weights': 'distance', 'metric': 'minkowski', 'algorithm': 'kd_tree'}. Best is trial 11 with value: 0.85625.\n[I 2024-02-22 16:51:54,173] Trial 91 finished with value: 0.85625 and parameters: {'n_neighbors': 5, 'weights': 'distance', 'metric': 'minkowski', 'algorithm': 'ball_tree'}. Best is trial 11 with value: 0.85625.\n[I 2024-02-22 16:51:54,305] Trial 92 finished with value: 0.8125 and parameters: {'n_neighbors': 7, 'weights': 'distance', 'metric': 'minkowski', 'algorithm': 'ball_tree'}. Best is trial 11 with value: 0.85625.\n[I 2024-02-22 16:51:54,435] Trial 93 finished with value: 0.771875 and parameters: {'n_neighbors': 10, 'weights': 'distance', 'metric': 'minkowski', 'algorithm': 'ball_tree'}. Best is trial 11 with value: 0.85625.\n[I 2024-02-22 16:51:54,555] Trial 94 finished with value: 0.85625 and parameters: {'n_neighbors': 5, 'weights': 'distance', 'metric': 'minkowski', 'algorithm': 'ball_tree'}. Best is trial 11 with value: 0.85625.\n[I 2024-02-22 16:51:54,682] Trial 95 finished with value: 0.75 and parameters: {'n_neighbors': 14, 'weights': 'distance', 'metric': 'minkowski', 'algorithm': 'ball_tree'}. Best is trial 11 with value: 0.85625.\n[I 2024-02-22 16:51:54,737] Trial 96 finished with value: 0.784375 and parameters: {'n_neighbors': 9, 'weights': 'distance', 'metric': 'minkowski', 'algorithm': 'brute'}. Best is trial 11 with value: 0.85625.\n[I 2024-02-22 16:51:54,878] Trial 97 finished with value: 0.596875 and parameters: {'n_neighbors': 12, 'weights': 'uniform', 'metric': 'euclidean', 'algorithm': 'ball_tree'}. Best is trial 11 with value: 0.85625.\n[I 2024-02-22 16:51:55,011] Trial 98 finished with value: 0.70625 and parameters: {'n_neighbors': 18, 'weights': 'distance', 'metric': 'minkowski', 'algorithm': 'ball_tree'}. Best is trial 11 with value: 0.85625.\n[I 2024-02-22 16:51:55,137] Trial 99 finished with value: 0.796875 and parameters: {'n_neighbors': 7, 'weights': 'distance', 'metric': 'manhattan', 'algorithm': 'ball_tree'}. Best is trial 11 with value: 0.85625.\n",
          "output_type": "stream"
        },
        {
          "name": "stdout",
          "text": "Best params found : {'n_neighbors': 5, 'weights': 'distance', 'metric': 'euclidean', 'algorithm': 'ball_tree'}\naccuracy: 0.9875\nrecall: 0.9930555555555556\nprecision: 0.9930555555555556\nf1-score: 0.9920634920634921\nroc_auc:  0.9963474025974026\n",
          "output_type": "stream"
        }
      ]
    },
    {
      "cell_type": "markdown",
      "source": [
        "## Support Vector Machine"
      ],
      "metadata": {
        "id": "9azRAYUUA4YO"
      }
    },
    {
      "cell_type": "markdown",
      "source": [
        "**Normal**"
      ],
      "metadata": {
        "id": "hF8v048UA4YO"
      }
    },
    {
      "cell_type": "code",
      "source": [
        "from sklearn.svm import SVC\n",
        "\n",
        "svm = SVC(kernel='linear')\n",
        "svm.fit(X_train_reduced, y_train)\n",
        "y_pred = svm.predict(X_test_reduced)\n",
        "\n",
        "accuracy = accuracy_score(y_test, y_pred)\n",
        "precision = precision_score(y_test, y_pred, average='macro')\n",
        "recall = recall_score(y_test, y_pred, average='macro')\n",
        "f1 = f1_score(y_test, y_pred, average='macro')\n",
        "\n",
        "# One-hot encoding for probability calculation (adapt if necessary)\n",
        "# Assuming 'label_' prefix for clarity\n",
        "y_test_onehot = pd.get_dummies(y_test, prefix='label_')\n",
        "y_pred_onehot = pd.get_dummies(y_pred, prefix='label_')\n",
        "\n",
        "# ROC AUC score with multiclass handling\n",
        "roc_auc_macro = roc_auc_score(y_test_onehot, y_pred_onehot,\n",
        "                              average='macro', multi_class='ovo')  # Specify 'ovo' or 'ovr'\n",
        "\n",
        "print(\"accuracy:\", accuracy)\n",
        "print(\"recall:\", recall)\n",
        "print(\"precision:\", precision)\n",
        "print(\"f1-score:\", f1)\n",
        "print('roc_auc: ', roc_auc_macro)"
      ],
      "metadata": {
        "execution": {
          "iopub.status.busy": "2024-02-22T16:51:55.191724Z",
          "iopub.execute_input": "2024-02-22T16:51:55.192205Z",
          "iopub.status.idle": "2024-02-22T16:51:55.267262Z",
          "shell.execute_reply.started": "2024-02-22T16:51:55.192168Z",
          "shell.execute_reply": "2024-02-22T16:51:55.265973Z"
        },
        "trusted": true,
        "id": "e-wr4hAgA4YO",
        "outputId": "32506ffa-68b8-4351-8aa5-8819306b0ca1"
      },
      "execution_count": null,
      "outputs": [
        {
          "name": "stdout",
          "text": "accuracy: 1.0\nrecall: 1.0\nprecision: 1.0\nf1-score: 1.0\nroc_auc:  1.0\n",
          "output_type": "stream"
        }
      ]
    },
    {
      "cell_type": "markdown",
      "source": [
        "**Tunning**"
      ],
      "metadata": {
        "id": "WNEYSDO-A4YO"
      }
    },
    {
      "cell_type": "code",
      "source": [
        "import optuna\n",
        "from sklearn.model_selection import cross_val_score\n",
        "import warnings\n",
        "warnings.filterwarnings('ignore')\n",
        "\n",
        "def objective(trial):\n",
        "    hyperparams = {\n",
        "        'kernel': trial.suggest_categorical('kernel', ['linear', 'rbf', 'poly']),\n",
        "        'C': trial.suggest_loguniform('C', 1e-5, 1e5),\n",
        "        'gamma': trial.suggest_loguniform('gamma', 1e-5, 1e5),\n",
        "        # 'degree': trial.suggest_int('degree', 2, 5),  # for polynomial kernel\n",
        "        'tol': trial.suggest_loguniform('tol', 1e-4, 1e-2),\n",
        "        'shrinking': trial.suggest_categorical('shrinking', [True, False]),\n",
        "    }\n",
        "\n",
        "    # Create KNN model with tuned hyperparameters\n",
        "    model = SVC(**hyperparams)\n",
        "    scores = cross_val_score(model, X_train_reduced, y_train, cv = kf,scoring = 'accuracy')\n",
        "    return np.mean(scores)"
      ],
      "metadata": {
        "execution": {
          "iopub.status.busy": "2024-02-22T16:51:55.268721Z",
          "iopub.execute_input": "2024-02-22T16:51:55.269196Z",
          "iopub.status.idle": "2024-02-22T16:51:55.279484Z",
          "shell.execute_reply.started": "2024-02-22T16:51:55.269159Z",
          "shell.execute_reply": "2024-02-22T16:51:55.277903Z"
        },
        "trusted": true,
        "id": "P1i2tO36A4YO"
      },
      "execution_count": null,
      "outputs": []
    },
    {
      "cell_type": "code",
      "source": [
        "study = optuna.create_study(direction='maximize')\n",
        "study.optimize(objective, n_trials=100)\n",
        "best_params = study.best_params\n",
        "print(\"Best params found :\", best_params)\n",
        "\n",
        "final_model = SVC(**best_params)\n",
        "final_model.fit(X_train_reduced, y_train)\n",
        "y_pred = final_model.predict(X_test_reduced)\n",
        "prediction_results['svc'] = list(y_pred)\n",
        "\n",
        "accuracy = accuracy_score(y_test, y_pred)\n",
        "precision = precision_score(y_test, y_pred, average='macro')\n",
        "recall = recall_score(y_test, y_pred, average='macro')\n",
        "f1 = f1_score(y_test, y_pred, average='macro')\n",
        "\n",
        "# One-hot encoding for probability calculation (adapt if necessary)\n",
        "# Assuming 'label_' prefix for clarity\n",
        "y_test_onehot = pd.get_dummies(y_test, prefix='label_')\n",
        "y_pred_onehot = pd.get_dummies(y_pred, prefix='label_')\n",
        "\n",
        "# ROC AUC score with multiclass handling\n",
        "roc_auc_macro = roc_auc_score(y_test_onehot, y_pred_onehot,\n",
        "                              average='macro', multi_class='ovo')  # Specify 'ovo' or 'ovr'\n",
        "\n",
        "print(\"accuracy:\", accuracy)\n",
        "print(\"recall:\", recall)\n",
        "print(\"precision:\", precision)\n",
        "print(\"f1-score:\", f1)\n",
        "print('roc_auc: ', roc_auc_macro)"
      ],
      "metadata": {
        "execution": {
          "iopub.status.busy": "2024-02-22T16:51:55.281815Z",
          "iopub.execute_input": "2024-02-22T16:51:55.282848Z",
          "iopub.status.idle": "2024-02-22T16:52:06.390375Z",
          "shell.execute_reply.started": "2024-02-22T16:51:55.282794Z",
          "shell.execute_reply": "2024-02-22T16:52:06.388979Z"
        },
        "trusted": true,
        "id": "A6nLHSCnA4YO",
        "outputId": "0fb57b8c-89b2-47b7-e1b1-9e2416791578"
      },
      "execution_count": null,
      "outputs": [
        {
          "name": "stderr",
          "text": "[I 2024-02-22 16:51:55,294] A new study created in memory with name: no-name-ae9c3c34-2121-412e-97ab-9f2f6e5eecd9\n[I 2024-02-22 16:51:55,387] Trial 0 finished with value: 0.0 and parameters: {'kernel': 'rbf', 'C': 0.00021088683623200928, 'gamma': 0.0014119592713474087, 'tol': 0.0035210755679663855, 'shrinking': False}. Best is trial 0 with value: 0.0.\n[I 2024-02-22 16:51:55,477] Trial 1 finished with value: 0.8625 and parameters: {'kernel': 'poly', 'C': 0.0002026503016019781, 'gamma': 6670.217363067349, 'tol': 0.00658014074340413, 'shrinking': False}. Best is trial 1 with value: 0.8625.\n[I 2024-02-22 16:51:55,551] Trial 2 finished with value: 0.946875 and parameters: {'kernel': 'linear', 'C': 0.022054823434521045, 'gamma': 2.3048539776902917e-05, 'tol': 0.00407061185257594, 'shrinking': False}. Best is trial 2 with value: 0.946875.\n[I 2024-02-22 16:51:55,636] Trial 3 finished with value: 0.946875 and parameters: {'kernel': 'linear', 'C': 0.8841857932701819, 'gamma': 7.23893458117557, 'tol': 0.0007800722969648966, 'shrinking': True}. Best is trial 2 with value: 0.946875.\n[I 2024-02-22 16:51:55,715] Trial 4 finished with value: 0.0 and parameters: {'kernel': 'rbf', 'C': 0.00010892710931539094, 'gamma': 0.032553345905126894, 'tol': 0.00048045159707201885, 'shrinking': False}. Best is trial 2 with value: 0.946875.\n[I 2024-02-22 16:51:55,801] Trial 5 finished with value: 0.0 and parameters: {'kernel': 'rbf', 'C': 0.004676628685190996, 'gamma': 0.18436382672745105, 'tol': 0.0008865441804233213, 'shrinking': False}. Best is trial 2 with value: 0.946875.\n[I 2024-02-22 16:51:55,884] Trial 6 finished with value: 0.0 and parameters: {'kernel': 'rbf', 'C': 0.00023805934705579566, 'gamma': 3.3532872290756788, 'tol': 0.00015255035669528013, 'shrinking': False}. Best is trial 2 with value: 0.946875.\n[I 2024-02-22 16:51:55,958] Trial 7 finished with value: 0.946875 and parameters: {'kernel': 'linear', 'C': 0.038853326845512653, 'gamma': 0.0013085235753501267, 'tol': 0.008654125479378945, 'shrinking': True}. Best is trial 2 with value: 0.946875.\n[I 2024-02-22 16:51:56,034] Trial 8 finished with value: 0.946875 and parameters: {'kernel': 'linear', 'C': 98304.69097816317, 'gamma': 1386.7116508009842, 'tol': 0.004636782552842758, 'shrinking': False}. Best is trial 2 with value: 0.946875.\n[I 2024-02-22 16:51:56,119] Trial 9 finished with value: 0.8625 and parameters: {'kernel': 'poly', 'C': 0.00022558896505733657, 'gamma': 433.10489582304217, 'tol': 0.0036121254939334487, 'shrinking': False}. Best is trial 2 with value: 0.946875.\n[I 2024-02-22 16:51:56,226] Trial 10 finished with value: 0.946875 and parameters: {'kernel': 'linear', 'C': 397.77181278624573, 'gamma': 1.0514487032894105e-05, 'tol': 0.0017134459709750183, 'shrinking': True}. Best is trial 2 with value: 0.946875.\n[I 2024-02-22 16:51:56,339] Trial 11 finished with value: 0.946875 and parameters: {'kernel': 'linear', 'C': 2.9784499776791145, 'gamma': 14.772172156694012, 'tol': 0.0003867724843060163, 'shrinking': True}. Best is trial 2 with value: 0.946875.\n[I 2024-02-22 16:51:56,444] Trial 12 finished with value: 0.946875 and parameters: {'kernel': 'linear', 'C': 1.9632964849394339, 'gamma': 35.63480279272601, 'tol': 0.0013355590445421532, 'shrinking': True}. Best is trial 2 with value: 0.946875.\n[I 2024-02-22 16:51:56,550] Trial 13 finished with value: 0.946875 and parameters: {'kernel': 'linear', 'C': 0.07167715896351244, 'gamma': 3.201823118523055e-05, 'tol': 0.0020345355705315613, 'shrinking': True}. Best is trial 2 with value: 0.946875.\n[I 2024-02-22 16:51:56,658] Trial 14 finished with value: 0.946875 and parameters: {'kernel': 'linear', 'C': 66.72895579165869, 'gamma': 0.008815084904206441, 'tol': 0.0005641093745936731, 'shrinking': True}. Best is trial 2 with value: 0.946875.\n[I 2024-02-22 16:51:56,770] Trial 15 finished with value: 0.946875 and parameters: {'kernel': 'linear', 'C': 64.35093546205125, 'gamma': 0.577565789786772, 'tol': 0.0002102522123549361, 'shrinking': True}. Best is trial 2 with value: 0.946875.\n[I 2024-02-22 16:51:56,889] Trial 16 finished with value: 0.8625 and parameters: {'kernel': 'poly', 'C': 0.10633000026778383, 'gamma': 0.0002516330406703525, 'tol': 0.0008125537895289532, 'shrinking': True}. Best is trial 2 with value: 0.946875.\n[I 2024-02-22 16:51:56,987] Trial 17 finished with value: 0.946875 and parameters: {'kernel': 'linear', 'C': 0.011093755856389137, 'gamma': 65561.32756553778, 'tol': 0.0023788926910068694, 'shrinking': False}. Best is trial 2 with value: 0.946875.\n[I 2024-02-22 16:51:57,090] Trial 18 finished with value: 0.946875 and parameters: {'kernel': 'linear', 'C': 0.6821267712726002, 'gamma': 195.7695388613055, 'tol': 0.0012044192563889482, 'shrinking': False}. Best is trial 2 with value: 0.946875.\n[I 2024-02-22 16:51:57,214] Trial 19 finished with value: 0.8625 and parameters: {'kernel': 'poly', 'C': 0.0030962128120798176, 'gamma': 0.06894314616364655, 'tol': 0.0002553306911455983, 'shrinking': True}. Best is trial 2 with value: 0.946875.\n[I 2024-02-22 16:51:57,327] Trial 20 finished with value: 0.946875 and parameters: {'kernel': 'linear', 'C': 27.405543451770686, 'gamma': 3.5825639124893818, 'tol': 0.00011149886075237805, 'shrinking': True}. Best is trial 2 with value: 0.946875.\n[I 2024-02-22 16:51:57,424] Trial 21 finished with value: 0.946875 and parameters: {'kernel': 'linear', 'C': 1.0768071595423835e-05, 'gamma': 0.00020054096327103884, 'tol': 0.009692802960845917, 'shrinking': True}. Best is trial 2 with value: 0.946875.\n[I 2024-02-22 16:51:57,522] Trial 22 finished with value: 0.946875 and parameters: {'kernel': 'linear', 'C': 0.08890545590768212, 'gamma': 0.0021936857300675298, 'tol': 0.009372337343684065, 'shrinking': True}. Best is trial 2 with value: 0.946875.\n[I 2024-02-22 16:51:57,623] Trial 23 finished with value: 0.946875 and parameters: {'kernel': 'linear', 'C': 0.40012497818350423, 'gamma': 0.00011502826453248043, 'tol': 0.0057833933119308695, 'shrinking': True}. Best is trial 2 with value: 0.946875.\n[I 2024-02-22 16:51:57,726] Trial 24 finished with value: 0.946875 and parameters: {'kernel': 'linear', 'C': 0.013896002442194185, 'gamma': 0.002325362743095706, 'tol': 0.0028503167035144657, 'shrinking': True}. Best is trial 2 with value: 0.946875.\n[I 2024-02-22 16:51:57,824] Trial 25 finished with value: 0.946875 and parameters: {'kernel': 'linear', 'C': 3223.967542918911, 'gamma': 1.38938021177717e-05, 'tol': 0.00639708780278623, 'shrinking': True}. Best is trial 2 with value: 0.946875.\n[I 2024-02-22 16:51:57,924] Trial 26 finished with value: 0.946875 and parameters: {'kernel': 'linear', 'C': 0.001139820185131066, 'gamma': 0.7038995088224775, 'tol': 0.0006767295831949137, 'shrinking': False}. Best is trial 2 with value: 0.946875.\n[I 2024-02-22 16:51:58,030] Trial 27 finished with value: 0.946875 and parameters: {'kernel': 'linear', 'C': 9.63367893259803, 'gamma': 0.0006270828753008361, 'tol': 0.0015476334278028557, 'shrinking': True}. Best is trial 2 with value: 0.946875.\n[I 2024-02-22 16:51:58,141] Trial 28 finished with value: 0.0 and parameters: {'kernel': 'rbf', 'C': 0.04107465330090805, 'gamma': 0.010104103793836422, 'tol': 0.004535708706239064, 'shrinking': False}. Best is trial 2 with value: 0.946875.\n[I 2024-02-22 16:51:58,251] Trial 29 finished with value: 0.8625 and parameters: {'kernel': 'poly', 'C': 0.4385664028411022, 'gamma': 32.51085880668696, 'tol': 0.0030272076215540704, 'shrinking': False}. Best is trial 2 with value: 0.946875.\n[I 2024-02-22 16:51:58,366] Trial 30 finished with value: 0.0 and parameters: {'kernel': 'rbf', 'C': 0.0008980356013718338, 'gamma': 5.808618344858402e-05, 'tol': 0.0073001631618157155, 'shrinking': True}. Best is trial 2 with value: 0.946875.\n[I 2024-02-22 16:51:58,463] Trial 31 finished with value: 0.946875 and parameters: {'kernel': 'linear', 'C': 18614.051876843747, 'gamma': 1228.7175979420415, 'tol': 0.004209842934683266, 'shrinking': False}. Best is trial 2 with value: 0.946875.\n[I 2024-02-22 16:51:58,561] Trial 32 finished with value: 0.946875 and parameters: {'kernel': 'linear', 'C': 22136.22903856041, 'gamma': 41821.01285676535, 'tol': 0.005019797161799228, 'shrinking': False}. Best is trial 2 with value: 0.946875.\n[I 2024-02-22 16:51:58,660] Trial 33 finished with value: 0.946875 and parameters: {'kernel': 'linear', 'C': 5.782905310273645, 'gamma': 3234.6551120951654, 'tol': 0.00770288355052408, 'shrinking': False}. Best is trial 2 with value: 0.946875.\n[I 2024-02-22 16:51:58,759] Trial 34 finished with value: 0.946875 and parameters: {'kernel': 'linear', 'C': 621.0394061298524, 'gamma': 21309.39668920877, 'tol': 0.0035554757837797948, 'shrinking': False}. Best is trial 2 with value: 0.946875.\n[I 2024-02-22 16:51:58,873] Trial 35 finished with value: 0.0 and parameters: {'kernel': 'rbf', 'C': 0.01684683668736782, 'gamma': 177.96665370586993, 'tol': 0.0010532876981695903, 'shrinking': False}. Best is trial 2 with value: 0.946875.\n[I 2024-02-22 16:51:58,981] Trial 36 finished with value: 0.8625 and parameters: {'kernel': 'poly', 'C': 0.24564917026567726, 'gamma': 0.11211533485896111, 'tol': 0.0024405870157590327, 'shrinking': False}. Best is trial 2 with value: 0.946875.\n[I 2024-02-22 16:51:59,088] Trial 37 finished with value: 0.946875 and parameters: {'kernel': 'linear', 'C': 6.970838649599087e-05, 'gamma': 0.019499209691798462, 'tol': 0.0004078039333279602, 'shrinking': False}. Best is trial 2 with value: 0.946875.\n[I 2024-02-22 16:51:59,191] Trial 38 finished with value: 0.0 and parameters: {'kernel': 'rbf', 'C': 0.0028114601664970366, 'gamma': 3.691783922746978, 'tol': 0.005296523278312606, 'shrinking': False}. Best is trial 2 with value: 0.946875.\n[I 2024-02-22 16:51:59,289] Trial 39 finished with value: 0.946875 and parameters: {'kernel': 'linear', 'C': 2.215054113303955, 'gamma': 11987.752184478657, 'tol': 0.007811834218757908, 'shrinking': False}. Best is trial 2 with value: 0.946875.\n[I 2024-02-22 16:51:59,391] Trial 40 finished with value: 0.946875 and parameters: {'kernel': 'linear', 'C': 97702.83873596968, 'gamma': 1623.3118857710267, 'tol': 0.003956370894538116, 'shrinking': True}. Best is trial 2 with value: 0.946875.\n[I 2024-02-22 16:51:59,501] Trial 41 finished with value: 0.946875 and parameters: {'kernel': 'linear', 'C': 497.42278259761173, 'gamma': 1.0085943306553775e-05, 'tol': 0.0015717500984695524, 'shrinking': True}. Best is trial 2 with value: 0.946875.\n[I 2024-02-22 16:51:59,608] Trial 42 finished with value: 0.946875 and parameters: {'kernel': 'linear', 'C': 265.58777344161217, 'gamma': 3.1447068071528604e-05, 'tol': 0.00182879064245913, 'shrinking': True}. Best is trial 2 with value: 0.946875.\n[I 2024-02-22 16:51:59,720] Trial 43 finished with value: 0.946875 and parameters: {'kernel': 'linear', 'C': 11975.921052995234, 'gamma': 0.0009923549466633614, 'tol': 0.0008354296859126531, 'shrinking': True}. Best is trial 2 with value: 0.946875.\n[I 2024-02-22 16:51:59,833] Trial 44 finished with value: 0.946875 and parameters: {'kernel': 'linear', 'C': 4945.546331358259, 'gamma': 0.0005074356855075063, 'tol': 0.000558496011549725, 'shrinking': True}. Best is trial 2 with value: 0.946875.\n[I 2024-02-22 16:51:59,940] Trial 45 finished with value: 0.946875 and parameters: {'kernel': 'linear', 'C': 2134.3604891493, 'gamma': 6.813325023429263e-05, 'tol': 0.0028061830396285967, 'shrinking': True}. Best is trial 2 with value: 0.946875.\n[I 2024-02-22 16:52:00,063] Trial 46 finished with value: 0.8625 and parameters: {'kernel': 'poly', 'C': 16.98111917268852, 'gamma': 0.005600919579744806, 'tol': 0.0020528220143997615, 'shrinking': True}. Best is trial 2 with value: 0.946875.\n[I 2024-02-22 16:52:00,175] Trial 47 finished with value: 0.946875 and parameters: {'kernel': 'linear', 'C': 72152.65104938841, 'gamma': 2.6528063901671976e-05, 'tol': 0.0011140085066759127, 'shrinking': True}. Best is trial 2 with value: 0.946875.\n[I 2024-02-22 16:52:00,278] Trial 48 finished with value: 0.946875 and parameters: {'kernel': 'linear', 'C': 1.3214348987837756, 'gamma': 17.038866468587607, 'tol': 0.0014327412700422977, 'shrinking': False}. Best is trial 2 with value: 0.946875.\n[I 2024-02-22 16:52:00,394] Trial 49 finished with value: 0.946875 and parameters: {'kernel': 'linear', 'C': 57.66755784763063, 'gamma': 105.90581948528514, 'tol': 0.0003512255312212992, 'shrinking': True}. Best is trial 2 with value: 0.946875.\n[I 2024-02-22 16:52:00,532] Trial 50 finished with value: 0.0 and parameters: {'kernel': 'rbf', 'C': 0.04185127670900236, 'gamma': 0.00017291703010154308, 'tol': 0.0007187747850231703, 'shrinking': False}. Best is trial 2 with value: 0.946875.\n[I 2024-02-22 16:52:00,659] Trial 51 finished with value: 0.946875 and parameters: {'kernel': 'linear', 'C': 3.210703525143536, 'gamma': 1.3020182793888362, 'tol': 0.0003106353662008928, 'shrinking': True}. Best is trial 2 with value: 0.946875.\n[I 2024-02-22 16:52:00,786] Trial 52 finished with value: 0.946875 and parameters: {'kernel': 'linear', 'C': 161.7850734688151, 'gamma': 9.428244163419185, 'tol': 0.00020305833015547188, 'shrinking': True}. Best is trial 2 with value: 0.946875.\n[I 2024-02-22 16:52:00,901] Trial 53 finished with value: 0.946875 and parameters: {'kernel': 'linear', 'C': 0.12854178175010883, 'gamma': 625.9890604733031, 'tol': 0.0061572633673828425, 'shrinking': True}. Best is trial 2 with value: 0.946875.\n[I 2024-02-22 16:52:01,030] Trial 54 finished with value: 0.946875 and parameters: {'kernel': 'linear', 'C': 0.007973687407890583, 'gamma': 0.3018783990879865, 'tol': 0.0004892873346650606, 'shrinking': True}. Best is trial 2 with value: 0.946875.\n[I 2024-02-22 16:52:01,140] Trial 55 finished with value: 0.946875 and parameters: {'kernel': 'linear', 'C': 0.9285717219651753, 'gamma': 41.692021636015, 'tol': 0.008940280810128808, 'shrinking': True}. Best is trial 2 with value: 0.946875.\n[I 2024-02-22 16:52:01,276] Trial 56 finished with value: 0.8625 and parameters: {'kernel': 'poly', 'C': 1446.4168145739561, 'gamma': 7.706729573684011, 'tol': 0.000928536526347191, 'shrinking': True}. Best is trial 2 with value: 0.946875.\n[I 2024-02-22 16:52:01,396] Trial 57 finished with value: 0.946875 and parameters: {'kernel': 'linear', 'C': 0.0295486708440598, 'gamma': 1.2126979282384676, 'tol': 0.0002512748612761, 'shrinking': True}. Best is trial 2 with value: 0.946875.\n[I 2024-02-22 16:52:01,510] Trial 58 finished with value: 0.946875 and parameters: {'kernel': 'linear', 'C': 0.17241205169638874, 'gamma': 88.48885607003834, 'tol': 0.0031443332395595953, 'shrinking': True}. Best is trial 2 with value: 0.946875.\n[I 2024-02-22 16:52:01,629] Trial 59 finished with value: 0.946875 and parameters: {'kernel': 'linear', 'C': 18.509251294930618, 'gamma': 7.994095125195909e-05, 'tol': 0.00015523146188280179, 'shrinking': False}. Best is trial 2 with value: 0.946875.\n[I 2024-02-22 16:52:01,740] Trial 60 finished with value: 0.946875 and parameters: {'kernel': 'linear', 'C': 5.549490372562874, 'gamma': 0.00032586480687412744, 'tol': 0.005028817275876784, 'shrinking': True}. Best is trial 2 with value: 0.946875.\n[I 2024-02-22 16:52:01,852] Trial 61 finished with value: 0.946875 and parameters: {'kernel': 'linear', 'C': 0.6844624825603683, 'gamma': 35.11396433485812, 'tol': 0.001266189715051523, 'shrinking': True}. Best is trial 2 with value: 0.946875.\n[I 2024-02-22 16:52:01,971] Trial 62 finished with value: 0.946875 and parameters: {'kernel': 'linear', 'C': 0.37122160523622666, 'gamma': 2.2870924782362896, 'tol': 0.0006500871113553441, 'shrinking': True}. Best is trial 2 with value: 0.946875.\n[I 2024-02-22 16:52:02,086] Trial 63 finished with value: 0.946875 and parameters: {'kernel': 'linear', 'C': 54.177290506022686, 'gamma': 564.837208452849, 'tol': 0.002008766900651341, 'shrinking': True}. Best is trial 2 with value: 0.946875.\n[I 2024-02-22 16:52:02,218] Trial 64 finished with value: 0.946875 and parameters: {'kernel': 'linear', 'C': 0.0725007971307706, 'gamma': 7.816901902947932, 'tol': 0.0017517827202757886, 'shrinking': True}. Best is trial 2 with value: 0.946875.\n[I 2024-02-22 16:52:02,331] Trial 65 finished with value: 0.946875 and parameters: {'kernel': 'linear', 'C': 2.177992711805428, 'gamma': 0.32731390620366974, 'tol': 0.002308510821817014, 'shrinking': False}. Best is trial 2 with value: 0.946875.\n[I 2024-02-22 16:52:02,469] Trial 66 finished with value: 0.8625 and parameters: {'kernel': 'poly', 'C': 9.81303341869159, 'gamma': 2.148275401924616e-05, 'tol': 0.001254314920814433, 'shrinking': True}. Best is trial 2 with value: 0.946875.\n[I 2024-02-22 16:52:02,605] Trial 67 finished with value: 0.0 and parameters: {'kernel': 'rbf', 'C': 0.0020584438412509396, 'gamma': 253.6028006933361, 'tol': 0.004484096941249636, 'shrinking': False}. Best is trial 2 with value: 0.946875.\n[I 2024-02-22 16:52:02,721] Trial 68 finished with value: 0.946875 and parameters: {'kernel': 'linear', 'C': 0.005434147087874974, 'gamma': 0.03085601563250185, 'tol': 0.00708198925958387, 'shrinking': True}. Best is trial 2 with value: 0.946875.\n[I 2024-02-22 16:52:02,829] Trial 69 finished with value: 0.946875 and parameters: {'kernel': 'linear', 'C': 0.020169951556054264, 'gamma': 16.927785260540265, 'tol': 0.00862134145399713, 'shrinking': False}. Best is trial 2 with value: 0.946875.\n[I 2024-02-22 16:52:02,945] Trial 70 finished with value: 0.946875 and parameters: {'kernel': 'linear', 'C': 0.00031456853180451816, 'gamma': 5153.755058602426, 'tol': 0.0009510709968183653, 'shrinking': True}. Best is trial 2 with value: 0.946875.\n[I 2024-02-22 16:52:03,057] Trial 71 finished with value: 0.946875 and parameters: {'kernel': 'linear', 'C': 0.1060107646579341, 'gamma': 3.0182990136318994e-05, 'tol': 0.001386706605129389, 'shrinking': True}. Best is trial 2 with value: 0.946875.\n[I 2024-02-22 16:52:03,167] Trial 72 finished with value: 0.946875 and parameters: {'kernel': 'linear', 'C': 0.04952573911801353, 'gamma': 1.036517360925094e-05, 'tol': 0.0024992092740936758, 'shrinking': True}. Best is trial 2 with value: 0.946875.\n[I 2024-02-22 16:52:03,273] Trial 73 finished with value: 0.946875 and parameters: {'kernel': 'linear', 'C': 0.009436640754072127, 'gamma': 0.00016255731248931567, 'tol': 0.0038844392994300952, 'shrinking': True}. Best is trial 2 with value: 0.946875.\n[I 2024-02-22 16:52:03,381] Trial 74 finished with value: 0.946875 and parameters: {'kernel': 'linear', 'C': 0.1891656774870553, 'gamma': 6.586321547683092e-05, 'tol': 0.003366883768861388, 'shrinking': True}. Best is trial 2 with value: 0.946875.\n[I 2024-02-22 16:52:03,491] Trial 75 finished with value: 0.946875 and parameters: {'kernel': 'linear', 'C': 0.38741061341509325, 'gamma': 3.5128674790785803, 'tol': 0.0017507163946188882, 'shrinking': True}. Best is trial 2 with value: 0.946875.\n[I 2024-02-22 16:52:03,598] Trial 76 finished with value: 0.946875 and parameters: {'kernel': 'linear', 'C': 36063.41227670223, 'gamma': 1.639074083483899e-05, 'tol': 0.0010870138361356119, 'shrinking': False}. Best is trial 2 with value: 0.946875.\n[I 2024-02-22 16:52:03,701] Trial 77 finished with value: 0.946875 and parameters: {'kernel': 'linear', 'C': 4.724486240121521, 'gamma': 4.35768585949816e-05, 'tol': 0.005498132552830292, 'shrinking': True}. Best is trial 2 with value: 0.946875.\n[I 2024-02-22 16:52:03,863] Trial 78 finished with value: 0.0 and parameters: {'kernel': 'rbf', 'C': 6342.857000223787, 'gamma': 0.0016569402271639443, 'tol': 0.002160527593529666, 'shrinking': False}. Best is trial 2 with value: 0.946875.\n[I 2024-02-22 16:52:03,980] Trial 79 finished with value: 0.8625 and parameters: {'kernel': 'poly', 'C': 111.45385842062507, 'gamma': 0.0005108012383758497, 'tol': 0.002826329168420469, 'shrinking': True}. Best is trial 2 with value: 0.946875.\n[I 2024-02-22 16:52:04,108] Trial 80 finished with value: 0.946875 and parameters: {'kernel': 'linear', 'C': 1.4763185743670002, 'gamma': 79.81847656778095, 'tol': 0.00010180994658358016, 'shrinking': True}. Best is trial 2 with value: 0.946875.\n[I 2024-02-22 16:52:04,232] Trial 81 finished with value: 0.946875 and parameters: {'kernel': 'linear', 'C': 36.033659946537206, 'gamma': 0.0035821839641778912, 'tol': 0.0005702060711662289, 'shrinking': True}. Best is trial 2 with value: 0.946875.\n[I 2024-02-22 16:52:04,353] Trial 82 finished with value: 0.946875 and parameters: {'kernel': 'linear', 'C': 0.625267394797766, 'gamma': 0.06990692570087395, 'tol': 0.0004909347499007874, 'shrinking': True}. Best is trial 2 with value: 0.946875.\n[I 2024-02-22 16:52:04,470] Trial 83 finished with value: 0.946875 and parameters: {'kernel': 'linear', 'C': 1399.3805455254533, 'gamma': 0.009717656669788986, 'tol': 0.0007789788182027648, 'shrinking': True}. Best is trial 2 with value: 0.946875.\n[I 2024-02-22 16:52:04,592] Trial 84 finished with value: 0.946875 and parameters: {'kernel': 'linear', 'C': 11.838175787436265, 'gamma': 0.0009565270902249014, 'tol': 0.0004226719030912473, 'shrinking': True}. Best is trial 2 with value: 0.946875.\n[I 2024-02-22 16:52:04,709] Trial 85 finished with value: 0.946875 and parameters: {'kernel': 'linear', 'C': 424.6466948353152, 'gamma': 19.467796733199034, 'tol': 0.00036669785993783104, 'shrinking': False}. Best is trial 2 with value: 0.946875.\n[I 2024-02-22 16:52:04,833] Trial 86 finished with value: 0.946875 and parameters: {'kernel': 'linear', 'C': 0.27002476147192545, 'gamma': 0.00024247701356388046, 'tol': 0.0006993172667579271, 'shrinking': True}. Best is trial 2 with value: 0.946875.\n[I 2024-02-22 16:52:04,950] Trial 87 finished with value: 0.946875 and parameters: {'kernel': 'linear', 'C': 0.06662492832924959, 'gamma': 0.0001165938373942833, 'tol': 0.0005402963057197209, 'shrinking': True}. Best is trial 2 with value: 0.946875.\n[I 2024-02-22 16:52:05,059] Trial 88 finished with value: 0.946875 and parameters: {'kernel': 'linear', 'C': 0.022886313210093972, 'gamma': 5.142788762635362, 'tol': 0.0006271226984938401, 'shrinking': False}. Best is trial 2 with value: 0.946875.\n[I 2024-02-22 16:52:05,170] Trial 89 finished with value: 0.946875 and parameters: {'kernel': 'linear', 'C': 2.8053541695964, 'gamma': 1122.8364869467694, 'tol': 0.0025906662695827213, 'shrinking': True}. Best is trial 2 with value: 0.946875.\n[I 2024-02-22 16:52:05,301] Trial 90 finished with value: 0.0 and parameters: {'kernel': 'rbf', 'C': 30.09091951479185, 'gamma': 1.9054165797366756, 'tol': 0.0015562540462403548, 'shrinking': True}. Best is trial 2 with value: 0.946875.\n[I 2024-02-22 16:52:05,419] Trial 91 finished with value: 0.946875 and parameters: {'kernel': 'linear', 'C': 89.40889275507858, 'gamma': 0.43683170106808716, 'tol': 0.0001527268830340545, 'shrinking': True}. Best is trial 2 with value: 0.946875.\n[I 2024-02-22 16:52:05,537] Trial 92 finished with value: 0.946875 and parameters: {'kernel': 'linear', 'C': 7.527683078679257, 'gamma': 0.5269957627374379, 'tol': 0.0002407999021439168, 'shrinking': True}. Best is trial 2 with value: 0.946875.\n[I 2024-02-22 16:52:05,641] Trial 93 finished with value: 0.946875 and parameters: {'kernel': 'linear', 'C': 356.4763379032219, 'gamma': 0.16925535138634779, 'tol': 0.009935493767430673, 'shrinking': True}. Best is trial 2 with value: 0.946875.\n[I 2024-02-22 16:52:05,761] Trial 94 finished with value: 0.946875 and parameters: {'kernel': 'linear', 'C': 189.61318032343974, 'gamma': 0.7880602273647508, 'tol': 0.00013275368687952802, 'shrinking': True}. Best is trial 2 with value: 0.946875.\n[I 2024-02-22 16:52:05,878] Trial 95 finished with value: 0.946875 and parameters: {'kernel': 'linear', 'C': 18.733559321435244, 'gamma': 71099.0853562546, 'tol': 0.0003029744088217585, 'shrinking': True}. Best is trial 2 with value: 0.946875.\n[I 2024-02-22 16:52:06,005] Trial 96 finished with value: 0.8625 and parameters: {'kernel': 'poly', 'C': 850.9031979948354, 'gamma': 3.876515249503863e-05, 'tol': 0.0002008546211751391, 'shrinking': False}. Best is trial 2 with value: 0.946875.\n[I 2024-02-22 16:52:06,109] Trial 97 finished with value: 0.946875 and parameters: {'kernel': 'linear', 'C': 1.2397818825048885, 'gamma': 1.6137092740519794e-05, 'tol': 0.006696848969677451, 'shrinking': True}. Best is trial 2 with value: 0.946875.\n[I 2024-02-22 16:52:06,226] Trial 98 finished with value: 0.946875 and parameters: {'kernel': 'linear', 'C': 46.89035314522666, 'gamma': 0.011520525370431172, 'tol': 0.000873127734646828, 'shrinking': True}. Best is trial 2 with value: 0.946875.\n[I 2024-02-22 16:52:06,335] Trial 99 finished with value: 0.946875 and parameters: {'kernel': 'linear', 'C': 0.005075210462321354, 'gamma': 12.419508454800628, 'tol': 0.00043528266801955677, 'shrinking': False}. Best is trial 2 with value: 0.946875.\n",
          "output_type": "stream"
        },
        {
          "name": "stdout",
          "text": "Best params found : {'kernel': 'linear', 'C': 0.022054823434521045, 'gamma': 2.3048539776902917e-05, 'tol': 0.00407061185257594, 'shrinking': False}\naccuracy: 1.0\nrecall: 1.0\nprecision: 1.0\nf1-score: 1.0\nroc_auc:  1.0\n",
          "output_type": "stream"
        }
      ]
    },
    {
      "cell_type": "markdown",
      "source": [
        "## Decision Tree"
      ],
      "metadata": {
        "id": "xTFOPoO5A4YP"
      }
    },
    {
      "cell_type": "markdown",
      "source": [
        "**Normal**"
      ],
      "metadata": {
        "id": "QnMVqH2CA4YP"
      }
    },
    {
      "cell_type": "code",
      "source": [
        "from sklearn.tree import DecisionTreeClassifier\n",
        "\n",
        "dt = DecisionTreeClassifier(random_state=42)\n",
        "dt.fit(X_train_reduced, y_train)\n",
        "y_pred = dt.predict(X_test_reduced)\n",
        "\n",
        "accuracy = accuracy_score(y_test, y_pred)\n",
        "precision = precision_score(y_test, y_pred, average='macro')\n",
        "recall = recall_score(y_test, y_pred, average='macro')\n",
        "f1 = f1_score(y_test, y_pred, average='macro')\n",
        "\n",
        "# One-hot encoding for probability calculation (adapt if necessary)\n",
        "# Assuming 'label_' prefix for clarity\n",
        "y_test_onehot = pd.get_dummies(y_test, prefix='label_')\n",
        "y_pred_onehot = pd.get_dummies(y_pred, prefix='label_')\n",
        "\n",
        "# ROC AUC score with multiclass handling\n",
        "roc_auc_macro = roc_auc_score(y_test_onehot, y_pred_onehot,\n",
        "                              average='macro', multi_class='ovo')  # Specify 'ovo' or 'ovr'\n",
        "\n",
        "print(\"accuracy:\", accuracy)\n",
        "print(\"recall:\", recall)\n",
        "print(\"precision:\", precision)\n",
        "print(\"f1-score:\", f1)\n",
        "print('roc_auc: ', roc_auc_macro)\n",
        "\n",
        "svm = SVC(kernel='linear')\n",
        "svm.fit(X_train_reduced, y_train)\n",
        "y_pred = svm.predict(X_test_reduced)\n",
        "\n",
        "accuracy = accuracy_score(y_test, y_pred)\n",
        "precision = precision_score(y_test, y_pred, average='macro')\n",
        "recall = recall_score(y_test, y_pred, average='macro')\n",
        "f1 = f1_score(y_test, y_pred, average='macro')\n",
        "\n",
        "# One-hot encoding for probability calculation (adapt if necessary)\n",
        "# Assuming 'label_' prefix for clarity\n",
        "y_test_onehot = pd.get_dummies(y_test, prefix='label_')\n",
        "y_pred_onehot = pd.get_dummies(y_pred, prefix='label_')\n",
        "\n",
        "# ROC AUC score with multiclass handling\n",
        "roc_auc_macro = roc_auc_score(y_test_onehot, y_pred_onehot,\n",
        "                              average='macro', multi_class='ovo')  # Specify 'ovo' or 'ovr'\n",
        "\n",
        "print(\"accuracy:\", accuracy)\n",
        "print(\"recall:\", recall)\n",
        "print(\"precision:\", precision)\n",
        "print(\"f1-score:\", f1)\n",
        "print('roc_auc: ', roc_auc_macro)"
      ],
      "metadata": {
        "execution": {
          "iopub.status.busy": "2024-02-22T16:52:06.392820Z",
          "iopub.execute_input": "2024-02-22T16:52:06.393865Z",
          "iopub.status.idle": "2024-02-22T16:52:06.513156Z",
          "shell.execute_reply.started": "2024-02-22T16:52:06.393820Z",
          "shell.execute_reply": "2024-02-22T16:52:06.511771Z"
        },
        "trusted": true,
        "id": "wMP2duyMA4YP",
        "outputId": "8a0004c1-8b19-42af-d908-ba28a7b6fcaa"
      },
      "execution_count": null,
      "outputs": [
        {
          "name": "stdout",
          "text": "accuracy: 0.6625\nrecall: 0.6527777777777777\nprecision: 0.6435185185185186\nf1-score: 0.6233906525573192\nroc_auc:  0.545608933463109\naccuracy: 1.0\nrecall: 1.0\nprecision: 1.0\nf1-score: 1.0\nroc_auc:  1.0\n",
          "output_type": "stream"
        }
      ]
    },
    {
      "cell_type": "markdown",
      "source": [
        "**Tunning**"
      ],
      "metadata": {
        "id": "g1dtI9mJA4YP"
      }
    },
    {
      "cell_type": "code",
      "source": [
        "import optuna\n",
        "from sklearn.model_selection import cross_val_score\n",
        "import warnings\n",
        "warnings.filterwarnings('ignore')\n",
        "\n",
        "\n",
        "def objective(trial):\n",
        "    hyperparams = {\n",
        "        \"max_depth\" : trial.suggest_int(\"max_depth\", 2, 10),\n",
        "        \"min_samples_split\" : trial.suggest_int(\"min_samples_split\", 2, 20),\n",
        "        \"min_samples_leaf\" : trial.suggest_int(\"min_samples_leaf\", 1, 10),\n",
        "        \"criterion\" : trial.suggest_categorical(\"criterion\", [\"gini\", \"entropy\"])\n",
        "    }\n",
        "\n",
        "    # Create KNN model with tuned hyperparameters\n",
        "    model = DecisionTreeClassifier(**hyperparams)\n",
        "    scores = cross_val_score(model, X_train_reduced,\n",
        "                             y_train, cv=kf, scoring='accuracy')\n",
        "    return np.mean(scores)"
      ],
      "metadata": {
        "execution": {
          "iopub.status.busy": "2024-02-22T16:57:54.610190Z",
          "iopub.execute_input": "2024-02-22T16:57:54.610775Z",
          "iopub.status.idle": "2024-02-22T16:57:54.620938Z",
          "shell.execute_reply.started": "2024-02-22T16:57:54.610732Z",
          "shell.execute_reply": "2024-02-22T16:57:54.618536Z"
        },
        "trusted": true,
        "id": "4shacUFjA4YP"
      },
      "execution_count": null,
      "outputs": []
    },
    {
      "cell_type": "code",
      "source": [
        "study = optuna.create_study(direction='maximize')\n",
        "study.optimize(objective, n_trials=100)\n",
        "best_params = study.best_params\n",
        "print(\"Best params found :\", best_params)\n",
        "\n",
        "final_model = DecisionTreeClassifier(**best_params)\n",
        "final_model.fit(X_train_reduced, y_train)\n",
        "y_pred = final_model.predict(X_test_reduced)\n",
        "prediction_results['decison tree'] = list(y_pred)\n",
        "\n",
        "accuracy = accuracy_score(y_test, y_pred)\n",
        "precision = precision_score(y_test, y_pred, average='macro')\n",
        "recall = recall_score(y_test, y_pred, average='macro')\n",
        "f1 = f1_score(y_test, y_pred, average='macro')\n",
        "\n",
        "# One-hot encoding for probability calculation (adapt if necessary)\n",
        "# Assuming 'label_' prefix for clarity\n",
        "y_test_onehot = pd.get_dummies(y_test, prefix='label_')\n",
        "y_pred_onehot = pd.get_dummies(y_pred, prefix='label_')\n",
        "\n",
        "# # ROC AUC score with multiclass handling\n",
        "# roc_auc_macro = roc_auc_score(y_test_onehot, y_pred_onehot,\n",
        "#                               average='macro', multi_class='ovo')  # Specify 'ovo' or 'ovr'\n",
        "\n",
        "print(\"accuracy:\", accuracy)\n",
        "print(\"recall:\", recall)\n",
        "print(\"precision:\", precision)\n",
        "print(\"f1-score:\", f1)\n",
        "# print('roc_auc: ', roc_auc_macro)"
      ],
      "metadata": {
        "execution": {
          "iopub.status.busy": "2024-02-22T16:57:57.834250Z",
          "iopub.execute_input": "2024-02-22T16:57:57.834683Z",
          "iopub.status.idle": "2024-02-22T16:58:19.043748Z",
          "shell.execute_reply.started": "2024-02-22T16:57:57.834650Z",
          "shell.execute_reply": "2024-02-22T16:58:19.042274Z"
        },
        "trusted": true,
        "id": "V1AylLKqA4YP",
        "outputId": "9a387db7-d22d-4934-e036-ad95011b7185"
      },
      "execution_count": null,
      "outputs": [
        {
          "name": "stderr",
          "text": "[I 2024-02-22 16:57:57,841] A new study created in memory with name: no-name-bd1dcceb-e005-465e-80c3-0dd937f4750e\n[I 2024-02-22 16:57:57,910] Trial 0 finished with value: 0.265625 and parameters: {'max_depth': 7, 'min_samples_split': 16, 'min_samples_leaf': 9, 'criterion': 'gini'}. Best is trial 0 with value: 0.265625.\n[I 2024-02-22 16:57:57,969] Trial 1 finished with value: 0.19375 and parameters: {'max_depth': 5, 'min_samples_split': 2, 'min_samples_leaf': 9, 'criterion': 'gini'}. Best is trial 0 with value: 0.265625.\n[I 2024-02-22 16:57:58,046] Trial 2 finished with value: 0.340625 and parameters: {'max_depth': 9, 'min_samples_split': 13, 'min_samples_leaf': 7, 'criterion': 'gini'}. Best is trial 2 with value: 0.340625.\n[I 2024-02-22 16:57:58,236] Trial 3 finished with value: 0.340625 and parameters: {'max_depth': 7, 'min_samples_split': 15, 'min_samples_leaf': 1, 'criterion': 'entropy'}. Best is trial 2 with value: 0.340625.\n[I 2024-02-22 16:57:58,304] Trial 4 finished with value: 0.15625 and parameters: {'max_depth': 5, 'min_samples_split': 4, 'min_samples_leaf': 4, 'criterion': 'gini'}. Best is trial 2 with value: 0.340625.\n[I 2024-02-22 16:57:58,342] Trial 5 finished with value: 0.03125 and parameters: {'max_depth': 2, 'min_samples_split': 20, 'min_samples_leaf': 1, 'criterion': 'gini'}. Best is trial 2 with value: 0.340625.\n[I 2024-02-22 16:57:58,492] Trial 6 finished with value: 0.075 and parameters: {'max_depth': 3, 'min_samples_split': 15, 'min_samples_leaf': 3, 'criterion': 'entropy'}. Best is trial 2 with value: 0.340625.\n[I 2024-02-22 16:57:58,559] Trial 7 finished with value: 0.2375 and parameters: {'max_depth': 7, 'min_samples_split': 20, 'min_samples_leaf': 8, 'criterion': 'gini'}. Best is trial 2 with value: 0.340625.\n[I 2024-02-22 16:57:58,726] Trial 8 finished with value: 0.378125 and parameters: {'max_depth': 8, 'min_samples_split': 8, 'min_samples_leaf': 7, 'criterion': 'entropy'}. Best is trial 8 with value: 0.378125.\n[I 2024-02-22 16:57:58,867] Trial 9 finished with value: 0.075 and parameters: {'max_depth': 3, 'min_samples_split': 16, 'min_samples_leaf': 8, 'criterion': 'entropy'}. Best is trial 8 with value: 0.378125.\n[I 2024-02-22 16:57:59,065] Trial 10 finished with value: 0.371875 and parameters: {'max_depth': 10, 'min_samples_split': 8, 'min_samples_leaf': 6, 'criterion': 'entropy'}. Best is trial 8 with value: 0.378125.\n[I 2024-02-22 16:57:59,269] Trial 11 finished with value: 0.446875 and parameters: {'max_depth': 10, 'min_samples_split': 8, 'min_samples_leaf': 5, 'criterion': 'entropy'}. Best is trial 11 with value: 0.446875.\n[I 2024-02-22 16:57:59,470] Trial 12 finished with value: 0.459375 and parameters: {'max_depth': 9, 'min_samples_split': 8, 'min_samples_leaf': 5, 'criterion': 'entropy'}. Best is trial 12 with value: 0.459375.\n[I 2024-02-22 16:57:59,689] Trial 13 finished with value: 0.496875 and parameters: {'max_depth': 10, 'min_samples_split': 8, 'min_samples_leaf': 4, 'criterion': 'entropy'}. Best is trial 13 with value: 0.496875.\n[I 2024-02-22 16:57:59,905] Trial 14 finished with value: 0.4375 and parameters: {'max_depth': 9, 'min_samples_split': 10, 'min_samples_leaf': 3, 'criterion': 'entropy'}. Best is trial 13 with value: 0.496875.\n[I 2024-02-22 16:58:00,115] Trial 15 finished with value: 0.43125 and parameters: {'max_depth': 9, 'min_samples_split': 5, 'min_samples_leaf': 5, 'criterion': 'entropy'}. Best is trial 13 with value: 0.496875.\n[I 2024-02-22 16:58:00,332] Trial 16 finished with value: 0.415625 and parameters: {'max_depth': 10, 'min_samples_split': 11, 'min_samples_leaf': 3, 'criterion': 'entropy'}. Best is trial 13 with value: 0.496875.\n[I 2024-02-22 16:58:00,540] Trial 17 finished with value: 0.503125 and parameters: {'max_depth': 8, 'min_samples_split': 6, 'min_samples_leaf': 4, 'criterion': 'entropy'}. Best is trial 17 with value: 0.503125.\n[I 2024-02-22 16:58:00,774] Trial 18 finished with value: 0.515625 and parameters: {'max_depth': 8, 'min_samples_split': 5, 'min_samples_leaf': 2, 'criterion': 'entropy'}. Best is trial 18 with value: 0.515625.\n[I 2024-02-22 16:58:01,011] Trial 19 finished with value: 0.465625 and parameters: {'max_depth': 6, 'min_samples_split': 5, 'min_samples_leaf': 1, 'criterion': 'entropy'}. Best is trial 18 with value: 0.515625.\n[I 2024-02-22 16:58:01,249] Trial 20 finished with value: 0.540625 and parameters: {'max_depth': 8, 'min_samples_split': 2, 'min_samples_leaf': 2, 'criterion': 'entropy'}. Best is trial 20 with value: 0.540625.\n[I 2024-02-22 16:58:01,476] Trial 21 finished with value: 0.503125 and parameters: {'max_depth': 8, 'min_samples_split': 2, 'min_samples_leaf': 2, 'criterion': 'entropy'}. Best is trial 20 with value: 0.540625.\n[I 2024-02-22 16:58:01,702] Trial 22 finished with value: 0.490625 and parameters: {'max_depth': 8, 'min_samples_split': 5, 'min_samples_leaf': 2, 'criterion': 'entropy'}. Best is trial 20 with value: 0.540625.\n[I 2024-02-22 16:58:01,929] Trial 23 finished with value: 0.490625 and parameters: {'max_depth': 6, 'min_samples_split': 3, 'min_samples_leaf': 2, 'criterion': 'entropy'}. Best is trial 20 with value: 0.540625.\n[I 2024-02-22 16:58:02,147] Trial 24 finished with value: 0.484375 and parameters: {'max_depth': 8, 'min_samples_split': 4, 'min_samples_leaf': 4, 'criterion': 'entropy'}. Best is trial 20 with value: 0.540625.\n[I 2024-02-22 16:58:02,376] Trial 25 finished with value: 0.490625 and parameters: {'max_depth': 7, 'min_samples_split': 6, 'min_samples_leaf': 2, 'criterion': 'entropy'}. Best is trial 20 with value: 0.540625.\n[I 2024-02-22 16:58:02,593] Trial 26 finished with value: 0.39375 and parameters: {'max_depth': 5, 'min_samples_split': 6, 'min_samples_leaf': 3, 'criterion': 'entropy'}. Best is trial 20 with value: 0.540625.\n[I 2024-02-22 16:58:02,811] Trial 27 finished with value: 0.5125 and parameters: {'max_depth': 8, 'min_samples_split': 2, 'min_samples_leaf': 4, 'criterion': 'entropy'}. Best is trial 20 with value: 0.540625.\n[I 2024-02-22 16:58:03,042] Trial 28 finished with value: 0.4625 and parameters: {'max_depth': 6, 'min_samples_split': 2, 'min_samples_leaf': 2, 'criterion': 'entropy'}. Best is trial 20 with value: 0.540625.\n[I 2024-02-22 16:58:03,138] Trial 29 finished with value: 0.25 and parameters: {'max_depth': 7, 'min_samples_split': 3, 'min_samples_leaf': 10, 'criterion': 'gini'}. Best is trial 20 with value: 0.540625.\n[I 2024-02-22 16:58:03,379] Trial 30 finished with value: 0.53125 and parameters: {'max_depth': 7, 'min_samples_split': 3, 'min_samples_leaf': 1, 'criterion': 'entropy'}. Best is trial 20 with value: 0.540625.\n[I 2024-02-22 16:58:03,618] Trial 31 finished with value: 0.525 and parameters: {'max_depth': 7, 'min_samples_split': 3, 'min_samples_leaf': 1, 'criterion': 'entropy'}. Best is trial 20 with value: 0.540625.\n[I 2024-02-22 16:58:03,890] Trial 32 finished with value: 0.5125 and parameters: {'max_depth': 7, 'min_samples_split': 4, 'min_samples_leaf': 1, 'criterion': 'entropy'}. Best is trial 20 with value: 0.540625.\n[I 2024-02-22 16:58:04,130] Trial 33 finished with value: 0.525 and parameters: {'max_depth': 7, 'min_samples_split': 3, 'min_samples_leaf': 1, 'criterion': 'entropy'}. Best is trial 20 with value: 0.540625.\n[I 2024-02-22 16:58:04,237] Trial 34 finished with value: 0.221875 and parameters: {'max_depth': 6, 'min_samples_split': 3, 'min_samples_leaf': 1, 'criterion': 'gini'}. Best is trial 20 with value: 0.540625.\n[I 2024-02-22 16:58:04,474] Trial 35 finished with value: 0.5125 and parameters: {'max_depth': 7, 'min_samples_split': 2, 'min_samples_leaf': 1, 'criterion': 'entropy'}. Best is trial 20 with value: 0.540625.\n[I 2024-02-22 16:58:04,571] Trial 36 finished with value: 0.178125 and parameters: {'max_depth': 5, 'min_samples_split': 4, 'min_samples_leaf': 1, 'criterion': 'gini'}. Best is trial 20 with value: 0.540625.\n[I 2024-02-22 16:58:04,774] Trial 37 finished with value: 0.23125 and parameters: {'max_depth': 4, 'min_samples_split': 13, 'min_samples_leaf': 1, 'criterion': 'entropy'}. Best is trial 20 with value: 0.540625.\n[I 2024-02-22 16:58:04,873] Trial 38 finished with value: 0.190625 and parameters: {'max_depth': 6, 'min_samples_split': 7, 'min_samples_leaf': 3, 'criterion': 'gini'}. Best is trial 20 with value: 0.540625.\n[I 2024-02-22 16:58:05,115] Trial 39 finished with value: 0.471875 and parameters: {'max_depth': 7, 'min_samples_split': 10, 'min_samples_leaf': 2, 'criterion': 'entropy'}. Best is trial 20 with value: 0.540625.\n[I 2024-02-22 16:58:05,341] Trial 40 finished with value: 0.3 and parameters: {'max_depth': 9, 'min_samples_split': 18, 'min_samples_leaf': 1, 'criterion': 'entropy'}. Best is trial 20 with value: 0.540625.\n[I 2024-02-22 16:58:05,568] Trial 41 finished with value: 0.534375 and parameters: {'max_depth': 8, 'min_samples_split': 3, 'min_samples_leaf': 2, 'criterion': 'entropy'}. Best is trial 20 with value: 0.540625.\n[I 2024-02-22 16:58:05,811] Trial 42 finished with value: 0.49375 and parameters: {'max_depth': 7, 'min_samples_split': 3, 'min_samples_leaf': 2, 'criterion': 'entropy'}. Best is trial 20 with value: 0.540625.\n[I 2024-02-22 16:58:06,065] Trial 43 finished with value: 0.51875 and parameters: {'max_depth': 9, 'min_samples_split': 4, 'min_samples_leaf': 1, 'criterion': 'entropy'}. Best is trial 20 with value: 0.540625.\n[I 2024-02-22 16:58:06,310] Trial 44 finished with value: 0.515625 and parameters: {'max_depth': 8, 'min_samples_split': 3, 'min_samples_leaf': 3, 'criterion': 'entropy'}. Best is trial 20 with value: 0.540625.\n[I 2024-02-22 16:58:06,549] Trial 45 finished with value: 0.45625 and parameters: {'max_depth': 6, 'min_samples_split': 2, 'min_samples_leaf': 2, 'criterion': 'entropy'}. Best is trial 20 with value: 0.540625.\n[I 2024-02-22 16:58:06,668] Trial 46 finished with value: 0.278125 and parameters: {'max_depth': 7, 'min_samples_split': 7, 'min_samples_leaf': 1, 'criterion': 'gini'}. Best is trial 20 with value: 0.540625.\n[I 2024-02-22 16:58:06,864] Trial 47 finished with value: 0.35 and parameters: {'max_depth': 7, 'min_samples_split': 4, 'min_samples_leaf': 7, 'criterion': 'entropy'}. Best is trial 20 with value: 0.540625.\n[I 2024-02-22 16:58:07,088] Trial 48 finished with value: 0.509375 and parameters: {'max_depth': 8, 'min_samples_split': 3, 'min_samples_leaf': 3, 'criterion': 'entropy'}. Best is trial 20 with value: 0.540625.\n[I 2024-02-22 16:58:07,319] Trial 49 finished with value: 0.371875 and parameters: {'max_depth': 5, 'min_samples_split': 6, 'min_samples_leaf': 1, 'criterion': 'entropy'}. Best is trial 20 with value: 0.540625.\n[I 2024-02-22 16:58:07,564] Trial 50 finished with value: 0.5125 and parameters: {'max_depth': 9, 'min_samples_split': 2, 'min_samples_leaf': 2, 'criterion': 'entropy'}. Best is trial 20 with value: 0.540625.\n[I 2024-02-22 16:58:07,811] Trial 51 finished with value: 0.54375 and parameters: {'max_depth': 9, 'min_samples_split': 4, 'min_samples_leaf': 1, 'criterion': 'entropy'}. Best is trial 51 with value: 0.54375.\n[I 2024-02-22 16:58:08,018] Trial 52 finished with value: 0.378125 and parameters: {'max_depth': 9, 'min_samples_split': 5, 'min_samples_leaf': 6, 'criterion': 'entropy'}. Best is trial 51 with value: 0.54375.\n[I 2024-02-22 16:58:08,267] Trial 53 finished with value: 0.546875 and parameters: {'max_depth': 8, 'min_samples_split': 4, 'min_samples_leaf': 1, 'criterion': 'entropy'}. Best is trial 53 with value: 0.546875.\n[I 2024-02-22 16:58:08,460] Trial 54 finished with value: 0.33125 and parameters: {'max_depth': 8, 'min_samples_split': 4, 'min_samples_leaf': 8, 'criterion': 'entropy'}. Best is trial 53 with value: 0.546875.\n[I 2024-02-22 16:58:08,689] Trial 55 finished with value: 0.50625 and parameters: {'max_depth': 9, 'min_samples_split': 7, 'min_samples_leaf': 2, 'criterion': 'entropy'}. Best is trial 53 with value: 0.546875.\n[I 2024-02-22 16:58:08,924] Trial 56 finished with value: 0.53125 and parameters: {'max_depth': 10, 'min_samples_split': 5, 'min_samples_leaf': 1, 'criterion': 'entropy'}. Best is trial 53 with value: 0.546875.\n[I 2024-02-22 16:58:09,152] Trial 57 finished with value: 0.509375 and parameters: {'max_depth': 10, 'min_samples_split': 5, 'min_samples_leaf': 3, 'criterion': 'entropy'}. Best is trial 53 with value: 0.546875.\n[I 2024-02-22 16:58:09,373] Trial 58 finished with value: 0.375 and parameters: {'max_depth': 10, 'min_samples_split': 13, 'min_samples_leaf': 2, 'criterion': 'entropy'}. Best is trial 53 with value: 0.546875.\n[I 2024-02-22 16:58:09,608] Trial 59 finished with value: 0.515625 and parameters: {'max_depth': 10, 'min_samples_split': 6, 'min_samples_leaf': 1, 'criterion': 'entropy'}. Best is trial 53 with value: 0.546875.\n[I 2024-02-22 16:58:09,724] Trial 60 finished with value: 0.36875 and parameters: {'max_depth': 9, 'min_samples_split': 9, 'min_samples_leaf': 2, 'criterion': 'gini'}. Best is trial 53 with value: 0.546875.\n[I 2024-02-22 16:58:09,964] Trial 61 finished with value: 0.53125 and parameters: {'max_depth': 8, 'min_samples_split': 4, 'min_samples_leaf': 1, 'criterion': 'entropy'}. Best is trial 53 with value: 0.546875.\n[I 2024-02-22 16:58:10,209] Trial 62 finished with value: 0.525 and parameters: {'max_depth': 8, 'min_samples_split': 4, 'min_samples_leaf': 1, 'criterion': 'entropy'}. Best is trial 53 with value: 0.546875.\n[I 2024-02-22 16:58:10,448] Trial 63 finished with value: 0.546875 and parameters: {'max_depth': 8, 'min_samples_split': 5, 'min_samples_leaf': 1, 'criterion': 'entropy'}. Best is trial 53 with value: 0.546875.\n[I 2024-02-22 16:58:10,606] Trial 64 finished with value: 0.03125 and parameters: {'max_depth': 2, 'min_samples_split': 5, 'min_samples_leaf': 2, 'criterion': 'entropy'}. Best is trial 53 with value: 0.546875.\n[I 2024-02-22 16:58:10,846] Trial 65 finished with value: 0.528125 and parameters: {'max_depth': 9, 'min_samples_split': 3, 'min_samples_leaf': 1, 'criterion': 'entropy'}. Best is trial 53 with value: 0.546875.\n[I 2024-02-22 16:58:11,083] Trial 66 finished with value: 0.5125 and parameters: {'max_depth': 8, 'min_samples_split': 2, 'min_samples_leaf': 2, 'criterion': 'entropy'}. Best is trial 53 with value: 0.546875.\n[I 2024-02-22 16:58:11,328] Trial 67 finished with value: 0.50625 and parameters: {'max_depth': 9, 'min_samples_split': 5, 'min_samples_leaf': 3, 'criterion': 'entropy'}. Best is trial 53 with value: 0.546875.\n[I 2024-02-22 16:58:11,572] Trial 68 finished with value: 0.378125 and parameters: {'max_depth': 10, 'min_samples_split': 12, 'min_samples_leaf': 1, 'criterion': 'entropy'}. Best is trial 53 with value: 0.546875.\n[I 2024-02-22 16:58:11,807] Trial 69 finished with value: 0.503125 and parameters: {'max_depth': 8, 'min_samples_split': 6, 'min_samples_leaf': 2, 'criterion': 'entropy'}. Best is trial 53 with value: 0.546875.\n[I 2024-02-22 16:58:12,054] Trial 70 finished with value: 0.5 and parameters: {'max_depth': 10, 'min_samples_split': 7, 'min_samples_leaf': 1, 'criterion': 'entropy'}. Best is trial 53 with value: 0.546875.\n[I 2024-02-22 16:58:12,311] Trial 71 finished with value: 0.534375 and parameters: {'max_depth': 8, 'min_samples_split': 4, 'min_samples_leaf': 1, 'criterion': 'entropy'}. Best is trial 53 with value: 0.546875.\n[I 2024-02-22 16:58:12,569] Trial 72 finished with value: 0.53125 and parameters: {'max_depth': 8, 'min_samples_split': 5, 'min_samples_leaf': 1, 'criterion': 'entropy'}. Best is trial 53 with value: 0.546875.\n[I 2024-02-22 16:58:12,829] Trial 73 finished with value: 0.521875 and parameters: {'max_depth': 9, 'min_samples_split': 3, 'min_samples_leaf': 1, 'criterion': 'entropy'}. Best is trial 53 with value: 0.546875.\n[I 2024-02-22 16:58:13,069] Trial 74 finished with value: 0.515625 and parameters: {'max_depth': 8, 'min_samples_split': 4, 'min_samples_leaf': 2, 'criterion': 'entropy'}. Best is trial 53 with value: 0.546875.\n[I 2024-02-22 16:58:13,314] Trial 75 finished with value: 0.5375 and parameters: {'max_depth': 9, 'min_samples_split': 2, 'min_samples_leaf': 1, 'criterion': 'entropy'}. Best is trial 53 with value: 0.546875.\n[I 2024-02-22 16:58:13,556] Trial 76 finished with value: 0.4875 and parameters: {'max_depth': 8, 'min_samples_split': 2, 'min_samples_leaf': 2, 'criterion': 'entropy'}. Best is trial 53 with value: 0.546875.\n[I 2024-02-22 16:58:13,681] Trial 77 finished with value: 0.4125 and parameters: {'max_depth': 9, 'min_samples_split': 2, 'min_samples_leaf': 1, 'criterion': 'gini'}. Best is trial 53 with value: 0.546875.\n[I 2024-02-22 16:58:13,958] Trial 78 finished with value: 0.5125 and parameters: {'max_depth': 7, 'min_samples_split': 3, 'min_samples_leaf': 1, 'criterion': 'entropy'}. Best is trial 53 with value: 0.546875.\n[I 2024-02-22 16:58:14,198] Trial 79 finished with value: 0.50625 and parameters: {'max_depth': 9, 'min_samples_split': 3, 'min_samples_leaf': 2, 'criterion': 'entropy'}. Best is trial 53 with value: 0.546875.\n[I 2024-02-22 16:58:14,443] Trial 80 finished with value: 0.48125 and parameters: {'max_depth': 8, 'min_samples_split': 2, 'min_samples_leaf': 1, 'criterion': 'entropy'}. Best is trial 53 with value: 0.546875.\n[I 2024-02-22 16:58:14,689] Trial 81 finished with value: 0.5125 and parameters: {'max_depth': 8, 'min_samples_split': 4, 'min_samples_leaf': 1, 'criterion': 'entropy'}. Best is trial 53 with value: 0.546875.\n[I 2024-02-22 16:58:14,936] Trial 82 finished with value: 0.346875 and parameters: {'max_depth': 9, 'min_samples_split': 15, 'min_samples_leaf': 1, 'criterion': 'entropy'}. Best is trial 53 with value: 0.546875.\n[I 2024-02-22 16:58:15,210] Trial 83 finished with value: 0.509375 and parameters: {'max_depth': 7, 'min_samples_split': 5, 'min_samples_leaf': 1, 'criterion': 'entropy'}. Best is trial 53 with value: 0.546875.\n[I 2024-02-22 16:58:15,473] Trial 84 finished with value: 0.51875 and parameters: {'max_depth': 10, 'min_samples_split': 4, 'min_samples_leaf': 1, 'criterion': 'entropy'}. Best is trial 53 with value: 0.546875.\n[I 2024-02-22 16:58:15,715] Trial 85 finished with value: 0.521875 and parameters: {'max_depth': 8, 'min_samples_split': 3, 'min_samples_leaf': 2, 'criterion': 'entropy'}. Best is trial 53 with value: 0.546875.\n[I 2024-02-22 16:58:15,934] Trial 86 finished with value: 0.50625 and parameters: {'max_depth': 9, 'min_samples_split': 2, 'min_samples_leaf': 4, 'criterion': 'entropy'}. Best is trial 53 with value: 0.546875.\n[I 2024-02-22 16:58:16,157] Trial 87 finished with value: 0.303125 and parameters: {'max_depth': 7, 'min_samples_split': 18, 'min_samples_leaf': 2, 'criterion': 'entropy'}. Best is trial 53 with value: 0.546875.\n[I 2024-02-22 16:58:16,350] Trial 88 finished with value: 0.25625 and parameters: {'max_depth': 8, 'min_samples_split': 3, 'min_samples_leaf': 10, 'criterion': 'entropy'}. Best is trial 53 with value: 0.546875.\n[I 2024-02-22 16:58:16,470] Trial 89 finished with value: 0.384375 and parameters: {'max_depth': 9, 'min_samples_split': 6, 'min_samples_leaf': 5, 'criterion': 'gini'}. Best is trial 53 with value: 0.546875.\n[I 2024-02-22 16:58:16,713] Trial 90 finished with value: 0.525 and parameters: {'max_depth': 10, 'min_samples_split': 5, 'min_samples_leaf': 1, 'criterion': 'entropy'}. Best is trial 53 with value: 0.546875.\n[I 2024-02-22 16:58:16,957] Trial 91 finished with value: 0.540625 and parameters: {'max_depth': 8, 'min_samples_split': 4, 'min_samples_leaf': 1, 'criterion': 'entropy'}. Best is trial 53 with value: 0.546875.\n[I 2024-02-22 16:58:17,209] Trial 92 finished with value: 0.515625 and parameters: {'max_depth': 8, 'min_samples_split': 4, 'min_samples_leaf': 1, 'criterion': 'entropy'}. Best is trial 53 with value: 0.546875.\n[I 2024-02-22 16:58:17,478] Trial 93 finished with value: 0.521875 and parameters: {'max_depth': 7, 'min_samples_split': 4, 'min_samples_leaf': 1, 'criterion': 'entropy'}. Best is trial 53 with value: 0.546875.\n[I 2024-02-22 16:58:17,734] Trial 94 finished with value: 0.509375 and parameters: {'max_depth': 8, 'min_samples_split': 2, 'min_samples_leaf': 1, 'criterion': 'entropy'}. Best is trial 53 with value: 0.546875.\n[I 2024-02-22 16:58:17,944] Trial 95 finished with value: 0.290625 and parameters: {'max_depth': 8, 'min_samples_split': 3, 'min_samples_leaf': 9, 'criterion': 'entropy'}. Best is trial 53 with value: 0.546875.\n[I 2024-02-22 16:58:18,210] Trial 96 finished with value: 0.48125 and parameters: {'max_depth': 9, 'min_samples_split': 5, 'min_samples_leaf': 2, 'criterion': 'entropy'}. Best is trial 53 with value: 0.546875.\n[I 2024-02-22 16:58:18,476] Trial 97 finished with value: 0.521875 and parameters: {'max_depth': 8, 'min_samples_split': 3, 'min_samples_leaf': 1, 'criterion': 'entropy'}. Best is trial 53 with value: 0.546875.\n[I 2024-02-22 16:58:18,728] Trial 98 finished with value: 0.4875 and parameters: {'max_depth': 7, 'min_samples_split': 4, 'min_samples_leaf': 2, 'criterion': 'entropy'}. Best is trial 53 with value: 0.546875.\n[I 2024-02-22 16:58:18,974] Trial 99 finished with value: 0.534375 and parameters: {'max_depth': 8, 'min_samples_split': 2, 'min_samples_leaf': 1, 'criterion': 'entropy'}. Best is trial 53 with value: 0.546875.\n",
          "output_type": "stream"
        },
        {
          "name": "stdout",
          "text": "Best params found : {'max_depth': 8, 'min_samples_split': 4, 'min_samples_leaf': 1, 'criterion': 'entropy'}\naccuracy: 0.55\nrecall: 0.5219298245614035\nprecision: 0.537781954887218\nf1-score: 0.4970969089390142\n",
          "output_type": "stream"
        }
      ]
    },
    {
      "cell_type": "markdown",
      "source": [
        "Tuning rồi lưu kết quả tuning vào bên dưới"
      ],
      "metadata": {
        "id": "81guluY9Zoce"
      }
    },
    {
      "cell_type": "markdown",
      "source": [
        "# num_image = 16"
      ],
      "metadata": {
        "id": "mJels-qLZocf"
      }
    },
    {
      "cell_type": "code",
      "source": [
        "n_components_pca = 50\n",
        "pca = ModularPCA(n_components=n_components_pca, num_image=16)\n",
        "X_train_reduced = pca.fit_transform(X_train)\n",
        "X_test_reduced = pca.transform(X_test)"
      ],
      "metadata": {
        "id": "bt0sQcs7Zocf",
        "execution": {
          "iopub.status.busy": "2024-02-22T16:58:36.430506Z",
          "iopub.execute_input": "2024-02-22T16:58:36.430993Z",
          "iopub.status.idle": "2024-02-22T16:58:38.269185Z",
          "shell.execute_reply.started": "2024-02-22T16:58:36.430952Z",
          "shell.execute_reply": "2024-02-22T16:58:38.264262Z"
        },
        "trusted": true
      },
      "execution_count": null,
      "outputs": []
    },
    {
      "cell_type": "code",
      "source": [
        "# accuracy_scores, precision_scores, recall_scores, f1_scores = [], [], [], []\n",
        "# n_components_pca = 50\n",
        "# n_splits = 5\n",
        "# skf = StratifiedKFold(n_splits=n_splits, shuffle=True, random_state=42)"
      ],
      "metadata": {
        "id": "nClgatiPZocf",
        "execution": {
          "iopub.status.busy": "2024-02-22T16:52:28.106078Z",
          "iopub.status.idle": "2024-02-22T16:52:28.106686Z",
          "shell.execute_reply.started": "2024-02-22T16:52:28.106353Z",
          "shell.execute_reply": "2024-02-22T16:52:28.106377Z"
        },
        "trusted": true
      },
      "execution_count": null,
      "outputs": []
    },
    {
      "cell_type": "code",
      "source": [
        "# for train_index, test_index in skf.split(X, y):\n",
        "#     X_train, X_test = X[train_index], X[test_index]\n",
        "#     y_train, y_test = y[train_index], y[test_index]\n",
        "\n",
        "#     pca = PCA(n_components=n_components_pca)\n",
        "#     X_train_reduced = pca.fit_transform(X_train)\n",
        "#     X_test_reduced = pca.transform(X_test)\n",
        "\n",
        "#     # Euclidean\n",
        "#     y_pred = []\n",
        "#     for i in range(320):\n",
        "#         min_ = np.argmin(np.sqrt(np.sum((X_train_reduced - X_test_reduced[i])**2,axis=1)))\n",
        "#         y_pred.append(y_train[min_])\n",
        "\n",
        "#     # Evaluate the model\n",
        "#     accuracy = accuracy_score(y_test, y_pred)\n",
        "#     accuracy_scores.append(accuracy)\n",
        "\n",
        "# print(np.mean(accuracy_scores))"
      ],
      "metadata": {
        "id": "y2za525DZocf",
        "execution": {
          "iopub.status.busy": "2024-02-22T16:52:28.108751Z",
          "iopub.status.idle": "2024-02-22T16:52:28.109337Z",
          "shell.execute_reply.started": "2024-02-22T16:52:28.109046Z",
          "shell.execute_reply": "2024-02-22T16:52:28.109070Z"
        },
        "trusted": true
      },
      "execution_count": null,
      "outputs": []
    },
    {
      "cell_type": "markdown",
      "source": [
        "## Modeling"
      ],
      "metadata": {
        "id": "B05mgPI4Zocf"
      }
    },
    {
      "cell_type": "code",
      "source": [
        "from sklearn.model_selection import KFold\n",
        "n_splits = 5\n",
        "kf = KFold(n_splits=n_splits, shuffle=True, random_state=42)"
      ],
      "metadata": {
        "id": "sVSttdiwZocg",
        "execution": {
          "iopub.status.busy": "2024-02-22T16:58:48.781300Z",
          "iopub.execute_input": "2024-02-22T16:58:48.781783Z",
          "iopub.status.idle": "2024-02-22T16:58:48.788654Z",
          "shell.execute_reply.started": "2024-02-22T16:58:48.781746Z",
          "shell.execute_reply": "2024-02-22T16:58:48.786852Z"
        },
        "trusted": true
      },
      "execution_count": null,
      "outputs": []
    },
    {
      "cell_type": "markdown",
      "source": [
        "## Random Forest"
      ],
      "metadata": {
        "id": "djODk29rZocg"
      }
    },
    {
      "cell_type": "code",
      "source": [
        "prediction_results = {}"
      ],
      "metadata": {
        "id": "1c7-upjTZocg",
        "execution": {
          "iopub.status.busy": "2024-02-22T16:58:53.582255Z",
          "iopub.execute_input": "2024-02-22T16:58:53.582782Z",
          "iopub.status.idle": "2024-02-22T16:58:53.589931Z",
          "shell.execute_reply.started": "2024-02-22T16:58:53.582747Z",
          "shell.execute_reply": "2024-02-22T16:58:53.588151Z"
        },
        "trusted": true
      },
      "execution_count": null,
      "outputs": []
    },
    {
      "cell_type": "code",
      "source": [
        "from sklearn.ensemble import RandomForestClassifier\n",
        "from sklearn.metrics import accuracy_score"
      ],
      "metadata": {
        "id": "DQpj1qmJZocg",
        "execution": {
          "iopub.status.busy": "2024-02-22T16:58:58.337228Z",
          "iopub.execute_input": "2024-02-22T16:58:58.338037Z",
          "iopub.status.idle": "2024-02-22T16:58:58.345830Z",
          "shell.execute_reply.started": "2024-02-22T16:58:58.337988Z",
          "shell.execute_reply": "2024-02-22T16:58:58.344104Z"
        },
        "trusted": true
      },
      "execution_count": null,
      "outputs": []
    },
    {
      "cell_type": "markdown",
      "source": [
        "**Normal**"
      ],
      "metadata": {
        "id": "udxDjnQ-Zoch"
      }
    },
    {
      "cell_type": "code",
      "source": [
        "rfr = RandomForestClassifier(random_state=42)\n",
        "rfr.fit(X_train_reduced,y_train)\n",
        "y_pred = rfr.predict(X_test_reduced)\n",
        "\n",
        "accuracy = accuracy_score(y_test, y_pred)\n",
        "precision = precision_score(y_test, y_pred, average='macro')\n",
        "recall = recall_score(y_test, y_pred, average='macro')\n",
        "f1 = f1_score(y_test, y_pred, average='macro')\n",
        "\n",
        "# One-hot encoding for probability calculation (adapt if necessary)\n",
        "y_test_onehot = pd.get_dummies(y_test, prefix='label_')  # Assuming 'label_' prefix for clarity\n",
        "y_pred_onehot = pd.get_dummies(y_pred, prefix='label_')\n",
        "\n",
        "# ROC AUC score with multiclass handling\n",
        "roc_auc_macro = roc_auc_score(y_test_onehot, y_pred_onehot, average='macro', multi_class='ovo')  # Specify 'ovo' or 'ovr'\n",
        "\n",
        "print(\"accuracy:\", accuracy)\n",
        "print(\"recall:\", recall)\n",
        "print(\"precision:\", precision)\n",
        "print(\"f1-score:\", f1)\n",
        "print('roc_auc: ', roc_auc_macro)"
      ],
      "metadata": {
        "id": "tXhSfQhhZoch",
        "outputId": "fdf23eb7-e23a-4c74-bc93-fb252f3d652b",
        "execution": {
          "iopub.status.busy": "2024-02-22T16:59:04.255139Z",
          "iopub.execute_input": "2024-02-22T16:59:04.255611Z",
          "iopub.status.idle": "2024-02-22T16:59:04.823352Z",
          "shell.execute_reply.started": "2024-02-22T16:59:04.255559Z",
          "shell.execute_reply": "2024-02-22T16:59:04.821761Z"
        },
        "trusted": true
      },
      "execution_count": null,
      "outputs": [
        {
          "name": "stdout",
          "text": "accuracy: 0.9875\nrecall: 0.9722222222222222\nprecision: 0.9629629629629629\nf1-score: 0.9666666666666666\nroc_auc:  0.7339875119474435\n",
          "output_type": "stream"
        }
      ]
    },
    {
      "cell_type": "markdown",
      "source": [
        "**Tunning**"
      ],
      "metadata": {
        "id": "AT8pvxD9Zoch"
      }
    },
    {
      "cell_type": "code",
      "source": [
        "import optuna\n",
        "\n",
        "\n",
        "def objective(trial):\n",
        "    hyperparams = {\n",
        "        'n_estimators': trial.suggest_int('n_estimators', 100, 1000),\n",
        "        'max_depth': trial.suggest_int('max_depth', 10, 50),\n",
        "        'min_samples_split': trial.suggest_int('min_samples_split', 2, 32),\n",
        "        'random_state': trial.suggest_categorical('random_state', [42]),\n",
        "        'min_samples_leaf': trial.suggest_int('min_samples_leaf', 1, 32),\n",
        "        'n_jobs': -1\n",
        "    }\n",
        "\n",
        "    model = RandomForestClassifier(**hyperparams)\n",
        "    scores = cross_val_score(model, X_train_reduced,\n",
        "                             y_train, cv=kf, scoring='accuracy')\n",
        "    return np.mean(scores)"
      ],
      "metadata": {
        "id": "FIVv-RMVZoch",
        "execution": {
          "iopub.status.busy": "2024-02-22T16:59:08.619743Z",
          "iopub.execute_input": "2024-02-22T16:59:08.620192Z",
          "iopub.status.idle": "2024-02-22T16:59:08.630085Z",
          "shell.execute_reply.started": "2024-02-22T16:59:08.620157Z",
          "shell.execute_reply": "2024-02-22T16:59:08.628421Z"
        },
        "trusted": true
      },
      "execution_count": null,
      "outputs": []
    },
    {
      "cell_type": "code",
      "source": [
        "study = optuna.create_study(direction = 'maximize')\n",
        "study.optimize(objective, n_trials = 100)\n",
        "best_params = study.best_params\n",
        "print(\"Best params found :\", best_params)\n",
        "\n",
        "final_model = RandomForestClassifier(**best_params)\n",
        "final_model.fit(X_train_reduced, y_train)\n",
        "y_pred = final_model.predict(X_test_reduced)\n",
        "accuracy_score(y_test, y_pred)"
      ],
      "metadata": {
        "id": "dhYPug44Zoci",
        "outputId": "c2031162-9cb8-4245-9f9b-38e12863fd3b",
        "execution": {
          "iopub.status.busy": "2024-02-22T16:59:13.727694Z",
          "iopub.execute_input": "2024-02-22T16:59:13.728130Z",
          "iopub.status.idle": "2024-02-22T17:28:34.619750Z",
          "shell.execute_reply.started": "2024-02-22T16:59:13.728100Z",
          "shell.execute_reply": "2024-02-22T17:28:34.618348Z"
        },
        "trusted": true
      },
      "execution_count": null,
      "outputs": [
        {
          "name": "stderr",
          "text": "[I 2024-02-22 16:59:13,731] A new study created in memory with name: no-name-21e2eb12-aa86-431a-8c20-7ab32a61ed9b\n[I 2024-02-22 16:59:21,473] Trial 0 finished with value: 0.675 and parameters: {'n_estimators': 326, 'max_depth': 17, 'min_samples_split': 22, 'random_state': 42, 'min_samples_leaf': 15}. Best is trial 0 with value: 0.675.\n[I 2024-02-22 16:59:34,793] Trial 1 finished with value: 0.803125 and parameters: {'n_estimators': 545, 'max_depth': 18, 'min_samples_split': 12, 'random_state': 42, 'min_samples_leaf': 6}. Best is trial 1 with value: 0.803125.\n[I 2024-02-22 16:59:37,974] Trial 2 finished with value: 0.659375 and parameters: {'n_estimators': 137, 'max_depth': 44, 'min_samples_split': 8, 'random_state': 42, 'min_samples_leaf': 16}. Best is trial 1 with value: 0.803125.\n[I 2024-02-22 16:59:49,492] Trial 3 finished with value: 0.728125 and parameters: {'n_estimators': 498, 'max_depth': 39, 'min_samples_split': 14, 'random_state': 42, 'min_samples_leaf': 11}. Best is trial 1 with value: 0.803125.\n[I 2024-02-22 17:00:10,636] Trial 4 finished with value: 0.878125 and parameters: {'n_estimators': 805, 'max_depth': 35, 'min_samples_split': 3, 'random_state': 42, 'min_samples_leaf': 1}. Best is trial 4 with value: 0.878125.\n[I 2024-02-22 17:00:25,282] Trial 5 finished with value: 0.7875 and parameters: {'n_estimators': 616, 'max_depth': 49, 'min_samples_split': 9, 'random_state': 42, 'min_samples_leaf': 7}. Best is trial 4 with value: 0.878125.\n[I 2024-02-22 17:00:40,716] Trial 6 finished with value: 0.6375 and parameters: {'n_estimators': 694, 'max_depth': 29, 'min_samples_split': 7, 'random_state': 42, 'min_samples_leaf': 21}. Best is trial 4 with value: 0.878125.\n[I 2024-02-22 17:00:58,448] Trial 7 finished with value: 0.5875 and parameters: {'n_estimators': 773, 'max_depth': 14, 'min_samples_split': 14, 'random_state': 42, 'min_samples_leaf': 24}. Best is trial 4 with value: 0.878125.\n[I 2024-02-22 17:01:09,955] Trial 8 finished with value: 0.51875 and parameters: {'n_estimators': 508, 'max_depth': 27, 'min_samples_split': 2, 'random_state': 42, 'min_samples_leaf': 28}. Best is trial 4 with value: 0.878125.\n[I 2024-02-22 17:01:21,319] Trial 9 finished with value: 0.596875 and parameters: {'n_estimators': 491, 'max_depth': 42, 'min_samples_split': 15, 'random_state': 42, 'min_samples_leaf': 23}. Best is trial 4 with value: 0.878125.\n[I 2024-02-22 17:01:45,019] Trial 10 finished with value: 0.665625 and parameters: {'n_estimators': 978, 'max_depth': 35, 'min_samples_split': 30, 'random_state': 42, 'min_samples_leaf': 1}. Best is trial 4 with value: 0.878125.\n[I 2024-02-22 17:02:05,565] Trial 11 finished with value: 0.875 and parameters: {'n_estimators': 797, 'max_depth': 21, 'min_samples_split': 2, 'random_state': 42, 'min_samples_leaf': 2}. Best is trial 4 with value: 0.878125.\n[I 2024-02-22 17:02:28,291] Trial 12 finished with value: 0.890625 and parameters: {'n_estimators': 865, 'max_depth': 23, 'min_samples_split': 2, 'random_state': 42, 'min_samples_leaf': 1}. Best is trial 12 with value: 0.890625.\n[I 2024-02-22 17:02:51,624] Trial 13 finished with value: 0.71875 and parameters: {'n_estimators': 979, 'max_depth': 24, 'min_samples_split': 22, 'random_state': 42, 'min_samples_leaf': 7}. Best is trial 12 with value: 0.890625.\n[I 2024-02-22 17:03:13,581] Trial 14 finished with value: 0.88125 and parameters: {'n_estimators': 831, 'max_depth': 34, 'min_samples_split': 5, 'random_state': 42, 'min_samples_leaf': 1}. Best is trial 12 with value: 0.890625.\n[I 2024-02-22 17:03:32,859] Trial 15 finished with value: 0.50625 and parameters: {'n_estimators': 861, 'max_depth': 32, 'min_samples_split': 6, 'random_state': 42, 'min_samples_leaf': 32}. Best is trial 12 with value: 0.890625.\n[I 2024-02-22 17:03:54,193] Trial 16 finished with value: 0.7375 and parameters: {'n_estimators': 901, 'max_depth': 24, 'min_samples_split': 19, 'random_state': 42, 'min_samples_leaf': 11}. Best is trial 12 with value: 0.890625.\n[I 2024-02-22 17:04:10,048] Trial 17 finished with value: 0.68125 and parameters: {'n_estimators': 664, 'max_depth': 11, 'min_samples_split': 32, 'random_state': 42, 'min_samples_leaf': 5}. Best is trial 12 with value: 0.890625.\n[I 2024-02-22 17:04:18,630] Trial 18 finished with value: 0.746875 and parameters: {'n_estimators': 362, 'max_depth': 33, 'min_samples_split': 5, 'random_state': 42, 'min_samples_leaf': 10}. Best is trial 12 with value: 0.890625.\n[I 2024-02-22 17:04:37,166] Trial 19 finished with value: 0.81875 and parameters: {'n_estimators': 725, 'max_depth': 38, 'min_samples_split': 11, 'random_state': 42, 'min_samples_leaf': 4}. Best is trial 12 with value: 0.890625.\n[I 2024-02-22 17:04:58,168] Trial 20 finished with value: 0.653125 and parameters: {'n_estimators': 896, 'max_depth': 27, 'min_samples_split': 18, 'random_state': 42, 'min_samples_leaf': 19}. Best is trial 12 with value: 0.890625.\n[I 2024-02-22 17:05:20,011] Trial 21 finished with value: 0.88125 and parameters: {'n_estimators': 816, 'max_depth': 37, 'min_samples_split': 4, 'random_state': 42, 'min_samples_leaf': 1}. Best is trial 12 with value: 0.890625.\n[I 2024-02-22 17:05:43,904] Trial 22 finished with value: 0.86875 and parameters: {'n_estimators': 863, 'max_depth': 48, 'min_samples_split': 5, 'random_state': 42, 'min_samples_leaf': 3}. Best is trial 12 with value: 0.890625.\n[I 2024-02-22 17:06:09,457] Trial 23 finished with value: 0.74375 and parameters: {'n_estimators': 980, 'max_depth': 38, 'min_samples_split': 10, 'random_state': 42, 'min_samples_leaf': 10}. Best is trial 12 with value: 0.890625.\n[I 2024-02-22 17:06:26,851] Trial 24 finished with value: 0.771875 and parameters: {'n_estimators': 595, 'max_depth': 30, 'min_samples_split': 4, 'random_state': 42, 'min_samples_leaf': 8}. Best is trial 12 with value: 0.890625.\n[I 2024-02-22 17:06:46,618] Trial 25 finished with value: 0.709375 and parameters: {'n_estimators': 745, 'max_depth': 42, 'min_samples_split': 7, 'random_state': 42, 'min_samples_leaf': 14}. Best is trial 12 with value: 0.890625.\n[I 2024-02-22 17:07:09,506] Trial 26 finished with value: 0.840625 and parameters: {'n_estimators': 818, 'max_depth': 24, 'min_samples_split': 2, 'random_state': 42, 'min_samples_leaf': 4}. Best is trial 12 with value: 0.890625.\n[I 2024-02-22 17:07:32,417] Trial 27 finished with value: 0.86875 and parameters: {'n_estimators': 918, 'max_depth': 34, 'min_samples_split': 5, 'random_state': 42, 'min_samples_leaf': 3}. Best is trial 12 with value: 0.890625.\n[I 2024-02-22 17:07:48,290] Trial 28 finished with value: 0.696875 and parameters: {'n_estimators': 662, 'max_depth': 20, 'min_samples_split': 25, 'random_state': 42, 'min_samples_leaf': 1}. Best is trial 12 with value: 0.890625.\n[I 2024-02-22 17:07:57,998] Trial 29 finished with value: 0.765625 and parameters: {'n_estimators': 428, 'max_depth': 45, 'min_samples_split': 9, 'random_state': 42, 'min_samples_leaf': 8}. Best is trial 12 with value: 0.890625.\n[I 2024-02-22 17:08:16,962] Trial 30 finished with value: 0.721875 and parameters: {'n_estimators': 848, 'max_depth': 27, 'min_samples_split': 12, 'random_state': 42, 'min_samples_leaf': 13}. Best is trial 12 with value: 0.890625.\n[I 2024-02-22 17:08:37,166] Trial 31 finished with value: 0.875 and parameters: {'n_estimators': 777, 'max_depth': 37, 'min_samples_split': 3, 'random_state': 42, 'min_samples_leaf': 1}. Best is trial 12 with value: 0.890625.\n[I 2024-02-22 17:08:58,934] Trial 32 finished with value: 0.81875 and parameters: {'n_estimators': 918, 'max_depth': 31, 'min_samples_split': 3, 'random_state': 42, 'min_samples_leaf': 5}. Best is trial 12 with value: 0.890625.\n[I 2024-02-22 17:09:02,496] Trial 33 finished with value: 0.840625 and parameters: {'n_estimators': 143, 'max_depth': 35, 'min_samples_split': 7, 'random_state': 42, 'min_samples_leaf': 1}. Best is trial 12 with value: 0.890625.\n[I 2024-02-22 17:09:07,640] Trial 34 finished with value: 0.784375 and parameters: {'n_estimators': 224, 'max_depth': 17, 'min_samples_split': 4, 'random_state': 42, 'min_samples_leaf': 5}. Best is trial 12 with value: 0.890625.\n[I 2024-02-22 17:09:26,839] Trial 35 finished with value: 0.846875 and parameters: {'n_estimators': 812, 'max_depth': 40, 'min_samples_split': 8, 'random_state': 42, 'min_samples_leaf': 3}. Best is trial 12 with value: 0.890625.\n[I 2024-02-22 17:09:43,038] Trial 36 finished with value: 0.8 and parameters: {'n_estimators': 706, 'max_depth': 35, 'min_samples_split': 6, 'random_state': 42, 'min_samples_leaf': 6}. Best is trial 12 with value: 0.890625.\n[I 2024-02-22 17:09:56,243] Trial 37 finished with value: 0.671875 and parameters: {'n_estimators': 592, 'max_depth': 41, 'min_samples_split': 12, 'random_state': 42, 'min_samples_leaf': 17}. Best is trial 12 with value: 0.890625.\n[I 2024-02-22 17:10:12,578] Trial 38 finished with value: 0.86875 and parameters: {'n_estimators': 651, 'max_depth': 45, 'min_samples_split': 4, 'random_state': 42, 'min_samples_leaf': 3}. Best is trial 12 with value: 0.890625.\n[I 2024-02-22 17:10:34,611] Trial 39 finished with value: 0.7625 and parameters: {'n_estimators': 930, 'max_depth': 29, 'min_samples_split': 9, 'random_state': 42, 'min_samples_leaf': 8}. Best is trial 12 with value: 0.890625.\n[I 2024-02-22 17:10:52,530] Trial 40 finished with value: 0.803125 and parameters: {'n_estimators': 750, 'max_depth': 37, 'min_samples_split': 2, 'random_state': 42, 'min_samples_leaf': 6}. Best is trial 12 with value: 0.890625.\n[I 2024-02-22 17:11:13,617] Trial 41 finished with value: 0.89375 and parameters: {'n_estimators': 803, 'max_depth': 22, 'min_samples_split': 2, 'random_state': 42, 'min_samples_leaf': 1}. Best is trial 41 with value: 0.89375.\n[I 2024-02-22 17:11:36,045] Trial 42 finished with value: 0.8875 and parameters: {'n_estimators': 849, 'max_depth': 20, 'min_samples_split': 3, 'random_state': 42, 'min_samples_leaf': 1}. Best is trial 41 with value: 0.89375.\n[I 2024-02-22 17:11:58,520] Trial 43 finished with value: 0.871875 and parameters: {'n_estimators': 847, 'max_depth': 15, 'min_samples_split': 6, 'random_state': 42, 'min_samples_leaf': 2}. Best is trial 41 with value: 0.89375.\n[I 2024-02-22 17:12:23,647] Trial 44 finished with value: 0.890625 and parameters: {'n_estimators': 956, 'max_depth': 20, 'min_samples_split': 2, 'random_state': 42, 'min_samples_leaf': 1}. Best is trial 41 with value: 0.89375.\n[I 2024-02-22 17:12:48,420] Trial 45 finished with value: 0.84375 and parameters: {'n_estimators': 999, 'max_depth': 20, 'min_samples_split': 2, 'random_state': 42, 'min_samples_leaf': 4}. Best is trial 41 with value: 0.89375.\n[I 2024-02-22 17:13:11,306] Trial 46 finished with value: 0.771875 and parameters: {'n_estimators': 947, 'max_depth': 22, 'min_samples_split': 14, 'random_state': 42, 'min_samples_leaf': 2}. Best is trial 41 with value: 0.89375.\n[I 2024-02-22 17:13:30,188] Trial 47 finished with value: 0.546875 and parameters: {'n_estimators': 880, 'max_depth': 15, 'min_samples_split': 3, 'random_state': 42, 'min_samples_leaf': 26}. Best is trial 41 with value: 0.89375.\n[I 2024-02-22 17:13:52,160] Trial 48 finished with value: 0.79375 and parameters: {'n_estimators': 959, 'max_depth': 18, 'min_samples_split': 7, 'random_state': 42, 'min_samples_leaf': 6}. Best is trial 41 with value: 0.89375.\n[I 2024-02-22 17:14:10,782] Trial 49 finished with value: 0.753125 and parameters: {'n_estimators': 779, 'max_depth': 23, 'min_samples_split': 16, 'random_state': 42, 'min_samples_leaf': 2}. Best is trial 41 with value: 0.89375.\n[I 2024-02-22 17:14:30,938] Trial 50 finished with value: 0.690625 and parameters: {'n_estimators': 883, 'max_depth': 12, 'min_samples_split': 27, 'random_state': 42, 'min_samples_leaf': 4}. Best is trial 41 with value: 0.89375.\n[I 2024-02-22 17:14:51,670] Trial 51 finished with value: 0.878125 and parameters: {'n_estimators': 829, 'max_depth': 19, 'min_samples_split': 4, 'random_state': 42, 'min_samples_leaf': 1}. Best is trial 41 with value: 0.89375.\n[I 2024-02-22 17:15:11,465] Trial 52 finished with value: 0.88125 and parameters: {'n_estimators': 789, 'max_depth': 26, 'min_samples_split': 5, 'random_state': 42, 'min_samples_leaf': 2}. Best is trial 41 with value: 0.89375.\n[I 2024-02-22 17:15:30,677] Trial 53 finished with value: 0.871875 and parameters: {'n_estimators': 739, 'max_depth': 22, 'min_samples_split': 2, 'random_state': 42, 'min_samples_leaf': 3}. Best is trial 41 with value: 0.89375.\n[I 2024-02-22 17:15:56,020] Trial 54 finished with value: 0.88125 and parameters: {'n_estimators': 946, 'max_depth': 26, 'min_samples_split': 4, 'random_state': 42, 'min_samples_leaf': 1}. Best is trial 41 with value: 0.89375.\n[I 2024-02-22 17:16:12,889] Trial 55 finished with value: 0.7625 and parameters: {'n_estimators': 698, 'max_depth': 16, 'min_samples_split': 3, 'random_state': 42, 'min_samples_leaf': 7}. Best is trial 41 with value: 0.89375.\n[I 2024-02-22 17:16:33,245] Trial 56 finished with value: 0.715625 and parameters: {'n_estimators': 828, 'max_depth': 25, 'min_samples_split': 21, 'random_state': 42, 'min_samples_leaf': 5}. Best is trial 41 with value: 0.89375.\n[I 2024-02-22 17:16:55,656] Trial 57 finished with value: 0.840625 and parameters: {'n_estimators': 892, 'max_depth': 13, 'min_samples_split': 6, 'random_state': 42, 'min_samples_leaf': 4}. Best is trial 41 with value: 0.89375.\n[I 2024-02-22 17:17:14,741] Trial 58 finished with value: 0.640625 and parameters: {'n_estimators': 864, 'max_depth': 29, 'min_samples_split': 8, 'random_state': 42, 'min_samples_leaf': 21}. Best is trial 41 with value: 0.89375.\n[I 2024-02-22 17:17:31,493] Trial 59 finished with value: 0.534375 and parameters: {'n_estimators': 764, 'max_depth': 33, 'min_samples_split': 5, 'random_state': 42, 'min_samples_leaf': 30}. Best is trial 41 with value: 0.89375.\n[I 2024-02-22 17:17:45,712] Trial 60 finished with value: 0.878125 and parameters: {'n_estimators': 558, 'max_depth': 18, 'min_samples_split': 2, 'random_state': 42, 'min_samples_leaf': 2}. Best is trial 41 with value: 0.89375.\n[I 2024-02-22 17:18:05,953] Trial 61 finished with value: 0.88125 and parameters: {'n_estimators': 811, 'max_depth': 21, 'min_samples_split': 5, 'random_state': 42, 'min_samples_leaf': 2}. Best is trial 41 with value: 0.89375.\n[I 2024-02-22 17:18:26,029] Trial 62 finished with value: 0.875 and parameters: {'n_estimators': 780, 'max_depth': 25, 'min_samples_split': 3, 'random_state': 42, 'min_samples_leaf': 1}. Best is trial 41 with value: 0.89375.\n[I 2024-02-22 17:18:48,624] Trial 63 finished with value: 0.86875 and parameters: {'n_estimators': 917, 'max_depth': 28, 'min_samples_split': 6, 'random_state': 42, 'min_samples_leaf': 3}. Best is trial 41 with value: 0.89375.\n[I 2024-02-22 17:19:08,528] Trial 64 finished with value: 0.88125 and parameters: {'n_estimators': 796, 'max_depth': 23, 'min_samples_split': 4, 'random_state': 42, 'min_samples_leaf': 1}. Best is trial 41 with value: 0.89375.\n[I 2024-02-22 17:19:29,137] Trial 65 finished with value: 0.815625 and parameters: {'n_estimators': 850, 'max_depth': 21, 'min_samples_split': 10, 'random_state': 42, 'min_samples_leaf': 3}. Best is trial 41 with value: 0.89375.\n[I 2024-02-22 17:19:47,211] Trial 66 finished with value: 0.875 and parameters: {'n_estimators': 730, 'max_depth': 31, 'min_samples_split': 5, 'random_state': 42, 'min_samples_leaf': 2}. Best is trial 41 with value: 0.89375.\n[I 2024-02-22 17:20:10,150] Trial 67 finished with value: 0.815625 and parameters: {'n_estimators': 970, 'max_depth': 26, 'min_samples_split': 8, 'random_state': 42, 'min_samples_leaf': 5}. Best is trial 41 with value: 0.89375.\n[I 2024-02-22 17:20:32,078] Trial 68 finished with value: 0.840625 and parameters: {'n_estimators': 898, 'max_depth': 23, 'min_samples_split': 3, 'random_state': 42, 'min_samples_leaf': 4}. Best is trial 41 with value: 0.89375.\n[I 2024-02-22 17:20:54,901] Trial 69 finished with value: 0.759375 and parameters: {'n_estimators': 994, 'max_depth': 20, 'min_samples_split': 2, 'random_state': 42, 'min_samples_leaf': 9}. Best is trial 41 with value: 0.89375.\n[I 2024-02-22 17:21:12,635] Trial 70 finished with value: 0.8875 and parameters: {'n_estimators': 680, 'max_depth': 25, 'min_samples_split': 4, 'random_state': 42, 'min_samples_leaf': 1}. Best is trial 41 with value: 0.89375.\n[I 2024-02-22 17:21:29,051] Trial 71 finished with value: 0.8875 and parameters: {'n_estimators': 636, 'max_depth': 24, 'min_samples_split': 4, 'random_state': 42, 'min_samples_leaf': 1}. Best is trial 41 with value: 0.89375.\n[I 2024-02-22 17:21:45,024] Trial 72 finished with value: 0.8875 and parameters: {'n_estimators': 620, 'max_depth': 19, 'min_samples_split': 4, 'random_state': 42, 'min_samples_leaf': 1}. Best is trial 41 with value: 0.89375.\n[I 2024-02-22 17:22:00,437] Trial 73 finished with value: 0.859375 and parameters: {'n_estimators': 614, 'max_depth': 18, 'min_samples_split': 7, 'random_state': 42, 'min_samples_leaf': 2}. Best is trial 41 with value: 0.89375.\n[I 2024-02-22 17:22:14,158] Trial 74 finished with value: 0.88125 and parameters: {'n_estimators': 545, 'max_depth': 19, 'min_samples_split': 3, 'random_state': 42, 'min_samples_leaf': 1}. Best is trial 41 with value: 0.89375.\n[I 2024-02-22 17:22:26,826] Trial 75 finished with value: 0.8375 and parameters: {'n_estimators': 512, 'max_depth': 22, 'min_samples_split': 4, 'random_state': 42, 'min_samples_leaf': 4}. Best is trial 41 with value: 0.89375.\n[I 2024-02-22 17:22:42,984] Trial 76 finished with value: 0.871875 and parameters: {'n_estimators': 647, 'max_depth': 21, 'min_samples_split': 3, 'random_state': 42, 'min_samples_leaf': 3}. Best is trial 41 with value: 0.89375.\n[I 2024-02-22 17:22:54,672] Trial 77 finished with value: 0.80625 and parameters: {'n_estimators': 461, 'max_depth': 24, 'min_samples_split': 2, 'random_state': 42, 'min_samples_leaf': 6}. Best is trial 41 with value: 0.89375.\n[I 2024-02-22 17:23:11,219] Trial 78 finished with value: 0.803125 and parameters: {'n_estimators': 680, 'max_depth': 16, 'min_samples_split': 5, 'random_state': 42, 'min_samples_leaf': 5}. Best is trial 41 with value: 0.89375.\n[I 2024-02-22 17:23:25,743] Trial 79 finished with value: 0.690625 and parameters: {'n_estimators': 617, 'max_depth': 19, 'min_samples_split': 6, 'random_state': 42, 'min_samples_leaf': 16}. Best is trial 41 with value: 0.89375.\n[I 2024-02-22 17:23:40,431] Trial 80 finished with value: 0.890625 and parameters: {'n_estimators': 568, 'max_depth': 25, 'min_samples_split': 4, 'random_state': 42, 'min_samples_leaf': 1}. Best is trial 41 with value: 0.89375.\n[I 2024-02-22 17:23:57,458] Trial 81 finished with value: 0.8875 and parameters: {'n_estimators': 621, 'max_depth': 25, 'min_samples_split': 4, 'random_state': 42, 'min_samples_leaf': 1}. Best is trial 41 with value: 0.89375.\n[I 2024-02-22 17:24:12,655] Trial 82 finished with value: 0.8875 and parameters: {'n_estimators': 578, 'max_depth': 28, 'min_samples_split': 2, 'random_state': 42, 'min_samples_leaf': 1}. Best is trial 41 with value: 0.89375.\n[I 2024-02-22 17:24:29,110] Trial 83 finished with value: 0.86875 and parameters: {'n_estimators': 626, 'max_depth': 25, 'min_samples_split': 4, 'random_state': 42, 'min_samples_leaf': 3}. Best is trial 41 with value: 0.89375.\n[I 2024-02-22 17:24:43,000] Trial 84 finished with value: 0.884375 and parameters: {'n_estimators': 518, 'max_depth': 24, 'min_samples_split': 3, 'random_state': 42, 'min_samples_leaf': 2}. Best is trial 41 with value: 0.89375.\n[I 2024-02-22 17:24:59,227] Trial 85 finished with value: 0.878125 and parameters: {'n_estimators': 575, 'max_depth': 22, 'min_samples_split': 3, 'random_state': 42, 'min_samples_leaf': 1}. Best is trial 41 with value: 0.89375.\n[I 2024-02-22 17:25:17,670] Trial 86 finished with value: 0.865625 and parameters: {'n_estimators': 706, 'max_depth': 20, 'min_samples_split': 6, 'random_state': 42, 'min_samples_leaf': 3}. Best is trial 41 with value: 0.89375.\n[I 2024-02-22 17:25:33,221] Trial 87 finished with value: 0.71875 and parameters: {'n_estimators': 637, 'max_depth': 27, 'min_samples_split': 7, 'random_state': 42, 'min_samples_leaf': 12}. Best is trial 41 with value: 0.89375.\n[I 2024-02-22 17:25:46,821] Trial 88 finished with value: 0.88125 and parameters: {'n_estimators': 479, 'max_depth': 23, 'min_samples_split': 4, 'random_state': 42, 'min_samples_leaf': 2}. Best is trial 41 with value: 0.89375.\n[I 2024-02-22 17:26:01,915] Trial 89 finished with value: 0.784375 and parameters: {'n_estimators': 597, 'max_depth': 17, 'min_samples_split': 2, 'random_state': 42, 'min_samples_leaf': 7}. Best is trial 41 with value: 0.89375.\n[I 2024-02-22 17:26:18,426] Trial 90 finished with value: 0.840625 and parameters: {'n_estimators': 668, 'max_depth': 25, 'min_samples_split': 5, 'random_state': 42, 'min_samples_leaf': 4}. Best is trial 41 with value: 0.89375.\n[I 2024-02-22 17:26:33,710] Trial 91 finished with value: 0.8875 and parameters: {'n_estimators': 574, 'max_depth': 28, 'min_samples_split': 2, 'random_state': 42, 'min_samples_leaf': 1}. Best is trial 41 with value: 0.89375.\n[I 2024-02-22 17:26:47,592] Trial 92 finished with value: 0.8875 and parameters: {'n_estimators': 533, 'max_depth': 26, 'min_samples_split': 4, 'random_state': 42, 'min_samples_leaf': 1}. Best is trial 41 with value: 0.89375.\n[I 2024-02-22 17:27:02,190] Trial 93 finished with value: 0.878125 and parameters: {'n_estimators': 570, 'max_depth': 28, 'min_samples_split': 2, 'random_state': 42, 'min_samples_leaf': 2}. Best is trial 41 with value: 0.89375.\n[I 2024-02-22 17:27:19,082] Trial 94 finished with value: 0.86875 and parameters: {'n_estimators': 688, 'max_depth': 30, 'min_samples_split': 3, 'random_state': 42, 'min_samples_leaf': 3}. Best is trial 41 with value: 0.89375.\n[I 2024-02-22 17:27:37,602] Trial 95 finished with value: 0.8875 and parameters: {'n_estimators': 719, 'max_depth': 24, 'min_samples_split': 2, 'random_state': 42, 'min_samples_leaf': 1}. Best is trial 41 with value: 0.89375.\n[I 2024-02-22 17:27:51,894] Trial 96 finished with value: 0.696875 and parameters: {'n_estimators': 595, 'max_depth': 21, 'min_samples_split': 25, 'random_state': 42, 'min_samples_leaf': 2}. Best is trial 41 with value: 0.89375.\n[I 2024-02-22 17:28:08,595] Trial 97 finished with value: 0.86875 and parameters: {'n_estimators': 658, 'max_depth': 22, 'min_samples_split': 5, 'random_state': 42, 'min_samples_leaf': 1}. Best is trial 41 with value: 0.89375.\n[I 2024-02-22 17:28:17,335] Trial 98 finished with value: 0.840625 and parameters: {'n_estimators': 357, 'max_depth': 23, 'min_samples_split': 4, 'random_state': 42, 'min_samples_leaf': 4}. Best is trial 41 with value: 0.89375.\n[I 2024-02-22 17:28:30,480] Trial 99 finished with value: 0.859375 and parameters: {'n_estimators': 533, 'max_depth': 27, 'min_samples_split': 6, 'random_state': 42, 'min_samples_leaf': 3}. Best is trial 41 with value: 0.89375.\n",
          "output_type": "stream"
        },
        {
          "name": "stdout",
          "text": "Best params found : {'n_estimators': 803, 'max_depth': 22, 'min_samples_split': 2, 'random_state': 42, 'min_samples_leaf': 1}\n",
          "output_type": "stream"
        },
        {
          "execution_count": 76,
          "output_type": "execute_result",
          "data": {
            "text/plain": "0.9875"
          },
          "metadata": {}
        }
      ]
    },
    {
      "cell_type": "code",
      "source": [
        "final_model = RandomForestClassifier(**best_params)\n",
        "final_model.fit(X_train_reduced, y_train)\n",
        "y_pred = final_model.predict(X_test_reduced)\n",
        "prediction_results['random forest'] = y_pred\n",
        "\n",
        "accuracy = accuracy_score(y_test, y_pred)\n",
        "precision = precision_score(y_test, y_pred, average='macro')\n",
        "recall = recall_score(y_test, y_pred, average='macro')\n",
        "f1 = f1_score(y_test, y_pred, average='macro')\n",
        "\n",
        "# # One-hot encoding for probability calculation (adapt if necessary)\n",
        "# y_test_onehot = pd.get_dummies(y_test, prefix='label_')  # Assuming 'label_' prefix for clarity\n",
        "# y_pred_onehot = pd.get_dummies(y_pred, prefix='label_')\n",
        "\n",
        "# # ROC AUC score with multiclass handling\n",
        "# roc_auc_macro = roc_auc_score(y_test_onehot, y_pred_onehot, average='macro', multi_class='ovo')  # Specify 'ovo' or 'ovr'\n",
        "\n",
        "print(\"accuracy:\", accuracy)\n",
        "print(\"recall:\", recall)\n",
        "print(\"precision:\", precision)\n",
        "print(\"f1-score:\", f1)\n",
        "# print('roc_auc: ', roc_auc_macro)"
      ],
      "metadata": {
        "id": "8GqCRlKpZoci",
        "outputId": "30f74b02-bcb5-423d-a9fa-c1e6125d5e2d",
        "execution": {
          "iopub.status.busy": "2024-02-22T17:29:06.219384Z",
          "iopub.execute_input": "2024-02-22T17:29:06.220619Z",
          "iopub.status.idle": "2024-02-22T17:29:10.171634Z",
          "shell.execute_reply.started": "2024-02-22T17:29:06.220530Z",
          "shell.execute_reply": "2024-02-22T17:29:10.170437Z"
        },
        "trusted": true
      },
      "execution_count": null,
      "outputs": [
        {
          "name": "stdout",
          "text": "accuracy: 0.9875\nrecall: 0.9722222222222222\nprecision: 0.9629629629629629\nf1-score: 0.9666666666666666\n",
          "output_type": "stream"
        }
      ]
    },
    {
      "cell_type": "markdown",
      "source": [
        "## Gassian NB"
      ],
      "metadata": {
        "id": "NpVtbGMPZoci"
      }
    },
    {
      "cell_type": "markdown",
      "source": [
        "**Pre-tunning**"
      ],
      "metadata": {
        "id": "XuZYbincZoci"
      }
    },
    {
      "cell_type": "code",
      "source": [
        "from sklearn.naive_bayes import GaussianNB\n",
        "gnb = GaussianNB()\n",
        "gnb.fit(X_train_reduced, y_train)\n",
        "\n",
        "y_pred = gnb.predict(X_test_reduced)\n",
        "\n",
        "accuracy = accuracy_score(y_test, y_pred)\n",
        "precision = precision_score(y_test, y_pred, average='macro')\n",
        "recall = recall_score(y_test, y_pred, average='macro')\n",
        "f1 = f1_score(y_test, y_pred, average='macro')\n",
        "\n",
        "# # One-hot encoding for probability calculation (adapt if necessary)\n",
        "# y_test_onehot = pd.get_dummies(y_test, prefix='label_')  # Assuming 'label_' prefix for clarity\n",
        "# y_pred_onehot = pd.get_dummies(y_pred, prefix='label_')\n",
        "\n",
        "# # ROC AUC score with multiclass handling\n",
        "# roc_auc_macro = roc_auc_score(y_test_onehot, y_pred_onehot, average='macro', multi_class='ovo')  # Specify 'ovo' or 'ovr'\n",
        "\n",
        "print(\"accuracy:\", accuracy)\n",
        "print(\"recall:\", recall)\n",
        "print(\"precision:\", precision)\n",
        "print(\"f1-score:\", f1)\n",
        "# print('roc_auc: ', roc_auc_macro)\n"
      ],
      "metadata": {
        "id": "v5obTqtpZocj",
        "outputId": "8cf2abf0-528d-48f6-a6a0-3bb11401abe0",
        "execution": {
          "iopub.status.busy": "2024-02-22T17:29:33.191411Z",
          "iopub.execute_input": "2024-02-22T17:29:33.191856Z",
          "iopub.status.idle": "2024-02-22T17:29:33.219228Z",
          "shell.execute_reply.started": "2024-02-22T17:29:33.191822Z",
          "shell.execute_reply": "2024-02-22T17:29:33.217480Z"
        },
        "trusted": true
      },
      "execution_count": null,
      "outputs": [
        {
          "name": "stdout",
          "text": "accuracy: 0.9625\nrecall: 0.9444444444444444\nprecision: 0.9375\nf1-score: 0.9358465608465608\n",
          "output_type": "stream"
        }
      ]
    },
    {
      "cell_type": "markdown",
      "source": [
        "**Tunning**"
      ],
      "metadata": {
        "id": "li3_DxzxZocj"
      }
    },
    {
      "cell_type": "code",
      "source": [
        "def objective(trial):\n",
        "    hyperparams = {\n",
        "        'var_smoothing': trial.suggest_float('var_smoothing', 1e-9, 1e-4, log = True)\n",
        "    }\n",
        "\n",
        "    model = GaussianNB(**hyperparams)\n",
        "    scores = cross_val_score(model, X_train_reduced, y_train, cv = kf,scoring = 'accuracy')\n",
        "    return np.mean(scores)"
      ],
      "metadata": {
        "id": "piCtTw6FZocj",
        "execution": {
          "iopub.status.busy": "2024-02-22T17:29:38.241887Z",
          "iopub.execute_input": "2024-02-22T17:29:38.242376Z",
          "iopub.status.idle": "2024-02-22T17:29:38.249328Z",
          "shell.execute_reply.started": "2024-02-22T17:29:38.242343Z",
          "shell.execute_reply": "2024-02-22T17:29:38.248101Z"
        },
        "trusted": true
      },
      "execution_count": null,
      "outputs": []
    },
    {
      "cell_type": "code",
      "source": [
        "study = optuna.create_study(direction = 'maximize')\n",
        "study.optimize(objective, n_trials = 100)\n",
        "best_params = study.best_params\n",
        "print(\"Best params found :\", best_params)\n",
        "\n",
        "final_model = GaussianNB(**best_params)\n",
        "final_model.fit(X_train_reduced, y_train)\n",
        "y_pred = final_model.predict(X_test_reduced)\n",
        "prediction_results['gnb'] = y_pred\n",
        "\n",
        "accuracy = accuracy_score(y_test, y_pred)\n",
        "precision = precision_score(y_test, y_pred, average='macro')\n",
        "recall = recall_score(y_test, y_pred, average='macro')\n",
        "f1 = f1_score(y_test, y_pred, average='macro')\n",
        "\n",
        "# # One-hot encoding for probability calculation (adapt if necessary)\n",
        "# y_test_onehot = pd.get_dummies(y_test, prefix='label_')  # Assuming 'label_' prefix for clarity\n",
        "# y_pred_onehot = pd.get_dummies(y_pred, prefix='label_')\n",
        "\n",
        "# # ROC AUC score with multiclass handling\n",
        "# roc_auc_macro = roc_auc_score(y_test_onehot, y_pred_onehot, average='macro', multi_class='ovo')  # Specify 'ovo' or 'ovr'\n",
        "\n",
        "print(\"accuracy:\", accuracy)\n",
        "print(\"recall:\", recall)\n",
        "print(\"precision:\", precision)\n",
        "print(\"f1-score:\", f1)\n",
        "# print('roc_auc: ', roc_auc_macro)"
      ],
      "metadata": {
        "id": "rP15cDwgZocj",
        "outputId": "0db99e8f-d153-4106-92b9-86637213dbe4",
        "execution": {
          "iopub.status.busy": "2024-02-22T17:29:41.951436Z",
          "iopub.execute_input": "2024-02-22T17:29:41.951909Z",
          "iopub.status.idle": "2024-02-22T17:29:47.596222Z",
          "shell.execute_reply.started": "2024-02-22T17:29:41.951842Z",
          "shell.execute_reply": "2024-02-22T17:29:47.594775Z"
        },
        "trusted": true
      },
      "execution_count": null,
      "outputs": [
        {
          "name": "stderr",
          "text": "[I 2024-02-22 17:29:41,956] A new study created in memory with name: no-name-201350b9-eb3f-4517-a19a-2853cd29f26f\n[I 2024-02-22 17:29:42,007] Trial 0 finished with value: 0.75 and parameters: {'var_smoothing': 6.87287014361247e-08}. Best is trial 0 with value: 0.75.\n[I 2024-02-22 17:29:42,053] Trial 1 finished with value: 0.75 and parameters: {'var_smoothing': 8.554264720751723e-09}. Best is trial 0 with value: 0.75.\n[I 2024-02-22 17:29:42,098] Trial 2 finished with value: 0.753125 and parameters: {'var_smoothing': 4.445158635002531e-05}. Best is trial 2 with value: 0.753125.\n[I 2024-02-22 17:29:42,141] Trial 3 finished with value: 0.75 and parameters: {'var_smoothing': 6.775099066868784e-07}. Best is trial 2 with value: 0.753125.\n[I 2024-02-22 17:29:42,185] Trial 4 finished with value: 0.75 and parameters: {'var_smoothing': 8.56997087560243e-07}. Best is trial 2 with value: 0.753125.\n[I 2024-02-22 17:29:42,230] Trial 5 finished with value: 0.7625 and parameters: {'var_smoothing': 6.901033158515219e-05}. Best is trial 5 with value: 0.7625.\n[I 2024-02-22 17:29:42,283] Trial 6 finished with value: 0.75 and parameters: {'var_smoothing': 2.4831358951804132e-06}. Best is trial 5 with value: 0.7625.\n[I 2024-02-22 17:29:42,335] Trial 7 finished with value: 0.75 and parameters: {'var_smoothing': 3.140369034299142e-08}. Best is trial 5 with value: 0.7625.\n[I 2024-02-22 17:29:42,381] Trial 8 finished with value: 0.75 and parameters: {'var_smoothing': 5.0029865237266705e-08}. Best is trial 5 with value: 0.7625.\n[I 2024-02-22 17:29:42,425] Trial 9 finished with value: 0.75 and parameters: {'var_smoothing': 1.3784305245457437e-05}. Best is trial 5 with value: 0.7625.\n[I 2024-02-22 17:29:42,475] Trial 10 finished with value: 0.75 and parameters: {'var_smoothing': 1.0418672109560866e-09}. Best is trial 5 with value: 0.7625.\n[I 2024-02-22 17:29:42,529] Trial 11 finished with value: 0.765625 and parameters: {'var_smoothing': 9.722340365165496e-05}. Best is trial 11 with value: 0.765625.\n[I 2024-02-22 17:29:42,590] Trial 12 finished with value: 0.7625 and parameters: {'var_smoothing': 7.959340461217884e-05}. Best is trial 11 with value: 0.765625.\n[I 2024-02-22 17:29:42,648] Trial 13 finished with value: 0.75 and parameters: {'var_smoothing': 6.655522328009091e-06}. Best is trial 11 with value: 0.765625.\n[I 2024-02-22 17:29:42,706] Trial 14 finished with value: 0.75 and parameters: {'var_smoothing': 2.4099465869818763e-05}. Best is trial 11 with value: 0.765625.\n[I 2024-02-22 17:29:42,765] Trial 15 finished with value: 0.765625 and parameters: {'var_smoothing': 9.774112568181164e-05}. Best is trial 11 with value: 0.765625.\n[I 2024-02-22 17:29:42,821] Trial 16 finished with value: 0.75 and parameters: {'var_smoothing': 5.23227926597094e-06}. Best is trial 11 with value: 0.765625.\n[I 2024-02-22 17:29:42,878] Trial 17 finished with value: 0.75 and parameters: {'var_smoothing': 2.0824429969045857e-06}. Best is trial 11 with value: 0.765625.\n[I 2024-02-22 17:29:42,935] Trial 18 finished with value: 0.75 and parameters: {'var_smoothing': 2.0025141883167573e-07}. Best is trial 11 with value: 0.765625.\n[I 2024-02-22 17:29:42,994] Trial 19 finished with value: 0.75 and parameters: {'var_smoothing': 1.5815754377447232e-05}. Best is trial 11 with value: 0.765625.\n[I 2024-02-22 17:29:43,053] Trial 20 finished with value: 0.765625 and parameters: {'var_smoothing': 9.645124367471391e-05}. Best is trial 11 with value: 0.765625.\n[I 2024-02-22 17:29:43,113] Trial 21 finished with value: 0.7625 and parameters: {'var_smoothing': 8.671102732113029e-05}. Best is trial 11 with value: 0.765625.\n[I 2024-02-22 17:29:43,175] Trial 22 finished with value: 0.75 and parameters: {'var_smoothing': 2.9120449229863157e-05}. Best is trial 11 with value: 0.765625.\n[I 2024-02-22 17:29:43,234] Trial 23 finished with value: 0.75 and parameters: {'var_smoothing': 8.07006186278221e-06}. Best is trial 11 with value: 0.765625.\n[I 2024-02-22 17:29:43,295] Trial 24 finished with value: 0.75 and parameters: {'var_smoothing': 3.2077569342159265e-05}. Best is trial 11 with value: 0.765625.\n[I 2024-02-22 17:29:43,353] Trial 25 finished with value: 0.7625 and parameters: {'var_smoothing': 8.609427363611659e-05}. Best is trial 11 with value: 0.765625.\n[I 2024-02-22 17:29:43,411] Trial 26 finished with value: 0.75 and parameters: {'var_smoothing': 3.1084455361033615e-06}. Best is trial 11 with value: 0.765625.\n[I 2024-02-22 17:29:43,471] Trial 27 finished with value: 0.75 and parameters: {'var_smoothing': 1.5032512553066085e-05}. Best is trial 11 with value: 0.765625.\n[I 2024-02-22 17:29:43,533] Trial 28 finished with value: 0.75 and parameters: {'var_smoothing': 3.9142172141810184e-05}. Best is trial 11 with value: 0.765625.\n[I 2024-02-22 17:29:43,593] Trial 29 finished with value: 0.75 and parameters: {'var_smoothing': 1.1205184110009996e-06}. Best is trial 11 with value: 0.765625.\n[I 2024-02-22 17:29:43,652] Trial 30 finished with value: 0.75 and parameters: {'var_smoothing': 2.1773309399259328e-07}. Best is trial 11 with value: 0.765625.\n[I 2024-02-22 17:29:43,709] Trial 31 finished with value: 0.7625 and parameters: {'var_smoothing': 9.076948515944475e-05}. Best is trial 11 with value: 0.765625.\n[I 2024-02-22 17:29:43,780] Trial 32 finished with value: 0.753125 and parameters: {'var_smoothing': 4.4107514551971855e-05}. Best is trial 11 with value: 0.765625.\n[I 2024-02-22 17:29:43,852] Trial 33 finished with value: 0.765625 and parameters: {'var_smoothing': 9.99564633298526e-05}. Best is trial 11 with value: 0.765625.\n[I 2024-02-22 17:29:43,916] Trial 34 finished with value: 0.75 and parameters: {'var_smoothing': 1.8403778444186955e-05}. Best is trial 11 with value: 0.765625.\n[I 2024-02-22 17:29:43,978] Trial 35 finished with value: 0.75 and parameters: {'var_smoothing': 6.6007817790721475e-09}. Best is trial 11 with value: 0.765625.\n[I 2024-02-22 17:29:44,038] Trial 36 finished with value: 0.75625 and parameters: {'var_smoothing': 4.771555676374207e-05}. Best is trial 11 with value: 0.765625.\n[I 2024-02-22 17:29:44,099] Trial 37 finished with value: 0.75 and parameters: {'var_smoothing': 7.497531637889024e-06}. Best is trial 11 with value: 0.765625.\n[I 2024-02-22 17:29:44,163] Trial 38 finished with value: 0.75 and parameters: {'var_smoothing': 1.1466990652980497e-05}. Best is trial 11 with value: 0.765625.\n[I 2024-02-22 17:29:44,225] Trial 39 finished with value: 0.75625 and parameters: {'var_smoothing': 5.409797097017651e-05}. Best is trial 11 with value: 0.765625.\n[I 2024-02-22 17:29:44,287] Trial 40 finished with value: 0.75 and parameters: {'var_smoothing': 5.265241961044679e-07}. Best is trial 11 with value: 0.765625.\n[I 2024-02-22 17:29:44,347] Trial 41 finished with value: 0.765625 and parameters: {'var_smoothing': 9.68201532847429e-05}. Best is trial 11 with value: 0.765625.\n[I 2024-02-22 17:29:44,411] Trial 42 finished with value: 0.75 and parameters: {'var_smoothing': 2.7619430345312728e-05}. Best is trial 11 with value: 0.765625.\n[I 2024-02-22 17:29:44,479] Trial 43 finished with value: 0.765625 and parameters: {'var_smoothing': 9.940559369532398e-05}. Best is trial 11 with value: 0.765625.\n[I 2024-02-22 17:29:44,544] Trial 44 finished with value: 0.75625 and parameters: {'var_smoothing': 5.225516622973378e-05}. Best is trial 11 with value: 0.765625.\n[I 2024-02-22 17:29:44,596] Trial 45 finished with value: 0.75625 and parameters: {'var_smoothing': 5.640344120644362e-05}. Best is trial 11 with value: 0.765625.\n[I 2024-02-22 17:29:44,646] Trial 46 finished with value: 0.75 and parameters: {'var_smoothing': 2.6092319235292623e-05}. Best is trial 11 with value: 0.765625.\n[I 2024-02-22 17:29:44,699] Trial 47 finished with value: 0.75 and parameters: {'var_smoothing': 4.304868770628e-06}. Best is trial 11 with value: 0.765625.\n[I 2024-02-22 17:29:44,750] Trial 48 finished with value: 0.75 and parameters: {'var_smoothing': 1.2139739046724833e-05}. Best is trial 11 with value: 0.765625.\n[I 2024-02-22 17:29:44,810] Trial 49 finished with value: 0.75 and parameters: {'var_smoothing': 4.661580294812413e-09}. Best is trial 11 with value: 0.765625.\n[I 2024-02-22 17:29:44,864] Trial 50 finished with value: 0.7625 and parameters: {'var_smoothing': 6.442164932864088e-05}. Best is trial 11 with value: 0.765625.\n[I 2024-02-22 17:29:44,916] Trial 51 finished with value: 0.7625 and parameters: {'var_smoothing': 9.407861869694006e-05}. Best is trial 11 with value: 0.765625.\n[I 2024-02-22 17:29:44,969] Trial 52 finished with value: 0.7625 and parameters: {'var_smoothing': 9.24965229025478e-05}. Best is trial 11 with value: 0.765625.\n[I 2024-02-22 17:29:45,023] Trial 53 finished with value: 0.75 and parameters: {'var_smoothing': 2.0405964037229648e-05}. Best is trial 11 with value: 0.765625.\n[I 2024-02-22 17:29:45,075] Trial 54 finished with value: 0.75 and parameters: {'var_smoothing': 3.960164892551365e-05}. Best is trial 11 with value: 0.765625.\n[I 2024-02-22 17:29:45,126] Trial 55 finished with value: 0.7625 and parameters: {'var_smoothing': 6.21437949073575e-05}. Best is trial 11 with value: 0.765625.\n[I 2024-02-22 17:29:45,178] Trial 56 finished with value: 0.75 and parameters: {'var_smoothing': 2.0215938470511447e-08}. Best is trial 11 with value: 0.765625.\n[I 2024-02-22 17:29:45,231] Trial 57 finished with value: 0.75 and parameters: {'var_smoothing': 3.5349062611750836e-05}. Best is trial 11 with value: 0.765625.\n[I 2024-02-22 17:29:45,283] Trial 58 finished with value: 0.75 and parameters: {'var_smoothing': 2.248592383161896e-05}. Best is trial 11 with value: 0.765625.\n[I 2024-02-22 17:29:45,333] Trial 59 finished with value: 0.75 and parameters: {'var_smoothing': 9.809080660252907e-06}. Best is trial 11 with value: 0.765625.\n[I 2024-02-22 17:29:45,385] Trial 60 finished with value: 0.765625 and parameters: {'var_smoothing': 9.962626010094192e-05}. Best is trial 11 with value: 0.765625.\n[I 2024-02-22 17:29:45,436] Trial 61 finished with value: 0.7625 and parameters: {'var_smoothing': 9.367205277082243e-05}. Best is trial 11 with value: 0.765625.\n[I 2024-02-22 17:29:45,486] Trial 62 finished with value: 0.7625 and parameters: {'var_smoothing': 6.660349670419068e-05}. Best is trial 11 with value: 0.765625.\n[I 2024-02-22 17:29:45,539] Trial 63 finished with value: 0.75625 and parameters: {'var_smoothing': 4.5873684707812014e-05}. Best is trial 11 with value: 0.765625.\n[I 2024-02-22 17:29:45,591] Trial 64 finished with value: 0.75 and parameters: {'var_smoothing': 3.491710410604752e-05}. Best is trial 11 with value: 0.765625.\n[I 2024-02-22 17:29:45,652] Trial 65 finished with value: 0.765625 and parameters: {'var_smoothing': 9.696696625166168e-05}. Best is trial 11 with value: 0.765625.\n[I 2024-02-22 17:29:45,711] Trial 66 finished with value: 0.75 and parameters: {'var_smoothing': 1.1267581194047055e-07}. Best is trial 11 with value: 0.765625.\n[I 2024-02-22 17:29:45,772] Trial 67 finished with value: 0.759375 and parameters: {'var_smoothing': 6.057897803973222e-05}. Best is trial 11 with value: 0.765625.\n[I 2024-02-22 17:29:45,830] Trial 68 finished with value: 0.75 and parameters: {'var_smoothing': 1.9086884927423457e-05}. Best is trial 11 with value: 0.765625.\n[I 2024-02-22 17:29:45,884] Trial 69 finished with value: 0.75 and parameters: {'var_smoothing': 1.6640604593807956e-06}. Best is trial 11 with value: 0.765625.\n[I 2024-02-22 17:29:45,936] Trial 70 finished with value: 0.7625 and parameters: {'var_smoothing': 6.67580981653469e-05}. Best is trial 11 with value: 0.765625.\n[I 2024-02-22 17:29:45,987] Trial 71 finished with value: 0.765625 and parameters: {'var_smoothing': 9.650438693884645e-05}. Best is trial 11 with value: 0.765625.\n[I 2024-02-22 17:29:46,039] Trial 72 finished with value: 0.75 and parameters: {'var_smoothing': 3.3486186722679206e-05}. Best is trial 11 with value: 0.765625.\n[I 2024-02-22 17:29:46,092] Trial 73 finished with value: 0.7625 and parameters: {'var_smoothing': 6.661363134994988e-05}. Best is trial 11 with value: 0.765625.\n[I 2024-02-22 17:29:46,144] Trial 74 finished with value: 0.765625 and parameters: {'var_smoothing': 9.774131803868722e-05}. Best is trial 11 with value: 0.765625.\n[I 2024-02-22 17:29:46,197] Trial 75 finished with value: 0.75625 and parameters: {'var_smoothing': 4.975771952087419e-05}. Best is trial 11 with value: 0.765625.\n[I 2024-02-22 17:29:46,250] Trial 76 finished with value: 0.75 and parameters: {'var_smoothing': 3.0099720775766357e-05}. Best is trial 11 with value: 0.765625.\n[I 2024-02-22 17:29:46,303] Trial 77 finished with value: 0.7625 and parameters: {'var_smoothing': 7.328817346738609e-05}. Best is trial 11 with value: 0.765625.\n[I 2024-02-22 17:29:46,355] Trial 78 finished with value: 0.753125 and parameters: {'var_smoothing': 4.4318818500058825e-05}. Best is trial 11 with value: 0.765625.\n[I 2024-02-22 17:29:46,408] Trial 79 finished with value: 0.75 and parameters: {'var_smoothing': 1.6163848916504071e-09}. Best is trial 11 with value: 0.765625.\n[I 2024-02-22 17:29:46,464] Trial 80 finished with value: 0.75 and parameters: {'var_smoothing': 2.4340123570020218e-05}. Best is trial 11 with value: 0.765625.\n[I 2024-02-22 17:29:46,528] Trial 81 finished with value: 0.7625 and parameters: {'var_smoothing': 9.607783539246261e-05}. Best is trial 11 with value: 0.765625.\n[I 2024-02-22 17:29:46,594] Trial 82 finished with value: 0.7625 and parameters: {'var_smoothing': 7.329949070432917e-05}. Best is trial 11 with value: 0.765625.\n[I 2024-02-22 17:29:46,653] Trial 83 finished with value: 0.765625 and parameters: {'var_smoothing': 9.912060140481537e-05}. Best is trial 11 with value: 0.765625.\n[I 2024-02-22 17:29:46,713] Trial 84 finished with value: 0.75625 and parameters: {'var_smoothing': 4.6513477598418143e-05}. Best is trial 11 with value: 0.765625.\n[I 2024-02-22 17:29:46,772] Trial 85 finished with value: 0.75 and parameters: {'var_smoothing': 1.511206773594994e-05}. Best is trial 11 with value: 0.765625.\n[I 2024-02-22 17:29:46,833] Trial 86 finished with value: 0.7625 and parameters: {'var_smoothing': 7.193217513168163e-05}. Best is trial 11 with value: 0.765625.\n[I 2024-02-22 17:29:46,889] Trial 87 finished with value: 0.75625 and parameters: {'var_smoothing': 5.0884236855130686e-05}. Best is trial 11 with value: 0.765625.\n[I 2024-02-22 17:29:46,940] Trial 88 finished with value: 0.7625 and parameters: {'var_smoothing': 7.613580307517304e-05}. Best is trial 11 with value: 0.765625.\n[I 2024-02-22 17:29:46,991] Trial 89 finished with value: 0.75 and parameters: {'var_smoothing': 3.1785715083900345e-05}. Best is trial 11 with value: 0.765625.\n[I 2024-02-22 17:29:47,047] Trial 90 finished with value: 0.75 and parameters: {'var_smoothing': 3.946105505027816e-05}. Best is trial 11 with value: 0.765625.\n[I 2024-02-22 17:29:47,099] Trial 91 finished with value: 0.765625 and parameters: {'var_smoothing': 9.835480559635075e-05}. Best is trial 11 with value: 0.765625.\n[I 2024-02-22 17:29:47,154] Trial 92 finished with value: 0.75625 and parameters: {'var_smoothing': 5.6704150424842515e-05}. Best is trial 11 with value: 0.765625.\n[I 2024-02-22 17:29:47,215] Trial 93 finished with value: 0.765625 and parameters: {'var_smoothing': 9.868484745419546e-05}. Best is trial 11 with value: 0.765625.\n[I 2024-02-22 17:29:47,272] Trial 94 finished with value: 0.7625 and parameters: {'var_smoothing': 7.800465829695897e-05}. Best is trial 11 with value: 0.765625.\n[I 2024-02-22 17:29:47,331] Trial 95 finished with value: 0.75625 and parameters: {'var_smoothing': 5.790126578491205e-05}. Best is trial 11 with value: 0.765625.\n[I 2024-02-22 17:29:47,387] Trial 96 finished with value: 0.75 and parameters: {'var_smoothing': 4.024442896990312e-05}. Best is trial 11 with value: 0.765625.\n[I 2024-02-22 17:29:47,449] Trial 97 finished with value: 0.75 and parameters: {'var_smoothing': 2.6355366145287755e-05}. Best is trial 11 with value: 0.765625.\n[I 2024-02-22 17:29:47,507] Trial 98 finished with value: 0.7625 and parameters: {'var_smoothing': 7.62764094716158e-05}. Best is trial 11 with value: 0.765625.\n[I 2024-02-22 17:29:47,569] Trial 99 finished with value: 0.75625 and parameters: {'var_smoothing': 5.323922988960249e-05}. Best is trial 11 with value: 0.765625.\n",
          "output_type": "stream"
        },
        {
          "name": "stdout",
          "text": "Best params found : {'var_smoothing': 9.722340365165496e-05}\naccuracy: 0.9625\nrecall: 0.9444444444444444\nprecision: 0.9375\nf1-score: 0.9358465608465608\n",
          "output_type": "stream"
        }
      ]
    },
    {
      "cell_type": "markdown",
      "source": [
        "## Logistic Regression"
      ],
      "metadata": {
        "id": "S4cNMCl9Zocj"
      }
    },
    {
      "cell_type": "markdown",
      "source": [
        "**Normal**"
      ],
      "metadata": {
        "id": "0Qah5jSPZock"
      }
    },
    {
      "cell_type": "code",
      "source": [
        "lr = LogisticRegression()\n",
        "lr.fit(X_train_reduced, y_train)\n",
        "y_pred = lr.predict(X_test_reduced)\n",
        "\n",
        "accuracy = accuracy_score(y_test, y_pred)\n",
        "precision = precision_score(y_test, y_pred, average='macro')\n",
        "recall = recall_score(y_test, y_pred, average='macro')\n",
        "f1 = f1_score(y_test, y_pred, average='macro')\n",
        "\n",
        "# # One-hot encoding for probability calculation (adapt if necessary)\n",
        "# y_test_onehot = pd.get_dummies(y_test, prefix='label_')  # Assuming 'label_' prefix for clarity\n",
        "# y_pred_onehot = pd.get_dummies(y_pred, prefix='label_')\n",
        "\n",
        "# # ROC AUC score with multiclass handling\n",
        "# roc_auc_macro = roc_auc_score(y_test_onehot, y_pred_onehot, average='macro', multi_class='ovo')  # Specify 'ovo' or 'ovr'\n",
        "\n",
        "print(\"accuracy:\", accuracy)\n",
        "print(\"recall:\", recall)\n",
        "print(\"precision:\", precision)\n",
        "print(\"f1-score:\", f1)\n",
        "# print('roc_auc: ', roc_auc_macro)"
      ],
      "metadata": {
        "id": "ZRsfyCKJZock",
        "outputId": "f9094762-c411-4a2e-f9ff-422ef7d05d87",
        "execution": {
          "iopub.status.busy": "2024-02-22T17:32:09.413823Z",
          "iopub.execute_input": "2024-02-22T17:32:09.414281Z",
          "iopub.status.idle": "2024-02-22T17:32:09.683293Z",
          "shell.execute_reply.started": "2024-02-22T17:32:09.414250Z",
          "shell.execute_reply": "2024-02-22T17:32:09.681762Z"
        },
        "trusted": true
      },
      "execution_count": null,
      "outputs": [
        {
          "name": "stdout",
          "text": "accuracy: 1.0\nrecall: 1.0\nprecision: 1.0\nf1-score: 1.0\n",
          "output_type": "stream"
        }
      ]
    },
    {
      "cell_type": "markdown",
      "source": [
        "**Tunning**"
      ],
      "metadata": {
        "id": "PgX6otSxZock"
      }
    },
    {
      "cell_type": "code",
      "source": [
        "import optuna\n",
        "from sklearn.model_selection import cross_val_score\n",
        "import warnings\n",
        "warnings.filterwarnings('ignore')\n",
        "\n",
        "\n",
        "def objective(trial):\n",
        "    hyperparams = {\n",
        "        'solver': trial.suggest_categorical('solver', ['lbfgs', 'liblinear', 'newton-cg', 'saga']),\n",
        "        'penalty': trial.suggest_categorical('penalty', ['l2']),\n",
        "        'multi_class': trial.suggest_categorical('multi_class', ['ovr']),\n",
        "        'C': trial.suggest_loguniform(\"C\", 1e-3, 1e3),\n",
        "        'n_jobs': -1\n",
        "    }\n",
        "\n",
        "    model = LogisticRegression(**hyperparams)\n",
        "    scores = cross_val_score(model, X_train_reduced,\n",
        "                             y_train, cv=kf, scoring='accuracy')\n",
        "    return np.mean(scores)"
      ],
      "metadata": {
        "id": "lNshzG12Zock",
        "execution": {
          "iopub.status.busy": "2024-02-22T17:32:14.664042Z",
          "iopub.execute_input": "2024-02-22T17:32:14.664453Z",
          "iopub.status.idle": "2024-02-22T17:32:14.673212Z",
          "shell.execute_reply.started": "2024-02-22T17:32:14.664423Z",
          "shell.execute_reply": "2024-02-22T17:32:14.671987Z"
        },
        "trusted": true
      },
      "execution_count": null,
      "outputs": []
    },
    {
      "cell_type": "code",
      "source": [
        "study = optuna.create_study(direction = 'maximize')\n",
        "study.optimize(objective, n_trials = 100)\n",
        "best_params = study.best_params\n",
        "print(\"Best params found :\", best_params)\n",
        "\n",
        "final_model = LogisticRegression(**best_params)\n",
        "final_model.fit(X_train_reduced, y_train)\n",
        "y_pred = final_model.predict(X_test_reduced)\n",
        "prediction_results['logistic regression'] = y_pred\n",
        "\n",
        "accuracy = accuracy_score(y_test, y_pred)\n",
        "precision = precision_score(y_test, y_pred, average='macro')\n",
        "recall = recall_score(y_test, y_pred, average='macro')\n",
        "f1 = f1_score(y_test, y_pred, average='macro')\n",
        "\n",
        "# # One-hot encoding for probability calculation (adapt if necessary)\n",
        "# y_test_onehot = pd.get_dummies(y_test, prefix='label_')  # Assuming 'label_' prefix for clarity\n",
        "# y_pred_onehot = pd.get_dummies(y_pred, prefix='label_')\n",
        "\n",
        "# # ROC AUC score with multiclass handling\n",
        "# roc_auc_macro = roc_auc_score(y_test_onehot, y_pred_onehot, average='macro', multi_class='ovo')  # Specify 'ovo' or 'ovr'\n",
        "\n",
        "print(\"accuracy:\", accuracy)\n",
        "print(\"recall:\", recall)\n",
        "print(\"precision:\", precision)\n",
        "print(\"f1-score:\", f1)\n",
        "# print('roc_auc: ', roc_auc_macro)"
      ],
      "metadata": {
        "id": "vUMJwEDjZocl",
        "outputId": "8f6d21a5-918b-46e2-f044-41e71a038cd2",
        "execution": {
          "iopub.status.busy": "2024-02-22T17:32:18.289311Z",
          "iopub.execute_input": "2024-02-22T17:32:18.289775Z",
          "iopub.status.idle": "2024-02-22T17:49:35.128518Z",
          "shell.execute_reply.started": "2024-02-22T17:32:18.289742Z",
          "shell.execute_reply": "2024-02-22T17:49:35.126380Z"
        },
        "trusted": true
      },
      "execution_count": null,
      "outputs": [
        {
          "name": "stderr",
          "text": "[I 2024-02-22 17:32:18,295] A new study created in memory with name: no-name-822965c7-a075-4095-8b2e-1f7cd56314e7\n[I 2024-02-22 17:32:38,445] Trial 0 finished with value: 0.9 and parameters: {'solver': 'liblinear', 'penalty': 'l2', 'multi_class': 'ovr', 'C': 645.0371118691144}. Best is trial 0 with value: 0.9.\n/opt/conda/lib/python3.10/site-packages/sklearn/linear_model/_logistic.py:458: ConvergenceWarning: lbfgs failed to converge (status=1):\nSTOP: TOTAL NO. of ITERATIONS REACHED LIMIT.\n\nIncrease the number of iterations (max_iter) or scale the data as shown in:\n    https://scikit-learn.org/stable/modules/preprocessing.html\nPlease also refer to the documentation for alternative solver options:\n    https://scikit-learn.org/stable/modules/linear_model.html#logistic-regression\n  n_iter_i = _check_optimize_result(\n/opt/conda/lib/python3.10/site-packages/sklearn/linear_model/_logistic.py:458: ConvergenceWarning: lbfgs failed to converge (status=1):\nSTOP: TOTAL NO. of ITERATIONS REACHED LIMIT.\n\nIncrease the number of iterations (max_iter) or scale the data as shown in:\n    https://scikit-learn.org/stable/modules/preprocessing.html\nPlease also refer to the documentation for alternative solver options:\n    https://scikit-learn.org/stable/modules/linear_model.html#logistic-regression\n  n_iter_i = _check_optimize_result(\n/opt/conda/lib/python3.10/site-packages/sklearn/linear_model/_logistic.py:458: ConvergenceWarning: lbfgs failed to converge (status=1):\nSTOP: TOTAL NO. of ITERATIONS REACHED LIMIT.\n\nIncrease the number of iterations (max_iter) or scale the data as shown in:\n    https://scikit-learn.org/stable/modules/preprocessing.html\nPlease also refer to the documentation for alternative solver options:\n    https://scikit-learn.org/stable/modules/linear_model.html#logistic-regression\n  n_iter_i = _check_optimize_result(\n/opt/conda/lib/python3.10/site-packages/sklearn/linear_model/_logistic.py:458: ConvergenceWarning: lbfgs failed to converge (status=1):\nSTOP: TOTAL NO. of ITERATIONS REACHED LIMIT.\n\nIncrease the number of iterations (max_iter) or scale the data as shown in:\n    https://scikit-learn.org/stable/modules/preprocessing.html\nPlease also refer to the documentation for alternative solver options:\n    https://scikit-learn.org/stable/modules/linear_model.html#logistic-regression\n  n_iter_i = _check_optimize_result(\n[I 2024-02-22 17:32:41,488] Trial 1 finished with value: 0.95 and parameters: {'solver': 'lbfgs', 'penalty': 'l2', 'multi_class': 'ovr', 'C': 2.7149989452026757}. Best is trial 1 with value: 0.95.\n[I 2024-02-22 17:32:42,772] Trial 2 finished with value: 0.803125 and parameters: {'solver': 'saga', 'penalty': 'l2', 'multi_class': 'ovr', 'C': 0.7526039625796949}. Best is trial 1 with value: 0.95.\n[I 2024-02-22 17:32:57,186] Trial 3 finished with value: 0.8875 and parameters: {'solver': 'liblinear', 'penalty': 'l2', 'multi_class': 'ovr', 'C': 0.08370590296160613}. Best is trial 1 with value: 0.95.\n[I 2024-02-22 17:32:58,515] Trial 4 finished with value: 0.80625 and parameters: {'solver': 'saga', 'penalty': 'l2', 'multi_class': 'ovr', 'C': 0.13972487715951554}. Best is trial 1 with value: 0.95.\n[I 2024-02-22 17:32:59,873] Trial 5 finished with value: 0.80625 and parameters: {'solver': 'saga', 'penalty': 'l2', 'multi_class': 'ovr', 'C': 0.06767190632677188}. Best is trial 1 with value: 0.95.\n[I 2024-02-22 17:33:01,546] Trial 6 finished with value: 0.953125 and parameters: {'solver': 'lbfgs', 'penalty': 'l2', 'multi_class': 'ovr', 'C': 0.0015879269733746475}. Best is trial 6 with value: 0.953125.\n[I 2024-02-22 17:33:13,316] Trial 7 finished with value: 0.853125 and parameters: {'solver': 'liblinear', 'penalty': 'l2', 'multi_class': 'ovr', 'C': 0.013465440829288404}. Best is trial 6 with value: 0.953125.\n[I 2024-02-22 17:33:30,897] Trial 8 finished with value: 0.909375 and parameters: {'solver': 'liblinear', 'penalty': 'l2', 'multi_class': 'ovr', 'C': 5.27524545723078}. Best is trial 6 with value: 0.953125.\n[I 2024-02-22 17:33:32,125] Trial 9 finished with value: 0.803125 and parameters: {'solver': 'saga', 'penalty': 'l2', 'multi_class': 'ovr', 'C': 41.013927113938514}. Best is trial 6 with value: 0.953125.\n[I 2024-02-22 17:33:33,838] Trial 10 finished with value: 0.95625 and parameters: {'solver': 'lbfgs', 'penalty': 'l2', 'multi_class': 'ovr', 'C': 0.0015791166719398499}. Best is trial 10 with value: 0.95625.\n[I 2024-02-22 17:33:35,515] Trial 11 finished with value: 0.953125 and parameters: {'solver': 'lbfgs', 'penalty': 'l2', 'multi_class': 'ovr', 'C': 0.0012050122940607385}. Best is trial 10 with value: 0.95625.\n[I 2024-02-22 17:33:37,185] Trial 12 finished with value: 0.953125 and parameters: {'solver': 'lbfgs', 'penalty': 'l2', 'multi_class': 'ovr', 'C': 0.0011968042751197344}. Best is trial 10 with value: 0.95625.\n/opt/conda/lib/python3.10/site-packages/sklearn/utils/optimize.py:210: ConvergenceWarning: newton-cg failed to converge. Increase the number of iterations.\n  warnings.warn(\n/opt/conda/lib/python3.10/site-packages/sklearn/utils/optimize.py:210: ConvergenceWarning: newton-cg failed to converge. Increase the number of iterations.\n  warnings.warn(\n/opt/conda/lib/python3.10/site-packages/sklearn/utils/optimize.py:210: ConvergenceWarning: newton-cg failed to converge. Increase the number of iterations.\n  warnings.warn(\n[I 2024-02-22 17:33:51,468] Trial 13 finished with value: 0.95625 and parameters: {'solver': 'newton-cg', 'penalty': 'l2', 'multi_class': 'ovr', 'C': 0.005642124964801299}. Best is trial 10 with value: 0.95625.\n/opt/conda/lib/python3.10/site-packages/sklearn/utils/optimize.py:210: ConvergenceWarning: newton-cg failed to converge. Increase the number of iterations.\n  warnings.warn(\n[I 2024-02-22 17:34:05,201] Trial 14 finished with value: 0.95625 and parameters: {'solver': 'newton-cg', 'penalty': 'l2', 'multi_class': 'ovr', 'C': 0.009119729841715237}. Best is trial 10 with value: 0.95625.\n[I 2024-02-22 17:34:19,063] Trial 15 finished with value: 0.95625 and parameters: {'solver': 'newton-cg', 'penalty': 'l2', 'multi_class': 'ovr', 'C': 0.009177680895760432}. Best is trial 10 with value: 0.95625.\n[I 2024-02-22 17:34:33,086] Trial 16 finished with value: 0.95625 and parameters: {'solver': 'newton-cg', 'penalty': 'l2', 'multi_class': 'ovr', 'C': 0.010951567980333969}. Best is trial 10 with value: 0.95625.\n[I 2024-02-22 17:34:44,642] Trial 17 finished with value: 0.946875 and parameters: {'solver': 'newton-cg', 'penalty': 'l2', 'multi_class': 'ovr', 'C': 0.2800830963516135}. Best is trial 10 with value: 0.95625.\n[I 2024-02-22 17:34:46,375] Trial 18 finished with value: 0.95 and parameters: {'solver': 'lbfgs', 'penalty': 'l2', 'multi_class': 'ovr', 'C': 0.03122329252631339}. Best is trial 10 with value: 0.95625.\n[I 2024-02-22 17:35:00,657] Trial 19 finished with value: 0.95625 and parameters: {'solver': 'newton-cg', 'penalty': 'l2', 'multi_class': 'ovr', 'C': 0.0027041042304201722}. Best is trial 10 with value: 0.95625.\n[I 2024-02-22 17:35:02,273] Trial 20 finished with value: 0.95 and parameters: {'solver': 'lbfgs', 'penalty': 'l2', 'multi_class': 'ovr', 'C': 38.90224237809073}. Best is trial 10 with value: 0.95625.\n[I 2024-02-22 17:35:16,096] Trial 21 finished with value: 0.95625 and parameters: {'solver': 'newton-cg', 'penalty': 'l2', 'multi_class': 'ovr', 'C': 0.004850189732792352}. Best is trial 10 with value: 0.95625.\n[I 2024-02-22 17:35:29,824] Trial 22 finished with value: 0.95625 and parameters: {'solver': 'newton-cg', 'penalty': 'l2', 'multi_class': 'ovr', 'C': 0.020171031958304317}. Best is trial 10 with value: 0.95625.\n[I 2024-02-22 17:35:43,269] Trial 23 finished with value: 0.95625 and parameters: {'solver': 'newton-cg', 'penalty': 'l2', 'multi_class': 'ovr', 'C': 0.003967351371269943}. Best is trial 10 with value: 0.95625.\n[I 2024-02-22 17:35:56,119] Trial 24 finished with value: 0.953125 and parameters: {'solver': 'newton-cg', 'penalty': 'l2', 'multi_class': 'ovr', 'C': 0.0372543829017033}. Best is trial 10 with value: 0.95625.\n[I 2024-02-22 17:36:10,128] Trial 25 finished with value: 0.95625 and parameters: {'solver': 'newton-cg', 'penalty': 'l2', 'multi_class': 'ovr', 'C': 0.005913405866144288}. Best is trial 10 with value: 0.95625.\n[I 2024-02-22 17:36:21,542] Trial 26 finished with value: 0.946875 and parameters: {'solver': 'newton-cg', 'penalty': 'l2', 'multi_class': 'ovr', 'C': 0.264390426005624}. Best is trial 10 with value: 0.95625.\n[I 2024-02-22 17:36:23,239] Trial 27 finished with value: 0.95625 and parameters: {'solver': 'lbfgs', 'penalty': 'l2', 'multi_class': 'ovr', 'C': 0.003538038630997192}. Best is trial 10 with value: 0.95625.\n[I 2024-02-22 17:36:37,371] Trial 28 finished with value: 0.953125 and parameters: {'solver': 'newton-cg', 'penalty': 'l2', 'multi_class': 'ovr', 'C': 0.001099933119547936}. Best is trial 10 with value: 0.95625.\n[I 2024-02-22 17:36:38,948] Trial 29 finished with value: 0.915625 and parameters: {'solver': 'lbfgs', 'penalty': 'l2', 'multi_class': 'ovr', 'C': 178.42227688506273}. Best is trial 10 with value: 0.95625.\n[I 2024-02-22 17:36:55,219] Trial 30 finished with value: 0.9125 and parameters: {'solver': 'liblinear', 'penalty': 'l2', 'multi_class': 'ovr', 'C': 0.9128158514076917}. Best is trial 10 with value: 0.95625.\n[I 2024-02-22 17:37:09,784] Trial 31 finished with value: 0.95625 and parameters: {'solver': 'newton-cg', 'penalty': 'l2', 'multi_class': 'ovr', 'C': 0.008666756245406535}. Best is trial 10 with value: 0.95625.\n[I 2024-02-22 17:37:23,604] Trial 32 finished with value: 0.953125 and parameters: {'solver': 'newton-cg', 'penalty': 'l2', 'multi_class': 'ovr', 'C': 0.01948733345811166}. Best is trial 10 with value: 0.95625.\n[I 2024-02-22 17:37:38,219] Trial 33 finished with value: 0.95625 and parameters: {'solver': 'newton-cg', 'penalty': 'l2', 'multi_class': 'ovr', 'C': 0.008187744948294258}. Best is trial 10 with value: 0.95625.\n[I 2024-02-22 17:37:52,142] Trial 34 finished with value: 0.95625 and parameters: {'solver': 'newton-cg', 'penalty': 'l2', 'multi_class': 'ovr', 'C': 0.002415631127317908}. Best is trial 10 with value: 0.95625.\n[I 2024-02-22 17:37:53,485] Trial 35 finished with value: 0.803125 and parameters: {'solver': 'saga', 'penalty': 'l2', 'multi_class': 'ovr', 'C': 2.427266472093241}. Best is trial 10 with value: 0.95625.\n[I 2024-02-22 17:38:06,053] Trial 36 finished with value: 0.953125 and parameters: {'solver': 'newton-cg', 'penalty': 'l2', 'multi_class': 'ovr', 'C': 0.06145161609436451}. Best is trial 10 with value: 0.95625.\n[I 2024-02-22 17:38:08,207] Trial 37 finished with value: 0.95 and parameters: {'solver': 'lbfgs', 'penalty': 'l2', 'multi_class': 'ovr', 'C': 0.14295187630499742}. Best is trial 10 with value: 0.95625.\n[I 2024-02-22 17:38:20,819] Trial 38 finished with value: 0.86875 and parameters: {'solver': 'liblinear', 'penalty': 'l2', 'multi_class': 'ovr', 'C': 0.02222931164670441}. Best is trial 10 with value: 0.95625.\n[I 2024-02-22 17:38:22,135] Trial 39 finished with value: 0.803125 and parameters: {'solver': 'saga', 'penalty': 'l2', 'multi_class': 'ovr', 'C': 0.05357460396845124}. Best is trial 10 with value: 0.95625.\n[I 2024-02-22 17:38:36,006] Trial 40 finished with value: 0.95625 and parameters: {'solver': 'newton-cg', 'penalty': 'l2', 'multi_class': 'ovr', 'C': 0.0023789723989973864}. Best is trial 10 with value: 0.95625.\n[I 2024-02-22 17:38:50,178] Trial 41 finished with value: 0.95625 and parameters: {'solver': 'newton-cg', 'penalty': 'l2', 'multi_class': 'ovr', 'C': 0.008247400377125185}. Best is trial 10 with value: 0.95625.\n[I 2024-02-22 17:39:04,224] Trial 42 finished with value: 0.95625 and parameters: {'solver': 'newton-cg', 'penalty': 'l2', 'multi_class': 'ovr', 'C': 0.012889346878705805}. Best is trial 10 with value: 0.95625.\n[I 2024-02-22 17:39:18,764] Trial 43 finished with value: 0.95625 and parameters: {'solver': 'newton-cg', 'penalty': 'l2', 'multi_class': 'ovr', 'C': 0.012325205370070603}. Best is trial 10 with value: 0.95625.\n[I 2024-02-22 17:39:33,147] Trial 44 finished with value: 0.95625 and parameters: {'solver': 'newton-cg', 'penalty': 'l2', 'multi_class': 'ovr', 'C': 0.005075995889660775}. Best is trial 10 with value: 0.95625.\n[I 2024-02-22 17:39:47,876] Trial 45 finished with value: 0.8875 and parameters: {'solver': 'liblinear', 'penalty': 'l2', 'multi_class': 'ovr', 'C': 0.10461417419528106}. Best is trial 10 with value: 0.95625.\n[I 2024-02-22 17:39:49,650] Trial 46 finished with value: 0.95625 and parameters: {'solver': 'lbfgs', 'penalty': 'l2', 'multi_class': 'ovr', 'C': 0.0016401283399485578}. Best is trial 10 with value: 0.95625.\n[I 2024-02-22 17:39:50,981] Trial 47 finished with value: 0.803125 and parameters: {'solver': 'saga', 'penalty': 'l2', 'multi_class': 'ovr', 'C': 0.33515620792886924}. Best is trial 10 with value: 0.95625.\n[I 2024-02-22 17:40:04,565] Trial 48 finished with value: 0.953125 and parameters: {'solver': 'newton-cg', 'penalty': 'l2', 'multi_class': 'ovr', 'C': 0.03468782690998308}. Best is trial 10 with value: 0.95625.\n[I 2024-02-22 17:40:05,973] Trial 49 finished with value: 0.8375 and parameters: {'solver': 'lbfgs', 'penalty': 'l2', 'multi_class': 'ovr', 'C': 776.7633763014461}. Best is trial 10 with value: 0.95625.\n[I 2024-02-22 17:40:20,515] Trial 50 finished with value: 0.95625 and parameters: {'solver': 'newton-cg', 'penalty': 'l2', 'multi_class': 'ovr', 'C': 0.002057674116508329}. Best is trial 10 with value: 0.95625.\n[I 2024-02-22 17:40:34,545] Trial 51 finished with value: 0.95625 and parameters: {'solver': 'newton-cg', 'penalty': 'l2', 'multi_class': 'ovr', 'C': 0.0023986328960638095}. Best is trial 10 with value: 0.95625.\n[I 2024-02-22 17:40:49,033] Trial 52 finished with value: 0.95625 and parameters: {'solver': 'newton-cg', 'penalty': 'l2', 'multi_class': 'ovr', 'C': 0.003818137369725631}. Best is trial 10 with value: 0.95625.\n[I 2024-02-22 17:41:02,829] Trial 53 finished with value: 0.95625 and parameters: {'solver': 'newton-cg', 'penalty': 'l2', 'multi_class': 'ovr', 'C': 0.014000243698368019}. Best is trial 10 with value: 0.95625.\n[I 2024-02-22 17:41:16,975] Trial 54 finished with value: 0.95625 and parameters: {'solver': 'newton-cg', 'penalty': 'l2', 'multi_class': 'ovr', 'C': 0.0071999375509319945}. Best is trial 10 with value: 0.95625.\n[I 2024-02-22 17:41:31,683] Trial 55 finished with value: 0.95625 and parameters: {'solver': 'newton-cg', 'penalty': 'l2', 'multi_class': 'ovr', 'C': 0.003960777652030833}. Best is trial 10 with value: 0.95625.\n[I 2024-02-22 17:41:33,372] Trial 56 finished with value: 0.953125 and parameters: {'solver': 'lbfgs', 'penalty': 'l2', 'multi_class': 'ovr', 'C': 0.00124571219491811}. Best is trial 10 with value: 0.95625.\n[I 2024-02-22 17:41:47,035] Trial 57 finished with value: 0.95625 and parameters: {'solver': 'newton-cg', 'penalty': 'l2', 'multi_class': 'ovr', 'C': 0.02386343089137229}. Best is trial 10 with value: 0.95625.\n[I 2024-02-22 17:41:55,503] Trial 58 finished with value: 0.8125 and parameters: {'solver': 'liblinear', 'penalty': 'l2', 'multi_class': 'ovr', 'C': 0.002502678258358783}. Best is trial 10 with value: 0.95625.\n[I 2024-02-22 17:41:56,842] Trial 59 finished with value: 0.803125 and parameters: {'solver': 'saga', 'penalty': 'l2', 'multi_class': 'ovr', 'C': 14.317310841948627}. Best is trial 10 with value: 0.95625.\n[I 2024-02-22 17:42:09,937] Trial 60 finished with value: 0.953125 and parameters: {'solver': 'newton-cg', 'penalty': 'l2', 'multi_class': 'ovr', 'C': 0.04183873238189876}. Best is trial 10 with value: 0.95625.\n[I 2024-02-22 17:42:24,143] Trial 61 finished with value: 0.95625 and parameters: {'solver': 'newton-cg', 'penalty': 'l2', 'multi_class': 'ovr', 'C': 0.005845178562522997}. Best is trial 10 with value: 0.95625.\n[I 2024-02-22 17:42:38,235] Trial 62 finished with value: 0.95625 and parameters: {'solver': 'newton-cg', 'penalty': 'l2', 'multi_class': 'ovr', 'C': 0.010927003508490072}. Best is trial 10 with value: 0.95625.\n[I 2024-02-22 17:42:52,344] Trial 63 finished with value: 0.95625 and parameters: {'solver': 'newton-cg', 'penalty': 'l2', 'multi_class': 'ovr', 'C': 0.0034748490231748387}. Best is trial 10 with value: 0.95625.\n[I 2024-02-22 17:43:06,620] Trial 64 finished with value: 0.953125 and parameters: {'solver': 'newton-cg', 'penalty': 'l2', 'multi_class': 'ovr', 'C': 0.001023251403646966}. Best is trial 10 with value: 0.95625.\n[I 2024-02-22 17:43:08,356] Trial 65 finished with value: 0.95625 and parameters: {'solver': 'lbfgs', 'penalty': 'l2', 'multi_class': 'ovr', 'C': 0.0046242200598248465}. Best is trial 10 with value: 0.95625.\n[I 2024-02-22 17:43:22,608] Trial 66 finished with value: 0.953125 and parameters: {'solver': 'newton-cg', 'penalty': 'l2', 'multi_class': 'ovr', 'C': 0.0017178403043221749}. Best is trial 10 with value: 0.95625.\n[I 2024-02-22 17:43:37,018] Trial 67 finished with value: 0.953125 and parameters: {'solver': 'newton-cg', 'penalty': 'l2', 'multi_class': 'ovr', 'C': 0.016029069520031757}. Best is trial 10 with value: 0.95625.\n[I 2024-02-22 17:43:38,774] Trial 68 finished with value: 0.95625 and parameters: {'solver': 'lbfgs', 'penalty': 'l2', 'multi_class': 'ovr', 'C': 0.006432916160676547}. Best is trial 10 with value: 0.95625.\n[I 2024-02-22 17:43:49,825] Trial 69 finished with value: 0.940625 and parameters: {'solver': 'newton-cg', 'penalty': 'l2', 'multi_class': 'ovr', 'C': 1.6243343830586308}. Best is trial 10 with value: 0.95625.\n[I 2024-02-22 17:43:59,666] Trial 70 finished with value: 0.89375 and parameters: {'solver': 'newton-cg', 'penalty': 'l2', 'multi_class': 'ovr', 'C': 287.24676938334653}. Best is trial 10 with value: 0.95625.\n[I 2024-02-22 17:44:13,667] Trial 71 finished with value: 0.95625 and parameters: {'solver': 'newton-cg', 'penalty': 'l2', 'multi_class': 'ovr', 'C': 0.022963188430139166}. Best is trial 10 with value: 0.95625.\n[I 2024-02-22 17:44:28,456] Trial 72 finished with value: 0.95625 and parameters: {'solver': 'newton-cg', 'penalty': 'l2', 'multi_class': 'ovr', 'C': 0.010158874968880672}. Best is trial 10 with value: 0.95625.\n[I 2024-02-22 17:44:43,343] Trial 73 finished with value: 0.95625 and parameters: {'solver': 'newton-cg', 'penalty': 'l2', 'multi_class': 'ovr', 'C': 0.0031925684958104177}. Best is trial 10 with value: 0.95625.\n[I 2024-02-22 17:44:58,050] Trial 74 finished with value: 0.95625 and parameters: {'solver': 'newton-cg', 'penalty': 'l2', 'multi_class': 'ovr', 'C': 0.006243175247027988}. Best is trial 10 with value: 0.95625.\n[I 2024-02-22 17:45:05,466] Trial 75 finished with value: 0.809375 and parameters: {'solver': 'liblinear', 'penalty': 'l2', 'multi_class': 'ovr', 'C': 0.001615211270052275}. Best is trial 10 with value: 0.95625.\n[I 2024-02-22 17:45:20,194] Trial 76 finished with value: 0.953125 and parameters: {'solver': 'newton-cg', 'penalty': 'l2', 'multi_class': 'ovr', 'C': 0.017717916217630896}. Best is trial 10 with value: 0.95625.\n[I 2024-02-22 17:45:21,584] Trial 77 finished with value: 0.80625 and parameters: {'solver': 'saga', 'penalty': 'l2', 'multi_class': 'ovr', 'C': 0.42761758349539236}. Best is trial 10 with value: 0.95625.\n[I 2024-02-22 17:45:23,399] Trial 78 finished with value: 0.95625 and parameters: {'solver': 'lbfgs', 'penalty': 'l2', 'multi_class': 'ovr', 'C': 0.002960029836550445}. Best is trial 10 with value: 0.95625.\n[I 2024-02-22 17:45:35,931] Trial 79 finished with value: 0.953125 and parameters: {'solver': 'newton-cg', 'penalty': 'l2', 'multi_class': 'ovr', 'C': 0.09834163665460226}. Best is trial 10 with value: 0.95625.\n[I 2024-02-22 17:45:48,519] Trial 80 finished with value: 0.95 and parameters: {'solver': 'newton-cg', 'penalty': 'l2', 'multi_class': 'ovr', 'C': 0.1882573322913505}. Best is trial 10 with value: 0.95625.\n[I 2024-02-22 17:46:02,108] Trial 81 finished with value: 0.95625 and parameters: {'solver': 'newton-cg', 'penalty': 'l2', 'multi_class': 'ovr', 'C': 0.009047971666898242}. Best is trial 10 with value: 0.95625.\n[I 2024-02-22 17:46:15,833] Trial 82 finished with value: 0.95625 and parameters: {'solver': 'newton-cg', 'penalty': 'l2', 'multi_class': 'ovr', 'C': 0.03301906718167721}. Best is trial 10 with value: 0.95625.\n[I 2024-02-22 17:46:29,866] Trial 83 finished with value: 0.95625 and parameters: {'solver': 'newton-cg', 'penalty': 'l2', 'multi_class': 'ovr', 'C': 0.004627441459349353}. Best is trial 10 with value: 0.95625.\n[I 2024-02-22 17:46:43,576] Trial 84 finished with value: 0.95625 and parameters: {'solver': 'newton-cg', 'penalty': 'l2', 'multi_class': 'ovr', 'C': 0.0014865889216901578}. Best is trial 10 with value: 0.95625.\n[I 2024-02-22 17:46:58,267] Trial 85 finished with value: 0.95625 and parameters: {'solver': 'newton-cg', 'penalty': 'l2', 'multi_class': 'ovr', 'C': 0.00843148663604356}. Best is trial 10 with value: 0.95625.\n[I 2024-02-22 17:47:12,387] Trial 86 finished with value: 0.95625 and parameters: {'solver': 'newton-cg', 'penalty': 'l2', 'multi_class': 'ovr', 'C': 0.0022560821787174002}. Best is trial 10 with value: 0.95625.\n[I 2024-02-22 17:47:14,192] Trial 87 finished with value: 0.953125 and parameters: {'solver': 'lbfgs', 'penalty': 'l2', 'multi_class': 'ovr', 'C': 0.00522823177187299}. Best is trial 10 with value: 0.95625.\n[I 2024-02-22 17:47:26,319] Trial 88 finished with value: 0.85625 and parameters: {'solver': 'liblinear', 'penalty': 'l2', 'multi_class': 'ovr', 'C': 0.013969618713191955}. Best is trial 10 with value: 0.95625.\n[I 2024-02-22 17:47:39,168] Trial 89 finished with value: 0.95 and parameters: {'solver': 'newton-cg', 'penalty': 'l2', 'multi_class': 'ovr', 'C': 0.05354633958895012}. Best is trial 10 with value: 0.95625.\n[I 2024-02-22 17:47:40,524] Trial 90 finished with value: 0.803125 and parameters: {'solver': 'saga', 'penalty': 'l2', 'multi_class': 'ovr', 'C': 0.0236620238598151}. Best is trial 10 with value: 0.95625.\n[I 2024-02-22 17:47:55,390] Trial 91 finished with value: 0.95625 and parameters: {'solver': 'newton-cg', 'penalty': 'l2', 'multi_class': 'ovr', 'C': 0.0033172534836133907}. Best is trial 10 with value: 0.95625.\n[I 2024-02-22 17:48:09,200] Trial 92 finished with value: 0.95625 and parameters: {'solver': 'newton-cg', 'penalty': 'l2', 'multi_class': 'ovr', 'C': 0.006799915219901153}. Best is trial 10 with value: 0.95625.\n[I 2024-02-22 17:48:23,771] Trial 93 finished with value: 0.95625 and parameters: {'solver': 'newton-cg', 'penalty': 'l2', 'multi_class': 'ovr', 'C': 0.010450793419105762}. Best is trial 10 with value: 0.95625.\n[I 2024-02-22 17:48:37,862] Trial 94 finished with value: 0.95625 and parameters: {'solver': 'newton-cg', 'penalty': 'l2', 'multi_class': 'ovr', 'C': 0.004453038547399659}. Best is trial 10 with value: 0.95625.\n[I 2024-02-22 17:48:51,914] Trial 95 finished with value: 0.95625 and parameters: {'solver': 'newton-cg', 'penalty': 'l2', 'multi_class': 'ovr', 'C': 0.002731562188615236}. Best is trial 10 with value: 0.95625.\n[I 2024-02-22 17:49:03,080] Trial 96 finished with value: 0.925 and parameters: {'solver': 'newton-cg', 'penalty': 'l2', 'multi_class': 'ovr', 'C': 7.795162123703032}. Best is trial 10 with value: 0.95625.\n[I 2024-02-22 17:49:04,866] Trial 97 finished with value: 0.95625 and parameters: {'solver': 'lbfgs', 'penalty': 'l2', 'multi_class': 'ovr', 'C': 0.001597652907125404}. Best is trial 10 with value: 0.95625.\n[I 2024-02-22 17:49:18,974] Trial 98 finished with value: 0.95625 and parameters: {'solver': 'newton-cg', 'penalty': 'l2', 'multi_class': 'ovr', 'C': 0.0020828831780831756}. Best is trial 10 with value: 0.95625.\n[I 2024-02-22 17:49:33,237] Trial 99 finished with value: 0.953125 and parameters: {'solver': 'newton-cg', 'penalty': 'l2', 'multi_class': 'ovr', 'C': 0.00101529873917141}. Best is trial 10 with value: 0.95625.\n",
          "output_type": "stream"
        },
        {
          "name": "stdout",
          "text": "Best params found : {'solver': 'lbfgs', 'penalty': 'l2', 'multi_class': 'ovr', 'C': 0.0015791166719398499}\naccuracy: 1.0\nrecall: 1.0\nprecision: 1.0\nf1-score: 1.0\n",
          "output_type": "stream"
        }
      ]
    },
    {
      "cell_type": "code",
      "source": [
        "# lr = LogisticRegression(multi_class='ovr', solver='liblinear')\n",
        "# lr.fit(X_train_reduced, y_train)\n",
        "# y_pred = lr.predict(X_test_reduced)"
      ],
      "metadata": {
        "id": "tb91KNhaZocl",
        "execution": {
          "iopub.status.busy": "2024-02-22T16:52:28.147690Z",
          "iopub.status.idle": "2024-02-22T16:52:28.148082Z",
          "shell.execute_reply.started": "2024-02-22T16:52:28.147890Z",
          "shell.execute_reply": "2024-02-22T16:52:28.147906Z"
        },
        "trusted": true
      },
      "execution_count": null,
      "outputs": []
    },
    {
      "cell_type": "markdown",
      "source": [
        "## KNN Classifier"
      ],
      "metadata": {
        "id": "IptOdjgIZocl"
      }
    },
    {
      "cell_type": "markdown",
      "source": [
        "**Normal**"
      ],
      "metadata": {
        "id": "JghGTocKZocl"
      }
    },
    {
      "cell_type": "code",
      "source": [
        "from sklearn.neighbors import KNeighborsClassifier\n",
        "\n",
        "knn = KNeighborsClassifier()\n",
        "knn.fit(X_train_reduced, y_train)\n",
        "y_pred = knn.predict(X_test_reduced)\n",
        "\n",
        "accuracy = accuracy_score(y_test, y_pred)\n",
        "precision = precision_score(y_test, y_pred, average='macro')\n",
        "recall = recall_score(y_test, y_pred, average='macro')\n",
        "f1 = f1_score(y_test, y_pred, average='macro')\n",
        "\n",
        "# # One-hot encoding for probability calculation (adapt if necessary)\n",
        "# y_test_onehot = pd.get_dummies(y_test, prefix='label_')  # Assuming 'label_' prefix for clarity\n",
        "# y_pred_onehot = pd.get_dummies(y_pred, prefix='label_')\n",
        "\n",
        "# # ROC AUC score with multiclass handling\n",
        "# roc_auc_macro = roc_auc_score(y_test_onehot, y_pred_onehot, average='macro', multi_class='ovo')  # Specify 'ovo' or 'ovr'\n",
        "\n",
        "print(\"accuracy:\", accuracy)\n",
        "print(\"recall:\", recall)\n",
        "print(\"precision:\", precision)\n",
        "print(\"f1-score:\", f1)\n",
        "# print('roc_auc: ', roc_auc_macro)\n"
      ],
      "metadata": {
        "id": "5UAG-mBdZocm",
        "outputId": "ffc2f51f-97ea-4cce-cbd5-8f35f64eb788",
        "execution": {
          "iopub.status.busy": "2024-02-22T17:30:21.234694Z",
          "iopub.execute_input": "2024-02-22T17:30:21.235215Z",
          "iopub.status.idle": "2024-02-22T17:30:21.266742Z",
          "shell.execute_reply.started": "2024-02-22T17:30:21.235179Z",
          "shell.execute_reply": "2024-02-22T17:30:21.265492Z"
        },
        "trusted": true
      },
      "execution_count": null,
      "outputs": [
        {
          "name": "stdout",
          "text": "accuracy: 0.9125\nrecall: 0.9375\nprecision: 0.9143518518518517\nf1-score: 0.9068783068783068\n",
          "output_type": "stream"
        }
      ]
    },
    {
      "cell_type": "markdown",
      "source": [
        "**Tunning**"
      ],
      "metadata": {
        "id": "yuPM396XZocm"
      }
    },
    {
      "cell_type": "code",
      "source": [
        "import optuna\n",
        "from sklearn.model_selection import cross_val_score\n",
        "import warnings\n",
        "warnings.filterwarnings('ignore')\n",
        "\n",
        "\n",
        "def objective(trial):\n",
        "    hyperparams = {\n",
        "        'n_neighbors': trial.suggest_int(\"n_neighbors\", 5, 100),\n",
        "        'weights': trial.suggest_categorical(\"weights\", [\"uniform\", \"distance\"]),\n",
        "        'metric': trial.suggest_categorical(\"metric\", [\"euclidean\", \"manhattan\", \"minkowski\"]),\n",
        "        'algorithm': trial.suggest_categorical('algorithm', ['auto', 'ball_tree', 'kd_tree', 'brute']),\n",
        "        'n_jobs': -1\n",
        "    }\n",
        "\n",
        "    # Create KNN model with tuned hyperparameters\n",
        "    model = KNeighborsClassifier(**hyperparams)\n",
        "    scores = cross_val_score(model, X_train_reduced,\n",
        "                             y_train, cv=kf, scoring='accuracy')\n",
        "    return np.mean(scores)"
      ],
      "metadata": {
        "id": "p4zO_c4aZocm",
        "execution": {
          "iopub.status.busy": "2024-02-22T17:30:26.000827Z",
          "iopub.execute_input": "2024-02-22T17:30:26.001295Z",
          "iopub.status.idle": "2024-02-22T17:30:26.011541Z",
          "shell.execute_reply.started": "2024-02-22T17:30:26.001257Z",
          "shell.execute_reply": "2024-02-22T17:30:26.010059Z"
        },
        "trusted": true
      },
      "execution_count": null,
      "outputs": []
    },
    {
      "cell_type": "code",
      "source": [
        "study = optuna.create_study(direction = 'maximize')\n",
        "study.optimize(objective, n_trials = 100)\n",
        "best_params = study.best_params\n",
        "print(\"Best params found :\", best_params)\n",
        "\n",
        "final_model =KNeighborsClassifier(**best_params)\n",
        "final_model.fit(X_train_reduced, y_train)\n",
        "y_pred = final_model.predict(X_test_reduced)\n",
        "prediction_results['KNN'] = y_pred\n",
        "\n",
        "accuracy = accuracy_score(y_test, y_pred)\n",
        "precision = precision_score(y_test, y_pred, average='macro')\n",
        "recall = recall_score(y_test, y_pred, average='macro')\n",
        "f1 = f1_score(y_test, y_pred, average='macro')\n",
        "\n",
        "# # One-hot encoding for probability calculation (adapt if necessary)\n",
        "# y_test_onehot = pd.get_dummies(y_test, prefix='label_')  # Assuming 'label_' prefix for clarity\n",
        "# y_pred_onehot = pd.get_dummies(y_pred, prefix='label_')\n",
        "\n",
        "# # ROC AUC score with multiclass handling\n",
        "# roc_auc_macro = roc_auc_score(y_test_onehot, y_pred_onehot, average='macro', multi_class='ovo')  # Specify 'ovo' or 'ovr'\n",
        "\n",
        "print(\"accuracy:\", accuracy)\n",
        "print(\"recall:\", recall)\n",
        "print(\"precision:\", precision)\n",
        "print(\"f1-score:\", f1)\n",
        "# print('roc_auc: ', roc_auc_macro)"
      ],
      "metadata": {
        "id": "08WuSIyEZocm",
        "outputId": "d42f8ec4-10b0-426f-d3c2-71bf07d7f37b",
        "execution": {
          "iopub.status.busy": "2024-02-22T17:30:30.489669Z",
          "iopub.execute_input": "2024-02-22T17:30:30.490451Z",
          "iopub.status.idle": "2024-02-22T17:30:38.501005Z",
          "shell.execute_reply.started": "2024-02-22T17:30:30.490397Z",
          "shell.execute_reply": "2024-02-22T17:30:38.499960Z"
        },
        "trusted": true
      },
      "execution_count": null,
      "outputs": [
        {
          "name": "stderr",
          "text": "[I 2024-02-22 17:30:30,498] A new study created in memory with name: no-name-6d004a6b-5805-413b-8257-dcebee4db3cd\n[I 2024-02-22 17:30:30,626] Trial 0 finished with value: 0.09375 and parameters: {'n_neighbors': 64, 'weights': 'uniform', 'metric': 'euclidean', 'algorithm': 'ball_tree'}. Best is trial 0 with value: 0.09375.\n[I 2024-02-22 17:30:30,731] Trial 1 finished with value: 0.634375 and parameters: {'n_neighbors': 44, 'weights': 'distance', 'metric': 'minkowski', 'algorithm': 'kd_tree'}. Best is trial 1 with value: 0.634375.\n[I 2024-02-22 17:30:30,861] Trial 2 finished with value: 0.153125 and parameters: {'n_neighbors': 51, 'weights': 'uniform', 'metric': 'euclidean', 'algorithm': 'kd_tree'}. Best is trial 1 with value: 0.634375.\n[I 2024-02-22 17:30:30,967] Trial 3 finished with value: 0.63125 and parameters: {'n_neighbors': 37, 'weights': 'distance', 'metric': 'minkowski', 'algorithm': 'ball_tree'}. Best is trial 1 with value: 0.634375.\n[I 2024-02-22 17:30:31,076] Trial 4 finished with value: 0.775 and parameters: {'n_neighbors': 10, 'weights': 'distance', 'metric': 'euclidean', 'algorithm': 'kd_tree'}. Best is trial 4 with value: 0.775.\n[I 2024-02-22 17:30:31,129] Trial 5 finished with value: 0.59375 and parameters: {'n_neighbors': 74, 'weights': 'distance', 'metric': 'euclidean', 'algorithm': 'brute'}. Best is trial 4 with value: 0.775.\n[I 2024-02-22 17:30:31,249] Trial 6 finished with value: 0.534375 and parameters: {'n_neighbors': 95, 'weights': 'distance', 'metric': 'manhattan', 'algorithm': 'kd_tree'}. Best is trial 4 with value: 0.775.\n[I 2024-02-22 17:30:31,360] Trial 7 finished with value: 0.709375 and parameters: {'n_neighbors': 18, 'weights': 'distance', 'metric': 'minkowski', 'algorithm': 'kd_tree'}. Best is trial 4 with value: 0.775.\n[I 2024-02-22 17:30:31,422] Trial 8 finished with value: 0.234375 and parameters: {'n_neighbors': 40, 'weights': 'uniform', 'metric': 'euclidean', 'algorithm': 'auto'}. Best is trial 4 with value: 0.775.\n[I 2024-02-22 17:30:31,561] Trial 9 finished with value: 0.140625 and parameters: {'n_neighbors': 56, 'weights': 'uniform', 'metric': 'minkowski', 'algorithm': 'kd_tree'}. Best is trial 4 with value: 0.775.\n[I 2024-02-22 17:30:31,615] Trial 10 finished with value: 0.83125 and parameters: {'n_neighbors': 6, 'weights': 'distance', 'metric': 'manhattan', 'algorithm': 'auto'}. Best is trial 10 with value: 0.83125.\n[I 2024-02-22 17:30:31,675] Trial 11 finished with value: 0.85625 and parameters: {'n_neighbors': 5, 'weights': 'distance', 'metric': 'manhattan', 'algorithm': 'auto'}. Best is trial 11 with value: 0.85625.\n[I 2024-02-22 17:30:31,736] Trial 12 finished with value: 0.671875 and parameters: {'n_neighbors': 23, 'weights': 'distance', 'metric': 'manhattan', 'algorithm': 'auto'}. Best is trial 11 with value: 0.85625.\n[I 2024-02-22 17:30:31,800] Trial 13 finished with value: 0.85625 and parameters: {'n_neighbors': 5, 'weights': 'distance', 'metric': 'manhattan', 'algorithm': 'auto'}. Best is trial 11 with value: 0.85625.\n[I 2024-02-22 17:30:31,860] Trial 14 finished with value: 0.6625 and parameters: {'n_neighbors': 26, 'weights': 'distance', 'metric': 'manhattan', 'algorithm': 'auto'}. Best is trial 11 with value: 0.85625.\n[I 2024-02-22 17:30:31,916] Trial 15 finished with value: 0.85625 and parameters: {'n_neighbors': 5, 'weights': 'distance', 'metric': 'manhattan', 'algorithm': 'auto'}. Best is trial 11 with value: 0.85625.\n[I 2024-02-22 17:30:31,969] Trial 16 finished with value: 0.66875 and parameters: {'n_neighbors': 30, 'weights': 'distance', 'metric': 'manhattan', 'algorithm': 'brute'}. Best is trial 11 with value: 0.85625.\n[I 2024-02-22 17:30:32,022] Trial 17 finished with value: 0.725 and parameters: {'n_neighbors': 16, 'weights': 'distance', 'metric': 'manhattan', 'algorithm': 'auto'}. Best is trial 11 with value: 0.85625.\n[I 2024-02-22 17:30:32,095] Trial 18 finished with value: 0.115625 and parameters: {'n_neighbors': 82, 'weights': 'uniform', 'metric': 'manhattan', 'algorithm': 'auto'}. Best is trial 11 with value: 0.85625.\n[I 2024-02-22 17:30:32,147] Trial 19 finished with value: 0.6625 and parameters: {'n_neighbors': 33, 'weights': 'distance', 'metric': 'manhattan', 'algorithm': 'auto'}. Best is trial 11 with value: 0.85625.\n[I 2024-02-22 17:30:32,265] Trial 20 finished with value: 0.73125 and parameters: {'n_neighbors': 15, 'weights': 'distance', 'metric': 'manhattan', 'algorithm': 'ball_tree'}. Best is trial 11 with value: 0.85625.\n[I 2024-02-22 17:30:32,312] Trial 21 finished with value: 0.85625 and parameters: {'n_neighbors': 5, 'weights': 'distance', 'metric': 'manhattan', 'algorithm': 'auto'}. Best is trial 11 with value: 0.85625.\n[I 2024-02-22 17:30:32,362] Trial 22 finished with value: 0.85625 and parameters: {'n_neighbors': 5, 'weights': 'distance', 'metric': 'manhattan', 'algorithm': 'auto'}. Best is trial 11 with value: 0.85625.\n[I 2024-02-22 17:30:32,416] Trial 23 finished with value: 0.684375 and parameters: {'n_neighbors': 21, 'weights': 'distance', 'metric': 'manhattan', 'algorithm': 'auto'}. Best is trial 11 with value: 0.85625.\n[I 2024-02-22 17:30:32,470] Trial 24 finished with value: 0.753125 and parameters: {'n_neighbors': 13, 'weights': 'distance', 'metric': 'manhattan', 'algorithm': 'brute'}. Best is trial 11 with value: 0.85625.\n[I 2024-02-22 17:30:32,524] Trial 25 finished with value: 0.6625 and parameters: {'n_neighbors': 26, 'weights': 'distance', 'metric': 'manhattan', 'algorithm': 'auto'}. Best is trial 11 with value: 0.85625.\n[I 2024-02-22 17:30:32,593] Trial 26 finished with value: 0.65 and parameters: {'n_neighbors': 12, 'weights': 'uniform', 'metric': 'manhattan', 'algorithm': 'auto'}. Best is trial 11 with value: 0.85625.\n[I 2024-02-22 17:30:32,645] Trial 27 finished with value: 0.696875 and parameters: {'n_neighbors': 20, 'weights': 'distance', 'metric': 'manhattan', 'algorithm': 'auto'}. Best is trial 11 with value: 0.85625.\n[I 2024-02-22 17:30:32,693] Trial 28 finished with value: 0.775 and parameters: {'n_neighbors': 10, 'weights': 'distance', 'metric': 'minkowski', 'algorithm': 'auto'}. Best is trial 11 with value: 0.85625.\n[I 2024-02-22 17:30:32,832] Trial 29 finished with value: 0.23125 and parameters: {'n_neighbors': 48, 'weights': 'uniform', 'metric': 'manhattan', 'algorithm': 'ball_tree'}. Best is trial 11 with value: 0.85625.\n[I 2024-02-22 17:30:32,892] Trial 30 finished with value: 0.59375 and parameters: {'n_neighbors': 71, 'weights': 'distance', 'metric': 'euclidean', 'algorithm': 'brute'}. Best is trial 11 with value: 0.85625.\n[I 2024-02-22 17:30:32,951] Trial 31 finished with value: 0.85625 and parameters: {'n_neighbors': 5, 'weights': 'distance', 'metric': 'manhattan', 'algorithm': 'auto'}. Best is trial 11 with value: 0.85625.\n[I 2024-02-22 17:30:33,000] Trial 32 finished with value: 0.83125 and parameters: {'n_neighbors': 6, 'weights': 'distance', 'metric': 'manhattan', 'algorithm': 'auto'}. Best is trial 11 with value: 0.85625.\n[I 2024-02-22 17:30:33,054] Trial 33 finished with value: 0.7625 and parameters: {'n_neighbors': 12, 'weights': 'distance', 'metric': 'manhattan', 'algorithm': 'auto'}. Best is trial 11 with value: 0.85625.\n[I 2024-02-22 17:30:33,176] Trial 34 finished with value: 0.575 and parameters: {'n_neighbors': 59, 'weights': 'distance', 'metric': 'manhattan', 'algorithm': 'ball_tree'}. Best is trial 11 with value: 0.85625.\n[I 2024-02-22 17:30:33,226] Trial 35 finished with value: 0.646875 and parameters: {'n_neighbors': 31, 'weights': 'distance', 'metric': 'minkowski', 'algorithm': 'auto'}. Best is trial 11 with value: 0.85625.\n[I 2024-02-22 17:30:33,280] Trial 36 finished with value: 0.709375 and parameters: {'n_neighbors': 18, 'weights': 'distance', 'metric': 'euclidean', 'algorithm': 'auto'}. Best is trial 11 with value: 0.85625.\n[I 2024-02-22 17:30:33,360] Trial 37 finished with value: 0.675 and parameters: {'n_neighbors': 11, 'weights': 'uniform', 'metric': 'manhattan', 'algorithm': 'auto'}. Best is trial 11 with value: 0.85625.\n[I 2024-02-22 17:30:33,488] Trial 38 finished with value: 0.675 and parameters: {'n_neighbors': 24, 'weights': 'distance', 'metric': 'manhattan', 'algorithm': 'ball_tree'}. Best is trial 11 with value: 0.85625.\n[I 2024-02-22 17:30:33,623] Trial 39 finished with value: 0.571875 and parameters: {'n_neighbors': 100, 'weights': 'distance', 'metric': 'euclidean', 'algorithm': 'kd_tree'}. Best is trial 11 with value: 0.85625.\n[I 2024-02-22 17:30:33,678] Trial 40 finished with value: 0.634375 and parameters: {'n_neighbors': 39, 'weights': 'distance', 'metric': 'minkowski', 'algorithm': 'brute'}. Best is trial 11 with value: 0.85625.\n[I 2024-02-22 17:30:33,728] Trial 41 finished with value: 0.828125 and parameters: {'n_neighbors': 7, 'weights': 'distance', 'metric': 'manhattan', 'algorithm': 'auto'}. Best is trial 11 with value: 0.85625.\n[I 2024-02-22 17:30:33,794] Trial 42 finished with value: 0.85625 and parameters: {'n_neighbors': 5, 'weights': 'distance', 'metric': 'manhattan', 'algorithm': 'auto'}. Best is trial 11 with value: 0.85625.\n[I 2024-02-22 17:30:33,886] Trial 43 finished with value: 0.725 and parameters: {'n_neighbors': 16, 'weights': 'distance', 'metric': 'manhattan', 'algorithm': 'auto'}. Best is trial 11 with value: 0.85625.\n[I 2024-02-22 17:30:33,953] Trial 44 finished with value: 0.778125 and parameters: {'n_neighbors': 9, 'weights': 'distance', 'metric': 'manhattan', 'algorithm': 'auto'}. Best is trial 11 with value: 0.85625.\n[I 2024-02-22 17:30:34,079] Trial 45 finished with value: 0.85625 and parameters: {'n_neighbors': 5, 'weights': 'distance', 'metric': 'manhattan', 'algorithm': 'kd_tree'}. Best is trial 11 with value: 0.85625.\n[I 2024-02-22 17:30:34,146] Trial 46 finished with value: 0.5875 and parameters: {'n_neighbors': 15, 'weights': 'uniform', 'metric': 'manhattan', 'algorithm': 'auto'}. Best is trial 11 with value: 0.85625.\n[I 2024-02-22 17:30:34,193] Trial 47 finished with value: 0.79375 and parameters: {'n_neighbors': 9, 'weights': 'distance', 'metric': 'euclidean', 'algorithm': 'auto'}. Best is trial 11 with value: 0.85625.\n[I 2024-02-22 17:30:34,241] Trial 48 finished with value: 0.6875 and parameters: {'n_neighbors': 20, 'weights': 'distance', 'metric': 'minkowski', 'algorithm': 'auto'}. Best is trial 11 with value: 0.85625.\n[I 2024-02-22 17:30:34,362] Trial 49 finished with value: 0.653125 and parameters: {'n_neighbors': 35, 'weights': 'distance', 'metric': 'manhattan', 'algorithm': 'kd_tree'}. Best is trial 11 with value: 0.85625.\n[I 2024-02-22 17:30:34,419] Trial 50 finished with value: 0.609375 and parameters: {'n_neighbors': 44, 'weights': 'distance', 'metric': 'manhattan', 'algorithm': 'auto'}. Best is trial 11 with value: 0.85625.\n[I 2024-02-22 17:30:34,470] Trial 51 finished with value: 0.85625 and parameters: {'n_neighbors': 5, 'weights': 'distance', 'metric': 'manhattan', 'algorithm': 'auto'}. Best is trial 11 with value: 0.85625.\n[I 2024-02-22 17:30:34,521] Trial 52 finished with value: 0.778125 and parameters: {'n_neighbors': 9, 'weights': 'distance', 'metric': 'manhattan', 'algorithm': 'auto'}. Best is trial 11 with value: 0.85625.\n[I 2024-02-22 17:30:34,573] Trial 53 finished with value: 0.73125 and parameters: {'n_neighbors': 15, 'weights': 'distance', 'metric': 'manhattan', 'algorithm': 'auto'}. Best is trial 11 with value: 0.85625.\n[I 2024-02-22 17:30:34,634] Trial 54 finished with value: 0.546875 and parameters: {'n_neighbors': 87, 'weights': 'distance', 'metric': 'manhattan', 'algorithm': 'auto'}. Best is trial 11 with value: 0.85625.\n[I 2024-02-22 17:30:34,689] Trial 55 finished with value: 0.753125 and parameters: {'n_neighbors': 13, 'weights': 'distance', 'metric': 'manhattan', 'algorithm': 'auto'}. Best is trial 11 with value: 0.85625.\n[I 2024-02-22 17:30:34,760] Trial 56 finished with value: 0.4625 and parameters: {'n_neighbors': 25, 'weights': 'uniform', 'metric': 'manhattan', 'algorithm': 'brute'}. Best is trial 11 with value: 0.85625.\n[I 2024-02-22 17:30:34,813] Trial 57 finished with value: 0.803125 and parameters: {'n_neighbors': 8, 'weights': 'distance', 'metric': 'manhattan', 'algorithm': 'auto'}. Best is trial 11 with value: 0.85625.\n[I 2024-02-22 17:30:34,865] Trial 58 finished with value: 0.85625 and parameters: {'n_neighbors': 5, 'weights': 'distance', 'metric': 'manhattan', 'algorithm': 'auto'}. Best is trial 11 with value: 0.85625.\n[I 2024-02-22 17:30:34,993] Trial 59 finished with value: 0.709375 and parameters: {'n_neighbors': 18, 'weights': 'distance', 'metric': 'manhattan', 'algorithm': 'ball_tree'}. Best is trial 11 with value: 0.85625.\n[I 2024-02-22 17:30:35,047] Trial 60 finished with value: 0.653125 and parameters: {'n_neighbors': 28, 'weights': 'distance', 'metric': 'minkowski', 'algorithm': 'auto'}. Best is trial 11 with value: 0.85625.\n[I 2024-02-22 17:30:35,107] Trial 61 finished with value: 0.85625 and parameters: {'n_neighbors': 5, 'weights': 'distance', 'metric': 'manhattan', 'algorithm': 'auto'}. Best is trial 11 with value: 0.85625.\n[I 2024-02-22 17:30:35,167] Trial 62 finished with value: 0.775 and parameters: {'n_neighbors': 11, 'weights': 'distance', 'metric': 'manhattan', 'algorithm': 'auto'}. Best is trial 11 with value: 0.85625.\n[I 2024-02-22 17:30:35,229] Trial 63 finished with value: 0.753125 and parameters: {'n_neighbors': 13, 'weights': 'distance', 'metric': 'manhattan', 'algorithm': 'auto'}. Best is trial 11 with value: 0.85625.\n[I 2024-02-22 17:30:35,289] Trial 64 finished with value: 0.778125 and parameters: {'n_neighbors': 9, 'weights': 'distance', 'metric': 'manhattan', 'algorithm': 'auto'}. Best is trial 11 with value: 0.85625.\n[I 2024-02-22 17:30:35,350] Trial 65 finished with value: 0.678125 and parameters: {'n_neighbors': 22, 'weights': 'distance', 'metric': 'manhattan', 'algorithm': 'auto'}. Best is trial 11 with value: 0.85625.\n[I 2024-02-22 17:30:35,423] Trial 66 finished with value: 0.521875 and parameters: {'n_neighbors': 18, 'weights': 'uniform', 'metric': 'euclidean', 'algorithm': 'auto'}. Best is trial 11 with value: 0.85625.\n[I 2024-02-22 17:30:35,482] Trial 67 finished with value: 0.803125 and parameters: {'n_neighbors': 8, 'weights': 'distance', 'metric': 'manhattan', 'algorithm': 'brute'}. Best is trial 11 with value: 0.85625.\n[I 2024-02-22 17:30:35,550] Trial 68 finished with value: 0.571875 and parameters: {'n_neighbors': 67, 'weights': 'distance', 'metric': 'manhattan', 'algorithm': 'auto'}. Best is trial 11 with value: 0.85625.\n[I 2024-02-22 17:30:35,614] Trial 69 finished with value: 0.775 and parameters: {'n_neighbors': 11, 'weights': 'distance', 'metric': 'manhattan', 'algorithm': 'auto'}. Best is trial 11 with value: 0.85625.\n[I 2024-02-22 17:30:35,745] Trial 70 finished with value: 0.7375 and parameters: {'n_neighbors': 14, 'weights': 'distance', 'metric': 'manhattan', 'algorithm': 'kd_tree'}. Best is trial 11 with value: 0.85625.\n[I 2024-02-22 17:30:35,868] Trial 71 finished with value: 0.83125 and parameters: {'n_neighbors': 6, 'weights': 'distance', 'metric': 'manhattan', 'algorithm': 'kd_tree'}. Best is trial 11 with value: 0.85625.\n[I 2024-02-22 17:30:35,996] Trial 72 finished with value: 0.83125 and parameters: {'n_neighbors': 6, 'weights': 'distance', 'metric': 'manhattan', 'algorithm': 'kd_tree'}. Best is trial 11 with value: 0.85625.\n[I 2024-02-22 17:30:36,120] Trial 73 finished with value: 0.85625 and parameters: {'n_neighbors': 5, 'weights': 'distance', 'metric': 'manhattan', 'algorithm': 'kd_tree'}. Best is trial 11 with value: 0.85625.\n[I 2024-02-22 17:30:36,246] Trial 74 finished with value: 0.775 and parameters: {'n_neighbors': 11, 'weights': 'distance', 'metric': 'manhattan', 'algorithm': 'kd_tree'}. Best is trial 11 with value: 0.85625.\n[I 2024-02-22 17:30:36,367] Trial 75 finished with value: 0.803125 and parameters: {'n_neighbors': 8, 'weights': 'distance', 'metric': 'manhattan', 'algorithm': 'ball_tree'}. Best is trial 11 with value: 0.85625.\n[I 2024-02-22 17:30:36,496] Trial 76 finished with value: 0.71875 and parameters: {'n_neighbors': 17, 'weights': 'distance', 'metric': 'manhattan', 'algorithm': 'kd_tree'}. Best is trial 11 with value: 0.85625.\n[I 2024-02-22 17:30:36,550] Trial 77 finished with value: 0.76875 and parameters: {'n_neighbors': 12, 'weights': 'distance', 'metric': 'euclidean', 'algorithm': 'auto'}. Best is trial 11 with value: 0.85625.\n[I 2024-02-22 17:30:36,602] Trial 78 finished with value: 0.8 and parameters: {'n_neighbors': 8, 'weights': 'distance', 'metric': 'minkowski', 'algorithm': 'auto'}. Best is trial 11 with value: 0.85625.\n[I 2024-02-22 17:30:36,679] Trial 79 finished with value: 0.784375 and parameters: {'n_neighbors': 5, 'weights': 'uniform', 'metric': 'manhattan', 'algorithm': 'auto'}. Best is trial 11 with value: 0.85625.\n[I 2024-02-22 17:30:36,741] Trial 80 finished with value: 0.58125 and parameters: {'n_neighbors': 55, 'weights': 'distance', 'metric': 'manhattan', 'algorithm': 'auto'}. Best is trial 11 with value: 0.85625.\n[I 2024-02-22 17:30:36,795] Trial 81 finished with value: 0.85625 and parameters: {'n_neighbors': 5, 'weights': 'distance', 'metric': 'manhattan', 'algorithm': 'auto'}. Best is trial 11 with value: 0.85625.\n[I 2024-02-22 17:30:36,849] Trial 82 finished with value: 0.784375 and parameters: {'n_neighbors': 10, 'weights': 'distance', 'metric': 'manhattan', 'algorithm': 'auto'}. Best is trial 11 with value: 0.85625.\n[I 2024-02-22 17:30:36,904] Trial 83 finished with value: 0.7375 and parameters: {'n_neighbors': 14, 'weights': 'distance', 'metric': 'manhattan', 'algorithm': 'auto'}. Best is trial 11 with value: 0.85625.\n[I 2024-02-22 17:30:36,955] Trial 84 finished with value: 0.828125 and parameters: {'n_neighbors': 7, 'weights': 'distance', 'metric': 'manhattan', 'algorithm': 'auto'}. Best is trial 11 with value: 0.85625.\n[I 2024-02-22 17:30:37,014] Trial 85 finished with value: 0.784375 and parameters: {'n_neighbors': 10, 'weights': 'distance', 'metric': 'manhattan', 'algorithm': 'auto'}. Best is trial 11 with value: 0.85625.\n[I 2024-02-22 17:30:37,071] Trial 86 finished with value: 0.725 and parameters: {'n_neighbors': 16, 'weights': 'distance', 'metric': 'manhattan', 'algorithm': 'brute'}. Best is trial 11 with value: 0.85625.\n[I 2024-02-22 17:30:37,127] Trial 87 finished with value: 0.696875 and parameters: {'n_neighbors': 20, 'weights': 'distance', 'metric': 'manhattan', 'algorithm': 'auto'}. Best is trial 11 with value: 0.85625.\n[I 2024-02-22 17:30:37,251] Trial 88 finished with value: 0.828125 and parameters: {'n_neighbors': 7, 'weights': 'distance', 'metric': 'manhattan', 'algorithm': 'ball_tree'}. Best is trial 11 with value: 0.85625.\n[I 2024-02-22 17:30:37,328] Trial 89 finished with value: 0.603125 and parameters: {'n_neighbors': 13, 'weights': 'uniform', 'metric': 'minkowski', 'algorithm': 'auto'}. Best is trial 11 with value: 0.85625.\n[I 2024-02-22 17:30:37,456] Trial 90 finished with value: 0.828125 and parameters: {'n_neighbors': 7, 'weights': 'distance', 'metric': 'manhattan', 'algorithm': 'kd_tree'}. Best is trial 11 with value: 0.85625.\n[I 2024-02-22 17:30:37,520] Trial 91 finished with value: 0.83125 and parameters: {'n_neighbors': 6, 'weights': 'distance', 'metric': 'manhattan', 'algorithm': 'auto'}. Best is trial 11 with value: 0.85625.\n[I 2024-02-22 17:30:37,583] Trial 92 finished with value: 0.85625 and parameters: {'n_neighbors': 5, 'weights': 'distance', 'metric': 'manhattan', 'algorithm': 'auto'}. Best is trial 11 with value: 0.85625.\n[I 2024-02-22 17:30:37,652] Trial 93 finished with value: 0.775 and parameters: {'n_neighbors': 11, 'weights': 'distance', 'metric': 'manhattan', 'algorithm': 'auto'}. Best is trial 11 with value: 0.85625.\n[I 2024-02-22 17:30:37,730] Trial 94 finished with value: 0.778125 and parameters: {'n_neighbors': 9, 'weights': 'distance', 'metric': 'manhattan', 'algorithm': 'auto'}. Best is trial 11 with value: 0.85625.\n[I 2024-02-22 17:30:37,792] Trial 95 finished with value: 0.85625 and parameters: {'n_neighbors': 5, 'weights': 'distance', 'metric': 'manhattan', 'algorithm': 'auto'}. Best is trial 11 with value: 0.85625.\n[I 2024-02-22 17:30:37,852] Trial 96 finished with value: 0.79375 and parameters: {'n_neighbors': 9, 'weights': 'distance', 'metric': 'euclidean', 'algorithm': 'auto'}. Best is trial 11 with value: 0.85625.\n[I 2024-02-22 17:30:37,914] Trial 97 finished with value: 0.753125 and parameters: {'n_neighbors': 13, 'weights': 'distance', 'metric': 'manhattan', 'algorithm': 'auto'}. Best is trial 11 with value: 0.85625.\n[I 2024-02-22 17:30:38,034] Trial 98 finished with value: 0.73125 and parameters: {'n_neighbors': 15, 'weights': 'distance', 'metric': 'manhattan', 'algorithm': 'auto'}. Best is trial 11 with value: 0.85625.\n[I 2024-02-22 17:30:38,379] Trial 99 finished with value: 0.5625 and parameters: {'n_neighbors': 80, 'weights': 'distance', 'metric': 'manhattan', 'algorithm': 'auto'}. Best is trial 11 with value: 0.85625.\n",
          "output_type": "stream"
        },
        {
          "name": "stdout",
          "text": "Best params found : {'n_neighbors': 5, 'weights': 'distance', 'metric': 'manhattan', 'algorithm': 'auto'}\naccuracy: 0.9625\nrecall: 0.949074074074074\nprecision: 0.9398148148148147\nf1-score: 0.9370370370370371\n",
          "output_type": "stream"
        }
      ]
    },
    {
      "cell_type": "markdown",
      "source": [
        "## Support Vector Machine"
      ],
      "metadata": {
        "id": "7fxbbD6BA4YT"
      }
    },
    {
      "cell_type": "markdown",
      "source": [
        "**Normal**"
      ],
      "metadata": {
        "id": "-06PBU2iA4YT"
      }
    },
    {
      "cell_type": "code",
      "source": [
        "from sklearn.svm import SVC\n",
        "\n",
        "svm = SVC(kernel='linear')\n",
        "svm.fit(X_train_reduced, y_train)\n",
        "y_pred = svm.predict(X_test_reduced)\n",
        "\n",
        "accuracy = accuracy_score(y_test, y_pred)\n",
        "precision = precision_score(y_test, y_pred, average='macro')\n",
        "recall = recall_score(y_test, y_pred, average='macro')\n",
        "f1 = f1_score(y_test, y_pred, average='macro')\n",
        "\n",
        "# One-hot encoding for probability calculation (adapt if necessary)\n",
        "# Assuming 'label_' prefix for clarity\n",
        "y_test_onehot = pd.get_dummies(y_test, prefix='label_')\n",
        "y_pred_onehot = pd.get_dummies(y_pred, prefix='label_')\n",
        "\n",
        "# # ROC AUC score with multiclass handling\n",
        "# roc_auc_macro = roc_auc_score(y_test_onehot, y_pred_onehot,\n",
        "#                               average='macro', multi_class='ovo')  # Specify 'ovo' or 'ovr'\n",
        "\n",
        "print(\"accuracy:\", accuracy)\n",
        "print(\"recall:\", recall)\n",
        "print(\"precision:\", precision)\n",
        "print(\"f1-score:\", f1)\n",
        "# print('roc_auc: ', roc_auc_macro)"
      ],
      "metadata": {
        "execution": {
          "iopub.status.busy": "2024-02-22T17:53:01.104514Z",
          "iopub.execute_input": "2024-02-22T17:53:01.105841Z",
          "iopub.status.idle": "2024-02-22T17:53:01.150657Z",
          "shell.execute_reply.started": "2024-02-22T17:53:01.105787Z",
          "shell.execute_reply": "2024-02-22T17:53:01.149502Z"
        },
        "trusted": true,
        "id": "UrrDfg-jA4YT",
        "outputId": "5d27a566-b97f-4634-8054-7c0a6d374287"
      },
      "execution_count": null,
      "outputs": [
        {
          "name": "stdout",
          "text": "accuracy: 1.0\nrecall: 1.0\nprecision: 1.0\nf1-score: 1.0\n",
          "output_type": "stream"
        }
      ]
    },
    {
      "cell_type": "markdown",
      "source": [
        "**Tunning**"
      ],
      "metadata": {
        "id": "eimpp9HXA4YT"
      }
    },
    {
      "cell_type": "code",
      "source": [
        "import optuna\n",
        "from sklearn.model_selection import cross_val_score\n",
        "import warnings\n",
        "warnings.filterwarnings('ignore')\n",
        "\n",
        "def objective(trial):\n",
        "    hyperparams = {\n",
        "        'kernel': trial.suggest_categorical('kernel', ['linear', 'rbf', 'poly']),\n",
        "        'C': trial.suggest_loguniform('C', 1e-5, 1e5),\n",
        "        'gamma': trial.suggest_loguniform('gamma', 1e-5, 1e5),\n",
        "        # 'degree': trial.suggest_int('degree', 2, 5),  # for polynomial kernel\n",
        "        'tol': trial.suggest_loguniform('tol', 1e-4, 1e-2),\n",
        "        'shrinking': trial.suggest_categorical('shrinking', [True, False]),\n",
        "    }\n",
        "\n",
        "    # Create KNN model with tuned hyperparameters\n",
        "    model = SVC(**hyperparams)\n",
        "    scores = cross_val_score(model, X_train_reduced, y_train, cv = kf,scoring = 'accuracy')\n",
        "    return np.mean(scores)"
      ],
      "metadata": {
        "execution": {
          "iopub.status.busy": "2024-02-22T17:53:05.134037Z",
          "iopub.execute_input": "2024-02-22T17:53:05.135162Z",
          "iopub.status.idle": "2024-02-22T17:53:05.144211Z",
          "shell.execute_reply.started": "2024-02-22T17:53:05.135114Z",
          "shell.execute_reply": "2024-02-22T17:53:05.143204Z"
        },
        "trusted": true,
        "id": "m_TNEK7TA4YU"
      },
      "execution_count": null,
      "outputs": []
    },
    {
      "cell_type": "code",
      "source": [
        "study = optuna.create_study(direction='maximize')\n",
        "study.optimize(objective, n_trials=100)\n",
        "best_params = study.best_params\n",
        "print(\"Best params found :\", best_params)\n",
        "\n",
        "final_model = SVC(**best_params)\n",
        "final_model.fit(X_train_reduced, y_train)\n",
        "y_pred = final_model.predict(X_test_reduced)\n",
        "prediction_results['svc'] = list(y_pred)\n",
        "\n",
        "accuracy = accuracy_score(y_test, y_pred)\n",
        "precision = precision_score(y_test, y_pred, average='macro')\n",
        "recall = recall_score(y_test, y_pred, average='macro')\n",
        "f1 = f1_score(y_test, y_pred, average='macro')\n",
        "\n",
        "# One-hot encoding for probability calculation (adapt if necessary)\n",
        "# Assuming 'label_' prefix for clarity\n",
        "y_test_onehot = pd.get_dummies(y_test, prefix='label_')\n",
        "y_pred_onehot = pd.get_dummies(y_pred, prefix='label_')\n",
        "\n",
        "# # ROC AUC score with multiclass handling\n",
        "# roc_auc_macro = roc_auc_score(y_test_onehot, y_pred_onehot,\n",
        "#                               average='macro', multi_class='ovo')  # Specify 'ovo' or 'ovr'\n",
        "\n",
        "print(\"accuracy:\", accuracy)\n",
        "print(\"recall:\", recall)\n",
        "print(\"precision:\", precision)\n",
        "print(\"f1-score:\", f1)\n",
        "# print('roc_auc: ', roc_auc_macro)"
      ],
      "metadata": {
        "execution": {
          "iopub.status.busy": "2024-02-22T17:53:10.504160Z",
          "iopub.execute_input": "2024-02-22T17:53:10.504840Z",
          "iopub.status.idle": "2024-02-22T17:53:21.691907Z",
          "shell.execute_reply.started": "2024-02-22T17:53:10.504796Z",
          "shell.execute_reply": "2024-02-22T17:53:21.690485Z"
        },
        "trusted": true,
        "id": "hUpYkoKbA4YU",
        "outputId": "1e46d581-8cde-4bfa-b20c-aec163a2ba1b"
      },
      "execution_count": null,
      "outputs": [
        {
          "name": "stderr",
          "text": "[I 2024-02-22 17:53:10,513] A new study created in memory with name: no-name-9f37582d-f66c-47e7-9124-d4c44d843919\n[I 2024-02-22 17:53:10,598] Trial 0 finished with value: 0.946875 and parameters: {'kernel': 'linear', 'C': 0.9079915676890125, 'gamma': 27.41880339985228, 'tol': 0.0019078278218248635, 'shrinking': False}. Best is trial 0 with value: 0.946875.\n[I 2024-02-22 17:53:10,698] Trial 1 finished with value: 0.859375 and parameters: {'kernel': 'poly', 'C': 52937.4299668692, 'gamma': 0.0016112993228127217, 'tol': 0.0017257021799542758, 'shrinking': True}. Best is trial 0 with value: 0.946875.\n[I 2024-02-22 17:53:10,787] Trial 2 finished with value: 0.946875 and parameters: {'kernel': 'linear', 'C': 3.208534127545026e-05, 'gamma': 8.468490340129244e-05, 'tol': 0.0013169908250783215, 'shrinking': True}. Best is trial 0 with value: 0.946875.\n[I 2024-02-22 17:53:10,877] Trial 3 finished with value: 0.0 and parameters: {'kernel': 'rbf', 'C': 0.01883328126121863, 'gamma': 1542.4377676291797, 'tol': 0.0015663119991949964, 'shrinking': False}. Best is trial 0 with value: 0.946875.\n[I 2024-02-22 17:53:10,960] Trial 4 finished with value: 0.0 and parameters: {'kernel': 'rbf', 'C': 0.00022373713769344736, 'gamma': 1.839056416104624, 'tol': 0.00012329746586388967, 'shrinking': True}. Best is trial 0 with value: 0.946875.\n[I 2024-02-22 17:53:11,053] Trial 5 finished with value: 0.0 and parameters: {'kernel': 'rbf', 'C': 0.034025049337157894, 'gamma': 0.015484562625316355, 'tol': 0.001025309628725632, 'shrinking': True}. Best is trial 0 with value: 0.946875.\n[I 2024-02-22 17:53:11,136] Trial 6 finished with value: 0.946875 and parameters: {'kernel': 'linear', 'C': 4.962109337039093, 'gamma': 0.35010057200804173, 'tol': 0.0002644162896781421, 'shrinking': False}. Best is trial 0 with value: 0.946875.\n[I 2024-02-22 17:53:11,227] Trial 7 finished with value: 0.859375 and parameters: {'kernel': 'poly', 'C': 0.0005273642249418768, 'gamma': 11055.596461720876, 'tol': 0.000952731936284552, 'shrinking': False}. Best is trial 0 with value: 0.946875.\n[I 2024-02-22 17:53:11,305] Trial 8 finished with value: 0.946875 and parameters: {'kernel': 'linear', 'C': 1.098181615340066, 'gamma': 0.5268851264157218, 'tol': 0.004071039410498122, 'shrinking': True}. Best is trial 0 with value: 0.946875.\n[I 2024-02-22 17:53:11,390] Trial 9 finished with value: 0.859375 and parameters: {'kernel': 'poly', 'C': 0.0018546398851321873, 'gamma': 62533.14533774299, 'tol': 0.002377529304858135, 'shrinking': False}. Best is trial 0 with value: 0.946875.\n[I 2024-02-22 17:53:11,484] Trial 10 finished with value: 0.946875 and parameters: {'kernel': 'linear', 'C': 324.4717695050089, 'gamma': 75.48319961542421, 'tol': 0.008612792672175674, 'shrinking': False}. Best is trial 0 with value: 0.946875.\n[I 2024-02-22 17:53:11,595] Trial 11 finished with value: 0.946875 and parameters: {'kernel': 'linear', 'C': 1.8451985582947662e-05, 'gamma': 2.6485521035102993e-05, 'tol': 0.0005036845113916719, 'shrinking': True}. Best is trial 0 with value: 0.946875.\n[I 2024-02-22 17:53:11,691] Trial 12 finished with value: 0.946875 and parameters: {'kernel': 'linear', 'C': 191.90640714187774, 'gamma': 3.498024129854775e-05, 'tol': 0.004175090366028071, 'shrinking': False}. Best is trial 0 with value: 0.946875.\n[I 2024-02-22 17:53:11,802] Trial 13 finished with value: 0.946875 and parameters: {'kernel': 'linear', 'C': 46.21721269198653, 'gamma': 393.0304870255882, 'tol': 0.0004721597946561634, 'shrinking': True}. Best is trial 0 with value: 0.946875.\n[I 2024-02-22 17:53:11,903] Trial 14 finished with value: 0.946875 and parameters: {'kernel': 'linear', 'C': 29401.87369814236, 'gamma': 15.021106362720875, 'tol': 0.00421366855428237, 'shrinking': True}. Best is trial 0 with value: 0.946875.\n[I 2024-02-22 17:53:12,010] Trial 15 finished with value: 0.946875 and parameters: {'kernel': 'linear', 'C': 0.08014141265584099, 'gamma': 0.004138242911850133, 'tol': 0.0006294802465510082, 'shrinking': False}. Best is trial 0 with value: 0.946875.\n[I 2024-02-22 17:53:12,108] Trial 16 finished with value: 0.946875 and parameters: {'kernel': 'linear', 'C': 1535.910088031113, 'gamma': 0.05610867418193536, 'tol': 0.0024220585457977234, 'shrinking': False}. Best is trial 0 with value: 0.946875.\n[I 2024-02-22 17:53:12,209] Trial 17 finished with value: 0.946875 and parameters: {'kernel': 'linear', 'C': 1.6281677465379502e-05, 'gamma': 6.338419693363913, 'tol': 0.007666915623502257, 'shrinking': True}. Best is trial 0 with value: 0.946875.\n[I 2024-02-22 17:53:12,322] Trial 18 finished with value: 0.0 and parameters: {'kernel': 'rbf', 'C': 0.4464903375861414, 'gamma': 0.0012443787220683719, 'tol': 0.0010067926843050903, 'shrinking': False}. Best is trial 0 with value: 0.946875.\n[I 2024-02-22 17:53:12,452] Trial 19 finished with value: 0.859375 and parameters: {'kernel': 'poly', 'C': 0.0023127530966045233, 'gamma': 0.0003382997400150871, 'tol': 0.00021110359112188189, 'shrinking': True}. Best is trial 0 with value: 0.946875.\n[I 2024-02-22 17:53:12,551] Trial 20 finished with value: 0.946875 and parameters: {'kernel': 'linear', 'C': 3.689253449130063, 'gamma': 58.10711441617745, 'tol': 0.002636578697073123, 'shrinking': False}. Best is trial 0 with value: 0.946875.\n[I 2024-02-22 17:53:12,655] Trial 21 finished with value: 0.946875 and parameters: {'kernel': 'linear', 'C': 4.489410685499782, 'gamma': 0.31364686205234527, 'tol': 0.000300189871954315, 'shrinking': False}. Best is trial 0 with value: 0.946875.\n[I 2024-02-22 17:53:12,761] Trial 22 finished with value: 0.946875 and parameters: {'kernel': 'linear', 'C': 10.099901779474434, 'gamma': 0.08624455997823709, 'tol': 0.00014795917371176966, 'shrinking': False}. Best is trial 0 with value: 0.946875.\n[I 2024-02-22 17:53:12,865] Trial 23 finished with value: 0.946875 and parameters: {'kernel': 'linear', 'C': 3071.2133697355134, 'gamma': 395.3601489819851, 'tol': 0.0002942091463822485, 'shrinking': False}. Best is trial 0 with value: 0.946875.\n[I 2024-02-22 17:53:12,964] Trial 24 finished with value: 0.946875 and parameters: {'kernel': 'linear', 'C': 0.28809801537357344, 'gamma': 0.0002030215471793467, 'tol': 0.0012232529843618923, 'shrinking': False}. Best is trial 0 with value: 0.946875.\n[I 2024-02-22 17:53:13,067] Trial 25 finished with value: 0.946875 and parameters: {'kernel': 'linear', 'C': 58.67989782727084, 'gamma': 2.9306607081824554, 'tol': 0.0006397389633470473, 'shrinking': False}. Best is trial 0 with value: 0.946875.\n[I 2024-02-22 17:53:13,175] Trial 26 finished with value: 0.946875 and parameters: {'kernel': 'linear', 'C': 0.008067686372833909, 'gamma': 30.267889278125065, 'tol': 0.0016061650285612058, 'shrinking': True}. Best is trial 0 with value: 0.946875.\n[I 2024-02-22 17:53:13,279] Trial 27 finished with value: 0.946875 and parameters: {'kernel': 'linear', 'C': 0.00011370463482043323, 'gamma': 0.01843808405123592, 'tol': 0.0007056789102077921, 'shrinking': False}. Best is trial 0 with value: 0.946875.\n[I 2024-02-22 17:53:13,432] Trial 28 finished with value: 0.0 and parameters: {'kernel': 'rbf', 'C': 14.599043761219367, 'gamma': 1.3368852748202499e-05, 'tol': 0.00037165427192258424, 'shrinking': True}. Best is trial 0 with value: 0.946875.\n[I 2024-02-22 17:53:13,565] Trial 29 finished with value: 0.859375 and parameters: {'kernel': 'poly', 'C': 24362.08316151412, 'gamma': 0.21635088579686176, 'tol': 0.00018439748502795033, 'shrinking': True}. Best is trial 0 with value: 0.946875.\n[I 2024-02-22 17:53:13,683] Trial 30 finished with value: 0.859375 and parameters: {'kernel': 'poly', 'C': 0.12077134703112244, 'gamma': 1854.4994144859663, 'tol': 0.003094379024607629, 'shrinking': False}. Best is trial 0 with value: 0.946875.\n[I 2024-02-22 17:53:13,801] Trial 31 finished with value: 0.946875 and parameters: {'kernel': 'linear', 'C': 0.951888712954643, 'gamma': 0.2921901010779109, 'tol': 0.004940113394767771, 'shrinking': True}. Best is trial 0 with value: 0.946875.\n[I 2024-02-22 17:53:13,922] Trial 32 finished with value: 0.946875 and parameters: {'kernel': 'linear', 'C': 1.6334199810209546, 'gamma': 0.8634627931672155, 'tol': 0.0019274547069371465, 'shrinking': True}. Best is trial 0 with value: 0.946875.\n[I 2024-02-22 17:53:14,026] Trial 33 finished with value: 0.946875 and parameters: {'kernel': 'linear', 'C': 0.01167905598562197, 'gamma': 1.1886408745569106, 'tol': 0.005601609144282582, 'shrinking': True}. Best is trial 0 with value: 0.946875.\n[I 2024-02-22 17:53:14,159] Trial 34 finished with value: 0.0 and parameters: {'kernel': 'rbf', 'C': 25.79740690037844, 'gamma': 0.0061902910513198265, 'tol': 0.0014939938826085814, 'shrinking': True}. Best is trial 0 with value: 0.946875.\n[I 2024-02-22 17:53:14,263] Trial 35 finished with value: 0.946875 and parameters: {'kernel': 'linear', 'C': 0.12878182080068512, 'gamma': 0.0008039796867792594, 'tol': 0.0034741459807685953, 'shrinking': True}. Best is trial 0 with value: 0.946875.\n[I 2024-02-22 17:53:14,389] Trial 36 finished with value: 0.0 and parameters: {'kernel': 'rbf', 'C': 1.5072555083330563, 'gamma': 7.184593551774331, 'tol': 0.0020639852240782685, 'shrinking': True}. Best is trial 0 with value: 0.946875.\n[I 2024-02-22 17:53:14,493] Trial 37 finished with value: 0.946875 and parameters: {'kernel': 'linear', 'C': 240.40572605454992, 'gamma': 221.7376943877715, 'tol': 0.0008206504126282225, 'shrinking': False}. Best is trial 0 with value: 0.946875.\n[I 2024-02-22 17:53:14,613] Trial 38 finished with value: 0.859375 and parameters: {'kernel': 'poly', 'C': 0.00012139795977467642, 'gamma': 0.03144072695076156, 'tol': 0.001342727676960196, 'shrinking': True}. Best is trial 0 with value: 0.946875.\n[I 2024-02-22 17:53:14,720] Trial 39 finished with value: 0.946875 and parameters: {'kernel': 'linear', 'C': 0.02423499836325986, 'gamma': 15080.710748315805, 'tol': 0.005990759751804291, 'shrinking': False}. Best is trial 0 with value: 0.946875.\n[I 2024-02-22 17:53:14,839] Trial 40 finished with value: 0.946875 and parameters: {'kernel': 'linear', 'C': 0.0011882103052040236, 'gamma': 0.00010348591489856366, 'tol': 0.0011808100955774635, 'shrinking': True}. Best is trial 0 with value: 0.946875.\n[I 2024-02-22 17:53:14,937] Trial 41 finished with value: 0.946875 and parameters: {'kernel': 'linear', 'C': 394.61561183727554, 'gamma': 66.9656537295579, 'tol': 0.008953913938026284, 'shrinking': False}. Best is trial 0 with value: 0.946875.\n[I 2024-02-22 17:53:15,036] Trial 42 finished with value: 0.946875 and parameters: {'kernel': 'linear', 'C': 814.6338729735397, 'gamma': 3163.5700838873445, 'tol': 0.006870310972737248, 'shrinking': False}. Best is trial 0 with value: 0.946875.\n[I 2024-02-22 17:53:15,135] Trial 43 finished with value: 0.946875 and parameters: {'kernel': 'linear', 'C': 53.2769045494728, 'gamma': 156.39018296943922, 'tol': 0.0035734775425946864, 'shrinking': False}. Best is trial 0 with value: 0.946875.\n[I 2024-02-22 17:53:15,240] Trial 44 finished with value: 0.946875 and parameters: {'kernel': 'linear', 'C': 0.47324161426832323, 'gamma': 17.82611229440542, 'tol': 0.009261124483031222, 'shrinking': False}. Best is trial 0 with value: 0.946875.\n[I 2024-02-22 17:53:15,346] Trial 45 finished with value: 0.946875 and parameters: {'kernel': 'linear', 'C': 7455.482512895691, 'gamma': 3.691570607208415, 'tol': 0.0027679700097880894, 'shrinking': False}. Best is trial 0 with value: 0.946875.\n[I 2024-02-22 17:53:15,449] Trial 46 finished with value: 0.946875 and parameters: {'kernel': 'linear', 'C': 95.73403838603912, 'gamma': 0.007799572702029599, 'tol': 0.004715418523023731, 'shrinking': False}. Best is trial 0 with value: 0.946875.\n[I 2024-02-22 17:53:15,587] Trial 47 finished with value: 0.0 and parameters: {'kernel': 'rbf', 'C': 6.312662081854098, 'gamma': 0.8780345629750947, 'tol': 0.002162369271622806, 'shrinking': True}. Best is trial 0 with value: 0.946875.\n[I 2024-02-22 17:53:15,704] Trial 48 finished with value: 0.946875 and parameters: {'kernel': 'linear', 'C': 83264.30312943146, 'gamma': 810.1108287010618, 'tol': 0.00011966563892975234, 'shrinking': False}. Best is trial 0 with value: 0.946875.\n[I 2024-02-22 17:53:15,828] Trial 49 finished with value: 0.859375 and parameters: {'kernel': 'poly', 'C': 3.332790688926042e-05, 'gamma': 66.88110755449765, 'tol': 0.0008903265974753083, 'shrinking': False}. Best is trial 0 with value: 0.946875.\n[I 2024-02-22 17:53:15,940] Trial 50 finished with value: 0.946875 and parameters: {'kernel': 'linear', 'C': 2.8001084349566927, 'gamma': 8.121312598490931, 'tol': 0.007131138367793445, 'shrinking': True}. Best is trial 0 with value: 0.946875.\n[I 2024-02-22 17:53:16,062] Trial 51 finished with value: 0.946875 and parameters: {'kernel': 'linear', 'C': 2.370159801260258e-05, 'gamma': 5.412692075238889e-05, 'tol': 0.000385503211305724, 'shrinking': True}. Best is trial 0 with value: 0.946875.\n[I 2024-02-22 17:53:16,184] Trial 52 finished with value: 0.946875 and parameters: {'kernel': 'linear', 'C': 0.0002665967240788672, 'gamma': 1.8149442369963918e-05, 'tol': 0.00045776204453490686, 'shrinking': True}. Best is trial 0 with value: 0.946875.\n[I 2024-02-22 17:53:16,310] Trial 53 finished with value: 0.946875 and parameters: {'kernel': 'linear', 'C': 1.311108292639936e-05, 'gamma': 0.0020696531299040873, 'tol': 0.00022954481413243056, 'shrinking': True}. Best is trial 0 with value: 0.946875.\n[I 2024-02-22 17:53:16,431] Trial 54 finished with value: 0.946875 and parameters: {'kernel': 'linear', 'C': 0.004356996712658056, 'gamma': 0.08246450664918802, 'tol': 0.0005018566726764443, 'shrinking': True}. Best is trial 0 with value: 0.946875.\n[I 2024-02-22 17:53:16,556] Trial 55 finished with value: 0.946875 and parameters: {'kernel': 'linear', 'C': 6.227445637707573e-05, 'gamma': 0.0006004840337167823, 'tol': 0.00026700050496379803, 'shrinking': False}. Best is trial 0 with value: 0.946875.\n[I 2024-02-22 17:53:16,682] Trial 56 finished with value: 0.946875 and parameters: {'kernel': 'linear', 'C': 0.047440545981107494, 'gamma': 0.00014039353540632268, 'tol': 0.0005381556993600703, 'shrinking': True}. Best is trial 0 with value: 0.946875.\n[I 2024-02-22 17:53:16,785] Trial 57 finished with value: 0.946875 and parameters: {'kernel': 'linear', 'C': 0.00045334753000548497, 'gamma': 5.1197612046013505e-05, 'tol': 0.0043420367389235244, 'shrinking': False}. Best is trial 0 with value: 0.946875.\n[I 2024-02-22 17:53:16,910] Trial 58 finished with value: 0.946875 and parameters: {'kernel': 'linear', 'C': 7673.2461277988095, 'gamma': 1.0223630230573556e-05, 'tol': 0.0001014547914575401, 'shrinking': True}. Best is trial 0 with value: 0.946875.\n[I 2024-02-22 17:53:17,049] Trial 59 finished with value: 0.0 and parameters: {'kernel': 'rbf', 'C': 13.716819622197939, 'gamma': 25.36136272798082, 'tol': 0.0010521472659709436, 'shrinking': False}. Best is trial 0 with value: 0.946875.\n[I 2024-02-22 17:53:17,165] Trial 60 finished with value: 0.946875 and parameters: {'kernel': 'linear', 'C': 0.0010317403244396776, 'gamma': 0.5265524259949442, 'tol': 0.0017828239591216476, 'shrinking': True}. Best is trial 0 with value: 0.946875.\n[I 2024-02-22 17:53:17,272] Trial 61 finished with value: 0.946875 and parameters: {'kernel': 'linear', 'C': 304.62410584677997, 'gamma': 4.140946671087504e-05, 'tol': 0.0032959648331007422, 'shrinking': False}. Best is trial 0 with value: 0.946875.\n[I 2024-02-22 17:53:17,382] Trial 62 finished with value: 0.946875 and parameters: {'kernel': 'linear', 'C': 822.4614544143545, 'gamma': 0.0003263639440690525, 'tol': 0.003829078204000398, 'shrinking': False}. Best is trial 0 with value: 0.946875.\n[I 2024-02-22 17:53:17,500] Trial 63 finished with value: 0.946875 and parameters: {'kernel': 'linear', 'C': 119.69732537022246, 'gamma': 2.703509442544206e-05, 'tol': 0.0007627566361779275, 'shrinking': False}. Best is trial 0 with value: 0.946875.\n[I 2024-02-22 17:53:17,623] Trial 64 finished with value: 0.859375 and parameters: {'kernel': 'poly', 'C': 26.765283193492678, 'gamma': 0.0024498723588231106, 'tol': 0.0024735882066664783, 'shrinking': False}. Best is trial 0 with value: 0.946875.\n[I 2024-02-22 17:53:17,744] Trial 65 finished with value: 0.946875 and parameters: {'kernel': 'linear', 'C': 0.30556416563404276, 'gamma': 2.4306086291843814, 'tol': 0.00016087063129461746, 'shrinking': False}. Best is trial 0 with value: 0.946875.\n[I 2024-02-22 17:53:17,851] Trial 66 finished with value: 0.946875 and parameters: {'kernel': 'linear', 'C': 2314.0664850128846, 'gamma': 0.16029181700621908, 'tol': 0.0057188893044982985, 'shrinking': False}. Best is trial 0 with value: 0.946875.\n[I 2024-02-22 17:53:17,969] Trial 67 finished with value: 0.946875 and parameters: {'kernel': 'linear', 'C': 157.6989739233555, 'gamma': 8.190461759154932e-05, 'tol': 0.0014832682675108002, 'shrinking': True}. Best is trial 0 with value: 0.946875.\n[I 2024-02-22 17:53:18,075] Trial 68 finished with value: 0.946875 and parameters: {'kernel': 'linear', 'C': 0.7871902525356366, 'gamma': 154.56101983585842, 'tol': 0.002932605718267869, 'shrinking': False}. Best is trial 0 with value: 0.946875.\n[I 2024-02-22 17:53:18,186] Trial 69 finished with value: 0.946875 and parameters: {'kernel': 'linear', 'C': 4.876420316908981, 'gamma': 0.0005023152945453024, 'tol': 0.008131968788515383, 'shrinking': True}. Best is trial 0 with value: 0.946875.\n[I 2024-02-22 17:53:18,332] Trial 70 finished with value: 0.0 and parameters: {'kernel': 'rbf', 'C': 25.242973559067934, 'gamma': 0.00022980607696407166, 'tol': 0.0006080581982521256, 'shrinking': False}. Best is trial 0 with value: 0.946875.\n[I 2024-02-22 17:53:18,449] Trial 71 finished with value: 0.946875 and parameters: {'kernel': 'linear', 'C': 51.24154293255599, 'gamma': 10271.536507086028, 'tol': 0.000395211784590835, 'shrinking': True}. Best is trial 0 with value: 0.946875.\n[I 2024-02-22 17:53:18,565] Trial 72 finished with value: 0.946875 and parameters: {'kernel': 'linear', 'C': 8.776617165383405, 'gamma': 501.610228999649, 'tol': 0.0003320099176851392, 'shrinking': True}. Best is trial 0 with value: 0.946875.\n[I 2024-02-22 17:53:18,668] Trial 73 finished with value: 0.946875 and parameters: {'kernel': 'linear', 'C': 676.4635354405036, 'gamma': 1570.5406280592822, 'tol': 0.009967577412669577, 'shrinking': True}. Best is trial 0 with value: 0.946875.\n[I 2024-02-22 17:53:18,780] Trial 74 finished with value: 0.946875 and parameters: {'kernel': 'linear', 'C': 1.9819864503637106, 'gamma': 41.46671397225792, 'tol': 0.0012024021867634213, 'shrinking': True}. Best is trial 0 with value: 0.946875.\n[I 2024-02-22 17:53:18,910] Trial 75 finished with value: 0.859375 and parameters: {'kernel': 'poly', 'C': 4.426709589715976e-05, 'gamma': 5119.795790404688, 'tol': 0.001789297202462931, 'shrinking': True}. Best is trial 0 with value: 0.946875.\n[I 2024-02-22 17:53:19,036] Trial 76 finished with value: 0.946875 and parameters: {'kernel': 'linear', 'C': 9.835481080668382e-05, 'gamma': 43035.75037310133, 'tol': 0.00022579524965460777, 'shrinking': True}. Best is trial 0 with value: 0.946875.\n[I 2024-02-22 17:53:19,136] Trial 77 finished with value: 0.946875 and parameters: {'kernel': 'linear', 'C': 28.017872322319004, 'gamma': 118.12723128082463, 'tol': 0.006283635332766926, 'shrinking': False}. Best is trial 0 with value: 0.946875.\n[I 2024-02-22 17:53:19,243] Trial 78 finished with value: 0.946875 and parameters: {'kernel': 'linear', 'C': 183.22412000151022, 'gamma': 616.6578997333937, 'tol': 0.004844166626160536, 'shrinking': True}. Best is trial 0 with value: 0.946875.\n[I 2024-02-22 17:53:19,347] Trial 79 finished with value: 0.946875 and parameters: {'kernel': 'linear', 'C': 73.40205391911326, 'gamma': 0.04032446968611322, 'tol': 0.002207382113130039, 'shrinking': False}. Best is trial 0 with value: 0.946875.\n[I 2024-02-22 17:53:19,461] Trial 80 finished with value: 0.946875 and parameters: {'kernel': 'linear', 'C': 1652.897200682036, 'gamma': 10.387402811722422, 'tol': 0.0007037576170371568, 'shrinking': True}. Best is trial 0 with value: 0.946875.\n[I 2024-02-22 17:53:19,572] Trial 81 finished with value: 0.946875 and parameters: {'kernel': 'linear', 'C': 3.4990510802051045, 'gamma': 14.413483975387892, 'tol': 0.0038701529815192534, 'shrinking': True}. Best is trial 0 with value: 0.946875.\n[I 2024-02-22 17:53:19,687] Trial 82 finished with value: 0.946875 and parameters: {'kernel': 'linear', 'C': 16214.150503731758, 'gamma': 4.1329136776009685, 'tol': 0.00092915502513917, 'shrinking': True}. Best is trial 0 with value: 0.946875.\n[I 2024-02-22 17:53:19,797] Trial 83 finished with value: 0.946875 and parameters: {'kernel': 'linear', 'C': 0.21312209512907096, 'gamma': 320.9696623421415, 'tol': 0.0040412224725060435, 'shrinking': True}. Best is trial 0 with value: 0.946875.\n[I 2024-02-22 17:53:19,917] Trial 84 finished with value: 0.946875 and parameters: {'kernel': 'linear', 'C': 0.7193556453991811, 'gamma': 1.165706688124554, 'tol': 0.0002672469317169238, 'shrinking': True}. Best is trial 0 with value: 0.946875.\n[I 2024-02-22 17:53:20,031] Trial 85 finished with value: 0.946875 and parameters: {'kernel': 'linear', 'C': 33808.43455653165, 'gamma': 119.75090342893746, 'tol': 0.0001887399604050615, 'shrinking': False}. Best is trial 0 with value: 0.946875.\n[I 2024-02-22 17:53:20,194] Trial 86 finished with value: 0.0 and parameters: {'kernel': 'rbf', 'C': 4173.945058514587, 'gamma': 2.556987391177611e-05, 'tol': 0.005222940415390302, 'shrinking': True}. Best is trial 0 with value: 0.946875.\n[I 2024-02-22 17:53:20,302] Trial 87 finished with value: 0.946875 and parameters: {'kernel': 'linear', 'C': 389.0569860761066, 'gamma': 47.90755606353302, 'tol': 0.0004315632591434786, 'shrinking': False}. Best is trial 0 with value: 0.946875.\n[I 2024-02-22 17:53:20,427] Trial 88 finished with value: 0.859375 and parameters: {'kernel': 'poly', 'C': 2.116295086272179e-05, 'gamma': 4.8737549814794, 'tol': 0.0013270397094590756, 'shrinking': True}. Best is trial 0 with value: 0.946875.\n[I 2024-02-22 17:53:20,526] Trial 89 finished with value: 0.946875 and parameters: {'kernel': 'linear', 'C': 0.052171148844967825, 'gamma': 0.01198812988793117, 'tol': 0.006509267767417354, 'shrinking': False}. Best is trial 0 with value: 0.946875.\n[I 2024-02-22 17:53:20,648] Trial 90 finished with value: 0.946875 and parameters: {'kernel': 'linear', 'C': 14.868225911441929, 'gamma': 1.7684885279252114, 'tol': 0.0010736305642425558, 'shrinking': True}. Best is trial 0 with value: 0.946875.\n[I 2024-02-22 17:53:20,761] Trial 91 finished with value: 0.946875 and parameters: {'kernel': 'linear', 'C': 0.1146995763422309, 'gamma': 0.44563666832884025, 'tol': 0.000525702073856118, 'shrinking': False}. Best is trial 0 with value: 0.946875.\n[I 2024-02-22 17:53:20,873] Trial 92 finished with value: 0.946875 and parameters: {'kernel': 'linear', 'C': 1.5824825817103794, 'gamma': 0.00013062733339342387, 'tol': 0.0006816462303426816, 'shrinking': False}. Best is trial 0 with value: 0.946875.\n[I 2024-02-22 17:53:20,992] Trial 93 finished with value: 0.946875 and parameters: {'kernel': 'linear', 'C': 7.186396319545444, 'gamma': 990.3994508246511, 'tol': 0.0003360615164620663, 'shrinking': False}. Best is trial 0 with value: 0.946875.\n[I 2024-02-22 17:53:21,109] Trial 94 finished with value: 0.946875 and parameters: {'kernel': 'linear', 'C': 0.453019008153107, 'gamma': 0.15910577530853684, 'tol': 0.000600998400328726, 'shrinking': False}. Best is trial 0 with value: 0.946875.\n[I 2024-02-22 17:53:21,209] Trial 95 finished with value: 0.946875 and parameters: {'kernel': 'linear', 'C': 0.00783178667141998, 'gamma': 0.001387399938186508, 'tol': 0.00799638960882939, 'shrinking': False}. Best is trial 0 with value: 0.946875.\n[I 2024-02-22 17:53:21,316] Trial 96 finished with value: 0.946875 and parameters: {'kernel': 'linear', 'C': 1.0655315634509867e-05, 'gamma': 2.271772130827278e-05, 'tol': 0.0007835764019093392, 'shrinking': False}. Best is trial 0 with value: 0.946875.\n[I 2024-02-22 17:53:21,423] Trial 97 finished with value: 0.946875 and parameters: {'kernel': 'linear', 'C': 39.74605797040585, 'gamma': 273.39156728771445, 'tol': 0.0043484235678987685, 'shrinking': True}. Best is trial 0 with value: 0.946875.\n[I 2024-02-22 17:53:21,525] Trial 98 finished with value: 0.946875 and parameters: {'kernel': 'linear', 'C': 2.350857474404726, 'gamma': 7.845637104576624e-05, 'tol': 0.003314767541935897, 'shrinking': False}. Best is trial 0 with value: 0.946875.\n[I 2024-02-22 17:53:21,659] Trial 99 finished with value: 0.0 and parameters: {'kernel': 'rbf', 'C': 1.2548119718279158, 'gamma': 24.306235942539203, 'tol': 0.0024743469831752987, 'shrinking': True}. Best is trial 0 with value: 0.946875.\n",
          "output_type": "stream"
        },
        {
          "name": "stdout",
          "text": "Best params found : {'kernel': 'linear', 'C': 0.9079915676890125, 'gamma': 27.41880339985228, 'tol': 0.0019078278218248635, 'shrinking': False}\naccuracy: 1.0\nrecall: 1.0\nprecision: 1.0\nf1-score: 1.0\n",
          "output_type": "stream"
        }
      ]
    },
    {
      "cell_type": "markdown",
      "source": [
        "## Decision Tree"
      ],
      "metadata": {
        "id": "CeaYgl2SA4YU"
      }
    },
    {
      "cell_type": "markdown",
      "source": [
        "**Normal**"
      ],
      "metadata": {
        "id": "hS2YmEV_A4YU"
      }
    },
    {
      "cell_type": "code",
      "source": [
        "from sklearn.tree import DecisionTreeClassifier\n",
        "\n",
        "dt = DecisionTreeClassifier(random_state=42)\n",
        "dt.fit(X_train_reduced, y_train)\n",
        "y_pred = dt.predict(X_test_reduced)\n",
        "\n",
        "accuracy = accuracy_score(y_test, y_pred)\n",
        "precision = precision_score(y_test, y_pred, average='macro')\n",
        "recall = recall_score(y_test, y_pred, average='macro')\n",
        "f1 = f1_score(y_test, y_pred, average='macro')\n",
        "\n",
        "# One-hot encoding for probability calculation (adapt if necessary)\n",
        "# Assuming 'label_' prefix for clarity\n",
        "y_test_onehot = pd.get_dummies(y_test, prefix='label_')\n",
        "y_pred_onehot = pd.get_dummies(y_pred, prefix='label_')\n",
        "\n",
        "# ROC AUC score with multiclass handling\n",
        "roc_auc_macro = roc_auc_score(y_test_onehot, y_pred_onehot,\n",
        "                              average='macro', multi_class='ovo')  # Specify 'ovo' or 'ovr'\n",
        "\n",
        "print(\"accuracy:\", accuracy)\n",
        "print(\"recall:\", recall)\n",
        "print(\"precision:\", precision)\n",
        "print(\"f1-score:\", f1)\n",
        "print('roc_auc: ', roc_auc_macro)"
      ],
      "metadata": {
        "execution": {
          "iopub.status.busy": "2024-02-22T17:31:11.135098Z",
          "iopub.execute_input": "2024-02-22T17:31:11.135549Z",
          "iopub.status.idle": "2024-02-22T17:31:11.205793Z",
          "shell.execute_reply.started": "2024-02-22T17:31:11.135511Z",
          "shell.execute_reply": "2024-02-22T17:31:11.204114Z"
        },
        "trusted": true,
        "id": "11lOLBLOA4YU",
        "outputId": "e73d07c4-84e2-457c-b8f2-d3c8b03e14e0"
      },
      "execution_count": null,
      "outputs": [
        {
          "name": "stdout",
          "text": "accuracy: 0.6\nrecall: 0.55\nprecision: 0.5641666666666667\nf1-score: 0.5229761904761905\nroc_auc:  0.5452392744810545\n",
          "output_type": "stream"
        }
      ]
    },
    {
      "cell_type": "markdown",
      "source": [
        "**Tunning**"
      ],
      "metadata": {
        "id": "ciJJwYD5A4YU"
      }
    },
    {
      "cell_type": "code",
      "source": [
        "import optuna\n",
        "from sklearn.model_selection import cross_val_score\n",
        "import warnings\n",
        "warnings.filterwarnings('ignore')\n",
        "\n",
        "\n",
        "def objective(trial):\n",
        "    hyperparams = {\n",
        "        \"max_depth\" : trial.suggest_int(\"max_depth\", 2, 10),\n",
        "        \"min_samples_split\" : trial.suggest_int(\"min_samples_split\", 2, 20),\n",
        "        \"min_samples_leaf\" : trial.suggest_int(\"min_samples_leaf\", 1, 10),\n",
        "        \"criterion\" : trial.suggest_categorical(\"criterion\", [\"gini\", \"entropy\"]),\n",
        "        'random_state': trial.suggest_categorical('random_state', [42])\n",
        "    }\n",
        "\n",
        "    # Create KNN model with tuned hyperparameters\n",
        "    model = DecisionTreeClassifier(**hyperparams)\n",
        "    scores = cross_val_score(model, X_train_reduced,\n",
        "                             y_train, cv=kf, scoring='accuracy')\n",
        "    return np.mean(scores)"
      ],
      "metadata": {
        "execution": {
          "iopub.status.busy": "2024-02-22T17:31:15.508490Z",
          "iopub.execute_input": "2024-02-22T17:31:15.508927Z",
          "iopub.status.idle": "2024-02-22T17:31:15.519042Z",
          "shell.execute_reply.started": "2024-02-22T17:31:15.508893Z",
          "shell.execute_reply": "2024-02-22T17:31:15.516987Z"
        },
        "trusted": true,
        "id": "pRG-iV-3A4YU"
      },
      "execution_count": null,
      "outputs": []
    },
    {
      "cell_type": "code",
      "source": [
        "study = optuna.create_study(direction='maximize')\n",
        "study.optimize(objective, n_trials=100)\n",
        "best_params = study.best_params\n",
        "print(\"Best params found :\", best_params)\n",
        "\n",
        "final_model = DecisionTreeClassifier(**best_params)\n",
        "final_model.fit(X_train_reduced, y_train)\n",
        "y_pred = final_model.predict(X_test_reduced)\n",
        "prediction_results['decison tree'] = list(y_pred)\n",
        "\n",
        "accuracy = accuracy_score(y_test, y_pred)\n",
        "precision = precision_score(y_test, y_pred, average='macro')\n",
        "recall = recall_score(y_test, y_pred, average='macro')\n",
        "f1 = f1_score(y_test, y_pred, average='macro')\n",
        "\n",
        "# One-hot encoding for probability calculation (adapt if necessary)\n",
        "# Assuming 'label_' prefix for clarity\n",
        "y_test_onehot = pd.get_dummies(y_test, prefix='label_')\n",
        "y_pred_onehot = pd.get_dummies(y_pred, prefix='label_')\n",
        "\n",
        "# # ROC AUC score with multiclass handling\n",
        "# roc_auc_macro = roc_auc_score(y_test_onehot, y_pred_onehot,\n",
        "#                               average='macro', multi_class='ovo')  # Specify 'ovo' or 'ovr'\n",
        "\n",
        "print(\"accuracy:\", accuracy)\n",
        "print(\"recall:\", recall)\n",
        "print(\"precision:\", precision)\n",
        "print(\"f1-score:\", f1)\n",
        "# print('roc_auc: ', roc_auc_macro)"
      ],
      "metadata": {
        "execution": {
          "iopub.status.busy": "2024-02-22T17:31:21.690179Z",
          "iopub.execute_input": "2024-02-22T17:31:21.690666Z",
          "iopub.status.idle": "2024-02-22T17:31:42.791263Z",
          "shell.execute_reply.started": "2024-02-22T17:31:21.690629Z",
          "shell.execute_reply": "2024-02-22T17:31:42.789818Z"
        },
        "trusted": true,
        "id": "fpzJjlUMA4YU",
        "outputId": "85b5f7ad-bc66-41fc-8c4c-9e86b2d3fa4e"
      },
      "execution_count": null,
      "outputs": [
        {
          "name": "stderr",
          "text": "[I 2024-02-22 17:31:21,698] A new study created in memory with name: no-name-5b499aad-fea9-4ef2-8cb3-be1571a1fdd7\n[I 2024-02-22 17:31:21,779] Trial 0 finished with value: 0.3375 and parameters: {'max_depth': 8, 'min_samples_split': 14, 'min_samples_leaf': 5, 'criterion': 'gini', 'random_state': 42}. Best is trial 0 with value: 0.3375.\n[I 2024-02-22 17:31:21,961] Trial 1 finished with value: 0.409375 and parameters: {'max_depth': 7, 'min_samples_split': 13, 'min_samples_leaf': 5, 'criterion': 'entropy', 'random_state': 42}. Best is trial 1 with value: 0.409375.\n[I 2024-02-22 17:31:22,045] Trial 2 finished with value: 0.321875 and parameters: {'max_depth': 10, 'min_samples_split': 18, 'min_samples_leaf': 6, 'criterion': 'gini', 'random_state': 42}. Best is trial 1 with value: 0.409375.\n[I 2024-02-22 17:31:22,133] Trial 3 finished with value: 0.36875 and parameters: {'max_depth': 9, 'min_samples_split': 3, 'min_samples_leaf': 4, 'criterion': 'gini', 'random_state': 42}. Best is trial 1 with value: 0.409375.\n[I 2024-02-22 17:31:22,210] Trial 4 finished with value: 0.325 and parameters: {'max_depth': 10, 'min_samples_split': 7, 'min_samples_leaf': 8, 'criterion': 'gini', 'random_state': 42}. Best is trial 1 with value: 0.409375.\n[I 2024-02-22 17:31:22,280] Trial 5 finished with value: 0.190625 and parameters: {'max_depth': 6, 'min_samples_split': 16, 'min_samples_leaf': 6, 'criterion': 'gini', 'random_state': 42}. Best is trial 1 with value: 0.409375.\n[I 2024-02-22 17:31:22,350] Trial 6 finished with value: 0.184375 and parameters: {'max_depth': 5, 'min_samples_split': 8, 'min_samples_leaf': 2, 'criterion': 'gini', 'random_state': 42}. Best is trial 1 with value: 0.409375.\n[I 2024-02-22 17:31:22,417] Trial 7 finished with value: 0.25625 and parameters: {'max_depth': 10, 'min_samples_split': 2, 'min_samples_leaf': 10, 'criterion': 'gini', 'random_state': 42}. Best is trial 1 with value: 0.409375.\n[I 2024-02-22 17:31:22,493] Trial 8 finished with value: 0.278125 and parameters: {'max_depth': 7, 'min_samples_split': 15, 'min_samples_leaf': 4, 'criterion': 'gini', 'random_state': 42}. Best is trial 1 with value: 0.409375.\n[I 2024-02-22 17:31:22,656] Trial 9 finished with value: 0.328125 and parameters: {'max_depth': 5, 'min_samples_split': 11, 'min_samples_leaf': 8, 'criterion': 'entropy', 'random_state': 42}. Best is trial 1 with value: 0.409375.\n[I 2024-02-22 17:31:22,811] Trial 10 finished with value: 0.025 and parameters: {'max_depth': 2, 'min_samples_split': 20, 'min_samples_leaf': 1, 'criterion': 'entropy', 'random_state': 42}. Best is trial 1 with value: 0.409375.\n[I 2024-02-22 17:31:23,043] Trial 11 finished with value: 0.496875 and parameters: {'max_depth': 8, 'min_samples_split': 3, 'min_samples_leaf': 3, 'criterion': 'entropy', 'random_state': 42}. Best is trial 11 with value: 0.496875.\n[I 2024-02-22 17:31:23,268] Trial 12 finished with value: 0.446875 and parameters: {'max_depth': 7, 'min_samples_split': 11, 'min_samples_leaf': 3, 'criterion': 'entropy', 'random_state': 42}. Best is trial 11 with value: 0.496875.\n[I 2024-02-22 17:31:23,448] Trial 13 finished with value: 0.075 and parameters: {'max_depth': 3, 'min_samples_split': 6, 'min_samples_leaf': 2, 'criterion': 'entropy', 'random_state': 42}. Best is trial 11 with value: 0.496875.\n[I 2024-02-22 17:31:23,670] Trial 14 finished with value: 0.459375 and parameters: {'max_depth': 8, 'min_samples_split': 10, 'min_samples_leaf': 3, 'criterion': 'entropy', 'random_state': 42}. Best is trial 11 with value: 0.496875.\n[I 2024-02-22 17:31:23,933] Trial 15 finished with value: 0.53125 and parameters: {'max_depth': 8, 'min_samples_split': 5, 'min_samples_leaf': 1, 'criterion': 'entropy', 'random_state': 42}. Best is trial 15 with value: 0.53125.\n[I 2024-02-22 17:31:24,169] Trial 16 finished with value: 0.53125 and parameters: {'max_depth': 8, 'min_samples_split': 5, 'min_samples_leaf': 1, 'criterion': 'entropy', 'random_state': 42}. Best is trial 15 with value: 0.53125.\n[I 2024-02-22 17:31:24,406] Trial 17 finished with value: 0.359375 and parameters: {'max_depth': 5, 'min_samples_split': 5, 'min_samples_leaf': 1, 'criterion': 'entropy', 'random_state': 42}. Best is trial 15 with value: 0.53125.\n[I 2024-02-22 17:31:24,665] Trial 18 finished with value: 0.53125 and parameters: {'max_depth': 9, 'min_samples_split': 5, 'min_samples_leaf': 1, 'criterion': 'entropy', 'random_state': 42}. Best is trial 15 with value: 0.53125.\n[I 2024-02-22 17:31:24,890] Trial 19 finished with value: 0.45625 and parameters: {'max_depth': 6, 'min_samples_split': 9, 'min_samples_leaf': 2, 'criterion': 'entropy', 'random_state': 42}. Best is trial 15 with value: 0.53125.\n[I 2024-02-22 17:31:25,088] Trial 20 finished with value: 0.375 and parameters: {'max_depth': 9, 'min_samples_split': 4, 'min_samples_leaf': 7, 'criterion': 'entropy', 'random_state': 42}. Best is trial 15 with value: 0.53125.\n[I 2024-02-22 17:31:25,328] Trial 21 finished with value: 0.515625 and parameters: {'max_depth': 9, 'min_samples_split': 6, 'min_samples_leaf': 1, 'criterion': 'entropy', 'random_state': 42}. Best is trial 15 with value: 0.53125.\n[I 2024-02-22 17:31:25,566] Trial 22 finished with value: 0.53125 and parameters: {'max_depth': 8, 'min_samples_split': 5, 'min_samples_leaf': 1, 'criterion': 'entropy', 'random_state': 42}. Best is trial 15 with value: 0.53125.\n[I 2024-02-22 17:31:25,804] Trial 23 finished with value: 0.5125 and parameters: {'max_depth': 9, 'min_samples_split': 2, 'min_samples_leaf': 1, 'criterion': 'entropy', 'random_state': 42}. Best is trial 15 with value: 0.53125.\n[I 2024-02-22 17:31:26,046] Trial 24 finished with value: 0.471875 and parameters: {'max_depth': 7, 'min_samples_split': 8, 'min_samples_leaf': 2, 'criterion': 'entropy', 'random_state': 42}. Best is trial 15 with value: 0.53125.\n[I 2024-02-22 17:31:26,269] Trial 25 finished with value: 0.45625 and parameters: {'max_depth': 9, 'min_samples_split': 4, 'min_samples_leaf': 4, 'criterion': 'entropy', 'random_state': 42}. Best is trial 15 with value: 0.53125.\n[I 2024-02-22 17:31:26,496] Trial 26 finished with value: 0.49375 and parameters: {'max_depth': 8, 'min_samples_split': 7, 'min_samples_leaf': 2, 'criterion': 'entropy', 'random_state': 42}. Best is trial 15 with value: 0.53125.\n[I 2024-02-22 17:31:26,715] Trial 27 finished with value: 0.496875 and parameters: {'max_depth': 10, 'min_samples_split': 5, 'min_samples_leaf': 3, 'criterion': 'entropy', 'random_state': 42}. Best is trial 15 with value: 0.53125.\n[I 2024-02-22 17:31:26,896] Trial 28 finished with value: 0.2125 and parameters: {'max_depth': 4, 'min_samples_split': 12, 'min_samples_leaf': 10, 'criterion': 'entropy', 'random_state': 42}. Best is trial 15 with value: 0.53125.\n[I 2024-02-22 17:31:27,130] Trial 29 finished with value: 0.4625 and parameters: {'max_depth': 6, 'min_samples_split': 9, 'min_samples_leaf': 1, 'criterion': 'entropy', 'random_state': 42}. Best is trial 15 with value: 0.53125.\n[I 2024-02-22 17:31:27,359] Trial 30 finished with value: 0.49375 and parameters: {'max_depth': 8, 'min_samples_split': 7, 'min_samples_leaf': 2, 'criterion': 'entropy', 'random_state': 42}. Best is trial 15 with value: 0.53125.\n[I 2024-02-22 17:31:27,594] Trial 31 finished with value: 0.534375 and parameters: {'max_depth': 7, 'min_samples_split': 5, 'min_samples_leaf': 1, 'criterion': 'entropy', 'random_state': 42}. Best is trial 31 with value: 0.534375.\n[I 2024-02-22 17:31:27,833] Trial 32 finished with value: 0.553125 and parameters: {'max_depth': 7, 'min_samples_split': 4, 'min_samples_leaf': 1, 'criterion': 'entropy', 'random_state': 42}. Best is trial 32 with value: 0.553125.\n[I 2024-02-22 17:31:28,066] Trial 33 finished with value: 0.509375 and parameters: {'max_depth': 7, 'min_samples_split': 3, 'min_samples_leaf': 2, 'criterion': 'entropy', 'random_state': 42}. Best is trial 32 with value: 0.553125.\n[I 2024-02-22 17:31:28,275] Trial 34 finished with value: 0.453125 and parameters: {'max_depth': 7, 'min_samples_split': 4, 'min_samples_leaf': 5, 'criterion': 'entropy', 'random_state': 42}. Best is trial 32 with value: 0.553125.\n[I 2024-02-22 17:31:28,497] Trial 35 finished with value: 0.478125 and parameters: {'max_depth': 6, 'min_samples_split': 6, 'min_samples_leaf': 3, 'criterion': 'entropy', 'random_state': 42}. Best is trial 32 with value: 0.553125.\n[I 2024-02-22 17:31:28,711] Trial 36 finished with value: 0.45625 and parameters: {'max_depth': 8, 'min_samples_split': 2, 'min_samples_leaf': 4, 'criterion': 'entropy', 'random_state': 42}. Best is trial 32 with value: 0.553125.\n[I 2024-02-22 17:31:28,818] Trial 37 finished with value: 0.275 and parameters: {'max_depth': 7, 'min_samples_split': 13, 'min_samples_leaf': 1, 'criterion': 'gini', 'random_state': 42}. Best is trial 32 with value: 0.553125.\n[I 2024-02-22 17:31:28,921] Trial 38 finished with value: 0.234375 and parameters: {'max_depth': 6, 'min_samples_split': 8, 'min_samples_leaf': 2, 'criterion': 'gini', 'random_state': 42}. Best is trial 32 with value: 0.553125.\n[I 2024-02-22 17:31:29,110] Trial 39 finished with value: 0.28125 and parameters: {'max_depth': 8, 'min_samples_split': 3, 'min_samples_leaf': 9, 'criterion': 'entropy', 'random_state': 42}. Best is trial 32 with value: 0.553125.\n[I 2024-02-22 17:31:29,213] Trial 40 finished with value: 0.29375 and parameters: {'max_depth': 7, 'min_samples_split': 4, 'min_samples_leaf': 5, 'criterion': 'gini', 'random_state': 42}. Best is trial 32 with value: 0.553125.\n[I 2024-02-22 17:31:29,453] Trial 41 finished with value: 0.515625 and parameters: {'max_depth': 9, 'min_samples_split': 6, 'min_samples_leaf': 1, 'criterion': 'entropy', 'random_state': 42}. Best is trial 32 with value: 0.553125.\n[I 2024-02-22 17:31:29,689] Trial 42 finished with value: 0.53125 and parameters: {'max_depth': 10, 'min_samples_split': 5, 'min_samples_leaf': 1, 'criterion': 'entropy', 'random_state': 42}. Best is trial 32 with value: 0.553125.\n[I 2024-02-22 17:31:29,918] Trial 43 finished with value: 0.49375 and parameters: {'max_depth': 9, 'min_samples_split': 7, 'min_samples_leaf': 2, 'criterion': 'entropy', 'random_state': 42}. Best is trial 32 with value: 0.553125.\n[I 2024-02-22 17:31:30,136] Trial 44 finished with value: 0.284375 and parameters: {'max_depth': 8, 'min_samples_split': 17, 'min_samples_leaf': 1, 'criterion': 'entropy', 'random_state': 42}. Best is trial 32 with value: 0.553125.\n[I 2024-02-22 17:31:30,360] Trial 45 finished with value: 0.503125 and parameters: {'max_depth': 7, 'min_samples_split': 4, 'min_samples_leaf': 3, 'criterion': 'entropy', 'random_state': 42}. Best is trial 32 with value: 0.553125.\n[I 2024-02-22 17:31:30,590] Trial 46 finished with value: 0.5125 and parameters: {'max_depth': 9, 'min_samples_split': 2, 'min_samples_leaf': 2, 'criterion': 'entropy', 'random_state': 42}. Best is trial 32 with value: 0.553125.\n[I 2024-02-22 17:31:30,689] Trial 47 finished with value: 0.18125 and parameters: {'max_depth': 5, 'min_samples_split': 3, 'min_samples_leaf': 1, 'criterion': 'gini', 'random_state': 42}. Best is trial 32 with value: 0.553125.\n[I 2024-02-22 17:31:30,887] Trial 48 finished with value: 0.375 and parameters: {'max_depth': 10, 'min_samples_split': 9, 'min_samples_leaf': 7, 'criterion': 'entropy', 'random_state': 42}. Best is trial 32 with value: 0.553125.\n[I 2024-02-22 17:31:31,129] Trial 49 finished with value: 0.53125 and parameters: {'max_depth': 8, 'min_samples_split': 5, 'min_samples_leaf': 1, 'criterion': 'entropy', 'random_state': 42}. Best is trial 32 with value: 0.553125.\n[I 2024-02-22 17:31:31,355] Trial 50 finished with value: 0.446875 and parameters: {'max_depth': 6, 'min_samples_split': 7, 'min_samples_leaf': 2, 'criterion': 'entropy', 'random_state': 42}. Best is trial 32 with value: 0.553125.\n[I 2024-02-22 17:31:31,595] Trial 51 finished with value: 0.53125 and parameters: {'max_depth': 8, 'min_samples_split': 5, 'min_samples_leaf': 1, 'criterion': 'entropy', 'random_state': 42}. Best is trial 32 with value: 0.553125.\n[I 2024-02-22 17:31:31,834] Trial 52 finished with value: 0.515625 and parameters: {'max_depth': 8, 'min_samples_split': 6, 'min_samples_leaf': 1, 'criterion': 'entropy', 'random_state': 42}. Best is trial 32 with value: 0.553125.\n[I 2024-02-22 17:31:32,074] Trial 53 finished with value: 0.534375 and parameters: {'max_depth': 7, 'min_samples_split': 5, 'min_samples_leaf': 1, 'criterion': 'entropy', 'random_state': 42}. Best is trial 32 with value: 0.553125.\n[I 2024-02-22 17:31:32,305] Trial 54 finished with value: 0.509375 and parameters: {'max_depth': 7, 'min_samples_split': 3, 'min_samples_leaf': 2, 'criterion': 'entropy', 'random_state': 42}. Best is trial 32 with value: 0.553125.\n[I 2024-02-22 17:31:32,514] Trial 55 finished with value: 0.259375 and parameters: {'max_depth': 7, 'min_samples_split': 19, 'min_samples_leaf': 3, 'criterion': 'entropy', 'random_state': 42}. Best is trial 32 with value: 0.553125.\n[I 2024-02-22 17:31:32,752] Trial 56 finished with value: 0.553125 and parameters: {'max_depth': 7, 'min_samples_split': 4, 'min_samples_leaf': 1, 'criterion': 'entropy', 'random_state': 42}. Best is trial 32 with value: 0.553125.\n[I 2024-02-22 17:31:32,851] Trial 57 finished with value: 0.203125 and parameters: {'max_depth': 6, 'min_samples_split': 4, 'min_samples_leaf': 6, 'criterion': 'gini', 'random_state': 42}. Best is trial 32 with value: 0.553125.\n[I 2024-02-22 17:31:33,078] Trial 58 finished with value: 0.365625 and parameters: {'max_depth': 7, 'min_samples_split': 15, 'min_samples_leaf': 1, 'criterion': 'entropy', 'random_state': 42}. Best is trial 32 with value: 0.553125.\n[I 2024-02-22 17:31:33,300] Trial 59 finished with value: 0.359375 and parameters: {'max_depth': 5, 'min_samples_split': 3, 'min_samples_leaf': 2, 'criterion': 'entropy', 'random_state': 42}. Best is trial 32 with value: 0.553125.\n[I 2024-02-22 17:31:33,462] Trial 60 finished with value: 0.025 and parameters: {'max_depth': 2, 'min_samples_split': 8, 'min_samples_leaf': 1, 'criterion': 'entropy', 'random_state': 42}. Best is trial 32 with value: 0.553125.\n[I 2024-02-22 17:31:33,706] Trial 61 finished with value: 0.521875 and parameters: {'max_depth': 7, 'min_samples_split': 6, 'min_samples_leaf': 1, 'criterion': 'entropy', 'random_state': 42}. Best is trial 32 with value: 0.553125.\n[I 2024-02-22 17:31:33,970] Trial 62 finished with value: 0.5125 and parameters: {'max_depth': 8, 'min_samples_split': 5, 'min_samples_leaf': 2, 'criterion': 'entropy', 'random_state': 42}. Best is trial 32 with value: 0.553125.\n[I 2024-02-22 17:31:34,207] Trial 63 finished with value: 0.509375 and parameters: {'max_depth': 6, 'min_samples_split': 4, 'min_samples_leaf': 1, 'criterion': 'entropy', 'random_state': 42}. Best is trial 32 with value: 0.553125.\n[I 2024-02-22 17:31:34,445] Trial 64 finished with value: 0.53125 and parameters: {'max_depth': 9, 'min_samples_split': 5, 'min_samples_leaf': 1, 'criterion': 'entropy', 'random_state': 42}. Best is trial 32 with value: 0.553125.\n[I 2024-02-22 17:31:34,662] Trial 65 finished with value: 0.45625 and parameters: {'max_depth': 8, 'min_samples_split': 6, 'min_samples_leaf': 4, 'criterion': 'entropy', 'random_state': 42}. Best is trial 32 with value: 0.553125.\n[I 2024-02-22 17:31:34,898] Trial 66 finished with value: 0.509375 and parameters: {'max_depth': 7, 'min_samples_split': 4, 'min_samples_leaf': 2, 'criterion': 'entropy', 'random_state': 42}. Best is trial 32 with value: 0.553125.\n[I 2024-02-22 17:31:35,132] Trial 67 finished with value: 0.490625 and parameters: {'max_depth': 7, 'min_samples_split': 7, 'min_samples_leaf': 2, 'criterion': 'entropy', 'random_state': 42}. Best is trial 32 with value: 0.553125.\n[I 2024-02-22 17:31:35,364] Trial 68 finished with value: 0.459375 and parameters: {'max_depth': 8, 'min_samples_split': 10, 'min_samples_leaf': 1, 'criterion': 'entropy', 'random_state': 42}. Best is trial 32 with value: 0.553125.\n[I 2024-02-22 17:31:35,603] Trial 69 finished with value: 0.5125 and parameters: {'max_depth': 8, 'min_samples_split': 2, 'min_samples_leaf': 1, 'criterion': 'entropy', 'random_state': 42}. Best is trial 32 with value: 0.553125.\n[I 2024-02-22 17:31:35,709] Trial 70 finished with value: 0.228125 and parameters: {'max_depth': 6, 'min_samples_split': 3, 'min_samples_leaf': 3, 'criterion': 'gini', 'random_state': 42}. Best is trial 32 with value: 0.553125.\n[I 2024-02-22 17:31:35,953] Trial 71 finished with value: 0.534375 and parameters: {'max_depth': 7, 'min_samples_split': 5, 'min_samples_leaf': 1, 'criterion': 'entropy', 'random_state': 42}. Best is trial 32 with value: 0.553125.\n[I 2024-02-22 17:31:36,197] Trial 72 finished with value: 0.534375 and parameters: {'max_depth': 7, 'min_samples_split': 5, 'min_samples_leaf': 1, 'criterion': 'entropy', 'random_state': 42}. Best is trial 32 with value: 0.553125.\n[I 2024-02-22 17:31:36,436] Trial 73 finished with value: 0.521875 and parameters: {'max_depth': 7, 'min_samples_split': 6, 'min_samples_leaf': 1, 'criterion': 'entropy', 'random_state': 42}. Best is trial 32 with value: 0.553125.\n[I 2024-02-22 17:31:36,685] Trial 74 finished with value: 0.515625 and parameters: {'max_depth': 7, 'min_samples_split': 5, 'min_samples_leaf': 2, 'criterion': 'entropy', 'random_state': 42}. Best is trial 32 with value: 0.553125.\n[I 2024-02-22 17:31:36,943] Trial 75 finished with value: 0.553125 and parameters: {'max_depth': 7, 'min_samples_split': 4, 'min_samples_leaf': 1, 'criterion': 'entropy', 'random_state': 42}. Best is trial 32 with value: 0.553125.\n[I 2024-02-22 17:31:37,201] Trial 76 finished with value: 0.509375 and parameters: {'max_depth': 6, 'min_samples_split': 4, 'min_samples_leaf': 1, 'criterion': 'entropy', 'random_state': 42}. Best is trial 32 with value: 0.553125.\n[I 2024-02-22 17:31:37,450] Trial 77 finished with value: 0.509375 and parameters: {'max_depth': 7, 'min_samples_split': 4, 'min_samples_leaf': 2, 'criterion': 'entropy', 'random_state': 42}. Best is trial 32 with value: 0.553125.\n[I 2024-02-22 17:31:37,693] Trial 78 finished with value: 0.51875 and parameters: {'max_depth': 7, 'min_samples_split': 3, 'min_samples_leaf': 1, 'criterion': 'entropy', 'random_state': 42}. Best is trial 32 with value: 0.553125.\n[I 2024-02-22 17:31:37,922] Trial 79 finished with value: 0.446875 and parameters: {'max_depth': 6, 'min_samples_split': 7, 'min_samples_leaf': 2, 'criterion': 'entropy', 'random_state': 42}. Best is trial 32 with value: 0.553125.\n[I 2024-02-22 17:31:38,162] Trial 80 finished with value: 0.521875 and parameters: {'max_depth': 7, 'min_samples_split': 6, 'min_samples_leaf': 1, 'criterion': 'entropy', 'random_state': 42}. Best is trial 32 with value: 0.553125.\n[I 2024-02-22 17:31:38,409] Trial 81 finished with value: 0.534375 and parameters: {'max_depth': 7, 'min_samples_split': 5, 'min_samples_leaf': 1, 'criterion': 'entropy', 'random_state': 42}. Best is trial 32 with value: 0.553125.\n[I 2024-02-22 17:31:38,649] Trial 82 finished with value: 0.534375 and parameters: {'max_depth': 7, 'min_samples_split': 5, 'min_samples_leaf': 1, 'criterion': 'entropy', 'random_state': 42}. Best is trial 32 with value: 0.553125.\n[I 2024-02-22 17:31:38,890] Trial 83 finished with value: 0.553125 and parameters: {'max_depth': 7, 'min_samples_split': 4, 'min_samples_leaf': 1, 'criterion': 'entropy', 'random_state': 42}. Best is trial 32 with value: 0.553125.\n[I 2024-02-22 17:31:39,130] Trial 84 finished with value: 0.521875 and parameters: {'max_depth': 6, 'min_samples_split': 2, 'min_samples_leaf': 1, 'criterion': 'entropy', 'random_state': 42}. Best is trial 32 with value: 0.553125.\n[I 2024-02-22 17:31:39,364] Trial 85 finished with value: 0.509375 and parameters: {'max_depth': 7, 'min_samples_split': 4, 'min_samples_leaf': 2, 'criterion': 'entropy', 'random_state': 42}. Best is trial 32 with value: 0.553125.\n[I 2024-02-22 17:31:39,614] Trial 86 finished with value: 0.521875 and parameters: {'max_depth': 6, 'min_samples_split': 3, 'min_samples_leaf': 1, 'criterion': 'entropy', 'random_state': 42}. Best is trial 32 with value: 0.553125.\n[I 2024-02-22 17:31:39,854] Trial 87 finished with value: 0.521875 and parameters: {'max_depth': 7, 'min_samples_split': 6, 'min_samples_leaf': 1, 'criterion': 'entropy', 'random_state': 42}. Best is trial 32 with value: 0.553125.\n[I 2024-02-22 17:31:40,048] Trial 88 finished with value: 0.075 and parameters: {'max_depth': 3, 'min_samples_split': 4, 'min_samples_leaf': 2, 'criterion': 'entropy', 'random_state': 42}. Best is trial 32 with value: 0.553125.\n[I 2024-02-22 17:31:40,177] Trial 89 finished with value: 0.309375 and parameters: {'max_depth': 7, 'min_samples_split': 5, 'min_samples_leaf': 1, 'criterion': 'gini', 'random_state': 42}. Best is trial 32 with value: 0.553125.\n[I 2024-02-22 17:31:40,395] Trial 90 finished with value: 0.4125 and parameters: {'max_depth': 6, 'min_samples_split': 4, 'min_samples_leaf': 6, 'criterion': 'entropy', 'random_state': 42}. Best is trial 32 with value: 0.553125.\n[I 2024-02-22 17:31:40,648] Trial 91 finished with value: 0.534375 and parameters: {'max_depth': 7, 'min_samples_split': 5, 'min_samples_leaf': 1, 'criterion': 'entropy', 'random_state': 42}. Best is trial 32 with value: 0.553125.\n[I 2024-02-22 17:31:40,898] Trial 92 finished with value: 0.534375 and parameters: {'max_depth': 7, 'min_samples_split': 5, 'min_samples_leaf': 1, 'criterion': 'entropy', 'random_state': 42}. Best is trial 32 with value: 0.553125.\n[I 2024-02-22 17:31:41,197] Trial 93 finished with value: 0.51875 and parameters: {'max_depth': 7, 'min_samples_split': 3, 'min_samples_leaf': 1, 'criterion': 'entropy', 'random_state': 42}. Best is trial 32 with value: 0.553125.\n[I 2024-02-22 17:31:41,473] Trial 94 finished with value: 0.534375 and parameters: {'max_depth': 7, 'min_samples_split': 5, 'min_samples_leaf': 1, 'criterion': 'entropy', 'random_state': 42}. Best is trial 32 with value: 0.553125.\n[I 2024-02-22 17:31:41,734] Trial 95 finished with value: 0.553125 and parameters: {'max_depth': 7, 'min_samples_split': 4, 'min_samples_leaf': 1, 'criterion': 'entropy', 'random_state': 42}. Best is trial 32 with value: 0.553125.\n[I 2024-02-22 17:31:41,996] Trial 96 finished with value: 0.5125 and parameters: {'max_depth': 8, 'min_samples_split': 2, 'min_samples_leaf': 2, 'criterion': 'entropy', 'random_state': 42}. Best is trial 32 with value: 0.553125.\n[I 2024-02-22 17:31:42,216] Trial 97 finished with value: 0.34375 and parameters: {'max_depth': 6, 'min_samples_split': 4, 'min_samples_leaf': 8, 'criterion': 'entropy', 'random_state': 42}. Best is trial 32 with value: 0.553125.\n[I 2024-02-22 17:31:42,472] Trial 98 finished with value: 0.490625 and parameters: {'max_depth': 7, 'min_samples_split': 6, 'min_samples_leaf': 2, 'criterion': 'entropy', 'random_state': 42}. Best is trial 32 with value: 0.553125.\n[I 2024-02-22 17:31:42,724] Trial 99 finished with value: 0.54375 and parameters: {'max_depth': 8, 'min_samples_split': 3, 'min_samples_leaf': 1, 'criterion': 'entropy', 'random_state': 42}. Best is trial 32 with value: 0.553125.\n",
          "output_type": "stream"
        },
        {
          "name": "stdout",
          "text": "Best params found : {'max_depth': 7, 'min_samples_split': 4, 'min_samples_leaf': 1, 'criterion': 'entropy', 'random_state': 42}\naccuracy: 0.6875\nrecall: 0.7361111111111112\nprecision: 0.7138888888888889\nf1-score: 0.6833633958633959\n",
          "output_type": "stream"
        }
      ]
    }
  ]
}