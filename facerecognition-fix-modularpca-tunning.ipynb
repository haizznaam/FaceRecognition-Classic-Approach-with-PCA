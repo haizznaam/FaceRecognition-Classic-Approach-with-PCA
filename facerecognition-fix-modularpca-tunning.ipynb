{
 "cells": [
  {
   "cell_type": "code",
   "execution_count": 1,
   "id": "3eb0ceaa",
   "metadata": {
    "_cell_guid": "b1076dfc-b9ad-4769-8c92-a6c4dae69d19",
    "_uuid": "8f2839f25d086af736a60e9eeb907d3b93b6e0e5",
    "execution": {
     "iopub.execute_input": "2024-02-22T17:58:01.585648Z",
     "iopub.status.busy": "2024-02-22T17:58:01.584825Z",
     "iopub.status.idle": "2024-02-22T17:58:04.164302Z",
     "shell.execute_reply": "2024-02-22T17:58:04.163228Z"
    },
    "id": "_t4qoYbfDINj",
    "papermill": {
     "duration": 2.625626,
     "end_time": "2024-02-22T17:58:04.166976",
     "exception": false,
     "start_time": "2024-02-22T17:58:01.541350",
     "status": "completed"
    },
    "tags": []
   },
   "outputs": [],
   "source": [
    "import os\n",
    "import cv2\n",
    "import numpy as np\n",
    "import pandas as pd\n",
    "from numpy.random import shuffle\n",
    "from sklearn.decomposition import PCA\n",
    "from sklearn.model_selection import train_test_split\n",
    "from sklearn.model_selection import KFold\n",
    "from sklearn.metrics import accuracy_score, precision_score, recall_score, f1_score, roc_auc_score\n",
    "from sklearn.linear_model import LogisticRegression\n",
    "from sklearn.model_selection import train_test_split, cross_val_score"
   ]
  },
  {
   "cell_type": "code",
   "execution_count": 2,
   "id": "f27a4123",
   "metadata": {
    "execution": {
     "iopub.execute_input": "2024-02-22T17:58:04.248561Z",
     "iopub.status.busy": "2024-02-22T17:58:04.247307Z",
     "iopub.status.idle": "2024-02-22T17:58:04.257802Z",
     "shell.execute_reply": "2024-02-22T17:58:04.256998Z"
    },
    "id": "SQebtD7KDINm",
    "papermill": {
     "duration": 0.053547,
     "end_time": "2024-02-22T17:58:04.260271",
     "exception": false,
     "start_time": "2024-02-22T17:58:04.206724",
     "status": "completed"
    },
    "tags": []
   },
   "outputs": [],
   "source": [
    "def get_data(path_data='/kaggle/input/att-images/ATT images', test_size=0.2, is_shuffle=True):\n",
    "    folders = [f's{i+1}' for i in range(40)]\n",
    "    X, y = [], []\n",
    "\n",
    "    for i in range(1, 41):\n",
    "        path = path_data + f'/s{i}'\n",
    "        files = os.listdir(path)\n",
    "        num_files = len(files)\n",
    "\n",
    "        if is_shuffle:\n",
    "            files = shuffle(files)\n",
    "\n",
    "        for file in os.listdir(path):\n",
    "            path = path_data + f'/s{i}/' + file\n",
    "            image = cv2.imread(path, cv2.IMREAD_GRAYSCALE)\n",
    "            pixels = np.reshape(image, [1, image.shape[0] * image.shape[1]])\n",
    "            pixels = np.asarray(pixels)\n",
    "\n",
    "            if len(X) == 0:\n",
    "                X = pixels\n",
    "            else:\n",
    "                X = np.vstack([X, pixels])\n",
    "            y.append(f's{i}')\n",
    "\n",
    "    return X, np.asarray(y)"
   ]
  },
  {
   "cell_type": "code",
   "execution_count": 3,
   "id": "ea81d14c",
   "metadata": {
    "execution": {
     "iopub.execute_input": "2024-02-22T17:58:04.341124Z",
     "iopub.status.busy": "2024-02-22T17:58:04.340359Z",
     "iopub.status.idle": "2024-02-22T17:58:04.346123Z",
     "shell.execute_reply": "2024-02-22T17:58:04.345333Z"
    },
    "id": "SDLUPzlMDINn",
    "papermill": {
     "duration": 0.048995,
     "end_time": "2024-02-22T17:58:04.348372",
     "exception": false,
     "start_time": "2024-02-22T17:58:04.299377",
     "status": "completed"
    },
    "tags": []
   },
   "outputs": [],
   "source": [
    "def get_length(n):\n",
    "    start = int(np.sqrt(n))\n",
    "    while start > 1:\n",
    "        if n % start == 0:\n",
    "            break\n",
    "        else:\n",
    "            start -= 1\n",
    "    return start, n // start"
   ]
  },
  {
   "cell_type": "code",
   "execution_count": 4,
   "id": "5b229d61",
   "metadata": {
    "execution": {
     "iopub.execute_input": "2024-02-22T17:58:04.428772Z",
     "iopub.status.busy": "2024-02-22T17:58:04.428023Z",
     "iopub.status.idle": "2024-02-22T17:58:04.438257Z",
     "shell.execute_reply": "2024-02-22T17:58:04.437260Z"
    },
    "id": "fBJXF_RMDINn",
    "papermill": {
     "duration": 0.053273,
     "end_time": "2024-02-22T17:58:04.440742",
     "exception": false,
     "start_time": "2024-02-22T17:58:04.387469",
     "status": "completed"
    },
    "tags": []
   },
   "outputs": [],
   "source": [
    "def cut_image(X, num_image=4, shape=(112,92)):\n",
    "    height, width = shape\n",
    "    num_width, num_height = get_length(num_image)\n",
    "    part_width = width // num_width\n",
    "    part_height = height // num_height\n",
    "\n",
    "    X_cut = []\n",
    "\n",
    "    for i in range(X.shape[0]):\n",
    "        image = X[i].reshape(shape)\n",
    "        for k in range(num_width):\n",
    "            for j in range(num_height):\n",
    "                left = j * part_width\n",
    "                upper = k * part_height\n",
    "                right = left + part_width\n",
    "                lower = upper + part_height\n",
    "\n",
    "                # Crop the image to get the part\n",
    "                part = image[upper:lower, left:right]\n",
    "\n",
    "                pixels = np.reshape(part, [1, part_width * part_height])\n",
    "                pixels = np.asarray(pixels)\n",
    "\n",
    "                if k == 0 and j == 0:\n",
    "                    X_i = pixels\n",
    "                else:\n",
    "                    X_i = np.hstack([X_i, pixels])\n",
    "\n",
    "        if len(X_cut) == 0:\n",
    "            X_cut = X_i\n",
    "        else:\n",
    "            X_cut = np.vstack([X_cut, X_i])\n",
    "\n",
    "    return X_cut"
   ]
  },
  {
   "cell_type": "code",
   "execution_count": 5,
   "id": "033dc196",
   "metadata": {
    "execution": {
     "iopub.execute_input": "2024-02-22T17:58:04.520759Z",
     "iopub.status.busy": "2024-02-22T17:58:04.520404Z",
     "iopub.status.idle": "2024-02-22T17:58:07.616978Z",
     "shell.execute_reply": "2024-02-22T17:58:07.615509Z"
    },
    "id": "4X06tC3kDINo",
    "papermill": {
     "duration": 3.139806,
     "end_time": "2024-02-22T17:58:07.619640",
     "exception": false,
     "start_time": "2024-02-22T17:58:04.479834",
     "status": "completed"
    },
    "tags": []
   },
   "outputs": [],
   "source": [
    "X, y = get_data()\n",
    "\n",
    "n_components_pca = 50\n",
    "n_splits = 5\n",
    "kf = KFold(n_splits=n_splits, shuffle=True, random_state=42)"
   ]
  },
  {
   "cell_type": "code",
   "execution_count": 6,
   "id": "7c3e0903",
   "metadata": {
    "execution": {
     "iopub.execute_input": "2024-02-22T17:58:07.702492Z",
     "iopub.status.busy": "2024-02-22T17:58:07.702087Z",
     "iopub.status.idle": "2024-02-22T17:58:07.710569Z",
     "shell.execute_reply": "2024-02-22T17:58:07.709496Z"
    },
    "id": "75i3mZfsDINo",
    "papermill": {
     "duration": 0.052385,
     "end_time": "2024-02-22T17:58:07.713061",
     "exception": false,
     "start_time": "2024-02-22T17:58:07.660676",
     "status": "completed"
    },
    "tags": []
   },
   "outputs": [],
   "source": [
    "class ModularPCA:\n",
    "    def __init__(self, n_components, num_image=4, shape_image=(112,92)):\n",
    "        self.n_components = n_components\n",
    "        self.shape = shape_image\n",
    "        self.num_image = num_image\n",
    "\n",
    "    def fit(self, X):\n",
    "        self.X = cut_image(X, self.num_image, self.shape)\n",
    "        self.pca = PCA(n_components=self.n_components, random_state=42)\n",
    "        self.pca.fit(self.X)\n",
    "\n",
    "    def transform(self, X):\n",
    "        X_cut = cut_image(X, self.num_image, self.shape)\n",
    "        return self.pca.transform(X_cut)\n",
    "\n",
    "    def fit_transform(self, X):\n",
    "        self.fit(X)\n",
    "        return self.pca.fit_transform(self.X)"
   ]
  },
  {
   "cell_type": "code",
   "execution_count": 7,
   "id": "a6a2f58e",
   "metadata": {
    "execution": {
     "iopub.execute_input": "2024-02-22T17:58:07.853819Z",
     "iopub.status.busy": "2024-02-22T17:58:07.853449Z",
     "iopub.status.idle": "2024-02-22T17:58:07.858844Z",
     "shell.execute_reply": "2024-02-22T17:58:07.857756Z"
    },
    "id": "oiZaIxf6DINp",
    "papermill": {
     "duration": 0.109083,
     "end_time": "2024-02-22T17:58:07.861282",
     "exception": false,
     "start_time": "2024-02-22T17:58:07.752199",
     "status": "completed"
    },
    "tags": []
   },
   "outputs": [],
   "source": [
    "# accuracy_scores, precision_scores, recall_scores, f1_scores = [], [], [], []\n",
    "\n",
    "# for train_index, test_index in kf.split(X, y):\n",
    "#     X_train, X_test = X[train_index], X[test_index]\n",
    "#     y_train, y_test = y[train_index], y[test_index]\n",
    "\n",
    "#     mpca = ModularPCA(n_components=n_components_pca)\n",
    "#     X_train_reduced = mpca.fit_transform(X_train)\n",
    "#     X_test_reduced = mpca.transform(X_test)\n",
    "\n",
    "#     # Euclidean\n",
    "#     y_pred = []\n",
    "#     for i in range(80):\n",
    "#         min_ = np.argmin(np.sqrt(np.sum((X_train_reduced - X_test_reduced[i])**2,axis=1)))\n",
    "#         y_pred.append(y_train[min_])\n",
    "\n",
    "#     # Evaluate the model\n",
    "#     accuracy = accuracy_score(y_test, y_pred)\n",
    "#     accuracy_scores.append(accuracy)\n",
    "\n",
    "# print(np.mean(accuracy_scores))"
   ]
  },
  {
   "cell_type": "code",
   "execution_count": 8,
   "id": "f8377711",
   "metadata": {
    "execution": {
     "iopub.execute_input": "2024-02-22T17:58:07.942545Z",
     "iopub.status.busy": "2024-02-22T17:58:07.942164Z",
     "iopub.status.idle": "2024-02-22T17:58:07.947114Z",
     "shell.execute_reply": "2024-02-22T17:58:07.945992Z"
    },
    "id": "Ex0MhxLpDINp",
    "papermill": {
     "duration": 0.048652,
     "end_time": "2024-02-22T17:58:07.949365",
     "exception": false,
     "start_time": "2024-02-22T17:58:07.900713",
     "status": "completed"
    },
    "tags": []
   },
   "outputs": [],
   "source": [
    "# accuracy_scores, precision_scores, recall_scores, f1_scores = [], [], [], []\n",
    "\n",
    "# for train_index, test_index in kf.split(X, y):\n",
    "#     X_train, X_test = X[train_index], X[test_index]\n",
    "#     y_train, y_test = y[train_index], y[test_index]\n",
    "\n",
    "#     mpca = ModularPCA(n_components=n_components_pca)\n",
    "#     X_train_reduced = mpca.fit_transform(X_train)\n",
    "#     X_test_reduced = mpca.transform(X_test)\n",
    "\n",
    "#     # Logistic\n",
    "#     lr = LogisticRegression(multi_class='ovr', solver='liblinear')\n",
    "#     lr.fit(X_train_reduced, y_train)\n",
    "#     y_pred = lr.predict(X_test_reduced)\n",
    "\n",
    "#     # Evaluate the model\n",
    "#     accuracy = accuracy_score(y_test, y_pred)\n",
    "#     accuracy_scores.append(accuracy)\n",
    "\n",
    "# print(np.mean(accuracy_scores))"
   ]
  },
  {
   "cell_type": "code",
   "execution_count": 9,
   "id": "6f5489ae",
   "metadata": {
    "execution": {
     "iopub.execute_input": "2024-02-22T17:58:08.030608Z",
     "iopub.status.busy": "2024-02-22T17:58:08.030233Z",
     "iopub.status.idle": "2024-02-22T17:58:08.562042Z",
     "shell.execute_reply": "2024-02-22T17:58:08.560804Z"
    },
    "id": "raTRESCYZocE",
    "papermill": {
     "duration": 0.575725,
     "end_time": "2024-02-22T17:58:08.564734",
     "exception": false,
     "start_time": "2024-02-22T17:58:07.989009",
     "status": "completed"
    },
    "tags": []
   },
   "outputs": [],
   "source": [
    "X, y = get_data()\n",
    "X_train, X_test, y_train, y_test = train_test_split(X, y, test_size=0.2, random_state=42)"
   ]
  },
  {
   "cell_type": "markdown",
   "id": "b4c623b6",
   "metadata": {
    "id": "o-Mq8dZTnxdy",
    "papermill": {
     "duration": 0.039074,
     "end_time": "2024-02-22T17:58:08.643076",
     "exception": false,
     "start_time": "2024-02-22T17:58:08.604002",
     "status": "completed"
    },
    "tags": []
   },
   "source": [
    "# num_image = 4"
   ]
  },
  {
   "cell_type": "code",
   "execution_count": 10,
   "id": "d8054470",
   "metadata": {
    "execution": {
     "iopub.execute_input": "2024-02-22T17:58:08.723862Z",
     "iopub.status.busy": "2024-02-22T17:58:08.723452Z",
     "iopub.status.idle": "2024-02-22T17:58:10.186228Z",
     "shell.execute_reply": "2024-02-22T17:58:10.184706Z"
    },
    "id": "BYfLrStuZocF",
    "papermill": {
     "duration": 1.507951,
     "end_time": "2024-02-22T17:58:10.190405",
     "exception": false,
     "start_time": "2024-02-22T17:58:08.682454",
     "status": "completed"
    },
    "tags": []
   },
   "outputs": [],
   "source": [
    "n_components_pca = 50\n",
    "pca = ModularPCA(n_components=n_components_pca, num_image=4)\n",
    "X_train_reduced = pca.fit_transform(X_train)\n",
    "X_test_reduced = pca.transform(X_test)"
   ]
  },
  {
   "cell_type": "markdown",
   "id": "3178cce6",
   "metadata": {
    "id": "Iu7yIjDNZocF",
    "papermill": {
     "duration": 0.039357,
     "end_time": "2024-02-22T17:58:10.350340",
     "exception": false,
     "start_time": "2024-02-22T17:58:10.310983",
     "status": "completed"
    },
    "tags": []
   },
   "source": [
    "## Modeling"
   ]
  },
  {
   "cell_type": "code",
   "execution_count": 11,
   "id": "9cc502ff",
   "metadata": {
    "execution": {
     "iopub.execute_input": "2024-02-22T17:58:10.430947Z",
     "iopub.status.busy": "2024-02-22T17:58:10.430562Z",
     "iopub.status.idle": "2024-02-22T17:58:10.435591Z",
     "shell.execute_reply": "2024-02-22T17:58:10.434631Z"
    },
    "id": "98FrY_DqZocH",
    "papermill": {
     "duration": 0.048494,
     "end_time": "2024-02-22T17:58:10.438065",
     "exception": false,
     "start_time": "2024-02-22T17:58:10.389571",
     "status": "completed"
    },
    "tags": []
   },
   "outputs": [],
   "source": [
    "from sklearn.model_selection import KFold\n",
    "n_splits = 5\n",
    "kf = KFold(n_splits=n_splits, shuffle=True, random_state=42)"
   ]
  },
  {
   "cell_type": "code",
   "execution_count": 12,
   "id": "d7e95c37",
   "metadata": {
    "execution": {
     "iopub.execute_input": "2024-02-22T17:58:10.520136Z",
     "iopub.status.busy": "2024-02-22T17:58:10.519001Z",
     "iopub.status.idle": "2024-02-22T17:58:10.956371Z",
     "shell.execute_reply": "2024-02-22T17:58:10.954825Z"
    },
    "id": "flCk0CVhZocH",
    "outputId": "af827c00-5aa5-4719-9324-9a102137fc12",
    "papermill": {
     "duration": 0.482769,
     "end_time": "2024-02-22T17:58:10.961079",
     "exception": false,
     "start_time": "2024-02-22T17:58:10.478310",
     "status": "completed"
    },
    "tags": []
   },
   "outputs": [
    {
     "name": "stdout",
     "output_type": "stream",
     "text": [
      "accuracy: 1.0\n",
      "recall: 1.0\n",
      "precision: 1.0\n",
      "f1-score: 1.0\n",
      "roc_auc:  1.0\n"
     ]
    },
    {
     "name": "stderr",
     "output_type": "stream",
     "text": [
      "/opt/conda/lib/python3.10/site-packages/sklearn/linear_model/_logistic.py:458: ConvergenceWarning: lbfgs failed to converge (status=1):\n",
      "STOP: TOTAL NO. of ITERATIONS REACHED LIMIT.\n",
      "\n",
      "Increase the number of iterations (max_iter) or scale the data as shown in:\n",
      "    https://scikit-learn.org/stable/modules/preprocessing.html\n",
      "Please also refer to the documentation for alternative solver options:\n",
      "    https://scikit-learn.org/stable/modules/linear_model.html#logistic-regression\n",
      "  n_iter_i = _check_optimize_result(\n"
     ]
    }
   ],
   "source": [
    "lr = LogisticRegression()\n",
    "lr.fit(X_train_reduced, y_train)\n",
    "y_pred = lr.predict(X_test_reduced)\n",
    "\n",
    "accuracy = accuracy_score(y_test, y_pred)\n",
    "precision = precision_score(y_test, y_pred, average='macro')\n",
    "recall = recall_score(y_test, y_pred, average='macro')\n",
    "f1 = f1_score(y_test, y_pred, average='macro')\n",
    "\n",
    "# One-hot encoding for probability calculation (adapt if necessary)\n",
    "y_test_onehot = pd.get_dummies(y_test, prefix='label_')  # Assuming 'label_' prefix for clarity\n",
    "y_pred_onehot = pd.get_dummies(y_pred, prefix='label_')\n",
    "\n",
    "# ROC AUC score with multiclass handling\n",
    "roc_auc_macro = roc_auc_score(y_test_onehot, y_pred_onehot, average='macro', multi_class='ovo')  # Specify 'ovo' or 'ovr'\n",
    "\n",
    "print(\"accuracy:\", accuracy)\n",
    "print(\"recall:\", recall)\n",
    "print(\"precision:\", precision)\n",
    "print(\"f1-score:\", f1)\n",
    "print('roc_auc: ', roc_auc_macro)"
   ]
  },
  {
   "cell_type": "markdown",
   "id": "e163306e",
   "metadata": {
    "id": "Tp7LvPdcZocI",
    "papermill": {
     "duration": 0.03972,
     "end_time": "2024-02-22T17:58:11.050139",
     "exception": false,
     "start_time": "2024-02-22T17:58:11.010419",
     "status": "completed"
    },
    "tags": []
   },
   "source": [
    "## Random Forest"
   ]
  },
  {
   "cell_type": "code",
   "execution_count": 13,
   "id": "dcb67f6e",
   "metadata": {
    "execution": {
     "iopub.execute_input": "2024-02-22T17:58:11.131644Z",
     "iopub.status.busy": "2024-02-22T17:58:11.131230Z",
     "iopub.status.idle": "2024-02-22T17:58:11.136045Z",
     "shell.execute_reply": "2024-02-22T17:58:11.134976Z"
    },
    "id": "z70ML5cGZocI",
    "papermill": {
     "duration": 0.047566,
     "end_time": "2024-02-22T17:58:11.138214",
     "exception": false,
     "start_time": "2024-02-22T17:58:11.090648",
     "status": "completed"
    },
    "tags": []
   },
   "outputs": [],
   "source": [
    "prediction_results = {}"
   ]
  },
  {
   "cell_type": "code",
   "execution_count": 14,
   "id": "8095bbe0",
   "metadata": {
    "execution": {
     "iopub.execute_input": "2024-02-22T17:58:11.219197Z",
     "iopub.status.busy": "2024-02-22T17:58:11.218785Z",
     "iopub.status.idle": "2024-02-22T17:58:11.336938Z",
     "shell.execute_reply": "2024-02-22T17:58:11.335770Z"
    },
    "id": "w5pmOW2ZZocJ",
    "papermill": {
     "duration": 0.161699,
     "end_time": "2024-02-22T17:58:11.339589",
     "exception": false,
     "start_time": "2024-02-22T17:58:11.177890",
     "status": "completed"
    },
    "tags": []
   },
   "outputs": [],
   "source": [
    "from sklearn.ensemble import RandomForestClassifier\n",
    "from sklearn.metrics import accuracy_score"
   ]
  },
  {
   "cell_type": "markdown",
   "id": "d95aca19",
   "metadata": {
    "id": "n3culyLtZocJ",
    "papermill": {
     "duration": 0.039359,
     "end_time": "2024-02-22T17:58:11.419578",
     "exception": false,
     "start_time": "2024-02-22T17:58:11.380219",
     "status": "completed"
    },
    "tags": []
   },
   "source": [
    "**Normal**"
   ]
  },
  {
   "cell_type": "code",
   "execution_count": 15,
   "id": "51741440",
   "metadata": {
    "execution": {
     "iopub.execute_input": "2024-02-22T17:58:11.501170Z",
     "iopub.status.busy": "2024-02-22T17:58:11.500754Z",
     "iopub.status.idle": "2024-02-22T17:58:12.027073Z",
     "shell.execute_reply": "2024-02-22T17:58:12.025506Z"
    },
    "id": "cdI-thcdZocJ",
    "outputId": "e1f8598f-d679-4c4d-d635-60fc0230e360",
    "papermill": {
     "duration": 0.570141,
     "end_time": "2024-02-22T17:58:12.029635",
     "exception": false,
     "start_time": "2024-02-22T17:58:11.459494",
     "status": "completed"
    },
    "tags": []
   },
   "outputs": [
    {
     "name": "stdout",
     "output_type": "stream",
     "text": [
      "accuracy: 0.9875\n",
      "recall: 0.9722222222222222\n",
      "precision: 0.9629629629629629\n",
      "f1-score: 0.9666666666666666\n",
      "roc_auc:  0.7339875119474435\n"
     ]
    },
    {
     "name": "stderr",
     "output_type": "stream",
     "text": [
      "/opt/conda/lib/python3.10/site-packages/sklearn/metrics/_classification.py:1344: UndefinedMetricWarning: Precision is ill-defined and being set to 0.0 in labels with no predicted samples. Use `zero_division` parameter to control this behavior.\n",
      "  _warn_prf(average, modifier, msg_start, len(result))\n"
     ]
    }
   ],
   "source": [
    "rfr = RandomForestClassifier(random_state=42)\n",
    "rfr.fit(X_train_reduced,y_train)\n",
    "y_pred = rfr.predict(X_test_reduced)\n",
    "\n",
    "accuracy = accuracy_score(y_test, y_pred)\n",
    "precision = precision_score(y_test, y_pred, average='macro')\n",
    "recall = recall_score(y_test, y_pred, average='macro')\n",
    "f1 = f1_score(y_test, y_pred, average='macro')\n",
    "\n",
    "# One-hot encoding for probability calculation (adapt if necessary)\n",
    "y_test_onehot = pd.get_dummies(y_test, prefix='label_')  # Assuming 'label_' prefix for clarity\n",
    "y_pred_onehot = pd.get_dummies(y_pred, prefix='label_')\n",
    "\n",
    "# ROC AUC score with multiclass handling\n",
    "roc_auc_macro = roc_auc_score(y_test_onehot, y_pred_onehot, average='macro', multi_class='ovo')  # Specify 'ovo' or 'ovr'\n",
    "\n",
    "print(\"accuracy:\", accuracy)\n",
    "print(\"recall:\", recall)\n",
    "print(\"precision:\", precision)\n",
    "print(\"f1-score:\", f1)\n",
    "print('roc_auc: ', roc_auc_macro)"
   ]
  },
  {
   "cell_type": "markdown",
   "id": "81573af4",
   "metadata": {
    "id": "IhH_HIi2ZocJ",
    "papermill": {
     "duration": 0.039388,
     "end_time": "2024-02-22T17:58:12.108811",
     "exception": false,
     "start_time": "2024-02-22T17:58:12.069423",
     "status": "completed"
    },
    "tags": []
   },
   "source": [
    "**Tunning**"
   ]
  },
  {
   "cell_type": "code",
   "execution_count": 16,
   "id": "f2c90aa7",
   "metadata": {
    "execution": {
     "iopub.execute_input": "2024-02-22T17:58:12.190749Z",
     "iopub.status.busy": "2024-02-22T17:58:12.190376Z",
     "iopub.status.idle": "2024-02-22T17:58:13.575889Z",
     "shell.execute_reply": "2024-02-22T17:58:13.574845Z"
    },
    "id": "gtTc9UhBZocJ",
    "papermill": {
     "duration": 1.429719,
     "end_time": "2024-02-22T17:58:13.578862",
     "exception": false,
     "start_time": "2024-02-22T17:58:12.149143",
     "status": "completed"
    },
    "tags": []
   },
   "outputs": [],
   "source": [
    "import optuna\n",
    "\n",
    "\n",
    "def objective(trial):\n",
    "    hyperparams = {\n",
    "        'n_estimators': trial.suggest_int('n_estimators', 100, 1000),\n",
    "        'max_depth': trial.suggest_int('max_depth', 10, 50),\n",
    "        'min_samples_split': trial.suggest_int('min_samples_split', 2, 32),\n",
    "        'random_state': trial.suggest_categorical('random_state', [42]),\n",
    "        'min_samples_leaf': trial.suggest_int('min_samples_leaf', 1, 32),\n",
    "        'n_jobs': -1\n",
    "    }\n",
    "\n",
    "    model = RandomForestClassifier(**hyperparams)\n",
    "    scores = cross_val_score(model, X_train_reduced,\n",
    "                             y_train, cv=kf, scoring='accuracy')\n",
    "    return np.mean(scores)"
   ]
  },
  {
   "cell_type": "code",
   "execution_count": 17,
   "id": "c87edc60",
   "metadata": {
    "execution": {
     "iopub.execute_input": "2024-02-22T17:58:13.662843Z",
     "iopub.status.busy": "2024-02-22T17:58:13.662441Z",
     "iopub.status.idle": "2024-02-22T18:22:49.107438Z",
     "shell.execute_reply": "2024-02-22T18:22:49.106263Z"
    },
    "id": "7x-i7EwaZocK",
    "outputId": "326d8b72-2363-473c-956c-6340457e819f",
    "papermill": {
     "duration": 1475.490492,
     "end_time": "2024-02-22T18:22:49.110189",
     "exception": false,
     "start_time": "2024-02-22T17:58:13.619697",
     "status": "completed"
    },
    "tags": []
   },
   "outputs": [
    {
     "name": "stderr",
     "output_type": "stream",
     "text": [
      "[I 2024-02-22 17:58:13,665] A new study created in memory with name: no-name-f3b6df15-a9cb-4508-82c2-1fb4f33c171b\n",
      "[I 2024-02-22 17:58:29,542] Trial 0 finished with value: 0.8 and parameters: {'n_estimators': 858, 'max_depth': 16, 'min_samples_split': 9, 'random_state': 42, 'min_samples_leaf': 6}. Best is trial 0 with value: 0.8.\n",
      "[I 2024-02-22 17:58:43,044] Trial 1 finished with value: 0.6875 and parameters: {'n_estimators': 812, 'max_depth': 13, 'min_samples_split': 9, 'random_state': 42, 'min_samples_leaf': 16}. Best is trial 0 with value: 0.8.\n",
      "[I 2024-02-22 17:58:50,688] Trial 2 finished with value: 0.75 and parameters: {'n_estimators': 431, 'max_depth': 26, 'min_samples_split': 3, 'random_state': 42, 'min_samples_leaf': 9}. Best is trial 0 with value: 0.8.\n",
      "[I 2024-02-22 17:58:58,549] Trial 3 finished with value: 0.746875 and parameters: {'n_estimators': 450, 'max_depth': 13, 'min_samples_split': 17, 'random_state': 42, 'min_samples_leaf': 10}. Best is trial 0 with value: 0.8.\n",
      "[I 2024-02-22 17:59:14,105] Trial 4 finished with value: 0.68125 and parameters: {'n_estimators': 839, 'max_depth': 21, 'min_samples_split': 26, 'random_state': 42, 'min_samples_leaf': 2}. Best is trial 0 with value: 0.8.\n",
      "[I 2024-02-22 17:59:27,299] Trial 5 finished with value: 0.50625 and parameters: {'n_estimators': 810, 'max_depth': 31, 'min_samples_split': 22, 'random_state': 42, 'min_samples_leaf': 32}. Best is trial 0 with value: 0.8.\n",
      "[I 2024-02-22 17:59:42,014] Trial 6 finished with value: 0.69375 and parameters: {'n_estimators': 829, 'max_depth': 30, 'min_samples_split': 29, 'random_state': 42, 'min_samples_leaf': 8}. Best is trial 0 with value: 0.8.\n",
      "[I 2024-02-22 17:59:47,789] Trial 7 finished with value: 0.7875 and parameters: {'n_estimators': 319, 'max_depth': 31, 'min_samples_split': 11, 'random_state': 42, 'min_samples_leaf': 7}. Best is trial 0 with value: 0.8.\n",
      "[I 2024-02-22 17:59:57,244] Trial 8 finished with value: 0.696875 and parameters: {'n_estimators': 531, 'max_depth': 26, 'min_samples_split': 27, 'random_state': 42, 'min_samples_leaf': 8}. Best is trial 0 with value: 0.8.\n",
      "[I 2024-02-22 18:00:12,195] Trial 9 finished with value: 0.725 and parameters: {'n_estimators': 855, 'max_depth': 47, 'min_samples_split': 7, 'random_state': 42, 'min_samples_leaf': 13}. Best is trial 0 with value: 0.8.\n",
      "[I 2024-02-22 18:00:29,006] Trial 10 finished with value: 0.625 and parameters: {'n_estimators': 996, 'max_depth': 41, 'min_samples_split': 15, 'random_state': 42, 'min_samples_leaf': 22}. Best is trial 0 with value: 0.8.\n",
      "[I 2024-02-22 18:00:31,973] Trial 11 finished with value: 0.7875 and parameters: {'n_estimators': 145, 'max_depth': 39, 'min_samples_split': 10, 'random_state': 42, 'min_samples_leaf': 1}. Best is trial 0 with value: 0.8.\n",
      "[I 2024-02-22 18:00:36,058] Trial 12 finished with value: 0.59375 and parameters: {'n_estimators': 239, 'max_depth': 21, 'min_samples_split': 13, 'random_state': 42, 'min_samples_leaf': 22}. Best is trial 0 with value: 0.8.\n",
      "[I 2024-02-22 18:00:42,185] Trial 13 finished with value: 0.834375 and parameters: {'n_estimators': 310, 'max_depth': 36, 'min_samples_split': 4, 'random_state': 42, 'min_samples_leaf': 4}. Best is trial 13 with value: 0.834375.\n",
      "[I 2024-02-22 18:00:54,491] Trial 14 finished with value: 0.834375 and parameters: {'n_estimators': 637, 'max_depth': 39, 'min_samples_split': 2, 'random_state': 42, 'min_samples_leaf': 4}. Best is trial 13 with value: 0.834375.\n",
      "[I 2024-02-22 18:01:08,552] Trial 15 finished with value: 0.865625 and parameters: {'n_estimators': 705, 'max_depth': 41, 'min_samples_split': 2, 'random_state': 42, 'min_samples_leaf': 3}. Best is trial 15 with value: 0.865625.\n",
      "[I 2024-02-22 18:01:20,277] Trial 16 finished with value: 0.659375 and parameters: {'n_estimators': 675, 'max_depth': 49, 'min_samples_split': 5, 'random_state': 42, 'min_samples_leaf': 19}. Best is trial 15 with value: 0.865625.\n",
      "[I 2024-02-22 18:01:26,315] Trial 17 finished with value: 0.703125 and parameters: {'n_estimators': 340, 'max_depth': 44, 'min_samples_split': 21, 'random_state': 42, 'min_samples_leaf': 13}. Best is trial 15 with value: 0.865625.\n",
      "[I 2024-02-22 18:01:39,274] Trial 18 finished with value: 0.834375 and parameters: {'n_estimators': 660, 'max_depth': 35, 'min_samples_split': 5, 'random_state': 42, 'min_samples_leaf': 4}. Best is trial 15 with value: 0.865625.\n",
      "[I 2024-02-22 18:01:41,559] Trial 19 finished with value: 0.646875 and parameters: {'n_estimators': 118, 'max_depth': 35, 'min_samples_split': 5, 'random_state': 42, 'min_samples_leaf': 14}. Best is trial 15 with value: 0.865625.\n",
      "[I 2024-02-22 18:01:50,791] Trial 20 finished with value: 0.546875 and parameters: {'n_estimators': 546, 'max_depth': 44, 'min_samples_split': 2, 'random_state': 42, 'min_samples_leaf': 27}. Best is trial 15 with value: 0.865625.\n",
      "[I 2024-02-22 18:02:04,050] Trial 21 finished with value: 0.871875 and parameters: {'n_estimators': 667, 'max_depth': 37, 'min_samples_split': 2, 'random_state': 42, 'min_samples_leaf': 3}. Best is trial 21 with value: 0.871875.\n",
      "[I 2024-02-22 18:02:19,197] Trial 22 finished with value: 0.846875 and parameters: {'n_estimators': 741, 'max_depth': 35, 'min_samples_split': 7, 'random_state': 42, 'min_samples_leaf': 1}. Best is trial 21 with value: 0.871875.\n",
      "[I 2024-02-22 18:02:33,851] Trial 23 finished with value: 0.85 and parameters: {'n_estimators': 733, 'max_depth': 43, 'min_samples_split': 7, 'random_state': 42, 'min_samples_leaf': 1}. Best is trial 21 with value: 0.871875.\n",
      "[I 2024-02-22 18:02:52,432] Trial 24 finished with value: 0.84375 and parameters: {'n_estimators': 973, 'max_depth': 44, 'min_samples_split': 7, 'random_state': 42, 'min_samples_leaf': 4}. Best is trial 21 with value: 0.871875.\n",
      "[I 2024-02-22 18:03:04,907] Trial 25 finished with value: 0.7375 and parameters: {'n_estimators': 708, 'max_depth': 41, 'min_samples_split': 13, 'random_state': 42, 'min_samples_leaf': 11}. Best is trial 21 with value: 0.871875.\n",
      "[I 2024-02-22 18:03:18,928] Trial 26 finished with value: 0.803125 and parameters: {'n_estimators': 750, 'max_depth': 49, 'min_samples_split': 2, 'random_state': 42, 'min_samples_leaf': 6}. Best is trial 21 with value: 0.871875.\n",
      "[I 2024-02-22 18:03:31,385] Trial 27 finished with value: 0.8625 and parameters: {'n_estimators': 621, 'max_depth': 46, 'min_samples_split': 7, 'random_state': 42, 'min_samples_leaf': 1}. Best is trial 21 with value: 0.871875.\n",
      "[I 2024-02-22 18:03:43,070] Trial 28 finished with value: 0.790625 and parameters: {'n_estimators': 611, 'max_depth': 46, 'min_samples_split': 12, 'random_state': 42, 'min_samples_leaf': 3}. Best is trial 21 with value: 0.871875.\n",
      "[I 2024-02-22 18:03:53,939] Trial 29 finished with value: 0.803125 and parameters: {'n_estimators': 581, 'max_depth': 38, 'min_samples_split': 5, 'random_state': 42, 'min_samples_leaf': 6}. Best is trial 21 with value: 0.871875.\n",
      "[I 2024-02-22 18:04:10,931] Trial 30 finished with value: 0.796875 and parameters: {'n_estimators': 928, 'max_depth': 50, 'min_samples_split': 8, 'random_state': 42, 'min_samples_leaf': 6}. Best is trial 21 with value: 0.871875.\n",
      "[I 2024-02-22 18:04:21,102] Trial 31 finished with value: 0.86875 and parameters: {'n_estimators': 491, 'max_depth': 42, 'min_samples_split': 6, 'random_state': 42, 'min_samples_leaf': 1}. Best is trial 21 with value: 0.871875.\n",
      "[I 2024-02-22 18:04:30,252] Trial 32 finished with value: 0.828125 and parameters: {'n_estimators': 468, 'max_depth': 41, 'min_samples_split': 9, 'random_state': 42, 'min_samples_leaf': 3}. Best is trial 21 with value: 0.871875.\n",
      "[I 2024-02-22 18:04:40,511] Trial 33 finished with value: 0.89375 and parameters: {'n_estimators': 509, 'max_depth': 47, 'min_samples_split': 4, 'random_state': 42, 'min_samples_leaf': 1}. Best is trial 33 with value: 0.89375.\n",
      "[I 2024-02-22 18:04:50,066] Trial 34 finished with value: 0.80625 and parameters: {'n_estimators': 507, 'max_depth': 37, 'min_samples_split': 4, 'random_state': 42, 'min_samples_leaf': 5}. Best is trial 33 with value: 0.89375.\n",
      "[I 2024-02-22 18:04:58,122] Trial 35 finished with value: 0.75 and parameters: {'n_estimators': 442, 'max_depth': 42, 'min_samples_split': 3, 'random_state': 42, 'min_samples_leaf': 9}. Best is trial 33 with value: 0.89375.\n",
      "[I 2024-02-22 18:05:04,992] Trial 36 finished with value: 0.728125 and parameters: {'n_estimators': 385, 'max_depth': 47, 'min_samples_split': 18, 'random_state': 42, 'min_samples_leaf': 11}. Best is trial 33 with value: 0.89375.\n",
      "[I 2024-02-22 18:05:14,227] Trial 37 finished with value: 0.65 and parameters: {'n_estimators': 495, 'max_depth': 33, 'min_samples_split': 32, 'random_state': 42, 'min_samples_leaf': 3}. Best is trial 33 with value: 0.89375.\n",
      "[I 2024-02-22 18:05:24,274] Trial 38 finished with value: 0.678125 and parameters: {'n_estimators': 578, 'max_depth': 10, 'min_samples_split': 3, 'random_state': 42, 'min_samples_leaf': 17}. Best is trial 33 with value: 0.89375.\n",
      "[I 2024-02-22 18:05:31,524] Trial 39 finished with value: 0.790625 and parameters: {'n_estimators': 404, 'max_depth': 28, 'min_samples_split': 10, 'random_state': 42, 'min_samples_leaf': 7}. Best is trial 33 with value: 0.89375.\n",
      "[I 2024-02-22 18:05:46,710] Trial 40 finished with value: 0.878125 and parameters: {'n_estimators': 770, 'max_depth': 33, 'min_samples_split': 4, 'random_state': 42, 'min_samples_leaf': 2}. Best is trial 33 with value: 0.89375.\n",
      "[I 2024-02-22 18:06:02,740] Trial 41 finished with value: 0.878125 and parameters: {'n_estimators': 792, 'max_depth': 32, 'min_samples_split': 4, 'random_state': 42, 'min_samples_leaf': 2}. Best is trial 33 with value: 0.89375.\n",
      "[I 2024-02-22 18:06:20,607] Trial 42 finished with value: 0.875 and parameters: {'n_estimators': 892, 'max_depth': 33, 'min_samples_split': 6, 'random_state': 42, 'min_samples_leaf': 2}. Best is trial 33 with value: 0.89375.\n",
      "[I 2024-02-22 18:06:36,656] Trial 43 finished with value: 0.878125 and parameters: {'n_estimators': 794, 'max_depth': 22, 'min_samples_split': 4, 'random_state': 42, 'min_samples_leaf': 2}. Best is trial 33 with value: 0.89375.\n",
      "[I 2024-02-22 18:06:51,612] Trial 44 finished with value: 0.5 and parameters: {'n_estimators': 894, 'max_depth': 22, 'min_samples_split': 9, 'random_state': 42, 'min_samples_leaf': 32}. Best is trial 33 with value: 0.89375.\n",
      "[I 2024-02-22 18:07:06,658] Trial 45 finished with value: 0.8 and parameters: {'n_estimators': 791, 'max_depth': 25, 'min_samples_split': 4, 'random_state': 42, 'min_samples_leaf': 5}. Best is trial 33 with value: 0.89375.\n",
      "[I 2024-02-22 18:07:22,929] Trial 46 finished with value: 0.765625 and parameters: {'n_estimators': 896, 'max_depth': 17, 'min_samples_split': 6, 'random_state': 42, 'min_samples_leaf': 8}. Best is trial 33 with value: 0.89375.\n",
      "[I 2024-02-22 18:07:38,697] Trial 47 finished with value: 0.803125 and parameters: {'n_estimators': 795, 'max_depth': 33, 'min_samples_split': 11, 'random_state': 42, 'min_samples_leaf': 2}. Best is trial 33 with value: 0.89375.\n",
      "[I 2024-02-22 18:07:54,802] Trial 48 finished with value: 0.753125 and parameters: {'n_estimators': 868, 'max_depth': 28, 'min_samples_split': 17, 'random_state': 42, 'min_samples_leaf': 5}. Best is trial 33 with value: 0.89375.\n",
      "[I 2024-02-22 18:08:12,938] Trial 49 finished with value: 0.703125 and parameters: {'n_estimators': 959, 'max_depth': 24, 'min_samples_split': 24, 'random_state': 42, 'min_samples_leaf': 2}. Best is trial 33 with value: 0.89375.\n",
      "[I 2024-02-22 18:08:27,799] Trial 50 finished with value: 0.746875 and parameters: {'n_estimators': 831, 'max_depth': 17, 'min_samples_split': 15, 'random_state': 42, 'min_samples_leaf': 9}. Best is trial 33 with value: 0.89375.\n",
      "[I 2024-02-22 18:08:43,359] Trial 51 finished with value: 0.88125 and parameters: {'n_estimators': 768, 'max_depth': 32, 'min_samples_split': 4, 'random_state': 42, 'min_samples_leaf': 2}. Best is trial 33 with value: 0.89375.\n",
      "[I 2024-02-22 18:08:59,092] Trial 52 finished with value: 0.878125 and parameters: {'n_estimators': 786, 'max_depth': 32, 'min_samples_split': 4, 'random_state': 42, 'min_samples_leaf': 2}. Best is trial 33 with value: 0.89375.\n",
      "[I 2024-02-22 18:09:13,420] Trial 53 finished with value: 0.784375 and parameters: {'n_estimators': 772, 'max_depth': 28, 'min_samples_split': 4, 'random_state': 42, 'min_samples_leaf': 7}. Best is trial 33 with value: 0.89375.\n",
      "[I 2024-02-22 18:09:28,987] Trial 54 finished with value: 0.80625 and parameters: {'n_estimators': 831, 'max_depth': 30, 'min_samples_split': 4, 'random_state': 42, 'min_samples_leaf': 5}. Best is trial 33 with value: 0.89375.\n",
      "[I 2024-02-22 18:09:42,889] Trial 55 finished with value: 0.846875 and parameters: {'n_estimators': 698, 'max_depth': 31, 'min_samples_split': 8, 'random_state': 42, 'min_samples_leaf': 2}. Best is trial 33 with value: 0.89375.\n",
      "[I 2024-02-22 18:09:57,800] Trial 56 finished with value: 0.84375 and parameters: {'n_estimators': 775, 'max_depth': 29, 'min_samples_split': 3, 'random_state': 42, 'min_samples_leaf': 4}. Best is trial 33 with value: 0.89375.\n",
      "[I 2024-02-22 18:10:15,536] Trial 57 finished with value: 0.878125 and parameters: {'n_estimators': 855, 'max_depth': 32, 'min_samples_split': 5, 'random_state': 42, 'min_samples_leaf': 1}. Best is trial 33 with value: 0.89375.\n",
      "[I 2024-02-22 18:10:28,303] Trial 58 finished with value: 0.65 and parameters: {'n_estimators': 723, 'max_depth': 27, 'min_samples_split': 3, 'random_state': 42, 'min_samples_leaf': 20}. Best is trial 33 with value: 0.89375.\n",
      "[I 2024-02-22 18:10:45,057] Trial 59 finished with value: 0.871875 and parameters: {'n_estimators': 808, 'max_depth': 23, 'min_samples_split': 6, 'random_state': 42, 'min_samples_leaf': 3}. Best is trial 33 with value: 0.89375.\n",
      "[I 2024-02-22 18:10:58,137] Trial 60 finished with value: 0.54375 and parameters: {'n_estimators': 757, 'max_depth': 19, 'min_samples_split': 8, 'random_state': 42, 'min_samples_leaf': 29}. Best is trial 33 with value: 0.89375.\n",
      "[I 2024-02-22 18:11:16,281] Trial 61 finished with value: 0.88125 and parameters: {'n_estimators': 852, 'max_depth': 32, 'min_samples_split': 5, 'random_state': 42, 'min_samples_leaf': 1}. Best is trial 33 with value: 0.89375.\n",
      "[I 2024-02-22 18:11:34,216] Trial 62 finished with value: 0.88125 and parameters: {'n_estimators': 865, 'max_depth': 34, 'min_samples_split': 2, 'random_state': 42, 'min_samples_leaf': 2}. Best is trial 33 with value: 0.89375.\n",
      "[I 2024-02-22 18:11:52,910] Trial 63 finished with value: 0.840625 and parameters: {'n_estimators': 935, 'max_depth': 34, 'min_samples_split': 2, 'random_state': 42, 'min_samples_leaf': 4}. Best is trial 33 with value: 0.89375.\n",
      "[I 2024-02-22 18:12:11,201] Trial 64 finished with value: 0.88125 and parameters: {'n_estimators': 876, 'max_depth': 30, 'min_samples_split': 3, 'random_state': 42, 'min_samples_leaf': 1}. Best is trial 33 with value: 0.89375.\n",
      "[I 2024-02-22 18:12:29,271] Trial 65 finished with value: 0.89375 and parameters: {'n_estimators': 871, 'max_depth': 36, 'min_samples_split': 2, 'random_state': 42, 'min_samples_leaf': 1}. Best is trial 33 with value: 0.89375.\n",
      "[I 2024-02-22 18:12:50,059] Trial 66 finished with value: 0.896875 and parameters: {'n_estimators': 999, 'max_depth': 36, 'min_samples_split': 2, 'random_state': 42, 'min_samples_leaf': 1}. Best is trial 66 with value: 0.896875.\n",
      "[I 2024-02-22 18:13:10,575] Trial 67 finished with value: 0.896875 and parameters: {'n_estimators': 997, 'max_depth': 37, 'min_samples_split': 2, 'random_state': 42, 'min_samples_leaf': 1}. Best is trial 66 with value: 0.896875.\n",
      "[I 2024-02-22 18:13:29,843] Trial 68 finished with value: 0.896875 and parameters: {'n_estimators': 929, 'max_depth': 36, 'min_samples_split': 2, 'random_state': 42, 'min_samples_leaf': 1}. Best is trial 66 with value: 0.896875.\n",
      "[I 2024-02-22 18:13:49,134] Trial 69 finished with value: 0.84375 and parameters: {'n_estimators': 996, 'max_depth': 37, 'min_samples_split': 2, 'random_state': 42, 'min_samples_leaf': 4}. Best is trial 66 with value: 0.896875.\n",
      "[I 2024-02-22 18:14:04,960] Trial 70 finished with value: 0.5875 and parameters: {'n_estimators': 932, 'max_depth': 36, 'min_samples_split': 5, 'random_state': 42, 'min_samples_leaf': 24}. Best is trial 66 with value: 0.896875.\n",
      "[I 2024-02-22 18:14:25,218] Trial 71 finished with value: 0.89375 and parameters: {'n_estimators': 970, 'max_depth': 39, 'min_samples_split': 2, 'random_state': 42, 'min_samples_leaf': 1}. Best is trial 66 with value: 0.896875.\n",
      "[I 2024-02-22 18:14:45,844] Trial 72 finished with value: 0.89375 and parameters: {'n_estimators': 967, 'max_depth': 40, 'min_samples_split': 2, 'random_state': 42, 'min_samples_leaf': 1}. Best is trial 66 with value: 0.896875.\n",
      "[I 2024-02-22 18:15:05,160] Trial 73 finished with value: 0.871875 and parameters: {'n_estimators': 965, 'max_depth': 39, 'min_samples_split': 2, 'random_state': 42, 'min_samples_leaf': 3}. Best is trial 66 with value: 0.896875.\n",
      "[I 2024-02-22 18:15:25,232] Trial 74 finished with value: 0.86875 and parameters: {'n_estimators': 995, 'max_depth': 40, 'min_samples_split': 3, 'random_state': 42, 'min_samples_leaf': 3}. Best is trial 66 with value: 0.896875.\n",
      "[I 2024-02-22 18:15:44,610] Trial 75 finished with value: 0.896875 and parameters: {'n_estimators': 917, 'max_depth': 38, 'min_samples_split': 2, 'random_state': 42, 'min_samples_leaf': 1}. Best is trial 66 with value: 0.896875.\n",
      "[I 2024-02-22 18:16:04,284] Trial 76 finished with value: 0.896875 and parameters: {'n_estimators': 917, 'max_depth': 38, 'min_samples_split': 2, 'random_state': 42, 'min_samples_leaf': 1}. Best is trial 66 with value: 0.896875.\n",
      "[I 2024-02-22 18:16:22,275] Trial 77 finished with value: 0.815625 and parameters: {'n_estimators': 925, 'max_depth': 38, 'min_samples_split': 3, 'random_state': 42, 'min_samples_leaf': 5}. Best is trial 66 with value: 0.896875.\n",
      "[I 2024-02-22 18:16:42,697] Trial 78 finished with value: 0.896875 and parameters: {'n_estimators': 946, 'max_depth': 38, 'min_samples_split': 2, 'random_state': 42, 'min_samples_leaf': 1}. Best is trial 66 with value: 0.896875.\n",
      "[I 2024-02-22 18:17:01,092] Trial 79 finished with value: 0.8375 and parameters: {'n_estimators': 918, 'max_depth': 36, 'min_samples_split': 6, 'random_state': 42, 'min_samples_leaf': 4}. Best is trial 66 with value: 0.896875.\n",
      "[I 2024-02-22 18:17:21,145] Trial 80 finished with value: 0.88125 and parameters: {'n_estimators': 947, 'max_depth': 38, 'min_samples_split': 3, 'random_state': 42, 'min_samples_leaf': 1}. Best is trial 66 with value: 0.896875.\n",
      "[I 2024-02-22 18:17:41,566] Trial 81 finished with value: 0.89375 and parameters: {'n_estimators': 984, 'max_depth': 39, 'min_samples_split': 2, 'random_state': 42, 'min_samples_leaf': 1}. Best is trial 66 with value: 0.896875.\n",
      "[I 2024-02-22 18:17:59,384] Trial 82 finished with value: 0.86875 and parameters: {'n_estimators': 916, 'max_depth': 43, 'min_samples_split': 3, 'random_state': 42, 'min_samples_leaf': 3}. Best is trial 66 with value: 0.896875.\n",
      "[I 2024-02-22 18:18:17,913] Trial 83 finished with value: 0.896875 and parameters: {'n_estimators': 905, 'max_depth': 35, 'min_samples_split': 2, 'random_state': 42, 'min_samples_leaf': 1}. Best is trial 66 with value: 0.896875.\n",
      "[I 2024-02-22 18:18:35,508] Trial 84 finished with value: 0.871875 and parameters: {'n_estimators': 903, 'max_depth': 35, 'min_samples_split': 5, 'random_state': 42, 'min_samples_leaf': 3}. Best is trial 66 with value: 0.896875.\n",
      "[I 2024-02-22 18:18:52,270] Trial 85 finished with value: 0.840625 and parameters: {'n_estimators': 884, 'max_depth': 36, 'min_samples_split': 3, 'random_state': 42, 'min_samples_leaf': 4}. Best is trial 66 with value: 0.896875.\n",
      "[I 2024-02-22 18:19:08,208] Trial 86 finished with value: 0.684375 and parameters: {'n_estimators': 948, 'max_depth': 37, 'min_samples_split': 21, 'random_state': 42, 'min_samples_leaf': 16}. Best is trial 66 with value: 0.896875.\n",
      "[I 2024-02-22 18:19:25,871] Trial 87 finished with value: 0.79375 and parameters: {'n_estimators': 954, 'max_depth': 34, 'min_samples_split': 2, 'random_state': 42, 'min_samples_leaf': 6}. Best is trial 66 with value: 0.896875.\n",
      "[I 2024-02-22 18:19:29,947] Trial 88 finished with value: 0.6625 and parameters: {'n_estimators': 213, 'max_depth': 45, 'min_samples_split': 28, 'random_state': 42, 'min_samples_leaf': 3}. Best is trial 66 with value: 0.896875.\n",
      "[I 2024-02-22 18:19:40,929] Trial 89 finished with value: 0.88125 and parameters: {'n_estimators': 534, 'max_depth': 40, 'min_samples_split': 3, 'random_state': 42, 'min_samples_leaf': 1}. Best is trial 66 with value: 0.896875.\n",
      "[I 2024-02-22 18:19:59,105] Trial 90 finished with value: 0.875 and parameters: {'n_estimators': 913, 'max_depth': 42, 'min_samples_split': 6, 'random_state': 42, 'min_samples_leaf': 2}. Best is trial 66 with value: 0.896875.\n",
      "[I 2024-02-22 18:20:19,376] Trial 91 finished with value: 0.89375 and parameters: {'n_estimators': 979, 'max_depth': 38, 'min_samples_split': 2, 'random_state': 42, 'min_samples_leaf': 1}. Best is trial 66 with value: 0.896875.\n",
      "[I 2024-02-22 18:20:40,136] Trial 92 finished with value: 0.896875 and parameters: {'n_estimators': 997, 'max_depth': 37, 'min_samples_split': 2, 'random_state': 42, 'min_samples_leaf': 1}. Best is trial 66 with value: 0.896875.\n",
      "[I 2024-02-22 18:20:59,349] Trial 93 finished with value: 0.884375 and parameters: {'n_estimators': 945, 'max_depth': 35, 'min_samples_split': 4, 'random_state': 42, 'min_samples_leaf': 2}. Best is trial 66 with value: 0.896875.\n",
      "[I 2024-02-22 18:21:19,982] Trial 94 finished with value: 0.884375 and parameters: {'n_estimators': 1000, 'max_depth': 36, 'min_samples_split': 3, 'random_state': 42, 'min_samples_leaf': 2}. Best is trial 66 with value: 0.896875.\n",
      "[I 2024-02-22 18:21:31,542] Trial 95 finished with value: 0.871875 and parameters: {'n_estimators': 576, 'max_depth': 37, 'min_samples_split': 5, 'random_state': 42, 'min_samples_leaf': 3}. Best is trial 66 with value: 0.896875.\n",
      "[I 2024-02-22 18:21:52,095] Trial 96 finished with value: 0.89375 and parameters: {'n_estimators': 982, 'max_depth': 41, 'min_samples_split': 2, 'random_state': 42, 'min_samples_leaf': 1}. Best is trial 66 with value: 0.896875.\n",
      "[I 2024-02-22 18:22:09,550] Trial 97 finished with value: 0.84375 and parameters: {'n_estimators': 903, 'max_depth': 48, 'min_samples_split': 4, 'random_state': 42, 'min_samples_leaf': 4}. Best is trial 66 with value: 0.896875.\n",
      "[I 2024-02-22 18:22:27,635] Trial 98 finished with value: 0.8125 and parameters: {'n_estimators': 929, 'max_depth': 38, 'min_samples_split': 3, 'random_state': 42, 'min_samples_leaf': 5}. Best is trial 66 with value: 0.896875.\n",
      "[I 2024-02-22 18:22:44,339] Trial 99 finished with value: 0.86875 and parameters: {'n_estimators': 844, 'max_depth': 34, 'min_samples_split': 2, 'random_state': 42, 'min_samples_leaf': 3}. Best is trial 66 with value: 0.896875.\n"
     ]
    },
    {
     "name": "stdout",
     "output_type": "stream",
     "text": [
      "Best params found : {'n_estimators': 999, 'max_depth': 36, 'min_samples_split': 2, 'random_state': 42, 'min_samples_leaf': 1}\n"
     ]
    },
    {
     "data": {
      "text/plain": [
       "0.9875"
      ]
     },
     "execution_count": 17,
     "metadata": {},
     "output_type": "execute_result"
    }
   ],
   "source": [
    "study = optuna.create_study(direction = 'maximize')\n",
    "study.optimize(objective, n_trials = 100)\n",
    "best_params = study.best_params\n",
    "print(\"Best params found :\", best_params)\n",
    "\n",
    "final_model = RandomForestClassifier(**best_params)\n",
    "final_model.fit(X_train_reduced, y_train)\n",
    "y_pred = final_model.predict(X_test_reduced)\n",
    "accuracy_score(y_test, y_pred)"
   ]
  },
  {
   "cell_type": "code",
   "execution_count": 18,
   "id": "588c7bdc",
   "metadata": {
    "execution": {
     "iopub.execute_input": "2024-02-22T18:22:49.224081Z",
     "iopub.status.busy": "2024-02-22T18:22:49.223427Z",
     "iopub.status.idle": "2024-02-22T18:22:54.025195Z",
     "shell.execute_reply": "2024-02-22T18:22:54.024093Z"
    },
    "id": "zD5PvI_8ZocK",
    "outputId": "d2e0f7aa-4c02-4369-994f-c3a5fa3db382",
    "papermill": {
     "duration": 4.863035,
     "end_time": "2024-02-22T18:22:54.028289",
     "exception": false,
     "start_time": "2024-02-22T18:22:49.165254",
     "status": "completed"
    },
    "tags": []
   },
   "outputs": [
    {
     "name": "stdout",
     "output_type": "stream",
     "text": [
      "accuracy: 0.9875\n",
      "recall: 0.9722222222222222\n",
      "precision: 0.9629629629629629\n",
      "f1-score: 0.9666666666666666\n",
      "roc_auc:  0.7339875119474435\n"
     ]
    },
    {
     "name": "stderr",
     "output_type": "stream",
     "text": [
      "/opt/conda/lib/python3.10/site-packages/sklearn/metrics/_classification.py:1344: UndefinedMetricWarning: Precision is ill-defined and being set to 0.0 in labels with no predicted samples. Use `zero_division` parameter to control this behavior.\n",
      "  _warn_prf(average, modifier, msg_start, len(result))\n"
     ]
    }
   ],
   "source": [
    "final_model = RandomForestClassifier(**best_params)\n",
    "final_model.fit(X_train_reduced, y_train)\n",
    "y_pred = final_model.predict(X_test_reduced)\n",
    "prediction_results['random forest'] = y_pred\n",
    "\n",
    "accuracy = accuracy_score(y_test, y_pred)\n",
    "precision = precision_score(y_test, y_pred, average='macro')\n",
    "recall = recall_score(y_test, y_pred, average='macro')\n",
    "f1 = f1_score(y_test, y_pred, average='macro')\n",
    "\n",
    "# One-hot encoding for probability calculation (adapt if necessary)\n",
    "y_test_onehot = pd.get_dummies(y_test, prefix='label_')  # Assuming 'label_' prefix for clarity\n",
    "y_pred_onehot = pd.get_dummies(y_pred, prefix='label_')\n",
    "\n",
    "# ROC AUC score with multiclass handling\n",
    "roc_auc_macro = roc_auc_score(y_test_onehot, y_pred_onehot, average='macro', multi_class='ovo')  # Specify 'ovo' or 'ovr'\n",
    "\n",
    "print(\"accuracy:\", accuracy)\n",
    "print(\"recall:\", recall)\n",
    "print(\"precision:\", precision)\n",
    "print(\"f1-score:\", f1)\n",
    "print('roc_auc: ', roc_auc_macro)"
   ]
  },
  {
   "cell_type": "markdown",
   "id": "1f0fe098",
   "metadata": {
    "id": "K45QO1CFZocK",
    "papermill": {
     "duration": 0.051745,
     "end_time": "2024-02-22T18:22:54.131151",
     "exception": false,
     "start_time": "2024-02-22T18:22:54.079406",
     "status": "completed"
    },
    "tags": []
   },
   "source": [
    "## Gassian NB"
   ]
  },
  {
   "cell_type": "markdown",
   "id": "55445e79",
   "metadata": {
    "id": "rJCJoej7ZocL",
    "papermill": {
     "duration": 0.049765,
     "end_time": "2024-02-22T18:22:54.231435",
     "exception": false,
     "start_time": "2024-02-22T18:22:54.181670",
     "status": "completed"
    },
    "tags": []
   },
   "source": [
    "**Pre-tunning**"
   ]
  },
  {
   "cell_type": "code",
   "execution_count": 19,
   "id": "0f5715cc",
   "metadata": {
    "execution": {
     "iopub.execute_input": "2024-02-22T18:22:54.331837Z",
     "iopub.status.busy": "2024-02-22T18:22:54.331199Z",
     "iopub.status.idle": "2024-02-22T18:22:54.383837Z",
     "shell.execute_reply": "2024-02-22T18:22:54.382638Z"
    },
    "id": "5mS9-RAZZocL",
    "outputId": "fd77f38f-8834-48b8-c2be-2184c087d0b1",
    "papermill": {
     "duration": 0.106502,
     "end_time": "2024-02-22T18:22:54.387113",
     "exception": false,
     "start_time": "2024-02-22T18:22:54.280611",
     "status": "completed"
    },
    "tags": []
   },
   "outputs": [
    {
     "name": "stdout",
     "output_type": "stream",
     "text": [
      "accuracy: 0.9625\n",
      "recall: 0.9444444444444444\n",
      "precision: 0.9375\n",
      "f1-score: 0.9358465608465608\n",
      "roc_auc:  0.7266591260476291\n"
     ]
    },
    {
     "name": "stderr",
     "output_type": "stream",
     "text": [
      "/opt/conda/lib/python3.10/site-packages/sklearn/metrics/_classification.py:1344: UndefinedMetricWarning: Precision is ill-defined and being set to 0.0 in labels with no predicted samples. Use `zero_division` parameter to control this behavior.\n",
      "  _warn_prf(average, modifier, msg_start, len(result))\n"
     ]
    }
   ],
   "source": [
    "from sklearn.naive_bayes import GaussianNB\n",
    "gnb = GaussianNB()\n",
    "gnb.fit(X_train_reduced, y_train)\n",
    "\n",
    "y_pred = gnb.predict(X_test_reduced)\n",
    "\n",
    "accuracy = accuracy_score(y_test, y_pred)\n",
    "precision = precision_score(y_test, y_pred, average='macro')\n",
    "recall = recall_score(y_test, y_pred, average='macro')\n",
    "f1 = f1_score(y_test, y_pred, average='macro')\n",
    "\n",
    "# One-hot encoding for probability calculation (adapt if necessary)\n",
    "y_test_onehot = pd.get_dummies(y_test, prefix='label_')  # Assuming 'label_' prefix for clarity\n",
    "y_pred_onehot = pd.get_dummies(y_pred, prefix='label_')\n",
    "\n",
    "# ROC AUC score with multiclass handling\n",
    "roc_auc_macro = roc_auc_score(y_test_onehot, y_pred_onehot, average='macro', multi_class='ovo')  # Specify 'ovo' or 'ovr'\n",
    "\n",
    "print(\"accuracy:\", accuracy)\n",
    "print(\"recall:\", recall)\n",
    "print(\"precision:\", precision)\n",
    "print(\"f1-score:\", f1)\n",
    "print('roc_auc: ', roc_auc_macro)\n"
   ]
  },
  {
   "cell_type": "markdown",
   "id": "0cfea6b1",
   "metadata": {
    "id": "cfgrNKRaZocL",
    "papermill": {
     "duration": 0.049433,
     "end_time": "2024-02-22T18:22:54.487615",
     "exception": false,
     "start_time": "2024-02-22T18:22:54.438182",
     "status": "completed"
    },
    "tags": []
   },
   "source": [
    "**Tunning**"
   ]
  },
  {
   "cell_type": "code",
   "execution_count": 20,
   "id": "08eca98c",
   "metadata": {
    "execution": {
     "iopub.execute_input": "2024-02-22T18:22:54.589975Z",
     "iopub.status.busy": "2024-02-22T18:22:54.589347Z",
     "iopub.status.idle": "2024-02-22T18:22:54.595858Z",
     "shell.execute_reply": "2024-02-22T18:22:54.594863Z"
    },
    "id": "6Uh3C_iLZocL",
    "papermill": {
     "duration": 0.060495,
     "end_time": "2024-02-22T18:22:54.598264",
     "exception": false,
     "start_time": "2024-02-22T18:22:54.537769",
     "status": "completed"
    },
    "tags": []
   },
   "outputs": [],
   "source": [
    "def objective(trial):\n",
    "    hyperparams = {\n",
    "        'var_smoothing': trial.suggest_float('var_smoothing', 1e-9, 1e-4, log = True)\n",
    "    }\n",
    "\n",
    "    model = GaussianNB(**hyperparams)\n",
    "    scores = cross_val_score(model, X_train_reduced, y_train, cv = kf,scoring = 'accuracy')\n",
    "    return np.mean(scores)"
   ]
  },
  {
   "cell_type": "code",
   "execution_count": 21,
   "id": "e3fdcbd7",
   "metadata": {
    "execution": {
     "iopub.execute_input": "2024-02-22T18:22:54.699984Z",
     "iopub.status.busy": "2024-02-22T18:22:54.699525Z",
     "iopub.status.idle": "2024-02-22T18:22:59.764260Z",
     "shell.execute_reply": "2024-02-22T18:22:59.763188Z"
    },
    "id": "NDjhkBkEZocM",
    "outputId": "7192c5e8-1683-47c2-a0f8-7dcb85de02e0",
    "papermill": {
     "duration": 5.119706,
     "end_time": "2024-02-22T18:22:59.768089",
     "exception": false,
     "start_time": "2024-02-22T18:22:54.648383",
     "status": "completed"
    },
    "tags": []
   },
   "outputs": [
    {
     "name": "stderr",
     "output_type": "stream",
     "text": [
      "[I 2024-02-22 18:22:54,706] A new study created in memory with name: no-name-b0650398-98bf-47be-ba0d-bfda17ed5891\n",
      "[I 2024-02-22 18:22:54,750] Trial 0 finished with value: 0.75 and parameters: {'var_smoothing': 2.164577155632319e-07}. Best is trial 0 with value: 0.75.\n",
      "[I 2024-02-22 18:22:54,793] Trial 1 finished with value: 0.75 and parameters: {'var_smoothing': 2.6176271490287392e-05}. Best is trial 0 with value: 0.75.\n",
      "[I 2024-02-22 18:22:54,836] Trial 2 finished with value: 0.75 and parameters: {'var_smoothing': 1.7597885171421148e-05}. Best is trial 0 with value: 0.75.\n",
      "[I 2024-02-22 18:22:54,880] Trial 3 finished with value: 0.75 and parameters: {'var_smoothing': 2.0269086391550877e-05}. Best is trial 0 with value: 0.75.\n",
      "[I 2024-02-22 18:22:54,924] Trial 4 finished with value: 0.75 and parameters: {'var_smoothing': 3.8393547935591016e-07}. Best is trial 0 with value: 0.75.\n",
      "[I 2024-02-22 18:22:54,967] Trial 5 finished with value: 0.75 and parameters: {'var_smoothing': 8.609618717503688e-07}. Best is trial 0 with value: 0.75.\n",
      "[I 2024-02-22 18:22:55,009] Trial 6 finished with value: 0.75 and parameters: {'var_smoothing': 1.1965160285382365e-05}. Best is trial 0 with value: 0.75.\n",
      "[I 2024-02-22 18:22:55,056] Trial 7 finished with value: 0.75 and parameters: {'var_smoothing': 3.088170725885469e-08}. Best is trial 0 with value: 0.75.\n",
      "[I 2024-02-22 18:22:55,103] Trial 8 finished with value: 0.75 and parameters: {'var_smoothing': 3.165145494999613e-05}. Best is trial 0 with value: 0.75.\n",
      "[I 2024-02-22 18:22:55,147] Trial 9 finished with value: 0.75 and parameters: {'var_smoothing': 1.1995339508859236e-07}. Best is trial 0 with value: 0.75.\n",
      "[I 2024-02-22 18:22:55,197] Trial 10 finished with value: 0.75 and parameters: {'var_smoothing': 1.8735591983604867e-09}. Best is trial 0 with value: 0.75.\n",
      "[I 2024-02-22 18:22:55,249] Trial 11 finished with value: 0.75 and parameters: {'var_smoothing': 1.5348000158818177e-06}. Best is trial 0 with value: 0.75.\n",
      "[I 2024-02-22 18:22:55,298] Trial 12 finished with value: 0.75 and parameters: {'var_smoothing': 1.9041474070773957e-08}. Best is trial 0 with value: 0.75.\n",
      "[I 2024-02-22 18:22:55,348] Trial 13 finished with value: 0.75 and parameters: {'var_smoothing': 4.225673252385202e-06}. Best is trial 0 with value: 0.75.\n",
      "[I 2024-02-22 18:22:55,398] Trial 14 finished with value: 0.7625 and parameters: {'var_smoothing': 8.600014668676281e-05}. Best is trial 14 with value: 0.7625.\n",
      "[I 2024-02-22 18:22:55,448] Trial 15 finished with value: 0.75 and parameters: {'var_smoothing': 1.0495957137655379e-07}. Best is trial 14 with value: 0.7625.\n",
      "[I 2024-02-22 18:22:55,500] Trial 16 finished with value: 0.7625 and parameters: {'var_smoothing': 8.871545882563086e-05}. Best is trial 14 with value: 0.7625.\n",
      "[I 2024-02-22 18:22:55,550] Trial 17 finished with value: 0.7625 and parameters: {'var_smoothing': 9.498754420110611e-05}. Best is trial 14 with value: 0.7625.\n",
      "[I 2024-02-22 18:22:55,599] Trial 18 finished with value: 0.7625 and parameters: {'var_smoothing': 8.594956302570145e-05}. Best is trial 14 with value: 0.7625.\n",
      "[I 2024-02-22 18:22:55,650] Trial 19 finished with value: 0.75 and parameters: {'var_smoothing': 4.662848559278334e-06}. Best is trial 14 with value: 0.7625.\n",
      "[I 2024-02-22 18:22:55,700] Trial 20 finished with value: 0.75 and parameters: {'var_smoothing': 3.977593224012196e-06}. Best is trial 14 with value: 0.7625.\n",
      "[I 2024-02-22 18:22:55,750] Trial 21 finished with value: 0.7625 and parameters: {'var_smoothing': 6.922237156901279e-05}. Best is trial 14 with value: 0.7625.\n",
      "[I 2024-02-22 18:22:55,800] Trial 22 finished with value: 0.7625 and parameters: {'var_smoothing': 8.8313245198487e-05}. Best is trial 14 with value: 0.7625.\n",
      "[I 2024-02-22 18:22:55,850] Trial 23 finished with value: 0.75 and parameters: {'var_smoothing': 8.000629069542747e-06}. Best is trial 14 with value: 0.7625.\n",
      "[I 2024-02-22 18:22:55,901] Trial 24 finished with value: 0.75 and parameters: {'var_smoothing': 3.410178406055867e-05}. Best is trial 14 with value: 0.7625.\n",
      "[I 2024-02-22 18:22:55,952] Trial 25 finished with value: 0.75625 and parameters: {'var_smoothing': 4.53776018739203e-05}. Best is trial 14 with value: 0.7625.\n",
      "[I 2024-02-22 18:22:56,006] Trial 26 finished with value: 0.75 and parameters: {'var_smoothing': 1.5054169714219432e-06}. Best is trial 14 with value: 0.7625.\n",
      "[I 2024-02-22 18:22:56,057] Trial 27 finished with value: 0.7625 and parameters: {'var_smoothing': 9.564271283787291e-05}. Best is trial 14 with value: 0.7625.\n",
      "[I 2024-02-22 18:22:56,108] Trial 28 finished with value: 0.75 and parameters: {'var_smoothing': 1.1924160226810648e-09}. Best is trial 14 with value: 0.7625.\n",
      "[I 2024-02-22 18:22:56,158] Trial 29 finished with value: 0.75 and parameters: {'var_smoothing': 8.919837714238192e-06}. Best is trial 14 with value: 0.7625.\n",
      "[I 2024-02-22 18:22:56,210] Trial 30 finished with value: 0.75 and parameters: {'var_smoothing': 4.366364828603422e-05}. Best is trial 14 with value: 0.7625.\n",
      "[I 2024-02-22 18:22:56,261] Trial 31 finished with value: 0.7625 and parameters: {'var_smoothing': 8.805934377706713e-05}. Best is trial 14 with value: 0.7625.\n",
      "[I 2024-02-22 18:22:56,311] Trial 32 finished with value: 0.75 and parameters: {'var_smoothing': 1.9398830216513514e-05}. Best is trial 14 with value: 0.7625.\n",
      "[I 2024-02-22 18:22:56,359] Trial 33 finished with value: 0.75625 and parameters: {'var_smoothing': 4.454933789562807e-05}. Best is trial 14 with value: 0.7625.\n",
      "[I 2024-02-22 18:22:56,410] Trial 34 finished with value: 0.75 and parameters: {'var_smoothing': 2.0764860004555403e-05}. Best is trial 14 with value: 0.7625.\n",
      "[I 2024-02-22 18:22:56,461] Trial 35 finished with value: 0.75 and parameters: {'var_smoothing': 1.3110597832763694e-05}. Best is trial 14 with value: 0.7625.\n",
      "[I 2024-02-22 18:22:56,511] Trial 36 finished with value: 0.75625 and parameters: {'var_smoothing': 5.7543479105781925e-05}. Best is trial 14 with value: 0.7625.\n",
      "[I 2024-02-22 18:22:56,563] Trial 37 finished with value: 0.75 and parameters: {'var_smoothing': 2.6340688271457302e-05}. Best is trial 14 with value: 0.7625.\n",
      "[I 2024-02-22 18:22:56,613] Trial 38 finished with value: 0.75 and parameters: {'var_smoothing': 6.654113244504388e-06}. Best is trial 14 with value: 0.7625.\n",
      "[I 2024-02-22 18:22:56,663] Trial 39 finished with value: 0.75 and parameters: {'var_smoothing': 2.3662700652058144e-06}. Best is trial 14 with value: 0.7625.\n",
      "[I 2024-02-22 18:22:56,715] Trial 40 finished with value: 0.75 and parameters: {'var_smoothing': 6.146020618184801e-07}. Best is trial 14 with value: 0.7625.\n",
      "[I 2024-02-22 18:22:56,765] Trial 41 finished with value: 0.7625 and parameters: {'var_smoothing': 6.671104623533397e-05}. Best is trial 14 with value: 0.7625.\n",
      "[I 2024-02-22 18:22:56,816] Trial 42 finished with value: 0.7625 and parameters: {'var_smoothing': 9.358165210231037e-05}. Best is trial 14 with value: 0.7625.\n",
      "[I 2024-02-22 18:22:56,866] Trial 43 finished with value: 0.75 and parameters: {'var_smoothing': 1.3348228822613027e-05}. Best is trial 14 with value: 0.7625.\n",
      "[I 2024-02-22 18:22:56,916] Trial 44 finished with value: 0.75 and parameters: {'var_smoothing': 3.279427863908761e-05}. Best is trial 14 with value: 0.7625.\n",
      "[I 2024-02-22 18:22:56,966] Trial 45 finished with value: 0.75625 and parameters: {'var_smoothing': 5.5349786407260216e-05}. Best is trial 14 with value: 0.7625.\n",
      "[I 2024-02-22 18:22:57,018] Trial 46 finished with value: 0.75 and parameters: {'var_smoothing': 8.050225236088022e-09}. Best is trial 14 with value: 0.7625.\n",
      "[I 2024-02-22 18:22:57,068] Trial 47 finished with value: 0.75 and parameters: {'var_smoothing': 1.8383514690924907e-05}. Best is trial 14 with value: 0.7625.\n",
      "[I 2024-02-22 18:22:57,118] Trial 48 finished with value: 0.75 and parameters: {'var_smoothing': 3.297596997895552e-05}. Best is trial 14 with value: 0.7625.\n",
      "[I 2024-02-22 18:22:57,168] Trial 49 finished with value: 0.759375 and parameters: {'var_smoothing': 5.981152900121952e-05}. Best is trial 14 with value: 0.7625.\n",
      "[I 2024-02-22 18:22:57,217] Trial 50 finished with value: 0.75 and parameters: {'var_smoothing': 2.8689178046213715e-07}. Best is trial 14 with value: 0.7625.\n",
      "[I 2024-02-22 18:22:57,266] Trial 51 finished with value: 0.765625 and parameters: {'var_smoothing': 9.776722182627445e-05}. Best is trial 51 with value: 0.765625.\n",
      "[I 2024-02-22 18:22:57,315] Trial 52 finished with value: 0.7625 and parameters: {'var_smoothing': 6.754863271013264e-05}. Best is trial 51 with value: 0.765625.\n",
      "[I 2024-02-22 18:22:57,366] Trial 53 finished with value: 0.765625 and parameters: {'var_smoothing': 9.959983584846514e-05}. Best is trial 51 with value: 0.765625.\n",
      "[I 2024-02-22 18:22:57,415] Trial 54 finished with value: 0.765625 and parameters: {'var_smoothing': 9.749132555592115e-05}. Best is trial 51 with value: 0.765625.\n",
      "[I 2024-02-22 18:22:57,465] Trial 55 finished with value: 0.75 and parameters: {'var_smoothing': 2.631146956126554e-05}. Best is trial 51 with value: 0.765625.\n",
      "[I 2024-02-22 18:22:57,515] Trial 56 finished with value: 0.765625 and parameters: {'var_smoothing': 9.830240302753753e-05}. Best is trial 51 with value: 0.765625.\n",
      "[I 2024-02-22 18:22:57,569] Trial 57 finished with value: 0.75 and parameters: {'var_smoothing': 3.5131999849646416e-05}. Best is trial 51 with value: 0.765625.\n",
      "[I 2024-02-22 18:22:57,620] Trial 58 finished with value: 0.75 and parameters: {'var_smoothing': 1.3169559513714305e-05}. Best is trial 51 with value: 0.765625.\n",
      "[I 2024-02-22 18:22:57,672] Trial 59 finished with value: 0.75 and parameters: {'var_smoothing': 1.061958314425886e-07}. Best is trial 51 with value: 0.765625.\n",
      "[I 2024-02-22 18:22:57,722] Trial 60 finished with value: 0.75 and parameters: {'var_smoothing': 6.400780409324883e-08}. Best is trial 51 with value: 0.765625.\n",
      "[I 2024-02-22 18:22:57,773] Trial 61 finished with value: 0.75625 and parameters: {'var_smoothing': 4.776398223032467e-05}. Best is trial 51 with value: 0.765625.\n",
      "[I 2024-02-22 18:22:57,824] Trial 62 finished with value: 0.7625 and parameters: {'var_smoothing': 8.607946377600192e-05}. Best is trial 51 with value: 0.765625.\n",
      "[I 2024-02-22 18:22:57,874] Trial 63 finished with value: 0.75625 and parameters: {'var_smoothing': 5.104917517495126e-05}. Best is trial 51 with value: 0.765625.\n",
      "[I 2024-02-22 18:22:57,924] Trial 64 finished with value: 0.7625 and parameters: {'var_smoothing': 9.32549836200129e-05}. Best is trial 51 with value: 0.765625.\n",
      "[I 2024-02-22 18:22:57,974] Trial 65 finished with value: 0.765625 and parameters: {'var_smoothing': 9.911262379306205e-05}. Best is trial 51 with value: 0.765625.\n",
      "[I 2024-02-22 18:22:58,025] Trial 66 finished with value: 0.75 and parameters: {'var_smoothing': 2.4239766183685913e-05}. Best is trial 51 with value: 0.765625.\n",
      "[I 2024-02-22 18:22:58,075] Trial 67 finished with value: 0.75 and parameters: {'var_smoothing': 3.8486731036370636e-05}. Best is trial 51 with value: 0.765625.\n",
      "[I 2024-02-22 18:22:58,127] Trial 68 finished with value: 0.7625 and parameters: {'var_smoothing': 6.795449218694691e-05}. Best is trial 51 with value: 0.765625.\n",
      "[I 2024-02-22 18:22:58,178] Trial 69 finished with value: 0.753125 and parameters: {'var_smoothing': 4.426182880627312e-05}. Best is trial 51 with value: 0.765625.\n",
      "[I 2024-02-22 18:22:58,228] Trial 70 finished with value: 0.75 and parameters: {'var_smoothing': 6.376272800120504e-09}. Best is trial 51 with value: 0.765625.\n",
      "[I 2024-02-22 18:22:58,278] Trial 71 finished with value: 0.7625 and parameters: {'var_smoothing': 6.909056354410724e-05}. Best is trial 51 with value: 0.765625.\n",
      "[I 2024-02-22 18:22:58,328] Trial 72 finished with value: 0.7625 and parameters: {'var_smoothing': 9.573423128527785e-05}. Best is trial 51 with value: 0.765625.\n",
      "[I 2024-02-22 18:22:58,380] Trial 73 finished with value: 0.75 and parameters: {'var_smoothing': 2.499717203044401e-05}. Best is trial 51 with value: 0.765625.\n",
      "[I 2024-02-22 18:22:58,430] Trial 74 finished with value: 0.765625 and parameters: {'var_smoothing': 9.716553572574366e-05}. Best is trial 51 with value: 0.765625.\n",
      "[I 2024-02-22 18:22:58,479] Trial 75 finished with value: 0.759375 and parameters: {'var_smoothing': 5.880093355648609e-05}. Best is trial 51 with value: 0.765625.\n",
      "[I 2024-02-22 18:22:58,528] Trial 76 finished with value: 0.765625 and parameters: {'var_smoothing': 9.726860581321062e-05}. Best is trial 51 with value: 0.765625.\n",
      "[I 2024-02-22 18:22:58,579] Trial 77 finished with value: 0.75 and parameters: {'var_smoothing': 1.6567026336548284e-05}. Best is trial 51 with value: 0.765625.\n",
      "[I 2024-02-22 18:22:58,630] Trial 78 finished with value: 0.75 and parameters: {'var_smoothing': 9.468227018554225e-06}. Best is trial 51 with value: 0.765625.\n",
      "[I 2024-02-22 18:22:58,681] Trial 79 finished with value: 0.75 and parameters: {'var_smoothing': 3.774595630073258e-05}. Best is trial 51 with value: 0.765625.\n",
      "[I 2024-02-22 18:22:58,732] Trial 80 finished with value: 0.765625 and parameters: {'var_smoothing': 9.91538842058263e-05}. Best is trial 51 with value: 0.765625.\n",
      "[I 2024-02-22 18:22:58,783] Trial 81 finished with value: 0.7625 and parameters: {'var_smoothing': 7.311206297132766e-05}. Best is trial 51 with value: 0.765625.\n",
      "[I 2024-02-22 18:22:58,833] Trial 82 finished with value: 0.765625 and parameters: {'var_smoothing': 9.764067921004118e-05}. Best is trial 51 with value: 0.765625.\n",
      "[I 2024-02-22 18:22:58,884] Trial 83 finished with value: 0.75625 and parameters: {'var_smoothing': 5.350203434687663e-05}. Best is trial 51 with value: 0.765625.\n",
      "[I 2024-02-22 18:22:58,935] Trial 84 finished with value: 0.7625 and parameters: {'var_smoothing': 9.504345653807036e-05}. Best is trial 51 with value: 0.765625.\n",
      "[I 2024-02-22 18:22:58,986] Trial 85 finished with value: 0.75625 and parameters: {'var_smoothing': 4.5973834508778705e-05}. Best is trial 51 with value: 0.765625.\n",
      "[I 2024-02-22 18:22:59,037] Trial 86 finished with value: 0.75 and parameters: {'var_smoothing': 2.9321294383938856e-05}. Best is trial 51 with value: 0.765625.\n",
      "[I 2024-02-22 18:22:59,090] Trial 87 finished with value: 0.7625 and parameters: {'var_smoothing': 7.030318765880804e-05}. Best is trial 51 with value: 0.765625.\n",
      "[I 2024-02-22 18:22:59,153] Trial 88 finished with value: 0.7625 and parameters: {'var_smoothing': 6.802650768546612e-05}. Best is trial 51 with value: 0.765625.\n",
      "[I 2024-02-22 18:22:59,213] Trial 89 finished with value: 0.75 and parameters: {'var_smoothing': 4.201270931818324e-05}. Best is trial 51 with value: 0.765625.\n",
      "[I 2024-02-22 18:22:59,264] Trial 90 finished with value: 0.75 and parameters: {'var_smoothing': 2.0208536353829047e-05}. Best is trial 51 with value: 0.765625.\n",
      "[I 2024-02-22 18:22:59,314] Trial 91 finished with value: 0.7625 and parameters: {'var_smoothing': 7.768719040400498e-05}. Best is trial 51 with value: 0.765625.\n",
      "[I 2024-02-22 18:22:59,364] Trial 92 finished with value: 0.765625 and parameters: {'var_smoothing': 9.683841060384666e-05}. Best is trial 51 with value: 0.765625.\n",
      "[I 2024-02-22 18:22:59,413] Trial 93 finished with value: 0.75625 and parameters: {'var_smoothing': 5.358802798869469e-05}. Best is trial 51 with value: 0.765625.\n",
      "[I 2024-02-22 18:22:59,463] Trial 94 finished with value: 0.765625 and parameters: {'var_smoothing': 9.751487888888348e-05}. Best is trial 51 with value: 0.765625.\n",
      "[I 2024-02-22 18:22:59,512] Trial 95 finished with value: 0.75 and parameters: {'var_smoothing': 3.467485546427713e-05}. Best is trial 51 with value: 0.765625.\n",
      "[I 2024-02-22 18:22:59,563] Trial 96 finished with value: 0.75625 and parameters: {'var_smoothing': 5.66557739970525e-05}. Best is trial 51 with value: 0.765625.\n",
      "[I 2024-02-22 18:22:59,613] Trial 97 finished with value: 0.7625 and parameters: {'var_smoothing': 7.958793021264633e-05}. Best is trial 51 with value: 0.765625.\n",
      "[I 2024-02-22 18:22:59,664] Trial 98 finished with value: 0.75 and parameters: {'var_smoothing': 2.886805787494633e-05}. Best is trial 51 with value: 0.765625.\n",
      "[I 2024-02-22 18:22:59,716] Trial 99 finished with value: 0.765625 and parameters: {'var_smoothing': 9.829552744140455e-05}. Best is trial 51 with value: 0.765625.\n"
     ]
    },
    {
     "name": "stdout",
     "output_type": "stream",
     "text": [
      "Best params found : {'var_smoothing': 9.776722182627445e-05}\n",
      "accuracy: 0.9625\n",
      "recall: 0.9444444444444444\n",
      "precision: 0.9375\n",
      "f1-score: 0.9358465608465608\n",
      "roc_auc:  0.7266591260476291\n"
     ]
    },
    {
     "name": "stderr",
     "output_type": "stream",
     "text": [
      "/opt/conda/lib/python3.10/site-packages/sklearn/metrics/_classification.py:1344: UndefinedMetricWarning: Precision is ill-defined and being set to 0.0 in labels with no predicted samples. Use `zero_division` parameter to control this behavior.\n",
      "  _warn_prf(average, modifier, msg_start, len(result))\n"
     ]
    }
   ],
   "source": [
    "study = optuna.create_study(direction = 'maximize')\n",
    "study.optimize(objective, n_trials = 100)\n",
    "best_params = study.best_params\n",
    "print(\"Best params found :\", best_params)\n",
    "\n",
    "final_model = GaussianNB(**best_params)\n",
    "final_model.fit(X_train_reduced, y_train)\n",
    "y_pred = final_model.predict(X_test_reduced)\n",
    "prediction_results['gnb'] = y_pred\n",
    "\n",
    "accuracy = accuracy_score(y_test, y_pred)\n",
    "precision = precision_score(y_test, y_pred, average='macro')\n",
    "recall = recall_score(y_test, y_pred, average='macro')\n",
    "f1 = f1_score(y_test, y_pred, average='macro')\n",
    "\n",
    "# One-hot encoding for probability calculation (adapt if necessary)\n",
    "y_test_onehot = pd.get_dummies(y_test, prefix='label_')  # Assuming 'label_' prefix for clarity\n",
    "y_pred_onehot = pd.get_dummies(y_pred, prefix='label_')\n",
    "\n",
    "# ROC AUC score with multiclass handling\n",
    "roc_auc_macro = roc_auc_score(y_test_onehot, y_pred_onehot, average='macro', multi_class='ovo')  # Specify 'ovo' or 'ovr'\n",
    "\n",
    "print(\"accuracy:\", accuracy)\n",
    "print(\"recall:\", recall)\n",
    "print(\"precision:\", precision)\n",
    "print(\"f1-score:\", f1)\n",
    "print('roc_auc: ', roc_auc_macro)"
   ]
  },
  {
   "cell_type": "markdown",
   "id": "cd5a825e",
   "metadata": {
    "id": "kBdkMP1YZocM",
    "papermill": {
     "duration": 0.060143,
     "end_time": "2024-02-22T18:22:59.888820",
     "exception": false,
     "start_time": "2024-02-22T18:22:59.828677",
     "status": "completed"
    },
    "tags": []
   },
   "source": [
    "## Logistic Regression"
   ]
  },
  {
   "cell_type": "markdown",
   "id": "b1c8c9bd",
   "metadata": {
    "id": "1__4jB4NZocM",
    "papermill": {
     "duration": 0.060772,
     "end_time": "2024-02-22T18:23:00.009770",
     "exception": false,
     "start_time": "2024-02-22T18:22:59.948998",
     "status": "completed"
    },
    "tags": []
   },
   "source": [
    "**Normal**"
   ]
  },
  {
   "cell_type": "code",
   "execution_count": 22,
   "id": "ce7be7a6",
   "metadata": {
    "execution": {
     "iopub.execute_input": "2024-02-22T18:23:00.130872Z",
     "iopub.status.busy": "2024-02-22T18:23:00.130426Z",
     "iopub.status.idle": "2024-02-22T18:23:00.416346Z",
     "shell.execute_reply": "2024-02-22T18:23:00.414879Z"
    },
    "id": "nKHZzWQqZocM",
    "outputId": "606ea177-093d-4a3e-bdc9-b9b054aee857",
    "papermill": {
     "duration": 0.354255,
     "end_time": "2024-02-22T18:23:00.423060",
     "exception": false,
     "start_time": "2024-02-22T18:23:00.068805",
     "status": "completed"
    },
    "tags": []
   },
   "outputs": [
    {
     "name": "stdout",
     "output_type": "stream",
     "text": [
      "accuracy: 1.0\n",
      "recall: 1.0\n",
      "precision: 1.0\n",
      "f1-score: 1.0\n",
      "roc_auc:  1.0\n"
     ]
    },
    {
     "name": "stderr",
     "output_type": "stream",
     "text": [
      "/opt/conda/lib/python3.10/site-packages/sklearn/linear_model/_logistic.py:458: ConvergenceWarning: lbfgs failed to converge (status=1):\n",
      "STOP: TOTAL NO. of ITERATIONS REACHED LIMIT.\n",
      "\n",
      "Increase the number of iterations (max_iter) or scale the data as shown in:\n",
      "    https://scikit-learn.org/stable/modules/preprocessing.html\n",
      "Please also refer to the documentation for alternative solver options:\n",
      "    https://scikit-learn.org/stable/modules/linear_model.html#logistic-regression\n",
      "  n_iter_i = _check_optimize_result(\n"
     ]
    }
   ],
   "source": [
    "lr = LogisticRegression()\n",
    "lr.fit(X_train_reduced, y_train)\n",
    "y_pred = lr.predict(X_test_reduced)\n",
    "\n",
    "accuracy = accuracy_score(y_test, y_pred)\n",
    "precision = precision_score(y_test, y_pred, average='macro')\n",
    "recall = recall_score(y_test, y_pred, average='macro')\n",
    "f1 = f1_score(y_test, y_pred, average='macro')\n",
    "\n",
    "# One-hot encoding for probability calculation (adapt if necessary)\n",
    "y_test_onehot = pd.get_dummies(y_test, prefix='label_')  # Assuming 'label_' prefix for clarity\n",
    "y_pred_onehot = pd.get_dummies(y_pred, prefix='label_')\n",
    "\n",
    "# ROC AUC score with multiclass handling\n",
    "roc_auc_macro = roc_auc_score(y_test_onehot, y_pred_onehot, average='macro', multi_class='ovo')  # Specify 'ovo' or 'ovr'\n",
    "\n",
    "print(\"accuracy:\", accuracy)\n",
    "print(\"recall:\", recall)\n",
    "print(\"precision:\", precision)\n",
    "print(\"f1-score:\", f1)\n",
    "print('roc_auc: ', roc_auc_macro)"
   ]
  },
  {
   "cell_type": "markdown",
   "id": "b5cfa8ee",
   "metadata": {
    "id": "c61YEVjKZocN",
    "papermill": {
     "duration": 0.059553,
     "end_time": "2024-02-22T18:23:00.563689",
     "exception": false,
     "start_time": "2024-02-22T18:23:00.504136",
     "status": "completed"
    },
    "tags": []
   },
   "source": [
    "**Tunning**"
   ]
  },
  {
   "cell_type": "code",
   "execution_count": 23,
   "id": "d856dc85",
   "metadata": {
    "execution": {
     "iopub.execute_input": "2024-02-22T18:23:00.685036Z",
     "iopub.status.busy": "2024-02-22T18:23:00.684634Z",
     "iopub.status.idle": "2024-02-22T18:23:00.692107Z",
     "shell.execute_reply": "2024-02-22T18:23:00.691249Z"
    },
    "id": "EQWtm8n2ZocN",
    "papermill": {
     "duration": 0.070989,
     "end_time": "2024-02-22T18:23:00.694356",
     "exception": false,
     "start_time": "2024-02-22T18:23:00.623367",
     "status": "completed"
    },
    "tags": []
   },
   "outputs": [],
   "source": [
    "import optuna\n",
    "from sklearn.model_selection import cross_val_score\n",
    "import warnings\n",
    "warnings.filterwarnings('ignore')\n",
    "\n",
    "\n",
    "def objective(trial):\n",
    "    hyperparams = {\n",
    "        'solver': trial.suggest_categorical('solver', ['lbfgs', 'liblinear', 'newton-cg', 'saga']),\n",
    "        'penalty': trial.suggest_categorical('penalty', ['l2']),\n",
    "        'multi_class': trial.suggest_categorical('multi_class', ['ovr']),\n",
    "        'C': trial.suggest_loguniform(\"C\", 1e-3, 1e3),\n",
    "        'n_jobs': -1\n",
    "    }\n",
    "\n",
    "    model = LogisticRegression(**hyperparams)\n",
    "    scores = cross_val_score(model, X_train_reduced,\n",
    "                             y_train, cv=kf, scoring='accuracy')\n",
    "    return np.mean(scores)"
   ]
  },
  {
   "cell_type": "code",
   "execution_count": 24,
   "id": "21c920dc",
   "metadata": {
    "execution": {
     "iopub.execute_input": "2024-02-22T18:23:00.815790Z",
     "iopub.status.busy": "2024-02-22T18:23:00.815420Z",
     "iopub.status.idle": "2024-02-22T18:30:22.128178Z",
     "shell.execute_reply": "2024-02-22T18:30:22.126526Z"
    },
    "id": "KelNhfypZocN",
    "outputId": "42885174-d124-4b75-b6e6-78cd03f88409",
    "papermill": {
     "duration": 441.378941,
     "end_time": "2024-02-22T18:30:22.133305",
     "exception": false,
     "start_time": "2024-02-22T18:23:00.754364",
     "status": "completed"
    },
    "tags": []
   },
   "outputs": [
    {
     "name": "stderr",
     "output_type": "stream",
     "text": [
      "[I 2024-02-22 18:23:00,821] A new study created in memory with name: no-name-e3ba8ff3-87fb-4036-8c33-d6e96999f78a\n",
      "/opt/conda/lib/python3.10/site-packages/sklearn/linear_model/_logistic.py:458: ConvergenceWarning: lbfgs failed to converge (status=1):\n",
      "STOP: TOTAL NO. of ITERATIONS REACHED LIMIT.\n",
      "\n",
      "Increase the number of iterations (max_iter) or scale the data as shown in:\n",
      "    https://scikit-learn.org/stable/modules/preprocessing.html\n",
      "Please also refer to the documentation for alternative solver options:\n",
      "    https://scikit-learn.org/stable/modules/linear_model.html#logistic-regression\n",
      "  n_iter_i = _check_optimize_result(\n",
      "/opt/conda/lib/python3.10/site-packages/sklearn/linear_model/_logistic.py:458: ConvergenceWarning: lbfgs failed to converge (status=1):\n",
      "STOP: TOTAL NO. of ITERATIONS REACHED LIMIT.\n",
      "\n",
      "Increase the number of iterations (max_iter) or scale the data as shown in:\n",
      "    https://scikit-learn.org/stable/modules/preprocessing.html\n",
      "Please also refer to the documentation for alternative solver options:\n",
      "    https://scikit-learn.org/stable/modules/linear_model.html#logistic-regression\n",
      "  n_iter_i = _check_optimize_result(\n",
      "/opt/conda/lib/python3.10/site-packages/sklearn/linear_model/_logistic.py:458: ConvergenceWarning: lbfgs failed to converge (status=1):\n",
      "STOP: TOTAL NO. of ITERATIONS REACHED LIMIT.\n",
      "\n",
      "Increase the number of iterations (max_iter) or scale the data as shown in:\n",
      "    https://scikit-learn.org/stable/modules/preprocessing.html\n",
      "Please also refer to the documentation for alternative solver options:\n",
      "    https://scikit-learn.org/stable/modules/linear_model.html#logistic-regression\n",
      "  n_iter_i = _check_optimize_result(\n",
      "[I 2024-02-22 18:23:03,695] Trial 0 finished with value: 0.85 and parameters: {'solver': 'lbfgs', 'penalty': 'l2', 'multi_class': 'ovr', 'C': 367.66580795297835}. Best is trial 0 with value: 0.85.\n",
      "[I 2024-02-22 18:23:23,706] Trial 1 finished with value: 0.9 and parameters: {'solver': 'liblinear', 'penalty': 'l2', 'multi_class': 'ovr', 'C': 428.67292116435107}. Best is trial 1 with value: 0.9.\n",
      "[I 2024-02-22 18:23:41,595] Trial 2 finished with value: 0.90625 and parameters: {'solver': 'liblinear', 'penalty': 'l2', 'multi_class': 'ovr', 'C': 12.115048405703796}. Best is trial 2 with value: 0.90625.\n",
      "/opt/conda/lib/python3.10/site-packages/sklearn/linear_model/_logistic.py:458: ConvergenceWarning: lbfgs failed to converge (status=1):\n",
      "STOP: TOTAL NO. of ITERATIONS REACHED LIMIT.\n",
      "\n",
      "Increase the number of iterations (max_iter) or scale the data as shown in:\n",
      "    https://scikit-learn.org/stable/modules/preprocessing.html\n",
      "Please also refer to the documentation for alternative solver options:\n",
      "    https://scikit-learn.org/stable/modules/linear_model.html#logistic-regression\n",
      "  n_iter_i = _check_optimize_result(\n",
      "[I 2024-02-22 18:23:43,253] Trial 3 finished with value: 0.95 and parameters: {'solver': 'lbfgs', 'penalty': 'l2', 'multi_class': 'ovr', 'C': 0.47106668364350857}. Best is trial 3 with value: 0.95.\n",
      "[I 2024-02-22 18:23:44,883] Trial 4 finished with value: 0.953125 and parameters: {'solver': 'lbfgs', 'penalty': 'l2', 'multi_class': 'ovr', 'C': 0.16051802065925158}. Best is trial 4 with value: 0.953125.\n",
      "[I 2024-02-22 18:23:54,264] Trial 5 finished with value: 0.909375 and parameters: {'solver': 'newton-cg', 'penalty': 'l2', 'multi_class': 'ovr', 'C': 86.220141355101}. Best is trial 4 with value: 0.953125.\n",
      "[I 2024-02-22 18:23:55,624] Trial 6 finished with value: 0.85625 and parameters: {'solver': 'lbfgs', 'penalty': 'l2', 'multi_class': 'ovr', 'C': 404.2336033234366}. Best is trial 4 with value: 0.953125.\n",
      "[I 2024-02-22 18:24:05,433] Trial 7 finished with value: 0.8875 and parameters: {'solver': 'newton-cg', 'penalty': 'l2', 'multi_class': 'ovr', 'C': 938.2185540267392}. Best is trial 4 with value: 0.953125.\n",
      "[I 2024-02-22 18:24:06,649] Trial 8 finished with value: 0.803125 and parameters: {'solver': 'saga', 'penalty': 'l2', 'multi_class': 'ovr', 'C': 16.196677212771537}. Best is trial 4 with value: 0.953125.\n",
      "[I 2024-02-22 18:24:16,652] Trial 9 finished with value: 0.93125 and parameters: {'solver': 'newton-cg', 'penalty': 'l2', 'multi_class': 'ovr', 'C': 9.569052169879207}. Best is trial 4 with value: 0.953125.\n",
      "[I 2024-02-22 18:24:17,894] Trial 10 finished with value: 0.80625 and parameters: {'solver': 'saga', 'penalty': 'l2', 'multi_class': 'ovr', 'C': 0.007594353236117782}. Best is trial 4 with value: 0.953125.\n",
      "[I 2024-02-22 18:24:19,600] Trial 11 finished with value: 0.953125 and parameters: {'solver': 'lbfgs', 'penalty': 'l2', 'multi_class': 'ovr', 'C': 0.08739868285651364}. Best is trial 4 with value: 0.953125.\n",
      "[I 2024-02-22 18:24:21,251] Trial 12 finished with value: 0.95625 and parameters: {'solver': 'lbfgs', 'penalty': 'l2', 'multi_class': 'ovr', 'C': 0.07218415055662711}. Best is trial 12 with value: 0.95625.\n",
      "[I 2024-02-22 18:24:22,883] Trial 13 finished with value: 0.95625 and parameters: {'solver': 'lbfgs', 'penalty': 'l2', 'multi_class': 'ovr', 'C': 0.0020667125935569996}. Best is trial 12 with value: 0.95625.\n",
      "[I 2024-02-22 18:24:24,510] Trial 14 finished with value: 0.953125 and parameters: {'solver': 'lbfgs', 'penalty': 'l2', 'multi_class': 'ovr', 'C': 0.0011434638733387999}. Best is trial 12 with value: 0.95625.\n",
      "[I 2024-02-22 18:24:26,134] Trial 15 finished with value: 0.953125 and parameters: {'solver': 'lbfgs', 'penalty': 'l2', 'multi_class': 'ovr', 'C': 0.01431525977787509}. Best is trial 12 with value: 0.95625.\n",
      "[I 2024-02-22 18:24:27,765] Trial 16 finished with value: 0.953125 and parameters: {'solver': 'lbfgs', 'penalty': 'l2', 'multi_class': 'ovr', 'C': 0.0015617600672219306}. Best is trial 12 with value: 0.95625.\n",
      "[I 2024-02-22 18:24:29,031] Trial 17 finished with value: 0.803125 and parameters: {'solver': 'saga', 'penalty': 'l2', 'multi_class': 'ovr', 'C': 0.020097597094868823}. Best is trial 12 with value: 0.95625.\n",
      "[I 2024-02-22 18:24:45,346] Trial 18 finished with value: 0.9125 and parameters: {'solver': 'liblinear', 'penalty': 'l2', 'multi_class': 'ovr', 'C': 0.9937605418969446}. Best is trial 12 with value: 0.95625.\n",
      "[I 2024-02-22 18:24:47,024] Trial 19 finished with value: 0.953125 and parameters: {'solver': 'lbfgs', 'penalty': 'l2', 'multi_class': 'ovr', 'C': 0.06184592621008714}. Best is trial 12 with value: 0.95625.\n",
      "[I 2024-02-22 18:24:48,684] Trial 20 finished with value: 0.953125 and parameters: {'solver': 'lbfgs', 'penalty': 'l2', 'multi_class': 'ovr', 'C': 0.004121296621404417}. Best is trial 12 with value: 0.95625.\n",
      "[I 2024-02-22 18:24:50,377] Trial 21 finished with value: 0.95 and parameters: {'solver': 'lbfgs', 'penalty': 'l2', 'multi_class': 'ovr', 'C': 0.17427984447573908}. Best is trial 12 with value: 0.95625.\n",
      "[I 2024-02-22 18:24:51,999] Trial 22 finished with value: 0.953125 and parameters: {'solver': 'lbfgs', 'penalty': 'l2', 'multi_class': 'ovr', 'C': 2.158819034308897}. Best is trial 12 with value: 0.95625.\n",
      "[I 2024-02-22 18:24:53,652] Trial 23 finished with value: 0.95625 and parameters: {'solver': 'lbfgs', 'penalty': 'l2', 'multi_class': 'ovr', 'C': 0.04268655514186201}. Best is trial 12 with value: 0.95625.\n",
      "[I 2024-02-22 18:24:55,275] Trial 24 finished with value: 0.95625 and parameters: {'solver': 'lbfgs', 'penalty': 'l2', 'multi_class': 'ovr', 'C': 0.022223998977439676}. Best is trial 12 with value: 0.95625.\n",
      "[I 2024-02-22 18:24:56,906] Trial 25 finished with value: 0.95625 and parameters: {'solver': 'lbfgs', 'penalty': 'l2', 'multi_class': 'ovr', 'C': 0.0034415022250813654}. Best is trial 12 with value: 0.95625.\n",
      "[I 2024-02-22 18:24:58,156] Trial 26 finished with value: 0.803125 and parameters: {'solver': 'saga', 'penalty': 'l2', 'multi_class': 'ovr', 'C': 0.04260080015251556}. Best is trial 12 with value: 0.95625.\n",
      "[I 2024-02-22 18:25:13,942] Trial 27 finished with value: 0.91875 and parameters: {'solver': 'liblinear', 'penalty': 'l2', 'multi_class': 'ovr', 'C': 0.37663895827585187}. Best is trial 12 with value: 0.95625.\n",
      "/opt/conda/lib/python3.10/site-packages/sklearn/utils/optimize.py:210: ConvergenceWarning: newton-cg failed to converge. Increase the number of iterations.\n",
      "  warnings.warn(\n",
      "/opt/conda/lib/python3.10/site-packages/sklearn/utils/optimize.py:210: ConvergenceWarning: newton-cg failed to converge. Increase the number of iterations.\n",
      "  warnings.warn(\n",
      "/opt/conda/lib/python3.10/site-packages/sklearn/utils/optimize.py:210: ConvergenceWarning: newton-cg failed to converge. Increase the number of iterations.\n",
      "  warnings.warn(\n",
      "[I 2024-02-22 18:25:27,124] Trial 28 finished with value: 0.95625 and parameters: {'solver': 'newton-cg', 'penalty': 'l2', 'multi_class': 'ovr', 'C': 0.007093048431745395}. Best is trial 12 with value: 0.95625.\n",
      "[I 2024-02-22 18:25:28,735] Trial 29 finished with value: 0.946875 and parameters: {'solver': 'lbfgs', 'penalty': 'l2', 'multi_class': 'ovr', 'C': 2.7566077242423352}. Best is trial 12 with value: 0.95625.\n",
      "[I 2024-02-22 18:25:30,405] Trial 30 finished with value: 0.95625 and parameters: {'solver': 'lbfgs', 'penalty': 'l2', 'multi_class': 'ovr', 'C': 0.0030889376890337406}. Best is trial 12 with value: 0.95625.\n",
      "[I 2024-02-22 18:25:32,046] Trial 31 finished with value: 0.953125 and parameters: {'solver': 'lbfgs', 'penalty': 'l2', 'multi_class': 'ovr', 'C': 0.02358954160056491}. Best is trial 12 with value: 0.95625.\n",
      "[I 2024-02-22 18:25:34,101] Trial 32 finished with value: 0.953125 and parameters: {'solver': 'lbfgs', 'penalty': 'l2', 'multi_class': 'ovr', 'C': 0.011127537487348115}. Best is trial 12 with value: 0.95625.\n",
      "[I 2024-02-22 18:25:35,784] Trial 33 finished with value: 0.95625 and parameters: {'solver': 'lbfgs', 'penalty': 'l2', 'multi_class': 'ovr', 'C': 0.04813218231223363}. Best is trial 12 with value: 0.95625.\n",
      "[I 2024-02-22 18:25:50,518] Trial 34 finished with value: 0.896875 and parameters: {'solver': 'liblinear', 'penalty': 'l2', 'multi_class': 'ovr', 'C': 0.13936486293404846}. Best is trial 12 with value: 0.95625.\n",
      "[I 2024-02-22 18:25:52,140] Trial 35 finished with value: 0.953125 and parameters: {'solver': 'lbfgs', 'penalty': 'l2', 'multi_class': 'ovr', 'C': 0.0023289713317971067}. Best is trial 12 with value: 0.95625.\n",
      "[I 2024-02-22 18:25:53,759] Trial 36 finished with value: 0.95 and parameters: {'solver': 'lbfgs', 'penalty': 'l2', 'multi_class': 'ovr', 'C': 0.03331841616116343}. Best is trial 12 with value: 0.95625.\n",
      "[I 2024-02-22 18:25:55,400] Trial 37 finished with value: 0.946875 and parameters: {'solver': 'lbfgs', 'penalty': 'l2', 'multi_class': 'ovr', 'C': 0.3565259705120563}. Best is trial 12 with value: 0.95625.\n",
      "[I 2024-02-22 18:26:05,651] Trial 38 finished with value: 0.83125 and parameters: {'solver': 'liblinear', 'penalty': 'l2', 'multi_class': 'ovr', 'C': 0.0063801383364081}. Best is trial 12 with value: 0.95625.\n",
      "[I 2024-02-22 18:26:17,437] Trial 39 finished with value: 0.95 and parameters: {'solver': 'newton-cg', 'penalty': 'l2', 'multi_class': 'ovr', 'C': 0.11179969915749297}. Best is trial 12 with value: 0.95625.\n",
      "[I 2024-02-22 18:26:19,058] Trial 40 finished with value: 0.953125 and parameters: {'solver': 'lbfgs', 'penalty': 'l2', 'multi_class': 'ovr', 'C': 0.014654190009924266}. Best is trial 12 with value: 0.95625.\n",
      "[I 2024-02-22 18:26:20,728] Trial 41 finished with value: 0.95625 and parameters: {'solver': 'lbfgs', 'penalty': 'l2', 'multi_class': 'ovr', 'C': 0.0037196571289786905}. Best is trial 12 with value: 0.95625.\n",
      "[I 2024-02-22 18:26:22,349] Trial 42 finished with value: 0.953125 and parameters: {'solver': 'lbfgs', 'penalty': 'l2', 'multi_class': 'ovr', 'C': 0.00109533709062657}. Best is trial 12 with value: 0.95625.\n",
      "[I 2024-02-22 18:26:23,991] Trial 43 finished with value: 0.953125 and parameters: {'solver': 'lbfgs', 'penalty': 'l2', 'multi_class': 'ovr', 'C': 0.005453431007127162}. Best is trial 12 with value: 0.95625.\n",
      "[I 2024-02-22 18:26:25,614] Trial 44 finished with value: 0.953125 and parameters: {'solver': 'lbfgs', 'penalty': 'l2', 'multi_class': 'ovr', 'C': 0.002079100339193518}. Best is trial 12 with value: 0.95625.\n",
      "[I 2024-02-22 18:26:26,857] Trial 45 finished with value: 0.803125 and parameters: {'solver': 'saga', 'penalty': 'l2', 'multi_class': 'ovr', 'C': 74.90103072535156}. Best is trial 12 with value: 0.95625.\n",
      "[I 2024-02-22 18:26:28,478] Trial 46 finished with value: 0.95625 and parameters: {'solver': 'lbfgs', 'penalty': 'l2', 'multi_class': 'ovr', 'C': 0.010118117497912527}. Best is trial 12 with value: 0.95625.\n",
      "[I 2024-02-22 18:26:41,844] Trial 47 finished with value: 0.953125 and parameters: {'solver': 'newton-cg', 'penalty': 'l2', 'multi_class': 'ovr', 'C': 0.024030148614545985}. Best is trial 12 with value: 0.95625.\n",
      "[I 2024-02-22 18:26:43,483] Trial 48 finished with value: 0.953125 and parameters: {'solver': 'lbfgs', 'penalty': 'l2', 'multi_class': 'ovr', 'C': 0.07509867626699628}. Best is trial 12 with value: 0.95625.\n",
      "[I 2024-02-22 18:26:45,117] Trial 49 finished with value: 0.95 and parameters: {'solver': 'lbfgs', 'penalty': 'l2', 'multi_class': 'ovr', 'C': 0.6617735321502773}. Best is trial 12 with value: 0.95625.\n",
      "[I 2024-02-22 18:26:46,350] Trial 50 finished with value: 0.803125 and parameters: {'solver': 'saga', 'penalty': 'l2', 'multi_class': 'ovr', 'C': 0.21766367588372604}. Best is trial 12 with value: 0.95625.\n",
      "/opt/conda/lib/python3.10/site-packages/sklearn/utils/optimize.py:210: ConvergenceWarning: newton-cg failed to converge. Increase the number of iterations.\n",
      "  warnings.warn(\n",
      "[I 2024-02-22 18:26:59,583] Trial 51 finished with value: 0.95625 and parameters: {'solver': 'newton-cg', 'penalty': 'l2', 'multi_class': 'ovr', 'C': 0.010608480273535404}. Best is trial 12 with value: 0.95625.\n",
      "[I 2024-02-22 18:27:13,310] Trial 52 finished with value: 0.95625 and parameters: {'solver': 'newton-cg', 'penalty': 'l2', 'multi_class': 'ovr', 'C': 0.005716094958043216}. Best is trial 12 with value: 0.95625.\n",
      "[I 2024-02-22 18:27:26,492] Trial 53 finished with value: 0.95625 and parameters: {'solver': 'newton-cg', 'penalty': 'l2', 'multi_class': 'ovr', 'C': 0.0016594195468535838}. Best is trial 12 with value: 0.95625.\n",
      "[I 2024-02-22 18:27:39,282] Trial 54 finished with value: 0.953125 and parameters: {'solver': 'newton-cg', 'penalty': 'l2', 'multi_class': 'ovr', 'C': 0.030435484508239255}. Best is trial 12 with value: 0.95625.\n",
      "[I 2024-02-22 18:27:53,039] Trial 55 finished with value: 0.95625 and parameters: {'solver': 'newton-cg', 'penalty': 'l2', 'multi_class': 'ovr', 'C': 0.0028274998082033404}. Best is trial 12 with value: 0.95625.\n",
      "[I 2024-02-22 18:27:54,711] Trial 56 finished with value: 0.953125 and parameters: {'solver': 'lbfgs', 'penalty': 'l2', 'multi_class': 'ovr', 'C': 0.0010193365380535464}. Best is trial 12 with value: 0.95625.\n",
      "[I 2024-02-22 18:28:06,788] Trial 57 finished with value: 0.859375 and parameters: {'solver': 'liblinear', 'penalty': 'l2', 'multi_class': 'ovr', 'C': 0.016681437875809467}. Best is trial 12 with value: 0.95625.\n",
      "[I 2024-02-22 18:28:08,424] Trial 58 finished with value: 0.95 and parameters: {'solver': 'lbfgs', 'penalty': 'l2', 'multi_class': 'ovr', 'C': 0.0075626176435295775}. Best is trial 12 with value: 0.95625.\n",
      "[I 2024-02-22 18:28:10,113] Trial 59 finished with value: 0.953125 and parameters: {'solver': 'lbfgs', 'penalty': 'l2', 'multi_class': 'ovr', 'C': 0.0041948915150266984}. Best is trial 12 with value: 0.95625.\n",
      "[I 2024-02-22 18:28:23,101] Trial 60 finished with value: 0.953125 and parameters: {'solver': 'newton-cg', 'penalty': 'l2', 'multi_class': 'ovr', 'C': 0.04673189269789494}. Best is trial 12 with value: 0.95625.\n",
      "[I 2024-02-22 18:28:24,736] Trial 61 finished with value: 0.95625 and parameters: {'solver': 'lbfgs', 'penalty': 'l2', 'multi_class': 'ovr', 'C': 0.0033360803886167446}. Best is trial 12 with value: 0.95625.\n",
      "[I 2024-02-22 18:28:26,394] Trial 62 finished with value: 0.953125 and parameters: {'solver': 'lbfgs', 'penalty': 'l2', 'multi_class': 'ovr', 'C': 0.00172139844094017}. Best is trial 12 with value: 0.95625.\n",
      "[I 2024-02-22 18:28:28,014] Trial 63 finished with value: 0.95625 and parameters: {'solver': 'lbfgs', 'penalty': 'l2', 'multi_class': 'ovr', 'C': 0.008690919473867038}. Best is trial 12 with value: 0.95625.\n",
      "[I 2024-02-22 18:28:29,702] Trial 64 finished with value: 0.95625 and parameters: {'solver': 'lbfgs', 'penalty': 'l2', 'multi_class': 'ovr', 'C': 0.017273622844269736}. Best is trial 12 with value: 0.95625.\n",
      "[I 2024-02-22 18:28:31,315] Trial 65 finished with value: 0.953125 and parameters: {'solver': 'lbfgs', 'penalty': 'l2', 'multi_class': 'ovr', 'C': 0.002734696000941019}. Best is trial 12 with value: 0.95625.\n",
      "[I 2024-02-22 18:28:32,945] Trial 66 finished with value: 0.953125 and parameters: {'solver': 'lbfgs', 'penalty': 'l2', 'multi_class': 'ovr', 'C': 0.004895568002052692}. Best is trial 12 with value: 0.95625.\n",
      "[I 2024-02-22 18:28:34,159] Trial 67 finished with value: 0.803125 and parameters: {'solver': 'saga', 'penalty': 'l2', 'multi_class': 'ovr', 'C': 0.07821189115607678}. Best is trial 12 with value: 0.95625.\n",
      "[I 2024-02-22 18:28:35,814] Trial 68 finished with value: 0.95625 and parameters: {'solver': 'lbfgs', 'penalty': 'l2', 'multi_class': 'ovr', 'C': 0.025783476109800082}. Best is trial 12 with value: 0.95625.\n",
      "[I 2024-02-22 18:28:51,085] Trial 69 finished with value: 0.915625 and parameters: {'solver': 'liblinear', 'penalty': 'l2', 'multi_class': 'ovr', 'C': 0.24311159426313717}. Best is trial 12 with value: 0.95625.\n",
      "[I 2024-02-22 18:28:52,698] Trial 70 finished with value: 0.953125 and parameters: {'solver': 'lbfgs', 'penalty': 'l2', 'multi_class': 'ovr', 'C': 0.013116003488451244}. Best is trial 12 with value: 0.95625.\n",
      "[I 2024-02-22 18:28:54,340] Trial 71 finished with value: 0.953125 and parameters: {'solver': 'lbfgs', 'penalty': 'l2', 'multi_class': 'ovr', 'C': 0.05229474200844973}. Best is trial 12 with value: 0.95625.\n",
      "[I 2024-02-22 18:28:55,961] Trial 72 finished with value: 0.953125 and parameters: {'solver': 'lbfgs', 'penalty': 'l2', 'multi_class': 'ovr', 'C': 0.03928124712417025}. Best is trial 12 with value: 0.95625.\n",
      "[I 2024-02-22 18:28:57,622] Trial 73 finished with value: 0.953125 and parameters: {'solver': 'lbfgs', 'penalty': 'l2', 'multi_class': 'ovr', 'C': 0.10111668342411259}. Best is trial 12 with value: 0.95625.\n",
      "[I 2024-02-22 18:28:59,296] Trial 74 finished with value: 0.953125 and parameters: {'solver': 'lbfgs', 'penalty': 'l2', 'multi_class': 'ovr', 'C': 0.007265719720813053}. Best is trial 12 with value: 0.95625.\n",
      "[I 2024-02-22 18:29:00,916] Trial 75 finished with value: 0.946875 and parameters: {'solver': 'lbfgs', 'penalty': 'l2', 'multi_class': 'ovr', 'C': 3.3564347769842335}. Best is trial 12 with value: 0.95625.\n",
      "[I 2024-02-22 18:29:02,522] Trial 76 finished with value: 0.953125 and parameters: {'solver': 'lbfgs', 'penalty': 'l2', 'multi_class': 'ovr', 'C': 0.0015821371941347941}. Best is trial 12 with value: 0.95625.\n",
      "[I 2024-02-22 18:29:04,141] Trial 77 finished with value: 0.953125 and parameters: {'solver': 'lbfgs', 'penalty': 'l2', 'multi_class': 'ovr', 'C': 0.020476159739337925}. Best is trial 12 with value: 0.95625.\n",
      "[I 2024-02-22 18:29:05,752] Trial 78 finished with value: 0.95625 and parameters: {'solver': 'lbfgs', 'penalty': 'l2', 'multi_class': 'ovr', 'C': 0.002345045168741807}. Best is trial 12 with value: 0.95625.\n",
      "[I 2024-02-22 18:29:19,066] Trial 79 finished with value: 0.95625 and parameters: {'solver': 'newton-cg', 'penalty': 'l2', 'multi_class': 'ovr', 'C': 0.004209679549266033}. Best is trial 12 with value: 0.95625.\n",
      "[I 2024-02-22 18:29:20,740] Trial 80 finished with value: 0.803125 and parameters: {'solver': 'saga', 'penalty': 'l2', 'multi_class': 'ovr', 'C': 0.14528294760184754}. Best is trial 12 with value: 0.95625.\n",
      "[I 2024-02-22 18:29:22,384] Trial 81 finished with value: 0.953125 and parameters: {'solver': 'lbfgs', 'penalty': 'l2', 'multi_class': 'ovr', 'C': 0.0036471068013271273}. Best is trial 12 with value: 0.95625.\n",
      "[I 2024-02-22 18:29:24,027] Trial 82 finished with value: 0.95625 and parameters: {'solver': 'lbfgs', 'penalty': 'l2', 'multi_class': 'ovr', 'C': 0.009458190397014978}. Best is trial 12 with value: 0.95625.\n",
      "[I 2024-02-22 18:29:25,659] Trial 83 finished with value: 0.953125 and parameters: {'solver': 'lbfgs', 'penalty': 'l2', 'multi_class': 'ovr', 'C': 0.06317151926128198}. Best is trial 12 with value: 0.95625.\n",
      "[I 2024-02-22 18:29:27,271] Trial 84 finished with value: 0.95625 and parameters: {'solver': 'lbfgs', 'penalty': 'l2', 'multi_class': 'ovr', 'C': 0.005396450132209299}. Best is trial 12 with value: 0.95625.\n",
      "[I 2024-02-22 18:29:28,917] Trial 85 finished with value: 0.953125 and parameters: {'solver': 'lbfgs', 'penalty': 'l2', 'multi_class': 'ovr', 'C': 0.013877436494467528}. Best is trial 12 with value: 0.95625.\n",
      "[I 2024-02-22 18:29:30,622] Trial 86 finished with value: 0.953125 and parameters: {'solver': 'lbfgs', 'penalty': 'l2', 'multi_class': 'ovr', 'C': 0.03723256592947264}. Best is trial 12 with value: 0.95625.\n",
      "[I 2024-02-22 18:29:32,254] Trial 87 finished with value: 0.95625 and parameters: {'solver': 'lbfgs', 'penalty': 'l2', 'multi_class': 'ovr', 'C': 0.0020965174917340415}. Best is trial 12 with value: 0.95625.\n",
      "[I 2024-02-22 18:29:39,144] Trial 88 finished with value: 0.809375 and parameters: {'solver': 'liblinear', 'penalty': 'l2', 'multi_class': 'ovr', 'C': 0.0013552914533774998}. Best is trial 12 with value: 0.95625.\n",
      "[I 2024-02-22 18:29:52,852] Trial 89 finished with value: 0.95625 and parameters: {'solver': 'newton-cg', 'penalty': 'l2', 'multi_class': 'ovr', 'C': 0.00343237071479583}. Best is trial 12 with value: 0.95625.\n",
      "[I 2024-02-22 18:29:54,589] Trial 90 finished with value: 0.95625 and parameters: {'solver': 'lbfgs', 'penalty': 'l2', 'multi_class': 'ovr', 'C': 0.006618524434716096}. Best is trial 12 with value: 0.95625.\n",
      "[I 2024-02-22 18:29:56,217] Trial 91 finished with value: 0.95625 and parameters: {'solver': 'lbfgs', 'penalty': 'l2', 'multi_class': 'ovr', 'C': 0.010443654643063007}. Best is trial 12 with value: 0.95625.\n",
      "[I 2024-02-22 18:29:57,846] Trial 92 finished with value: 0.95 and parameters: {'solver': 'lbfgs', 'penalty': 'l2', 'multi_class': 'ovr', 'C': 0.030763437621324354}. Best is trial 12 with value: 0.95625.\n",
      "[I 2024-02-22 18:29:59,422] Trial 93 finished with value: 0.928125 and parameters: {'solver': 'lbfgs', 'penalty': 'l2', 'multi_class': 'ovr', 'C': 102.12551328222091}. Best is trial 12 with value: 0.95625.\n",
      "[I 2024-02-22 18:30:01,056] Trial 94 finished with value: 0.953125 and parameters: {'solver': 'lbfgs', 'penalty': 'l2', 'multi_class': 'ovr', 'C': 0.0192669216526333}. Best is trial 12 with value: 0.95625.\n",
      "[I 2024-02-22 18:30:02,692] Trial 95 finished with value: 0.95625 and parameters: {'solver': 'lbfgs', 'penalty': 'l2', 'multi_class': 'ovr', 'C': 0.011070418800099532}. Best is trial 12 with value: 0.95625.\n",
      "[I 2024-02-22 18:30:04,314] Trial 96 finished with value: 0.95625 and parameters: {'solver': 'lbfgs', 'penalty': 'l2', 'multi_class': 'ovr', 'C': 0.0030380095776592845}. Best is trial 12 with value: 0.95625.\n",
      "[I 2024-02-22 18:30:17,564] Trial 97 finished with value: 0.95625 and parameters: {'solver': 'newton-cg', 'penalty': 'l2', 'multi_class': 'ovr', 'C': 0.004991601863270568}. Best is trial 12 with value: 0.95625.\n",
      "[I 2024-02-22 18:30:19,276] Trial 98 finished with value: 0.95625 and parameters: {'solver': 'lbfgs', 'penalty': 'l2', 'multi_class': 'ovr', 'C': 0.008548120308625697}. Best is trial 12 with value: 0.95625.\n",
      "[I 2024-02-22 18:30:20,512] Trial 99 finished with value: 0.80625 and parameters: {'solver': 'saga', 'penalty': 'l2', 'multi_class': 'ovr', 'C': 0.001318556253335426}. Best is trial 12 with value: 0.95625.\n"
     ]
    },
    {
     "name": "stdout",
     "output_type": "stream",
     "text": [
      "Best params found : {'solver': 'lbfgs', 'penalty': 'l2', 'multi_class': 'ovr', 'C': 0.07218415055662711}\n",
      "accuracy: 1.0\n",
      "recall: 1.0\n",
      "precision: 1.0\n",
      "f1-score: 1.0\n",
      "roc_auc:  1.0\n"
     ]
    }
   ],
   "source": [
    "study = optuna.create_study(direction = 'maximize')\n",
    "study.optimize(objective, n_trials = 100)\n",
    "best_params = study.best_params\n",
    "print(\"Best params found :\", best_params)\n",
    "\n",
    "final_model = LogisticRegression(**best_params)\n",
    "final_model.fit(X_train_reduced, y_train)\n",
    "y_pred = final_model.predict(X_test_reduced)\n",
    "prediction_results['logistic regression'] = y_pred\n",
    "\n",
    "accuracy = accuracy_score(y_test, y_pred)\n",
    "precision = precision_score(y_test, y_pred, average='macro')\n",
    "recall = recall_score(y_test, y_pred, average='macro')\n",
    "f1 = f1_score(y_test, y_pred, average='macro')\n",
    "\n",
    "# One-hot encoding for probability calculation (adapt if necessary)\n",
    "y_test_onehot = pd.get_dummies(y_test, prefix='label_')  # Assuming 'label_' prefix for clarity\n",
    "y_pred_onehot = pd.get_dummies(y_pred, prefix='label_')\n",
    "\n",
    "# ROC AUC score with multiclass handling\n",
    "roc_auc_macro = roc_auc_score(y_test_onehot, y_pred_onehot, average='macro', multi_class='ovo')  # Specify 'ovo' or 'ovr'\n",
    "\n",
    "print(\"accuracy:\", accuracy)\n",
    "print(\"recall:\", recall)\n",
    "print(\"precision:\", precision)\n",
    "print(\"f1-score:\", f1)\n",
    "print('roc_auc: ', roc_auc_macro)"
   ]
  },
  {
   "cell_type": "code",
   "execution_count": 25,
   "id": "e66970e4",
   "metadata": {
    "execution": {
     "iopub.execute_input": "2024-02-22T18:30:22.294336Z",
     "iopub.status.busy": "2024-02-22T18:30:22.293959Z",
     "iopub.status.idle": "2024-02-22T18:30:22.298872Z",
     "shell.execute_reply": "2024-02-22T18:30:22.297778Z"
    },
    "id": "2t51_KgGZocN",
    "papermill": {
     "duration": 0.078616,
     "end_time": "2024-02-22T18:30:22.301000",
     "exception": false,
     "start_time": "2024-02-22T18:30:22.222384",
     "status": "completed"
    },
    "tags": []
   },
   "outputs": [],
   "source": [
    "# lr = LogisticRegression(multi_class='ovr', solver='liblinear')\n",
    "# lr.fit(X_train_reduced, y_train)\n",
    "# y_pred = lr.predict(X_test_reduced)"
   ]
  },
  {
   "cell_type": "markdown",
   "id": "18581daa",
   "metadata": {
    "id": "9_gA1pBMZocO",
    "papermill": {
     "duration": 0.069329,
     "end_time": "2024-02-22T18:30:22.440632",
     "exception": false,
     "start_time": "2024-02-22T18:30:22.371303",
     "status": "completed"
    },
    "tags": []
   },
   "source": [
    "## KNN Classifier"
   ]
  },
  {
   "cell_type": "markdown",
   "id": "32424b70",
   "metadata": {
    "id": "Yl3S4775ZocO",
    "papermill": {
     "duration": 0.069041,
     "end_time": "2024-02-22T18:30:22.579218",
     "exception": false,
     "start_time": "2024-02-22T18:30:22.510177",
     "status": "completed"
    },
    "tags": []
   },
   "source": [
    "**Normal**"
   ]
  },
  {
   "cell_type": "code",
   "execution_count": 26,
   "id": "14e7208e",
   "metadata": {
    "execution": {
     "iopub.execute_input": "2024-02-22T18:30:22.721699Z",
     "iopub.status.busy": "2024-02-22T18:30:22.720999Z",
     "iopub.status.idle": "2024-02-22T18:30:22.909894Z",
     "shell.execute_reply": "2024-02-22T18:30:22.908719Z"
    },
    "id": "_wV-8qM7ZocO",
    "outputId": "5bceb54a-770b-4ce5-d761-d813e35fe0a2",
    "papermill": {
     "duration": 0.263353,
     "end_time": "2024-02-22T18:30:22.912696",
     "exception": false,
     "start_time": "2024-02-22T18:30:22.649343",
     "status": "completed"
    },
    "tags": []
   },
   "outputs": [
    {
     "name": "stdout",
     "output_type": "stream",
     "text": [
      "accuracy: 0.9125\n",
      "recall: 0.9375\n",
      "precision: 0.9143518518518517\n",
      "f1-score: 0.9068783068783068\n",
      "roc_auc:  0.5771545864579081\n"
     ]
    }
   ],
   "source": [
    "from sklearn.neighbors import KNeighborsClassifier\n",
    "\n",
    "knn = KNeighborsClassifier()\n",
    "knn.fit(X_train_reduced, y_train)\n",
    "y_pred = knn.predict(X_test_reduced)\n",
    "\n",
    "accuracy = accuracy_score(y_test, y_pred)\n",
    "precision = precision_score(y_test, y_pred, average='macro')\n",
    "recall = recall_score(y_test, y_pred, average='macro')\n",
    "f1 = f1_score(y_test, y_pred, average='macro')\n",
    "\n",
    "# One-hot encoding for probability calculation (adapt if necessary)\n",
    "y_test_onehot = pd.get_dummies(y_test, prefix='label_')  # Assuming 'label_' prefix for clarity\n",
    "y_pred_onehot = pd.get_dummies(y_pred, prefix='label_')\n",
    "\n",
    "# ROC AUC score with multiclass handling\n",
    "roc_auc_macro = roc_auc_score(y_test_onehot, y_pred_onehot, average='macro', multi_class='ovo')  # Specify 'ovo' or 'ovr'\n",
    "\n",
    "print(\"accuracy:\", accuracy)\n",
    "print(\"recall:\", recall)\n",
    "print(\"precision:\", precision)\n",
    "print(\"f1-score:\", f1)\n",
    "print('roc_auc: ', roc_auc_macro)\n"
   ]
  },
  {
   "cell_type": "markdown",
   "id": "4c0920c6",
   "metadata": {
    "id": "YeLOq21CZocO",
    "papermill": {
     "duration": 0.069863,
     "end_time": "2024-02-22T18:30:23.055054",
     "exception": false,
     "start_time": "2024-02-22T18:30:22.985191",
     "status": "completed"
    },
    "tags": []
   },
   "source": [
    "**Tunning**"
   ]
  },
  {
   "cell_type": "code",
   "execution_count": 27,
   "id": "6f6fdba1",
   "metadata": {
    "execution": {
     "iopub.execute_input": "2024-02-22T18:30:23.197261Z",
     "iopub.status.busy": "2024-02-22T18:30:23.196080Z",
     "iopub.status.idle": "2024-02-22T18:30:23.204718Z",
     "shell.execute_reply": "2024-02-22T18:30:23.203975Z"
    },
    "id": "ql-aCf6rZocU",
    "papermill": {
     "duration": 0.082256,
     "end_time": "2024-02-22T18:30:23.207319",
     "exception": false,
     "start_time": "2024-02-22T18:30:23.125063",
     "status": "completed"
    },
    "tags": []
   },
   "outputs": [],
   "source": [
    "import optuna\n",
    "from sklearn.model_selection import cross_val_score\n",
    "import warnings\n",
    "warnings.filterwarnings('ignore')\n",
    "\n",
    "\n",
    "def objective(trial):\n",
    "    hyperparams = {\n",
    "        'n_neighbors': trial.suggest_int(\"n_neighbors\", 5, 100),\n",
    "        'weights': trial.suggest_categorical(\"weights\", [\"uniform\", \"distance\"]),\n",
    "        'metric': trial.suggest_categorical(\"metric\", [\"euclidean\", \"manhattan\", \"minkowski\"]),\n",
    "        'algorithm': trial.suggest_categorical('algorithm', ['auto', 'ball_tree', 'kd_tree', 'brute']),\n",
    "        'n_jobs': -1\n",
    "    }\n",
    "\n",
    "    # Create KNN model with tuned hyperparameters\n",
    "    model = KNeighborsClassifier(**hyperparams)\n",
    "    scores = cross_val_score(model, X_train_reduced,\n",
    "                             y_train, cv=kf, scoring='accuracy')\n",
    "    return np.mean(scores)"
   ]
  },
  {
   "cell_type": "code",
   "execution_count": 28,
   "id": "77cbc388",
   "metadata": {
    "execution": {
     "iopub.execute_input": "2024-02-22T18:30:23.351529Z",
     "iopub.status.busy": "2024-02-22T18:30:23.351116Z",
     "iopub.status.idle": "2024-02-22T18:30:30.595183Z",
     "shell.execute_reply": "2024-02-22T18:30:30.594049Z"
    },
    "id": "THw9wvsOZocU",
    "outputId": "17e300b9-2cff-4e5a-a415-7607e75a15c8",
    "papermill": {
     "duration": 7.319058,
     "end_time": "2024-02-22T18:30:30.597937",
     "exception": false,
     "start_time": "2024-02-22T18:30:23.278879",
     "status": "completed"
    },
    "tags": []
   },
   "outputs": [
    {
     "name": "stderr",
     "output_type": "stream",
     "text": [
      "[I 2024-02-22 18:30:23,357] A new study created in memory with name: no-name-6c9ae3ac-1293-43c2-aba7-bb113276c8e7\n",
      "[I 2024-02-22 18:30:23,411] Trial 0 finished with value: 0.103125 and parameters: {'n_neighbors': 63, 'weights': 'uniform', 'metric': 'euclidean', 'algorithm': 'brute'}. Best is trial 0 with value: 0.103125.\n",
      "[I 2024-02-22 18:30:23,511] Trial 1 finished with value: 0.653125 and parameters: {'n_neighbors': 25, 'weights': 'distance', 'metric': 'minkowski', 'algorithm': 'ball_tree'}. Best is trial 1 with value: 0.653125.\n",
      "[I 2024-02-22 18:30:23,607] Trial 2 finished with value: 0.753125 and parameters: {'n_neighbors': 13, 'weights': 'distance', 'metric': 'manhattan', 'algorithm': 'ball_tree'}. Best is trial 2 with value: 0.753125.\n",
      "[I 2024-02-22 18:30:23,704] Trial 3 finished with value: 0.665625 and parameters: {'n_neighbors': 31, 'weights': 'distance', 'metric': 'manhattan', 'algorithm': 'ball_tree'}. Best is trial 2 with value: 0.753125.\n",
      "[I 2024-02-22 18:30:23,763] Trial 4 finished with value: 0.18125 and parameters: {'n_neighbors': 56, 'weights': 'uniform', 'metric': 'manhattan', 'algorithm': 'auto'}. Best is trial 2 with value: 0.753125.\n",
      "[I 2024-02-22 18:30:23,821] Trial 5 finished with value: 0.371875 and parameters: {'n_neighbors': 28, 'weights': 'uniform', 'metric': 'euclidean', 'algorithm': 'brute'}. Best is trial 2 with value: 0.753125.\n",
      "[I 2024-02-22 18:30:23,903] Trial 6 finished with value: 0.478125 and parameters: {'n_neighbors': 22, 'weights': 'uniform', 'metric': 'manhattan', 'algorithm': 'brute'}. Best is trial 2 with value: 0.753125.\n",
      "[I 2024-02-22 18:30:24,039] Trial 7 finished with value: 0.115625 and parameters: {'n_neighbors': 75, 'weights': 'uniform', 'metric': 'manhattan', 'algorithm': 'kd_tree'}. Best is trial 2 with value: 0.753125.\n",
      "[I 2024-02-22 18:30:24,158] Trial 8 finished with value: 0.546875 and parameters: {'n_neighbors': 86, 'weights': 'distance', 'metric': 'manhattan', 'algorithm': 'kd_tree'}. Best is trial 2 with value: 0.753125.\n",
      "[I 2024-02-22 18:30:24,273] Trial 9 finished with value: 0.078125 and parameters: {'n_neighbors': 97, 'weights': 'uniform', 'metric': 'manhattan', 'algorithm': 'ball_tree'}. Best is trial 2 with value: 0.753125.\n",
      "[I 2024-02-22 18:30:24,861] Trial 10 finished with value: 0.859375 and parameters: {'n_neighbors': 5, 'weights': 'distance', 'metric': 'minkowski', 'algorithm': 'auto'}. Best is trial 10 with value: 0.859375.\n",
      "[I 2024-02-22 18:30:25,078] Trial 11 finished with value: 0.859375 and parameters: {'n_neighbors': 5, 'weights': 'distance', 'metric': 'minkowski', 'algorithm': 'auto'}. Best is trial 10 with value: 0.859375.\n",
      "[I 2024-02-22 18:30:25,118] Trial 12 finished with value: 0.859375 and parameters: {'n_neighbors': 5, 'weights': 'distance', 'metric': 'minkowski', 'algorithm': 'auto'}. Best is trial 10 with value: 0.859375.\n",
      "[I 2024-02-22 18:30:25,163] Trial 13 finished with value: 0.640625 and parameters: {'n_neighbors': 43, 'weights': 'distance', 'metric': 'minkowski', 'algorithm': 'auto'}. Best is trial 10 with value: 0.859375.\n",
      "[I 2024-02-22 18:30:25,203] Trial 14 finished with value: 0.859375 and parameters: {'n_neighbors': 5, 'weights': 'distance', 'metric': 'minkowski', 'algorithm': 'auto'}. Best is trial 10 with value: 0.859375.\n",
      "[I 2024-02-22 18:30:25,252] Trial 15 finished with value: 0.640625 and parameters: {'n_neighbors': 42, 'weights': 'distance', 'metric': 'minkowski', 'algorithm': 'auto'}. Best is trial 10 with value: 0.859375.\n",
      "[I 2024-02-22 18:30:25,296] Trial 16 finished with value: 0.728125 and parameters: {'n_neighbors': 15, 'weights': 'distance', 'metric': 'minkowski', 'algorithm': 'auto'}. Best is trial 10 with value: 0.859375.\n",
      "[I 2024-02-22 18:30:25,345] Trial 17 finished with value: 0.634375 and parameters: {'n_neighbors': 39, 'weights': 'distance', 'metric': 'minkowski', 'algorithm': 'auto'}. Best is trial 10 with value: 0.859375.\n",
      "[I 2024-02-22 18:30:25,389] Trial 18 finished with value: 0.715625 and parameters: {'n_neighbors': 16, 'weights': 'distance', 'metric': 'minkowski', 'algorithm': 'auto'}. Best is trial 10 with value: 0.859375.\n",
      "[I 2024-02-22 18:30:25,503] Trial 19 finished with value: 0.596875 and parameters: {'n_neighbors': 66, 'weights': 'distance', 'metric': 'euclidean', 'algorithm': 'kd_tree'}. Best is trial 10 with value: 0.859375.\n",
      "[I 2024-02-22 18:30:25,550] Trial 20 finished with value: 0.64375 and parameters: {'n_neighbors': 33, 'weights': 'distance', 'metric': 'minkowski', 'algorithm': 'auto'}. Best is trial 10 with value: 0.859375.\n",
      "[I 2024-02-22 18:30:25,591] Trial 21 finished with value: 0.809375 and parameters: {'n_neighbors': 7, 'weights': 'distance', 'metric': 'minkowski', 'algorithm': 'auto'}. Best is trial 10 with value: 0.859375.\n",
      "[I 2024-02-22 18:30:25,631] Trial 22 finished with value: 0.859375 and parameters: {'n_neighbors': 5, 'weights': 'distance', 'metric': 'minkowski', 'algorithm': 'auto'}. Best is trial 10 with value: 0.859375.\n",
      "[I 2024-02-22 18:30:25,674] Trial 23 finished with value: 0.7125 and parameters: {'n_neighbors': 17, 'weights': 'distance', 'metric': 'minkowski', 'algorithm': 'auto'}. Best is trial 10 with value: 0.859375.\n",
      "[I 2024-02-22 18:30:25,717] Trial 24 finished with value: 0.771875 and parameters: {'n_neighbors': 11, 'weights': 'distance', 'metric': 'minkowski', 'algorithm': 'auto'}. Best is trial 10 with value: 0.859375.\n",
      "[I 2024-02-22 18:30:25,761] Trial 25 finished with value: 0.6875 and parameters: {'n_neighbors': 20, 'weights': 'distance', 'metric': 'minkowski', 'algorithm': 'auto'}. Best is trial 10 with value: 0.859375.\n",
      "[I 2024-02-22 18:30:25,802] Trial 26 finished with value: 0.859375 and parameters: {'n_neighbors': 5, 'weights': 'distance', 'metric': 'euclidean', 'algorithm': 'auto'}. Best is trial 10 with value: 0.859375.\n",
      "[I 2024-02-22 18:30:25,912] Trial 27 finished with value: 0.63125 and parameters: {'n_neighbors': 36, 'weights': 'distance', 'metric': 'minkowski', 'algorithm': 'kd_tree'}. Best is trial 10 with value: 0.859375.\n",
      "[I 2024-02-22 18:30:25,958] Trial 28 finished with value: 0.76875 and parameters: {'n_neighbors': 12, 'weights': 'distance', 'metric': 'minkowski', 'algorithm': 'brute'}. Best is trial 10 with value: 0.859375.\n",
      "[I 2024-02-22 18:30:26,022] Trial 29 finished with value: 0.153125 and parameters: {'n_neighbors': 53, 'weights': 'uniform', 'metric': 'euclidean', 'algorithm': 'brute'}. Best is trial 10 with value: 0.859375.\n",
      "[I 2024-02-22 18:30:26,069] Trial 30 finished with value: 0.6625 and parameters: {'n_neighbors': 24, 'weights': 'distance', 'metric': 'minkowski', 'algorithm': 'auto'}. Best is trial 10 with value: 0.859375.\n",
      "[I 2024-02-22 18:30:26,119] Trial 31 finished with value: 0.79375 and parameters: {'n_neighbors': 9, 'weights': 'distance', 'metric': 'minkowski', 'algorithm': 'auto'}. Best is trial 10 with value: 0.859375.\n",
      "[I 2024-02-22 18:30:26,164] Trial 32 finished with value: 0.6875 and parameters: {'n_neighbors': 20, 'weights': 'distance', 'metric': 'minkowski', 'algorithm': 'auto'}. Best is trial 10 with value: 0.859375.\n",
      "[I 2024-02-22 18:30:26,207] Trial 33 finished with value: 0.775 and parameters: {'n_neighbors': 10, 'weights': 'distance', 'metric': 'minkowski', 'algorithm': 'auto'}. Best is trial 10 with value: 0.859375.\n",
      "[I 2024-02-22 18:30:26,315] Trial 34 finished with value: 0.859375 and parameters: {'n_neighbors': 5, 'weights': 'distance', 'metric': 'minkowski', 'algorithm': 'ball_tree'}. Best is trial 10 with value: 0.859375.\n",
      "[I 2024-02-22 18:30:26,360] Trial 35 finished with value: 0.653125 and parameters: {'n_neighbors': 28, 'weights': 'distance', 'metric': 'minkowski', 'algorithm': 'auto'}. Best is trial 10 with value: 0.859375.\n",
      "[I 2024-02-22 18:30:26,471] Trial 36 finished with value: 0.75625 and parameters: {'n_neighbors': 14, 'weights': 'distance', 'metric': 'euclidean', 'algorithm': 'ball_tree'}. Best is trial 10 with value: 0.859375.\n",
      "[I 2024-02-22 18:30:26,532] Trial 37 finished with value: 0.446875 and parameters: {'n_neighbors': 23, 'weights': 'uniform', 'metric': 'minkowski', 'algorithm': 'auto'}. Best is trial 10 with value: 0.859375.\n",
      "[I 2024-02-22 18:30:26,581] Trial 38 finished with value: 0.63125 and parameters: {'n_neighbors': 48, 'weights': 'distance', 'metric': 'minkowski', 'algorithm': 'brute'}. Best is trial 10 with value: 0.859375.\n",
      "[I 2024-02-22 18:30:26,644] Trial 39 finished with value: 0.371875 and parameters: {'n_neighbors': 28, 'weights': 'uniform', 'metric': 'minkowski', 'algorithm': 'auto'}. Best is trial 10 with value: 0.859375.\n",
      "[I 2024-02-22 18:30:26,758] Trial 40 finished with value: 0.575 and parameters: {'n_neighbors': 60, 'weights': 'distance', 'metric': 'manhattan', 'algorithm': 'kd_tree'}. Best is trial 10 with value: 0.859375.\n",
      "[I 2024-02-22 18:30:26,800] Trial 41 finished with value: 0.859375 and parameters: {'n_neighbors': 5, 'weights': 'distance', 'metric': 'minkowski', 'algorithm': 'auto'}. Best is trial 10 with value: 0.859375.\n",
      "[I 2024-02-22 18:30:26,844] Trial 42 finished with value: 0.775 and parameters: {'n_neighbors': 10, 'weights': 'distance', 'metric': 'minkowski', 'algorithm': 'auto'}. Best is trial 10 with value: 0.859375.\n",
      "[I 2024-02-22 18:30:26,891] Trial 43 finished with value: 0.709375 and parameters: {'n_neighbors': 18, 'weights': 'distance', 'metric': 'minkowski', 'algorithm': 'auto'}. Best is trial 10 with value: 0.859375.\n",
      "[I 2024-02-22 18:30:27,003] Trial 44 finished with value: 0.759375 and parameters: {'n_neighbors': 13, 'weights': 'distance', 'metric': 'minkowski', 'algorithm': 'ball_tree'}. Best is trial 10 with value: 0.859375.\n",
      "[I 2024-02-22 18:30:27,051] Trial 45 finished with value: 0.85625 and parameters: {'n_neighbors': 5, 'weights': 'distance', 'metric': 'manhattan', 'algorithm': 'auto'}. Best is trial 10 with value: 0.859375.\n",
      "[I 2024-02-22 18:30:27,117] Trial 46 finished with value: 0.046875 and parameters: {'n_neighbors': 100, 'weights': 'uniform', 'metric': 'minkowski', 'algorithm': 'auto'}. Best is trial 10 with value: 0.859375.\n",
      "[I 2024-02-22 18:30:27,160] Trial 47 finished with value: 0.79375 and parameters: {'n_neighbors': 9, 'weights': 'distance', 'metric': 'euclidean', 'algorithm': 'auto'}. Best is trial 10 with value: 0.859375.\n",
      "[I 2024-02-22 18:30:27,211] Trial 48 finished with value: 0.59375 and parameters: {'n_neighbors': 71, 'weights': 'distance', 'metric': 'minkowski', 'algorithm': 'brute'}. Best is trial 10 with value: 0.859375.\n",
      "[I 2024-02-22 18:30:27,259] Trial 49 finished with value: 0.7375 and parameters: {'n_neighbors': 14, 'weights': 'distance', 'metric': 'manhattan', 'algorithm': 'auto'}. Best is trial 10 with value: 0.859375.\n",
      "[I 2024-02-22 18:30:27,390] Trial 50 finished with value: 0.06875 and parameters: {'n_neighbors': 90, 'weights': 'uniform', 'metric': 'minkowski', 'algorithm': 'kd_tree'}. Best is trial 10 with value: 0.859375.\n",
      "[I 2024-02-22 18:30:27,434] Trial 51 finished with value: 0.859375 and parameters: {'n_neighbors': 5, 'weights': 'distance', 'metric': 'euclidean', 'algorithm': 'auto'}. Best is trial 10 with value: 0.859375.\n",
      "[I 2024-02-22 18:30:27,479] Trial 52 finished with value: 0.8 and parameters: {'n_neighbors': 8, 'weights': 'distance', 'metric': 'euclidean', 'algorithm': 'auto'}. Best is trial 10 with value: 0.859375.\n",
      "[I 2024-02-22 18:30:27,525] Trial 53 finished with value: 0.7125 and parameters: {'n_neighbors': 17, 'weights': 'distance', 'metric': 'euclidean', 'algorithm': 'auto'}. Best is trial 10 with value: 0.859375.\n",
      "[I 2024-02-22 18:30:27,570] Trial 54 finished with value: 0.76875 and parameters: {'n_neighbors': 12, 'weights': 'distance', 'metric': 'euclidean', 'algorithm': 'auto'}. Best is trial 10 with value: 0.859375.\n",
      "[I 2024-02-22 18:30:27,618] Trial 55 finished with value: 0.6875 and parameters: {'n_neighbors': 20, 'weights': 'distance', 'metric': 'euclidean', 'algorithm': 'auto'}. Best is trial 10 with value: 0.859375.\n",
      "[I 2024-02-22 18:30:27,662] Trial 56 finished with value: 0.8 and parameters: {'n_neighbors': 8, 'weights': 'distance', 'metric': 'minkowski', 'algorithm': 'auto'}. Best is trial 10 with value: 0.859375.\n",
      "[I 2024-02-22 18:30:27,771] Trial 57 finished with value: 0.728125 and parameters: {'n_neighbors': 15, 'weights': 'distance', 'metric': 'minkowski', 'algorithm': 'ball_tree'}. Best is trial 10 with value: 0.859375.\n",
      "[I 2024-02-22 18:30:27,820] Trial 58 finished with value: 0.659375 and parameters: {'n_neighbors': 26, 'weights': 'distance', 'metric': 'minkowski', 'algorithm': 'auto'}. Best is trial 10 with value: 0.859375.\n",
      "[I 2024-02-22 18:30:27,862] Trial 59 finished with value: 0.859375 and parameters: {'n_neighbors': 5, 'weights': 'distance', 'metric': 'euclidean', 'algorithm': 'auto'}. Best is trial 10 with value: 0.859375.\n",
      "[I 2024-02-22 18:30:27,976] Trial 60 finished with value: 0.709375 and parameters: {'n_neighbors': 18, 'weights': 'distance', 'metric': 'manhattan', 'algorithm': 'kd_tree'}. Best is trial 10 with value: 0.859375.\n",
      "[I 2024-02-22 18:30:28,083] Trial 61 finished with value: 0.859375 and parameters: {'n_neighbors': 5, 'weights': 'distance', 'metric': 'minkowski', 'algorithm': 'ball_tree'}. Best is trial 10 with value: 0.859375.\n",
      "[I 2024-02-22 18:30:28,192] Trial 62 finished with value: 0.771875 and parameters: {'n_neighbors': 11, 'weights': 'distance', 'metric': 'minkowski', 'algorithm': 'ball_tree'}. Best is trial 10 with value: 0.859375.\n",
      "[I 2024-02-22 18:30:28,302] Trial 63 finished with value: 0.79375 and parameters: {'n_neighbors': 9, 'weights': 'distance', 'metric': 'minkowski', 'algorithm': 'ball_tree'}. Best is trial 10 with value: 0.859375.\n",
      "[I 2024-02-22 18:30:28,413] Trial 64 finished with value: 0.809375 and parameters: {'n_neighbors': 7, 'weights': 'distance', 'metric': 'minkowski', 'algorithm': 'ball_tree'}. Best is trial 10 with value: 0.859375.\n",
      "[I 2024-02-22 18:30:28,469] Trial 65 finished with value: 0.75625 and parameters: {'n_neighbors': 14, 'weights': 'distance', 'metric': 'minkowski', 'algorithm': 'auto'}. Best is trial 10 with value: 0.859375.\n",
      "[I 2024-02-22 18:30:28,583] Trial 66 finished with value: 0.678125 and parameters: {'n_neighbors': 21, 'weights': 'distance', 'metric': 'minkowski', 'algorithm': 'ball_tree'}. Best is trial 10 with value: 0.859375.\n",
      "[I 2024-02-22 18:30:28,652] Trial 67 finished with value: 0.625 and parameters: {'n_neighbors': 12, 'weights': 'uniform', 'metric': 'minkowski', 'algorithm': 'brute'}. Best is trial 10 with value: 0.859375.\n",
      "[I 2024-02-22 18:30:28,697] Trial 68 finished with value: 0.8 and parameters: {'n_neighbors': 8, 'weights': 'distance', 'metric': 'minkowski', 'algorithm': 'auto'}. Best is trial 10 with value: 0.859375.\n",
      "[I 2024-02-22 18:30:28,747] Trial 69 finished with value: 0.646875 and parameters: {'n_neighbors': 31, 'weights': 'distance', 'metric': 'minkowski', 'algorithm': 'auto'}. Best is trial 10 with value: 0.859375.\n",
      "[I 2024-02-22 18:30:28,794] Trial 70 finished with value: 0.7125 and parameters: {'n_neighbors': 17, 'weights': 'distance', 'metric': 'minkowski', 'algorithm': 'auto'}. Best is trial 10 with value: 0.859375.\n",
      "[I 2024-02-22 18:30:28,839] Trial 71 finished with value: 0.859375 and parameters: {'n_neighbors': 5, 'weights': 'distance', 'metric': 'minkowski', 'algorithm': 'auto'}. Best is trial 10 with value: 0.859375.\n",
      "[I 2024-02-22 18:30:28,885] Trial 72 finished with value: 0.809375 and parameters: {'n_neighbors': 7, 'weights': 'distance', 'metric': 'minkowski', 'algorithm': 'auto'}. Best is trial 10 with value: 0.859375.\n",
      "[I 2024-02-22 18:30:28,933] Trial 73 finished with value: 0.771875 and parameters: {'n_neighbors': 11, 'weights': 'distance', 'metric': 'minkowski', 'algorithm': 'auto'}. Best is trial 10 with value: 0.859375.\n",
      "[I 2024-02-22 18:30:28,981] Trial 74 finished with value: 0.859375 and parameters: {'n_neighbors': 5, 'weights': 'distance', 'metric': 'minkowski', 'algorithm': 'auto'}. Best is trial 10 with value: 0.859375.\n",
      "[I 2024-02-22 18:30:29,029] Trial 75 finished with value: 0.771875 and parameters: {'n_neighbors': 11, 'weights': 'distance', 'metric': 'minkowski', 'algorithm': 'auto'}. Best is trial 10 with value: 0.859375.\n",
      "[I 2024-02-22 18:30:29,085] Trial 76 finished with value: 0.728125 and parameters: {'n_neighbors': 15, 'weights': 'distance', 'metric': 'minkowski', 'algorithm': 'auto'}. Best is trial 10 with value: 0.859375.\n",
      "[I 2024-02-22 18:30:29,176] Trial 77 finished with value: 0.5875 and parameters: {'n_neighbors': 77, 'weights': 'distance', 'metric': 'euclidean', 'algorithm': 'auto'}. Best is trial 10 with value: 0.859375.\n",
      "[I 2024-02-22 18:30:29,262] Trial 78 finished with value: 0.721875 and parameters: {'n_neighbors': 8, 'weights': 'uniform', 'metric': 'manhattan', 'algorithm': 'brute'}. Best is trial 10 with value: 0.859375.\n",
      "[I 2024-02-22 18:30:29,379] Trial 79 finished with value: 0.759375 and parameters: {'n_neighbors': 13, 'weights': 'distance', 'metric': 'minkowski', 'algorithm': 'kd_tree'}. Best is trial 10 with value: 0.859375.\n",
      "[I 2024-02-22 18:30:29,489] Trial 80 finished with value: 0.634375 and parameters: {'n_neighbors': 47, 'weights': 'distance', 'metric': 'minkowski', 'algorithm': 'ball_tree'}. Best is trial 10 with value: 0.859375.\n",
      "[I 2024-02-22 18:30:29,534] Trial 81 finished with value: 0.859375 and parameters: {'n_neighbors': 5, 'weights': 'distance', 'metric': 'euclidean', 'algorithm': 'auto'}. Best is trial 10 with value: 0.859375.\n",
      "[I 2024-02-22 18:30:29,580] Trial 82 finished with value: 0.809375 and parameters: {'n_neighbors': 7, 'weights': 'distance', 'metric': 'euclidean', 'algorithm': 'auto'}. Best is trial 10 with value: 0.859375.\n",
      "[I 2024-02-22 18:30:29,630] Trial 83 finished with value: 0.775 and parameters: {'n_neighbors': 10, 'weights': 'distance', 'metric': 'euclidean', 'algorithm': 'auto'}. Best is trial 10 with value: 0.859375.\n",
      "[I 2024-02-22 18:30:29,677] Trial 84 finished with value: 0.859375 and parameters: {'n_neighbors': 5, 'weights': 'distance', 'metric': 'euclidean', 'algorithm': 'auto'}. Best is trial 10 with value: 0.859375.\n",
      "[I 2024-02-22 18:30:29,725] Trial 85 finished with value: 0.79375 and parameters: {'n_neighbors': 9, 'weights': 'distance', 'metric': 'euclidean', 'algorithm': 'auto'}. Best is trial 10 with value: 0.859375.\n",
      "[I 2024-02-22 18:30:29,773] Trial 86 finished with value: 0.759375 and parameters: {'n_neighbors': 13, 'weights': 'distance', 'metric': 'euclidean', 'algorithm': 'auto'}. Best is trial 10 with value: 0.859375.\n",
      "[I 2024-02-22 18:30:29,821] Trial 87 finished with value: 0.809375 and parameters: {'n_neighbors': 7, 'weights': 'distance', 'metric': 'minkowski', 'algorithm': 'auto'}. Best is trial 10 with value: 0.859375.\n",
      "[I 2024-02-22 18:30:29,869] Trial 88 finished with value: 0.715625 and parameters: {'n_neighbors': 16, 'weights': 'distance', 'metric': 'minkowski', 'algorithm': 'auto'}. Best is trial 10 with value: 0.859375.\n",
      "[I 2024-02-22 18:30:29,935] Trial 89 finished with value: 0.634375 and parameters: {'n_neighbors': 10, 'weights': 'uniform', 'metric': 'minkowski', 'algorithm': 'auto'}. Best is trial 10 with value: 0.859375.\n",
      "[I 2024-02-22 18:30:29,983] Trial 90 finished with value: 0.809375 and parameters: {'n_neighbors': 7, 'weights': 'distance', 'metric': 'euclidean', 'algorithm': 'auto'}. Best is trial 10 with value: 0.859375.\n",
      "[I 2024-02-22 18:30:30,029] Trial 91 finished with value: 0.859375 and parameters: {'n_neighbors': 5, 'weights': 'distance', 'metric': 'euclidean', 'algorithm': 'auto'}. Best is trial 10 with value: 0.859375.\n",
      "[I 2024-02-22 18:30:30,084] Trial 92 finished with value: 0.859375 and parameters: {'n_neighbors': 5, 'weights': 'distance', 'metric': 'euclidean', 'algorithm': 'auto'}. Best is trial 10 with value: 0.859375.\n",
      "[I 2024-02-22 18:30:30,130] Trial 93 finished with value: 0.775 and parameters: {'n_neighbors': 10, 'weights': 'distance', 'metric': 'euclidean', 'algorithm': 'auto'}. Best is trial 10 with value: 0.859375.\n",
      "[I 2024-02-22 18:30:30,179] Trial 94 finished with value: 0.7 and parameters: {'n_neighbors': 19, 'weights': 'distance', 'metric': 'euclidean', 'algorithm': 'auto'}. Best is trial 10 with value: 0.859375.\n",
      "[I 2024-02-22 18:30:30,292] Trial 95 finished with value: 0.7625 and parameters: {'n_neighbors': 12, 'weights': 'distance', 'metric': 'manhattan', 'algorithm': 'ball_tree'}. Best is trial 10 with value: 0.859375.\n",
      "[I 2024-02-22 18:30:30,338] Trial 96 finished with value: 0.809375 and parameters: {'n_neighbors': 7, 'weights': 'distance', 'metric': 'euclidean', 'algorithm': 'auto'}. Best is trial 10 with value: 0.859375.\n",
      "[I 2024-02-22 18:30:30,451] Trial 97 finished with value: 0.728125 and parameters: {'n_neighbors': 15, 'weights': 'distance', 'metric': 'minkowski', 'algorithm': 'kd_tree'}. Best is trial 10 with value: 0.859375.\n",
      "[I 2024-02-22 18:30:30,498] Trial 98 finished with value: 0.79375 and parameters: {'n_neighbors': 9, 'weights': 'distance', 'metric': 'minkowski', 'algorithm': 'brute'}. Best is trial 10 with value: 0.859375.\n",
      "[I 2024-02-22 18:30:30,546] Trial 99 finished with value: 0.809375 and parameters: {'n_neighbors': 7, 'weights': 'distance', 'metric': 'minkowski', 'algorithm': 'auto'}. Best is trial 10 with value: 0.859375.\n"
     ]
    },
    {
     "name": "stdout",
     "output_type": "stream",
     "text": [
      "Best params found : {'n_neighbors': 5, 'weights': 'distance', 'metric': 'minkowski', 'algorithm': 'auto'}\n",
      "accuracy: 0.9875\n",
      "recall: 0.9930555555555556\n",
      "precision: 0.9930555555555556\n",
      "f1-score: 0.9920634920634921\n",
      "roc_auc:  0.9963474025974026\n"
     ]
    }
   ],
   "source": [
    "study = optuna.create_study(direction = 'maximize')\n",
    "study.optimize(objective, n_trials = 100)\n",
    "best_params = study.best_params\n",
    "print(\"Best params found :\", best_params)\n",
    "\n",
    "final_model =KNeighborsClassifier(**best_params)\n",
    "final_model.fit(X_train_reduced, y_train)\n",
    "y_pred = final_model.predict(X_test_reduced)\n",
    "prediction_results['KNN'] = y_pred\n",
    "\n",
    "accuracy = accuracy_score(y_test, y_pred)\n",
    "precision = precision_score(y_test, y_pred, average='macro')\n",
    "recall = recall_score(y_test, y_pred, average='macro')\n",
    "f1 = f1_score(y_test, y_pred, average='macro')\n",
    "\n",
    "# One-hot encoding for probability calculation (adapt if necessary)\n",
    "y_test_onehot = pd.get_dummies(y_test, prefix='label_')  # Assuming 'label_' prefix for clarity\n",
    "y_pred_onehot = pd.get_dummies(y_pred, prefix='label_')\n",
    "\n",
    "# ROC AUC score with multiclass handling\n",
    "roc_auc_macro = roc_auc_score(y_test_onehot, y_pred_onehot, average='macro', multi_class='ovo')  # Specify 'ovo' or 'ovr'\n",
    "\n",
    "print(\"accuracy:\", accuracy)\n",
    "print(\"recall:\", recall)\n",
    "print(\"precision:\", precision)\n",
    "print(\"f1-score:\", f1)\n",
    "print('roc_auc: ', roc_auc_macro)"
   ]
  },
  {
   "cell_type": "markdown",
   "id": "b6e1e77e",
   "metadata": {
    "papermill": {
     "duration": 0.07933,
     "end_time": "2024-02-22T18:30:30.758044",
     "exception": false,
     "start_time": "2024-02-22T18:30:30.678714",
     "status": "completed"
    },
    "tags": []
   },
   "source": [
    "## Support Vector Machine "
   ]
  },
  {
   "cell_type": "markdown",
   "id": "1b76fd5d",
   "metadata": {
    "papermill": {
     "duration": 0.079399,
     "end_time": "2024-02-22T18:30:30.917301",
     "exception": false,
     "start_time": "2024-02-22T18:30:30.837902",
     "status": "completed"
    },
    "tags": []
   },
   "source": [
    "**Normal**"
   ]
  },
  {
   "cell_type": "code",
   "execution_count": 29,
   "id": "54fb5eea",
   "metadata": {
    "execution": {
     "iopub.execute_input": "2024-02-22T18:30:31.077867Z",
     "iopub.status.busy": "2024-02-22T18:30:31.077490Z",
     "iopub.status.idle": "2024-02-22T18:30:31.140364Z",
     "shell.execute_reply": "2024-02-22T18:30:31.139247Z"
    },
    "papermill": {
     "duration": 0.146371,
     "end_time": "2024-02-22T18:30:31.142995",
     "exception": false,
     "start_time": "2024-02-22T18:30:30.996624",
     "status": "completed"
    },
    "tags": []
   },
   "outputs": [
    {
     "name": "stdout",
     "output_type": "stream",
     "text": [
      "accuracy: 1.0\n",
      "recall: 1.0\n",
      "precision: 1.0\n",
      "f1-score: 1.0\n",
      "roc_auc:  1.0\n"
     ]
    }
   ],
   "source": [
    "from sklearn.svm import SVC\n",
    "\n",
    "svm = SVC(kernel='linear')\n",
    "svm.fit(X_train_reduced, y_train)\n",
    "y_pred = svm.predict(X_test_reduced)\n",
    "\n",
    "accuracy = accuracy_score(y_test, y_pred)\n",
    "precision = precision_score(y_test, y_pred, average='macro')\n",
    "recall = recall_score(y_test, y_pred, average='macro')\n",
    "f1 = f1_score(y_test, y_pred, average='macro')\n",
    "\n",
    "# One-hot encoding for probability calculation (adapt if necessary)\n",
    "# Assuming 'label_' prefix for clarity\n",
    "y_test_onehot = pd.get_dummies(y_test, prefix='label_')\n",
    "y_pred_onehot = pd.get_dummies(y_pred, prefix='label_')\n",
    "\n",
    "# ROC AUC score with multiclass handling\n",
    "roc_auc_macro = roc_auc_score(y_test_onehot, y_pred_onehot,\n",
    "                              average='macro', multi_class='ovo')  # Specify 'ovo' or 'ovr'\n",
    "\n",
    "print(\"accuracy:\", accuracy)\n",
    "print(\"recall:\", recall)\n",
    "print(\"precision:\", precision)\n",
    "print(\"f1-score:\", f1)\n",
    "print('roc_auc: ', roc_auc_macro)"
   ]
  },
  {
   "cell_type": "markdown",
   "id": "068c1b1b",
   "metadata": {
    "papermill": {
     "duration": 0.079147,
     "end_time": "2024-02-22T18:30:31.302730",
     "exception": false,
     "start_time": "2024-02-22T18:30:31.223583",
     "status": "completed"
    },
    "tags": []
   },
   "source": [
    "**Tunning**"
   ]
  },
  {
   "cell_type": "code",
   "execution_count": 30,
   "id": "c8353f4d",
   "metadata": {
    "execution": {
     "iopub.execute_input": "2024-02-22T18:30:31.463459Z",
     "iopub.status.busy": "2024-02-22T18:30:31.463094Z",
     "iopub.status.idle": "2024-02-22T18:30:31.471085Z",
     "shell.execute_reply": "2024-02-22T18:30:31.469987Z"
    },
    "papermill": {
     "duration": 0.091164,
     "end_time": "2024-02-22T18:30:31.473338",
     "exception": false,
     "start_time": "2024-02-22T18:30:31.382174",
     "status": "completed"
    },
    "tags": []
   },
   "outputs": [],
   "source": [
    "import optuna\n",
    "from sklearn.model_selection import cross_val_score\n",
    "import warnings\n",
    "warnings.filterwarnings('ignore')\n",
    "\n",
    "def objective(trial):\n",
    "    hyperparams = {\n",
    "        'kernel': trial.suggest_categorical('kernel', ['linear', 'rbf', 'poly']),\n",
    "        'C': trial.suggest_loguniform('C', 1e-5, 1e5),\n",
    "        'gamma': trial.suggest_loguniform('gamma', 1e-5, 1e5),\n",
    "        # 'degree': trial.suggest_int('degree', 2, 5),  # for polynomial kernel\n",
    "        'tol': trial.suggest_loguniform('tol', 1e-4, 1e-2),\n",
    "        'shrinking': trial.suggest_categorical('shrinking', [True, False]),\n",
    "    }\n",
    "    \n",
    "    # Create KNN model with tuned hyperparameters\n",
    "    model = SVC(**hyperparams)\n",
    "    scores = cross_val_score(model, X_train_reduced, y_train, cv = kf,scoring = 'accuracy')\n",
    "    return np.mean(scores)"
   ]
  },
  {
   "cell_type": "code",
   "execution_count": 31,
   "id": "c5869f98",
   "metadata": {
    "execution": {
     "iopub.execute_input": "2024-02-22T18:30:31.634479Z",
     "iopub.status.busy": "2024-02-22T18:30:31.634112Z",
     "iopub.status.idle": "2024-02-22T18:30:42.500303Z",
     "shell.execute_reply": "2024-02-22T18:30:42.499113Z"
    },
    "papermill": {
     "duration": 10.949512,
     "end_time": "2024-02-22T18:30:42.502971",
     "exception": false,
     "start_time": "2024-02-22T18:30:31.553459",
     "status": "completed"
    },
    "tags": []
   },
   "outputs": [
    {
     "name": "stderr",
     "output_type": "stream",
     "text": [
      "[I 2024-02-22 18:30:31,640] A new study created in memory with name: no-name-fc0eb23a-40e8-4e45-b16a-0f88c05cdb0b\n",
      "[I 2024-02-22 18:30:31,743] Trial 0 finished with value: 0.859375 and parameters: {'kernel': 'poly', 'C': 136.39282458257222, 'gamma': 1.282588265172263, 'tol': 0.0003305938953843011, 'shrinking': True}. Best is trial 0 with value: 0.859375.\n",
      "[I 2024-02-22 18:30:31,835] Trial 1 finished with value: 0.946875 and parameters: {'kernel': 'linear', 'C': 0.04834977976971953, 'gamma': 14393.550761044286, 'tol': 0.00012788319825127054, 'shrinking': True}. Best is trial 1 with value: 0.946875.\n",
      "[I 2024-02-22 18:30:31,950] Trial 2 finished with value: 0.0 and parameters: {'kernel': 'rbf', 'C': 5603.979219761246, 'gamma': 0.0007976637162598171, 'tol': 0.0001162209069282289, 'shrinking': True}. Best is trial 1 with value: 0.946875.\n",
      "[I 2024-02-22 18:30:32,026] Trial 3 finished with value: 0.946875 and parameters: {'kernel': 'linear', 'C': 66.48016482666914, 'gamma': 0.005909812245984741, 'tol': 0.0016724017982317685, 'shrinking': False}. Best is trial 1 with value: 0.946875.\n",
      "[I 2024-02-22 18:30:32,108] Trial 4 finished with value: 0.946875 and parameters: {'kernel': 'linear', 'C': 0.0025225511046254303, 'gamma': 0.05762560469656085, 'tol': 0.00034698073050008484, 'shrinking': False}. Best is trial 1 with value: 0.946875.\n",
      "[I 2024-02-22 18:30:32,203] Trial 5 finished with value: 0.859375 and parameters: {'kernel': 'poly', 'C': 576.0042179483681, 'gamma': 506.34151546147115, 'tol': 0.00015702729127796213, 'shrinking': False}. Best is trial 1 with value: 0.946875.\n",
      "[I 2024-02-22 18:30:32,293] Trial 6 finished with value: 0.859375 and parameters: {'kernel': 'poly', 'C': 0.00017012496312983902, 'gamma': 11.387492936090194, 'tol': 0.0006369202148876682, 'shrinking': False}. Best is trial 1 with value: 0.946875.\n",
      "[I 2024-02-22 18:30:32,395] Trial 7 finished with value: 0.0 and parameters: {'kernel': 'rbf', 'C': 20806.671376743692, 'gamma': 4.2574918488871125, 'tol': 0.0013934066654131773, 'shrinking': False}. Best is trial 1 with value: 0.946875.\n",
      "[I 2024-02-22 18:30:32,499] Trial 8 finished with value: 0.859375 and parameters: {'kernel': 'poly', 'C': 0.013912597265152522, 'gamma': 0.0001622832470222695, 'tol': 0.00015189569503197315, 'shrinking': True}. Best is trial 1 with value: 0.946875.\n",
      "[I 2024-02-22 18:30:32,591] Trial 9 finished with value: 0.946875 and parameters: {'kernel': 'linear', 'C': 3.8320444837170284, 'gamma': 0.0067713647577395146, 'tol': 0.00015824280207137918, 'shrinking': True}. Best is trial 1 with value: 0.946875.\n",
      "[I 2024-02-22 18:30:32,691] Trial 10 finished with value: 0.946875 and parameters: {'kernel': 'linear', 'C': 0.18160589240260042, 'gamma': 54553.271694173745, 'tol': 0.006936487130963488, 'shrinking': True}. Best is trial 1 with value: 0.946875.\n",
      "[I 2024-02-22 18:30:32,789] Trial 11 finished with value: 0.946875 and parameters: {'kernel': 'linear', 'C': 15.355943901921453, 'gamma': 1.5628566734247968e-05, 'tol': 0.0025860427281444026, 'shrinking': False}. Best is trial 1 with value: 0.946875.\n",
      "[I 2024-02-22 18:30:32,888] Trial 12 finished with value: 0.946875 and parameters: {'kernel': 'linear', 'C': 0.10061349311009093, 'gamma': 3141.0789780138566, 'tol': 0.002024067737003702, 'shrinking': False}. Best is trial 1 with value: 0.946875.\n",
      "[I 2024-02-22 18:30:32,989] Trial 13 finished with value: 0.946875 and parameters: {'kernel': 'linear', 'C': 1.4207455460153243e-05, 'gamma': 0.07253782016225424, 'tol': 0.00445320333740561, 'shrinking': True}. Best is trial 1 with value: 0.946875.\n",
      "[I 2024-02-22 18:30:33,089] Trial 14 finished with value: 0.946875 and parameters: {'kernel': 'linear', 'C': 2.853042889687775, 'gamma': 186.8201316675786, 'tol': 0.0009747839755855553, 'shrinking': False}. Best is trial 1 with value: 0.946875.\n",
      "[I 2024-02-22 18:30:33,199] Trial 15 finished with value: 0.946875 and parameters: {'kernel': 'linear', 'C': 52.941196118699665, 'gamma': 68887.05155047432, 'tol': 0.0005664984426009669, 'shrinking': True}. Best is trial 1 with value: 0.946875.\n",
      "[I 2024-02-22 18:30:33,298] Trial 16 finished with value: 0.0 and parameters: {'kernel': 'rbf', 'C': 0.002274764515983713, 'gamma': 0.06261833482867948, 'tol': 0.004008917757727124, 'shrinking': False}. Best is trial 1 with value: 0.946875.\n",
      "[I 2024-02-22 18:30:33,408] Trial 17 finished with value: 0.946875 and parameters: {'kernel': 'linear', 'C': 0.1956533202088142, 'gamma': 61.596599057533965, 'tol': 0.0002944552331060687, 'shrinking': True}. Best is trial 1 with value: 0.946875.\n",
      "[I 2024-02-22 18:30:33,509] Trial 18 finished with value: 0.946875 and parameters: {'kernel': 'linear', 'C': 1180.8917006636493, 'gamma': 3997.7331498935328, 'tol': 0.0010168432478569714, 'shrinking': False}. Best is trial 1 with value: 0.946875.\n",
      "[I 2024-02-22 18:30:33,632] Trial 19 finished with value: 0.0 and parameters: {'kernel': 'rbf', 'C': 77131.00411071483, 'gamma': 0.003767167529447202, 'tol': 0.00239120978202264, 'shrinking': True}. Best is trial 1 with value: 0.946875.\n",
      "[I 2024-02-22 18:30:33,728] Trial 20 finished with value: 0.946875 and parameters: {'kernel': 'linear', 'C': 0.6236234390008293, 'gamma': 0.5049822407051664, 'tol': 0.00935916834708953, 'shrinking': True}. Best is trial 1 with value: 0.946875.\n",
      "[I 2024-02-22 18:30:33,834] Trial 21 finished with value: 0.946875 and parameters: {'kernel': 'linear', 'C': 0.002419151425258172, 'gamma': 0.07984432684004035, 'tol': 0.0004964146548060389, 'shrinking': False}. Best is trial 1 with value: 0.946875.\n",
      "[I 2024-02-22 18:30:33,939] Trial 22 finished with value: 0.946875 and parameters: {'kernel': 'linear', 'C': 0.009731564920889274, 'gamma': 0.004174315271735464, 'tol': 0.0002433684036606768, 'shrinking': False}. Best is trial 1 with value: 0.946875.\n",
      "[I 2024-02-22 18:30:34,045] Trial 23 finished with value: 0.946875 and parameters: {'kernel': 'linear', 'C': 0.00016848145977538343, 'gamma': 0.0001460735491931481, 'tol': 0.0003965057949854366, 'shrinking': False}. Best is trial 1 with value: 0.946875.\n",
      "[I 2024-02-22 18:30:34,154] Trial 24 finished with value: 0.946875 and parameters: {'kernel': 'linear', 'C': 0.02783264449015538, 'gamma': 0.3080655316189765, 'tol': 0.00010285816730500095, 'shrinking': False}. Best is trial 1 with value: 0.946875.\n",
      "[I 2024-02-22 18:30:34,261] Trial 25 finished with value: 0.946875 and parameters: {'kernel': 'linear', 'C': 0.0003162943285418754, 'gamma': 0.015828931801509637, 'tol': 0.00021089250604055713, 'shrinking': False}. Best is trial 1 with value: 0.946875.\n",
      "[I 2024-02-22 18:30:34,363] Trial 26 finished with value: 0.946875 and parameters: {'kernel': 'linear', 'C': 13.116905798771702, 'gamma': 0.0005325934515760441, 'tol': 0.0009229280267001618, 'shrinking': False}. Best is trial 1 with value: 0.946875.\n",
      "[I 2024-02-22 18:30:34,462] Trial 27 finished with value: 0.946875 and parameters: {'kernel': 'linear', 'C': 0.0018059462481353297, 'gamma': 17.460629264960932, 'tol': 0.0015019148407448021, 'shrinking': False}. Best is trial 1 with value: 0.946875.\n",
      "[I 2024-02-22 18:30:34,584] Trial 28 finished with value: 0.859375 and parameters: {'kernel': 'poly', 'C': 1.1649819967509722, 'gamma': 1.9455247463630482e-05, 'tol': 0.0006844887002736108, 'shrinking': True}. Best is trial 1 with value: 0.946875.\n",
      "[I 2024-02-22 18:30:34,716] Trial 29 finished with value: 0.0 and parameters: {'kernel': 'rbf', 'C': 211.7420538370665, 'gamma': 0.8542663710919475, 'tol': 0.0003347160096685533, 'shrinking': True}. Best is trial 1 with value: 0.946875.\n",
      "[I 2024-02-22 18:30:34,833] Trial 30 finished with value: 0.859375 and parameters: {'kernel': 'poly', 'C': 1.371015953198249e-05, 'gamma': 3.8092672715368794, 'tol': 0.0002156469992578632, 'shrinking': False}. Best is trial 1 with value: 0.946875.\n",
      "[I 2024-02-22 18:30:34,949] Trial 31 finished with value: 0.946875 and parameters: {'kernel': 'linear', 'C': 5.00900630492898, 'gamma': 0.005021198542623325, 'tol': 0.00013203206975429059, 'shrinking': True}. Best is trial 1 with value: 0.946875.\n",
      "[I 2024-02-22 18:30:35,063] Trial 32 finished with value: 0.946875 and parameters: {'kernel': 'linear', 'C': 65.92781688246491, 'gamma': 0.014651253150698531, 'tol': 0.00014588776027033443, 'shrinking': True}. Best is trial 1 with value: 0.946875.\n",
      "[I 2024-02-22 18:30:35,179] Trial 33 finished with value: 0.946875 and parameters: {'kernel': 'linear', 'C': 3004.3983235539217, 'gamma': 0.001065481551785844, 'tol': 0.00018559364497140393, 'shrinking': True}. Best is trial 1 with value: 0.946875.\n",
      "[I 2024-02-22 18:30:35,291] Trial 34 finished with value: 0.946875 and parameters: {'kernel': 'linear', 'C': 0.07232988201096498, 'gamma': 0.11293365629453134, 'tol': 0.0002738466789660435, 'shrinking': True}. Best is trial 1 with value: 0.946875.\n",
      "[I 2024-02-22 18:30:35,412] Trial 35 finished with value: 0.0 and parameters: {'kernel': 'rbf', 'C': 0.7079261652152735, 'gamma': 0.018385368546061084, 'tol': 0.00010681969566795458, 'shrinking': True}. Best is trial 1 with value: 0.946875.\n",
      "[I 2024-02-22 18:30:35,535] Trial 36 finished with value: 0.859375 and parameters: {'kernel': 'poly', 'C': 254.9850608710109, 'gamma': 0.0010583823673709029, 'tol': 0.00040309615311015723, 'shrinking': True}. Best is trial 1 with value: 0.946875.\n",
      "[I 2024-02-22 18:30:35,642] Trial 37 finished with value: 0.946875 and parameters: {'kernel': 'linear', 'C': 0.0005413405180310348, 'gamma': 4.684028590571781, 'tol': 0.00017029895189726803, 'shrinking': False}. Best is trial 1 with value: 0.946875.\n",
      "[I 2024-02-22 18:30:35,748] Trial 38 finished with value: 0.946875 and parameters: {'kernel': 'linear', 'C': 12.60440908800252, 'gamma': 0.0002257829135899612, 'tol': 0.0013492642489495884, 'shrinking': True}. Best is trial 1 with value: 0.946875.\n",
      "[I 2024-02-22 18:30:35,869] Trial 39 finished with value: 0.859375 and parameters: {'kernel': 'poly', 'C': 0.01222795038287483, 'gamma': 1127.2646818662565, 'tol': 0.00012667994567564886, 'shrinking': False}. Best is trial 1 with value: 0.946875.\n",
      "[I 2024-02-22 18:30:35,974] Trial 40 finished with value: 0.946875 and parameters: {'kernel': 'linear', 'C': 9.032548147450488e-05, 'gamma': 12475.0862874628, 'tol': 0.0035254062056343143, 'shrinking': True}. Best is trial 1 with value: 0.946875.\n",
      "[I 2024-02-22 18:30:36,075] Trial 41 finished with value: 0.946875 and parameters: {'kernel': 'linear', 'C': 0.21946986299252907, 'gamma': 75918.4553061378, 'tol': 0.006606331704833585, 'shrinking': True}. Best is trial 1 with value: 0.946875.\n",
      "[I 2024-02-22 18:30:36,174] Trial 42 finished with value: 0.946875 and parameters: {'kernel': 'linear', 'C': 4.279486295389239, 'gamma': 12329.622115207903, 'tol': 0.0061195932010542214, 'shrinking': True}. Best is trial 1 with value: 0.946875.\n",
      "[I 2024-02-22 18:30:36,272] Trial 43 finished with value: 0.946875 and parameters: {'kernel': 'linear', 'C': 0.09547512450389624, 'gamma': 207.46813932499174, 'tol': 0.009753354301540921, 'shrinking': True}. Best is trial 1 with value: 0.946875.\n",
      "[I 2024-02-22 18:30:36,377] Trial 44 finished with value: 0.946875 and parameters: {'kernel': 'linear', 'C': 0.029914805783640912, 'gamma': 14453.587510341426, 'tol': 0.002912093890649639, 'shrinking': True}. Best is trial 1 with value: 0.946875.\n",
      "[I 2024-02-22 18:30:36,477] Trial 45 finished with value: 0.946875 and parameters: {'kernel': 'linear', 'C': 45.580846126268966, 'gamma': 0.2422758070192541, 'tol': 0.0019566089855702086, 'shrinking': False}. Best is trial 1 with value: 0.946875.\n",
      "[I 2024-02-22 18:30:36,608] Trial 46 finished with value: 0.0 and parameters: {'kernel': 'rbf', 'C': 1.2364049432771067, 'gamma': 0.025137516659413862, 'tol': 0.0007327764969339482, 'shrinking': True}. Best is trial 1 with value: 0.946875.\n",
      "[I 2024-02-22 18:30:36,717] Trial 47 finished with value: 0.946875 and parameters: {'kernel': 'linear', 'C': 0.005035060898817441, 'gamma': 29761.495171204573, 'tol': 0.00017152748899411507, 'shrinking': False}. Best is trial 1 with value: 0.946875.\n",
      "[I 2024-02-22 18:30:36,820] Trial 48 finished with value: 0.946875 and parameters: {'kernel': 'linear', 'C': 0.1839900468831325, 'gamma': 0.002706192696698557, 'tol': 0.004985355665636382, 'shrinking': True}. Best is trial 1 with value: 0.946875.\n",
      "[I 2024-02-22 18:30:36,931] Trial 49 finished with value: 0.946875 and parameters: {'kernel': 'linear', 'C': 0.33771482961142535, 'gamma': 3.864560055898954e-05, 'tol': 0.0003573537820512409, 'shrinking': False}. Best is trial 1 with value: 0.946875.\n",
      "[I 2024-02-22 18:30:37,046] Trial 50 finished with value: 0.946875 and parameters: {'kernel': 'linear', 'C': 0.04506518448563631, 'gamma': 2079.5907805388756, 'tol': 0.0004577205125550262, 'shrinking': True}. Best is trial 1 with value: 0.946875.\n",
      "[I 2024-02-22 18:30:37,146] Trial 51 finished with value: 0.946875 and parameters: {'kernel': 'linear', 'C': 15.623605636072817, 'gamma': 9.340692935058367e-05, 'tol': 0.0024970223415240636, 'shrinking': False}. Best is trial 1 with value: 0.946875.\n",
      "[I 2024-02-22 18:30:37,249] Trial 52 finished with value: 0.946875 and parameters: {'kernel': 'linear', 'C': 547.6893310063092, 'gamma': 1.6373422798612116, 'tol': 0.0016244745746843538, 'shrinking': False}. Best is trial 1 with value: 0.946875.\n",
      "[I 2024-02-22 18:30:37,353] Trial 53 finished with value: 0.946875 and parameters: {'kernel': 'linear', 'C': 43.8984123003489, 'gamma': 0.036327865283770966, 'tol': 0.0011344839591385604, 'shrinking': False}. Best is trial 1 with value: 0.946875.\n",
      "[I 2024-02-22 18:30:37,454] Trial 54 finished with value: 0.946875 and parameters: {'kernel': 'linear', 'C': 27.639461295635453, 'gamma': 1.0139569190745071e-05, 'tol': 0.0031570446906211713, 'shrinking': False}. Best is trial 1 with value: 0.946875.\n",
      "[I 2024-02-22 18:30:37,580] Trial 55 finished with value: 0.0 and parameters: {'kernel': 'rbf', 'C': 2.9641932077637994, 'gamma': 0.009121197870395002, 'tol': 0.0075122051328743375, 'shrinking': False}. Best is trial 1 with value: 0.946875.\n",
      "[I 2024-02-22 18:30:37,683] Trial 56 finished with value: 0.946875 and parameters: {'kernel': 'linear', 'C': 1.4334455457761877, 'gamma': 74.47055914901777, 'tol': 0.001896218108992949, 'shrinking': False}. Best is trial 1 with value: 0.946875.\n",
      "[I 2024-02-22 18:30:37,794] Trial 57 finished with value: 0.859375 and parameters: {'kernel': 'poly', 'C': 0.0011592442433651542, 'gamma': 0.00032229485533193856, 'tol': 0.004202762913477308, 'shrinking': False}. Best is trial 1 with value: 0.946875.\n",
      "[I 2024-02-22 18:30:37,903] Trial 58 finished with value: 0.946875 and parameters: {'kernel': 'linear', 'C': 112.0526639216983, 'gamma': 0.1602889808741771, 'tol': 0.0023594748716174964, 'shrinking': True}. Best is trial 1 with value: 0.946875.\n",
      "[I 2024-02-22 18:30:38,010] Trial 59 finished with value: 0.946875 and parameters: {'kernel': 'linear', 'C': 0.005267849135640105, 'gamma': 5.431888161206346e-05, 'tol': 0.0011497606711961938, 'shrinking': False}. Best is trial 1 with value: 0.946875.\n",
      "[I 2024-02-22 18:30:38,127] Trial 60 finished with value: 0.946875 and parameters: {'kernel': 'linear', 'C': 10.366880769258412, 'gamma': 0.05125494713348155, 'tol': 0.0002346048623958867, 'shrinking': True}. Best is trial 1 with value: 0.946875.\n",
      "[I 2024-02-22 18:30:38,233] Trial 61 finished with value: 0.946875 and parameters: {'kernel': 'linear', 'C': 0.4318768996136459, 'gamma': 25505.05976652877, 'tol': 0.0007894070871331723, 'shrinking': False}. Best is trial 1 with value: 0.946875.\n",
      "[I 2024-02-22 18:30:38,335] Trial 62 finished with value: 0.946875 and parameters: {'kernel': 'linear', 'C': 0.12793069534338336, 'gamma': 4080.9749535297988, 'tol': 0.002118768281431892, 'shrinking': False}. Best is trial 1 with value: 0.946875.\n",
      "[I 2024-02-22 18:30:38,442] Trial 63 finished with value: 0.946875 and parameters: {'kernel': 'linear', 'C': 0.018903842001124133, 'gamma': 6087.199587429663, 'tol': 0.0006027611986484817, 'shrinking': False}. Best is trial 1 with value: 0.946875.\n",
      "[I 2024-02-22 18:30:38,541] Trial 64 finished with value: 0.946875 and parameters: {'kernel': 'linear', 'C': 7.124426146138532, 'gamma': 0.002284977042390558, 'tol': 0.0048814258287601916, 'shrinking': False}. Best is trial 1 with value: 0.946875.\n",
      "[I 2024-02-22 18:30:38,645] Trial 65 finished with value: 0.946875 and parameters: {'kernel': 'linear', 'C': 2.770117871455999, 'gamma': 651.0122976065817, 'tol': 0.0015611341856616966, 'shrinking': False}. Best is trial 1 with value: 0.946875.\n",
      "[I 2024-02-22 18:30:38,762] Trial 66 finished with value: 0.0 and parameters: {'kernel': 'rbf', 'C': 0.007022682063696241, 'gamma': 43087.244771154124, 'tol': 0.00029270522513147454, 'shrinking': True}. Best is trial 1 with value: 0.946875.\n",
      "[I 2024-02-22 18:30:38,874] Trial 67 finished with value: 0.946875 and parameters: {'kernel': 'linear', 'C': 0.05238309778306888, 'gamma': 88480.65249318336, 'tol': 0.0001425065272335422, 'shrinking': False}. Best is trial 1 with value: 0.946875.\n",
      "[I 2024-02-22 18:30:38,982] Trial 68 finished with value: 0.946875 and parameters: {'kernel': 'linear', 'C': 7.803147279113492e-05, 'gamma': 0.0006154994121584583, 'tol': 0.002840456417749646, 'shrinking': True}. Best is trial 1 with value: 0.946875.\n",
      "[I 2024-02-22 18:30:39,117] Trial 69 finished with value: 0.859375 and parameters: {'kernel': 'poly', 'C': 2051.842693677556, 'gamma': 14.048260560330394, 'tol': 0.00011776286760726464, 'shrinking': False}. Best is trial 1 with value: 0.946875.\n",
      "[I 2024-02-22 18:30:39,247] Trial 70 finished with value: 0.946875 and parameters: {'kernel': 'linear', 'C': 1.6090520867287121, 'gamma': 0.007448656593549332, 'tol': 0.0017278133467473137, 'shrinking': True}. Best is trial 1 with value: 0.946875.\n",
      "[I 2024-02-22 18:30:39,348] Trial 71 finished with value: 0.946875 and parameters: {'kernel': 'linear', 'C': 1.2306530302949235e-05, 'gamma': 0.08139140931267987, 'tol': 0.0078086186606115705, 'shrinking': True}. Best is trial 1 with value: 0.946875.\n",
      "[I 2024-02-22 18:30:39,452] Trial 72 finished with value: 0.946875 and parameters: {'kernel': 'linear', 'C': 5.271302367289014e-05, 'gamma': 0.5080153034570043, 'tol': 0.0038379291296013747, 'shrinking': True}. Best is trial 1 with value: 0.946875.\n",
      "[I 2024-02-22 18:30:39,555] Trial 73 finished with value: 0.946875 and parameters: {'kernel': 'linear', 'C': 0.5308156083732012, 'gamma': 1.6254486349853332, 'tol': 0.005361468859695249, 'shrinking': True}. Best is trial 1 with value: 0.946875.\n",
      "[I 2024-02-22 18:30:39,663] Trial 74 finished with value: 0.946875 and parameters: {'kernel': 'linear', 'C': 0.0007542188516008083, 'gamma': 1753.312823334637, 'tol': 0.0013209318941927884, 'shrinking': True}. Best is trial 1 with value: 0.946875.\n",
      "[I 2024-02-22 18:30:39,769] Trial 75 finished with value: 0.946875 and parameters: {'kernel': 'linear', 'C': 3.4894137777774034e-05, 'gamma': 0.0017251371218084816, 'tol': 0.003323483732371395, 'shrinking': True}. Best is trial 1 with value: 0.946875.\n",
      "[I 2024-02-22 18:30:39,879] Trial 76 finished with value: 0.946875 and parameters: {'kernel': 'linear', 'C': 0.0028531985858975656, 'gamma': 0.15544655676754124, 'tol': 0.00019689024095062398, 'shrinking': False}. Best is trial 1 with value: 0.946875.\n",
      "[I 2024-02-22 18:30:39,982] Trial 77 finished with value: 0.946875 and parameters: {'kernel': 'linear', 'C': 0.26724295875673076, 'gamma': 0.010058857490269451, 'tol': 0.00413390876158553, 'shrinking': True}. Best is trial 1 with value: 0.946875.\n",
      "[I 2024-02-22 18:30:40,087] Trial 78 finished with value: 0.0 and parameters: {'kernel': 'rbf', 'C': 0.000328306702050361, 'gamma': 0.03015863319985535, 'tol': 0.002499093966394385, 'shrinking': True}. Best is trial 1 with value: 0.946875.\n",
      "[I 2024-02-22 18:30:40,193] Trial 79 finished with value: 0.859375 and parameters: {'kernel': 'poly', 'C': 20.025879095752448, 'gamma': 0.3187911082568248, 'tol': 0.008358634743984525, 'shrinking': False}. Best is trial 1 with value: 0.946875.\n",
      "[I 2024-02-22 18:30:40,296] Trial 80 finished with value: 0.946875 and parameters: {'kernel': 'linear', 'C': 18037.203560785547, 'gamma': 9056.353275254283, 'tol': 0.006627274225741559, 'shrinking': True}. Best is trial 1 with value: 0.946875.\n",
      "[I 2024-02-22 18:30:40,401] Trial 81 finished with value: 0.946875 and parameters: {'kernel': 'linear', 'C': 0.9883602800563729, 'gamma': 36.5207049789813, 'tol': 0.0008226372493948611, 'shrinking': False}. Best is trial 1 with value: 0.946875.\n",
      "[I 2024-02-22 18:30:40,510] Trial 82 finished with value: 0.946875 and parameters: {'kernel': 'linear', 'C': 7.095854801218753, 'gamma': 212.02319361409636, 'tol': 0.0005385122579074661, 'shrinking': False}. Best is trial 1 with value: 0.946875.\n",
      "[I 2024-02-22 18:30:40,618] Trial 83 finished with value: 0.946875 and parameters: {'kernel': 'linear', 'C': 2.424186389931859, 'gamma': 39311.262679223546, 'tol': 0.0009559984157113155, 'shrinking': False}. Best is trial 1 with value: 0.946875.\n",
      "[I 2024-02-22 18:30:40,731] Trial 84 finished with value: 0.946875 and parameters: {'kernel': 'linear', 'C': 0.10694140800187002, 'gamma': 2869.986460613987, 'tol': 0.00010166647087683402, 'shrinking': False}. Best is trial 1 with value: 0.946875.\n",
      "[I 2024-02-22 18:30:40,843] Trial 85 finished with value: 0.946875 and parameters: {'kernel': 'linear', 'C': 103.41427773137086, 'gamma': 17309.959152834257, 'tol': 0.0002507796548700028, 'shrinking': False}. Best is trial 1 with value: 0.946875.\n",
      "[I 2024-02-22 18:30:40,947] Trial 86 finished with value: 0.946875 and parameters: {'kernel': 'linear', 'C': 403.4684550373527, 'gamma': 5.251313335621479, 'tol': 0.0028522544997848028, 'shrinking': False}. Best is trial 1 with value: 0.946875.\n",
      "[I 2024-02-22 18:30:41,057] Trial 87 finished with value: 0.946875 and parameters: {'kernel': 'linear', 'C': 0.04385154553100365, 'gamma': 872.3501591842435, 'tol': 0.0021509377715408754, 'shrinking': True}. Best is trial 1 with value: 0.946875.\n",
      "[I 2024-02-22 18:30:41,172] Trial 88 finished with value: 0.946875 and parameters: {'kernel': 'linear', 'C': 29.824835372348126, 'gamma': 0.0038722910873981186, 'tol': 0.00015650715535843918, 'shrinking': False}. Best is trial 1 with value: 0.946875.\n",
      "[I 2024-02-22 18:30:41,281] Trial 89 finished with value: 0.946875 and parameters: {'kernel': 'linear', 'C': 0.01842731454025615, 'gamma': 0.015852095876004894, 'tol': 0.0017963129240072865, 'shrinking': True}. Best is trial 1 with value: 0.946875.\n",
      "[I 2024-02-22 18:30:41,387] Trial 90 finished with value: 0.946875 and parameters: {'kernel': 'linear', 'C': 4.250642582702458, 'gamma': 0.7013000474582066, 'tol': 0.0013829740283840782, 'shrinking': False}. Best is trial 1 with value: 0.946875.\n",
      "[I 2024-02-22 18:30:41,502] Trial 91 finished with value: 0.946875 and parameters: {'kernel': 'linear', 'C': 46.85694238447368, 'gamma': 57746.58749668823, 'tol': 0.0004211348950993127, 'shrinking': True}. Best is trial 1 with value: 0.946875.\n",
      "[I 2024-02-22 18:30:41,614] Trial 92 finished with value: 0.946875 and parameters: {'kernel': 'linear', 'C': 78.62268728948706, 'gamma': 10457.12152912233, 'tol': 0.0011122951735105205, 'shrinking': True}. Best is trial 1 with value: 0.946875.\n",
      "[I 2024-02-22 18:30:41,730] Trial 93 finished with value: 0.946875 and parameters: {'kernel': 'linear', 'C': 0.7357311812899865, 'gamma': 4530.934909536905, 'tol': 0.0006453155527553512, 'shrinking': True}. Best is trial 1 with value: 0.946875.\n",
      "[I 2024-02-22 18:30:41,847] Trial 94 finished with value: 0.946875 and parameters: {'kernel': 'linear', 'C': 0.15577614980685506, 'gamma': 22050.837308234175, 'tol': 0.00033422043948082097, 'shrinking': True}. Best is trial 1 with value: 0.946875.\n",
      "[I 2024-02-22 18:30:41,983] Trial 95 finished with value: 0.0 and parameters: {'kernel': 'rbf', 'C': 7.6437717188004015, 'gamma': 6929.0578725104415, 'tol': 0.0005231091354335435, 'shrinking': True}. Best is trial 1 with value: 0.946875.\n",
      "[I 2024-02-22 18:30:42,092] Trial 96 finished with value: 0.946875 and parameters: {'kernel': 'linear', 'C': 2.604212575603408e-05, 'gamma': 226.10543516643492, 'tol': 0.0012496686471709028, 'shrinking': False}. Best is trial 1 with value: 0.946875.\n",
      "[I 2024-02-22 18:30:42,218] Trial 97 finished with value: 0.859375 and parameters: {'kernel': 'poly', 'C': 280.22521802897415, 'gamma': 59407.10934634452, 'tol': 0.0008647286979042476, 'shrinking': True}. Best is trial 1 with value: 0.946875.\n",
      "[I 2024-02-22 18:30:42,333] Trial 98 finished with value: 0.946875 and parameters: {'kernel': 'linear', 'C': 1034.3282391891462, 'gamma': 1538.343527642544, 'tol': 0.00012255770212315565, 'shrinking': False}. Best is trial 1 with value: 0.946875.\n",
      "[I 2024-02-22 18:30:42,439] Trial 99 finished with value: 0.946875 and parameters: {'kernel': 'linear', 'C': 193.51555939859435, 'gamma': 98239.21484597931, 'tol': 0.004663742967928205, 'shrinking': True}. Best is trial 1 with value: 0.946875.\n"
     ]
    },
    {
     "name": "stdout",
     "output_type": "stream",
     "text": [
      "Best params found : {'kernel': 'linear', 'C': 0.04834977976971953, 'gamma': 14393.550761044286, 'tol': 0.00012788319825127054, 'shrinking': True}\n",
      "accuracy: 1.0\n",
      "recall: 1.0\n",
      "precision: 1.0\n",
      "f1-score: 1.0\n",
      "roc_auc:  1.0\n"
     ]
    }
   ],
   "source": [
    "study = optuna.create_study(direction='maximize')\n",
    "study.optimize(objective, n_trials=100)\n",
    "best_params = study.best_params\n",
    "print(\"Best params found :\", best_params)\n",
    "\n",
    "final_model = SVC(**best_params)\n",
    "final_model.fit(X_train_reduced, y_train)\n",
    "y_pred = final_model.predict(X_test_reduced)\n",
    "prediction_results['svc'] = list(y_pred)\n",
    "\n",
    "accuracy = accuracy_score(y_test, y_pred)\n",
    "precision = precision_score(y_test, y_pred, average='macro')\n",
    "recall = recall_score(y_test, y_pred, average='macro')\n",
    "f1 = f1_score(y_test, y_pred, average='macro')\n",
    "\n",
    "# One-hot encoding for probability calculation (adapt if necessary)\n",
    "# Assuming 'label_' prefix for clarity\n",
    "y_test_onehot = pd.get_dummies(y_test, prefix='label_')\n",
    "y_pred_onehot = pd.get_dummies(y_pred, prefix='label_')\n",
    "\n",
    "# ROC AUC score with multiclass handling\n",
    "roc_auc_macro = roc_auc_score(y_test_onehot, y_pred_onehot,\n",
    "                              average='macro', multi_class='ovo')  # Specify 'ovo' or 'ovr'\n",
    "\n",
    "print(\"accuracy:\", accuracy)\n",
    "print(\"recall:\", recall)\n",
    "print(\"precision:\", precision)\n",
    "print(\"f1-score:\", f1)\n",
    "print('roc_auc: ', roc_auc_macro)"
   ]
  },
  {
   "cell_type": "markdown",
   "id": "c4300861",
   "metadata": {
    "papermill": {
     "duration": 0.090068,
     "end_time": "2024-02-22T18:30:42.683328",
     "exception": false,
     "start_time": "2024-02-22T18:30:42.593260",
     "status": "completed"
    },
    "tags": []
   },
   "source": [
    "## Decision Tree"
   ]
  },
  {
   "cell_type": "markdown",
   "id": "136bf8f7",
   "metadata": {
    "papermill": {
     "duration": 0.090627,
     "end_time": "2024-02-22T18:30:42.865028",
     "exception": false,
     "start_time": "2024-02-22T18:30:42.774401",
     "status": "completed"
    },
    "tags": []
   },
   "source": [
    "**Normal**"
   ]
  },
  {
   "cell_type": "code",
   "execution_count": 32,
   "id": "ba2cfa11",
   "metadata": {
    "execution": {
     "iopub.execute_input": "2024-02-22T18:30:43.049334Z",
     "iopub.status.busy": "2024-02-22T18:30:43.048935Z",
     "iopub.status.idle": "2024-02-22T18:30:43.168832Z",
     "shell.execute_reply": "2024-02-22T18:30:43.167653Z"
    },
    "papermill": {
     "duration": 0.2156,
     "end_time": "2024-02-22T18:30:43.171477",
     "exception": false,
     "start_time": "2024-02-22T18:30:42.955877",
     "status": "completed"
    },
    "tags": []
   },
   "outputs": [
    {
     "name": "stdout",
     "output_type": "stream",
     "text": [
      "accuracy: 0.6\n",
      "recall: 0.55\n",
      "precision: 0.5641666666666667\n",
      "f1-score: 0.5229761904761905\n",
      "roc_auc:  0.5452392744810545\n",
      "accuracy: 1.0\n",
      "recall: 1.0\n",
      "precision: 1.0\n",
      "f1-score: 1.0\n",
      "roc_auc:  1.0\n"
     ]
    }
   ],
   "source": [
    "from sklearn.tree import DecisionTreeClassifier\n",
    "\n",
    "dt = DecisionTreeClassifier(random_state=42)\n",
    "dt.fit(X_train_reduced, y_train)\n",
    "y_pred = dt.predict(X_test_reduced)\n",
    "\n",
    "accuracy = accuracy_score(y_test, y_pred)\n",
    "precision = precision_score(y_test, y_pred, average='macro')\n",
    "recall = recall_score(y_test, y_pred, average='macro')\n",
    "f1 = f1_score(y_test, y_pred, average='macro')\n",
    "\n",
    "# One-hot encoding for probability calculation (adapt if necessary)\n",
    "# Assuming 'label_' prefix for clarity\n",
    "y_test_onehot = pd.get_dummies(y_test, prefix='label_')\n",
    "y_pred_onehot = pd.get_dummies(y_pred, prefix='label_')\n",
    "\n",
    "# ROC AUC score with multiclass handling\n",
    "roc_auc_macro = roc_auc_score(y_test_onehot, y_pred_onehot,\n",
    "                              average='macro', multi_class='ovo')  # Specify 'ovo' or 'ovr'\n",
    "\n",
    "print(\"accuracy:\", accuracy)\n",
    "print(\"recall:\", recall)\n",
    "print(\"precision:\", precision)\n",
    "print(\"f1-score:\", f1)\n",
    "print('roc_auc: ', roc_auc_macro)\n",
    "\n",
    "svm = SVC(kernel='linear')\n",
    "svm.fit(X_train_reduced, y_train)\n",
    "y_pred = svm.predict(X_test_reduced)\n",
    "\n",
    "accuracy = accuracy_score(y_test, y_pred)\n",
    "precision = precision_score(y_test, y_pred, average='macro')\n",
    "recall = recall_score(y_test, y_pred, average='macro')\n",
    "f1 = f1_score(y_test, y_pred, average='macro')\n",
    "\n",
    "# One-hot encoding for probability calculation (adapt if necessary)\n",
    "# Assuming 'label_' prefix for clarity\n",
    "y_test_onehot = pd.get_dummies(y_test, prefix='label_')\n",
    "y_pred_onehot = pd.get_dummies(y_pred, prefix='label_')\n",
    "\n",
    "# ROC AUC score with multiclass handling\n",
    "roc_auc_macro = roc_auc_score(y_test_onehot, y_pred_onehot,\n",
    "                              average='macro', multi_class='ovo')  # Specify 'ovo' or 'ovr'\n",
    "\n",
    "print(\"accuracy:\", accuracy)\n",
    "print(\"recall:\", recall)\n",
    "print(\"precision:\", precision)\n",
    "print(\"f1-score:\", f1)\n",
    "print('roc_auc: ', roc_auc_macro)"
   ]
  },
  {
   "cell_type": "markdown",
   "id": "6b05c713",
   "metadata": {
    "papermill": {
     "duration": 0.088617,
     "end_time": "2024-02-22T18:30:43.349707",
     "exception": false,
     "start_time": "2024-02-22T18:30:43.261090",
     "status": "completed"
    },
    "tags": []
   },
   "source": [
    "**Tunning**"
   ]
  },
  {
   "cell_type": "code",
   "execution_count": 33,
   "id": "48bb1d36",
   "metadata": {
    "execution": {
     "iopub.execute_input": "2024-02-22T18:30:43.530432Z",
     "iopub.status.busy": "2024-02-22T18:30:43.530047Z",
     "iopub.status.idle": "2024-02-22T18:30:43.538091Z",
     "shell.execute_reply": "2024-02-22T18:30:43.536894Z"
    },
    "papermill": {
     "duration": 0.100816,
     "end_time": "2024-02-22T18:30:43.540443",
     "exception": false,
     "start_time": "2024-02-22T18:30:43.439627",
     "status": "completed"
    },
    "tags": []
   },
   "outputs": [],
   "source": [
    "import optuna\n",
    "from sklearn.model_selection import cross_val_score\n",
    "import warnings\n",
    "warnings.filterwarnings('ignore')\n",
    "\n",
    "\n",
    "def objective(trial):\n",
    "    hyperparams = {\n",
    "        \"max_depth\" : trial.suggest_int(\"max_depth\", 2, 10),\n",
    "        \"min_samples_split\" : trial.suggest_int(\"min_samples_split\", 2, 20),\n",
    "        \"min_samples_leaf\" : trial.suggest_int(\"min_samples_leaf\", 1, 10),\n",
    "        \"criterion\" : trial.suggest_categorical(\"criterion\", [\"gini\", \"entropy\"]),\n",
    "        'random_state': trial.suggest_categorical('random_state', [42])\n",
    "    }\n",
    "\n",
    "    # Create KNN model with tuned hyperparameters\n",
    "    model = DecisionTreeClassifier(**hyperparams)\n",
    "    scores = cross_val_score(model, X_train_reduced,\n",
    "                             y_train, cv=kf, scoring='accuracy')\n",
    "    return np.mean(scores)"
   ]
  },
  {
   "cell_type": "code",
   "execution_count": 34,
   "id": "7f26c2d1",
   "metadata": {
    "execution": {
     "iopub.execute_input": "2024-02-22T18:30:43.723285Z",
     "iopub.status.busy": "2024-02-22T18:30:43.722884Z",
     "iopub.status.idle": "2024-02-22T18:31:04.228171Z",
     "shell.execute_reply": "2024-02-22T18:31:04.227050Z"
    },
    "papermill": {
     "duration": 20.600763,
     "end_time": "2024-02-22T18:31:04.230990",
     "exception": false,
     "start_time": "2024-02-22T18:30:43.630227",
     "status": "completed"
    },
    "tags": []
   },
   "outputs": [
    {
     "name": "stderr",
     "output_type": "stream",
     "text": [
      "[I 2024-02-22 18:30:43,729] A new study created in memory with name: no-name-f943cfaf-78b5-4ad3-8c35-54c94b16446f\n",
      "[I 2024-02-22 18:30:43,889] Trial 0 finished with value: 0.28125 and parameters: {'max_depth': 10, 'min_samples_split': 10, 'min_samples_leaf': 9, 'criterion': 'entropy', 'random_state': 42}. Best is trial 0 with value: 0.28125.\n",
      "[I 2024-02-22 18:30:44,079] Trial 1 finished with value: 0.328125 and parameters: {'max_depth': 6, 'min_samples_split': 16, 'min_samples_leaf': 1, 'criterion': 'entropy', 'random_state': 42}. Best is trial 1 with value: 0.328125.\n",
      "[I 2024-02-22 18:30:44,169] Trial 2 finished with value: 0.425 and parameters: {'max_depth': 10, 'min_samples_split': 3, 'min_samples_leaf': 1, 'criterion': 'gini', 'random_state': 42}. Best is trial 2 with value: 0.425.\n",
      "[I 2024-02-22 18:30:44,326] Trial 3 finished with value: 0.265625 and parameters: {'max_depth': 5, 'min_samples_split': 17, 'min_samples_leaf': 9, 'criterion': 'entropy', 'random_state': 42}. Best is trial 2 with value: 0.425.\n",
      "[I 2024-02-22 18:30:44,450] Trial 4 finished with value: 0.025 and parameters: {'max_depth': 2, 'min_samples_split': 8, 'min_samples_leaf': 1, 'criterion': 'entropy', 'random_state': 42}. Best is trial 2 with value: 0.425.\n",
      "[I 2024-02-22 18:30:44,603] Trial 5 finished with value: 0.25625 and parameters: {'max_depth': 6, 'min_samples_split': 17, 'min_samples_leaf': 10, 'criterion': 'entropy', 'random_state': 42}. Best is trial 2 with value: 0.425.\n",
      "[I 2024-02-22 18:30:44,775] Trial 6 finished with value: 0.41875 and parameters: {'max_depth': 8, 'min_samples_split': 11, 'min_samples_leaf': 6, 'criterion': 'entropy', 'random_state': 42}. Best is trial 2 with value: 0.425.\n",
      "[I 2024-02-22 18:30:44,823] Trial 7 finished with value: 0.078125 and parameters: {'max_depth': 3, 'min_samples_split': 5, 'min_samples_leaf': 6, 'criterion': 'gini', 'random_state': 42}. Best is trial 2 with value: 0.425.\n",
      "[I 2024-02-22 18:30:44,891] Trial 8 finished with value: 0.30625 and parameters: {'max_depth': 9, 'min_samples_split': 2, 'min_samples_leaf': 9, 'criterion': 'gini', 'random_state': 42}. Best is trial 2 with value: 0.425.\n",
      "[I 2024-02-22 18:30:44,972] Trial 9 finished with value: 0.365625 and parameters: {'max_depth': 8, 'min_samples_split': 7, 'min_samples_leaf': 3, 'criterion': 'gini', 'random_state': 42}. Best is trial 2 with value: 0.425.\n",
      "[I 2024-02-22 18:30:45,081] Trial 10 finished with value: 0.4 and parameters: {'max_depth': 10, 'min_samples_split': 2, 'min_samples_leaf': 4, 'criterion': 'gini', 'random_state': 42}. Best is trial 2 with value: 0.425.\n",
      "[I 2024-02-22 18:30:45,180] Trial 11 finished with value: 0.325 and parameters: {'max_depth': 8, 'min_samples_split': 13, 'min_samples_leaf': 6, 'criterion': 'gini', 'random_state': 42}. Best is trial 2 with value: 0.425.\n",
      "[I 2024-02-22 18:30:45,378] Trial 12 finished with value: 0.24375 and parameters: {'max_depth': 8, 'min_samples_split': 20, 'min_samples_leaf': 4, 'criterion': 'entropy', 'random_state': 42}. Best is trial 2 with value: 0.425.\n",
      "[I 2024-02-22 18:30:45,476] Trial 13 finished with value: 0.3375 and parameters: {'max_depth': 9, 'min_samples_split': 12, 'min_samples_leaf': 7, 'criterion': 'gini', 'random_state': 42}. Best is trial 2 with value: 0.425.\n",
      "[I 2024-02-22 18:30:45,693] Trial 14 finished with value: 0.503125 and parameters: {'max_depth': 7, 'min_samples_split': 6, 'min_samples_leaf': 3, 'criterion': 'entropy', 'random_state': 42}. Best is trial 14 with value: 0.503125.\n",
      "[I 2024-02-22 18:30:45,779] Trial 15 finished with value: 0.125 and parameters: {'max_depth': 4, 'min_samples_split': 5, 'min_samples_leaf': 2, 'criterion': 'gini', 'random_state': 42}. Best is trial 14 with value: 0.503125.\n",
      "[I 2024-02-22 18:30:45,882] Trial 16 finished with value: 0.3 and parameters: {'max_depth': 7, 'min_samples_split': 5, 'min_samples_leaf': 3, 'criterion': 'gini', 'random_state': 42}. Best is trial 14 with value: 0.503125.\n",
      "[I 2024-02-22 18:30:46,108] Trial 17 finished with value: 0.471875 and parameters: {'max_depth': 7, 'min_samples_split': 8, 'min_samples_leaf': 2, 'criterion': 'entropy', 'random_state': 42}. Best is trial 14 with value: 0.503125.\n",
      "[I 2024-02-22 18:30:46,314] Trial 18 finished with value: 0.375 and parameters: {'max_depth': 5, 'min_samples_split': 8, 'min_samples_leaf': 4, 'criterion': 'entropy', 'random_state': 42}. Best is trial 14 with value: 0.503125.\n",
      "[I 2024-02-22 18:30:46,531] Trial 19 finished with value: 0.48125 and parameters: {'max_depth': 7, 'min_samples_split': 9, 'min_samples_leaf': 3, 'criterion': 'entropy', 'random_state': 42}. Best is trial 14 with value: 0.503125.\n",
      "[I 2024-02-22 18:30:46,731] Trial 20 finished with value: 0.340625 and parameters: {'max_depth': 5, 'min_samples_split': 14, 'min_samples_leaf': 5, 'criterion': 'entropy', 'random_state': 42}. Best is trial 14 with value: 0.503125.\n",
      "[I 2024-02-22 18:30:46,954] Trial 21 finished with value: 0.478125 and parameters: {'max_depth': 7, 'min_samples_split': 9, 'min_samples_leaf': 2, 'criterion': 'entropy', 'random_state': 42}. Best is trial 14 with value: 0.503125.\n",
      "[I 2024-02-22 18:30:47,172] Trial 22 finished with value: 0.503125 and parameters: {'max_depth': 7, 'min_samples_split': 6, 'min_samples_leaf': 3, 'criterion': 'entropy', 'random_state': 42}. Best is trial 14 with value: 0.503125.\n",
      "[I 2024-02-22 18:30:47,393] Trial 23 finished with value: 0.503125 and parameters: {'max_depth': 7, 'min_samples_split': 5, 'min_samples_leaf': 3, 'criterion': 'entropy', 'random_state': 42}. Best is trial 14 with value: 0.503125.\n",
      "[I 2024-02-22 18:30:47,597] Trial 24 finished with value: 0.440625 and parameters: {'max_depth': 6, 'min_samples_split': 6, 'min_samples_leaf': 5, 'criterion': 'entropy', 'random_state': 42}. Best is trial 14 with value: 0.503125.\n",
      "[I 2024-02-22 18:30:47,817] Trial 25 finished with value: 0.496875 and parameters: {'max_depth': 9, 'min_samples_split': 4, 'min_samples_leaf': 3, 'criterion': 'entropy', 'random_state': 42}. Best is trial 14 with value: 0.503125.\n",
      "[I 2024-02-22 18:30:48,033] Trial 26 finished with value: 0.45625 and parameters: {'max_depth': 7, 'min_samples_split': 6, 'min_samples_leaf': 4, 'criterion': 'entropy', 'random_state': 42}. Best is trial 14 with value: 0.503125.\n",
      "[I 2024-02-22 18:30:48,235] Trial 27 finished with value: 0.20625 and parameters: {'max_depth': 4, 'min_samples_split': 4, 'min_samples_leaf': 2, 'criterion': 'entropy', 'random_state': 42}. Best is trial 14 with value: 0.503125.\n",
      "[I 2024-02-22 18:30:48,440] Trial 28 finished with value: 0.440625 and parameters: {'max_depth': 6, 'min_samples_split': 7, 'min_samples_leaf': 5, 'criterion': 'entropy', 'random_state': 42}. Best is trial 14 with value: 0.503125.\n",
      "[I 2024-02-22 18:30:48,634] Trial 29 finished with value: 0.375 and parameters: {'max_depth': 8, 'min_samples_split': 10, 'min_samples_leaf': 7, 'criterion': 'entropy', 'random_state': 42}. Best is trial 14 with value: 0.503125.\n",
      "[I 2024-02-22 18:30:48,848] Trial 30 finished with value: 0.359375 and parameters: {'max_depth': 5, 'min_samples_split': 4, 'min_samples_leaf': 3, 'criterion': 'entropy', 'random_state': 42}. Best is trial 14 with value: 0.503125.\n",
      "[I 2024-02-22 18:30:49,071] Trial 31 finished with value: 0.496875 and parameters: {'max_depth': 9, 'min_samples_split': 3, 'min_samples_leaf': 3, 'criterion': 'entropy', 'random_state': 42}. Best is trial 14 with value: 0.503125.\n",
      "[I 2024-02-22 18:30:49,323] Trial 32 finished with value: 0.4875 and parameters: {'max_depth': 9, 'min_samples_split': 6, 'min_samples_leaf': 2, 'criterion': 'entropy', 'random_state': 42}. Best is trial 14 with value: 0.503125.\n",
      "[I 2024-02-22 18:30:49,556] Trial 33 finished with value: 0.509375 and parameters: {'max_depth': 6, 'min_samples_split': 4, 'min_samples_leaf': 1, 'criterion': 'entropy', 'random_state': 42}. Best is trial 33 with value: 0.509375.\n",
      "[I 2024-02-22 18:30:49,789] Trial 34 finished with value: 0.521875 and parameters: {'max_depth': 6, 'min_samples_split': 3, 'min_samples_leaf': 1, 'criterion': 'entropy', 'random_state': 42}. Best is trial 34 with value: 0.521875.\n",
      "[I 2024-02-22 18:30:50,022] Trial 35 finished with value: 0.521875 and parameters: {'max_depth': 6, 'min_samples_split': 3, 'min_samples_leaf': 1, 'criterion': 'entropy', 'random_state': 42}. Best is trial 34 with value: 0.521875.\n",
      "[I 2024-02-22 18:30:50,256] Trial 36 finished with value: 0.521875 and parameters: {'max_depth': 6, 'min_samples_split': 3, 'min_samples_leaf': 1, 'criterion': 'entropy', 'random_state': 42}. Best is trial 34 with value: 0.521875.\n",
      "[I 2024-02-22 18:30:50,486] Trial 37 finished with value: 0.521875 and parameters: {'max_depth': 6, 'min_samples_split': 3, 'min_samples_leaf': 1, 'criterion': 'entropy', 'random_state': 42}. Best is trial 34 with value: 0.521875.\n",
      "[I 2024-02-22 18:30:50,689] Trial 38 finished with value: 0.20625 and parameters: {'max_depth': 4, 'min_samples_split': 2, 'min_samples_leaf': 1, 'criterion': 'entropy', 'random_state': 42}. Best is trial 34 with value: 0.521875.\n",
      "[I 2024-02-22 18:30:50,909] Trial 39 finished with value: 0.359375 and parameters: {'max_depth': 5, 'min_samples_split': 3, 'min_samples_leaf': 1, 'criterion': 'entropy', 'random_state': 42}. Best is trial 34 with value: 0.521875.\n",
      "[I 2024-02-22 18:30:51,144] Trial 40 finished with value: 0.521875 and parameters: {'max_depth': 6, 'min_samples_split': 3, 'min_samples_leaf': 1, 'criterion': 'entropy', 'random_state': 42}. Best is trial 34 with value: 0.521875.\n",
      "[I 2024-02-22 18:30:51,379] Trial 41 finished with value: 0.521875 and parameters: {'max_depth': 6, 'min_samples_split': 3, 'min_samples_leaf': 1, 'criterion': 'entropy', 'random_state': 42}. Best is trial 34 with value: 0.521875.\n",
      "[I 2024-02-22 18:30:51,613] Trial 42 finished with value: 0.521875 and parameters: {'max_depth': 6, 'min_samples_split': 2, 'min_samples_leaf': 1, 'criterion': 'entropy', 'random_state': 42}. Best is trial 34 with value: 0.521875.\n",
      "[I 2024-02-22 18:30:51,839] Trial 43 finished with value: 0.359375 and parameters: {'max_depth': 5, 'min_samples_split': 3, 'min_samples_leaf': 1, 'criterion': 'entropy', 'random_state': 42}. Best is trial 34 with value: 0.521875.\n",
      "[I 2024-02-22 18:30:52,067] Trial 44 finished with value: 0.475 and parameters: {'max_depth': 6, 'min_samples_split': 2, 'min_samples_leaf': 2, 'criterion': 'entropy', 'random_state': 42}. Best is trial 34 with value: 0.521875.\n",
      "[I 2024-02-22 18:30:52,289] Trial 45 finished with value: 0.359375 and parameters: {'max_depth': 5, 'min_samples_split': 3, 'min_samples_leaf': 1, 'criterion': 'entropy', 'random_state': 42}. Best is trial 34 with value: 0.521875.\n",
      "[I 2024-02-22 18:30:52,514] Trial 46 finished with value: 0.475 and parameters: {'max_depth': 6, 'min_samples_split': 4, 'min_samples_leaf': 2, 'criterion': 'entropy', 'random_state': 42}. Best is trial 34 with value: 0.521875.\n",
      "[I 2024-02-22 18:30:52,668] Trial 47 finished with value: 0.025 and parameters: {'max_depth': 2, 'min_samples_split': 15, 'min_samples_leaf': 1, 'criterion': 'entropy', 'random_state': 42}. Best is trial 34 with value: 0.521875.\n",
      "[I 2024-02-22 18:30:52,756] Trial 48 finished with value: 0.121875 and parameters: {'max_depth': 4, 'min_samples_split': 18, 'min_samples_leaf': 2, 'criterion': 'gini', 'random_state': 42}. Best is trial 34 with value: 0.521875.\n",
      "[I 2024-02-22 18:30:52,942] Trial 49 finished with value: 0.075 and parameters: {'max_depth': 3, 'min_samples_split': 2, 'min_samples_leaf': 1, 'criterion': 'entropy', 'random_state': 42}. Best is trial 34 with value: 0.521875.\n",
      "[I 2024-02-22 18:30:53,137] Trial 50 finished with value: 0.34375 and parameters: {'max_depth': 6, 'min_samples_split': 5, 'min_samples_leaf': 8, 'criterion': 'entropy', 'random_state': 42}. Best is trial 34 with value: 0.521875.\n",
      "[I 2024-02-22 18:30:53,371] Trial 51 finished with value: 0.521875 and parameters: {'max_depth': 6, 'min_samples_split': 3, 'min_samples_leaf': 1, 'criterion': 'entropy', 'random_state': 42}. Best is trial 34 with value: 0.521875.\n",
      "[I 2024-02-22 18:30:53,553] Trial 52 finished with value: 0.25625 and parameters: {'max_depth': 6, 'min_samples_split': 3, 'min_samples_leaf': 10, 'criterion': 'entropy', 'random_state': 42}. Best is trial 34 with value: 0.521875.\n",
      "[I 2024-02-22 18:30:53,779] Trial 53 finished with value: 0.359375 and parameters: {'max_depth': 5, 'min_samples_split': 4, 'min_samples_leaf': 1, 'criterion': 'entropy', 'random_state': 42}. Best is trial 34 with value: 0.521875.\n",
      "[I 2024-02-22 18:30:53,877] Trial 54 finished with value: 0.18125 and parameters: {'max_depth': 5, 'min_samples_split': 2, 'min_samples_leaf': 2, 'criterion': 'gini', 'random_state': 42}. Best is trial 34 with value: 0.521875.\n",
      "[I 2024-02-22 18:30:54,116] Trial 55 finished with value: 0.553125 and parameters: {'max_depth': 7, 'min_samples_split': 4, 'min_samples_leaf': 1, 'criterion': 'entropy', 'random_state': 42}. Best is trial 55 with value: 0.553125.\n",
      "[I 2024-02-22 18:30:54,346] Trial 56 finished with value: 0.490625 and parameters: {'max_depth': 7, 'min_samples_split': 7, 'min_samples_leaf': 2, 'criterion': 'entropy', 'random_state': 42}. Best is trial 55 with value: 0.553125.\n",
      "[I 2024-02-22 18:30:54,582] Trial 57 finished with value: 0.53125 and parameters: {'max_depth': 8, 'min_samples_split': 5, 'min_samples_leaf': 1, 'criterion': 'entropy', 'random_state': 42}. Best is trial 55 with value: 0.553125.\n",
      "[I 2024-02-22 18:30:54,696] Trial 58 finished with value: 0.3625 and parameters: {'max_depth': 8, 'min_samples_split': 5, 'min_samples_leaf': 2, 'criterion': 'gini', 'random_state': 42}. Best is trial 55 with value: 0.553125.\n",
      "[I 2024-02-22 18:30:54,938] Trial 59 finished with value: 0.53125 and parameters: {'max_depth': 8, 'min_samples_split': 5, 'min_samples_leaf': 1, 'criterion': 'entropy', 'random_state': 42}. Best is trial 55 with value: 0.553125.\n",
      "[I 2024-02-22 18:30:55,167] Trial 60 finished with value: 0.49375 and parameters: {'max_depth': 10, 'min_samples_split': 7, 'min_samples_leaf': 2, 'criterion': 'entropy', 'random_state': 42}. Best is trial 55 with value: 0.553125.\n",
      "[I 2024-02-22 18:30:55,403] Trial 61 finished with value: 0.53125 and parameters: {'max_depth': 8, 'min_samples_split': 5, 'min_samples_leaf': 1, 'criterion': 'entropy', 'random_state': 42}. Best is trial 55 with value: 0.553125.\n",
      "[I 2024-02-22 18:30:55,664] Trial 62 finished with value: 0.53125 and parameters: {'max_depth': 8, 'min_samples_split': 5, 'min_samples_leaf': 1, 'criterion': 'entropy', 'random_state': 42}. Best is trial 55 with value: 0.553125.\n",
      "[I 2024-02-22 18:30:55,920] Trial 63 finished with value: 0.53125 and parameters: {'max_depth': 8, 'min_samples_split': 5, 'min_samples_leaf': 1, 'criterion': 'entropy', 'random_state': 42}. Best is trial 55 with value: 0.553125.\n",
      "[I 2024-02-22 18:30:56,165] Trial 64 finished with value: 0.4875 and parameters: {'max_depth': 8, 'min_samples_split': 6, 'min_samples_leaf': 2, 'criterion': 'entropy', 'random_state': 42}. Best is trial 55 with value: 0.553125.\n",
      "[I 2024-02-22 18:30:56,406] Trial 65 finished with value: 0.53125 and parameters: {'max_depth': 8, 'min_samples_split': 5, 'min_samples_leaf': 1, 'criterion': 'entropy', 'random_state': 42}. Best is trial 55 with value: 0.553125.\n",
      "[I 2024-02-22 18:30:56,637] Trial 66 finished with value: 0.471875 and parameters: {'max_depth': 8, 'min_samples_split': 8, 'min_samples_leaf': 2, 'criterion': 'entropy', 'random_state': 42}. Best is trial 55 with value: 0.553125.\n",
      "[I 2024-02-22 18:30:56,880] Trial 67 finished with value: 0.53125 and parameters: {'max_depth': 9, 'min_samples_split': 5, 'min_samples_leaf': 1, 'criterion': 'entropy', 'random_state': 42}. Best is trial 55 with value: 0.553125.\n",
      "[I 2024-02-22 18:30:57,113] Trial 68 finished with value: 0.5125 and parameters: {'max_depth': 8, 'min_samples_split': 5, 'min_samples_leaf': 2, 'criterion': 'entropy', 'random_state': 42}. Best is trial 55 with value: 0.553125.\n",
      "[I 2024-02-22 18:30:57,229] Trial 69 finished with value: 0.378125 and parameters: {'max_depth': 8, 'min_samples_split': 7, 'min_samples_leaf': 1, 'criterion': 'gini', 'random_state': 42}. Best is trial 55 with value: 0.553125.\n",
      "[I 2024-02-22 18:30:57,451] Trial 70 finished with value: 0.48125 and parameters: {'max_depth': 9, 'min_samples_split': 9, 'min_samples_leaf': 3, 'criterion': 'entropy', 'random_state': 42}. Best is trial 55 with value: 0.553125.\n",
      "[I 2024-02-22 18:30:57,689] Trial 71 finished with value: 0.53125 and parameters: {'max_depth': 9, 'min_samples_split': 5, 'min_samples_leaf': 1, 'criterion': 'entropy', 'random_state': 42}. Best is trial 55 with value: 0.553125.\n",
      "[I 2024-02-22 18:30:57,926] Trial 72 finished with value: 0.515625 and parameters: {'max_depth': 9, 'min_samples_split': 6, 'min_samples_leaf': 1, 'criterion': 'entropy', 'random_state': 42}. Best is trial 55 with value: 0.553125.\n",
      "[I 2024-02-22 18:30:58,167] Trial 73 finished with value: 0.53125 and parameters: {'max_depth': 8, 'min_samples_split': 5, 'min_samples_leaf': 1, 'criterion': 'entropy', 'random_state': 42}. Best is trial 55 with value: 0.553125.\n",
      "[I 2024-02-22 18:30:58,398] Trial 74 finished with value: 0.4875 and parameters: {'max_depth': 9, 'min_samples_split': 6, 'min_samples_leaf': 2, 'criterion': 'entropy', 'random_state': 42}. Best is trial 55 with value: 0.553125.\n",
      "[I 2024-02-22 18:30:58,636] Trial 75 finished with value: 0.54375 and parameters: {'max_depth': 8, 'min_samples_split': 4, 'min_samples_leaf': 1, 'criterion': 'entropy', 'random_state': 42}. Best is trial 55 with value: 0.553125.\n",
      "[I 2024-02-22 18:30:58,827] Trial 76 finished with value: 0.28125 and parameters: {'max_depth': 8, 'min_samples_split': 4, 'min_samples_leaf': 9, 'criterion': 'entropy', 'random_state': 42}. Best is trial 55 with value: 0.553125.\n",
      "[I 2024-02-22 18:30:59,065] Trial 77 finished with value: 0.509375 and parameters: {'max_depth': 7, 'min_samples_split': 4, 'min_samples_leaf': 2, 'criterion': 'entropy', 'random_state': 42}. Best is trial 55 with value: 0.553125.\n",
      "[I 2024-02-22 18:30:59,316] Trial 78 finished with value: 0.44375 and parameters: {'max_depth': 7, 'min_samples_split': 11, 'min_samples_leaf': 1, 'criterion': 'entropy', 'random_state': 42}. Best is trial 55 with value: 0.553125.\n",
      "[I 2024-02-22 18:30:59,554] Trial 79 finished with value: 0.49375 and parameters: {'max_depth': 8, 'min_samples_split': 7, 'min_samples_leaf': 1, 'criterion': 'entropy', 'random_state': 42}. Best is trial 55 with value: 0.553125.\n",
      "[I 2024-02-22 18:30:59,753] Trial 80 finished with value: 0.375 and parameters: {'max_depth': 7, 'min_samples_split': 6, 'min_samples_leaf': 7, 'criterion': 'entropy', 'random_state': 42}. Best is trial 55 with value: 0.553125.\n",
      "[I 2024-02-22 18:30:59,992] Trial 81 finished with value: 0.53125 and parameters: {'max_depth': 8, 'min_samples_split': 5, 'min_samples_leaf': 1, 'criterion': 'entropy', 'random_state': 42}. Best is trial 55 with value: 0.553125.\n",
      "[I 2024-02-22 18:31:00,233] Trial 82 finished with value: 0.54375 and parameters: {'max_depth': 10, 'min_samples_split': 4, 'min_samples_leaf': 1, 'criterion': 'entropy', 'random_state': 42}. Best is trial 55 with value: 0.553125.\n",
      "[I 2024-02-22 18:31:00,471] Trial 83 finished with value: 0.54375 and parameters: {'max_depth': 10, 'min_samples_split': 4, 'min_samples_leaf': 1, 'criterion': 'entropy', 'random_state': 42}. Best is trial 55 with value: 0.553125.\n",
      "[I 2024-02-22 18:31:00,698] Trial 84 finished with value: 0.428125 and parameters: {'max_depth': 10, 'min_samples_split': 12, 'min_samples_leaf': 1, 'criterion': 'entropy', 'random_state': 42}. Best is trial 55 with value: 0.553125.\n",
      "[I 2024-02-22 18:31:00,933] Trial 85 finished with value: 0.5125 and parameters: {'max_depth': 10, 'min_samples_split': 4, 'min_samples_leaf': 2, 'criterion': 'entropy', 'random_state': 42}. Best is trial 55 with value: 0.553125.\n",
      "[I 2024-02-22 18:31:01,175] Trial 86 finished with value: 0.54375 and parameters: {'max_depth': 10, 'min_samples_split': 4, 'min_samples_leaf': 1, 'criterion': 'entropy', 'random_state': 42}. Best is trial 55 with value: 0.553125.\n",
      "[I 2024-02-22 18:31:01,414] Trial 87 finished with value: 0.54375 and parameters: {'max_depth': 10, 'min_samples_split': 4, 'min_samples_leaf': 1, 'criterion': 'entropy', 'random_state': 42}. Best is trial 55 with value: 0.553125.\n",
      "[I 2024-02-22 18:31:01,646] Trial 88 finished with value: 0.5125 and parameters: {'max_depth': 10, 'min_samples_split': 4, 'min_samples_leaf': 2, 'criterion': 'entropy', 'random_state': 42}. Best is trial 55 with value: 0.553125.\n",
      "[I 2024-02-22 18:31:01,768] Trial 89 finished with value: 0.428125 and parameters: {'max_depth': 10, 'min_samples_split': 4, 'min_samples_leaf': 2, 'criterion': 'gini', 'random_state': 42}. Best is trial 55 with value: 0.553125.\n",
      "[I 2024-02-22 18:31:02,009] Trial 90 finished with value: 0.515625 and parameters: {'max_depth': 10, 'min_samples_split': 6, 'min_samples_leaf': 1, 'criterion': 'entropy', 'random_state': 42}. Best is trial 55 with value: 0.553125.\n",
      "[I 2024-02-22 18:31:02,252] Trial 91 finished with value: 0.54375 and parameters: {'max_depth': 10, 'min_samples_split': 4, 'min_samples_leaf': 1, 'criterion': 'entropy', 'random_state': 42}. Best is trial 55 with value: 0.553125.\n",
      "[I 2024-02-22 18:31:02,492] Trial 92 finished with value: 0.54375 and parameters: {'max_depth': 10, 'min_samples_split': 4, 'min_samples_leaf': 1, 'criterion': 'entropy', 'random_state': 42}. Best is trial 55 with value: 0.553125.\n",
      "[I 2024-02-22 18:31:02,733] Trial 93 finished with value: 0.54375 and parameters: {'max_depth': 10, 'min_samples_split': 4, 'min_samples_leaf': 1, 'criterion': 'entropy', 'random_state': 42}. Best is trial 55 with value: 0.553125.\n",
      "[I 2024-02-22 18:31:02,977] Trial 94 finished with value: 0.54375 and parameters: {'max_depth': 10, 'min_samples_split': 4, 'min_samples_leaf': 1, 'criterion': 'entropy', 'random_state': 42}. Best is trial 55 with value: 0.553125.\n",
      "[I 2024-02-22 18:31:03,221] Trial 95 finished with value: 0.54375 and parameters: {'max_depth': 10, 'min_samples_split': 4, 'min_samples_leaf': 1, 'criterion': 'entropy', 'random_state': 42}. Best is trial 55 with value: 0.553125.\n",
      "[I 2024-02-22 18:31:03,463] Trial 96 finished with value: 0.5125 and parameters: {'max_depth': 10, 'min_samples_split': 2, 'min_samples_leaf': 1, 'criterion': 'entropy', 'random_state': 42}. Best is trial 55 with value: 0.553125.\n",
      "[I 2024-02-22 18:31:03,659] Trial 97 finished with value: 0.34375 and parameters: {'max_depth': 10, 'min_samples_split': 4, 'min_samples_leaf': 8, 'criterion': 'entropy', 'random_state': 42}. Best is trial 55 with value: 0.553125.\n",
      "[I 2024-02-22 18:31:03,894] Trial 98 finished with value: 0.5125 and parameters: {'max_depth': 10, 'min_samples_split': 3, 'min_samples_leaf': 2, 'criterion': 'entropy', 'random_state': 42}. Best is trial 55 with value: 0.553125.\n",
      "[I 2024-02-22 18:31:04,140] Trial 99 finished with value: 0.5125 and parameters: {'max_depth': 10, 'min_samples_split': 2, 'min_samples_leaf': 1, 'criterion': 'entropy', 'random_state': 42}. Best is trial 55 with value: 0.553125.\n"
     ]
    },
    {
     "name": "stdout",
     "output_type": "stream",
     "text": [
      "Best params found : {'max_depth': 7, 'min_samples_split': 4, 'min_samples_leaf': 1, 'criterion': 'entropy', 'random_state': 42}\n",
      "accuracy: 0.6875\n",
      "recall: 0.7361111111111112\n",
      "precision: 0.7138888888888889\n",
      "f1-score: 0.6833633958633959\n",
      "roc_auc:  0.5365064934594339\n"
     ]
    }
   ],
   "source": [
    "study = optuna.create_study(direction='maximize')\n",
    "study.optimize(objective, n_trials=100)\n",
    "best_params = study.best_params\n",
    "print(\"Best params found :\", best_params)\n",
    "\n",
    "final_model = DecisionTreeClassifier(**best_params)\n",
    "final_model.fit(X_train_reduced, y_train)\n",
    "y_pred = final_model.predict(X_test_reduced)\n",
    "prediction_results['decison tree'] = list(y_pred)\n",
    "\n",
    "accuracy = accuracy_score(y_test, y_pred)\n",
    "precision = precision_score(y_test, y_pred, average='macro')\n",
    "recall = recall_score(y_test, y_pred, average='macro')\n",
    "f1 = f1_score(y_test, y_pred, average='macro')\n",
    "\n",
    "# One-hot encoding for probability calculation (adapt if necessary)\n",
    "# Assuming 'label_' prefix for clarity\n",
    "y_test_onehot = pd.get_dummies(y_test, prefix='label_')\n",
    "y_pred_onehot = pd.get_dummies(y_pred, prefix='label_')\n",
    "\n",
    "# ROC AUC score with multiclass handling\n",
    "roc_auc_macro = roc_auc_score(y_test_onehot, y_pred_onehot,\n",
    "                              average='macro', multi_class='ovo')  # Specify 'ovo' or 'ovr'\n",
    "\n",
    "print(\"accuracy:\", accuracy)\n",
    "print(\"recall:\", recall)\n",
    "print(\"precision:\", precision)\n",
    "print(\"f1-score:\", f1)\n",
    "print('roc_auc: ', roc_auc_macro)"
   ]
  },
  {
   "cell_type": "markdown",
   "id": "6ffbca68",
   "metadata": {
    "id": "jTVxUybVZocU",
    "papermill": {
     "duration": 0.09993,
     "end_time": "2024-02-22T18:31:04.430028",
     "exception": false,
     "start_time": "2024-02-22T18:31:04.330098",
     "status": "completed"
    },
    "tags": []
   },
   "source": [
    "Tuning rồi lưu kết quả tuning vào bên dưới"
   ]
  },
  {
   "cell_type": "markdown",
   "id": "58e35f7b",
   "metadata": {
    "id": "_mhZ25idZocV",
    "papermill": {
     "duration": 0.099989,
     "end_time": "2024-02-22T18:31:04.629233",
     "exception": false,
     "start_time": "2024-02-22T18:31:04.529244",
     "status": "completed"
    },
    "tags": []
   },
   "source": [
    "# num_image = 9"
   ]
  },
  {
   "cell_type": "code",
   "execution_count": 35,
   "id": "b94be4cf",
   "metadata": {
    "execution": {
     "iopub.execute_input": "2024-02-22T18:31:04.830841Z",
     "iopub.status.busy": "2024-02-22T18:31:04.830100Z",
     "iopub.status.idle": "2024-02-22T18:31:06.174385Z",
     "shell.execute_reply": "2024-02-22T18:31:06.172629Z"
    },
    "id": "NNKwYwD9ZocV",
    "papermill": {
     "duration": 1.449567,
     "end_time": "2024-02-22T18:31:06.178961",
     "exception": false,
     "start_time": "2024-02-22T18:31:04.729394",
     "status": "completed"
    },
    "tags": []
   },
   "outputs": [],
   "source": [
    "n_components_pca = 50\n",
    "pca = ModularPCA(n_components=n_components_pca, num_image=9)\n",
    "X_train_reduced = pca.fit_transform(X_train)\n",
    "X_test_reduced = pca.transform(X_test)"
   ]
  },
  {
   "cell_type": "code",
   "execution_count": 36,
   "id": "274d5e6f",
   "metadata": {
    "execution": {
     "iopub.execute_input": "2024-02-22T18:31:06.442527Z",
     "iopub.status.busy": "2024-02-22T18:31:06.442149Z",
     "iopub.status.idle": "2024-02-22T18:31:06.447249Z",
     "shell.execute_reply": "2024-02-22T18:31:06.446123Z"
    },
    "id": "QTuyHjM9ZocV",
    "papermill": {
     "duration": 0.107638,
     "end_time": "2024-02-22T18:31:06.449496",
     "exception": false,
     "start_time": "2024-02-22T18:31:06.341858",
     "status": "completed"
    },
    "tags": []
   },
   "outputs": [],
   "source": [
    "# for train_index, test_index in skf.split(X, y):\n",
    "#     X_train, X_test = X[train_index], X[test_index]\n",
    "#     y_train, y_test = y[train_index], y[test_index]\n",
    "\n",
    "#     pca = PCA(n_components=n_components_pca)\n",
    "#     X_train_reduced = pca.fit_transform(X_train)\n",
    "#     X_test_reduced = pca.transform(X_test)\n",
    "\n",
    "#     # Euclidean\n",
    "#     y_pred = []\n",
    "#     for i in range(320):\n",
    "#         min_ = np.argmin(np.sqrt(np.sum((X_train_reduced - X_test_reduced[i])**2,axis=1)))\n",
    "#         y_pred.append(y_train[min_])\n",
    "\n",
    "#     # Evaluate the model\n",
    "#     accuracy = accuracy_score(y_test, y_pred)\n",
    "#     accuracy_scores.append(accuracy)\n",
    "\n",
    "# print(np.mean(accuracy_scores))"
   ]
  },
  {
   "cell_type": "markdown",
   "id": "96b75e0d",
   "metadata": {
    "id": "UvRazco9ZocV",
    "papermill": {
     "duration": 0.099211,
     "end_time": "2024-02-22T18:31:06.647903",
     "exception": false,
     "start_time": "2024-02-22T18:31:06.548692",
     "status": "completed"
    },
    "tags": []
   },
   "source": [
    "## Modeling"
   ]
  },
  {
   "cell_type": "code",
   "execution_count": 37,
   "id": "41c19964",
   "metadata": {
    "execution": {
     "iopub.execute_input": "2024-02-22T18:31:06.853795Z",
     "iopub.status.busy": "2024-02-22T18:31:06.852657Z",
     "iopub.status.idle": "2024-02-22T18:31:06.857798Z",
     "shell.execute_reply": "2024-02-22T18:31:06.856979Z"
    },
    "id": "zdQybjPpZocW",
    "papermill": {
     "duration": 0.11027,
     "end_time": "2024-02-22T18:31:06.860200",
     "exception": false,
     "start_time": "2024-02-22T18:31:06.749930",
     "status": "completed"
    },
    "tags": []
   },
   "outputs": [],
   "source": [
    "from sklearn.model_selection import KFold\n",
    "n_splits = 5\n",
    "kf = KFold(n_splits=n_splits, shuffle=True, random_state=42)"
   ]
  },
  {
   "cell_type": "markdown",
   "id": "5ab691af",
   "metadata": {
    "id": "eUTPNxKsZocW",
    "papermill": {
     "duration": 0.101405,
     "end_time": "2024-02-22T18:31:07.064368",
     "exception": false,
     "start_time": "2024-02-22T18:31:06.962963",
     "status": "completed"
    },
    "tags": []
   },
   "source": [
    "## Random Forest"
   ]
  },
  {
   "cell_type": "code",
   "execution_count": 38,
   "id": "44d51d90",
   "metadata": {
    "execution": {
     "iopub.execute_input": "2024-02-22T18:31:07.267375Z",
     "iopub.status.busy": "2024-02-22T18:31:07.266248Z",
     "iopub.status.idle": "2024-02-22T18:31:07.271516Z",
     "shell.execute_reply": "2024-02-22T18:31:07.270439Z"
    },
    "id": "nSKXniZNZocW",
    "papermill": {
     "duration": 0.108415,
     "end_time": "2024-02-22T18:31:07.274103",
     "exception": false,
     "start_time": "2024-02-22T18:31:07.165688",
     "status": "completed"
    },
    "tags": []
   },
   "outputs": [],
   "source": [
    "prediction_results = {}"
   ]
  },
  {
   "cell_type": "code",
   "execution_count": 39,
   "id": "343b2c71",
   "metadata": {
    "execution": {
     "iopub.execute_input": "2024-02-22T18:31:07.474493Z",
     "iopub.status.busy": "2024-02-22T18:31:07.474111Z",
     "iopub.status.idle": "2024-02-22T18:31:07.478834Z",
     "shell.execute_reply": "2024-02-22T18:31:07.477724Z"
    },
    "id": "dfSGIzMCZocW",
    "papermill": {
     "duration": 0.108196,
     "end_time": "2024-02-22T18:31:07.481225",
     "exception": false,
     "start_time": "2024-02-22T18:31:07.373029",
     "status": "completed"
    },
    "tags": []
   },
   "outputs": [],
   "source": [
    "from sklearn.ensemble import RandomForestClassifier\n",
    "from sklearn.metrics import accuracy_score"
   ]
  },
  {
   "cell_type": "markdown",
   "id": "3a65ccad",
   "metadata": {
    "id": "aB6N0pajZocX",
    "papermill": {
     "duration": 0.099402,
     "end_time": "2024-02-22T18:31:07.680044",
     "exception": false,
     "start_time": "2024-02-22T18:31:07.580642",
     "status": "completed"
    },
    "tags": []
   },
   "source": [
    "**Normal**"
   ]
  },
  {
   "cell_type": "code",
   "execution_count": 40,
   "id": "4ab00e0f",
   "metadata": {
    "execution": {
     "iopub.execute_input": "2024-02-22T18:31:07.885505Z",
     "iopub.status.busy": "2024-02-22T18:31:07.884437Z",
     "iopub.status.idle": "2024-02-22T18:31:08.415976Z",
     "shell.execute_reply": "2024-02-22T18:31:08.414812Z"
    },
    "id": "46cSgHdSZocX",
    "outputId": "7f345b74-25a8-4617-a993-f758c9a642ee",
    "papermill": {
     "duration": 0.636253,
     "end_time": "2024-02-22T18:31:08.418375",
     "exception": false,
     "start_time": "2024-02-22T18:31:07.782122",
     "status": "completed"
    },
    "tags": []
   },
   "outputs": [
    {
     "name": "stdout",
     "output_type": "stream",
     "text": [
      "accuracy: 0.9875\n",
      "recall: 0.9722222222222222\n",
      "precision: 0.9652777777777778\n",
      "f1-score: 0.9682539682539684\n",
      "roc_auc:  0.7339828150168876\n"
     ]
    }
   ],
   "source": [
    "rfr = RandomForestClassifier(random_state=42)\n",
    "rfr.fit(X_train_reduced,y_train)\n",
    "y_pred = rfr.predict(X_test_reduced)\n",
    "\n",
    "accuracy = accuracy_score(y_test, y_pred)\n",
    "precision = precision_score(y_test, y_pred, average='macro')\n",
    "recall = recall_score(y_test, y_pred, average='macro')\n",
    "f1 = f1_score(y_test, y_pred, average='macro')\n",
    "\n",
    "# One-hot encoding for probability calculation (adapt if necessary)\n",
    "y_test_onehot = pd.get_dummies(y_test, prefix='label_')  # Assuming 'label_' prefix for clarity\n",
    "y_pred_onehot = pd.get_dummies(y_pred, prefix='label_')\n",
    "\n",
    "# ROC AUC score with multiclass handling\n",
    "roc_auc_macro = roc_auc_score(y_test_onehot, y_pred_onehot, average='macro', multi_class='ovo')  # Specify 'ovo' or 'ovr'\n",
    "\n",
    "print(\"accuracy:\", accuracy)\n",
    "print(\"recall:\", recall)\n",
    "print(\"precision:\", precision)\n",
    "print(\"f1-score:\", f1)\n",
    "print('roc_auc: ', roc_auc_macro)"
   ]
  },
  {
   "cell_type": "markdown",
   "id": "e69498dc",
   "metadata": {
    "id": "NPy37T_fZocX",
    "papermill": {
     "duration": 0.097741,
     "end_time": "2024-02-22T18:31:08.614603",
     "exception": false,
     "start_time": "2024-02-22T18:31:08.516862",
     "status": "completed"
    },
    "tags": []
   },
   "source": [
    "**Tunning**"
   ]
  },
  {
   "cell_type": "code",
   "execution_count": 41,
   "id": "459be390",
   "metadata": {
    "execution": {
     "iopub.execute_input": "2024-02-22T18:31:08.816615Z",
     "iopub.status.busy": "2024-02-22T18:31:08.815982Z",
     "iopub.status.idle": "2024-02-22T18:31:08.823571Z",
     "shell.execute_reply": "2024-02-22T18:31:08.822728Z"
    },
    "id": "q6Tu4LcdZocY",
    "papermill": {
     "duration": 0.112754,
     "end_time": "2024-02-22T18:31:08.825992",
     "exception": false,
     "start_time": "2024-02-22T18:31:08.713238",
     "status": "completed"
    },
    "tags": []
   },
   "outputs": [],
   "source": [
    "import optuna\n",
    "\n",
    "\n",
    "def objective(trial):\n",
    "    hyperparams = {\n",
    "        'n_estimators': trial.suggest_int('n_estimators', 100, 1000),\n",
    "        'max_depth': trial.suggest_int('max_depth', 10, 50),\n",
    "        'min_samples_split': trial.suggest_int('min_samples_split', 2, 32),\n",
    "        'random_state': trial.suggest_categorical('random_state', [42]),\n",
    "        'min_samples_leaf': trial.suggest_int('min_samples_leaf', 1, 32),\n",
    "        'n_jobs': -1\n",
    "    }\n",
    "\n",
    "    model = RandomForestClassifier(**hyperparams)\n",
    "    scores = cross_val_score(model, X_train_reduced,\n",
    "                             y_train, cv=kf, scoring='accuracy')\n",
    "    return np.mean(scores)"
   ]
  },
  {
   "cell_type": "code",
   "execution_count": 42,
   "id": "6bd1de61",
   "metadata": {
    "execution": {
     "iopub.execute_input": "2024-02-22T18:31:09.028755Z",
     "iopub.status.busy": "2024-02-22T18:31:09.028152Z",
     "iopub.status.idle": "2024-02-22T18:56:20.971934Z",
     "shell.execute_reply": "2024-02-22T18:56:20.970720Z"
    },
    "id": "alZqG-QXZocY",
    "outputId": "c205ee7d-cf50-4899-b182-ba2ad815a261",
    "papermill": {
     "duration": 1512.048196,
     "end_time": "2024-02-22T18:56:20.974498",
     "exception": false,
     "start_time": "2024-02-22T18:31:08.926302",
     "status": "completed"
    },
    "tags": []
   },
   "outputs": [
    {
     "name": "stderr",
     "output_type": "stream",
     "text": [
      "[I 2024-02-22 18:31:09,031] A new study created in memory with name: no-name-b959e357-42f3-4115-9ed9-8110f2ccdda1\n",
      "[I 2024-02-22 18:31:14,277] Trial 0 finished with value: 0.715625 and parameters: {'n_estimators': 281, 'max_depth': 36, 'min_samples_split': 19, 'random_state': 42, 'min_samples_leaf': 8}. Best is trial 0 with value: 0.715625.\n",
      "[I 2024-02-22 18:31:20,203] Trial 1 finished with value: 0.65 and parameters: {'n_estimators': 326, 'max_depth': 16, 'min_samples_split': 31, 'random_state': 42, 'min_samples_leaf': 17}. Best is trial 0 with value: 0.715625.\n",
      "[I 2024-02-22 18:31:23,742] Trial 2 finished with value: 0.703125 and parameters: {'n_estimators': 183, 'max_depth': 24, 'min_samples_split': 23, 'random_state': 42, 'min_samples_leaf': 5}. Best is trial 0 with value: 0.715625.\n",
      "[I 2024-02-22 18:31:38,848] Trial 3 finished with value: 0.5875 and parameters: {'n_estimators': 857, 'max_depth': 45, 'min_samples_split': 4, 'random_state': 42, 'min_samples_leaf': 23}. Best is trial 0 with value: 0.715625.\n",
      "[I 2024-02-22 18:31:48,912] Trial 4 finished with value: 0.734375 and parameters: {'n_estimators': 544, 'max_depth': 13, 'min_samples_split': 14, 'random_state': 42, 'min_samples_leaf': 8}. Best is trial 4 with value: 0.734375.\n",
      "[I 2024-02-22 18:32:01,575] Trial 5 finished with value: 0.59375 and parameters: {'n_estimators': 730, 'max_depth': 44, 'min_samples_split': 8, 'random_state': 42, 'min_samples_leaf': 23}. Best is trial 4 with value: 0.734375.\n",
      "[I 2024-02-22 18:32:06,189] Trial 6 finished with value: 0.59375 and parameters: {'n_estimators': 268, 'max_depth': 31, 'min_samples_split': 8, 'random_state': 42, 'min_samples_leaf': 23}. Best is trial 4 with value: 0.734375.\n",
      "[I 2024-02-22 18:32:19,780] Trial 7 finished with value: 0.60625 and parameters: {'n_estimators': 790, 'max_depth': 41, 'min_samples_split': 27, 'random_state': 42, 'min_samples_leaf': 22}. Best is trial 4 with value: 0.734375.\n",
      "[I 2024-02-22 18:32:27,449] Trial 8 finished with value: 0.65625 and parameters: {'n_estimators': 408, 'max_depth': 37, 'min_samples_split': 28, 'random_state': 42, 'min_samples_leaf': 2}. Best is trial 4 with value: 0.734375.\n",
      "[I 2024-02-22 18:32:29,965] Trial 9 finished with value: 0.590625 and parameters: {'n_estimators': 143, 'max_depth': 24, 'min_samples_split': 17, 'random_state': 42, 'min_samples_leaf': 23}. Best is trial 4 with value: 0.734375.\n",
      "[I 2024-02-22 18:32:40,217] Trial 10 finished with value: 0.5 and parameters: {'n_estimators': 594, 'max_depth': 12, 'min_samples_split': 14, 'random_state': 42, 'min_samples_leaf': 32}. Best is trial 4 with value: 0.734375.\n",
      "[I 2024-02-22 18:32:49,089] Trial 11 finished with value: 0.715625 and parameters: {'n_estimators': 485, 'max_depth': 33, 'min_samples_split': 21, 'random_state': 42, 'min_samples_leaf': 9}. Best is trial 4 with value: 0.734375.\n",
      "[I 2024-02-22 18:33:00,157] Trial 12 finished with value: 0.71875 and parameters: {'n_estimators': 623, 'max_depth': 22, 'min_samples_split': 14, 'random_state': 42, 'min_samples_leaf': 10}. Best is trial 4 with value: 0.734375.\n",
      "[I 2024-02-22 18:33:11,154] Trial 13 finished with value: 0.684375 and parameters: {'n_estimators': 624, 'max_depth': 20, 'min_samples_split': 13, 'random_state': 42, 'min_samples_leaf': 13}. Best is trial 4 with value: 0.734375.\n",
      "[I 2024-02-22 18:33:23,102] Trial 14 finished with value: 0.7 and parameters: {'n_estimators': 678, 'max_depth': 10, 'min_samples_split': 12, 'random_state': 42, 'min_samples_leaf': 12}. Best is trial 4 with value: 0.734375.\n",
      "[I 2024-02-22 18:33:41,634] Trial 15 finished with value: 0.809375 and parameters: {'n_estimators': 926, 'max_depth': 25, 'min_samples_split': 9, 'random_state': 42, 'min_samples_leaf': 1}. Best is trial 15 with value: 0.809375.\n",
      "[I 2024-02-22 18:34:01,580] Trial 16 finished with value: 0.878125 and parameters: {'n_estimators': 999, 'max_depth': 16, 'min_samples_split': 2, 'random_state': 42, 'min_samples_leaf': 2}. Best is trial 16 with value: 0.878125.\n",
      "[I 2024-02-22 18:34:21,946] Trial 17 finished with value: 0.89375 and parameters: {'n_estimators': 977, 'max_depth': 28, 'min_samples_split': 2, 'random_state': 42, 'min_samples_leaf': 1}. Best is trial 17 with value: 0.89375.\n",
      "[I 2024-02-22 18:34:41,013] Trial 18 finished with value: 0.85625 and parameters: {'n_estimators': 967, 'max_depth': 18, 'min_samples_split': 2, 'random_state': 42, 'min_samples_leaf': 3}. Best is trial 17 with value: 0.89375.\n",
      "[I 2024-02-22 18:34:59,439] Trial 19 finished with value: 0.8125 and parameters: {'n_estimators': 984, 'max_depth': 49, 'min_samples_split': 4, 'random_state': 42, 'min_samples_leaf': 5}. Best is trial 17 with value: 0.89375.\n",
      "[I 2024-02-22 18:35:13,445] Trial 20 finished with value: 0.66875 and parameters: {'n_estimators': 826, 'max_depth': 28, 'min_samples_split': 2, 'random_state': 42, 'min_samples_leaf': 16}. Best is trial 17 with value: 0.89375.\n",
      "[I 2024-02-22 18:35:32,355] Trial 21 finished with value: 0.81875 and parameters: {'n_estimators': 987, 'max_depth': 18, 'min_samples_split': 2, 'random_state': 42, 'min_samples_leaf': 4}. Best is trial 17 with value: 0.89375.\n",
      "[I 2024-02-22 18:35:49,828] Trial 22 finished with value: 0.859375 and parameters: {'n_estimators': 870, 'max_depth': 16, 'min_samples_split': 5, 'random_state': 42, 'min_samples_leaf': 2}. Best is trial 17 with value: 0.89375.\n",
      "[I 2024-02-22 18:36:06,396] Trial 23 finished with value: 0.790625 and parameters: {'n_estimators': 889, 'max_depth': 15, 'min_samples_split': 5, 'random_state': 42, 'min_samples_leaf': 6}. Best is trial 17 with value: 0.89375.\n",
      "[I 2024-02-22 18:36:22,130] Trial 24 finished with value: 0.840625 and parameters: {'n_estimators': 776, 'max_depth': 28, 'min_samples_split': 6, 'random_state': 42, 'min_samples_leaf': 2}. Best is trial 17 with value: 0.89375.\n",
      "[I 2024-02-22 18:36:38,242] Trial 25 finished with value: 0.7625 and parameters: {'n_estimators': 878, 'max_depth': 10, 'min_samples_split': 11, 'random_state': 42, 'min_samples_leaf': 7}. Best is trial 17 with value: 0.89375.\n",
      "[I 2024-02-22 18:36:56,943] Trial 26 finished with value: 0.85625 and parameters: {'n_estimators': 919, 'max_depth': 15, 'min_samples_split': 6, 'random_state': 42, 'min_samples_leaf': 1}. Best is trial 17 with value: 0.89375.\n",
      "[I 2024-02-22 18:37:09,102] Trial 27 finished with value: 0.503125 and parameters: {'n_estimators': 721, 'max_depth': 20, 'min_samples_split': 10, 'random_state': 42, 'min_samples_leaf': 32}. Best is trial 17 with value: 0.89375.\n",
      "[I 2024-02-22 18:37:23,568] Trial 28 finished with value: 0.715625 and parameters: {'n_estimators': 819, 'max_depth': 29, 'min_samples_split': 7, 'random_state': 42, 'min_samples_leaf': 11}. Best is trial 17 with value: 0.89375.\n",
      "[I 2024-02-22 18:37:39,252] Trial 29 finished with value: 0.68125 and parameters: {'n_estimators': 925, 'max_depth': 36, 'min_samples_split': 4, 'random_state': 42, 'min_samples_leaf': 15}. Best is trial 17 with value: 0.89375.\n",
      "[I 2024-02-22 18:37:57,785] Trial 30 finished with value: 0.821875 and parameters: {'n_estimators': 980, 'max_depth': 26, 'min_samples_split': 2, 'random_state': 42, 'min_samples_leaf': 4}. Best is trial 17 with value: 0.89375.\n",
      "[I 2024-02-22 18:38:16,815] Trial 31 finished with value: 0.853125 and parameters: {'n_estimators': 994, 'max_depth': 18, 'min_samples_split': 2, 'random_state': 42, 'min_samples_leaf': 3}. Best is trial 17 with value: 0.89375.\n",
      "[I 2024-02-22 18:38:33,438] Trial 32 finished with value: 0.775 and parameters: {'n_estimators': 925, 'max_depth': 18, 'min_samples_split': 4, 'random_state': 42, 'min_samples_leaf': 7}. Best is trial 17 with value: 0.89375.\n",
      "[I 2024-02-22 18:38:51,801] Trial 33 finished with value: 0.8625 and parameters: {'n_estimators': 944, 'max_depth': 21, 'min_samples_split': 6, 'random_state': 42, 'min_samples_leaf': 1}. Best is trial 17 with value: 0.89375.\n",
      "[I 2024-02-22 18:39:06,016] Trial 34 finished with value: 0.65 and parameters: {'n_estimators': 851, 'max_depth': 21, 'min_samples_split': 6, 'random_state': 42, 'min_samples_leaf': 19}. Best is trial 17 with value: 0.89375.\n",
      "[I 2024-02-22 18:39:20,555] Trial 35 finished with value: 0.74375 and parameters: {'n_estimators': 771, 'max_depth': 23, 'min_samples_split': 17, 'random_state': 42, 'min_samples_leaf': 1}. Best is trial 17 with value: 0.89375.\n",
      "[I 2024-02-22 18:39:36,869] Trial 36 finished with value: 0.809375 and parameters: {'n_estimators': 877, 'max_depth': 14, 'min_samples_split': 9, 'random_state': 42, 'min_samples_leaf': 5}. Best is trial 17 with value: 0.89375.\n",
      "[I 2024-02-22 18:39:52,334] Trial 37 finished with value: 0.528125 and parameters: {'n_estimators': 948, 'max_depth': 12, 'min_samples_split': 7, 'random_state': 42, 'min_samples_leaf': 29}. Best is trial 17 with value: 0.89375.\n",
      "[I 2024-02-22 18:40:05,882] Trial 38 finished with value: 0.740625 and parameters: {'n_estimators': 745, 'max_depth': 26, 'min_samples_split': 4, 'random_state': 42, 'min_samples_leaf': 8}. Best is trial 17 with value: 0.89375.\n",
      "[I 2024-02-22 18:40:21,286] Trial 39 finished with value: 0.640625 and parameters: {'n_estimators': 824, 'max_depth': 32, 'min_samples_split': 31, 'random_state': 42, 'min_samples_leaf': 3}. Best is trial 17 with value: 0.89375.\n",
      "[I 2024-02-22 18:40:26,750] Trial 40 finished with value: 0.7625 and parameters: {'n_estimators': 292, 'max_depth': 16, 'min_samples_split': 8, 'random_state': 42, 'min_samples_leaf': 6}. Best is trial 17 with value: 0.89375.\n",
      "[I 2024-02-22 18:40:45,967] Trial 41 finished with value: 0.81875 and parameters: {'n_estimators': 1000, 'max_depth': 18, 'min_samples_split': 3, 'random_state': 42, 'min_samples_leaf': 4}. Best is trial 17 with value: 0.89375.\n",
      "[I 2024-02-22 18:41:04,532] Trial 42 finished with value: 0.85625 and parameters: {'n_estimators': 939, 'max_depth': 17, 'min_samples_split': 5, 'random_state': 42, 'min_samples_leaf': 3}. Best is trial 17 with value: 0.89375.\n",
      "[I 2024-02-22 18:41:22,591] Trial 43 finished with value: 0.875 and parameters: {'n_estimators': 874, 'max_depth': 20, 'min_samples_split': 3, 'random_state': 42, 'min_samples_leaf': 1}. Best is trial 17 with value: 0.89375.\n",
      "[I 2024-02-22 18:41:41,003] Trial 44 finished with value: 0.86875 and parameters: {'n_estimators': 896, 'max_depth': 20, 'min_samples_split': 5, 'random_state': 42, 'min_samples_leaf': 1}. Best is trial 17 with value: 0.89375.\n",
      "[I 2024-02-22 18:41:59,583] Trial 45 finished with value: 0.878125 and parameters: {'n_estimators': 897, 'max_depth': 35, 'min_samples_split': 3, 'random_state': 42, 'min_samples_leaf': 1}. Best is trial 17 with value: 0.89375.\n",
      "[I 2024-02-22 18:42:12,720] Trial 46 finished with value: 0.80625 and parameters: {'n_estimators': 692, 'max_depth': 38, 'min_samples_split': 3, 'random_state': 42, 'min_samples_leaf': 5}. Best is trial 17 with value: 0.89375.\n",
      "[I 2024-02-22 18:42:20,663] Trial 47 finished with value: 0.71875 and parameters: {'n_estimators': 404, 'max_depth': 35, 'min_samples_split': 21, 'random_state': 42, 'min_samples_leaf': 1}. Best is trial 17 with value: 0.89375.\n",
      "[I 2024-02-22 18:42:35,774] Trial 48 finished with value: 0.5625 and parameters: {'n_estimators': 900, 'max_depth': 41, 'min_samples_split': 3, 'random_state': 42, 'min_samples_leaf': 26}. Best is trial 17 with value: 0.89375.\n",
      "[I 2024-02-22 18:42:49,883] Trial 49 finished with value: 0.70625 and parameters: {'n_estimators': 796, 'max_depth': 33, 'min_samples_split': 25, 'random_state': 42, 'min_samples_leaf': 9}. Best is trial 17 with value: 0.89375.\n",
      "[I 2024-02-22 18:42:58,316] Trial 50 finished with value: 0.609375 and parameters: {'n_estimators': 500, 'max_depth': 40, 'min_samples_split': 8, 'random_state': 42, 'min_samples_leaf': 20}. Best is trial 17 with value: 0.89375.\n",
      "[I 2024-02-22 18:43:17,312] Trial 51 finished with value: 0.84375 and parameters: {'n_estimators': 952, 'max_depth': 23, 'min_samples_split': 6, 'random_state': 42, 'min_samples_leaf': 2}. Best is trial 17 with value: 0.89375.\n",
      "[I 2024-02-22 18:43:34,207] Trial 52 finished with value: 0.878125 and parameters: {'n_estimators': 853, 'max_depth': 20, 'min_samples_split': 4, 'random_state': 42, 'min_samples_leaf': 1}. Best is trial 17 with value: 0.89375.\n",
      "[I 2024-02-22 18:43:50,631] Trial 53 finished with value: 0.85 and parameters: {'n_estimators': 844, 'max_depth': 20, 'min_samples_split': 3, 'random_state': 42, 'min_samples_leaf': 3}. Best is trial 17 with value: 0.89375.\n",
      "[I 2024-02-22 18:44:08,400] Trial 54 finished with value: 0.871875 and parameters: {'n_estimators': 887, 'max_depth': 25, 'min_samples_split': 5, 'random_state': 42, 'min_samples_leaf': 1}. Best is trial 17 with value: 0.89375.\n",
      "[I 2024-02-22 18:44:23,805] Trial 55 finished with value: 0.81875 and parameters: {'n_estimators': 803, 'max_depth': 30, 'min_samples_split': 4, 'random_state': 42, 'min_samples_leaf': 4}. Best is trial 17 with value: 0.89375.\n",
      "[I 2024-02-22 18:44:39,205] Trial 56 finished with value: 0.771875 and parameters: {'n_estimators': 854, 'max_depth': 27, 'min_samples_split': 2, 'random_state': 42, 'min_samples_leaf': 7}. Best is trial 17 with value: 0.89375.\n",
      "[I 2024-02-22 18:44:51,852] Trial 57 finished with value: 0.728125 and parameters: {'n_estimators': 660, 'max_depth': 24, 'min_samples_split': 19, 'random_state': 42, 'min_samples_leaf': 2}. Best is trial 17 with value: 0.89375.\n",
      "[I 2024-02-22 18:45:05,356] Trial 58 finished with value: 0.771875 and parameters: {'n_estimators': 742, 'max_depth': 31, 'min_samples_split': 15, 'random_state': 42, 'min_samples_leaf': 6}. Best is trial 17 with value: 0.89375.\n",
      "[I 2024-02-22 18:45:22,640] Trial 59 finished with value: 0.809375 and parameters: {'n_estimators': 903, 'max_depth': 34, 'min_samples_split': 10, 'random_state': 42, 'min_samples_leaf': 4}. Best is trial 17 with value: 0.89375.\n",
      "[I 2024-02-22 18:45:41,985] Trial 60 finished with value: 0.83125 and parameters: {'n_estimators': 971, 'max_depth': 22, 'min_samples_split': 7, 'random_state': 42, 'min_samples_leaf': 2}. Best is trial 17 with value: 0.89375.\n",
      "[I 2024-02-22 18:46:00,145] Trial 61 finished with value: 0.871875 and parameters: {'n_estimators': 890, 'max_depth': 25, 'min_samples_split': 5, 'random_state': 42, 'min_samples_leaf': 1}. Best is trial 17 with value: 0.89375.\n",
      "[I 2024-02-22 18:46:18,061] Trial 62 finished with value: 0.878125 and parameters: {'n_estimators': 866, 'max_depth': 26, 'min_samples_split': 3, 'random_state': 42, 'min_samples_leaf': 1}. Best is trial 17 with value: 0.89375.\n",
      "[I 2024-02-22 18:46:35,097] Trial 63 finished with value: 0.846875 and parameters: {'n_estimators': 850, 'max_depth': 29, 'min_samples_split': 3, 'random_state': 42, 'min_samples_leaf': 3}. Best is trial 17 with value: 0.89375.\n",
      "[I 2024-02-22 18:46:53,393] Trial 64 finished with value: 0.8125 and parameters: {'n_estimators': 952, 'max_depth': 27, 'min_samples_split': 2, 'random_state': 42, 'min_samples_leaf': 5}. Best is trial 17 with value: 0.89375.\n",
      "[I 2024-02-22 18:47:11,693] Trial 65 finished with value: 0.878125 and parameters: {'n_estimators': 911, 'max_depth': 24, 'min_samples_split': 4, 'random_state': 42, 'min_samples_leaf': 2}. Best is trial 17 with value: 0.89375.\n",
      "[I 2024-02-22 18:47:14,037] Trial 66 finished with value: 0.83125 and parameters: {'n_estimators': 110, 'max_depth': 23, 'min_samples_split': 3, 'random_state': 42, 'min_samples_leaf': 2}. Best is trial 17 with value: 0.89375.\n",
      "[I 2024-02-22 18:47:33,174] Trial 67 finished with value: 0.834375 and parameters: {'n_estimators': 966, 'max_depth': 12, 'min_samples_split': 4, 'random_state': 42, 'min_samples_leaf': 3}. Best is trial 17 with value: 0.89375.\n",
      "[I 2024-02-22 18:47:49,323] Trial 68 finished with value: 0.696875 and parameters: {'n_estimators': 922, 'max_depth': 46, 'min_samples_split': 7, 'random_state': 42, 'min_samples_leaf': 13}. Best is trial 17 with value: 0.89375.\n",
      "[I 2024-02-22 18:48:07,865] Trial 69 finished with value: 0.79375 and parameters: {'n_estimators': 999, 'max_depth': 19, 'min_samples_split': 2, 'random_state': 42, 'min_samples_leaf': 6}. Best is trial 17 with value: 0.89375.\n",
      "[I 2024-02-22 18:48:24,516] Trial 70 finished with value: 0.875 and parameters: {'n_estimators': 823, 'max_depth': 30, 'min_samples_split': 4, 'random_state': 42, 'min_samples_leaf': 2}. Best is trial 17 with value: 0.89375.\n",
      "[I 2024-02-22 18:48:39,153] Trial 71 finished with value: 0.821875 and parameters: {'n_estimators': 765, 'max_depth': 30, 'min_samples_split': 4, 'random_state': 42, 'min_samples_leaf': 4}. Best is trial 17 with value: 0.89375.\n",
      "[I 2024-02-22 18:48:43,762] Trial 72 finished with value: 0.865625 and parameters: {'n_estimators': 223, 'max_depth': 28, 'min_samples_split': 3, 'random_state': 42, 'min_samples_leaf': 2}. Best is trial 17 with value: 0.89375.\n",
      "[I 2024-02-22 18:49:00,646] Trial 73 finished with value: 0.86875 and parameters: {'n_estimators': 826, 'max_depth': 22, 'min_samples_split': 5, 'random_state': 42, 'min_samples_leaf': 1}. Best is trial 17 with value: 0.89375.\n",
      "[I 2024-02-22 18:49:17,157] Trial 74 finished with value: 0.81875 and parameters: {'n_estimators': 869, 'max_depth': 32, 'min_samples_split': 6, 'random_state': 42, 'min_samples_leaf': 4}. Best is trial 17 with value: 0.89375.\n",
      "[I 2024-02-22 18:49:35,088] Trial 75 finished with value: 0.85625 and parameters: {'n_estimators': 919, 'max_depth': 26, 'min_samples_split': 2, 'random_state': 42, 'min_samples_leaf': 3}. Best is trial 17 with value: 0.89375.\n",
      "[I 2024-02-22 18:49:54,164] Trial 76 finished with value: 0.878125 and parameters: {'n_estimators': 963, 'max_depth': 24, 'min_samples_split': 4, 'random_state': 42, 'min_samples_leaf': 2}. Best is trial 17 with value: 0.89375.\n",
      "[I 2024-02-22 18:50:12,369] Trial 77 finished with value: 0.8125 and parameters: {'n_estimators': 974, 'max_depth': 21, 'min_samples_split': 9, 'random_state': 42, 'min_samples_leaf': 5}. Best is trial 17 with value: 0.89375.\n",
      "[I 2024-02-22 18:50:24,369] Trial 78 finished with value: 0.875 and parameters: {'n_estimators': 580, 'max_depth': 24, 'min_samples_split': 3, 'random_state': 42, 'min_samples_leaf': 1}. Best is trial 17 with value: 0.89375.\n",
      "[I 2024-02-22 18:50:42,371] Trial 79 finished with value: 0.8375 and parameters: {'n_estimators': 908, 'max_depth': 17, 'min_samples_split': 7, 'random_state': 42, 'min_samples_leaf': 2}. Best is trial 17 with value: 0.89375.\n",
      "[I 2024-02-22 18:51:00,924] Trial 80 finished with value: 0.85 and parameters: {'n_estimators': 953, 'max_depth': 19, 'min_samples_split': 6, 'random_state': 42, 'min_samples_leaf': 3}. Best is trial 17 with value: 0.89375.\n",
      "[I 2024-02-22 18:51:17,712] Trial 81 finished with value: 0.878125 and parameters: {'n_estimators': 836, 'max_depth': 27, 'min_samples_split': 4, 'random_state': 42, 'min_samples_leaf': 2}. Best is trial 17 with value: 0.89375.\n",
      "[I 2024-02-22 18:51:35,305] Trial 82 finished with value: 0.88125 and parameters: {'n_estimators': 870, 'max_depth': 26, 'min_samples_split': 4, 'random_state': 42, 'min_samples_leaf': 1}. Best is trial 17 with value: 0.89375.\n",
      "[I 2024-02-22 18:51:53,190] Trial 83 finished with value: 0.81875 and parameters: {'n_estimators': 934, 'max_depth': 27, 'min_samples_split': 4, 'random_state': 42, 'min_samples_leaf': 4}. Best is trial 17 with value: 0.89375.\n",
      "[I 2024-02-22 18:52:08,376] Trial 84 finished with value: 0.809375 and parameters: {'n_estimators': 800, 'max_depth': 28, 'min_samples_split': 5, 'random_state': 42, 'min_samples_leaf': 5}. Best is trial 17 with value: 0.89375.\n",
      "[I 2024-02-22 18:52:25,265] Trial 85 finished with value: 0.878125 and parameters: {'n_estimators': 846, 'max_depth': 26, 'min_samples_split': 2, 'random_state': 42, 'min_samples_leaf': 2}. Best is trial 17 with value: 0.89375.\n",
      "[I 2024-02-22 18:52:44,689] Trial 86 finished with value: 0.8625 and parameters: {'n_estimators': 971, 'max_depth': 24, 'min_samples_split': 6, 'random_state': 42, 'min_samples_leaf': 1}. Best is trial 17 with value: 0.89375.\n",
      "[I 2024-02-22 18:52:52,358] Trial 87 finished with value: 0.871875 and parameters: {'n_estimators': 384, 'max_depth': 29, 'min_samples_split': 4, 'random_state': 42, 'min_samples_leaf': 2}. Best is trial 17 with value: 0.89375.\n",
      "[I 2024-02-22 18:53:09,215] Trial 88 finished with value: 0.853125 and parameters: {'n_estimators': 874, 'max_depth': 25, 'min_samples_split': 2, 'random_state': 42, 'min_samples_leaf': 3}. Best is trial 17 with value: 0.89375.\n",
      "[I 2024-02-22 18:53:24,790] Trial 89 finished with value: 0.565625 and parameters: {'n_estimators': 936, 'max_depth': 37, 'min_samples_split': 8, 'random_state': 42, 'min_samples_leaf': 25}. Best is trial 17 with value: 0.89375.\n",
      "[I 2024-02-22 18:53:41,905] Trial 90 finished with value: 0.825 and parameters: {'n_estimators': 908, 'max_depth': 23, 'min_samples_split': 5, 'random_state': 42, 'min_samples_leaf': 4}. Best is trial 17 with value: 0.89375.\n",
      "[I 2024-02-22 18:53:58,627] Trial 91 finished with value: 0.875 and parameters: {'n_estimators': 850, 'max_depth': 26, 'min_samples_split': 2, 'random_state': 42, 'min_samples_leaf': 2}. Best is trial 17 with value: 0.89375.\n",
      "[I 2024-02-22 18:54:14,333] Trial 92 finished with value: 0.878125 and parameters: {'n_estimators': 777, 'max_depth': 27, 'min_samples_split': 3, 'random_state': 42, 'min_samples_leaf': 1}. Best is trial 17 with value: 0.89375.\n",
      "[I 2024-02-22 18:54:31,182] Trial 93 finished with value: 0.878125 and parameters: {'n_estimators': 842, 'max_depth': 25, 'min_samples_split': 2, 'random_state': 42, 'min_samples_leaf': 2}. Best is trial 17 with value: 0.89375.\n",
      "[I 2024-02-22 18:54:50,405] Trial 94 finished with value: 0.853125 and parameters: {'n_estimators': 985, 'max_depth': 22, 'min_samples_split': 3, 'random_state': 42, 'min_samples_leaf': 3}. Best is trial 17 with value: 0.89375.\n",
      "[I 2024-02-22 18:55:07,789] Trial 95 finished with value: 0.878125 and parameters: {'n_estimators': 868, 'max_depth': 26, 'min_samples_split': 4, 'random_state': 42, 'min_samples_leaf': 1}. Best is trial 17 with value: 0.89375.\n",
      "[I 2024-02-22 18:55:23,250] Trial 96 finished with value: 0.7875 and parameters: {'n_estimators': 833, 'max_depth': 28, 'min_samples_split': 5, 'random_state': 42, 'min_samples_leaf': 6}. Best is trial 17 with value: 0.89375.\n",
      "[I 2024-02-22 18:55:39,958] Trial 97 finished with value: 0.6625 and parameters: {'n_estimators': 893, 'max_depth': 31, 'min_samples_split': 29, 'random_state': 42, 'min_samples_leaf': 3}. Best is trial 17 with value: 0.89375.\n",
      "[I 2024-02-22 18:55:57,325] Trial 98 finished with value: 0.878125 and parameters: {'n_estimators': 809, 'max_depth': 24, 'min_samples_split': 3, 'random_state': 42, 'min_samples_leaf': 1}. Best is trial 17 with value: 0.89375.\n",
      "[I 2024-02-22 18:56:16,196] Trial 99 finished with value: 0.75625 and parameters: {'n_estimators': 954, 'max_depth': 29, 'min_samples_split': 16, 'random_state': 42, 'min_samples_leaf': 3}. Best is trial 17 with value: 0.89375.\n"
     ]
    },
    {
     "name": "stdout",
     "output_type": "stream",
     "text": [
      "Best params found : {'n_estimators': 977, 'max_depth': 28, 'min_samples_split': 2, 'random_state': 42, 'min_samples_leaf': 1}\n"
     ]
    },
    {
     "data": {
      "text/plain": [
       "0.9875"
      ]
     },
     "execution_count": 42,
     "metadata": {},
     "output_type": "execute_result"
    }
   ],
   "source": [
    "study = optuna.create_study(direction = 'maximize')\n",
    "study.optimize(objective, n_trials = 100)\n",
    "best_params = study.best_params\n",
    "print(\"Best params found :\", best_params)\n",
    "\n",
    "final_model = RandomForestClassifier(**best_params)\n",
    "final_model.fit(X_train_reduced, y_train)\n",
    "y_pred = final_model.predict(X_test_reduced)\n",
    "accuracy_score(y_test, y_pred)"
   ]
  },
  {
   "cell_type": "code",
   "execution_count": 43,
   "id": "09f5f5e7",
   "metadata": {
    "execution": {
     "iopub.execute_input": "2024-02-22T18:56:21.197483Z",
     "iopub.status.busy": "2024-02-22T18:56:21.196641Z",
     "iopub.status.idle": "2024-02-22T18:56:26.041048Z",
     "shell.execute_reply": "2024-02-22T18:56:26.039718Z"
    },
    "id": "HvLn9CnCZocY",
    "outputId": "186f602c-942d-411f-f37a-ddbdb4165c42",
    "papermill": {
     "duration": 4.958853,
     "end_time": "2024-02-22T18:56:26.044667",
     "exception": false,
     "start_time": "2024-02-22T18:56:21.085814",
     "status": "completed"
    },
    "tags": []
   },
   "outputs": [
    {
     "name": "stdout",
     "output_type": "stream",
     "text": [
      "accuracy: 0.9875\n",
      "recall: 0.9722222222222222\n",
      "precision: 0.9629629629629629\n",
      "f1-score: 0.9666666666666666\n",
      "roc_auc:  0.7339803738490329\n"
     ]
    }
   ],
   "source": [
    "final_model = RandomForestClassifier(**best_params)\n",
    "final_model.fit(X_train_reduced, y_train)\n",
    "y_pred = final_model.predict(X_test_reduced)\n",
    "prediction_results['random forest'] = y_pred\n",
    "\n",
    "accuracy = accuracy_score(y_test, y_pred)\n",
    "precision = precision_score(y_test, y_pred, average='macro')\n",
    "recall = recall_score(y_test, y_pred, average='macro')\n",
    "f1 = f1_score(y_test, y_pred, average='macro')\n",
    "\n",
    "# One-hot encoding for probability calculation (adapt if necessary)\n",
    "y_test_onehot = pd.get_dummies(y_test, prefix='label_')  # Assuming 'label_' prefix for clarity\n",
    "y_pred_onehot = pd.get_dummies(y_pred, prefix='label_')\n",
    "\n",
    "# ROC AUC score with multiclass handling\n",
    "roc_auc_macro = roc_auc_score(y_test_onehot, y_pred_onehot, average='macro', multi_class='ovo')  # Specify 'ovo' or 'ovr'\n",
    "\n",
    "print(\"accuracy:\", accuracy)\n",
    "print(\"recall:\", recall)\n",
    "print(\"precision:\", precision)\n",
    "print(\"f1-score:\", f1)\n",
    "print('roc_auc: ', roc_auc_macro)"
   ]
  },
  {
   "cell_type": "markdown",
   "id": "c52630a9",
   "metadata": {
    "id": "tcpEfPDrZocZ",
    "papermill": {
     "duration": 0.109648,
     "end_time": "2024-02-22T18:56:26.265043",
     "exception": false,
     "start_time": "2024-02-22T18:56:26.155395",
     "status": "completed"
    },
    "tags": []
   },
   "source": [
    "## Gassian NB"
   ]
  },
  {
   "cell_type": "markdown",
   "id": "5c6f4214",
   "metadata": {
    "id": "uioGxVHmZocZ",
    "papermill": {
     "duration": 0.109476,
     "end_time": "2024-02-22T18:56:26.484270",
     "exception": false,
     "start_time": "2024-02-22T18:56:26.374794",
     "status": "completed"
    },
    "tags": []
   },
   "source": [
    "**Pre-tunning**"
   ]
  },
  {
   "cell_type": "code",
   "execution_count": 44,
   "id": "90c870d8",
   "metadata": {
    "execution": {
     "iopub.execute_input": "2024-02-22T18:56:26.704019Z",
     "iopub.status.busy": "2024-02-22T18:56:26.703203Z",
     "iopub.status.idle": "2024-02-22T18:56:26.753547Z",
     "shell.execute_reply": "2024-02-22T18:56:26.752292Z"
    },
    "id": "fUTe160HZocZ",
    "outputId": "09f09b60-3239-4559-eae4-8cc44c2edc3f",
    "papermill": {
     "duration": 0.16331,
     "end_time": "2024-02-22T18:56:26.756185",
     "exception": false,
     "start_time": "2024-02-22T18:56:26.592875",
     "status": "completed"
    },
    "tags": []
   },
   "outputs": [
    {
     "name": "stdout",
     "output_type": "stream",
     "text": [
      "accuracy: 0.975\n",
      "recall: 0.9583333333333334\n",
      "precision: 0.9527777777777777\n",
      "f1-score: 0.9506172839506173\n",
      "roc_auc:  0.7339875119474435\n"
     ]
    }
   ],
   "source": [
    "from sklearn.naive_bayes import GaussianNB\n",
    "gnb = GaussianNB()\n",
    "gnb.fit(X_train_reduced, y_train)\n",
    "\n",
    "y_pred = gnb.predict(X_test_reduced)\n",
    "\n",
    "accuracy = accuracy_score(y_test, y_pred)\n",
    "precision = precision_score(y_test, y_pred, average='macro')\n",
    "recall = recall_score(y_test, y_pred, average='macro')\n",
    "f1 = f1_score(y_test, y_pred, average='macro')\n",
    "\n",
    "# One-hot encoding for probability calculation (adapt if necessary)\n",
    "y_test_onehot = pd.get_dummies(y_test, prefix='label_')  # Assuming 'label_' prefix for clarity\n",
    "y_pred_onehot = pd.get_dummies(y_pred, prefix='label_')\n",
    "\n",
    "# ROC AUC score with multiclass handling\n",
    "roc_auc_macro = roc_auc_score(y_test_onehot, y_pred_onehot, average='macro', multi_class='ovo')  # Specify 'ovo' or 'ovr'\n",
    "\n",
    "print(\"accuracy:\", accuracy)\n",
    "print(\"recall:\", recall)\n",
    "print(\"precision:\", precision)\n",
    "print(\"f1-score:\", f1)\n",
    "print('roc_auc: ', roc_auc_macro)\n"
   ]
  },
  {
   "cell_type": "markdown",
   "id": "fd8cf472",
   "metadata": {
    "id": "JRG7dGQUZocZ",
    "papermill": {
     "duration": 0.108323,
     "end_time": "2024-02-22T18:56:26.974554",
     "exception": false,
     "start_time": "2024-02-22T18:56:26.866231",
     "status": "completed"
    },
    "tags": []
   },
   "source": [
    "**Tunning**"
   ]
  },
  {
   "cell_type": "code",
   "execution_count": 45,
   "id": "58611afb",
   "metadata": {
    "execution": {
     "iopub.execute_input": "2024-02-22T18:56:27.195531Z",
     "iopub.status.busy": "2024-02-22T18:56:27.194788Z",
     "iopub.status.idle": "2024-02-22T18:56:27.200928Z",
     "shell.execute_reply": "2024-02-22T18:56:27.200142Z"
    },
    "id": "_tWof9reZoca",
    "papermill": {
     "duration": 0.118408,
     "end_time": "2024-02-22T18:56:27.203174",
     "exception": false,
     "start_time": "2024-02-22T18:56:27.084766",
     "status": "completed"
    },
    "tags": []
   },
   "outputs": [],
   "source": [
    "def objective(trial):\n",
    "    hyperparams = {\n",
    "        'var_smoothing': trial.suggest_float('var_smoothing', 1e-9, 1e-4, log = True)\n",
    "    }\n",
    "\n",
    "    model = GaussianNB(**hyperparams)\n",
    "    scores = cross_val_score(model, X_train_reduced, y_train, cv = kf,scoring = 'accuracy')\n",
    "    return np.mean(scores)"
   ]
  },
  {
   "cell_type": "code",
   "execution_count": 46,
   "id": "f7ffb75a",
   "metadata": {
    "execution": {
     "iopub.execute_input": "2024-02-22T18:56:27.421807Z",
     "iopub.status.busy": "2024-02-22T18:56:27.421163Z",
     "iopub.status.idle": "2024-02-22T18:56:32.601298Z",
     "shell.execute_reply": "2024-02-22T18:56:32.600090Z"
    },
    "id": "-j4_mbxYZoca",
    "outputId": "6e982841-1f9f-4bb3-d65b-03b45c72be61",
    "papermill": {
     "duration": 5.292419,
     "end_time": "2024-02-22T18:56:32.604000",
     "exception": false,
     "start_time": "2024-02-22T18:56:27.311581",
     "status": "completed"
    },
    "tags": []
   },
   "outputs": [
    {
     "name": "stderr",
     "output_type": "stream",
     "text": [
      "[I 2024-02-22 18:56:27,428] A new study created in memory with name: no-name-3cadf7cd-8bdc-4c2f-9899-f6bd8276548b\n",
      "[I 2024-02-22 18:56:27,472] Trial 0 finished with value: 0.73125 and parameters: {'var_smoothing': 1.1127213414869509e-05}. Best is trial 0 with value: 0.73125.\n",
      "[I 2024-02-22 18:56:27,515] Trial 1 finished with value: 0.728125 and parameters: {'var_smoothing': 2.4566749177817425e-08}. Best is trial 0 with value: 0.73125.\n",
      "[I 2024-02-22 18:56:27,558] Trial 2 finished with value: 0.734375 and parameters: {'var_smoothing': 5.683468202522304e-05}. Best is trial 2 with value: 0.734375.\n",
      "[I 2024-02-22 18:56:27,600] Trial 3 finished with value: 0.728125 and parameters: {'var_smoothing': 5.4312250074831164e-09}. Best is trial 2 with value: 0.734375.\n",
      "[I 2024-02-22 18:56:27,645] Trial 4 finished with value: 0.728125 and parameters: {'var_smoothing': 9.451709982395127e-08}. Best is trial 2 with value: 0.734375.\n",
      "[I 2024-02-22 18:56:27,688] Trial 5 finished with value: 0.728125 and parameters: {'var_smoothing': 6.020102700517398e-08}. Best is trial 2 with value: 0.734375.\n",
      "[I 2024-02-22 18:56:27,732] Trial 6 finished with value: 0.728125 and parameters: {'var_smoothing': 7.068408889478422e-08}. Best is trial 2 with value: 0.734375.\n",
      "[I 2024-02-22 18:56:27,776] Trial 7 finished with value: 0.728125 and parameters: {'var_smoothing': 2.129254459901136e-06}. Best is trial 2 with value: 0.734375.\n",
      "[I 2024-02-22 18:56:27,820] Trial 8 finished with value: 0.73125 and parameters: {'var_smoothing': 8.638750231721978e-06}. Best is trial 2 with value: 0.734375.\n",
      "[I 2024-02-22 18:56:27,863] Trial 9 finished with value: 0.734375 and parameters: {'var_smoothing': 4.716802256803369e-05}. Best is trial 2 with value: 0.734375.\n",
      "[I 2024-02-22 18:56:27,915] Trial 10 finished with value: 0.728125 and parameters: {'var_smoothing': 1.0449651203590446e-06}. Best is trial 2 with value: 0.734375.\n",
      "[I 2024-02-22 18:56:27,967] Trial 11 finished with value: 0.734375 and parameters: {'var_smoothing': 7.400598654309172e-05}. Best is trial 2 with value: 0.734375.\n",
      "[I 2024-02-22 18:56:28,018] Trial 12 finished with value: 0.734375 and parameters: {'var_smoothing': 7.080878068130637e-05}. Best is trial 2 with value: 0.734375.\n",
      "[I 2024-02-22 18:56:28,072] Trial 13 finished with value: 0.73125 and parameters: {'var_smoothing': 1.203558569021788e-05}. Best is trial 2 with value: 0.734375.\n",
      "[I 2024-02-22 18:56:28,123] Trial 14 finished with value: 0.728125 and parameters: {'var_smoothing': 1.1801242429176804e-09}. Best is trial 2 with value: 0.734375.\n",
      "[I 2024-02-22 18:56:28,175] Trial 15 finished with value: 0.728125 and parameters: {'var_smoothing': 7.815060430964031e-07}. Best is trial 2 with value: 0.734375.\n",
      "[I 2024-02-22 18:56:28,228] Trial 16 finished with value: 0.734375 and parameters: {'var_smoothing': 3.186123932430135e-05}. Best is trial 2 with value: 0.734375.\n",
      "[I 2024-02-22 18:56:28,280] Trial 17 finished with value: 0.728125 and parameters: {'var_smoothing': 3.548877282740417e-06}. Best is trial 2 with value: 0.734375.\n",
      "[I 2024-02-22 18:56:28,332] Trial 18 finished with value: 0.728125 and parameters: {'var_smoothing': 3.626416278590819e-07}. Best is trial 2 with value: 0.734375.\n",
      "[I 2024-02-22 18:56:28,384] Trial 19 finished with value: 0.734375 and parameters: {'var_smoothing': 2.547615008658031e-05}. Best is trial 2 with value: 0.734375.\n",
      "[I 2024-02-22 18:56:28,434] Trial 20 finished with value: 0.728125 and parameters: {'var_smoothing': 3.522667880843687e-06}. Best is trial 2 with value: 0.734375.\n",
      "[I 2024-02-22 18:56:28,485] Trial 21 finished with value: 0.7375 and parameters: {'var_smoothing': 8.80143748920862e-05}. Best is trial 21 with value: 0.7375.\n",
      "[I 2024-02-22 18:56:28,535] Trial 22 finished with value: 0.7375 and parameters: {'var_smoothing': 9.268057557636326e-05}. Best is trial 21 with value: 0.7375.\n",
      "[I 2024-02-22 18:56:28,585] Trial 23 finished with value: 0.73125 and parameters: {'var_smoothing': 1.711471166797478e-05}. Best is trial 21 with value: 0.7375.\n",
      "[I 2024-02-22 18:56:28,636] Trial 24 finished with value: 0.7375 and parameters: {'var_smoothing': 8.997300429247527e-05}. Best is trial 21 with value: 0.7375.\n",
      "[I 2024-02-22 18:56:28,688] Trial 25 finished with value: 0.73125 and parameters: {'var_smoothing': 5.748271187561162e-06}. Best is trial 21 with value: 0.7375.\n",
      "[I 2024-02-22 18:56:28,739] Trial 26 finished with value: 0.7375 and parameters: {'var_smoothing': 9.342212154424438e-05}. Best is trial 21 with value: 0.7375.\n",
      "[I 2024-02-22 18:56:28,789] Trial 27 finished with value: 0.734375 and parameters: {'var_smoothing': 2.7652963757869133e-05}. Best is trial 21 with value: 0.7375.\n",
      "[I 2024-02-22 18:56:28,841] Trial 28 finished with value: 0.73125 and parameters: {'var_smoothing': 2.1728789012134094e-05}. Best is trial 21 with value: 0.7375.\n",
      "[I 2024-02-22 18:56:28,892] Trial 29 finished with value: 0.7375 and parameters: {'var_smoothing': 9.665403939381331e-05}. Best is trial 21 with value: 0.7375.\n",
      "[I 2024-02-22 18:56:28,943] Trial 30 finished with value: 0.73125 and parameters: {'var_smoothing': 1.0971405427180764e-05}. Best is trial 21 with value: 0.7375.\n",
      "[I 2024-02-22 18:56:28,994] Trial 31 finished with value: 0.7375 and parameters: {'var_smoothing': 9.998349523746571e-05}. Best is trial 21 with value: 0.7375.\n",
      "[I 2024-02-22 18:56:29,051] Trial 32 finished with value: 0.734375 and parameters: {'var_smoothing': 3.665849201863246e-05}. Best is trial 21 with value: 0.7375.\n",
      "[I 2024-02-22 18:56:29,104] Trial 33 finished with value: 0.734375 and parameters: {'var_smoothing': 4.353399906207947e-05}. Best is trial 21 with value: 0.7375.\n",
      "[I 2024-02-22 18:56:29,173] Trial 34 finished with value: 0.73125 and parameters: {'var_smoothing': 6.177102502765676e-06}. Best is trial 21 with value: 0.7375.\n",
      "[I 2024-02-22 18:56:29,232] Trial 35 finished with value: 0.73125 and parameters: {'var_smoothing': 1.4960847740908063e-05}. Best is trial 21 with value: 0.7375.\n",
      "[I 2024-02-22 18:56:29,283] Trial 36 finished with value: 0.728125 and parameters: {'var_smoothing': 6.592363728436294e-09}. Best is trial 21 with value: 0.7375.\n",
      "[I 2024-02-22 18:56:29,334] Trial 37 finished with value: 0.734375 and parameters: {'var_smoothing': 5.600138229057181e-05}. Best is trial 21 with value: 0.7375.\n",
      "[I 2024-02-22 18:56:29,384] Trial 38 finished with value: 0.728125 and parameters: {'var_smoothing': 2.023518483275529e-07}. Best is trial 21 with value: 0.7375.\n",
      "[I 2024-02-22 18:56:29,435] Trial 39 finished with value: 0.728125 and parameters: {'var_smoothing': 2.4357792402815308e-08}. Best is trial 21 with value: 0.7375.\n",
      "[I 2024-02-22 18:56:29,485] Trial 40 finished with value: 0.734375 and parameters: {'var_smoothing': 4.537561489176131e-05}. Best is trial 21 with value: 0.7375.\n",
      "[I 2024-02-22 18:56:29,536] Trial 41 finished with value: 0.7375 and parameters: {'var_smoothing': 7.953435280565886e-05}. Best is trial 21 with value: 0.7375.\n",
      "[I 2024-02-22 18:56:29,586] Trial 42 finished with value: 0.734375 and parameters: {'var_smoothing': 7.363524771806384e-05}. Best is trial 21 with value: 0.7375.\n",
      "[I 2024-02-22 18:56:29,636] Trial 43 finished with value: 0.7375 and parameters: {'var_smoothing': 8.598456055132959e-05}. Best is trial 21 with value: 0.7375.\n",
      "[I 2024-02-22 18:56:29,688] Trial 44 finished with value: 0.7375 and parameters: {'var_smoothing': 9.880803630342092e-05}. Best is trial 21 with value: 0.7375.\n",
      "[I 2024-02-22 18:56:29,739] Trial 45 finished with value: 0.73125 and parameters: {'var_smoothing': 2.221331132026927e-05}. Best is trial 21 with value: 0.7375.\n",
      "[I 2024-02-22 18:56:29,789] Trial 46 finished with value: 0.734375 and parameters: {'var_smoothing': 5.1839575560882316e-05}. Best is trial 21 with value: 0.7375.\n",
      "[I 2024-02-22 18:56:29,843] Trial 47 finished with value: 0.73125 and parameters: {'var_smoothing': 7.765885284851278e-06}. Best is trial 21 with value: 0.7375.\n",
      "[I 2024-02-22 18:56:29,894] Trial 48 finished with value: 0.734375 and parameters: {'var_smoothing': 3.434619326025587e-05}. Best is trial 21 with value: 0.7375.\n",
      "[I 2024-02-22 18:56:29,945] Trial 49 finished with value: 0.73125 and parameters: {'var_smoothing': 1.5293718053553385e-05}. Best is trial 21 with value: 0.7375.\n",
      "[I 2024-02-22 18:56:29,997] Trial 50 finished with value: 0.728125 and parameters: {'var_smoothing': 1.6652636272164515e-06}. Best is trial 21 with value: 0.7375.\n",
      "[I 2024-02-22 18:56:30,049] Trial 51 finished with value: 0.7375 and parameters: {'var_smoothing': 8.959483762664221e-05}. Best is trial 21 with value: 0.7375.\n",
      "[I 2024-02-22 18:56:30,101] Trial 52 finished with value: 0.734375 and parameters: {'var_smoothing': 5.453501972681867e-05}. Best is trial 21 with value: 0.7375.\n",
      "[I 2024-02-22 18:56:30,153] Trial 53 finished with value: 0.7375 and parameters: {'var_smoothing': 9.925041543886897e-05}. Best is trial 21 with value: 0.7375.\n",
      "[I 2024-02-22 18:56:30,208] Trial 54 finished with value: 0.734375 and parameters: {'var_smoothing': 3.817291460867524e-05}. Best is trial 21 with value: 0.7375.\n",
      "[I 2024-02-22 18:56:30,259] Trial 55 finished with value: 0.73125 and parameters: {'var_smoothing': 2.254909929254044e-05}. Best is trial 21 with value: 0.7375.\n",
      "[I 2024-02-22 18:56:30,311] Trial 56 finished with value: 0.734375 and parameters: {'var_smoothing': 6.246212980998668e-05}. Best is trial 21 with value: 0.7375.\n",
      "[I 2024-02-22 18:56:30,362] Trial 57 finished with value: 0.734375 and parameters: {'var_smoothing': 3.090132000866873e-05}. Best is trial 21 with value: 0.7375.\n",
      "[I 2024-02-22 18:56:30,414] Trial 58 finished with value: 0.73125 and parameters: {'var_smoothing': 1.1045677498499161e-05}. Best is trial 21 with value: 0.7375.\n",
      "[I 2024-02-22 18:56:30,466] Trial 59 finished with value: 0.734375 and parameters: {'var_smoothing': 5.727266807333587e-05}. Best is trial 21 with value: 0.7375.\n",
      "[I 2024-02-22 18:56:30,517] Trial 60 finished with value: 0.728125 and parameters: {'var_smoothing': 3.920020773624798e-06}. Best is trial 21 with value: 0.7375.\n",
      "[I 2024-02-22 18:56:30,568] Trial 61 finished with value: 0.734375 and parameters: {'var_smoothing': 7.026927589965656e-05}. Best is trial 21 with value: 0.7375.\n",
      "[I 2024-02-22 18:56:30,620] Trial 62 finished with value: 0.7375 and parameters: {'var_smoothing': 9.965534274224075e-05}. Best is trial 21 with value: 0.7375.\n",
      "[I 2024-02-22 18:56:30,672] Trial 63 finished with value: 0.734375 and parameters: {'var_smoothing': 3.957035081687514e-05}. Best is trial 21 with value: 0.7375.\n",
      "[I 2024-02-22 18:56:30,725] Trial 64 finished with value: 0.734375 and parameters: {'var_smoothing': 6.614389823466584e-05}. Best is trial 21 with value: 0.7375.\n",
      "[I 2024-02-22 18:56:30,778] Trial 65 finished with value: 0.73125 and parameters: {'var_smoothing': 2.044592125277675e-05}. Best is trial 21 with value: 0.7375.\n",
      "[I 2024-02-22 18:56:30,830] Trial 66 finished with value: 0.734375 and parameters: {'var_smoothing': 2.6194963862221083e-05}. Best is trial 21 with value: 0.7375.\n",
      "[I 2024-02-22 18:56:30,882] Trial 67 finished with value: 0.734375 and parameters: {'var_smoothing': 4.609218687435086e-05}. Best is trial 21 with value: 0.7375.\n",
      "[I 2024-02-22 18:56:30,934] Trial 68 finished with value: 0.73125 and parameters: {'var_smoothing': 1.6002933619342874e-05}. Best is trial 21 with value: 0.7375.\n",
      "[I 2024-02-22 18:56:30,986] Trial 69 finished with value: 0.728125 and parameters: {'var_smoothing': 1.5377523615306396e-09}. Best is trial 21 with value: 0.7375.\n",
      "[I 2024-02-22 18:56:31,038] Trial 70 finished with value: 0.728125 and parameters: {'var_smoothing': 5.125090281857139e-07}. Best is trial 21 with value: 0.7375.\n",
      "[I 2024-02-22 18:56:31,093] Trial 71 finished with value: 0.7375 and parameters: {'var_smoothing': 8.121861692092261e-05}. Best is trial 21 with value: 0.7375.\n",
      "[I 2024-02-22 18:56:31,144] Trial 72 finished with value: 0.7375 and parameters: {'var_smoothing': 9.93604475198614e-05}. Best is trial 21 with value: 0.7375.\n",
      "[I 2024-02-22 18:56:31,196] Trial 73 finished with value: 0.734375 and parameters: {'var_smoothing': 6.695027900910723e-05}. Best is trial 21 with value: 0.7375.\n",
      "[I 2024-02-22 18:56:31,247] Trial 74 finished with value: 0.734375 and parameters: {'var_smoothing': 3.260329920805223e-05}. Best is trial 21 with value: 0.7375.\n",
      "[I 2024-02-22 18:56:31,298] Trial 75 finished with value: 0.734375 and parameters: {'var_smoothing': 4.982861013867475e-05}. Best is trial 21 with value: 0.7375.\n",
      "[I 2024-02-22 18:56:31,350] Trial 76 finished with value: 0.728125 and parameters: {'var_smoothing': 1.2394105577184114e-07}. Best is trial 21 with value: 0.7375.\n",
      "[I 2024-02-22 18:56:31,401] Trial 77 finished with value: 0.7375 and parameters: {'var_smoothing': 8.010507750649542e-05}. Best is trial 21 with value: 0.7375.\n",
      "[I 2024-02-22 18:56:31,453] Trial 78 finished with value: 0.734375 and parameters: {'var_smoothing': 4.228204460665529e-05}. Best is trial 21 with value: 0.7375.\n",
      "[I 2024-02-22 18:56:31,506] Trial 79 finished with value: 0.728125 and parameters: {'var_smoothing': 3.1083618606965036e-08}. Best is trial 21 with value: 0.7375.\n",
      "[I 2024-02-22 18:56:31,557] Trial 80 finished with value: 0.734375 and parameters: {'var_smoothing': 6.938534805644234e-05}. Best is trial 21 with value: 0.7375.\n",
      "[I 2024-02-22 18:56:31,608] Trial 81 finished with value: 0.7375 and parameters: {'var_smoothing': 9.735659737122401e-05}. Best is trial 21 with value: 0.7375.\n",
      "[I 2024-02-22 18:56:31,660] Trial 82 finished with value: 0.734375 and parameters: {'var_smoothing': 5.2835999547944507e-05}. Best is trial 21 with value: 0.7375.\n",
      "[I 2024-02-22 18:56:31,713] Trial 83 finished with value: 0.734375 and parameters: {'var_smoothing': 2.9318393732394222e-05}. Best is trial 21 with value: 0.7375.\n",
      "[I 2024-02-22 18:56:31,767] Trial 84 finished with value: 0.734375 and parameters: {'var_smoothing': 6.737075308342493e-05}. Best is trial 21 with value: 0.7375.\n",
      "[I 2024-02-22 18:56:31,820] Trial 85 finished with value: 0.7375 and parameters: {'var_smoothing': 9.699293618010639e-05}. Best is trial 21 with value: 0.7375.\n",
      "[I 2024-02-22 18:56:31,873] Trial 86 finished with value: 0.734375 and parameters: {'var_smoothing': 3.8683368040832554e-05}. Best is trial 21 with value: 0.7375.\n",
      "[I 2024-02-22 18:56:31,925] Trial 87 finished with value: 0.73125 and parameters: {'var_smoothing': 1.937202709100174e-05}. Best is trial 21 with value: 0.7375.\n",
      "[I 2024-02-22 18:56:31,977] Trial 88 finished with value: 0.734375 and parameters: {'var_smoothing': 5.1583130295534376e-05}. Best is trial 21 with value: 0.7375.\n",
      "[I 2024-02-22 18:56:32,030] Trial 89 finished with value: 0.734375 and parameters: {'var_smoothing': 7.528245747468907e-05}. Best is trial 21 with value: 0.7375.\n",
      "[I 2024-02-22 18:56:32,084] Trial 90 finished with value: 0.734375 and parameters: {'var_smoothing': 2.803292484468167e-05}. Best is trial 21 with value: 0.7375.\n",
      "[I 2024-02-22 18:56:32,135] Trial 91 finished with value: 0.7375 and parameters: {'var_smoothing': 8.578181441209868e-05}. Best is trial 21 with value: 0.7375.\n",
      "[I 2024-02-22 18:56:32,188] Trial 92 finished with value: 0.734375 and parameters: {'var_smoothing': 5.814500692509263e-05}. Best is trial 21 with value: 0.7375.\n",
      "[I 2024-02-22 18:56:32,239] Trial 93 finished with value: 0.7375 and parameters: {'var_smoothing': 7.685581211576873e-05}. Best is trial 21 with value: 0.7375.\n",
      "[I 2024-02-22 18:56:32,291] Trial 94 finished with value: 0.734375 and parameters: {'var_smoothing': 3.9763912072742214e-05}. Best is trial 21 with value: 0.7375.\n",
      "[I 2024-02-22 18:56:32,345] Trial 95 finished with value: 0.7375 and parameters: {'var_smoothing': 9.881770904866703e-05}. Best is trial 21 with value: 0.7375.\n",
      "[I 2024-02-22 18:56:32,396] Trial 96 finished with value: 0.734375 and parameters: {'var_smoothing': 5.7704720039752894e-05}. Best is trial 21 with value: 0.7375.\n",
      "[I 2024-02-22 18:56:32,447] Trial 97 finished with value: 0.734375 and parameters: {'var_smoothing': 4.329554075525582e-05}. Best is trial 21 with value: 0.7375.\n",
      "[I 2024-02-22 18:56:32,500] Trial 98 finished with value: 0.7375 and parameters: {'var_smoothing': 7.815231479042302e-05}. Best is trial 21 with value: 0.7375.\n",
      "[I 2024-02-22 18:56:32,553] Trial 99 finished with value: 0.734375 and parameters: {'var_smoothing': 3.0435201356881282e-05}. Best is trial 21 with value: 0.7375.\n"
     ]
    },
    {
     "name": "stdout",
     "output_type": "stream",
     "text": [
      "Best params found : {'var_smoothing': 8.80143748920862e-05}\n",
      "accuracy: 0.975\n",
      "recall: 0.9583333333333334\n",
      "precision: 0.9527777777777777\n",
      "f1-score: 0.9506172839506173\n",
      "roc_auc:  0.7339875119474435\n"
     ]
    }
   ],
   "source": [
    "study = optuna.create_study(direction = 'maximize')\n",
    "study.optimize(objective, n_trials = 100)\n",
    "best_params = study.best_params\n",
    "print(\"Best params found :\", best_params)\n",
    "\n",
    "final_model = GaussianNB(**best_params)\n",
    "final_model.fit(X_train_reduced, y_train)\n",
    "y_pred = final_model.predict(X_test_reduced)\n",
    "prediction_results['gnb'] = y_pred\n",
    "\n",
    "accuracy = accuracy_score(y_test, y_pred)\n",
    "precision = precision_score(y_test, y_pred, average='macro')\n",
    "recall = recall_score(y_test, y_pred, average='macro')\n",
    "f1 = f1_score(y_test, y_pred, average='macro')\n",
    "\n",
    "# One-hot encoding for probability calculation (adapt if necessary)\n",
    "y_test_onehot = pd.get_dummies(y_test, prefix='label_')  # Assuming 'label_' prefix for clarity\n",
    "y_pred_onehot = pd.get_dummies(y_pred, prefix='label_')\n",
    "\n",
    "# ROC AUC score with multiclass handling\n",
    "roc_auc_macro = roc_auc_score(y_test_onehot, y_pred_onehot, average='macro', multi_class='ovo')  # Specify 'ovo' or 'ovr'\n",
    "\n",
    "print(\"accuracy:\", accuracy)\n",
    "print(\"recall:\", recall)\n",
    "print(\"precision:\", precision)\n",
    "print(\"f1-score:\", f1)\n",
    "print('roc_auc: ', roc_auc_macro)"
   ]
  },
  {
   "cell_type": "markdown",
   "id": "ba9776e4",
   "metadata": {
    "id": "u32WTAUGZoca",
    "papermill": {
     "duration": 0.118239,
     "end_time": "2024-02-22T18:56:32.842502",
     "exception": false,
     "start_time": "2024-02-22T18:56:32.724263",
     "status": "completed"
    },
    "tags": []
   },
   "source": [
    "## Logistic Regression"
   ]
  },
  {
   "cell_type": "markdown",
   "id": "9ed96e6b",
   "metadata": {
    "id": "INcny-lFZocb",
    "papermill": {
     "duration": 0.120797,
     "end_time": "2024-02-22T18:56:33.082882",
     "exception": false,
     "start_time": "2024-02-22T18:56:32.962085",
     "status": "completed"
    },
    "tags": []
   },
   "source": [
    "**Normal**"
   ]
  },
  {
   "cell_type": "code",
   "execution_count": 47,
   "id": "93e671fd",
   "metadata": {
    "execution": {
     "iopub.execute_input": "2024-02-22T18:56:33.322680Z",
     "iopub.status.busy": "2024-02-22T18:56:33.322294Z",
     "iopub.status.idle": "2024-02-22T18:56:33.608656Z",
     "shell.execute_reply": "2024-02-22T18:56:33.607107Z"
    },
    "id": "r-S_mTxOZocb",
    "outputId": "2772d080-887c-494b-dbb6-d7f5347de9cc",
    "papermill": {
     "duration": 0.411196,
     "end_time": "2024-02-22T18:56:33.613424",
     "exception": false,
     "start_time": "2024-02-22T18:56:33.202228",
     "status": "completed"
    },
    "tags": []
   },
   "outputs": [
    {
     "name": "stdout",
     "output_type": "stream",
     "text": [
      "accuracy: 1.0\n",
      "recall: 1.0\n",
      "precision: 1.0\n",
      "f1-score: 1.0\n",
      "roc_auc:  1.0\n"
     ]
    }
   ],
   "source": [
    "lr = LogisticRegression()\n",
    "lr.fit(X_train_reduced, y_train)\n",
    "y_pred = lr.predict(X_test_reduced)\n",
    "\n",
    "accuracy = accuracy_score(y_test, y_pred)\n",
    "precision = precision_score(y_test, y_pred, average='macro')\n",
    "recall = recall_score(y_test, y_pred, average='macro')\n",
    "f1 = f1_score(y_test, y_pred, average='macro')\n",
    "\n",
    "# One-hot encoding for probability calculation (adapt if necessary)\n",
    "y_test_onehot = pd.get_dummies(y_test, prefix='label_')  # Assuming 'label_' prefix for clarity\n",
    "y_pred_onehot = pd.get_dummies(y_pred, prefix='label_')\n",
    "\n",
    "# ROC AUC score with multiclass handling\n",
    "roc_auc_macro = roc_auc_score(y_test_onehot, y_pred_onehot, average='macro', multi_class='ovo')  # Specify 'ovo' or 'ovr'\n",
    "\n",
    "print(\"accuracy:\", accuracy)\n",
    "print(\"recall:\", recall)\n",
    "print(\"precision:\", precision)\n",
    "print(\"f1-score:\", f1)\n",
    "print('roc_auc: ', roc_auc_macro)"
   ]
  },
  {
   "cell_type": "markdown",
   "id": "359b7dce",
   "metadata": {
    "id": "mKFvtCm0Zocb",
    "papermill": {
     "duration": 0.122853,
     "end_time": "2024-02-22T18:56:33.950094",
     "exception": false,
     "start_time": "2024-02-22T18:56:33.827241",
     "status": "completed"
    },
    "tags": []
   },
   "source": [
    "**Tunning**"
   ]
  },
  {
   "cell_type": "code",
   "execution_count": 48,
   "id": "f6d3192b",
   "metadata": {
    "execution": {
     "iopub.execute_input": "2024-02-22T18:56:34.191189Z",
     "iopub.status.busy": "2024-02-22T18:56:34.190778Z",
     "iopub.status.idle": "2024-02-22T18:56:34.198442Z",
     "shell.execute_reply": "2024-02-22T18:56:34.197427Z"
    },
    "id": "uk3LA_VHZocb",
    "papermill": {
     "duration": 0.132278,
     "end_time": "2024-02-22T18:56:34.200656",
     "exception": false,
     "start_time": "2024-02-22T18:56:34.068378",
     "status": "completed"
    },
    "tags": []
   },
   "outputs": [],
   "source": [
    "import optuna\n",
    "from sklearn.model_selection import cross_val_score\n",
    "import warnings\n",
    "warnings.filterwarnings('ignore')\n",
    "\n",
    "\n",
    "def objective(trial):\n",
    "    hyperparams = {\n",
    "        'solver': trial.suggest_categorical('solver', ['lbfgs', 'liblinear', 'newton-cg', 'saga']),\n",
    "        'penalty': trial.suggest_categorical('penalty', ['l2']),\n",
    "        'multi_class': trial.suggest_categorical('multi_class', ['ovr']),\n",
    "        'C': trial.suggest_loguniform(\"C\", 1e-3, 1e3),\n",
    "        'n_jobs': -1\n",
    "    }\n",
    "\n",
    "    model = LogisticRegression(**hyperparams)\n",
    "    scores = cross_val_score(model, X_train_reduced,\n",
    "                             y_train, cv=kf, scoring='accuracy')\n",
    "    return np.mean(scores)"
   ]
  },
  {
   "cell_type": "code",
   "execution_count": 49,
   "id": "94663989",
   "metadata": {
    "execution": {
     "iopub.execute_input": "2024-02-22T18:56:34.441970Z",
     "iopub.status.busy": "2024-02-22T18:56:34.441549Z",
     "iopub.status.idle": "2024-02-22T19:11:13.502489Z",
     "shell.execute_reply": "2024-02-22T19:11:13.500705Z"
    },
    "id": "OMLQ7x6TZocc",
    "outputId": "dfe73dd1-93b7-44f5-d7eb-023ec925f959",
    "papermill": {
     "duration": 879.186077,
     "end_time": "2024-02-22T19:11:13.506665",
     "exception": false,
     "start_time": "2024-02-22T18:56:34.320588",
     "status": "completed"
    },
    "tags": []
   },
   "outputs": [
    {
     "name": "stderr",
     "output_type": "stream",
     "text": [
      "[I 2024-02-22 18:56:34,448] A new study created in memory with name: no-name-9e2bba89-9703-452f-8763-a6b29dcad851\n",
      "[I 2024-02-22 18:56:51,007] Trial 0 finished with value: 0.909375 and parameters: {'solver': 'liblinear', 'penalty': 'l2', 'multi_class': 'ovr', 'C': 1.7542754666298335}. Best is trial 0 with value: 0.909375.\n",
      "[I 2024-02-22 18:56:52,256] Trial 1 finished with value: 0.79375 and parameters: {'solver': 'saga', 'penalty': 'l2', 'multi_class': 'ovr', 'C': 0.020403063384519533}. Best is trial 0 with value: 0.909375.\n",
      "/opt/conda/lib/python3.10/site-packages/sklearn/utils/optimize.py:210: ConvergenceWarning: newton-cg failed to converge. Increase the number of iterations.\n",
      "  warnings.warn(\n",
      "/opt/conda/lib/python3.10/site-packages/sklearn/utils/optimize.py:210: ConvergenceWarning: newton-cg failed to converge. Increase the number of iterations.\n",
      "  warnings.warn(\n",
      "/opt/conda/lib/python3.10/site-packages/sklearn/utils/optimize.py:210: ConvergenceWarning: newton-cg failed to converge. Increase the number of iterations.\n",
      "  warnings.warn(\n",
      "[I 2024-02-22 18:57:07,928] Trial 2 finished with value: 0.953125 and parameters: {'solver': 'newton-cg', 'penalty': 'l2', 'multi_class': 'ovr', 'C': 0.006374879670841058}. Best is trial 2 with value: 0.953125.\n",
      "[I 2024-02-22 18:57:09,160] Trial 3 finished with value: 0.79375 and parameters: {'solver': 'saga', 'penalty': 'l2', 'multi_class': 'ovr', 'C': 0.1408541887838225}. Best is trial 2 with value: 0.953125.\n",
      "[I 2024-02-22 18:57:18,460] Trial 4 finished with value: 0.8125 and parameters: {'solver': 'liblinear', 'penalty': 'l2', 'multi_class': 'ovr', 'C': 0.004120685402442969}. Best is trial 2 with value: 0.953125.\n",
      "[I 2024-02-22 18:57:38,448] Trial 5 finished with value: 0.903125 and parameters: {'solver': 'liblinear', 'penalty': 'l2', 'multi_class': 'ovr', 'C': 747.6948965343023}. Best is trial 2 with value: 0.953125.\n",
      "[I 2024-02-22 18:57:47,017] Trial 6 finished with value: 0.8125 and parameters: {'solver': 'liblinear', 'penalty': 'l2', 'multi_class': 'ovr', 'C': 0.002954959677387335}. Best is trial 2 with value: 0.953125.\n",
      "[I 2024-02-22 18:58:02,860] Trial 7 finished with value: 0.90625 and parameters: {'solver': 'liblinear', 'penalty': 'l2', 'multi_class': 'ovr', 'C': 0.6208036324574713}. Best is trial 2 with value: 0.953125.\n",
      "[I 2024-02-22 18:58:04,064] Trial 8 finished with value: 0.79375 and parameters: {'solver': 'saga', 'penalty': 'l2', 'multi_class': 'ovr', 'C': 3.5147540719973844}. Best is trial 2 with value: 0.953125.\n",
      "/opt/conda/lib/python3.10/site-packages/sklearn/utils/optimize.py:210: ConvergenceWarning: newton-cg failed to converge. Increase the number of iterations.\n",
      "  warnings.warn(\n",
      "[I 2024-02-22 18:58:17,668] Trial 9 finished with value: 0.953125 and parameters: {'solver': 'newton-cg', 'penalty': 'l2', 'multi_class': 'ovr', 'C': 0.0028471925306328932}. Best is trial 2 with value: 0.953125.\n",
      "[I 2024-02-22 18:58:27,144] Trial 10 finished with value: 0.90625 and parameters: {'solver': 'newton-cg', 'penalty': 'l2', 'multi_class': 'ovr', 'C': 56.349785949445}. Best is trial 2 with value: 0.953125.\n",
      "[I 2024-02-22 18:58:40,973] Trial 11 finished with value: 0.953125 and parameters: {'solver': 'newton-cg', 'penalty': 'l2', 'multi_class': 'ovr', 'C': 0.0010615703144672458}. Best is trial 2 with value: 0.953125.\n",
      "/opt/conda/lib/python3.10/site-packages/sklearn/linear_model/_logistic.py:458: ConvergenceWarning: lbfgs failed to converge (status=1):\n",
      "STOP: TOTAL NO. of ITERATIONS REACHED LIMIT.\n",
      "\n",
      "Increase the number of iterations (max_iter) or scale the data as shown in:\n",
      "    https://scikit-learn.org/stable/modules/preprocessing.html\n",
      "Please also refer to the documentation for alternative solver options:\n",
      "    https://scikit-learn.org/stable/modules/linear_model.html#logistic-regression\n",
      "  n_iter_i = _check_optimize_result(\n",
      "/opt/conda/lib/python3.10/site-packages/sklearn/linear_model/_logistic.py:458: ConvergenceWarning: lbfgs failed to converge (status=1):\n",
      "STOP: TOTAL NO. of ITERATIONS REACHED LIMIT.\n",
      "\n",
      "Increase the number of iterations (max_iter) or scale the data as shown in:\n",
      "    https://scikit-learn.org/stable/modules/preprocessing.html\n",
      "Please also refer to the documentation for alternative solver options:\n",
      "    https://scikit-learn.org/stable/modules/linear_model.html#logistic-regression\n",
      "  n_iter_i = _check_optimize_result(\n",
      "/opt/conda/lib/python3.10/site-packages/sklearn/linear_model/_logistic.py:458: ConvergenceWarning: lbfgs failed to converge (status=1):\n",
      "STOP: TOTAL NO. of ITERATIONS REACHED LIMIT.\n",
      "\n",
      "Increase the number of iterations (max_iter) or scale the data as shown in:\n",
      "    https://scikit-learn.org/stable/modules/preprocessing.html\n",
      "Please also refer to the documentation for alternative solver options:\n",
      "    https://scikit-learn.org/stable/modules/linear_model.html#logistic-regression\n",
      "  n_iter_i = _check_optimize_result(\n",
      "/opt/conda/lib/python3.10/site-packages/sklearn/linear_model/_logistic.py:458: ConvergenceWarning: lbfgs failed to converge (status=1):\n",
      "STOP: TOTAL NO. of ITERATIONS REACHED LIMIT.\n",
      "\n",
      "Increase the number of iterations (max_iter) or scale the data as shown in:\n",
      "    https://scikit-learn.org/stable/modules/preprocessing.html\n",
      "Please also refer to the documentation for alternative solver options:\n",
      "    https://scikit-learn.org/stable/modules/linear_model.html#logistic-regression\n",
      "  n_iter_i = _check_optimize_result(\n",
      "[I 2024-02-22 18:58:42,702] Trial 12 finished with value: 0.95 and parameters: {'solver': 'lbfgs', 'penalty': 'l2', 'multi_class': 'ovr', 'C': 0.044649415156968617}. Best is trial 2 with value: 0.953125.\n",
      "[I 2024-02-22 18:58:55,688] Trial 13 finished with value: 0.95 and parameters: {'solver': 'newton-cg', 'penalty': 'l2', 'multi_class': 'ovr', 'C': 0.023144502846090147}. Best is trial 2 with value: 0.953125.\n",
      "[I 2024-02-22 18:59:09,581] Trial 14 finished with value: 0.953125 and parameters: {'solver': 'newton-cg', 'penalty': 'l2', 'multi_class': 'ovr', 'C': 0.008639844479649298}. Best is trial 2 with value: 0.953125.\n",
      "[I 2024-02-22 18:59:21,032] Trial 15 finished with value: 0.946875 and parameters: {'solver': 'newton-cg', 'penalty': 'l2', 'multi_class': 'ovr', 'C': 0.1953293350172357}. Best is trial 2 with value: 0.953125.\n",
      "[I 2024-02-22 18:59:22,747] Trial 16 finished with value: 0.953125 and parameters: {'solver': 'lbfgs', 'penalty': 'l2', 'multi_class': 'ovr', 'C': 0.0012364279911489316}. Best is trial 2 with value: 0.953125.\n",
      "[I 2024-02-22 18:59:32,732] Trial 17 finished with value: 0.925 and parameters: {'solver': 'newton-cg', 'penalty': 'l2', 'multi_class': 'ovr', 'C': 16.20733991692641}. Best is trial 2 with value: 0.953125.\n",
      "[I 2024-02-22 18:59:45,401] Trial 18 finished with value: 0.953125 and parameters: {'solver': 'newton-cg', 'penalty': 'l2', 'multi_class': 'ovr', 'C': 0.08481920594514472}. Best is trial 2 with value: 0.953125.\n",
      "[I 2024-02-22 18:59:58,509] Trial 19 finished with value: 0.946875 and parameters: {'solver': 'newton-cg', 'penalty': 'l2', 'multi_class': 'ovr', 'C': 0.01332397086491655}. Best is trial 2 with value: 0.953125.\n",
      "[I 2024-02-22 19:00:00,267] Trial 20 finished with value: 0.95 and parameters: {'solver': 'lbfgs', 'penalty': 'l2', 'multi_class': 'ovr', 'C': 0.4790499377360009}. Best is trial 2 with value: 0.953125.\n",
      "[I 2024-02-22 19:00:14,039] Trial 21 finished with value: 0.953125 and parameters: {'solver': 'newton-cg', 'penalty': 'l2', 'multi_class': 'ovr', 'C': 0.0028217758651051896}. Best is trial 2 with value: 0.953125.\n",
      "[I 2024-02-22 19:00:27,150] Trial 22 finished with value: 0.953125 and parameters: {'solver': 'newton-cg', 'penalty': 'l2', 'multi_class': 'ovr', 'C': 0.0013030950466233551}. Best is trial 2 with value: 0.953125.\n",
      "[I 2024-02-22 19:00:40,226] Trial 23 finished with value: 0.953125 and parameters: {'solver': 'newton-cg', 'penalty': 'l2', 'multi_class': 'ovr', 'C': 0.0010256959818722808}. Best is trial 2 with value: 0.953125.\n",
      "[I 2024-02-22 19:00:54,068] Trial 24 finished with value: 0.95 and parameters: {'solver': 'newton-cg', 'penalty': 'l2', 'multi_class': 'ovr', 'C': 0.00766639292646448}. Best is trial 2 with value: 0.953125.\n",
      "[I 2024-02-22 19:01:07,585] Trial 25 finished with value: 0.953125 and parameters: {'solver': 'newton-cg', 'penalty': 'l2', 'multi_class': 'ovr', 'C': 0.004557921661809667}. Best is trial 2 with value: 0.953125.\n",
      "[I 2024-02-22 19:01:21,212] Trial 26 finished with value: 0.95 and parameters: {'solver': 'newton-cg', 'penalty': 'l2', 'multi_class': 'ovr', 'C': 0.029062942028914154}. Best is trial 2 with value: 0.953125.\n",
      "[I 2024-02-22 19:01:33,913] Trial 27 finished with value: 0.95 and parameters: {'solver': 'newton-cg', 'penalty': 'l2', 'multi_class': 'ovr', 'C': 0.05142223005458485}. Best is trial 2 with value: 0.953125.\n",
      "[I 2024-02-22 19:01:35,160] Trial 28 finished with value: 0.79375 and parameters: {'solver': 'saga', 'penalty': 'l2', 'multi_class': 'ovr', 'C': 0.0029081380190686085}. Best is trial 2 with value: 0.953125.\n",
      "[I 2024-02-22 19:01:36,828] Trial 29 finished with value: 0.953125 and parameters: {'solver': 'lbfgs', 'penalty': 'l2', 'multi_class': 'ovr', 'C': 5.974404860817218}. Best is trial 2 with value: 0.953125.\n",
      "[I 2024-02-22 19:01:48,797] Trial 30 finished with value: 0.95 and parameters: {'solver': 'newton-cg', 'penalty': 'l2', 'multi_class': 'ovr', 'C': 0.2269146163797294}. Best is trial 2 with value: 0.953125.\n",
      "[I 2024-02-22 19:02:02,320] Trial 31 finished with value: 0.95 and parameters: {'solver': 'newton-cg', 'penalty': 'l2', 'multi_class': 'ovr', 'C': 0.010156132026537687}. Best is trial 2 with value: 0.953125.\n",
      "[I 2024-02-22 19:02:15,962] Trial 32 finished with value: 0.95 and parameters: {'solver': 'newton-cg', 'penalty': 'l2', 'multi_class': 'ovr', 'C': 0.006962866329838848}. Best is trial 2 with value: 0.953125.\n",
      "[I 2024-02-22 19:02:29,820] Trial 33 finished with value: 0.946875 and parameters: {'solver': 'newton-cg', 'penalty': 'l2', 'multi_class': 'ovr', 'C': 0.014152287070525096}. Best is trial 2 with value: 0.953125.\n",
      "[I 2024-02-22 19:02:31,063] Trial 34 finished with value: 0.79375 and parameters: {'solver': 'saga', 'penalty': 'l2', 'multi_class': 'ovr', 'C': 0.0024737611073660324}. Best is trial 2 with value: 0.953125.\n",
      "[I 2024-02-22 19:02:44,402] Trial 35 finished with value: 0.953125 and parameters: {'solver': 'newton-cg', 'penalty': 'l2', 'multi_class': 'ovr', 'C': 0.006248314251191881}. Best is trial 2 with value: 0.953125.\n",
      "[I 2024-02-22 19:02:51,636] Trial 36 finished with value: 0.80625 and parameters: {'solver': 'liblinear', 'penalty': 'l2', 'multi_class': 'ovr', 'C': 0.0015910154083227175}. Best is trial 2 with value: 0.953125.\n",
      "[I 2024-02-22 19:03:01,125] Trial 37 finished with value: 0.89375 and parameters: {'solver': 'newton-cg', 'penalty': 'l2', 'multi_class': 'ovr', 'C': 311.72298358207433}. Best is trial 2 with value: 0.953125.\n",
      "[I 2024-02-22 19:03:02,380] Trial 38 finished with value: 0.79375 and parameters: {'solver': 'saga', 'penalty': 'l2', 'multi_class': 'ovr', 'C': 0.09563665352137193}. Best is trial 2 with value: 0.953125.\n",
      "[I 2024-02-22 19:03:15,179] Trial 39 finished with value: 0.859375 and parameters: {'solver': 'liblinear', 'penalty': 'l2', 'multi_class': 'ovr', 'C': 0.02984868393199182}. Best is trial 2 with value: 0.953125.\n",
      "[I 2024-02-22 19:03:29,064] Trial 40 finished with value: 0.953125 and parameters: {'solver': 'newton-cg', 'penalty': 'l2', 'multi_class': 'ovr', 'C': 0.003914343177524667}. Best is trial 2 with value: 0.953125.\n",
      "[I 2024-02-22 19:03:30,740] Trial 41 finished with value: 0.953125 and parameters: {'solver': 'lbfgs', 'penalty': 'l2', 'multi_class': 'ovr', 'C': 0.0013230013540111833}. Best is trial 2 with value: 0.953125.\n",
      "[I 2024-02-22 19:03:32,378] Trial 42 finished with value: 0.953125 and parameters: {'solver': 'lbfgs', 'penalty': 'l2', 'multi_class': 'ovr', 'C': 0.0019354348244260105}. Best is trial 2 with value: 0.953125.\n",
      "[I 2024-02-22 19:03:34,026] Trial 43 finished with value: 0.95 and parameters: {'solver': 'lbfgs', 'penalty': 'l2', 'multi_class': 'ovr', 'C': 0.004665115072383124}. Best is trial 2 with value: 0.953125.\n",
      "[I 2024-02-22 19:03:35,637] Trial 44 finished with value: 0.953125 and parameters: {'solver': 'lbfgs', 'penalty': 'l2', 'multi_class': 'ovr', 'C': 0.0010223126323227008}. Best is trial 2 with value: 0.953125.\n",
      "[I 2024-02-22 19:03:37,289] Trial 45 finished with value: 0.95625 and parameters: {'solver': 'lbfgs', 'penalty': 'l2', 'multi_class': 'ovr', 'C': 0.018671802271092063}. Best is trial 45 with value: 0.95625.\n",
      "[I 2024-02-22 19:03:49,425] Trial 46 finished with value: 0.840625 and parameters: {'solver': 'liblinear', 'penalty': 'l2', 'multi_class': 'ovr', 'C': 0.01689977981330916}. Best is trial 45 with value: 0.95625.\n",
      "[I 2024-02-22 19:04:02,394] Trial 47 finished with value: 0.95 and parameters: {'solver': 'newton-cg', 'penalty': 'l2', 'multi_class': 'ovr', 'C': 0.05166439316547205}. Best is trial 45 with value: 0.95625.\n",
      "[I 2024-02-22 19:04:04,034] Trial 48 finished with value: 0.95 and parameters: {'solver': 'lbfgs', 'penalty': 'l2', 'multi_class': 'ovr', 'C': 1.118819305305705}. Best is trial 45 with value: 0.95625.\n",
      "[I 2024-02-22 19:04:05,276] Trial 49 finished with value: 0.79375 and parameters: {'solver': 'saga', 'penalty': 'l2', 'multi_class': 'ovr', 'C': 0.00914469000595419}. Best is trial 45 with value: 0.95625.\n",
      "[I 2024-02-22 19:04:18,186] Trial 50 finished with value: 0.953125 and parameters: {'solver': 'newton-cg', 'penalty': 'l2', 'multi_class': 'ovr', 'C': 0.01983228934856653}. Best is trial 45 with value: 0.95625.\n",
      "[I 2024-02-22 19:04:19,864] Trial 51 finished with value: 0.953125 and parameters: {'solver': 'lbfgs', 'penalty': 'l2', 'multi_class': 'ovr', 'C': 0.0023147076225319466}. Best is trial 45 with value: 0.95625.\n",
      "[I 2024-02-22 19:04:21,547] Trial 52 finished with value: 0.953125 and parameters: {'solver': 'lbfgs', 'penalty': 'l2', 'multi_class': 'ovr', 'C': 0.0035973451004081046}. Best is trial 45 with value: 0.95625.\n",
      "[I 2024-02-22 19:04:23,203] Trial 53 finished with value: 0.953125 and parameters: {'solver': 'lbfgs', 'penalty': 'l2', 'multi_class': 'ovr', 'C': 0.002010689895341962}. Best is trial 45 with value: 0.95625.\n",
      "[I 2024-02-22 19:04:24,854] Trial 54 finished with value: 0.953125 and parameters: {'solver': 'lbfgs', 'penalty': 'l2', 'multi_class': 'ovr', 'C': 0.006189708707449879}. Best is trial 45 with value: 0.95625.\n",
      "[I 2024-02-22 19:04:38,427] Trial 55 finished with value: 0.946875 and parameters: {'solver': 'newton-cg', 'penalty': 'l2', 'multi_class': 'ovr', 'C': 0.011271030508549834}. Best is trial 45 with value: 0.95625.\n",
      "[I 2024-02-22 19:04:40,159] Trial 56 finished with value: 0.95625 and parameters: {'solver': 'lbfgs', 'penalty': 'l2', 'multi_class': 'ovr', 'C': 0.3589584384215463}. Best is trial 45 with value: 0.95625.\n",
      "[I 2024-02-22 19:04:50,251] Trial 57 finished with value: 0.928125 and parameters: {'solver': 'newton-cg', 'penalty': 'l2', 'multi_class': 'ovr', 'C': 4.455569223721548}. Best is trial 45 with value: 0.95625.\n",
      "[I 2024-02-22 19:05:07,001] Trial 58 finished with value: 0.9 and parameters: {'solver': 'liblinear', 'penalty': 'l2', 'multi_class': 'ovr', 'C': 2.3829566003279865}. Best is trial 45 with value: 0.95625.\n",
      "[I 2024-02-22 19:05:17,916] Trial 59 finished with value: 0.946875 and parameters: {'solver': 'newton-cg', 'penalty': 'l2', 'multi_class': 'ovr', 'C': 0.38852710047547684}. Best is trial 45 with value: 0.95625.\n",
      "[I 2024-02-22 19:05:19,603] Trial 60 finished with value: 0.95 and parameters: {'solver': 'lbfgs', 'penalty': 'l2', 'multi_class': 'ovr', 'C': 18.169646720888448}. Best is trial 45 with value: 0.95625.\n",
      "[I 2024-02-22 19:05:21,273] Trial 61 finished with value: 0.953125 and parameters: {'solver': 'lbfgs', 'penalty': 'l2', 'multi_class': 'ovr', 'C': 0.029165582751487614}. Best is trial 45 with value: 0.95625.\n",
      "[I 2024-02-22 19:05:22,993] Trial 62 finished with value: 0.953125 and parameters: {'solver': 'lbfgs', 'penalty': 'l2', 'multi_class': 'ovr', 'C': 0.10434154385544177}. Best is trial 45 with value: 0.95625.\n",
      "[I 2024-02-22 19:05:24,647] Trial 63 finished with value: 0.95 and parameters: {'solver': 'lbfgs', 'penalty': 'l2', 'multi_class': 'ovr', 'C': 0.0010007187709781245}. Best is trial 45 with value: 0.95625.\n",
      "[I 2024-02-22 19:05:38,495] Trial 64 finished with value: 0.953125 and parameters: {'solver': 'newton-cg', 'penalty': 'l2', 'multi_class': 'ovr', 'C': 0.004241341019842257}. Best is trial 45 with value: 0.95625.\n",
      "[I 2024-02-22 19:05:40,210] Trial 65 finished with value: 0.953125 and parameters: {'solver': 'lbfgs', 'penalty': 'l2', 'multi_class': 'ovr', 'C': 0.21222137265033658}. Best is trial 45 with value: 0.95625.\n",
      "[I 2024-02-22 19:05:53,512] Trial 66 finished with value: 0.953125 and parameters: {'solver': 'newton-cg', 'penalty': 'l2', 'multi_class': 'ovr', 'C': 0.0017696413049403453}. Best is trial 45 with value: 0.95625.\n",
      "[I 2024-02-22 19:06:07,525] Trial 67 finished with value: 0.953125 and parameters: {'solver': 'newton-cg', 'penalty': 'l2', 'multi_class': 'ovr', 'C': 0.0060967920474394215}. Best is trial 45 with value: 0.95625.\n",
      "[I 2024-02-22 19:06:08,761] Trial 68 finished with value: 0.79375 and parameters: {'solver': 'saga', 'penalty': 'l2', 'multi_class': 'ovr', 'C': 0.048435413374559894}. Best is trial 45 with value: 0.95625.\n",
      "[I 2024-02-22 19:06:10,462] Trial 69 finished with value: 0.953125 and parameters: {'solver': 'lbfgs', 'penalty': 'l2', 'multi_class': 'ovr', 'C': 0.00304044209010655}. Best is trial 45 with value: 0.95625.\n",
      "[I 2024-02-22 19:06:23,862] Trial 70 finished with value: 0.95 and parameters: {'solver': 'newton-cg', 'penalty': 'l2', 'multi_class': 'ovr', 'C': 0.010216913998660506}. Best is trial 45 with value: 0.95625.\n",
      "[I 2024-02-22 19:06:36,012] Trial 71 finished with value: 0.953125 and parameters: {'solver': 'newton-cg', 'penalty': 'l2', 'multi_class': 'ovr', 'C': 0.08314422209674012}. Best is trial 45 with value: 0.95625.\n",
      "[I 2024-02-22 19:06:47,612] Trial 72 finished with value: 0.94375 and parameters: {'solver': 'newton-cg', 'penalty': 'l2', 'multi_class': 'ovr', 'C': 0.3023486155721125}. Best is trial 45 with value: 0.95625.\n",
      "[I 2024-02-22 19:06:59,352] Trial 73 finished with value: 0.953125 and parameters: {'solver': 'newton-cg', 'penalty': 'l2', 'multi_class': 'ovr', 'C': 0.14427863339610109}. Best is trial 45 with value: 0.95625.\n",
      "[I 2024-02-22 19:07:09,989] Trial 74 finished with value: 0.940625 and parameters: {'solver': 'newton-cg', 'penalty': 'l2', 'multi_class': 'ovr', 'C': 0.8931053788117728}. Best is trial 45 with value: 0.95625.\n",
      "[I 2024-02-22 19:07:22,624] Trial 75 finished with value: 0.946875 and parameters: {'solver': 'newton-cg', 'penalty': 'l2', 'multi_class': 'ovr', 'C': 0.06679735121692365}. Best is trial 45 with value: 0.95625.\n",
      "[I 2024-02-22 19:07:35,397] Trial 76 finished with value: 0.953125 and parameters: {'solver': 'newton-cg', 'penalty': 'l2', 'multi_class': 'ovr', 'C': 0.02825759585209302}. Best is trial 45 with value: 0.95625.\n",
      "[I 2024-02-22 19:07:47,498] Trial 77 finished with value: 0.846875 and parameters: {'solver': 'liblinear', 'penalty': 'l2', 'multi_class': 'ovr', 'C': 0.01878875523235457}. Best is trial 45 with value: 0.95625.\n",
      "[I 2024-02-22 19:07:49,189] Trial 78 finished with value: 0.953125 and parameters: {'solver': 'lbfgs', 'penalty': 'l2', 'multi_class': 'ovr', 'C': 0.001446035828437629}. Best is trial 45 with value: 0.95625.\n",
      "[I 2024-02-22 19:08:02,339] Trial 79 finished with value: 0.95 and parameters: {'solver': 'newton-cg', 'penalty': 'l2', 'multi_class': 'ovr', 'C': 0.013397282200584283}. Best is trial 45 with value: 0.95625.\n",
      "[I 2024-02-22 19:08:03,558] Trial 80 finished with value: 0.79375 and parameters: {'solver': 'saga', 'penalty': 'l2', 'multi_class': 'ovr', 'C': 0.14276129064661522}. Best is trial 45 with value: 0.95625.\n",
      "[I 2024-02-22 19:08:17,342] Trial 81 finished with value: 0.953125 and parameters: {'solver': 'newton-cg', 'penalty': 'l2', 'multi_class': 'ovr', 'C': 0.002845796915269309}. Best is trial 45 with value: 0.95625.\n",
      "[I 2024-02-22 19:08:30,654] Trial 82 finished with value: 0.953125 and parameters: {'solver': 'newton-cg', 'penalty': 'l2', 'multi_class': 'ovr', 'C': 0.006660045484199843}. Best is trial 45 with value: 0.95625.\n",
      "[I 2024-02-22 19:08:43,984] Trial 83 finished with value: 0.953125 and parameters: {'solver': 'newton-cg', 'penalty': 'l2', 'multi_class': 'ovr', 'C': 0.004652549127640878}. Best is trial 45 with value: 0.95625.\n",
      "[I 2024-02-22 19:08:57,811] Trial 84 finished with value: 0.953125 and parameters: {'solver': 'newton-cg', 'penalty': 'l2', 'multi_class': 'ovr', 'C': 0.002678276067985642}. Best is trial 45 with value: 0.95625.\n",
      "[I 2024-02-22 19:08:59,563] Trial 85 finished with value: 0.953125 and parameters: {'solver': 'lbfgs', 'penalty': 'l2', 'multi_class': 'ovr', 'C': 0.0014834656440416592}. Best is trial 45 with value: 0.95625.\n",
      "[I 2024-02-22 19:09:12,859] Trial 86 finished with value: 0.953125 and parameters: {'solver': 'newton-cg', 'penalty': 'l2', 'multi_class': 'ovr', 'C': 0.002278010247491549}. Best is trial 45 with value: 0.95625.\n",
      "[I 2024-02-22 19:09:24,061] Trial 87 finished with value: 0.940625 and parameters: {'solver': 'newton-cg', 'penalty': 'l2', 'multi_class': 'ovr', 'C': 0.6640763146118845}. Best is trial 45 with value: 0.95625.\n",
      "[I 2024-02-22 19:09:25,684] Trial 88 finished with value: 0.953125 and parameters: {'solver': 'lbfgs', 'penalty': 'l2', 'multi_class': 'ovr', 'C': 0.005212816429333146}. Best is trial 45 with value: 0.95625.\n",
      "[I 2024-02-22 19:09:38,621] Trial 89 finished with value: 0.953125 and parameters: {'solver': 'newton-cg', 'penalty': 'l2', 'multi_class': 'ovr', 'C': 0.008731184712771482}. Best is trial 45 with value: 0.95625.\n",
      "[I 2024-02-22 19:09:47,544] Trial 90 finished with value: 0.8125 and parameters: {'solver': 'liblinear', 'penalty': 'l2', 'multi_class': 'ovr', 'C': 0.003488405729645664}. Best is trial 45 with value: 0.95625.\n",
      "[I 2024-02-22 19:10:01,047] Trial 91 finished with value: 0.953125 and parameters: {'solver': 'newton-cg', 'penalty': 'l2', 'multi_class': 'ovr', 'C': 0.0012741972862682861}. Best is trial 45 with value: 0.95625.\n",
      "[I 2024-02-22 19:10:14,120] Trial 92 finished with value: 0.953125 and parameters: {'solver': 'newton-cg', 'penalty': 'l2', 'multi_class': 'ovr', 'C': 0.0018214157333768263}. Best is trial 45 with value: 0.95625.\n",
      "[I 2024-02-22 19:10:27,150] Trial 93 finished with value: 0.953125 and parameters: {'solver': 'newton-cg', 'penalty': 'l2', 'multi_class': 'ovr', 'C': 0.03703605986357067}. Best is trial 45 with value: 0.95625.\n",
      "[I 2024-02-22 19:10:40,309] Trial 94 finished with value: 0.953125 and parameters: {'solver': 'newton-cg', 'penalty': 'l2', 'multi_class': 'ovr', 'C': 0.0010201270330840084}. Best is trial 45 with value: 0.95625.\n",
      "[I 2024-02-22 19:10:41,963] Trial 95 finished with value: 0.953125 and parameters: {'solver': 'lbfgs', 'penalty': 'l2', 'multi_class': 'ovr', 'C': 0.0037377878884306223}. Best is trial 45 with value: 0.95625.\n",
      "[I 2024-02-22 19:10:55,230] Trial 96 finished with value: 0.953125 and parameters: {'solver': 'newton-cg', 'penalty': 'l2', 'multi_class': 'ovr', 'C': 0.007805442119901693}. Best is trial 45 with value: 0.95625.\n",
      "[I 2024-02-22 19:10:56,927] Trial 97 finished with value: 0.953125 and parameters: {'solver': 'lbfgs', 'penalty': 'l2', 'multi_class': 'ovr', 'C': 0.016229160034241068}. Best is trial 45 with value: 0.95625.\n",
      "[I 2024-02-22 19:11:10,669] Trial 98 finished with value: 0.953125 and parameters: {'solver': 'newton-cg', 'penalty': 'l2', 'multi_class': 'ovr', 'C': 0.00136137738231977}. Best is trial 45 with value: 0.95625.\n",
      "[I 2024-02-22 19:11:11,908] Trial 99 finished with value: 0.79375 and parameters: {'solver': 'saga', 'penalty': 'l2', 'multi_class': 'ovr', 'C': 0.0023455724432471323}. Best is trial 45 with value: 0.95625.\n"
     ]
    },
    {
     "name": "stdout",
     "output_type": "stream",
     "text": [
      "Best params found : {'solver': 'lbfgs', 'penalty': 'l2', 'multi_class': 'ovr', 'C': 0.018671802271092063}\n",
      "accuracy: 1.0\n",
      "recall: 1.0\n",
      "precision: 1.0\n",
      "f1-score: 1.0\n",
      "roc_auc:  1.0\n"
     ]
    }
   ],
   "source": [
    "study = optuna.create_study(direction = 'maximize')\n",
    "study.optimize(objective, n_trials = 100)\n",
    "best_params = study.best_params\n",
    "print(\"Best params found :\", best_params)\n",
    "\n",
    "final_model = LogisticRegression(**best_params)\n",
    "final_model.fit(X_train_reduced, y_train)\n",
    "y_pred = final_model.predict(X_test_reduced)\n",
    "prediction_results['logistic regression'] = y_pred\n",
    "\n",
    "accuracy = accuracy_score(y_test, y_pred)\n",
    "precision = precision_score(y_test, y_pred, average='macro')\n",
    "recall = recall_score(y_test, y_pred, average='macro')\n",
    "f1 = f1_score(y_test, y_pred, average='macro')\n",
    "\n",
    "# One-hot encoding for probability calculation (adapt if necessary)\n",
    "y_test_onehot = pd.get_dummies(y_test, prefix='label_')  # Assuming 'label_' prefix for clarity\n",
    "y_pred_onehot = pd.get_dummies(y_pred, prefix='label_')\n",
    "\n",
    "# ROC AUC score with multiclass handling\n",
    "roc_auc_macro = roc_auc_score(y_test_onehot, y_pred_onehot, average='macro', multi_class='ovo')  # Specify 'ovo' or 'ovr'\n",
    "\n",
    "print(\"accuracy:\", accuracy)\n",
    "print(\"recall:\", recall)\n",
    "print(\"precision:\", precision)\n",
    "print(\"f1-score:\", f1)\n",
    "print('roc_auc: ', roc_auc_macro)"
   ]
  },
  {
   "cell_type": "code",
   "execution_count": 50,
   "id": "05c6b379",
   "metadata": {
    "execution": {
     "iopub.execute_input": "2024-02-22T19:11:13.790156Z",
     "iopub.status.busy": "2024-02-22T19:11:13.789707Z",
     "iopub.status.idle": "2024-02-22T19:11:13.794964Z",
     "shell.execute_reply": "2024-02-22T19:11:13.793662Z"
    },
    "id": "wNaS-Sh8Zocc",
    "papermill": {
     "duration": 0.138385,
     "end_time": "2024-02-22T19:11:13.797406",
     "exception": false,
     "start_time": "2024-02-22T19:11:13.659021",
     "status": "completed"
    },
    "tags": []
   },
   "outputs": [],
   "source": [
    "# lr = LogisticRegression(multi_class='ovr', solver='liblinear')\n",
    "# lr.fit(X_train_reduced, y_train)\n",
    "# y_pred = lr.predict(X_test_reduced)"
   ]
  },
  {
   "cell_type": "markdown",
   "id": "d01dee9d",
   "metadata": {
    "id": "yAP5ojqfZocc",
    "papermill": {
     "duration": 0.13002,
     "end_time": "2024-02-22T19:11:14.058217",
     "exception": false,
     "start_time": "2024-02-22T19:11:13.928197",
     "status": "completed"
    },
    "tags": []
   },
   "source": [
    "## KNN Classifier"
   ]
  },
  {
   "cell_type": "markdown",
   "id": "0a27f09b",
   "metadata": {
    "id": "6ub3PNZVZocd",
    "papermill": {
     "duration": 0.129123,
     "end_time": "2024-02-22T19:11:14.316060",
     "exception": false,
     "start_time": "2024-02-22T19:11:14.186937",
     "status": "completed"
    },
    "tags": []
   },
   "source": [
    "**Normal**"
   ]
  },
  {
   "cell_type": "code",
   "execution_count": 51,
   "id": "85b6052d",
   "metadata": {
    "execution": {
     "iopub.execute_input": "2024-02-22T19:11:14.575210Z",
     "iopub.status.busy": "2024-02-22T19:11:14.574439Z",
     "iopub.status.idle": "2024-02-22T19:11:14.709961Z",
     "shell.execute_reply": "2024-02-22T19:11:14.709116Z"
    },
    "id": "soJbwwpvZocd",
    "outputId": "d155e068-8839-430a-f5a0-31b7340f6c2e",
    "papermill": {
     "duration": 0.268271,
     "end_time": "2024-02-22T19:11:14.712459",
     "exception": false,
     "start_time": "2024-02-22T19:11:14.444188",
     "status": "completed"
    },
    "tags": []
   },
   "outputs": [
    {
     "name": "stdout",
     "output_type": "stream",
     "text": [
      "accuracy: 0.9125\n",
      "recall: 0.9375\n",
      "precision: 0.9143518518518517\n",
      "f1-score: 0.9068783068783068\n",
      "roc_auc:  0.5771545864579081\n"
     ]
    }
   ],
   "source": [
    "from sklearn.neighbors import KNeighborsClassifier\n",
    "\n",
    "knn = KNeighborsClassifier()\n",
    "knn.fit(X_train_reduced, y_train)\n",
    "y_pred = knn.predict(X_test_reduced)\n",
    "\n",
    "accuracy = accuracy_score(y_test, y_pred)\n",
    "precision = precision_score(y_test, y_pred, average='macro')\n",
    "recall = recall_score(y_test, y_pred, average='macro')\n",
    "f1 = f1_score(y_test, y_pred, average='macro')\n",
    "\n",
    "# One-hot encoding for probability calculation (adapt if necessary)\n",
    "y_test_onehot = pd.get_dummies(y_test, prefix='label_')  # Assuming 'label_' prefix for clarity\n",
    "y_pred_onehot = pd.get_dummies(y_pred, prefix='label_')\n",
    "\n",
    "# ROC AUC score with multiclass handling\n",
    "roc_auc_macro = roc_auc_score(y_test_onehot, y_pred_onehot, average='macro', multi_class='ovo')  # Specify 'ovo' or 'ovr'\n",
    "\n",
    "print(\"accuracy:\", accuracy)\n",
    "print(\"recall:\", recall)\n",
    "print(\"precision:\", precision)\n",
    "print(\"f1-score:\", f1)\n",
    "print('roc_auc: ', roc_auc_macro)\n"
   ]
  },
  {
   "cell_type": "markdown",
   "id": "02e68d9f",
   "metadata": {
    "id": "P2h7U1CgZocd",
    "papermill": {
     "duration": 0.130601,
     "end_time": "2024-02-22T19:11:14.972446",
     "exception": false,
     "start_time": "2024-02-22T19:11:14.841845",
     "status": "completed"
    },
    "tags": []
   },
   "source": [
    "**Tunning**"
   ]
  },
  {
   "cell_type": "code",
   "execution_count": 52,
   "id": "613198dd",
   "metadata": {
    "execution": {
     "iopub.execute_input": "2024-02-22T19:11:15.236243Z",
     "iopub.status.busy": "2024-02-22T19:11:15.235528Z",
     "iopub.status.idle": "2024-02-22T19:11:15.243028Z",
     "shell.execute_reply": "2024-02-22T19:11:15.242221Z"
    },
    "id": "Lnd3OeCmZoce",
    "papermill": {
     "duration": 0.139634,
     "end_time": "2024-02-22T19:11:15.245208",
     "exception": false,
     "start_time": "2024-02-22T19:11:15.105574",
     "status": "completed"
    },
    "tags": []
   },
   "outputs": [],
   "source": [
    "import optuna\n",
    "from sklearn.model_selection import cross_val_score\n",
    "import warnings\n",
    "warnings.filterwarnings('ignore')\n",
    "\n",
    "\n",
    "def objective(trial):\n",
    "    hyperparams = {\n",
    "        'n_neighbors': trial.suggest_int(\"n_neighbors\", 5, 100),\n",
    "        'weights': trial.suggest_categorical(\"weights\", [\"uniform\", \"distance\"]),\n",
    "        'metric': trial.suggest_categorical(\"metric\", [\"euclidean\", \"manhattan\", \"minkowski\"]),\n",
    "        'algorithm': trial.suggest_categorical('algorithm', ['auto', 'ball_tree', 'kd_tree', 'brute']),\n",
    "        'n_jobs': -1\n",
    "    }\n",
    "\n",
    "    # Create KNN model with tuned hyperparameters\n",
    "    model = KNeighborsClassifier(**hyperparams)\n",
    "    scores = cross_val_score(model, X_train_reduced,\n",
    "                             y_train, cv=kf, scoring='accuracy')\n",
    "    return np.mean(scores)"
   ]
  },
  {
   "cell_type": "code",
   "execution_count": 53,
   "id": "cb93f1ce",
   "metadata": {
    "execution": {
     "iopub.execute_input": "2024-02-22T19:11:15.504196Z",
     "iopub.status.busy": "2024-02-22T19:11:15.503418Z",
     "iopub.status.idle": "2024-02-22T19:11:21.729784Z",
     "shell.execute_reply": "2024-02-22T19:11:21.728976Z"
    },
    "id": "WRBW9-_0Zoce",
    "outputId": "2acb3c19-100b-4a0d-925f-059376bac94b",
    "papermill": {
     "duration": 6.359063,
     "end_time": "2024-02-22T19:11:21.732514",
     "exception": false,
     "start_time": "2024-02-22T19:11:15.373451",
     "status": "completed"
    },
    "tags": []
   },
   "outputs": [
    {
     "name": "stderr",
     "output_type": "stream",
     "text": [
      "[I 2024-02-22 19:11:15,510] A new study created in memory with name: no-name-bb78bbfc-a0dd-4a61-8cb0-206cb4d00756\n",
      "[I 2024-02-22 19:11:15,623] Trial 0 finished with value: 0.065625 and parameters: {'n_neighbors': 89, 'weights': 'uniform', 'metric': 'euclidean', 'algorithm': 'ball_tree'}. Best is trial 0 with value: 0.065625.\n",
      "[I 2024-02-22 19:11:15,722] Trial 1 finished with value: 0.625 and parameters: {'n_neighbors': 48, 'weights': 'distance', 'metric': 'minkowski', 'algorithm': 'ball_tree'}. Best is trial 1 with value: 0.625.\n",
      "[I 2024-02-22 19:11:15,834] Trial 2 finished with value: 0.184375 and parameters: {'n_neighbors': 46, 'weights': 'uniform', 'metric': 'euclidean', 'algorithm': 'kd_tree'}. Best is trial 1 with value: 0.625.\n",
      "[I 2024-02-22 19:11:15,934] Trial 3 finished with value: 0.60625 and parameters: {'n_neighbors': 62, 'weights': 'distance', 'metric': 'minkowski', 'algorithm': 'ball_tree'}. Best is trial 1 with value: 0.625.\n",
      "[I 2024-02-22 19:11:15,966] Trial 4 finished with value: 0.70625 and parameters: {'n_neighbors': 18, 'weights': 'distance', 'metric': 'euclidean', 'algorithm': 'brute'}. Best is trial 4 with value: 0.70625.\n",
      "[I 2024-02-22 19:11:16,022] Trial 5 finished with value: 0.10625 and parameters: {'n_neighbors': 62, 'weights': 'uniform', 'metric': 'minkowski', 'algorithm': 'brute'}. Best is trial 4 with value: 0.70625.\n",
      "[I 2024-02-22 19:11:16,053] Trial 6 finished with value: 0.7875 and parameters: {'n_neighbors': 8, 'weights': 'distance', 'metric': 'minkowski', 'algorithm': 'auto'}. Best is trial 6 with value: 0.7875.\n",
      "[I 2024-02-22 19:11:16,090] Trial 7 finished with value: 0.646875 and parameters: {'n_neighbors': 26, 'weights': 'distance', 'metric': 'euclidean', 'algorithm': 'auto'}. Best is trial 6 with value: 0.7875.\n",
      "[I 2024-02-22 19:11:16,193] Trial 8 finished with value: 0.571875 and parameters: {'n_neighbors': 89, 'weights': 'distance', 'metric': 'euclidean', 'algorithm': 'ball_tree'}. Best is trial 6 with value: 0.7875.\n",
      "[I 2024-02-22 19:11:16,308] Trial 9 finished with value: 0.58125 and parameters: {'n_neighbors': 14, 'weights': 'uniform', 'metric': 'minkowski', 'algorithm': 'ball_tree'}. Best is trial 6 with value: 0.7875.\n",
      "[I 2024-02-22 19:11:16,357] Trial 10 finished with value: 0.796875 and parameters: {'n_neighbors': 7, 'weights': 'distance', 'metric': 'manhattan', 'algorithm': 'auto'}. Best is trial 10 with value: 0.796875.\n",
      "[I 2024-02-22 19:11:16,405] Trial 11 finished with value: 0.846875 and parameters: {'n_neighbors': 5, 'weights': 'distance', 'metric': 'manhattan', 'algorithm': 'auto'}. Best is trial 11 with value: 0.846875.\n",
      "[I 2024-02-22 19:11:16,456] Trial 12 finished with value: 0.646875 and parameters: {'n_neighbors': 31, 'weights': 'distance', 'metric': 'manhattan', 'algorithm': 'auto'}. Best is trial 11 with value: 0.846875.\n",
      "[I 2024-02-22 19:11:16,501] Trial 13 finished with value: 0.846875 and parameters: {'n_neighbors': 5, 'weights': 'distance', 'metric': 'manhattan', 'algorithm': 'auto'}. Best is trial 11 with value: 0.846875.\n",
      "[I 2024-02-22 19:11:16,553] Trial 14 finished with value: 0.6375 and parameters: {'n_neighbors': 34, 'weights': 'distance', 'metric': 'manhattan', 'algorithm': 'auto'}. Best is trial 11 with value: 0.846875.\n",
      "[I 2024-02-22 19:11:16,664] Trial 15 finished with value: 0.68125 and parameters: {'n_neighbors': 22, 'weights': 'distance', 'metric': 'manhattan', 'algorithm': 'kd_tree'}. Best is trial 11 with value: 0.846875.\n",
      "[I 2024-02-22 19:11:16,716] Trial 16 finished with value: 0.621875 and parameters: {'n_neighbors': 38, 'weights': 'distance', 'metric': 'manhattan', 'algorithm': 'auto'}. Best is trial 11 with value: 0.846875.\n",
      "[I 2024-02-22 19:11:16,763] Trial 17 finished with value: 0.815625 and parameters: {'n_neighbors': 6, 'weights': 'distance', 'metric': 'manhattan', 'algorithm': 'auto'}. Best is trial 11 with value: 0.846875.\n",
      "[I 2024-02-22 19:11:16,835] Trial 18 finished with value: 0.109375 and parameters: {'n_neighbors': 73, 'weights': 'uniform', 'metric': 'manhattan', 'algorithm': 'auto'}. Best is trial 11 with value: 0.846875.\n",
      "[I 2024-02-22 19:11:16,885] Trial 19 finished with value: 0.7125 and parameters: {'n_neighbors': 17, 'weights': 'distance', 'metric': 'manhattan', 'algorithm': 'brute'}. Best is trial 11 with value: 0.846875.\n",
      "[I 2024-02-22 19:11:17,001] Trial 20 finished with value: 0.54375 and parameters: {'n_neighbors': 77, 'weights': 'distance', 'metric': 'manhattan', 'algorithm': 'kd_tree'}. Best is trial 11 with value: 0.846875.\n",
      "[I 2024-02-22 19:11:17,048] Trial 21 finished with value: 0.815625 and parameters: {'n_neighbors': 6, 'weights': 'distance', 'metric': 'manhattan', 'algorithm': 'auto'}. Best is trial 11 with value: 0.846875.\n",
      "[I 2024-02-22 19:11:17,100] Trial 22 finished with value: 0.846875 and parameters: {'n_neighbors': 5, 'weights': 'distance', 'metric': 'manhattan', 'algorithm': 'auto'}. Best is trial 11 with value: 0.846875.\n",
      "[I 2024-02-22 19:11:17,151] Trial 23 finished with value: 0.675 and parameters: {'n_neighbors': 24, 'weights': 'distance', 'metric': 'manhattan', 'algorithm': 'auto'}. Best is trial 11 with value: 0.846875.\n",
      "[I 2024-02-22 19:11:17,199] Trial 24 finished with value: 0.715625 and parameters: {'n_neighbors': 13, 'weights': 'distance', 'metric': 'manhattan', 'algorithm': 'auto'}. Best is trial 11 with value: 0.846875.\n",
      "[I 2024-02-22 19:11:17,248] Trial 25 finished with value: 0.725 and parameters: {'n_neighbors': 14, 'weights': 'distance', 'metric': 'manhattan', 'algorithm': 'auto'}. Best is trial 11 with value: 0.846875.\n",
      "[I 2024-02-22 19:11:17,316] Trial 26 finished with value: 0.31875 and parameters: {'n_neighbors': 38, 'weights': 'uniform', 'metric': 'manhattan', 'algorithm': 'auto'}. Best is trial 11 with value: 0.846875.\n",
      "[I 2024-02-22 19:11:17,367] Trial 27 finished with value: 0.659375 and parameters: {'n_neighbors': 27, 'weights': 'distance', 'metric': 'manhattan', 'algorithm': 'auto'}. Best is trial 11 with value: 0.846875.\n",
      "[I 2024-02-22 19:11:17,417] Trial 28 finished with value: 0.690625 and parameters: {'n_neighbors': 20, 'weights': 'distance', 'metric': 'manhattan', 'algorithm': 'brute'}. Best is trial 11 with value: 0.846875.\n",
      "[I 2024-02-22 19:11:17,548] Trial 29 finished with value: 0.0875 and parameters: {'n_neighbors': 94, 'weights': 'uniform', 'metric': 'manhattan', 'algorithm': 'kd_tree'}. Best is trial 11 with value: 0.846875.\n",
      "[I 2024-02-22 19:11:17,591] Trial 30 finished with value: 0.85625 and parameters: {'n_neighbors': 5, 'weights': 'distance', 'metric': 'euclidean', 'algorithm': 'auto'}. Best is trial 30 with value: 0.85625.\n",
      "[I 2024-02-22 19:11:17,634] Trial 31 finished with value: 0.85625 and parameters: {'n_neighbors': 5, 'weights': 'distance', 'metric': 'euclidean', 'algorithm': 'auto'}. Best is trial 30 with value: 0.85625.\n",
      "[I 2024-02-22 19:11:17,679] Trial 32 finished with value: 0.765625 and parameters: {'n_neighbors': 12, 'weights': 'distance', 'metric': 'euclidean', 'algorithm': 'auto'}. Best is trial 30 with value: 0.85625.\n",
      "[I 2024-02-22 19:11:17,724] Trial 33 finished with value: 0.76875 and parameters: {'n_neighbors': 11, 'weights': 'distance', 'metric': 'euclidean', 'algorithm': 'auto'}. Best is trial 30 with value: 0.85625.\n",
      "[I 2024-02-22 19:11:17,838] Trial 34 finished with value: 0.625 and parameters: {'n_neighbors': 46, 'weights': 'distance', 'metric': 'euclidean', 'algorithm': 'ball_tree'}. Best is trial 30 with value: 0.85625.\n",
      "[I 2024-02-22 19:11:17,894] Trial 35 finished with value: 0.69375 and parameters: {'n_neighbors': 19, 'weights': 'distance', 'metric': 'euclidean', 'algorithm': 'auto'}. Best is trial 30 with value: 0.85625.\n",
      "[I 2024-02-22 19:11:18,022] Trial 36 finished with value: 0.13125 and parameters: {'n_neighbors': 57, 'weights': 'uniform', 'metric': 'euclidean', 'algorithm': 'kd_tree'}. Best is trial 30 with value: 0.85625.\n",
      "[I 2024-02-22 19:11:18,070] Trial 37 finished with value: 0.76875 and parameters: {'n_neighbors': 11, 'weights': 'distance', 'metric': 'euclidean', 'algorithm': 'brute'}. Best is trial 30 with value: 0.85625.\n",
      "[I 2024-02-22 19:11:18,116] Trial 38 finished with value: 0.85625 and parameters: {'n_neighbors': 5, 'weights': 'distance', 'metric': 'euclidean', 'algorithm': 'auto'}. Best is trial 30 with value: 0.85625.\n",
      "[I 2024-02-22 19:11:18,229] Trial 39 finished with value: 0.703125 and parameters: {'n_neighbors': 17, 'weights': 'distance', 'metric': 'euclidean', 'algorithm': 'ball_tree'}. Best is trial 30 with value: 0.85625.\n",
      "[I 2024-02-22 19:11:18,293] Trial 40 finished with value: 0.3375 and parameters: {'n_neighbors': 31, 'weights': 'uniform', 'metric': 'euclidean', 'algorithm': 'auto'}. Best is trial 30 with value: 0.85625.\n",
      "[I 2024-02-22 19:11:18,337] Trial 41 finished with value: 0.85625 and parameters: {'n_neighbors': 5, 'weights': 'distance', 'metric': 'euclidean', 'algorithm': 'auto'}. Best is trial 30 with value: 0.85625.\n",
      "[I 2024-02-22 19:11:18,385] Trial 42 finished with value: 0.765625 and parameters: {'n_neighbors': 12, 'weights': 'distance', 'metric': 'euclidean', 'algorithm': 'auto'}. Best is trial 30 with value: 0.85625.\n",
      "[I 2024-02-22 19:11:18,431] Trial 43 finished with value: 0.771875 and parameters: {'n_neighbors': 10, 'weights': 'distance', 'metric': 'euclidean', 'algorithm': 'auto'}. Best is trial 30 with value: 0.85625.\n",
      "[I 2024-02-22 19:11:18,476] Trial 44 finished with value: 0.85625 and parameters: {'n_neighbors': 5, 'weights': 'distance', 'metric': 'minkowski', 'algorithm': 'auto'}. Best is trial 30 with value: 0.85625.\n",
      "[I 2024-02-22 19:11:18,524] Trial 45 finished with value: 0.703125 and parameters: {'n_neighbors': 17, 'weights': 'distance', 'metric': 'minkowski', 'algorithm': 'auto'}. Best is trial 30 with value: 0.85625.\n",
      "[I 2024-02-22 19:11:18,636] Trial 46 finished with value: 0.784375 and parameters: {'n_neighbors': 9, 'weights': 'distance', 'metric': 'minkowski', 'algorithm': 'ball_tree'}. Best is trial 30 with value: 0.85625.\n",
      "[I 2024-02-22 19:11:18,685] Trial 47 finished with value: 0.65 and parameters: {'n_neighbors': 25, 'weights': 'distance', 'metric': 'minkowski', 'algorithm': 'auto'}. Best is trial 30 with value: 0.85625.\n",
      "[I 2024-02-22 19:11:18,732] Trial 48 finished with value: 0.7125 and parameters: {'n_neighbors': 16, 'weights': 'distance', 'metric': 'euclidean', 'algorithm': 'brute'}. Best is trial 30 with value: 0.85625.\n",
      "[I 2024-02-22 19:11:18,782] Trial 49 finished with value: 0.675 and parameters: {'n_neighbors': 21, 'weights': 'distance', 'metric': 'minkowski', 'algorithm': 'auto'}. Best is trial 30 with value: 0.85625.\n",
      "[I 2024-02-22 19:11:18,828] Trial 50 finished with value: 0.7875 and parameters: {'n_neighbors': 8, 'weights': 'distance', 'metric': 'euclidean', 'algorithm': 'auto'}. Best is trial 30 with value: 0.85625.\n",
      "[I 2024-02-22 19:11:18,875] Trial 51 finished with value: 0.85625 and parameters: {'n_neighbors': 5, 'weights': 'distance', 'metric': 'euclidean', 'algorithm': 'auto'}. Best is trial 30 with value: 0.85625.\n",
      "[I 2024-02-22 19:11:18,923] Trial 52 finished with value: 0.784375 and parameters: {'n_neighbors': 9, 'weights': 'distance', 'metric': 'euclidean', 'algorithm': 'auto'}. Best is trial 30 with value: 0.85625.\n",
      "[I 2024-02-22 19:11:18,968] Trial 53 finished with value: 0.85625 and parameters: {'n_neighbors': 5, 'weights': 'distance', 'metric': 'euclidean', 'algorithm': 'auto'}. Best is trial 30 with value: 0.85625.\n",
      "[I 2024-02-22 19:11:19,016] Trial 54 finished with value: 0.753125 and parameters: {'n_neighbors': 13, 'weights': 'distance', 'metric': 'euclidean', 'algorithm': 'auto'}. Best is trial 30 with value: 0.85625.\n",
      "[I 2024-02-22 19:11:19,076] Trial 55 finished with value: 0.85625 and parameters: {'n_neighbors': 5, 'weights': 'distance', 'metric': 'minkowski', 'algorithm': 'auto'}. Best is trial 30 with value: 0.85625.\n",
      "[I 2024-02-22 19:11:19,209] Trial 56 finished with value: 0.584375 and parameters: {'n_neighbors': 70, 'weights': 'distance', 'metric': 'euclidean', 'algorithm': 'kd_tree'}. Best is trial 30 with value: 0.85625.\n",
      "[I 2024-02-22 19:11:19,276] Trial 57 finished with value: 0.159375 and parameters: {'n_neighbors': 52, 'weights': 'uniform', 'metric': 'euclidean', 'algorithm': 'auto'}. Best is trial 30 with value: 0.85625.\n",
      "[I 2024-02-22 19:11:19,325] Trial 58 finished with value: 0.7875 and parameters: {'n_neighbors': 8, 'weights': 'distance', 'metric': 'euclidean', 'algorithm': 'auto'}. Best is trial 30 with value: 0.85625.\n",
      "[I 2024-02-22 19:11:19,372] Trial 59 finished with value: 0.725 and parameters: {'n_neighbors': 15, 'weights': 'distance', 'metric': 'minkowski', 'algorithm': 'auto'}. Best is trial 30 with value: 0.85625.\n",
      "[I 2024-02-22 19:11:19,488] Trial 60 finished with value: 0.571875 and parameters: {'n_neighbors': 85, 'weights': 'distance', 'metric': 'euclidean', 'algorithm': 'ball_tree'}. Best is trial 30 with value: 0.85625.\n",
      "[I 2024-02-22 19:11:19,533] Trial 61 finished with value: 0.85625 and parameters: {'n_neighbors': 5, 'weights': 'distance', 'metric': 'euclidean', 'algorithm': 'auto'}. Best is trial 30 with value: 0.85625.\n",
      "[I 2024-02-22 19:11:19,584] Trial 62 finished with value: 0.7875 and parameters: {'n_neighbors': 8, 'weights': 'distance', 'metric': 'euclidean', 'algorithm': 'auto'}. Best is trial 30 with value: 0.85625.\n",
      "[I 2024-02-22 19:11:19,631] Trial 63 finished with value: 0.771875 and parameters: {'n_neighbors': 10, 'weights': 'distance', 'metric': 'euclidean', 'algorithm': 'auto'}. Best is trial 30 with value: 0.85625.\n",
      "[I 2024-02-22 19:11:19,681] Trial 64 finished with value: 0.75 and parameters: {'n_neighbors': 14, 'weights': 'distance', 'metric': 'euclidean', 'algorithm': 'auto'}. Best is trial 30 with value: 0.85625.\n",
      "[I 2024-02-22 19:11:19,731] Trial 65 finished with value: 0.66875 and parameters: {'n_neighbors': 22, 'weights': 'distance', 'metric': 'euclidean', 'algorithm': 'auto'}. Best is trial 30 with value: 0.85625.\n",
      "[I 2024-02-22 19:11:19,777] Trial 66 finished with value: 0.85625 and parameters: {'n_neighbors': 5, 'weights': 'distance', 'metric': 'euclidean', 'algorithm': 'auto'}. Best is trial 30 with value: 0.85625.\n",
      "[I 2024-02-22 19:11:19,827] Trial 67 finished with value: 0.6375 and parameters: {'n_neighbors': 29, 'weights': 'distance', 'metric': 'minkowski', 'algorithm': 'brute'}. Best is trial 30 with value: 0.85625.\n",
      "[I 2024-02-22 19:11:19,893] Trial 68 finished with value: 0.675 and parameters: {'n_neighbors': 8, 'weights': 'uniform', 'metric': 'euclidean', 'algorithm': 'auto'}. Best is trial 30 with value: 0.85625.\n",
      "[I 2024-02-22 19:11:20,010] Trial 69 finished with value: 0.69375 and parameters: {'n_neighbors': 19, 'weights': 'distance', 'metric': 'euclidean', 'algorithm': 'kd_tree'}. Best is trial 30 with value: 0.85625.\n",
      "[I 2024-02-22 19:11:20,058] Trial 70 finished with value: 0.725 and parameters: {'n_neighbors': 15, 'weights': 'distance', 'metric': 'euclidean', 'algorithm': 'auto'}. Best is trial 30 with value: 0.85625.\n",
      "[I 2024-02-22 19:11:20,104] Trial 71 finished with value: 0.828125 and parameters: {'n_neighbors': 6, 'weights': 'distance', 'metric': 'minkowski', 'algorithm': 'auto'}. Best is trial 30 with value: 0.85625.\n",
      "[I 2024-02-22 19:11:20,148] Trial 72 finished with value: 0.85625 and parameters: {'n_neighbors': 5, 'weights': 'distance', 'metric': 'minkowski', 'algorithm': 'auto'}. Best is trial 30 with value: 0.85625.\n",
      "[I 2024-02-22 19:11:20,195] Trial 73 finished with value: 0.76875 and parameters: {'n_neighbors': 11, 'weights': 'distance', 'metric': 'minkowski', 'algorithm': 'auto'}. Best is trial 30 with value: 0.85625.\n",
      "[I 2024-02-22 19:11:20,240] Trial 74 finished with value: 0.85625 and parameters: {'n_neighbors': 5, 'weights': 'distance', 'metric': 'minkowski', 'algorithm': 'auto'}. Best is trial 30 with value: 0.85625.\n",
      "[I 2024-02-22 19:11:20,287] Trial 75 finished with value: 0.753125 and parameters: {'n_neighbors': 13, 'weights': 'distance', 'metric': 'minkowski', 'algorithm': 'auto'}. Best is trial 30 with value: 0.85625.\n",
      "[I 2024-02-22 19:11:20,333] Trial 76 finished with value: 0.7875 and parameters: {'n_neighbors': 8, 'weights': 'distance', 'metric': 'euclidean', 'algorithm': 'auto'}. Best is trial 30 with value: 0.85625.\n",
      "[I 2024-02-22 19:11:20,390] Trial 77 finished with value: 0.565625 and parameters: {'n_neighbors': 100, 'weights': 'distance', 'metric': 'minkowski', 'algorithm': 'auto'}. Best is trial 30 with value: 0.85625.\n",
      "[I 2024-02-22 19:11:20,436] Trial 78 finished with value: 0.76875 and parameters: {'n_neighbors': 11, 'weights': 'distance', 'metric': 'euclidean', 'algorithm': 'auto'}. Best is trial 30 with value: 0.85625.\n",
      "[I 2024-02-22 19:11:20,563] Trial 79 finished with value: 0.5375 and parameters: {'n_neighbors': 17, 'weights': 'uniform', 'metric': 'euclidean', 'algorithm': 'ball_tree'}. Best is trial 30 with value: 0.85625.\n",
      "[I 2024-02-22 19:11:20,615] Trial 80 finished with value: 0.7875 and parameters: {'n_neighbors': 8, 'weights': 'distance', 'metric': 'euclidean', 'algorithm': 'brute'}. Best is trial 30 with value: 0.85625.\n",
      "[I 2024-02-22 19:11:20,660] Trial 81 finished with value: 0.828125 and parameters: {'n_neighbors': 6, 'weights': 'distance', 'metric': 'euclidean', 'algorithm': 'auto'}. Best is trial 30 with value: 0.85625.\n",
      "[I 2024-02-22 19:11:20,706] Trial 82 finished with value: 0.85625 and parameters: {'n_neighbors': 5, 'weights': 'distance', 'metric': 'euclidean', 'algorithm': 'auto'}. Best is trial 30 with value: 0.85625.\n",
      "[I 2024-02-22 19:11:20,753] Trial 83 finished with value: 0.771875 and parameters: {'n_neighbors': 10, 'weights': 'distance', 'metric': 'euclidean', 'algorithm': 'auto'}. Best is trial 30 with value: 0.85625.\n",
      "[I 2024-02-22 19:11:20,800] Trial 84 finished with value: 0.753125 and parameters: {'n_neighbors': 13, 'weights': 'distance', 'metric': 'euclidean', 'algorithm': 'auto'}. Best is trial 30 with value: 0.85625.\n",
      "[I 2024-02-22 19:11:20,848] Trial 85 finished with value: 0.8125 and parameters: {'n_neighbors': 7, 'weights': 'distance', 'metric': 'euclidean', 'algorithm': 'auto'}. Best is trial 30 with value: 0.85625.\n",
      "[I 2024-02-22 19:11:20,898] Trial 86 finished with value: 0.771875 and parameters: {'n_neighbors': 10, 'weights': 'distance', 'metric': 'minkowski', 'algorithm': 'auto'}. Best is trial 30 with value: 0.85625.\n",
      "[I 2024-02-22 19:11:21,010] Trial 87 finished with value: 0.85625 and parameters: {'n_neighbors': 5, 'weights': 'distance', 'metric': 'euclidean', 'algorithm': 'kd_tree'}. Best is trial 30 with value: 0.85625.\n",
      "[I 2024-02-22 19:11:21,059] Trial 88 finished with value: 0.725 and parameters: {'n_neighbors': 15, 'weights': 'distance', 'metric': 'euclidean', 'algorithm': 'auto'}. Best is trial 30 with value: 0.85625.\n",
      "[I 2024-02-22 19:11:21,109] Trial 89 finished with value: 0.753125 and parameters: {'n_neighbors': 13, 'weights': 'distance', 'metric': 'minkowski', 'algorithm': 'auto'}. Best is trial 30 with value: 0.85625.\n",
      "[I 2024-02-22 19:11:21,163] Trial 90 finished with value: 0.60625 and parameters: {'n_neighbors': 62, 'weights': 'distance', 'metric': 'euclidean', 'algorithm': 'auto'}. Best is trial 30 with value: 0.85625.\n",
      "[I 2024-02-22 19:11:21,209] Trial 91 finished with value: 0.85625 and parameters: {'n_neighbors': 5, 'weights': 'distance', 'metric': 'euclidean', 'algorithm': 'auto'}. Best is trial 30 with value: 0.85625.\n",
      "[I 2024-02-22 19:11:21,256] Trial 92 finished with value: 0.8125 and parameters: {'n_neighbors': 7, 'weights': 'distance', 'metric': 'euclidean', 'algorithm': 'auto'}. Best is trial 30 with value: 0.85625.\n",
      "[I 2024-02-22 19:11:21,303] Trial 93 finished with value: 0.771875 and parameters: {'n_neighbors': 10, 'weights': 'distance', 'metric': 'euclidean', 'algorithm': 'auto'}. Best is trial 30 with value: 0.85625.\n",
      "[I 2024-02-22 19:11:21,349] Trial 94 finished with value: 0.8125 and parameters: {'n_neighbors': 7, 'weights': 'distance', 'metric': 'euclidean', 'algorithm': 'auto'}. Best is trial 30 with value: 0.85625.\n",
      "[I 2024-02-22 19:11:21,402] Trial 95 finished with value: 0.628125 and parameters: {'n_neighbors': 45, 'weights': 'distance', 'metric': 'euclidean', 'algorithm': 'auto'}. Best is trial 30 with value: 0.85625.\n",
      "[I 2024-02-22 19:11:21,466] Trial 96 finished with value: 0.596875 and parameters: {'n_neighbors': 12, 'weights': 'uniform', 'metric': 'euclidean', 'algorithm': 'auto'}. Best is trial 30 with value: 0.85625.\n",
      "[I 2024-02-22 19:11:21,580] Trial 97 finished with value: 0.784375 and parameters: {'n_neighbors': 9, 'weights': 'distance', 'metric': 'euclidean', 'algorithm': 'ball_tree'}. Best is trial 30 with value: 0.85625.\n",
      "[I 2024-02-22 19:11:21,635] Trial 98 finished with value: 0.70625 and parameters: {'n_neighbors': 18, 'weights': 'distance', 'metric': 'euclidean', 'algorithm': 'auto'}. Best is trial 30 with value: 0.85625.\n",
      "[I 2024-02-22 19:11:21,683] Trial 99 finished with value: 0.85625 and parameters: {'n_neighbors': 5, 'weights': 'distance', 'metric': 'minkowski', 'algorithm': 'brute'}. Best is trial 30 with value: 0.85625.\n"
     ]
    },
    {
     "name": "stdout",
     "output_type": "stream",
     "text": [
      "Best params found : {'n_neighbors': 5, 'weights': 'distance', 'metric': 'euclidean', 'algorithm': 'auto'}\n",
      "accuracy: 0.9875\n",
      "recall: 0.9930555555555556\n",
      "precision: 0.9930555555555556\n",
      "f1-score: 0.9920634920634921\n",
      "roc_auc:  0.9963474025974026\n"
     ]
    }
   ],
   "source": [
    "study = optuna.create_study(direction = 'maximize')\n",
    "study.optimize(objective, n_trials = 100)\n",
    "best_params = study.best_params\n",
    "print(\"Best params found :\", best_params)\n",
    "\n",
    "final_model =KNeighborsClassifier(**best_params)\n",
    "final_model.fit(X_train_reduced, y_train)\n",
    "y_pred = final_model.predict(X_test_reduced)\n",
    "prediction_results['KNN'] = y_pred\n",
    "\n",
    "accuracy = accuracy_score(y_test, y_pred)\n",
    "precision = precision_score(y_test, y_pred, average='macro')\n",
    "recall = recall_score(y_test, y_pred, average='macro')\n",
    "f1 = f1_score(y_test, y_pred, average='macro')\n",
    "\n",
    "# One-hot encoding for probability calculation (adapt if necessary)\n",
    "y_test_onehot = pd.get_dummies(y_test, prefix='label_')  # Assuming 'label_' prefix for clarity\n",
    "y_pred_onehot = pd.get_dummies(y_pred, prefix='label_')\n",
    "\n",
    "# ROC AUC score with multiclass handling\n",
    "roc_auc_macro = roc_auc_score(y_test_onehot, y_pred_onehot, average='macro', multi_class='ovo')  # Specify 'ovo' or 'ovr'\n",
    "\n",
    "print(\"accuracy:\", accuracy)\n",
    "print(\"recall:\", recall)\n",
    "print(\"precision:\", precision)\n",
    "print(\"f1-score:\", f1)\n",
    "print('roc_auc: ', roc_auc_macro)"
   ]
  },
  {
   "cell_type": "markdown",
   "id": "19347ed4",
   "metadata": {
    "papermill": {
     "duration": 0.138403,
     "end_time": "2024-02-22T19:11:22.012296",
     "exception": false,
     "start_time": "2024-02-22T19:11:21.873893",
     "status": "completed"
    },
    "tags": []
   },
   "source": [
    "## Support Vector Machine "
   ]
  },
  {
   "cell_type": "markdown",
   "id": "c5db7f64",
   "metadata": {
    "papermill": {
     "duration": 0.13844,
     "end_time": "2024-02-22T19:11:22.292809",
     "exception": false,
     "start_time": "2024-02-22T19:11:22.154369",
     "status": "completed"
    },
    "tags": []
   },
   "source": [
    "**Normal**"
   ]
  },
  {
   "cell_type": "code",
   "execution_count": 54,
   "id": "b89ea5bd",
   "metadata": {
    "execution": {
     "iopub.execute_input": "2024-02-22T19:11:22.571557Z",
     "iopub.status.busy": "2024-02-22T19:11:22.571168Z",
     "iopub.status.idle": "2024-02-22T19:11:22.633211Z",
     "shell.execute_reply": "2024-02-22T19:11:22.631851Z"
    },
    "papermill": {
     "duration": 0.2047,
     "end_time": "2024-02-22T19:11:22.635825",
     "exception": false,
     "start_time": "2024-02-22T19:11:22.431125",
     "status": "completed"
    },
    "tags": []
   },
   "outputs": [
    {
     "name": "stdout",
     "output_type": "stream",
     "text": [
      "accuracy: 1.0\n",
      "recall: 1.0\n",
      "precision: 1.0\n",
      "f1-score: 1.0\n",
      "roc_auc:  1.0\n"
     ]
    }
   ],
   "source": [
    "from sklearn.svm import SVC\n",
    "\n",
    "svm = SVC(kernel='linear')\n",
    "svm.fit(X_train_reduced, y_train)\n",
    "y_pred = svm.predict(X_test_reduced)\n",
    "\n",
    "accuracy = accuracy_score(y_test, y_pred)\n",
    "precision = precision_score(y_test, y_pred, average='macro')\n",
    "recall = recall_score(y_test, y_pred, average='macro')\n",
    "f1 = f1_score(y_test, y_pred, average='macro')\n",
    "\n",
    "# One-hot encoding for probability calculation (adapt if necessary)\n",
    "# Assuming 'label_' prefix for clarity\n",
    "y_test_onehot = pd.get_dummies(y_test, prefix='label_')\n",
    "y_pred_onehot = pd.get_dummies(y_pred, prefix='label_')\n",
    "\n",
    "# ROC AUC score with multiclass handling\n",
    "roc_auc_macro = roc_auc_score(y_test_onehot, y_pred_onehot,\n",
    "                              average='macro', multi_class='ovo')  # Specify 'ovo' or 'ovr'\n",
    "\n",
    "print(\"accuracy:\", accuracy)\n",
    "print(\"recall:\", recall)\n",
    "print(\"precision:\", precision)\n",
    "print(\"f1-score:\", f1)\n",
    "print('roc_auc: ', roc_auc_macro)"
   ]
  },
  {
   "cell_type": "markdown",
   "id": "aab7a0ec",
   "metadata": {
    "papermill": {
     "duration": 0.139625,
     "end_time": "2024-02-22T19:11:22.915408",
     "exception": false,
     "start_time": "2024-02-22T19:11:22.775783",
     "status": "completed"
    },
    "tags": []
   },
   "source": [
    "**Tunning**"
   ]
  },
  {
   "cell_type": "code",
   "execution_count": 55,
   "id": "22281a3a",
   "metadata": {
    "execution": {
     "iopub.execute_input": "2024-02-22T19:11:23.270597Z",
     "iopub.status.busy": "2024-02-22T19:11:23.269932Z",
     "iopub.status.idle": "2024-02-22T19:11:23.277638Z",
     "shell.execute_reply": "2024-02-22T19:11:23.276546Z"
    },
    "papermill": {
     "duration": 0.150426,
     "end_time": "2024-02-22T19:11:23.280209",
     "exception": false,
     "start_time": "2024-02-22T19:11:23.129783",
     "status": "completed"
    },
    "tags": []
   },
   "outputs": [],
   "source": [
    "import optuna\n",
    "from sklearn.model_selection import cross_val_score\n",
    "import warnings\n",
    "warnings.filterwarnings('ignore')\n",
    "\n",
    "def objective(trial):\n",
    "    hyperparams = {\n",
    "        'kernel': trial.suggest_categorical('kernel', ['linear', 'rbf', 'poly']),\n",
    "        'C': trial.suggest_loguniform('C', 1e-5, 1e5),\n",
    "        'gamma': trial.suggest_loguniform('gamma', 1e-5, 1e5),\n",
    "        # 'degree': trial.suggest_int('degree', 2, 5),  # for polynomial kernel\n",
    "        'tol': trial.suggest_loguniform('tol', 1e-4, 1e-2),\n",
    "        'shrinking': trial.suggest_categorical('shrinking', [True, False]),\n",
    "    }\n",
    "    \n",
    "    # Create KNN model with tuned hyperparameters\n",
    "    model = SVC(**hyperparams)\n",
    "    scores = cross_val_score(model, X_train_reduced, y_train, cv = kf,scoring = 'accuracy')\n",
    "    return np.mean(scores)"
   ]
  },
  {
   "cell_type": "code",
   "execution_count": 56,
   "id": "01077227",
   "metadata": {
    "execution": {
     "iopub.execute_input": "2024-02-22T19:11:23.559793Z",
     "iopub.status.busy": "2024-02-22T19:11:23.559402Z",
     "iopub.status.idle": "2024-02-22T19:11:34.311597Z",
     "shell.execute_reply": "2024-02-22T19:11:34.310419Z"
    },
    "papermill": {
     "duration": 10.894771,
     "end_time": "2024-02-22T19:11:34.313984",
     "exception": false,
     "start_time": "2024-02-22T19:11:23.419213",
     "status": "completed"
    },
    "tags": []
   },
   "outputs": [
    {
     "name": "stderr",
     "output_type": "stream",
     "text": [
      "[I 2024-02-22 19:11:23,565] A new study created in memory with name: no-name-b0d92dd5-34b0-49db-82b4-45ad86c1a29b\n",
      "[I 2024-02-22 19:11:23,644] Trial 0 finished with value: 0.946875 and parameters: {'kernel': 'linear', 'C': 0.010852370050640879, 'gamma': 635.7365296941003, 'tol': 0.0015648068333601914, 'shrinking': False}. Best is trial 0 with value: 0.946875.\n",
      "[I 2024-02-22 19:11:23,722] Trial 1 finished with value: 0.0 and parameters: {'kernel': 'rbf', 'C': 0.0007890596953535686, 'gamma': 2.087773938653386, 'tol': 0.008769227945934509, 'shrinking': True}. Best is trial 0 with value: 0.946875.\n",
      "[I 2024-02-22 19:11:23,800] Trial 2 finished with value: 0.0 and parameters: {'kernel': 'rbf', 'C': 1.699720366123846e-05, 'gamma': 0.9835841636277356, 'tol': 0.002649724508235706, 'shrinking': False}. Best is trial 0 with value: 0.946875.\n",
      "[I 2024-02-22 19:11:23,896] Trial 3 finished with value: 0.0 and parameters: {'kernel': 'rbf', 'C': 0.0897477713717745, 'gamma': 0.09966291882815484, 'tol': 0.00013519996691199084, 'shrinking': True}. Best is trial 0 with value: 0.946875.\n",
      "[I 2024-02-22 19:11:23,982] Trial 4 finished with value: 0.0 and parameters: {'kernel': 'rbf', 'C': 0.009079129221840064, 'gamma': 0.0004330218035700678, 'tol': 0.0027299509575505884, 'shrinking': True}. Best is trial 0 with value: 0.946875.\n",
      "[I 2024-02-22 19:11:24,067] Trial 5 finished with value: 0.946875 and parameters: {'kernel': 'linear', 'C': 57254.89602389538, 'gamma': 1.358937788563355e-05, 'tol': 0.00012119925738755605, 'shrinking': False}. Best is trial 0 with value: 0.946875.\n",
      "[I 2024-02-22 19:11:24,140] Trial 6 finished with value: 0.946875 and parameters: {'kernel': 'linear', 'C': 0.00020983043034096492, 'gamma': 17985.93906746219, 'tol': 0.005028559141958194, 'shrinking': False}. Best is trial 0 with value: 0.946875.\n",
      "[I 2024-02-22 19:11:24,252] Trial 7 finished with value: 0.0 and parameters: {'kernel': 'rbf', 'C': 452.18771875379645, 'gamma': 112.37610834067364, 'tol': 0.00019841357317073124, 'shrinking': False}. Best is trial 0 with value: 0.946875.\n",
      "[I 2024-02-22 19:11:24,344] Trial 8 finished with value: 0.0 and parameters: {'kernel': 'rbf', 'C': 0.374745797880119, 'gamma': 14666.993078800888, 'tol': 0.0002947165016438368, 'shrinking': False}. Best is trial 0 with value: 0.946875.\n",
      "[I 2024-02-22 19:11:24,425] Trial 9 finished with value: 0.8625 and parameters: {'kernel': 'poly', 'C': 64.73533373529591, 'gamma': 0.20140332917135753, 'tol': 0.005334724072507007, 'shrinking': False}. Best is trial 0 with value: 0.946875.\n",
      "[I 2024-02-22 19:11:24,532] Trial 10 finished with value: 0.946875 and parameters: {'kernel': 'linear', 'C': 9.214103040840149, 'gamma': 170.46227489428696, 'tol': 0.0006635830440843538, 'shrinking': True}. Best is trial 0 with value: 0.946875.\n",
      "[I 2024-02-22 19:11:24,635] Trial 11 finished with value: 0.946875 and parameters: {'kernel': 'linear', 'C': 15825.826452029303, 'gamma': 5.25950627168862e-05, 'tol': 0.000865518844953453, 'shrinking': False}. Best is trial 0 with value: 0.946875.\n",
      "[I 2024-02-22 19:11:24,738] Trial 12 finished with value: 0.946875 and parameters: {'kernel': 'linear', 'C': 44994.791499090265, 'gamma': 0.005369052520344153, 'tol': 0.0005625312620013281, 'shrinking': False}. Best is trial 0 with value: 0.946875.\n",
      "[I 2024-02-22 19:11:24,836] Trial 13 finished with value: 0.946875 and parameters: {'kernel': 'linear', 'C': 1574.4068274997271, 'gamma': 99.45991253079518, 'tol': 0.0019252940181703735, 'shrinking': False}. Best is trial 0 with value: 0.946875.\n",
      "[I 2024-02-22 19:11:24,952] Trial 14 finished with value: 0.8625 and parameters: {'kernel': 'poly', 'C': 0.033545994142308994, 'gamma': 3.3385579011079215e-05, 'tol': 0.0003201603251155307, 'shrinking': False}. Best is trial 0 with value: 0.946875.\n",
      "[I 2024-02-22 19:11:25,051] Trial 15 finished with value: 0.946875 and parameters: {'kernel': 'linear', 'C': 3.703894209756804, 'gamma': 1704.82648112911, 'tol': 0.0014086726334548634, 'shrinking': False}. Best is trial 0 with value: 0.946875.\n",
      "[I 2024-02-22 19:11:25,159] Trial 16 finished with value: 0.946875 and parameters: {'kernel': 'linear', 'C': 0.0022525456712241434, 'gamma': 0.003229008923624532, 'tol': 0.00012149039458945741, 'shrinking': False}. Best is trial 0 with value: 0.946875.\n",
      "[I 2024-02-22 19:11:25,274] Trial 17 finished with value: 0.8625 and parameters: {'kernel': 'poly', 'C': 1.561612814695786e-05, 'gamma': 9.751941197648291, 'tol': 0.00042111269253719693, 'shrinking': False}. Best is trial 0 with value: 0.946875.\n",
      "[I 2024-02-22 19:11:25,378] Trial 18 finished with value: 0.946875 and parameters: {'kernel': 'linear', 'C': 0.7327492958900477, 'gamma': 1627.9649189104312, 'tol': 0.0012105548821829102, 'shrinking': True}. Best is trial 0 with value: 0.946875.\n",
      "[I 2024-02-22 19:11:25,483] Trial 19 finished with value: 0.946875 and parameters: {'kernel': 'linear', 'C': 49.1910394131342, 'gamma': 0.034515760897561774, 'tol': 0.00018600302976442125, 'shrinking': False}. Best is trial 0 with value: 0.946875.\n",
      "[I 2024-02-22 19:11:25,583] Trial 20 finished with value: 0.946875 and parameters: {'kernel': 'linear', 'C': 4696.780362979811, 'gamma': 81779.22210244188, 'tol': 0.0008691512106488616, 'shrinking': False}. Best is trial 0 with value: 0.946875.\n",
      "[I 2024-02-22 19:11:25,680] Trial 21 finished with value: 0.946875 and parameters: {'kernel': 'linear', 'C': 0.0004148774196701275, 'gamma': 6202.7883807903145, 'tol': 0.004508212582866622, 'shrinking': False}. Best is trial 0 with value: 0.946875.\n",
      "[I 2024-02-22 19:11:25,773] Trial 22 finished with value: 0.946875 and parameters: {'kernel': 'linear', 'C': 0.00010697525559637712, 'gamma': 84021.0556402371, 'tol': 0.008726222720331253, 'shrinking': False}. Best is trial 0 with value: 0.946875.\n",
      "[I 2024-02-22 19:11:25,870] Trial 23 finished with value: 0.946875 and parameters: {'kernel': 'linear', 'C': 0.00727375283121558, 'gamma': 12.42088033891398, 'tol': 0.004379171196100753, 'shrinking': False}. Best is trial 0 with value: 0.946875.\n",
      "[I 2024-02-22 19:11:25,971] Trial 24 finished with value: 0.946875 and parameters: {'kernel': 'linear', 'C': 0.04318742843980469, 'gamma': 550.0981709309686, 'tol': 0.00186269008235338, 'shrinking': False}. Best is trial 0 with value: 0.946875.\n",
      "[I 2024-02-22 19:11:26,078] Trial 25 finished with value: 0.8625 and parameters: {'kernel': 'poly', 'C': 0.00011738339889159442, 'gamma': 9499.604529194352, 'tol': 0.0030289888149745213, 'shrinking': False}. Best is trial 0 with value: 0.946875.\n",
      "[I 2024-02-22 19:11:26,178] Trial 26 finished with value: 0.946875 and parameters: {'kernel': 'linear', 'C': 0.0030993605935385744, 'gamma': 39.98964092644988, 'tol': 0.00709904493408193, 'shrinking': True}. Best is trial 0 with value: 0.946875.\n",
      "[I 2024-02-22 19:11:26,279] Trial 27 finished with value: 0.946875 and parameters: {'kernel': 'linear', 'C': 0.00014508490559895568, 'gamma': 1.2133316598240231e-05, 'tol': 0.0016827514793542556, 'shrinking': False}. Best is trial 0 with value: 0.946875.\n",
      "[I 2024-02-22 19:11:26,376] Trial 28 finished with value: 0.946875 and parameters: {'kernel': 'linear', 'C': 0.33903824569710495, 'gamma': 955.6175101221615, 'tol': 0.003154720027159576, 'shrinking': False}. Best is trial 0 with value: 0.946875.\n",
      "[I 2024-02-22 19:11:26,485] Trial 29 finished with value: 0.8625 and parameters: {'kernel': 'poly', 'C': 0.000787689657596512, 'gamma': 3.2890073132180597, 'tol': 0.009948676699412946, 'shrinking': True}. Best is trial 0 with value: 0.946875.\n",
      "[I 2024-02-22 19:11:26,589] Trial 30 finished with value: 0.946875 and parameters: {'kernel': 'linear', 'C': 4.394135479827107, 'gamma': 0.5486444905779753, 'tol': 0.0005400249061116638, 'shrinking': False}. Best is trial 0 with value: 0.946875.\n",
      "[I 2024-02-22 19:11:26,700] Trial 31 finished with value: 0.946875 and parameters: {'kernel': 'linear', 'C': 73.14827002948405, 'gamma': 266.6170285455504, 'tol': 0.000655681407345134, 'shrinking': True}. Best is trial 0 with value: 0.946875.\n",
      "[I 2024-02-22 19:11:26,810] Trial 32 finished with value: 0.946875 and parameters: {'kernel': 'linear', 'C': 657.5475929365547, 'gamma': 4709.780519824285, 'tol': 0.0010549013206720098, 'shrinking': True}. Best is trial 0 with value: 0.946875.\n",
      "[I 2024-02-22 19:11:26,929] Trial 33 finished with value: 0.946875 and parameters: {'kernel': 'linear', 'C': 18.41397968906792, 'gamma': 26.87492551872118, 'tol': 0.00010310782344441933, 'shrinking': True}. Best is trial 0 with value: 0.946875.\n",
      "[I 2024-02-22 19:11:27,064] Trial 34 finished with value: 0.0 and parameters: {'kernel': 'rbf', 'C': 89893.72592747836, 'gamma': 25934.152770005017, 'tol': 0.00020380848621514642, 'shrinking': True}. Best is trial 0 with value: 0.946875.\n",
      "[I 2024-02-22 19:11:27,176] Trial 35 finished with value: 0.946875 and parameters: {'kernel': 'linear', 'C': 0.07737702619980664, 'gamma': 127.17521547615881, 'tol': 0.0002883977834505379, 'shrinking': True}. Best is trial 0 with value: 0.946875.\n",
      "[I 2024-02-22 19:11:27,276] Trial 36 finished with value: 0.0 and parameters: {'kernel': 'rbf', 'C': 4.465131153488986e-05, 'gamma': 2.4364215526944113, 'tol': 0.002203386740309009, 'shrinking': True}. Best is trial 0 with value: 0.946875.\n",
      "[I 2024-02-22 19:11:27,377] Trial 37 finished with value: 0.946875 and parameters: {'kernel': 'linear', 'C': 0.014580984208073121, 'gamma': 2634.0025199087822, 'tol': 0.004096643631432025, 'shrinking': True}. Best is trial 0 with value: 0.946875.\n",
      "[I 2024-02-22 19:11:27,506] Trial 38 finished with value: 0.0 and parameters: {'kernel': 'rbf', 'C': 2.8623324967853407, 'gamma': 22978.90969958384, 'tol': 0.0007292296183113677, 'shrinking': False}. Best is trial 0 with value: 0.946875.\n",
      "[I 2024-02-22 19:11:27,601] Trial 39 finished with value: 0.946875 and parameters: {'kernel': 'linear', 'C': 8569.488878678492, 'gamma': 0.00023865315864962343, 'tol': 0.006459517819721796, 'shrinking': False}. Best is trial 0 with value: 0.946875.\n",
      "[I 2024-02-22 19:11:27,708] Trial 40 finished with value: 0.946875 and parameters: {'kernel': 'linear', 'C': 0.20780949552678207, 'gamma': 0.06666803222467196, 'tol': 0.00037611092230937804, 'shrinking': False}. Best is trial 0 with value: 0.946875.\n",
      "[I 2024-02-22 19:11:27,811] Trial 41 finished with value: 0.946875 and parameters: {'kernel': 'linear', 'C': 10949.561944195792, 'gamma': 4.803675294808787e-05, 'tol': 0.0007973911531793941, 'shrinking': False}. Best is trial 0 with value: 0.946875.\n",
      "[I 2024-02-22 19:11:27,913] Trial 42 finished with value: 0.946875 and parameters: {'kernel': 'linear', 'C': 48666.971832086376, 'gamma': 0.00032692895636942017, 'tol': 0.0014778026914615845, 'shrinking': False}. Best is trial 0 with value: 0.946875.\n",
      "[I 2024-02-22 19:11:28,015] Trial 43 finished with value: 0.946875 and parameters: {'kernel': 'linear', 'C': 2109.584443994346, 'gamma': 0.0011401197186947177, 'tol': 0.0010813110054312227, 'shrinking': False}. Best is trial 0 with value: 0.946875.\n",
      "[I 2024-02-22 19:11:28,121] Trial 44 finished with value: 0.946875 and parameters: {'kernel': 'linear', 'C': 30966.958114617493, 'gamma': 5.1101803732189876e-05, 'tol': 0.0005184306355863106, 'shrinking': False}. Best is trial 0 with value: 0.946875.\n",
      "[I 2024-02-22 19:11:28,232] Trial 45 finished with value: 0.8625 and parameters: {'kernel': 'poly', 'C': 407.33223159995345, 'gamma': 1.069133250881136e-05, 'tol': 0.0022765986182249425, 'shrinking': False}. Best is trial 0 with value: 0.946875.\n",
      "[I 2024-02-22 19:11:28,365] Trial 46 finished with value: 0.0 and parameters: {'kernel': 'rbf', 'C': 188.70378307516916, 'gamma': 0.010614267443133776, 'tol': 0.0002616065886979513, 'shrinking': False}. Best is trial 0 with value: 0.946875.\n",
      "[I 2024-02-22 19:11:28,474] Trial 47 finished with value: 0.946875 and parameters: {'kernel': 'linear', 'C': 0.0032261175726098577, 'gamma': 0.00014171483260423778, 'tol': 0.00015806308127850344, 'shrinking': False}. Best is trial 0 with value: 0.946875.\n",
      "[I 2024-02-22 19:11:28,582] Trial 48 finished with value: 0.946875 and parameters: {'kernel': 'linear', 'C': 21344.690160298527, 'gamma': 0.0013029329484506038, 'tol': 0.001311497054680439, 'shrinking': True}. Best is trial 0 with value: 0.946875.\n",
      "[I 2024-02-22 19:11:28,689] Trial 49 finished with value: 0.946875 and parameters: {'kernel': 'linear', 'C': 0.0003704406328056019, 'gamma': 426.7756871327734, 'tol': 0.0004382767501399182, 'shrinking': False}. Best is trial 0 with value: 0.946875.\n",
      "[I 2024-02-22 19:11:28,798] Trial 50 finished with value: 0.8625 and parameters: {'kernel': 'poly', 'C': 1286.3373102567095, 'gamma': 9.692505338355453e-05, 'tol': 0.003654166239146784, 'shrinking': False}. Best is trial 0 with value: 0.946875.\n",
      "[I 2024-02-22 19:11:28,903] Trial 51 finished with value: 0.946875 and parameters: {'kernel': 'linear', 'C': 3296.128926024591, 'gamma': 0.2850976367137201, 'tol': 0.0006148088672539416, 'shrinking': False}. Best is trial 0 with value: 0.946875.\n",
      "[I 2024-02-22 19:11:29,008] Trial 52 finished with value: 0.946875 and parameters: {'kernel': 'linear', 'C': 94040.25825970493, 'gamma': 0.01375931416153213, 'tol': 0.0009943731049130503, 'shrinking': False}. Best is trial 0 with value: 0.946875.\n",
      "[I 2024-02-22 19:11:29,117] Trial 53 finished with value: 0.946875 and parameters: {'kernel': 'linear', 'C': 15208.504349893405, 'gamma': 2.3321386913583477e-05, 'tol': 0.0009002726253732927, 'shrinking': False}. Best is trial 0 with value: 0.946875.\n",
      "[I 2024-02-22 19:11:29,240] Trial 54 finished with value: 0.946875 and parameters: {'kernel': 'linear', 'C': 5399.666591959532, 'gamma': 59.71765369375688, 'tol': 0.00039880289326016356, 'shrinking': False}. Best is trial 0 with value: 0.946875.\n",
      "[I 2024-02-22 19:11:29,341] Trial 55 finished with value: 0.946875 and parameters: {'kernel': 'linear', 'C': 0.01853937091040266, 'gamma': 0.0011054881258283002, 'tol': 0.0015806883398613405, 'shrinking': False}. Best is trial 0 with value: 0.946875.\n",
      "[I 2024-02-22 19:11:29,444] Trial 56 finished with value: 0.946875 and parameters: {'kernel': 'linear', 'C': 1.0633474299425081e-05, 'gamma': 41044.109761345295, 'tol': 0.001208085234318983, 'shrinking': False}. Best is trial 0 with value: 0.946875.\n",
      "[I 2024-02-22 19:11:29,541] Trial 57 finished with value: 0.946875 and parameters: {'kernel': 'linear', 'C': 3.559897487969895e-05, 'gamma': 0.005215515047650981, 'tol': 0.005589429482477213, 'shrinking': False}. Best is trial 0 with value: 0.946875.\n",
      "[I 2024-02-22 19:11:29,647] Trial 58 finished with value: 0.946875 and parameters: {'kernel': 'linear', 'C': 1.73084216579755, 'gamma': 5.470331340880303, 'tol': 0.000501672240237883, 'shrinking': False}. Best is trial 0 with value: 0.946875.\n",
      "[I 2024-02-22 19:11:29,777] Trial 59 finished with value: 0.8625 and parameters: {'kernel': 'poly', 'C': 15.23995817009118, 'gamma': 2686.16125153357, 'tol': 0.0002408643383769101, 'shrinking': True}. Best is trial 0 with value: 0.946875.\n",
      "[I 2024-02-22 19:11:29,886] Trial 60 finished with value: 0.946875 and parameters: {'kernel': 'linear', 'C': 37649.089460946496, 'gamma': 0.807934939877926, 'tol': 0.0003373332277561184, 'shrinking': False}. Best is trial 0 with value: 0.946875.\n",
      "[I 2024-02-22 19:11:29,987] Trial 61 finished with value: 0.946875 and parameters: {'kernel': 'linear', 'C': 1123.1264819320932, 'gamma': 164.99138686533217, 'tol': 0.001853702976013934, 'shrinking': False}. Best is trial 0 with value: 0.946875.\n",
      "[I 2024-02-22 19:11:30,093] Trial 62 finished with value: 0.946875 and parameters: {'kernel': 'linear', 'C': 211.44786936999964, 'gamma': 999.5954638141968, 'tol': 0.000773410587410408, 'shrinking': False}. Best is trial 0 with value: 0.946875.\n",
      "[I 2024-02-22 19:11:30,197] Trial 63 finished with value: 0.946875 and parameters: {'kernel': 'linear', 'C': 5822.586320256375, 'gamma': 14.804938048717254, 'tol': 0.0023796004169829308, 'shrinking': False}. Best is trial 0 with value: 0.946875.\n",
      "[I 2024-02-22 19:11:30,302] Trial 64 finished with value: 0.946875 and parameters: {'kernel': 'linear', 'C': 55787.090311801105, 'gamma': 316.8683323827213, 'tol': 0.0006200700729218379, 'shrinking': False}. Best is trial 0 with value: 0.946875.\n",
      "[I 2024-02-22 19:11:30,431] Trial 65 finished with value: 0.0 and parameters: {'kernel': 'rbf', 'C': 19729.590724285288, 'gamma': 82.00601266197873, 'tol': 0.0030109829862695406, 'shrinking': True}. Best is trial 0 with value: 0.946875.\n",
      "[I 2024-02-22 19:11:30,533] Trial 66 finished with value: 0.946875 and parameters: {'kernel': 'linear', 'C': 0.0012623139522006939, 'gamma': 11121.31798362897, 'tol': 0.001961579077187558, 'shrinking': False}. Best is trial 0 with value: 0.946875.\n",
      "[I 2024-02-22 19:11:30,648] Trial 67 finished with value: 0.946875 and parameters: {'kernel': 'linear', 'C': 9.887505265230029, 'gamma': 24.54797510077223, 'tol': 0.0009047971181381304, 'shrinking': False}. Best is trial 0 with value: 0.946875.\n",
      "[I 2024-02-22 19:11:30,781] Trial 68 finished with value: 0.946875 and parameters: {'kernel': 'linear', 'C': 2898.256131655222, 'gamma': 2.635670303403237e-05, 'tol': 0.0013680938754346845, 'shrinking': True}. Best is trial 0 with value: 0.946875.\n",
      "[I 2024-02-22 19:11:30,905] Trial 69 finished with value: 0.946875 and parameters: {'kernel': 'linear', 'C': 0.7356326909456069, 'gamma': 909.8469369932628, 'tol': 0.000124101268170671, 'shrinking': False}. Best is trial 0 with value: 0.946875.\n",
      "[I 2024-02-22 19:11:31,017] Trial 70 finished with value: 0.946875 and parameters: {'kernel': 'linear', 'C': 80.68078489824593, 'gamma': 4112.705251417912, 'tol': 0.0025936956230941115, 'shrinking': False}. Best is trial 0 with value: 0.946875.\n",
      "[I 2024-02-22 19:11:31,135] Trial 71 finished with value: 0.946875 and parameters: {'kernel': 'linear', 'C': 0.14616049635965095, 'gamma': 1706.5684165358725, 'tol': 0.001163181218489659, 'shrinking': False}. Best is trial 0 with value: 0.946875.\n",
      "[I 2024-02-22 19:11:31,234] Trial 72 finished with value: 0.946875 and parameters: {'kernel': 'linear', 'C': 35.209324034937985, 'gamma': 196.85113964429922, 'tol': 0.007707483503331218, 'shrinking': False}. Best is trial 0 with value: 0.946875.\n",
      "[I 2024-02-22 19:11:31,338] Trial 73 finished with value: 0.946875 and parameters: {'kernel': 'linear', 'C': 4.840439948326211, 'gamma': 585.6345830096769, 'tol': 0.001693225494378978, 'shrinking': False}. Best is trial 0 with value: 0.946875.\n",
      "[I 2024-02-22 19:11:31,445] Trial 74 finished with value: 0.946875 and parameters: {'kernel': 'linear', 'C': 1.8502669130462586, 'gamma': 53408.35459131029, 'tol': 0.0006955823037574861, 'shrinking': False}. Best is trial 0 with value: 0.946875.\n",
      "[I 2024-02-22 19:11:31,571] Trial 75 finished with value: 0.8625 and parameters: {'kernel': 'poly', 'C': 8896.877505784256, 'gamma': 9799.12542398742, 'tol': 0.0009996277521704248, 'shrinking': True}. Best is trial 0 with value: 0.946875.\n",
      "[I 2024-02-22 19:11:31,694] Trial 76 finished with value: 0.0 and parameters: {'kernel': 'rbf', 'C': 0.4350529892801168, 'gamma': 0.0004855942699144955, 'tol': 0.0013848327054318782, 'shrinking': False}. Best is trial 0 with value: 0.946875.\n",
      "[I 2024-02-22 19:11:31,800] Trial 77 finished with value: 0.946875 and parameters: {'kernel': 'linear', 'C': 0.000289463720148867, 'gamma': 9.198830168374437e-05, 'tol': 0.0035725032270643585, 'shrinking': False}. Best is trial 0 with value: 0.946875.\n",
      "[I 2024-02-22 19:11:31,902] Trial 78 finished with value: 0.946875 and parameters: {'kernel': 'linear', 'C': 0.00609275998124737, 'gamma': 1.8338748878678965e-05, 'tol': 0.004964799740831591, 'shrinking': False}. Best is trial 0 with value: 0.946875.\n",
      "[I 2024-02-22 19:11:32,010] Trial 79 finished with value: 0.946875 and parameters: {'kernel': 'linear', 'C': 0.06145596086367328, 'gamma': 22328.080483251862, 'tol': 0.0018527338276791367, 'shrinking': True}. Best is trial 0 with value: 0.946875.\n",
      "[I 2024-02-22 19:11:32,118] Trial 80 finished with value: 0.946875 and parameters: {'kernel': 'linear', 'C': 64974.96500482601, 'gamma': 0.026146350571485483, 'tol': 0.0005686153582246866, 'shrinking': False}. Best is trial 0 with value: 0.946875.\n",
      "[I 2024-02-22 19:11:32,227] Trial 81 finished with value: 0.946875 and parameters: {'kernel': 'linear', 'C': 0.0013078885243476375, 'gamma': 0.00242453306562734, 'tol': 0.00045397290045093964, 'shrinking': False}. Best is trial 0 with value: 0.946875.\n",
      "[I 2024-02-22 19:11:32,341] Trial 82 finished with value: 0.946875 and parameters: {'kernel': 'linear', 'C': 0.00013879831396855537, 'gamma': 6377.693603753055, 'tol': 0.00010555150594458932, 'shrinking': False}. Best is trial 0 with value: 0.946875.\n",
      "[I 2024-02-22 19:11:32,453] Trial 83 finished with value: 0.946875 and parameters: {'kernel': 'linear', 'C': 0.0006899537677404069, 'gamma': 0.27391660588734956, 'tol': 0.00016034241710617293, 'shrinking': False}. Best is trial 0 with value: 0.946875.\n",
      "[I 2024-02-22 19:11:32,568] Trial 84 finished with value: 0.946875 and parameters: {'kernel': 'linear', 'C': 0.0274507066411771, 'gamma': 0.0006576240787918661, 'tol': 0.00012480368323790046, 'shrinking': False}. Best is trial 0 with value: 0.946875.\n",
      "[I 2024-02-22 19:11:32,680] Trial 85 finished with value: 0.946875 and parameters: {'kernel': 'linear', 'C': 28327.203452842547, 'gamma': 0.11131385997811663, 'tol': 0.00018493721569467594, 'shrinking': False}. Best is trial 0 with value: 0.946875.\n",
      "[I 2024-02-22 19:11:32,794] Trial 86 finished with value: 0.946875 and parameters: {'kernel': 'linear', 'C': 0.0019042550468713504, 'gamma': 0.004928486441829116, 'tol': 0.00014866639830592374, 'shrinking': False}. Best is trial 0 with value: 0.946875.\n",
      "[I 2024-02-22 19:11:32,912] Trial 87 finished with value: 0.8625 and parameters: {'kernel': 'poly', 'C': 0.004097233385386956, 'gamma': 6.158698186470355e-05, 'tol': 0.0011199432984612602, 'shrinking': False}. Best is trial 0 with value: 0.946875.\n",
      "[I 2024-02-22 19:11:33,026] Trial 88 finished with value: 0.946875 and parameters: {'kernel': 'linear', 'C': 6.92840623889157e-05, 'gamma': 0.00019254161854971862, 'tol': 0.0008138311055617803, 'shrinking': True}. Best is trial 0 with value: 0.946875.\n",
      "[I 2024-02-22 19:11:33,132] Trial 89 finished with value: 0.946875 and parameters: {'kernel': 'linear', 'C': 11686.564932023774, 'gamma': 1571.0201046341053, 'tol': 0.002054020533865904, 'shrinking': False}. Best is trial 0 with value: 0.946875.\n",
      "[I 2024-02-22 19:11:33,243] Trial 90 finished with value: 0.0 and parameters: {'kernel': 'rbf', 'C': 0.00025812712858225615, 'gamma': 98338.55781090232, 'tol': 0.00022525512993056105, 'shrinking': False}. Best is trial 0 with value: 0.946875.\n",
      "[I 2024-02-22 19:11:33,353] Trial 91 finished with value: 0.946875 and parameters: {'kernel': 'linear', 'C': 9.526294965095179, 'gamma': 588.5030522580281, 'tol': 0.0012489157018005042, 'shrinking': True}. Best is trial 0 with value: 0.946875.\n",
      "[I 2024-02-22 19:11:33,464] Trial 92 finished with value: 0.946875 and parameters: {'kernel': 'linear', 'C': 0.19194219200605594, 'gamma': 2350.874722889919, 'tol': 0.0015555766955760825, 'shrinking': True}. Best is trial 0 with value: 0.946875.\n",
      "[I 2024-02-22 19:11:33,578] Trial 93 finished with value: 0.946875 and parameters: {'kernel': 'linear', 'C': 0.6277926348777759, 'gamma': 5612.562861411704, 'tol': 0.000959982380949676, 'shrinking': True}. Best is trial 0 with value: 0.946875.\n",
      "[I 2024-02-22 19:11:33,690] Trial 94 finished with value: 0.946875 and parameters: {'kernel': 'linear', 'C': 0.013679508507976548, 'gamma': 41.191029642709836, 'tol': 0.001690649208622816, 'shrinking': True}. Best is trial 0 with value: 0.946875.\n",
      "[I 2024-02-22 19:11:33,807] Trial 95 finished with value: 0.946875 and parameters: {'kernel': 'linear', 'C': 4.893297599676747, 'gamma': 318.14870165733737, 'tol': 0.0006776956934001082, 'shrinking': True}. Best is trial 0 with value: 0.946875.\n",
      "[I 2024-02-22 19:11:33,915] Trial 96 finished with value: 0.946875 and parameters: {'kernel': 'linear', 'C': 1613.7176919258657, 'gamma': 119.99915123688687, 'tol': 0.001440717122779265, 'shrinking': False}. Best is trial 0 with value: 0.946875.\n",
      "[I 2024-02-22 19:11:34,023] Trial 97 finished with value: 0.946875 and parameters: {'kernel': 'linear', 'C': 702.9936862126796, 'gamma': 1.4076190014325989e-05, 'tol': 0.0008527938741836123, 'shrinking': False}. Best is trial 0 with value: 0.946875.\n",
      "[I 2024-02-22 19:11:34,146] Trial 98 finished with value: 0.946875 and parameters: {'kernel': 'linear', 'C': 98111.24597321975, 'gamma': 1.7609924081368231, 'tol': 0.00010560464953019981, 'shrinking': True}. Best is trial 0 with value: 0.946875.\n",
      "[I 2024-02-22 19:11:34,256] Trial 99 finished with value: 0.946875 and parameters: {'kernel': 'linear', 'C': 28.933307329107304, 'gamma': 3.718216665332303e-05, 'tol': 0.0007605308281628009, 'shrinking': False}. Best is trial 0 with value: 0.946875.\n"
     ]
    },
    {
     "name": "stdout",
     "output_type": "stream",
     "text": [
      "Best params found : {'kernel': 'linear', 'C': 0.010852370050640879, 'gamma': 635.7365296941003, 'tol': 0.0015648068333601914, 'shrinking': False}\n",
      "accuracy: 1.0\n",
      "recall: 1.0\n",
      "precision: 1.0\n",
      "f1-score: 1.0\n",
      "roc_auc:  1.0\n"
     ]
    }
   ],
   "source": [
    "study = optuna.create_study(direction='maximize')\n",
    "study.optimize(objective, n_trials=100)\n",
    "best_params = study.best_params\n",
    "print(\"Best params found :\", best_params)\n",
    "\n",
    "final_model = SVC(**best_params)\n",
    "final_model.fit(X_train_reduced, y_train)\n",
    "y_pred = final_model.predict(X_test_reduced)\n",
    "prediction_results['svc'] = list(y_pred)\n",
    "\n",
    "accuracy = accuracy_score(y_test, y_pred)\n",
    "precision = precision_score(y_test, y_pred, average='macro')\n",
    "recall = recall_score(y_test, y_pred, average='macro')\n",
    "f1 = f1_score(y_test, y_pred, average='macro')\n",
    "\n",
    "# One-hot encoding for probability calculation (adapt if necessary)\n",
    "# Assuming 'label_' prefix for clarity\n",
    "y_test_onehot = pd.get_dummies(y_test, prefix='label_')\n",
    "y_pred_onehot = pd.get_dummies(y_pred, prefix='label_')\n",
    "\n",
    "# ROC AUC score with multiclass handling\n",
    "roc_auc_macro = roc_auc_score(y_test_onehot, y_pred_onehot,\n",
    "                              average='macro', multi_class='ovo')  # Specify 'ovo' or 'ovr'\n",
    "\n",
    "print(\"accuracy:\", accuracy)\n",
    "print(\"recall:\", recall)\n",
    "print(\"precision:\", precision)\n",
    "print(\"f1-score:\", f1)\n",
    "print('roc_auc: ', roc_auc_macro)"
   ]
  },
  {
   "cell_type": "markdown",
   "id": "08535f64",
   "metadata": {
    "papermill": {
     "duration": 0.148818,
     "end_time": "2024-02-22T19:11:34.612360",
     "exception": false,
     "start_time": "2024-02-22T19:11:34.463542",
     "status": "completed"
    },
    "tags": []
   },
   "source": [
    "## Decision Tree"
   ]
  },
  {
   "cell_type": "markdown",
   "id": "a6e242fb",
   "metadata": {
    "papermill": {
     "duration": 0.148623,
     "end_time": "2024-02-22T19:11:34.914446",
     "exception": false,
     "start_time": "2024-02-22T19:11:34.765823",
     "status": "completed"
    },
    "tags": []
   },
   "source": [
    "**Normal**"
   ]
  },
  {
   "cell_type": "code",
   "execution_count": 57,
   "id": "d2b8bcae",
   "metadata": {
    "execution": {
     "iopub.execute_input": "2024-02-22T19:11:35.216752Z",
     "iopub.status.busy": "2024-02-22T19:11:35.216036Z",
     "iopub.status.idle": "2024-02-22T19:11:35.333510Z",
     "shell.execute_reply": "2024-02-22T19:11:35.332456Z"
    },
    "papermill": {
     "duration": 0.274227,
     "end_time": "2024-02-22T19:11:35.336483",
     "exception": false,
     "start_time": "2024-02-22T19:11:35.062256",
     "status": "completed"
    },
    "tags": []
   },
   "outputs": [
    {
     "name": "stdout",
     "output_type": "stream",
     "text": [
      "accuracy: 0.6625\n",
      "recall: 0.6527777777777777\n",
      "precision: 0.6435185185185186\n",
      "f1-score: 0.6233906525573192\n",
      "roc_auc:  0.545608933463109\n",
      "accuracy: 1.0\n",
      "recall: 1.0\n",
      "precision: 1.0\n",
      "f1-score: 1.0\n",
      "roc_auc:  1.0\n"
     ]
    }
   ],
   "source": [
    "from sklearn.tree import DecisionTreeClassifier\n",
    "\n",
    "dt = DecisionTreeClassifier(random_state=42)\n",
    "dt.fit(X_train_reduced, y_train)\n",
    "y_pred = dt.predict(X_test_reduced)\n",
    "\n",
    "accuracy = accuracy_score(y_test, y_pred)\n",
    "precision = precision_score(y_test, y_pred, average='macro')\n",
    "recall = recall_score(y_test, y_pred, average='macro')\n",
    "f1 = f1_score(y_test, y_pred, average='macro')\n",
    "\n",
    "# One-hot encoding for probability calculation (adapt if necessary)\n",
    "# Assuming 'label_' prefix for clarity\n",
    "y_test_onehot = pd.get_dummies(y_test, prefix='label_')\n",
    "y_pred_onehot = pd.get_dummies(y_pred, prefix='label_')\n",
    "\n",
    "# ROC AUC score with multiclass handling\n",
    "roc_auc_macro = roc_auc_score(y_test_onehot, y_pred_onehot,\n",
    "                              average='macro', multi_class='ovo')  # Specify 'ovo' or 'ovr'\n",
    "\n",
    "print(\"accuracy:\", accuracy)\n",
    "print(\"recall:\", recall)\n",
    "print(\"precision:\", precision)\n",
    "print(\"f1-score:\", f1)\n",
    "print('roc_auc: ', roc_auc_macro)\n",
    "\n",
    "svm = SVC(kernel='linear')\n",
    "svm.fit(X_train_reduced, y_train)\n",
    "y_pred = svm.predict(X_test_reduced)\n",
    "\n",
    "accuracy = accuracy_score(y_test, y_pred)\n",
    "precision = precision_score(y_test, y_pred, average='macro')\n",
    "recall = recall_score(y_test, y_pred, average='macro')\n",
    "f1 = f1_score(y_test, y_pred, average='macro')\n",
    "\n",
    "# One-hot encoding for probability calculation (adapt if necessary)\n",
    "# Assuming 'label_' prefix for clarity\n",
    "y_test_onehot = pd.get_dummies(y_test, prefix='label_')\n",
    "y_pred_onehot = pd.get_dummies(y_pred, prefix='label_')\n",
    "\n",
    "# ROC AUC score with multiclass handling\n",
    "roc_auc_macro = roc_auc_score(y_test_onehot, y_pred_onehot,\n",
    "                              average='macro', multi_class='ovo')  # Specify 'ovo' or 'ovr'\n",
    "\n",
    "print(\"accuracy:\", accuracy)\n",
    "print(\"recall:\", recall)\n",
    "print(\"precision:\", precision)\n",
    "print(\"f1-score:\", f1)\n",
    "print('roc_auc: ', roc_auc_macro)"
   ]
  },
  {
   "cell_type": "markdown",
   "id": "8413ae97",
   "metadata": {
    "papermill": {
     "duration": 0.148002,
     "end_time": "2024-02-22T19:11:35.633427",
     "exception": false,
     "start_time": "2024-02-22T19:11:35.485425",
     "status": "completed"
    },
    "tags": []
   },
   "source": [
    "**Tunning**"
   ]
  },
  {
   "cell_type": "code",
   "execution_count": 58,
   "id": "81a1be3a",
   "metadata": {
    "execution": {
     "iopub.execute_input": "2024-02-22T19:11:35.935308Z",
     "iopub.status.busy": "2024-02-22T19:11:35.934548Z",
     "iopub.status.idle": "2024-02-22T19:11:35.942269Z",
     "shell.execute_reply": "2024-02-22T19:11:35.941231Z"
    },
    "papermill": {
     "duration": 0.163576,
     "end_time": "2024-02-22T19:11:35.944877",
     "exception": false,
     "start_time": "2024-02-22T19:11:35.781301",
     "status": "completed"
    },
    "tags": []
   },
   "outputs": [],
   "source": [
    "import optuna\n",
    "from sklearn.model_selection import cross_val_score\n",
    "import warnings\n",
    "warnings.filterwarnings('ignore')\n",
    "\n",
    "\n",
    "def objective(trial):\n",
    "    hyperparams = {\n",
    "        \"max_depth\" : trial.suggest_int(\"max_depth\", 2, 10),\n",
    "        \"min_samples_split\" : trial.suggest_int(\"min_samples_split\", 2, 20),\n",
    "        \"min_samples_leaf\" : trial.suggest_int(\"min_samples_leaf\", 1, 10),\n",
    "        \"criterion\" : trial.suggest_categorical(\"criterion\", [\"gini\", \"entropy\"])\n",
    "    }\n",
    "\n",
    "    # Create KNN model with tuned hyperparameters\n",
    "    model = DecisionTreeClassifier(**hyperparams)\n",
    "    scores = cross_val_score(model, X_train_reduced,\n",
    "                             y_train, cv=kf, scoring='accuracy')\n",
    "    return np.mean(scores)"
   ]
  },
  {
   "cell_type": "code",
   "execution_count": 59,
   "id": "f8d73bfc",
   "metadata": {
    "execution": {
     "iopub.execute_input": "2024-02-22T19:11:36.247268Z",
     "iopub.status.busy": "2024-02-22T19:11:36.246597Z",
     "iopub.status.idle": "2024-02-22T19:11:55.720833Z",
     "shell.execute_reply": "2024-02-22T19:11:55.719267Z"
    },
    "papermill": {
     "duration": 19.628251,
     "end_time": "2024-02-22T19:11:55.723535",
     "exception": false,
     "start_time": "2024-02-22T19:11:36.095284",
     "status": "completed"
    },
    "tags": []
   },
   "outputs": [
    {
     "name": "stderr",
     "output_type": "stream",
     "text": [
      "[I 2024-02-22 19:11:36,253] A new study created in memory with name: no-name-7c1bbf31-b743-468e-bd5c-98d2a1f4bd11\n",
      "[I 2024-02-22 19:11:36,327] Trial 0 finished with value: 0.325 and parameters: {'max_depth': 10, 'min_samples_split': 18, 'min_samples_leaf': 7, 'criterion': 'gini'}. Best is trial 0 with value: 0.325.\n",
      "[I 2024-02-22 19:11:36,406] Trial 1 finished with value: 0.40625 and parameters: {'max_depth': 10, 'min_samples_split': 10, 'min_samples_leaf': 6, 'criterion': 'gini'}. Best is trial 1 with value: 0.40625.\n",
      "[I 2024-02-22 19:11:36,524] Trial 2 finished with value: 0.03125 and parameters: {'max_depth': 2, 'min_samples_split': 2, 'min_samples_leaf': 6, 'criterion': 'entropy'}. Best is trial 1 with value: 0.40625.\n",
      "[I 2024-02-22 19:11:36,699] Trial 3 finished with value: 0.3125 and parameters: {'max_depth': 8, 'min_samples_split': 17, 'min_samples_leaf': 4, 'criterion': 'entropy'}. Best is trial 1 with value: 0.40625.\n",
      "[I 2024-02-22 19:11:36,764] Trial 4 finished with value: 0.28125 and parameters: {'max_depth': 8, 'min_samples_split': 10, 'min_samples_leaf': 9, 'criterion': 'gini'}. Best is trial 1 with value: 0.40625.\n",
      "[I 2024-02-22 19:11:36,917] Trial 5 finished with value: 0.259375 and parameters: {'max_depth': 5, 'min_samples_split': 3, 'min_samples_leaf': 10, 'criterion': 'entropy'}. Best is trial 1 with value: 0.40625.\n",
      "[I 2024-02-22 19:11:36,963] Trial 6 finished with value: 0.075 and parameters: {'max_depth': 3, 'min_samples_split': 7, 'min_samples_leaf': 5, 'criterion': 'gini'}. Best is trial 1 with value: 0.40625.\n",
      "[I 2024-02-22 19:11:37,149] Trial 7 finished with value: 0.265625 and parameters: {'max_depth': 10, 'min_samples_split': 19, 'min_samples_leaf': 1, 'criterion': 'entropy'}. Best is trial 1 with value: 0.40625.\n",
      "[I 2024-02-22 19:11:37,239] Trial 8 finished with value: 0.40625 and parameters: {'max_depth': 10, 'min_samples_split': 8, 'min_samples_leaf': 1, 'criterion': 'gini'}. Best is trial 1 with value: 0.40625.\n",
      "[I 2024-02-22 19:11:37,411] Trial 9 finished with value: 0.365625 and parameters: {'max_depth': 5, 'min_samples_split': 4, 'min_samples_leaf': 5, 'criterion': 'entropy'}. Best is trial 1 with value: 0.40625.\n",
      "[I 2024-02-22 19:11:37,509] Trial 10 finished with value: 0.2375 and parameters: {'max_depth': 7, 'min_samples_split': 14, 'min_samples_leaf': 3, 'criterion': 'gini'}. Best is trial 1 with value: 0.40625.\n",
      "[I 2024-02-22 19:11:37,621] Trial 11 finished with value: 0.40625 and parameters: {'max_depth': 10, 'min_samples_split': 10, 'min_samples_leaf': 1, 'criterion': 'gini'}. Best is trial 1 with value: 0.40625.\n",
      "[I 2024-02-22 19:11:37,717] Trial 12 finished with value: 0.284375 and parameters: {'max_depth': 8, 'min_samples_split': 7, 'min_samples_leaf': 8, 'criterion': 'gini'}. Best is trial 1 with value: 0.40625.\n",
      "[I 2024-02-22 19:11:37,826] Trial 13 finished with value: 0.35 and parameters: {'max_depth': 9, 'min_samples_split': 13, 'min_samples_leaf': 3, 'criterion': 'gini'}. Best is trial 1 with value: 0.40625.\n",
      "[I 2024-02-22 19:11:37,916] Trial 14 finished with value: 0.225 and parameters: {'max_depth': 6, 'min_samples_split': 7, 'min_samples_leaf': 7, 'criterion': 'gini'}. Best is trial 1 with value: 0.40625.\n",
      "[I 2024-02-22 19:11:38,024] Trial 15 finished with value: 0.359375 and parameters: {'max_depth': 9, 'min_samples_split': 13, 'min_samples_leaf': 3, 'criterion': 'gini'}. Best is trial 1 with value: 0.40625.\n",
      "[I 2024-02-22 19:11:38,134] Trial 16 finished with value: 0.3875 and parameters: {'max_depth': 9, 'min_samples_split': 9, 'min_samples_leaf': 2, 'criterion': 'gini'}. Best is trial 1 with value: 0.40625.\n",
      "[I 2024-02-22 19:11:38,231] Trial 17 finished with value: 0.259375 and parameters: {'max_depth': 7, 'min_samples_split': 5, 'min_samples_leaf': 6, 'criterion': 'gini'}. Best is trial 1 with value: 0.40625.\n",
      "[I 2024-02-22 19:11:38,310] Trial 18 finished with value: 0.10625 and parameters: {'max_depth': 4, 'min_samples_split': 15, 'min_samples_leaf': 4, 'criterion': 'gini'}. Best is trial 1 with value: 0.40625.\n",
      "[I 2024-02-22 19:11:38,404] Trial 19 finished with value: 0.321875 and parameters: {'max_depth': 10, 'min_samples_split': 12, 'min_samples_leaf': 8, 'criterion': 'gini'}. Best is trial 1 with value: 0.40625.\n",
      "[I 2024-02-22 19:11:38,505] Trial 20 finished with value: 0.2625 and parameters: {'max_depth': 7, 'min_samples_split': 8, 'min_samples_leaf': 4, 'criterion': 'gini'}. Best is trial 1 with value: 0.40625.\n",
      "[I 2024-02-22 19:11:38,619] Trial 21 finished with value: 0.390625 and parameters: {'max_depth': 10, 'min_samples_split': 11, 'min_samples_leaf': 1, 'criterion': 'gini'}. Best is trial 1 with value: 0.40625.\n",
      "[I 2024-02-22 19:11:38,734] Trial 22 finished with value: 0.403125 and parameters: {'max_depth': 9, 'min_samples_split': 9, 'min_samples_leaf': 2, 'criterion': 'gini'}. Best is trial 1 with value: 0.40625.\n",
      "[I 2024-02-22 19:11:38,853] Trial 23 finished with value: 0.43125 and parameters: {'max_depth': 10, 'min_samples_split': 5, 'min_samples_leaf': 1, 'criterion': 'gini'}. Best is trial 23 with value: 0.43125.\n",
      "[I 2024-02-22 19:11:38,968] Trial 24 finished with value: 0.415625 and parameters: {'max_depth': 9, 'min_samples_split': 5, 'min_samples_leaf': 2, 'criterion': 'gini'}. Best is trial 23 with value: 0.43125.\n",
      "[I 2024-02-22 19:11:39,085] Trial 25 finished with value: 0.425 and parameters: {'max_depth': 9, 'min_samples_split': 5, 'min_samples_leaf': 2, 'criterion': 'gini'}. Best is trial 23 with value: 0.43125.\n",
      "[I 2024-02-22 19:11:39,329] Trial 26 finished with value: 0.490625 and parameters: {'max_depth': 8, 'min_samples_split': 5, 'min_samples_leaf': 2, 'criterion': 'entropy'}. Best is trial 26 with value: 0.490625.\n",
      "[I 2024-02-22 19:11:39,559] Trial 27 finished with value: 0.521875 and parameters: {'max_depth': 8, 'min_samples_split': 5, 'min_samples_leaf': 2, 'criterion': 'entropy'}. Best is trial 27 with value: 0.521875.\n",
      "[I 2024-02-22 19:11:39,776] Trial 28 finished with value: 0.48125 and parameters: {'max_depth': 6, 'min_samples_split': 2, 'min_samples_leaf': 3, 'criterion': 'entropy'}. Best is trial 27 with value: 0.521875.\n",
      "[I 2024-02-22 19:11:39,996] Trial 29 finished with value: 0.478125 and parameters: {'max_depth': 6, 'min_samples_split': 3, 'min_samples_leaf': 3, 'criterion': 'entropy'}. Best is trial 27 with value: 0.521875.\n",
      "[I 2024-02-22 19:11:40,209] Trial 30 finished with value: 0.384375 and parameters: {'max_depth': 5, 'min_samples_split': 2, 'min_samples_leaf': 4, 'criterion': 'entropy'}. Best is trial 27 with value: 0.521875.\n",
      "[I 2024-02-22 19:11:40,427] Trial 31 finished with value: 0.49375 and parameters: {'max_depth': 6, 'min_samples_split': 3, 'min_samples_leaf': 3, 'criterion': 'entropy'}. Best is trial 27 with value: 0.521875.\n",
      "[I 2024-02-22 19:11:40,652] Trial 32 finished with value: 0.44375 and parameters: {'max_depth': 6, 'min_samples_split': 3, 'min_samples_leaf': 2, 'criterion': 'entropy'}. Best is trial 27 with value: 0.521875.\n",
      "[I 2024-02-22 19:11:40,871] Trial 33 finished with value: 0.515625 and parameters: {'max_depth': 7, 'min_samples_split': 2, 'min_samples_leaf': 3, 'criterion': 'entropy'}. Best is trial 27 with value: 0.521875.\n",
      "[I 2024-02-22 19:11:41,078] Trial 34 finished with value: 0.453125 and parameters: {'max_depth': 7, 'min_samples_split': 4, 'min_samples_leaf': 5, 'criterion': 'entropy'}. Best is trial 27 with value: 0.521875.\n",
      "[I 2024-02-22 19:11:41,305] Trial 35 finished with value: 0.490625 and parameters: {'max_depth': 8, 'min_samples_split': 6, 'min_samples_leaf': 2, 'criterion': 'entropy'}. Best is trial 27 with value: 0.521875.\n",
      "[I 2024-02-22 19:11:41,515] Trial 36 finished with value: 0.5 and parameters: {'max_depth': 8, 'min_samples_split': 4, 'min_samples_leaf': 4, 'criterion': 'entropy'}. Best is trial 27 with value: 0.521875.\n",
      "[I 2024-02-22 19:11:41,727] Trial 37 finished with value: 0.496875 and parameters: {'max_depth': 7, 'min_samples_split': 2, 'min_samples_leaf': 4, 'criterion': 'entropy'}. Best is trial 27 with value: 0.521875.\n",
      "[I 2024-02-22 19:11:41,932] Trial 38 finished with value: 0.446875 and parameters: {'max_depth': 7, 'min_samples_split': 2, 'min_samples_leaf': 5, 'criterion': 'entropy'}. Best is trial 27 with value: 0.521875.\n",
      "[I 2024-02-22 19:11:42,143] Trial 39 finished with value: 0.496875 and parameters: {'max_depth': 8, 'min_samples_split': 4, 'min_samples_leaf': 4, 'criterion': 'entropy'}. Best is trial 27 with value: 0.521875.\n",
      "[I 2024-02-22 19:11:42,293] Trial 40 finished with value: 0.03125 and parameters: {'max_depth': 2, 'min_samples_split': 6, 'min_samples_leaf': 4, 'criterion': 'entropy'}. Best is trial 27 with value: 0.521875.\n",
      "[I 2024-02-22 19:11:42,504] Trial 41 finished with value: 0.496875 and parameters: {'max_depth': 8, 'min_samples_split': 4, 'min_samples_leaf': 4, 'criterion': 'entropy'}. Best is trial 27 with value: 0.521875.\n",
      "[I 2024-02-22 19:11:42,714] Trial 42 finished with value: 0.434375 and parameters: {'max_depth': 8, 'min_samples_split': 2, 'min_samples_leaf': 5, 'criterion': 'entropy'}. Best is trial 27 with value: 0.521875.\n",
      "[I 2024-02-22 19:11:42,926] Trial 43 finished with value: 0.525 and parameters: {'max_depth': 7, 'min_samples_split': 3, 'min_samples_leaf': 4, 'criterion': 'entropy'}. Best is trial 43 with value: 0.525.\n",
      "[I 2024-02-22 19:11:43,126] Trial 44 finished with value: 0.396875 and parameters: {'max_depth': 7, 'min_samples_split': 3, 'min_samples_leaf': 6, 'criterion': 'entropy'}. Best is trial 43 with value: 0.525.\n",
      "[I 2024-02-22 19:11:43,347] Trial 45 finished with value: 0.525 and parameters: {'max_depth': 7, 'min_samples_split': 2, 'min_samples_leaf': 3, 'criterion': 'entropy'}. Best is trial 43 with value: 0.525.\n",
      "[I 2024-02-22 19:11:43,566] Trial 46 finished with value: 0.53125 and parameters: {'max_depth': 8, 'min_samples_split': 6, 'min_samples_leaf': 3, 'criterion': 'entropy'}. Best is trial 46 with value: 0.53125.\n",
      "[I 2024-02-22 19:11:43,785] Trial 47 finished with value: 0.509375 and parameters: {'max_depth': 7, 'min_samples_split': 6, 'min_samples_leaf': 3, 'criterion': 'entropy'}. Best is trial 46 with value: 0.53125.\n",
      "[I 2024-02-22 19:11:43,988] Trial 48 finished with value: 0.25625 and parameters: {'max_depth': 6, 'min_samples_split': 20, 'min_samples_leaf': 3, 'criterion': 'entropy'}. Best is trial 46 with value: 0.53125.\n",
      "[I 2024-02-22 19:11:44,199] Trial 49 finished with value: 0.3125 and parameters: {'max_depth': 5, 'min_samples_split': 16, 'min_samples_leaf': 3, 'criterion': 'entropy'}. Best is trial 46 with value: 0.53125.\n",
      "[I 2024-02-22 19:11:44,426] Trial 50 finished with value: 0.5 and parameters: {'max_depth': 7, 'min_samples_split': 7, 'min_samples_leaf': 2, 'criterion': 'entropy'}. Best is trial 46 with value: 0.53125.\n",
      "[I 2024-02-22 19:11:44,648] Trial 51 finished with value: 0.49375 and parameters: {'max_depth': 7, 'min_samples_split': 6, 'min_samples_leaf': 3, 'criterion': 'entropy'}. Best is trial 46 with value: 0.53125.\n",
      "[I 2024-02-22 19:11:44,869] Trial 52 finished with value: 0.525 and parameters: {'max_depth': 8, 'min_samples_split': 3, 'min_samples_leaf': 3, 'criterion': 'entropy'}. Best is trial 46 with value: 0.53125.\n",
      "[I 2024-02-22 19:11:45,053] Trial 53 finished with value: 0.259375 and parameters: {'max_depth': 8, 'min_samples_split': 3, 'min_samples_leaf': 10, 'criterion': 'entropy'}. Best is trial 46 with value: 0.53125.\n",
      "[I 2024-02-22 19:11:45,284] Trial 54 finished with value: 0.48125 and parameters: {'max_depth': 8, 'min_samples_split': 3, 'min_samples_leaf': 2, 'criterion': 'entropy'}. Best is trial 46 with value: 0.53125.\n",
      "[I 2024-02-22 19:11:45,520] Trial 55 finished with value: 0.534375 and parameters: {'max_depth': 9, 'min_samples_split': 4, 'min_samples_leaf': 1, 'criterion': 'entropy'}. Best is trial 55 with value: 0.534375.\n",
      "[I 2024-02-22 19:11:45,752] Trial 56 finished with value: 0.50625 and parameters: {'max_depth': 9, 'min_samples_split': 8, 'min_samples_leaf': 1, 'criterion': 'entropy'}. Best is trial 55 with value: 0.534375.\n",
      "[I 2024-02-22 19:11:45,990] Trial 57 finished with value: 0.521875 and parameters: {'max_depth': 9, 'min_samples_split': 4, 'min_samples_leaf': 1, 'criterion': 'entropy'}. Best is trial 55 with value: 0.534375.\n",
      "[I 2024-02-22 19:11:46,228] Trial 58 finished with value: 0.5625 and parameters: {'max_depth': 9, 'min_samples_split': 5, 'min_samples_leaf': 1, 'criterion': 'entropy'}. Best is trial 58 with value: 0.5625.\n",
      "[I 2024-02-22 19:11:46,462] Trial 59 finished with value: 0.515625 and parameters: {'max_depth': 9, 'min_samples_split': 6, 'min_samples_leaf': 1, 'criterion': 'entropy'}. Best is trial 58 with value: 0.5625.\n",
      "[I 2024-02-22 19:11:46,702] Trial 60 finished with value: 0.540625 and parameters: {'max_depth': 9, 'min_samples_split': 4, 'min_samples_leaf': 1, 'criterion': 'entropy'}. Best is trial 58 with value: 0.5625.\n",
      "[I 2024-02-22 19:11:46,941] Trial 61 finished with value: 0.5625 and parameters: {'max_depth': 9, 'min_samples_split': 4, 'min_samples_leaf': 1, 'criterion': 'entropy'}. Best is trial 58 with value: 0.5625.\n",
      "[I 2024-02-22 19:11:47,179] Trial 62 finished with value: 0.51875 and parameters: {'max_depth': 10, 'min_samples_split': 4, 'min_samples_leaf': 1, 'criterion': 'entropy'}. Best is trial 58 with value: 0.5625.\n",
      "[I 2024-02-22 19:11:47,415] Trial 63 finished with value: 0.5 and parameters: {'max_depth': 9, 'min_samples_split': 7, 'min_samples_leaf': 1, 'criterion': 'entropy'}. Best is trial 58 with value: 0.5625.\n",
      "[I 2024-02-22 19:11:47,650] Trial 64 finished with value: 0.50625 and parameters: {'max_depth': 9, 'min_samples_split': 5, 'min_samples_leaf': 1, 'criterion': 'entropy'}. Best is trial 58 with value: 0.5625.\n",
      "[I 2024-02-22 19:11:47,887] Trial 65 finished with value: 0.51875 and parameters: {'max_depth': 10, 'min_samples_split': 4, 'min_samples_leaf': 1, 'criterion': 'entropy'}. Best is trial 58 with value: 0.5625.\n",
      "[I 2024-02-22 19:11:48,115] Trial 66 finished with value: 0.5375 and parameters: {'max_depth': 9, 'min_samples_split': 5, 'min_samples_leaf': 2, 'criterion': 'entropy'}. Best is trial 58 with value: 0.5625.\n",
      "[I 2024-02-22 19:11:48,350] Trial 67 finished with value: 0.54375 and parameters: {'max_depth': 9, 'min_samples_split': 5, 'min_samples_leaf': 1, 'criterion': 'entropy'}. Best is trial 58 with value: 0.5625.\n",
      "[I 2024-02-22 19:11:48,581] Trial 68 finished with value: 0.49375 and parameters: {'max_depth': 10, 'min_samples_split': 9, 'min_samples_leaf': 1, 'criterion': 'entropy'}. Best is trial 58 with value: 0.5625.\n",
      "[I 2024-02-22 19:11:48,816] Trial 69 finished with value: 0.515625 and parameters: {'max_depth': 9, 'min_samples_split': 8, 'min_samples_leaf': 1, 'criterion': 'entropy'}. Best is trial 58 with value: 0.5625.\n",
      "[I 2024-02-22 19:11:49,050] Trial 70 finished with value: 0.496875 and parameters: {'max_depth': 10, 'min_samples_split': 5, 'min_samples_leaf': 2, 'criterion': 'entropy'}. Best is trial 58 with value: 0.5625.\n",
      "[I 2024-02-22 19:11:49,318] Trial 71 finished with value: 0.534375 and parameters: {'max_depth': 9, 'min_samples_split': 5, 'min_samples_leaf': 1, 'criterion': 'entropy'}. Best is trial 58 with value: 0.5625.\n",
      "[I 2024-02-22 19:11:49,553] Trial 72 finished with value: 0.478125 and parameters: {'max_depth': 9, 'min_samples_split': 6, 'min_samples_leaf': 1, 'criterion': 'entropy'}. Best is trial 58 with value: 0.5625.\n",
      "[I 2024-02-22 19:11:49,782] Trial 73 finished with value: 0.48125 and parameters: {'max_depth': 9, 'min_samples_split': 5, 'min_samples_leaf': 2, 'criterion': 'entropy'}. Best is trial 58 with value: 0.5625.\n",
      "[I 2024-02-22 19:11:50,019] Trial 74 finished with value: 0.46875 and parameters: {'max_depth': 9, 'min_samples_split': 7, 'min_samples_leaf': 1, 'criterion': 'entropy'}. Best is trial 58 with value: 0.5625.\n",
      "[I 2024-02-22 19:11:50,251] Trial 75 finished with value: 0.5125 and parameters: {'max_depth': 10, 'min_samples_split': 4, 'min_samples_leaf': 2, 'criterion': 'entropy'}. Best is trial 58 with value: 0.5625.\n",
      "[I 2024-02-22 19:11:50,489] Trial 76 finished with value: 0.525 and parameters: {'max_depth': 9, 'min_samples_split': 5, 'min_samples_leaf': 1, 'criterion': 'entropy'}. Best is trial 58 with value: 0.5625.\n",
      "[I 2024-02-22 19:11:50,721] Trial 77 finished with value: 0.4875 and parameters: {'max_depth': 9, 'min_samples_split': 6, 'min_samples_leaf': 2, 'criterion': 'entropy'}. Best is trial 58 with value: 0.5625.\n",
      "[I 2024-02-22 19:11:50,960] Trial 78 finished with value: 0.528125 and parameters: {'max_depth': 10, 'min_samples_split': 5, 'min_samples_leaf': 1, 'criterion': 'entropy'}. Best is trial 58 with value: 0.5625.\n",
      "[I 2024-02-22 19:11:51,188] Trial 79 finished with value: 0.425 and parameters: {'max_depth': 9, 'min_samples_split': 11, 'min_samples_leaf': 2, 'criterion': 'entropy'}. Best is trial 58 with value: 0.5625.\n",
      "[I 2024-02-22 19:11:51,425] Trial 80 finished with value: 0.503125 and parameters: {'max_depth': 9, 'min_samples_split': 7, 'min_samples_leaf': 1, 'criterion': 'entropy'}. Best is trial 58 with value: 0.5625.\n",
      "[I 2024-02-22 19:11:51,663] Trial 81 finished with value: 0.475 and parameters: {'max_depth': 10, 'min_samples_split': 5, 'min_samples_leaf': 1, 'criterion': 'entropy'}. Best is trial 58 with value: 0.5625.\n",
      "[I 2024-02-22 19:11:51,850] Trial 82 finished with value: 0.075 and parameters: {'max_depth': 3, 'min_samples_split': 4, 'min_samples_leaf': 1, 'criterion': 'entropy'}. Best is trial 58 with value: 0.5625.\n",
      "[I 2024-02-22 19:11:52,090] Trial 83 finished with value: 0.5375 and parameters: {'max_depth': 10, 'min_samples_split': 5, 'min_samples_leaf': 1, 'criterion': 'entropy'}. Best is trial 58 with value: 0.5625.\n",
      "[I 2024-02-22 19:11:52,280] Trial 84 finished with value: 0.290625 and parameters: {'max_depth': 10, 'min_samples_split': 6, 'min_samples_leaf': 9, 'criterion': 'entropy'}. Best is trial 58 with value: 0.5625.\n",
      "[I 2024-02-22 19:11:52,512] Trial 85 finished with value: 0.4875 and parameters: {'max_depth': 10, 'min_samples_split': 4, 'min_samples_leaf': 2, 'criterion': 'entropy'}. Best is trial 58 with value: 0.5625.\n",
      "[I 2024-02-22 19:11:52,747] Trial 86 finished with value: 0.49375 and parameters: {'max_depth': 8, 'min_samples_split': 8, 'min_samples_leaf': 1, 'criterion': 'entropy'}. Best is trial 58 with value: 0.5625.\n",
      "[I 2024-02-22 19:11:52,979] Trial 87 finished with value: 0.509375 and parameters: {'max_depth': 9, 'min_samples_split': 5, 'min_samples_leaf': 2, 'criterion': 'entropy'}. Best is trial 58 with value: 0.5625.\n",
      "[I 2024-02-22 19:11:53,219] Trial 88 finished with value: 0.5 and parameters: {'max_depth': 9, 'min_samples_split': 3, 'min_samples_leaf': 1, 'criterion': 'entropy'}. Best is trial 58 with value: 0.5625.\n",
      "[I 2024-02-22 19:11:53,325] Trial 89 finished with value: 0.334375 and parameters: {'max_depth': 8, 'min_samples_split': 6, 'min_samples_leaf': 7, 'criterion': 'gini'}. Best is trial 58 with value: 0.5625.\n",
      "[I 2024-02-22 19:11:53,556] Trial 90 finished with value: 0.5375 and parameters: {'max_depth': 10, 'min_samples_split': 4, 'min_samples_leaf': 2, 'criterion': 'entropy'}. Best is trial 58 with value: 0.5625.\n",
      "[I 2024-02-22 19:11:53,788] Trial 91 finished with value: 0.528125 and parameters: {'max_depth': 10, 'min_samples_split': 4, 'min_samples_leaf': 2, 'criterion': 'entropy'}. Best is trial 58 with value: 0.5625.\n",
      "[I 2024-02-22 19:11:54,029] Trial 92 finished with value: 0.54375 and parameters: {'max_depth': 10, 'min_samples_split': 5, 'min_samples_leaf': 1, 'criterion': 'entropy'}. Best is trial 58 with value: 0.5625.\n",
      "[I 2024-02-22 19:11:54,268] Trial 93 finished with value: 0.528125 and parameters: {'max_depth': 10, 'min_samples_split': 5, 'min_samples_leaf': 1, 'criterion': 'entropy'}. Best is trial 58 with value: 0.5625.\n",
      "[I 2024-02-22 19:11:54,506] Trial 94 finished with value: 0.509375 and parameters: {'max_depth': 10, 'min_samples_split': 4, 'min_samples_leaf': 1, 'criterion': 'entropy'}. Best is trial 58 with value: 0.5625.\n",
      "[I 2024-02-22 19:11:54,740] Trial 95 finished with value: 0.503125 and parameters: {'max_depth': 10, 'min_samples_split': 3, 'min_samples_leaf': 2, 'criterion': 'entropy'}. Best is trial 58 with value: 0.5625.\n",
      "[I 2024-02-22 19:11:54,959] Trial 96 finished with value: 0.3 and parameters: {'max_depth': 9, 'min_samples_split': 18, 'min_samples_leaf': 1, 'criterion': 'entropy'}. Best is trial 58 with value: 0.5625.\n",
      "[I 2024-02-22 19:11:55,191] Trial 97 finished with value: 0.50625 and parameters: {'max_depth': 9, 'min_samples_split': 4, 'min_samples_leaf': 2, 'criterion': 'entropy'}. Best is trial 58 with value: 0.5625.\n",
      "[I 2024-02-22 19:11:55,427] Trial 98 finished with value: 0.50625 and parameters: {'max_depth': 10, 'min_samples_split': 7, 'min_samples_leaf': 1, 'criterion': 'entropy'}. Best is trial 58 with value: 0.5625.\n",
      "[I 2024-02-22 19:11:55,654] Trial 99 finished with value: 0.353125 and parameters: {'max_depth': 9, 'min_samples_split': 14, 'min_samples_leaf': 1, 'criterion': 'entropy'}. Best is trial 58 with value: 0.5625.\n"
     ]
    },
    {
     "name": "stdout",
     "output_type": "stream",
     "text": [
      "Best params found : {'max_depth': 9, 'min_samples_split': 5, 'min_samples_leaf': 1, 'criterion': 'entropy'}\n",
      "accuracy: 0.5375\n",
      "recall: 0.4764957264957266\n",
      "precision: 0.497008547008547\n",
      "f1-score: 0.455962555962556\n"
     ]
    }
   ],
   "source": [
    "study = optuna.create_study(direction='maximize')\n",
    "study.optimize(objective, n_trials=100)\n",
    "best_params = study.best_params\n",
    "print(\"Best params found :\", best_params)\n",
    "\n",
    "final_model = DecisionTreeClassifier(**best_params)\n",
    "final_model.fit(X_train_reduced, y_train)\n",
    "y_pred = final_model.predict(X_test_reduced)\n",
    "prediction_results['decison tree'] = list(y_pred)\n",
    "\n",
    "accuracy = accuracy_score(y_test, y_pred)\n",
    "precision = precision_score(y_test, y_pred, average='macro')\n",
    "recall = recall_score(y_test, y_pred, average='macro')\n",
    "f1 = f1_score(y_test, y_pred, average='macro')\n",
    "\n",
    "# One-hot encoding for probability calculation (adapt if necessary)\n",
    "# Assuming 'label_' prefix for clarity\n",
    "y_test_onehot = pd.get_dummies(y_test, prefix='label_')\n",
    "y_pred_onehot = pd.get_dummies(y_pred, prefix='label_')\n",
    "\n",
    "# # ROC AUC score with multiclass handling\n",
    "# roc_auc_macro = roc_auc_score(y_test_onehot, y_pred_onehot,\n",
    "#                               average='macro', multi_class='ovo')  # Specify 'ovo' or 'ovr'\n",
    "\n",
    "print(\"accuracy:\", accuracy)\n",
    "print(\"recall:\", recall)\n",
    "print(\"precision:\", precision)\n",
    "print(\"f1-score:\", f1)\n",
    "# print('roc_auc: ', roc_auc_macro)"
   ]
  },
  {
   "cell_type": "markdown",
   "id": "7e4ceea6",
   "metadata": {
    "id": "81guluY9Zoce",
    "papermill": {
     "duration": 0.158581,
     "end_time": "2024-02-22T19:11:56.041744",
     "exception": false,
     "start_time": "2024-02-22T19:11:55.883163",
     "status": "completed"
    },
    "tags": []
   },
   "source": [
    "Tuning rồi lưu kết quả tuning vào bên dưới"
   ]
  },
  {
   "cell_type": "markdown",
   "id": "4d613e72",
   "metadata": {
    "id": "mJels-qLZocf",
    "papermill": {
     "duration": 0.158881,
     "end_time": "2024-02-22T19:11:56.360720",
     "exception": false,
     "start_time": "2024-02-22T19:11:56.201839",
     "status": "completed"
    },
    "tags": []
   },
   "source": [
    "# num_image = 16"
   ]
  },
  {
   "cell_type": "code",
   "execution_count": 60,
   "id": "e51c2b75",
   "metadata": {
    "execution": {
     "iopub.execute_input": "2024-02-22T19:11:56.677396Z",
     "iopub.status.busy": "2024-02-22T19:11:56.677013Z",
     "iopub.status.idle": "2024-02-22T19:11:58.431761Z",
     "shell.execute_reply": "2024-02-22T19:11:58.430171Z"
    },
    "id": "bt0sQcs7Zocf",
    "papermill": {
     "duration": 1.918849,
     "end_time": "2024-02-22T19:11:58.436250",
     "exception": false,
     "start_time": "2024-02-22T19:11:56.517401",
     "status": "completed"
    },
    "tags": []
   },
   "outputs": [],
   "source": [
    "n_components_pca = 50\n",
    "pca = ModularPCA(n_components=n_components_pca, num_image=16)\n",
    "X_train_reduced = pca.fit_transform(X_train)\n",
    "X_test_reduced = pca.transform(X_test)"
   ]
  },
  {
   "cell_type": "code",
   "execution_count": 61,
   "id": "ab4e2891",
   "metadata": {
    "execution": {
     "iopub.execute_input": "2024-02-22T19:11:58.816353Z",
     "iopub.status.busy": "2024-02-22T19:11:58.815973Z",
     "iopub.status.idle": "2024-02-22T19:11:58.820267Z",
     "shell.execute_reply": "2024-02-22T19:11:58.819380Z"
    },
    "id": "nClgatiPZocf",
    "papermill": {
     "duration": 0.166251,
     "end_time": "2024-02-22T19:11:58.822458",
     "exception": false,
     "start_time": "2024-02-22T19:11:58.656207",
     "status": "completed"
    },
    "tags": []
   },
   "outputs": [],
   "source": [
    "# accuracy_scores, precision_scores, recall_scores, f1_scores = [], [], [], []\n",
    "# n_components_pca = 50\n",
    "# n_splits = 5\n",
    "# skf = StratifiedKFold(n_splits=n_splits, shuffle=True, random_state=42)"
   ]
  },
  {
   "cell_type": "code",
   "execution_count": 62,
   "id": "c4bdd1fe",
   "metadata": {
    "execution": {
     "iopub.execute_input": "2024-02-22T19:11:59.150834Z",
     "iopub.status.busy": "2024-02-22T19:11:59.149986Z",
     "iopub.status.idle": "2024-02-22T19:11:59.156321Z",
     "shell.execute_reply": "2024-02-22T19:11:59.154600Z"
    },
    "id": "y2za525DZocf",
    "papermill": {
     "duration": 0.179237,
     "end_time": "2024-02-22T19:11:59.159650",
     "exception": false,
     "start_time": "2024-02-22T19:11:58.980413",
     "status": "completed"
    },
    "tags": []
   },
   "outputs": [],
   "source": [
    "# for train_index, test_index in skf.split(X, y):\n",
    "#     X_train, X_test = X[train_index], X[test_index]\n",
    "#     y_train, y_test = y[train_index], y[test_index]\n",
    "\n",
    "#     pca = PCA(n_components=n_components_pca)\n",
    "#     X_train_reduced = pca.fit_transform(X_train)\n",
    "#     X_test_reduced = pca.transform(X_test)\n",
    "\n",
    "#     # Euclidean\n",
    "#     y_pred = []\n",
    "#     for i in range(320):\n",
    "#         min_ = np.argmin(np.sqrt(np.sum((X_train_reduced - X_test_reduced[i])**2,axis=1)))\n",
    "#         y_pred.append(y_train[min_])\n",
    "\n",
    "#     # Evaluate the model\n",
    "#     accuracy = accuracy_score(y_test, y_pred)\n",
    "#     accuracy_scores.append(accuracy)\n",
    "\n",
    "# print(np.mean(accuracy_scores))"
   ]
  },
  {
   "cell_type": "markdown",
   "id": "32ae9e4d",
   "metadata": {
    "id": "B05mgPI4Zocf",
    "papermill": {
     "duration": 0.156832,
     "end_time": "2024-02-22T19:11:59.487308",
     "exception": false,
     "start_time": "2024-02-22T19:11:59.330476",
     "status": "completed"
    },
    "tags": []
   },
   "source": [
    "## Modeling"
   ]
  },
  {
   "cell_type": "code",
   "execution_count": 63,
   "id": "c938a2ea",
   "metadata": {
    "execution": {
     "iopub.execute_input": "2024-02-22T19:11:59.807020Z",
     "iopub.status.busy": "2024-02-22T19:11:59.805994Z",
     "iopub.status.idle": "2024-02-22T19:11:59.810844Z",
     "shell.execute_reply": "2024-02-22T19:11:59.810071Z"
    },
    "id": "sVSttdiwZocg",
    "papermill": {
     "duration": 0.167923,
     "end_time": "2024-02-22T19:11:59.813058",
     "exception": false,
     "start_time": "2024-02-22T19:11:59.645135",
     "status": "completed"
    },
    "tags": []
   },
   "outputs": [],
   "source": [
    "from sklearn.model_selection import KFold\n",
    "n_splits = 5\n",
    "kf = KFold(n_splits=n_splits, shuffle=True, random_state=42)"
   ]
  },
  {
   "cell_type": "markdown",
   "id": "26e16eed",
   "metadata": {
    "id": "djODk29rZocg",
    "papermill": {
     "duration": 0.157188,
     "end_time": "2024-02-22T19:12:00.128382",
     "exception": false,
     "start_time": "2024-02-22T19:11:59.971194",
     "status": "completed"
    },
    "tags": []
   },
   "source": [
    "## Random Forest"
   ]
  },
  {
   "cell_type": "code",
   "execution_count": 64,
   "id": "e6e8bce4",
   "metadata": {
    "execution": {
     "iopub.execute_input": "2024-02-22T19:12:00.446527Z",
     "iopub.status.busy": "2024-02-22T19:12:00.445792Z",
     "iopub.status.idle": "2024-02-22T19:12:00.449940Z",
     "shell.execute_reply": "2024-02-22T19:12:00.449161Z"
    },
    "id": "1c7-upjTZocg",
    "papermill": {
     "duration": 0.164365,
     "end_time": "2024-02-22T19:12:00.452062",
     "exception": false,
     "start_time": "2024-02-22T19:12:00.287697",
     "status": "completed"
    },
    "tags": []
   },
   "outputs": [],
   "source": [
    "prediction_results = {}"
   ]
  },
  {
   "cell_type": "code",
   "execution_count": 65,
   "id": "4ff1b6f2",
   "metadata": {
    "execution": {
     "iopub.execute_input": "2024-02-22T19:12:00.769858Z",
     "iopub.status.busy": "2024-02-22T19:12:00.769112Z",
     "iopub.status.idle": "2024-02-22T19:12:00.773587Z",
     "shell.execute_reply": "2024-02-22T19:12:00.772811Z"
    },
    "id": "DQpj1qmJZocg",
    "papermill": {
     "duration": 0.166508,
     "end_time": "2024-02-22T19:12:00.775799",
     "exception": false,
     "start_time": "2024-02-22T19:12:00.609291",
     "status": "completed"
    },
    "tags": []
   },
   "outputs": [],
   "source": [
    "from sklearn.ensemble import RandomForestClassifier\n",
    "from sklearn.metrics import accuracy_score"
   ]
  },
  {
   "cell_type": "markdown",
   "id": "b91ac9b1",
   "metadata": {
    "id": "udxDjnQ-Zoch",
    "papermill": {
     "duration": 0.156659,
     "end_time": "2024-02-22T19:12:01.165585",
     "exception": false,
     "start_time": "2024-02-22T19:12:01.008926",
     "status": "completed"
    },
    "tags": []
   },
   "source": [
    "**Normal**"
   ]
  },
  {
   "cell_type": "code",
   "execution_count": 66,
   "id": "d93ebe08",
   "metadata": {
    "execution": {
     "iopub.execute_input": "2024-02-22T19:12:01.481569Z",
     "iopub.status.busy": "2024-02-22T19:12:01.480830Z",
     "iopub.status.idle": "2024-02-22T19:12:02.006036Z",
     "shell.execute_reply": "2024-02-22T19:12:02.004776Z"
    },
    "id": "tXhSfQhhZoch",
    "outputId": "fdf23eb7-e23a-4c74-bc93-fb252f3d652b",
    "papermill": {
     "duration": 0.685599,
     "end_time": "2024-02-22T19:12:02.008531",
     "exception": false,
     "start_time": "2024-02-22T19:12:01.322932",
     "status": "completed"
    },
    "tags": []
   },
   "outputs": [
    {
     "name": "stdout",
     "output_type": "stream",
     "text": [
      "accuracy: 0.9875\n",
      "recall: 0.9722222222222222\n",
      "precision: 0.9629629629629629\n",
      "f1-score: 0.9666666666666666\n",
      "roc_auc:  0.7339875119474435\n"
     ]
    }
   ],
   "source": [
    "rfr = RandomForestClassifier(random_state=42)\n",
    "rfr.fit(X_train_reduced,y_train)\n",
    "y_pred = rfr.predict(X_test_reduced)\n",
    "\n",
    "accuracy = accuracy_score(y_test, y_pred)\n",
    "precision = precision_score(y_test, y_pred, average='macro')\n",
    "recall = recall_score(y_test, y_pred, average='macro')\n",
    "f1 = f1_score(y_test, y_pred, average='macro')\n",
    "\n",
    "# One-hot encoding for probability calculation (adapt if necessary)\n",
    "y_test_onehot = pd.get_dummies(y_test, prefix='label_')  # Assuming 'label_' prefix for clarity\n",
    "y_pred_onehot = pd.get_dummies(y_pred, prefix='label_')\n",
    "\n",
    "# ROC AUC score with multiclass handling\n",
    "roc_auc_macro = roc_auc_score(y_test_onehot, y_pred_onehot, average='macro', multi_class='ovo')  # Specify 'ovo' or 'ovr'\n",
    "\n",
    "print(\"accuracy:\", accuracy)\n",
    "print(\"recall:\", recall)\n",
    "print(\"precision:\", precision)\n",
    "print(\"f1-score:\", f1)\n",
    "print('roc_auc: ', roc_auc_macro)"
   ]
  },
  {
   "cell_type": "markdown",
   "id": "8c402e76",
   "metadata": {
    "id": "AT8pvxD9Zoch",
    "papermill": {
     "duration": 0.17302,
     "end_time": "2024-02-22T19:12:02.339352",
     "exception": false,
     "start_time": "2024-02-22T19:12:02.166332",
     "status": "completed"
    },
    "tags": []
   },
   "source": [
    "**Tunning**"
   ]
  },
  {
   "cell_type": "code",
   "execution_count": 67,
   "id": "6e7d445a",
   "metadata": {
    "execution": {
     "iopub.execute_input": "2024-02-22T19:12:02.687900Z",
     "iopub.status.busy": "2024-02-22T19:12:02.687192Z",
     "iopub.status.idle": "2024-02-22T19:12:02.698954Z",
     "shell.execute_reply": "2024-02-22T19:12:02.696243Z"
    },
    "id": "FIVv-RMVZoch",
    "papermill": {
     "duration": 0.200426,
     "end_time": "2024-02-22T19:12:02.702941",
     "exception": false,
     "start_time": "2024-02-22T19:12:02.502515",
     "status": "completed"
    },
    "tags": []
   },
   "outputs": [],
   "source": [
    "import optuna\n",
    "\n",
    "\n",
    "def objective(trial):\n",
    "    hyperparams = {\n",
    "        'n_estimators': trial.suggest_int('n_estimators', 100, 1000),\n",
    "        'max_depth': trial.suggest_int('max_depth', 10, 50),\n",
    "        'min_samples_split': trial.suggest_int('min_samples_split', 2, 32),\n",
    "        'random_state': trial.suggest_categorical('random_state', [42]),\n",
    "        'min_samples_leaf': trial.suggest_int('min_samples_leaf', 1, 32),\n",
    "        'n_jobs': -1\n",
    "    }\n",
    "\n",
    "    model = RandomForestClassifier(**hyperparams)\n",
    "    scores = cross_val_score(model, X_train_reduced,\n",
    "                             y_train, cv=kf, scoring='accuracy')\n",
    "    return np.mean(scores)"
   ]
  },
  {
   "cell_type": "code",
   "execution_count": 68,
   "id": "1ac19d92",
   "metadata": {
    "execution": {
     "iopub.execute_input": "2024-02-22T19:12:03.030168Z",
     "iopub.status.busy": "2024-02-22T19:12:03.028575Z",
     "iopub.status.idle": "2024-02-22T19:33:31.345550Z",
     "shell.execute_reply": "2024-02-22T19:33:31.344486Z"
    },
    "id": "dhYPug44Zoci",
    "outputId": "c2031162-9cb8-4245-9f9b-38e12863fd3b",
    "papermill": {
     "duration": 1288.479945,
     "end_time": "2024-02-22T19:33:31.348024",
     "exception": false,
     "start_time": "2024-02-22T19:12:02.868079",
     "status": "completed"
    },
    "tags": []
   },
   "outputs": [
    {
     "name": "stderr",
     "output_type": "stream",
     "text": [
      "[I 2024-02-22 19:12:03,032] A new study created in memory with name: no-name-b4b28254-091b-477d-a7c9-c69125975f62\n",
      "[I 2024-02-22 19:12:18,567] Trial 0 finished with value: 0.725 and parameters: {'n_estimators': 837, 'max_depth': 47, 'min_samples_split': 20, 'random_state': 42, 'min_samples_leaf': 4}. Best is trial 0 with value: 0.725.\n",
      "[I 2024-02-22 19:12:35,427] Trial 1 finished with value: 0.73125 and parameters: {'n_estimators': 950, 'max_depth': 45, 'min_samples_split': 3, 'random_state': 42, 'min_samples_leaf': 11}. Best is trial 1 with value: 0.73125.\n",
      "[I 2024-02-22 19:12:44,465] Trial 2 finished with value: 0.771875 and parameters: {'n_estimators': 501, 'max_depth': 42, 'min_samples_split': 7, 'random_state': 42, 'min_samples_leaf': 8}. Best is trial 2 with value: 0.771875.\n",
      "[I 2024-02-22 19:12:57,466] Trial 3 finished with value: 0.68125 and parameters: {'n_estimators': 754, 'max_depth': 25, 'min_samples_split': 31, 'random_state': 42, 'min_samples_leaf': 10}. Best is trial 2 with value: 0.771875.\n",
      "[I 2024-02-22 19:13:12,279] Trial 4 finished with value: 0.646875 and parameters: {'n_estimators': 885, 'max_depth': 47, 'min_samples_split': 25, 'random_state': 42, 'min_samples_leaf': 20}. Best is trial 2 with value: 0.771875.\n",
      "[I 2024-02-22 19:13:24,416] Trial 5 finished with value: 0.584375 and parameters: {'n_estimators': 734, 'max_depth': 46, 'min_samples_split': 31, 'random_state': 42, 'min_samples_leaf': 24}. Best is trial 2 with value: 0.771875.\n",
      "[I 2024-02-22 19:13:27,993] Trial 6 finished with value: 0.85625 and parameters: {'n_estimators': 174, 'max_depth': 18, 'min_samples_split': 2, 'random_state': 42, 'min_samples_leaf': 2}. Best is trial 6 with value: 0.85625.\n",
      "[I 2024-02-22 19:13:35,822] Trial 7 finished with value: 0.640625 and parameters: {'n_estimators': 471, 'max_depth': 42, 'min_samples_split': 32, 'random_state': 42, 'min_samples_leaf': 21}. Best is trial 6 with value: 0.85625.\n",
      "[I 2024-02-22 19:13:40,305] Trial 8 finished with value: 0.6625 and parameters: {'n_estimators': 231, 'max_depth': 23, 'min_samples_split': 29, 'random_state': 42, 'min_samples_leaf': 1}. Best is trial 6 with value: 0.85625.\n",
      "[I 2024-02-22 19:13:53,407] Trial 9 finished with value: 0.596875 and parameters: {'n_estimators': 801, 'max_depth': 30, 'min_samples_split': 18, 'random_state': 42, 'min_samples_leaf': 23}. Best is trial 6 with value: 0.85625.\n",
      "[I 2024-02-22 19:13:55,165] Trial 10 finished with value: 0.46875 and parameters: {'n_estimators': 101, 'max_depth': 11, 'min_samples_split': 11, 'random_state': 42, 'min_samples_leaf': 30}. Best is trial 6 with value: 0.85625.\n",
      "[I 2024-02-22 19:14:02,928] Trial 11 finished with value: 0.765625 and parameters: {'n_estimators': 426, 'max_depth': 13, 'min_samples_split': 2, 'random_state': 42, 'min_samples_leaf': 8}. Best is trial 6 with value: 0.85625.\n",
      "[I 2024-02-22 19:14:08,917] Trial 12 finished with value: 0.7875 and parameters: {'n_estimators': 316, 'max_depth': 37, 'min_samples_split': 9, 'random_state': 42, 'min_samples_leaf': 5}. Best is trial 6 with value: 0.85625.\n",
      "[I 2024-02-22 19:14:14,552] Trial 13 finished with value: 0.690625 and parameters: {'n_estimators': 311, 'max_depth': 34, 'min_samples_split': 12, 'random_state': 42, 'min_samples_leaf': 14}. Best is trial 6 with value: 0.85625.\n",
      "[I 2024-02-22 19:14:17,713] Trial 14 finished with value: 0.80625 and parameters: {'n_estimators': 158, 'max_depth': 20, 'min_samples_split': 8, 'random_state': 42, 'min_samples_leaf': 1}. Best is trial 6 with value: 0.85625.\n",
      "[I 2024-02-22 19:14:19,905] Trial 15 finished with value: 0.84375 and parameters: {'n_estimators': 102, 'max_depth': 17, 'min_samples_split': 5, 'random_state': 42, 'min_samples_leaf': 1}. Best is trial 6 with value: 0.85625.\n",
      "[I 2024-02-22 19:14:30,538] Trial 16 finished with value: 0.696875 and parameters: {'n_estimators': 626, 'max_depth': 16, 'min_samples_split': 5, 'random_state': 42, 'min_samples_leaf': 15}. Best is trial 6 with value: 0.85625.\n",
      "[I 2024-02-22 19:14:35,238] Trial 17 finished with value: 0.76875 and parameters: {'n_estimators': 250, 'max_depth': 17, 'min_samples_split': 13, 'random_state': 42, 'min_samples_leaf': 5}. Best is trial 6 with value: 0.85625.\n",
      "[I 2024-02-22 19:14:42,734] Trial 18 finished with value: 0.7625 and parameters: {'n_estimators': 386, 'max_depth': 27, 'min_samples_split': 15, 'random_state': 42, 'min_samples_leaf': 1}. Best is trial 6 with value: 0.85625.\n",
      "[I 2024-02-22 19:14:52,726] Trial 19 finished with value: 0.50625 and parameters: {'n_estimators': 623, 'max_depth': 21, 'min_samples_split': 4, 'random_state': 42, 'min_samples_leaf': 32}. Best is trial 6 with value: 0.85625.\n",
      "[I 2024-02-22 19:14:55,865] Trial 20 finished with value: 0.6875 and parameters: {'n_estimators': 177, 'max_depth': 10, 'min_samples_split': 21, 'random_state': 42, 'min_samples_leaf': 13}. Best is trial 6 with value: 0.85625.\n",
      "[I 2024-02-22 19:14:58,641] Trial 21 finished with value: 0.840625 and parameters: {'n_estimators': 137, 'max_depth': 20, 'min_samples_split': 7, 'random_state': 42, 'min_samples_leaf': 1}. Best is trial 6 with value: 0.85625.\n",
      "[I 2024-02-22 19:15:00,878] Trial 22 finished with value: 0.803125 and parameters: {'n_estimators': 113, 'max_depth': 17, 'min_samples_split': 5, 'random_state': 42, 'min_samples_leaf': 4}. Best is trial 6 with value: 0.85625.\n",
      "[I 2024-02-22 19:15:05,189] Trial 23 finished with value: 0.765625 and parameters: {'n_estimators': 237, 'max_depth': 14, 'min_samples_split': 7, 'random_state': 42, 'min_samples_leaf': 7}. Best is trial 6 with value: 0.85625.\n",
      "[I 2024-02-22 19:15:11,570] Trial 24 finished with value: 0.81875 and parameters: {'n_estimators': 335, 'max_depth': 20, 'min_samples_split': 9, 'random_state': 42, 'min_samples_leaf': 3}. Best is trial 6 with value: 0.85625.\n",
      "[I 2024-02-22 19:15:14,973] Trial 25 finished with value: 0.784375 and parameters: {'n_estimators': 176, 'max_depth': 28, 'min_samples_split': 2, 'random_state': 42, 'min_samples_leaf': 6}. Best is trial 6 with value: 0.85625.\n",
      "[I 2024-02-22 19:15:16,889] Trial 26 finished with value: 0.715625 and parameters: {'n_estimators': 103, 'max_depth': 23, 'min_samples_split': 6, 'random_state': 42, 'min_samples_leaf': 10}. Best is trial 6 with value: 0.85625.\n",
      "[I 2024-02-22 19:15:21,866] Trial 27 finished with value: 0.765625 and parameters: {'n_estimators': 254, 'max_depth': 32, 'min_samples_split': 15, 'random_state': 42, 'min_samples_leaf': 3}. Best is trial 6 with value: 0.85625.\n",
      "[I 2024-02-22 19:15:25,485] Trial 28 finished with value: 0.796875 and parameters: {'n_estimators': 181, 'max_depth': 19, 'min_samples_split': 10, 'random_state': 42, 'min_samples_leaf': 1}. Best is trial 6 with value: 0.85625.\n",
      "[I 2024-02-22 19:15:36,659] Trial 29 finished with value: 0.865625 and parameters: {'n_estimators': 585, 'max_depth': 14, 'min_samples_split': 4, 'random_state': 42, 'min_samples_leaf': 3}. Best is trial 29 with value: 0.865625.\n",
      "[I 2024-02-22 19:15:46,441] Trial 30 finished with value: 0.65625 and parameters: {'n_estimators': 565, 'max_depth': 15, 'min_samples_split': 22, 'random_state': 42, 'min_samples_leaf': 18}. Best is trial 29 with value: 0.865625.\n",
      "[I 2024-02-22 19:15:59,324] Trial 31 finished with value: 0.853125 and parameters: {'n_estimators': 660, 'max_depth': 12, 'min_samples_split': 4, 'random_state': 42, 'min_samples_leaf': 3}. Best is trial 29 with value: 0.865625.\n",
      "[I 2024-02-22 19:16:11,926] Trial 32 finished with value: 0.853125 and parameters: {'n_estimators': 646, 'max_depth': 12, 'min_samples_split': 4, 'random_state': 42, 'min_samples_leaf': 3}. Best is trial 29 with value: 0.865625.\n",
      "[I 2024-02-22 19:16:24,738] Trial 33 finished with value: 0.840625 and parameters: {'n_estimators': 665, 'max_depth': 12, 'min_samples_split': 3, 'random_state': 42, 'min_samples_leaf': 4}. Best is trial 29 with value: 0.865625.\n",
      "[I 2024-02-22 19:16:34,817] Trial 34 finished with value: 0.76875 and parameters: {'n_estimators': 542, 'max_depth': 10, 'min_samples_split': 2, 'random_state': 42, 'min_samples_leaf': 8}. Best is trial 29 with value: 0.865625.\n",
      "[I 2024-02-22 19:16:47,468] Trial 35 finished with value: 0.75 and parameters: {'n_estimators': 694, 'max_depth': 13, 'min_samples_split': 4, 'random_state': 42, 'min_samples_leaf': 9}. Best is trial 29 with value: 0.865625.\n",
      "[I 2024-02-22 19:17:05,115] Trial 36 finished with value: 0.725 and parameters: {'n_estimators': 995, 'max_depth': 15, 'min_samples_split': 7, 'random_state': 42, 'min_samples_leaf': 12}. Best is trial 29 with value: 0.865625.\n",
      "[I 2024-02-22 19:17:21,401] Trial 37 finished with value: 0.803125 and parameters: {'n_estimators': 867, 'max_depth': 50, 'min_samples_split': 4, 'random_state': 42, 'min_samples_leaf': 6}. Best is trial 29 with value: 0.865625.\n",
      "[I 2024-02-22 19:17:35,720] Trial 38 finished with value: 0.6875 and parameters: {'n_estimators': 766, 'max_depth': 12, 'min_samples_split': 25, 'random_state': 42, 'min_samples_leaf': 3}. Best is trial 29 with value: 0.865625.\n",
      "[I 2024-02-22 19:17:45,378] Trial 39 finished with value: 0.725 and parameters: {'n_estimators': 554, 'max_depth': 23, 'min_samples_split': 2, 'random_state': 42, 'min_samples_leaf': 11}. Best is trial 29 with value: 0.865625.\n",
      "[I 2024-02-22 19:17:53,609] Trial 40 finished with value: 0.54375 and parameters: {'n_estimators': 490, 'max_depth': 18, 'min_samples_split': 6, 'random_state': 42, 'min_samples_leaf': 27}. Best is trial 29 with value: 0.865625.\n",
      "[I 2024-02-22 19:18:05,636] Trial 41 finished with value: 0.865625 and parameters: {'n_estimators': 613, 'max_depth': 14, 'min_samples_split': 5, 'random_state': 42, 'min_samples_leaf': 2}. Best is trial 29 with value: 0.865625.\n",
      "[I 2024-02-22 19:18:17,009] Trial 42 finished with value: 0.85 and parameters: {'n_estimators': 603, 'max_depth': 10, 'min_samples_split': 4, 'random_state': 42, 'min_samples_leaf': 3}. Best is trial 29 with value: 0.865625.\n",
      "[I 2024-02-22 19:18:29,770] Trial 43 finished with value: 0.803125 and parameters: {'n_estimators': 698, 'max_depth': 15, 'min_samples_split': 9, 'random_state': 42, 'min_samples_leaf': 6}. Best is trial 29 with value: 0.865625.\n",
      "[I 2024-02-22 19:18:38,392] Trial 44 finished with value: 0.865625 and parameters: {'n_estimators': 452, 'max_depth': 13, 'min_samples_split': 3, 'random_state': 42, 'min_samples_leaf': 3}. Best is trial 29 with value: 0.865625.\n",
      "[I 2024-02-22 19:18:46,797] Trial 45 finished with value: 0.796875 and parameters: {'n_estimators': 449, 'max_depth': 14, 'min_samples_split': 3, 'random_state': 42, 'min_samples_leaf': 5}. Best is trial 29 with value: 0.865625.\n",
      "[I 2024-02-22 19:18:56,226] Trial 46 finished with value: 0.771875 and parameters: {'n_estimators': 524, 'max_depth': 25, 'min_samples_split': 6, 'random_state': 42, 'min_samples_leaf': 8}. Best is trial 29 with value: 0.865625.\n",
      "[I 2024-02-22 19:19:07,725] Trial 47 finished with value: 0.846875 and parameters: {'n_estimators': 588, 'max_depth': 41, 'min_samples_split': 8, 'random_state': 42, 'min_samples_leaf': 2}. Best is trial 29 with value: 0.865625.\n",
      "[I 2024-02-22 19:19:22,799] Trial 48 finished with value: 0.80625 and parameters: {'n_estimators': 805, 'max_depth': 13, 'min_samples_split': 11, 'random_state': 42, 'min_samples_leaf': 5}. Best is trial 29 with value: 0.865625.\n",
      "[I 2024-02-22 19:19:29,838] Trial 49 finished with value: 0.665625 and parameters: {'n_estimators': 403, 'max_depth': 16, 'min_samples_split': 3, 'random_state': 42, 'min_samples_leaf': 18}. Best is trial 29 with value: 0.865625.\n",
      "[I 2024-02-22 19:19:42,625] Trial 50 finished with value: 0.78125 and parameters: {'n_estimators': 722, 'max_depth': 12, 'min_samples_split': 5, 'random_state': 42, 'min_samples_leaf': 7}. Best is trial 29 with value: 0.865625.\n",
      "[I 2024-02-22 19:19:54,854] Trial 51 finished with value: 0.8625 and parameters: {'n_estimators': 642, 'max_depth': 11, 'min_samples_split': 2, 'random_state': 42, 'min_samples_leaf': 2}. Best is trial 29 with value: 0.865625.\n",
      "[I 2024-02-22 19:20:08,174] Trial 52 finished with value: 0.884375 and parameters: {'n_estimators': 673, 'max_depth': 18, 'min_samples_split': 3, 'random_state': 42, 'min_samples_leaf': 2}. Best is trial 52 with value: 0.884375.\n",
      "[I 2024-02-22 19:20:23,258] Trial 53 finished with value: 0.878125 and parameters: {'n_estimators': 760, 'max_depth': 18, 'min_samples_split': 3, 'random_state': 42, 'min_samples_leaf': 2}. Best is trial 52 with value: 0.884375.\n",
      "[I 2024-02-22 19:20:39,162] Trial 54 finished with value: 0.878125 and parameters: {'n_estimators': 792, 'max_depth': 22, 'min_samples_split': 2, 'random_state': 42, 'min_samples_leaf': 2}. Best is trial 52 with value: 0.884375.\n",
      "[I 2024-02-22 19:20:56,747] Trial 55 finished with value: 0.875 and parameters: {'n_estimators': 890, 'max_depth': 22, 'min_samples_split': 6, 'random_state': 42, 'min_samples_leaf': 2}. Best is trial 52 with value: 0.884375.\n",
      "[I 2024-02-22 19:21:14,040] Trial 56 finished with value: 0.84375 and parameters: {'n_estimators': 911, 'max_depth': 22, 'min_samples_split': 6, 'random_state': 42, 'min_samples_leaf': 4}. Best is trial 52 with value: 0.884375.\n",
      "[I 2024-02-22 19:21:29,695] Trial 57 finished with value: 0.88125 and parameters: {'n_estimators': 773, 'max_depth': 25, 'min_samples_split': 5, 'random_state': 42, 'min_samples_leaf': 1}. Best is trial 52 with value: 0.884375.\n",
      "[I 2024-02-22 19:21:45,866] Trial 58 finished with value: 0.85 and parameters: {'n_estimators': 806, 'max_depth': 25, 'min_samples_split': 7, 'random_state': 42, 'min_samples_leaf': 1}. Best is trial 52 with value: 0.884375.\n",
      "[I 2024-02-22 19:22:01,772] Trial 59 finished with value: 0.809375 and parameters: {'n_estimators': 849, 'max_depth': 26, 'min_samples_split': 8, 'random_state': 42, 'min_samples_leaf': 5}. Best is trial 52 with value: 0.884375.\n",
      "[I 2024-02-22 19:22:16,446] Trial 60 finished with value: 0.7875 and parameters: {'n_estimators': 760, 'max_depth': 30, 'min_samples_split': 13, 'random_state': 42, 'min_samples_leaf': 2}. Best is trial 52 with value: 0.884375.\n",
      "[I 2024-02-22 19:22:34,343] Trial 61 finished with value: 0.884375 and parameters: {'n_estimators': 921, 'max_depth': 21, 'min_samples_split': 5, 'random_state': 42, 'min_samples_leaf': 2}. Best is trial 52 with value: 0.884375.\n",
      "[I 2024-02-22 19:22:52,183] Trial 62 finished with value: 0.884375 and parameters: {'n_estimators': 900, 'max_depth': 19, 'min_samples_split': 5, 'random_state': 42, 'min_samples_leaf': 1}. Best is trial 52 with value: 0.884375.\n",
      "[I 2024-02-22 19:23:10,005] Trial 63 finished with value: 0.878125 and parameters: {'n_estimators': 917, 'max_depth': 22, 'min_samples_split': 5, 'random_state': 42, 'min_samples_leaf': 1}. Best is trial 52 with value: 0.884375.\n",
      "[I 2024-02-22 19:23:27,087] Trial 64 finished with value: 0.671875 and parameters: {'n_estimators': 928, 'max_depth': 19, 'min_samples_split': 28, 'random_state': 42, 'min_samples_leaf': 1}. Best is trial 52 with value: 0.884375.\n",
      "[I 2024-02-22 19:23:45,338] Trial 65 finished with value: 0.84375 and parameters: {'n_estimators': 974, 'max_depth': 23, 'min_samples_split': 3, 'random_state': 42, 'min_samples_leaf': 4}. Best is trial 52 with value: 0.884375.\n",
      "[I 2024-02-22 19:24:00,821] Trial 66 finished with value: 0.746875 and parameters: {'n_estimators': 829, 'max_depth': 21, 'min_samples_split': 17, 'random_state': 42, 'min_samples_leaf': 1}. Best is trial 52 with value: 0.884375.\n",
      "[I 2024-02-22 19:24:17,765] Trial 67 finished with value: 0.784375 and parameters: {'n_estimators': 939, 'max_depth': 24, 'min_samples_split': 10, 'random_state': 42, 'min_samples_leaf': 7}. Best is trial 52 with value: 0.884375.\n",
      "[I 2024-02-22 19:24:32,822] Trial 68 finished with value: 0.84375 and parameters: {'n_estimators': 786, 'max_depth': 29, 'min_samples_split': 5, 'random_state': 42, 'min_samples_leaf': 4}. Best is trial 52 with value: 0.884375.\n",
      "[I 2024-02-22 19:24:50,523] Trial 69 finished with value: 0.878125 and parameters: {'n_estimators': 906, 'max_depth': 18, 'min_samples_split': 2, 'random_state': 42, 'min_samples_leaf': 2}. Best is trial 52 with value: 0.884375.\n",
      "[I 2024-02-22 19:25:04,003] Trial 70 finished with value: 0.6 and parameters: {'n_estimators': 840, 'max_depth': 27, 'min_samples_split': 8, 'random_state': 42, 'min_samples_leaf': 23}. Best is trial 52 with value: 0.884375.\n",
      "[I 2024-02-22 19:25:21,636] Trial 71 finished with value: 0.878125 and parameters: {'n_estimators': 892, 'max_depth': 18, 'min_samples_split': 2, 'random_state': 42, 'min_samples_leaf': 2}. Best is trial 52 with value: 0.884375.\n",
      "[I 2024-02-22 19:25:40,981] Trial 72 finished with value: 0.890625 and parameters: {'n_estimators': 916, 'max_depth': 21, 'min_samples_split': 2, 'random_state': 42, 'min_samples_leaf': 1}. Best is trial 72 with value: 0.890625.\n",
      "[I 2024-02-22 19:26:01,344] Trial 73 finished with value: 0.884375 and parameters: {'n_estimators': 957, 'max_depth': 20, 'min_samples_split': 3, 'random_state': 42, 'min_samples_leaf': 1}. Best is trial 72 with value: 0.890625.\n",
      "[I 2024-02-22 19:26:20,697] Trial 74 finished with value: 0.846875 and parameters: {'n_estimators': 974, 'max_depth': 20, 'min_samples_split': 3, 'random_state': 42, 'min_samples_leaf': 4}. Best is trial 72 with value: 0.890625.\n",
      "[I 2024-02-22 19:26:37,139] Trial 75 finished with value: 0.803125 and parameters: {'n_estimators': 862, 'max_depth': 21, 'min_samples_split': 3, 'random_state': 42, 'min_samples_leaf': 6}. Best is trial 72 with value: 0.890625.\n",
      "[I 2024-02-22 19:26:57,088] Trial 76 finished with value: 0.878125 and parameters: {'n_estimators': 956, 'max_depth': 17, 'min_samples_split': 4, 'random_state': 42, 'min_samples_leaf': 1}. Best is trial 72 with value: 0.890625.\n",
      "[I 2024-02-22 19:27:12,716] Trial 77 finished with value: 0.80625 and parameters: {'n_estimators': 821, 'max_depth': 19, 'min_samples_split': 6, 'random_state': 42, 'min_samples_leaf': 5}. Best is trial 72 with value: 0.890625.\n",
      "[I 2024-02-22 19:27:27,056] Trial 78 finished with value: 0.865625 and parameters: {'n_estimators': 716, 'max_depth': 24, 'min_samples_split': 2, 'random_state': 42, 'min_samples_leaf': 3}. Best is trial 72 with value: 0.890625.\n",
      "[I 2024-02-22 19:27:45,949] Trial 79 finished with value: 0.84375 and parameters: {'n_estimators': 999, 'max_depth': 20, 'min_samples_split': 5, 'random_state': 42, 'min_samples_leaf': 4}. Best is trial 72 with value: 0.890625.\n",
      "[I 2024-02-22 19:28:00,847] Trial 80 finished with value: 0.875 and parameters: {'n_estimators': 739, 'max_depth': 16, 'min_samples_split': 4, 'random_state': 42, 'min_samples_leaf': 2}. Best is trial 72 with value: 0.890625.\n",
      "[I 2024-02-22 19:28:18,606] Trial 81 finished with value: 0.875 and parameters: {'n_estimators': 876, 'max_depth': 22, 'min_samples_split': 5, 'random_state': 42, 'min_samples_leaf': 1}. Best is trial 72 with value: 0.890625.\n",
      "[I 2024-02-22 19:28:34,307] Trial 82 finished with value: 0.846875 and parameters: {'n_estimators': 777, 'max_depth': 21, 'min_samples_split': 7, 'random_state': 42, 'min_samples_leaf': 1}. Best is trial 72 with value: 0.890625.\n",
      "[I 2024-02-22 19:28:52,721] Trial 83 finished with value: 0.884375 and parameters: {'n_estimators': 928, 'max_depth': 24, 'min_samples_split': 3, 'random_state': 42, 'min_samples_leaf': 2}. Best is trial 72 with value: 0.890625.\n",
      "[I 2024-02-22 19:29:11,472] Trial 84 finished with value: 0.871875 and parameters: {'n_estimators': 958, 'max_depth': 24, 'min_samples_split': 3, 'random_state': 42, 'min_samples_leaf': 3}. Best is trial 72 with value: 0.890625.\n",
      "[I 2024-02-22 19:29:29,266] Trial 85 finished with value: 0.878125 and parameters: {'n_estimators': 855, 'max_depth': 19, 'min_samples_split': 2, 'random_state': 42, 'min_samples_leaf': 2}. Best is trial 72 with value: 0.890625.\n",
      "[I 2024-02-22 19:29:42,895] Trial 86 finished with value: 0.840625 and parameters: {'n_estimators': 681, 'max_depth': 26, 'min_samples_split': 4, 'random_state': 42, 'min_samples_leaf': 4}. Best is trial 72 with value: 0.890625.\n",
      "[I 2024-02-22 19:30:01,078] Trial 87 finished with value: 0.7 and parameters: {'n_estimators': 939, 'max_depth': 35, 'min_samples_split': 20, 'random_state': 42, 'min_samples_leaf': 3}. Best is trial 72 with value: 0.890625.\n",
      "[I 2024-02-22 19:30:16,294] Trial 88 finished with value: 0.878125 and parameters: {'n_estimators': 750, 'max_depth': 17, 'min_samples_split': 3, 'random_state': 42, 'min_samples_leaf': 2}. Best is trial 72 with value: 0.890625.\n",
      "[I 2024-02-22 19:30:32,906] Trial 89 finished with value: 0.803125 and parameters: {'n_estimators': 891, 'max_depth': 20, 'min_samples_split': 4, 'random_state': 42, 'min_samples_leaf': 6}. Best is trial 72 with value: 0.890625.\n",
      "[I 2024-02-22 19:30:49,480] Trial 90 finished with value: 0.553125 and parameters: {'n_estimators': 977, 'max_depth': 25, 'min_samples_split': 2, 'random_state': 42, 'min_samples_leaf': 26}. Best is trial 72 with value: 0.890625.\n",
      "[I 2024-02-22 19:31:08,711] Trial 91 finished with value: 0.86875 and parameters: {'n_estimators': 925, 'max_depth': 22, 'min_samples_split': 6, 'random_state': 42, 'min_samples_leaf': 1}. Best is trial 72 with value: 0.890625.\n",
      "[I 2024-02-22 19:31:25,387] Trial 92 finished with value: 0.69375 and parameters: {'n_estimators': 921, 'max_depth': 22, 'min_samples_split': 5, 'random_state': 42, 'min_samples_leaf': 15}. Best is trial 72 with value: 0.890625.\n",
      "[I 2024-02-22 19:31:42,392] Trial 93 finished with value: 0.878125 and parameters: {'n_estimators': 817, 'max_depth': 23, 'min_samples_split': 3, 'random_state': 42, 'min_samples_leaf': 2}. Best is trial 72 with value: 0.890625.\n",
      "[I 2024-02-22 19:32:00,647] Trial 94 finished with value: 0.853125 and parameters: {'n_estimators': 905, 'max_depth': 18, 'min_samples_split': 7, 'random_state': 42, 'min_samples_leaf': 1}. Best is trial 72 with value: 0.890625.\n",
      "[I 2024-02-22 19:32:17,894] Trial 95 finished with value: 0.865625 and parameters: {'n_estimators': 869, 'max_depth': 21, 'min_samples_split': 5, 'random_state': 42, 'min_samples_leaf': 3}. Best is trial 72 with value: 0.890625.\n",
      "[I 2024-02-22 19:32:35,790] Trial 96 finished with value: 0.815625 and parameters: {'n_estimators': 953, 'max_depth': 19, 'min_samples_split': 4, 'random_state': 42, 'min_samples_leaf': 5}. Best is trial 72 with value: 0.890625.\n",
      "[I 2024-02-22 19:32:51,707] Trial 97 finished with value: 0.878125 and parameters: {'n_estimators': 787, 'max_depth': 26, 'min_samples_split': 3, 'random_state': 42, 'min_samples_leaf': 1}. Best is trial 72 with value: 0.890625.\n",
      "[I 2024-02-22 19:33:07,588] Trial 98 finished with value: 0.871875 and parameters: {'n_estimators': 831, 'max_depth': 23, 'min_samples_split': 6, 'random_state': 42, 'min_samples_leaf': 3}. Best is trial 72 with value: 0.890625.\n",
      "[I 2024-02-22 19:33:26,992] Trial 99 finished with value: 0.884375 and parameters: {'n_estimators': 980, 'max_depth': 28, 'min_samples_split': 4, 'random_state': 42, 'min_samples_leaf': 2}. Best is trial 72 with value: 0.890625.\n"
     ]
    },
    {
     "name": "stdout",
     "output_type": "stream",
     "text": [
      "Best params found : {'n_estimators': 916, 'max_depth': 21, 'min_samples_split': 2, 'random_state': 42, 'min_samples_leaf': 1}\n"
     ]
    },
    {
     "data": {
      "text/plain": [
       "0.9875"
      ]
     },
     "execution_count": 68,
     "metadata": {},
     "output_type": "execute_result"
    }
   ],
   "source": [
    "study = optuna.create_study(direction = 'maximize')\n",
    "study.optimize(objective, n_trials = 100)\n",
    "best_params = study.best_params\n",
    "print(\"Best params found :\", best_params)\n",
    "\n",
    "final_model = RandomForestClassifier(**best_params)\n",
    "final_model.fit(X_train_reduced, y_train)\n",
    "y_pred = final_model.predict(X_test_reduced)\n",
    "accuracy_score(y_test, y_pred)"
   ]
  },
  {
   "cell_type": "code",
   "execution_count": 69,
   "id": "84722af4",
   "metadata": {
    "execution": {
     "iopub.execute_input": "2024-02-22T19:33:31.682744Z",
     "iopub.status.busy": "2024-02-22T19:33:31.682359Z",
     "iopub.status.idle": "2024-02-22T19:33:35.981708Z",
     "shell.execute_reply": "2024-02-22T19:33:35.980874Z"
    },
    "id": "8GqCRlKpZoci",
    "outputId": "30f74b02-bcb5-423d-a9fa-c1e6125d5e2d",
    "papermill": {
     "duration": 4.469749,
     "end_time": "2024-02-22T19:33:35.983871",
     "exception": false,
     "start_time": "2024-02-22T19:33:31.514122",
     "status": "completed"
    },
    "tags": []
   },
   "outputs": [
    {
     "name": "stdout",
     "output_type": "stream",
     "text": [
      "accuracy: 0.9875\n",
      "recall: 0.9722222222222222\n",
      "precision: 0.9629629629629629\n",
      "f1-score: 0.9666666666666666\n"
     ]
    }
   ],
   "source": [
    "final_model = RandomForestClassifier(**best_params)\n",
    "final_model.fit(X_train_reduced, y_train)\n",
    "y_pred = final_model.predict(X_test_reduced)\n",
    "prediction_results['random forest'] = y_pred\n",
    "\n",
    "accuracy = accuracy_score(y_test, y_pred)\n",
    "precision = precision_score(y_test, y_pred, average='macro')\n",
    "recall = recall_score(y_test, y_pred, average='macro')\n",
    "f1 = f1_score(y_test, y_pred, average='macro')\n",
    "\n",
    "# # One-hot encoding for probability calculation (adapt if necessary)\n",
    "# y_test_onehot = pd.get_dummies(y_test, prefix='label_')  # Assuming 'label_' prefix for clarity\n",
    "# y_pred_onehot = pd.get_dummies(y_pred, prefix='label_')\n",
    "\n",
    "# # ROC AUC score with multiclass handling\n",
    "# roc_auc_macro = roc_auc_score(y_test_onehot, y_pred_onehot, average='macro', multi_class='ovo')  # Specify 'ovo' or 'ovr'\n",
    "\n",
    "print(\"accuracy:\", accuracy)\n",
    "print(\"recall:\", recall)\n",
    "print(\"precision:\", precision)\n",
    "print(\"f1-score:\", f1)\n",
    "# print('roc_auc: ', roc_auc_macro)"
   ]
  },
  {
   "cell_type": "markdown",
   "id": "fe80aa01",
   "metadata": {
    "id": "NpVtbGMPZoci",
    "papermill": {
     "duration": 0.167721,
     "end_time": "2024-02-22T19:33:36.317393",
     "exception": false,
     "start_time": "2024-02-22T19:33:36.149672",
     "status": "completed"
    },
    "tags": []
   },
   "source": [
    "## Gassian NB"
   ]
  },
  {
   "cell_type": "markdown",
   "id": "33e4ed7f",
   "metadata": {
    "id": "XuZYbincZoci",
    "papermill": {
     "duration": 0.165035,
     "end_time": "2024-02-22T19:33:36.647146",
     "exception": false,
     "start_time": "2024-02-22T19:33:36.482111",
     "status": "completed"
    },
    "tags": []
   },
   "source": [
    "**Pre-tunning**"
   ]
  },
  {
   "cell_type": "code",
   "execution_count": 70,
   "id": "f529f208",
   "metadata": {
    "execution": {
     "iopub.execute_input": "2024-02-22T19:33:37.061330Z",
     "iopub.status.busy": "2024-02-22T19:33:37.060613Z",
     "iopub.status.idle": "2024-02-22T19:33:37.082743Z",
     "shell.execute_reply": "2024-02-22T19:33:37.081522Z"
    },
    "id": "v5obTqtpZocj",
    "outputId": "8cf2abf0-528d-48f6-a6a0-3bb11401abe0",
    "papermill": {
     "duration": 0.269514,
     "end_time": "2024-02-22T19:33:37.084961",
     "exception": false,
     "start_time": "2024-02-22T19:33:36.815447",
     "status": "completed"
    },
    "tags": []
   },
   "outputs": [
    {
     "name": "stdout",
     "output_type": "stream",
     "text": [
      "accuracy: 0.9625\n",
      "recall: 0.9444444444444444\n",
      "precision: 0.9375\n",
      "f1-score: 0.9358465608465608\n"
     ]
    }
   ],
   "source": [
    "from sklearn.naive_bayes import GaussianNB\n",
    "gnb = GaussianNB()\n",
    "gnb.fit(X_train_reduced, y_train)\n",
    "\n",
    "y_pred = gnb.predict(X_test_reduced)\n",
    "\n",
    "accuracy = accuracy_score(y_test, y_pred)\n",
    "precision = precision_score(y_test, y_pred, average='macro')\n",
    "recall = recall_score(y_test, y_pred, average='macro')\n",
    "f1 = f1_score(y_test, y_pred, average='macro')\n",
    "\n",
    "# # One-hot encoding for probability calculation (adapt if necessary)\n",
    "# y_test_onehot = pd.get_dummies(y_test, prefix='label_')  # Assuming 'label_' prefix for clarity\n",
    "# y_pred_onehot = pd.get_dummies(y_pred, prefix='label_')\n",
    "\n",
    "# # ROC AUC score with multiclass handling\n",
    "# roc_auc_macro = roc_auc_score(y_test_onehot, y_pred_onehot, average='macro', multi_class='ovo')  # Specify 'ovo' or 'ovr'\n",
    "\n",
    "print(\"accuracy:\", accuracy)\n",
    "print(\"recall:\", recall)\n",
    "print(\"precision:\", precision)\n",
    "print(\"f1-score:\", f1)\n",
    "# print('roc_auc: ', roc_auc_macro)\n"
   ]
  },
  {
   "cell_type": "markdown",
   "id": "df788d52",
   "metadata": {
    "id": "li3_DxzxZocj",
    "papermill": {
     "duration": 0.165982,
     "end_time": "2024-02-22T19:33:37.419637",
     "exception": false,
     "start_time": "2024-02-22T19:33:37.253655",
     "status": "completed"
    },
    "tags": []
   },
   "source": [
    "**Tunning**"
   ]
  },
  {
   "cell_type": "code",
   "execution_count": 71,
   "id": "9f5daea1",
   "metadata": {
    "execution": {
     "iopub.execute_input": "2024-02-22T19:33:37.755458Z",
     "iopub.status.busy": "2024-02-22T19:33:37.755051Z",
     "iopub.status.idle": "2024-02-22T19:33:37.761609Z",
     "shell.execute_reply": "2024-02-22T19:33:37.760514Z"
    },
    "id": "piCtTw6FZocj",
    "papermill": {
     "duration": 0.178382,
     "end_time": "2024-02-22T19:33:37.763900",
     "exception": false,
     "start_time": "2024-02-22T19:33:37.585518",
     "status": "completed"
    },
    "tags": []
   },
   "outputs": [],
   "source": [
    "def objective(trial):\n",
    "    hyperparams = {\n",
    "        'var_smoothing': trial.suggest_float('var_smoothing', 1e-9, 1e-4, log = True)\n",
    "    }\n",
    "\n",
    "    model = GaussianNB(**hyperparams)\n",
    "    scores = cross_val_score(model, X_train_reduced, y_train, cv = kf,scoring = 'accuracy')\n",
    "    return np.mean(scores)"
   ]
  },
  {
   "cell_type": "code",
   "execution_count": 72,
   "id": "8e99310d",
   "metadata": {
    "execution": {
     "iopub.execute_input": "2024-02-22T19:33:38.103930Z",
     "iopub.status.busy": "2024-02-22T19:33:38.103529Z",
     "iopub.status.idle": "2024-02-22T19:33:43.072527Z",
     "shell.execute_reply": "2024-02-22T19:33:43.071538Z"
    },
    "id": "rP15cDwgZocj",
    "outputId": "0db99e8f-d153-4106-92b9-86637213dbe4",
    "papermill": {
     "duration": 5.141307,
     "end_time": "2024-02-22T19:33:43.075037",
     "exception": false,
     "start_time": "2024-02-22T19:33:37.933730",
     "status": "completed"
    },
    "tags": []
   },
   "outputs": [
    {
     "name": "stderr",
     "output_type": "stream",
     "text": [
      "[I 2024-02-22 19:33:38,109] A new study created in memory with name: no-name-a92c3424-e235-4002-95bf-924ea9e98b0a\n",
      "[I 2024-02-22 19:33:38,153] Trial 0 finished with value: 0.75 and parameters: {'var_smoothing': 2.735103004904717e-05}. Best is trial 0 with value: 0.75.\n",
      "[I 2024-02-22 19:33:38,196] Trial 1 finished with value: 0.75 and parameters: {'var_smoothing': 3.2723782616696995e-07}. Best is trial 0 with value: 0.75.\n",
      "[I 2024-02-22 19:33:38,238] Trial 2 finished with value: 0.75 and parameters: {'var_smoothing': 5.649537574672336e-06}. Best is trial 0 with value: 0.75.\n",
      "[I 2024-02-22 19:33:38,280] Trial 3 finished with value: 0.75 and parameters: {'var_smoothing': 2.5300102939958998e-05}. Best is trial 0 with value: 0.75.\n",
      "[I 2024-02-22 19:33:38,322] Trial 4 finished with value: 0.75625 and parameters: {'var_smoothing': 4.786323657403775e-05}. Best is trial 4 with value: 0.75625.\n",
      "[I 2024-02-22 19:33:38,364] Trial 5 finished with value: 0.75 and parameters: {'var_smoothing': 3.571689938608384e-07}. Best is trial 4 with value: 0.75625.\n",
      "[I 2024-02-22 19:33:38,406] Trial 6 finished with value: 0.75 and parameters: {'var_smoothing': 1.289870450867065e-08}. Best is trial 4 with value: 0.75625.\n",
      "[I 2024-02-22 19:33:38,448] Trial 7 finished with value: 0.7625 and parameters: {'var_smoothing': 9.442922794438124e-05}. Best is trial 7 with value: 0.7625.\n",
      "[I 2024-02-22 19:33:38,490] Trial 8 finished with value: 0.75 and parameters: {'var_smoothing': 3.3126798707695853e-07}. Best is trial 7 with value: 0.7625.\n",
      "[I 2024-02-22 19:33:38,531] Trial 9 finished with value: 0.75 and parameters: {'var_smoothing': 2.2119514848670103e-08}. Best is trial 7 with value: 0.7625.\n",
      "[I 2024-02-22 19:33:38,581] Trial 10 finished with value: 0.75 and parameters: {'var_smoothing': 1.3662239512490978e-09}. Best is trial 7 with value: 0.7625.\n",
      "[I 2024-02-22 19:33:38,631] Trial 11 finished with value: 0.765625 and parameters: {'var_smoothing': 9.807041097906174e-05}. Best is trial 11 with value: 0.765625.\n",
      "[I 2024-02-22 19:33:38,681] Trial 12 finished with value: 0.75 and parameters: {'var_smoothing': 6.065875058654105e-06}. Best is trial 11 with value: 0.765625.\n",
      "[I 2024-02-22 19:33:38,730] Trial 13 finished with value: 0.765625 and parameters: {'var_smoothing': 9.859402395800944e-05}. Best is trial 11 with value: 0.765625.\n",
      "[I 2024-02-22 19:33:38,781] Trial 14 finished with value: 0.75 and parameters: {'var_smoothing': 4.105186128705683e-06}. Best is trial 11 with value: 0.765625.\n",
      "[I 2024-02-22 19:33:38,832] Trial 15 finished with value: 0.75 and parameters: {'var_smoothing': 1.8339296410361598e-06}. Best is trial 11 with value: 0.765625.\n",
      "[I 2024-02-22 19:33:38,882] Trial 16 finished with value: 0.7625 and parameters: {'var_smoothing': 9.505287099927722e-05}. Best is trial 11 with value: 0.765625.\n",
      "[I 2024-02-22 19:33:38,933] Trial 17 finished with value: 0.75 and parameters: {'var_smoothing': 1.2567530600445381e-05}. Best is trial 11 with value: 0.765625.\n",
      "[I 2024-02-22 19:33:38,982] Trial 18 finished with value: 0.75 and parameters: {'var_smoothing': 1.0996861045605156e-06}. Best is trial 11 with value: 0.765625.\n",
      "[I 2024-02-22 19:33:39,033] Trial 19 finished with value: 0.75 and parameters: {'var_smoothing': 2.7797007692920894e-08}. Best is trial 11 with value: 0.765625.\n",
      "[I 2024-02-22 19:33:39,085] Trial 20 finished with value: 0.75 and parameters: {'var_smoothing': 1.0306321095996278e-07}. Best is trial 11 with value: 0.765625.\n",
      "[I 2024-02-22 19:33:39,140] Trial 21 finished with value: 0.7625 and parameters: {'var_smoothing': 9.002332254739017e-05}. Best is trial 11 with value: 0.765625.\n",
      "[I 2024-02-22 19:33:39,201] Trial 22 finished with value: 0.75 and parameters: {'var_smoothing': 1.6550293252123996e-05}. Best is trial 11 with value: 0.765625.\n",
      "[I 2024-02-22 19:33:39,252] Trial 23 finished with value: 0.75625 and parameters: {'var_smoothing': 5.2979586374147285e-05}. Best is trial 11 with value: 0.765625.\n",
      "[I 2024-02-22 19:33:39,301] Trial 24 finished with value: 0.75 and parameters: {'var_smoothing': 1.1880945773655731e-05}. Best is trial 11 with value: 0.765625.\n",
      "[I 2024-02-22 19:33:39,352] Trial 25 finished with value: 0.765625 and parameters: {'var_smoothing': 9.693259875273221e-05}. Best is trial 11 with value: 0.765625.\n",
      "[I 2024-02-22 19:33:39,400] Trial 26 finished with value: 0.75 and parameters: {'var_smoothing': 3.3912738567691336e-05}. Best is trial 11 with value: 0.765625.\n",
      "[I 2024-02-22 19:33:39,449] Trial 27 finished with value: 0.75 and parameters: {'var_smoothing': 2.3113987333403535e-06}. Best is trial 11 with value: 0.765625.\n",
      "[I 2024-02-22 19:33:39,499] Trial 28 finished with value: 0.75 and parameters: {'var_smoothing': 1.0099948258189182e-05}. Best is trial 11 with value: 0.765625.\n",
      "[I 2024-02-22 19:33:39,548] Trial 29 finished with value: 0.75 and parameters: {'var_smoothing': 2.7332895743255663e-05}. Best is trial 11 with value: 0.765625.\n",
      "[I 2024-02-22 19:33:39,597] Trial 30 finished with value: 0.75 and parameters: {'var_smoothing': 1.9065840140851408e-09}. Best is trial 11 with value: 0.765625.\n",
      "[I 2024-02-22 19:33:39,646] Trial 31 finished with value: 0.7625 and parameters: {'var_smoothing': 7.903745722845906e-05}. Best is trial 11 with value: 0.765625.\n",
      "[I 2024-02-22 19:33:39,695] Trial 32 finished with value: 0.75 and parameters: {'var_smoothing': 3.9254898718778136e-05}. Best is trial 11 with value: 0.765625.\n",
      "[I 2024-02-22 19:33:39,744] Trial 33 finished with value: 0.7625 and parameters: {'var_smoothing': 8.767028514307356e-05}. Best is trial 11 with value: 0.765625.\n",
      "[I 2024-02-22 19:33:39,793] Trial 34 finished with value: 0.75 and parameters: {'var_smoothing': 2.1861749190181236e-05}. Best is trial 11 with value: 0.765625.\n",
      "[I 2024-02-22 19:33:39,844] Trial 35 finished with value: 0.75625 and parameters: {'var_smoothing': 4.4618746043244386e-05}. Best is trial 11 with value: 0.765625.\n",
      "[I 2024-02-22 19:33:39,893] Trial 36 finished with value: 0.75 and parameters: {'var_smoothing': 7.45545284324391e-06}. Best is trial 11 with value: 0.765625.\n",
      "[I 2024-02-22 19:33:39,943] Trial 37 finished with value: 0.75 and parameters: {'var_smoothing': 7.671729737042027e-07}. Best is trial 11 with value: 0.765625.\n",
      "[I 2024-02-22 19:33:39,994] Trial 38 finished with value: 0.75 and parameters: {'var_smoothing': 2.1324119956381794e-05}. Best is trial 11 with value: 0.765625.\n",
      "[I 2024-02-22 19:33:40,044] Trial 39 finished with value: 0.75625 and parameters: {'var_smoothing': 4.864389653809904e-05}. Best is trial 11 with value: 0.765625.\n",
      "[I 2024-02-22 19:33:40,094] Trial 40 finished with value: 0.75 and parameters: {'var_smoothing': 3.7225395034771885e-06}. Best is trial 11 with value: 0.765625.\n",
      "[I 2024-02-22 19:33:40,144] Trial 41 finished with value: 0.7625 and parameters: {'var_smoothing': 8.742374415598158e-05}. Best is trial 11 with value: 0.765625.\n",
      "[I 2024-02-22 19:33:40,193] Trial 42 finished with value: 0.765625 and parameters: {'var_smoothing': 9.745892082272496e-05}. Best is trial 11 with value: 0.765625.\n",
      "[I 2024-02-22 19:33:40,245] Trial 43 finished with value: 0.75625 and parameters: {'var_smoothing': 5.3039345009908736e-05}. Best is trial 11 with value: 0.765625.\n",
      "[I 2024-02-22 19:33:40,296] Trial 44 finished with value: 0.75 and parameters: {'var_smoothing': 2.582496925276315e-05}. Best is trial 11 with value: 0.765625.\n",
      "[I 2024-02-22 19:33:40,346] Trial 45 finished with value: 0.75 and parameters: {'var_smoothing': 1.3573739644448297e-07}. Best is trial 11 with value: 0.765625.\n",
      "[I 2024-02-22 19:33:40,394] Trial 46 finished with value: 0.759375 and parameters: {'var_smoothing': 5.929694053895108e-05}. Best is trial 11 with value: 0.765625.\n",
      "[I 2024-02-22 19:33:40,443] Trial 47 finished with value: 0.765625 and parameters: {'var_smoothing': 9.921146596035393e-05}. Best is trial 11 with value: 0.765625.\n",
      "[I 2024-02-22 19:33:40,492] Trial 48 finished with value: 0.75 and parameters: {'var_smoothing': 3.2292165225586815e-05}. Best is trial 11 with value: 0.765625.\n",
      "[I 2024-02-22 19:33:40,541] Trial 49 finished with value: 0.75 and parameters: {'var_smoothing': 1.6003435721160394e-05}. Best is trial 11 with value: 0.765625.\n",
      "[I 2024-02-22 19:33:40,591] Trial 50 finished with value: 0.75 and parameters: {'var_smoothing': 7.18819963224228e-06}. Best is trial 11 with value: 0.765625.\n",
      "[I 2024-02-22 19:33:40,642] Trial 51 finished with value: 0.765625 and parameters: {'var_smoothing': 9.703131769008935e-05}. Best is trial 11 with value: 0.765625.\n",
      "[I 2024-02-22 19:33:40,692] Trial 52 finished with value: 0.7625 and parameters: {'var_smoothing': 6.183586903380184e-05}. Best is trial 11 with value: 0.765625.\n",
      "[I 2024-02-22 19:33:40,743] Trial 53 finished with value: 0.765625 and parameters: {'var_smoothing': 9.684741953212454e-05}. Best is trial 11 with value: 0.765625.\n",
      "[I 2024-02-22 19:33:40,793] Trial 54 finished with value: 0.75 and parameters: {'var_smoothing': 3.6534545355272774e-05}. Best is trial 11 with value: 0.765625.\n",
      "[I 2024-02-22 19:33:40,843] Trial 55 finished with value: 0.759375 and parameters: {'var_smoothing': 5.9967916807294555e-05}. Best is trial 11 with value: 0.765625.\n",
      "[I 2024-02-22 19:33:40,893] Trial 56 finished with value: 0.75 and parameters: {'var_smoothing': 1.7378114350139535e-05}. Best is trial 11 with value: 0.765625.\n",
      "[I 2024-02-22 19:33:40,943] Trial 57 finished with value: 0.75 and parameters: {'var_smoothing': 3.345284124937273e-05}. Best is trial 11 with value: 0.765625.\n",
      "[I 2024-02-22 19:33:40,993] Trial 58 finished with value: 0.7625 and parameters: {'var_smoothing': 6.46811771779695e-05}. Best is trial 11 with value: 0.765625.\n",
      "[I 2024-02-22 19:33:41,044] Trial 59 finished with value: 0.765625 and parameters: {'var_smoothing': 9.723553767160379e-05}. Best is trial 11 with value: 0.765625.\n",
      "[I 2024-02-22 19:33:41,094] Trial 60 finished with value: 0.75 and parameters: {'var_smoothing': 8.667024169796834e-09}. Best is trial 11 with value: 0.765625.\n",
      "[I 2024-02-22 19:33:41,144] Trial 61 finished with value: 0.765625 and parameters: {'var_smoothing': 9.671672769719101e-05}. Best is trial 11 with value: 0.765625.\n",
      "[I 2024-02-22 19:33:41,193] Trial 62 finished with value: 0.75 and parameters: {'var_smoothing': 4.12395761428326e-05}. Best is trial 11 with value: 0.765625.\n",
      "[I 2024-02-22 19:33:41,244] Trial 63 finished with value: 0.7625 and parameters: {'var_smoothing': 6.47261470502668e-05}. Best is trial 11 with value: 0.765625.\n",
      "[I 2024-02-22 19:33:41,298] Trial 64 finished with value: 0.765625 and parameters: {'var_smoothing': 9.803917293080076e-05}. Best is trial 11 with value: 0.765625.\n",
      "[I 2024-02-22 19:33:41,349] Trial 65 finished with value: 0.75 and parameters: {'var_smoothing': 2.4041331816460985e-05}. Best is trial 11 with value: 0.765625.\n",
      "[I 2024-02-22 19:33:41,399] Trial 66 finished with value: 0.75 and parameters: {'var_smoothing': 1.0358180968115078e-05}. Best is trial 11 with value: 0.765625.\n",
      "[I 2024-02-22 19:33:41,451] Trial 67 finished with value: 0.75 and parameters: {'var_smoothing': 4.0213830854977005e-05}. Best is trial 11 with value: 0.765625.\n",
      "[I 2024-02-22 19:33:41,500] Trial 68 finished with value: 0.7625 and parameters: {'var_smoothing': 6.668460565140162e-05}. Best is trial 11 with value: 0.765625.\n",
      "[I 2024-02-22 19:33:41,550] Trial 69 finished with value: 0.75 and parameters: {'var_smoothing': 1.6403733979568888e-05}. Best is trial 11 with value: 0.765625.\n",
      "[I 2024-02-22 19:33:41,599] Trial 70 finished with value: 0.75 and parameters: {'var_smoothing': 2.8495181759076493e-05}. Best is trial 11 with value: 0.765625.\n",
      "[I 2024-02-22 19:33:41,649] Trial 71 finished with value: 0.7625 and parameters: {'var_smoothing': 9.251690147925861e-05}. Best is trial 11 with value: 0.765625.\n",
      "[I 2024-02-22 19:33:41,698] Trial 72 finished with value: 0.75625 and parameters: {'var_smoothing': 4.811002120890973e-05}. Best is trial 11 with value: 0.765625.\n",
      "[I 2024-02-22 19:33:41,747] Trial 73 finished with value: 0.7625 and parameters: {'var_smoothing': 7.360435472104116e-05}. Best is trial 11 with value: 0.765625.\n",
      "[I 2024-02-22 19:33:41,797] Trial 74 finished with value: 0.765625 and parameters: {'var_smoothing': 9.903510299818362e-05}. Best is trial 11 with value: 0.765625.\n",
      "[I 2024-02-22 19:33:41,848] Trial 75 finished with value: 0.75625 and parameters: {'var_smoothing': 4.4622633547004525e-05}. Best is trial 11 with value: 0.765625.\n",
      "[I 2024-02-22 19:33:41,898] Trial 76 finished with value: 0.7625 and parameters: {'var_smoothing': 7.249485451644816e-05}. Best is trial 11 with value: 0.765625.\n",
      "[I 2024-02-22 19:33:41,948] Trial 77 finished with value: 0.75 and parameters: {'var_smoothing': 2.9543797901028928e-05}. Best is trial 11 with value: 0.765625.\n",
      "[I 2024-02-22 19:33:41,997] Trial 78 finished with value: 0.75625 and parameters: {'var_smoothing': 5.7281672174746964e-05}. Best is trial 11 with value: 0.765625.\n",
      "[I 2024-02-22 19:33:42,047] Trial 79 finished with value: 0.75 and parameters: {'var_smoothing': 8.242518012069018e-07}. Best is trial 11 with value: 0.765625.\n",
      "[I 2024-02-22 19:33:42,096] Trial 80 finished with value: 0.75 and parameters: {'var_smoothing': 9.5925409513887e-08}. Best is trial 11 with value: 0.765625.\n",
      "[I 2024-02-22 19:33:42,146] Trial 81 finished with value: 0.765625 and parameters: {'var_smoothing': 9.861812640986395e-05}. Best is trial 11 with value: 0.765625.\n",
      "[I 2024-02-22 19:33:42,195] Trial 82 finished with value: 0.765625 and parameters: {'var_smoothing': 9.82567874069305e-05}. Best is trial 11 with value: 0.765625.\n",
      "[I 2024-02-22 19:33:42,246] Trial 83 finished with value: 0.7625 and parameters: {'var_smoothing': 7.040685661763317e-05}. Best is trial 11 with value: 0.765625.\n",
      "[I 2024-02-22 19:33:42,296] Trial 84 finished with value: 0.75625 and parameters: {'var_smoothing': 4.826916452015253e-05}. Best is trial 11 with value: 0.765625.\n",
      "[I 2024-02-22 19:33:42,347] Trial 85 finished with value: 0.75 and parameters: {'var_smoothing': 2.2497141132580925e-05}. Best is trial 11 with value: 0.765625.\n",
      "[I 2024-02-22 19:33:42,398] Trial 86 finished with value: 0.7625 and parameters: {'var_smoothing': 7.653792920764546e-05}. Best is trial 11 with value: 0.765625.\n",
      "[I 2024-02-22 19:33:42,447] Trial 87 finished with value: 0.75 and parameters: {'var_smoothing': 3.5186609979173e-05}. Best is trial 11 with value: 0.765625.\n",
      "[I 2024-02-22 19:33:42,498] Trial 88 finished with value: 0.75625 and parameters: {'var_smoothing': 5.429629888712652e-05}. Best is trial 11 with value: 0.765625.\n",
      "[I 2024-02-22 19:33:42,549] Trial 89 finished with value: 0.7625 and parameters: {'var_smoothing': 7.540428838001557e-05}. Best is trial 11 with value: 0.765625.\n",
      "[I 2024-02-22 19:33:42,599] Trial 90 finished with value: 0.75625 and parameters: {'var_smoothing': 4.594182394365987e-05}. Best is trial 11 with value: 0.765625.\n",
      "[I 2024-02-22 19:33:42,649] Trial 91 finished with value: 0.7625 and parameters: {'var_smoothing': 9.103164026255111e-05}. Best is trial 11 with value: 0.765625.\n",
      "[I 2024-02-22 19:33:42,699] Trial 92 finished with value: 0.765625 and parameters: {'var_smoothing': 9.685663280056547e-05}. Best is trial 11 with value: 0.765625.\n",
      "[I 2024-02-22 19:33:42,749] Trial 93 finished with value: 0.759375 and parameters: {'var_smoothing': 6.022182171760076e-05}. Best is trial 11 with value: 0.765625.\n",
      "[I 2024-02-22 19:33:42,798] Trial 94 finished with value: 0.75 and parameters: {'var_smoothing': 3.877173121637108e-05}. Best is trial 11 with value: 0.765625.\n",
      "[I 2024-02-22 19:33:42,849] Trial 95 finished with value: 0.7625 and parameters: {'var_smoothing': 7.677040114129616e-05}. Best is trial 11 with value: 0.765625.\n",
      "[I 2024-02-22 19:33:42,900] Trial 96 finished with value: 0.75 and parameters: {'var_smoothing': 2.0722261309027275e-05}. Best is trial 11 with value: 0.765625.\n",
      "[I 2024-02-22 19:33:42,950] Trial 97 finished with value: 0.75625 and parameters: {'var_smoothing': 5.459296363241226e-05}. Best is trial 11 with value: 0.765625.\n",
      "[I 2024-02-22 19:33:43,000] Trial 98 finished with value: 0.75 and parameters: {'var_smoothing': 3.093197741720825e-05}. Best is trial 11 with value: 0.765625.\n",
      "[I 2024-02-22 19:33:43,051] Trial 99 finished with value: 0.7625 and parameters: {'var_smoothing': 7.498462504207348e-05}. Best is trial 11 with value: 0.765625.\n"
     ]
    },
    {
     "name": "stdout",
     "output_type": "stream",
     "text": [
      "Best params found : {'var_smoothing': 9.807041097906174e-05}\n",
      "accuracy: 0.9625\n",
      "recall: 0.9444444444444444\n",
      "precision: 0.9375\n",
      "f1-score: 0.9358465608465608\n"
     ]
    }
   ],
   "source": [
    "study = optuna.create_study(direction = 'maximize')\n",
    "study.optimize(objective, n_trials = 100)\n",
    "best_params = study.best_params\n",
    "print(\"Best params found :\", best_params)\n",
    "\n",
    "final_model = GaussianNB(**best_params)\n",
    "final_model.fit(X_train_reduced, y_train)\n",
    "y_pred = final_model.predict(X_test_reduced)\n",
    "prediction_results['gnb'] = y_pred\n",
    "\n",
    "accuracy = accuracy_score(y_test, y_pred)\n",
    "precision = precision_score(y_test, y_pred, average='macro')\n",
    "recall = recall_score(y_test, y_pred, average='macro')\n",
    "f1 = f1_score(y_test, y_pred, average='macro')\n",
    "\n",
    "# # One-hot encoding for probability calculation (adapt if necessary)\n",
    "# y_test_onehot = pd.get_dummies(y_test, prefix='label_')  # Assuming 'label_' prefix for clarity\n",
    "# y_pred_onehot = pd.get_dummies(y_pred, prefix='label_')\n",
    "\n",
    "# # ROC AUC score with multiclass handling\n",
    "# roc_auc_macro = roc_auc_score(y_test_onehot, y_pred_onehot, average='macro', multi_class='ovo')  # Specify 'ovo' or 'ovr'\n",
    "\n",
    "print(\"accuracy:\", accuracy)\n",
    "print(\"recall:\", recall)\n",
    "print(\"precision:\", precision)\n",
    "print(\"f1-score:\", f1)\n",
    "# print('roc_auc: ', roc_auc_macro)"
   ]
  },
  {
   "cell_type": "markdown",
   "id": "a1b5714e",
   "metadata": {
    "id": "S4cNMCl9Zocj",
    "papermill": {
     "duration": 0.176306,
     "end_time": "2024-02-22T19:33:43.429810",
     "exception": false,
     "start_time": "2024-02-22T19:33:43.253504",
     "status": "completed"
    },
    "tags": []
   },
   "source": [
    "## Logistic Regression"
   ]
  },
  {
   "cell_type": "markdown",
   "id": "2e4b6560",
   "metadata": {
    "id": "0Qah5jSPZock",
    "papermill": {
     "duration": 0.177383,
     "end_time": "2024-02-22T19:33:43.783417",
     "exception": false,
     "start_time": "2024-02-22T19:33:43.606034",
     "status": "completed"
    },
    "tags": []
   },
   "source": [
    "**Normal**"
   ]
  },
  {
   "cell_type": "code",
   "execution_count": 73,
   "id": "62a74db1",
   "metadata": {
    "execution": {
     "iopub.execute_input": "2024-02-22T19:33:44.138997Z",
     "iopub.status.busy": "2024-02-22T19:33:44.138595Z",
     "iopub.status.idle": "2024-02-22T19:33:44.372383Z",
     "shell.execute_reply": "2024-02-22T19:33:44.370971Z"
    },
    "id": "ZRsfyCKJZock",
    "outputId": "f9094762-c411-4a2e-f9ff-422ef7d05d87",
    "papermill": {
     "duration": 0.416428,
     "end_time": "2024-02-22T19:33:44.376260",
     "exception": false,
     "start_time": "2024-02-22T19:33:43.959832",
     "status": "completed"
    },
    "tags": []
   },
   "outputs": [
    {
     "name": "stdout",
     "output_type": "stream",
     "text": [
      "accuracy: 1.0\n",
      "recall: 1.0\n",
      "precision: 1.0\n",
      "f1-score: 1.0\n"
     ]
    }
   ],
   "source": [
    "lr = LogisticRegression()\n",
    "lr.fit(X_train_reduced, y_train)\n",
    "y_pred = lr.predict(X_test_reduced)\n",
    "\n",
    "accuracy = accuracy_score(y_test, y_pred)\n",
    "precision = precision_score(y_test, y_pred, average='macro')\n",
    "recall = recall_score(y_test, y_pred, average='macro')\n",
    "f1 = f1_score(y_test, y_pred, average='macro')\n",
    "\n",
    "# # One-hot encoding for probability calculation (adapt if necessary)\n",
    "# y_test_onehot = pd.get_dummies(y_test, prefix='label_')  # Assuming 'label_' prefix for clarity\n",
    "# y_pred_onehot = pd.get_dummies(y_pred, prefix='label_')\n",
    "\n",
    "# # ROC AUC score with multiclass handling\n",
    "# roc_auc_macro = roc_auc_score(y_test_onehot, y_pred_onehot, average='macro', multi_class='ovo')  # Specify 'ovo' or 'ovr'\n",
    "\n",
    "print(\"accuracy:\", accuracy)\n",
    "print(\"recall:\", recall)\n",
    "print(\"precision:\", precision)\n",
    "print(\"f1-score:\", f1)\n",
    "# print('roc_auc: ', roc_auc_macro)"
   ]
  },
  {
   "cell_type": "markdown",
   "id": "d98dbc48",
   "metadata": {
    "id": "PgX6otSxZock",
    "papermill": {
     "duration": 0.17613,
     "end_time": "2024-02-22T19:33:44.781668",
     "exception": false,
     "start_time": "2024-02-22T19:33:44.605538",
     "status": "completed"
    },
    "tags": []
   },
   "source": [
    "**Tunning**"
   ]
  },
  {
   "cell_type": "code",
   "execution_count": 74,
   "id": "e3961034",
   "metadata": {
    "execution": {
     "iopub.execute_input": "2024-02-22T19:33:45.141572Z",
     "iopub.status.busy": "2024-02-22T19:33:45.141170Z",
     "iopub.status.idle": "2024-02-22T19:33:45.149060Z",
     "shell.execute_reply": "2024-02-22T19:33:45.147859Z"
    },
    "id": "lNshzG12Zock",
    "papermill": {
     "duration": 0.18978,
     "end_time": "2024-02-22T19:33:45.151175",
     "exception": false,
     "start_time": "2024-02-22T19:33:44.961395",
     "status": "completed"
    },
    "tags": []
   },
   "outputs": [],
   "source": [
    "import optuna\n",
    "from sklearn.model_selection import cross_val_score\n",
    "import warnings\n",
    "warnings.filterwarnings('ignore')\n",
    "\n",
    "\n",
    "def objective(trial):\n",
    "    hyperparams = {\n",
    "        'solver': trial.suggest_categorical('solver', ['lbfgs', 'liblinear', 'newton-cg', 'saga']),\n",
    "        'penalty': trial.suggest_categorical('penalty', ['l2']),\n",
    "        'multi_class': trial.suggest_categorical('multi_class', ['ovr']),\n",
    "        'C': trial.suggest_loguniform(\"C\", 1e-3, 1e3),\n",
    "        'n_jobs': -1\n",
    "    }\n",
    "\n",
    "    model = LogisticRegression(**hyperparams)\n",
    "    scores = cross_val_score(model, X_train_reduced,\n",
    "                             y_train, cv=kf, scoring='accuracy')\n",
    "    return np.mean(scores)"
   ]
  },
  {
   "cell_type": "code",
   "execution_count": 75,
   "id": "911c5417",
   "metadata": {
    "execution": {
     "iopub.execute_input": "2024-02-22T19:33:45.505966Z",
     "iopub.status.busy": "2024-02-22T19:33:45.505307Z",
     "iopub.status.idle": "2024-02-22T19:52:09.393988Z",
     "shell.execute_reply": "2024-02-22T19:52:09.390325Z"
    },
    "id": "vUMJwEDjZocl",
    "outputId": "8f6d21a5-918b-46e2-f044-41e71a038cd2",
    "papermill": {
     "duration": 1104.06961,
     "end_time": "2024-02-22T19:52:09.398135",
     "exception": false,
     "start_time": "2024-02-22T19:33:45.328525",
     "status": "completed"
    },
    "tags": []
   },
   "outputs": [
    {
     "name": "stderr",
     "output_type": "stream",
     "text": [
      "[I 2024-02-22 19:33:45,511] A new study created in memory with name: no-name-dbb1ae29-ad51-413e-a461-79104247bc10\n",
      "[I 2024-02-22 19:34:00,166] Trial 0 finished with value: 0.896875 and parameters: {'solver': 'liblinear', 'penalty': 'l2', 'multi_class': 'ovr', 'C': 0.12245382830212904}. Best is trial 0 with value: 0.896875.\n",
      "/opt/conda/lib/python3.10/site-packages/sklearn/linear_model/_logistic.py:458: ConvergenceWarning: lbfgs failed to converge (status=1):\n",
      "STOP: TOTAL NO. of ITERATIONS REACHED LIMIT.\n",
      "\n",
      "Increase the number of iterations (max_iter) or scale the data as shown in:\n",
      "    https://scikit-learn.org/stable/modules/preprocessing.html\n",
      "Please also refer to the documentation for alternative solver options:\n",
      "    https://scikit-learn.org/stable/modules/linear_model.html#logistic-regression\n",
      "  n_iter_i = _check_optimize_result(\n",
      "/opt/conda/lib/python3.10/site-packages/sklearn/linear_model/_logistic.py:458: ConvergenceWarning: lbfgs failed to converge (status=1):\n",
      "STOP: TOTAL NO. of ITERATIONS REACHED LIMIT.\n",
      "\n",
      "Increase the number of iterations (max_iter) or scale the data as shown in:\n",
      "    https://scikit-learn.org/stable/modules/preprocessing.html\n",
      "Please also refer to the documentation for alternative solver options:\n",
      "    https://scikit-learn.org/stable/modules/linear_model.html#logistic-regression\n",
      "  n_iter_i = _check_optimize_result(\n",
      "/opt/conda/lib/python3.10/site-packages/sklearn/linear_model/_logistic.py:458: ConvergenceWarning: lbfgs failed to converge (status=1):\n",
      "STOP: TOTAL NO. of ITERATIONS REACHED LIMIT.\n",
      "\n",
      "Increase the number of iterations (max_iter) or scale the data as shown in:\n",
      "    https://scikit-learn.org/stable/modules/preprocessing.html\n",
      "Please also refer to the documentation for alternative solver options:\n",
      "    https://scikit-learn.org/stable/modules/linear_model.html#logistic-regression\n",
      "  n_iter_i = _check_optimize_result(\n",
      "/opt/conda/lib/python3.10/site-packages/sklearn/linear_model/_logistic.py:458: ConvergenceWarning: lbfgs failed to converge (status=1):\n",
      "STOP: TOTAL NO. of ITERATIONS REACHED LIMIT.\n",
      "\n",
      "Increase the number of iterations (max_iter) or scale the data as shown in:\n",
      "    https://scikit-learn.org/stable/modules/preprocessing.html\n",
      "Please also refer to the documentation for alternative solver options:\n",
      "    https://scikit-learn.org/stable/modules/linear_model.html#logistic-regression\n",
      "  n_iter_i = _check_optimize_result(\n",
      "[I 2024-02-22 19:34:02,962] Trial 1 finished with value: 0.953125 and parameters: {'solver': 'lbfgs', 'penalty': 'l2', 'multi_class': 'ovr', 'C': 28.654067094751603}. Best is trial 1 with value: 0.953125.\n",
      "[I 2024-02-22 19:34:04,587] Trial 2 finished with value: 0.95 and parameters: {'solver': 'lbfgs', 'penalty': 'l2', 'multi_class': 'ovr', 'C': 0.23090406809114175}. Best is trial 1 with value: 0.953125.\n",
      "[I 2024-02-22 19:34:14,904] Trial 3 finished with value: 0.934375 and parameters: {'solver': 'newton-cg', 'penalty': 'l2', 'multi_class': 'ovr', 'C': 4.302904104723537}. Best is trial 1 with value: 0.953125.\n",
      "[I 2024-02-22 19:34:27,279] Trial 4 finished with value: 0.953125 and parameters: {'solver': 'newton-cg', 'penalty': 'l2', 'multi_class': 'ovr', 'C': 0.0870037022009044}. Best is trial 1 with value: 0.953125.\n",
      "[I 2024-02-22 19:34:28,563] Trial 5 finished with value: 0.803125 and parameters: {'solver': 'saga', 'penalty': 'l2', 'multi_class': 'ovr', 'C': 78.22636591432271}. Best is trial 1 with value: 0.953125.\n",
      "[I 2024-02-22 19:34:46,198] Trial 6 finished with value: 0.909375 and parameters: {'solver': 'liblinear', 'penalty': 'l2', 'multi_class': 'ovr', 'C': 7.549442405092151}. Best is trial 1 with value: 0.953125.\n",
      "/opt/conda/lib/python3.10/site-packages/sklearn/utils/optimize.py:210: ConvergenceWarning: newton-cg failed to converge. Increase the number of iterations.\n",
      "  warnings.warn(\n",
      "/opt/conda/lib/python3.10/site-packages/sklearn/utils/optimize.py:210: ConvergenceWarning: newton-cg failed to converge. Increase the number of iterations.\n",
      "  warnings.warn(\n",
      "/opt/conda/lib/python3.10/site-packages/sklearn/utils/optimize.py:210: ConvergenceWarning: newton-cg failed to converge. Increase the number of iterations.\n",
      "  warnings.warn(\n",
      "/opt/conda/lib/python3.10/site-packages/sklearn/utils/optimize.py:210: ConvergenceWarning: newton-cg failed to converge. Increase the number of iterations.\n",
      "  warnings.warn(\n",
      "[I 2024-02-22 19:35:00,320] Trial 7 finished with value: 0.95625 and parameters: {'solver': 'newton-cg', 'penalty': 'l2', 'multi_class': 'ovr', 'C': 0.0033108212264938495}. Best is trial 7 with value: 0.95625.\n",
      "[I 2024-02-22 19:35:02,046] Trial 8 finished with value: 0.946875 and parameters: {'solver': 'lbfgs', 'penalty': 'l2', 'multi_class': 'ovr', 'C': 1.9723655494513257}. Best is trial 7 with value: 0.95625.\n",
      "[I 2024-02-22 19:35:14,230] Trial 9 finished with value: 0.953125 and parameters: {'solver': 'newton-cg', 'penalty': 'l2', 'multi_class': 'ovr', 'C': 0.0831508168284098}. Best is trial 7 with value: 0.95625.\n",
      "[I 2024-02-22 19:35:15,470] Trial 10 finished with value: 0.80625 and parameters: {'solver': 'saga', 'penalty': 'l2', 'multi_class': 'ovr', 'C': 0.00181723233954218}. Best is trial 7 with value: 0.95625.\n",
      "[I 2024-02-22 19:35:16,826] Trial 11 finished with value: 0.840625 and parameters: {'solver': 'lbfgs', 'penalty': 'l2', 'multi_class': 'ovr', 'C': 591.7272708113512}. Best is trial 7 with value: 0.95625.\n",
      "[I 2024-02-22 19:35:18,471] Trial 12 finished with value: 0.953125 and parameters: {'solver': 'lbfgs', 'penalty': 'l2', 'multi_class': 'ovr', 'C': 0.002109580392587986}. Best is trial 7 with value: 0.95625.\n",
      "[I 2024-02-22 19:35:28,902] Trial 13 finished with value: 0.915625 and parameters: {'solver': 'newton-cg', 'penalty': 'l2', 'multi_class': 'ovr', 'C': 41.62905397455947}. Best is trial 7 with value: 0.95625.\n",
      "[I 2024-02-22 19:35:42,415] Trial 14 finished with value: 0.95625 and parameters: {'solver': 'newton-cg', 'penalty': 'l2', 'multi_class': 'ovr', 'C': 0.006650400355650348}. Best is trial 7 with value: 0.95625.\n",
      "[I 2024-02-22 19:35:55,852] Trial 15 finished with value: 0.95625 and parameters: {'solver': 'newton-cg', 'penalty': 'l2', 'multi_class': 'ovr', 'C': 0.01031870207160504}. Best is trial 7 with value: 0.95625.\n",
      "[I 2024-02-22 19:36:09,847] Trial 16 finished with value: 0.95625 and parameters: {'solver': 'newton-cg', 'penalty': 'l2', 'multi_class': 'ovr', 'C': 0.005865791527501099}. Best is trial 7 with value: 0.95625.\n",
      "[I 2024-02-22 19:36:23,118] Trial 17 finished with value: 0.953125 and parameters: {'solver': 'newton-cg', 'penalty': 'l2', 'multi_class': 'ovr', 'C': 0.013478759880125047}. Best is trial 7 with value: 0.95625.\n",
      "[I 2024-02-22 19:36:36,994] Trial 18 finished with value: 0.95625 and parameters: {'solver': 'newton-cg', 'penalty': 'l2', 'multi_class': 'ovr', 'C': 0.0010492975911170902}. Best is trial 7 with value: 0.95625.\n",
      "[I 2024-02-22 19:36:38,233] Trial 19 finished with value: 0.803125 and parameters: {'solver': 'saga', 'penalty': 'l2', 'multi_class': 'ovr', 'C': 0.029738588432204706}. Best is trial 7 with value: 0.95625.\n",
      "[I 2024-02-22 19:36:53,735] Trial 20 finished with value: 0.91875 and parameters: {'solver': 'liblinear', 'penalty': 'l2', 'multi_class': 'ovr', 'C': 0.33148483107242993}. Best is trial 7 with value: 0.95625.\n",
      "[I 2024-02-22 19:37:07,741] Trial 21 finished with value: 0.95625 and parameters: {'solver': 'newton-cg', 'penalty': 'l2', 'multi_class': 'ovr', 'C': 0.009092192856311684}. Best is trial 7 with value: 0.95625.\n",
      "[I 2024-02-22 19:37:20,743] Trial 22 finished with value: 0.953125 and parameters: {'solver': 'newton-cg', 'penalty': 'l2', 'multi_class': 'ovr', 'C': 0.02906266731009015}. Best is trial 7 with value: 0.95625.\n",
      "[I 2024-02-22 19:37:34,308] Trial 23 finished with value: 0.95625 and parameters: {'solver': 'newton-cg', 'penalty': 'l2', 'multi_class': 'ovr', 'C': 0.0033418222328846768}. Best is trial 7 with value: 0.95625.\n",
      "[I 2024-02-22 19:37:47,724] Trial 24 finished with value: 0.95 and parameters: {'solver': 'newton-cg', 'penalty': 'l2', 'multi_class': 'ovr', 'C': 0.02154727859107096}. Best is trial 7 with value: 0.95625.\n",
      "[I 2024-02-22 19:37:58,357] Trial 25 finished with value: 0.94375 and parameters: {'solver': 'newton-cg', 'penalty': 'l2', 'multi_class': 'ovr', 'C': 0.7346771559736431}. Best is trial 7 with value: 0.95625.\n",
      "[I 2024-02-22 19:38:12,141] Trial 26 finished with value: 0.95625 and parameters: {'solver': 'newton-cg', 'penalty': 'l2', 'multi_class': 'ovr', 'C': 0.006827024341035793}. Best is trial 7 with value: 0.95625.\n",
      "[I 2024-02-22 19:38:24,617] Trial 27 finished with value: 0.953125 and parameters: {'solver': 'newton-cg', 'penalty': 'l2', 'multi_class': 'ovr', 'C': 0.04460441982653931}. Best is trial 7 with value: 0.95625.\n",
      "[I 2024-02-22 19:38:33,611] Trial 28 finished with value: 0.8125 and parameters: {'solver': 'liblinear', 'penalty': 'l2', 'multi_class': 'ovr', 'C': 0.0035151652588990947}. Best is trial 7 with value: 0.95625.\n",
      "[I 2024-02-22 19:38:34,850] Trial 29 finished with value: 0.803125 and parameters: {'solver': 'saga', 'penalty': 'l2', 'multi_class': 'ovr', 'C': 0.2852044613558429}. Best is trial 7 with value: 0.95625.\n",
      "[I 2024-02-22 19:38:41,910] Trial 30 finished with value: 0.809375 and parameters: {'solver': 'liblinear', 'penalty': 'l2', 'multi_class': 'ovr', 'C': 0.0014233741688825085}. Best is trial 7 with value: 0.95625.\n",
      "[I 2024-02-22 19:38:55,186] Trial 31 finished with value: 0.95625 and parameters: {'solver': 'newton-cg', 'penalty': 'l2', 'multi_class': 'ovr', 'C': 0.00623607570398203}. Best is trial 7 with value: 0.95625.\n",
      "[I 2024-02-22 19:39:08,478] Trial 32 finished with value: 0.95625 and parameters: {'solver': 'newton-cg', 'penalty': 'l2', 'multi_class': 'ovr', 'C': 0.004376547299886495}. Best is trial 7 with value: 0.95625.\n",
      "[I 2024-02-22 19:39:22,164] Trial 33 finished with value: 0.95625 and parameters: {'solver': 'newton-cg', 'penalty': 'l2', 'multi_class': 'ovr', 'C': 0.012885471380598727}. Best is trial 7 with value: 0.95625.\n",
      "[I 2024-02-22 19:39:34,166] Trial 34 finished with value: 0.95 and parameters: {'solver': 'newton-cg', 'penalty': 'l2', 'multi_class': 'ovr', 'C': 0.07439574676770841}. Best is trial 7 with value: 0.95625.\n",
      "[I 2024-02-22 19:39:47,753] Trial 35 finished with value: 0.95625 and parameters: {'solver': 'newton-cg', 'penalty': 'l2', 'multi_class': 'ovr', 'C': 0.013266917817467326}. Best is trial 7 with value: 0.95625.\n",
      "[I 2024-02-22 19:40:01,080] Trial 36 finished with value: 0.95625 and parameters: {'solver': 'newton-cg', 'penalty': 'l2', 'multi_class': 'ovr', 'C': 0.0032719965428077273}. Best is trial 7 with value: 0.95625.\n",
      "[I 2024-02-22 19:40:12,563] Trial 37 finished with value: 0.953125 and parameters: {'solver': 'newton-cg', 'penalty': 'l2', 'multi_class': 'ovr', 'C': 0.13872673492361567}. Best is trial 7 with value: 0.95625.\n",
      "[I 2024-02-22 19:40:13,854] Trial 38 finished with value: 0.803125 and parameters: {'solver': 'saga', 'penalty': 'l2', 'multi_class': 'ovr', 'C': 0.03369662336268518}. Best is trial 7 with value: 0.95625.\n",
      "[I 2024-02-22 19:40:15,509] Trial 39 finished with value: 0.953125 and parameters: {'solver': 'lbfgs', 'penalty': 'l2', 'multi_class': 'ovr', 'C': 0.0010416430015126146}. Best is trial 7 with value: 0.95625.\n",
      "[I 2024-02-22 19:40:26,700] Trial 40 finished with value: 0.946875 and parameters: {'solver': 'newton-cg', 'penalty': 'l2', 'multi_class': 'ovr', 'C': 0.7481662236195968}. Best is trial 7 with value: 0.95625.\n",
      "[I 2024-02-22 19:40:39,860] Trial 41 finished with value: 0.95625 and parameters: {'solver': 'newton-cg', 'penalty': 'l2', 'multi_class': 'ovr', 'C': 0.001000597121250931}. Best is trial 7 with value: 0.95625.\n",
      "[I 2024-02-22 19:40:53,772] Trial 42 finished with value: 0.95625 and parameters: {'solver': 'newton-cg', 'penalty': 'l2', 'multi_class': 'ovr', 'C': 0.0022920234055601014}. Best is trial 7 with value: 0.95625.\n",
      "[I 2024-02-22 19:41:07,347] Trial 43 finished with value: 0.95625 and parameters: {'solver': 'newton-cg', 'penalty': 'l2', 'multi_class': 'ovr', 'C': 0.005781490410000068}. Best is trial 7 with value: 0.95625.\n",
      "[I 2024-02-22 19:41:20,794] Trial 44 finished with value: 0.95625 and parameters: {'solver': 'newton-cg', 'penalty': 'l2', 'multi_class': 'ovr', 'C': 0.002022387404310756}. Best is trial 7 with value: 0.95625.\n",
      "[I 2024-02-22 19:41:22,881] Trial 45 finished with value: 0.940625 and parameters: {'solver': 'lbfgs', 'penalty': 'l2', 'multi_class': 'ovr', 'C': 9.59377978975095}. Best is trial 7 with value: 0.95625.\n",
      "[I 2024-02-22 19:41:42,573] Trial 46 finished with value: 0.903125 and parameters: {'solver': 'liblinear', 'penalty': 'l2', 'multi_class': 'ovr', 'C': 301.7447156610767}. Best is trial 7 with value: 0.95625.\n",
      "[I 2024-02-22 19:41:56,340] Trial 47 finished with value: 0.95625 and parameters: {'solver': 'newton-cg', 'penalty': 'l2', 'multi_class': 'ovr', 'C': 0.013521743826545366}. Best is trial 7 with value: 0.95625.\n",
      "[I 2024-02-22 19:42:08,602] Trial 48 finished with value: 0.953125 and parameters: {'solver': 'newton-cg', 'penalty': 'l2', 'multi_class': 'ovr', 'C': 0.06041956992857139}. Best is trial 7 with value: 0.95625.\n",
      "[I 2024-02-22 19:42:09,861] Trial 49 finished with value: 0.80625 and parameters: {'solver': 'saga', 'penalty': 'l2', 'multi_class': 'ovr', 'C': 0.13155683746258287}. Best is trial 7 with value: 0.95625.\n",
      "[I 2024-02-22 19:42:11,521] Trial 50 finished with value: 0.95625 and parameters: {'solver': 'lbfgs', 'penalty': 'l2', 'multi_class': 'ovr', 'C': 0.019003740157145736}. Best is trial 7 with value: 0.95625.\n",
      "[I 2024-02-22 19:42:24,853] Trial 51 finished with value: 0.95625 and parameters: {'solver': 'newton-cg', 'penalty': 'l2', 'multi_class': 'ovr', 'C': 0.007731360463873962}. Best is trial 7 with value: 0.95625.\n",
      "[I 2024-02-22 19:42:38,788] Trial 52 finished with value: 0.95625 and parameters: {'solver': 'newton-cg', 'penalty': 'l2', 'multi_class': 'ovr', 'C': 0.007294049324094772}. Best is trial 7 with value: 0.95625.\n",
      "[I 2024-02-22 19:42:52,101] Trial 53 finished with value: 0.95625 and parameters: {'solver': 'newton-cg', 'penalty': 'l2', 'multi_class': 'ovr', 'C': 0.0026372043657809725}. Best is trial 7 with value: 0.95625.\n",
      "[I 2024-02-22 19:43:05,735] Trial 54 finished with value: 0.95625 and parameters: {'solver': 'newton-cg', 'penalty': 'l2', 'multi_class': 'ovr', 'C': 0.010333765687942335}. Best is trial 7 with value: 0.95625.\n",
      "[I 2024-02-22 19:43:19,020] Trial 55 finished with value: 0.95625 and parameters: {'solver': 'newton-cg', 'penalty': 'l2', 'multi_class': 'ovr', 'C': 0.0015117396379991544}. Best is trial 7 with value: 0.95625.\n",
      "[I 2024-02-22 19:43:32,716] Trial 56 finished with value: 0.95625 and parameters: {'solver': 'newton-cg', 'penalty': 'l2', 'multi_class': 'ovr', 'C': 0.004755922465419238}. Best is trial 7 with value: 0.95625.\n",
      "[I 2024-02-22 19:43:45,867] Trial 57 finished with value: 0.95625 and parameters: {'solver': 'newton-cg', 'penalty': 'l2', 'multi_class': 'ovr', 'C': 0.017018982423212814}. Best is trial 7 with value: 0.95625.\n",
      "[I 2024-02-22 19:43:58,879] Trial 58 finished with value: 0.871875 and parameters: {'solver': 'liblinear', 'penalty': 'l2', 'multi_class': 'ovr', 'C': 0.03247167100625286}. Best is trial 7 with value: 0.95625.\n",
      "[I 2024-02-22 19:44:09,623] Trial 59 finished with value: 0.94375 and parameters: {'solver': 'newton-cg', 'penalty': 'l2', 'multi_class': 'ovr', 'C': 2.920771324075117}. Best is trial 7 with value: 0.95625.\n",
      "[I 2024-02-22 19:44:10,850] Trial 60 finished with value: 0.803125 and parameters: {'solver': 'saga', 'penalty': 'l2', 'multi_class': 'ovr', 'C': 0.003792043148087099}. Best is trial 7 with value: 0.95625.\n",
      "[I 2024-02-22 19:44:24,141] Trial 61 finished with value: 0.95625 and parameters: {'solver': 'newton-cg', 'penalty': 'l2', 'multi_class': 'ovr', 'C': 0.0026059867870642257}. Best is trial 7 with value: 0.95625.\n",
      "[I 2024-02-22 19:44:37,724] Trial 62 finished with value: 0.95625 and parameters: {'solver': 'newton-cg', 'penalty': 'l2', 'multi_class': 'ovr', 'C': 0.0016202137387758824}. Best is trial 7 with value: 0.95625.\n",
      "[I 2024-02-22 19:44:51,125] Trial 63 finished with value: 0.95625 and parameters: {'solver': 'newton-cg', 'penalty': 'l2', 'multi_class': 'ovr', 'C': 0.009816709942646407}. Best is trial 7 with value: 0.95625.\n",
      "[I 2024-02-22 19:45:04,432] Trial 64 finished with value: 0.95625 and parameters: {'solver': 'newton-cg', 'penalty': 'l2', 'multi_class': 'ovr', 'C': 0.004471785020780613}. Best is trial 7 with value: 0.95625.\n",
      "[I 2024-02-22 19:45:17,951] Trial 65 finished with value: 0.95625 and parameters: {'solver': 'newton-cg', 'penalty': 'l2', 'multi_class': 'ovr', 'C': 0.021982480626844127}. Best is trial 7 with value: 0.95625.\n",
      "[I 2024-02-22 19:45:31,456] Trial 66 finished with value: 0.95625 and parameters: {'solver': 'newton-cg', 'penalty': 'l2', 'multi_class': 'ovr', 'C': 0.003112552028775528}. Best is trial 7 with value: 0.95625.\n",
      "[I 2024-02-22 19:45:45,213] Trial 67 finished with value: 0.95625 and parameters: {'solver': 'newton-cg', 'penalty': 'l2', 'multi_class': 'ovr', 'C': 0.00867548911159403}. Best is trial 7 with value: 0.95625.\n",
      "[I 2024-02-22 19:45:46,965] Trial 68 finished with value: 0.953125 and parameters: {'solver': 'lbfgs', 'penalty': 'l2', 'multi_class': 'ovr', 'C': 0.04943965831907583}. Best is trial 7 with value: 0.95625.\n",
      "[I 2024-02-22 19:46:00,526] Trial 69 finished with value: 0.95625 and parameters: {'solver': 'newton-cg', 'penalty': 'l2', 'multi_class': 'ovr', 'C': 0.004370343387112794}. Best is trial 7 with value: 0.95625.\n",
      "[I 2024-02-22 19:46:06,798] Trial 70 finished with value: 0.809375 and parameters: {'solver': 'liblinear', 'penalty': 'l2', 'multi_class': 'ovr', 'C': 0.0010113649538909893}. Best is trial 7 with value: 0.95625.\n",
      "[I 2024-02-22 19:46:20,827] Trial 71 finished with value: 0.95625 and parameters: {'solver': 'newton-cg', 'penalty': 'l2', 'multi_class': 'ovr', 'C': 0.007070770970790179}. Best is trial 7 with value: 0.95625.\n",
      "[I 2024-02-22 19:46:34,423] Trial 72 finished with value: 0.95625 and parameters: {'solver': 'newton-cg', 'penalty': 'l2', 'multi_class': 'ovr', 'C': 0.0017153549837918664}. Best is trial 7 with value: 0.95625.\n",
      "[I 2024-02-22 19:46:48,080] Trial 73 finished with value: 0.95625 and parameters: {'solver': 'newton-cg', 'penalty': 'l2', 'multi_class': 'ovr', 'C': 0.005695694973049208}. Best is trial 7 with value: 0.95625.\n",
      "[I 2024-02-22 19:47:01,852] Trial 74 finished with value: 0.95625 and parameters: {'solver': 'newton-cg', 'penalty': 'l2', 'multi_class': 'ovr', 'C': 0.002801970502053131}. Best is trial 7 with value: 0.95625.\n",
      "[I 2024-02-22 19:47:14,754] Trial 75 finished with value: 0.95625 and parameters: {'solver': 'newton-cg', 'penalty': 'l2', 'multi_class': 'ovr', 'C': 0.024869742399997393}. Best is trial 7 with value: 0.95625.\n",
      "[I 2024-02-22 19:47:28,335] Trial 76 finished with value: 0.95625 and parameters: {'solver': 'newton-cg', 'penalty': 'l2', 'multi_class': 'ovr', 'C': 0.01300248786908738}. Best is trial 7 with value: 0.95625.\n",
      "[I 2024-02-22 19:47:29,618] Trial 77 finished with value: 0.803125 and parameters: {'solver': 'saga', 'penalty': 'l2', 'multi_class': 'ovr', 'C': 0.4554623350866758}. Best is trial 7 with value: 0.95625.\n",
      "[I 2024-02-22 19:47:42,603] Trial 78 finished with value: 0.95625 and parameters: {'solver': 'newton-cg', 'penalty': 'l2', 'multi_class': 'ovr', 'C': 0.0013348390474774191}. Best is trial 7 with value: 0.95625.\n",
      "[I 2024-02-22 19:47:54,905] Trial 79 finished with value: 0.953125 and parameters: {'solver': 'newton-cg', 'penalty': 'l2', 'multi_class': 'ovr', 'C': 0.09093143831093407}. Best is trial 7 with value: 0.95625.\n",
      "[I 2024-02-22 19:48:07,972] Trial 80 finished with value: 0.95625 and parameters: {'solver': 'newton-cg', 'penalty': 'l2', 'multi_class': 'ovr', 'C': 0.002430115440560588}. Best is trial 7 with value: 0.95625.\n",
      "[I 2024-02-22 19:48:21,140] Trial 81 finished with value: 0.95625 and parameters: {'solver': 'newton-cg', 'penalty': 'l2', 'multi_class': 'ovr', 'C': 0.005441476004178648}. Best is trial 7 with value: 0.95625.\n",
      "[I 2024-02-22 19:48:34,715] Trial 82 finished with value: 0.95625 and parameters: {'solver': 'newton-cg', 'penalty': 'l2', 'multi_class': 'ovr', 'C': 0.00698056032065699}. Best is trial 7 with value: 0.95625.\n",
      "[I 2024-02-22 19:48:47,628] Trial 83 finished with value: 0.95625 and parameters: {'solver': 'newton-cg', 'penalty': 'l2', 'multi_class': 'ovr', 'C': 0.010231096386420092}. Best is trial 7 with value: 0.95625.\n",
      "[I 2024-02-22 19:49:01,310] Trial 84 finished with value: 0.95625 and parameters: {'solver': 'newton-cg', 'penalty': 'l2', 'multi_class': 'ovr', 'C': 0.003708406106280833}. Best is trial 7 with value: 0.95625.\n",
      "[I 2024-02-22 19:49:03,024] Trial 85 finished with value: 0.953125 and parameters: {'solver': 'lbfgs', 'penalty': 'l2', 'multi_class': 'ovr', 'C': 0.018467869243748016}. Best is trial 7 with value: 0.95625.\n",
      "[I 2024-02-22 19:49:15,991] Trial 86 finished with value: 0.95625 and parameters: {'solver': 'newton-cg', 'penalty': 'l2', 'multi_class': 'ovr', 'C': 0.001995757371566442}. Best is trial 7 with value: 0.95625.\n",
      "[I 2024-02-22 19:49:29,270] Trial 87 finished with value: 0.871875 and parameters: {'solver': 'liblinear', 'penalty': 'l2', 'multi_class': 'ovr', 'C': 0.03753169849512705}. Best is trial 7 with value: 0.95625.\n",
      "[I 2024-02-22 19:49:39,621] Trial 88 finished with value: 0.93125 and parameters: {'solver': 'newton-cg', 'penalty': 'l2', 'multi_class': 'ovr', 'C': 15.870874393085534}. Best is trial 7 with value: 0.95625.\n",
      "[I 2024-02-22 19:49:52,760] Trial 89 finished with value: 0.95625 and parameters: {'solver': 'newton-cg', 'penalty': 'l2', 'multi_class': 'ovr', 'C': 0.015428391565139562}. Best is trial 7 with value: 0.95625.\n",
      "[I 2024-02-22 19:50:06,644] Trial 90 finished with value: 0.95625 and parameters: {'solver': 'newton-cg', 'penalty': 'l2', 'multi_class': 'ovr', 'C': 0.006134182773133525}. Best is trial 7 with value: 0.95625.\n",
      "[I 2024-02-22 19:50:20,233] Trial 91 finished with value: 0.95625 and parameters: {'solver': 'newton-cg', 'penalty': 'l2', 'multi_class': 'ovr', 'C': 0.0034635837117732893}. Best is trial 7 with value: 0.95625.\n",
      "[I 2024-02-22 19:50:29,825] Trial 92 finished with value: 0.903125 and parameters: {'solver': 'newton-cg', 'penalty': 'l2', 'multi_class': 'ovr', 'C': 87.53308824005076}. Best is trial 7 with value: 0.95625.\n",
      "[I 2024-02-22 19:50:43,814] Trial 93 finished with value: 0.953125 and parameters: {'solver': 'newton-cg', 'penalty': 'l2', 'multi_class': 'ovr', 'C': 0.01108994858776007}. Best is trial 7 with value: 0.95625.\n",
      "[I 2024-02-22 19:50:57,595] Trial 94 finished with value: 0.95625 and parameters: {'solver': 'newton-cg', 'penalty': 'l2', 'multi_class': 'ovr', 'C': 0.004506485457614465}. Best is trial 7 with value: 0.95625.\n",
      "[I 2024-02-22 19:50:58,927] Trial 95 finished with value: 0.80625 and parameters: {'solver': 'saga', 'penalty': 'l2', 'multi_class': 'ovr', 'C': 0.0013860629800011557}. Best is trial 7 with value: 0.95625.\n",
      "[I 2024-02-22 19:51:13,084] Trial 96 finished with value: 0.95625 and parameters: {'solver': 'newton-cg', 'penalty': 'l2', 'multi_class': 'ovr', 'C': 0.007520866449509608}. Best is trial 7 with value: 0.95625.\n",
      "[I 2024-02-22 19:51:26,772] Trial 97 finished with value: 0.95625 and parameters: {'solver': 'newton-cg', 'penalty': 'l2', 'multi_class': 'ovr', 'C': 0.0020132230732073067}. Best is trial 7 with value: 0.95625.\n",
      "[I 2024-02-22 19:51:40,455] Trial 98 finished with value: 0.95625 and parameters: {'solver': 'newton-cg', 'penalty': 'l2', 'multi_class': 'ovr', 'C': 0.0033746138993383415}. Best is trial 7 with value: 0.95625.\n",
      "[I 2024-02-22 19:51:54,405] Trial 99 finished with value: 0.95625 and parameters: {'solver': 'newton-cg', 'penalty': 'l2', 'multi_class': 'ovr', 'C': 0.008855338213463479}. Best is trial 7 with value: 0.95625.\n"
     ]
    },
    {
     "name": "stdout",
     "output_type": "stream",
     "text": [
      "Best params found : {'solver': 'newton-cg', 'penalty': 'l2', 'multi_class': 'ovr', 'C': 0.0033108212264938495}\n",
      "accuracy: 1.0\n",
      "recall: 1.0\n",
      "precision: 1.0\n",
      "f1-score: 1.0\n"
     ]
    }
   ],
   "source": [
    "study = optuna.create_study(direction = 'maximize')\n",
    "study.optimize(objective, n_trials = 100)\n",
    "best_params = study.best_params\n",
    "print(\"Best params found :\", best_params)\n",
    "\n",
    "final_model = LogisticRegression(**best_params)\n",
    "final_model.fit(X_train_reduced, y_train)\n",
    "y_pred = final_model.predict(X_test_reduced)\n",
    "prediction_results['logistic regression'] = y_pred\n",
    "\n",
    "accuracy = accuracy_score(y_test, y_pred)\n",
    "precision = precision_score(y_test, y_pred, average='macro')\n",
    "recall = recall_score(y_test, y_pred, average='macro')\n",
    "f1 = f1_score(y_test, y_pred, average='macro')\n",
    "\n",
    "# # One-hot encoding for probability calculation (adapt if necessary)\n",
    "# y_test_onehot = pd.get_dummies(y_test, prefix='label_')  # Assuming 'label_' prefix for clarity\n",
    "# y_pred_onehot = pd.get_dummies(y_pred, prefix='label_')\n",
    "\n",
    "# # ROC AUC score with multiclass handling\n",
    "# roc_auc_macro = roc_auc_score(y_test_onehot, y_pred_onehot, average='macro', multi_class='ovo')  # Specify 'ovo' or 'ovr'\n",
    "\n",
    "print(\"accuracy:\", accuracy)\n",
    "print(\"recall:\", recall)\n",
    "print(\"precision:\", precision)\n",
    "print(\"f1-score:\", f1)\n",
    "# print('roc_auc: ', roc_auc_macro)"
   ]
  },
  {
   "cell_type": "code",
   "execution_count": 76,
   "id": "05c98646",
   "metadata": {
    "execution": {
     "iopub.execute_input": "2024-02-22T19:52:09.831512Z",
     "iopub.status.busy": "2024-02-22T19:52:09.830589Z",
     "iopub.status.idle": "2024-02-22T19:52:09.835416Z",
     "shell.execute_reply": "2024-02-22T19:52:09.834203Z"
    },
    "id": "tb91KNhaZocl",
    "papermill": {
     "duration": 0.198085,
     "end_time": "2024-02-22T19:52:09.837720",
     "exception": false,
     "start_time": "2024-02-22T19:52:09.639635",
     "status": "completed"
    },
    "tags": []
   },
   "outputs": [],
   "source": [
    "# lr = LogisticRegression(multi_class='ovr', solver='liblinear')\n",
    "# lr.fit(X_train_reduced, y_train)\n",
    "# y_pred = lr.predict(X_test_reduced)"
   ]
  },
  {
   "cell_type": "markdown",
   "id": "25a47d71",
   "metadata": {
    "id": "IptOdjgIZocl",
    "papermill": {
     "duration": 0.189922,
     "end_time": "2024-02-22T19:52:10.217394",
     "exception": false,
     "start_time": "2024-02-22T19:52:10.027472",
     "status": "completed"
    },
    "tags": []
   },
   "source": [
    "## KNN Classifier"
   ]
  },
  {
   "cell_type": "markdown",
   "id": "678ef0c2",
   "metadata": {
    "id": "JghGTocKZocl",
    "papermill": {
     "duration": 0.189453,
     "end_time": "2024-02-22T19:52:10.599048",
     "exception": false,
     "start_time": "2024-02-22T19:52:10.409595",
     "status": "completed"
    },
    "tags": []
   },
   "source": [
    "**Normal**"
   ]
  },
  {
   "cell_type": "code",
   "execution_count": 77,
   "id": "16010edd",
   "metadata": {
    "execution": {
     "iopub.execute_input": "2024-02-22T19:52:10.979473Z",
     "iopub.status.busy": "2024-02-22T19:52:10.978711Z",
     "iopub.status.idle": "2024-02-22T19:52:11.068766Z",
     "shell.execute_reply": "2024-02-22T19:52:11.067322Z"
    },
    "id": "5UAG-mBdZocm",
    "outputId": "ffc2f51f-97ea-4cce-cbd5-8f35f64eb788",
    "papermill": {
     "duration": 0.282867,
     "end_time": "2024-02-22T19:52:11.072675",
     "exception": false,
     "start_time": "2024-02-22T19:52:10.789808",
     "status": "completed"
    },
    "tags": []
   },
   "outputs": [
    {
     "name": "stdout",
     "output_type": "stream",
     "text": [
      "accuracy: 0.9125\n",
      "recall: 0.9375\n",
      "precision: 0.9143518518518517\n",
      "f1-score: 0.9068783068783068\n"
     ]
    }
   ],
   "source": [
    "from sklearn.neighbors import KNeighborsClassifier\n",
    "\n",
    "knn = KNeighborsClassifier()\n",
    "knn.fit(X_train_reduced, y_train)\n",
    "y_pred = knn.predict(X_test_reduced)\n",
    "\n",
    "accuracy = accuracy_score(y_test, y_pred)\n",
    "precision = precision_score(y_test, y_pred, average='macro')\n",
    "recall = recall_score(y_test, y_pred, average='macro')\n",
    "f1 = f1_score(y_test, y_pred, average='macro')\n",
    "\n",
    "# # One-hot encoding for probability calculation (adapt if necessary)\n",
    "# y_test_onehot = pd.get_dummies(y_test, prefix='label_')  # Assuming 'label_' prefix for clarity\n",
    "# y_pred_onehot = pd.get_dummies(y_pred, prefix='label_')\n",
    "\n",
    "# # ROC AUC score with multiclass handling\n",
    "# roc_auc_macro = roc_auc_score(y_test_onehot, y_pred_onehot, average='macro', multi_class='ovo')  # Specify 'ovo' or 'ovr'\n",
    "\n",
    "print(\"accuracy:\", accuracy)\n",
    "print(\"recall:\", recall)\n",
    "print(\"precision:\", precision)\n",
    "print(\"f1-score:\", f1)\n",
    "# print('roc_auc: ', roc_auc_macro)\n"
   ]
  },
  {
   "cell_type": "markdown",
   "id": "49425840",
   "metadata": {
    "id": "yuPM396XZocm",
    "papermill": {
     "duration": 0.187184,
     "end_time": "2024-02-22T19:52:11.468363",
     "exception": false,
     "start_time": "2024-02-22T19:52:11.281179",
     "status": "completed"
    },
    "tags": []
   },
   "source": [
    "**Tunning**"
   ]
  },
  {
   "cell_type": "code",
   "execution_count": 78,
   "id": "1c616e56",
   "metadata": {
    "execution": {
     "iopub.execute_input": "2024-02-22T19:52:11.848438Z",
     "iopub.status.busy": "2024-02-22T19:52:11.848033Z",
     "iopub.status.idle": "2024-02-22T19:52:11.855950Z",
     "shell.execute_reply": "2024-02-22T19:52:11.855110Z"
    },
    "id": "p4zO_c4aZocm",
    "papermill": {
     "duration": 0.199208,
     "end_time": "2024-02-22T19:52:11.857992",
     "exception": false,
     "start_time": "2024-02-22T19:52:11.658784",
     "status": "completed"
    },
    "tags": []
   },
   "outputs": [],
   "source": [
    "import optuna\n",
    "from sklearn.model_selection import cross_val_score\n",
    "import warnings\n",
    "warnings.filterwarnings('ignore')\n",
    "\n",
    "\n",
    "def objective(trial):\n",
    "    hyperparams = {\n",
    "        'n_neighbors': trial.suggest_int(\"n_neighbors\", 5, 100),\n",
    "        'weights': trial.suggest_categorical(\"weights\", [\"uniform\", \"distance\"]),\n",
    "        'metric': trial.suggest_categorical(\"metric\", [\"euclidean\", \"manhattan\", \"minkowski\"]),\n",
    "        'algorithm': trial.suggest_categorical('algorithm', ['auto', 'ball_tree', 'kd_tree', 'brute']),\n",
    "        'n_jobs': -1\n",
    "    }\n",
    "\n",
    "    # Create KNN model with tuned hyperparameters\n",
    "    model = KNeighborsClassifier(**hyperparams)\n",
    "    scores = cross_val_score(model, X_train_reduced,\n",
    "                             y_train, cv=kf, scoring='accuracy')\n",
    "    return np.mean(scores)"
   ]
  },
  {
   "cell_type": "code",
   "execution_count": 79,
   "id": "0c5e3b7e",
   "metadata": {
    "execution": {
     "iopub.execute_input": "2024-02-22T19:52:12.242962Z",
     "iopub.status.busy": "2024-02-22T19:52:12.242278Z",
     "iopub.status.idle": "2024-02-22T19:52:21.310865Z",
     "shell.execute_reply": "2024-02-22T19:52:21.309988Z"
    },
    "id": "08WuSIyEZocm",
    "outputId": "d42f8ec4-10b0-426f-d3c2-71bf07d7f37b",
    "papermill": {
     "duration": 9.261472,
     "end_time": "2024-02-22T19:52:21.313463",
     "exception": false,
     "start_time": "2024-02-22T19:52:12.051991",
     "status": "completed"
    },
    "tags": []
   },
   "outputs": [
    {
     "name": "stderr",
     "output_type": "stream",
     "text": [
      "[I 2024-02-22 19:52:12,248] A new study created in memory with name: no-name-91241e7c-b466-49d3-a4fa-d50d592f6205\n",
      "[I 2024-02-22 19:52:12,347] Trial 0 finished with value: 0.59375 and parameters: {'n_neighbors': 71, 'weights': 'distance', 'metric': 'minkowski', 'algorithm': 'kd_tree'}. Best is trial 0 with value: 0.59375.\n",
      "[I 2024-02-22 19:52:12,385] Trial 1 finished with value: 0.59375 and parameters: {'n_neighbors': 70, 'weights': 'distance', 'metric': 'minkowski', 'algorithm': 'brute'}. Best is trial 0 with value: 0.59375.\n",
      "[I 2024-02-22 19:52:12,426] Trial 2 finished with value: 0.584375 and parameters: {'n_neighbors': 54, 'weights': 'distance', 'metric': 'manhattan', 'algorithm': 'auto'}. Best is trial 0 with value: 0.59375.\n",
      "[I 2024-02-22 19:52:12,461] Trial 3 finished with value: 0.7375 and parameters: {'n_neighbors': 14, 'weights': 'distance', 'metric': 'manhattan', 'algorithm': 'auto'}. Best is trial 3 with value: 0.7375.\n",
      "[I 2024-02-22 19:52:12,566] Trial 4 finished with value: 0.578125 and parameters: {'n_neighbors': 86, 'weights': 'distance', 'metric': 'minkowski', 'algorithm': 'ball_tree'}. Best is trial 3 with value: 0.7375.\n",
      "[I 2024-02-22 19:52:12,603] Trial 5 finished with value: 0.6125 and parameters: {'n_neighbors': 54, 'weights': 'distance', 'metric': 'minkowski', 'algorithm': 'brute'}. Best is trial 3 with value: 0.7375.\n",
      "[I 2024-02-22 19:52:12,658] Trial 6 finished with value: 0.065625 and parameters: {'n_neighbors': 89, 'weights': 'uniform', 'metric': 'euclidean', 'algorithm': 'auto'}. Best is trial 3 with value: 0.7375.\n",
      "[I 2024-02-22 19:52:12,711] Trial 7 finished with value: 0.728125 and parameters: {'n_neighbors': 7, 'weights': 'uniform', 'metric': 'manhattan', 'algorithm': 'auto'}. Best is trial 3 with value: 0.7375.\n",
      "[I 2024-02-22 19:52:12,758] Trial 8 finished with value: 0.384375 and parameters: {'n_neighbors': 27, 'weights': 'uniform', 'metric': 'minkowski', 'algorithm': 'brute'}. Best is trial 3 with value: 0.7375.\n",
      "[I 2024-02-22 19:52:12,797] Trial 9 finished with value: 0.571875 and parameters: {'n_neighbors': 92, 'weights': 'distance', 'metric': 'minkowski', 'algorithm': 'auto'}. Best is trial 3 with value: 0.7375.\n",
      "[I 2024-02-22 19:52:12,923] Trial 10 finished with value: 0.478125 and parameters: {'n_neighbors': 23, 'weights': 'uniform', 'metric': 'manhattan', 'algorithm': 'kd_tree'}. Best is trial 3 with value: 0.7375.\n",
      "[I 2024-02-22 19:52:12,984] Trial 11 finished with value: 0.75625 and parameters: {'n_neighbors': 6, 'weights': 'uniform', 'metric': 'manhattan', 'algorithm': 'auto'}. Best is trial 11 with value: 0.75625.\n",
      "[I 2024-02-22 19:52:13,047] Trial 12 finished with value: 0.784375 and parameters: {'n_neighbors': 5, 'weights': 'uniform', 'metric': 'manhattan', 'algorithm': 'auto'}. Best is trial 12 with value: 0.784375.\n",
      "[I 2024-02-22 19:52:13,170] Trial 13 finished with value: 0.340625 and parameters: {'n_neighbors': 36, 'weights': 'uniform', 'metric': 'manhattan', 'algorithm': 'ball_tree'}. Best is trial 12 with value: 0.784375.\n",
      "[I 2024-02-22 19:52:13,229] Trial 14 finished with value: 0.746875 and parameters: {'n_neighbors': 6, 'weights': 'uniform', 'metric': 'euclidean', 'algorithm': 'auto'}. Best is trial 12 with value: 0.784375.\n",
      "[I 2024-02-22 19:52:13,295] Trial 15 finished with value: 0.328125 and parameters: {'n_neighbors': 37, 'weights': 'uniform', 'metric': 'manhattan', 'algorithm': 'auto'}. Best is trial 12 with value: 0.784375.\n",
      "[I 2024-02-22 19:52:13,359] Trial 16 finished with value: 0.509375 and parameters: {'n_neighbors': 20, 'weights': 'uniform', 'metric': 'manhattan', 'algorithm': 'auto'}. Best is trial 12 with value: 0.784375.\n",
      "[I 2024-02-22 19:52:13,498] Trial 17 finished with value: 0.346875 and parameters: {'n_neighbors': 35, 'weights': 'uniform', 'metric': 'manhattan', 'algorithm': 'kd_tree'}. Best is trial 12 with value: 0.784375.\n",
      "[I 2024-02-22 19:52:13,626] Trial 18 finished with value: 0.796875 and parameters: {'n_neighbors': 5, 'weights': 'uniform', 'metric': 'euclidean', 'algorithm': 'ball_tree'}. Best is trial 18 with value: 0.796875.\n",
      "[I 2024-02-22 19:52:13,754] Trial 19 finished with value: 0.184375 and parameters: {'n_neighbors': 46, 'weights': 'uniform', 'metric': 'euclidean', 'algorithm': 'ball_tree'}. Best is trial 18 with value: 0.796875.\n",
      "[I 2024-02-22 19:52:13,905] Trial 20 finished with value: 0.56875 and parameters: {'n_neighbors': 15, 'weights': 'uniform', 'metric': 'euclidean', 'algorithm': 'ball_tree'}. Best is trial 18 with value: 0.796875.\n",
      "[I 2024-02-22 19:52:14,031] Trial 21 finished with value: 0.796875 and parameters: {'n_neighbors': 5, 'weights': 'uniform', 'metric': 'euclidean', 'algorithm': 'ball_tree'}. Best is trial 18 with value: 0.796875.\n",
      "[I 2024-02-22 19:52:14,159] Trial 22 finished with value: 0.546875 and parameters: {'n_neighbors': 16, 'weights': 'uniform', 'metric': 'euclidean', 'algorithm': 'ball_tree'}. Best is trial 18 with value: 0.796875.\n",
      "[I 2024-02-22 19:52:14,293] Trial 23 finished with value: 0.384375 and parameters: {'n_neighbors': 27, 'weights': 'uniform', 'metric': 'euclidean', 'algorithm': 'ball_tree'}. Best is trial 18 with value: 0.796875.\n",
      "[I 2024-02-22 19:52:14,421] Trial 24 finished with value: 0.796875 and parameters: {'n_neighbors': 5, 'weights': 'uniform', 'metric': 'euclidean', 'algorithm': 'ball_tree'}. Best is trial 18 with value: 0.796875.\n",
      "[I 2024-02-22 19:52:14,550] Trial 25 finished with value: 0.546875 and parameters: {'n_neighbors': 16, 'weights': 'uniform', 'metric': 'euclidean', 'algorithm': 'ball_tree'}. Best is trial 18 with value: 0.796875.\n",
      "[I 2024-02-22 19:52:14,681] Trial 26 finished with value: 0.615625 and parameters: {'n_neighbors': 11, 'weights': 'uniform', 'metric': 'euclidean', 'algorithm': 'ball_tree'}. Best is trial 18 with value: 0.796875.\n",
      "[I 2024-02-22 19:52:14,802] Trial 27 finished with value: 0.35625 and parameters: {'n_neighbors': 29, 'weights': 'uniform', 'metric': 'euclidean', 'algorithm': 'ball_tree'}. Best is trial 18 with value: 0.796875.\n",
      "[I 2024-02-22 19:52:14,924] Trial 28 finished with value: 0.196875 and parameters: {'n_neighbors': 44, 'weights': 'uniform', 'metric': 'euclidean', 'algorithm': 'ball_tree'}. Best is trial 18 with value: 0.796875.\n",
      "[I 2024-02-22 19:52:15,048] Trial 29 finished with value: 0.090625 and parameters: {'n_neighbors': 67, 'weights': 'uniform', 'metric': 'euclidean', 'algorithm': 'kd_tree'}. Best is trial 18 with value: 0.796875.\n",
      "[I 2024-02-22 19:52:15,170] Trial 30 finished with value: 0.071875 and parameters: {'n_neighbors': 80, 'weights': 'uniform', 'metric': 'euclidean', 'algorithm': 'ball_tree'}. Best is trial 18 with value: 0.796875.\n",
      "[I 2024-02-22 19:52:15,292] Trial 31 finished with value: 0.796875 and parameters: {'n_neighbors': 5, 'weights': 'uniform', 'metric': 'euclidean', 'algorithm': 'ball_tree'}. Best is trial 18 with value: 0.796875.\n",
      "[I 2024-02-22 19:52:15,414] Trial 32 finished with value: 0.615625 and parameters: {'n_neighbors': 11, 'weights': 'uniform', 'metric': 'euclidean', 'algorithm': 'ball_tree'}. Best is trial 18 with value: 0.796875.\n",
      "[I 2024-02-22 19:52:15,535] Trial 33 finished with value: 0.46875 and parameters: {'n_neighbors': 20, 'weights': 'uniform', 'metric': 'euclidean', 'algorithm': 'ball_tree'}. Best is trial 18 with value: 0.796875.\n",
      "[I 2024-02-22 19:52:15,642] Trial 34 finished with value: 0.771875 and parameters: {'n_neighbors': 11, 'weights': 'distance', 'metric': 'euclidean', 'algorithm': 'ball_tree'}. Best is trial 18 with value: 0.796875.\n",
      "[I 2024-02-22 19:52:15,696] Trial 35 finished with value: 0.596875 and parameters: {'n_neighbors': 66, 'weights': 'distance', 'metric': 'euclidean', 'algorithm': 'brute'}. Best is trial 18 with value: 0.796875.\n",
      "[I 2024-02-22 19:52:15,823] Trial 36 finished with value: 0.471875 and parameters: {'n_neighbors': 22, 'weights': 'uniform', 'metric': 'euclidean', 'algorithm': 'ball_tree'}. Best is trial 18 with value: 0.796875.\n",
      "[I 2024-02-22 19:52:15,938] Trial 37 finished with value: 0.571875 and parameters: {'n_neighbors': 100, 'weights': 'distance', 'metric': 'euclidean', 'algorithm': 'ball_tree'}. Best is trial 18 with value: 0.796875.\n",
      "[I 2024-02-22 19:52:15,997] Trial 38 finished with value: 0.615625 and parameters: {'n_neighbors': 11, 'weights': 'uniform', 'metric': 'minkowski', 'algorithm': 'brute'}. Best is trial 18 with value: 0.796875.\n",
      "[I 2024-02-22 19:52:16,122] Trial 39 finished with value: 0.796875 and parameters: {'n_neighbors': 5, 'weights': 'uniform', 'metric': 'euclidean', 'algorithm': 'ball_tree'}. Best is trial 18 with value: 0.796875.\n",
      "[I 2024-02-22 19:52:16,232] Trial 40 finished with value: 0.6125 and parameters: {'n_neighbors': 61, 'weights': 'distance', 'metric': 'euclidean', 'algorithm': 'kd_tree'}. Best is trial 18 with value: 0.796875.\n",
      "[I 2024-02-22 19:52:16,358] Trial 41 finished with value: 0.634375 and parameters: {'n_neighbors': 10, 'weights': 'uniform', 'metric': 'euclidean', 'algorithm': 'ball_tree'}. Best is trial 18 with value: 0.796875.\n",
      "[I 2024-02-22 19:52:16,480] Trial 42 finished with value: 0.546875 and parameters: {'n_neighbors': 16, 'weights': 'uniform', 'metric': 'euclidean', 'algorithm': 'ball_tree'}. Best is trial 18 with value: 0.796875.\n",
      "[I 2024-02-22 19:52:16,602] Trial 43 finished with value: 0.796875 and parameters: {'n_neighbors': 5, 'weights': 'uniform', 'metric': 'minkowski', 'algorithm': 'ball_tree'}. Best is trial 18 with value: 0.796875.\n",
      "[I 2024-02-22 19:52:16,726] Trial 44 finished with value: 0.653125 and parameters: {'n_neighbors': 9, 'weights': 'uniform', 'metric': 'euclidean', 'algorithm': 'ball_tree'}. Best is trial 18 with value: 0.796875.\n",
      "[I 2024-02-22 19:52:16,853] Trial 45 finished with value: 0.521875 and parameters: {'n_neighbors': 18, 'weights': 'uniform', 'metric': 'euclidean', 'algorithm': 'ball_tree'}. Best is trial 18 with value: 0.796875.\n",
      "[I 2024-02-22 19:52:16,917] Trial 46 finished with value: 0.796875 and parameters: {'n_neighbors': 5, 'weights': 'uniform', 'metric': 'euclidean', 'algorithm': 'brute'}. Best is trial 18 with value: 0.796875.\n",
      "[I 2024-02-22 19:52:17,045] Trial 47 finished with value: 0.43125 and parameters: {'n_neighbors': 24, 'weights': 'uniform', 'metric': 'minkowski', 'algorithm': 'ball_tree'}. Best is trial 18 with value: 0.796875.\n",
      "[I 2024-02-22 19:52:17,154] Trial 48 finished with value: 0.646875 and parameters: {'n_neighbors': 30, 'weights': 'distance', 'metric': 'euclidean', 'algorithm': 'ball_tree'}. Best is trial 18 with value: 0.796875.\n",
      "[I 2024-02-22 19:52:17,280] Trial 49 finished with value: 0.625 and parameters: {'n_neighbors': 12, 'weights': 'uniform', 'metric': 'euclidean', 'algorithm': 'kd_tree'}. Best is trial 18 with value: 0.796875.\n",
      "[I 2024-02-22 19:52:17,404] Trial 50 finished with value: 0.075 and parameters: {'n_neighbors': 76, 'weights': 'uniform', 'metric': 'euclidean', 'algorithm': 'ball_tree'}. Best is trial 18 with value: 0.796875.\n",
      "[I 2024-02-22 19:52:17,527] Trial 51 finished with value: 0.746875 and parameters: {'n_neighbors': 6, 'weights': 'uniform', 'metric': 'minkowski', 'algorithm': 'ball_tree'}. Best is trial 18 with value: 0.796875.\n",
      "[I 2024-02-22 19:52:17,651] Trial 52 finished with value: 0.796875 and parameters: {'n_neighbors': 5, 'weights': 'uniform', 'metric': 'minkowski', 'algorithm': 'ball_tree'}. Best is trial 18 with value: 0.796875.\n",
      "[I 2024-02-22 19:52:17,777] Trial 53 finished with value: 0.5875 and parameters: {'n_neighbors': 14, 'weights': 'uniform', 'metric': 'minkowski', 'algorithm': 'ball_tree'}. Best is trial 18 with value: 0.796875.\n",
      "[I 2024-02-22 19:52:17,905] Trial 54 finished with value: 0.69375 and parameters: {'n_neighbors': 8, 'weights': 'uniform', 'metric': 'minkowski', 'algorithm': 'ball_tree'}. Best is trial 18 with value: 0.796875.\n",
      "[I 2024-02-22 19:52:18,029] Trial 55 finished with value: 0.69375 and parameters: {'n_neighbors': 8, 'weights': 'uniform', 'metric': 'minkowski', 'algorithm': 'ball_tree'}. Best is trial 18 with value: 0.796875.\n",
      "[I 2024-02-22 19:52:18,154] Trial 56 finished with value: 0.603125 and parameters: {'n_neighbors': 13, 'weights': 'uniform', 'metric': 'minkowski', 'algorithm': 'ball_tree'}. Best is trial 18 with value: 0.796875.\n",
      "[I 2024-02-22 19:52:18,216] Trial 57 finished with value: 0.46875 and parameters: {'n_neighbors': 21, 'weights': 'uniform', 'metric': 'euclidean', 'algorithm': 'brute'}. Best is trial 18 with value: 0.796875.\n",
      "[I 2024-02-22 19:52:18,346] Trial 58 finished with value: 0.53125 and parameters: {'n_neighbors': 17, 'weights': 'uniform', 'metric': 'manhattan', 'algorithm': 'ball_tree'}. Best is trial 18 with value: 0.796875.\n",
      "[I 2024-02-22 19:52:18,408] Trial 59 finished with value: 0.40625 and parameters: {'n_neighbors': 25, 'weights': 'uniform', 'metric': 'euclidean', 'algorithm': 'auto'}. Best is trial 18 with value: 0.796875.\n",
      "[I 2024-02-22 19:52:18,536] Trial 60 finished with value: 0.69375 and parameters: {'n_neighbors': 8, 'weights': 'uniform', 'metric': 'euclidean', 'algorithm': 'ball_tree'}. Best is trial 18 with value: 0.796875.\n",
      "[I 2024-02-22 19:52:18,597] Trial 61 finished with value: 0.796875 and parameters: {'n_neighbors': 5, 'weights': 'uniform', 'metric': 'euclidean', 'algorithm': 'brute'}. Best is trial 18 with value: 0.796875.\n",
      "[I 2024-02-22 19:52:18,659] Trial 62 finished with value: 0.796875 and parameters: {'n_neighbors': 5, 'weights': 'uniform', 'metric': 'euclidean', 'algorithm': 'brute'}. Best is trial 18 with value: 0.796875.\n",
      "[I 2024-02-22 19:52:18,723] Trial 63 finished with value: 0.603125 and parameters: {'n_neighbors': 13, 'weights': 'uniform', 'metric': 'euclidean', 'algorithm': 'brute'}. Best is trial 18 with value: 0.796875.\n",
      "[I 2024-02-22 19:52:18,786] Trial 64 finished with value: 0.69375 and parameters: {'n_neighbors': 8, 'weights': 'uniform', 'metric': 'euclidean', 'algorithm': 'brute'}. Best is trial 18 with value: 0.796875.\n",
      "[I 2024-02-22 19:52:18,916] Trial 65 finished with value: 0.521875 and parameters: {'n_neighbors': 18, 'weights': 'uniform', 'metric': 'euclidean', 'algorithm': 'kd_tree'}. Best is trial 18 with value: 0.796875.\n",
      "[I 2024-02-22 19:52:18,984] Trial 66 finished with value: 0.59375 and parameters: {'n_neighbors': 14, 'weights': 'uniform', 'metric': 'manhattan', 'algorithm': 'brute'}. Best is trial 18 with value: 0.796875.\n",
      "[I 2024-02-22 19:52:19,114] Trial 67 finished with value: 0.634375 and parameters: {'n_neighbors': 10, 'weights': 'uniform', 'metric': 'euclidean', 'algorithm': 'ball_tree'}. Best is trial 18 with value: 0.796875.\n",
      "[I 2024-02-22 19:52:19,232] Trial 68 finished with value: 0.809375 and parameters: {'n_neighbors': 7, 'weights': 'distance', 'metric': 'euclidean', 'algorithm': 'ball_tree'}. Best is trial 68 with value: 0.809375.\n",
      "[I 2024-02-22 19:52:19,345] Trial 69 finished with value: 0.7 and parameters: {'n_neighbors': 19, 'weights': 'distance', 'metric': 'minkowski', 'algorithm': 'ball_tree'}. Best is trial 68 with value: 0.809375.\n",
      "[I 2024-02-22 19:52:19,453] Trial 70 finished with value: 0.8 and parameters: {'n_neighbors': 8, 'weights': 'distance', 'metric': 'euclidean', 'algorithm': 'ball_tree'}. Best is trial 68 with value: 0.809375.\n",
      "[I 2024-02-22 19:52:19,561] Trial 71 finished with value: 0.8 and parameters: {'n_neighbors': 8, 'weights': 'distance', 'metric': 'euclidean', 'algorithm': 'ball_tree'}. Best is trial 68 with value: 0.809375.\n",
      "[I 2024-02-22 19:52:19,671] Trial 72 finished with value: 0.79375 and parameters: {'n_neighbors': 9, 'weights': 'distance', 'metric': 'euclidean', 'algorithm': 'ball_tree'}. Best is trial 68 with value: 0.809375.\n",
      "[I 2024-02-22 19:52:19,782] Trial 73 finished with value: 0.63125 and parameters: {'n_neighbors': 49, 'weights': 'distance', 'metric': 'euclidean', 'algorithm': 'ball_tree'}. Best is trial 68 with value: 0.809375.\n",
      "[I 2024-02-22 19:52:19,893] Trial 74 finished with value: 0.75625 and parameters: {'n_neighbors': 14, 'weights': 'distance', 'metric': 'euclidean', 'algorithm': 'ball_tree'}. Best is trial 68 with value: 0.809375.\n",
      "[I 2024-02-22 19:52:20,001] Trial 75 finished with value: 0.771875 and parameters: {'n_neighbors': 11, 'weights': 'distance', 'metric': 'euclidean', 'algorithm': 'ball_tree'}. Best is trial 68 with value: 0.809375.\n",
      "[I 2024-02-22 19:52:20,108] Trial 76 finished with value: 0.8 and parameters: {'n_neighbors': 8, 'weights': 'distance', 'metric': 'euclidean', 'algorithm': 'ball_tree'}. Best is trial 68 with value: 0.809375.\n",
      "[I 2024-02-22 19:52:20,219] Trial 77 finished with value: 0.609375 and parameters: {'n_neighbors': 57, 'weights': 'distance', 'metric': 'euclidean', 'algorithm': 'ball_tree'}. Best is trial 68 with value: 0.809375.\n",
      "[I 2024-02-22 19:52:20,266] Trial 78 finished with value: 0.8 and parameters: {'n_neighbors': 8, 'weights': 'distance', 'metric': 'euclidean', 'algorithm': 'auto'}. Best is trial 68 with value: 0.809375.\n",
      "[I 2024-02-22 19:52:20,317] Trial 79 finished with value: 0.64375 and parameters: {'n_neighbors': 32, 'weights': 'distance', 'metric': 'euclidean', 'algorithm': 'auto'}. Best is trial 68 with value: 0.809375.\n",
      "[I 2024-02-22 19:52:20,368] Trial 80 finished with value: 0.634375 and parameters: {'n_neighbors': 39, 'weights': 'distance', 'metric': 'euclidean', 'algorithm': 'auto'}. Best is trial 68 with value: 0.809375.\n",
      "[I 2024-02-22 19:52:20,414] Trial 81 finished with value: 0.8 and parameters: {'n_neighbors': 8, 'weights': 'distance', 'metric': 'euclidean', 'algorithm': 'auto'}. Best is trial 68 with value: 0.809375.\n",
      "[I 2024-02-22 19:52:20,462] Trial 82 finished with value: 0.8 and parameters: {'n_neighbors': 8, 'weights': 'distance', 'metric': 'euclidean', 'algorithm': 'auto'}. Best is trial 68 with value: 0.809375.\n",
      "[I 2024-02-22 19:52:20,509] Trial 83 finished with value: 0.79375 and parameters: {'n_neighbors': 9, 'weights': 'distance', 'metric': 'euclidean', 'algorithm': 'auto'}. Best is trial 68 with value: 0.809375.\n",
      "[I 2024-02-22 19:52:20,558] Trial 84 finished with value: 0.715625 and parameters: {'n_neighbors': 16, 'weights': 'distance', 'metric': 'euclidean', 'algorithm': 'auto'}. Best is trial 68 with value: 0.809375.\n",
      "[I 2024-02-22 19:52:20,605] Trial 85 finished with value: 0.759375 and parameters: {'n_neighbors': 13, 'weights': 'distance', 'metric': 'euclidean', 'algorithm': 'auto'}. Best is trial 68 with value: 0.809375.\n",
      "[I 2024-02-22 19:52:20,653] Trial 86 finished with value: 0.8 and parameters: {'n_neighbors': 8, 'weights': 'distance', 'metric': 'euclidean', 'algorithm': 'auto'}. Best is trial 68 with value: 0.809375.\n",
      "[I 2024-02-22 19:52:20,701] Trial 87 finished with value: 0.8 and parameters: {'n_neighbors': 8, 'weights': 'distance', 'metric': 'euclidean', 'algorithm': 'auto'}. Best is trial 68 with value: 0.809375.\n",
      "[I 2024-02-22 19:52:20,751] Trial 88 finished with value: 0.6875 and parameters: {'n_neighbors': 20, 'weights': 'distance', 'metric': 'euclidean', 'algorithm': 'auto'}. Best is trial 68 with value: 0.809375.\n",
      "[I 2024-02-22 19:52:20,804] Trial 89 finished with value: 0.775 and parameters: {'n_neighbors': 11, 'weights': 'distance', 'metric': 'manhattan', 'algorithm': 'auto'}. Best is trial 68 with value: 0.809375.\n",
      "[I 2024-02-22 19:52:20,855] Trial 90 finished with value: 0.715625 and parameters: {'n_neighbors': 16, 'weights': 'distance', 'metric': 'euclidean', 'algorithm': 'auto'}. Best is trial 68 with value: 0.809375.\n",
      "[I 2024-02-22 19:52:20,902] Trial 91 finished with value: 0.809375 and parameters: {'n_neighbors': 7, 'weights': 'distance', 'metric': 'euclidean', 'algorithm': 'auto'}. Best is trial 68 with value: 0.809375.\n",
      "[I 2024-02-22 19:52:20,949] Trial 92 finished with value: 0.809375 and parameters: {'n_neighbors': 7, 'weights': 'distance', 'metric': 'euclidean', 'algorithm': 'auto'}. Best is trial 68 with value: 0.809375.\n",
      "[I 2024-02-22 19:52:20,995] Trial 93 finished with value: 0.809375 and parameters: {'n_neighbors': 7, 'weights': 'distance', 'metric': 'euclidean', 'algorithm': 'auto'}. Best is trial 68 with value: 0.809375.\n",
      "[I 2024-02-22 19:52:21,046] Trial 94 finished with value: 0.76875 and parameters: {'n_neighbors': 12, 'weights': 'distance', 'metric': 'euclidean', 'algorithm': 'auto'}. Best is trial 68 with value: 0.809375.\n",
      "[I 2024-02-22 19:52:21,093] Trial 95 finished with value: 0.809375 and parameters: {'n_neighbors': 7, 'weights': 'distance', 'metric': 'euclidean', 'algorithm': 'auto'}. Best is trial 68 with value: 0.809375.\n",
      "[I 2024-02-22 19:52:21,139] Trial 96 finished with value: 0.809375 and parameters: {'n_neighbors': 7, 'weights': 'distance', 'metric': 'euclidean', 'algorithm': 'auto'}. Best is trial 68 with value: 0.809375.\n",
      "[I 2024-02-22 19:52:21,188] Trial 97 finished with value: 0.728125 and parameters: {'n_neighbors': 15, 'weights': 'distance', 'metric': 'euclidean', 'algorithm': 'auto'}. Best is trial 68 with value: 0.809375.\n",
      "[I 2024-02-22 19:52:21,236] Trial 98 finished with value: 0.775 and parameters: {'n_neighbors': 10, 'weights': 'distance', 'metric': 'euclidean', 'algorithm': 'auto'}. Best is trial 68 with value: 0.809375.\n",
      "[I 2024-02-22 19:52:21,288] Trial 99 finished with value: 0.809375 and parameters: {'n_neighbors': 7, 'weights': 'distance', 'metric': 'euclidean', 'algorithm': 'auto'}. Best is trial 68 with value: 0.809375.\n"
     ]
    },
    {
     "name": "stdout",
     "output_type": "stream",
     "text": [
      "Best params found : {'n_neighbors': 7, 'weights': 'distance', 'metric': 'euclidean', 'algorithm': 'ball_tree'}\n",
      "accuracy: 0.925\n",
      "recall: 0.949074074074074\n",
      "precision: 0.9291666666666667\n",
      "f1-score: 0.9256613756613759\n"
     ]
    }
   ],
   "source": [
    "study = optuna.create_study(direction = 'maximize')\n",
    "study.optimize(objective, n_trials = 100)\n",
    "best_params = study.best_params\n",
    "print(\"Best params found :\", best_params)\n",
    "\n",
    "final_model =KNeighborsClassifier(**best_params)\n",
    "final_model.fit(X_train_reduced, y_train)\n",
    "y_pred = final_model.predict(X_test_reduced)\n",
    "prediction_results['KNN'] = y_pred\n",
    "\n",
    "accuracy = accuracy_score(y_test, y_pred)\n",
    "precision = precision_score(y_test, y_pred, average='macro')\n",
    "recall = recall_score(y_test, y_pred, average='macro')\n",
    "f1 = f1_score(y_test, y_pred, average='macro')\n",
    "\n",
    "# # One-hot encoding for probability calculation (adapt if necessary)\n",
    "# y_test_onehot = pd.get_dummies(y_test, prefix='label_')  # Assuming 'label_' prefix for clarity\n",
    "# y_pred_onehot = pd.get_dummies(y_pred, prefix='label_')\n",
    "\n",
    "# # ROC AUC score with multiclass handling\n",
    "# roc_auc_macro = roc_auc_score(y_test_onehot, y_pred_onehot, average='macro', multi_class='ovo')  # Specify 'ovo' or 'ovr'\n",
    "\n",
    "print(\"accuracy:\", accuracy)\n",
    "print(\"recall:\", recall)\n",
    "print(\"precision:\", precision)\n",
    "print(\"f1-score:\", f1)\n",
    "# print('roc_auc: ', roc_auc_macro)"
   ]
  },
  {
   "cell_type": "markdown",
   "id": "31d5d676",
   "metadata": {
    "papermill": {
     "duration": 0.196789,
     "end_time": "2024-02-22T19:52:21.709814",
     "exception": false,
     "start_time": "2024-02-22T19:52:21.513025",
     "status": "completed"
    },
    "tags": []
   },
   "source": [
    "## Support Vector Machine "
   ]
  },
  {
   "cell_type": "markdown",
   "id": "6dd6db9c",
   "metadata": {
    "papermill": {
     "duration": 0.199152,
     "end_time": "2024-02-22T19:52:22.108784",
     "exception": false,
     "start_time": "2024-02-22T19:52:21.909632",
     "status": "completed"
    },
    "tags": []
   },
   "source": [
    "**Normal**"
   ]
  },
  {
   "cell_type": "code",
   "execution_count": 80,
   "id": "7163e2f1",
   "metadata": {
    "execution": {
     "iopub.execute_input": "2024-02-22T19:52:22.507009Z",
     "iopub.status.busy": "2024-02-22T19:52:22.506611Z",
     "iopub.status.idle": "2024-02-22T19:52:22.543805Z",
     "shell.execute_reply": "2024-02-22T19:52:22.542754Z"
    },
    "papermill": {
     "duration": 0.238372,
     "end_time": "2024-02-22T19:52:22.546148",
     "exception": false,
     "start_time": "2024-02-22T19:52:22.307776",
     "status": "completed"
    },
    "tags": []
   },
   "outputs": [
    {
     "name": "stdout",
     "output_type": "stream",
     "text": [
      "accuracy: 1.0\n",
      "recall: 1.0\n",
      "precision: 1.0\n",
      "f1-score: 1.0\n"
     ]
    }
   ],
   "source": [
    "from sklearn.svm import SVC\n",
    "\n",
    "svm = SVC(kernel='linear')\n",
    "svm.fit(X_train_reduced, y_train)\n",
    "y_pred = svm.predict(X_test_reduced)\n",
    "\n",
    "accuracy = accuracy_score(y_test, y_pred)\n",
    "precision = precision_score(y_test, y_pred, average='macro')\n",
    "recall = recall_score(y_test, y_pred, average='macro')\n",
    "f1 = f1_score(y_test, y_pred, average='macro')\n",
    "\n",
    "# One-hot encoding for probability calculation (adapt if necessary)\n",
    "# Assuming 'label_' prefix for clarity\n",
    "y_test_onehot = pd.get_dummies(y_test, prefix='label_')\n",
    "y_pred_onehot = pd.get_dummies(y_pred, prefix='label_')\n",
    "\n",
    "# # ROC AUC score with multiclass handling\n",
    "# roc_auc_macro = roc_auc_score(y_test_onehot, y_pred_onehot,\n",
    "#                               average='macro', multi_class='ovo')  # Specify 'ovo' or 'ovr'\n",
    "\n",
    "print(\"accuracy:\", accuracy)\n",
    "print(\"recall:\", recall)\n",
    "print(\"precision:\", precision)\n",
    "print(\"f1-score:\", f1)\n",
    "# print('roc_auc: ', roc_auc_macro)"
   ]
  },
  {
   "cell_type": "markdown",
   "id": "c4401777",
   "metadata": {
    "papermill": {
     "duration": 0.19919,
     "end_time": "2024-02-22T19:52:22.945080",
     "exception": false,
     "start_time": "2024-02-22T19:52:22.745890",
     "status": "completed"
    },
    "tags": []
   },
   "source": [
    "**Tunning**"
   ]
  },
  {
   "cell_type": "code",
   "execution_count": 81,
   "id": "e5be56b8",
   "metadata": {
    "execution": {
     "iopub.execute_input": "2024-02-22T19:52:23.423239Z",
     "iopub.status.busy": "2024-02-22T19:52:23.422161Z",
     "iopub.status.idle": "2024-02-22T19:52:23.430635Z",
     "shell.execute_reply": "2024-02-22T19:52:23.429551Z"
    },
    "papermill": {
     "duration": 0.287828,
     "end_time": "2024-02-22T19:52:23.432761",
     "exception": false,
     "start_time": "2024-02-22T19:52:23.144933",
     "status": "completed"
    },
    "tags": []
   },
   "outputs": [],
   "source": [
    "import optuna\n",
    "from sklearn.model_selection import cross_val_score\n",
    "import warnings\n",
    "warnings.filterwarnings('ignore')\n",
    "\n",
    "def objective(trial):\n",
    "    hyperparams = {\n",
    "        'kernel': trial.suggest_categorical('kernel', ['linear', 'rbf', 'poly']),\n",
    "        'C': trial.suggest_loguniform('C', 1e-5, 1e5),\n",
    "        'gamma': trial.suggest_loguniform('gamma', 1e-5, 1e5),\n",
    "        # 'degree': trial.suggest_int('degree', 2, 5),  # for polynomial kernel\n",
    "        'tol': trial.suggest_loguniform('tol', 1e-4, 1e-2),\n",
    "        'shrinking': trial.suggest_categorical('shrinking', [True, False]),\n",
    "    }\n",
    "    \n",
    "    # Create KNN model with tuned hyperparameters\n",
    "    model = SVC(**hyperparams)\n",
    "    scores = cross_val_score(model, X_train_reduced, y_train, cv = kf,scoring = 'accuracy')\n",
    "    return np.mean(scores)"
   ]
  },
  {
   "cell_type": "code",
   "execution_count": 82,
   "id": "a8659170",
   "metadata": {
    "execution": {
     "iopub.execute_input": "2024-02-22T19:52:23.834278Z",
     "iopub.status.busy": "2024-02-22T19:52:23.833066Z",
     "iopub.status.idle": "2024-02-22T19:52:34.684222Z",
     "shell.execute_reply": "2024-02-22T19:52:34.682787Z"
    },
    "papermill": {
     "duration": 11.054629,
     "end_time": "2024-02-22T19:52:34.686651",
     "exception": false,
     "start_time": "2024-02-22T19:52:23.632022",
     "status": "completed"
    },
    "tags": []
   },
   "outputs": [
    {
     "name": "stderr",
     "output_type": "stream",
     "text": [
      "[I 2024-02-22 19:52:23,839] A new study created in memory with name: no-name-093bad13-e7aa-432f-a9a0-b01d91e93fca\n",
      "[I 2024-02-22 19:52:23,917] Trial 0 finished with value: 0.0 and parameters: {'kernel': 'rbf', 'C': 4.592749442766192e-05, 'gamma': 0.6505271188616003, 'tol': 0.00011198397951952586, 'shrinking': False}. Best is trial 0 with value: 0.0.\n",
      "[I 2024-02-22 19:52:24,018] Trial 1 finished with value: 0.859375 and parameters: {'kernel': 'poly', 'C': 1.065123994697636, 'gamma': 241.98406701191826, 'tol': 0.0004034202091747687, 'shrinking': True}. Best is trial 1 with value: 0.859375.\n",
      "[I 2024-02-22 19:52:24,127] Trial 2 finished with value: 0.0 and parameters: {'kernel': 'rbf', 'C': 9.257455569884044, 'gamma': 0.6899578769012508, 'tol': 0.0001240811100340618, 'shrinking': False}. Best is trial 1 with value: 0.859375.\n",
      "[I 2024-02-22 19:52:24,226] Trial 3 finished with value: 0.0 and parameters: {'kernel': 'rbf', 'C': 687.5696207675261, 'gamma': 0.004725632729467525, 'tol': 0.006153582729993042, 'shrinking': True}. Best is trial 1 with value: 0.859375.\n",
      "[I 2024-02-22 19:52:24,305] Trial 4 finished with value: 0.946875 and parameters: {'kernel': 'linear', 'C': 4.14442691595589, 'gamma': 0.005332912971643873, 'tol': 0.000587601229759673, 'shrinking': False}. Best is trial 4 with value: 0.946875.\n",
      "[I 2024-02-22 19:52:24,391] Trial 5 finished with value: 0.0 and parameters: {'kernel': 'rbf', 'C': 0.0036357335838261493, 'gamma': 0.002233283628921442, 'tol': 0.0015109206736076907, 'shrinking': False}. Best is trial 4 with value: 0.946875.\n",
      "[I 2024-02-22 19:52:24,474] Trial 6 finished with value: 0.946875 and parameters: {'kernel': 'linear', 'C': 0.000608788280365047, 'gamma': 0.8693864655607793, 'tol': 0.0001612989817195801, 'shrinking': False}. Best is trial 4 with value: 0.946875.\n",
      "[I 2024-02-22 19:52:24,562] Trial 7 finished with value: 0.946875 and parameters: {'kernel': 'linear', 'C': 3.444471510883404e-05, 'gamma': 3.325796782207005, 'tol': 0.00027493264611492207, 'shrinking': True}. Best is trial 4 with value: 0.946875.\n",
      "[I 2024-02-22 19:52:24,638] Trial 8 finished with value: 0.946875 and parameters: {'kernel': 'linear', 'C': 376.6921644062283, 'gamma': 3.32894934017943e-05, 'tol': 0.0052769002326005406, 'shrinking': True}. Best is trial 4 with value: 0.946875.\n",
      "[I 2024-02-22 19:52:24,724] Trial 9 finished with value: 0.859375 and parameters: {'kernel': 'poly', 'C': 23.317841097323292, 'gamma': 28.40033991560107, 'tol': 0.0020899519460501345, 'shrinking': False}. Best is trial 4 with value: 0.946875.\n",
      "[I 2024-02-22 19:52:24,825] Trial 10 finished with value: 0.946875 and parameters: {'kernel': 'linear', 'C': 0.05645625961263153, 'gamma': 2.916820025256611e-05, 'tol': 0.000620342982167456, 'shrinking': False}. Best is trial 4 with value: 0.946875.\n",
      "[I 2024-02-22 19:52:24,930] Trial 11 finished with value: 0.946875 and parameters: {'kernel': 'linear', 'C': 39921.74640613408, 'gamma': 37764.35140289267, 'tol': 0.00024647523711707534, 'shrinking': False}. Best is trial 4 with value: 0.946875.\n",
      "[I 2024-02-22 19:52:25,031] Trial 12 finished with value: 0.946875 and parameters: {'kernel': 'linear', 'C': 0.0072921710090980444, 'gamma': 0.00926652541843015, 'tol': 0.0008169165627062804, 'shrinking': False}. Best is trial 4 with value: 0.946875.\n",
      "[I 2024-02-22 19:52:25,137] Trial 13 finished with value: 0.946875 and parameters: {'kernel': 'linear', 'C': 0.09144132440155085, 'gamma': 0.050856745756495556, 'tol': 0.00017743444727840504, 'shrinking': False}. Best is trial 4 with value: 0.946875.\n",
      "[I 2024-02-22 19:52:25,239] Trial 14 finished with value: 0.946875 and parameters: {'kernel': 'linear', 'C': 0.000578139150352088, 'gamma': 864.4125865189535, 'tol': 0.00040330829844879975, 'shrinking': False}. Best is trial 4 with value: 0.946875.\n",
      "[I 2024-02-22 19:52:25,337] Trial 15 finished with value: 0.946875 and parameters: {'kernel': 'linear', 'C': 0.2589366238130106, 'gamma': 0.000690831449038846, 'tol': 0.0025628430235827126, 'shrinking': False}. Best is trial 4 with value: 0.946875.\n",
      "[I 2024-02-22 19:52:25,450] Trial 16 finished with value: 0.859375 and parameters: {'kernel': 'poly', 'C': 6.84050787405506, 'gamma': 0.2835068959529065, 'tol': 0.0011426748373930217, 'shrinking': False}. Best is trial 4 with value: 0.946875.\n",
      "[I 2024-02-22 19:52:25,553] Trial 17 finished with value: 0.946875 and parameters: {'kernel': 'linear', 'C': 0.0006224624593980329, 'gamma': 0.0002059950978062532, 'tol': 0.000539617550094262, 'shrinking': False}. Best is trial 4 with value: 0.946875.\n",
      "[I 2024-02-22 19:52:25,664] Trial 18 finished with value: 0.946875 and parameters: {'kernel': 'linear', 'C': 292.86711074701157, 'gamma': 0.036154693400156875, 'tol': 0.0002012062370890712, 'shrinking': True}. Best is trial 4 with value: 0.946875.\n",
      "[I 2024-02-22 19:52:25,772] Trial 19 finished with value: 0.859375 and parameters: {'kernel': 'poly', 'C': 16110.56197646209, 'gamma': 8.138096047708821, 'tol': 0.002606641068161876, 'shrinking': False}. Best is trial 4 with value: 0.946875.\n",
      "[I 2024-02-22 19:52:25,863] Trial 20 finished with value: 0.946875 and parameters: {'kernel': 'linear', 'C': 0.00536119648032801, 'gamma': 129.95745681594022, 'tol': 0.009809188735907628, 'shrinking': False}. Best is trial 4 with value: 0.946875.\n",
      "[I 2024-02-22 19:52:25,973] Trial 21 finished with value: 0.946875 and parameters: {'kernel': 'linear', 'C': 1.0261885201873457e-05, 'gamma': 4.737133403851001, 'tol': 0.0003016119672345599, 'shrinking': True}. Best is trial 4 with value: 0.946875.\n",
      "[I 2024-02-22 19:52:26,084] Trial 22 finished with value: 0.946875 and parameters: {'kernel': 'linear', 'C': 0.0002346370164488084, 'gamma': 0.10573502707576823, 'tol': 0.0003296169855592856, 'shrinking': True}. Best is trial 4 with value: 0.946875.\n",
      "[I 2024-02-22 19:52:26,196] Trial 23 finished with value: 0.946875 and parameters: {'kernel': 'linear', 'C': 1.89902794044213e-05, 'gamma': 3.6063699875583066, 'tol': 0.00013115405631263308, 'shrinking': True}. Best is trial 4 with value: 0.946875.\n",
      "[I 2024-02-22 19:52:26,306] Trial 24 finished with value: 0.946875 and parameters: {'kernel': 'linear', 'C': 6.051761794820911e-05, 'gamma': 1969.7650816275614, 'tol': 0.00017828170319728984, 'shrinking': True}. Best is trial 4 with value: 0.946875.\n",
      "[I 2024-02-22 19:52:26,415] Trial 25 finished with value: 0.946875 and parameters: {'kernel': 'linear', 'C': 1.7276034436040897, 'gamma': 0.040338092451967296, 'tol': 0.0006102999845274434, 'shrinking': True}. Best is trial 4 with value: 0.946875.\n",
      "[I 2024-02-22 19:52:26,522] Trial 26 finished with value: 0.946875 and parameters: {'kernel': 'linear', 'C': 0.025792957403555476, 'gamma': 28.620774491368202, 'tol': 0.0009614790732324227, 'shrinking': True}. Best is trial 4 with value: 0.946875.\n",
      "[I 2024-02-22 19:52:26,626] Trial 27 finished with value: 0.946875 and parameters: {'kernel': 'linear', 'C': 0.0002517863413391801, 'gamma': 0.00030739152141666463, 'tol': 0.0002466685520184648, 'shrinking': False}. Best is trial 4 with value: 0.946875.\n",
      "[I 2024-02-22 19:52:26,748] Trial 28 finished with value: 0.859375 and parameters: {'kernel': 'poly', 'C': 97.23578626739696, 'gamma': 2.973561820229515, 'tol': 0.00045767152648417916, 'shrinking': True}. Best is trial 4 with value: 0.946875.\n",
      "[I 2024-02-22 19:52:26,850] Trial 29 finished with value: 0.0 and parameters: {'kernel': 'rbf', 'C': 6.743609748104682e-05, 'gamma': 0.24606436133375068, 'tol': 0.00010599541070889826, 'shrinking': False}. Best is trial 4 with value: 0.946875.\n",
      "[I 2024-02-22 19:52:26,958] Trial 30 finished with value: 0.0 and parameters: {'kernel': 'rbf', 'C': 0.0019041840695591917, 'gamma': 0.705986681210038, 'tol': 0.0007598844117928027, 'shrinking': False}. Best is trial 4 with value: 0.946875.\n",
      "[I 2024-02-22 19:52:27,059] Trial 31 finished with value: 0.946875 and parameters: {'kernel': 'linear', 'C': 1485.7046985401898, 'gamma': 1.6815985140849672e-05, 'tol': 0.0046625299838783585, 'shrinking': True}. Best is trial 4 with value: 0.946875.\n",
      "[I 2024-02-22 19:52:27,160] Trial 32 finished with value: 0.946875 and parameters: {'kernel': 'linear', 'C': 4439.420893479758, 'gamma': 0.012058603065796007, 'tol': 0.004001771839185931, 'shrinking': True}. Best is trial 4 with value: 0.946875.\n",
      "[I 2024-02-22 19:52:27,273] Trial 33 finished with value: 0.946875 and parameters: {'kernel': 'linear', 'C': 81.0616362572659, 'gamma': 0.00010953916455713304, 'tol': 0.00015711025844870506, 'shrinking': True}. Best is trial 4 with value: 0.946875.\n",
      "[I 2024-02-22 19:52:27,384] Trial 34 finished with value: 0.946875 and parameters: {'kernel': 'linear', 'C': 0.6549694793611849, 'gamma': 0.0008079553006811213, 'tol': 0.0003786993382031532, 'shrinking': True}. Best is trial 4 with value: 0.946875.\n",
      "[I 2024-02-22 19:52:27,533] Trial 35 finished with value: 0.00625 and parameters: {'kernel': 'rbf', 'C': 43.73035813433126, 'gamma': 1.077184901944867e-05, 'tol': 0.0002722711452962819, 'shrinking': True}. Best is trial 4 with value: 0.946875.\n",
      "[I 2024-02-22 19:52:27,644] Trial 36 finished with value: 0.8625 and parameters: {'kernel': 'poly', 'C': 3.9814935031080068, 'gamma': 24.960636092494635, 'tol': 0.008322173329996485, 'shrinking': True}. Best is trial 4 with value: 0.946875.\n",
      "[I 2024-02-22 19:52:27,744] Trial 37 finished with value: 0.946875 and parameters: {'kernel': 'linear', 'C': 2040.3391637706702, 'gamma': 0.0023424683742510693, 'tol': 0.0014787294121747048, 'shrinking': False}. Best is trial 4 with value: 0.946875.\n",
      "[I 2024-02-22 19:52:27,905] Trial 38 finished with value: 0.0 and parameters: {'kernel': 'rbf', 'C': 21.88295631441838, 'gamma': 4.2183263318972305e-05, 'tol': 0.0004936283599606565, 'shrinking': True}. Best is trial 4 with value: 0.946875.\n",
      "[I 2024-02-22 19:52:28,015] Trial 39 finished with value: 0.946875 and parameters: {'kernel': 'linear', 'C': 299.6457875613346, 'gamma': 1.0267065805385587, 'tol': 0.0002140783520090632, 'shrinking': False}. Best is trial 4 with value: 0.946875.\n",
      "[I 2024-02-22 19:52:28,125] Trial 40 finished with value: 0.946875 and parameters: {'kernel': 'linear', 'C': 0.015752425214135776, 'gamma': 0.00980679762432655, 'tol': 0.00012758334841136388, 'shrinking': False}. Best is trial 4 with value: 0.946875.\n",
      "[I 2024-02-22 19:52:28,229] Trial 41 finished with value: 0.946875 and parameters: {'kernel': 'linear', 'C': 0.05665558188346865, 'gamma': 7.025861548832139e-05, 'tol': 0.0006975966724053474, 'shrinking': False}. Best is trial 4 with value: 0.946875.\n",
      "[I 2024-02-22 19:52:28,332] Trial 42 finished with value: 0.946875 and parameters: {'kernel': 'linear', 'C': 0.21356252712169202, 'gamma': 2.9043329925246485e-05, 'tol': 0.0012376521760468983, 'shrinking': False}. Best is trial 4 with value: 0.946875.\n",
      "[I 2024-02-22 19:52:28,431] Trial 43 finished with value: 0.946875 and parameters: {'kernel': 'linear', 'C': 0.0012642384938660366, 'gamma': 0.0015430151833909543, 'tol': 0.0017687920756569635, 'shrinking': False}. Best is trial 4 with value: 0.946875.\n",
      "[I 2024-02-22 19:52:28,536] Trial 44 finished with value: 0.946875 and parameters: {'kernel': 'linear', 'C': 9.047335490208167e-05, 'gamma': 0.00019216453284987285, 'tol': 0.0006300555027680295, 'shrinking': False}. Best is trial 4 with value: 0.946875.\n",
      "[I 2024-02-22 19:52:28,642] Trial 45 finished with value: 0.946875 and parameters: {'kernel': 'linear', 'C': 1.048237484733046, 'gamma': 0.000413825710296802, 'tol': 0.00033690079835154796, 'shrinking': False}. Best is trial 4 with value: 0.946875.\n",
      "[I 2024-02-22 19:52:28,756] Trial 46 finished with value: 0.859375 and parameters: {'kernel': 'poly', 'C': 2.5591575946103868e-05, 'gamma': 94052.70013844881, 'tol': 0.0008858351546858224, 'shrinking': False}. Best is trial 4 with value: 0.946875.\n",
      "[I 2024-02-22 19:52:28,868] Trial 47 finished with value: 0.946875 and parameters: {'kernel': 'linear', 'C': 0.00020267427080527332, 'gamma': 129.01920560577602, 'tol': 0.0001527515249812142, 'shrinking': False}. Best is trial 4 with value: 0.946875.\n",
      "[I 2024-02-22 19:52:28,977] Trial 48 finished with value: 0.946875 and parameters: {'kernel': 'linear', 'C': 47895.546405763336, 'gamma': 4788.720570177404, 'tol': 0.00043685869529139833, 'shrinking': False}. Best is trial 4 with value: 0.946875.\n",
      "[I 2024-02-22 19:52:29,085] Trial 49 finished with value: 0.946875 and parameters: {'kernel': 'linear', 'C': 0.19280697417731366, 'gamma': 0.23853328297055168, 'tol': 0.003133288608344669, 'shrinking': True}. Best is trial 4 with value: 0.946875.\n",
      "[I 2024-02-22 19:52:29,225] Trial 50 finished with value: 0.0 and parameters: {'kernel': 'rbf', 'C': 0.007995394781322752, 'gamma': 0.004356970385903319, 'tol': 0.00022509458200588837, 'shrinking': False}. Best is trial 4 with value: 0.946875.\n",
      "[I 2024-02-22 19:52:29,333] Trial 51 finished with value: 0.946875 and parameters: {'kernel': 'linear', 'C': 93664.05026070746, 'gamma': 80130.06662879114, 'tol': 0.0002551218335506302, 'shrinking': False}. Best is trial 4 with value: 0.946875.\n",
      "[I 2024-02-22 19:52:29,440] Trial 52 finished with value: 0.946875 and parameters: {'kernel': 'linear', 'C': 274.5629791798646, 'gamma': 12770.980825294931, 'tol': 0.00018214979386833302, 'shrinking': False}. Best is trial 4 with value: 0.946875.\n",
      "[I 2024-02-22 19:52:29,545] Trial 53 finished with value: 0.946875 and parameters: {'kernel': 'linear', 'C': 2.7328505067021234, 'gamma': 212.6240608283637, 'tol': 0.0005588439947718897, 'shrinking': False}. Best is trial 4 with value: 0.946875.\n",
      "[I 2024-02-22 19:52:29,652] Trial 54 finished with value: 0.946875 and parameters: {'kernel': 'linear', 'C': 10236.22616896106, 'gamma': 0.10437823342242462, 'tol': 0.00037273161498640756, 'shrinking': False}. Best is trial 4 with value: 0.946875.\n",
      "[I 2024-02-22 19:52:29,756] Trial 55 finished with value: 0.946875 and parameters: {'kernel': 'linear', 'C': 15.249072041478307, 'gamma': 12.981409562246688, 'tol': 0.0011220581805403839, 'shrinking': False}. Best is trial 4 with value: 0.946875.\n",
      "[I 2024-02-22 19:52:29,886] Trial 56 finished with value: 0.859375 and parameters: {'kernel': 'poly', 'C': 0.001956533976821546, 'gamma': 461.443466728637, 'tol': 0.0003003058032642823, 'shrinking': True}. Best is trial 4 with value: 0.946875.\n",
      "[I 2024-02-22 19:52:29,984] Trial 57 finished with value: 0.946875 and parameters: {'kernel': 'linear', 'C': 18441.816664314367, 'gamma': 0.00010199829909017592, 'tol': 0.0055822222301624945, 'shrinking': False}. Best is trial 4 with value: 0.946875.\n",
      "[I 2024-02-22 19:52:30,103] Trial 58 finished with value: 0.946875 and parameters: {'kernel': 'linear', 'C': 0.05152043840397524, 'gamma': 59.34352849958634, 'tol': 0.00014179076771278853, 'shrinking': True}. Best is trial 4 with value: 0.946875.\n",
      "[I 2024-02-22 19:52:30,217] Trial 59 finished with value: 0.946875 and parameters: {'kernel': 'linear', 'C': 0.0005375375425941043, 'gamma': 1.3821688032627726, 'tol': 0.0001004449367783933, 'shrinking': False}. Best is trial 4 with value: 0.946875.\n",
      "[I 2024-02-22 19:52:30,325] Trial 60 finished with value: 0.946875 and parameters: {'kernel': 'linear', 'C': 710.6413969679733, 'gamma': 29136.901428109333, 'tol': 0.002136779073827096, 'shrinking': True}. Best is trial 4 with value: 0.946875.\n",
      "[I 2024-02-22 19:52:30,431] Trial 61 finished with value: 0.946875 and parameters: {'kernel': 'linear', 'C': 0.01216255046674075, 'gamma': 0.007316337665493504, 'tol': 0.0008783283561677914, 'shrinking': False}. Best is trial 4 with value: 0.946875.\n",
      "[I 2024-02-22 19:52:30,539] Trial 62 finished with value: 0.946875 and parameters: {'kernel': 'linear', 'C': 0.005324249760292358, 'gamma': 0.027602874817648962, 'tol': 0.0007687403714242912, 'shrinking': False}. Best is trial 4 with value: 0.946875.\n",
      "[I 2024-02-22 19:52:30,646] Trial 63 finished with value: 0.946875 and parameters: {'kernel': 'linear', 'C': 0.3993209699906986, 'gamma': 0.0013431900780037666, 'tol': 0.0005314624613492495, 'shrinking': False}. Best is trial 4 with value: 0.946875.\n",
      "[I 2024-02-22 19:52:30,756] Trial 64 finished with value: 0.946875 and parameters: {'kernel': 'linear', 'C': 0.02789305415290262, 'gamma': 0.09698094729827678, 'tol': 0.00019255383802003063, 'shrinking': False}. Best is trial 4 with value: 0.946875.\n",
      "[I 2024-02-22 19:52:30,862] Trial 65 finished with value: 0.946875 and parameters: {'kernel': 'linear', 'C': 1.0454181880065167e-05, 'gamma': 0.02485269179150002, 'tol': 0.00042901849377087426, 'shrinking': False}. Best is trial 4 with value: 0.946875.\n",
      "[I 2024-02-22 19:52:30,985] Trial 66 finished with value: 0.859375 and parameters: {'kernel': 'poly', 'C': 0.003019951653884387, 'gamma': 1409.766581241887, 'tol': 0.0012676983625052186, 'shrinking': True}. Best is trial 4 with value: 0.946875.\n",
      "[I 2024-02-22 19:52:31,120] Trial 67 finished with value: 0.0 and parameters: {'kernel': 'rbf', 'C': 0.0007950231635926223, 'gamma': 2.391887715548785e-05, 'tol': 0.0006632978241587134, 'shrinking': False}. Best is trial 4 with value: 0.946875.\n",
      "[I 2024-02-22 19:52:31,234] Trial 68 finished with value: 0.946875 and parameters: {'kernel': 'linear', 'C': 0.1184008422450287, 'gamma': 2.3085199125378515, 'tol': 0.00028962293520626146, 'shrinking': True}. Best is trial 4 with value: 0.946875.\n",
      "[I 2024-02-22 19:52:31,344] Trial 69 finished with value: 0.946875 and parameters: {'kernel': 'linear', 'C': 0.00010704716152708787, 'gamma': 0.00045168202160879615, 'tol': 0.00011737083334437034, 'shrinking': False}. Best is trial 4 with value: 0.946875.\n",
      "[I 2024-02-22 19:52:31,455] Trial 70 finished with value: 0.946875 and parameters: {'kernel': 'linear', 'C': 4464.199449783158, 'gamma': 0.35892234348743385, 'tol': 0.0008057060419519145, 'shrinking': True}. Best is trial 4 with value: 0.946875.\n",
      "[I 2024-02-22 19:52:31,564] Trial 71 finished with value: 0.946875 and parameters: {'kernel': 'linear', 'C': 0.10237793477518518, 'gamma': 0.003225353157749852, 'tol': 0.00024459301553600367, 'shrinking': False}. Best is trial 4 with value: 0.946875.\n",
      "[I 2024-02-22 19:52:31,673] Trial 72 finished with value: 0.946875 and parameters: {'kernel': 'linear', 'C': 0.4425564916569058, 'gamma': 0.04501545623889994, 'tol': 0.00016156517248714454, 'shrinking': False}. Best is trial 4 with value: 0.946875.\n",
      "[I 2024-02-22 19:52:31,781] Trial 73 finished with value: 0.946875 and parameters: {'kernel': 'linear', 'C': 0.021221424853269343, 'gamma': 0.017557589665620262, 'tol': 0.00022319115816906213, 'shrinking': False}. Best is trial 4 with value: 0.946875.\n",
      "[I 2024-02-22 19:52:31,884] Trial 74 finished with value: 0.946875 and parameters: {'kernel': 'linear', 'C': 0.056370343062092536, 'gamma': 1.0765753054511423e-05, 'tol': 0.0010428406980734978, 'shrinking': False}. Best is trial 4 with value: 0.946875.\n",
      "[I 2024-02-22 19:52:31,991] Trial 75 finished with value: 0.946875 and parameters: {'kernel': 'linear', 'C': 0.0003736108679264572, 'gamma': 0.06918697877377583, 'tol': 0.00034375269667452705, 'shrinking': False}. Best is trial 4 with value: 0.946875.\n",
      "[I 2024-02-22 19:52:32,101] Trial 76 finished with value: 0.946875 and parameters: {'kernel': 'linear', 'C': 150.14104447943646, 'gamma': 0.3706465559487274, 'tol': 0.00016445939405078462, 'shrinking': False}. Best is trial 4 with value: 0.946875.\n",
      "[I 2024-02-22 19:52:32,209] Trial 77 finished with value: 0.946875 and parameters: {'kernel': 'linear', 'C': 2.685017945770112e-05, 'gamma': 0.0009600382542676824, 'tol': 0.0015125818413810725, 'shrinking': True}. Best is trial 4 with value: 0.946875.\n",
      "[I 2024-02-22 19:52:32,327] Trial 78 finished with value: 0.859375 and parameters: {'kernel': 'poly', 'C': 54.51309654779983, 'gamma': 7.296303069505477, 'tol': 0.0004997019935783535, 'shrinking': False}. Best is trial 4 with value: 0.946875.\n",
      "[I 2024-02-22 19:52:32,485] Trial 79 finished with value: 0.0 and parameters: {'kernel': 'rbf', 'C': 8.671621529329428, 'gamma': 6.404900728124139e-05, 'tol': 0.00013302045663348062, 'shrinking': True}. Best is trial 4 with value: 0.946875.\n",
      "[I 2024-02-22 19:52:32,583] Trial 80 finished with value: 0.946875 and parameters: {'kernel': 'linear', 'C': 1.8615248860336155, 'gamma': 0.00694913036637574, 'tol': 0.007109677420696601, 'shrinking': False}. Best is trial 4 with value: 0.946875.\n",
      "[I 2024-02-22 19:52:32,692] Trial 81 finished with value: 0.946875 and parameters: {'kernel': 'linear', 'C': 0.006441907300555343, 'gamma': 2316.9508978231547, 'tol': 0.0004064197797094826, 'shrinking': False}. Best is trial 4 with value: 0.946875.\n",
      "[I 2024-02-22 19:52:32,801] Trial 82 finished with value: 0.946875 and parameters: {'kernel': 'linear', 'C': 0.0002371528019381993, 'gamma': 0.00022679911962021051, 'tol': 0.0005857072582280047, 'shrinking': False}. Best is trial 4 with value: 0.946875.\n",
      "[I 2024-02-22 19:52:32,912] Trial 83 finished with value: 0.946875 and parameters: {'kernel': 'linear', 'C': 0.001216786879454382, 'gamma': 22105.923293056763, 'tol': 0.00020770677755724086, 'shrinking': False}. Best is trial 4 with value: 0.946875.\n",
      "[I 2024-02-22 19:52:33,022] Trial 84 finished with value: 0.946875 and parameters: {'kernel': 'linear', 'C': 0.011595437381429485, 'gamma': 0.17342338815546732, 'tol': 0.00036540550426391395, 'shrinking': False}. Best is trial 4 with value: 0.946875.\n",
      "[I 2024-02-22 19:52:33,129] Trial 85 finished with value: 0.946875 and parameters: {'kernel': 'linear', 'C': 0.00010771208641147093, 'gamma': 0.7104652415288714, 'tol': 0.0004765029146161731, 'shrinking': False}. Best is trial 4 with value: 0.946875.\n",
      "[I 2024-02-22 19:52:33,239] Trial 86 finished with value: 0.946875 and parameters: {'kernel': 'linear', 'C': 4.965726946894203, 'gamma': 949.3285410621345, 'tol': 0.00031924193360270594, 'shrinking': False}. Best is trial 4 with value: 0.946875.\n",
      "[I 2024-02-22 19:52:33,353] Trial 87 finished with value: 0.946875 and parameters: {'kernel': 'linear', 'C': 0.0031077508209595155, 'gamma': 15.576490846234126, 'tol': 0.0006967344563150157, 'shrinking': True}. Best is trial 4 with value: 0.946875.\n",
      "[I 2024-02-22 19:52:33,461] Trial 88 finished with value: 0.946875 and parameters: {'kernel': 'linear', 'C': 4.794466734182244e-05, 'gamma': 5654.259273274504, 'tol': 0.0002748931231353464, 'shrinking': False}. Best is trial 4 with value: 0.946875.\n",
      "[I 2024-02-22 19:52:33,569] Trial 89 finished with value: 0.946875 and parameters: {'kernel': 'linear', 'C': 0.03879402920055058, 'gamma': 1.7666341919758406, 'tol': 0.0006100158541084852, 'shrinking': False}. Best is trial 4 with value: 0.946875.\n",
      "[I 2024-02-22 19:52:33,693] Trial 90 finished with value: 0.0 and parameters: {'kernel': 'rbf', 'C': 0.14320721795627367, 'gamma': 5.263738320720711, 'tol': 0.00018076406670801827, 'shrinking': True}. Best is trial 4 with value: 0.946875.\n",
      "[I 2024-02-22 19:52:33,797] Trial 91 finished with value: 0.946875 and parameters: {'kernel': 'linear', 'C': 0.5580950303932051, 'gamma': 0.002507575267116411, 'tol': 0.003992357751162207, 'shrinking': False}. Best is trial 4 with value: 0.946875.\n",
      "[I 2024-02-22 19:52:33,897] Trial 92 finished with value: 0.946875 and parameters: {'kernel': 'linear', 'C': 0.9288028467432408, 'gamma': 0.014769047474891548, 'tol': 0.005418835604369164, 'shrinking': False}. Best is trial 4 with value: 0.946875.\n",
      "[I 2024-02-22 19:52:33,995] Trial 93 finished with value: 0.946875 and parameters: {'kernel': 'linear', 'C': 0.07426359043429556, 'gamma': 71.33427835704529, 'tol': 0.008870701774388048, 'shrinking': False}. Best is trial 4 with value: 0.946875.\n",
      "[I 2024-02-22 19:52:34,097] Trial 94 finished with value: 0.946875 and parameters: {'kernel': 'linear', 'C': 0.29343991033835537, 'gamma': 0.0005418765900726571, 'tol': 0.0027213125764546427, 'shrinking': False}. Best is trial 4 with value: 0.946875.\n",
      "[I 2024-02-22 19:52:34,202] Trial 95 finished with value: 0.946875 and parameters: {'kernel': 'linear', 'C': 1871.5455992511634, 'gamma': 0.0047077903873460865, 'tol': 0.0009027305743962138, 'shrinking': False}. Best is trial 4 with value: 0.946875.\n",
      "[I 2024-02-22 19:52:34,318] Trial 96 finished with value: 0.859375 and parameters: {'kernel': 'poly', 'C': 0.03200677844818075, 'gamma': 0.00011442739936264153, 'tol': 0.003646394740346044, 'shrinking': False}. Best is trial 4 with value: 0.946875.\n",
      "[I 2024-02-22 19:52:34,436] Trial 97 finished with value: 0.946875 and parameters: {'kernel': 'linear', 'C': 0.001518053171378367, 'gamma': 2.9399101240363028e-05, 'tol': 0.00024940258949501386, 'shrinking': True}. Best is trial 4 with value: 0.946875.\n",
      "[I 2024-02-22 19:52:34,540] Trial 98 finished with value: 0.946875 and parameters: {'kernel': 'linear', 'C': 0.21052675020688533, 'gamma': 0.001517089031254668, 'tol': 0.0019481427172522816, 'shrinking': False}. Best is trial 4 with value: 0.946875.\n",
      "[I 2024-02-22 19:52:34,651] Trial 99 finished with value: 0.946875 and parameters: {'kernel': 'linear', 'C': 0.0005470616528899168, 'gamma': 0.05320868471313688, 'tol': 0.00014094099880743616, 'shrinking': False}. Best is trial 4 with value: 0.946875.\n"
     ]
    },
    {
     "name": "stdout",
     "output_type": "stream",
     "text": [
      "Best params found : {'kernel': 'linear', 'C': 4.14442691595589, 'gamma': 0.005332912971643873, 'tol': 0.000587601229759673, 'shrinking': False}\n",
      "accuracy: 1.0\n",
      "recall: 1.0\n",
      "precision: 1.0\n",
      "f1-score: 1.0\n"
     ]
    }
   ],
   "source": [
    "study = optuna.create_study(direction='maximize')\n",
    "study.optimize(objective, n_trials=100)\n",
    "best_params = study.best_params\n",
    "print(\"Best params found :\", best_params)\n",
    "\n",
    "final_model = SVC(**best_params)\n",
    "final_model.fit(X_train_reduced, y_train)\n",
    "y_pred = final_model.predict(X_test_reduced)\n",
    "prediction_results['svc'] = list(y_pred)\n",
    "\n",
    "accuracy = accuracy_score(y_test, y_pred)\n",
    "precision = precision_score(y_test, y_pred, average='macro')\n",
    "recall = recall_score(y_test, y_pred, average='macro')\n",
    "f1 = f1_score(y_test, y_pred, average='macro')\n",
    "\n",
    "# One-hot encoding for probability calculation (adapt if necessary)\n",
    "# Assuming 'label_' prefix for clarity\n",
    "y_test_onehot = pd.get_dummies(y_test, prefix='label_')\n",
    "y_pred_onehot = pd.get_dummies(y_pred, prefix='label_')\n",
    "\n",
    "# # ROC AUC score with multiclass handling\n",
    "# roc_auc_macro = roc_auc_score(y_test_onehot, y_pred_onehot,\n",
    "#                               average='macro', multi_class='ovo')  # Specify 'ovo' or 'ovr'\n",
    "\n",
    "print(\"accuracy:\", accuracy)\n",
    "print(\"recall:\", recall)\n",
    "print(\"precision:\", precision)\n",
    "print(\"f1-score:\", f1)\n",
    "# print('roc_auc: ', roc_auc_macro)"
   ]
  },
  {
   "cell_type": "markdown",
   "id": "37afcb3e",
   "metadata": {
    "papermill": {
     "duration": 0.209942,
     "end_time": "2024-02-22T19:52:35.107058",
     "exception": false,
     "start_time": "2024-02-22T19:52:34.897116",
     "status": "completed"
    },
    "tags": []
   },
   "source": [
    "## Decision Tree"
   ]
  },
  {
   "cell_type": "markdown",
   "id": "74f1f0a5",
   "metadata": {
    "papermill": {
     "duration": 0.206517,
     "end_time": "2024-02-22T19:52:35.520012",
     "exception": false,
     "start_time": "2024-02-22T19:52:35.313495",
     "status": "completed"
    },
    "tags": []
   },
   "source": [
    "**Normal**"
   ]
  },
  {
   "cell_type": "code",
   "execution_count": 83,
   "id": "a86eed0e",
   "metadata": {
    "execution": {
     "iopub.execute_input": "2024-02-22T19:52:35.935598Z",
     "iopub.status.busy": "2024-02-22T19:52:35.934552Z",
     "iopub.status.idle": "2024-02-22T19:52:35.998110Z",
     "shell.execute_reply": "2024-02-22T19:52:35.996999Z"
    },
    "papermill": {
     "duration": 0.274727,
     "end_time": "2024-02-22T19:52:36.000630",
     "exception": false,
     "start_time": "2024-02-22T19:52:35.725903",
     "status": "completed"
    },
    "tags": []
   },
   "outputs": [
    {
     "name": "stdout",
     "output_type": "stream",
     "text": [
      "accuracy: 0.6\n",
      "recall: 0.55\n",
      "precision: 0.5641666666666667\n",
      "f1-score: 0.5229761904761905\n",
      "roc_auc:  0.5452392744810545\n"
     ]
    }
   ],
   "source": [
    "from sklearn.tree import DecisionTreeClassifier\n",
    "\n",
    "dt = DecisionTreeClassifier(random_state=42)\n",
    "dt.fit(X_train_reduced, y_train)\n",
    "y_pred = dt.predict(X_test_reduced)\n",
    "\n",
    "accuracy = accuracy_score(y_test, y_pred)\n",
    "precision = precision_score(y_test, y_pred, average='macro')\n",
    "recall = recall_score(y_test, y_pred, average='macro')\n",
    "f1 = f1_score(y_test, y_pred, average='macro')\n",
    "\n",
    "# One-hot encoding for probability calculation (adapt if necessary)\n",
    "# Assuming 'label_' prefix for clarity\n",
    "y_test_onehot = pd.get_dummies(y_test, prefix='label_')\n",
    "y_pred_onehot = pd.get_dummies(y_pred, prefix='label_')\n",
    "\n",
    "# ROC AUC score with multiclass handling\n",
    "roc_auc_macro = roc_auc_score(y_test_onehot, y_pred_onehot,\n",
    "                              average='macro', multi_class='ovo')  # Specify 'ovo' or 'ovr'\n",
    "\n",
    "print(\"accuracy:\", accuracy)\n",
    "print(\"recall:\", recall)\n",
    "print(\"precision:\", precision)\n",
    "print(\"f1-score:\", f1)\n",
    "print('roc_auc: ', roc_auc_macro)"
   ]
  },
  {
   "cell_type": "markdown",
   "id": "29ddfc8c",
   "metadata": {
    "papermill": {
     "duration": 0.206612,
     "end_time": "2024-02-22T19:52:36.413214",
     "exception": false,
     "start_time": "2024-02-22T19:52:36.206602",
     "status": "completed"
    },
    "tags": []
   },
   "source": [
    "**Tunning**"
   ]
  },
  {
   "cell_type": "code",
   "execution_count": 84,
   "id": "029ff5e4",
   "metadata": {
    "execution": {
     "iopub.execute_input": "2024-02-22T19:52:36.828960Z",
     "iopub.status.busy": "2024-02-22T19:52:36.828543Z",
     "iopub.status.idle": "2024-02-22T19:52:36.836337Z",
     "shell.execute_reply": "2024-02-22T19:52:36.835388Z"
    },
    "papermill": {
     "duration": 0.218264,
     "end_time": "2024-02-22T19:52:36.838339",
     "exception": false,
     "start_time": "2024-02-22T19:52:36.620075",
     "status": "completed"
    },
    "tags": []
   },
   "outputs": [],
   "source": [
    "import optuna\n",
    "from sklearn.model_selection import cross_val_score\n",
    "import warnings\n",
    "warnings.filterwarnings('ignore')\n",
    "\n",
    "\n",
    "def objective(trial):\n",
    "    hyperparams = {\n",
    "        \"max_depth\" : trial.suggest_int(\"max_depth\", 2, 10),\n",
    "        \"min_samples_split\" : trial.suggest_int(\"min_samples_split\", 2, 20),\n",
    "        \"min_samples_leaf\" : trial.suggest_int(\"min_samples_leaf\", 1, 10),\n",
    "        \"criterion\" : trial.suggest_categorical(\"criterion\", [\"gini\", \"entropy\"]),\n",
    "        'random_state': trial.suggest_categorical('random_state', [42])\n",
    "    }\n",
    "\n",
    "    # Create KNN model with tuned hyperparameters\n",
    "    model = DecisionTreeClassifier(**hyperparams)\n",
    "    scores = cross_val_score(model, X_train_reduced,\n",
    "                             y_train, cv=kf, scoring='accuracy')\n",
    "    return np.mean(scores)"
   ]
  },
  {
   "cell_type": "code",
   "execution_count": 85,
   "id": "32849b68",
   "metadata": {
    "execution": {
     "iopub.execute_input": "2024-02-22T19:52:37.252276Z",
     "iopub.status.busy": "2024-02-22T19:52:37.251563Z",
     "iopub.status.idle": "2024-02-22T19:52:57.519101Z",
     "shell.execute_reply": "2024-02-22T19:52:57.517842Z"
    },
    "papermill": {
     "duration": 20.474675,
     "end_time": "2024-02-22T19:52:57.521572",
     "exception": false,
     "start_time": "2024-02-22T19:52:37.046897",
     "status": "completed"
    },
    "tags": []
   },
   "outputs": [
    {
     "name": "stderr",
     "output_type": "stream",
     "text": [
      "[I 2024-02-22 19:52:37,257] A new study created in memory with name: no-name-e4e6553a-0317-499d-9df1-d05052db94b8\n",
      "[I 2024-02-22 19:52:37,320] Trial 0 finished with value: 0.23125 and parameters: {'max_depth': 6, 'min_samples_split': 8, 'min_samples_leaf': 9, 'criterion': 'gini', 'random_state': 42}. Best is trial 0 with value: 0.23125.\n",
      "[I 2024-02-22 19:52:37,386] Trial 1 finished with value: 0.30625 and parameters: {'max_depth': 10, 'min_samples_split': 12, 'min_samples_leaf': 9, 'criterion': 'gini', 'random_state': 42}. Best is trial 1 with value: 0.30625.\n",
      "[I 2024-02-22 19:52:37,456] Trial 2 finished with value: 0.209375 and parameters: {'max_depth': 6, 'min_samples_split': 16, 'min_samples_leaf': 2, 'criterion': 'gini', 'random_state': 42}. Best is trial 1 with value: 0.30625.\n",
      "[I 2024-02-22 19:52:37,527] Trial 3 finished with value: 0.296875 and parameters: {'max_depth': 9, 'min_samples_split': 16, 'min_samples_leaf': 7, 'criterion': 'gini', 'random_state': 42}. Best is trial 1 with value: 0.30625.\n",
      "[I 2024-02-22 19:52:37,589] Trial 4 finished with value: 0.15 and parameters: {'max_depth': 5, 'min_samples_split': 19, 'min_samples_leaf': 5, 'criterion': 'gini', 'random_state': 42}. Best is trial 1 with value: 0.30625.\n",
      "[I 2024-02-22 19:52:37,771] Trial 5 finished with value: 0.24375 and parameters: {'max_depth': 9, 'min_samples_split': 20, 'min_samples_leaf': 2, 'criterion': 'entropy', 'random_state': 42}. Best is trial 1 with value: 0.30625.\n",
      "[I 2024-02-22 19:52:37,946] Trial 6 finished with value: 0.365625 and parameters: {'max_depth': 8, 'min_samples_split': 15, 'min_samples_leaf': 5, 'criterion': 'entropy', 'random_state': 42}. Best is trial 6 with value: 0.365625.\n",
      "[I 2024-02-22 19:52:38,010] Trial 7 finished with value: 0.225 and parameters: {'max_depth': 6, 'min_samples_split': 7, 'min_samples_leaf': 8, 'criterion': 'gini', 'random_state': 42}. Best is trial 6 with value: 0.365625.\n",
      "[I 2024-02-22 19:52:38,065] Trial 8 finished with value: 0.121875 and parameters: {'max_depth': 4, 'min_samples_split': 15, 'min_samples_leaf': 4, 'criterion': 'gini', 'random_state': 42}. Best is trial 6 with value: 0.365625.\n",
      "[I 2024-02-22 19:52:38,239] Trial 9 finished with value: 0.259375 and parameters: {'max_depth': 7, 'min_samples_split': 19, 'min_samples_leaf': 4, 'criterion': 'entropy', 'random_state': 42}. Best is trial 6 with value: 0.365625.\n",
      "[I 2024-02-22 19:52:38,407] Trial 10 finished with value: 0.075 and parameters: {'max_depth': 3, 'min_samples_split': 2, 'min_samples_leaf': 6, 'criterion': 'entropy', 'random_state': 42}. Best is trial 6 with value: 0.365625.\n",
      "[I 2024-02-22 19:52:38,584] Trial 11 finished with value: 0.25625 and parameters: {'max_depth': 10, 'min_samples_split': 12, 'min_samples_leaf': 10, 'criterion': 'entropy', 'random_state': 42}. Best is trial 6 with value: 0.365625.\n",
      "[I 2024-02-22 19:52:38,776] Trial 12 finished with value: 0.375 and parameters: {'max_depth': 8, 'min_samples_split': 12, 'min_samples_leaf': 7, 'criterion': 'entropy', 'random_state': 42}. Best is trial 12 with value: 0.375.\n",
      "[I 2024-02-22 19:52:38,972] Trial 13 finished with value: 0.41875 and parameters: {'max_depth': 8, 'min_samples_split': 9, 'min_samples_leaf': 6, 'criterion': 'entropy', 'random_state': 42}. Best is trial 13 with value: 0.41875.\n",
      "[I 2024-02-22 19:52:39,178] Trial 14 finished with value: 0.375 and parameters: {'max_depth': 8, 'min_samples_split': 8, 'min_samples_leaf': 7, 'criterion': 'entropy', 'random_state': 42}. Best is trial 13 with value: 0.41875.\n",
      "[I 2024-02-22 19:52:39,374] Trial 15 finished with value: 0.375 and parameters: {'max_depth': 8, 'min_samples_split': 5, 'min_samples_leaf': 7, 'criterion': 'entropy', 'random_state': 42}. Best is trial 13 with value: 0.41875.\n",
      "[I 2024-02-22 19:52:39,521] Trial 16 finished with value: 0.025 and parameters: {'max_depth': 2, 'min_samples_split': 10, 'min_samples_leaf': 4, 'criterion': 'entropy', 'random_state': 42}. Best is trial 13 with value: 0.41875.\n",
      "[I 2024-02-22 19:52:39,719] Trial 17 finished with value: 0.41875 and parameters: {'max_depth': 7, 'min_samples_split': 10, 'min_samples_leaf': 6, 'criterion': 'entropy', 'random_state': 42}. Best is trial 13 with value: 0.41875.\n",
      "[I 2024-02-22 19:52:39,937] Trial 18 finished with value: 0.503125 and parameters: {'max_depth': 7, 'min_samples_split': 5, 'min_samples_leaf': 3, 'criterion': 'entropy', 'random_state': 42}. Best is trial 18 with value: 0.503125.\n",
      "[I 2024-02-22 19:52:40,156] Trial 19 finished with value: 0.359375 and parameters: {'max_depth': 5, 'min_samples_split': 3, 'min_samples_leaf': 1, 'criterion': 'entropy', 'random_state': 42}. Best is trial 18 with value: 0.503125.\n",
      "[I 2024-02-22 19:52:40,374] Trial 20 finished with value: 0.503125 and parameters: {'max_depth': 7, 'min_samples_split': 4, 'min_samples_leaf': 3, 'criterion': 'entropy', 'random_state': 42}. Best is trial 18 with value: 0.503125.\n",
      "[I 2024-02-22 19:52:40,599] Trial 21 finished with value: 0.515625 and parameters: {'max_depth': 7, 'min_samples_split': 5, 'min_samples_leaf': 2, 'criterion': 'entropy', 'random_state': 42}. Best is trial 21 with value: 0.515625.\n",
      "[I 2024-02-22 19:52:40,820] Trial 22 finished with value: 0.503125 and parameters: {'max_depth': 7, 'min_samples_split': 5, 'min_samples_leaf': 3, 'criterion': 'entropy', 'random_state': 42}. Best is trial 21 with value: 0.515625.\n",
      "[I 2024-02-22 19:52:41,040] Trial 23 finished with value: 0.359375 and parameters: {'max_depth': 5, 'min_samples_split': 5, 'min_samples_leaf': 1, 'criterion': 'entropy', 'random_state': 42}. Best is trial 21 with value: 0.515625.\n",
      "[I 2024-02-22 19:52:41,257] Trial 24 finished with value: 0.503125 and parameters: {'max_depth': 7, 'min_samples_split': 3, 'min_samples_leaf': 3, 'criterion': 'entropy', 'random_state': 42}. Best is trial 21 with value: 0.515625.\n",
      "[I 2024-02-22 19:52:41,478] Trial 25 finished with value: 0.48125 and parameters: {'max_depth': 6, 'min_samples_split': 6, 'min_samples_leaf': 2, 'criterion': 'entropy', 'random_state': 42}. Best is trial 21 with value: 0.515625.\n",
      "[I 2024-02-22 19:52:41,697] Trial 26 finished with value: 0.496875 and parameters: {'max_depth': 9, 'min_samples_split': 4, 'min_samples_leaf': 3, 'criterion': 'entropy', 'random_state': 42}. Best is trial 21 with value: 0.515625.\n",
      "[I 2024-02-22 19:52:41,932] Trial 27 finished with value: 0.55 and parameters: {'max_depth': 7, 'min_samples_split': 2, 'min_samples_leaf': 1, 'criterion': 'entropy', 'random_state': 42}. Best is trial 27 with value: 0.55.\n",
      "[I 2024-02-22 19:52:42,149] Trial 28 finished with value: 0.359375 and parameters: {'max_depth': 5, 'min_samples_split': 2, 'min_samples_leaf': 1, 'criterion': 'entropy', 'random_state': 42}. Best is trial 27 with value: 0.55.\n",
      "[I 2024-02-22 19:52:42,353] Trial 29 finished with value: 0.20625 and parameters: {'max_depth': 4, 'min_samples_split': 8, 'min_samples_leaf': 2, 'criterion': 'entropy', 'random_state': 42}. Best is trial 27 with value: 0.55.\n",
      "[I 2024-02-22 19:52:42,586] Trial 30 finished with value: 0.484375 and parameters: {'max_depth': 6, 'min_samples_split': 6, 'min_samples_leaf': 1, 'criterion': 'entropy', 'random_state': 42}. Best is trial 27 with value: 0.55.\n",
      "[I 2024-02-22 19:52:42,809] Trial 31 finished with value: 0.503125 and parameters: {'max_depth': 7, 'min_samples_split': 4, 'min_samples_leaf': 3, 'criterion': 'entropy', 'random_state': 42}. Best is trial 27 with value: 0.55.\n",
      "[I 2024-02-22 19:52:43,036] Trial 32 finished with value: 0.509375 and parameters: {'max_depth': 7, 'min_samples_split': 3, 'min_samples_leaf': 2, 'criterion': 'entropy', 'random_state': 42}. Best is trial 27 with value: 0.55.\n",
      "[I 2024-02-22 19:52:43,261] Trial 33 finished with value: 0.475 and parameters: {'max_depth': 6, 'min_samples_split': 2, 'min_samples_leaf': 2, 'criterion': 'entropy', 'random_state': 42}. Best is trial 27 with value: 0.55.\n",
      "[I 2024-02-22 19:52:43,371] Trial 34 finished with value: 0.296875 and parameters: {'max_depth': 7, 'min_samples_split': 3, 'min_samples_leaf': 1, 'criterion': 'gini', 'random_state': 42}. Best is trial 27 with value: 0.55.\n",
      "[I 2024-02-22 19:52:43,483] Trial 35 finished with value: 0.39375 and parameters: {'max_depth': 9, 'min_samples_split': 7, 'min_samples_leaf': 2, 'criterion': 'gini', 'random_state': 42}. Best is trial 27 with value: 0.55.\n",
      "[I 2024-02-22 19:52:43,694] Trial 36 finished with value: 0.434375 and parameters: {'max_depth': 6, 'min_samples_split': 6, 'min_samples_leaf': 4, 'criterion': 'entropy', 'random_state': 42}. Best is trial 27 with value: 0.55.\n",
      "[I 2024-02-22 19:52:43,922] Trial 37 finished with value: 0.5125 and parameters: {'max_depth': 8, 'min_samples_split': 3, 'min_samples_leaf': 2, 'criterion': 'entropy', 'random_state': 42}. Best is trial 27 with value: 0.55.\n",
      "[I 2024-02-22 19:52:44,035] Trial 38 finished with value: 0.415625 and parameters: {'max_depth': 9, 'min_samples_split': 3, 'min_samples_leaf': 2, 'criterion': 'gini', 'random_state': 42}. Best is trial 27 with value: 0.55.\n",
      "[I 2024-02-22 19:52:44,265] Trial 39 finished with value: 0.5125 and parameters: {'max_depth': 8, 'min_samples_split': 2, 'min_samples_leaf': 1, 'criterion': 'entropy', 'random_state': 42}. Best is trial 27 with value: 0.55.\n",
      "[I 2024-02-22 19:52:44,383] Trial 40 finished with value: 0.428125 and parameters: {'max_depth': 10, 'min_samples_split': 2, 'min_samples_leaf': 1, 'criterion': 'gini', 'random_state': 42}. Best is trial 27 with value: 0.55.\n",
      "[I 2024-02-22 19:52:44,610] Trial 41 finished with value: 0.5125 and parameters: {'max_depth': 8, 'min_samples_split': 4, 'min_samples_leaf': 2, 'criterion': 'entropy', 'random_state': 42}. Best is trial 27 with value: 0.55.\n",
      "[I 2024-02-22 19:52:44,846] Trial 42 finished with value: 0.54375 and parameters: {'max_depth': 8, 'min_samples_split': 4, 'min_samples_leaf': 1, 'criterion': 'entropy', 'random_state': 42}. Best is trial 27 with value: 0.55.\n",
      "[I 2024-02-22 19:52:45,094] Trial 43 finished with value: 0.5125 and parameters: {'max_depth': 9, 'min_samples_split': 2, 'min_samples_leaf': 1, 'criterion': 'entropy', 'random_state': 42}. Best is trial 27 with value: 0.55.\n",
      "[I 2024-02-22 19:52:45,346] Trial 44 finished with value: 0.378125 and parameters: {'max_depth': 8, 'min_samples_split': 14, 'min_samples_leaf': 1, 'criterion': 'entropy', 'random_state': 42}. Best is trial 27 with value: 0.55.\n",
      "[I 2024-02-22 19:52:45,606] Trial 45 finished with value: 0.54375 and parameters: {'max_depth': 8, 'min_samples_split': 4, 'min_samples_leaf': 1, 'criterion': 'entropy', 'random_state': 42}. Best is trial 27 with value: 0.55.\n",
      "[I 2024-02-22 19:52:45,834] Trial 46 finished with value: 0.49375 and parameters: {'max_depth': 8, 'min_samples_split': 7, 'min_samples_leaf': 2, 'criterion': 'entropy', 'random_state': 42}. Best is trial 27 with value: 0.55.\n",
      "[I 2024-02-22 19:52:46,070] Trial 47 finished with value: 0.54375 and parameters: {'max_depth': 10, 'min_samples_split': 4, 'min_samples_leaf': 1, 'criterion': 'entropy', 'random_state': 42}. Best is trial 27 with value: 0.55.\n",
      "[I 2024-02-22 19:52:46,190] Trial 48 finished with value: 0.43125 and parameters: {'max_depth': 10, 'min_samples_split': 6, 'min_samples_leaf': 1, 'criterion': 'gini', 'random_state': 42}. Best is trial 27 with value: 0.55.\n",
      "[I 2024-02-22 19:52:46,381] Trial 49 finished with value: 0.28125 and parameters: {'max_depth': 10, 'min_samples_split': 4, 'min_samples_leaf': 9, 'criterion': 'entropy', 'random_state': 42}. Best is trial 27 with value: 0.55.\n",
      "[I 2024-02-22 19:52:46,575] Trial 50 finished with value: 0.3 and parameters: {'max_depth': 9, 'min_samples_split': 17, 'min_samples_leaf': 8, 'criterion': 'entropy', 'random_state': 42}. Best is trial 27 with value: 0.55.\n",
      "[I 2024-02-22 19:52:46,805] Trial 51 finished with value: 0.5125 and parameters: {'max_depth': 8, 'min_samples_split': 5, 'min_samples_leaf': 2, 'criterion': 'entropy', 'random_state': 42}. Best is trial 27 with value: 0.55.\n",
      "[I 2024-02-22 19:52:47,042] Trial 52 finished with value: 0.54375 and parameters: {'max_depth': 9, 'min_samples_split': 3, 'min_samples_leaf': 1, 'criterion': 'entropy', 'random_state': 42}. Best is trial 27 with value: 0.55.\n",
      "[I 2024-02-22 19:52:47,279] Trial 53 finished with value: 0.54375 and parameters: {'max_depth': 9, 'min_samples_split': 4, 'min_samples_leaf': 1, 'criterion': 'entropy', 'random_state': 42}. Best is trial 27 with value: 0.55.\n",
      "[I 2024-02-22 19:52:47,517] Trial 54 finished with value: 0.54375 and parameters: {'max_depth': 9, 'min_samples_split': 4, 'min_samples_leaf': 1, 'criterion': 'entropy', 'random_state': 42}. Best is trial 27 with value: 0.55.\n",
      "[I 2024-02-22 19:52:47,755] Trial 55 finished with value: 0.54375 and parameters: {'max_depth': 10, 'min_samples_split': 3, 'min_samples_leaf': 1, 'criterion': 'entropy', 'random_state': 42}. Best is trial 27 with value: 0.55.\n",
      "[I 2024-02-22 19:52:47,990] Trial 56 finished with value: 0.49375 and parameters: {'max_depth': 9, 'min_samples_split': 7, 'min_samples_leaf': 1, 'criterion': 'entropy', 'random_state': 42}. Best is trial 27 with value: 0.55.\n",
      "[I 2024-02-22 19:52:48,197] Trial 57 finished with value: 0.453125 and parameters: {'max_depth': 10, 'min_samples_split': 9, 'min_samples_leaf': 5, 'criterion': 'entropy', 'random_state': 42}. Best is trial 27 with value: 0.55.\n",
      "[I 2024-02-22 19:52:48,432] Trial 58 finished with value: 0.53125 and parameters: {'max_depth': 9, 'min_samples_split': 5, 'min_samples_leaf': 1, 'criterion': 'entropy', 'random_state': 42}. Best is trial 27 with value: 0.55.\n",
      "[I 2024-02-22 19:52:48,647] Trial 59 finished with value: 0.409375 and parameters: {'max_depth': 9, 'min_samples_split': 13, 'min_samples_leaf': 3, 'criterion': 'entropy', 'random_state': 42}. Best is trial 27 with value: 0.55.\n",
      "[I 2024-02-22 19:52:48,883] Trial 60 finished with value: 0.54375 and parameters: {'max_depth': 10, 'min_samples_split': 4, 'min_samples_leaf': 1, 'criterion': 'entropy', 'random_state': 42}. Best is trial 27 with value: 0.55.\n",
      "[I 2024-02-22 19:52:49,126] Trial 61 finished with value: 0.54375 and parameters: {'max_depth': 9, 'min_samples_split': 4, 'min_samples_leaf': 1, 'criterion': 'entropy', 'random_state': 42}. Best is trial 27 with value: 0.55.\n",
      "[I 2024-02-22 19:52:49,381] Trial 62 finished with value: 0.54375 and parameters: {'max_depth': 8, 'min_samples_split': 3, 'min_samples_leaf': 1, 'criterion': 'entropy', 'random_state': 42}. Best is trial 27 with value: 0.55.\n",
      "[I 2024-02-22 19:52:49,610] Trial 63 finished with value: 0.4875 and parameters: {'max_depth': 9, 'min_samples_split': 6, 'min_samples_leaf': 2, 'criterion': 'entropy', 'random_state': 42}. Best is trial 27 with value: 0.55.\n",
      "[I 2024-02-22 19:52:49,847] Trial 64 finished with value: 0.5125 and parameters: {'max_depth': 10, 'min_samples_split': 2, 'min_samples_leaf': 1, 'criterion': 'entropy', 'random_state': 42}. Best is trial 27 with value: 0.55.\n",
      "[I 2024-02-22 19:52:50,076] Trial 65 finished with value: 0.5125 and parameters: {'max_depth': 9, 'min_samples_split': 4, 'min_samples_leaf': 2, 'criterion': 'entropy', 'random_state': 42}. Best is trial 27 with value: 0.55.\n",
      "[I 2024-02-22 19:52:50,308] Trial 66 finished with value: 0.53125 and parameters: {'max_depth': 8, 'min_samples_split': 5, 'min_samples_leaf': 1, 'criterion': 'entropy', 'random_state': 42}. Best is trial 27 with value: 0.55.\n",
      "[I 2024-02-22 19:52:50,538] Trial 67 finished with value: 0.5125 and parameters: {'max_depth': 9, 'min_samples_split': 3, 'min_samples_leaf': 2, 'criterion': 'entropy', 'random_state': 42}. Best is trial 27 with value: 0.55.\n",
      "[I 2024-02-22 19:52:50,777] Trial 68 finished with value: 0.53125 and parameters: {'max_depth': 8, 'min_samples_split': 5, 'min_samples_leaf': 1, 'criterion': 'entropy', 'random_state': 42}. Best is trial 27 with value: 0.55.\n",
      "[I 2024-02-22 19:52:50,845] Trial 69 finished with value: 0.028125 and parameters: {'max_depth': 2, 'min_samples_split': 4, 'min_samples_leaf': 2, 'criterion': 'gini', 'random_state': 42}. Best is trial 27 with value: 0.55.\n",
      "[I 2024-02-22 19:52:51,064] Trial 70 finished with value: 0.496875 and parameters: {'max_depth': 10, 'min_samples_split': 6, 'min_samples_leaf': 3, 'criterion': 'entropy', 'random_state': 42}. Best is trial 27 with value: 0.55.\n",
      "[I 2024-02-22 19:52:51,299] Trial 71 finished with value: 0.54375 and parameters: {'max_depth': 10, 'min_samples_split': 3, 'min_samples_leaf': 1, 'criterion': 'entropy', 'random_state': 42}. Best is trial 27 with value: 0.55.\n",
      "[I 2024-02-22 19:52:51,534] Trial 72 finished with value: 0.5125 and parameters: {'max_depth': 10, 'min_samples_split': 2, 'min_samples_leaf': 1, 'criterion': 'entropy', 'random_state': 42}. Best is trial 27 with value: 0.55.\n",
      "[I 2024-02-22 19:52:51,769] Trial 73 finished with value: 0.54375 and parameters: {'max_depth': 10, 'min_samples_split': 3, 'min_samples_leaf': 1, 'criterion': 'entropy', 'random_state': 42}. Best is trial 27 with value: 0.55.\n",
      "[I 2024-02-22 19:52:52,003] Trial 74 finished with value: 0.54375 and parameters: {'max_depth': 9, 'min_samples_split': 4, 'min_samples_leaf': 1, 'criterion': 'entropy', 'random_state': 42}. Best is trial 27 with value: 0.55.\n",
      "[I 2024-02-22 19:52:52,229] Trial 75 finished with value: 0.5125 and parameters: {'max_depth': 9, 'min_samples_split': 2, 'min_samples_leaf': 2, 'criterion': 'entropy', 'random_state': 42}. Best is trial 27 with value: 0.55.\n",
      "[I 2024-02-22 19:52:52,462] Trial 76 finished with value: 0.534375 and parameters: {'max_depth': 7, 'min_samples_split': 5, 'min_samples_leaf': 1, 'criterion': 'entropy', 'random_state': 42}. Best is trial 27 with value: 0.55.\n",
      "[I 2024-02-22 19:52:52,645] Trial 77 finished with value: 0.25625 and parameters: {'max_depth': 10, 'min_samples_split': 3, 'min_samples_leaf': 10, 'criterion': 'entropy', 'random_state': 42}. Best is trial 27 with value: 0.55.\n",
      "[I 2024-02-22 19:52:52,865] Trial 78 finished with value: 0.44375 and parameters: {'max_depth': 9, 'min_samples_split': 11, 'min_samples_leaf': 2, 'criterion': 'entropy', 'random_state': 42}. Best is trial 27 with value: 0.55.\n",
      "[I 2024-02-22 19:52:53,101] Trial 79 finished with value: 0.54375 and parameters: {'max_depth': 8, 'min_samples_split': 3, 'min_samples_leaf': 1, 'criterion': 'entropy', 'random_state': 42}. Best is trial 27 with value: 0.55.\n",
      "[I 2024-02-22 19:52:53,214] Trial 80 finished with value: 0.36875 and parameters: {'max_depth': 8, 'min_samples_split': 4, 'min_samples_leaf': 1, 'criterion': 'gini', 'random_state': 42}. Best is trial 27 with value: 0.55.\n",
      "[I 2024-02-22 19:52:53,450] Trial 81 finished with value: 0.54375 and parameters: {'max_depth': 10, 'min_samples_split': 4, 'min_samples_leaf': 1, 'criterion': 'entropy', 'random_state': 42}. Best is trial 27 with value: 0.55.\n",
      "[I 2024-02-22 19:52:53,689] Trial 82 finished with value: 0.53125 and parameters: {'max_depth': 10, 'min_samples_split': 5, 'min_samples_leaf': 1, 'criterion': 'entropy', 'random_state': 42}. Best is trial 27 with value: 0.55.\n",
      "[I 2024-02-22 19:52:53,921] Trial 83 finished with value: 0.5125 and parameters: {'max_depth': 10, 'min_samples_split': 2, 'min_samples_leaf': 2, 'criterion': 'entropy', 'random_state': 42}. Best is trial 27 with value: 0.55.\n",
      "[I 2024-02-22 19:52:54,135] Trial 84 finished with value: 0.24375 and parameters: {'max_depth': 10, 'min_samples_split': 20, 'min_samples_leaf': 1, 'criterion': 'entropy', 'random_state': 42}. Best is trial 27 with value: 0.55.\n",
      "[I 2024-02-22 19:52:54,368] Trial 85 finished with value: 0.51875 and parameters: {'max_depth': 7, 'min_samples_split': 3, 'min_samples_leaf': 1, 'criterion': 'entropy', 'random_state': 42}. Best is trial 27 with value: 0.55.\n",
      "[I 2024-02-22 19:52:54,601] Trial 86 finished with value: 0.5125 and parameters: {'max_depth': 9, 'min_samples_split': 4, 'min_samples_leaf': 2, 'criterion': 'entropy', 'random_state': 42}. Best is trial 27 with value: 0.55.\n",
      "[I 2024-02-22 19:52:54,801] Trial 87 finished with value: 0.2875 and parameters: {'max_depth': 9, 'min_samples_split': 17, 'min_samples_leaf': 6, 'criterion': 'entropy', 'random_state': 42}. Best is trial 27 with value: 0.55.\n",
      "[I 2024-02-22 19:52:55,039] Trial 88 finished with value: 0.515625 and parameters: {'max_depth': 10, 'min_samples_split': 6, 'min_samples_leaf': 1, 'criterion': 'entropy', 'random_state': 42}. Best is trial 27 with value: 0.55.\n",
      "[I 2024-02-22 19:52:55,245] Trial 89 finished with value: 0.20625 and parameters: {'max_depth': 4, 'min_samples_split': 2, 'min_samples_leaf': 2, 'criterion': 'entropy', 'random_state': 42}. Best is trial 27 with value: 0.55.\n",
      "[I 2024-02-22 19:52:55,486] Trial 90 finished with value: 0.53125 and parameters: {'max_depth': 9, 'min_samples_split': 5, 'min_samples_leaf': 1, 'criterion': 'entropy', 'random_state': 42}. Best is trial 27 with value: 0.55.\n",
      "[I 2024-02-22 19:52:55,729] Trial 91 finished with value: 0.54375 and parameters: {'max_depth': 9, 'min_samples_split': 4, 'min_samples_leaf': 1, 'criterion': 'entropy', 'random_state': 42}. Best is trial 27 with value: 0.55.\n",
      "[I 2024-02-22 19:52:55,976] Trial 92 finished with value: 0.54375 and parameters: {'max_depth': 9, 'min_samples_split': 4, 'min_samples_leaf': 1, 'criterion': 'entropy', 'random_state': 42}. Best is trial 27 with value: 0.55.\n",
      "[I 2024-02-22 19:52:56,219] Trial 93 finished with value: 0.54375 and parameters: {'max_depth': 8, 'min_samples_split': 3, 'min_samples_leaf': 1, 'criterion': 'entropy', 'random_state': 42}. Best is trial 27 with value: 0.55.\n",
      "[I 2024-02-22 19:52:56,433] Trial 94 finished with value: 0.453125 and parameters: {'max_depth': 10, 'min_samples_split': 4, 'min_samples_leaf': 5, 'criterion': 'entropy', 'random_state': 42}. Best is trial 27 with value: 0.55.\n",
      "[I 2024-02-22 19:52:56,674] Trial 95 finished with value: 0.54375 and parameters: {'max_depth': 9, 'min_samples_split': 3, 'min_samples_leaf': 1, 'criterion': 'entropy', 'random_state': 42}. Best is trial 27 with value: 0.55.\n",
      "[I 2024-02-22 19:52:56,908] Trial 96 finished with value: 0.5125 and parameters: {'max_depth': 8, 'min_samples_split': 5, 'min_samples_leaf': 2, 'criterion': 'entropy', 'random_state': 42}. Best is trial 27 with value: 0.55.\n",
      "[I 2024-02-22 19:52:57,022] Trial 97 finished with value: 0.303125 and parameters: {'max_depth': 7, 'min_samples_split': 2, 'min_samples_leaf': 1, 'criterion': 'gini', 'random_state': 42}. Best is trial 27 with value: 0.55.\n",
      "[I 2024-02-22 19:52:57,256] Trial 98 finished with value: 0.5125 and parameters: {'max_depth': 10, 'min_samples_split': 4, 'min_samples_leaf': 2, 'criterion': 'entropy', 'random_state': 42}. Best is trial 27 with value: 0.55.\n",
      "[I 2024-02-22 19:52:57,453] Trial 99 finished with value: 0.34375 and parameters: {'max_depth': 9, 'min_samples_split': 7, 'min_samples_leaf': 8, 'criterion': 'entropy', 'random_state': 42}. Best is trial 27 with value: 0.55.\n"
     ]
    },
    {
     "name": "stdout",
     "output_type": "stream",
     "text": [
      "Best params found : {'max_depth': 7, 'min_samples_split': 2, 'min_samples_leaf': 1, 'criterion': 'entropy', 'random_state': 42}\n",
      "accuracy: 0.6875\n",
      "recall: 0.7314814814814815\n",
      "precision: 0.7282407407407407\n",
      "f1-score: 0.6792328042328042\n"
     ]
    }
   ],
   "source": [
    "study = optuna.create_study(direction='maximize')\n",
    "study.optimize(objective, n_trials=100)\n",
    "best_params = study.best_params\n",
    "print(\"Best params found :\", best_params)\n",
    "\n",
    "final_model = DecisionTreeClassifier(**best_params)\n",
    "final_model.fit(X_train_reduced, y_train)\n",
    "y_pred = final_model.predict(X_test_reduced)\n",
    "prediction_results['decison tree'] = list(y_pred)\n",
    "\n",
    "accuracy = accuracy_score(y_test, y_pred)\n",
    "precision = precision_score(y_test, y_pred, average='macro')\n",
    "recall = recall_score(y_test, y_pred, average='macro')\n",
    "f1 = f1_score(y_test, y_pred, average='macro')\n",
    "\n",
    "# One-hot encoding for probability calculation (adapt if necessary)\n",
    "# Assuming 'label_' prefix for clarity\n",
    "y_test_onehot = pd.get_dummies(y_test, prefix='label_')\n",
    "y_pred_onehot = pd.get_dummies(y_pred, prefix='label_')\n",
    "\n",
    "# # ROC AUC score with multiclass handling\n",
    "# roc_auc_macro = roc_auc_score(y_test_onehot, y_pred_onehot,\n",
    "#                               average='macro', multi_class='ovo')  # Specify 'ovo' or 'ovr'\n",
    "\n",
    "print(\"accuracy:\", accuracy)\n",
    "print(\"recall:\", recall)\n",
    "print(\"precision:\", precision)\n",
    "print(\"f1-score:\", f1)\n",
    "# print('roc_auc: ', roc_auc_macro)"
   ]
  }
 ],
 "metadata": {
  "colab": {
   "provenance": []
  },
  "kaggle": {
   "accelerator": "none",
   "dataSources": [
    {
     "datasetId": 4306985,
     "sourceId": 7405983,
     "sourceType": "datasetVersion"
    },
    {
     "datasetId": 4349100,
     "sourceId": 7470763,
     "sourceType": "datasetVersion"
    }
   ],
   "dockerImageVersionId": 30646,
   "isGpuEnabled": false,
   "isInternetEnabled": true,
   "language": "python",
   "sourceType": "notebook"
  },
  "kernelspec": {
   "display_name": "Python 3",
   "language": "python",
   "name": "python3"
  },
  "language_info": {
   "codemirror_mode": {
    "name": "ipython",
    "version": 3
   },
   "file_extension": ".py",
   "mimetype": "text/x-python",
   "name": "python",
   "nbconvert_exporter": "python",
   "pygments_lexer": "ipython3",
   "version": "3.10.13"
  },
  "papermill": {
   "default_parameters": {},
   "duration": 6901.865402,
   "end_time": "2024-02-22T19:53:00.386833",
   "environment_variables": {},
   "exception": null,
   "input_path": "__notebook__.ipynb",
   "output_path": "__notebook__.ipynb",
   "parameters": {},
   "start_time": "2024-02-22T17:57:58.521431",
   "version": "2.5.0"
  }
 },
 "nbformat": 4,
 "nbformat_minor": 5
}
